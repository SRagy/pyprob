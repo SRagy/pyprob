{
 "cells": [
  {
   "cell_type": "code",
   "execution_count": 17,
   "metadata": {},
   "outputs": [
    {
     "data": {
      "text/plain": [
       "<Figure size 432x288 with 0 Axes>"
      ]
     },
     "metadata": {},
     "output_type": "display_data"
    }
   ],
   "source": [
    "import pyprob\n",
    "from pyprob import Model\n",
    "from pyprob import InferenceEngine\n",
    "from pyprob.distributions import Normal\n",
    "from pyprob.distributions.delta import Delta\n",
    "from pyprob.dis import ModelDIS\n",
    "\n",
    "import torch\n",
    "import numpy as np\n",
    "import math\n",
    "import matplotlib.pyplot as plt\n",
    "%matplotlib inline\n",
    "fig = plt.figure();"
   ]
  },
  {
   "cell_type": "markdown",
   "metadata": {},
   "source": [
    "# Defining the Model"
   ]
  },
  {
   "cell_type": "code",
   "execution_count": 18,
   "metadata": {},
   "outputs": [],
   "source": [
    "def euclidean(a,b):\n",
    "    a = np.asarray(a)\n",
    "    b = np.asarray(b)\n",
    "    return np.linalg.norm(a-b)\n",
    "\n",
    "class GaussianUnknownMean(Model):\n",
    "    def __init__(self, **kwargs):\n",
    "        super().__init__(name='Gaussian with unknown mean', **kwargs) # give the model a name\n",
    "        self.prior_mean = 1\n",
    "        self.prior_std = math.sqrt(5)\n",
    "        self.likelihood_std = math.sqrt(2)\n",
    "\n",
    "    def forward(self): # Needed to specifcy how the generative model is run forward\n",
    "        # sample the (latent) mean variable to be inferred:\n",
    "        mu = pyprob.sample(Normal(self.prior_mean, self.prior_std)) # NOTE: sample -> denotes latent variables\n",
    "\n",
    "        # define the likelihood\n",
    "        #likelihood = Normal(mu, self.likelihood_std)\n",
    "\n",
    "        # Lets add two observed variables\n",
    "        # -> the 'name' argument is used later to assignment values:\n",
    "        #pyprob.observe(likelihood, name='obs0') # NOTE: observe -> denotes observable variables\n",
    "\n",
    "        # return the latent quantity of interest\n",
    "        return mu\n",
    "    \n",
    "class GaussianDIS(GaussianUnknownMean, ModelDIS):\n",
    "    def __init__(self,  dist_fun = None, **kwargs):\n",
    "        super().__init__(dist_fun = dist_fun)\n",
    "        self.obs = 8\n",
    "        #self.bool_func = bool_func\n",
    "    def dummy_bernoulli(self, x):\n",
    "        return True\n",
    "    def forward(self):\n",
    "        x = super().forward()\n",
    "        likelihood = Normal(x, self.likelihood_std) \n",
    "        pyprob.observe(likelihood, name = 'sample_obs')\n",
    "        delta_val = self.dummy_bernoulli(x)\n",
    "        bool_func_dist = pyprob.distributions.Bernoulli(delta_val)\n",
    "        pyprob.observe(bool_func_dist, name = \"dummy\")\n",
    "        return x\n",
    "\n",
    "\n",
    "model = GaussianUnknownMean()\n",
    "simulator = GaussianDIS(dist_fun = euclidean)"
   ]
  },
  {
   "cell_type": "markdown",
   "metadata": {},
   "source": [
    "# Finding the correct posterior analytically\n",
    "Since all distributions are gaussians in this model, we can analytically compute the posterior and we can compare the true posterior to the inferenced one.\n",
    "\n",
    "Assuming that the prior and likelihood are $p(x) = \\mathcal{N}(\\mu_0, \\sigma_0)$ and $p(y|x) = \\mathcal{N}(x, \\sigma)$ respectively and, $y_1, y_2, \\ldots y_n$ are the observed values, the posterior would be $p(x|y) = \\mathcal{N}(\\mu_p, \\sigma_p)$ where,\n",
    "$$\n",
    "\\begin{align}\n",
    "\\sigma_{p}^{2} & = \\frac{1}{\\frac{n}{\\sigma^2} + \\frac{1}{\\sigma_{0}^{2}}} \\\\\n",
    "\\mu_p & = \\sigma_{p}^{2} \\left( \\frac{\\mu_0}{\\sigma_{0}^{2}} + \\frac{n\\overline{y}}{\\sigma^2} \\right)\n",
    "\\end{align}\n",
    "$$\n",
    "The following class implements computing this posterior distribution. We also implement some helper functions and variables for plotting the correct posterior and prior."
   ]
  },
  {
   "cell_type": "code",
   "execution_count": 19,
   "metadata": {},
   "outputs": [],
   "source": [
    "def plot_function(min_val, max_val, func, *args, **kwargs):\n",
    "        x = np.linspace(min_val,max_val,int((max_val-min_val)*50))\n",
    "        plt.plot(x, np.vectorize(func)(x), *args, **kwargs)\n",
    "\n",
    "def get_dist_pdf(dist):\n",
    "    return lambda x: math.exp(dist.log_prob(x))\n",
    "        \n",
    "class CorrectDistributions:\n",
    "    def __init__(self, model):\n",
    "        self.prior_mean = model.prior_mean\n",
    "        self.prior_std = model.prior_std\n",
    "        self.likelihood_std = model.likelihood_std\n",
    "        self.prior_dist = Normal(self.prior_mean, self.prior_std)\n",
    "        \n",
    "    @property\n",
    "    def observed_list(self):\n",
    "        return self.__observed_list\n",
    "\n",
    "    @observed_list.setter\n",
    "    def observed_list(self, new_observed_list):\n",
    "        self.__observed_list = new_observed_list\n",
    "        self.construct_correct_posterior()\n",
    "    \n",
    "    def construct_correct_posterior(self):\n",
    "        n = len(self.observed_list)\n",
    "        posterior_var = 1/(n/self.likelihood_std**2 + 1/self.prior_std**2)\n",
    "        posterior_mu = posterior_var * (self.prior_mean/self.prior_std**2 + n*np.mean(self.observed_list)/self.likelihood_std**2)\n",
    "        self.posterior_dist = Normal(posterior_mu, math.sqrt(posterior_var))\n",
    "\n",
    "    def prior_pdf(self, model, x):\n",
    "        p = Normal(model.prior_mean,model.prior_stdd)\n",
    "        return math.exp(p.log_prob(x))\n",
    "\n",
    "    def plot_posterior(self, min_val, max_val):\n",
    "        if not hasattr(self, 'posterior_dist'):\n",
    "            raise AttributeError('observed values are not set yet, and posterior is not defined.')\n",
    "        plot_function(min_val, max_val, get_dist_pdf(self.posterior_dist), label='correct posterior', color='orange')\n",
    "\n",
    "\n",
    "    def plot_prior(self, min_val, max_val):\n",
    "        plot_function(min_val, max_val, get_dist_pdf(self.prior_dist), label='prior', color='green')\n"
   ]
  },
  {
   "cell_type": "code",
   "execution_count": 20,
   "metadata": {},
   "outputs": [],
   "source": [
    "correct_dists = CorrectDistributions(model)\n",
    "correct_dists.observed_list=[8]"
   ]
  },
  {
   "cell_type": "markdown",
   "metadata": {},
   "source": [
    "# Training\n",
    "\n",
    "For a sanity check, start with one training round."
   ]
  },
  {
   "cell_type": "code",
   "execution_count": 21,
   "metadata": {},
   "outputs": [
    {
     "name": "stdout",
     "output_type": "stream",
     "text": [
      "Creating new inference network...\n",
      "Observable dummy: reshape not specified, using shape torch.Size([]).\n",
      "Observable dummy: using embedding dim torch.Size([1]).\n",
      "Observable dummy: observe embedding not specified, using the default FEEDFORWARD.\n",
      "Observable dummy: using embedding depth 1.\n",
      "Observe embedding dimension: 1\n",
      "Train. time | Epoch| Trace     | Init. loss| Min. loss | Curr. loss| T.since min | Learn.rate| Traces/sec\n",
      "New layers, address: 16__forward__mu__Normal__1, distribution: Normal\n",
      "Total addresses: 1, parameters: 157\n",
      "0d:00:00:00 | 1    | 400       | +2.39e+00 | +2.26e+00 | \u001b[32m+2.31e+00\u001b[0m | 0d:00:00:00 | +1.00e-03 | 799.3                               \n",
      "Stop condition reached. num_traces: 500\n",
      "0d:00:00:00 | 1    | 500       | +2.39e+00 | +2.26e+00 | \u001b[32m+2.27e+00\u001b[0m | 0d:00:00:00 | +1.00e-03 | 786.2                               \n",
      "Time spent  | Time remain.| Progress             | Trace     | ESS    | Traces/sec\n"
     ]
    },
    {
     "name": "stderr",
     "output_type": "stream",
     "text": [
      "/home/sragy/DISPyprob/pyprob/pyprob/nn/inference_network_feedforward.py:67: UserWarning: Using prior. No proposal for address: 20__forward__observe__return__Normal__1\n",
      "  warnings.warn('Using prior. No proposal for address: {}'.format(address))\n"
     ]
    },
    {
     "name": "stdout",
     "output_type": "stream",
     "text": [
      "0d:00:00:39 | 0d:00:00:00 | #################### | 5000/5000 | 4479.37 | 125.82       \n",
      "OfflineDataset at: .\n",
      "Num. traces      : 500\n",
      "Sorted on disk   : False\n",
      "No pre-computed hashes found, generating: ./pyprob_hashes\n",
      "Hashing offline dataset for sorting\n",
      "Time spent  | Time remain.| Progress             | Traces  | Traces/sec\n",
      "0d:00:00:01 | 0d:00:00:00 | #################### | 500/500 | 489.81       \n",
      "Sorting offline dataset\n",
      "Sorting done\n",
      "Num. trace types : 1\n",
      "Trace hash\tCount\n",
      "2.10964584\t500\n",
      "\n",
      "Continuing to train existing inference network...\n",
      "Total number of parameters: 157\n",
      "Train. time | Epoch| Trace     | Init. loss| Min. loss | Curr. loss| T.since min | Learn.rate| Traces/sec\n",
      "New layers, address: 20__forward__observe__return__Normal__1, distribution: Normal\n",
      "Total addresses: 2, parameters: 308\n",
      "0d:00:00:02 | 1    | 900       | +2.39e+00 | +2.26e+00 | \u001b[32m+4.45e+00\u001b[0m | 0d:00:00:01 | +1.00e-03 | 295.9     \n",
      "Stop condition reached. num_traces: 500\n",
      "0d:00:00:02 | 1    | 1,000     | +2.39e+00 | +2.26e+00 | \u001b[1m\u001b[31m+4.69e+00\u001b[0m | 0d:00:00:01 | +1.00e-03 | 278.1 \n",
      "Training iterations 1  epsilon 1.92  ESS 500.0\n",
      "Time spent  | Time remain.| Progress             | Trace     | ESS    | Traces/sec\n",
      "0d:00:00:57 | 0d:00:00:00 | #################### | 5000/5000 | 4236.21 | 87.70       \n",
      "OfflineDataset at: .\n",
      "Num. traces      : 500\n",
      "Sorted on disk   : False\n",
      "No pre-computed hashes found, generating: ./pyprob_hashes\n",
      "Hashing offline dataset for sorting\n",
      "Time spent  | Time remain.| Progress             | Traces  | Traces/sec\n",
      "0d:00:00:00 | 0d:00:00:00 | #################### | 500/500 | 552.64       \n",
      "Sorting offline dataset\n",
      "Sorting done\n",
      "Num. trace types : 1\n",
      "Trace hash\tCount\n",
      "2.10964584\t500\n",
      "\n",
      "Continuing to train existing inference network...\n",
      "Total number of parameters: 308\n",
      "Train. time | Epoch| Trace     | Init. loss| Min. loss | Curr. loss| T.since min | Learn.rate| Traces/sec\n",
      "0d:00:00:03 | 1    | 1,300     | +2.39e+00 | +2.26e+00 | \u001b[32m+4.44e+00\u001b[0m | 0d:00:00:00 | +1.00e-03 | 410.5 \n",
      "Stop condition reached. num_traces: 500\n",
      "0d:00:00:03 | 1    | 1,500     | +2.39e+00 | +2.26e+00 | \u001b[32m+4.29e+00\u001b[0m | 0d:00:00:01 | +1.00e-03 | 554.0 \n",
      "Training iterations 2  epsilon 1.79  ESS 500.0\n",
      "Time spent  | Time remain.| Progress             | Trace     | ESS    | Traces/sec\n",
      "0d:00:00:50 | 0d:00:00:00 | #################### | 5000/5000 | 4211.35 | 99.70        \n",
      "OfflineDataset at: .\n",
      "Num. traces      : 500\n",
      "Sorted on disk   : False\n",
      "No pre-computed hashes found, generating: ./pyprob_hashes\n",
      "Hashing offline dataset for sorting\n",
      "Time spent  | Time remain.| Progress             | Traces  | Traces/sec\n",
      "0d:00:00:00 | 0d:00:00:00 | #################### | 500/500 | 528.79       \n",
      "Sorting offline dataset\n",
      "Sorting done\n",
      "Num. trace types : 1\n",
      "Trace hash\tCount\n",
      "2.10964584\t500\n",
      "\n",
      "Continuing to train existing inference network...\n",
      "Total number of parameters: 308\n",
      "Train. time | Epoch| Trace     | Init. loss| Min. loss | Curr. loss| T.since min | Learn.rate| Traces/sec\n",
      "0d:00:00:04 | 1    | 1,800     | +2.39e+00 | +2.26e+00 | \u001b[32m+4.26e+00\u001b[0m | 0d:00:00:00 | +1.00e-03 | 587.9 \n",
      "Stop condition reached. num_traces: 500\n",
      "0d:00:00:04 | 1    | 2,000     | +2.39e+00 | +2.26e+00 | \u001b[31m+4.57e+00\u001b[0m | 0d:00:00:00 | +1.00e-03 | 552.2 \n",
      "Training iterations 3  epsilon 1.72  ESS 500.0\n",
      "Time spent  | Time remain.| Progress             | Trace     | ESS    | Traces/sec\n",
      "0d:00:00:56 | 0d:00:00:00 | #################### | 5000/5000 | 4140.62 | 89.16        \n",
      "OfflineDataset at: .\n",
      "Num. traces      : 500\n",
      "Sorted on disk   : False\n",
      "No pre-computed hashes found, generating: ./pyprob_hashes\n",
      "Hashing offline dataset for sorting\n",
      "Time spent  | Time remain.| Progress             | Traces  | Traces/sec\n",
      "0d:00:00:01 | 0d:00:00:00 | #################### | 500/500 | 366.76       \n",
      "Sorting offline dataset\n",
      "Sorting done\n",
      "Num. trace types : 1\n",
      "Trace hash\tCount\n",
      "2.10964584\t500\n",
      "\n",
      "Continuing to train existing inference network...\n",
      "Total number of parameters: 308\n",
      "Train. time | Epoch| Trace     | Init. loss| Min. loss | Curr. loss| T.since min | Learn.rate| Traces/sec\n",
      "0d:00:00:05 | 1    | 2,400     | +2.39e+00 | +2.26e+00 | \u001b[32m+4.20e+00\u001b[0m | 0d:00:00:01 | +1.00e-03 | 467.9 \n",
      "Stop condition reached. num_traces: 500\n",
      "0d:00:00:05 | 1    | 2,500     | +2.39e+00 | +2.26e+00 | \u001b[31m+4.39e+00\u001b[0m | 0d:00:00:01 | +1.00e-03 | 503.5 \n",
      "Training iterations 4  epsilon 1.59  ESS 500.0\n",
      "Time spent  | Time remain.| Progress             | Trace     | ESS    | Traces/sec\n",
      "0d:00:00:55 | 0d:00:00:00 | #################### | 5000/5000 | 4034.25 | 90.09        \n",
      "OfflineDataset at: .\n",
      "Num. traces      : 500\n",
      "Sorted on disk   : False\n",
      "No pre-computed hashes found, generating: ./pyprob_hashes\n",
      "Hashing offline dataset for sorting\n",
      "Time spent  | Time remain.| Progress             | Traces  | Traces/sec\n",
      "0d:00:00:01 | 0d:00:00:00 | #################### | 500/500 | 254.54       \n",
      "Sorting offline dataset\n",
      "Sorting done\n",
      "Num. trace types : 1\n",
      "Trace hash\tCount\n",
      "2.10964584\t500\n",
      "\n",
      "Continuing to train existing inference network...\n",
      "Total number of parameters: 308\n",
      "Train. time | Epoch| Trace     | Init. loss| Min. loss | Curr. loss| T.since min | Learn.rate| Traces/sec\n",
      "0d:00:00:07 | 1    | 2,900     | +2.39e+00 | +2.26e+00 | \u001b[31m+4.23e+00\u001b[0m | 0d:00:00:01 | +1.00e-03 | 312.8 \n",
      "Stop condition reached. num_traces: 500\n",
      "0d:00:00:07 | 1    | 3,000     | +2.39e+00 | +2.26e+00 | \u001b[31m+4.46e+00\u001b[0m | 0d:00:00:01 | +1.00e-03 | 274.1 \n",
      "Training iterations 5  epsilon 1.55  ESS 500.0\n",
      "Time spent  | Time remain.| Progress             | Trace     | ESS    | Traces/sec\n",
      "0d:00:00:49 | 0d:00:00:00 | #################### | 5000/5000 | 3968.74 | 100.80       \n",
      "OfflineDataset at: .\n",
      "Num. traces      : 500\n",
      "Sorted on disk   : False\n",
      "No pre-computed hashes found, generating: ./pyprob_hashes\n",
      "Hashing offline dataset for sorting\n",
      "Time spent  | Time remain.| Progress             | Traces  | Traces/sec\n",
      "0d:00:00:01 | 0d:00:00:00 | #################### | 500/500 | 412.91       \n",
      "Sorting offline dataset\n",
      "Sorting done\n",
      "Num. trace types : 1\n",
      "Trace hash\tCount\n",
      "2.10964584\t500\n",
      "\n",
      "Continuing to train existing inference network...\n",
      "Total number of parameters: 308\n",
      "Train. time | Epoch| Trace     | Init. loss| Min. loss | Curr. loss| T.since min | Learn.rate| Traces/sec\n",
      "0d:00:00:08 | 1    | 3,300     | +2.39e+00 | +2.26e+00 | \u001b[31m+4.31e+00\u001b[0m | 0d:00:00:00 | +1.00e-03 | 278.3 \n",
      "Stop condition reached. num_traces: 500\n",
      "0d:00:00:09 | 1    | 3,500     | +2.39e+00 | +2.26e+00 | \u001b[31m+4.42e+00\u001b[0m | 0d:00:00:01 | +1.00e-03 | 516.7 \n",
      "Training iterations 6  epsilon 1.52  ESS 500.0\n",
      "Time spent  | Time remain.| Progress             | Trace     | ESS    | Traces/sec\n",
      "0d:00:00:47 | 0d:00:00:00 | #################### | 5000/5000 | 3858.55 | 104.96       \n",
      "OfflineDataset at: .\n",
      "Num. traces      : 500\n",
      "Sorted on disk   : False\n",
      "No pre-computed hashes found, generating: ./pyprob_hashes\n",
      "Hashing offline dataset for sorting\n",
      "Time spent  | Time remain.| Progress             | Traces  | Traces/sec\n",
      "0d:00:00:00 | 0d:00:00:00 | #################### | 500/500 | 565.32       \n",
      "Sorting offline dataset\n",
      "Sorting done\n",
      "Num. trace types : 1\n",
      "Trace hash\tCount\n",
      "2.10964584\t500\n",
      "\n",
      "Continuing to train existing inference network...\n",
      "Total number of parameters: 308\n",
      "Train. time | Epoch| Trace     | Init. loss| Min. loss | Curr. loss| T.since min | Learn.rate| Traces/sec\n",
      "0d:00:00:09 | 1    | 3,800     | +2.39e+00 | +2.26e+00 | \u001b[32m+4.26e+00\u001b[0m | 0d:00:00:00 | +1.00e-03 | 508.7 \n",
      "Stop condition reached. num_traces: 500\n",
      "0d:00:00:09 | 1    | 4,000     | +2.39e+00 | +2.26e+00 | \u001b[31m+4.19e+00\u001b[0m | 0d:00:00:00 | +1.00e-03 | 532.0 \n",
      "Training iterations 7  epsilon 1.48  ESS 500.0\n",
      "Time spent  | Time remain.| Progress             | Trace     | ESS    | Traces/sec\n",
      "0d:00:00:55 | 0d:00:00:00 | #################### | 5000/5000 | 3756.77 | 90.70        \n",
      "OfflineDataset at: .\n",
      "Num. traces      : 500\n",
      "Sorted on disk   : False\n",
      "No pre-computed hashes found, generating: ./pyprob_hashes\n",
      "Hashing offline dataset for sorting\n",
      "Time spent  | Time remain.| Progress             | Traces  | Traces/sec\n",
      "0d:00:00:01 | 0d:00:00:00 | #################### | 500/500 | 333.44       \n",
      "Sorting offline dataset\n",
      "Sorting done\n",
      "Num. trace types : 1\n",
      "Trace hash\tCount\n",
      "2.10964584\t500\n",
      "\n",
      "Continuing to train existing inference network...\n",
      "Total number of parameters: 308\n",
      "Train. time | Epoch| Trace     | Init. loss| Min. loss | Curr. loss| T.since min | Learn.rate| Traces/sec\n",
      "0d:00:00:11 | 1    | 4,400     | +2.39e+00 | +2.26e+00 | \u001b[32m+4.21e+00\u001b[0m | 0d:00:00:01 | +1.00e-03 | 351.1 \n",
      "Stop condition reached. num_traces: 500\n",
      "0d:00:00:11 | 1    | 4,500     | +2.39e+00 | +2.26e+00 | \u001b[32m+4.02e+00\u001b[0m | 0d:00:00:01 | +1.00e-03 | 339.2 \n",
      "Training iterations 8  epsilon 1.41  ESS 500.0\n",
      "Time spent  | Time remain.| Progress             | Trace     | ESS    | Traces/sec\n",
      "0d:00:01:04 | 0d:00:00:00 | #################### | 5000/5000 | 3560.99 | 77.98       \n",
      "OfflineDataset at: .\n",
      "Num. traces      : 500\n",
      "Sorted on disk   : False\n",
      "No pre-computed hashes found, generating: ./pyprob_hashes\n",
      "Hashing offline dataset for sorting\n",
      "Time spent  | Time remain.| Progress             | Traces  | Traces/sec\n",
      "0d:00:00:01 | 0d:00:00:00 | #################### | 500/500 | 394.33       \n",
      "Sorting offline dataset\n",
      "Sorting done\n",
      "Num. trace types : 1\n",
      "Trace hash\tCount\n",
      "2.10964584\t500\n",
      "\n",
      "Continuing to train existing inference network...\n",
      "Total number of parameters: 308\n",
      "Train. time | Epoch| Trace     | Init. loss| Min. loss | Curr. loss| T.since min | Learn.rate| Traces/sec\n",
      "0d:00:00:12 | 1    | 4,900     | +2.39e+00 | +2.26e+00 | \u001b[31m+4.30e+00\u001b[0m | 0d:00:00:01 | +1.00e-03 | 288.2 \n",
      "Stop condition reached. num_traces: 500\n",
      "0d:00:00:13 | 1    | 5,000     | +2.39e+00 | +2.26e+00 | \u001b[32m+3.98e+00\u001b[0m | 0d:00:00:01 | +1.00e-03 | 193.4 \n",
      "Training iterations 9  epsilon 1.34  ESS 500.0\n",
      "Time spent  | Time remain.| Progress             | Trace     | ESS    | Traces/sec\n",
      "0d:00:00:57 | 0d:00:00:00 | #################### | 5000/5000 | 3437.84 | 86.80       \n",
      "OfflineDataset at: .\n",
      "Num. traces      : 500\n",
      "Sorted on disk   : False\n",
      "No pre-computed hashes found, generating: ./pyprob_hashes\n",
      "Hashing offline dataset for sorting\n",
      "Time spent  | Time remain.| Progress             | Traces  | Traces/sec\n",
      "0d:00:00:01 | 0d:00:00:00 | #################### | 500/500 | 333.76       \n",
      "Sorting offline dataset\n",
      "Sorting done\n",
      "Num. trace types : 1\n",
      "Trace hash\tCount\n",
      "2.10964584\t500\n",
      "\n",
      "Continuing to train existing inference network...\n",
      "Total number of parameters: 308\n",
      "Train. time | Epoch| Trace     | Init. loss| Min. loss | Curr. loss| T.since min | Learn.rate| Traces/sec\n",
      "0d:00:00:14 | 1    | 5,300     | +2.39e+00 | +2.26e+00 | \u001b[31m+4.10e+00\u001b[0m | 0d:00:00:00 | +1.00e-03 | 389.5 \n",
      "Stop condition reached. num_traces: 500\n",
      "0d:00:00:14 | 1    | 5,500     | +2.39e+00 | +2.26e+00 | \u001b[32m+3.94e+00\u001b[0m | 0d:00:00:01 | +1.00e-03 | 515.0 \n",
      "Training iterations 10  epsilon 1.34  ESS 484.2\n"
     ]
    }
   ],
   "source": [
    "simulator.train(iterations = 10,\n",
    "    importance_sample_size=5000, \n",
    "    proposal_mixture_components=5,\n",
    "    observe_embeddings={'dummy': {'dim': 1, 'depth': 1}} # Dummy value as we currently have to observe something\n",
    ")"
   ]
  },
  {
   "cell_type": "code",
   "execution_count": 11,
   "metadata": {},
   "outputs": [
    {
     "name": "stdout",
     "output_type": "stream",
     "text": [
      "Time spent  | Time remain.| Progress             | Trace     | ESS    | Traces/sec\n",
      "0d:00:00:02 | 0d:00:00:00 | #################### | 2000/2000 | 2000.00 | 737.34       \n",
      "Time spent  | Time remain.| Progress             | Trace     | ESS    | Traces/sec\n",
      "0d:00:00:20 | 0d:00:00:00 | #################### | 2000/2000 | 1806.47 | 95.66       \n"
     ]
    }
   ],
   "source": [
    "prior = simulator.prior_results(num_traces = 2000)\n",
    "posterior_check = simulator.posterior(num_traces = 2000,\n",
    "inference_engine = InferenceEngine.DISTILLING_IMPORTANCE_SAMPLING,\n",
    "observe={\"dummy\": 1})\n",
    "posterior_check = simulator.update_DIS_posterior_weights(posterior_check)\n",
    "results_check = np.array([x.result for x in posterior_check.values])"
   ]
  },
  {
   "cell_type": "markdown",
   "metadata": {},
   "source": [
    "Now do 50 more iterations."
   ]
  },
  {
   "cell_type": "code",
   "execution_count": 7,
   "metadata": {},
   "outputs": [
    {
     "name": "stdout",
     "output_type": "stream",
     "text": [
      "Time spent  | Time remain.| Progress             | Trace     | ESS    | Traces/sec\n",
      "0d:00:00:33 | 0d:00:00:00 | #################### | 5000/5000 | 4439.66 | 147.20       \n",
      "OfflineDataset at: .\n",
      "Num. traces      : 500\n",
      "Sorted on disk   : False\n",
      "No pre-computed hashes found, generating: ./pyprob_hashes\n",
      "Hashing offline dataset for sorting\n",
      "Time spent  | Time remain.| Progress             | Traces  | Traces/sec\n",
      "0d:00:00:00 | 0d:00:00:00 | #################### | 500/500 | 661.54       \n",
      "Sorting offline dataset\n",
      "Sorting done\n",
      "Num. trace types : 1\n",
      "Trace hash\tCount\n",
      "2.23091674\t500\n",
      "\n",
      "Continuing to train existing inference network...\n",
      "Total number of parameters: 308\n",
      "Train. time | Epoch| Trace     | Init. loss| Min. loss | Curr. loss| T.since min | Learn.rate| Traces/sec\n",
      "0d:00:00:02 | 1    | 1,300     | +4.06e+00 | +3.96e+00 | \u001b[31m+5.37e+00\u001b[0m | 0d:00:00:00 | +1.00e-03 | 300.9 \n",
      "Stop condition reached. num_traces: 500\n",
      "0d:00:00:02 | 1    | 1,500     | +4.06e+00 | +3.96e+00 | \u001b[31m+5.18e+00\u001b[0m | 0d:00:00:00 | +1.00e-03 | 676.6 \n",
      "Training iterations 1  epsilon 1.65  ESS 500.0\n",
      "Time spent  | Time remain.| Progress             | Trace     | ESS    | Traces/sec\n",
      "0d:00:00:32 | 0d:00:00:00 | #################### | 5000/5000 | 4415.12 | 155.12       \n",
      "OfflineDataset at: .\n",
      "Num. traces      : 500\n",
      "Sorted on disk   : False\n",
      "No pre-computed hashes found, generating: ./pyprob_hashes\n",
      "Hashing offline dataset for sorting\n",
      "Time spent  | Time remain.| Progress             | Traces  | Traces/sec\n",
      "0d:00:00:01 | 0d:00:00:00 | #################### | 500/500 | 485.79       \n",
      "Sorting offline dataset\n",
      "Sorting done\n",
      "Num. trace types : 1\n",
      "Trace hash\tCount\n",
      "2.23091674\t500\n",
      "\n",
      "Continuing to train existing inference network...\n",
      "Total number of parameters: 308\n",
      "Train. time | Epoch| Trace     | Init. loss| Min. loss | Curr. loss| T.since min | Learn.rate| Traces/sec\n",
      "0d:00:00:03 | 1    | 1,800     | +4.06e+00 | +3.96e+00 | \u001b[32m+5.10e+00\u001b[0m | 0d:00:00:00 | +1.00e-03 | 443.3 \n",
      "Stop condition reached. num_traces: 500\n",
      "0d:00:00:03 | 1    | 2,000     | +4.06e+00 | +3.96e+00 | \u001b[32m+5.10e+00\u001b[0m | 0d:00:00:01 | +1.00e-03 | 294.3 \n",
      "Training iterations 2  epsilon 1.56  ESS 500.0\n",
      "Time spent  | Time remain.| Progress             | Trace     | ESS    | Traces/sec\n",
      "0d:00:00:33 | 0d:00:00:00 | #################### | 5000/5000 | 4390.46 | 151.08       \n",
      "OfflineDataset at: .\n",
      "Num. traces      : 500\n",
      "Sorted on disk   : False\n",
      "No pre-computed hashes found, generating: ./pyprob_hashes\n",
      "Hashing offline dataset for sorting\n",
      "Time spent  | Time remain.| Progress             | Traces  | Traces/sec\n",
      "0d:00:00:00 | 0d:00:00:00 | #################### | 500/500 | 617.59       \n",
      "Sorting offline dataset\n",
      "Sorting done\n",
      "Num. trace types : 1\n",
      "Trace hash\tCount\n",
      "2.23091674\t500\n",
      "\n",
      "Continuing to train existing inference network...\n",
      "Total number of parameters: 308\n",
      "Train. time | Epoch| Trace     | Init. loss| Min. loss | Curr. loss| T.since min | Learn.rate| Traces/sec\n",
      "0d:00:00:04 | 1    | 2,300     | +4.06e+00 | +3.96e+00 | \u001b[32m+5.05e+00\u001b[0m | 0d:00:00:00 | +1.00e-03 | 675.5 \n",
      "Stop condition reached. num_traces: 500\n",
      "0d:00:00:04 | 1    | 2,500     | +4.06e+00 | +3.96e+00 | \u001b[32m+5.06e+00\u001b[0m | 0d:00:00:00 | +1.00e-03 | 651.3 \n",
      "Training iterations 3  epsilon 1.50  ESS 500.0\n",
      "Time spent  | Time remain.| Progress             | Trace     | ESS    | Traces/sec\n",
      "0d:00:00:31 | 0d:00:00:00 | #################### | 5000/5000 | 4386.72 | 159.86       \n",
      "OfflineDataset at: .\n",
      "Num. traces      : 500\n",
      "Sorted on disk   : False\n",
      "No pre-computed hashes found, generating: ./pyprob_hashes\n",
      "Hashing offline dataset for sorting\n",
      "Time spent  | Time remain.| Progress             | Traces  | Traces/sec\n",
      "0d:00:00:00 | 0d:00:00:00 | #################### | 500/500 | 585.46       \n",
      "Sorting offline dataset\n",
      "Sorting done\n",
      "Num. trace types : 1\n",
      "Trace hash\tCount\n",
      "2.23091674\t500\n",
      "\n",
      "Continuing to train existing inference network...\n",
      "Total number of parameters: 308\n",
      "Train. time | Epoch| Trace     | Init. loss| Min. loss | Curr. loss| T.since min | Learn.rate| Traces/sec\n",
      "0d:00:00:05 | 1    | 2,800     | +4.06e+00 | +3.96e+00 | \u001b[32m+4.99e+00\u001b[0m | 0d:00:00:00 | +1.00e-03 | 573.3 \n",
      "Stop condition reached. num_traces: 500\n",
      "0d:00:00:05 | 1    | 3,000     | +4.06e+00 | +3.96e+00 | \u001b[31m+5.01e+00\u001b[0m | 0d:00:00:00 | +1.00e-03 | 625.1 \n",
      "Training iterations 4  epsilon 1.50  ESS 500.0\n",
      "Time spent  | Time remain.| Progress             | Trace     | ESS    | Traces/sec\n",
      "0d:00:00:32 | 0d:00:00:00 | #################### | 5000/5000 | 4340.73 | 155.45       \n",
      "OfflineDataset at: .\n",
      "Num. traces      : 500\n",
      "Sorted on disk   : False\n",
      "No pre-computed hashes found, generating: ./pyprob_hashes\n",
      "Hashing offline dataset for sorting\n",
      "Time spent  | Time remain.| Progress             | Traces  | Traces/sec\n",
      "0d:00:00:01 | 0d:00:00:00 | #################### | 500/500 | 467.72       \n",
      "Sorting offline dataset\n",
      "Sorting done\n",
      "Num. trace types : 1\n",
      "Trace hash\tCount\n",
      "2.23091674\t500\n",
      "\n",
      "Continuing to train existing inference network...\n",
      "Total number of parameters: 308\n",
      "Train. time | Epoch| Trace     | Init. loss| Min. loss | Curr. loss| T.since min | Learn.rate| Traces/sec\n",
      "0d:00:00:06 | 1    | 3,400     | +4.06e+00 | +3.96e+00 | \u001b[31m+4.97e+00\u001b[0m | 0d:00:00:00 | +1.00e-03 | 304.4 \n",
      "Stop condition reached. num_traces: 500\n",
      "0d:00:00:06 | 1    | 3,500     | +4.06e+00 | +3.96e+00 | \u001b[32m+4.94e+00\u001b[0m | 0d:00:00:01 | +1.00e-03 | 518.2 \n",
      "Training iterations 5  epsilon 1.41  ESS 500.0\n",
      "Time spent  | Time remain.| Progress             | Trace     | ESS    | Traces/sec\n",
      "0d:00:00:38 | 0d:00:00:00 | #################### | 5000/5000 | 4301.00 | 128.90       \n",
      "OfflineDataset at: .\n",
      "Num. traces      : 500\n",
      "Sorted on disk   : False\n",
      "No pre-computed hashes found, generating: ./pyprob_hashes\n",
      "Hashing offline dataset for sorting\n",
      "Time spent  | Time remain.| Progress             | Traces  | Traces/sec\n",
      "0d:00:00:01 | 0d:00:00:00 | #################### | 500/500 | 467.22       \n",
      "Sorting offline dataset\n",
      "Sorting done\n",
      "Num. trace types : 1\n",
      "Trace hash\tCount\n",
      "2.23091674\t500\n",
      "\n",
      "Continuing to train existing inference network...\n",
      "Total number of parameters: 308\n",
      "Train. time | Epoch| Trace     | Init. loss| Min. loss | Curr. loss| T.since min | Learn.rate| Traces/sec\n",
      "0d:00:00:07 | 1    | 3,900     | +4.06e+00 | +3.96e+00 | \u001b[32m+4.88e+00\u001b[0m | 0d:00:00:00 | +1.00e-03 | 624.3 \n",
      "Stop condition reached. num_traces: 500\n",
      "0d:00:00:07 | 1    | 4,000     | +4.06e+00 | +3.96e+00 | \u001b[31m+5.04e+00\u001b[0m | 0d:00:00:01 | +1.00e-03 | 513.9 \n",
      "Training iterations 6  epsilon 1.37  ESS 500.0\n",
      "Time spent  | Time remain.| Progress             | Trace     | ESS    | Traces/sec\n",
      "0d:00:00:29 | 0d:00:00:00 | #################### | 5000/5000 | 4261.06 | 167.99       \n",
      "OfflineDataset at: .\n",
      "Num. traces      : 500\n",
      "Sorted on disk   : False\n",
      "No pre-computed hashes found, generating: ./pyprob_hashes\n",
      "Hashing offline dataset for sorting\n",
      "Time spent  | Time remain.| Progress             | Traces  | Traces/sec\n",
      "0d:00:00:01 | 0d:00:00:00 | #################### | 500/500 | 404.58       \n",
      "Sorting offline dataset\n",
      "Sorting done\n",
      "Num. trace types : 1\n",
      "Trace hash\tCount\n",
      "2.23091674\t500\n",
      "\n",
      "Continuing to train existing inference network...\n",
      "Total number of parameters: 308\n",
      "Train. time | Epoch| Trace     | Init. loss| Min. loss | Curr. loss| T.since min | Learn.rate| Traces/sec\n",
      "0d:00:00:08 | 1    | 4,400     | +4.06e+00 | +3.96e+00 | \u001b[32m+4.83e+00\u001b[0m | 0d:00:00:00 | +1.00e-03 | 385.4 \n",
      "Stop condition reached. num_traces: 500\n",
      "0d:00:00:09 | 1    | 4,500     | +4.06e+00 | +3.96e+00 | \u001b[31m+4.83e+00\u001b[0m | 0d:00:00:01 | +1.00e-03 | 409.6 \n",
      "Training iterations 7  epsilon 1.31  ESS 500.0\n",
      "Time spent  | Time remain.| Progress             | Trace     | ESS    | Traces/sec\n",
      "0d:00:00:28 | 0d:00:00:00 | #################### | 5000/5000 | 4214.08 | 176.01       \n",
      "OfflineDataset at: .\n",
      "Num. traces      : 500\n",
      "Sorted on disk   : False\n",
      "No pre-computed hashes found, generating: ./pyprob_hashes\n",
      "Hashing offline dataset for sorting\n",
      "Time spent  | Time remain.| Progress             | Traces  | Traces/sec\n",
      "0d:00:00:00 | 0d:00:00:00 | #################### | 500/500 | 800.52       \n",
      "Sorting offline dataset\n",
      "Sorting done\n",
      "Num. trace types : 1\n",
      "Trace hash\tCount\n",
      "2.23091674\t500\n",
      "\n",
      "Continuing to train existing inference network...\n",
      "Total number of parameters: 308\n",
      "Train. time | Epoch| Trace     | Init. loss| Min. loss | Curr. loss| T.since min | Learn.rate| Traces/sec\n",
      "0d:00:00:09 | 1    | 4,800     | +4.06e+00 | +3.96e+00 | \u001b[32m+4.80e+00\u001b[0m | 0d:00:00:00 | +1.00e-03 | 747.1 \n",
      "Stop condition reached. num_traces: 500\n",
      "0d:00:00:09 | 1    | 5,000     | +4.06e+00 | +3.96e+00 | \u001b[32m+4.82e+00\u001b[0m | 0d:00:00:00 | +1.00e-03 | 721.0 \n",
      "Training iterations 8  epsilon 1.29  ESS 500.0\n",
      "Time spent  | Time remain.| Progress             | Trace     | ESS    | Traces/sec\n",
      "0d:00:00:37 | 0d:00:00:00 | #################### | 5000/5000 | 4150.60 | 134.80       \n",
      "OfflineDataset at: .\n",
      "Num. traces      : 500\n",
      "Sorted on disk   : False\n",
      "No pre-computed hashes found, generating: ./pyprob_hashes\n",
      "Hashing offline dataset for sorting\n",
      "Time spent  | Time remain.| Progress             | Traces  | Traces/sec\n",
      "0d:00:00:01 | 0d:00:00:00 | #################### | 500/500 | 416.37       \n",
      "Sorting offline dataset\n",
      "Sorting done\n",
      "Num. trace types : 1\n",
      "Trace hash\tCount\n",
      "2.23091674\t500\n",
      "\n",
      "Continuing to train existing inference network...\n",
      "Total number of parameters: 308\n",
      "Train. time | Epoch| Trace     | Init. loss| Min. loss | Curr. loss| T.since min | Learn.rate| Traces/sec\n",
      "0d:00:00:10 | 1    | 5,400     | +4.06e+00 | +3.96e+00 | \u001b[32m+4.75e+00\u001b[0m | 0d:00:00:01 | +1.00e-03 | 277.8 \n",
      "Stop condition reached. num_traces: 500\n",
      "0d:00:00:11 | 1    | 5,500     | +4.06e+00 | +3.96e+00 | \u001b[32m+4.74e+00\u001b[0m | 0d:00:00:01 | +1.00e-03 | 305.3 \n",
      "Training iterations 9  epsilon 1.24  ESS 500.0\n",
      "Time spent  | Time remain.| Progress             | Trace     | ESS    | Traces/sec\n",
      "0d:00:00:30 | 0d:00:00:00 | #################### | 5000/5000 | 4124.35 | 163.29       \n",
      "OfflineDataset at: .\n",
      "Num. traces      : 500\n",
      "Sorted on disk   : False\n",
      "No pre-computed hashes found, generating: ./pyprob_hashes\n",
      "Hashing offline dataset for sorting\n",
      "Time spent  | Time remain.| Progress             | Traces  | Traces/sec\n",
      "0d:00:00:00 | 0d:00:00:00 | #################### | 500/500 | 698.55       \n",
      "Sorting offline dataset\n",
      "Sorting done\n",
      "Num. trace types : 1\n",
      "Trace hash\tCount\n",
      "2.23091674\t500\n",
      "\n",
      "Continuing to train existing inference network...\n",
      "Total number of parameters: 308\n",
      "Train. time | Epoch| Trace     | Init. loss| Min. loss | Curr. loss| T.since min | Learn.rate| Traces/sec\n",
      "0d:00:00:12 | 1    | 5,900     | +4.06e+00 | +3.96e+00 | \u001b[31m+4.86e+00\u001b[0m | 0d:00:00:01 | +1.00e-03 | 302.4 \n",
      "Stop condition reached. num_traces: 500\n",
      "0d:00:00:12 | 1    | 6,000     | +4.06e+00 | +3.96e+00 | \u001b[32m+4.71e+00\u001b[0m | 0d:00:00:01 | +1.00e-03 | 388.0 \n",
      "Training iterations 10  epsilon 1.17  ESS 500.0\n",
      "Time spent  | Time remain.| Progress             | Trace     | ESS    | Traces/sec\n",
      "0d:00:00:34 | 0d:00:00:00 | #################### | 5000/5000 | 4063.93 | 143.10       \n",
      "OfflineDataset at: .\n",
      "Num. traces      : 500\n",
      "Sorted on disk   : False\n",
      "No pre-computed hashes found, generating: ./pyprob_hashes\n",
      "Hashing offline dataset for sorting\n",
      "Time spent  | Time remain.| Progress             | Traces  | Traces/sec\n",
      "0d:00:00:00 | 0d:00:00:00 | #################### | 500/500 | 608.48       \n",
      "Sorting offline dataset\n",
      "Sorting done\n",
      "Num. trace types : 1\n",
      "Trace hash\tCount\n",
      "2.23091674\t500\n",
      "\n",
      "Continuing to train existing inference network...\n",
      "Total number of parameters: 308\n",
      "Train. time | Epoch| Trace     | Init. loss| Min. loss | Curr. loss| T.since min | Learn.rate| Traces/sec\n",
      "0d:00:00:13 | 1    | 6,300     | +4.06e+00 | +3.96e+00 | \u001b[32m+4.71e+00\u001b[0m | 0d:00:00:00 | +1.00e-03 | 287.8 \n",
      "Stop condition reached. num_traces: 500\n",
      "0d:00:00:13 | 1    | 6,500     | +4.06e+00 | +3.96e+00 | \u001b[31m+4.68e+00\u001b[0m | 0d:00:00:00 | +1.00e-03 | 664.4 \n",
      "Training iterations 11  epsilon 1.17  ESS 498.1\n",
      "Time spent  | Time remain.| Progress             | Trace     | ESS    | Traces/sec\n",
      "0d:00:00:30 | 0d:00:00:00 | #################### | 5000/5000 | 4013.36 | 162.24       \n",
      "OfflineDataset at: .\n",
      "Num. traces      : 500\n",
      "Sorted on disk   : False\n",
      "No pre-computed hashes found, generating: ./pyprob_hashes\n",
      "Hashing offline dataset for sorting\n",
      "Time spent  | Time remain.| Progress             | Traces  | Traces/sec\n",
      "0d:00:00:00 | 0d:00:00:00 | #################### | 500/500 | 663.85       \n",
      "Sorting offline dataset\n",
      "Sorting done\n",
      "Num. trace types : 1\n",
      "Trace hash\tCount\n",
      "2.23091674\t500\n",
      "\n",
      "Continuing to train existing inference network...\n",
      "Total number of parameters: 308\n",
      "Train. time | Epoch| Trace     | Init. loss| Min. loss | Curr. loss| T.since min | Learn.rate| Traces/sec\n",
      "0d:00:00:14 | 1    | 6,800     | +4.06e+00 | +3.96e+00 | \u001b[31m+4.79e+00\u001b[0m | 0d:00:00:00 | +1.00e-03 | 738.6 \n",
      "Stop condition reached. num_traces: 500\n",
      "0d:00:00:14 | 1    | 7,000     | +4.06e+00 | +3.96e+00 | \u001b[32m+4.63e+00\u001b[0m | 0d:00:00:00 | +1.00e-03 | 594.4 \n",
      "Training iterations 12  epsilon 1.16  ESS 500.0\n",
      "Time spent  | Time remain.| Progress             | Trace     | ESS    | Traces/sec\n",
      "0d:00:00:30 | 0d:00:00:00 | #################### | 5000/5000 | 3949.17 | 166.58       \n",
      "OfflineDataset at: .\n",
      "Num. traces      : 500\n",
      "Sorted on disk   : False\n",
      "No pre-computed hashes found, generating: ./pyprob_hashes\n",
      "Hashing offline dataset for sorting\n",
      "Time spent  | Time remain.| Progress             | Traces  | Traces/sec\n",
      "0d:00:00:00 | 0d:00:00:00 | #################### | 500/500 | 726.89       \n",
      "Sorting offline dataset\n",
      "Sorting done\n",
      "Num. trace types : 1\n",
      "Trace hash\tCount\n",
      "2.23091674\t500\n",
      "\n",
      "Continuing to train existing inference network...\n",
      "Total number of parameters: 308\n",
      "Train. time | Epoch| Trace     | Init. loss| Min. loss | Curr. loss| T.since min | Learn.rate| Traces/sec\n",
      "0d:00:00:14 | 1    | 7,300     | +4.06e+00 | +3.96e+00 | \u001b[31m+4.64e+00\u001b[0m | 0d:00:00:00 | +1.00e-03 | 725.4 \n",
      "Stop condition reached. num_traces: 500\n",
      "0d:00:00:15 | 1    | 7,500     | +4.06e+00 | +3.96e+00 | \u001b[32m+4.60e+00\u001b[0m | 0d:00:00:00 | +1.00e-03 | 619.0 \n",
      "Training iterations 13  epsilon 1.10  ESS 500.0\n",
      "Time spent  | Time remain.| Progress             | Trace     | ESS    | Traces/sec\n",
      "0d:00:00:30 | 0d:00:00:00 | #################### | 5000/5000 | 3919.80 | 164.83       \n",
      "OfflineDataset at: .\n",
      "Num. traces      : 500\n",
      "Sorted on disk   : False\n",
      "No pre-computed hashes found, generating: ./pyprob_hashes\n",
      "Hashing offline dataset for sorting\n",
      "Time spent  | Time remain.| Progress             | Traces  | Traces/sec\n",
      "0d:00:00:00 | 0d:00:00:00 | #################### | 500/500 | 719.64       \n",
      "Sorting offline dataset\n",
      "Sorting done\n",
      "Num. trace types : 1\n",
      "Trace hash\tCount\n",
      "2.23091674\t500\n",
      "\n",
      "Continuing to train existing inference network...\n",
      "Total number of parameters: 308\n",
      "Train. time | Epoch| Trace     | Init. loss| Min. loss | Curr. loss| T.since min | Learn.rate| Traces/sec\n",
      "0d:00:00:15 | 1    | 7,800     | +4.06e+00 | +3.96e+00 | \u001b[31m+4.71e+00\u001b[0m | 0d:00:00:00 | +1.00e-03 | 675.8 \n",
      "Stop condition reached. num_traces: 500\n",
      "0d:00:00:16 | 1    | 8,000     | +4.06e+00 | +3.96e+00 | \u001b[32m+4.57e+00\u001b[0m | 0d:00:00:00 | +1.00e-03 | 684.8 \n",
      "Training iterations 14  epsilon 1.07  ESS 500.0\n",
      "Time spent  | Time remain.| Progress             | Trace     | ESS    | Traces/sec\n",
      "0d:00:00:35 | 0d:00:00:00 | #################### | 5000/5000 | 3834.88 | 141.75       \n",
      "OfflineDataset at: .\n",
      "Num. traces      : 500\n",
      "Sorted on disk   : False\n",
      "No pre-computed hashes found, generating: ./pyprob_hashes\n",
      "Hashing offline dataset for sorting\n",
      "Time spent  | Time remain.| Progress             | Traces  | Traces/sec\n",
      "0d:00:00:01 | 0d:00:00:00 | #################### | 500/500 | 351.96       \n",
      "Sorting offline dataset\n",
      "Sorting done\n",
      "Num. trace types : 1\n",
      "Trace hash\tCount\n",
      "2.23091674\t500\n",
      "\n",
      "Continuing to train existing inference network...\n",
      "Total number of parameters: 308\n",
      "Train. time | Epoch| Trace     | Init. loss| Min. loss | Curr. loss| T.since min | Learn.rate| Traces/sec\n",
      "0d:00:00:16 | 1    | 8,300     | +4.06e+00 | +3.96e+00 | \u001b[31m+4.68e+00\u001b[0m | 0d:00:00:00 | +1.00e-03 | 534.1 \n",
      "Stop condition reached. num_traces: 500\n",
      "0d:00:00:17 | 1    | 8,500     | +4.06e+00 | +3.96e+00 | \u001b[32m+4.53e+00\u001b[0m | 0d:00:00:01 | +1.00e-03 | 512.2 \n",
      "Training iterations 15  epsilon 1.01  ESS 500.0\n",
      "Time spent  | Time remain.| Progress             | Trace     | ESS    | Traces/sec\n",
      "0d:00:00:38 | 0d:00:00:00 | #################### | 5000/5000 | 3795.70 | 129.26       \n",
      "OfflineDataset at: .\n",
      "Num. traces      : 500\n",
      "Sorted on disk   : False\n",
      "No pre-computed hashes found, generating: ./pyprob_hashes\n",
      "Hashing offline dataset for sorting\n",
      "Time spent  | Time remain.| Progress             | Traces  | Traces/sec\n",
      "0d:00:00:01 | 0d:00:00:00 | #################### | 500/500 | 467.24       \n",
      "Sorting offline dataset\n",
      "Sorting done\n",
      "Num. trace types : 1\n",
      "Trace hash\tCount\n",
      "2.23091674\t500\n",
      "\n",
      "Continuing to train existing inference network...\n",
      "Total number of parameters: 308\n",
      "Train. time | Epoch| Trace     | Init. loss| Min. loss | Curr. loss| T.since min | Learn.rate| Traces/sec\n",
      "0d:00:00:18 | 1    | 8,900     | +4.06e+00 | +3.96e+00 | \u001b[32m+4.51e+00\u001b[0m | 0d:00:00:00 | +1.00e-03 | 361.7 \n",
      "Stop condition reached. num_traces: 500\n",
      "0d:00:00:18 | 1    | 9,000     | +4.06e+00 | +3.96e+00 | \u001b[31m+4.51e+00\u001b[0m | 0d:00:00:01 | +1.00e-03 | 189.0 \n",
      "Training iterations 16  epsilon 1.01  ESS 491.2\n",
      "Time spent  | Time remain.| Progress             | Trace     | ESS    | Traces/sec\n",
      "0d:00:00:36 | 0d:00:00:00 | #################### | 5000/5000 | 3739.51 | 135.73       \n",
      "OfflineDataset at: .\n",
      "Num. traces      : 500\n",
      "Sorted on disk   : False\n",
      "No pre-computed hashes found, generating: ./pyprob_hashes\n",
      "Hashing offline dataset for sorting\n",
      "Time spent  | Time remain.| Progress             | Traces  | Traces/sec\n",
      "0d:00:00:00 | 0d:00:00:00 | #################### | 500/500 | 617.35       \n",
      "Sorting offline dataset\n",
      "Sorting done\n",
      "Num. trace types : 1\n",
      "Trace hash\tCount\n",
      "2.23091674\t500\n",
      "\n",
      "Continuing to train existing inference network...\n",
      "Total number of parameters: 308\n",
      "Train. time | Epoch| Trace     | Init. loss| Min. loss | Curr. loss| T.since min | Learn.rate| Traces/sec\n",
      "0d:00:00:19 | 1    | 9,300     | +4.06e+00 | +3.96e+00 | \u001b[31m+4.52e+00\u001b[0m | 0d:00:00:00 | +1.00e-03 | 641.3 \n",
      "Stop condition reached. num_traces: 500\n",
      "0d:00:00:19 | 1    | 9,500     | +4.06e+00 | +3.96e+00 | \u001b[32m+4.48e+00\u001b[0m | 0d:00:00:00 | +1.00e-03 | 514.8 \n",
      "Training iterations 17  epsilon 0.97  ESS 500.0\n",
      "Time spent  | Time remain.| Progress             | Trace     | ESS    | Traces/sec\n",
      "0d:00:00:28 | 0d:00:00:00 | #################### | 5000/5000 | 3688.44 | 172.99       \n",
      "OfflineDataset at: .\n",
      "Num. traces      : 500\n",
      "Sorted on disk   : False\n",
      "No pre-computed hashes found, generating: ./pyprob_hashes\n",
      "Hashing offline dataset for sorting\n",
      "Time spent  | Time remain.| Progress             | Traces  | Traces/sec\n",
      "0d:00:00:00 | 0d:00:00:00 | #################### | 500/500 | 785.36       \n",
      "Sorting offline dataset\n",
      "Sorting done\n",
      "Num. trace types : 1\n",
      "Trace hash\tCount\n",
      "2.23091674\t500\n",
      "\n",
      "Continuing to train existing inference network...\n",
      "Total number of parameters: 308\n",
      "Train. time | Epoch| Trace     | Init. loss| Min. loss | Curr. loss| T.since min | Learn.rate| Traces/sec\n",
      "0d:00:00:20 | 1    | 9,800     | +4.06e+00 | +3.96e+00 | \u001b[32m+4.46e+00\u001b[0m | 0d:00:00:00 | +1.00e-03 | 710.4 \n",
      "Stop condition reached. num_traces: 500\n",
      "0d:00:00:20 | 1    | 10,000    | +4.06e+00 | +3.96e+00 | \u001b[31m+4.57e+00\u001b[0m | 0d:00:00:00 | +1.00e-03 | 706.7 \n",
      "Training iterations 18  epsilon 0.91  ESS 500.0\n",
      "Time spent  | Time remain.| Progress             | Trace     | ESS    | Traces/sec\n",
      "0d:00:00:30 | 0d:00:00:00 | #################### | 5000/5000 | 3614.26 | 162.51       \n",
      "OfflineDataset at: .\n",
      "Num. traces      : 500\n",
      "Sorted on disk   : False\n",
      "No pre-computed hashes found, generating: ./pyprob_hashes\n",
      "Hashing offline dataset for sorting\n",
      "Time spent  | Time remain.| Progress             | Traces  | Traces/sec\n",
      "0d:00:00:00 | 0d:00:00:00 | #################### | 500/500 | 775.59       \n",
      "Sorting offline dataset\n",
      "Sorting done\n",
      "Num. trace types : 1\n",
      "Trace hash\tCount\n",
      "2.23091674\t500\n",
      "\n",
      "Continuing to train existing inference network...\n",
      "Total number of parameters: 308\n",
      "Train. time | Epoch| Trace     | Init. loss| Min. loss | Curr. loss| T.since min | Learn.rate| Traces/sec\n",
      "0d:00:00:20 | 1    | 10,300    | +4.06e+00 | +3.96e+00 | \u001b[32m+4.43e+00\u001b[0m | 0d:00:00:00 | +1.00e-03 | 707.0 \n",
      "Stop condition reached. num_traces: 500\n",
      "0d:00:00:21 | 1    | 10,500    | +4.06e+00 | +3.96e+00 | \u001b[32m+4.43e+00\u001b[0m | 0d:00:00:00 | +1.00e-03 | 696.8 \n",
      "Training iterations 19  epsilon 0.88  ESS 500.0\n",
      "Time spent  | Time remain.| Progress             | Trace     | ESS    | Traces/sec\n",
      "0d:00:00:28 | 0d:00:00:00 | #################### | 5000/5000 | 3557.96 | 175.60       \n",
      "OfflineDataset at: .\n",
      "Num. traces      : 500\n",
      "Sorted on disk   : False\n",
      "No pre-computed hashes found, generating: ./pyprob_hashes\n",
      "Hashing offline dataset for sorting\n",
      "Time spent  | Time remain.| Progress             | Traces  | Traces/sec\n",
      "0d:00:00:00 | 0d:00:00:00 | #################### | 500/500 | 746.98       \n",
      "Sorting offline dataset\n",
      "Sorting done\n",
      "Num. trace types : 1\n",
      "Trace hash\tCount\n",
      "2.23091674\t500\n",
      "\n",
      "Continuing to train existing inference network...\n",
      "Total number of parameters: 308\n",
      "Train. time | Epoch| Trace     | Init. loss| Min. loss | Curr. loss| T.since min | Learn.rate| Traces/sec\n",
      "0d:00:00:21 | 1    | 10,800    | +4.06e+00 | +3.96e+00 | \u001b[31m+4.42e+00\u001b[0m | 0d:00:00:00 | +1.00e-03 | 716.7 \n",
      "Stop condition reached. num_traces: 500\n",
      "0d:00:00:21 | 1    | 11,000    | +4.06e+00 | +3.96e+00 | \u001b[31m+4.52e+00\u001b[0m | 0d:00:00:00 | +1.00e-03 | 738.3 \n",
      "Training iterations 20  epsilon 0.88  ESS 476.8\n"
     ]
    }
   ],
   "source": [
    "simulator.train(iterations = 50,\n",
    "    importance_sample_size=5000, \n",
    "    proposal_mixture_components=5,\n",
    "    observe_embeddings={'bool_func': {'dim': 1, 'depth': 1}} # Dummy value as we currently have to observe something\n",
    ")"
   ]
  },
  {
   "cell_type": "code",
   "execution_count": 22,
   "metadata": {},
   "outputs": [
    {
     "name": "stdout",
     "output_type": "stream",
     "text": [
      "Time spent  | Time remain.| Progress             | Trace     | ESS    | Traces/sec\n",
      "0d:00:00:10 | 0d:00:00:00 | #################### | 2000/2000 | 1301.11 | 190.37       \n"
     ]
    }
   ],
   "source": [
    "posterior = simulator.posterior(num_traces = 2000,\n",
    "inference_engine = InferenceEngine.DISTILLING_IMPORTANCE_SAMPLING,\n",
    "observe={\"dummy\": 1})\n",
    "posterior = simulator.update_DIS_posterior_weights(posterior)\n",
    "results = np.array([x.result for x in posterior.values])"
   ]
  },
  {
   "cell_type": "markdown",
   "metadata": {},
   "source": [
    "# Plots"
   ]
  },
  {
   "cell_type": "markdown",
   "metadata": {},
   "source": [
    "First do checks for single training round. This is to make sure that the algorithm isn't somehow 'cheating'"
   ]
  },
  {
   "cell_type": "code",
   "execution_count": 9,
   "metadata": {},
   "outputs": [],
   "source": [
    "posterior_check = simulator.update_DIS_posterior_weights(posterior_check)\n",
    "results_check = np.array([x.result for x in posterior_check.values])"
   ]
  },
  {
   "cell_type": "code",
   "execution_count": 10,
   "metadata": {},
   "outputs": [
    {
     "data": {
      "text/plain": [
       "<matplotlib.legend.Legend at 0x7f5a67723970>"
      ]
     },
     "execution_count": 10,
     "metadata": {},
     "output_type": "execute_result"
    },
    {
     "data": {
      "image/png": "[encoded data removed]",
      "text/plain": [
       "<Figure size 432x288 with 1 Axes>"
      ]
     },
     "metadata": {
      "needs_background": "light"
     },
     "output_type": "display_data"
    }
   ],
   "source": [
    "plt.hist(results_check, bins=50, weights=np.array(posterior_check.weights), label='posterior',density=True)\n",
    "plt.hist(results_check, bins=50, label='proposal',density = True)\n",
    "correct_dists.plot_prior(min(prior.values_numpy()),max(prior.values_numpy()))\n",
    "correct_dists.plot_posterior(min(results), max(results))\n",
    "plt.legend()"
   ]
  },
  {
   "cell_type": "markdown",
   "metadata": {},
   "source": [
    "Now check full results"
   ]
  },
  {
   "cell_type": "code",
   "execution_count": 23,
   "metadata": {},
   "outputs": [
    {
     "data": {
      "text/plain": [
       "<matplotlib.legend.Legend at 0x7f690c5f6220>"
      ]
     },
     "execution_count": 23,
     "metadata": {},
     "output_type": "execute_result"
    },
    {
     "data": {
      "image/png": "[encoded data removed]",
      "text/plain": [
       "<Figure size 432x288 with 1 Axes>"
      ]
     },
     "metadata": {
      "needs_background": "light"
     },
     "output_type": "display_data"
    }
   ],
   "source": [
    "plt.hist(results, bins=50, weights=np.array(posterior.weights), label='posterior',density=True)\n",
    "plt.hist(results, bins=50, label='proposal',density = True)\n",
    "correct_dists.plot_prior(min(prior.values_numpy()),max(prior.values_numpy()))\n",
    "correct_dists.plot_posterior(min(results), max(results))\n",
    "plt.legend()"
   ]
  },
  {
   "cell_type": "markdown",
   "metadata": {},
   "source": [
    "# Roughs"
   ]
  },
  {
   "cell_type": "code",
   "execution_count": null,
   "metadata": {},
   "outputs": [
    {
     "name": "stdout",
     "output_type": "stream",
     "text": [
      "[4.43934743e-04 1.12809762e-03 6.99781531e-05 3.08431125e-04\n",
      " 2.07236835e-04 1.65965433e-04 2.79483327e-04 1.51536002e-03\n",
      " 4.46125723e-04 3.05139416e-04]\n",
      "[5.16142642e-11 2.43493937e-16 3.47589046e-11 2.37514305e-08\n",
      " 7.04764763e-05 8.20254264e-05 1.54813143e-05 2.09902897e-24\n",
      " 4.43681561e-06 7.53436269e-09]\n",
      "[5.16142642e-11 2.43493937e-16 3.47589046e-11 2.37514305e-08\n",
      " 7.04764763e-05 8.20254264e-05 1.54813143e-05 2.09902897e-24\n",
      " 4.43681561e-06 7.53436269e-09]\n"
     ]
    }
   ],
   "source": [
    "importance_weights = np.exp(np.array([x.log_importance_weight for x in posterior.values]))\n",
    "importance_weights = importance_weights/sum(importance_weights)\n",
    "weights = posterior.weights\n",
    "probs = posterior._categorical.probs\n",
    "print(importance_weights[:10])\n",
    "print(np.array(weights[:10].detach()))\n",
    "print(np.array(probs[:10].detach()))"
   ]
  },
  {
   "cell_type": "code",
   "execution_count": null,
   "metadata": {},
   "outputs": [
    {
     "name": "stdout",
     "output_type": "stream",
     "text": [
      "1.0000000000000004\n",
      "tensor(0.0158, dtype=torch.float64)\n"
     ]
    }
   ],
   "source": [
    "print(importance_weights.sum())\n",
    "print(weights.sum())"
   ]
  },
  {
   "cell_type": "code",
   "execution_count": null,
   "metadata": {},
   "outputs": [
    {
     "data": {
      "text/plain": [
       "<matplotlib.legend.Legend at 0x7f1f0e0d5220>"
      ]
     },
     "execution_count": 14,
     "metadata": {},
     "output_type": "execute_result"
    },
    {
     "data": {
      "image/png": "[encoded data removed]",
      "text/plain": [
       "<Figure size 432x288 with 1 Axes>"
      ]
     },
     "metadata": {
      "needs_background": "light"
     },
     "output_type": "display_data"
    }
   ],
   "source": [
    "plt.hist(results, bins=20, weights=importance_weights, label='posterior')\n",
    "plt.hist(results, bins=20, label='proposal',density = True)\n",
    "correct_dists.plot_prior(min(prior.values_numpy()),max(prior.values_numpy()))\n",
    "correct_dists.plot_posterior(min(results), max(results))\n",
    "plt.legend()"
   ]
  },
  {
   "cell_type": "markdown",
   "metadata": {},
   "source": [
    "Why do importance weights bring the posterior back to the prior?"
   ]
  },
  {
   "cell_type": "code",
   "execution_count": 23,
   "metadata": {},
   "outputs": [
    {
     "name": "stdout",
     "output_type": "stream",
     "text": [
      "Time spent  | Time remain.| Progress             | Trace     | ESS    | Traces/sec\n",
      "0d:00:00:20 | 0d:00:00:00 | #################### | 2000/2000 | 1418.03 | 98.69       \n"
     ]
    }
   ],
   "source": [
    "posterior = simulator.posterior(num_traces = 2000,\n",
    "inference_engine = InferenceEngine.IMPORTANCE_SAMPLING_WITH_INFERENCE_NETWORK,\n",
    "observe={\"bool_func\": 1})\n",
    "# posterior = simulator.update_DIS_posterior_weights(posterior)\n",
    "# results = np.array([x.result for x in posterior.values])"
   ]
  },
  {
   "cell_type": "code",
   "execution_count": 21,
   "metadata": {},
   "outputs": [],
   "source": [
    "posterior = simulator.update_DIS_posterior_weights(posterior)"
   ]
  },
  {
   "cell_type": "code",
   "execution_count": 24,
   "metadata": {},
   "outputs": [
    {
     "data": {
      "text/plain": [
       "tensor([-6.9376, -9.3105, -7.8644,  ..., -7.2155, -7.8315, -8.3067],\n",
       "       dtype=torch.float64)"
      ]
     },
     "execution_count": 24,
     "metadata": {},
     "output_type": "execute_result"
    }
   ],
   "source": [
    "posterior._categorical.logits"
   ]
  },
  {
   "cell_type": "code",
   "execution_count": 25,
   "metadata": {},
   "outputs": [
    {
     "data": {
      "text/plain": [
       "tensor([9.7061e-04, 9.0471e-05, 3.8417e-04,  ..., 7.3511e-04, 3.9705e-04,\n",
       "        2.4685e-04], dtype=torch.float64)"
      ]
     },
     "execution_count": 25,
     "metadata": {},
     "output_type": "execute_result"
    }
   ],
   "source": [
    "np.exp(posterior._categorical.logits)"
   ]
  },
  {
   "cell_type": "code",
   "execution_count": 27,
   "metadata": {},
   "outputs": [
    {
     "data": {
      "text/plain": [
       "tensor([9.7061e-04, 9.0471e-05, 3.8417e-04,  ..., 7.3511e-04, 3.9705e-04,\n",
       "        2.4685e-04], dtype=torch.float64)"
      ]
     },
     "execution_count": 27,
     "metadata": {},
     "output_type": "execute_result"
    }
   ],
   "source": [
    "posterior._categorical.probs"
   ]
  },
  {
   "cell_type": "code",
   "execution_count": null,
   "metadata": {},
   "outputs": [],
   "source": []
  }
 ],
 "metadata": {
  "interpreter": {
   "hash": "54cb28130e048f041bc902eb918064ee5dfd6d014adda3c003162d8edf6612f9"
  },
  "kernelspec": {
   "display_name": "Python 3.8.2 64-bit ('base': conda)",
   "language": "python",
   "name": "python3"
  },
  "language_info": {
   "codemirror_mode": {
    "name": "ipython",
    "version": 3
   },
   "file_extension": ".py",
   "mimetype": "text/x-python",
   "name": "python",
   "nbconvert_exporter": "python",
   "pygments_lexer": "ipython3",
   "version": "3.8.2"
  },
  "orig_nbformat": 4
 },
 "nbformat": 4,
 "nbformat_minor": 2
}
