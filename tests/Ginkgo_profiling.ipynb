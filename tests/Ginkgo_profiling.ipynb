{
 "cells": [
  {
   "cell_type": "code",
   "execution_count": 1,
   "metadata": {},
   "outputs": [],
   "source": [
    "import pyprob\n",
    "import numpy as np\n",
    "import ot\n",
    "import torch\n",
    "import cProfile\n",
    "import pickle\n",
    "\n",
    "from pyprob.dis import ModelDIS\n",
    "from showerSim import invMass_ginkgo\n",
    "from torch.utils.data import DataLoader\n",
    "from pyprob.nn.dataset import OnlineDataset\n",
    "from pyprob.util import InferenceEngine\n",
    "from pyprob.util import to_tensor\n",
    "from pyprob import Model\n",
    "from pyprob.model import Parallel_Generator\n",
    "import math\n",
    "from pyprob.distributions import Normal\n",
    "from pyprob.distributions.delta import Delta\n",
    "\n",
    "\n",
    "import matplotlib as mpl\n",
    "import matplotlib.pyplot as plt\n",
    "from mpl_toolkits.mplot3d import Axes3D\n",
    "import matplotlib.cm as mpl_cm\n",
    "plt.ion()\n",
    "\n",
    "import sklearn as skl\n",
    "from sklearn.linear_model import LinearRegression\n",
    "\n",
    "from geomloss import SamplesLoss\n",
    "sinkhorn = SamplesLoss(loss=\"sinkhorn\", p=1, blur=.05)\n",
    "def sinkhorn_t(x,y):\n",
    "    x = to_tensor(x)\n",
    "    y = torch.stack(y)\n",
    "    return sinkhorn(x,y)\n",
    "\n",
    "\n",
    "def ot_dist(x,y):\n",
    "    # x = to_tensor(x)\n",
    "    # y = torch.stack(y)\n",
    "    x = np.array(x)\n",
    "    y = np.array(torch.stack(y))\n",
    "    a = ot.unif(len(x))\n",
    "    b = ot.unif(len(y))\n",
    "    Mat = ot.dist(x, y, metric='euclidean')\n",
    "    #Mat1 /= Mat1.max()\n",
    "    distance = to_tensor(ot.emd2(a,b,Mat))\n",
    "    return distance\n",
    "\n",
    "\n",
    "device = \"cpu\"\n",
    "\n",
    "from pyprob.util import set_device\n",
    "set_device(device)\n",
    "\n",
    "# obs_leaves = to_tensor([[ 25.8005,  15.8486,  13.7905,  14.9743],\n",
    "#         [ 64.6767,  39.8886,  34.8096,  37.1519],\n",
    "#         [112.1183,  68.9756,  59.4660,  65.3958],\n",
    "#         [ 17.2854,   9.8922,   9.2324,  10.7553],\n",
    "#         [  8.0760,   4.8046,   4.1940,   4.9540],\n",
    "#         [ 32.6218,  17.6533,  21.0402,  17.6020],\n",
    "#         [ 78.1670,  42.4337,  50.0361,  42.4953],\n",
    "#         [ 23.3093,  12.4575,  14.6925,  13.1246],\n",
    "#         [  8.5133,   4.5174,   5.0757,   5.1276],\n",
    "#         [ 17.5119,   8.7775,  10.6228,  10.8064],\n",
    "#         [ 11.6579,   5.0303,   7.2342,   7.6330],\n",
    "#         [  0.8138,   0.3167,   0.5029,   0.5491],\n",
    "#         [  0.5715,   0.3441,   0.2433,   0.3707]])\n",
    "\n",
    "obs_leaves = torch.tensor([[44.57652381, 26.16169856, 25.3945314 , 25.64598258],\n",
    "       [18.2146321 , 10.70465096, 10.43553391, 10.40449709],\n",
    "       [ 6.47106713,  4.0435395,  3.65545951,  3.48697568],\n",
    "       [ 8.43764314,  5.51040615,  4.60990593,  4.42270416],\n",
    "       [26.61664145, 16.55894826, 14.3357362 , 15.12215264],\n",
    "       [ 8.62925002,  3.37121204,  5.19699   ,  6.00480461],\n",
    "       [ 1.64291837,  0.74506775,  1.01003622,  1.05626017],\n",
    "       [ 0.75525072,  0.3051808 ,  0.45721085,  0.51760643],\n",
    "       [39.5749915 , 18.39638928, 24.24717939, 25.29349408],\n",
    "       [ 4.18355659,  2.11145474,  2.82071304,  2.25221316],\n",
    "       [ 0.82932922,  0.29842766,  0.5799056 ,  0.509021  ],\n",
    "       [ 3.00825023,  1.36339397,  1.99203677,  1.79428211],\n",
    "       [ 7.20024308,  4.03280868,  3.82379277,  4.57441754],\n",
    "       [ 2.09953618,  1.28473579,  1.03554351,  1.29769683],\n",
    "       [12.21401828,  6.76059035,  6.94920042,  7.42823701],\n",
    "       [ 6.91438054,  3.68417135,  3.83782514,  4.41656731],\n",
    "       [ 1.97218904,  1.01632927,  1.08008339,  1.27454585],\n",
    "       [ 8.58164301,  5.06157833,  4.79691164,  4.99553141],\n",
    "       [ 5.97809522,  3.26557958,  3.4253764 ,  3.64894791],\n",
    "       [ 5.22842301,  2.94437891,  3.10292633,  3.00551074],\n",
    "       [15.40023764,  9.10884407,  8.93836964,  8.61970667],\n",
    "       [ 1.96101346,  1.24996337,  1.06923988,  1.06743143],\n",
    "       [19.81054106, 11.90268453, 11.60989346, 10.76953856],\n",
    "       [18.79470876, 11.429855  , 10.8377334 , 10.25112761],\n",
    "       [25.74331932, 15.63430056, 14.83860792, 14.07189108],\n",
    "       [ 9.98357576,  6.10090721,  5.68664128,  5.48748692],\n",
    "       [12.34604239,  7.78770185,  6.76075998,  6.78498685],\n",
    "       [21.24998531, 12.95180254, 11.9511704 , 11.87319933],\n",
    "       [ 7.80693733,  4.83117128,  4.27443559,  4.39602348],\n",
    "       [16.28983576,  9.66683929,  9.24891886,  9.28970032],\n",
    "       [ 2.50706736,  1.53153206,  1.36060018,  1.43002765],\n",
    "       [ 3.73938645,  2.06006639,  2.31013974,  2.09378969],\n",
    "       [20.2174725 , 11.88622367, 12.05106468, 11.05325362],\n",
    "       [ 9.48660008,  5.53665456,  5.54171966,  5.34966654],\n",
    "       [ 2.65812987,  1.64102742,  1.67392209,  1.25083707]], dtype=torch.float64)\n",
    "\n",
    "\n",
    "QCD_mass = to_tensor(30.)\n",
    "#rate=to_tensor([QCD_rate,QCD_rate]) #Entries: [root node, every other node] decaying rates. Choose same values for a QCD jet\n",
    "jetdir = to_tensor([1.,1.,1.])\n",
    "jetP = to_tensor(400.)\n",
    "jetvec = jetP * jetdir / torch.linalg.norm(jetdir) ## Jetvec is 3-momentum. JetP is relativistic p.\n",
    "\n",
    "\n",
    "# Actual parameters\n",
    "pt_min = to_tensor(0.3**2)\n",
    "M2start = to_tensor(QCD_mass**2)\n",
    "jetM = torch.sqrt(M2start) ## Mass of initial jet\n",
    "jet4vec = torch.cat((torch.sqrt(jetP**2 + jetM**2).reshape(-1), jetvec))\n",
    "minLeaves = 1\n",
    "maxLeaves = 10000 # unachievable, to prevent rejections\n",
    "maxNTry = 100\n",
    "\n",
    "\n",
    "\n",
    "class SimulatorModelDIS(invMass_ginkgo.SimulatorModel, ModelDIS):\n",
    "    def __init__(self, **kwargs):\n",
    "        super().__init__(**kwargs)\n",
    "\n",
    "    def dummy_bernoulli(self, jet):\n",
    "        return True\n",
    "\n",
    "    def forward(self, inputs=None):\n",
    "        assert inputs is None # Modify code if this ever not met?\n",
    "        # Sample parameter of interest from Unif(0,10) prior\n",
    "        root_rate = pyprob.sample(pyprob.distributions.Uniform(0.01, 10.),\n",
    "                                  name=\"decay_rate_parameter\")\n",
    "        decay_rate = pyprob.sample(pyprob.distributions.Uniform(0.01, 10.),\n",
    "                                   name=\"decay_rate_parameter\")\n",
    "        # Simulator code needs two decay rates for (1) root note (2) all others\n",
    "        # For now both are set to the same value\n",
    "        inputs = [root_rate, decay_rate]\n",
    "        jet = super().forward(inputs)\n",
    "        delta_val = self.dummy_bernoulli(jet)\n",
    "        bool_func_dist = pyprob.distributions.Bernoulli(delta_val)\n",
    "        pyprob.observe(bool_func_dist, name = \"dummy\")\n",
    "        return jet\n",
    "\n",
    "# Make instance of the simulator\n",
    "simulatorginkgo = SimulatorModelDIS(jet_p=jet4vec,  # parent particle 4-vector\n",
    "                                    pt_cut=float(pt_min),  # minimum pT for resulting jet\n",
    "                                    Delta_0= M2start,  # parent particle mass squared -> needs tensor\n",
    "                                    M_hard=jetM,  # parent particle mass\n",
    "                                    minLeaves=1,  # minimum number of jet constituents\n",
    "                                    maxLeaves=10000,  # maximum number of jet constituents (a large value to stop expensive simulator runs)\n",
    "                                    suppress_output=True,\n",
    "                                    obs_leaves=obs_leaves,\n",
    "                                    dist_fun=sinkhorn_t)"
   ]
  },
  {
   "cell_type": "markdown",
   "metadata": {
    "pycharm": {
     "name": "#%% md\n"
    }
   },
   "source": [
    "### Load posteriors"
   ]
  },
  {
   "cell_type": "code",
   "execution_count": 3,
   "metadata": {
    "pycharm": {
     "name": "#%%\n"
    }
   },
   "outputs": [],
   "source": [
    "posteriors = []\n",
    "for i in [20,40,69]:\n",
    "    with open(f'network_parallel_23/LSTM_posterior_{i}', 'rb') as f:\n",
    "        posterior = pickle.load(f)\n",
    "        posteriors.append(posterior)"
   ]
  },
  {
   "cell_type": "code",
   "execution_count": 4,
   "metadata": {
    "pycharm": {
     "name": "#%%\n"
    }
   },
   "outputs": [],
   "source": [
    "def posterior_result_weight(posterior):\n",
    "    results = np.array([trace.result['Lambda'].cpu() for trace in posterior])\n",
    "    weights = posterior.weights_numpy()\n",
    "    return (results, weights)"
   ]
  },
  {
   "cell_type": "markdown",
   "metadata": {
    "pycharm": {
     "name": "#%% md\n"
    }
   },
   "source": [
    "# Plot"
   ]
  },
  {
   "cell_type": "code",
   "execution_count": 5,
   "metadata": {
    "pycharm": {
     "name": "#%%\n"
    }
   },
   "outputs": [
    {
     "data": {
      "image/png": "[encoded data removed]",
      "text/plain": [
       "<Figure size 432x288 with 1 Axes>"
      ]
     },
     "metadata": {
      "needs_background": "light"
     },
     "output_type": "display_data"
    },
    {
     "data": {
      "image/png": "[encoded data removed]",
      "text/plain": [
       "<Figure size 432x288 with 1 Axes>"
      ]
     },
     "metadata": {
      "needs_background": "light"
     },
     "output_type": "display_data"
    },
    {
     "data": {
      "image/png": "[encoded data removed]",
      "text/plain": [
       "<Figure size 432x288 with 1 Axes>"
      ]
     },
     "metadata": {
      "needs_background": "light"
     },
     "output_type": "display_data"
    },
    {
     "data": {
      "text/plain": [
       "<Figure size 432x288 with 0 Axes>"
      ]
     },
     "metadata": {},
     "output_type": "display_data"
    }
   ],
   "source": [
    "for posterior in posteriors:\n",
    "    results, weight = posterior_result_weight(posterior)\n",
    "    plt.xlim([0,10])\n",
    "    plt.hist(results, weights=weight, bins=40)\n",
    "    plt.figure()\n"
   ]
  },
  {
   "cell_type": "code",
   "execution_count": 6,
   "metadata": {
    "pycharm": {
     "name": "#%%\n"
    }
   },
   "outputs": [
    {
     "data": {
      "image/png": "[encoded data removed]",
      "text/plain": [
       "<Figure size 432x288 with 1 Axes>"
      ]
     },
     "metadata": {
      "needs_background": "light"
     },
     "output_type": "display_data"
    },
    {
     "data": {
      "image/png": "[encoded data removed]",
      "text/plain": [
       "<Figure size 432x288 with 1 Axes>"
      ]
     },
     "metadata": {
      "needs_background": "light"
     },
     "output_type": "display_data"
    },
    {
     "data": {
      "image/png": "[encoded data removed]",
      "text/plain": [
       "<Figure size 432x288 with 1 Axes>"
      ]
     },
     "metadata": {
      "needs_background": "light"
     },
     "output_type": "display_data"
    },
    {
     "data": {
      "text/plain": [
       "<Figure size 432x288 with 0 Axes>"
      ]
     },
     "metadata": {},
     "output_type": "display_data"
    }
   ],
   "source": [
    "for posterior in posteriors:\n",
    "    results, weight = posterior_result_weight(posterior)\n",
    "    plt.xlim([0,10])\n",
    "    plt.hist(results, density=True, bins=40)\n",
    "    plt.figure()\n"
   ]
  },
  {
   "cell_type": "code",
   "execution_count": 7,
   "metadata": {},
   "outputs": [],
   "source": [
    "def posterior_result_weight_2(posterior):\n",
    "    results = np.array([trace.result['LambdaRoot'].cpu() for trace in posterior])\n",
    "    weights = posterior.weights_numpy()\n",
    "    return (results, weights)"
   ]
  },
  {
   "cell_type": "code",
   "execution_count": 8,
   "metadata": {},
   "outputs": [
    {
     "data": {
      "image/png": "[encoded data removed]",
      "text/plain": [
       "<Figure size 432x288 with 1 Axes>"
      ]
     },
     "metadata": {
      "needs_background": "light"
     },
     "output_type": "display_data"
    },
    {
     "data": {
      "image/png": "[encoded data removed]",
      "text/plain": [
       "<Figure size 432x288 with 1 Axes>"
      ]
     },
     "metadata": {
      "needs_background": "light"
     },
     "output_type": "display_data"
    },
    {
     "data": {
      "image/png": "[encoded data removed]",
      "text/plain": [
       "<Figure size 432x288 with 1 Axes>"
      ]
     },
     "metadata": {
      "needs_background": "light"
     },
     "output_type": "display_data"
    }
   ],
   "source": [
    "for posterior in posteriors:\n",
    "    results, weight = posterior_result_weight_2(posterior)\n",
    "    plt.figure()\n",
    "    plt.hist(results, weights=weight, bins=40)"
   ]
  },
  {
   "cell_type": "code",
   "execution_count": 9,
   "metadata": {},
   "outputs": [
    {
     "data": {
      "image/png": "[encoded data removed]",
      "text/plain": [
       "<Figure size 432x288 with 1 Axes>"
      ]
     },
     "metadata": {
      "needs_background": "light"
     },
     "output_type": "display_data"
    },
    {
     "data": {
      "image/png": "[encoded data removed]",
      "text/plain": [
       "<Figure size 432x288 with 1 Axes>"
      ]
     },
     "metadata": {
      "needs_background": "light"
     },
     "output_type": "display_data"
    },
    {
     "data": {
      "image/png": "[encoded data removed]",
      "text/plain": [
       "<Figure size 432x288 with 1 Axes>"
      ]
     },
     "metadata": {
      "needs_background": "light"
     },
     "output_type": "display_data"
    }
   ],
   "source": [
    "for posterior in posteriors:\n",
    "    results, weight = posterior_result_weight_2(posterior)\n",
    "    plt.figure()\n",
    "    plt.hist(results, bins=40)"
   ]
  },
  {
   "cell_type": "code",
   "execution_count": 16,
   "metadata": {},
   "outputs": [],
   "source": [
    "with open(f'network_parallel_15/LSTM_posterior_16', 'rb') as f:\n",
    "    posterior = pickle.load(f)\n",
    "    posteriors.append(posterior)"
   ]
  },
  {
   "cell_type": "code",
   "execution_count": 20,
   "metadata": {},
   "outputs": [
    {
     "data": {
      "image/png": "[encoded data removed]",
      "text/plain": [
       "<Figure size 432x288 with 1 Axes>"
      ]
     },
     "metadata": {
      "needs_background": "light"
     },
     "output_type": "display_data"
    }
   ],
   "source": [
    "results, weight = posterior_result_weight(posterior)\n",
    "plt.figure()\n",
    "plt.hist(results, weights=weight, bins=20)\n",
    "plt.show()"
   ]
  },
  {
   "cell_type": "code",
   "execution_count": 21,
   "metadata": {},
   "outputs": [
    {
     "data": {
      "image/png": "[encoded data removed]",
      "text/plain": [
       "<Figure size 432x288 with 1 Axes>"
      ]
     },
     "metadata": {
      "needs_background": "light"
     },
     "output_type": "display_data"
    }
   ],
   "source": [
    "results, weight = posterior_result_weight_2(posterior)\n",
    "plt.figure()\n",
    "plt.hist(results, weights=weight, bins=20)\n",
    "plt.show()"
   ]
  },
  {
   "cell_type": "markdown",
   "metadata": {
    "pycharm": {
     "name": "#%% md\n"
    }
   },
   "source": [
    "## Profiling"
   ]
  },
  {
   "cell_type": "code",
   "execution_count": 2,
   "metadata": {
    "pycharm": {
     "name": "#%%\n"
    }
   },
   "outputs": [],
   "source": [
    "import pstats\n",
    "from pstats import SortKey"
   ]
  },
  {
   "cell_type": "code",
   "execution_count": 25,
   "metadata": {
    "pycharm": {
     "name": "#%%\n"
    }
   },
   "outputs": [
    {
     "name": "stdout",
     "output_type": "stream",
     "text": [
      "Mon May 23 15:33:33 2022    cprofile_output_1\n",
      "\n",
      "         1685687838 function calls (1672237587 primitive calls) in 25404.345 seconds\n",
      "\n",
      "   Ordered by: cumulative time\n",
      "   List reduced from 643 to 50 due to restriction <50>\n",
      "\n",
      "   ncalls  tottime  percall  cumtime  percall filename:lineno(function)\n",
      "      2/1    0.000    0.000 25404.345 25404.345 {built-in method builtins.exec}\n",
      "        1    0.000    0.000 25404.345 25404.345 <string>:1(<module>)\n",
      "        1    8.232    8.232 25404.345 25404.345 dis.py:134(train)\n",
      "        1    0.000    0.000 25396.113 25396.113 model.py:348(learn_inference_network)\n",
      "        1  295.611  295.611 23476.150 23476.150 inference_network.py:381(optimize)\n",
      "       64  197.617    3.088 13840.020  216.250 inference_network_lstm.py:140(_loss)\n",
      "       64    0.005    0.000 9182.299  143.473 _tensor.py:307(backward)\n",
      "       64    0.003    0.000 9182.294  143.473 __init__.py:85(backward)\n",
      "       64 9182.287  143.473 9182.287  143.473 {method 'run_backward' of 'torch._C._EngineBase' objects}\n",
      "   835095  175.840    0.000 8315.587    0.010 proposal_uniform_truncated_normal_mixture.py:18(forward)\n",
      "   835095  277.562    0.000 7329.410    0.009 proposal_uniform_truncated_normal_mixture.py:35(<listcomp>)\n",
      "  8350950 1008.784    0.000 6928.240    0.001 truncated_normal.py:11(__init__)\n",
      "   835095   29.301    0.000 4926.052    0.006 mixture.py:38(log_prob)\n",
      "   835095   43.807    0.000 4698.480    0.006 mixture.py:44(<listcomp>)\n",
      "  8350950  680.449    0.000 4593.426    0.001 truncated_normal.py:40(log_prob)\n",
      " 16701900   19.638    0.000 3575.988    0.000 normal.py:24(cdf)\n",
      " 16701900 1707.454    0.000 3556.350    0.000 normal.py:79(cdf)\n",
      "  9199681   39.154    0.000 2340.251    0.000 distribution.py:38(log_prob)\n",
      " 25901581  912.014    0.000 2098.855    0.000 distribution.py:248(_validate_sample)\n",
      "  8350950  947.714    0.000 2046.651    0.000 normal.py:71(log_prob)\n",
      "        1    0.000    0.000 1919.960 1919.960 dataset.py:88(__init__)\n",
      "        1    0.000    0.000 1783.394 1783.394 model.py:107(_dis_traces)\n",
      "        1    0.626    0.626 1783.393 1783.393 model.py:197(_traces)\n",
      "     8256    0.014    0.000 1779.632    0.216 {built-in method builtins.next}\n",
      "     8193    0.072    0.000 1779.589    0.217 model.py:98(_trace_generator)\n",
      "     8192    0.648    0.000 1738.033    0.212 ginkgo_parallel_2.py:135(forward)\n",
      "     8192    0.597    0.000 1719.423    0.210 invMass_ginkgo.py:409(forward)\n",
      "     8192    0.115    0.000 1700.839    0.208 invMass_ginkgo.py:140(_traverse)\n",
      "420216/8192  114.995    0.000 1700.723    0.208 invMass_ginkgo.py:189(_traverse_rec)\n",
      "  8350950   49.734    0.000 1632.597    0.000 normal.py:8(__init__)\n",
      "  8350950   61.124    0.000 1520.231    0.000 normal.py:44(__init__)\n",
      "  9659811  387.461    0.000 1414.854    0.000 distribution.py:34(__init__)\n",
      " 43900357 1251.674    0.000 1251.674    0.000 {method 'all' of 'torch._C._TensorBase' objects}\n",
      " 10435027  410.850    0.000 1129.010    0.000 util.py:230(has_nan_or_inf)\n",
      "   840539   18.920    0.000  668.123    0.001 state.py:178(sample)\n",
      " 93982713  132.958    0.000  629.563    0.000 util.py:113(to_tensor)\n",
      " 33408198  503.995    0.000  503.995    0.000 constraints.py:307(check)\n",
      "4216057/1694576   16.879    0.000  499.493    0.000 module.py:1104(_call_impl)\n",
      "   618036    1.391    0.000  431.709    0.001 _tensor.py:301(__repr__)\n",
      "   618036    3.387    0.000  430.124    0.001 _tensor_str.py:432(_str)\n",
      "   835095   34.236    0.000  423.389    0.001 mixture.py:8(__init__)\n",
      "   618036   24.480    0.000  417.640    0.001 _tensor_str.py:300(_str_intern)\n",
      " 93978287  399.647    0.000  399.647    0.000 {method 'to' of 'torch._C._TensorBase' objects}\n",
      "   618036    7.907    0.000  383.138    0.001 _tensor_str.py:233(_tensor_str)\n",
      " 17769230   32.700    0.000  357.800    0.000 _tensor.py:26(wrapped)\n",
      "   618036  125.674    0.000  349.721    0.001 _tensor_str.py:85(__init__)\n",
      " 10422438  347.241    0.000  347.241    0.000 {built-in method isinf}\n",
      "  1678288   39.352    0.000  338.051    0.000 embedding_feedforward.py:35(forward)\n",
      "   835095   10.707    0.000  315.051    0.000 categorical.py:8(__init__)\n",
      " 19223620  313.304    0.000  313.304    0.000 {method 'type_as' of 'torch._C._TensorBase' objects}\n",
      "\n",
      "\n"
     ]
    },
    {
     "data": {
      "text/plain": [
       "<pstats.Stats at 0x7f1d9c9326d0>"
      ]
     },
     "execution_count": 25,
     "metadata": {},
     "output_type": "execute_result"
    }
   ],
   "source": [
    "p = pstats.Stats('cprofile_output_1')\n",
    "p.strip_dirs().sort_stats(SortKey.CUMULATIVE).print_stats(50)"
   ]
  },
  {
   "cell_type": "code",
   "execution_count": 26,
   "metadata": {
    "pycharm": {
     "name": "#%%\n"
    }
   },
   "outputs": [
    {
     "name": "stdout",
     "output_type": "stream",
     "text": [
      "Mon May 23 15:33:33 2022    cprofile_output_1\n",
      "\n",
      "         1685687838 function calls (1672237587 primitive calls) in 25404.345 seconds\n",
      "\n",
      "   Ordered by: internal time\n",
      "   List reduced from 643 to 50 due to restriction <50>\n",
      "\n",
      "   ncalls  tottime  percall  cumtime  percall filename:lineno(function)\n",
      "       64 9182.287  143.473 9182.287  143.473 {method 'run_backward' of 'torch._C._EngineBase' objects}\n",
      " 16701900 1707.454    0.000 3556.350    0.000 normal.py:79(cdf)\n",
      " 43900357 1251.674    0.000 1251.674    0.000 {method 'all' of 'torch._C._TensorBase' objects}\n",
      "  8350950 1008.784    0.000 6928.240    0.001 truncated_normal.py:11(__init__)\n",
      "  8350950  947.714    0.000 2046.651    0.000 normal.py:71(log_prob)\n",
      " 25901581  912.014    0.000 2098.855    0.000 distribution.py:248(_validate_sample)\n",
      "  8350950  680.449    0.000 4593.426    0.001 truncated_normal.py:40(log_prob)\n",
      " 33408198  503.995    0.000  503.995    0.000 constraints.py:307(check)\n",
      " 10435027  410.850    0.000 1129.010    0.000 util.py:230(has_nan_or_inf)\n",
      " 93978287  399.647    0.000  399.647    0.000 {method 'to' of 'torch._C._TensorBase' objects}\n",
      "  9659811  387.461    0.000 1414.854    0.000 distribution.py:34(__init__)\n",
      " 10422438  347.241    0.000  347.241    0.000 {built-in method isinf}\n",
      " 19223620  313.304    0.000  313.304    0.000 {method 'type_as' of 'torch._C._TensorBase' objects}\n",
      " 17324438  308.099    0.000  308.099    0.000 {method 'pow' of 'torch._C._TensorBase' objects}\n",
      " 21099826  297.707    0.000  297.707    0.000 {built-in method log}\n",
      "        1  295.611  295.611 23476.150 23476.150 inference_network.py:381(optimize)\n",
      " 13803882  283.451    0.000  283.451    0.000 {built-in method sum}\n",
      "   835095  277.562    0.000 7329.410    0.009 proposal_uniform_truncated_normal_mixture.py:35(<listcomp>)\n",
      " 16701900  249.624    0.000  249.624    0.000 {built-in method erf}\n",
      " 30330967  213.573    0.000  213.573    0.000 {method 'view' of 'torch._C._TensorBase' objects}\n",
      "  5059622  208.366    0.000  208.366    0.000 {built-in method stack}\n",
      "  8367334  199.119    0.000  199.119    0.000 constraints.py:319(check)\n",
      " 16706297  197.812    0.000  197.812    0.000 {method 'reciprocal' of 'torch._C._TensorBase' objects}\n",
      "       64  197.617    3.088 13840.020  216.250 inference_network_lstm.py:140(_loss)\n",
      "  8477640  184.551    0.000  184.551    0.000 {built-in method zeros_like}\n",
      "   835095  175.840    0.000 8315.587    0.010 proposal_uniform_truncated_normal_mixture.py:18(forward)\n",
      "  2521481  148.212    0.000  148.212    0.000 {built-in method torch._C._nn.linear}\n",
      "  9175212  146.270    0.000  146.270    0.000 {method 'ge' of 'torch._C._TensorBase' objects}\n",
      " 10422438  140.240    0.000  140.240    0.000 {built-in method isnan}\n",
      " 10427882  136.343    0.000  136.343    0.000 {method 'mul' of 'torch._C._TensorBase' objects}\n",
      " 17443822  133.143    0.000  133.143    0.000 {method 'squeeze' of 'torch._C._TensorBase' objects}\n",
      " 93982713  132.958    0.000  629.563    0.000 util.py:113(to_tensor)\n",
      "   618036  125.674    0.000  349.721    0.001 _tensor_str.py:85(__init__)\n",
      "  8351014  115.853    0.000  115.853    0.000 {built-in method ones_like}\n",
      "420216/8192  114.995    0.000 1700.723    0.208 invMass_ginkgo.py:189(_traverse_rec)\n",
      "  9191489  108.003    0.000  108.003    0.000 {method 'le' of 'torch._C._TensorBase' objects}\n",
      "   835095  105.139    0.000  105.139    0.000 {built-in method logsumexp}\n",
      "   412024  104.827    0.000  160.029    0.000 invMass_ginkgo.py:354(labEP)\n",
      "  8779461  100.884    0.000  100.884    0.000 {method 'log' of 'torch._C._TensorBase' objects}\n",
      "109578036   85.937    0.000   85.937    0.000 {method 'size' of 'torch._C._TensorBase' objects}\n",
      "   835095   81.342    0.000  134.938    0.000 constraints.py:405(check)\n",
      "207726857   64.436    0.000  100.327    0.000 {built-in method builtins.isinstance}\n",
      "  8828510   63.870    0.000  134.620    0.000 functional.py:46(broadcast_tensors)\n",
      "  8350950   61.124    0.000 1520.231    0.000 normal.py:44(__init__)\n",
      "  2591582   59.952    0.000   59.952    0.000 {method 'sum' of 'torch._C._TensorBase' objects}\n",
      "104409548   55.093    0.000   76.423    0.000 __init__.py:273(is_tensor)\n",
      "  8828510   54.687    0.000   54.687    0.000 {built-in method broadcast_tensors}\n",
      "     8193   54.641    0.007   54.641    0.007 {built-in method multinomial}\n",
      "   618036   51.308    0.000   51.308    0.000 {built-in method masked_select}\n",
      "   519002   50.321    0.000   50.321    0.000 {method 'logsumexp' of 'torch._C._TensorBase' objects}\n",
      "\n",
      "\n"
     ]
    },
    {
     "data": {
      "text/plain": [
       "<pstats.Stats at 0x7f1d9c9326d0>"
      ]
     },
     "execution_count": 26,
     "metadata": {},
     "output_type": "execute_result"
    }
   ],
   "source": [
    "p.strip_dirs().sort_stats(SortKey.TIME).print_stats(50)"
   ]
  },
  {
   "cell_type": "code",
   "execution_count": 5,
   "metadata": {
    "pycharm": {
     "name": "#%%\n"
    }
   },
   "outputs": [
    {
     "name": "stdout",
     "output_type": "stream",
     "text": [
      "Thu May 26 04:30:27 2022    cprofile_output_8\n",
      "\n",
      "         1578253060 function calls (1568408009 primitive calls) in 16840.166 seconds\n",
      "\n",
      "   Ordered by: cumulative time\n",
      "   List reduced from 456 to 100 due to restriction <100>\n",
      "\n",
      "   ncalls  tottime  percall  cumtime  percall filename:lineno(function)\n",
      "        1    0.012    0.012 16840.166 16840.166 {built-in method builtins.exec}\n",
      "        1    0.000    0.000 16840.153 16840.153 <string>:1(<module>)\n",
      "        1    7.900    7.900 16840.153 16840.153 dis.py:134(train)\n",
      "        1    0.000    0.000 16832.253 16832.253 model.py:348(learn_inference_network)\n",
      "        1    0.000    0.000 16179.417 16179.417 dataset.py:88(__init__)\n",
      "        1    0.000    0.000 16048.981 16048.981 model.py:107(_dis_traces)\n",
      "        1    0.911    0.911 16048.981 16048.981 model.py:197(_traces)\n",
      "     8256    0.021    0.000 16043.305    1.943 {built-in method builtins.next}\n",
      "     8193    0.095    0.000 16043.258    1.958 model.py:98(_trace_generator)\n",
      "     8192    9.435    0.001 16016.927    1.955 ginkgo_parallel_2.py:135(forward)\n",
      "     8192    0.668    0.000 15596.454    1.904 invMass_ginkgo.py:409(forward)\n",
      "     8192    0.176    0.000 15579.739    1.902 invMass_ginkgo.py:140(_traverse)\n",
      "316606/8192  420.958    0.001 15579.563    1.902 invMass_ginkgo.py:189(_traverse_rec)\n",
      "   633241  140.115    0.000 14875.257    0.023 state.py:178(sample)\n",
      "   633241   47.439    0.000 6498.218    0.010 inference_network_lstm.py:86(_infer_step)\n",
      "   649853  127.385    0.000 6171.889    0.009 proposal_uniform_truncated_normal_mixture.py:18(forward)\n",
      "   649853  201.114    0.000 5408.195    0.008 proposal_uniform_truncated_normal_mixture.py:35(<listcomp>)\n",
      "  6498530  771.750    0.000 5116.117    0.001 truncated_normal.py:11(__init__)\n",
      "   633241   67.308    0.000 4159.792    0.007 mixture.py:47(sample)\n",
      "  6332410  855.648    0.000 3956.066    0.001 truncated_normal.py:94(sample)\n",
      "   649853   24.860    0.000 3751.196    0.006 mixture.py:38(log_prob)\n",
      "   649853   35.594    0.000 3547.375    0.005 mixture.py:44(<listcomp>)\n",
      "  6498530  506.566    0.000 3466.250    0.001 truncated_normal.py:40(log_prob)\n",
      " 12997060   16.624    0.000 2543.976    0.000 normal.py:24(cdf)\n",
      " 12997060 1302.810    0.000 2527.352    0.000 normal.py:79(cdf)\n",
      " 20771271  781.002    0.000 2117.752    0.000 util.py:230(has_nan_or_inf)\n",
      "  7139963   33.748    0.000 1787.977    0.000 distribution.py:38(log_prob)\n",
      "  6498530  717.349    0.000 1566.451    0.000 normal.py:71(log_prob)\n",
      " 20137023  533.778    0.000 1427.188    0.000 distribution.py:248(_validate_sample)\n",
      "  6498530   36.584    0.000 1260.985    0.000 normal.py:8(__init__)\n",
      "  6498530   49.861    0.000 1172.853    0.000 normal.py:44(__init__)\n",
      "  7522334  303.913    0.000 1085.634    0.000 distribution.py:34(__init__)\n",
      " 34149697  944.207    0.000  944.207    0.000 {method 'all' of 'torch._C._TensorBase' objects}\n",
      " 87307056  136.205    0.000  913.414    0.000 util.py:113(to_tensor)\n",
      "  6332410   11.122    0.000  700.138    0.000 normal.py:27(icdf)\n",
      "  6332410  583.526    0.000  689.017    0.000 normal.py:84(icdf)\n",
      "3875135/1933357   17.935    0.000  676.000    0.000 module.py:1104(_call_impl)\n",
      " 20754887  658.090    0.000  658.090    0.000 {built-in method isinf}\n",
      " 87307718  657.456    0.000  657.456    0.000 {method 'to' of 'torch._C._TensorBase' objects}\n",
      "        1   10.626   10.626  652.592  652.592 inference_network.py:381(optimize)\n",
      " 29353012  539.402    0.000  539.402    0.000 {built-in method sum}\n",
      " 26944746  423.027    0.000  423.027    0.000 {method 'type_as' of 'torch._C._TensorBase' objects}\n",
      " 26002313  376.008    0.000  376.008    0.000 constraints.py:307(check)\n",
      "   649853   26.041    0.000  327.658    0.001 mixture.py:8(__init__)\n",
      "   462621    1.445    0.000  321.190    0.001 _tensor.py:301(__repr__)\n",
      "   462621    3.029    0.000  319.595    0.001 _tensor_str.py:432(_str)\n",
      "   462621   20.184    0.000  308.900    0.001 _tensor_str.py:300(_str_intern)\n",
      "       64   10.979    0.172  304.049    4.751 inference_network_lstm.py:140(_loss)\n",
      "       64    0.003    0.000  292.174    4.565 _tensor.py:307(backward)\n",
      "       64    0.002    0.000  292.171    4.565 __init__.py:85(backward)\n",
      "       64  292.167    4.565  292.167    4.565 {method 'run_backward' of 'torch._C._EngineBase' objects}\n",
      "   462621    6.771    0.000  280.421    0.001 _tensor_str.py:233(_tensor_str)\n",
      "  1291720   33.949    0.000  277.974    0.000 embedding_feedforward.py:35(forward)\n",
      " 13809060   26.321    0.000  272.486    0.000 _tensor.py:26(wrapped)\n",
      " 20754887  271.989    0.000  271.989    0.000 {built-in method isnan}\n",
      "   462621   93.198    0.000  253.488    0.001 _tensor_str.py:85(__init__)\n",
      "   633445   12.732    0.000  252.961    0.000 rnn.py:713(forward)\n",
      "   649853    8.585    0.000  245.247    0.000 categorical.py:8(__init__)\n",
      " 13467878  231.542    0.000  231.542    0.000 {method 'pow' of 'torch._C._TensorBase' objects}\n",
      "   633445  225.134    0.000  225.134    0.000 {built-in method lstm}\n",
      " 15733839  207.786    0.000  207.786    0.000 {built-in method log}\n",
      "   658046   19.029    0.000  190.334    0.000 categorical.py:49(__init__)\n",
      " 12997060  185.184    0.000  185.184    0.000 {built-in method erf}\n",
      " 13139383  184.763    0.000  184.763    0.000 {method 'ge' of 'torch._C._TensorBase' objects}\n",
      "  6872480   33.546    0.000  180.273    0.000 utils.py:11(broadcast_all)\n",
      " 23785192  158.697    0.000  158.697    0.000 {method 'view' of 'torch._C._TensorBase' objects}\n",
      " 13464181  154.035    0.000  154.035    0.000 {method 'mul' of 'torch._C._TensorBase' objects}\n",
      "  6514914  151.850    0.000  151.850    0.000 constraints.py:319(check)\n",
      " 13005252  150.325    0.000  150.325    0.000 {method 'reciprocal' of 'torch._C._TensorBase' objects}\n",
      " 19502893  145.125    0.000  145.125    0.000 {method 'squeeze' of 'torch._C._TensorBase' objects}\n",
      "  1941778    6.467    0.000  140.029    0.000 linear.py:102(forward)\n",
      "1696278/1233657    4.984    0.000  135.226    0.000 _tensor.py:623(__format__)\n",
      "  6498530  134.945    0.000  134.945    0.000 {built-in method zeros_like}\n",
      "   308443   16.269    0.000  134.517    0.000 truncated_exponential.py:25(log_prob)\n",
      "  1941778  130.673    0.000  130.673    0.000 {built-in method torch._C._nn.linear}\n",
      "        1    0.038    0.038  130.436  130.436 dis.py:99(update_DIS_weights)\n",
      "        1    0.319    0.319  130.247  130.247 dis.py:108(<listcomp>)\n",
      "     8192    0.047    0.000  129.928    0.016 dis.py:104(distance)\n",
      "     8192    0.042    0.000  129.516    0.016 ginkgo_parallel_2.py:32(sinkhorn_t)\n",
      "     8192    0.270    0.000  128.624    0.016 samples_loss.py:210(forward)\n",
      "     8192    0.206    0.000  126.828    0.015 sinkhorn_samples.py:37(sinkhorn_tensorized)\n",
      "     8192   32.264    0.004  113.135    0.014 sinkhorn_divergence.py:152(sinkhorn_loop)\n",
      "   154207    0.265    0.000  111.623    0.001 {function Tensor.__format__ at 0x7f7476bf9670}\n",
      "  2040559  109.904    0.000  109.904    0.000 {built-in method stack}\n",
      "   308414   69.163    0.000  107.794    0.000 invMass_ginkgo.py:354(labEP)\n",
      "   649853   63.562    0.000  104.358    0.000 constraints.py:405(check)\n",
      "  6872480   47.955    0.000  103.733    0.000 functional.py:46(broadcast_tensors)\n",
      "  6332410   97.936    0.000   97.936    0.000 {built-in method erfinv}\n",
      " 12706993   93.749    0.000   93.749    0.000 {built-in method zeros}\n",
      "190470331   61.297    0.000   91.216    0.000 {built-in method builtins.isinstance}\n",
      "108070135   60.780    0.000   85.589    0.000 __init__.py:273(is_tensor)\n",
      "   649853   84.845    0.000   84.845    0.000 {built-in method logsumexp}\n",
      "  6498594   82.969    0.000   82.969    0.000 {built-in method ones_like}\n",
      "   324798   13.494    0.000   82.815    0.000 uniform.py:71(log_prob)\n",
      "   324798    3.982    0.000   81.947    0.000 uniform.py:8(__init__)\n",
      "   503476   29.335    0.000   80.620    0.000 sinkhorn_samples.py:32(softmin_tensorized)\n",
      "  7131771   79.938    0.000   79.938    0.000 {method 'le' of 'torch._C._TensorBase' objects}\n",
      "  6823357   77.559    0.000   77.559    0.000 {method 'log' of 'torch._C._TensorBase' objects}\n",
      " 94995429   71.619    0.000   71.619    0.000 {method 'size' of 'torch._C._TensorBase' objects}\n",
      "  6332410   71.456    0.000   71.456    0.000 {method 'lt' of 'torch._C._TensorBase' objects}\n",
      "\n",
      "\n"
     ]
    },
    {
     "data": {
      "text/plain": [
       "<pstats.Stats at 0x7f93e82ae760>"
      ]
     },
     "execution_count": 5,
     "metadata": {},
     "output_type": "execute_result"
    }
   ],
   "source": [
    "p2 = pstats.Stats('cprofile_output_8')\n",
    "p2.strip_dirs().sort_stats(SortKey.CUMULATIVE).print_stats(100)"
   ]
  },
  {
   "cell_type": "code",
   "execution_count": 4,
   "metadata": {
    "pycharm": {
     "name": "#%%\n"
    }
   },
   "outputs": [
    {
     "name": "stdout",
     "output_type": "stream",
     "text": [
      "Thu May 26 04:30:27 2022    cprofile_output_8\n",
      "\n",
      "         1578253060 function calls (1568408009 primitive calls) in 16840.166 seconds\n",
      "\n",
      "   Ordered by: internal time\n",
      "   List reduced from 456 to 50 due to restriction <50>\n",
      "\n",
      "   ncalls  tottime  percall  cumtime  percall filename:lineno(function)\n",
      " 12997060 1302.810    0.000 2527.352    0.000 normal.py:79(cdf)\n",
      " 34149697  944.207    0.000  944.207    0.000 {method 'all' of 'torch._C._TensorBase' objects}\n",
      "  6332410  855.648    0.000 3956.066    0.001 truncated_normal.py:94(sample)\n",
      " 20771271  781.002    0.000 2117.752    0.000 util.py:230(has_nan_or_inf)\n",
      "  6498530  771.750    0.000 5116.117    0.001 truncated_normal.py:11(__init__)\n",
      "  6498530  717.349    0.000 1566.451    0.000 normal.py:71(log_prob)\n",
      " 20754887  658.090    0.000  658.090    0.000 {built-in method isinf}\n",
      " 87307718  657.456    0.000  657.456    0.000 {method 'to' of 'torch._C._TensorBase' objects}\n",
      "  6332410  583.526    0.000  689.017    0.000 normal.py:84(icdf)\n",
      " 29353012  539.402    0.000  539.402    0.000 {built-in method sum}\n",
      " 20137023  533.778    0.000 1427.188    0.000 distribution.py:248(_validate_sample)\n",
      "  6498530  506.566    0.000 3466.250    0.001 truncated_normal.py:40(log_prob)\n",
      " 26944746  423.027    0.000  423.027    0.000 {method 'type_as' of 'torch._C._TensorBase' objects}\n",
      "316606/8192  420.958    0.001 15579.563    1.902 invMass_ginkgo.py:189(_traverse_rec)\n",
      " 26002313  376.008    0.000  376.008    0.000 constraints.py:307(check)\n",
      "  7522334  303.913    0.000 1085.634    0.000 distribution.py:34(__init__)\n",
      "       64  292.167    4.565  292.167    4.565 {method 'run_backward' of 'torch._C._EngineBase' objects}\n",
      " 20754887  271.989    0.000  271.989    0.000 {built-in method isnan}\n",
      " 13467878  231.542    0.000  231.542    0.000 {method 'pow' of 'torch._C._TensorBase' objects}\n",
      "   633445  225.134    0.000  225.134    0.000 {built-in method lstm}\n",
      " 15733839  207.786    0.000  207.786    0.000 {built-in method log}\n",
      "   649853  201.114    0.000 5408.195    0.008 proposal_uniform_truncated_normal_mixture.py:35(<listcomp>)\n",
      " 12997060  185.184    0.000  185.184    0.000 {built-in method erf}\n",
      " 13139383  184.763    0.000  184.763    0.000 {method 'ge' of 'torch._C._TensorBase' objects}\n",
      " 23785192  158.697    0.000  158.697    0.000 {method 'view' of 'torch._C._TensorBase' objects}\n",
      " 13464181  154.035    0.000  154.035    0.000 {method 'mul' of 'torch._C._TensorBase' objects}\n",
      "  6514914  151.850    0.000  151.850    0.000 constraints.py:319(check)\n",
      " 13005252  150.325    0.000  150.325    0.000 {method 'reciprocal' of 'torch._C._TensorBase' objects}\n",
      " 19502893  145.125    0.000  145.125    0.000 {method 'squeeze' of 'torch._C._TensorBase' objects}\n",
      "   633241  140.115    0.000 14875.257    0.023 state.py:178(sample)\n",
      " 87307056  136.205    0.000  913.414    0.000 util.py:113(to_tensor)\n",
      "  6498530  134.945    0.000  134.945    0.000 {built-in method zeros_like}\n",
      "  1941778  130.673    0.000  130.673    0.000 {built-in method torch._C._nn.linear}\n",
      "   649853  127.385    0.000 6171.889    0.009 proposal_uniform_truncated_normal_mixture.py:18(forward)\n",
      "  2040559  109.904    0.000  109.904    0.000 {built-in method stack}\n",
      "  6332410   97.936    0.000   97.936    0.000 {built-in method erfinv}\n",
      " 12706993   93.749    0.000   93.749    0.000 {built-in method zeros}\n",
      "   462621   93.198    0.000  253.488    0.001 _tensor_str.py:85(__init__)\n",
      "   649853   84.845    0.000   84.845    0.000 {built-in method logsumexp}\n",
      "  6498594   82.969    0.000   82.969    0.000 {built-in method ones_like}\n",
      "  7131771   79.938    0.000   79.938    0.000 {method 'le' of 'torch._C._TensorBase' objects}\n",
      "  6823357   77.559    0.000   77.559    0.000 {method 'log' of 'torch._C._TensorBase' objects}\n",
      " 94995429   71.619    0.000   71.619    0.000 {method 'size' of 'torch._C._TensorBase' objects}\n",
      "  6332410   71.456    0.000   71.456    0.000 {method 'lt' of 'torch._C._TensorBase' objects}\n",
      "   308414   69.163    0.000  107.794    0.000 invMass_ginkgo.py:354(labEP)\n",
      "   633241   67.308    0.000 4159.792    0.007 mixture.py:47(sample)\n",
      "   649853   63.562    0.000  104.358    0.000 constraints.py:405(check)\n",
      "190470331   61.297    0.000   91.216    0.000 {built-in method builtins.isinstance}\n",
      "108070135   60.780    0.000   85.589    0.000 __init__.py:273(is_tensor)\n",
      "  2322799   56.351    0.000   56.351    0.000 {built-in method tensor}\n",
      "\n",
      "\n"
     ]
    },
    {
     "data": {
      "text/plain": [
       "<pstats.Stats at 0x7f93e838deb0>"
      ]
     },
     "execution_count": 4,
     "metadata": {},
     "output_type": "execute_result"
    }
   ],
   "source": [
    "p2.strip_dirs().sort_stats(SortKey.TIME).print_stats(50)"
   ]
  },
  {
   "cell_type": "markdown",
   "metadata": {
    "pycharm": {
     "name": "#%% md\n"
    }
   },
   "source": [
    "# Dataset test"
   ]
  },
  {
   "cell_type": "code",
   "execution_count": 30,
   "metadata": {
    "pycharm": {
     "name": "#%%\n"
    }
   },
   "outputs": [],
   "source": [
    "simulatorginkgoprior = SimulatorModelDIS(jet_p=jet4vec,  # parent particle 4-vector\n",
    "                                    pt_cut=float(pt_min),  # minimum pT for resulting jet\n",
    "                                    Delta_0= M2start,  # parent particle mass squared -> needs tensor\n",
    "                                    M_hard=jetM,  # parent particle mass\n",
    "                                    minLeaves=1,  # minimum number of jet constituents\n",
    "                                    maxLeaves=10000,  # maximum number of jet constituents (a large value to stop expensive simulator runs)\n",
    "                                    suppress_output=True,\n",
    "                                    obs_leaves=obs_leaves,\n",
    "                                    dist_fun=sinkhorn_t)"
   ]
  },
  {
   "cell_type": "code",
   "execution_count": 49,
   "metadata": {
    "pycharm": {
     "name": "#%%\n"
    }
   },
   "outputs": [
    {
     "name": "stdout",
     "output_type": "stream",
     "text": [
      "Time spent  | Time remain.| Progress             | Trace     | ESS    | Traces/sec\n",
      "0d:00:01:44 | 0d:00:00:00 | #################### | 1000/1000 | 1000.00 | 9.58       \r\n"
     ]
    }
   ],
   "source": [
    "dataset = OnlineDataset(simulatorginkgoprior,length=1000, inference_engine = InferenceEngine.DISTILLING_IMPORTANCE_SAMPLING, inference_network = None, importance_sample_size = 1000, num_workers=1, ess_target = 500)"
   ]
  },
  {
   "cell_type": "code",
   "execution_count": 50,
   "metadata": {
    "pycharm": {
     "name": "#%%\n"
    }
   },
   "outputs": [],
   "source": [
    "results = []\n",
    "log_weights = []\n",
    "for i in range(1000):\n",
    "    trace = dataset[i]\n",
    "    results.append(trace.result['Lambda'].detach().numpy())\n",
    "    log_weights.append(trace.log_importance_weight)"
   ]
  },
  {
   "cell_type": "code",
   "execution_count": 82,
   "metadata": {
    "pycharm": {
     "name": "#%%\n"
    }
   },
   "outputs": [
    {
     "name": "stdout",
     "output_type": "stream",
     "text": [
      "Time spent  | Time remain.| Progress             | Trace     | ESS    | Traces/sec\n",
      "0d:00:01:43 | 0d:00:00:00 | #################### | 1000/1000 | 1000.00 | 9.62       \r\n"
     ]
    }
   ],
   "source": [
    "traces= simulatorginkgoprior._dis_traces(\n",
    "                num_traces=1000,\n",
    "                inference_engine=InferenceEngine.DISTILLING_IMPORTANCE_SAMPLING,\n",
    "                observe={\"dummy\": 1},\n",
    "                num_workers = 4)"
   ]
  },
  {
   "cell_type": "code",
   "execution_count": 83,
   "metadata": {
    "pycharm": {
     "name": "#%%\n"
    }
   },
   "outputs": [
    {
     "data": {
      "text/plain": [
       "tensor([-6.9078, -6.9078, -6.9078, -6.9078, -6.9078, -6.9078, -6.9078, -6.9078,\n",
       "        -6.9078, -6.9078, -6.9078, -6.9078, -6.9078, -6.9078, -6.9078, -6.9078,\n",
       "        -6.9078, -6.9078, -6.9078, -6.9078, -6.9078, -6.9078, -6.9078, -6.9078,\n",
       "        -6.9078, -6.9078, -6.9078, -6.9078, -6.9078, -6.9078, -6.9078, -6.9078,\n",
       "        -6.9078, -6.9078, -6.9078, -6.9078, -6.9078, -6.9078, -6.9078, -6.9078,\n",
       "        -6.9078, -6.9078, -6.9078, -6.9078, -6.9078, -6.9078, -6.9078, -6.9078,\n",
       "        -6.9078, -6.9078, -6.9078, -6.9078, -6.9078, -6.9078, -6.9078, -6.9078,\n",
       "        -6.9078, -6.9078, -6.9078, -6.9078, -6.9078, -6.9078, -6.9078, -6.9078,\n",
       "        -6.9078, -6.9078, -6.9078, -6.9078, -6.9078, -6.9078, -6.9078, -6.9078,\n",
       "        -6.9078, -6.9078, -6.9078, -6.9078, -6.9078, -6.9078, -6.9078, -6.9078,\n",
       "        -6.9078, -6.9078, -6.9078, -6.9078, -6.9078, -6.9078, -6.9078, -6.9078,\n",
       "        -6.9078, -6.9078, -6.9078, -6.9078, -6.9078, -6.9078, -6.9078, -6.9078,\n",
       "        -6.9078, -6.9078, -6.9078, -6.9078, -6.9078, -6.9078, -6.9078, -6.9078,\n",
       "        -6.9078, -6.9078, -6.9078, -6.9078, -6.9078, -6.9078, -6.9078, -6.9078,\n",
       "        -6.9078, -6.9078, -6.9078, -6.9078, -6.9078, -6.9078, -6.9078, -6.9078,\n",
       "        -6.9078, -6.9078, -6.9078, -6.9078, -6.9078, -6.9078, -6.9078, -6.9078,\n",
       "        -6.9078, -6.9078, -6.9078, -6.9078, -6.9078, -6.9078, -6.9078, -6.9078,\n",
       "        -6.9078, -6.9078, -6.9078, -6.9078, -6.9078, -6.9078, -6.9078, -6.9078,\n",
       "        -6.9078, -6.9078, -6.9078, -6.9078, -6.9078, -6.9078, -6.9078, -6.9078,\n",
       "        -6.9078, -6.9078, -6.9078, -6.9078, -6.9078, -6.9078, -6.9078, -6.9078,\n",
       "        -6.9078, -6.9078, -6.9078, -6.9078, -6.9078, -6.9078, -6.9078, -6.9078,\n",
       "        -6.9078, -6.9078, -6.9078, -6.9078, -6.9078, -6.9078, -6.9078, -6.9078,\n",
       "        -6.9078, -6.9078, -6.9078, -6.9078, -6.9078, -6.9078, -6.9078, -6.9078,\n",
       "        -6.9078, -6.9078, -6.9078, -6.9078, -6.9078, -6.9078, -6.9078, -6.9078,\n",
       "        -6.9078, -6.9078, -6.9078, -6.9078, -6.9078, -6.9078, -6.9078, -6.9078,\n",
       "        -6.9078, -6.9078, -6.9078, -6.9078, -6.9078, -6.9078, -6.9078, -6.9078,\n",
       "        -6.9078, -6.9078, -6.9078, -6.9078, -6.9078, -6.9078, -6.9078, -6.9078,\n",
       "        -6.9078, -6.9078, -6.9078, -6.9078, -6.9078, -6.9078, -6.9078, -6.9078,\n",
       "        -6.9078, -6.9078, -6.9078, -6.9078, -6.9078, -6.9078, -6.9078, -6.9078,\n",
       "        -6.9078, -6.9078, -6.9078, -6.9078, -6.9078, -6.9078, -6.9078, -6.9078,\n",
       "        -6.9078, -6.9078, -6.9078, -6.9078, -6.9078, -6.9078, -6.9078, -6.9078,\n",
       "        -6.9078, -6.9078, -6.9078, -6.9078, -6.9078, -6.9078, -6.9078, -6.9078,\n",
       "        -6.9078, -6.9078, -6.9078, -6.9078, -6.9078, -6.9078, -6.9078, -6.9078,\n",
       "        -6.9078, -6.9078, -6.9078, -6.9078, -6.9078, -6.9078, -6.9078, -6.9078,\n",
       "        -6.9078, -6.9078, -6.9078, -6.9078, -6.9078, -6.9078, -6.9078, -6.9078,\n",
       "        -6.9078, -6.9078, -6.9078, -6.9078, -6.9078, -6.9078, -6.9078, -6.9078,\n",
       "        -6.9078, -6.9078, -6.9078, -6.9078, -6.9078, -6.9078, -6.9078, -6.9078,\n",
       "        -6.9078, -6.9078, -6.9078, -6.9078, -6.9078, -6.9078, -6.9078, -6.9078,\n",
       "        -6.9078, -6.9078, -6.9078, -6.9078, -6.9078, -6.9078, -6.9078, -6.9078,\n",
       "        -6.9078, -6.9078, -6.9078, -6.9078, -6.9078, -6.9078, -6.9078, -6.9078,\n",
       "        -6.9078, -6.9078, -6.9078, -6.9078, -6.9078, -6.9078, -6.9078, -6.9078,\n",
       "        -6.9078, -6.9078, -6.9078, -6.9078, -6.9078, -6.9078, -6.9078, -6.9078,\n",
       "        -6.9078, -6.9078, -6.9078, -6.9078, -6.9078, -6.9078, -6.9078, -6.9078,\n",
       "        -6.9078, -6.9078, -6.9078, -6.9078, -6.9078, -6.9078, -6.9078, -6.9078,\n",
       "        -6.9078, -6.9078, -6.9078, -6.9078, -6.9078, -6.9078, -6.9078, -6.9078,\n",
       "        -6.9078, -6.9078, -6.9078, -6.9078, -6.9078, -6.9078, -6.9078, -6.9078,\n",
       "        -6.9078, -6.9078, -6.9078, -6.9078, -6.9078, -6.9078, -6.9078, -6.9078,\n",
       "        -6.9078, -6.9078, -6.9078, -6.9078, -6.9078, -6.9078, -6.9078, -6.9078,\n",
       "        -6.9078, -6.9078, -6.9078, -6.9078, -6.9078, -6.9078, -6.9078, -6.9078,\n",
       "        -6.9078, -6.9078, -6.9078, -6.9078, -6.9078, -6.9078, -6.9078, -6.9078,\n",
       "        -6.9078, -6.9078, -6.9078, -6.9078, -6.9078, -6.9078, -6.9078, -6.9078,\n",
       "        -6.9078, -6.9078, -6.9078, -6.9078, -6.9078, -6.9078, -6.9078, -6.9078,\n",
       "        -6.9078, -6.9078, -6.9078, -6.9078, -6.9078, -6.9078, -6.9078, -6.9078,\n",
       "        -6.9078, -6.9078, -6.9078, -6.9078, -6.9078, -6.9078, -6.9078, -6.9078,\n",
       "        -6.9078, -6.9078, -6.9078, -6.9078, -6.9078, -6.9078, -6.9078, -6.9078,\n",
       "        -6.9078, -6.9078, -6.9078, -6.9078, -6.9078, -6.9078, -6.9078, -6.9078,\n",
       "        -6.9078, -6.9078, -6.9078, -6.9078, -6.9078, -6.9078, -6.9078, -6.9078,\n",
       "        -6.9078, -6.9078, -6.9078, -6.9078, -6.9078, -6.9078, -6.9078, -6.9078,\n",
       "        -6.9078, -6.9078, -6.9078, -6.9078, -6.9078, -6.9078, -6.9078, -6.9078,\n",
       "        -6.9078, -6.9078, -6.9078, -6.9078, -6.9078, -6.9078, -6.9078, -6.9078,\n",
       "        -6.9078, -6.9078, -6.9078, -6.9078, -6.9078, -6.9078, -6.9078, -6.9078,\n",
       "        -6.9078, -6.9078, -6.9078, -6.9078, -6.9078, -6.9078, -6.9078, -6.9078,\n",
       "        -6.9078, -6.9078, -6.9078, -6.9078, -6.9078, -6.9078, -6.9078, -6.9078,\n",
       "        -6.9078, -6.9078, -6.9078, -6.9078, -6.9078, -6.9078, -6.9078, -6.9078,\n",
       "        -6.9078, -6.9078, -6.9078, -6.9078, -6.9078, -6.9078, -6.9078, -6.9078,\n",
       "        -6.9078, -6.9078, -6.9078, -6.9078, -6.9078, -6.9078, -6.9078, -6.9078,\n",
       "        -6.9078, -6.9078, -6.9078, -6.9078, -6.9078, -6.9078, -6.9078, -6.9078,\n",
       "        -6.9078, -6.9078, -6.9078, -6.9078, -6.9078, -6.9078, -6.9078, -6.9078,\n",
       "        -6.9078, -6.9078, -6.9078, -6.9078, -6.9078, -6.9078, -6.9078, -6.9078,\n",
       "        -6.9078, -6.9078, -6.9078, -6.9078, -6.9078, -6.9078, -6.9078, -6.9078,\n",
       "        -6.9078, -6.9078, -6.9078, -6.9078, -6.9078, -6.9078, -6.9078, -6.9078,\n",
       "        -6.9078, -6.9078, -6.9078, -6.9078, -6.9078, -6.9078, -6.9078, -6.9078,\n",
       "        -6.9078, -6.9078, -6.9078, -6.9078, -6.9078, -6.9078, -6.9078, -6.9078,\n",
       "        -6.9078, -6.9078, -6.9078, -6.9078, -6.9078, -6.9078, -6.9078, -6.9078,\n",
       "        -6.9078, -6.9078, -6.9078, -6.9078, -6.9078, -6.9078, -6.9078, -6.9078,\n",
       "        -6.9078, -6.9078, -6.9078, -6.9078, -6.9078, -6.9078, -6.9078, -6.9078,\n",
       "        -6.9078, -6.9078, -6.9078, -6.9078, -6.9078, -6.9078, -6.9078, -6.9078,\n",
       "        -6.9078, -6.9078, -6.9078, -6.9078, -6.9078, -6.9078, -6.9078, -6.9078,\n",
       "        -6.9078, -6.9078, -6.9078, -6.9078, -6.9078, -6.9078, -6.9078, -6.9078,\n",
       "        -6.9078, -6.9078, -6.9078, -6.9078, -6.9078, -6.9078, -6.9078, -6.9078,\n",
       "        -6.9078, -6.9078, -6.9078, -6.9078, -6.9078, -6.9078, -6.9078, -6.9078,\n",
       "        -6.9078, -6.9078, -6.9078, -6.9078, -6.9078, -6.9078, -6.9078, -6.9078,\n",
       "        -6.9078, -6.9078, -6.9078, -6.9078, -6.9078, -6.9078, -6.9078, -6.9078,\n",
       "        -6.9078, -6.9078, -6.9078, -6.9078, -6.9078, -6.9078, -6.9078, -6.9078,\n",
       "        -6.9078, -6.9078, -6.9078, -6.9078, -6.9078, -6.9078, -6.9078, -6.9078,\n",
       "        -6.9078, -6.9078, -6.9078, -6.9078, -6.9078, -6.9078, -6.9078, -6.9078,\n",
       "        -6.9078, -6.9078, -6.9078, -6.9078, -6.9078, -6.9078, -6.9078, -6.9078,\n",
       "        -6.9078, -6.9078, -6.9078, -6.9078, -6.9078, -6.9078, -6.9078, -6.9078,\n",
       "        -6.9078, -6.9078, -6.9078, -6.9078, -6.9078, -6.9078, -6.9078, -6.9078,\n",
       "        -6.9078, -6.9078, -6.9078, -6.9078, -6.9078, -6.9078, -6.9078, -6.9078,\n",
       "        -6.9078, -6.9078, -6.9078, -6.9078, -6.9078, -6.9078, -6.9078, -6.9078,\n",
       "        -6.9078, -6.9078, -6.9078, -6.9078, -6.9078, -6.9078, -6.9078, -6.9078,\n",
       "        -6.9078, -6.9078, -6.9078, -6.9078, -6.9078, -6.9078, -6.9078, -6.9078,\n",
       "        -6.9078, -6.9078, -6.9078, -6.9078, -6.9078, -6.9078, -6.9078, -6.9078,\n",
       "        -6.9078, -6.9078, -6.9078, -6.9078, -6.9078, -6.9078, -6.9078, -6.9078,\n",
       "        -6.9078, -6.9078, -6.9078, -6.9078, -6.9078, -6.9078, -6.9078, -6.9078,\n",
       "        -6.9078, -6.9078, -6.9078, -6.9078, -6.9078, -6.9078, -6.9078, -6.9078,\n",
       "        -6.9078, -6.9078, -6.9078, -6.9078, -6.9078, -6.9078, -6.9078, -6.9078,\n",
       "        -6.9078, -6.9078, -6.9078, -6.9078, -6.9078, -6.9078, -6.9078, -6.9078,\n",
       "        -6.9078, -6.9078, -6.9078, -6.9078, -6.9078, -6.9078, -6.9078, -6.9078,\n",
       "        -6.9078, -6.9078, -6.9078, -6.9078, -6.9078, -6.9078, -6.9078, -6.9078,\n",
       "        -6.9078, -6.9078, -6.9078, -6.9078, -6.9078, -6.9078, -6.9078, -6.9078,\n",
       "        -6.9078, -6.9078, -6.9078, -6.9078, -6.9078, -6.9078, -6.9078, -6.9078,\n",
       "        -6.9078, -6.9078, -6.9078, -6.9078, -6.9078, -6.9078, -6.9078, -6.9078,\n",
       "        -6.9078, -6.9078, -6.9078, -6.9078, -6.9078, -6.9078, -6.9078, -6.9078,\n",
       "        -6.9078, -6.9078, -6.9078, -6.9078, -6.9078, -6.9078, -6.9078, -6.9078,\n",
       "        -6.9078, -6.9078, -6.9078, -6.9078, -6.9078, -6.9078, -6.9078, -6.9078,\n",
       "        -6.9078, -6.9078, -6.9078, -6.9078, -6.9078, -6.9078, -6.9078, -6.9078,\n",
       "        -6.9078, -6.9078, -6.9078, -6.9078, -6.9078, -6.9078, -6.9078, -6.9078,\n",
       "        -6.9078, -6.9078, -6.9078, -6.9078, -6.9078, -6.9078, -6.9078, -6.9078,\n",
       "        -6.9078, -6.9078, -6.9078, -6.9078, -6.9078, -6.9078, -6.9078, -6.9078,\n",
       "        -6.9078, -6.9078, -6.9078, -6.9078, -6.9078, -6.9078, -6.9078, -6.9078,\n",
       "        -6.9078, -6.9078, -6.9078, -6.9078, -6.9078, -6.9078, -6.9078, -6.9078,\n",
       "        -6.9078, -6.9078, -6.9078, -6.9078, -6.9078, -6.9078, -6.9078, -6.9078,\n",
       "        -6.9078, -6.9078, -6.9078, -6.9078, -6.9078, -6.9078, -6.9078, -6.9078,\n",
       "        -6.9078, -6.9078, -6.9078, -6.9078, -6.9078, -6.9078, -6.9078, -6.9078,\n",
       "        -6.9078, -6.9078, -6.9078, -6.9078, -6.9078, -6.9078, -6.9078, -6.9078,\n",
       "        -6.9078, -6.9078, -6.9078, -6.9078, -6.9078, -6.9078, -6.9078, -6.9078,\n",
       "        -6.9078, -6.9078, -6.9078, -6.9078, -6.9078, -6.9078, -6.9078, -6.9078,\n",
       "        -6.9078, -6.9078, -6.9078, -6.9078, -6.9078, -6.9078, -6.9078, -6.9078,\n",
       "        -6.9078, -6.9078, -6.9078, -6.9078, -6.9078, -6.9078, -6.9078, -6.9078,\n",
       "        -6.9078, -6.9078, -6.9078, -6.9078, -6.9078, -6.9078, -6.9078, -6.9078,\n",
       "        -6.9078, -6.9078, -6.9078, -6.9078, -6.9078, -6.9078, -6.9078, -6.9078,\n",
       "        -6.9078, -6.9078, -6.9078, -6.9078, -6.9078, -6.9078, -6.9078, -6.9078,\n",
       "        -6.9078, -6.9078, -6.9078, -6.9078, -6.9078, -6.9078, -6.9078, -6.9078],\n",
       "       dtype=torch.float64)"
      ]
     },
     "execution_count": 83,
     "metadata": {},
     "output_type": "execute_result"
    }
   ],
   "source": [
    "traces._categorical.logits"
   ]
  },
  {
   "cell_type": "code",
   "execution_count": 86,
   "metadata": {
    "pycharm": {
     "name": "#%%\n"
    }
   },
   "outputs": [
    {
     "data": {
      "text/plain": [
       "tensor([0.0010, 0.0010, 0.0010, 0.0010, 0.0010, 0.0010, 0.0010, 0.0010, 0.0010,\n",
       "        0.0010, 0.0010, 0.0010, 0.0010, 0.0010, 0.0010, 0.0010, 0.0010, 0.0010,\n",
       "        0.0010, 0.0010, 0.0010, 0.0010, 0.0010, 0.0010, 0.0010, 0.0010, 0.0010,\n",
       "        0.0010, 0.0010, 0.0010, 0.0010, 0.0010, 0.0010, 0.0010, 0.0010, 0.0010,\n",
       "        0.0010, 0.0010, 0.0010, 0.0010, 0.0010, 0.0010, 0.0010, 0.0010, 0.0010,\n",
       "        0.0010, 0.0010, 0.0010, 0.0010, 0.0010, 0.0010, 0.0010, 0.0010, 0.0010,\n",
       "        0.0010, 0.0010, 0.0010, 0.0010, 0.0010, 0.0010, 0.0010, 0.0010, 0.0010,\n",
       "        0.0010, 0.0010, 0.0010, 0.0010, 0.0010, 0.0010, 0.0010, 0.0010, 0.0010,\n",
       "        0.0010, 0.0010, 0.0010, 0.0010, 0.0010, 0.0010, 0.0010, 0.0010, 0.0010,\n",
       "        0.0010, 0.0010, 0.0010, 0.0010, 0.0010, 0.0010, 0.0010, 0.0010, 0.0010,\n",
       "        0.0010, 0.0010, 0.0010, 0.0010, 0.0010, 0.0010, 0.0010, 0.0010, 0.0010,\n",
       "        0.0010, 0.0010, 0.0010, 0.0010, 0.0010, 0.0010, 0.0010, 0.0010, 0.0010,\n",
       "        0.0010, 0.0010, 0.0010, 0.0010, 0.0010, 0.0010, 0.0010, 0.0010, 0.0010,\n",
       "        0.0010, 0.0010, 0.0010, 0.0010, 0.0010, 0.0010, 0.0010, 0.0010, 0.0010,\n",
       "        0.0010, 0.0010, 0.0010, 0.0010, 0.0010, 0.0010, 0.0010, 0.0010, 0.0010,\n",
       "        0.0010, 0.0010, 0.0010, 0.0010, 0.0010, 0.0010, 0.0010, 0.0010, 0.0010,\n",
       "        0.0010, 0.0010, 0.0010, 0.0010, 0.0010, 0.0010, 0.0010, 0.0010, 0.0010,\n",
       "        0.0010, 0.0010, 0.0010, 0.0010, 0.0010, 0.0010, 0.0010, 0.0010, 0.0010,\n",
       "        0.0010, 0.0010, 0.0010, 0.0010, 0.0010, 0.0010, 0.0010, 0.0010, 0.0010,\n",
       "        0.0010, 0.0010, 0.0010, 0.0010, 0.0010, 0.0010, 0.0010, 0.0010, 0.0010,\n",
       "        0.0010, 0.0010, 0.0010, 0.0010, 0.0010, 0.0010, 0.0010, 0.0010, 0.0010,\n",
       "        0.0010, 0.0010, 0.0010, 0.0010, 0.0010, 0.0010, 0.0010, 0.0010, 0.0010,\n",
       "        0.0010, 0.0010, 0.0010, 0.0010, 0.0010, 0.0010, 0.0010, 0.0010, 0.0010,\n",
       "        0.0010, 0.0010, 0.0010, 0.0010, 0.0010, 0.0010, 0.0010, 0.0010, 0.0010,\n",
       "        0.0010, 0.0010, 0.0010, 0.0010, 0.0010, 0.0010, 0.0010, 0.0010, 0.0010,\n",
       "        0.0010, 0.0010, 0.0010, 0.0010, 0.0010, 0.0010, 0.0010, 0.0010, 0.0010,\n",
       "        0.0010, 0.0010, 0.0010, 0.0010, 0.0010, 0.0010, 0.0010, 0.0010, 0.0010,\n",
       "        0.0010, 0.0010, 0.0010, 0.0010, 0.0010, 0.0010, 0.0010, 0.0010, 0.0010,\n",
       "        0.0010, 0.0010, 0.0010, 0.0010, 0.0010, 0.0010, 0.0010, 0.0010, 0.0010,\n",
       "        0.0010, 0.0010, 0.0010, 0.0010, 0.0010, 0.0010, 0.0010, 0.0010, 0.0010,\n",
       "        0.0010, 0.0010, 0.0010, 0.0010, 0.0010, 0.0010, 0.0010, 0.0010, 0.0010,\n",
       "        0.0010, 0.0010, 0.0010, 0.0010, 0.0010, 0.0010, 0.0010, 0.0010, 0.0010,\n",
       "        0.0010, 0.0010, 0.0010, 0.0010, 0.0010, 0.0010, 0.0010, 0.0010, 0.0010,\n",
       "        0.0010, 0.0010, 0.0010, 0.0010, 0.0010, 0.0010, 0.0010, 0.0010, 0.0010,\n",
       "        0.0010, 0.0010, 0.0010, 0.0010, 0.0010, 0.0010, 0.0010, 0.0010, 0.0010,\n",
       "        0.0010, 0.0010, 0.0010, 0.0010, 0.0010, 0.0010, 0.0010, 0.0010, 0.0010,\n",
       "        0.0010, 0.0010, 0.0010, 0.0010, 0.0010, 0.0010, 0.0010, 0.0010, 0.0010,\n",
       "        0.0010, 0.0010, 0.0010, 0.0010, 0.0010, 0.0010, 0.0010, 0.0010, 0.0010,\n",
       "        0.0010, 0.0010, 0.0010, 0.0010, 0.0010, 0.0010, 0.0010, 0.0010, 0.0010,\n",
       "        0.0010, 0.0010, 0.0010, 0.0010, 0.0010, 0.0010, 0.0010, 0.0010, 0.0010,\n",
       "        0.0010, 0.0010, 0.0010, 0.0010, 0.0010, 0.0010, 0.0010, 0.0010, 0.0010,\n",
       "        0.0010, 0.0010, 0.0010, 0.0010, 0.0010, 0.0010, 0.0010, 0.0010, 0.0010,\n",
       "        0.0010, 0.0010, 0.0010, 0.0010, 0.0010, 0.0010, 0.0010, 0.0010, 0.0010,\n",
       "        0.0010, 0.0010, 0.0010, 0.0010, 0.0010, 0.0010, 0.0010, 0.0010, 0.0010,\n",
       "        0.0010, 0.0010, 0.0010, 0.0010, 0.0010, 0.0010, 0.0010, 0.0010, 0.0010,\n",
       "        0.0010, 0.0010, 0.0010, 0.0010, 0.0010, 0.0010, 0.0010, 0.0010, 0.0010,\n",
       "        0.0010, 0.0010, 0.0010, 0.0010, 0.0010, 0.0010, 0.0010, 0.0010, 0.0010,\n",
       "        0.0010, 0.0010, 0.0010, 0.0010, 0.0010, 0.0010, 0.0010, 0.0010, 0.0010,\n",
       "        0.0010, 0.0010, 0.0010, 0.0010, 0.0010, 0.0010, 0.0010, 0.0010, 0.0010,\n",
       "        0.0010, 0.0010, 0.0010, 0.0010, 0.0010, 0.0010, 0.0010, 0.0010, 0.0010,\n",
       "        0.0010, 0.0010, 0.0010, 0.0010, 0.0010, 0.0010, 0.0010, 0.0010, 0.0010,\n",
       "        0.0010, 0.0010, 0.0010, 0.0010, 0.0010, 0.0010, 0.0010, 0.0010, 0.0010,\n",
       "        0.0010, 0.0010, 0.0010, 0.0010, 0.0010, 0.0010, 0.0010, 0.0010, 0.0010,\n",
       "        0.0010, 0.0010, 0.0010, 0.0010, 0.0010, 0.0010, 0.0010, 0.0010, 0.0010,\n",
       "        0.0010, 0.0010, 0.0010, 0.0010, 0.0010, 0.0010, 0.0010, 0.0010, 0.0010,\n",
       "        0.0010, 0.0010, 0.0010, 0.0010, 0.0010, 0.0010, 0.0010, 0.0010, 0.0010,\n",
       "        0.0010, 0.0010, 0.0010, 0.0010, 0.0010, 0.0010, 0.0010, 0.0010, 0.0010,\n",
       "        0.0010, 0.0010, 0.0010, 0.0010, 0.0010, 0.0010, 0.0010, 0.0010, 0.0010,\n",
       "        0.0010, 0.0010, 0.0010, 0.0010, 0.0010, 0.0010, 0.0010, 0.0010, 0.0010,\n",
       "        0.0010, 0.0010, 0.0010, 0.0010, 0.0010, 0.0010, 0.0010, 0.0010, 0.0010,\n",
       "        0.0010, 0.0010, 0.0010, 0.0010, 0.0010, 0.0010, 0.0010, 0.0010, 0.0010,\n",
       "        0.0010, 0.0010, 0.0010, 0.0010, 0.0010, 0.0010, 0.0010, 0.0010, 0.0010,\n",
       "        0.0010, 0.0010, 0.0010, 0.0010, 0.0010, 0.0010, 0.0010, 0.0010, 0.0010,\n",
       "        0.0010, 0.0010, 0.0010, 0.0010, 0.0010, 0.0010, 0.0010, 0.0010, 0.0010,\n",
       "        0.0010, 0.0010, 0.0010, 0.0010, 0.0010, 0.0010, 0.0010, 0.0010, 0.0010,\n",
       "        0.0010, 0.0010, 0.0010, 0.0010, 0.0010, 0.0010, 0.0010, 0.0010, 0.0010,\n",
       "        0.0010, 0.0010, 0.0010, 0.0010, 0.0010, 0.0010, 0.0010, 0.0010, 0.0010,\n",
       "        0.0010, 0.0010, 0.0010, 0.0010, 0.0010, 0.0010, 0.0010, 0.0010, 0.0010,\n",
       "        0.0010, 0.0010, 0.0010, 0.0010, 0.0010, 0.0010, 0.0010, 0.0010, 0.0010,\n",
       "        0.0010, 0.0010, 0.0010, 0.0010, 0.0010, 0.0010, 0.0010, 0.0010, 0.0010,\n",
       "        0.0010, 0.0010, 0.0010, 0.0010, 0.0010, 0.0010, 0.0010, 0.0010, 0.0010,\n",
       "        0.0010, 0.0010, 0.0010, 0.0010, 0.0010, 0.0010, 0.0010, 0.0010, 0.0010,\n",
       "        0.0010, 0.0010, 0.0010, 0.0010, 0.0010, 0.0010, 0.0010, 0.0010, 0.0010,\n",
       "        0.0010, 0.0010, 0.0010, 0.0010, 0.0010, 0.0010, 0.0010, 0.0010, 0.0010,\n",
       "        0.0010, 0.0010, 0.0010, 0.0010, 0.0010, 0.0010, 0.0010, 0.0010, 0.0010,\n",
       "        0.0010, 0.0010, 0.0010, 0.0010, 0.0010, 0.0010, 0.0010, 0.0010, 0.0010,\n",
       "        0.0010, 0.0010, 0.0010, 0.0010, 0.0010, 0.0010, 0.0010, 0.0010, 0.0010,\n",
       "        0.0010, 0.0010, 0.0010, 0.0010, 0.0010, 0.0010, 0.0010, 0.0010, 0.0010,\n",
       "        0.0010, 0.0010, 0.0010, 0.0010, 0.0010, 0.0010, 0.0010, 0.0010, 0.0010,\n",
       "        0.0010, 0.0010, 0.0010, 0.0010, 0.0010, 0.0010, 0.0010, 0.0010, 0.0010,\n",
       "        0.0010, 0.0010, 0.0010, 0.0010, 0.0010, 0.0010, 0.0010, 0.0010, 0.0010,\n",
       "        0.0010, 0.0010, 0.0010, 0.0010, 0.0010, 0.0010, 0.0010, 0.0010, 0.0010,\n",
       "        0.0010, 0.0010, 0.0010, 0.0010, 0.0010, 0.0010, 0.0010, 0.0010, 0.0010,\n",
       "        0.0010, 0.0010, 0.0010, 0.0010, 0.0010, 0.0010, 0.0010, 0.0010, 0.0010,\n",
       "        0.0010, 0.0010, 0.0010, 0.0010, 0.0010, 0.0010, 0.0010, 0.0010, 0.0010,\n",
       "        0.0010, 0.0010, 0.0010, 0.0010, 0.0010, 0.0010, 0.0010, 0.0010, 0.0010,\n",
       "        0.0010, 0.0010, 0.0010, 0.0010, 0.0010, 0.0010, 0.0010, 0.0010, 0.0010,\n",
       "        0.0010, 0.0010, 0.0010, 0.0010, 0.0010, 0.0010, 0.0010, 0.0010, 0.0010,\n",
       "        0.0010, 0.0010, 0.0010, 0.0010, 0.0010, 0.0010, 0.0010, 0.0010, 0.0010,\n",
       "        0.0010, 0.0010, 0.0010, 0.0010, 0.0010, 0.0010, 0.0010, 0.0010, 0.0010,\n",
       "        0.0010, 0.0010, 0.0010, 0.0010, 0.0010, 0.0010, 0.0010, 0.0010, 0.0010,\n",
       "        0.0010, 0.0010, 0.0010, 0.0010, 0.0010, 0.0010, 0.0010, 0.0010, 0.0010,\n",
       "        0.0010, 0.0010, 0.0010, 0.0010, 0.0010, 0.0010, 0.0010, 0.0010, 0.0010,\n",
       "        0.0010, 0.0010, 0.0010, 0.0010, 0.0010, 0.0010, 0.0010, 0.0010, 0.0010,\n",
       "        0.0010, 0.0010, 0.0010, 0.0010, 0.0010, 0.0010, 0.0010, 0.0010, 0.0010,\n",
       "        0.0010, 0.0010, 0.0010, 0.0010, 0.0010, 0.0010, 0.0010, 0.0010, 0.0010,\n",
       "        0.0010, 0.0010, 0.0010, 0.0010, 0.0010, 0.0010, 0.0010, 0.0010, 0.0010,\n",
       "        0.0010, 0.0010, 0.0010, 0.0010, 0.0010, 0.0010, 0.0010, 0.0010, 0.0010,\n",
       "        0.0010, 0.0010, 0.0010, 0.0010, 0.0010, 0.0010, 0.0010, 0.0010, 0.0010,\n",
       "        0.0010, 0.0010, 0.0010, 0.0010, 0.0010, 0.0010, 0.0010, 0.0010, 0.0010,\n",
       "        0.0010, 0.0010, 0.0010, 0.0010, 0.0010, 0.0010, 0.0010, 0.0010, 0.0010,\n",
       "        0.0010, 0.0010, 0.0010, 0.0010, 0.0010, 0.0010, 0.0010, 0.0010, 0.0010,\n",
       "        0.0010, 0.0010, 0.0010, 0.0010, 0.0010, 0.0010, 0.0010, 0.0010, 0.0010,\n",
       "        0.0010, 0.0010, 0.0010, 0.0010, 0.0010, 0.0010, 0.0010, 0.0010, 0.0010,\n",
       "        0.0010, 0.0010, 0.0010, 0.0010, 0.0010, 0.0010, 0.0010, 0.0010, 0.0010,\n",
       "        0.0010, 0.0010, 0.0010, 0.0010, 0.0010, 0.0010, 0.0010, 0.0010, 0.0010,\n",
       "        0.0010, 0.0010, 0.0010, 0.0010, 0.0010, 0.0010, 0.0010, 0.0010, 0.0010,\n",
       "        0.0010, 0.0010, 0.0010, 0.0010, 0.0010, 0.0010, 0.0010, 0.0010, 0.0010,\n",
       "        0.0010, 0.0010, 0.0010, 0.0010, 0.0010, 0.0010, 0.0010, 0.0010, 0.0010,\n",
       "        0.0010, 0.0010, 0.0010, 0.0010, 0.0010, 0.0010, 0.0010, 0.0010, 0.0010,\n",
       "        0.0010, 0.0010, 0.0010, 0.0010, 0.0010, 0.0010, 0.0010, 0.0010, 0.0010,\n",
       "        0.0010], dtype=torch.float64)"
      ]
     },
     "execution_count": 86,
     "metadata": {},
     "output_type": "execute_result"
    }
   ],
   "source": [
    "traces._categorical.probs"
   ]
  },
  {
   "cell_type": "code",
   "execution_count": 87,
   "metadata": {
    "pycharm": {
     "name": "#%%\n"
    }
   },
   "outputs": [
    {
     "data": {
      "text/plain": [
       "tensor([0.0010, 0.0010, 0.0010, 0.0010, 0.0010, 0.0010, 0.0010, 0.0010, 0.0010,\n",
       "        0.0010, 0.0010, 0.0010, 0.0010, 0.0010, 0.0010, 0.0010, 0.0010, 0.0010,\n",
       "        0.0010, 0.0010, 0.0010, 0.0010, 0.0010, 0.0010, 0.0010, 0.0010, 0.0010,\n",
       "        0.0010, 0.0010, 0.0010, 0.0010, 0.0010, 0.0010, 0.0010, 0.0010, 0.0010,\n",
       "        0.0010, 0.0010, 0.0010, 0.0010, 0.0010, 0.0010, 0.0010, 0.0010, 0.0010,\n",
       "        0.0010, 0.0010, 0.0010, 0.0010, 0.0010, 0.0010, 0.0010, 0.0010, 0.0010,\n",
       "        0.0010, 0.0010, 0.0010, 0.0010, 0.0010, 0.0010, 0.0010, 0.0010, 0.0010,\n",
       "        0.0010, 0.0010, 0.0010, 0.0010, 0.0010, 0.0010, 0.0010, 0.0010, 0.0010,\n",
       "        0.0010, 0.0010, 0.0010, 0.0010, 0.0010, 0.0010, 0.0010, 0.0010, 0.0010,\n",
       "        0.0010, 0.0010, 0.0010, 0.0010, 0.0010, 0.0010, 0.0010, 0.0010, 0.0010,\n",
       "        0.0010, 0.0010, 0.0010, 0.0010, 0.0010, 0.0010, 0.0010, 0.0010, 0.0010,\n",
       "        0.0010, 0.0010, 0.0010, 0.0010, 0.0010, 0.0010, 0.0010, 0.0010, 0.0010,\n",
       "        0.0010, 0.0010, 0.0010, 0.0010, 0.0010, 0.0010, 0.0010, 0.0010, 0.0010,\n",
       "        0.0010, 0.0010, 0.0010, 0.0010, 0.0010, 0.0010, 0.0010, 0.0010, 0.0010,\n",
       "        0.0010, 0.0010, 0.0010, 0.0010, 0.0010, 0.0010, 0.0010, 0.0010, 0.0010,\n",
       "        0.0010, 0.0010, 0.0010, 0.0010, 0.0010, 0.0010, 0.0010, 0.0010, 0.0010,\n",
       "        0.0010, 0.0010, 0.0010, 0.0010, 0.0010, 0.0010, 0.0010, 0.0010, 0.0010,\n",
       "        0.0010, 0.0010, 0.0010, 0.0010, 0.0010, 0.0010, 0.0010, 0.0010, 0.0010,\n",
       "        0.0010, 0.0010, 0.0010, 0.0010, 0.0010, 0.0010, 0.0010, 0.0010, 0.0010,\n",
       "        0.0010, 0.0010, 0.0010, 0.0010, 0.0010, 0.0010, 0.0010, 0.0010, 0.0010,\n",
       "        0.0010, 0.0010, 0.0010, 0.0010, 0.0010, 0.0010, 0.0010, 0.0010, 0.0010,\n",
       "        0.0010, 0.0010, 0.0010, 0.0010, 0.0010, 0.0010, 0.0010, 0.0010, 0.0010,\n",
       "        0.0010, 0.0010, 0.0010, 0.0010, 0.0010, 0.0010, 0.0010, 0.0010, 0.0010,\n",
       "        0.0010, 0.0010, 0.0010, 0.0010, 0.0010, 0.0010, 0.0010, 0.0010, 0.0010,\n",
       "        0.0010, 0.0010, 0.0010, 0.0010, 0.0010, 0.0010, 0.0010, 0.0010, 0.0010,\n",
       "        0.0010, 0.0010, 0.0010, 0.0010, 0.0010, 0.0010, 0.0010, 0.0010, 0.0010,\n",
       "        0.0010, 0.0010, 0.0010, 0.0010, 0.0010, 0.0010, 0.0010, 0.0010, 0.0010,\n",
       "        0.0010, 0.0010, 0.0010, 0.0010, 0.0010, 0.0010, 0.0010, 0.0010, 0.0010,\n",
       "        0.0010, 0.0010, 0.0010, 0.0010, 0.0010, 0.0010, 0.0010, 0.0010, 0.0010,\n",
       "        0.0010, 0.0010, 0.0010, 0.0010, 0.0010, 0.0010, 0.0010, 0.0010, 0.0010,\n",
       "        0.0010, 0.0010, 0.0010, 0.0010, 0.0010, 0.0010, 0.0010, 0.0010, 0.0010,\n",
       "        0.0010, 0.0010, 0.0010, 0.0010, 0.0010, 0.0010, 0.0010, 0.0010, 0.0010,\n",
       "        0.0010, 0.0010, 0.0010, 0.0010, 0.0010, 0.0010, 0.0010, 0.0010, 0.0010,\n",
       "        0.0010, 0.0010, 0.0010, 0.0010, 0.0010, 0.0010, 0.0010, 0.0010, 0.0010,\n",
       "        0.0010, 0.0010, 0.0010, 0.0010, 0.0010, 0.0010, 0.0010, 0.0010, 0.0010,\n",
       "        0.0010, 0.0010, 0.0010, 0.0010, 0.0010, 0.0010, 0.0010, 0.0010, 0.0010,\n",
       "        0.0010, 0.0010, 0.0010, 0.0010, 0.0010, 0.0010, 0.0010, 0.0010, 0.0010,\n",
       "        0.0010, 0.0010, 0.0010, 0.0010, 0.0010, 0.0010, 0.0010, 0.0010, 0.0010,\n",
       "        0.0010, 0.0010, 0.0010, 0.0010, 0.0010, 0.0010, 0.0010, 0.0010, 0.0010,\n",
       "        0.0010, 0.0010, 0.0010, 0.0010, 0.0010, 0.0010, 0.0010, 0.0010, 0.0010,\n",
       "        0.0010, 0.0010, 0.0010, 0.0010, 0.0010, 0.0010, 0.0010, 0.0010, 0.0010,\n",
       "        0.0010, 0.0010, 0.0010, 0.0010, 0.0010, 0.0010, 0.0010, 0.0010, 0.0010,\n",
       "        0.0010, 0.0010, 0.0010, 0.0010, 0.0010, 0.0010, 0.0010, 0.0010, 0.0010,\n",
       "        0.0010, 0.0010, 0.0010, 0.0010, 0.0010, 0.0010, 0.0010, 0.0010, 0.0010,\n",
       "        0.0010, 0.0010, 0.0010, 0.0010, 0.0010, 0.0010, 0.0010, 0.0010, 0.0010,\n",
       "        0.0010, 0.0010, 0.0010, 0.0010, 0.0010, 0.0010, 0.0010, 0.0010, 0.0010,\n",
       "        0.0010, 0.0010, 0.0010, 0.0010, 0.0010, 0.0010, 0.0010, 0.0010, 0.0010,\n",
       "        0.0010, 0.0010, 0.0010, 0.0010, 0.0010, 0.0010, 0.0010, 0.0010, 0.0010,\n",
       "        0.0010, 0.0010, 0.0010, 0.0010, 0.0010, 0.0010, 0.0010, 0.0010, 0.0010,\n",
       "        0.0010, 0.0010, 0.0010, 0.0010, 0.0010, 0.0010, 0.0010, 0.0010, 0.0010,\n",
       "        0.0010, 0.0010, 0.0010, 0.0010, 0.0010, 0.0010, 0.0010, 0.0010, 0.0010,\n",
       "        0.0010, 0.0010, 0.0010, 0.0010, 0.0010, 0.0010, 0.0010, 0.0010, 0.0010,\n",
       "        0.0010, 0.0010, 0.0010, 0.0010, 0.0010, 0.0010, 0.0010, 0.0010, 0.0010,\n",
       "        0.0010, 0.0010, 0.0010, 0.0010, 0.0010, 0.0010, 0.0010, 0.0010, 0.0010,\n",
       "        0.0010, 0.0010, 0.0010, 0.0010, 0.0010, 0.0010, 0.0010, 0.0010, 0.0010,\n",
       "        0.0010, 0.0010, 0.0010, 0.0010, 0.0010, 0.0010, 0.0010, 0.0010, 0.0010,\n",
       "        0.0010, 0.0010, 0.0010, 0.0010, 0.0010, 0.0010, 0.0010, 0.0010, 0.0010,\n",
       "        0.0010, 0.0010, 0.0010, 0.0010, 0.0010, 0.0010, 0.0010, 0.0010, 0.0010,\n",
       "        0.0010, 0.0010, 0.0010, 0.0010, 0.0010, 0.0010, 0.0010, 0.0010, 0.0010,\n",
       "        0.0010, 0.0010, 0.0010, 0.0010, 0.0010, 0.0010, 0.0010, 0.0010, 0.0010,\n",
       "        0.0010, 0.0010, 0.0010, 0.0010, 0.0010, 0.0010, 0.0010, 0.0010, 0.0010,\n",
       "        0.0010, 0.0010, 0.0010, 0.0010, 0.0010, 0.0010, 0.0010, 0.0010, 0.0010,\n",
       "        0.0010, 0.0010, 0.0010, 0.0010, 0.0010, 0.0010, 0.0010, 0.0010, 0.0010,\n",
       "        0.0010, 0.0010, 0.0010, 0.0010, 0.0010, 0.0010, 0.0010, 0.0010, 0.0010,\n",
       "        0.0010, 0.0010, 0.0010, 0.0010, 0.0010, 0.0010, 0.0010, 0.0010, 0.0010,\n",
       "        0.0010, 0.0010, 0.0010, 0.0010, 0.0010, 0.0010, 0.0010, 0.0010, 0.0010,\n",
       "        0.0010, 0.0010, 0.0010, 0.0010, 0.0010, 0.0010, 0.0010, 0.0010, 0.0010,\n",
       "        0.0010, 0.0010, 0.0010, 0.0010, 0.0010, 0.0010, 0.0010, 0.0010, 0.0010,\n",
       "        0.0010, 0.0010, 0.0010, 0.0010, 0.0010, 0.0010, 0.0010, 0.0010, 0.0010,\n",
       "        0.0010, 0.0010, 0.0010, 0.0010, 0.0010, 0.0010, 0.0010, 0.0010, 0.0010,\n",
       "        0.0010, 0.0010, 0.0010, 0.0010, 0.0010, 0.0010, 0.0010, 0.0010, 0.0010,\n",
       "        0.0010, 0.0010, 0.0010, 0.0010, 0.0010, 0.0010, 0.0010, 0.0010, 0.0010,\n",
       "        0.0010, 0.0010, 0.0010, 0.0010, 0.0010, 0.0010, 0.0010, 0.0010, 0.0010,\n",
       "        0.0010, 0.0010, 0.0010, 0.0010, 0.0010, 0.0010, 0.0010, 0.0010, 0.0010,\n",
       "        0.0010, 0.0010, 0.0010, 0.0010, 0.0010, 0.0010, 0.0010, 0.0010, 0.0010,\n",
       "        0.0010, 0.0010, 0.0010, 0.0010, 0.0010, 0.0010, 0.0010, 0.0010, 0.0010,\n",
       "        0.0010, 0.0010, 0.0010, 0.0010, 0.0010, 0.0010, 0.0010, 0.0010, 0.0010,\n",
       "        0.0010, 0.0010, 0.0010, 0.0010, 0.0010, 0.0010, 0.0010, 0.0010, 0.0010,\n",
       "        0.0010, 0.0010, 0.0010, 0.0010, 0.0010, 0.0010, 0.0010, 0.0010, 0.0010,\n",
       "        0.0010, 0.0010, 0.0010, 0.0010, 0.0010, 0.0010, 0.0010, 0.0010, 0.0010,\n",
       "        0.0010, 0.0010, 0.0010, 0.0010, 0.0010, 0.0010, 0.0010, 0.0010, 0.0010,\n",
       "        0.0010, 0.0010, 0.0010, 0.0010, 0.0010, 0.0010, 0.0010, 0.0010, 0.0010,\n",
       "        0.0010, 0.0010, 0.0010, 0.0010, 0.0010, 0.0010, 0.0010, 0.0010, 0.0010,\n",
       "        0.0010, 0.0010, 0.0010, 0.0010, 0.0010, 0.0010, 0.0010, 0.0010, 0.0010,\n",
       "        0.0010, 0.0010, 0.0010, 0.0010, 0.0010, 0.0010, 0.0010, 0.0010, 0.0010,\n",
       "        0.0010, 0.0010, 0.0010, 0.0010, 0.0010, 0.0010, 0.0010, 0.0010, 0.0010,\n",
       "        0.0010, 0.0010, 0.0010, 0.0010, 0.0010, 0.0010, 0.0010, 0.0010, 0.0010,\n",
       "        0.0010, 0.0010, 0.0010, 0.0010, 0.0010, 0.0010, 0.0010, 0.0010, 0.0010,\n",
       "        0.0010, 0.0010, 0.0010, 0.0010, 0.0010, 0.0010, 0.0010, 0.0010, 0.0010,\n",
       "        0.0010, 0.0010, 0.0010, 0.0010, 0.0010, 0.0010, 0.0010, 0.0010, 0.0010,\n",
       "        0.0010, 0.0010, 0.0010, 0.0010, 0.0010, 0.0010, 0.0010, 0.0010, 0.0010,\n",
       "        0.0010, 0.0010, 0.0010, 0.0010, 0.0010, 0.0010, 0.0010, 0.0010, 0.0010,\n",
       "        0.0010, 0.0010, 0.0010, 0.0010, 0.0010, 0.0010, 0.0010, 0.0010, 0.0010,\n",
       "        0.0010, 0.0010, 0.0010, 0.0010, 0.0010, 0.0010, 0.0010, 0.0010, 0.0010,\n",
       "        0.0010, 0.0010, 0.0010, 0.0010, 0.0010, 0.0010, 0.0010, 0.0010, 0.0010,\n",
       "        0.0010, 0.0010, 0.0010, 0.0010, 0.0010, 0.0010, 0.0010, 0.0010, 0.0010,\n",
       "        0.0010, 0.0010, 0.0010, 0.0010, 0.0010, 0.0010, 0.0010, 0.0010, 0.0010,\n",
       "        0.0010, 0.0010, 0.0010, 0.0010, 0.0010, 0.0010, 0.0010, 0.0010, 0.0010,\n",
       "        0.0010, 0.0010, 0.0010, 0.0010, 0.0010, 0.0010, 0.0010, 0.0010, 0.0010,\n",
       "        0.0010, 0.0010, 0.0010, 0.0010, 0.0010, 0.0010, 0.0010, 0.0010, 0.0010,\n",
       "        0.0010, 0.0010, 0.0010, 0.0010, 0.0010, 0.0010, 0.0010, 0.0010, 0.0010,\n",
       "        0.0010, 0.0010, 0.0010, 0.0010, 0.0010, 0.0010, 0.0010, 0.0010, 0.0010,\n",
       "        0.0010, 0.0010, 0.0010, 0.0010, 0.0010, 0.0010, 0.0010, 0.0010, 0.0010,\n",
       "        0.0010, 0.0010, 0.0010, 0.0010, 0.0010, 0.0010, 0.0010, 0.0010, 0.0010,\n",
       "        0.0010, 0.0010, 0.0010, 0.0010, 0.0010, 0.0010, 0.0010, 0.0010, 0.0010,\n",
       "        0.0010, 0.0010, 0.0010, 0.0010, 0.0010, 0.0010, 0.0010, 0.0010, 0.0010,\n",
       "        0.0010, 0.0010, 0.0010, 0.0010, 0.0010, 0.0010, 0.0010, 0.0010, 0.0010,\n",
       "        0.0010, 0.0010, 0.0010, 0.0010, 0.0010, 0.0010, 0.0010, 0.0010, 0.0010,\n",
       "        0.0010, 0.0010, 0.0010, 0.0010, 0.0010, 0.0010, 0.0010, 0.0010, 0.0010,\n",
       "        0.0010, 0.0010, 0.0010, 0.0010, 0.0010, 0.0010, 0.0010, 0.0010, 0.0010,\n",
       "        0.0010, 0.0010, 0.0010, 0.0010, 0.0010, 0.0010, 0.0010, 0.0010, 0.0010,\n",
       "        0.0010], dtype=torch.float64)"
      ]
     },
     "execution_count": 87,
     "metadata": {},
     "output_type": "execute_result"
    }
   ],
   "source": [
    "traces.weights"
   ]
  },
  {
   "cell_type": "code",
   "execution_count": 88,
   "metadata": {
    "pycharm": {
     "name": "#%%\n"
    }
   },
   "outputs": [
    {
     "data": {
      "text/plain": [
       "Empirical(items:1000, weighted:False)"
      ]
     },
     "execution_count": 88,
     "metadata": {},
     "output_type": "execute_result"
    }
   ],
   "source": [
    "simulatorginkgoprior.update_DIS_weights(traces)"
   ]
  },
  {
   "cell_type": "code",
   "execution_count": 89,
   "metadata": {
    "pycharm": {
     "name": "#%%\n"
    }
   },
   "outputs": [
    {
     "data": {
      "text/plain": [
       "tensor([ -21.6879,  -17.3491,  -36.6432,   -7.9277,  -14.0398,   -7.6781,\n",
       "         -31.1890,   -7.1808,   -8.5350,   -7.4057,   -9.2406,  -11.4537,\n",
       "          -7.1612,  -25.5693,   -7.2315,   -9.2615,   -7.1791,  -14.2828,\n",
       "         -25.8906,  -11.3743,   -8.1185,  -14.5284,   -8.2660,   -7.8342,\n",
       "          -7.8456,   -7.9829,   -6.9831,   -7.0542,   -6.9772,   -7.5438,\n",
       "          -7.2729,   -6.9817,  -13.2117,   -7.1212,   -9.9674,   -8.3138,\n",
       "          -7.0438,   -8.2212,   -7.1581,   -8.4023,   -7.0356,   -7.2390,\n",
       "          -7.1890,   -7.0418,  -21.4094,   -9.6646,   -8.6639,   -6.9798,\n",
       "          -7.1028,   -7.1446,  -61.3316,   -7.1064,   -7.9019,   -7.0798,\n",
       "          -7.0133,   -9.0013,   -7.4334,   -8.4813,   -7.1046,   -7.5853,\n",
       "          -7.0362,   -7.3382,  -12.7860,   -7.7977,   -7.3152,  -11.4837,\n",
       "         -10.1196,  -20.3087,   -8.3031,  -20.9349,   -7.1445,  -25.6597,\n",
       "          -8.1058,  -32.5959,   -8.5990,  -10.7230,  -26.8772,  -11.1644,\n",
       "         -12.7150,   -7.0549,  -30.6345,   -7.5065,  -10.8617,  -33.0641,\n",
       "          -7.1363,   -7.4587,  -11.5027,   -8.9757,  -14.8871,  -10.9426,\n",
       "          -7.0725,   -8.3714,  -15.6042,   -7.0622,   -7.9217,  -11.1811,\n",
       "         -19.3590,  -16.2207,   -7.2601,   -7.0310,   -7.0039,   -7.1118,\n",
       "          -7.2237,   -7.1402,   -7.0838,  -25.1083,   -9.3903,   -7.0069,\n",
       "         -15.5240,   -7.2853,  -11.2981,   -7.2540,   -7.0502,  -18.0720,\n",
       "          -8.9033,   -8.4419,   -7.1125,  -12.3979,  -10.7939,  -32.6763,\n",
       "         -10.1629,  -43.1087,  -13.3538,  -24.6755,   -8.0083,  -11.6648,\n",
       "          -8.5927,  -12.4819,   -7.5350,   -7.5840,   -7.8652,  -15.1826,\n",
       "          -9.5263,  -21.2295,   -8.6077,   -7.3500,   -7.4487,  -17.2860,\n",
       "         -12.2186,   -7.4380,  -13.1449,  -10.7198,   -7.6152,   -7.0666,\n",
       "         -14.6073,   -7.8774,  -17.2458,   -8.5652,  -11.7774,   -8.8430,\n",
       "          -6.9580,   -6.9735,   -7.0586,   -7.1541,   -7.0618,   -7.1001,\n",
       "         -10.4806,   -7.0478,  -10.6976,   -7.1700,   -7.3876,   -8.6714,\n",
       "          -7.1322,   -7.0102,   -9.3446,   -8.3362,   -9.3918,  -10.8018,\n",
       "          -7.1694,   -9.0744,  -10.3119,   -8.8535,   -8.8675,   -7.0926,\n",
       "         -26.7733,   -9.5073,  -11.2571,   -7.0056,   -7.7370,   -7.3071,\n",
       "          -8.0871,  -55.8770,   -9.4903,   -9.5544,  -17.5464,   -7.7551,\n",
       "          -8.6948,  -15.0626,   -7.2875,  -35.9428,   -6.9862,   -7.0693,\n",
       "         -17.6200,  -27.0081,   -7.5419,   -7.5475,   -8.5812,   -7.3275,\n",
       "          -7.0928,   -7.2114,  -17.0334,   -8.9594,   -6.9481,   -8.2182,\n",
       "          -7.3342,   -7.0986,   -8.6519,  -12.9544,  -19.9336,   -8.9357,\n",
       "         -12.6110,  -11.2748,   -8.2213,   -7.1740,   -8.2987,   -7.5517,\n",
       "         -10.3632,  -14.7962,  -10.3913,  -21.2687,   -7.1543,   -7.0734,\n",
       "         -17.2639,  -10.7419,  -46.3114,   -8.8120,   -7.5042,  -12.7253,\n",
       "          -7.1212,  -17.0692,   -9.3199,   -7.4303,   -7.1571,   -7.1869,\n",
       "          -9.9009,   -7.4317,  -42.2100,  -20.6364,  -11.1688,  -13.1229,\n",
       "          -7.0101,   -8.4489,  -22.7140,  -10.6444,   -7.0739,  -11.2129,\n",
       "          -9.0338,   -7.1730,  -21.9400,   -7.9446,   -8.1926,  -29.7573,\n",
       "         -18.1447,   -9.8430,   -6.9720,   -7.3069,  -35.0006,   -8.1140,\n",
       "         -14.6189,  -32.8973,   -7.1918,   -7.0308,   -7.0352,  -12.7198,\n",
       "          -9.8512,   -9.1533,  -25.4794,   -7.9183,  -34.4161,   -8.5477,\n",
       "         -11.5484,   -7.0694,   -8.3721,   -8.4132,   -7.3567,  -13.4582,\n",
       "          -7.6518,   -7.0474,  -17.2722,  -14.3402,   -8.0647,   -9.0975,\n",
       "         -13.4148,  -15.5492,   -8.9532,   -9.6658,  -32.9412,  -13.8153,\n",
       "          -7.5443,  -10.0442,  -17.5843,   -7.5330,   -7.0253,  -13.2983,\n",
       "         -14.1789,   -9.8686,   -7.5278,   -7.1300,   -9.8931,   -7.4666,\n",
       "         -16.4233,   -9.1749,   -8.2628,  -14.5968,   -7.0275,  -12.6795,\n",
       "         -32.3882,   -7.5800,   -7.9384,   -7.0385,   -7.0822,  -14.1702,\n",
       "          -7.4508,   -6.9750,  -10.5129,   -7.1556,   -7.6414,  -12.8412,\n",
       "          -7.2147,   -7.7645,  -25.0694,  -14.0293,   -9.4091,  -14.4657,\n",
       "         -10.9934,   -7.0477,  -10.3187,   -9.6280,   -7.4179,  -11.4896,\n",
       "         -11.1297,  -14.5823,   -8.0973,  -14.7103,   -7.6370,   -7.0946,\n",
       "          -7.0074,   -8.7440,   -7.2048,  -11.1002,  -11.1867,   -7.0354,\n",
       "          -7.4593,   -7.1150,  -12.3041,   -7.9391,   -9.5598,   -8.0931,\n",
       "          -7.9778,  -21.6028,  -25.9326,   -7.1016,   -7.1348,   -7.0835,\n",
       "         -33.5333,   -7.8741,   -6.9748,   -8.8935,  -16.1524,   -9.5240,\n",
       "          -8.2756,   -7.3221,  -10.2313,   -8.1141,   -8.1734,  -32.3955,\n",
       "         -12.7077,  -10.8696,   -8.6376,  -20.4946,  -18.9251,  -10.9757,\n",
       "         -14.7761,  -10.3625,   -7.0464,  -19.4667,   -6.9865,   -7.3081,\n",
       "         -11.9146,   -7.1349,   -7.0116,   -7.4923,   -7.0434,  -20.1721,\n",
       "         -17.4198,   -9.7811,  -11.0572,   -7.0509,  -12.6697,   -9.6113,\n",
       "          -7.5591,   -7.5273,   -6.9975,   -7.1513,  -11.4826,  -11.6819,\n",
       "          -7.1305, -183.1074,   -7.0570,   -7.0654,   -7.7821,   -9.4360,\n",
       "         -10.5786,  -10.1272,  -16.0105,  -10.7305,   -7.1513,   -8.9094,\n",
       "          -6.9900,  -13.1618,   -6.9798,  -21.1828,  -12.0250,  -32.4183,\n",
       "          -7.0479,   -7.1759,   -8.1508,  -42.2294,   -7.0723,  -20.1998,\n",
       "         -12.4571,   -7.3402,   -7.0269,  -11.7852,  -13.4378,   -7.4747,\n",
       "          -7.2123,   -8.0196,  -10.2076,   -9.2288,  -10.3736,  -23.3225,\n",
       "         -10.0089,   -7.1203,  -16.8990,   -7.9346,  -33.5164,  -20.3746,\n",
       "          -8.2759,   -7.7417,  -15.4259,  -12.5225,  -11.6718,   -7.0145,\n",
       "         -21.1932,  -14.8741,  -11.0381,   -8.6940,  -13.4318,   -7.0351,\n",
       "          -7.0017,   -7.6146,   -7.1014,   -9.1508,   -7.3164,  -74.7773,\n",
       "          -9.8616,  -13.1501,  -16.2024,   -7.2595,   -8.3454,  -11.8488,\n",
       "          -8.2941,  -21.9860,  -12.7834,   -7.1411,   -7.2217,   -7.9635,\n",
       "         -11.6309,  -17.4699,   -7.0013,   -6.9786,   -7.0964,   -7.4180,\n",
       "          -7.0200,   -7.0113,   -7.1131,   -7.5667,   -7.0454,  -42.4203,\n",
       "         -14.5147,  -11.5480,  -31.6761,   -8.5989,   -8.7338,  -11.7142,\n",
       "          -7.0601,  -11.7387,   -8.3713,   -7.6688,  -16.8522,   -9.2129,\n",
       "         -13.5586,  -11.5214,   -7.5277,   -6.9872,   -7.3652,   -7.4221,\n",
       "          -9.8387,   -7.5616,  -14.4546,  -17.1835,   -9.6515,   -7.2278,\n",
       "          -7.0152,   -7.1310,   -7.1841,   -7.4568,   -8.7405,   -9.3307,\n",
       "          -9.0788,  -17.1175,  -11.2519,   -7.5519,   -8.8432,   -8.0759,\n",
       "          -6.9780,   -7.6045,   -7.5953,  -12.9088,   -7.5657,   -7.0805,\n",
       "         -12.6218,   -8.8706,  -14.0626,   -7.0554,  -10.0946,   -7.2514,\n",
       "          -7.4115,   -7.3512,  -15.2708,  -12.7993,   -9.1812,  -16.8914,\n",
       "          -7.0319,   -7.0119,   -7.5191,  -15.9194,   -7.4566,   -8.2557,\n",
       "          -8.3523,   -9.0030,   -7.2212,   -7.8833,   -7.4020,  -42.1301,\n",
       "          -6.9585,   -8.3764,   -7.3125,   -7.2791,  -20.3722,  -11.1255,\n",
       "          -7.3157,  -33.1352,   -7.2738,  -16.4203,   -8.1126,   -7.0330,\n",
       "         -12.6470,   -7.2439,  -13.0881,   -9.5115,  -17.6886,  -25.0792,\n",
       "          -7.5482,  -16.5839,   -8.2460,  -11.7943,  -10.2403,   -7.1418,\n",
       "         -11.9964,  -11.1884,   -7.1236,   -7.4566,  -18.3606,  -10.5106,\n",
       "         -10.7837,  -10.1114,  -12.7896,  -13.8631,   -8.2681,   -7.0665,\n",
       "          -6.9783,   -7.8352,   -7.0399,   -7.9207,   -7.4959,   -7.1703,\n",
       "          -7.6123,   -7.1792,   -7.0762,   -8.0092,  -12.6609,   -7.0549,\n",
       "          -8.3538,  -10.0902,  -11.9773,   -7.8086,   -7.4651,   -9.1500,\n",
       "         -12.1909,  -59.5619,   -9.1057,  -10.0295,   -7.2842,  -11.5333,\n",
       "          -7.7295,   -9.9668,  -11.5427,  -12.9519,   -7.7137,   -7.4291,\n",
       "          -9.3156,  -22.1751,  -13.1609,   -7.9595,  -14.3002,   -7.3494,\n",
       "         -18.0017,   -7.6708,   -7.0358,   -8.4601,  -17.7518,  -14.6176,\n",
       "         -21.0254,  -24.7706,  -17.7698,  -10.0012,  -12.7367,   -8.2873,\n",
       "          -8.1474,   -8.1815,   -7.0055,   -7.5129,   -7.1374,   -7.0074,\n",
       "          -7.5927,  -15.5629,   -7.6042,   -9.4256,  -11.4237,   -6.9772,\n",
       "         -12.5291,  -21.1143,   -9.9273,   -7.2774,   -7.0260,   -7.0444,\n",
       "          -7.9610,  -17.2526,   -7.1908,   -9.8805,  -32.4128,   -7.0822,\n",
       "          -7.1183,   -7.0601,   -8.5536,   -8.0918,   -9.3220,   -9.4489,\n",
       "          -9.5120,  -34.4938,  -11.6858,  -10.6193,  -13.3657,   -6.9830,\n",
       "         -20.6108,   -8.6005,   -7.5716,  -14.1703,   -7.1788,   -7.7669,\n",
       "          -8.9837,  -11.0318,  -16.7260,   -8.4950,   -7.6208,  -21.2840,\n",
       "          -7.1563,  -18.4259,  -18.3696,  -17.2424,   -9.1236,  -13.3376,\n",
       "         -10.1673,   -9.4314,   -7.1675,   -8.8796,  -18.3300,   -7.3908,\n",
       "          -9.5331,  -15.1515,  -22.8413,   -7.6428,   -7.1287,   -9.6735,\n",
       "          -8.3927,   -8.2897,  -17.4710,   -7.3733,   -7.8648,  -13.4073,\n",
       "         -10.1156,   -7.1847,  -10.5649,   -7.7922,  -13.9626,   -8.9898,\n",
       "          -8.6961,   -9.8873,   -7.3027,   -7.0789,   -7.7477,   -9.0834,\n",
       "         -20.1708,  -42.3234,   -7.0316,   -7.4533,  -12.2153,   -7.1607,\n",
       "         -12.2111,   -7.2780,   -7.0569,   -7.0797,   -8.2563,   -7.1234,\n",
       "          -7.5118,   -9.2302,   -7.9810,   -7.7852,   -7.2914,  -11.2880,\n",
       "          -7.6897,   -7.0172,   -7.9462,  -17.6507,  -13.6054,  -10.4809,\n",
       "          -8.2656,   -7.9715,  -21.0394,   -8.8032,   -7.9253,  -20.0240,\n",
       "          -7.0533,  -10.8057,   -7.1687,   -7.0599,   -7.7675,   -7.0238,\n",
       "          -7.4325,   -8.6728,  -14.2651,   -8.4493,   -8.6861,   -8.5838,\n",
       "         -10.7267,  -11.4531,   -7.0614,   -7.5728,   -7.6265,  -13.9805,\n",
       "         -12.9897,   -9.3027,   -7.0802,  -14.7456,   -7.0825,   -7.1897,\n",
       "          -9.2569,  -25.0287,  -12.6052,   -7.0205,  -11.6013,   -8.0011,\n",
       "          -7.9437,  -10.8296,   -7.6656,  -35.4434,   -7.5010,   -6.9771,\n",
       "         -12.6109,  -11.1567,  -26.3617,   -6.9662,   -7.1104,   -7.2772,\n",
       "         -20.2482,  -58.2368,   -8.8091,  -13.1333,   -7.7004,   -7.6180,\n",
       "          -6.9785,   -7.9741,  -12.3606,   -7.6957,   -8.3033,  -12.5510,\n",
       "          -8.9687,  -17.3740,   -7.3484,  -10.2482,   -7.3592,   -7.9309,\n",
       "          -7.1142,  -11.4882,  -20.9177,  -20.5812,  -14.2706,   -7.3063,\n",
       "          -7.0930,   -8.2729,  -17.1978,  -16.8659,  -14.6723,   -7.0315,\n",
       "         -10.4159,  -14.4036,  -17.3401,   -8.3517,   -9.2394,   -9.1040,\n",
       "         -20.0016,   -9.8071,   -7.0710,   -7.4365,   -9.9040,   -9.9604,\n",
       "          -7.4327,   -7.4059,   -9.9552,   -7.0113,   -7.0691,  -11.4112,\n",
       "          -8.9411,   -7.8926,   -9.0821,   -7.0391,   -7.0852,  -10.2046,\n",
       "         -16.9501,   -7.2973,   -7.4337,   -9.4685,   -7.3776,   -7.4607,\n",
       "          -7.0700,   -8.4419,   -8.5764,   -7.1092,  -10.9981,   -8.0777,\n",
       "         -30.3715,  -10.8927,   -7.0563,   -6.9845,   -8.0191,  -10.2162,\n",
       "          -7.2624,   -7.2460,   -7.4693,  -12.0391,   -7.4090,   -7.0288,\n",
       "          -7.9221,   -7.0207,   -7.0425,   -7.3229,   -7.2145,   -7.1189,\n",
       "          -9.1050,   -6.9919,   -7.2113,  -21.7255,   -8.1265,   -8.9073,\n",
       "         -10.9811,   -6.9638,   -9.1633,   -9.2136,   -8.4217,   -9.2894,\n",
       "          -7.1691,   -7.0122,   -8.6821,   -7.0576,  -14.8506,   -6.9884,\n",
       "         -10.7895,   -8.9764,  -10.0167,  -13.8736,   -8.7625,   -7.2022,\n",
       "          -9.4627,   -6.9811,  -11.3460,   -7.4707,  -25.3533,  -14.6886,\n",
       "         -14.4169,  -36.8756,   -7.1947,   -8.8978,  -12.7162,  -23.2063,\n",
       "         -17.0526,  -14.9681,   -7.0551,   -7.8559,   -7.0465,  -12.1248,\n",
       "         -10.9869,   -7.0134,   -8.8708,   -7.2497,   -7.2541,  -25.2670,\n",
       "          -7.2377,   -7.0787,   -7.0346,   -8.5863,  -11.3212,   -8.3980,\n",
       "         -13.8180,   -7.2037,   -7.0848,  -11.0630,   -8.5651,   -7.3637,\n",
       "         -15.2213,   -7.1550,   -7.0134,   -7.1066,   -6.9784,  -14.2941,\n",
       "          -9.0001,   -7.1487,  -10.0450,   -7.1120,  -11.1115,   -7.1124,\n",
       "         -14.7818,  -24.6986,   -7.1634,   -7.8049,  -13.2836,  -14.2110,\n",
       "         -11.1790,   -7.4982,   -7.9994,   -7.3206,  -21.4813,   -7.5469,\n",
       "          -6.9865,   -8.7576,   -7.2904,   -7.3635,   -7.8458,  -27.3293,\n",
       "         -17.3222,   -7.7937,   -6.9922,  -10.1938,   -7.4277,   -8.2475,\n",
       "         -14.6735,  -21.8184,   -8.5409,   -7.6200,   -9.1532,   -6.9663,\n",
       "         -20.9104,   -7.8848,   -7.3216,  -12.0349,   -9.1174,   -8.0250,\n",
       "         -10.0555,   -7.1391,  -11.3160,   -7.3221,   -9.3004,  -17.3581,\n",
       "          -7.0997,   -6.9736,   -8.2406,   -7.0970,  -20.8949,   -7.1012,\n",
       "          -9.0276,   -8.6309,  -41.1867,   -7.1272,  -32.5389,  -14.3386,\n",
       "         -17.8195,   -7.1933,  -17.5915,  -12.7708], dtype=torch.float64)"
      ]
     },
     "execution_count": 89,
     "metadata": {},
     "output_type": "execute_result"
    }
   ],
   "source": [
    "traces._categorical.logits"
   ]
  },
  {
   "cell_type": "code",
   "execution_count": 90,
   "metadata": {
    "pycharm": {
     "name": "#%%\n"
    }
   },
   "outputs": [
    {
     "data": {
      "text/plain": [
       "tensor([3.8112e-10, 2.9199e-08, 1.2191e-16, 3.6063e-04, 7.9905e-07, 4.6288e-04,\n",
       "        2.8495e-14, 7.6103e-04, 1.9648e-04, 6.0780e-04, 9.7023e-05, 1.0610e-05,\n",
       "        7.7611e-04, 7.8594e-12, 7.2342e-04, 9.5017e-05, 7.6235e-04, 6.2667e-07,\n",
       "        5.6997e-12, 1.1487e-05, 2.9797e-04, 4.9020e-07, 2.5711e-04, 3.9596e-04,\n",
       "        3.9147e-04, 3.4124e-04, 9.2739e-04, 8.6374e-04, 9.3291e-04, 5.2940e-04,\n",
       "        6.9410e-04, 9.2871e-04, 1.8290e-06, 8.0781e-04, 4.6903e-05, 2.4512e-04,\n",
       "        8.7284e-04, 2.6889e-04, 7.7851e-04, 2.2435e-04, 8.7999e-04, 7.1805e-04,\n",
       "        7.5483e-04, 8.7454e-04, 5.0351e-10, 6.3490e-05, 1.7271e-04, 9.3047e-04,\n",
       "        8.2278e-04, 7.8908e-04, 2.3122e-27, 8.1985e-04, 3.7005e-04, 8.4197e-04,\n",
       "        8.9986e-04, 1.2325e-04, 5.9120e-04, 2.0730e-04, 8.2130e-04, 5.0786e-04,\n",
       "        8.7946e-04, 6.5025e-04, 2.7996e-06, 4.1068e-04, 6.6533e-04, 1.0296e-05,\n",
       "        4.0281e-05, 1.5137e-09, 2.4774e-04, 8.0923e-10, 7.8923e-04, 7.1805e-12,\n",
       "        3.0177e-04, 6.9785e-15, 1.8428e-04, 2.2032e-05, 2.1250e-12, 1.4170e-05,\n",
       "        3.0058e-06, 8.6317e-04, 4.9612e-14, 5.4948e-04, 1.9179e-05, 4.3698e-15,\n",
       "        7.9570e-04, 5.7641e-04, 1.0102e-05, 1.2645e-04, 3.4246e-07, 1.7688e-05,\n",
       "        8.4811e-04, 2.3138e-04, 1.6718e-07, 8.5690e-04, 3.6280e-04, 1.3935e-05,\n",
       "        3.9130e-09, 9.0247e-08, 7.0304e-04, 8.8402e-04, 9.0834e-04, 8.1544e-04,\n",
       "        7.2912e-04, 7.9261e-04, 8.3858e-04, 1.2463e-11, 8.3534e-05, 9.0557e-04,\n",
       "        1.8115e-07, 6.8556e-04, 1.2396e-05, 7.0734e-04, 8.6724e-04, 1.4172e-08,\n",
       "        1.3595e-04, 2.1564e-04, 8.1488e-04, 4.1273e-06, 2.0523e-05, 6.4395e-15,\n",
       "        3.8574e-05, 1.8973e-19, 1.5869e-06, 1.9211e-11, 3.3268e-04, 8.5907e-06,\n",
       "        1.8546e-04, 3.7949e-06, 5.3405e-04, 5.0853e-04, 3.8387e-04, 2.5484e-07,\n",
       "        7.2909e-05, 6.0277e-10, 1.8270e-04, 6.4260e-04, 5.8218e-04, 3.1103e-08,\n",
       "        4.9379e-06, 5.8847e-04, 1.9554e-06, 2.2103e-05, 4.9290e-04, 8.5314e-04,\n",
       "        4.5304e-07, 3.7924e-04, 3.2379e-08, 1.9063e-04, 7.6759e-06, 1.4439e-04,\n",
       "        9.5104e-04, 9.3639e-04, 8.6001e-04, 7.8164e-04, 8.5723e-04, 8.2500e-04,\n",
       "        2.8076e-05, 8.6929e-04, 2.2599e-05, 7.6929e-04, 6.1887e-04, 1.7141e-04,\n",
       "        7.9894e-04, 9.0262e-04, 8.7441e-05, 2.3969e-04, 8.3406e-05, 2.0364e-05,\n",
       "        7.6978e-04, 1.1457e-04, 3.3236e-05, 1.4289e-04, 1.4089e-04, 8.3123e-04,\n",
       "        2.3578e-12, 7.4307e-05, 1.2915e-05, 9.0678e-04, 4.3637e-04, 6.7077e-04,\n",
       "        3.0749e-04, 5.4064e-25, 7.5581e-05, 7.0888e-05, 2.3970e-08, 4.2854e-04,\n",
       "        1.6746e-04, 2.8734e-07, 6.8404e-04, 2.4560e-16, 9.2457e-04, 8.5085e-04,\n",
       "        2.2270e-08, 1.8644e-12, 5.3038e-04, 5.2744e-04, 1.8760e-04, 6.5723e-04,\n",
       "        8.3109e-04, 7.3809e-04, 4.0039e-08, 1.2852e-04, 9.6049e-04, 2.6971e-04,\n",
       "        6.5281e-04, 8.2623e-04, 1.7480e-04, 2.3657e-06, 2.2027e-09, 1.3161e-04,\n",
       "        3.3352e-06, 1.2689e-05, 2.6887e-04, 7.6624e-04, 2.4883e-04, 5.2524e-04,\n",
       "        3.1572e-05, 3.7506e-07, 3.0700e-05, 5.7962e-10, 7.8151e-04, 8.4739e-04,\n",
       "        3.1796e-08, 2.1620e-05, 7.7132e-21, 1.4893e-04, 5.5078e-04, 2.9750e-06,\n",
       "        8.0784e-04, 3.8630e-08, 8.9620e-05, 5.9300e-04, 7.7934e-04, 7.5642e-04,\n",
       "        5.0128e-05, 5.9221e-04, 4.6604e-19, 1.0908e-09, 1.4107e-05, 1.9990e-06,\n",
       "        9.0270e-04, 2.1414e-04, 1.3660e-10, 2.3834e-05, 8.4690e-04, 1.3499e-05,\n",
       "        1.1931e-04, 7.6704e-04, 2.9619e-10, 3.5459e-04, 2.7669e-04, 1.1928e-13,\n",
       "        1.3179e-08, 5.3116e-05, 9.3777e-04, 6.7086e-04, 6.3014e-16, 2.9931e-04,\n",
       "        4.4781e-07, 5.1626e-15, 7.5270e-04, 8.8423e-04, 8.8034e-04, 2.9913e-06,\n",
       "        5.2682e-05, 1.0587e-04, 8.5988e-12, 3.6401e-04, 1.1306e-15, 1.9399e-04,\n",
       "        9.6519e-06, 8.5077e-04, 2.3124e-04, 2.2191e-04, 6.3829e-04, 1.4294e-06,\n",
       "        4.7520e-04, 8.6971e-04, 3.1533e-08, 5.9173e-07, 3.1444e-04, 1.1195e-04,\n",
       "        1.4929e-06, 1.7664e-07, 1.2932e-04, 6.3413e-05, 4.9410e-15, 1.0002e-06,\n",
       "        5.2913e-04, 4.3436e-05, 2.3079e-08, 5.3514e-04, 8.8906e-04, 1.6773e-06,\n",
       "        6.9531e-07, 5.1777e-05, 5.3790e-04, 8.0074e-04, 5.0524e-05, 5.7189e-04,\n",
       "        7.3696e-08, 1.0360e-04, 2.5795e-04, 4.5783e-07, 8.8716e-04, 3.1143e-06,\n",
       "        8.5899e-15, 5.1054e-04, 3.5679e-04, 8.7744e-04, 8.3994e-04, 7.0139e-07,\n",
       "        5.8097e-04, 9.3499e-04, 2.7184e-05, 7.8052e-04, 4.8015e-04, 2.6493e-06,\n",
       "        7.3568e-04, 4.2455e-04, 1.2957e-11, 8.0753e-07, 8.1974e-05, 5.2192e-07,\n",
       "        1.6813e-05, 8.6944e-04, 3.3009e-05, 6.5861e-05, 6.0043e-04, 1.0236e-05,\n",
       "        1.4670e-05, 4.6450e-07, 3.0436e-04, 4.0870e-07, 4.8226e-04, 8.2959e-04,\n",
       "        9.0519e-04, 1.5941e-04, 7.4305e-04, 1.5109e-05, 1.3857e-05, 8.8012e-04,\n",
       "        5.7606e-04, 8.1286e-04, 4.5329e-06, 3.5652e-04, 7.0510e-05, 3.0564e-04,\n",
       "        3.4298e-04, 4.1499e-10, 5.4651e-12, 8.2381e-04, 7.9686e-04, 8.3886e-04,\n",
       "        2.7332e-15, 3.8049e-04, 9.3515e-04, 1.3728e-04, 9.6630e-08, 7.3078e-05,\n",
       "        2.5465e-04, 6.6078e-04, 3.6025e-05, 2.9928e-04, 2.8206e-04, 8.5276e-15,\n",
       "        3.0278e-06, 1.9028e-05, 1.7731e-04, 1.2569e-09, 6.0386e-09, 1.7113e-05,\n",
       "        3.8266e-07, 3.1596e-05, 8.7049e-04, 3.5132e-09, 9.2426e-04, 6.7006e-04,\n",
       "        6.6917e-06, 7.9680e-04, 9.0135e-04, 5.5733e-04, 8.7315e-04, 1.7352e-09,\n",
       "        2.7207e-08, 5.6509e-05, 1.5774e-05, 8.6665e-04, 3.1449e-06, 6.6967e-05,\n",
       "        5.2133e-04, 5.3817e-04, 9.1418e-04, 7.8381e-04, 1.0308e-05, 8.4449e-06,\n",
       "        8.0033e-04, 3.0023e-80, 8.6139e-04, 8.5416e-04, 4.1714e-04, 7.9798e-05,\n",
       "        2.5455e-05, 3.9977e-05, 1.1136e-07, 2.1867e-05, 7.8384e-04, 1.3511e-04,\n",
       "        9.2101e-04, 1.9227e-06, 9.3050e-04, 6.3159e-10, 5.9926e-06, 8.3353e-15,\n",
       "        8.6923e-04, 7.6477e-04, 2.8851e-04, 4.5711e-19, 8.4829e-04, 1.6878e-09,\n",
       "        3.8900e-06, 6.4893e-04, 8.8768e-04, 7.6162e-06, 1.4590e-06, 5.6727e-04,\n",
       "        7.3749e-04, 3.2894e-04, 3.6889e-05, 9.8171e-05, 3.1248e-05, 7.4332e-11,\n",
       "        4.5000e-05, 8.0856e-04, 4.5800e-08, 3.5813e-04, 2.7798e-15, 1.4172e-09,\n",
       "        2.5458e-04, 4.3432e-04, 1.9980e-07, 3.6437e-06, 8.5309e-06, 8.9875e-04,\n",
       "        6.2503e-10, 3.4695e-07, 1.6077e-05, 1.6759e-04, 1.4677e-06, 8.8047e-04,\n",
       "        9.1037e-04, 4.9322e-04, 8.2396e-04, 1.0614e-04, 6.6452e-04, 3.3468e-33,\n",
       "        5.2138e-05, 1.9453e-06, 9.1911e-08, 7.0345e-04, 2.3749e-04, 7.1475e-06,\n",
       "        2.4998e-04, 2.8288e-10, 2.8069e-06, 7.9187e-04, 7.3056e-04, 3.4793e-04,\n",
       "        8.8871e-06, 2.5878e-08, 9.1066e-04, 9.3165e-04, 8.2812e-04, 6.0034e-04,\n",
       "        8.9381e-04, 9.0161e-04, 8.1436e-04, 5.1742e-04, 8.7142e-04, 3.7765e-19,\n",
       "        4.9698e-07, 9.6550e-06, 1.7509e-14, 1.8431e-04, 1.6105e-04, 8.1770e-06,\n",
       "        8.5866e-04, 7.9792e-06, 2.3142e-04, 4.6717e-04, 4.7993e-08, 9.9744e-05,\n",
       "        1.2929e-06, 9.9155e-06, 5.3797e-04, 9.2362e-04, 6.3291e-04, 5.9792e-04,\n",
       "        5.3346e-05, 5.2004e-04, 5.2775e-07, 3.4459e-08, 6.4329e-05, 7.2615e-04,\n",
       "        8.9812e-04, 7.9991e-04, 7.5852e-04, 5.7750e-04, 1.5998e-04, 8.8656e-05,\n",
       "        1.1406e-04, 3.6809e-08, 1.2982e-05, 5.2509e-04, 1.4436e-04, 3.1095e-04,\n",
       "        9.3219e-04, 4.9822e-04, 5.0280e-04, 2.4761e-06, 5.1790e-04, 8.4137e-04,\n",
       "        3.2992e-06, 1.4046e-04, 7.8108e-07, 8.6276e-04, 4.1304e-05, 7.0916e-04,\n",
       "        6.0427e-04, 6.4185e-04, 2.3334e-07, 2.7627e-06, 1.0296e-04, 4.6150e-08,\n",
       "        8.8322e-04, 9.0113e-04, 5.4260e-04, 1.2198e-07, 5.7764e-04, 2.5978e-04,\n",
       "        2.3585e-04, 1.2304e-04, 7.3095e-04, 3.7700e-04, 6.1002e-04, 5.0480e-19,\n",
       "        9.5053e-04, 2.3024e-04, 6.6717e-04, 6.8979e-04, 1.4205e-09, 1.4732e-05,\n",
       "        6.6499e-04, 4.0699e-15, 6.9346e-04, 7.3919e-08, 2.9974e-04, 8.8224e-04,\n",
       "        3.2173e-06, 7.1454e-04, 2.0697e-06, 7.3997e-05, 2.0795e-08, 1.2830e-11,\n",
       "        5.2704e-04, 6.2762e-08, 2.6231e-04, 7.5477e-06, 3.5700e-05, 7.9130e-04,\n",
       "        6.1663e-06, 1.3833e-05, 8.0588e-04, 5.7762e-04, 1.0619e-08, 2.7247e-05,\n",
       "        2.0734e-05, 4.0613e-05, 2.7896e-06, 9.5355e-07, 2.5657e-04, 8.5324e-04,\n",
       "        9.3192e-04, 3.9556e-04, 8.7621e-04, 3.6313e-04, 5.5535e-04, 7.6913e-04,\n",
       "        4.9435e-04, 7.6229e-04, 8.4501e-04, 3.3240e-04, 3.1728e-06, 8.6313e-04,\n",
       "        2.3550e-04, 4.1482e-05, 6.2851e-06, 4.0621e-04, 5.7271e-04, 1.0622e-04,\n",
       "        5.0765e-06, 1.3571e-26, 1.1103e-04, 4.4080e-05, 6.8631e-04, 9.7984e-06,\n",
       "        4.3966e-04, 4.6931e-05, 9.7067e-06, 2.3718e-06, 4.4666e-04, 5.9370e-04,\n",
       "        9.0005e-05, 2.3413e-10, 1.9244e-06, 3.4934e-04, 6.1588e-07, 6.4301e-04,\n",
       "        1.5204e-08, 4.6622e-04, 8.7980e-04, 2.1174e-04, 1.9520e-08, 4.4838e-07,\n",
       "        7.3926e-10, 1.7468e-11, 1.9173e-08, 4.5346e-05, 2.9413e-06, 2.5170e-04,\n",
       "        2.8948e-04, 2.7977e-04, 9.0685e-04, 5.4602e-04, 7.9481e-04, 9.0519e-04,\n",
       "        5.0412e-04, 1.7423e-07, 4.9835e-04, 8.0635e-05, 1.0933e-05, 9.3291e-04,\n",
       "        3.6196e-06, 6.7638e-10, 4.8825e-05, 6.9100e-04, 8.8849e-04, 8.7228e-04,\n",
       "        3.4879e-04, 3.2157e-08, 7.5348e-04, 5.1160e-05, 8.3811e-15, 8.3989e-04,\n",
       "        8.1015e-04, 8.5868e-04, 1.9285e-04, 3.0605e-04, 8.9436e-05, 7.8775e-05,\n",
       "        7.3960e-05, 1.0460e-15, 8.4123e-06, 2.4441e-05, 1.5680e-06, 9.2749e-04,\n",
       "        1.1190e-09, 1.8402e-04, 5.1486e-04, 7.0133e-07, 7.6259e-04, 4.2352e-04,\n",
       "        1.2544e-04, 1.6179e-05, 5.4451e-08, 2.0450e-04, 4.9017e-04, 5.7080e-10,\n",
       "        7.7995e-04, 9.9482e-09, 1.0524e-08, 3.2489e-08, 1.0906e-04, 1.6126e-06,\n",
       "        3.8407e-05, 8.0164e-05, 7.7125e-04, 1.3919e-04, 1.0949e-08, 6.1689e-04,\n",
       "        7.2414e-05, 2.6290e-07, 1.2026e-10, 4.7949e-04, 8.0177e-04, 6.2931e-05,\n",
       "        2.2651e-04, 2.5110e-04, 2.5849e-08, 6.2777e-04, 3.8404e-04, 1.5041e-06,\n",
       "        4.0444e-05, 7.5809e-04, 2.5806e-05, 4.1293e-04, 8.6318e-07, 1.2468e-04,\n",
       "        1.6723e-04, 5.0814e-05, 6.7370e-04, 8.4272e-04, 4.3175e-04, 1.1353e-04,\n",
       "        1.7376e-09, 4.1610e-19, 8.8356e-04, 5.7950e-04, 4.9541e-06, 7.7654e-04,\n",
       "        4.9747e-06, 6.9057e-04, 8.6144e-04, 8.4205e-04, 2.5962e-04, 8.0600e-04,\n",
       "        5.4660e-04, 9.8030e-05, 3.4189e-04, 4.1586e-04, 6.8137e-04, 1.2522e-05,\n",
       "        4.5751e-04, 8.9631e-04, 3.5401e-04, 2.1596e-08, 1.2339e-06, 2.8067e-05,\n",
       "        2.5723e-04, 3.4515e-04, 7.2897e-10, 1.5025e-04, 3.6148e-04, 2.0123e-09,\n",
       "        8.6458e-04, 2.0283e-05, 7.7036e-04, 8.5887e-04, 4.2326e-04, 8.9040e-04,\n",
       "        5.9169e-04, 1.7118e-04, 6.3792e-07, 2.1404e-04, 1.6892e-04, 1.8712e-04,\n",
       "        2.1950e-05, 1.0617e-05, 8.5756e-04, 5.1425e-04, 4.8739e-04, 8.4790e-07,\n",
       "        2.2837e-06, 9.1175e-05, 8.4159e-04, 3.9452e-07, 8.3969e-04, 7.5430e-04,\n",
       "        9.5451e-05, 1.3495e-11, 3.3544e-06, 8.9340e-04, 9.1537e-06, 3.3508e-04,\n",
       "        3.5489e-04, 1.9805e-05, 4.6867e-04, 4.0470e-16, 5.5253e-04, 9.3299e-04,\n",
       "        3.3356e-06, 1.4280e-05, 3.5586e-12, 9.4326e-04, 8.1654e-04, 6.9109e-04,\n",
       "        1.6081e-09, 5.1058e-26, 1.4937e-04, 1.9782e-06, 4.5266e-04, 4.9152e-04,\n",
       "        9.3172e-04, 3.4426e-04, 4.2841e-06, 4.5477e-04, 2.4770e-04, 3.5413e-06,\n",
       "        1.2734e-04, 2.8481e-08, 6.4361e-04, 3.5421e-05, 6.3670e-04, 3.5947e-04,\n",
       "        8.1344e-04, 1.0250e-05, 8.2333e-10, 1.1527e-09, 6.3438e-07, 6.7131e-04,\n",
       "        8.3089e-04, 2.5534e-04, 3.3968e-08, 4.7339e-08, 4.2453e-07, 8.8360e-04,\n",
       "        2.9953e-05, 5.5538e-07, 2.9464e-08, 2.3599e-04, 9.7134e-05, 1.1122e-04,\n",
       "        2.0580e-09, 5.5061e-05, 8.4938e-04, 5.8935e-04, 4.9973e-05, 4.7235e-05,\n",
       "        5.9161e-04, 6.0766e-04, 4.7479e-05, 9.0167e-04, 8.5096e-04, 1.1071e-05,\n",
       "        1.3090e-04, 3.7352e-04, 1.1368e-04, 8.7688e-04, 8.3742e-04, 3.7001e-05,\n",
       "        4.3517e-08, 6.7735e-04, 5.9102e-04, 7.7244e-05, 6.2509e-04, 5.7524e-04,\n",
       "        8.5026e-04, 2.1564e-04, 1.8850e-04, 8.1757e-04, 1.6734e-05, 3.1040e-04,\n",
       "        6.4541e-14, 1.8594e-05, 8.6199e-04, 9.2608e-04, 3.2912e-04, 3.6573e-05,\n",
       "        7.0141e-04, 7.1302e-04, 5.7031e-04, 5.9086e-06, 6.0576e-04, 8.8600e-04,\n",
       "        3.6263e-04, 8.9324e-04, 8.7395e-04, 6.6023e-04, 7.3581e-04, 8.0969e-04,\n",
       "        1.1111e-04, 9.1926e-04, 7.3823e-04, 3.6706e-10, 2.9559e-04, 1.3540e-04,\n",
       "        1.7021e-05, 9.4548e-04, 1.0482e-04, 9.9673e-05, 2.2004e-04, 9.2394e-05,\n",
       "        7.7000e-04, 9.0079e-04, 1.6959e-04, 8.6083e-04, 3.5520e-07, 9.2252e-04,\n",
       "        2.0614e-05, 1.2636e-04, 4.4648e-05, 9.4359e-07, 1.5650e-04, 7.4493e-04,\n",
       "        7.7700e-05, 9.2928e-04, 1.1817e-05, 5.6954e-04, 9.7540e-12, 4.1764e-07,\n",
       "        5.4806e-07, 9.6635e-17, 7.5055e-04, 1.3669e-04, 3.0022e-06, 8.3490e-11,\n",
       "        3.9280e-08, 3.1581e-07, 8.6298e-04, 3.8746e-04, 8.7043e-04, 5.4232e-06,\n",
       "        1.6922e-05, 8.9973e-04, 1.4043e-04, 7.1036e-04, 7.0727e-04, 1.0634e-11,\n",
       "        7.1898e-04, 8.4284e-04, 8.8091e-04, 1.8664e-04, 1.2114e-05, 2.2532e-04,\n",
       "        9.9754e-07, 7.4383e-04, 8.3774e-04, 1.5681e-05, 1.9064e-04, 6.3386e-04,\n",
       "        2.4517e-07, 7.8094e-04, 8.9975e-04, 8.1967e-04, 9.3176e-04, 6.1963e-07,\n",
       "        1.2340e-04, 7.8590e-04, 4.3401e-05, 8.1523e-04, 1.4940e-05, 8.1493e-04,\n",
       "        3.8051e-07, 1.8773e-11, 7.7443e-04, 4.0774e-04, 1.7023e-06, 6.7337e-07,\n",
       "        1.3965e-05, 5.5406e-04, 3.3567e-04, 6.6177e-04, 4.6859e-10, 5.2775e-04,\n",
       "        9.2429e-04, 1.5726e-04, 6.8203e-04, 6.3397e-04, 3.9140e-04, 1.3522e-12,\n",
       "        2.9996e-08, 4.1233e-04, 9.1899e-04, 3.7403e-05, 5.9455e-04, 2.6191e-04,\n",
       "        4.2401e-07, 3.3449e-10, 1.9532e-04, 4.9056e-04, 1.0588e-04, 9.4311e-04,\n",
       "        8.2933e-10, 3.7640e-04, 6.6110e-04, 5.9337e-06, 1.0974e-04, 3.2717e-04,\n",
       "        4.2947e-05, 7.9344e-04, 1.2177e-05, 6.6077e-04, 9.1388e-05, 2.8937e-08,\n",
       "        8.2536e-04, 9.3627e-04, 2.6374e-04, 8.2754e-04, 8.4226e-10, 8.2414e-04,\n",
       "        1.2005e-04, 1.7851e-04, 1.2967e-18, 8.0293e-04, 7.3878e-15, 5.9270e-07,\n",
       "        1.8242e-08, 7.5159e-04, 2.2914e-08, 2.8426e-06], dtype=torch.float64)"
      ]
     },
     "execution_count": 90,
     "metadata": {},
     "output_type": "execute_result"
    }
   ],
   "source": [
    "traces._categorical.probs"
   ]
  },
  {
   "cell_type": "code",
   "execution_count": 92,
   "metadata": {
    "pycharm": {
     "name": "#%%\n"
    }
   },
   "outputs": [
    {
     "data": {
      "text/plain": [
       "tensor(0.3352, dtype=torch.float64)"
      ]
     },
     "execution_count": 92,
     "metadata": {},
     "output_type": "execute_result"
    }
   ],
   "source": [
    "traces.weights.sum()"
   ]
  },
  {
   "cell_type": "code",
   "execution_count": null,
   "metadata": {
    "pycharm": {
     "name": "#%%\n"
    }
   },
   "outputs": [],
   "source": [
    "posteriors"
   ]
  },
  {
   "cell_type": "code",
   "execution_count": 25,
   "metadata": {},
   "outputs": [
    {
     "data": {
      "text/plain": [
       "array([7.74087531e-03, 5.31802311e-09, 1.88755990e-10, ...,\n",
       "       1.76156460e-04, 1.21986334e-03, 2.89106453e-18])"
      ]
     },
     "execution_count": 25,
     "metadata": {},
     "output_type": "execute_result"
    }
   ],
   "source": [
    "posteriors[0].weights_numpy()"
   ]
  },
  {
   "cell_type": "code",
   "execution_count": 28,
   "metadata": {},
   "outputs": [],
   "source": [
    "with open(f'network_parallel_15/LSTM_posterior_20', 'rb') as f:\n",
    "    posterior = pickle.load(f)\n",
    "    posteriors.append(posterior)"
   ]
  },
  {
   "cell_type": "code",
   "execution_count": 29,
   "metadata": {},
   "outputs": [
    {
     "data": {
      "image/png": "[encoded data removed]",
      "text/plain": [
       "<Figure size 432x288 with 1 Axes>"
      ]
     },
     "metadata": {
      "needs_background": "light"
     },
     "output_type": "display_data"
    },
    {
     "data": {
      "image/png": "[encoded data removed]",
      "text/plain": [
       "<Figure size 432x288 with 1 Axes>"
      ]
     },
     "metadata": {
      "needs_background": "light"
     },
     "output_type": "display_data"
    }
   ],
   "source": [
    "results, weight = posterior_result_weight(posterior)\n",
    "plt.figure()\n",
    "plt.hist(results, weights=weight, bins=20)\n",
    "plt.figure()\n",
    "plt.hist(results,bins=20,density=True)\n",
    "plt.show()"
   ]
  },
  {
   "cell_type": "code",
   "execution_count": null,
   "metadata": {},
   "outputs": [],
   "source": []
  }
 ],
 "metadata": {
  "kernelspec": {
   "display_name": "Python 3 (ipykernel)",
   "language": "python",
   "name": "python3"
  },
  "language_info": {
   "codemirror_mode": {
    "name": "ipython",
    "version": 3
   },
   "file_extension": ".py",
   "mimetype": "text/x-python",
   "name": "python",
   "nbconvert_exporter": "python",
   "pygments_lexer": "ipython3",
   "version": "3.9.7"
  }
 },
 "nbformat": 4,
 "nbformat_minor": 1
}
