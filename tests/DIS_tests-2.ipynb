{
 "cells": [
  {
   "cell_type": "markdown",
   "metadata": {},
   "source": [
    "# Define model"
   ]
  },
  {
   "cell_type": "code",
   "execution_count": 1,
   "metadata": {},
   "outputs": [
    {
     "name": "stdout",
     "output_type": "stream",
     "text": [
      "[pyKeOps]: Warning, no cuda detected. Switching to cpu only.\n"
     ]
    }
   ],
   "source": [
    "import pyprob\n",
    "import numpy as np\n",
    "import ot\n",
    "import torch\n",
    "import cProfile\n",
    "\n",
    "from pyprob.dis import ModelDIS\n",
    "from showerSim import invMass_ginkgo\n",
    "from pyprob.nn.dataset import OnlineDataset\n",
    "from pyprob.util import InferenceEngine\n",
    "from pyprob.util import to_tensor\n",
    "from pyprob import Model\n",
    "import math\n",
    "from pyprob.distributions import Normal\n",
    "from pyprob.distributions.delta import Delta\n",
    "\n",
    "\n",
    "import matplotlib as mpl\n",
    "import matplotlib.pyplot as plt\n",
    "from mpl_toolkits.mplot3d import Axes3D\n",
    "import matplotlib.cm as mpl_cm\n",
    "plt.ion()\n",
    "\n",
    "import sklearn as skl\n",
    "from sklearn.linear_model import LinearRegression\n",
    "\n",
    "from geomloss import SamplesLoss\n",
    "sinkhorn = SamplesLoss(loss=\"sinkhorn\", p=1, blur=.05)\n",
    "def sinkhorn_t(x,y):\n",
    "    x = to_tensor(x)\n",
    "    y = torch.stack(y)\n",
    "    return sinkhorn(x,y)\n",
    "\n",
    "def ot_dist(x,y):\n",
    "    # x = torch.tensor(x)\n",
    "    # y = torch.stack(y)\n",
    "    x = np.array(x)\n",
    "    y = np.array(torch.stack(y))\n",
    "    a = ot.unif(len(x))\n",
    "    b = ot.unif(len(y))\n",
    "    Mat = ot.dist(x, y, metric='euclidean')\n",
    "    #Mat1 /= Mat1.max()\n",
    "    distance = torch.tensor(ot.emd2(a,b,Mat))\n",
    "    return distance"
   ]
  },
  {
   "cell_type": "code",
   "execution_count": 2,
   "metadata": {},
   "outputs": [],
   "source": [
    "# obs_leaves = torch.tensor([[44.57652381, 26.16169856, 25.3945314 , 25.64598258],\n",
    "#        [18.2146321 , 10.70465096, 10.43553391, 10.40449709],\n",
    "#        [ 6.47106713,  4.0435395,  3.65545951,  3.48697568],\n",
    "#        [ 8.43764314,  5.51040615,  4.60990593,  4.42270416],\n",
    "#        [26.61664145, 16.55894826, 14.3357362 , 15.12215264],\n",
    "#        [ 8.62925002,  3.37121204,  5.19699   ,  6.00480461],\n",
    "#        [ 1.64291837,  0.74506775,  1.01003622,  1.05626017],\n",
    "#        [ 0.75525072,  0.3051808 ,  0.45721085,  0.51760643],\n",
    "#        [39.5749915 , 18.39638928, 24.24717939, 25.29349408],\n",
    "#        [ 4.18355659,  2.11145474,  2.82071304,  2.25221316],\n",
    "#        [ 0.82932922,  0.29842766,  0.5799056 ,  0.509021  ],\n",
    "#        [ 3.00825023,  1.36339397,  1.99203677,  1.79428211],\n",
    "#        [ 7.20024308,  4.03280868,  3.82379277,  4.57441754],\n",
    "#        [ 2.09953618,  1.28473579,  1.03554351,  1.29769683],\n",
    "#        [12.21401828,  6.76059035,  6.94920042,  7.42823701],\n",
    "#        [ 6.91438054,  3.68417135,  3.83782514,  4.41656731],\n",
    "#        [ 1.97218904,  1.01632927,  1.08008339,  1.27454585],\n",
    "#        [ 8.58164301,  5.06157833,  4.79691164,  4.99553141],\n",
    "#        [ 5.97809522,  3.26557958,  3.4253764 ,  3.64894791],\n",
    "#        [ 5.22842301,  2.94437891,  3.10292633,  3.00551074],\n",
    "#        [15.40023764,  9.10884407,  8.93836964,  8.61970667],\n",
    "#        [ 1.96101346,  1.24996337,  1.06923988,  1.06743143],\n",
    "#        [19.81054106, 11.90268453, 11.60989346, 10.76953856],\n",
    "#        [18.79470876, 11.429855  , 10.8377334 , 10.25112761],\n",
    "#        [25.74331932, 15.63430056, 14.83860792, 14.07189108],\n",
    "#        [ 9.98357576,  6.10090721,  5.68664128,  5.48748692],\n",
    "#        [12.34604239,  7.78770185,  6.76075998,  6.78498685],\n",
    "#        [21.24998531, 12.95180254, 11.9511704 , 11.87319933],\n",
    "#        [ 7.80693733,  4.83117128,  4.27443559,  4.39602348],\n",
    "#        [16.28983576,  9.66683929,  9.24891886,  9.28970032],\n",
    "#        [ 2.50706736,  1.53153206,  1.36060018,  1.43002765],\n",
    "#        [ 3.73938645,  2.06006639,  2.31013974,  2.09378969],\n",
    "#        [20.2174725 , 11.88622367, 12.05106468, 11.05325362],\n",
    "#        [ 9.48660008,  5.53665456,  5.54171966,  5.34966654],\n",
    "#        [ 2.65812987,  1.64102742,  1.67392209,  1.25083707]], dtype=torch.float64)\n",
    "\n",
    "\n",
    "# QCD_mass = 30.\n",
    "# #rate=torch.tensor([QCD_rate,QCD_rate]) #Entries: [root node, every other node] decaying rates. Choose same values for a QCD jet\n",
    "# jetdir = np.array([1,1,1])\n",
    "# jetP = 400.\n",
    "# jetvec = jetP * jetdir / np.linalg.norm(jetdir) ## Jetvec is 3-momentum. JetP is relativistic p.\n",
    "\n",
    "\n",
    "# # Actual parameters\n",
    "# pt_min = torch.tensor(0.3**2)\n",
    "# M2start = torch.tensor(QCD_mass**2)\n",
    "# jetM = np.sqrt(M2start.numpy()) ## Mass of initial jet\n",
    "# jet4vec = np.concatenate(([np.sqrt(jetP**2 + jetM**2)], jetvec))\n",
    "# minLeaves = 1\n",
    "# maxLeaves = 10000 # unachievable, to prevent rejections\n",
    "# maxNTry = 100\n",
    "\n",
    "# def dummy_bernoulli(self, jet):\n",
    "#     return True\n",
    "\n",
    "# class SimulatorModelDIS(invMass_ginkgo.SimulatorModel, ModelDIS):\n",
    "#     def forward(self, inputs=None):\n",
    "#         assert inputs is None # Modify code if this ever not met?\n",
    "#         # Sample parameter of interest from Unif(0,10) prior\n",
    "#         root_rate = pyprob.sample(pyprob.distributions.Uniform(0.01, 10.),\n",
    "#                             name=\"decay_rate_parameter\")\n",
    "#         decay_rate = pyprob.sample(pyprob.distributions.Uniform(0.01, 10.),\n",
    "#                                    name=\"decay_rate_parameter\")\n",
    "#         # Simulator code needs two decay rates for (1) root note (2) all others\n",
    "#         # For now both are set to the same value\n",
    "#         inputs = [root_rate, decay_rate]\n",
    "#         return super().forward(inputs)\n",
    "\n",
    "# # Make instance of the simulator\n",
    "# simulator = SimulatorModelDIS(jet_p=jet4vec,  # parent particle 4-vector\n",
    "#                               pt_cut=float(pt_min),  # minimum pT for resulting jet\n",
    "#                               Delta_0= M2start,  # parent particle mass squared -> needs tensor\n",
    "#                               M_hard=jetM,  # parent particle mass\n",
    "#                               minLeaves=1,  # minimum number of jet constituents\n",
    "#                               maxLeaves=10000,  # maximum number of jet constituents (a large value to stop expensive simulator runs)\n",
    "#                               bool_func=dummy_bernoulli,\n",
    "#                               suppress_output=True,\n",
    "#                               obs_leaves=obs_leaves)\n"
   ]
  },
  {
   "cell_type": "code",
   "execution_count": 3,
   "metadata": {},
   "outputs": [],
   "source": [
    "def euclidean(a,b):\n",
    "    a = np.asarray(a)\n",
    "    b = np.asarray(b)\n",
    "    return np.linalg.norm(a-b)\n",
    "\n",
    "class GaussianUnknownMean(Model):\n",
    "    def __init__(self, **kwargs):\n",
    "        super().__init__(name='Gaussian with unknown mean', **kwargs) # give the model a name\n",
    "        self.prior_mean = 1\n",
    "        self.prior_std = math.sqrt(5)\n",
    "        self.likelihood_std = math.sqrt(2)\n",
    "\n",
    "    def forward(self): # Needed to specifcy how the generative model is run forward\n",
    "        # sample the (latent) mean variable to be inferred:\n",
    "        mu = pyprob.sample(Normal(self.prior_mean, self.prior_std)) # NOTE: sample -> denotes latent variables\n",
    "\n",
    "        # define the likelihood\n",
    "        #likelihood = Normal(mu, self.likelihood_std)\n",
    "\n",
    "        # Lets add two observed variables\n",
    "        # -> the 'name' argument is used later to assignment values:\n",
    "        #pyprob.observe(likelihood, name='obs0') # NOTE: observe -> denotes observable variables\n",
    "\n",
    "        # return the latent quantity of interest\n",
    "        return mu\n",
    "    \n",
    "class GaussianDIS(GaussianUnknownMean, ModelDIS):\n",
    "    def __init__(self,  dist_fun = None, **kwargs):\n",
    "        super().__init__(dist_fun = dist_fun)\n",
    "        self.obs = 8\n",
    "        #self.bool_func = bool_func\n",
    "    def dummy_bernoulli(self, x):\n",
    "        return True\n",
    "    def forward(self):\n",
    "        x = super().forward()\n",
    "        likelihood = Normal(x, self.likelihood_std) \n",
    "        pyprob.observe(likelihood, name = 'sample_obs')\n",
    "        delta_val = self.dummy_bernoulli(x)\n",
    "        bool_func_dist = pyprob.distributions.Bernoulli(delta_val)\n",
    "        pyprob.observe(bool_func_dist, name = \"dummy\")\n",
    "        return x\n",
    "\n",
    "\n",
    "model = GaussianUnknownMean()\n",
    "simulator = GaussianDIS(dist_fun = euclidean)"
   ]
  },
  {
   "cell_type": "markdown",
   "metadata": {},
   "source": [
    "# Dataset test"
   ]
  },
  {
   "cell_type": "code",
   "execution_count": 4,
   "metadata": {},
   "outputs": [
    {
     "name": "stderr",
     "output_type": "stream",
     "text": [
      "/home/sragy/DISPyprob/pyprob/pyprob/model.py:182: UserWarning: No inference network found. Sampling from prior\n",
      "  warnings.warn('No inference network found. Sampling from prior')\n"
     ]
    },
    {
     "name": "stdout",
     "output_type": "stream",
     "text": [
      "Time spent  | Time remain.| Progress             | Trace     | ESS    | Traces/sec\n",
      "0d:00:00:15 | 0d:00:00:00 | #################### | 5000/5000 | 5000.00 | 330.04       \n"
     ]
    }
   ],
   "source": [
    "dataset = OnlineDataset(simulator, inference_engine=InferenceEngine.DISTILLING_IMPORTANCE_SAMPLING,importance_sample_size=5000)"
   ]
  },
  {
   "cell_type": "code",
   "execution_count": null,
   "metadata": {},
   "outputs": [],
   "source": [
    "trace = dataset[0]"
   ]
  },
  {
   "cell_type": "code",
   "execution_count": 9,
   "metadata": {},
   "outputs": [],
   "source": [
    "results = np.array([i.result for i in dataset._semi_online_dataset])\n",
    "weights = dataset._semi_online_dataset.weights_numpy()"
   ]
  },
  {
   "cell_type": "code",
   "execution_count": 10,
   "metadata": {},
   "outputs": [
    {
     "data": {
      "text/plain": [
       "(array([1.19658961e-18, 0.00000000e+00, 0.00000000e+00, 0.00000000e+00,\n",
       "        0.00000000e+00, 6.65950224e-18, 3.70256739e-16, 3.77663054e-11,\n",
       "        2.05450145e-11, 2.62597053e-13, 2.53233105e-08, 1.32983762e-10,\n",
       "        4.49990190e-08, 6.11886943e-09, 2.88624878e-07, 2.57218271e-08,\n",
       "        1.97629396e-06, 2.28447890e-06, 9.82317631e-06, 5.06955068e-05,\n",
       "        9.42796270e-05, 4.07073139e-04, 4.61618904e-04, 5.33708735e-04,\n",
       "        2.22120301e-03, 1.71487900e-03, 3.05186219e-03, 4.85127340e-03,\n",
       "        1.46086126e-02, 1.09650401e-02, 1.77297721e-02, 2.39787629e-02,\n",
       "        3.74020786e-02, 5.21743608e-02, 4.73480816e-02, 6.11502657e-02,\n",
       "        5.92935925e-02, 7.10637877e-02, 7.51820996e-02, 7.94663447e-02,\n",
       "        7.19100970e-02, 7.05293014e-02, 9.71744709e-02, 5.36628934e-02,\n",
       "        2.86269790e-02, 5.19654756e-02, 3.20521981e-02, 9.08013481e-03,\n",
       "        1.06197031e-02, 1.06148795e-02]),\n",
       " array([-8.141929  , -7.8146634 , -7.4873977 , -7.1601324 , -6.8328667 ,\n",
       "        -6.5056014 , -6.178336  , -5.8510704 , -5.523805  , -5.1965394 ,\n",
       "        -4.869274  , -4.542009  , -4.214743  , -3.8874779 , -3.5602124 ,\n",
       "        -3.2329469 , -2.9056814 , -2.5784159 , -2.2511506 , -1.9238851 ,\n",
       "        -1.5966196 , -1.2693541 , -0.9420887 , -0.6148232 , -0.28755778,\n",
       "         0.03970766,  0.3669731 ,  0.69423854,  1.021504  ,  1.3487694 ,\n",
       "         1.6760349 ,  2.0033004 ,  2.330566  ,  2.6578312 ,  2.9850967 ,\n",
       "         3.3123622 ,  3.6396277 ,  3.9668932 ,  4.2941585 ,  4.621424  ,\n",
       "         4.9486895 ,  5.2759547 ,  5.6032205 ,  5.9304857 ,  6.2577515 ,\n",
       "         6.5850167 ,  6.912282  ,  7.2395477 ,  7.566813  ,  7.8940787 ,\n",
       "         8.221344  ], dtype=float32),\n",
       " <BarContainer object of 50 artists>)"
      ]
     },
     "execution_count": 10,
     "metadata": {},
     "output_type": "execute_result"
    },
    {
     "data": {
      "image/png": "[encoded data removed]",
      "text/plain": [
       "<Figure size 432x288 with 1 Axes>"
      ]
     },
     "metadata": {
      "needs_background": "light"
     },
     "output_type": "display_data"
    }
   ],
   "source": [
    "plt.hist(results, weights=weights,bins=50)"
   ]
  },
  {
   "cell_type": "markdown",
   "metadata": {},
   "source": [
    "# Inference test"
   ]
  },
  {
   "cell_type": "code",
   "execution_count": 5,
   "metadata": {},
   "outputs": [
    {
     "name": "stdout",
     "output_type": "stream",
     "text": [
      "Time spent  | Time remain.| Progress             | Trace     | ESS    | Traces/sec\n",
      "0d:00:00:02 | 0d:00:00:00 | #################### | 1000/1000 | 1000.00 | 350.08       \n",
      "Creating new inference network...\n",
      "Observable dummy: reshape not specified, using shape torch.Size([]).\n",
      "Observable dummy: using embedding dim torch.Size([1]).\n",
      "Observable dummy: observe embedding not specified, using the default FEEDFORWARD.\n",
      "Observable dummy: using embedding depth 1.\n",
      "Observe embedding dimension: 1\n",
      "Train. time | Epoch| Trace     | Init. loss| Min. loss | Curr. loss| T.since min | Learn.rate| Traces/sec\n",
      "New layers, address: 16__forward__mu__Normal__1, distribution: Normal\n",
      "Total addresses: 1, distribution types: 1, parameters: 1,505,093\n",
      "0d:00:00:00 | 1    | 400       | +2.98e+00 | \u001b[1m\u001b[32m+2.74e+00\u001b[0m | \u001b[1m\u001b[32m+2.74e+00\u001b[0m | \u001b[1m\u001b[32m0d:00:00:00\u001b[0m | +1.00e-03 | 1,255.0 \n",
      "Stop condition reached. num_traces: 500\n",
      "0d:00:00:00 | 1    | 500       | +2.98e+00 | \u001b[1m\u001b[32m+2.60e+00\u001b[0m | \u001b[1m\u001b[32m+2.60e+00\u001b[0m | \u001b[1m\u001b[32m0d:00:00:00\u001b[0m | +1.00e-03 | 1,377.4 \n",
      "Training iterations 1  epsilon 1.80  ESS 1000.0\n",
      "Time spent  | Time remain.| Progress             | Trace     | ESS    | Traces/sec\n",
      "0d:00:00:11 | 0d:00:00:00 | #################### | 1000/1000 | 726.14 | 89.91       \n",
      "Continuing to train existing inference network...\n",
      "Total number of parameters: 1,505,093\n",
      "Train. time | Epoch| Trace     | Init. loss| Min. loss | Curr. loss| T.since min | Learn.rate| Traces/sec\n",
      "0d:00:00:00 | 1    | 600       | +2.98e+00 | +2.60e+00 | \u001b[31m+2.65e+00\u001b[0m | 0d:00:00:00 | +1.00e-03 | 10,347.9 \n",
      "Stop condition reached. num_traces: 500\n",
      "0d:00:00:00 | 1    | 1,000     | +2.98e+00 | \u001b[1m\u001b[32m+2.56e+00\u001b[0m | \u001b[1m\u001b[32m+2.56e+00\u001b[0m | \u001b[1m\u001b[32m0d:00:00:00\u001b[0m | +1.00e-03 | 1,642.5 \n",
      "Training iterations 2  epsilon 1.80  ESS 726.1\n",
      "Time spent  | Time remain.| Progress             | Trace     | ESS    | Traces/sec\n",
      "0d:00:00:09 | 0d:00:00:00 | #################### | 1000/1000 | 473.79 | 108.40       \n",
      "Continuing to train existing inference network...\n",
      "Total number of parameters: 1,505,093\n",
      "Train. time | Epoch| Trace     | Init. loss| Min. loss | Curr. loss| T.since min | Learn.rate| Traces/sec\n",
      "0d:00:00:00 | 1    | 1,100     | +2.98e+00 | \u001b[1m\u001b[32m+2.53e+00\u001b[0m | \u001b[1m\u001b[32m+2.53e+00\u001b[0m | \u001b[1m\u001b[32m0d:00:00:00\u001b[0m | +1.00e-03 | 10,446.1 \n",
      "Stop condition reached. num_traces: 500\n",
      "0d:00:00:00 | 1    | 1,500     | +2.98e+00 | \u001b[1m\u001b[32m+2.12e+00\u001b[0m | \u001b[1m\u001b[32m+2.12e+00\u001b[0m | \u001b[1m\u001b[32m0d:00:00:00\u001b[0m | +1.00e-03 | 1,782.6  \n",
      "Training iterations 3  epsilon 1.80  ESS 473.8\n",
      "Time spent  | Time remain.| Progress             | Trace     | ESS    | Traces/sec\n",
      "0d:00:00:11 | 0d:00:00:00 | #################### | 1000/1000 | 226.33 | 90.02        \n",
      "Continuing to train existing inference network...\n",
      "Total number of parameters: 1,505,093\n",
      "Train. time | Epoch| Trace     | Init. loss| Min. loss | Curr. loss| T.since min | Learn.rate| Traces/sec\n",
      "0d:00:00:01 | 1    | 1,900     | +2.98e+00 | \u001b[1m\u001b[32m+1.88e+00\u001b[0m | \u001b[1m\u001b[32m+1.88e+00\u001b[0m | \u001b[1m\u001b[32m0d:00:00:00\u001b[0m | +1.00e-03 | 1,217.4 \n",
      "Stop condition reached. num_traces: 500\n",
      "0d:00:00:01 | 1    | 2,000     | +2.98e+00 | \u001b[1m\u001b[32m+1.71e+00\u001b[0m | \u001b[1m\u001b[32m+1.71e+00\u001b[0m | \u001b[1m\u001b[32m0d:00:00:00\u001b[0m | +1.00e-03 | 1,053.5 \n",
      "Training iterations 4  epsilon 1.76  ESS 226.3\n",
      "Time spent  | Time remain.| Progress             | Trace     | ESS    | Traces/sec\n",
      "0d:00:00:09 | 0d:00:00:00 | #################### | 1000/1000 |  62.50 | 104.48       \n",
      "Continuing to train existing inference network...\n",
      "Total number of parameters: 1,505,093\n",
      "Train. time | Epoch| Trace     | Init. loss| Min. loss | Curr. loss| T.since min | Learn.rate| Traces/sec\n",
      "0d:00:00:01 | 1    | 2,100     | +2.98e+00 | +1.71e+00 | \u001b[31m+1.86e+00\u001b[0m | 0d:00:00:00 | +1.00e-03 | 7,946.0 \n",
      "Stop condition reached. num_traces: 500\n",
      "0d:00:00:01 | 1    | 2,500     | +2.98e+00 | \u001b[1m\u001b[32m+1.62e+00\u001b[0m | \u001b[1m\u001b[32m+1.62e+00\u001b[0m | \u001b[1m\u001b[32m0d:00:00:00\u001b[0m | +1.00e-03 | 1,689.6 \n",
      "Training iterations 5  epsilon 1.46  ESS 62.5\n",
      "Time spent  | Time remain.| Progress             | Trace     | ESS    | Traces/sec\n",
      "0d:00:00:10 | 0d:00:00:00 | #################### | 1000/1000 |   7.53 | 96.26        \n",
      "Continuing to train existing inference network...\n",
      "Total number of parameters: 1,505,093\n",
      "Train. time | Epoch| Trace     | Init. loss| Min. loss | Curr. loss| T.since min | Learn.rate| Traces/sec\n",
      "0d:00:00:01 | 1    | 2,600     | +2.98e+00 | +1.62e+00 | \u001b[31m+1.84e+00\u001b[0m | 0d:00:00:00 | +1.00e-03 | 6,536.7 \n",
      "Stop condition reached. num_traces: 500\n",
      "0d:00:00:01 | 1    | 3,000     | +2.98e+00 | +1.62e+00 | \u001b[32m+1.66e+00\u001b[0m | 0d:00:00:00 | +1.00e-03 | 1,151.7 \n",
      "Training iterations 6  epsilon 1.26  ESS 7.5\n",
      "Time spent  | Time remain.| Progress             | Trace     | ESS    | Traces/sec\n",
      "0d:00:00:10 | 0d:00:00:00 | #################### | 1000/1000 |  16.51 | 97.89        \n",
      "Continuing to train existing inference network...\n",
      "Total number of parameters: 1,505,093\n",
      "Train. time | Epoch| Trace     | Init. loss| Min. loss | Curr. loss| T.since min | Learn.rate| Traces/sec\n",
      "0d:00:00:01 | 1    | 3,100     | +2.98e+00 | +1.62e+00 | \u001b[31m+1.70e+00\u001b[0m | 0d:00:00:00 | +1.00e-03 | 12,784.0 \n",
      "Stop condition reached. num_traces: 500\n",
      "0d:00:00:02 | 1    | 3,500     | +2.98e+00 | \u001b[1m\u001b[32m+1.59e+00\u001b[0m | \u001b[1m\u001b[32m+1.59e+00\u001b[0m | \u001b[1m\u001b[32m0d:00:00:00\u001b[0m | +1.00e-03 | 1,779.8 \n",
      "Training iterations 7  epsilon 1.26  ESS 16.5\n",
      "Time spent  | Time remain.| Progress             | Trace     | ESS    | Traces/sec\n",
      "0d:00:00:08 | 0d:00:00:00 | #################### | 1000/1000 |   7.45 | 117.52       \n",
      "Continuing to train existing inference network...\n",
      "Total number of parameters: 1,505,093\n",
      "Train. time | Epoch| Trace     | Init. loss| Min. loss | Curr. loss| T.since min | Learn.rate| Traces/sec\n",
      "0d:00:00:02 | 1    | 3,600     | +2.98e+00 | +1.59e+00 | \u001b[31m+1.70e+00\u001b[0m | 0d:00:00:00 | +1.00e-03 | 7,500.8 \n",
      "Stop condition reached. num_traces: 500\n",
      "0d:00:00:02 | 1    | 4,000     | +2.98e+00 | +1.52e+00 | \u001b[32m+1.60e+00\u001b[0m | 0d:00:00:00 | +1.00e-03 | 1,824.1 \n",
      "Training iterations 8  epsilon 1.23  ESS 7.4\n",
      "Time spent  | Time remain.| Progress             | Trace     | ESS    | Traces/sec\n",
      "0d:00:00:08 | 0d:00:00:00 | #################### | 1000/1000 |   6.81 | 113.15       \n",
      "Continuing to train existing inference network...\n",
      "Total number of parameters: 1,505,093\n",
      "Train. time | Epoch| Trace     | Init. loss| Min. loss | Curr. loss| T.since min | Learn.rate| Traces/sec\n",
      "0d:00:00:02 | 1    | 4,100     | +2.98e+00 | +1.52e+00 | \u001b[31m+1.86e+00\u001b[0m | 0d:00:00:00 | +1.00e-03 | 7,180.3 \n",
      "Stop condition reached. num_traces: 500\n",
      "0d:00:00:02 | 1    | 4,500     | +2.98e+00 | +1.52e+00 | \u001b[32m+1.78e+00\u001b[0m | 0d:00:00:00 | +1.00e-03 | 1,903.9 \n",
      "Training iterations 9  epsilon 1.23  ESS 6.8\n",
      "Time spent  | Time remain.| Progress             | Trace     | ESS    | Traces/sec\n",
      "0d:00:00:08 | 0d:00:00:00 | #################### | 1000/1000 |  21.00 | 111.97       \n",
      "Continuing to train existing inference network...\n",
      "Total number of parameters: 1,505,093\n",
      "Train. time | Epoch| Trace     | Init. loss| Min. loss | Curr. loss| T.since min | Learn.rate| Traces/sec\n",
      "0d:00:00:02 | 1    | 4,600     | +2.98e+00 | +1.52e+00 | \u001b[32m+1.69e+00\u001b[0m | 0d:00:00:00 | +1.00e-03 | 7,301.7 \n",
      "Stop condition reached. num_traces: 500\n",
      "0d:00:00:02 | 1    | 5,000     | +2.98e+00 | +1.52e+00 | \u001b[32m+1.69e+00\u001b[0m | 0d:00:00:00 | +1.00e-03 | 1,525.5 \n",
      "Training iterations 10  epsilon 1.23  ESS 21.0\n",
      "Time spent  | Time remain.| Progress             | Trace     | ESS    | Traces/sec\n",
      "0d:00:00:08 | 0d:00:00:00 | #################### | 1000/1000 |  23.48 | 116.91       \n",
      "Continuing to train existing inference network...\n",
      "Total number of parameters: 1,505,093\n",
      "Train. time | Epoch| Trace     | Init. loss| Min. loss | Curr. loss| T.since min | Learn.rate| Traces/sec\n",
      "0d:00:00:02 | 1    | 5,100     | +2.98e+00 | +1.52e+00 | \u001b[31m+1.73e+00\u001b[0m | 0d:00:00:00 | +1.00e-03 | 9,399.2 \n",
      "Stop condition reached. num_traces: 500\n",
      "0d:00:00:03 | 1    | 5,500     | +2.98e+00 | +1.52e+00 | \u001b[31m+1.78e+00\u001b[0m | 0d:00:00:00 | +1.00e-03 | 1,850.8 \n",
      "Training iterations 11  epsilon 1.23  ESS 23.5\n",
      "Time spent  | Time remain.| Progress             | Trace     | ESS    | Traces/sec\n",
      "0d:00:00:08 | 0d:00:00:00 | #################### | 1000/1000 |   6.95 | 114.34       \n",
      "Continuing to train existing inference network...\n",
      "Total number of parameters: 1,505,093\n",
      "Train. time | Epoch| Trace     | Init. loss| Min. loss | Curr. loss| T.since min | Learn.rate| Traces/sec\n",
      "0d:00:00:03 | 1    | 5,600     | +2.98e+00 | +1.52e+00 | \u001b[32m+1.71e+00\u001b[0m | 0d:00:00:00 | +1.00e-03 | 9,947.8 \n",
      "Stop condition reached. num_traces: 500\n",
      "0d:00:00:03 | 1    | 6,000     | +2.98e+00 | +1.52e+00 | \u001b[31m+1.66e+00\u001b[0m | 0d:00:00:00 | +1.00e-03 | 1,376.7 \n",
      "Training iterations 12  epsilon 1.23  ESS 6.9\n",
      "Time spent  | Time remain.| Progress             | Trace     | ESS    | Traces/sec\n",
      "0d:00:00:09 | 0d:00:00:00 | #################### | 1000/1000 |  22.47 | 106.63       \n",
      "Continuing to train existing inference network...\n",
      "Total number of parameters: 1,505,093\n",
      "Train. time | Epoch| Trace     | Init. loss| Min. loss | Curr. loss| T.since min | Learn.rate| Traces/sec\n",
      "0d:00:00:03 | 1    | 6,100     | +2.98e+00 | +1.52e+00 | \u001b[32m+1.64e+00\u001b[0m | 0d:00:00:00 | +1.00e-03 | 7,687.9 \n",
      "Stop condition reached. num_traces: 500\n",
      "0d:00:00:03 | 1    | 6,500     | +2.98e+00 | +1.52e+00 | \u001b[31m+1.74e+00\u001b[0m | 0d:00:00:00 | +1.00e-03 | 2,037.0 \n",
      "Training iterations 13  epsilon 1.23  ESS 22.5\n",
      "Time spent  | Time remain.| Progress             | Trace     | ESS    | Traces/sec\n",
      "0d:00:00:09 | 0d:00:00:00 | #################### | 1000/1000 |  50.75 | 108.70       \n",
      "Continuing to train existing inference network...\n",
      "Total number of parameters: 1,505,093\n",
      "Train. time | Epoch| Trace     | Init. loss| Min. loss | Curr. loss| T.since min | Learn.rate| Traces/sec\n",
      "0d:00:00:03 | 1    | 6,600     | +2.98e+00 | +1.52e+00 | \u001b[31m+1.95e+00\u001b[0m | 0d:00:00:00 | +1.00e-03 | 6,706.0 \n",
      "Stop condition reached. num_traces: 500\n",
      "0d:00:00:03 | 1    | 7,000     | +2.98e+00 | +1.52e+00 | \u001b[32m+1.70e+00\u001b[0m | 0d:00:00:00 | +1.00e-03 | 1,710.1 \n",
      "Training iterations 14  epsilon 1.23  ESS 50.8\n",
      "Time spent  | Time remain.| Progress             | Trace     | ESS    | Traces/sec\n",
      "0d:00:00:09 | 0d:00:00:00 | #################### | 1000/1000 |  14.90 | 104.14       \n",
      "Continuing to train existing inference network...\n",
      "Total number of parameters: 1,505,093\n",
      "Train. time | Epoch| Trace     | Init. loss| Min. loss | Curr. loss| T.since min | Learn.rate| Traces/sec\n",
      "0d:00:00:03 | 1    | 7,100     | +2.98e+00 | +1.52e+00 | \u001b[32m+1.69e+00\u001b[0m | 0d:00:00:00 | +1.00e-03 | 13,247.5 \n",
      "Stop condition reached. num_traces: 500\n",
      "0d:00:00:04 | 1    | 7,500     | +2.98e+00 | +1.52e+00 | \u001b[31m+1.58e+00\u001b[0m | 0d:00:00:00 | +1.00e-03 | 1,724.3  \n",
      "Training iterations 15  epsilon 1.16  ESS 14.9\n",
      "Time spent  | Time remain.| Progress             | Trace     | ESS    | Traces/sec\n",
      "0d:00:00:08 | 0d:00:00:00 | #################### | 1000/1000 |   2.37 | 117.17       \n",
      "Continuing to train existing inference network...\n",
      "Total number of parameters: 1,505,093\n",
      "Train. time | Epoch| Trace     | Init. loss| Min. loss | Curr. loss| T.since min | Learn.rate| Traces/sec\n",
      "0d:00:00:04 | 1    | 7,900     | +2.98e+00 | +1.52e+00 | \u001b[32m+1.57e+00\u001b[0m | 0d:00:00:00 | +1.00e-03 | 1,341.4 \n",
      "Stop condition reached. num_traces: 500\n",
      "0d:00:00:04 | 1    | 8,000     | +2.98e+00 | +1.52e+00 | \u001b[31m+1.61e+00\u001b[0m | 0d:00:00:00 | +1.00e-03 | 1,358.2 \n",
      "Training iterations 16  epsilon 1.16  ESS 2.4\n",
      "Time spent  | Time remain.| Progress             | Trace     | ESS    | Traces/sec\n",
      "0d:00:00:08 | 0d:00:00:00 | #################### | 1000/1000 |  14.52 | 120.51       \n",
      "Continuing to train existing inference network...\n",
      "Total number of parameters: 1,505,093\n",
      "Train. time | Epoch| Trace     | Init. loss| Min. loss | Curr. loss| T.since min | Learn.rate| Traces/sec\n",
      "0d:00:00:04 | 1    | 8,400     | +2.98e+00 | \u001b[1m\u001b[32m+1.50e+00\u001b[0m | \u001b[1m\u001b[32m+1.50e+00\u001b[0m | \u001b[1m\u001b[32m0d:00:00:00\u001b[0m | +1.00e-03 | 878.1 \n",
      "Stop condition reached. num_traces: 500\n",
      "0d:00:00:04 | 1    | 8,500     | +2.98e+00 | +1.50e+00 | \u001b[31m+1.58e+00\u001b[0m | 0d:00:00:00 | +1.00e-03 | 1,672.3                             \n",
      "Training iterations 17  epsilon 1.16  ESS 14.5\n",
      "Time spent  | Time remain.| Progress             | Trace     | ESS    | Traces/sec\n",
      "0d:00:00:08 | 0d:00:00:00 | #################### | 1000/1000 |  33.09 | 118.74       \n",
      "Continuing to train existing inference network...\n",
      "Total number of parameters: 1,505,093\n",
      "Train. time | Epoch| Trace     | Init. loss| Min. loss | Curr. loss| T.since min | Learn.rate| Traces/sec\n",
      "0d:00:00:04 | 1    | 8,600     | +2.98e+00 | +1.50e+00 | \u001b[31m+1.71e+00\u001b[0m | 0d:00:00:00 | +1.00e-03 | 12,209.4 \n",
      "Stop condition reached. num_traces: 500\n",
      "0d:00:00:05 | 1    | 9,000     | +2.98e+00 | +1.50e+00 | \u001b[31m+1.76e+00\u001b[0m | 0d:00:00:00 | +1.00e-03 | 1,947.7  \n",
      "Training iterations 18  epsilon 1.16  ESS 33.1\n",
      "Time spent  | Time remain.| Progress             | Trace     | ESS    | Traces/sec\n",
      "0d:00:00:09 | 0d:00:00:00 | #################### | 1000/1000 |   1.81 | 101.16       \n",
      "Continuing to train existing inference network...\n",
      "Total number of parameters: 1,505,093\n",
      "Train. time | Epoch| Trace     | Init. loss| Min. loss | Curr. loss| T.since min | Learn.rate| Traces/sec\n",
      "0d:00:00:05 | 1    | 9,100     | +2.98e+00 | +1.50e+00 | \u001b[32m+1.72e+00\u001b[0m | 0d:00:00:00 | +1.00e-03 | 5,758.4 \n",
      "Stop condition reached. num_traces: 500\n",
      "0d:00:00:05 | 1    | 9,500     | +2.98e+00 | +1.50e+00 | \u001b[31m+1.70e+00\u001b[0m | 0d:00:00:00 | +1.00e-03 | 1,300.5 \n",
      "Training iterations 19  epsilon 1.16  ESS 1.8\n",
      "Time spent  | Time remain.| Progress             | Trace     | ESS    | Traces/sec\n",
      "0d:00:00:10 | 0d:00:00:00 | #################### | 1000/1000 |  24.78 | 97.52       \n",
      "Continuing to train existing inference network...\n",
      "Total number of parameters: 1,505,093\n",
      "Train. time | Epoch| Trace     | Init. loss| Min. loss | Curr. loss| T.since min | Learn.rate| Traces/sec\n",
      "0d:00:00:05 | 1    | 9,600     | +2.98e+00 | +1.50e+00 | \u001b[31m+1.70e+00\u001b[0m | 0d:00:00:00 | +1.00e-03 | 7,367.0 \n",
      "Stop condition reached. num_traces: 500\n",
      "0d:00:00:05 | 1    | 10,000    | +2.98e+00 | +1.50e+00 | \u001b[32m+1.68e+00\u001b[0m | 0d:00:00:00 | +1.00e-03 | 1,961.1 \n",
      "Training iterations 20  epsilon 1.16  ESS 24.8\n"
     ]
    }
   ],
   "source": [
    "simulator.train(iterations = 20, importance_sample_size=1000)"
   ]
  },
  {
   "cell_type": "code",
   "execution_count": 6,
   "metadata": {},
   "outputs": [
    {
     "name": "stdout",
     "output_type": "stream",
     "text": [
      "Time spent  | Time remain.| Progress             | Trace     | ESS    | Traces/sec\n",
      "0d:00:00:07 | 0d:00:00:00 | #################### | 1000/1000 |  11.65 | 127.22       \n"
     ]
    }
   ],
   "source": [
    "results = simulator.posterior_results(num_traces=1000, inference_engine=InferenceEngine.DISTILLING_IMPORTANCE_SAMPLING, observe = {'dummy':1})"
   ]
  },
  {
   "cell_type": "code",
   "execution_count": 10,
   "metadata": {},
   "outputs": [
    {
     "data": {
      "text/plain": [
       "(array([  4.,   4.,  38., 110., 218., 295., 214.,  89.,  25.,   3.]),\n",
       " array([ 0.7284901,  1.6807522,  2.6330142,  3.5852761,  4.537538 ,\n",
       "         5.4898   ,  6.442062 ,  7.3943243,  8.346586 ,  9.298848 ,\n",
       "        10.25111  ], dtype=float32),\n",
       " <BarContainer object of 10 artists>)"
      ]
     },
     "execution_count": 10,
     "metadata": {},
     "output_type": "execute_result"
    },
    {
     "data": {
      "image/png": "[encoded data removed]",
      "text/plain": [
       "<Figure size 432x288 with 1 Axes>"
      ]
     },
     "metadata": {
      "needs_background": "light"
     },
     "output_type": "display_data"
    }
   ],
   "source": [
    "plt.hist(np.array(results))"
   ]
  },
  {
   "cell_type": "markdown",
   "metadata": {},
   "source": [
    "# Posterior"
   ]
  },
  {
   "cell_type": "markdown",
   "metadata": {},
   "source": [
    "Correct posterior"
   ]
  },
  {
   "cell_type": "code",
   "execution_count": 4,
   "metadata": {},
   "outputs": [],
   "source": [
    "def plot_function(min_val, max_val, func, *args, **kwargs):\n",
    "        x = np.linspace(min_val,max_val,int((max_val-min_val)*50))\n",
    "        plt.plot(x, np.vectorize(func)(x), *args, **kwargs)\n",
    "\n",
    "def get_dist_pdf(dist):\n",
    "    return lambda x: math.exp(dist.log_prob(x))\n",
    "        \n",
    "class CorrectDistributions:\n",
    "    def __init__(self, model):\n",
    "        self.prior_mean = model.prior_mean\n",
    "        self.prior_std = model.prior_std\n",
    "        self.likelihood_std = model.likelihood_std\n",
    "        self.prior_dist = Normal(self.prior_mean, self.prior_std)\n",
    "        \n",
    "    @property\n",
    "    def observed_list(self):\n",
    "        return self.__observed_list\n",
    "\n",
    "    @observed_list.setter\n",
    "    def observed_list(self, new_observed_list):\n",
    "        self.__observed_list = new_observed_list\n",
    "        self.construct_correct_posterior()\n",
    "    \n",
    "    def construct_correct_posterior(self):\n",
    "        n = len(self.observed_list)\n",
    "        posterior_var = 1/(n/self.likelihood_std**2 + 1/self.prior_std**2)\n",
    "        posterior_mu = posterior_var * (self.prior_mean/self.prior_std**2 + n*np.mean(self.observed_list)/self.likelihood_std**2)\n",
    "        self.posterior_dist = Normal(posterior_mu, math.sqrt(posterior_var))\n",
    "\n",
    "    def prior_pdf(self, model, x):\n",
    "        p = Normal(model.prior_mean,model.prior_stdd)\n",
    "        return math.exp(p.log_prob(x))\n",
    "\n",
    "    def plot_posterior(self, min_val, max_val):\n",
    "        if not hasattr(self, 'posterior_dist'):\n",
    "            raise AttributeError('observed values are not set yet, and posterior is not defined.')\n",
    "        plot_function(min_val, max_val, get_dist_pdf(self.posterior_dist), label='correct posterior', color='orange')\n",
    "\n",
    "\n",
    "    def plot_prior(self, min_val, max_val):\n",
    "        plot_function(min_val, max_val, get_dist_pdf(self.prior_dist), label='prior', color='green')\n",
    "\n",
    "correct_dists = CorrectDistributions(model)"
   ]
  },
  {
   "cell_type": "code",
   "execution_count": 5,
   "metadata": {},
   "outputs": [
    {
     "name": "stdout",
     "output_type": "stream",
     "text": [
      "Time spent  | Time remain.| Progress             | Trace     | ESS    | Traces/sec\n",
      "0d:00:00:00 | 0d:00:00:00 | #################### | 1000/1000 | 1000.00 | 4,188.12       \n"
     ]
    }
   ],
   "source": [
    "prior = model.prior_results(num_traces=1000)"
   ]
  },
  {
   "cell_type": "code",
   "execution_count": 6,
   "metadata": {},
   "outputs": [
    {
     "ename": "NameError",
     "evalue": "name 'results' is not defined",
     "output_type": "error",
     "traceback": [
      "\u001b[0;31m---------------------------------------------------------------------------\u001b[0m",
      "\u001b[0;31mNameError\u001b[0m                                 Traceback (most recent call last)",
      "\u001b[0;32m/tmp/ipykernel_929/772071884.py\u001b[0m in \u001b[0;36m<module>\u001b[0;34m\u001b[0m\n\u001b[1;32m      1\u001b[0m \u001b[0mcorrect_dists\u001b[0m\u001b[0;34m.\u001b[0m\u001b[0mobserved_list\u001b[0m \u001b[0;34m=\u001b[0m \u001b[0;34m[\u001b[0m\u001b[0;36m8\u001b[0m\u001b[0;34m]\u001b[0m\u001b[0;34m\u001b[0m\u001b[0;34m\u001b[0m\u001b[0m\n\u001b[0;32m----> 2\u001b[0;31m \u001b[0mplt\u001b[0m\u001b[0;34m.\u001b[0m\u001b[0mhist\u001b[0m\u001b[0;34m(\u001b[0m\u001b[0mnp\u001b[0m\u001b[0;34m.\u001b[0m\u001b[0marray\u001b[0m\u001b[0;34m(\u001b[0m\u001b[0mresults\u001b[0m\u001b[0;34m)\u001b[0m\u001b[0;34m,\u001b[0m \u001b[0mbins\u001b[0m\u001b[0;34m=\u001b[0m\u001b[0;36m20\u001b[0m\u001b[0;34m,\u001b[0m \u001b[0malpha\u001b[0m\u001b[0;34m=\u001b[0m\u001b[0;36m0.75\u001b[0m\u001b[0;34m,\u001b[0m \u001b[0mlabel\u001b[0m\u001b[0;34m=\u001b[0m\u001b[0;34m'posterior'\u001b[0m\u001b[0;34m,\u001b[0m \u001b[0mdensity\u001b[0m\u001b[0;34m=\u001b[0m\u001b[0;32mTrue\u001b[0m\u001b[0;34m)\u001b[0m\u001b[0;34m\u001b[0m\u001b[0;34m\u001b[0m\u001b[0m\n\u001b[0m\u001b[1;32m      3\u001b[0m \u001b[0mcorrect_dists\u001b[0m\u001b[0;34m.\u001b[0m\u001b[0mplot_prior\u001b[0m\u001b[0;34m(\u001b[0m\u001b[0mmin\u001b[0m\u001b[0;34m(\u001b[0m\u001b[0mprior\u001b[0m\u001b[0;34m.\u001b[0m\u001b[0mvalues_numpy\u001b[0m\u001b[0;34m(\u001b[0m\u001b[0;34m)\u001b[0m\u001b[0;34m)\u001b[0m\u001b[0;34m,\u001b[0m\u001b[0mmax\u001b[0m\u001b[0;34m(\u001b[0m\u001b[0mprior\u001b[0m\u001b[0;34m.\u001b[0m\u001b[0mvalues_numpy\u001b[0m\u001b[0;34m(\u001b[0m\u001b[0;34m)\u001b[0m\u001b[0;34m)\u001b[0m\u001b[0;34m)\u001b[0m\u001b[0;34m\u001b[0m\u001b[0;34m\u001b[0m\u001b[0m\n\u001b[1;32m      4\u001b[0m \u001b[0mcorrect_dists\u001b[0m\u001b[0;34m.\u001b[0m\u001b[0mplot_posterior\u001b[0m\u001b[0;34m(\u001b[0m\u001b[0;36m0\u001b[0m\u001b[0;34m,\u001b[0m\u001b[0;36m10\u001b[0m\u001b[0;34m)\u001b[0m\u001b[0;34m\u001b[0m\u001b[0;34m\u001b[0m\u001b[0m\n\u001b[1;32m      5\u001b[0m \u001b[0mplt\u001b[0m\u001b[0;34m.\u001b[0m\u001b[0mlegend\u001b[0m\u001b[0;34m(\u001b[0m\u001b[0;34m)\u001b[0m\u001b[0;34m\u001b[0m\u001b[0;34m\u001b[0m\u001b[0m\n",
      "\u001b[0;31mNameError\u001b[0m: name 'results' is not defined"
     ]
    }
   ],
   "source": [
    "correct_dists.observed_list = [8]\n",
    "plt.hist(np.array(results), bins=20, alpha=0.75, label='posterior', density=True)\n",
    "correct_dists.plot_prior(min(prior.values_numpy()),max(prior.values_numpy()))\n",
    "correct_dists.plot_posterior(0,10)\n",
    "plt.legend()"
   ]
  },
  {
   "cell_type": "code",
   "execution_count": 20,
   "metadata": {},
   "outputs": [
    {
     "data": {
      "text/plain": [
       "<matplotlib.legend.Legend at 0x7f7fae340d30>"
      ]
     },
     "execution_count": 20,
     "metadata": {},
     "output_type": "execute_result"
    },
    {
     "data": {
      "image/png": "[encoded data removed]",
      "text/plain": [
       "<Figure size 432x288 with 1 Axes>"
      ]
     },
     "metadata": {
      "needs_background": "light"
     },
     "output_type": "display_data"
    }
   ],
   "source": [
    "correct_dists.observed_list = [8]\n",
    "plt.hist(np.array(unweighted_results), bins=20, alpha=0.75, label='posterior', density=True)\n",
    "correct_dists.plot_prior(min(prior.values_numpy()),max(prior.values_numpy()))\n",
    "correct_dists.plot_posterior(0,10)\n",
    "plt.legend()"
   ]
  },
  {
   "cell_type": "code",
   "execution_count": 21,
   "metadata": {},
   "outputs": [
    {
     "name": "stdout",
     "output_type": "stream",
     "text": [
      "Time spent  | Time remain.| Progress             | Trace   | ESS   | Traces/sec\n"
     ]
    },
    {
     "name": "stderr",
     "output_type": "stream",
     "text": [
      "/home/sragy/DISPyprob/pyprob/pyprob/nn/inference_network_feedforward.py:67: UserWarning: Using prior. No proposal for address: 32__forward__?__Normal__1\n",
      "  warnings.warn('Using prior. No proposal for address: {}'.format(address))\n"
     ]
    },
    {
     "name": "stdout",
     "output_type": "stream",
     "text": [
      "0d:00:00:02 | 0d:00:00:00 | #################### | 200/200 |  9.38 | 92.72        \n"
     ]
    }
   ],
   "source": [
    "results = simulator.posterior_results(num_traces=200, inference_engine=InferenceEngine.DISTILLING_IMPORTANCE_SAMPLING, observe = {'dummy':1})"
   ]
  },
  {
   "cell_type": "code",
   "execution_count": 22,
   "metadata": {},
   "outputs": [
    {
     "data": {
      "text/plain": [
       "<matplotlib.legend.Legend at 0x7f7fae295b20>"
      ]
     },
     "execution_count": 22,
     "metadata": {},
     "output_type": "execute_result"
    },
    {
     "data": {
      "image/png": "[encoded data removed]",
      "text/plain": [
       "<Figure size 432x288 with 1 Axes>"
      ]
     },
     "metadata": {
      "needs_background": "light"
     },
     "output_type": "display_data"
    }
   ],
   "source": [
    "correct_dists.observed_list = [8]\n",
    "plt.hist(np.array(results), bins=20, alpha=0.75, label='posterior', density=True)\n",
    "correct_dists.plot_prior(min(prior.values_numpy()),max(prior.values_numpy()))\n",
    "correct_dists.plot_posterior(0,10)\n",
    "plt.legend()"
   ]
  },
  {
   "cell_type": "code",
   "execution_count": 23,
   "metadata": {},
   "outputs": [
    {
     "name": "stdout",
     "output_type": "stream",
     "text": [
      "Time spent  | Time remain.| Progress             | Trace   | ESS   | Traces/sec\n"
     ]
    },
    {
     "name": "stderr",
     "output_type": "stream",
     "text": [
      "/home/sragy/DISPyprob/pyprob/pyprob/nn/inference_network_feedforward.py:67: UserWarning: Using prior. No proposal for address: 32__forward__?__Normal__1\n",
      "  warnings.warn('Using prior. No proposal for address: {}'.format(address))\n"
     ]
    },
    {
     "name": "stdout",
     "output_type": "stream",
     "text": [
      "0d:00:00:01 | 0d:00:00:00 | #################### | 200/200 |  9.82 | 101.61       \n"
     ]
    }
   ],
   "source": [
    "posterior = simulator.posterior(num_traces=200, inference_engine=InferenceEngine.DISTILLING_IMPORTANCE_SAMPLING, observe = {'dummy':1})"
   ]
  },
  {
   "cell_type": "code",
   "execution_count": 26,
   "metadata": {},
   "outputs": [],
   "source": [
    "unweighted = np.array([posterior.values[i].result for i in range(200)])"
   ]
  },
  {
   "cell_type": "code",
   "execution_count": 28,
   "metadata": {},
   "outputs": [
    {
     "data": {
      "text/plain": [
       "<matplotlib.legend.Legend at 0x7f7fae064040>"
      ]
     },
     "execution_count": 28,
     "metadata": {},
     "output_type": "execute_result"
    },
    {
     "data": {
      "image/png": "[encoded data removed]",
      "text/plain": [
       "<Figure size 432x288 with 1 Axes>"
      ]
     },
     "metadata": {
      "needs_background": "light"
     },
     "output_type": "display_data"
    }
   ],
   "source": [
    "correct_dists.observed_list = [8]\n",
    "plt.hist(np.array(unweighted), bins=20, alpha=0.75, label='proposal', density=True)\n",
    "correct_dists.plot_prior(min(prior.values_numpy()),max(prior.values_numpy()))\n",
    "correct_dists.plot_posterior(0,10)\n",
    "plt.legend()"
   ]
  },
  {
   "cell_type": "markdown",
   "metadata": {},
   "source": [
    "# Delta Tests"
   ]
  },
  {
   "cell_type": "code",
   "execution_count": 7,
   "metadata": {},
   "outputs": [],
   "source": [
    "def euclidean(a,b):\n",
    "    a = np.asarray(a)\n",
    "    b = np.asarray(b)\n",
    "    return np.linalg.norm(a-b)\n",
    "\n",
    "    \n",
    "class GaussianDISDelta(GaussianUnknownMean, ModelDIS):\n",
    "    def __init__(self,  dist_fun = None, **kwargs):\n",
    "        super().__init__(dist_fun = dist_fun)\n",
    "        self.obs = 8\n",
    "        #self.bool_func = bool_func\n",
    "    def dummy_bernoulli(self, x):\n",
    "        return True\n",
    "    def forward(self):\n",
    "        x = super().forward()\n",
    "        likelihood = Normal(x, self.likelihood_std) \n",
    "        val = pyprob.sample(likelihood)\n",
    "        delta = Delta(val)\n",
    "        pyprob.observe(delta, name = 'sample_obs')\n",
    "        delta_val = self.dummy_bernoulli(x)\n",
    "        bool_func_dist = pyprob.distributions.Bernoulli(delta_val)\n",
    "        pyprob.observe(bool_func_dist, name = \"dummy\")\n",
    "        return x\n",
    "\n",
    "\n",
    "simulatordelta = GaussianDISDelta(dist_fun = euclidean)"
   ]
  },
  {
   "cell_type": "code",
   "execution_count": 18,
   "metadata": {},
   "outputs": [
    {
     "name": "stderr",
     "output_type": "stream",
     "text": [
      "/home/sragy/DISPyprob/pyprob/pyprob/model.py:182: UserWarning: No inference network found. Sampling from prior\n",
      "  warnings.warn('No inference network found. Sampling from prior')\n"
     ]
    },
    {
     "name": "stdout",
     "output_type": "stream",
     "text": [
      "Time spent  | Time remain.| Progress             | Trace     | ESS    | Traces/sec\n",
      "0d:00:00:03 | 0d:00:00:00 | #################### | 1000/1000 | 1000.00 | 312.55       \n",
      "Creating new inference network...\n",
      "Observable dummy: reshape not specified, using shape torch.Size([]).\n",
      "Observable dummy: using embedding dim torch.Size([1]).\n",
      "Observable dummy: observe embedding not specified, using the default FEEDFORWARD.\n",
      "Observable dummy: using embedding depth 1.\n",
      "Observe embedding dimension: 1\n",
      "Train. time | Epoch| Trace     | Init. loss| Min. loss | Curr. loss| T.since min | Learn.rate| Traces/sec\n",
      "New layers, address: 16__forward__mu__Normal__1, distribution: Normal\n",
      "New layers, address: 28__forward__val__Normal__1, distribution: Normal\n",
      "Total addresses: 2, distribution types: 1, parameters: 1,652,348\n",
      "0d:00:00:00 | 1    | 300       | +4.25e+00 | +4.17e+00 | \u001b[31m+4.20e+00\u001b[0m | 0d:00:00:00 | +1.00e-03 | 659.0                                 \n",
      "Stop condition reached. num_traces: 500\n",
      "0d:00:00:00 | 1    | 500       | +4.25e+00 | \u001b[1m\u001b[32m+4.09e+00\u001b[0m | \u001b[1m\u001b[32m+4.09e+00\u001b[0m | \u001b[1m\u001b[32m0d:00:00:00\u001b[0m | +1.00e-03 | 1,027.4 \n",
      "Training iterations 1  epsilon 3.59  ESS 1000.0\n",
      "Time spent  | Time remain.| Progress             | Trace     | ESS    | Traces/sec\n",
      "0d:00:00:14 | 0d:00:00:00 | #################### | 1000/1000 | 702.21 | 66.68       \n",
      "Continuing to train existing inference network...\n",
      "Total number of parameters: 1,652,348\n",
      "Train. time | Epoch| Trace     | Init. loss| Min. loss | Curr. loss| T.since min | Learn.rate| Traces/sec\n",
      "0d:00:00:00 | 1    | 900       | +4.25e+00 | \u001b[1m\u001b[32m+3.94e+00\u001b[0m | \u001b[1m\u001b[32m+3.94e+00\u001b[0m | \u001b[1m\u001b[32m0d:00:00:00\u001b[0m | +1.00e-03 | 1,169.5 \n",
      "Stop condition reached. num_traces: 500\n",
      "0d:00:00:00 | 1    | 1,000     | +4.25e+00 | \u001b[1m\u001b[32m+3.83e+00\u001b[0m | \u001b[1m\u001b[32m+3.83e+00\u001b[0m | \u001b[1m\u001b[32m0d:00:00:00\u001b[0m | +1.00e-03 | 1,094.1 \n",
      "Training iterations 2  epsilon 2.44  ESS 702.2\n",
      "Time spent  | Time remain.| Progress             | Trace     | ESS    | Traces/sec\n",
      "0d:00:00:15 | 0d:00:00:00 | #################### | 1000/1000 | 176.51 | 64.19       \n",
      "Continuing to train existing inference network...\n",
      "Total number of parameters: 1,652,348\n",
      "Train. time | Epoch| Trace     | Init. loss| Min. loss | Curr. loss| T.since min | Learn.rate| Traces/sec\n",
      "0d:00:00:00 | 1    | 1,100     | +4.25e+00 | \u001b[1m\u001b[32m+3.73e+00\u001b[0m | \u001b[1m\u001b[32m+3.73e+00\u001b[0m | \u001b[1m\u001b[32m0d:00:00:00\u001b[0m | +1.00e-03 | 9,589.4 \n",
      "Stop condition reached. num_traces: 500\n",
      "0d:00:00:01 | 1    | 1,500     | +4.25e+00 | \u001b[1m\u001b[32m+3.40e+00\u001b[0m | \u001b[1m\u001b[32m+3.40e+00\u001b[0m | \u001b[1m\u001b[32m0d:00:00:00\u001b[0m | +1.00e-03 | 1,220.2 \n",
      "Training iterations 3  epsilon 1.57  ESS 176.5\n",
      "Time spent  | Time remain.| Progress             | Trace     | ESS    | Traces/sec\n",
      "0d:00:00:13 | 0d:00:00:00 | #################### | 1000/1000 |  24.58 | 74.15       \n",
      "Continuing to train existing inference network...\n",
      "Total number of parameters: 1,652,348\n",
      "Train. time | Epoch| Trace     | Init. loss| Min. loss | Curr. loss| T.since min | Learn.rate| Traces/sec\n",
      "0d:00:00:01 | 1    | 1,900     | +4.25e+00 | +3.20e+00 | \u001b[32m+3.40e+00\u001b[0m | 0d:00:00:00 | +1.00e-03 | 1,386.5                               \n",
      "Stop condition reached. num_traces: 500\n",
      "0d:00:00:01 | 1    | 2,000     | +4.25e+00 | +3.20e+00 | \u001b[31m+3.63e+00\u001b[0m | 0d:00:00:00 | +1.00e-03 | 1,109.9                               \n",
      "Training iterations 4  epsilon 1.03  ESS 24.6\n",
      "Time spent  | Time remain.| Progress             | Trace     | ESS    | Traces/sec\n",
      "0d:00:00:15 | 0d:00:00:00 | #################### | 1000/1000 |  42.33 | 64.83       \n",
      "Continuing to train existing inference network...\n",
      "Total number of parameters: 1,652,348\n",
      "Train. time | Epoch| Trace     | Init. loss| Min. loss | Curr. loss| T.since min | Learn.rate| Traces/sec\n",
      "0d:00:00:01 | 1    | 2,400     | +4.25e+00 | +3.20e+00 | \u001b[32m+3.23e+00\u001b[0m | 0d:00:00:00 | +1.00e-03 | 1,250.0 \n",
      "Stop condition reached. num_traces: 500\n",
      "0d:00:00:02 | 1    | 2,500     | +4.25e+00 | +3.20e+00 | \u001b[31m+3.25e+00\u001b[0m | 0d:00:00:00 | +1.00e-03 | 1,080.6 \n",
      "Training iterations 5  epsilon 1.03  ESS 42.3\n",
      "Time spent  | Time remain.| Progress             | Trace     | ESS    | Traces/sec\n",
      "0d:00:00:16 | 0d:00:00:00 | #################### | 1000/1000 |  11.29 | 61.43       \n",
      "Continuing to train existing inference network...\n",
      "Total number of parameters: 1,652,348\n",
      "Train. time | Epoch| Trace     | Init. loss| Min. loss | Curr. loss| T.since min | Learn.rate| Traces/sec\n",
      "0d:00:00:02 | 1    | 2,900     | +4.25e+00 | \u001b[1m\u001b[32m+3.12e+00\u001b[0m | \u001b[1m\u001b[32m+3.12e+00\u001b[0m | \u001b[1m\u001b[32m0d:00:00:00\u001b[0m | +1.00e-03 | 1,165.3 \n",
      "Stop condition reached. num_traces: 500\n",
      "0d:00:00:02 | 1    | 3,000     | +4.25e+00 | \u001b[1m\u001b[32m+3.06e+00\u001b[0m | \u001b[1m\u001b[32m+3.06e+00\u001b[0m | \u001b[1m\u001b[32m0d:00:00:00\u001b[0m | +1.00e-03 | 1,086.5 \n",
      "Training iterations 6  epsilon 0.85  ESS 11.3\n",
      "Time spent  | Time remain.| Progress             | Trace     | ESS    | Traces/sec\n",
      "0d:00:00:15 | 0d:00:00:00 | #################### | 1000/1000 |  10.59 | 65.38       \n",
      "Continuing to train existing inference network...\n",
      "Total number of parameters: 1,652,348\n",
      "Train. time | Epoch| Trace     | Init. loss| Min. loss | Curr. loss| T.since min | Learn.rate| Traces/sec\n",
      "0d:00:00:02 | 1    | 3,300     | +4.25e+00 | +2.92e+00 | \u001b[32m+2.97e+00\u001b[0m | 0d:00:00:00 | +1.00e-03 | 974.0                                 \n",
      "Stop condition reached. num_traces: 500\n",
      "0d:00:00:03 | 1    | 3,500     | +4.25e+00 | +2.92e+00 | \u001b[32m+2.96e+00\u001b[0m | 0d:00:00:00 | +1.00e-03 | 426.1                                 \n",
      "Training iterations 7  epsilon 0.71  ESS 10.6\n",
      "Time spent  | Time remain.| Progress             | Trace     | ESS    | Traces/sec\n",
      "0d:00:00:16 | 0d:00:00:00 | #################### | 1000/1000 |   9.29 | 61.29       \n",
      "Continuing to train existing inference network...\n",
      "Total number of parameters: 1,652,348\n",
      "Train. time | Epoch| Trace     | Init. loss| Min. loss | Curr. loss| T.since min | Learn.rate| Traces/sec\n",
      "0d:00:00:03 | 1    | 3,900     | +4.25e+00 | +2.82e+00 | \u001b[31m+3.03e+00\u001b[0m | 0d:00:00:00 | +1.00e-03 | 1,228.4                               \n",
      "Stop condition reached. num_traces: 500\n",
      "0d:00:00:03 | 1    | 4,000     | +4.25e+00 | \u001b[1m\u001b[32m+2.73e+00\u001b[0m | \u001b[1m\u001b[32m+2.73e+00\u001b[0m | \u001b[1m\u001b[32m0d:00:00:00\u001b[0m | +1.00e-03 | 1,151.4 \n",
      "Training iterations 8  epsilon 0.71  ESS 9.3\n",
      "Time spent  | Time remain.| Progress             | Trace     | ESS    | Traces/sec\n",
      "0d:00:00:14 | 0d:00:00:00 | #################### | 1000/1000 |  25.45 | 66.93       \n",
      "Continuing to train existing inference network...\n",
      "Total number of parameters: 1,652,348\n",
      "Train. time | Epoch| Trace     | Init. loss| Min. loss | Curr. loss| T.since min | Learn.rate| Traces/sec\n",
      "0d:00:00:03 | 1    | 4,400     | +4.25e+00 | +2.73e+00 | \u001b[31m+2.98e+00\u001b[0m | 0d:00:00:00 | +1.00e-03 | 1,150.8 \n",
      "Stop condition reached. num_traces: 500\n",
      "0d:00:00:03 | 1    | 4,500     | +4.25e+00 | +2.73e+00 | \u001b[32m+2.92e+00\u001b[0m | 0d:00:00:00 | +1.00e-03 | 1,023.9 \n",
      "Training iterations 9  epsilon 0.66  ESS 25.5\n",
      "Time spent  | Time remain.| Progress             | Trace     | ESS    | Traces/sec\n",
      "0d:00:00:15 | 0d:00:00:00 | #################### | 1000/1000 |  30.78 | 65.83       \n",
      "Continuing to train existing inference network...\n",
      "Total number of parameters: 1,652,348\n",
      "Train. time | Epoch| Trace     | Init. loss| Min. loss | Curr. loss| T.since min | Learn.rate| Traces/sec\n",
      "0d:00:00:04 | 1    | 4,900     | +4.25e+00 | +2.61e+00 | \u001b[31m+2.75e+00\u001b[0m | 0d:00:00:00 | +1.00e-03 | 772.9   \n",
      "Stop condition reached. num_traces: 500\n",
      "0d:00:00:04 | 1    | 5,000     | +4.25e+00 | \u001b[1m\u001b[32m+2.46e+00\u001b[0m | \u001b[1m\u001b[32m+2.46e+00\u001b[0m | \u001b[1m\u001b[32m0d:00:00:00\u001b[0m | +1.00e-03 | 723.0 \n",
      "Training iterations 10  epsilon 0.44  ESS 30.8\n"
     ]
    }
   ],
   "source": [
    "simulatordelta.train(iterations = 10, importance_sample_size=1000)"
   ]
  },
  {
   "cell_type": "code",
   "execution_count": 20,
   "metadata": {},
   "outputs": [
    {
     "name": "stdout",
     "output_type": "stream",
     "text": [
      "Time spent  | Time remain.| Progress             | Trace     | ESS    | Traces/sec\n",
      "0d:00:00:13 | 0d:00:00:00 | #################### | 1000/1000 |   1.54 | 72.44       \n"
     ]
    },
    {
     "data": {
      "text/plain": [
       "<matplotlib.legend.Legend at 0x7f81e55da040>"
      ]
     },
     "execution_count": 20,
     "metadata": {},
     "output_type": "execute_result"
    },
    {
     "data": {
      "image/png": "[encoded data removed]",
      "text/plain": [
       "<Figure size 432x288 with 1 Axes>"
      ]
     },
     "metadata": {
      "needs_background": "light"
     },
     "output_type": "display_data"
    }
   ],
   "source": [
    "results = simulatordelta.posterior_results(num_traces=1000, inference_engine=InferenceEngine.DISTILLING_IMPORTANCE_SAMPLING, observe = {'dummy':1})\n",
    "correct_dists.observed_list = [8]\n",
    "plt.hist(np.array(results), bins=40, alpha=0.75, label='posterior', density=True)\n",
    "correct_dists.plot_prior(min(prior.values_numpy()),max(prior.values_numpy()))\n",
    "correct_dists.plot_posterior(0,10)\n",
    "plt.legend()"
   ]
  },
  {
   "cell_type": "code",
   "execution_count": null,
   "metadata": {},
   "outputs": [],
   "source": [
    "ind = np.argpartition(results.weights_numpy(), -4)[-4:]\n",
    "results.weights_numpy()[ind]"
   ]
  },
  {
   "cell_type": "markdown",
   "metadata": {},
   "source": [
    "# Weight truncation"
   ]
  },
  {
   "cell_type": "code",
   "execution_count": 8,
   "metadata": {},
   "outputs": [],
   "source": [
    "simulatordeltatrunc = GaussianDISDelta(dist_fun = euclidean, weight_truncation = True)"
   ]
  },
  {
   "cell_type": "code",
   "execution_count": 9,
   "metadata": {},
   "outputs": [
    {
     "name": "stderr",
     "output_type": "stream",
     "text": [
      "/home/sragy/DISPyprob/pyprob/pyprob/model.py:220: UserWarning: No inference network found. Sampling from prior\n",
      "  warnings.warn('No inference network found. Sampling from prior')\n"
     ]
    },
    {
     "name": "stdout",
     "output_type": "stream",
     "text": [
      "Time spent  | Time remain.| Progress             | Trace     | ESS    | Traces/sec\n",
      "0d:00:00:00 | 0d:00:00:00 | #################### | 1000/1000 | 1000.00 | 1,229.73       \n",
      "Creating new inference network...\n",
      "Observable dummy: reshape not specified, using shape torch.Size([]).\n",
      "Observable dummy: using embedding dim torch.Size([1]).\n",
      "Observable dummy: observe embedding not specified, using the default FEEDFORWARD.\n",
      "Observable dummy: using embedding depth 1.\n",
      "Observe embedding dimension: 1\n",
      "Train. time | Epoch| Trace     | Init. loss| Min. loss | Curr. loss| T.since min | Learn.rate| Traces/sec\n",
      "New layers, address: 16__forward__mu__Normal__1, distribution: Normal\n",
      "New layers, address: 28__forward__val__Normal__1, distribution: Normal\n",
      "Total addresses: 2, distribution types: 1, parameters: 1,652,348\n",
      "0d:00:00:00 | 1    | 100       | +4.35e+00 | \u001b[1m\u001b[32m+4.35e+00\u001b[0m | \u001b[1m\u001b[32m+4.35e+00\u001b[0m | \u001b[1m\u001b[32m0d:00:00:00\u001b[0m | +1.00e-03 | 16,621.0 \n",
      "Stop condition reached. num_traces: 500\n",
      "0d:00:00:00 | 1    | 500       | +4.35e+00 | +3.94e+00 | \u001b[31m+3.99e+00\u001b[0m | 0d:00:00:00 | +1.00e-03 | 1,177.6                                \n",
      "Training iterations 1  epsilon 3.63  ESS 1000.0\n",
      "Time spent  | Time remain.| Progress             | Trace     | ESS    | Traces/sec\n",
      "0d:00:00:12 | 0d:00:00:00 | #################### | 1000/1000 | 541.61 | 82.53       \n",
      "Continuing to train existing inference network...\n",
      "Total number of parameters: 1,652,348\n",
      "Train. time | Epoch| Trace     | Init. loss| Min. loss | Curr. loss| T.since min | Learn.rate| Traces/sec\n",
      "0d:00:00:00 | 1    | 600       | +4.35e+00 | +3.94e+00 | \u001b[31m+4.15e+00\u001b[0m | 0d:00:00:00 | +1.00e-03 | 11,749.1 \n",
      "Stop condition reached. num_traces: 500\n",
      "0d:00:00:00 | 1    | 1,000     | +4.35e+00 | +3.84e+00 | \u001b[31m+3.90e+00\u001b[0m | 0d:00:00:00 | +1.00e-03 | 1,533.6  \n",
      "Training iterations 2  epsilon 2.23  ESS 541.6\n",
      "Time spent  | Time remain.| Progress             | Trace     | ESS    | Traces/sec\n",
      "0d:00:00:16 | 0d:00:00:00 | #################### | 1000/1000 | 190.73 | 59.52       \n",
      "Continuing to train existing inference network...\n",
      "Total number of parameters: 1,652,348\n",
      "Train. time | Epoch| Trace     | Init. loss| Min. loss | Curr. loss| T.since min | Learn.rate| Traces/sec\n",
      "0d:00:00:00 | 1    | 1,100     | +4.35e+00 | +3.84e+00 | \u001b[31m+3.94e+00\u001b[0m | 0d:00:00:00 | +1.00e-03 | 9,661.6 \n",
      "Stop condition reached. num_traces: 500\n",
      "0d:00:00:00 | 1    | 1,500     | +4.35e+00 | \u001b[1m\u001b[32m+3.57e+00\u001b[0m | \u001b[1m\u001b[32m+3.57e+00\u001b[0m | \u001b[1m\u001b[32m0d:00:00:00\u001b[0m | +1.00e-03 | 1,300.6 \n",
      "Training iterations 3  epsilon 1.35  ESS 190.7\n",
      "Time spent  | Time remain.| Progress             | Trace     | ESS    | Traces/sec\n",
      "0d:00:00:12 | 0d:00:00:00 | #################### | 1000/1000 |  30.17 | 81.57       \n",
      "Continuing to train existing inference network...\n",
      "Total number of parameters: 1,652,348\n",
      "Train. time | Epoch| Trace     | Init. loss| Min. loss | Curr. loss| T.since min | Learn.rate| Traces/sec\n",
      "0d:00:00:01 | 1    | 1,900     | +4.35e+00 | \u001b[1m\u001b[32m+3.20e+00\u001b[0m | \u001b[1m\u001b[32m+3.20e+00\u001b[0m | \u001b[1m\u001b[32m0d:00:00:00\u001b[0m | +1.00e-03 | 1,196.3 \n",
      "Stop condition reached. num_traces: 500\n",
      "0d:00:00:01 | 1    | 2,000     | +4.35e+00 | +3.20e+00 | \u001b[31m+3.40e+00\u001b[0m | 0d:00:00:00 | +1.00e-03 | 947.6                                 \n",
      "Training iterations 4  epsilon 0.90  ESS 30.2\n",
      "Time spent  | Time remain.| Progress             | Trace     | ESS    | Traces/sec\n",
      "0d:00:00:14 | 0d:00:00:00 | #################### | 1000/1000 |   6.90 | 67.48       \n",
      "Continuing to train existing inference network...\n",
      "Total number of parameters: 1,652,348\n",
      "Train. time | Epoch| Trace     | Init. loss| Min. loss | Curr. loss| T.since min | Learn.rate| Traces/sec\n",
      "0d:00:00:01 | 1    | 2,100     | +4.35e+00 | \u001b[1m\u001b[32m+2.97e+00\u001b[0m | \u001b[1m\u001b[32m+2.97e+00\u001b[0m | \u001b[1m\u001b[32m0d:00:00:00\u001b[0m | +1.00e-03 | 12,428.7 \n",
      "Stop condition reached. num_traces: 500\n",
      "0d:00:00:01 | 1    | 2,500     | +4.35e+00 | +2.97e+00 | \u001b[32m+3.20e+00\u001b[0m | 0d:00:00:00 | +1.00e-03 | 1,392.3                                \n",
      "Training iterations 5  epsilon 0.90  ESS 6.9\n",
      "Time spent  | Time remain.| Progress             | Trace     | ESS    | Traces/sec\n",
      "0d:00:00:15 | 0d:00:00:00 | #################### | 1000/1000 |   2.88 | 63.77       \n",
      "Continuing to train existing inference network...\n",
      "Total number of parameters: 1,652,348\n",
      "Train. time | Epoch| Trace     | Init. loss| Min. loss | Curr. loss| T.since min | Learn.rate| Traces/sec\n",
      "0d:00:00:02 | 1    | 2,900     | +4.35e+00 | +2.97e+00 | \u001b[32m+3.27e+00\u001b[0m | 0d:00:00:00 | +1.00e-03 | 1,266.0 \n",
      "Stop condition reached. num_traces: 500\n",
      "0d:00:00:02 | 1    | 3,000     | +4.35e+00 | +2.97e+00 | \u001b[32m+3.27e+00\u001b[0m | 0d:00:00:00 | +1.00e-03 | 1,108.1 \n",
      "Training iterations 6  epsilon 0.90  ESS 2.9\n",
      "Time spent  | Time remain.| Progress             | Trace     | ESS    | Traces/sec\n",
      "0d:00:00:17 | 0d:00:00:00 | #################### | 1000/1000 |   6.65 | 58.30       \n",
      "Continuing to train existing inference network...\n",
      "Total number of parameters: 1,652,348\n",
      "Train. time | Epoch| Trace     | Init. loss| Min. loss | Curr. loss| T.since min | Learn.rate| Traces/sec\n",
      "0d:00:00:02 | 1    | 3,400     | +4.35e+00 | +2.97e+00 | \u001b[32m+3.19e+00\u001b[0m | 0d:00:00:00 | +1.00e-03 | 1,040.6 \n",
      "Stop condition reached. num_traces: 500\n",
      "0d:00:00:02 | 1    | 3,500     | +4.35e+00 | +2.97e+00 | \u001b[31m+3.29e+00\u001b[0m | 0d:00:00:00 | +1.00e-03 | 597.3   \n",
      "Training iterations 7  epsilon 0.85  ESS 6.7\n",
      "Time spent  | Time remain.| Progress             | Trace     | ESS    | Traces/sec\n",
      "0d:00:00:15 | 0d:00:00:00 | #################### | 1000/1000 |  11.30 | 64.19       \n",
      "Continuing to train existing inference network...\n",
      "Total number of parameters: 1,652,348\n",
      "Train. time | Epoch| Trace     | Init. loss| Min. loss | Curr. loss| T.since min | Learn.rate| Traces/sec\n",
      "0d:00:00:02 | 1    | 3,600     | +4.35e+00 | +2.97e+00 | \u001b[32m+3.28e+00\u001b[0m | 0d:00:00:00 | +1.00e-03 | 8,482.6 \n",
      "Stop condition reached. num_traces: 500\n",
      "0d:00:00:02 | 1    | 4,000     | +4.35e+00 | +2.97e+00 | \u001b[31m+3.39e+00\u001b[0m | 0d:00:00:00 | +1.00e-03 | 1,216.3 \n",
      "Training iterations 8  epsilon 0.85  ESS 11.3\n",
      "Time spent  | Time remain.| Progress             | Trace     | ESS    | Traces/sec\n",
      "0d:00:00:21 | 0d:00:00:00 | #################### | 1000/1000 |   3.05 | 45.77       \n",
      "Continuing to train existing inference network...\n",
      "Total number of parameters: 1,652,348\n",
      "Train. time | Epoch| Trace     | Init. loss| Min. loss | Curr. loss| T.since min | Learn.rate| Traces/sec\n",
      "0d:00:00:03 | 1    | 4,300     | +4.35e+00 | +2.97e+00 | \u001b[31m+3.30e+00\u001b[0m | 0d:00:00:00 | +1.00e-03 | 652.2   \n",
      "Stop condition reached. num_traces: 500\n",
      "0d:00:00:03 | 1    | 4,500     | +4.35e+00 | \u001b[1m\u001b[32m+2.95e+00\u001b[0m | \u001b[1m\u001b[32m+2.95e+00\u001b[0m | \u001b[1m\u001b[32m0d:00:00:00\u001b[0m | +1.00e-03 | 687.6 \n",
      "Training iterations 9  epsilon 0.85  ESS 3.1\n",
      "Time spent  | Time remain.| Progress             | Trace     | ESS    | Traces/sec\n",
      "0d:00:00:22 | 0d:00:00:00 | #################### | 1000/1000 |   6.95 | 44.01       \n",
      "Continuing to train existing inference network...\n",
      "Total number of parameters: 1,652,348\n",
      "Train. time | Epoch| Trace     | Init. loss| Min. loss | Curr. loss| T.since min | Learn.rate| Traces/sec\n",
      "0d:00:00:03 | 1    | 4,900     | +4.35e+00 | +2.95e+00 | \u001b[31m+3.46e+00\u001b[0m | 0d:00:00:00 | +1.00e-03 | 1,049.7 \n",
      "Stop condition reached. num_traces: 500\n",
      "0d:00:00:04 | 1    | 5,000     | +4.35e+00 | +2.95e+00 | \u001b[32m+3.28e+00\u001b[0m | 0d:00:00:00 | +1.00e-03 | 972.2   \n",
      "Training iterations 10  epsilon 0.83  ESS 7.0\n"
     ]
    }
   ],
   "source": [
    "simulatordeltatrunc.train(iterations = 10, importance_sample_size=1000)"
   ]
  },
  {
   "cell_type": "code",
   "execution_count": 10,
   "metadata": {},
   "outputs": [
    {
     "name": "stdout",
     "output_type": "stream",
     "text": [
      "Time spent  | Time remain.| Progress             | Trace     | ESS    | Traces/sec\n",
      "0d:00:00:12 | 0d:00:00:00 | #################### | 1000/1000 |  19.75 | 78.31        \n"
     ]
    },
    {
     "data": {
      "text/plain": [
       "<matplotlib.legend.Legend at 0x7f961902a040>"
      ]
     },
     "execution_count": 10,
     "metadata": {},
     "output_type": "execute_result"
    },
    {
     "data": {
      "image/png": "[encoded data removed]",
      "text/plain": [
       "<Figure size 432x288 with 1 Axes>"
      ]
     },
     "metadata": {
      "needs_background": "light"
     },
     "output_type": "display_data"
    }
   ],
   "source": [
    "results = simulatordeltatrunc.posterior_results(num_traces=1000, inference_engine=InferenceEngine.DISTILLING_IMPORTANCE_SAMPLING, observe = {'dummy':1})\n",
    "correct_dists.observed_list = [8]\n",
    "plt.hist(np.array(results), bins=40, alpha=0.75, label='posterior', density=True)\n",
    "correct_dists.plot_prior(min(prior.values_numpy()),max(prior.values_numpy()))\n",
    "correct_dists.plot_posterior(0,10)\n",
    "plt.legend()"
   ]
  },
  {
   "cell_type": "code",
   "execution_count": 11,
   "metadata": {},
   "outputs": [
    {
     "name": "stdout",
     "output_type": "stream",
     "text": [
      "Time spent  | Time remain.| Progress             | Trace     | ESS    | Traces/sec\n",
      "0d:00:00:20 | 0d:00:00:00 | #################### | 1000/1000 |   6.63 | 47.76       \n"
     ]
    },
    {
     "data": {
      "text/plain": [
       "<matplotlib.legend.Legend at 0x7f957c7cdc70>"
      ]
     },
     "execution_count": 11,
     "metadata": {},
     "output_type": "execute_result"
    },
    {
     "data": {
      "image/png": "[encoded data removed]",
      "text/plain": [
       "<Figure size 432x288 with 1 Axes>"
      ]
     },
     "metadata": {
      "needs_background": "light"
     },
     "output_type": "display_data"
    }
   ],
   "source": [
    "results = simulatordeltatrunc._dis_traces(num_traces=1000, inference_engine=InferenceEngine.DISTILLING_IMPORTANCE_SAMPLING, map_func=lambda trace: trace.result, observe = {'dummy':1})\n",
    "correct_dists.observed_list = [8]\n",
    "plt.hist(np.array(results), bins=40, alpha=0.75, label='posterior', density=True)\n",
    "correct_dists.plot_prior(min(prior.values_numpy()),max(prior.values_numpy()))\n",
    "correct_dists.plot_posterior(0,10)\n",
    "plt.legend()"
   ]
  },
  {
   "cell_type": "code",
   "execution_count": 12,
   "metadata": {},
   "outputs": [
    {
     "data": {
      "text/plain": [
       "array([0.00625305, 0.00636874, 0.00690823, 0.00656077])"
      ]
     },
     "execution_count": 12,
     "metadata": {},
     "output_type": "execute_result"
    }
   ],
   "source": [
    "ind = np.argpartition(results.weights_numpy(), -4)[-4:]\n",
    "results.weights_numpy()[ind]"
   ]
  },
  {
   "cell_type": "markdown",
   "metadata": {},
   "source": [
    "# With ginkgo"
   ]
  },
  {
   "cell_type": "code",
   "execution_count": 5,
   "metadata": {},
   "outputs": [],
   "source": [
    "obs_leaves = torch.tensor([[44.57652381, 26.16169856, 25.3945314 , 25.64598258],\n",
    "       [18.2146321 , 10.70465096, 10.43553391, 10.40449709],\n",
    "       [ 6.47106713,  4.0435395,  3.65545951,  3.48697568],\n",
    "       [ 8.43764314,  5.51040615,  4.60990593,  4.42270416],\n",
    "       [26.61664145, 16.55894826, 14.3357362 , 15.12215264],\n",
    "       [ 8.62925002,  3.37121204,  5.19699   ,  6.00480461],\n",
    "       [ 1.64291837,  0.74506775,  1.01003622,  1.05626017],\n",
    "       [ 0.75525072,  0.3051808 ,  0.45721085,  0.51760643],\n",
    "       [39.5749915 , 18.39638928, 24.24717939, 25.29349408],\n",
    "       [ 4.18355659,  2.11145474,  2.82071304,  2.25221316],\n",
    "       [ 0.82932922,  0.29842766,  0.5799056 ,  0.509021  ],\n",
    "       [ 3.00825023,  1.36339397,  1.99203677,  1.79428211],\n",
    "       [ 7.20024308,  4.03280868,  3.82379277,  4.57441754],\n",
    "       [ 2.09953618,  1.28473579,  1.03554351,  1.29769683],\n",
    "       [12.21401828,  6.76059035,  6.94920042,  7.42823701],\n",
    "       [ 6.91438054,  3.68417135,  3.83782514,  4.41656731],\n",
    "       [ 1.97218904,  1.01632927,  1.08008339,  1.27454585],\n",
    "       [ 8.58164301,  5.06157833,  4.79691164,  4.99553141],\n",
    "       [ 5.97809522,  3.26557958,  3.4253764 ,  3.64894791],\n",
    "       [ 5.22842301,  2.94437891,  3.10292633,  3.00551074],\n",
    "       [15.40023764,  9.10884407,  8.93836964,  8.61970667],\n",
    "       [ 1.96101346,  1.24996337,  1.06923988,  1.06743143],\n",
    "       [19.81054106, 11.90268453, 11.60989346, 10.76953856],\n",
    "       [18.79470876, 11.429855  , 10.8377334 , 10.25112761],\n",
    "       [25.74331932, 15.63430056, 14.83860792, 14.07189108],\n",
    "       [ 9.98357576,  6.10090721,  5.68664128,  5.48748692],\n",
    "       [12.34604239,  7.78770185,  6.76075998,  6.78498685],\n",
    "       [21.24998531, 12.95180254, 11.9511704 , 11.87319933],\n",
    "       [ 7.80693733,  4.83117128,  4.27443559,  4.39602348],\n",
    "       [16.28983576,  9.66683929,  9.24891886,  9.28970032],\n",
    "       [ 2.50706736,  1.53153206,  1.36060018,  1.43002765],\n",
    "       [ 3.73938645,  2.06006639,  2.31013974,  2.09378969],\n",
    "       [20.2174725 , 11.88622367, 12.05106468, 11.05325362],\n",
    "       [ 9.48660008,  5.53665456,  5.54171966,  5.34966654],\n",
    "       [ 2.65812987,  1.64102742,  1.67392209,  1.25083707]], dtype=torch.float64)\n",
    "\n",
    "\n",
    "QCD_mass = 30.\n",
    "#rate=torch.tensor([QCD_rate,QCD_rate]) #Entries: [root node, every other node] decaying rates. Choose same values for a QCD jet\n",
    "jetdir = np.array([1,1,1])\n",
    "jetP = 400.\n",
    "jetvec = jetP * jetdir / np.linalg.norm(jetdir) ## Jetvec is 3-momentum. JetP is relativistic p.\n",
    "\n",
    "\n",
    "# Actual parameters\n",
    "pt_min = torch.tensor(0.3**2)\n",
    "M2start = torch.tensor(QCD_mass**2)\n",
    "jetM = np.sqrt(M2start.numpy()) ## Mass of initial jet\n",
    "jet4vec = np.concatenate(([np.sqrt(jetP**2 + jetM**2)], jetvec))\n",
    "minLeaves = 1\n",
    "maxLeaves = 10000 # unachievable, to prevent rejections\n",
    "maxNTry = 100\n",
    "\n",
    "\n",
    "\n",
    "class SimulatorModelDIS(invMass_ginkgo.SimulatorModel, ModelDIS):\n",
    "    def __init__(self, **kwargs):\n",
    "        super().__init__(**kwargs)\n",
    "\n",
    "    def dummy_bernoulli(self, jet):\n",
    "        return True\n",
    "\n",
    "    def forward(self, inputs=None):\n",
    "        assert inputs is None # Modify code if this ever not met?\n",
    "        # Sample parameter of interest from Unif(0,10) prior\n",
    "        root_rate = pyprob.sample(pyprob.distributions.Uniform(0.01, 10.),\n",
    "                            name=\"decay_rate_parameter\")\n",
    "        decay_rate = pyprob.sample(pyprob.distributions.Uniform(0.01, 10.),\n",
    "                                   name=\"decay_rate_parameter\")\n",
    "        # Simulator code needs two decay rates for (1) root note (2) all others\n",
    "        # For now both are set to the same value\n",
    "        inputs = [root_rate, decay_rate]\n",
    "        jet = super().forward(inputs)\n",
    "        delta_val = self.dummy_bernoulli(jet)\n",
    "        bool_func_dist = pyprob.distributions.Bernoulli(delta_val)\n",
    "        pyprob.observe(bool_func_dist, name = \"dummy\")\n",
    "        return jet\n",
    "\n",
    "# Make instance of the simulator\n",
    "simulatorginkgo = SimulatorModelDIS(jet_p=jet4vec,  # parent particle 4-vector\n",
    "                              pt_cut=float(pt_min),  # minimum pT for resulting jet\n",
    "                              Delta_0= M2start,  # parent particle mass squared -> needs tensor\n",
    "                              M_hard=jetM,  # parent particle mass\n",
    "                              minLeaves=1,  # minimum number of jet constituents\n",
    "                              maxLeaves=10000,  # maximum number of jet constituents (a large value to stop expensive simulator runs)\n",
    "                              suppress_output=True,\n",
    "                              obs_leaves=obs_leaves, \n",
    "                              dist_fun = sinkhorn_t,\n",
    "                              weight_truncation = True)\n"
   ]
  },
  {
   "cell_type": "code",
   "execution_count": 3,
   "metadata": {},
   "outputs": [
    {
     "name": "stdout",
     "output_type": "stream",
     "text": [
      "Creating new inference network...\n",
      "Observable dummy: reshape not specified, using shape torch.Size([]).\n",
      "Observable dummy: using embedding dim torch.Size([1]).\n",
      "Observable dummy: observe embedding not specified, using the default FEEDFORWARD.\n",
      "Observable dummy: using embedding depth 1.\n",
      "Observe embedding dimension: 1\n",
      "Train. time | Epoch| Trace     | Init. loss| Min. loss | Curr. loss| T.since min | Learn.rate| Traces/sec\n",
      "New layers, address: 32__forward__root_rate__Uniform__1, distribution: Uniform\n",
      "New layers, address: 56__forward__decay_rate__Uniform__1, distribution: Uniform\n",
      "New layers, address: 216__forward___traverse___traverse_rec__?__Uniform..., distribution: Uniform\n",
      "New layers, address: 260__forward___traverse___traverse_rec__theta_CM_U..., distribution: Uniform\n",
      "New layers, address: 470__forward___traverse___traverse_rec__draw_decay..., distribution: TruncatedExponential\n",
      "New layers, address: 520__forward___traverse___traverse_rec__draw_decay..., distribution: TruncatedExponential\n",
      "New layers, address: 216__forward___traverse___traverse_rec___traverse_..., distribution: Uniform\n",
      "New layers, address: 260__forward___traverse___traverse_rec___traverse_..., distribution: Uniform\n",
      "New layers, address: 470__forward___traverse___traverse_rec___traverse_..., distribution: TruncatedExponential\n",
      "New layers, address: 520__forward___traverse___traverse_rec___traverse_..., distribution: TruncatedExponential\n",
      "New layers, address: 216__forward___traverse___traverse_rec___traverse_..., distribution: Uniform\n",
      "New layers, address: 260__forward___traverse___traverse_rec___traverse_..., distribution: Uniform\n",
      "New layers, address: 470__forward___traverse___traverse_rec___traverse_..., distribution: TruncatedExponential\n",
      "New layers, address: 520__forward___traverse___traverse_rec___traverse_..., distribution: TruncatedExponential\n",
      "New layers, address: 216__forward___traverse___traverse_rec___traverse_..., distribution: Uniform\n",
      "New layers, address: 260__forward___traverse___traverse_rec___traverse_..., distribution: Uniform\n",
      "New layers, address: 470__forward___traverse___traverse_rec___traverse_..., distribution: TruncatedExponential\n",
      "New layers, address: 520__forward___traverse___traverse_rec___traverse_..., distribution: TruncatedExponential\n",
      "New layers, address: 216__forward___traverse___traverse_rec___traverse_..., distribution: Uniform\n",
      "New layers, address: 260__forward___traverse___traverse_rec___traverse_..., distribution: Uniform\n",
      "New layers, address: 470__forward___traverse___traverse_rec___traverse_..., distribution: TruncatedExponential\n",
      "New layers, address: 520__forward___traverse___traverse_rec___traverse_..., distribution: TruncatedExponential\n",
      "New layers, address: 216__forward___traverse___traverse_rec___traverse_..., distribution: Uniform\n",
      "New layers, address: 260__forward___traverse___traverse_rec___traverse_..., distribution: Uniform\n",
      "New layers, address: 470__forward___traverse___traverse_rec___traverse_..., distribution: TruncatedExponential\n",
      "New layers, address: 520__forward___traverse___traverse_rec___traverse_..., distribution: TruncatedExponential\n",
      "New layers, address: 216__forward___traverse___traverse_rec___traverse_..., distribution: Uniform\n",
      "New layers, address: 260__forward___traverse___traverse_rec___traverse_..., distribution: Uniform\n",
      "New layers, address: 470__forward___traverse___traverse_rec___traverse_..., distribution: TruncatedExponential\n",
      "New layers, address: 520__forward___traverse___traverse_rec___traverse_..., distribution: TruncatedExponential\n",
      "New layers, address: 216__forward___traverse___traverse_rec___traverse_..., distribution: Uniform\n",
      "New layers, address: 260__forward___traverse___traverse_rec___traverse_..., distribution: Uniform\n",
      "New layers, address: 470__forward___traverse___traverse_rec___traverse_..., distribution: TruncatedExponential\n",
      "New layers, address: 520__forward___traverse___traverse_rec___traverse_..., distribution: TruncatedExponential\n",
      "New layers, address: 216__forward___traverse___traverse_rec___traverse_..., distribution: Uniform\n",
      "New layers, address: 260__forward___traverse___traverse_rec___traverse_..., distribution: Uniform\n",
      "New layers, address: 470__forward___traverse___traverse_rec___traverse_..., distribution: TruncatedExponential\n",
      "New layers, address: 520__forward___traverse___traverse_rec___traverse_..., distribution: TruncatedExponential\n",
      "New layers, address: 216__forward___traverse___traverse_rec___traverse_..., distribution: Uniform\n",
      "New layers, address: 260__forward___traverse___traverse_rec___traverse_..., distribution: Uniform\n",
      "New layers, address: 470__forward___traverse___traverse_rec___traverse_..., distribution: TruncatedExponential\n",
      "New layers, address: 520__forward___traverse___traverse_rec___traverse_..., distribution: TruncatedExponential\n",
      "New layers, address: 216__forward___traverse___traverse_rec___traverse_..., distribution: Uniform\n",
      "New layers, address: 260__forward___traverse___traverse_rec___traverse_..., distribution: Uniform\n",
      "New layers, address: 470__forward___traverse___traverse_rec___traverse_..., distribution: TruncatedExponential\n",
      "New layers, address: 520__forward___traverse___traverse_rec___traverse_..., distribution: TruncatedExponential\n",
      "New layers, address: 216__forward___traverse___traverse_rec___traverse_..., distribution: Uniform\n",
      "New layers, address: 260__forward___traverse___traverse_rec___traverse_..., distribution: Uniform\n",
      "New layers, address: 470__forward___traverse___traverse_rec___traverse_..., distribution: TruncatedExponential\n",
      "New layers, address: 520__forward___traverse___traverse_rec___traverse_..., distribution: TruncatedExponential\n",
      "New layers, address: 216__forward___traverse___traverse_rec___traverse_..., distribution: Uniform\n",
      "New layers, address: 260__forward___traverse___traverse_rec___traverse_..., distribution: Uniform\n",
      "New layers, address: 470__forward___traverse___traverse_rec___traverse_..., distribution: TruncatedExponential\n",
      "New layers, address: 520__forward___traverse___traverse_rec___traverse_..., distribution: TruncatedExponential\n",
      "New layers, address: 216__forward___traverse___traverse_rec___traverse_..., distribution: Uniform\n",
      "New layers, address: 260__forward___traverse___traverse_rec___traverse_..., distribution: Uniform\n",
      "New layers, address: 470__forward___traverse___traverse_rec___traverse_..., distribution: TruncatedExponential\n",
      "New layers, address: 520__forward___traverse___traverse_rec___traverse_..., distribution: TruncatedExponential\n",
      "New layers, address: 216__forward___traverse___traverse_rec___traverse_..., distribution: Uniform\n",
      "New layers, address: 260__forward___traverse___traverse_rec___traverse_..., distribution: Uniform\n",
      "New layers, address: 470__forward___traverse___traverse_rec___traverse_..., distribution: TruncatedExponential\n",
      "New layers, address: 520__forward___traverse___traverse_rec___traverse_..., distribution: TruncatedExponential\n",
      "New layers, address: 216__forward___traverse___traverse_rec___traverse_..., distribution: Uniform\n",
      "New layers, address: 260__forward___traverse___traverse_rec___traverse_..., distribution: Uniform\n",
      "New layers, address: 470__forward___traverse___traverse_rec___traverse_..., distribution: TruncatedExponential\n",
      "New layers, address: 520__forward___traverse___traverse_rec___traverse_..., distribution: TruncatedExponential\n",
      "New layers, address: 216__forward___traverse___traverse_rec___traverse_..., distribution: Uniform\n",
      "New layers, address: 260__forward___traverse___traverse_rec___traverse_..., distribution: Uniform\n",
      "New layers, address: 470__forward___traverse___traverse_rec___traverse_..., distribution: TruncatedExponential\n",
      "New layers, address: 520__forward___traverse___traverse_rec___traverse_..., distribution: TruncatedExponential\n",
      "New layers, address: 216__forward___traverse___traverse_rec___traverse_..., distribution: Uniform\n",
      "New layers, address: 260__forward___traverse___traverse_rec___traverse_..., distribution: Uniform\n",
      "New layers, address: 470__forward___traverse___traverse_rec___traverse_..., distribution: TruncatedExponential\n",
      "New layers, address: 520__forward___traverse___traverse_rec___traverse_..., distribution: TruncatedExponential\n",
      "New layers, address: 216__forward___traverse___traverse_rec___traverse_..., distribution: Uniform\n",
      "New layers, address: 260__forward___traverse___traverse_rec___traverse_..., distribution: Uniform\n",
      "New layers, address: 470__forward___traverse___traverse_rec___traverse_..., distribution: TruncatedExponential\n",
      "New layers, address: 520__forward___traverse___traverse_rec___traverse_..., distribution: TruncatedExponential\n",
      "New layers, address: 216__forward___traverse___traverse_rec___traverse_..., distribution: Uniform\n",
      "New layers, address: 260__forward___traverse___traverse_rec___traverse_..., distribution: Uniform\n",
      "New layers, address: 470__forward___traverse___traverse_rec___traverse_..., distribution: TruncatedExponential\n",
      "New layers, address: 520__forward___traverse___traverse_rec___traverse_..., distribution: TruncatedExponential\n",
      "New layers, address: 216__forward___traverse___traverse_rec___traverse_..., distribution: Uniform\n",
      "New layers, address: 260__forward___traverse___traverse_rec___traverse_..., distribution: Uniform\n",
      "New layers, address: 470__forward___traverse___traverse_rec___traverse_..., distribution: TruncatedExponential\n",
      "New layers, address: 520__forward___traverse___traverse_rec___traverse_..., distribution: TruncatedExponential\n",
      "New layers, address: 216__forward___traverse___traverse_rec___traverse_..., distribution: Uniform\n",
      "New layers, address: 260__forward___traverse___traverse_rec___traverse_..., distribution: Uniform\n",
      "New layers, address: 470__forward___traverse___traverse_rec___traverse_..., distribution: TruncatedExponential\n",
      "New layers, address: 520__forward___traverse___traverse_rec___traverse_..., distribution: TruncatedExponential\n",
      "New layers, address: 216__forward___traverse___traverse_rec___traverse_..., distribution: Uniform\n",
      "New layers, address: 260__forward___traverse___traverse_rec___traverse_..., distribution: Uniform\n",
      "New layers, address: 470__forward___traverse___traverse_rec___traverse_..., distribution: TruncatedExponential\n",
      "New layers, address: 520__forward___traverse___traverse_rec___traverse_..., distribution: TruncatedExponential\n",
      "New layers, address: 216__forward___traverse___traverse_rec___traverse_..., distribution: Uniform\n",
      "New layers, address: 260__forward___traverse___traverse_rec___traverse_..., distribution: Uniform\n",
      "New layers, address: 470__forward___traverse___traverse_rec___traverse_..., distribution: TruncatedExponential\n",
      "New layers, address: 520__forward___traverse___traverse_rec___traverse_..., distribution: TruncatedExponential\n",
      "New layers, address: 216__forward___traverse___traverse_rec___traverse_..., distribution: Uniform\n",
      "New layers, address: 260__forward___traverse___traverse_rec___traverse_..., distribution: Uniform\n",
      "New layers, address: 470__forward___traverse___traverse_rec___traverse_..., distribution: TruncatedExponential\n",
      "New layers, address: 520__forward___traverse___traverse_rec___traverse_..., distribution: TruncatedExponential\n",
      "New layers, address: 216__forward___traverse___traverse_rec___traverse_..., distribution: Uniform\n",
      "New layers, address: 260__forward___traverse___traverse_rec___traverse_..., distribution: Uniform\n",
      "New layers, address: 470__forward___traverse___traverse_rec___traverse_..., distribution: TruncatedExponential\n",
      "New layers, address: 520__forward___traverse___traverse_rec___traverse_..., distribution: TruncatedExponential\n",
      "New layers, address: 216__forward___traverse___traverse_rec___traverse_..., distribution: Uniform\n",
      "New layers, address: 260__forward___traverse___traverse_rec___traverse_..., distribution: Uniform\n",
      "New layers, address: 470__forward___traverse___traverse_rec___traverse_..., distribution: TruncatedExponential\n",
      "New layers, address: 520__forward___traverse___traverse_rec___traverse_..., distribution: TruncatedExponential\n",
      "New layers, address: 216__forward___traverse___traverse_rec___traverse_..., distribution: Uniform\n",
      "New layers, address: 260__forward___traverse___traverse_rec___traverse_..., distribution: Uniform\n",
      "New layers, address: 470__forward___traverse___traverse_rec___traverse_..., distribution: TruncatedExponential\n",
      "New layers, address: 520__forward___traverse___traverse_rec___traverse_..., distribution: TruncatedExponential\n",
      "New layers, address: 216__forward___traverse___traverse_rec___traverse_..., distribution: Uniform\n",
      "New layers, address: 260__forward___traverse___traverse_rec___traverse_..., distribution: Uniform\n",
      "New layers, address: 470__forward___traverse___traverse_rec___traverse_..., distribution: TruncatedExponential\n",
      "New layers, address: 520__forward___traverse___traverse_rec___traverse_..., distribution: TruncatedExponential\n",
      "New layers, address: 216__forward___traverse___traverse_rec___traverse_..., distribution: Uniform\n",
      "New layers, address: 260__forward___traverse___traverse_rec___traverse_..., distribution: Uniform\n",
      "New layers, address: 470__forward___traverse___traverse_rec___traverse_..., distribution: TruncatedExponential\n",
      "New layers, address: 520__forward___traverse___traverse_rec___traverse_..., distribution: TruncatedExponential\n",
      "New layers, address: 216__forward___traverse___traverse_rec___traverse_..., distribution: Uniform\n",
      "New layers, address: 260__forward___traverse___traverse_rec___traverse_..., distribution: Uniform\n",
      "New layers, address: 470__forward___traverse___traverse_rec___traverse_..., distribution: TruncatedExponential\n",
      "New layers, address: 520__forward___traverse___traverse_rec___traverse_..., distribution: TruncatedExponential\n",
      "New layers, address: 216__forward___traverse___traverse_rec___traverse_..., distribution: Uniform\n",
      "New layers, address: 260__forward___traverse___traverse_rec___traverse_..., distribution: Uniform\n",
      "New layers, address: 470__forward___traverse___traverse_rec___traverse_..., distribution: TruncatedExponential\n",
      "New layers, address: 520__forward___traverse___traverse_rec___traverse_..., distribution: TruncatedExponential\n",
      "New layers, address: 216__forward___traverse___traverse_rec___traverse_..., distribution: Uniform\n",
      "New layers, address: 260__forward___traverse___traverse_rec___traverse_..., distribution: Uniform\n",
      "New layers, address: 470__forward___traverse___traverse_rec___traverse_..., distribution: TruncatedExponential\n",
      "New layers, address: 520__forward___traverse___traverse_rec___traverse_..., distribution: TruncatedExponential\n",
      "New layers, address: 216__forward___traverse___traverse_rec___traverse_..., distribution: Uniform\n",
      "New layers, address: 260__forward___traverse___traverse_rec___traverse_..., distribution: Uniform\n",
      "New layers, address: 470__forward___traverse___traverse_rec___traverse_..., distribution: TruncatedExponential\n",
      "New layers, address: 520__forward___traverse___traverse_rec___traverse_..., distribution: TruncatedExponential\n",
      "New layers, address: 216__forward___traverse___traverse_rec___traverse_..., distribution: Uniform\n",
      "New layers, address: 260__forward___traverse___traverse_rec___traverse_..., distribution: Uniform\n",
      "New layers, address: 470__forward___traverse___traverse_rec___traverse_..., distribution: TruncatedExponential\n",
      "New layers, address: 520__forward___traverse___traverse_rec___traverse_..., distribution: TruncatedExponential\n",
      "New layers, address: 216__forward___traverse___traverse_rec___traverse_..., distribution: Uniform\n",
      "New layers, address: 260__forward___traverse___traverse_rec___traverse_..., distribution: Uniform\n",
      "New layers, address: 470__forward___traverse___traverse_rec___traverse_..., distribution: TruncatedExponential\n",
      "New layers, address: 520__forward___traverse___traverse_rec___traverse_..., distribution: TruncatedExponential\n",
      "New layers, address: 216__forward___traverse___traverse_rec___traverse_..., distribution: Uniform\n",
      "New layers, address: 260__forward___traverse___traverse_rec___traverse_..., distribution: Uniform\n",
      "New layers, address: 470__forward___traverse___traverse_rec___traverse_..., distribution: TruncatedExponential\n",
      "New layers, address: 520__forward___traverse___traverse_rec___traverse_..., distribution: TruncatedExponential\n",
      "New layers, address: 216__forward___traverse___traverse_rec___traverse_..., distribution: Uniform\n",
      "New layers, address: 260__forward___traverse___traverse_rec___traverse_..., distribution: Uniform\n",
      "New layers, address: 470__forward___traverse___traverse_rec___traverse_..., distribution: TruncatedExponential\n",
      "New layers, address: 520__forward___traverse___traverse_rec___traverse_..., distribution: TruncatedExponential\n",
      "New layers, address: 216__forward___traverse___traverse_rec___traverse_..., distribution: Uniform\n",
      "New layers, address: 260__forward___traverse___traverse_rec___traverse_..., distribution: Uniform\n",
      "New layers, address: 470__forward___traverse___traverse_rec___traverse_..., distribution: TruncatedExponential\n",
      "New layers, address: 520__forward___traverse___traverse_rec___traverse_..., distribution: TruncatedExponential\n",
      "New layers, address: 216__forward___traverse___traverse_rec___traverse_..., distribution: Uniform\n",
      "New layers, address: 260__forward___traverse___traverse_rec___traverse_..., distribution: Uniform\n",
      "New layers, address: 470__forward___traverse___traverse_rec___traverse_..., distribution: TruncatedExponential\n",
      "New layers, address: 520__forward___traverse___traverse_rec___traverse_..., distribution: TruncatedExponential\n",
      "New layers, address: 216__forward___traverse___traverse_rec___traverse_..., distribution: Uniform\n",
      "New layers, address: 260__forward___traverse___traverse_rec___traverse_..., distribution: Uniform\n",
      "New layers, address: 470__forward___traverse___traverse_rec___traverse_..., distribution: TruncatedExponential\n",
      "New layers, address: 520__forward___traverse___traverse_rec___traverse_..., distribution: TruncatedExponential\n",
      "New layers, address: 216__forward___traverse___traverse_rec___traverse_..., distribution: Uniform\n",
      "New layers, address: 260__forward___traverse___traverse_rec___traverse_..., distribution: Uniform\n",
      "New layers, address: 470__forward___traverse___traverse_rec___traverse_..., distribution: TruncatedExponential\n",
      "New layers, address: 520__forward___traverse___traverse_rec___traverse_..., distribution: TruncatedExponential\n",
      "New layers, address: 216__forward___traverse___traverse_rec___traverse_..., distribution: Uniform\n",
      "New layers, address: 260__forward___traverse___traverse_rec___traverse_..., distribution: Uniform\n",
      "New layers, address: 470__forward___traverse___traverse_rec___traverse_..., distribution: TruncatedExponential\n",
      "New layers, address: 520__forward___traverse___traverse_rec___traverse_..., distribution: TruncatedExponential\n",
      "New layers, address: 216__forward___traverse___traverse_rec___traverse_..., distribution: Uniform\n",
      "New layers, address: 260__forward___traverse___traverse_rec___traverse_..., distribution: Uniform\n",
      "New layers, address: 470__forward___traverse___traverse_rec___traverse_..., distribution: TruncatedExponential\n",
      "New layers, address: 520__forward___traverse___traverse_rec___traverse_..., distribution: TruncatedExponential\n",
      "New layers, address: 216__forward___traverse___traverse_rec___traverse_..., distribution: Uniform\n",
      "New layers, address: 260__forward___traverse___traverse_rec___traverse_..., distribution: Uniform\n",
      "New layers, address: 470__forward___traverse___traverse_rec___traverse_..., distribution: TruncatedExponential\n",
      "New layers, address: 520__forward___traverse___traverse_rec___traverse_..., distribution: TruncatedExponential\n",
      "New layers, address: 216__forward___traverse___traverse_rec___traverse_..., distribution: Uniform\n",
      "New layers, address: 260__forward___traverse___traverse_rec___traverse_..., distribution: Uniform\n",
      "New layers, address: 470__forward___traverse___traverse_rec___traverse_..., distribution: TruncatedExponential\n",
      "New layers, address: 520__forward___traverse___traverse_rec___traverse_..., distribution: TruncatedExponential\n",
      "New layers, address: 216__forward___traverse___traverse_rec___traverse_..., distribution: Uniform\n",
      "New layers, address: 260__forward___traverse___traverse_rec___traverse_..., distribution: Uniform\n",
      "New layers, address: 470__forward___traverse___traverse_rec___traverse_..., distribution: TruncatedExponential\n",
      "New layers, address: 520__forward___traverse___traverse_rec___traverse_..., distribution: TruncatedExponential\n",
      "New layers, address: 216__forward___traverse___traverse_rec___traverse_..., distribution: Uniform\n",
      "New layers, address: 260__forward___traverse___traverse_rec___traverse_..., distribution: Uniform\n",
      "New layers, address: 470__forward___traverse___traverse_rec___traverse_..., distribution: TruncatedExponential\n",
      "New layers, address: 520__forward___traverse___traverse_rec___traverse_..., distribution: TruncatedExponential\n",
      "New layers, address: 216__forward___traverse___traverse_rec___traverse_..., distribution: Uniform\n",
      "New layers, address: 260__forward___traverse___traverse_rec___traverse_..., distribution: Uniform\n",
      "New layers, address: 470__forward___traverse___traverse_rec___traverse_..., distribution: TruncatedExponential\n",
      "New layers, address: 520__forward___traverse___traverse_rec___traverse_..., distribution: TruncatedExponential\n",
      "New layers, address: 216__forward___traverse___traverse_rec___traverse_..., distribution: Uniform\n",
      "New layers, address: 260__forward___traverse___traverse_rec___traverse_..., distribution: Uniform\n",
      "New layers, address: 470__forward___traverse___traverse_rec___traverse_..., distribution: TruncatedExponential\n",
      "New layers, address: 520__forward___traverse___traverse_rec___traverse_..., distribution: TruncatedExponential\n",
      "New layers, address: 216__forward___traverse___traverse_rec___traverse_..., distribution: Uniform\n",
      "New layers, address: 260__forward___traverse___traverse_rec___traverse_..., distribution: Uniform\n",
      "New layers, address: 470__forward___traverse___traverse_rec___traverse_..., distribution: TruncatedExponential\n",
      "New layers, address: 520__forward___traverse___traverse_rec___traverse_..., distribution: TruncatedExponential\n",
      "New layers, address: 216__forward___traverse___traverse_rec___traverse_..., distribution: Uniform\n",
      "New layers, address: 260__forward___traverse___traverse_rec___traverse_..., distribution: Uniform\n",
      "New layers, address: 470__forward___traverse___traverse_rec___traverse_..., distribution: TruncatedExponential\n",
      "New layers, address: 520__forward___traverse___traverse_rec___traverse_..., distribution: TruncatedExponential\n",
      "New layers, address: 216__forward___traverse___traverse_rec___traverse_..., distribution: Uniform\n",
      "New layers, address: 260__forward___traverse___traverse_rec___traverse_..., distribution: Uniform\n",
      "New layers, address: 470__forward___traverse___traverse_rec___traverse_..., distribution: TruncatedExponential\n",
      "New layers, address: 520__forward___traverse___traverse_rec___traverse_..., distribution: TruncatedExponential\n",
      "New layers, address: 216__forward___traverse___traverse_rec___traverse_..., distribution: Uniform\n",
      "New layers, address: 260__forward___traverse___traverse_rec___traverse_..., distribution: Uniform\n",
      "New layers, address: 470__forward___traverse___traverse_rec___traverse_..., distribution: TruncatedExponential\n",
      "New layers, address: 520__forward___traverse___traverse_rec___traverse_..., distribution: TruncatedExponential\n",
      "New layers, address: 216__forward___traverse___traverse_rec___traverse_..., distribution: Uniform\n",
      "New layers, address: 260__forward___traverse___traverse_rec___traverse_..., distribution: Uniform\n",
      "New layers, address: 470__forward___traverse___traverse_rec___traverse_..., distribution: TruncatedExponential\n",
      "New layers, address: 520__forward___traverse___traverse_rec___traverse_..., distribution: TruncatedExponential\n",
      "New layers, address: 216__forward___traverse___traverse_rec___traverse_..., distribution: Uniform\n",
      "New layers, address: 260__forward___traverse___traverse_rec___traverse_..., distribution: Uniform\n",
      "New layers, address: 470__forward___traverse___traverse_rec___traverse_..., distribution: TruncatedExponential\n",
      "New layers, address: 520__forward___traverse___traverse_rec___traverse_..., distribution: TruncatedExponential\n",
      "New layers, address: 216__forward___traverse___traverse_rec___traverse_..., distribution: Uniform\n",
      "New layers, address: 260__forward___traverse___traverse_rec___traverse_..., distribution: Uniform\n",
      "New layers, address: 470__forward___traverse___traverse_rec___traverse_..., distribution: TruncatedExponential\n",
      "New layers, address: 520__forward___traverse___traverse_rec___traverse_..., distribution: TruncatedExponential\n",
      "New layers, address: 216__forward___traverse___traverse_rec___traverse_..., distribution: Uniform\n",
      "New layers, address: 260__forward___traverse___traverse_rec___traverse_..., distribution: Uniform\n",
      "New layers, address: 470__forward___traverse___traverse_rec___traverse_..., distribution: TruncatedExponential\n",
      "New layers, address: 520__forward___traverse___traverse_rec___traverse_..., distribution: TruncatedExponential\n",
      "New layers, address: 216__forward___traverse___traverse_rec___traverse_..., distribution: Uniform\n",
      "New layers, address: 260__forward___traverse___traverse_rec___traverse_..., distribution: Uniform\n",
      "New layers, address: 470__forward___traverse___traverse_rec___traverse_..., distribution: TruncatedExponential\n",
      "New layers, address: 520__forward___traverse___traverse_rec___traverse_..., distribution: TruncatedExponential\n",
      "New layers, address: 216__forward___traverse___traverse_rec___traverse_..., distribution: Uniform\n",
      "New layers, address: 260__forward___traverse___traverse_rec___traverse_..., distribution: Uniform\n",
      "New layers, address: 470__forward___traverse___traverse_rec___traverse_..., distribution: TruncatedExponential\n",
      "New layers, address: 520__forward___traverse___traverse_rec___traverse_..., distribution: TruncatedExponential\n",
      "New layers, address: 216__forward___traverse___traverse_rec___traverse_..., distribution: Uniform\n",
      "New layers, address: 260__forward___traverse___traverse_rec___traverse_..., distribution: Uniform\n",
      "New layers, address: 470__forward___traverse___traverse_rec___traverse_..., distribution: TruncatedExponential\n",
      "New layers, address: 520__forward___traverse___traverse_rec___traverse_..., distribution: TruncatedExponential\n",
      "New layers, address: 216__forward___traverse___traverse_rec___traverse_..., distribution: Uniform\n",
      "New layers, address: 260__forward___traverse___traverse_rec___traverse_..., distribution: Uniform\n",
      "New layers, address: 470__forward___traverse___traverse_rec___traverse_..., distribution: TruncatedExponential\n",
      "New layers, address: 520__forward___traverse___traverse_rec___traverse_..., distribution: TruncatedExponential\n",
      "New layers, address: 216__forward___traverse___traverse_rec___traverse_..., distribution: Uniform\n",
      "New layers, address: 260__forward___traverse___traverse_rec___traverse_..., distribution: Uniform\n",
      "New layers, address: 470__forward___traverse___traverse_rec___traverse_..., distribution: TruncatedExponential\n",
      "New layers, address: 520__forward___traverse___traverse_rec___traverse_..., distribution: TruncatedExponential\n",
      "New layers, address: 216__forward___traverse___traverse_rec___traverse_..., distribution: Uniform\n",
      "New layers, address: 260__forward___traverse___traverse_rec___traverse_..., distribution: Uniform\n",
      "New layers, address: 470__forward___traverse___traverse_rec___traverse_..., distribution: TruncatedExponential\n",
      "New layers, address: 520__forward___traverse___traverse_rec___traverse_..., distribution: TruncatedExponential\n",
      "New layers, address: 216__forward___traverse___traverse_rec___traverse_..., distribution: Uniform\n",
      "New layers, address: 260__forward___traverse___traverse_rec___traverse_..., distribution: Uniform\n",
      "New layers, address: 470__forward___traverse___traverse_rec___traverse_..., distribution: TruncatedExponential\n",
      "New layers, address: 520__forward___traverse___traverse_rec___traverse_..., distribution: TruncatedExponential\n",
      "New layers, address: 216__forward___traverse___traverse_rec___traverse_..., distribution: Uniform\n",
      "New layers, address: 260__forward___traverse___traverse_rec___traverse_..., distribution: Uniform\n",
      "New layers, address: 470__forward___traverse___traverse_rec___traverse_..., distribution: TruncatedExponential\n",
      "New layers, address: 520__forward___traverse___traverse_rec___traverse_..., distribution: TruncatedExponential\n",
      "New layers, address: 216__forward___traverse___traverse_rec___traverse_..., distribution: Uniform\n",
      "New layers, address: 260__forward___traverse___traverse_rec___traverse_..., distribution: Uniform\n",
      "New layers, address: 470__forward___traverse___traverse_rec___traverse_..., distribution: TruncatedExponential\n",
      "New layers, address: 520__forward___traverse___traverse_rec___traverse_..., distribution: TruncatedExponential\n",
      "New layers, address: 216__forward___traverse___traverse_rec___traverse_..., distribution: Uniform\n",
      "New layers, address: 260__forward___traverse___traverse_rec___traverse_..., distribution: Uniform\n",
      "New layers, address: 470__forward___traverse___traverse_rec___traverse_..., distribution: TruncatedExponential\n",
      "New layers, address: 520__forward___traverse___traverse_rec___traverse_..., distribution: TruncatedExponential\n",
      "New layers, address: 216__forward___traverse___traverse_rec___traverse_..., distribution: Uniform\n",
      "New layers, address: 260__forward___traverse___traverse_rec___traverse_..., distribution: Uniform\n",
      "New layers, address: 470__forward___traverse___traverse_rec___traverse_..., distribution: TruncatedExponential\n",
      "New layers, address: 520__forward___traverse___traverse_rec___traverse_..., distribution: TruncatedExponential\n",
      "New layers, address: 216__forward___traverse___traverse_rec___traverse_..., distribution: Uniform\n",
      "New layers, address: 260__forward___traverse___traverse_rec___traverse_..., distribution: Uniform\n",
      "New layers, address: 470__forward___traverse___traverse_rec___traverse_..., distribution: TruncatedExponential\n",
      "New layers, address: 520__forward___traverse___traverse_rec___traverse_..., distribution: TruncatedExponential\n",
      "New layers, address: 216__forward___traverse___traverse_rec___traverse_..., distribution: Uniform\n",
      "New layers, address: 260__forward___traverse___traverse_rec___traverse_..., distribution: Uniform\n",
      "New layers, address: 470__forward___traverse___traverse_rec___traverse_..., distribution: TruncatedExponential\n",
      "New layers, address: 520__forward___traverse___traverse_rec___traverse_..., distribution: TruncatedExponential\n",
      "New layers, address: 216__forward___traverse___traverse_rec___traverse_..., distribution: Uniform\n",
      "New layers, address: 260__forward___traverse___traverse_rec___traverse_..., distribution: Uniform\n",
      "New layers, address: 470__forward___traverse___traverse_rec___traverse_..., distribution: TruncatedExponential\n",
      "New layers, address: 520__forward___traverse___traverse_rec___traverse_..., distribution: TruncatedExponential\n",
      "New layers, address: 216__forward___traverse___traverse_rec___traverse_..., distribution: Uniform\n",
      "New layers, address: 260__forward___traverse___traverse_rec___traverse_..., distribution: Uniform\n",
      "New layers, address: 470__forward___traverse___traverse_rec___traverse_..., distribution: TruncatedExponential\n",
      "New layers, address: 520__forward___traverse___traverse_rec___traverse_..., distribution: TruncatedExponential\n",
      "New layers, address: 216__forward___traverse___traverse_rec___traverse_..., distribution: Uniform\n",
      "New layers, address: 260__forward___traverse___traverse_rec___traverse_..., distribution: Uniform\n",
      "New layers, address: 470__forward___traverse___traverse_rec___traverse_..., distribution: TruncatedExponential\n",
      "New layers, address: 520__forward___traverse___traverse_rec___traverse_..., distribution: TruncatedExponential\n",
      "New layers, address: 216__forward___traverse___traverse_rec___traverse_..., distribution: Uniform\n",
      "New layers, address: 260__forward___traverse___traverse_rec___traverse_..., distribution: Uniform\n",
      "New layers, address: 470__forward___traverse___traverse_rec___traverse_..., distribution: TruncatedExponential\n",
      "New layers, address: 520__forward___traverse___traverse_rec___traverse_..., distribution: TruncatedExponential\n",
      "New layers, address: 216__forward___traverse___traverse_rec___traverse_..., distribution: Uniform\n",
      "New layers, address: 260__forward___traverse___traverse_rec___traverse_..., distribution: Uniform\n",
      "New layers, address: 470__forward___traverse___traverse_rec___traverse_..., distribution: TruncatedExponential\n",
      "New layers, address: 520__forward___traverse___traverse_rec___traverse_..., distribution: TruncatedExponential\n",
      "New layers, address: 216__forward___traverse___traverse_rec___traverse_..., distribution: Uniform\n",
      "New layers, address: 260__forward___traverse___traverse_rec___traverse_..., distribution: Uniform\n",
      "New layers, address: 470__forward___traverse___traverse_rec___traverse_..., distribution: TruncatedExponential\n",
      "New layers, address: 520__forward___traverse___traverse_rec___traverse_..., distribution: TruncatedExponential\n",
      "New layers, address: 216__forward___traverse___traverse_rec___traverse_..., distribution: Uniform\n",
      "New layers, address: 260__forward___traverse___traverse_rec___traverse_..., distribution: Uniform\n",
      "New layers, address: 470__forward___traverse___traverse_rec___traverse_..., distribution: TruncatedExponential\n",
      "New layers, address: 520__forward___traverse___traverse_rec___traverse_..., distribution: TruncatedExponential\n",
      "New layers, address: 216__forward___traverse___traverse_rec___traverse_..., distribution: Uniform\n",
      "New layers, address: 260__forward___traverse___traverse_rec___traverse_..., distribution: Uniform\n",
      "New layers, address: 470__forward___traverse___traverse_rec___traverse_..., distribution: TruncatedExponential\n",
      "New layers, address: 520__forward___traverse___traverse_rec___traverse_..., distribution: TruncatedExponential\n",
      "New layers, address: 216__forward___traverse___traverse_rec___traverse_..., distribution: Uniform\n",
      "New layers, address: 260__forward___traverse___traverse_rec___traverse_..., distribution: Uniform\n",
      "New layers, address: 470__forward___traverse___traverse_rec___traverse_..., distribution: TruncatedExponential\n",
      "New layers, address: 520__forward___traverse___traverse_rec___traverse_..., distribution: TruncatedExponential\n",
      "New layers, address: 216__forward___traverse___traverse_rec___traverse_..., distribution: Uniform\n",
      "New layers, address: 260__forward___traverse___traverse_rec___traverse_..., distribution: Uniform\n",
      "New layers, address: 470__forward___traverse___traverse_rec___traverse_..., distribution: TruncatedExponential\n",
      "New layers, address: 520__forward___traverse___traverse_rec___traverse_..., distribution: TruncatedExponential\n",
      "New layers, address: 216__forward___traverse___traverse_rec___traverse_..., distribution: Uniform\n",
      "New layers, address: 260__forward___traverse___traverse_rec___traverse_..., distribution: Uniform\n",
      "New layers, address: 470__forward___traverse___traverse_rec___traverse_..., distribution: TruncatedExponential\n",
      "New layers, address: 520__forward___traverse___traverse_rec___traverse_..., distribution: TruncatedExponential\n",
      "New layers, address: 216__forward___traverse___traverse_rec___traverse_..., distribution: Uniform\n",
      "New layers, address: 260__forward___traverse___traverse_rec___traverse_..., distribution: Uniform\n",
      "New layers, address: 470__forward___traverse___traverse_rec___traverse_..., distribution: TruncatedExponential\n",
      "New layers, address: 520__forward___traverse___traverse_rec___traverse_..., distribution: TruncatedExponential\n",
      "New layers, address: 216__forward___traverse___traverse_rec___traverse_..., distribution: Uniform\n",
      "New layers, address: 260__forward___traverse___traverse_rec___traverse_..., distribution: Uniform\n",
      "New layers, address: 470__forward___traverse___traverse_rec___traverse_..., distribution: TruncatedExponential\n",
      "New layers, address: 520__forward___traverse___traverse_rec___traverse_..., distribution: TruncatedExponential\n",
      "New layers, address: 216__forward___traverse___traverse_rec___traverse_..., distribution: Uniform\n",
      "New layers, address: 260__forward___traverse___traverse_rec___traverse_..., distribution: Uniform\n",
      "New layers, address: 470__forward___traverse___traverse_rec___traverse_..., distribution: TruncatedExponential\n",
      "New layers, address: 520__forward___traverse___traverse_rec___traverse_..., distribution: TruncatedExponential\n",
      "New layers, address: 216__forward___traverse___traverse_rec___traverse_..., distribution: Uniform\n",
      "New layers, address: 260__forward___traverse___traverse_rec___traverse_..., distribution: Uniform\n",
      "New layers, address: 470__forward___traverse___traverse_rec___traverse_..., distribution: TruncatedExponential\n",
      "New layers, address: 520__forward___traverse___traverse_rec___traverse_..., distribution: TruncatedExponential\n",
      "New layers, address: 216__forward___traverse___traverse_rec___traverse_..., distribution: Uniform\n",
      "New layers, address: 260__forward___traverse___traverse_rec___traverse_..., distribution: Uniform\n",
      "New layers, address: 470__forward___traverse___traverse_rec___traverse_..., distribution: TruncatedExponential\n",
      "New layers, address: 520__forward___traverse___traverse_rec___traverse_..., distribution: TruncatedExponential\n",
      "New layers, address: 216__forward___traverse___traverse_rec___traverse_..., distribution: Uniform\n",
      "New layers, address: 260__forward___traverse___traverse_rec___traverse_..., distribution: Uniform\n",
      "New layers, address: 470__forward___traverse___traverse_rec___traverse_..., distribution: TruncatedExponential\n",
      "New layers, address: 520__forward___traverse___traverse_rec___traverse_..., distribution: TruncatedExponential\n",
      "New layers, address: 216__forward___traverse___traverse_rec___traverse_..., distribution: Uniform\n",
      "New layers, address: 260__forward___traverse___traverse_rec___traverse_..., distribution: Uniform\n",
      "New layers, address: 470__forward___traverse___traverse_rec___traverse_..., distribution: TruncatedExponential\n",
      "New layers, address: 520__forward___traverse___traverse_rec___traverse_..., distribution: TruncatedExponential\n",
      "New layers, address: 216__forward___traverse___traverse_rec___traverse_..., distribution: Uniform\n",
      "New layers, address: 260__forward___traverse___traverse_rec___traverse_..., distribution: Uniform\n",
      "New layers, address: 470__forward___traverse___traverse_rec___traverse_..., distribution: TruncatedExponential\n",
      "New layers, address: 520__forward___traverse___traverse_rec___traverse_..., distribution: TruncatedExponential\n",
      "New layers, address: 216__forward___traverse___traverse_rec___traverse_..., distribution: Uniform\n",
      "New layers, address: 260__forward___traverse___traverse_rec___traverse_..., distribution: Uniform\n",
      "New layers, address: 470__forward___traverse___traverse_rec___traverse_..., distribution: TruncatedExponential\n",
      "New layers, address: 520__forward___traverse___traverse_rec___traverse_..., distribution: TruncatedExponential\n",
      "New layers, address: 216__forward___traverse___traverse_rec___traverse_..., distribution: Uniform\n",
      "New layers, address: 260__forward___traverse___traverse_rec___traverse_..., distribution: Uniform\n",
      "New layers, address: 470__forward___traverse___traverse_rec___traverse_..., distribution: TruncatedExponential\n",
      "New layers, address: 520__forward___traverse___traverse_rec___traverse_..., distribution: TruncatedExponential\n",
      "New layers, address: 216__forward___traverse___traverse_rec___traverse_..., distribution: Uniform\n",
      "New layers, address: 260__forward___traverse___traverse_rec___traverse_..., distribution: Uniform\n",
      "New layers, address: 470__forward___traverse___traverse_rec___traverse_..., distribution: TruncatedExponential\n",
      "New layers, address: 520__forward___traverse___traverse_rec___traverse_..., distribution: TruncatedExponential\n",
      "Total addresses: 374, parameters: 190,746\n",
      "New layers, address: 216__forward___traverse___traverse_rec___traverse_..., distribution: Uniform1m\u001b[32m0d:00:00:00\u001b[0m | +1.00e-03 | 16.8 \n",
      "New layers, address: 260__forward___traverse___traverse_rec___traverse_..., distribution: Uniform\n",
      "New layers, address: 470__forward___traverse___traverse_rec___traverse_..., distribution: TruncatedExponential\n",
      "New layers, address: 520__forward___traverse___traverse_rec___traverse_..., distribution: TruncatedExponential\n",
      "New layers, address: 216__forward___traverse___traverse_rec___traverse_..., distribution: Uniform\n",
      "New layers, address: 260__forward___traverse___traverse_rec___traverse_..., distribution: Uniform\n",
      "New layers, address: 470__forward___traverse___traverse_rec___traverse_..., distribution: TruncatedExponential\n",
      "New layers, address: 520__forward___traverse___traverse_rec___traverse_..., distribution: TruncatedExponential\n",
      "New layers, address: 216__forward___traverse___traverse_rec___traverse_..., distribution: Uniform\n",
      "New layers, address: 260__forward___traverse___traverse_rec___traverse_..., distribution: Uniform\n",
      "New layers, address: 470__forward___traverse___traverse_rec___traverse_..., distribution: TruncatedExponential\n",
      "New layers, address: 520__forward___traverse___traverse_rec___traverse_..., distribution: TruncatedExponential\n",
      "New layers, address: 216__forward___traverse___traverse_rec___traverse_..., distribution: Uniform\n",
      "New layers, address: 260__forward___traverse___traverse_rec___traverse_..., distribution: Uniform\n",
      "New layers, address: 470__forward___traverse___traverse_rec___traverse_..., distribution: TruncatedExponential\n",
      "New layers, address: 520__forward___traverse___traverse_rec___traverse_..., distribution: TruncatedExponential\n",
      "New layers, address: 216__forward___traverse___traverse_rec___traverse_..., distribution: Uniform\n",
      "New layers, address: 260__forward___traverse___traverse_rec___traverse_..., distribution: Uniform\n",
      "New layers, address: 470__forward___traverse___traverse_rec___traverse_..., distribution: TruncatedExponential\n",
      "New layers, address: 520__forward___traverse___traverse_rec___traverse_..., distribution: TruncatedExponential\n",
      "New layers, address: 216__forward___traverse___traverse_rec___traverse_..., distribution: Uniform\n",
      "New layers, address: 260__forward___traverse___traverse_rec___traverse_..., distribution: Uniform\n",
      "New layers, address: 470__forward___traverse___traverse_rec___traverse_..., distribution: TruncatedExponential\n",
      "New layers, address: 520__forward___traverse___traverse_rec___traverse_..., distribution: TruncatedExponential\n",
      "New layers, address: 216__forward___traverse___traverse_rec___traverse_..., distribution: Uniform\n",
      "New layers, address: 260__forward___traverse___traverse_rec___traverse_..., distribution: Uniform\n",
      "New layers, address: 470__forward___traverse___traverse_rec___traverse_..., distribution: TruncatedExponential\n",
      "New layers, address: 520__forward___traverse___traverse_rec___traverse_..., distribution: TruncatedExponential\n",
      "New layers, address: 216__forward___traverse___traverse_rec___traverse_..., distribution: Uniform\n",
      "New layers, address: 260__forward___traverse___traverse_rec___traverse_..., distribution: Uniform\n",
      "New layers, address: 470__forward___traverse___traverse_rec___traverse_..., distribution: TruncatedExponential\n",
      "New layers, address: 520__forward___traverse___traverse_rec___traverse_..., distribution: TruncatedExponential\n",
      "New layers, address: 216__forward___traverse___traverse_rec___traverse_..., distribution: Uniform\n",
      "New layers, address: 260__forward___traverse___traverse_rec___traverse_..., distribution: Uniform\n",
      "New layers, address: 470__forward___traverse___traverse_rec___traverse_..., distribution: TruncatedExponential\n",
      "New layers, address: 520__forward___traverse___traverse_rec___traverse_..., distribution: TruncatedExponential\n",
      "New layers, address: 216__forward___traverse___traverse_rec___traverse_..., distribution: Uniform\n",
      "New layers, address: 260__forward___traverse___traverse_rec___traverse_..., distribution: Uniform\n",
      "New layers, address: 470__forward___traverse___traverse_rec___traverse_..., distribution: TruncatedExponential\n",
      "New layers, address: 520__forward___traverse___traverse_rec___traverse_..., distribution: TruncatedExponential\n",
      "New layers, address: 216__forward___traverse___traverse_rec___traverse_..., distribution: Uniform\n",
      "New layers, address: 260__forward___traverse___traverse_rec___traverse_..., distribution: Uniform\n",
      "New layers, address: 470__forward___traverse___traverse_rec___traverse_..., distribution: TruncatedExponential\n",
      "New layers, address: 520__forward___traverse___traverse_rec___traverse_..., distribution: TruncatedExponential\n",
      "New layers, address: 216__forward___traverse___traverse_rec___traverse_..., distribution: Uniform\n",
      "New layers, address: 260__forward___traverse___traverse_rec___traverse_..., distribution: Uniform\n",
      "New layers, address: 470__forward___traverse___traverse_rec___traverse_..., distribution: TruncatedExponential\n",
      "New layers, address: 520__forward___traverse___traverse_rec___traverse_..., distribution: TruncatedExponential\n",
      "Total addresses: 422, parameters: 215,226\n",
      "New layers, address: 216__forward___traverse___traverse_rec___traverse_..., distribution: Uniform1m\u001b[32m0d:00:00:00\u001b[0m | +1.00e-03 | 1.0  \n",
      "New layers, address: 260__forward___traverse___traverse_rec___traverse_..., distribution: Uniform\n",
      "New layers, address: 470__forward___traverse___traverse_rec___traverse_..., distribution: TruncatedExponential\n",
      "New layers, address: 520__forward___traverse___traverse_rec___traverse_..., distribution: TruncatedExponential\n",
      "New layers, address: 216__forward___traverse___traverse_rec___traverse_..., distribution: Uniform\n",
      "New layers, address: 260__forward___traverse___traverse_rec___traverse_..., distribution: Uniform\n",
      "New layers, address: 470__forward___traverse___traverse_rec___traverse_..., distribution: TruncatedExponential\n",
      "New layers, address: 520__forward___traverse___traverse_rec___traverse_..., distribution: TruncatedExponential\n",
      "New layers, address: 216__forward___traverse___traverse_rec___traverse_..., distribution: Uniform\n",
      "New layers, address: 260__forward___traverse___traverse_rec___traverse_..., distribution: Uniform\n",
      "New layers, address: 470__forward___traverse___traverse_rec___traverse_..., distribution: TruncatedExponential\n",
      "New layers, address: 520__forward___traverse___traverse_rec___traverse_..., distribution: TruncatedExponential\n",
      "New layers, address: 216__forward___traverse___traverse_rec___traverse_..., distribution: Uniform\n",
      "New layers, address: 260__forward___traverse___traverse_rec___traverse_..., distribution: Uniform\n",
      "New layers, address: 470__forward___traverse___traverse_rec___traverse_..., distribution: TruncatedExponential\n",
      "New layers, address: 520__forward___traverse___traverse_rec___traverse_..., distribution: TruncatedExponential\n",
      "New layers, address: 216__forward___traverse___traverse_rec___traverse_..., distribution: Uniform\n",
      "New layers, address: 260__forward___traverse___traverse_rec___traverse_..., distribution: Uniform\n",
      "New layers, address: 470__forward___traverse___traverse_rec___traverse_..., distribution: TruncatedExponential\n",
      "New layers, address: 520__forward___traverse___traverse_rec___traverse_..., distribution: TruncatedExponential\n",
      "New layers, address: 216__forward___traverse___traverse_rec___traverse_..., distribution: Uniform\n",
      "New layers, address: 260__forward___traverse___traverse_rec___traverse_..., distribution: Uniform\n",
      "New layers, address: 470__forward___traverse___traverse_rec___traverse_..., distribution: TruncatedExponential\n",
      "New layers, address: 520__forward___traverse___traverse_rec___traverse_..., distribution: TruncatedExponential\n",
      "New layers, address: 216__forward___traverse___traverse_rec___traverse_..., distribution: Uniform\n",
      "New layers, address: 260__forward___traverse___traverse_rec___traverse_..., distribution: Uniform\n",
      "New layers, address: 470__forward___traverse___traverse_rec___traverse_..., distribution: TruncatedExponential\n",
      "New layers, address: 520__forward___traverse___traverse_rec___traverse_..., distribution: TruncatedExponential\n",
      "New layers, address: 216__forward___traverse___traverse_rec___traverse_..., distribution: Uniform\n",
      "New layers, address: 260__forward___traverse___traverse_rec___traverse_..., distribution: Uniform\n",
      "New layers, address: 470__forward___traverse___traverse_rec___traverse_..., distribution: TruncatedExponential\n",
      "New layers, address: 520__forward___traverse___traverse_rec___traverse_..., distribution: TruncatedExponential\n",
      "New layers, address: 216__forward___traverse___traverse_rec___traverse_..., distribution: Uniform\n",
      "New layers, address: 260__forward___traverse___traverse_rec___traverse_..., distribution: Uniform\n",
      "New layers, address: 470__forward___traverse___traverse_rec___traverse_..., distribution: TruncatedExponential\n",
      "New layers, address: 520__forward___traverse___traverse_rec___traverse_..., distribution: TruncatedExponential\n",
      "New layers, address: 216__forward___traverse___traverse_rec___traverse_..., distribution: Uniform\n",
      "New layers, address: 260__forward___traverse___traverse_rec___traverse_..., distribution: Uniform\n",
      "New layers, address: 470__forward___traverse___traverse_rec___traverse_..., distribution: TruncatedExponential\n",
      "New layers, address: 520__forward___traverse___traverse_rec___traverse_..., distribution: TruncatedExponential\n",
      "Total addresses: 462, parameters: 235,626\n",
      "------------------------------ | +5.30e+01 | \u001b[1m\u001b[32m+4.98e+01\u001b[0m | \u001b[1m\u001b[32m+4.98e+01\u001b[0m | \u001b[1m\u001b[32m0d:00:00:00\u001b[0m | +1.00e-03 | 1.0  \n"
     ]
    },
    {
     "name": "stderr",
     "output_type": "stream",
     "text": [
      "/home/sragy/DISPyprob/ToyJetsShower/showerSim/invMass_ginkgo.py:303: RuntimeWarning: invalid value encountered in sqrt\n",
      "  logger.debug(f\"pR inv mass from p^2 in lab  frame: {np.sqrt(pR_mu[0] ** 2 - np.linalg.norm(pR_mu[1::]) ** 2)}\")\n"
     ]
    },
    {
     "name": "stdout",
     "output_type": "stream",
     "text": [
      "New layers, address: 470__forward___traverse___traverse_rec___traverse_..., distribution: TruncatedExponential\n",
      "New layers, address: 216__forward___traverse___traverse_rec___traverse_..., distribution: Uniform\n",
      "New layers, address: 260__forward___traverse___traverse_rec___traverse_..., distribution: Uniform\n",
      "New layers, address: 470__forward___traverse___traverse_rec___traverse_..., distribution: TruncatedExponential\n",
      "New layers, address: 520__forward___traverse___traverse_rec___traverse_..., distribution: TruncatedExponential\n",
      "Total addresses: 467, parameters: 238,176\n",
      "------------------------------ | +5.30e+01 | \u001b[1m\u001b[32m+4.68e+01\u001b[0m | \u001b[1m\u001b[32m+4.68e+01\u001b[0m | \u001b[1m\u001b[32m0d:00:00:00\u001b[0m | +1.00e-03 | 1.2  \n",
      "New layers, address: 216__forward___traverse___traverse_rec___traverse_..., distribution: Uniform\n",
      "New layers, address: 260__forward___traverse___traverse_rec___traverse_..., distribution: Uniform\n",
      "New layers, address: 470__forward___traverse___traverse_rec___traverse_..., distribution: TruncatedExponential\n",
      "New layers, address: 520__forward___traverse___traverse_rec___traverse_..., distribution: TruncatedExponential\n",
      "New layers, address: 216__forward___traverse___traverse_rec___traverse_..., distribution: Uniform\n",
      "New layers, address: 260__forward___traverse___traverse_rec___traverse_..., distribution: Uniform\n",
      "New layers, address: 470__forward___traverse___traverse_rec___traverse_..., distribution: TruncatedExponential\n",
      "New layers, address: 520__forward___traverse___traverse_rec___traverse_..., distribution: TruncatedExponential\n",
      "New layers, address: 216__forward___traverse___traverse_rec___traverse_..., distribution: Uniform\n",
      "New layers, address: 260__forward___traverse___traverse_rec___traverse_..., distribution: Uniform\n",
      "New layers, address: 470__forward___traverse___traverse_rec___traverse_..., distribution: TruncatedExponential\n",
      "New layers, address: 520__forward___traverse___traverse_rec___traverse_..., distribution: TruncatedExponential\n",
      "New layers, address: 216__forward___traverse___traverse_rec___traverse_..., distribution: Uniform\n",
      "New layers, address: 260__forward___traverse___traverse_rec___traverse_..., distribution: Uniform\n",
      "New layers, address: 470__forward___traverse___traverse_rec___traverse_..., distribution: TruncatedExponential\n",
      "New layers, address: 520__forward___traverse___traverse_rec___traverse_..., distribution: TruncatedExponential\n",
      "New layers, address: 216__forward___traverse___traverse_rec___traverse_..., distribution: Uniform\n",
      "New layers, address: 260__forward___traverse___traverse_rec___traverse_..., distribution: Uniform\n",
      "New layers, address: 470__forward___traverse___traverse_rec___traverse_..., distribution: TruncatedExponential\n",
      "New layers, address: 520__forward___traverse___traverse_rec___traverse_..., distribution: TruncatedExponential\n",
      "Total addresses: 487, parameters: 248,376\n",
      "\n",
      "Stop condition reached. num_traces: 500\n",
      "0d:00:06:11 | 1    | 500       | +5.30e+01 | \u001b[1m\u001b[32m+4.68e+01\u001b[0m | \u001b[1m\u001b[31m+5.40e+01\u001b[0m | \u001b[1m\u001b[32m0d:00:00:00\u001b[0m | +1.00e-03 | 1.3  \n",
      "Training iterations 1  epsilon inf  ESS 0.0\n"
     ]
    }
   ],
   "source": [
    "#cProfile.run('simulatorginkgo.train(importance_sample_size=10)')\n",
    "simulatorginkgo.train(iterations = 1, importance_sample_size=5000)"
   ]
  },
  {
   "cell_type": "code",
   "execution_count": 3,
   "metadata": {},
   "outputs": [],
   "source": [
    "simulatorginkgo.load_inference_network('ginkgo_new_tests')"
   ]
  },
  {
   "cell_type": "code",
   "execution_count": 4,
   "metadata": {},
   "outputs": [
    {
     "name": "stdout",
     "output_type": "stream",
     "text": [
      "Time spent  | Time remain.| Progress             | Trace   | ESS   | Traces/sec\n"
     ]
    },
    {
     "name": "stderr",
     "output_type": "stream",
     "text": [
      "/home/sragy/DISPyprob/pyprob/pyprob/nn/inference_network_feedforward.py:67: UserWarning: Using prior. No proposal for address: 216__forward___traverse___traverse_rec___traverse_rec___traverse_rec___traverse_rec___traverse_rec___traverse_rec___traverse_rec___traverse_rec__?__Uniform__12\n",
      "  warnings.warn('Using prior. No proposal for address: {}'.format(address))\n",
      "/home/sragy/DISPyprob/pyprob/pyprob/nn/inference_network_feedforward.py:67: UserWarning: Using prior. No proposal for address: 260__forward___traverse___traverse_rec___traverse_rec___traverse_rec___traverse_rec___traverse_rec___traverse_rec___traverse_rec___traverse_rec__theta_CM_U__Uniform__12\n",
      "  warnings.warn('Using prior. No proposal for address: {}'.format(address))\n",
      "/home/sragy/DISPyprob/pyprob/pyprob/nn/inference_network_feedforward.py:67: UserWarning: Using prior. No proposal for address: 470__forward___traverse___traverse_rec___traverse_rec___traverse_rec___traverse_rec___traverse_rec___traverse_rec___traverse_rec___traverse_rec__draw_decay_L__TruncatedExponential__12\n",
      "  warnings.warn('Using prior. No proposal for address: {}'.format(address))\n",
      "/home/sragy/DISPyprob/pyprob/pyprob/nn/inference_network_feedforward.py:67: UserWarning: Using prior. No proposal for address: 520__forward___traverse___traverse_rec___traverse_rec___traverse_rec___traverse_rec___traverse_rec___traverse_rec___traverse_rec___traverse_rec__draw_decay_R__TruncatedExponential__12\n",
      "  warnings.warn('Using prior. No proposal for address: {}'.format(address))\n"
     ]
    },
    {
     "name": "stdout",
     "output_type": "stream",
     "text": [
      "0d:00:00:08 | 0d:00:13:41 | -------------------- |   2/200 |  1.00 | 0.24       \r"
     ]
    },
    {
     "name": "stderr",
     "output_type": "stream",
     "text": [
      "/home/sragy/DISPyprob/pyprob/pyprob/nn/inference_network_feedforward.py:67: UserWarning: Using prior. No proposal for address: 216__forward___traverse___traverse_rec___traverse_rec___traverse_rec___traverse_rec___traverse_rec___traverse_rec___traverse_rec___traverse_rec___traverse_rec___traverse_rec___traverse_rec___traverse_rec___traverse_rec___traverse_rec___traverse_rec__?__Uniform__3\n",
      "  warnings.warn('Using prior. No proposal for address: {}'.format(address))\n",
      "/home/sragy/DISPyprob/pyprob/pyprob/nn/inference_network_feedforward.py:67: UserWarning: Using prior. No proposal for address: 260__forward___traverse___traverse_rec___traverse_rec___traverse_rec___traverse_rec___traverse_rec___traverse_rec___traverse_rec___traverse_rec___traverse_rec___traverse_rec___traverse_rec___traverse_rec___traverse_rec___traverse_rec___traverse_rec__theta_CM_U__Uniform__3\n",
      "  warnings.warn('Using prior. No proposal for address: {}'.format(address))\n",
      "/home/sragy/DISPyprob/pyprob/pyprob/nn/inference_network_feedforward.py:67: UserWarning: Using prior. No proposal for address: 470__forward___traverse___traverse_rec___traverse_rec___traverse_rec___traverse_rec___traverse_rec___traverse_rec___traverse_rec___traverse_rec___traverse_rec___traverse_rec___traverse_rec___traverse_rec___traverse_rec___traverse_rec___traverse_rec__draw_decay_L__TruncatedExponential__3\n",
      "  warnings.warn('Using prior. No proposal for address: {}'.format(address))\n",
      "/home/sragy/DISPyprob/pyprob/pyprob/nn/inference_network_feedforward.py:67: UserWarning: Using prior. No proposal for address: 520__forward___traverse___traverse_rec___traverse_rec___traverse_rec___traverse_rec___traverse_rec___traverse_rec___traverse_rec___traverse_rec___traverse_rec___traverse_rec___traverse_rec___traverse_rec___traverse_rec___traverse_rec___traverse_rec__draw_decay_R__TruncatedExponential__3\n",
      "  warnings.warn('Using prior. No proposal for address: {}'.format(address))\n",
      "/home/sragy/DISPyprob/pyprob/pyprob/nn/inference_network_feedforward.py:67: UserWarning: Using prior. No proposal for address: 216__forward___traverse___traverse_rec___traverse_rec___traverse_rec___traverse_rec___traverse_rec___traverse_rec___traverse_rec___traverse_rec___traverse_rec___traverse_rec___traverse_rec___traverse_rec___traverse_rec___traverse_rec__?__Uniform__3\n",
      "  warnings.warn('Using prior. No proposal for address: {}'.format(address))\n",
      "/home/sragy/DISPyprob/pyprob/pyprob/nn/inference_network_feedforward.py:67: UserWarning: Using prior. No proposal for address: 260__forward___traverse___traverse_rec___traverse_rec___traverse_rec___traverse_rec___traverse_rec___traverse_rec___traverse_rec___traverse_rec___traverse_rec___traverse_rec___traverse_rec___traverse_rec___traverse_rec___traverse_rec__theta_CM_U__Uniform__3\n",
      "  warnings.warn('Using prior. No proposal for address: {}'.format(address))\n",
      "/home/sragy/DISPyprob/pyprob/pyprob/nn/inference_network_feedforward.py:67: UserWarning: Using prior. No proposal for address: 470__forward___traverse___traverse_rec___traverse_rec___traverse_rec___traverse_rec___traverse_rec___traverse_rec___traverse_rec___traverse_rec___traverse_rec___traverse_rec___traverse_rec___traverse_rec___traverse_rec___traverse_rec__draw_decay_L__TruncatedExponential__3\n",
      "  warnings.warn('Using prior. No proposal for address: {}'.format(address))\n",
      "/home/sragy/DISPyprob/pyprob/pyprob/nn/inference_network_feedforward.py:67: UserWarning: Using prior. No proposal for address: 520__forward___traverse___traverse_rec___traverse_rec___traverse_rec___traverse_rec___traverse_rec___traverse_rec___traverse_rec___traverse_rec___traverse_rec___traverse_rec___traverse_rec___traverse_rec___traverse_rec___traverse_rec__draw_decay_R__TruncatedExponential__3\n",
      "  warnings.warn('Using prior. No proposal for address: {}'.format(address))\n",
      "/home/sragy/DISPyprob/pyprob/pyprob/nn/inference_network_feedforward.py:67: UserWarning: Using prior. No proposal for address: 216__forward___traverse___traverse_rec___traverse_rec___traverse_rec___traverse_rec___traverse_rec___traverse_rec___traverse_rec___traverse_rec___traverse_rec___traverse_rec___traverse_rec___traverse_rec___traverse_rec__?__Uniform__4\n",
      "  warnings.warn('Using prior. No proposal for address: {}'.format(address))\n",
      "/home/sragy/DISPyprob/pyprob/pyprob/nn/inference_network_feedforward.py:67: UserWarning: Using prior. No proposal for address: 260__forward___traverse___traverse_rec___traverse_rec___traverse_rec___traverse_rec___traverse_rec___traverse_rec___traverse_rec___traverse_rec___traverse_rec___traverse_rec___traverse_rec___traverse_rec___traverse_rec__theta_CM_U__Uniform__4\n",
      "  warnings.warn('Using prior. No proposal for address: {}'.format(address))\n",
      "/home/sragy/DISPyprob/pyprob/pyprob/nn/inference_network_feedforward.py:67: UserWarning: Using prior. No proposal for address: 470__forward___traverse___traverse_rec___traverse_rec___traverse_rec___traverse_rec___traverse_rec___traverse_rec___traverse_rec___traverse_rec___traverse_rec___traverse_rec___traverse_rec___traverse_rec___traverse_rec__draw_decay_L__TruncatedExponential__4\n",
      "  warnings.warn('Using prior. No proposal for address: {}'.format(address))\n",
      "/home/sragy/DISPyprob/pyprob/pyprob/nn/inference_network_feedforward.py:67: UserWarning: Using prior. No proposal for address: 520__forward___traverse___traverse_rec___traverse_rec___traverse_rec___traverse_rec___traverse_rec___traverse_rec___traverse_rec___traverse_rec___traverse_rec___traverse_rec___traverse_rec___traverse_rec___traverse_rec__draw_decay_R__TruncatedExponential__4\n",
      "  warnings.warn('Using prior. No proposal for address: {}'.format(address))\n",
      "/home/sragy/DISPyprob/pyprob/pyprob/nn/inference_network_feedforward.py:67: UserWarning: Using prior. No proposal for address: 216__forward___traverse___traverse_rec___traverse_rec___traverse_rec___traverse_rec___traverse_rec___traverse_rec___traverse_rec___traverse_rec___traverse_rec___traverse_rec___traverse_rec___traverse_rec___traverse_rec___traverse_rec__?__Uniform__4\n",
      "  warnings.warn('Using prior. No proposal for address: {}'.format(address))\n",
      "/home/sragy/DISPyprob/pyprob/pyprob/nn/inference_network_feedforward.py:67: UserWarning: Using prior. No proposal for address: 260__forward___traverse___traverse_rec___traverse_rec___traverse_rec___traverse_rec___traverse_rec___traverse_rec___traverse_rec___traverse_rec___traverse_rec___traverse_rec___traverse_rec___traverse_rec___traverse_rec___traverse_rec__theta_CM_U__Uniform__4\n",
      "  warnings.warn('Using prior. No proposal for address: {}'.format(address))\n",
      "/home/sragy/DISPyprob/pyprob/pyprob/nn/inference_network_feedforward.py:67: UserWarning: Using prior. No proposal for address: 470__forward___traverse___traverse_rec___traverse_rec___traverse_rec___traverse_rec___traverse_rec___traverse_rec___traverse_rec___traverse_rec___traverse_rec___traverse_rec___traverse_rec___traverse_rec___traverse_rec___traverse_rec__draw_decay_L__TruncatedExponential__4\n",
      "  warnings.warn('Using prior. No proposal for address: {}'.format(address))\n",
      "/home/sragy/DISPyprob/pyprob/pyprob/nn/inference_network_feedforward.py:67: UserWarning: Using prior. No proposal for address: 520__forward___traverse___traverse_rec___traverse_rec___traverse_rec___traverse_rec___traverse_rec___traverse_rec___traverse_rec___traverse_rec___traverse_rec___traverse_rec___traverse_rec___traverse_rec___traverse_rec___traverse_rec__draw_decay_R__TruncatedExponential__4\n",
      "  warnings.warn('Using prior. No proposal for address: {}'.format(address))\n",
      "/home/sragy/DISPyprob/pyprob/pyprob/nn/inference_network_feedforward.py:67: UserWarning: Using prior. No proposal for address: 216__forward___traverse___traverse_rec___traverse_rec___traverse_rec___traverse_rec___traverse_rec___traverse_rec___traverse_rec___traverse_rec___traverse_rec___traverse_rec___traverse_rec___traverse_rec__?__Uniform__5\n",
      "  warnings.warn('Using prior. No proposal for address: {}'.format(address))\n",
      "/home/sragy/DISPyprob/pyprob/pyprob/nn/inference_network_feedforward.py:67: UserWarning: Using prior. No proposal for address: 260__forward___traverse___traverse_rec___traverse_rec___traverse_rec___traverse_rec___traverse_rec___traverse_rec___traverse_rec___traverse_rec___traverse_rec___traverse_rec___traverse_rec___traverse_rec__theta_CM_U__Uniform__5\n",
      "  warnings.warn('Using prior. No proposal for address: {}'.format(address))\n",
      "/home/sragy/DISPyprob/pyprob/pyprob/nn/inference_network_feedforward.py:67: UserWarning: Using prior. No proposal for address: 470__forward___traverse___traverse_rec___traverse_rec___traverse_rec___traverse_rec___traverse_rec___traverse_rec___traverse_rec___traverse_rec___traverse_rec___traverse_rec___traverse_rec___traverse_rec__draw_decay_L__TruncatedExponential__5\n",
      "  warnings.warn('Using prior. No proposal for address: {}'.format(address))\n",
      "/home/sragy/DISPyprob/pyprob/pyprob/nn/inference_network_feedforward.py:67: UserWarning: Using prior. No proposal for address: 520__forward___traverse___traverse_rec___traverse_rec___traverse_rec___traverse_rec___traverse_rec___traverse_rec___traverse_rec___traverse_rec___traverse_rec___traverse_rec___traverse_rec___traverse_rec__draw_decay_R__TruncatedExponential__5\n",
      "  warnings.warn('Using prior. No proposal for address: {}'.format(address))\n",
      "/home/sragy/DISPyprob/pyprob/pyprob/nn/inference_network_feedforward.py:67: UserWarning: Using prior. No proposal for address: 216__forward___traverse___traverse_rec___traverse_rec___traverse_rec___traverse_rec___traverse_rec___traverse_rec___traverse_rec___traverse_rec___traverse_rec___traverse_rec___traverse_rec___traverse_rec__?__Uniform__6\n",
      "  warnings.warn('Using prior. No proposal for address: {}'.format(address))\n",
      "/home/sragy/DISPyprob/pyprob/pyprob/nn/inference_network_feedforward.py:67: UserWarning: Using prior. No proposal for address: 260__forward___traverse___traverse_rec___traverse_rec___traverse_rec___traverse_rec___traverse_rec___traverse_rec___traverse_rec___traverse_rec___traverse_rec___traverse_rec___traverse_rec___traverse_rec__theta_CM_U__Uniform__6\n",
      "  warnings.warn('Using prior. No proposal for address: {}'.format(address))\n",
      "/home/sragy/DISPyprob/pyprob/pyprob/nn/inference_network_feedforward.py:67: UserWarning: Using prior. No proposal for address: 470__forward___traverse___traverse_rec___traverse_rec___traverse_rec___traverse_rec___traverse_rec___traverse_rec___traverse_rec___traverse_rec___traverse_rec___traverse_rec___traverse_rec___traverse_rec__draw_decay_L__TruncatedExponential__6\n",
      "  warnings.warn('Using prior. No proposal for address: {}'.format(address))\n",
      "/home/sragy/DISPyprob/pyprob/pyprob/nn/inference_network_feedforward.py:67: UserWarning: Using prior. No proposal for address: 520__forward___traverse___traverse_rec___traverse_rec___traverse_rec___traverse_rec___traverse_rec___traverse_rec___traverse_rec___traverse_rec___traverse_rec___traverse_rec___traverse_rec___traverse_rec__draw_decay_R__TruncatedExponential__6\n",
      "  warnings.warn('Using prior. No proposal for address: {}'.format(address))\n",
      "/home/sragy/DISPyprob/pyprob/pyprob/nn/inference_network_feedforward.py:67: UserWarning: Using prior. No proposal for address: 216__forward___traverse___traverse_rec___traverse_rec___traverse_rec___traverse_rec___traverse_rec___traverse_rec___traverse_rec___traverse_rec___traverse_rec___traverse_rec___traverse_rec___traverse_rec___traverse_rec__?__Uniform__5\n",
      "  warnings.warn('Using prior. No proposal for address: {}'.format(address))\n",
      "/home/sragy/DISPyprob/pyprob/pyprob/nn/inference_network_feedforward.py:67: UserWarning: Using prior. No proposal for address: 260__forward___traverse___traverse_rec___traverse_rec___traverse_rec___traverse_rec___traverse_rec___traverse_rec___traverse_rec___traverse_rec___traverse_rec___traverse_rec___traverse_rec___traverse_rec___traverse_rec__theta_CM_U__Uniform__5\n",
      "  warnings.warn('Using prior. No proposal for address: {}'.format(address))\n",
      "/home/sragy/DISPyprob/pyprob/pyprob/nn/inference_network_feedforward.py:67: UserWarning: Using prior. No proposal for address: 470__forward___traverse___traverse_rec___traverse_rec___traverse_rec___traverse_rec___traverse_rec___traverse_rec___traverse_rec___traverse_rec___traverse_rec___traverse_rec___traverse_rec___traverse_rec___traverse_rec__draw_decay_L__TruncatedExponential__5\n",
      "  warnings.warn('Using prior. No proposal for address: {}'.format(address))\n",
      "/home/sragy/DISPyprob/pyprob/pyprob/nn/inference_network_feedforward.py:67: UserWarning: Using prior. No proposal for address: 520__forward___traverse___traverse_rec___traverse_rec___traverse_rec___traverse_rec___traverse_rec___traverse_rec___traverse_rec___traverse_rec___traverse_rec___traverse_rec___traverse_rec___traverse_rec___traverse_rec__draw_decay_R__TruncatedExponential__5\n",
      "  warnings.warn('Using prior. No proposal for address: {}'.format(address))\n",
      "/home/sragy/DISPyprob/pyprob/pyprob/nn/inference_network_feedforward.py:67: UserWarning: Using prior. No proposal for address: 216__forward___traverse___traverse_rec___traverse_rec___traverse_rec___traverse_rec___traverse_rec___traverse_rec___traverse_rec___traverse_rec___traverse_rec___traverse_rec___traverse_rec___traverse_rec__?__Uniform__7\n",
      "  warnings.warn('Using prior. No proposal for address: {}'.format(address))\n",
      "/home/sragy/DISPyprob/pyprob/pyprob/nn/inference_network_feedforward.py:67: UserWarning: Using prior. No proposal for address: 260__forward___traverse___traverse_rec___traverse_rec___traverse_rec___traverse_rec___traverse_rec___traverse_rec___traverse_rec___traverse_rec___traverse_rec___traverse_rec___traverse_rec___traverse_rec__theta_CM_U__Uniform__7\n",
      "  warnings.warn('Using prior. No proposal for address: {}'.format(address))\n",
      "/home/sragy/DISPyprob/pyprob/pyprob/nn/inference_network_feedforward.py:67: UserWarning: Using prior. No proposal for address: 470__forward___traverse___traverse_rec___traverse_rec___traverse_rec___traverse_rec___traverse_rec___traverse_rec___traverse_rec___traverse_rec___traverse_rec___traverse_rec___traverse_rec___traverse_rec__draw_decay_L__TruncatedExponential__7\n",
      "  warnings.warn('Using prior. No proposal for address: {}'.format(address))\n",
      "/home/sragy/DISPyprob/pyprob/pyprob/nn/inference_network_feedforward.py:67: UserWarning: Using prior. No proposal for address: 520__forward___traverse___traverse_rec___traverse_rec___traverse_rec___traverse_rec___traverse_rec___traverse_rec___traverse_rec___traverse_rec___traverse_rec___traverse_rec___traverse_rec___traverse_rec__draw_decay_R__TruncatedExponential__7\n",
      "  warnings.warn('Using prior. No proposal for address: {}'.format(address))\n",
      "/home/sragy/DISPyprob/pyprob/pyprob/nn/inference_network_feedforward.py:67: UserWarning: Using prior. No proposal for address: 216__forward___traverse___traverse_rec___traverse_rec___traverse_rec___traverse_rec___traverse_rec___traverse_rec___traverse_rec___traverse_rec___traverse_rec___traverse_rec___traverse_rec___traverse_rec__?__Uniform__8\n",
      "  warnings.warn('Using prior. No proposal for address: {}'.format(address))\n",
      "/home/sragy/DISPyprob/pyprob/pyprob/nn/inference_network_feedforward.py:67: UserWarning: Using prior. No proposal for address: 260__forward___traverse___traverse_rec___traverse_rec___traverse_rec___traverse_rec___traverse_rec___traverse_rec___traverse_rec___traverse_rec___traverse_rec___traverse_rec___traverse_rec___traverse_rec__theta_CM_U__Uniform__8\n",
      "  warnings.warn('Using prior. No proposal for address: {}'.format(address))\n",
      "/home/sragy/DISPyprob/pyprob/pyprob/nn/inference_network_feedforward.py:67: UserWarning: Using prior. No proposal for address: 470__forward___traverse___traverse_rec___traverse_rec___traverse_rec___traverse_rec___traverse_rec___traverse_rec___traverse_rec___traverse_rec___traverse_rec___traverse_rec___traverse_rec___traverse_rec__draw_decay_L__TruncatedExponential__8\n",
      "  warnings.warn('Using prior. No proposal for address: {}'.format(address))\n",
      "/home/sragy/DISPyprob/pyprob/pyprob/nn/inference_network_feedforward.py:67: UserWarning: Using prior. No proposal for address: 520__forward___traverse___traverse_rec___traverse_rec___traverse_rec___traverse_rec___traverse_rec___traverse_rec___traverse_rec___traverse_rec___traverse_rec___traverse_rec___traverse_rec___traverse_rec__draw_decay_R__TruncatedExponential__8\n",
      "  warnings.warn('Using prior. No proposal for address: {}'.format(address))\n"
     ]
    },
    {
     "name": "stdout",
     "output_type": "stream",
     "text": [
      "0d:00:00:15 | 0d:00:13:00 | -------------------- |   4/200 |  1.00 | 0.25       \r"
     ]
    },
    {
     "name": "stderr",
     "output_type": "stream",
     "text": [
      "/home/sragy/DISPyprob/pyprob/pyprob/nn/inference_network_feedforward.py:67: UserWarning: Using prior. No proposal for address: 216__forward___traverse___traverse_rec___traverse_rec___traverse_rec___traverse_rec___traverse_rec___traverse_rec___traverse_rec___traverse_rec__?__Uniform__13\n",
      "  warnings.warn('Using prior. No proposal for address: {}'.format(address))\n",
      "/home/sragy/DISPyprob/pyprob/pyprob/nn/inference_network_feedforward.py:67: UserWarning: Using prior. No proposal for address: 260__forward___traverse___traverse_rec___traverse_rec___traverse_rec___traverse_rec___traverse_rec___traverse_rec___traverse_rec___traverse_rec__theta_CM_U__Uniform__13\n",
      "  warnings.warn('Using prior. No proposal for address: {}'.format(address))\n",
      "/home/sragy/DISPyprob/pyprob/pyprob/nn/inference_network_feedforward.py:67: UserWarning: Using prior. No proposal for address: 470__forward___traverse___traverse_rec___traverse_rec___traverse_rec___traverse_rec___traverse_rec___traverse_rec___traverse_rec___traverse_rec__draw_decay_L__TruncatedExponential__13\n",
      "  warnings.warn('Using prior. No proposal for address: {}'.format(address))\n",
      "/home/sragy/DISPyprob/pyprob/pyprob/nn/inference_network_feedforward.py:67: UserWarning: Using prior. No proposal for address: 520__forward___traverse___traverse_rec___traverse_rec___traverse_rec___traverse_rec___traverse_rec___traverse_rec___traverse_rec___traverse_rec__draw_decay_R__TruncatedExponential__13\n",
      "  warnings.warn('Using prior. No proposal for address: {}'.format(address))\n",
      "/home/sragy/DISPyprob/pyprob/pyprob/nn/inference_network_feedforward.py:67: UserWarning: Using prior. No proposal for address: 216__forward___traverse___traverse_rec___traverse_rec___traverse_rec___traverse_rec___traverse_rec___traverse_rec___traverse_rec__?__Uniform__14\n",
      "  warnings.warn('Using prior. No proposal for address: {}'.format(address))\n",
      "/home/sragy/DISPyprob/pyprob/pyprob/nn/inference_network_feedforward.py:67: UserWarning: Using prior. No proposal for address: 260__forward___traverse___traverse_rec___traverse_rec___traverse_rec___traverse_rec___traverse_rec___traverse_rec___traverse_rec__theta_CM_U__Uniform__14\n",
      "  warnings.warn('Using prior. No proposal for address: {}'.format(address))\n",
      "/home/sragy/DISPyprob/pyprob/pyprob/nn/inference_network_feedforward.py:67: UserWarning: Using prior. No proposal for address: 520__forward___traverse___traverse_rec___traverse_rec___traverse_rec___traverse_rec___traverse_rec___traverse_rec___traverse_rec__draw_decay_R__TruncatedExponential__14\n",
      "  warnings.warn('Using prior. No proposal for address: {}'.format(address))\n",
      "/home/sragy/DISPyprob/pyprob/pyprob/nn/inference_network_feedforward.py:67: UserWarning: Using prior. No proposal for address: 216__forward___traverse___traverse_rec___traverse_rec___traverse_rec___traverse_rec___traverse_rec___traverse_rec___traverse_rec___traverse_rec__?__Uniform__14\n",
      "  warnings.warn('Using prior. No proposal for address: {}'.format(address))\n",
      "/home/sragy/DISPyprob/pyprob/pyprob/nn/inference_network_feedforward.py:67: UserWarning: Using prior. No proposal for address: 260__forward___traverse___traverse_rec___traverse_rec___traverse_rec___traverse_rec___traverse_rec___traverse_rec___traverse_rec___traverse_rec__theta_CM_U__Uniform__14\n",
      "  warnings.warn('Using prior. No proposal for address: {}'.format(address))\n",
      "/home/sragy/DISPyprob/pyprob/pyprob/nn/inference_network_feedforward.py:67: UserWarning: Using prior. No proposal for address: 470__forward___traverse___traverse_rec___traverse_rec___traverse_rec___traverse_rec___traverse_rec___traverse_rec___traverse_rec___traverse_rec__draw_decay_L__TruncatedExponential__14\n",
      "  warnings.warn('Using prior. No proposal for address: {}'.format(address))\n",
      "/home/sragy/DISPyprob/pyprob/pyprob/nn/inference_network_feedforward.py:67: UserWarning: Using prior. No proposal for address: 520__forward___traverse___traverse_rec___traverse_rec___traverse_rec___traverse_rec___traverse_rec___traverse_rec___traverse_rec___traverse_rec__draw_decay_R__TruncatedExponential__14\n",
      "  warnings.warn('Using prior. No proposal for address: {}'.format(address))\n"
     ]
    },
    {
     "name": "stdout",
     "output_type": "stream",
     "text": [
      "0d:00:00:30 | 0d:00:12:24 | #------------------- |   8/200 |  1.00 | 0.26       \r"
     ]
    },
    {
     "name": "stderr",
     "output_type": "stream",
     "text": [
      "/home/sragy/DISPyprob/pyprob/pyprob/nn/inference_network_feedforward.py:67: UserWarning: Using prior. No proposal for address: 216__forward___traverse___traverse_rec___traverse_rec___traverse_rec___traverse_rec___traverse_rec___traverse_rec___traverse_rec___traverse_rec__?__Uniform__15\n",
      "  warnings.warn('Using prior. No proposal for address: {}'.format(address))\n",
      "/home/sragy/DISPyprob/pyprob/pyprob/nn/inference_network_feedforward.py:67: UserWarning: Using prior. No proposal for address: 260__forward___traverse___traverse_rec___traverse_rec___traverse_rec___traverse_rec___traverse_rec___traverse_rec___traverse_rec___traverse_rec__theta_CM_U__Uniform__15\n",
      "  warnings.warn('Using prior. No proposal for address: {}'.format(address))\n",
      "/home/sragy/DISPyprob/pyprob/pyprob/nn/inference_network_feedforward.py:67: UserWarning: Using prior. No proposal for address: 470__forward___traverse___traverse_rec___traverse_rec___traverse_rec___traverse_rec___traverse_rec___traverse_rec___traverse_rec___traverse_rec__draw_decay_L__TruncatedExponential__15\n",
      "  warnings.warn('Using prior. No proposal for address: {}'.format(address))\n",
      "/home/sragy/DISPyprob/pyprob/pyprob/nn/inference_network_feedforward.py:67: UserWarning: Using prior. No proposal for address: 520__forward___traverse___traverse_rec___traverse_rec___traverse_rec___traverse_rec___traverse_rec___traverse_rec___traverse_rec___traverse_rec__draw_decay_R__TruncatedExponential__15\n",
      "  warnings.warn('Using prior. No proposal for address: {}'.format(address))\n"
     ]
    },
    {
     "name": "stdout",
     "output_type": "stream",
     "text": [
      "0d:00:00:39 | 0d:00:11:22 | #------------------- |  11/200 |  1.84 | 0.28       \r"
     ]
    },
    {
     "name": "stderr",
     "output_type": "stream",
     "text": [
      "/home/sragy/DISPyprob/pyprob/pyprob/nn/inference_network_feedforward.py:67: UserWarning: Using prior. No proposal for address: 216__forward___traverse___traverse_rec___traverse_rec___traverse_rec___traverse_rec___traverse_rec___traverse_rec___traverse_rec___traverse_rec___traverse_rec___traverse_rec__?__Uniform__11\n",
      "  warnings.warn('Using prior. No proposal for address: {}'.format(address))\n",
      "/home/sragy/DISPyprob/pyprob/pyprob/nn/inference_network_feedforward.py:67: UserWarning: Using prior. No proposal for address: 260__forward___traverse___traverse_rec___traverse_rec___traverse_rec___traverse_rec___traverse_rec___traverse_rec___traverse_rec___traverse_rec___traverse_rec___traverse_rec__theta_CM_U__Uniform__11\n",
      "  warnings.warn('Using prior. No proposal for address: {}'.format(address))\n",
      "/home/sragy/DISPyprob/pyprob/pyprob/nn/inference_network_feedforward.py:67: UserWarning: Using prior. No proposal for address: 470__forward___traverse___traverse_rec___traverse_rec___traverse_rec___traverse_rec___traverse_rec___traverse_rec___traverse_rec___traverse_rec___traverse_rec___traverse_rec__draw_decay_L__TruncatedExponential__11\n",
      "  warnings.warn('Using prior. No proposal for address: {}'.format(address))\n",
      "/home/sragy/DISPyprob/pyprob/pyprob/nn/inference_network_feedforward.py:67: UserWarning: Using prior. No proposal for address: 520__forward___traverse___traverse_rec___traverse_rec___traverse_rec___traverse_rec___traverse_rec___traverse_rec___traverse_rec___traverse_rec___traverse_rec___traverse_rec__draw_decay_R__TruncatedExponential__11\n",
      "  warnings.warn('Using prior. No proposal for address: {}'.format(address))\n",
      "/home/sragy/DISPyprob/pyprob/pyprob/nn/inference_network_feedforward.py:67: UserWarning: Using prior. No proposal for address: 216__forward___traverse___traverse_rec___traverse_rec___traverse_rec___traverse_rec___traverse_rec___traverse_rec___traverse_rec___traverse_rec___traverse_rec___traverse_rec__?__Uniform__12\n",
      "  warnings.warn('Using prior. No proposal for address: {}'.format(address))\n",
      "/home/sragy/DISPyprob/pyprob/pyprob/nn/inference_network_feedforward.py:67: UserWarning: Using prior. No proposal for address: 260__forward___traverse___traverse_rec___traverse_rec___traverse_rec___traverse_rec___traverse_rec___traverse_rec___traverse_rec___traverse_rec___traverse_rec___traverse_rec__theta_CM_U__Uniform__12\n",
      "  warnings.warn('Using prior. No proposal for address: {}'.format(address))\n",
      "/home/sragy/DISPyprob/pyprob/pyprob/nn/inference_network_feedforward.py:67: UserWarning: Using prior. No proposal for address: 470__forward___traverse___traverse_rec___traverse_rec___traverse_rec___traverse_rec___traverse_rec___traverse_rec___traverse_rec___traverse_rec___traverse_rec___traverse_rec__draw_decay_L__TruncatedExponential__12\n",
      "  warnings.warn('Using prior. No proposal for address: {}'.format(address))\n",
      "/home/sragy/DISPyprob/pyprob/pyprob/nn/inference_network_feedforward.py:67: UserWarning: Using prior. No proposal for address: 520__forward___traverse___traverse_rec___traverse_rec___traverse_rec___traverse_rec___traverse_rec___traverse_rec___traverse_rec___traverse_rec___traverse_rec___traverse_rec__draw_decay_R__TruncatedExponential__12\n",
      "  warnings.warn('Using prior. No proposal for address: {}'.format(address))\n"
     ]
    },
    {
     "name": "stdout",
     "output_type": "stream",
     "text": [
      "0d:00:01:07 | 0d:00:13:01 | ##------------------ |  16/200 |  1.00 | 0.24       \r"
     ]
    },
    {
     "name": "stderr",
     "output_type": "stream",
     "text": [
      "/home/sragy/DISPyprob/pyprob/pyprob/nn/inference_network_feedforward.py:67: UserWarning: Using prior. No proposal for address: 216__forward___traverse___traverse_rec___traverse_rec___traverse_rec___traverse_rec___traverse_rec___traverse_rec___traverse_rec___traverse_rec___traverse_rec___traverse_rec___traverse_rec___traverse_rec__?__Uniform__9\n",
      "  warnings.warn('Using prior. No proposal for address: {}'.format(address))\n",
      "/home/sragy/DISPyprob/pyprob/pyprob/nn/inference_network_feedforward.py:67: UserWarning: Using prior. No proposal for address: 260__forward___traverse___traverse_rec___traverse_rec___traverse_rec___traverse_rec___traverse_rec___traverse_rec___traverse_rec___traverse_rec___traverse_rec___traverse_rec___traverse_rec___traverse_rec__theta_CM_U__Uniform__9\n",
      "  warnings.warn('Using prior. No proposal for address: {}'.format(address))\n",
      "/home/sragy/DISPyprob/pyprob/pyprob/nn/inference_network_feedforward.py:67: UserWarning: Using prior. No proposal for address: 470__forward___traverse___traverse_rec___traverse_rec___traverse_rec___traverse_rec___traverse_rec___traverse_rec___traverse_rec___traverse_rec___traverse_rec___traverse_rec___traverse_rec___traverse_rec__draw_decay_L__TruncatedExponential__9\n",
      "  warnings.warn('Using prior. No proposal for address: {}'.format(address))\n",
      "/home/sragy/DISPyprob/pyprob/pyprob/nn/inference_network_feedforward.py:67: UserWarning: Using prior. No proposal for address: 520__forward___traverse___traverse_rec___traverse_rec___traverse_rec___traverse_rec___traverse_rec___traverse_rec___traverse_rec___traverse_rec___traverse_rec___traverse_rec___traverse_rec___traverse_rec__draw_decay_R__TruncatedExponential__9\n",
      "  warnings.warn('Using prior. No proposal for address: {}'.format(address))\n"
     ]
    },
    {
     "name": "stdout",
     "output_type": "stream",
     "text": [
      "0d:00:01:13 | 0d:00:13:12 | ##------------------ |  17/200 |  1.00 | 0.23       \r"
     ]
    },
    {
     "name": "stderr",
     "output_type": "stream",
     "text": [
      "/home/sragy/DISPyprob/pyprob/pyprob/nn/inference_network_feedforward.py:67: UserWarning: Using prior. No proposal for address: 216__forward___traverse___traverse_rec___traverse_rec___traverse_rec___traverse_rec___traverse_rec___traverse_rec___traverse_rec___traverse_rec___traverse_rec___traverse_rec___traverse_rec___traverse_rec___traverse_rec___traverse_rec___traverse_rec___traverse_rec___traverse_rec___traverse_rec___traverse_rec___traverse_rec___traverse_rec__?__Uniform__1\n",
      "  warnings.warn('Using prior. No proposal for address: {}'.format(address))\n",
      "/home/sragy/DISPyprob/pyprob/pyprob/nn/inference_network_feedforward.py:67: UserWarning: Using prior. No proposal for address: 260__forward___traverse___traverse_rec___traverse_rec___traverse_rec___traverse_rec___traverse_rec___traverse_rec___traverse_rec___traverse_rec___traverse_rec___traverse_rec___traverse_rec___traverse_rec___traverse_rec___traverse_rec___traverse_rec___traverse_rec___traverse_rec___traverse_rec___traverse_rec___traverse_rec___traverse_rec__theta_CM_U__Uniform__1\n",
      "  warnings.warn('Using prior. No proposal for address: {}'.format(address))\n",
      "/home/sragy/DISPyprob/pyprob/pyprob/nn/inference_network_feedforward.py:67: UserWarning: Using prior. No proposal for address: 470__forward___traverse___traverse_rec___traverse_rec___traverse_rec___traverse_rec___traverse_rec___traverse_rec___traverse_rec___traverse_rec___traverse_rec___traverse_rec___traverse_rec___traverse_rec___traverse_rec___traverse_rec___traverse_rec___traverse_rec___traverse_rec___traverse_rec___traverse_rec___traverse_rec___traverse_rec__draw_decay_L__TruncatedExponential__1\n",
      "  warnings.warn('Using prior. No proposal for address: {}'.format(address))\n",
      "/home/sragy/DISPyprob/pyprob/pyprob/nn/inference_network_feedforward.py:67: UserWarning: Using prior. No proposal for address: 520__forward___traverse___traverse_rec___traverse_rec___traverse_rec___traverse_rec___traverse_rec___traverse_rec___traverse_rec___traverse_rec___traverse_rec___traverse_rec___traverse_rec___traverse_rec___traverse_rec___traverse_rec___traverse_rec___traverse_rec___traverse_rec___traverse_rec___traverse_rec___traverse_rec___traverse_rec__draw_decay_R__TruncatedExponential__1\n",
      "  warnings.warn('Using prior. No proposal for address: {}'.format(address))\n",
      "/home/sragy/DISPyprob/pyprob/pyprob/nn/inference_network_feedforward.py:67: UserWarning: Using prior. No proposal for address: 216__forward___traverse___traverse_rec___traverse_rec___traverse_rec___traverse_rec___traverse_rec___traverse_rec___traverse_rec___traverse_rec___traverse_rec___traverse_rec___traverse_rec__?__Uniform__10\n",
      "  warnings.warn('Using prior. No proposal for address: {}'.format(address))\n",
      "/home/sragy/DISPyprob/pyprob/pyprob/nn/inference_network_feedforward.py:67: UserWarning: Using prior. No proposal for address: 260__forward___traverse___traverse_rec___traverse_rec___traverse_rec___traverse_rec___traverse_rec___traverse_rec___traverse_rec___traverse_rec___traverse_rec___traverse_rec___traverse_rec__theta_CM_U__Uniform__10\n",
      "  warnings.warn('Using prior. No proposal for address: {}'.format(address))\n",
      "/home/sragy/DISPyprob/pyprob/pyprob/nn/inference_network_feedforward.py:67: UserWarning: Using prior. No proposal for address: 470__forward___traverse___traverse_rec___traverse_rec___traverse_rec___traverse_rec___traverse_rec___traverse_rec___traverse_rec___traverse_rec___traverse_rec___traverse_rec___traverse_rec__draw_decay_L__TruncatedExponential__10\n",
      "  warnings.warn('Using prior. No proposal for address: {}'.format(address))\n",
      "/home/sragy/DISPyprob/pyprob/pyprob/nn/inference_network_feedforward.py:67: UserWarning: Using prior. No proposal for address: 520__forward___traverse___traverse_rec___traverse_rec___traverse_rec___traverse_rec___traverse_rec___traverse_rec___traverse_rec___traverse_rec___traverse_rec___traverse_rec___traverse_rec__draw_decay_R__TruncatedExponential__10\n",
      "  warnings.warn('Using prior. No proposal for address: {}'.format(address))\n"
     ]
    },
    {
     "name": "stdout",
     "output_type": "stream",
     "text": [
      "0d:00:01:31 | 0d:00:14:32 | ##------------------ |  19/200 |  1.00 | 0.21       \r"
     ]
    },
    {
     "name": "stderr",
     "output_type": "stream",
     "text": [
      "/home/sragy/DISPyprob/pyprob/pyprob/nn/inference_network_feedforward.py:67: UserWarning: Using prior. No proposal for address: 216__forward___traverse___traverse_rec___traverse_rec___traverse_rec___traverse_rec___traverse_rec___traverse_rec___traverse_rec__?__Uniform__15\n",
      "  warnings.warn('Using prior. No proposal for address: {}'.format(address))\n",
      "/home/sragy/DISPyprob/pyprob/pyprob/nn/inference_network_feedforward.py:67: UserWarning: Using prior. No proposal for address: 260__forward___traverse___traverse_rec___traverse_rec___traverse_rec___traverse_rec___traverse_rec___traverse_rec___traverse_rec__theta_CM_U__Uniform__15\n",
      "  warnings.warn('Using prior. No proposal for address: {}'.format(address))\n",
      "/home/sragy/DISPyprob/pyprob/pyprob/nn/inference_network_feedforward.py:67: UserWarning: Using prior. No proposal for address: 470__forward___traverse___traverse_rec___traverse_rec___traverse_rec___traverse_rec___traverse_rec___traverse_rec___traverse_rec__draw_decay_L__TruncatedExponential__15\n",
      "  warnings.warn('Using prior. No proposal for address: {}'.format(address))\n",
      "/home/sragy/DISPyprob/pyprob/pyprob/nn/inference_network_feedforward.py:67: UserWarning: Using prior. No proposal for address: 520__forward___traverse___traverse_rec___traverse_rec___traverse_rec___traverse_rec___traverse_rec___traverse_rec___traverse_rec__draw_decay_R__TruncatedExponential__15\n",
      "  warnings.warn('Using prior. No proposal for address: {}'.format(address))\n"
     ]
    },
    {
     "name": "stdout",
     "output_type": "stream",
     "text": [
      "------------------------------------------------ |  24/200 |  1.18 | 0.19       \n"
     ]
    },
    {
     "name": "stderr",
     "output_type": "stream",
     "text": [
      "/home/sragy/DISPyprob/ToyJetsShower/showerSim/invMass_ginkgo.py:303: RuntimeWarning: invalid value encountered in sqrt\n",
      "  logger.debug(f\"pR inv mass from p^2 in lab  frame: {np.sqrt(pR_mu[0] ** 2 - np.linalg.norm(pR_mu[1::]) ** 2)}\")\n"
     ]
    },
    {
     "name": "stdout",
     "output_type": "stream",
     "text": [
      "------------------------------#----------------- |  27/200 |  1.18 | 0.19       \n",
      "0d:00:02:40 | 0d:00:15:13 | ###----------------- |  30/200 |  1.18 | 0.19       \r"
     ]
    },
    {
     "name": "stderr",
     "output_type": "stream",
     "text": [
      "/home/sragy/DISPyprob/pyprob/pyprob/nn/inference_network_feedforward.py:67: UserWarning: Using prior. No proposal for address: 216__forward___traverse___traverse_rec___traverse_rec___traverse_rec___traverse_rec___traverse_rec___traverse_rec___traverse_rec___traverse_rec___traverse_rec___traverse_rec__?__Uniform__13\n",
      "  warnings.warn('Using prior. No proposal for address: {}'.format(address))\n",
      "/home/sragy/DISPyprob/pyprob/pyprob/nn/inference_network_feedforward.py:67: UserWarning: Using prior. No proposal for address: 260__forward___traverse___traverse_rec___traverse_rec___traverse_rec___traverse_rec___traverse_rec___traverse_rec___traverse_rec___traverse_rec___traverse_rec___traverse_rec__theta_CM_U__Uniform__13\n",
      "  warnings.warn('Using prior. No proposal for address: {}'.format(address))\n",
      "/home/sragy/DISPyprob/pyprob/pyprob/nn/inference_network_feedforward.py:67: UserWarning: Using prior. No proposal for address: 470__forward___traverse___traverse_rec___traverse_rec___traverse_rec___traverse_rec___traverse_rec___traverse_rec___traverse_rec___traverse_rec___traverse_rec___traverse_rec__draw_decay_L__TruncatedExponential__13\n",
      "  warnings.warn('Using prior. No proposal for address: {}'.format(address))\n",
      "/home/sragy/DISPyprob/pyprob/pyprob/nn/inference_network_feedforward.py:67: UserWarning: Using prior. No proposal for address: 520__forward___traverse___traverse_rec___traverse_rec___traverse_rec___traverse_rec___traverse_rec___traverse_rec___traverse_rec___traverse_rec___traverse_rec___traverse_rec__draw_decay_R__TruncatedExponential__13\n",
      "  warnings.warn('Using prior. No proposal for address: {}'.format(address))\n",
      "/home/sragy/DISPyprob/pyprob/pyprob/nn/inference_network_feedforward.py:67: UserWarning: Using prior. No proposal for address: 216__forward___traverse___traverse_rec___traverse_rec___traverse_rec___traverse_rec___traverse_rec___traverse_rec___traverse_rec___traverse_rec___traverse_rec___traverse_rec___traverse_rec__?__Uniform__11\n",
      "  warnings.warn('Using prior. No proposal for address: {}'.format(address))\n",
      "/home/sragy/DISPyprob/pyprob/pyprob/nn/inference_network_feedforward.py:67: UserWarning: Using prior. No proposal for address: 260__forward___traverse___traverse_rec___traverse_rec___traverse_rec___traverse_rec___traverse_rec___traverse_rec___traverse_rec___traverse_rec___traverse_rec___traverse_rec___traverse_rec__theta_CM_U__Uniform__11\n",
      "  warnings.warn('Using prior. No proposal for address: {}'.format(address))\n",
      "/home/sragy/DISPyprob/pyprob/pyprob/nn/inference_network_feedforward.py:67: UserWarning: Using prior. No proposal for address: 470__forward___traverse___traverse_rec___traverse_rec___traverse_rec___traverse_rec___traverse_rec___traverse_rec___traverse_rec___traverse_rec___traverse_rec___traverse_rec___traverse_rec__draw_decay_L__TruncatedExponential__11\n",
      "  warnings.warn('Using prior. No proposal for address: {}'.format(address))\n",
      "/home/sragy/DISPyprob/pyprob/pyprob/nn/inference_network_feedforward.py:67: UserWarning: Using prior. No proposal for address: 520__forward___traverse___traverse_rec___traverse_rec___traverse_rec___traverse_rec___traverse_rec___traverse_rec___traverse_rec___traverse_rec___traverse_rec___traverse_rec___traverse_rec__draw_decay_R__TruncatedExponential__11\n",
      "  warnings.warn('Using prior. No proposal for address: {}'.format(address))\n",
      "/home/sragy/DISPyprob/pyprob/pyprob/nn/inference_network_feedforward.py:67: UserWarning: Using prior. No proposal for address: 216__forward___traverse___traverse_rec___traverse_rec___traverse_rec___traverse_rec___traverse_rec___traverse_rec___traverse_rec___traverse_rec___traverse_rec___traverse_rec___traverse_rec___traverse_rec___traverse_rec__?__Uniform__6\n",
      "  warnings.warn('Using prior. No proposal for address: {}'.format(address))\n",
      "/home/sragy/DISPyprob/pyprob/pyprob/nn/inference_network_feedforward.py:67: UserWarning: Using prior. No proposal for address: 260__forward___traverse___traverse_rec___traverse_rec___traverse_rec___traverse_rec___traverse_rec___traverse_rec___traverse_rec___traverse_rec___traverse_rec___traverse_rec___traverse_rec___traverse_rec___traverse_rec__theta_CM_U__Uniform__6\n",
      "  warnings.warn('Using prior. No proposal for address: {}'.format(address))\n",
      "/home/sragy/DISPyprob/pyprob/pyprob/nn/inference_network_feedforward.py:67: UserWarning: Using prior. No proposal for address: 470__forward___traverse___traverse_rec___traverse_rec___traverse_rec___traverse_rec___traverse_rec___traverse_rec___traverse_rec___traverse_rec___traverse_rec___traverse_rec___traverse_rec___traverse_rec___traverse_rec__draw_decay_L__TruncatedExponential__6\n",
      "  warnings.warn('Using prior. No proposal for address: {}'.format(address))\n",
      "/home/sragy/DISPyprob/pyprob/pyprob/nn/inference_network_feedforward.py:67: UserWarning: Using prior. No proposal for address: 520__forward___traverse___traverse_rec___traverse_rec___traverse_rec___traverse_rec___traverse_rec___traverse_rec___traverse_rec___traverse_rec___traverse_rec___traverse_rec___traverse_rec___traverse_rec___traverse_rec__draw_decay_R__TruncatedExponential__6\n",
      "  warnings.warn('Using prior. No proposal for address: {}'.format(address))\n",
      "/home/sragy/DISPyprob/pyprob/pyprob/nn/inference_network_feedforward.py:67: UserWarning: Using prior. No proposal for address: 216__forward___traverse___traverse_rec___traverse_rec___traverse_rec___traverse_rec___traverse_rec___traverse_rec___traverse_rec___traverse_rec___traverse_rec___traverse_rec__?__Uniform__14\n",
      "  warnings.warn('Using prior. No proposal for address: {}'.format(address))\n",
      "/home/sragy/DISPyprob/pyprob/pyprob/nn/inference_network_feedforward.py:67: UserWarning: Using prior. No proposal for address: 260__forward___traverse___traverse_rec___traverse_rec___traverse_rec___traverse_rec___traverse_rec___traverse_rec___traverse_rec___traverse_rec___traverse_rec___traverse_rec__theta_CM_U__Uniform__14\n",
      "  warnings.warn('Using prior. No proposal for address: {}'.format(address))\n",
      "/home/sragy/DISPyprob/pyprob/pyprob/nn/inference_network_feedforward.py:67: UserWarning: Using prior. No proposal for address: 470__forward___traverse___traverse_rec___traverse_rec___traverse_rec___traverse_rec___traverse_rec___traverse_rec___traverse_rec___traverse_rec___traverse_rec___traverse_rec__draw_decay_L__TruncatedExponential__14\n",
      "  warnings.warn('Using prior. No proposal for address: {}'.format(address))\n",
      "/home/sragy/DISPyprob/pyprob/pyprob/nn/inference_network_feedforward.py:67: UserWarning: Using prior. No proposal for address: 520__forward___traverse___traverse_rec___traverse_rec___traverse_rec___traverse_rec___traverse_rec___traverse_rec___traverse_rec___traverse_rec___traverse_rec___traverse_rec__draw_decay_R__TruncatedExponential__14\n",
      "  warnings.warn('Using prior. No proposal for address: {}'.format(address))\n"
     ]
    },
    {
     "name": "stdout",
     "output_type": "stream",
     "text": [
      "0d:00:03:08 | 0d:00:14:55 | ####---------------- |  35/200 |  1.48 | 0.19       \r"
     ]
    },
    {
     "name": "stderr",
     "output_type": "stream",
     "text": [
      "/home/sragy/DISPyprob/pyprob/pyprob/nn/inference_network_feedforward.py:67: UserWarning: Using prior. No proposal for address: 216__forward___traverse___traverse_rec___traverse_rec___traverse_rec___traverse_rec___traverse_rec___traverse_rec___traverse_rec___traverse_rec___traverse_rec__?__Uniform__14\n",
      "  warnings.warn('Using prior. No proposal for address: {}'.format(address))\n",
      "/home/sragy/DISPyprob/pyprob/pyprob/nn/inference_network_feedforward.py:67: UserWarning: Using prior. No proposal for address: 260__forward___traverse___traverse_rec___traverse_rec___traverse_rec___traverse_rec___traverse_rec___traverse_rec___traverse_rec___traverse_rec___traverse_rec__theta_CM_U__Uniform__14\n",
      "  warnings.warn('Using prior. No proposal for address: {}'.format(address))\n",
      "/home/sragy/DISPyprob/pyprob/pyprob/nn/inference_network_feedforward.py:67: UserWarning: Using prior. No proposal for address: 470__forward___traverse___traverse_rec___traverse_rec___traverse_rec___traverse_rec___traverse_rec___traverse_rec___traverse_rec___traverse_rec___traverse_rec__draw_decay_L__TruncatedExponential__14\n",
      "  warnings.warn('Using prior. No proposal for address: {}'.format(address))\n",
      "/home/sragy/DISPyprob/pyprob/pyprob/nn/inference_network_feedforward.py:67: UserWarning: Using prior. No proposal for address: 520__forward___traverse___traverse_rec___traverse_rec___traverse_rec___traverse_rec___traverse_rec___traverse_rec___traverse_rec___traverse_rec___traverse_rec__draw_decay_R__TruncatedExponential__14\n",
      "  warnings.warn('Using prior. No proposal for address: {}'.format(address))\n"
     ]
    },
    {
     "name": "stdout",
     "output_type": "stream",
     "text": [
      "0d:00:04:00 | 0d:00:13:53 | ####---------------- |  45/200 |  1.48 | 0.19       \r"
     ]
    },
    {
     "name": "stderr",
     "output_type": "stream",
     "text": [
      "/home/sragy/DISPyprob/pyprob/pyprob/nn/inference_network_feedforward.py:67: UserWarning: Using prior. No proposal for address: 216__forward___traverse___traverse_rec___traverse_rec___traverse_rec___traverse_rec___traverse_rec___traverse_rec___traverse_rec__?__Uniform__16\n",
      "  warnings.warn('Using prior. No proposal for address: {}'.format(address))\n",
      "/home/sragy/DISPyprob/pyprob/pyprob/nn/inference_network_feedforward.py:67: UserWarning: Using prior. No proposal for address: 260__forward___traverse___traverse_rec___traverse_rec___traverse_rec___traverse_rec___traverse_rec___traverse_rec___traverse_rec__theta_CM_U__Uniform__16\n",
      "  warnings.warn('Using prior. No proposal for address: {}'.format(address))\n",
      "/home/sragy/DISPyprob/pyprob/pyprob/nn/inference_network_feedforward.py:67: UserWarning: Using prior. No proposal for address: 470__forward___traverse___traverse_rec___traverse_rec___traverse_rec___traverse_rec___traverse_rec___traverse_rec___traverse_rec__draw_decay_L__TruncatedExponential__16\n",
      "  warnings.warn('Using prior. No proposal for address: {}'.format(address))\n",
      "/home/sragy/DISPyprob/pyprob/pyprob/nn/inference_network_feedforward.py:67: UserWarning: Using prior. No proposal for address: 520__forward___traverse___traverse_rec___traverse_rec___traverse_rec___traverse_rec___traverse_rec___traverse_rec___traverse_rec__draw_decay_R__TruncatedExponential__16\n",
      "  warnings.warn('Using prior. No proposal for address: {}'.format(address))\n",
      "/home/sragy/DISPyprob/pyprob/pyprob/nn/inference_network_feedforward.py:67: UserWarning: Using prior. No proposal for address: 216__forward___traverse___traverse_rec___traverse_rec___traverse_rec___traverse_rec___traverse_rec___traverse_rec___traverse_rec__?__Uniform__17\n",
      "  warnings.warn('Using prior. No proposal for address: {}'.format(address))\n",
      "/home/sragy/DISPyprob/pyprob/pyprob/nn/inference_network_feedforward.py:67: UserWarning: Using prior. No proposal for address: 260__forward___traverse___traverse_rec___traverse_rec___traverse_rec___traverse_rec___traverse_rec___traverse_rec___traverse_rec__theta_CM_U__Uniform__17\n",
      "  warnings.warn('Using prior. No proposal for address: {}'.format(address))\n",
      "/home/sragy/DISPyprob/pyprob/pyprob/nn/inference_network_feedforward.py:67: UserWarning: Using prior. No proposal for address: 470__forward___traverse___traverse_rec___traverse_rec___traverse_rec___traverse_rec___traverse_rec___traverse_rec___traverse_rec__draw_decay_L__TruncatedExponential__17\n",
      "  warnings.warn('Using prior. No proposal for address: {}'.format(address))\n",
      "/home/sragy/DISPyprob/pyprob/pyprob/nn/inference_network_feedforward.py:67: UserWarning: Using prior. No proposal for address: 520__forward___traverse___traverse_rec___traverse_rec___traverse_rec___traverse_rec___traverse_rec___traverse_rec___traverse_rec__draw_decay_R__TruncatedExponential__17\n",
      "  warnings.warn('Using prior. No proposal for address: {}'.format(address))\n"
     ]
    },
    {
     "name": "stdout",
     "output_type": "stream",
     "text": [
      "0d:00:04:28 | 0d:00:13:30 | #####--------------- |  50/200 |  1.48 | 0.19       \r"
     ]
    },
    {
     "name": "stderr",
     "output_type": "stream",
     "text": [
      "/home/sragy/DISPyprob/pyprob/pyprob/nn/inference_network_feedforward.py:67: UserWarning: Using prior. No proposal for address: 216__forward___traverse___traverse_rec___traverse_rec___traverse_rec___traverse_rec___traverse_rec___traverse_rec___traverse_rec___traverse_rec___traverse_rec___traverse_rec___traverse_rec___traverse_rec___traverse_rec___traverse_rec___traverse_rec__?__Uniform__4\n",
      "  warnings.warn('Using prior. No proposal for address: {}'.format(address))\n",
      "/home/sragy/DISPyprob/pyprob/pyprob/nn/inference_network_feedforward.py:67: UserWarning: Using prior. No proposal for address: 260__forward___traverse___traverse_rec___traverse_rec___traverse_rec___traverse_rec___traverse_rec___traverse_rec___traverse_rec___traverse_rec___traverse_rec___traverse_rec___traverse_rec___traverse_rec___traverse_rec___traverse_rec___traverse_rec__theta_CM_U__Uniform__4\n",
      "  warnings.warn('Using prior. No proposal for address: {}'.format(address))\n",
      "/home/sragy/DISPyprob/pyprob/pyprob/nn/inference_network_feedforward.py:67: UserWarning: Using prior. No proposal for address: 470__forward___traverse___traverse_rec___traverse_rec___traverse_rec___traverse_rec___traverse_rec___traverse_rec___traverse_rec___traverse_rec___traverse_rec___traverse_rec___traverse_rec___traverse_rec___traverse_rec___traverse_rec___traverse_rec__draw_decay_L__TruncatedExponential__4\n",
      "  warnings.warn('Using prior. No proposal for address: {}'.format(address))\n",
      "/home/sragy/DISPyprob/pyprob/pyprob/nn/inference_network_feedforward.py:67: UserWarning: Using prior. No proposal for address: 520__forward___traverse___traverse_rec___traverse_rec___traverse_rec___traverse_rec___traverse_rec___traverse_rec___traverse_rec___traverse_rec___traverse_rec___traverse_rec___traverse_rec___traverse_rec___traverse_rec___traverse_rec___traverse_rec__draw_decay_R__TruncatedExponential__4\n",
      "  warnings.warn('Using prior. No proposal for address: {}'.format(address))\n",
      "/home/sragy/DISPyprob/pyprob/pyprob/nn/inference_network_feedforward.py:67: UserWarning: Using prior. No proposal for address: 216__forward___traverse___traverse_rec___traverse_rec___traverse_rec___traverse_rec___traverse_rec___traverse_rec___traverse_rec___traverse_rec___traverse_rec___traverse_rec___traverse_rec___traverse_rec___traverse_rec___traverse_rec___traverse_rec__?__Uniform__5\n",
      "  warnings.warn('Using prior. No proposal for address: {}'.format(address))\n",
      "/home/sragy/DISPyprob/pyprob/pyprob/nn/inference_network_feedforward.py:67: UserWarning: Using prior. No proposal for address: 260__forward___traverse___traverse_rec___traverse_rec___traverse_rec___traverse_rec___traverse_rec___traverse_rec___traverse_rec___traverse_rec___traverse_rec___traverse_rec___traverse_rec___traverse_rec___traverse_rec___traverse_rec___traverse_rec__theta_CM_U__Uniform__5\n",
      "  warnings.warn('Using prior. No proposal for address: {}'.format(address))\n",
      "/home/sragy/DISPyprob/pyprob/pyprob/nn/inference_network_feedforward.py:67: UserWarning: Using prior. No proposal for address: 470__forward___traverse___traverse_rec___traverse_rec___traverse_rec___traverse_rec___traverse_rec___traverse_rec___traverse_rec___traverse_rec___traverse_rec___traverse_rec___traverse_rec___traverse_rec___traverse_rec___traverse_rec___traverse_rec__draw_decay_L__TruncatedExponential__5\n",
      "  warnings.warn('Using prior. No proposal for address: {}'.format(address))\n",
      "/home/sragy/DISPyprob/pyprob/pyprob/nn/inference_network_feedforward.py:67: UserWarning: Using prior. No proposal for address: 520__forward___traverse___traverse_rec___traverse_rec___traverse_rec___traverse_rec___traverse_rec___traverse_rec___traverse_rec___traverse_rec___traverse_rec___traverse_rec___traverse_rec___traverse_rec___traverse_rec___traverse_rec___traverse_rec__draw_decay_R__TruncatedExponential__5\n",
      "  warnings.warn('Using prior. No proposal for address: {}'.format(address))\n",
      "/home/sragy/DISPyprob/pyprob/pyprob/nn/inference_network_feedforward.py:67: UserWarning: Using prior. No proposal for address: 216__forward___traverse___traverse_rec___traverse_rec___traverse_rec___traverse_rec___traverse_rec___traverse_rec___traverse_rec___traverse_rec___traverse_rec___traverse_rec___traverse_rec___traverse_rec___traverse_rec___traverse_rec___traverse_rec___traverse_rec__?__Uniform__4\n",
      "  warnings.warn('Using prior. No proposal for address: {}'.format(address))\n",
      "/home/sragy/DISPyprob/pyprob/pyprob/nn/inference_network_feedforward.py:67: UserWarning: Using prior. No proposal for address: 260__forward___traverse___traverse_rec___traverse_rec___traverse_rec___traverse_rec___traverse_rec___traverse_rec___traverse_rec___traverse_rec___traverse_rec___traverse_rec___traverse_rec___traverse_rec___traverse_rec___traverse_rec___traverse_rec___traverse_rec__theta_CM_U__Uniform__4\n",
      "  warnings.warn('Using prior. No proposal for address: {}'.format(address))\n",
      "/home/sragy/DISPyprob/pyprob/pyprob/nn/inference_network_feedforward.py:67: UserWarning: Using prior. No proposal for address: 470__forward___traverse___traverse_rec___traverse_rec___traverse_rec___traverse_rec___traverse_rec___traverse_rec___traverse_rec___traverse_rec___traverse_rec___traverse_rec___traverse_rec___traverse_rec___traverse_rec___traverse_rec___traverse_rec___traverse_rec__draw_decay_L__TruncatedExponential__4\n",
      "  warnings.warn('Using prior. No proposal for address: {}'.format(address))\n",
      "/home/sragy/DISPyprob/pyprob/pyprob/nn/inference_network_feedforward.py:67: UserWarning: Using prior. No proposal for address: 520__forward___traverse___traverse_rec___traverse_rec___traverse_rec___traverse_rec___traverse_rec___traverse_rec___traverse_rec___traverse_rec___traverse_rec___traverse_rec___traverse_rec___traverse_rec___traverse_rec___traverse_rec___traverse_rec___traverse_rec__draw_decay_R__TruncatedExponential__4\n",
      "  warnings.warn('Using prior. No proposal for address: {}'.format(address))\n",
      "/home/sragy/DISPyprob/pyprob/pyprob/nn/inference_network_feedforward.py:67: UserWarning: Using prior. No proposal for address: 216__forward___traverse___traverse_rec___traverse_rec___traverse_rec___traverse_rec___traverse_rec___traverse_rec___traverse_rec___traverse_rec___traverse_rec___traverse_rec___traverse_rec___traverse_rec___traverse_rec___traverse_rec__?__Uniform__5\n",
      "  warnings.warn('Using prior. No proposal for address: {}'.format(address))\n",
      "/home/sragy/DISPyprob/pyprob/pyprob/nn/inference_network_feedforward.py:67: UserWarning: Using prior. No proposal for address: 260__forward___traverse___traverse_rec___traverse_rec___traverse_rec___traverse_rec___traverse_rec___traverse_rec___traverse_rec___traverse_rec___traverse_rec___traverse_rec___traverse_rec___traverse_rec___traverse_rec___traverse_rec__theta_CM_U__Uniform__5\n",
      "  warnings.warn('Using prior. No proposal for address: {}'.format(address))\n",
      "/home/sragy/DISPyprob/pyprob/pyprob/nn/inference_network_feedforward.py:67: UserWarning: Using prior. No proposal for address: 470__forward___traverse___traverse_rec___traverse_rec___traverse_rec___traverse_rec___traverse_rec___traverse_rec___traverse_rec___traverse_rec___traverse_rec___traverse_rec___traverse_rec___traverse_rec___traverse_rec___traverse_rec__draw_decay_L__TruncatedExponential__5\n",
      "  warnings.warn('Using prior. No proposal for address: {}'.format(address))\n",
      "/home/sragy/DISPyprob/pyprob/pyprob/nn/inference_network_feedforward.py:67: UserWarning: Using prior. No proposal for address: 520__forward___traverse___traverse_rec___traverse_rec___traverse_rec___traverse_rec___traverse_rec___traverse_rec___traverse_rec___traverse_rec___traverse_rec___traverse_rec___traverse_rec___traverse_rec___traverse_rec___traverse_rec__draw_decay_R__TruncatedExponential__5\n",
      "  warnings.warn('Using prior. No proposal for address: {}'.format(address))\n",
      "/home/sragy/DISPyprob/pyprob/pyprob/nn/inference_network_feedforward.py:67: UserWarning: Using prior. No proposal for address: 216__forward___traverse___traverse_rec___traverse_rec___traverse_rec___traverse_rec___traverse_rec___traverse_rec___traverse_rec___traverse_rec___traverse_rec___traverse_rec___traverse_rec___traverse_rec___traverse_rec__?__Uniform__7\n",
      "  warnings.warn('Using prior. No proposal for address: {}'.format(address))\n",
      "/home/sragy/DISPyprob/pyprob/pyprob/nn/inference_network_feedforward.py:67: UserWarning: Using prior. No proposal for address: 260__forward___traverse___traverse_rec___traverse_rec___traverse_rec___traverse_rec___traverse_rec___traverse_rec___traverse_rec___traverse_rec___traverse_rec___traverse_rec___traverse_rec___traverse_rec___traverse_rec__theta_CM_U__Uniform__7\n",
      "  warnings.warn('Using prior. No proposal for address: {}'.format(address))\n",
      "/home/sragy/DISPyprob/pyprob/pyprob/nn/inference_network_feedforward.py:67: UserWarning: Using prior. No proposal for address: 470__forward___traverse___traverse_rec___traverse_rec___traverse_rec___traverse_rec___traverse_rec___traverse_rec___traverse_rec___traverse_rec___traverse_rec___traverse_rec___traverse_rec___traverse_rec___traverse_rec__draw_decay_L__TruncatedExponential__7\n",
      "  warnings.warn('Using prior. No proposal for address: {}'.format(address))\n",
      "/home/sragy/DISPyprob/pyprob/pyprob/nn/inference_network_feedforward.py:67: UserWarning: Using prior. No proposal for address: 520__forward___traverse___traverse_rec___traverse_rec___traverse_rec___traverse_rec___traverse_rec___traverse_rec___traverse_rec___traverse_rec___traverse_rec___traverse_rec___traverse_rec___traverse_rec___traverse_rec__draw_decay_R__TruncatedExponential__7\n",
      "  warnings.warn('Using prior. No proposal for address: {}'.format(address))\n",
      "/home/sragy/DISPyprob/pyprob/pyprob/nn/inference_network_feedforward.py:67: UserWarning: Using prior. No proposal for address: 216__forward___traverse___traverse_rec___traverse_rec___traverse_rec___traverse_rec___traverse_rec___traverse_rec___traverse_rec___traverse_rec___traverse_rec___traverse_rec___traverse_rec___traverse_rec___traverse_rec__?__Uniform__8\n",
      "  warnings.warn('Using prior. No proposal for address: {}'.format(address))\n",
      "/home/sragy/DISPyprob/pyprob/pyprob/nn/inference_network_feedforward.py:67: UserWarning: Using prior. No proposal for address: 260__forward___traverse___traverse_rec___traverse_rec___traverse_rec___traverse_rec___traverse_rec___traverse_rec___traverse_rec___traverse_rec___traverse_rec___traverse_rec___traverse_rec___traverse_rec___traverse_rec__theta_CM_U__Uniform__8\n",
      "  warnings.warn('Using prior. No proposal for address: {}'.format(address))\n",
      "/home/sragy/DISPyprob/pyprob/pyprob/nn/inference_network_feedforward.py:67: UserWarning: Using prior. No proposal for address: 470__forward___traverse___traverse_rec___traverse_rec___traverse_rec___traverse_rec___traverse_rec___traverse_rec___traverse_rec___traverse_rec___traverse_rec___traverse_rec___traverse_rec___traverse_rec___traverse_rec__draw_decay_L__TruncatedExponential__8\n",
      "  warnings.warn('Using prior. No proposal for address: {}'.format(address))\n",
      "/home/sragy/DISPyprob/pyprob/pyprob/nn/inference_network_feedforward.py:67: UserWarning: Using prior. No proposal for address: 520__forward___traverse___traverse_rec___traverse_rec___traverse_rec___traverse_rec___traverse_rec___traverse_rec___traverse_rec___traverse_rec___traverse_rec___traverse_rec___traverse_rec___traverse_rec___traverse_rec__draw_decay_R__TruncatedExponential__8\n",
      "  warnings.warn('Using prior. No proposal for address: {}'.format(address))\n",
      "/home/sragy/DISPyprob/pyprob/pyprob/nn/inference_network_feedforward.py:67: UserWarning: Using prior. No proposal for address: 216__forward___traverse___traverse_rec___traverse_rec___traverse_rec___traverse_rec___traverse_rec___traverse_rec___traverse_rec___traverse_rec___traverse_rec___traverse_rec___traverse_rec___traverse_rec___traverse_rec___traverse_rec__?__Uniform__6\n",
      "  warnings.warn('Using prior. No proposal for address: {}'.format(address))\n",
      "/home/sragy/DISPyprob/pyprob/pyprob/nn/inference_network_feedforward.py:67: UserWarning: Using prior. No proposal for address: 260__forward___traverse___traverse_rec___traverse_rec___traverse_rec___traverse_rec___traverse_rec___traverse_rec___traverse_rec___traverse_rec___traverse_rec___traverse_rec___traverse_rec___traverse_rec___traverse_rec___traverse_rec__theta_CM_U__Uniform__6\n",
      "  warnings.warn('Using prior. No proposal for address: {}'.format(address))\n",
      "/home/sragy/DISPyprob/pyprob/pyprob/nn/inference_network_feedforward.py:67: UserWarning: Using prior. No proposal for address: 470__forward___traverse___traverse_rec___traverse_rec___traverse_rec___traverse_rec___traverse_rec___traverse_rec___traverse_rec___traverse_rec___traverse_rec___traverse_rec___traverse_rec___traverse_rec___traverse_rec___traverse_rec__draw_decay_L__TruncatedExponential__6\n",
      "  warnings.warn('Using prior. No proposal for address: {}'.format(address))\n",
      "/home/sragy/DISPyprob/pyprob/pyprob/nn/inference_network_feedforward.py:67: UserWarning: Using prior. No proposal for address: 520__forward___traverse___traverse_rec___traverse_rec___traverse_rec___traverse_rec___traverse_rec___traverse_rec___traverse_rec___traverse_rec___traverse_rec___traverse_rec___traverse_rec___traverse_rec___traverse_rec___traverse_rec__draw_decay_R__TruncatedExponential__6\n",
      "  warnings.warn('Using prior. No proposal for address: {}'.format(address))\n"
     ]
    },
    {
     "name": "stdout",
     "output_type": "stream",
     "text": [
      "0d:00:05:17 | 0d:00:12:09 | ######-------------- |  61/200 |  1.56 | 0.19       \r"
     ]
    },
    {
     "name": "stderr",
     "output_type": "stream",
     "text": [
      "/home/sragy/DISPyprob/pyprob/pyprob/nn/inference_network_feedforward.py:67: UserWarning: Using prior. No proposal for address: 216__forward___traverse___traverse_rec___traverse_rec___traverse_rec___traverse_rec___traverse_rec___traverse_rec___traverse_rec___traverse_rec___traverse_rec__?__Uniform__15\n",
      "  warnings.warn('Using prior. No proposal for address: {}'.format(address))\n",
      "/home/sragy/DISPyprob/pyprob/pyprob/nn/inference_network_feedforward.py:67: UserWarning: Using prior. No proposal for address: 260__forward___traverse___traverse_rec___traverse_rec___traverse_rec___traverse_rec___traverse_rec___traverse_rec___traverse_rec___traverse_rec___traverse_rec__theta_CM_U__Uniform__15\n",
      "  warnings.warn('Using prior. No proposal for address: {}'.format(address))\n",
      "/home/sragy/DISPyprob/pyprob/pyprob/nn/inference_network_feedforward.py:67: UserWarning: Using prior. No proposal for address: 470__forward___traverse___traverse_rec___traverse_rec___traverse_rec___traverse_rec___traverse_rec___traverse_rec___traverse_rec___traverse_rec___traverse_rec__draw_decay_L__TruncatedExponential__15\n",
      "  warnings.warn('Using prior. No proposal for address: {}'.format(address))\n",
      "/home/sragy/DISPyprob/pyprob/pyprob/nn/inference_network_feedforward.py:67: UserWarning: Using prior. No proposal for address: 520__forward___traverse___traverse_rec___traverse_rec___traverse_rec___traverse_rec___traverse_rec___traverse_rec___traverse_rec___traverse_rec___traverse_rec__draw_decay_R__TruncatedExponential__15\n",
      "  warnings.warn('Using prior. No proposal for address: {}'.format(address))\n"
     ]
    },
    {
     "name": "stdout",
     "output_type": "stream",
     "text": [
      "0d:00:05:37 | 0d:00:11:46 | ######-------------- |  65/200 |  1.56 | 0.19       \r"
     ]
    },
    {
     "name": "stderr",
     "output_type": "stream",
     "text": [
      "/home/sragy/DISPyprob/pyprob/pyprob/nn/inference_network_feedforward.py:67: UserWarning: Using prior. No proposal for address: 216__forward___traverse___traverse_rec___traverse_rec___traverse_rec___traverse_rec___traverse_rec___traverse_rec___traverse_rec___traverse_rec___traverse_rec__?__Uniform__16\n",
      "  warnings.warn('Using prior. No proposal for address: {}'.format(address))\n",
      "/home/sragy/DISPyprob/pyprob/pyprob/nn/inference_network_feedforward.py:67: UserWarning: Using prior. No proposal for address: 260__forward___traverse___traverse_rec___traverse_rec___traverse_rec___traverse_rec___traverse_rec___traverse_rec___traverse_rec___traverse_rec___traverse_rec__theta_CM_U__Uniform__16\n",
      "  warnings.warn('Using prior. No proposal for address: {}'.format(address))\n",
      "/home/sragy/DISPyprob/pyprob/pyprob/nn/inference_network_feedforward.py:67: UserWarning: Using prior. No proposal for address: 470__forward___traverse___traverse_rec___traverse_rec___traverse_rec___traverse_rec___traverse_rec___traverse_rec___traverse_rec___traverse_rec___traverse_rec__draw_decay_L__TruncatedExponential__16\n",
      "  warnings.warn('Using prior. No proposal for address: {}'.format(address))\n",
      "/home/sragy/DISPyprob/pyprob/pyprob/nn/inference_network_feedforward.py:67: UserWarning: Using prior. No proposal for address: 520__forward___traverse___traverse_rec___traverse_rec___traverse_rec___traverse_rec___traverse_rec___traverse_rec___traverse_rec___traverse_rec___traverse_rec__draw_decay_R__TruncatedExponential__16\n",
      "  warnings.warn('Using prior. No proposal for address: {}'.format(address))\n"
     ]
    },
    {
     "name": "stdout",
     "output_type": "stream",
     "text": [
      "0d:00:08:05 | 0d:00:09:12 | #########----------- |  94/200 |  4.34 | 0.19       \r"
     ]
    },
    {
     "name": "stderr",
     "output_type": "stream",
     "text": [
      "/home/sragy/DISPyprob/pyprob/pyprob/nn/inference_network_feedforward.py:67: UserWarning: Using prior. No proposal for address: 216__forward___traverse___traverse_rec___traverse_rec___traverse_rec___traverse_rec___traverse_rec___traverse_rec___traverse_rec___traverse_rec__?__Uniform__16\n",
      "  warnings.warn('Using prior. No proposal for address: {}'.format(address))\n",
      "/home/sragy/DISPyprob/pyprob/pyprob/nn/inference_network_feedforward.py:67: UserWarning: Using prior. No proposal for address: 260__forward___traverse___traverse_rec___traverse_rec___traverse_rec___traverse_rec___traverse_rec___traverse_rec___traverse_rec___traverse_rec__theta_CM_U__Uniform__16\n",
      "  warnings.warn('Using prior. No proposal for address: {}'.format(address))\n",
      "/home/sragy/DISPyprob/pyprob/pyprob/nn/inference_network_feedforward.py:67: UserWarning: Using prior. No proposal for address: 470__forward___traverse___traverse_rec___traverse_rec___traverse_rec___traverse_rec___traverse_rec___traverse_rec___traverse_rec___traverse_rec__draw_decay_L__TruncatedExponential__16\n",
      "  warnings.warn('Using prior. No proposal for address: {}'.format(address))\n",
      "/home/sragy/DISPyprob/pyprob/pyprob/nn/inference_network_feedforward.py:67: UserWarning: Using prior. No proposal for address: 520__forward___traverse___traverse_rec___traverse_rec___traverse_rec___traverse_rec___traverse_rec___traverse_rec___traverse_rec___traverse_rec__draw_decay_R__TruncatedExponential__16\n",
      "  warnings.warn('Using prior. No proposal for address: {}'.format(address))\n",
      "/home/sragy/DISPyprob/pyprob/pyprob/nn/inference_network_feedforward.py:67: UserWarning: Using prior. No proposal for address: 216__forward___traverse___traverse_rec___traverse_rec___traverse_rec___traverse_rec___traverse_rec___traverse_rec___traverse_rec___traverse_rec__?__Uniform__17\n",
      "  warnings.warn('Using prior. No proposal for address: {}'.format(address))\n",
      "/home/sragy/DISPyprob/pyprob/pyprob/nn/inference_network_feedforward.py:67: UserWarning: Using prior. No proposal for address: 260__forward___traverse___traverse_rec___traverse_rec___traverse_rec___traverse_rec___traverse_rec___traverse_rec___traverse_rec___traverse_rec__theta_CM_U__Uniform__17\n",
      "  warnings.warn('Using prior. No proposal for address: {}'.format(address))\n",
      "/home/sragy/DISPyprob/pyprob/pyprob/nn/inference_network_feedforward.py:67: UserWarning: Using prior. No proposal for address: 470__forward___traverse___traverse_rec___traverse_rec___traverse_rec___traverse_rec___traverse_rec___traverse_rec___traverse_rec___traverse_rec__draw_decay_L__TruncatedExponential__17\n",
      "  warnings.warn('Using prior. No proposal for address: {}'.format(address))\n",
      "/home/sragy/DISPyprob/pyprob/pyprob/nn/inference_network_feedforward.py:67: UserWarning: Using prior. No proposal for address: 520__forward___traverse___traverse_rec___traverse_rec___traverse_rec___traverse_rec___traverse_rec___traverse_rec___traverse_rec___traverse_rec__draw_decay_R__TruncatedExponential__17\n",
      "  warnings.warn('Using prior. No proposal for address: {}'.format(address))\n",
      "/home/sragy/DISPyprob/pyprob/pyprob/nn/inference_network_feedforward.py:67: UserWarning: Using prior. No proposal for address: 216__forward___traverse___traverse_rec___traverse_rec___traverse_rec___traverse_rec___traverse_rec___traverse_rec___traverse_rec__?__Uniform__18\n",
      "  warnings.warn('Using prior. No proposal for address: {}'.format(address))\n",
      "/home/sragy/DISPyprob/pyprob/pyprob/nn/inference_network_feedforward.py:67: UserWarning: Using prior. No proposal for address: 260__forward___traverse___traverse_rec___traverse_rec___traverse_rec___traverse_rec___traverse_rec___traverse_rec___traverse_rec__theta_CM_U__Uniform__18\n",
      "  warnings.warn('Using prior. No proposal for address: {}'.format(address))\n",
      "/home/sragy/DISPyprob/pyprob/pyprob/nn/inference_network_feedforward.py:67: UserWarning: Using prior. No proposal for address: 470__forward___traverse___traverse_rec___traverse_rec___traverse_rec___traverse_rec___traverse_rec___traverse_rec___traverse_rec__draw_decay_L__TruncatedExponential__18\n",
      "  warnings.warn('Using prior. No proposal for address: {}'.format(address))\n",
      "/home/sragy/DISPyprob/pyprob/pyprob/nn/inference_network_feedforward.py:67: UserWarning: Using prior. No proposal for address: 520__forward___traverse___traverse_rec___traverse_rec___traverse_rec___traverse_rec___traverse_rec___traverse_rec___traverse_rec__draw_decay_R__TruncatedExponential__18\n",
      "  warnings.warn('Using prior. No proposal for address: {}'.format(address))\n"
     ]
    },
    {
     "name": "stdout",
     "output_type": "stream",
     "text": [
      "0d:00:08:10 | 0d:00:09:07 | ##########---------- |  95/200 |  4.34 | 0.19       \r"
     ]
    },
    {
     "name": "stderr",
     "output_type": "stream",
     "text": [
      "/home/sragy/DISPyprob/pyprob/pyprob/nn/inference_network_feedforward.py:67: UserWarning: Using prior. No proposal for address: 216__forward___traverse___traverse_rec___traverse_rec___traverse_rec___traverse_rec___traverse_rec___traverse_rec___traverse_rec___traverse_rec___traverse_rec___traverse_rec___traverse_rec__?__Uniform__12\n",
      "  warnings.warn('Using prior. No proposal for address: {}'.format(address))\n",
      "/home/sragy/DISPyprob/pyprob/pyprob/nn/inference_network_feedforward.py:67: UserWarning: Using prior. No proposal for address: 260__forward___traverse___traverse_rec___traverse_rec___traverse_rec___traverse_rec___traverse_rec___traverse_rec___traverse_rec___traverse_rec___traverse_rec___traverse_rec___traverse_rec__theta_CM_U__Uniform__12\n",
      "  warnings.warn('Using prior. No proposal for address: {}'.format(address))\n",
      "/home/sragy/DISPyprob/pyprob/pyprob/nn/inference_network_feedforward.py:67: UserWarning: Using prior. No proposal for address: 470__forward___traverse___traverse_rec___traverse_rec___traverse_rec___traverse_rec___traverse_rec___traverse_rec___traverse_rec___traverse_rec___traverse_rec___traverse_rec___traverse_rec__draw_decay_L__TruncatedExponential__12\n",
      "  warnings.warn('Using prior. No proposal for address: {}'.format(address))\n",
      "/home/sragy/DISPyprob/pyprob/pyprob/nn/inference_network_feedforward.py:67: UserWarning: Using prior. No proposal for address: 520__forward___traverse___traverse_rec___traverse_rec___traverse_rec___traverse_rec___traverse_rec___traverse_rec___traverse_rec___traverse_rec___traverse_rec___traverse_rec___traverse_rec__draw_decay_R__TruncatedExponential__12\n",
      "  warnings.warn('Using prior. No proposal for address: {}'.format(address))\n"
     ]
    },
    {
     "name": "stdout",
     "output_type": "stream",
     "text": [
      "0d:00:08:36 | 0d:00:08:41 | ##########---------- | 100/200 |  4.34 | 0.19       \r"
     ]
    },
    {
     "name": "stderr",
     "output_type": "stream",
     "text": [
      "/home/sragy/DISPyprob/pyprob/pyprob/nn/inference_network_feedforward.py:67: UserWarning: Using prior. No proposal for address: 470__forward___traverse___traverse_rec___traverse_rec__draw_decay_L__TruncatedExponential__3\n",
      "  warnings.warn('Using prior. No proposal for address: {}'.format(address))\n"
     ]
    },
    {
     "name": "stdout",
     "output_type": "stream",
     "text": [
      "------------------------------########---------- | 104/200 |  4.34 | 0.19       \n"
     ]
    },
    {
     "name": "stderr",
     "output_type": "stream",
     "text": [
      "/home/sragy/DISPyprob/pyprob/pyprob/nn/inference_network_feedforward.py:67: UserWarning: Using prior. No proposal for address: 216__forward___traverse___traverse_rec___traverse_rec___traverse_rec___traverse_rec___traverse_rec___traverse_rec___traverse_rec___traverse_rec___traverse_rec___traverse_rec__?__Uniform__15\n",
      "  warnings.warn('Using prior. No proposal for address: {}'.format(address))\n",
      "/home/sragy/DISPyprob/pyprob/pyprob/nn/inference_network_feedforward.py:67: UserWarning: Using prior. No proposal for address: 260__forward___traverse___traverse_rec___traverse_rec___traverse_rec___traverse_rec___traverse_rec___traverse_rec___traverse_rec___traverse_rec___traverse_rec___traverse_rec__theta_CM_U__Uniform__15\n",
      "  warnings.warn('Using prior. No proposal for address: {}'.format(address))\n",
      "/home/sragy/DISPyprob/pyprob/pyprob/nn/inference_network_feedforward.py:67: UserWarning: Using prior. No proposal for address: 470__forward___traverse___traverse_rec___traverse_rec___traverse_rec___traverse_rec___traverse_rec___traverse_rec___traverse_rec___traverse_rec___traverse_rec___traverse_rec__draw_decay_L__TruncatedExponential__15\n",
      "  warnings.warn('Using prior. No proposal for address: {}'.format(address))\n",
      "/home/sragy/DISPyprob/pyprob/pyprob/nn/inference_network_feedforward.py:67: UserWarning: Using prior. No proposal for address: 520__forward___traverse___traverse_rec___traverse_rec___traverse_rec___traverse_rec___traverse_rec___traverse_rec___traverse_rec___traverse_rec___traverse_rec___traverse_rec__draw_decay_R__TruncatedExponential__15\n",
      "  warnings.warn('Using prior. No proposal for address: {}'.format(address))\n"
     ]
    },
    {
     "name": "stdout",
     "output_type": "stream",
     "text": [
      "0d:00:15:12 | 0d:00:01:24 | ##################-- | 184/200 |  6.08 | 0.20       \r"
     ]
    },
    {
     "name": "stderr",
     "output_type": "stream",
     "text": [
      "/home/sragy/DISPyprob/pyprob/pyprob/nn/inference_network_feedforward.py:67: UserWarning: Using prior. No proposal for address: 470__forward___traverse___traverse_rec___traverse_rec___traverse_rec__draw_decay_L__TruncatedExponential__5\n",
      "  warnings.warn('Using prior. No proposal for address: {}'.format(address))\n"
     ]
    },
    {
     "name": "stdout",
     "output_type": "stream",
     "text": [
      "0d:00:16:27 | 0d:00:00:04 | #################### | 200/200 |  6.61 | 0.20       \n"
     ]
    }
   ],
   "source": [
    "posterior_res = simulatorginkgo.posterior_results(num_traces = 200, inference_engine=InferenceEngine.DISTILLING_IMPORTANCE_SAMPLING,observe={'dummy':1})"
   ]
  },
  {
   "cell_type": "code",
   "execution_count": 5,
   "metadata": {},
   "outputs": [
    {
     "data": {
      "text/plain": [
       "(array([20., 14., 24., 24., 20., 22., 16., 21., 25., 14.]),\n",
       " array([0.06516027, 1.05668   , 2.0481997 , 3.0397193 , 4.031239  ,\n",
       "        5.0227585 , 6.0142784 , 7.0057983 , 7.997318  , 8.988837  ,\n",
       "        9.980357  ], dtype=float32),\n",
       " <BarContainer object of 10 artists>)"
      ]
     },
     "execution_count": 5,
     "metadata": {},
     "output_type": "execute_result"
    },
    {
     "data": {
      "image/png": "[encoded data removed]",
      "text/plain": [
       "<Figure size 432x288 with 1 Axes>"
      ]
     },
     "metadata": {
      "needs_background": "light"
     },
     "output_type": "display_data"
    }
   ],
   "source": [
    "res = np.array([i['Lambda'].detach().numpy() for i in posterior_res])\n",
    "plt.hist(res)"
   ]
  },
  {
   "cell_type": "markdown",
   "metadata": {},
   "source": [
    "# Prior results"
   ]
  },
  {
   "cell_type": "code",
   "execution_count": 6,
   "metadata": {},
   "outputs": [
    {
     "name": "stdout",
     "output_type": "stream",
     "text": [
      "Time spent  | Time remain.| Progress             | Trace     | ESS    | Traces/sec\n",
      "0d:00:02:43 | 0d:00:00:00 | #################### | 1000/1000 | 1000.00 | 6.12       \n"
     ]
    }
   ],
   "source": [
    "prior = simulatorginkgo.prior(num_traces=1000)"
   ]
  },
  {
   "cell_type": "code",
   "execution_count": 7,
   "metadata": {},
   "outputs": [],
   "source": [
    "def get_leaves(trace):\n",
    "    leaves = [j.value for j in trace.variables_observed]\n",
    "    return leaves"
   ]
  },
  {
   "cell_type": "code",
   "execution_count": 8,
   "metadata": {},
   "outputs": [],
   "source": [
    "distances = np.array([sinkhorn_t(obs_leaves, get_leaves(trace)).detach().numpy() for trace in prior])"
   ]
  },
  {
   "cell_type": "code",
   "execution_count": 9,
   "metadata": {},
   "outputs": [
    {
     "data": {
      "text/plain": [
       "(array([441., 223., 149.,  94.,  45.,  23.,  16.,   1.,   7.,   1.]),\n",
       " array([ 1.4324319,  7.5378056, 13.643179 , 19.748552 , 25.853926 ,\n",
       "        31.9593   , 38.064674 , 44.170048 , 50.27542  , 56.380795 ,\n",
       "        62.486168 ], dtype=float32),\n",
       " <BarContainer object of 10 artists>)"
      ]
     },
     "execution_count": 9,
     "metadata": {},
     "output_type": "execute_result"
    },
    {
     "data": {
      "image/png": "[encoded data removed]",
      "text/plain": [
       "<Figure size 432x288 with 1 Axes>"
      ]
     },
     "metadata": {
      "needs_background": "light"
     },
     "output_type": "display_data"
    }
   ],
   "source": [
    "plt.hist(distances)"
   ]
  },
  {
   "cell_type": "code",
   "execution_count": 22,
   "metadata": {},
   "outputs": [],
   "source": [
    "distances2 = np.array([ot_dist(obs_leaves, get_leaves(trace)).detach().numpy() for trace in prior])"
   ]
  },
  {
   "cell_type": "code",
   "execution_count": 23,
   "metadata": {},
   "outputs": [
    {
     "data": {
      "text/plain": [
       "(array([344., 247., 168.,  95.,  84.,  25.,  16.,  13.,   7.,   1.]),\n",
       " array([ 1.5837737,  7.9137654, 14.243757 , 20.573748 , 26.90374  ,\n",
       "        33.23373  , 39.563725 , 45.893715 , 52.223705 , 58.5537   ,\n",
       "        64.88369  ], dtype=float32),\n",
       " <BarContainer object of 10 artists>)"
      ]
     },
     "execution_count": 23,
     "metadata": {},
     "output_type": "execute_result"
    },
    {
     "data": {
      "image/png": "[encoded data removed]",
      "text/plain": [
       "<Figure size 432x288 with 1 Axes>"
      ]
     },
     "metadata": {
      "needs_background": "light"
     },
     "output_type": "display_data"
    }
   ],
   "source": [
    "plt.hist(distances2)"
   ]
  },
  {
   "cell_type": "code",
   "execution_count": 30,
   "metadata": {},
   "outputs": [],
   "source": [
    "def effective_sample_size(w):\n",
    "    \"\"\"Effective sample size of weights\n",
    "\n",
    "    `w` is a 1-dimensional tensor of weights (normalised or unnormalised)\"\"\"\n",
    "    sumw = torch.sum(w)\n",
    "    if sumw == 0:\n",
    "        return 0.\n",
    "\n",
    "    return (sumw ** 2.0) / torch.sum(w ** 2.0)\n",
    "\n",
    "\n",
    "def get_alternate_weights(sqd, old_weights, old_eps, new_eps):\n",
    "    \"\"\"Return weights appropriate to another `epsilon` value\"\"\"\n",
    "    # Interpretable version of the generic reweighting code:\n",
    "    # w = old_weights\n",
    "    # d = torch.sqrt(sqd)\n",
    "    # w /= torch.exp(-0.5*(d / old_eps)**2.)\n",
    "    # w *= torch.exp(-0.5*(d / new_eps)**2.)\n",
    "    # w /= sum(w)\n",
    "\n",
    "    w = old_weights.detach().clone()\n",
    "    if new_eps == 0:\n",
    "        # Remove existing distance-based weight contribution\n",
    "        w /= torch.exp(-0.5 * sqd / old_eps**2.)\n",
    "        # Replace with indicator function weight contribution\n",
    "        w = torch.where(\n",
    "            sqd==0.,\n",
    "            w,\n",
    "            torch.zeros_like(w)\n",
    "        )\n",
    "    else:\n",
    "        # An efficient way to do the generic case\n",
    "        a = 0.5 * (old_eps**-2. - new_eps**-2.)\n",
    "        w *= torch.exp(sqd*a)\n",
    "\n",
    "    sumw = torch.sum(w)\n",
    "    if sumw > 0.:\n",
    "        w /= sumw\n",
    "    return w\n",
    "\n",
    "\n",
    "def find_eps(sqd, old_weights, old_eps, target_ess, upper, bisection_its=50):\n",
    "        \"\"\"Return epsilon value <= `upper` giving ess matching `target_ess` as closely as possible\n",
    "\n",
    "        Bisection search is performed using `bisection_its` iterations\n",
    "        \"\"\"\n",
    "        w = get_alternate_weights(sqd, old_weights, old_eps, upper)\n",
    "        ess = effective_sample_size(w)\n",
    "        if ess < target_ess:\n",
    "            return upper\n",
    "\n",
    "        lower = 0.\n",
    "        for i in range(bisection_its):\n",
    "            eps_guess = (lower + upper) / 2.\n",
    "            w = get_alternate_weights(sqd, old_weights, old_eps, eps_guess)\n",
    "            ess = effective_sample_size(w)\n",
    "            if ess > target_ess:\n",
    "                upper = eps_guess\n",
    "            else:\n",
    "                lower = eps_guess\n",
    "\n",
    "        # Consider returning eps=0 if it's still an endpoint\n",
    "        if lower == 0.:\n",
    "            w = get_alternate_weights(sqd, old_weights, old_eps, 0.)\n",
    "            ess = effective_sample_size(w)\n",
    "            if ess > target_ess:\n",
    "                return 0.\n",
    "\n",
    "        # Be conservative by returning upper end of remaining range\n",
    "        return upper"
   ]
  },
  {
   "cell_type": "code",
   "execution_count": 41,
   "metadata": {},
   "outputs": [],
   "source": [
    "sqd1 = distances**2\n",
    "sqd2 = distances2**2"
   ]
  },
  {
   "cell_type": "code",
   "execution_count": 36,
   "metadata": {},
   "outputs": [
    {
     "data": {
      "text/plain": [
       "inf"
      ]
     },
     "execution_count": 36,
     "metadata": {},
     "output_type": "execute_result"
    }
   ],
   "source": [
    "find_eps(torch.tensor(sqd1), prior.weights, np.inf, 500, np.inf, bisection_its=50)"
   ]
  },
  {
   "cell_type": "code",
   "execution_count": 38,
   "metadata": {},
   "outputs": [
    {
     "data": {
      "text/plain": [
       "5.100730704432717"
      ]
     },
     "execution_count": 38,
     "metadata": {},
     "output_type": "execute_result"
    }
   ],
   "source": [
    "find_eps(torch.tensor(sqd1), prior.weights, np.inf, 500, max(sqd1), bisection_its=50)"
   ]
  },
  {
   "cell_type": "code",
   "execution_count": 42,
   "metadata": {},
   "outputs": [
    {
     "data": {
      "text/plain": [
       "6.522299582973038"
      ]
     },
     "execution_count": 42,
     "metadata": {},
     "output_type": "execute_result"
    }
   ],
   "source": [
    "find_eps(torch.tensor(sqd2), prior.weights, np.inf, 500, max(sqd2), bisection_its=50)"
   ]
  },
  {
   "cell_type": "code",
   "execution_count": 51,
   "metadata": {},
   "outputs": [
    {
     "name": "stderr",
     "output_type": "stream",
     "text": [
      "/tmp/ipykernel_257/2585904463.py:2: UserWarning: To copy construct from a tensor, it is recommended to use sourceTensor.clone().detach() or sourceTensor.clone().detach().requires_grad_(True), rather than torch.tensor(sourceTensor).\n",
      "  x = torch.tensor(x)\n"
     ]
    }
   ],
   "source": [
    "def sinkhorn_2(x,y):\n",
    "    x = torch.tensor(x)\n",
    "    y = torch.tensor(y)\n",
    "    return sinkhorn(x,y)\n",
    "post_distances = np.array([sinkhorn_2(obs_leaves, res['leaves']).detach().numpy() for res in posterior_res])"
   ]
  },
  {
   "cell_type": "code",
   "execution_count": 53,
   "metadata": {},
   "outputs": [
    {
     "data": {
      "text/plain": [
       "(array([113.,  86.,   0.,   0.,   0.,   0.,   0.,   0.,   0.,   1.]),\n",
       " array([ 2.29035166,  6.35891559, 10.42747952, 14.49604345, 18.56460738,\n",
       "        22.63317131, 26.70173524, 30.77029917, 34.8388631 , 38.90742703,\n",
       "        42.97599096]),\n",
       " <BarContainer object of 10 artists>)"
      ]
     },
     "execution_count": 53,
     "metadata": {},
     "output_type": "execute_result"
    },
    {
     "data": {
      "image/png": "[encoded data removed]",
      "text/plain": [
       "<Figure size 432x288 with 1 Axes>"
      ]
     },
     "metadata": {
      "needs_background": "light"
     },
     "output_type": "display_data"
    }
   ],
   "source": [
    "plt.hist(post_distances)"
   ]
  },
  {
   "cell_type": "code",
   "execution_count": 54,
   "metadata": {},
   "outputs": [
    {
     "name": "stdout",
     "output_type": "stream",
     "text": [
      "Time spent  | Time remain.| Progress             | Trace   | ESS   | Traces/sec\n",
      "0d:00:00:04 | 0d:00:15:24 | -------------------- |   1/200 |  1.00 | 0.22       \r"
     ]
    },
    {
     "name": "stderr",
     "output_type": "stream",
     "text": [
      "/home/sragy/DISPyprob/pyprob/pyprob/nn/inference_network_feedforward.py:67: UserWarning: Using prior. No proposal for address: 216__forward___traverse___traverse_rec___traverse_rec___traverse_rec___traverse_rec___traverse_rec___traverse_rec___traverse_rec___traverse_rec__?__Uniform__12\n",
      "  warnings.warn('Using prior. No proposal for address: {}'.format(address))\n",
      "/home/sragy/DISPyprob/pyprob/pyprob/nn/inference_network_feedforward.py:67: UserWarning: Using prior. No proposal for address: 260__forward___traverse___traverse_rec___traverse_rec___traverse_rec___traverse_rec___traverse_rec___traverse_rec___traverse_rec___traverse_rec__theta_CM_U__Uniform__12\n",
      "  warnings.warn('Using prior. No proposal for address: {}'.format(address))\n",
      "/home/sragy/DISPyprob/pyprob/pyprob/nn/inference_network_feedforward.py:67: UserWarning: Using prior. No proposal for address: 470__forward___traverse___traverse_rec___traverse_rec___traverse_rec___traverse_rec___traverse_rec___traverse_rec___traverse_rec___traverse_rec__draw_decay_L__TruncatedExponential__12\n",
      "  warnings.warn('Using prior. No proposal for address: {}'.format(address))\n",
      "/home/sragy/DISPyprob/pyprob/pyprob/nn/inference_network_feedforward.py:67: UserWarning: Using prior. No proposal for address: 520__forward___traverse___traverse_rec___traverse_rec___traverse_rec___traverse_rec___traverse_rec___traverse_rec___traverse_rec___traverse_rec__draw_decay_R__TruncatedExponential__12\n",
      "  warnings.warn('Using prior. No proposal for address: {}'.format(address))\n"
     ]
    },
    {
     "name": "stdout",
     "output_type": "stream",
     "text": [
      "0d:00:00:09 | 0d:00:16:14 | -------------------- |   2/200 |  1.00 | 0.20       \r"
     ]
    },
    {
     "name": "stderr",
     "output_type": "stream",
     "text": [
      "/home/sragy/DISPyprob/pyprob/pyprob/nn/inference_network_feedforward.py:67: UserWarning: Using prior. No proposal for address: 216__forward___traverse___traverse_rec___traverse_rec___traverse_rec___traverse_rec___traverse_rec___traverse_rec___traverse_rec__?__Uniform__14\n",
      "  warnings.warn('Using prior. No proposal for address: {}'.format(address))\n",
      "/home/sragy/DISPyprob/pyprob/pyprob/nn/inference_network_feedforward.py:67: UserWarning: Using prior. No proposal for address: 260__forward___traverse___traverse_rec___traverse_rec___traverse_rec___traverse_rec___traverse_rec___traverse_rec___traverse_rec__theta_CM_U__Uniform__14\n",
      "  warnings.warn('Using prior. No proposal for address: {}'.format(address))\n",
      "/home/sragy/DISPyprob/pyprob/pyprob/nn/inference_network_feedforward.py:67: UserWarning: Using prior. No proposal for address: 520__forward___traverse___traverse_rec___traverse_rec___traverse_rec___traverse_rec___traverse_rec___traverse_rec___traverse_rec__draw_decay_R__TruncatedExponential__14\n",
      "  warnings.warn('Using prior. No proposal for address: {}'.format(address))\n",
      "/home/sragy/DISPyprob/pyprob/pyprob/nn/inference_network_feedforward.py:67: UserWarning: Using prior. No proposal for address: 216__forward___traverse___traverse_rec___traverse_rec___traverse_rec___traverse_rec___traverse_rec___traverse_rec___traverse_rec__?__Uniform__15\n",
      "  warnings.warn('Using prior. No proposal for address: {}'.format(address))\n",
      "/home/sragy/DISPyprob/pyprob/pyprob/nn/inference_network_feedforward.py:67: UserWarning: Using prior. No proposal for address: 260__forward___traverse___traverse_rec___traverse_rec___traverse_rec___traverse_rec___traverse_rec___traverse_rec___traverse_rec__theta_CM_U__Uniform__15\n",
      "  warnings.warn('Using prior. No proposal for address: {}'.format(address))\n",
      "/home/sragy/DISPyprob/pyprob/pyprob/nn/inference_network_feedforward.py:67: UserWarning: Using prior. No proposal for address: 470__forward___traverse___traverse_rec___traverse_rec___traverse_rec___traverse_rec___traverse_rec___traverse_rec___traverse_rec__draw_decay_L__TruncatedExponential__15\n",
      "  warnings.warn('Using prior. No proposal for address: {}'.format(address))\n",
      "/home/sragy/DISPyprob/pyprob/pyprob/nn/inference_network_feedforward.py:67: UserWarning: Using prior. No proposal for address: 520__forward___traverse___traverse_rec___traverse_rec___traverse_rec___traverse_rec___traverse_rec___traverse_rec___traverse_rec__draw_decay_R__TruncatedExponential__15\n",
      "  warnings.warn('Using prior. No proposal for address: {}'.format(address))\n",
      "/home/sragy/DISPyprob/pyprob/pyprob/nn/inference_network_feedforward.py:67: UserWarning: Using prior. No proposal for address: 216__forward___traverse___traverse_rec___traverse_rec___traverse_rec___traverse_rec___traverse_rec___traverse_rec___traverse_rec___traverse_rec___traverse_rec___traverse_rec___traverse_rec___traverse_rec__?__Uniform__5\n",
      "  warnings.warn('Using prior. No proposal for address: {}'.format(address))\n",
      "/home/sragy/DISPyprob/pyprob/pyprob/nn/inference_network_feedforward.py:67: UserWarning: Using prior. No proposal for address: 260__forward___traverse___traverse_rec___traverse_rec___traverse_rec___traverse_rec___traverse_rec___traverse_rec___traverse_rec___traverse_rec___traverse_rec___traverse_rec___traverse_rec___traverse_rec__theta_CM_U__Uniform__5\n",
      "  warnings.warn('Using prior. No proposal for address: {}'.format(address))\n",
      "/home/sragy/DISPyprob/pyprob/pyprob/nn/inference_network_feedforward.py:67: UserWarning: Using prior. No proposal for address: 470__forward___traverse___traverse_rec___traverse_rec___traverse_rec___traverse_rec___traverse_rec___traverse_rec___traverse_rec___traverse_rec___traverse_rec___traverse_rec___traverse_rec___traverse_rec__draw_decay_L__TruncatedExponential__5\n",
      "  warnings.warn('Using prior. No proposal for address: {}'.format(address))\n",
      "/home/sragy/DISPyprob/pyprob/pyprob/nn/inference_network_feedforward.py:67: UserWarning: Using prior. No proposal for address: 520__forward___traverse___traverse_rec___traverse_rec___traverse_rec___traverse_rec___traverse_rec___traverse_rec___traverse_rec___traverse_rec___traverse_rec___traverse_rec___traverse_rec___traverse_rec__draw_decay_R__TruncatedExponential__5\n",
      "  warnings.warn('Using prior. No proposal for address: {}'.format(address))\n",
      "/home/sragy/DISPyprob/pyprob/pyprob/nn/inference_network_feedforward.py:67: UserWarning: Using prior. No proposal for address: 216__forward___traverse___traverse_rec___traverse_rec___traverse_rec___traverse_rec___traverse_rec___traverse_rec___traverse_rec___traverse_rec___traverse_rec___traverse_rec___traverse_rec___traverse_rec__?__Uniform__6\n",
      "  warnings.warn('Using prior. No proposal for address: {}'.format(address))\n",
      "/home/sragy/DISPyprob/pyprob/pyprob/nn/inference_network_feedforward.py:67: UserWarning: Using prior. No proposal for address: 260__forward___traverse___traverse_rec___traverse_rec___traverse_rec___traverse_rec___traverse_rec___traverse_rec___traverse_rec___traverse_rec___traverse_rec___traverse_rec___traverse_rec___traverse_rec__theta_CM_U__Uniform__6\n",
      "  warnings.warn('Using prior. No proposal for address: {}'.format(address))\n",
      "/home/sragy/DISPyprob/pyprob/pyprob/nn/inference_network_feedforward.py:67: UserWarning: Using prior. No proposal for address: 470__forward___traverse___traverse_rec___traverse_rec___traverse_rec___traverse_rec___traverse_rec___traverse_rec___traverse_rec___traverse_rec___traverse_rec___traverse_rec___traverse_rec___traverse_rec__draw_decay_L__TruncatedExponential__6\n",
      "  warnings.warn('Using prior. No proposal for address: {}'.format(address))\n",
      "/home/sragy/DISPyprob/pyprob/pyprob/nn/inference_network_feedforward.py:67: UserWarning: Using prior. No proposal for address: 520__forward___traverse___traverse_rec___traverse_rec___traverse_rec___traverse_rec___traverse_rec___traverse_rec___traverse_rec___traverse_rec___traverse_rec___traverse_rec___traverse_rec___traverse_rec__draw_decay_R__TruncatedExponential__6\n",
      "  warnings.warn('Using prior. No proposal for address: {}'.format(address))\n"
     ]
    },
    {
     "name": "stdout",
     "output_type": "stream",
     "text": [
      "0d:00:00:18 | 0d:00:15:18 | -------------------- |   4/200 |  1.00 | 0.21       \r"
     ]
    },
    {
     "name": "stderr",
     "output_type": "stream",
     "text": [
      "/home/sragy/DISPyprob/pyprob/pyprob/nn/inference_network_feedforward.py:67: UserWarning: Using prior. No proposal for address: 216__forward___traverse___traverse_rec___traverse_rec___traverse_rec___traverse_rec___traverse_rec___traverse_rec___traverse_rec___traverse_rec___traverse_rec___traverse_rec___traverse_rec___traverse_rec___traverse_rec__?__Uniform__4\n",
      "  warnings.warn('Using prior. No proposal for address: {}'.format(address))\n",
      "/home/sragy/DISPyprob/pyprob/pyprob/nn/inference_network_feedforward.py:67: UserWarning: Using prior. No proposal for address: 260__forward___traverse___traverse_rec___traverse_rec___traverse_rec___traverse_rec___traverse_rec___traverse_rec___traverse_rec___traverse_rec___traverse_rec___traverse_rec___traverse_rec___traverse_rec___traverse_rec__theta_CM_U__Uniform__4\n",
      "  warnings.warn('Using prior. No proposal for address: {}'.format(address))\n",
      "/home/sragy/DISPyprob/pyprob/pyprob/nn/inference_network_feedforward.py:67: UserWarning: Using prior. No proposal for address: 470__forward___traverse___traverse_rec___traverse_rec___traverse_rec___traverse_rec___traverse_rec___traverse_rec___traverse_rec___traverse_rec___traverse_rec___traverse_rec___traverse_rec___traverse_rec___traverse_rec__draw_decay_L__TruncatedExponential__4\n",
      "  warnings.warn('Using prior. No proposal for address: {}'.format(address))\n",
      "/home/sragy/DISPyprob/pyprob/pyprob/nn/inference_network_feedforward.py:67: UserWarning: Using prior. No proposal for address: 520__forward___traverse___traverse_rec___traverse_rec___traverse_rec___traverse_rec___traverse_rec___traverse_rec___traverse_rec___traverse_rec___traverse_rec___traverse_rec___traverse_rec___traverse_rec___traverse_rec__draw_decay_R__TruncatedExponential__4\n",
      "  warnings.warn('Using prior. No proposal for address: {}'.format(address))\n",
      "/home/sragy/DISPyprob/pyprob/pyprob/nn/inference_network_feedforward.py:67: UserWarning: Using prior. No proposal for address: 216__forward___traverse___traverse_rec___traverse_rec___traverse_rec___traverse_rec___traverse_rec___traverse_rec___traverse_rec___traverse_rec__?__Uniform__13\n",
      "  warnings.warn('Using prior. No proposal for address: {}'.format(address))\n",
      "/home/sragy/DISPyprob/pyprob/pyprob/nn/inference_network_feedforward.py:67: UserWarning: Using prior. No proposal for address: 260__forward___traverse___traverse_rec___traverse_rec___traverse_rec___traverse_rec___traverse_rec___traverse_rec___traverse_rec___traverse_rec__theta_CM_U__Uniform__13\n",
      "  warnings.warn('Using prior. No proposal for address: {}'.format(address))\n",
      "/home/sragy/DISPyprob/pyprob/pyprob/nn/inference_network_feedforward.py:67: UserWarning: Using prior. No proposal for address: 470__forward___traverse___traverse_rec___traverse_rec___traverse_rec___traverse_rec___traverse_rec___traverse_rec___traverse_rec___traverse_rec__draw_decay_L__TruncatedExponential__13\n",
      "  warnings.warn('Using prior. No proposal for address: {}'.format(address))\n",
      "/home/sragy/DISPyprob/pyprob/pyprob/nn/inference_network_feedforward.py:67: UserWarning: Using prior. No proposal for address: 520__forward___traverse___traverse_rec___traverse_rec___traverse_rec___traverse_rec___traverse_rec___traverse_rec___traverse_rec___traverse_rec__draw_decay_R__TruncatedExponential__13\n",
      "  warnings.warn('Using prior. No proposal for address: {}'.format(address))\n",
      "/home/sragy/DISPyprob/pyprob/pyprob/nn/inference_network_feedforward.py:67: UserWarning: Using prior. No proposal for address: 216__forward___traverse___traverse_rec___traverse_rec___traverse_rec___traverse_rec___traverse_rec___traverse_rec___traverse_rec___traverse_rec__?__Uniform__14\n",
      "  warnings.warn('Using prior. No proposal for address: {}'.format(address))\n",
      "/home/sragy/DISPyprob/pyprob/pyprob/nn/inference_network_feedforward.py:67: UserWarning: Using prior. No proposal for address: 260__forward___traverse___traverse_rec___traverse_rec___traverse_rec___traverse_rec___traverse_rec___traverse_rec___traverse_rec___traverse_rec__theta_CM_U__Uniform__14\n",
      "  warnings.warn('Using prior. No proposal for address: {}'.format(address))\n",
      "/home/sragy/DISPyprob/pyprob/pyprob/nn/inference_network_feedforward.py:67: UserWarning: Using prior. No proposal for address: 470__forward___traverse___traverse_rec___traverse_rec___traverse_rec___traverse_rec___traverse_rec___traverse_rec___traverse_rec___traverse_rec__draw_decay_L__TruncatedExponential__14\n",
      "  warnings.warn('Using prior. No proposal for address: {}'.format(address))\n",
      "/home/sragy/DISPyprob/pyprob/pyprob/nn/inference_network_feedforward.py:67: UserWarning: Using prior. No proposal for address: 520__forward___traverse___traverse_rec___traverse_rec___traverse_rec___traverse_rec___traverse_rec___traverse_rec___traverse_rec___traverse_rec__draw_decay_R__TruncatedExponential__14\n",
      "  warnings.warn('Using prior. No proposal for address: {}'.format(address))\n",
      "/home/sragy/DISPyprob/pyprob/pyprob/nn/inference_network_feedforward.py:67: UserWarning: Using prior. No proposal for address: 216__forward___traverse___traverse_rec___traverse_rec___traverse_rec___traverse_rec___traverse_rec___traverse_rec___traverse_rec___traverse_rec__?__Uniform__15\n",
      "  warnings.warn('Using prior. No proposal for address: {}'.format(address))\n",
      "/home/sragy/DISPyprob/pyprob/pyprob/nn/inference_network_feedforward.py:67: UserWarning: Using prior. No proposal for address: 260__forward___traverse___traverse_rec___traverse_rec___traverse_rec___traverse_rec___traverse_rec___traverse_rec___traverse_rec___traverse_rec__theta_CM_U__Uniform__15\n",
      "  warnings.warn('Using prior. No proposal for address: {}'.format(address))\n",
      "/home/sragy/DISPyprob/pyprob/pyprob/nn/inference_network_feedforward.py:67: UserWarning: Using prior. No proposal for address: 470__forward___traverse___traverse_rec___traverse_rec___traverse_rec___traverse_rec___traverse_rec___traverse_rec___traverse_rec___traverse_rec__draw_decay_L__TruncatedExponential__15\n",
      "  warnings.warn('Using prior. No proposal for address: {}'.format(address))\n",
      "/home/sragy/DISPyprob/pyprob/pyprob/nn/inference_network_feedforward.py:67: UserWarning: Using prior. No proposal for address: 520__forward___traverse___traverse_rec___traverse_rec___traverse_rec___traverse_rec___traverse_rec___traverse_rec___traverse_rec___traverse_rec__draw_decay_R__TruncatedExponential__15\n",
      "  warnings.warn('Using prior. No proposal for address: {}'.format(address))\n"
     ]
    },
    {
     "name": "stdout",
     "output_type": "stream",
     "text": [
      "0d:00:00:25 | 0d:00:16:30 | -------------------- |   5/200 |  1.00 | 0.20       \r"
     ]
    },
    {
     "name": "stderr",
     "output_type": "stream",
     "text": [
      "/home/sragy/DISPyprob/pyprob/pyprob/nn/inference_network_feedforward.py:67: UserWarning: Using prior. No proposal for address: 216__forward___traverse___traverse_rec___traverse_rec___traverse_rec___traverse_rec___traverse_rec___traverse_rec___traverse_rec___traverse_rec___traverse_rec___traverse_rec__?__Uniform__11\n",
      "  warnings.warn('Using prior. No proposal for address: {}'.format(address))\n",
      "/home/sragy/DISPyprob/pyprob/pyprob/nn/inference_network_feedforward.py:67: UserWarning: Using prior. No proposal for address: 260__forward___traverse___traverse_rec___traverse_rec___traverse_rec___traverse_rec___traverse_rec___traverse_rec___traverse_rec___traverse_rec___traverse_rec___traverse_rec__theta_CM_U__Uniform__11\n",
      "  warnings.warn('Using prior. No proposal for address: {}'.format(address))\n",
      "/home/sragy/DISPyprob/pyprob/pyprob/nn/inference_network_feedforward.py:67: UserWarning: Using prior. No proposal for address: 470__forward___traverse___traverse_rec___traverse_rec___traverse_rec___traverse_rec___traverse_rec___traverse_rec___traverse_rec___traverse_rec___traverse_rec___traverse_rec__draw_decay_L__TruncatedExponential__11\n",
      "  warnings.warn('Using prior. No proposal for address: {}'.format(address))\n",
      "/home/sragy/DISPyprob/pyprob/pyprob/nn/inference_network_feedforward.py:67: UserWarning: Using prior. No proposal for address: 520__forward___traverse___traverse_rec___traverse_rec___traverse_rec___traverse_rec___traverse_rec___traverse_rec___traverse_rec___traverse_rec___traverse_rec___traverse_rec__draw_decay_R__TruncatedExponential__11\n",
      "  warnings.warn('Using prior. No proposal for address: {}'.format(address))\n",
      "/home/sragy/DISPyprob/pyprob/pyprob/nn/inference_network_feedforward.py:67: UserWarning: Using prior. No proposal for address: 216__forward___traverse___traverse_rec___traverse_rec___traverse_rec___traverse_rec___traverse_rec___traverse_rec___traverse_rec___traverse_rec___traverse_rec___traverse_rec__?__Uniform__12\n",
      "  warnings.warn('Using prior. No proposal for address: {}'.format(address))\n",
      "/home/sragy/DISPyprob/pyprob/pyprob/nn/inference_network_feedforward.py:67: UserWarning: Using prior. No proposal for address: 260__forward___traverse___traverse_rec___traverse_rec___traverse_rec___traverse_rec___traverse_rec___traverse_rec___traverse_rec___traverse_rec___traverse_rec___traverse_rec__theta_CM_U__Uniform__12\n",
      "  warnings.warn('Using prior. No proposal for address: {}'.format(address))\n",
      "/home/sragy/DISPyprob/pyprob/pyprob/nn/inference_network_feedforward.py:67: UserWarning: Using prior. No proposal for address: 470__forward___traverse___traverse_rec___traverse_rec___traverse_rec___traverse_rec___traverse_rec___traverse_rec___traverse_rec___traverse_rec___traverse_rec___traverse_rec__draw_decay_L__TruncatedExponential__12\n",
      "  warnings.warn('Using prior. No proposal for address: {}'.format(address))\n",
      "/home/sragy/DISPyprob/pyprob/pyprob/nn/inference_network_feedforward.py:67: UserWarning: Using prior. No proposal for address: 520__forward___traverse___traverse_rec___traverse_rec___traverse_rec___traverse_rec___traverse_rec___traverse_rec___traverse_rec___traverse_rec___traverse_rec___traverse_rec__draw_decay_R__TruncatedExponential__12\n",
      "  warnings.warn('Using prior. No proposal for address: {}'.format(address))\n",
      "/home/sragy/DISPyprob/pyprob/pyprob/nn/inference_network_feedforward.py:67: UserWarning: Using prior. No proposal for address: 216__forward___traverse___traverse_rec___traverse_rec___traverse_rec___traverse_rec___traverse_rec___traverse_rec___traverse_rec___traverse_rec___traverse_rec___traverse_rec___traverse_rec___traverse_rec__?__Uniform__7\n",
      "  warnings.warn('Using prior. No proposal for address: {}'.format(address))\n",
      "/home/sragy/DISPyprob/pyprob/pyprob/nn/inference_network_feedforward.py:67: UserWarning: Using prior. No proposal for address: 260__forward___traverse___traverse_rec___traverse_rec___traverse_rec___traverse_rec___traverse_rec___traverse_rec___traverse_rec___traverse_rec___traverse_rec___traverse_rec___traverse_rec___traverse_rec__theta_CM_U__Uniform__7\n",
      "  warnings.warn('Using prior. No proposal for address: {}'.format(address))\n",
      "/home/sragy/DISPyprob/pyprob/pyprob/nn/inference_network_feedforward.py:67: UserWarning: Using prior. No proposal for address: 470__forward___traverse___traverse_rec___traverse_rec___traverse_rec___traverse_rec___traverse_rec___traverse_rec___traverse_rec___traverse_rec___traverse_rec___traverse_rec___traverse_rec___traverse_rec__draw_decay_L__TruncatedExponential__7\n",
      "  warnings.warn('Using prior. No proposal for address: {}'.format(address))\n",
      "/home/sragy/DISPyprob/pyprob/pyprob/nn/inference_network_feedforward.py:67: UserWarning: Using prior. No proposal for address: 520__forward___traverse___traverse_rec___traverse_rec___traverse_rec___traverse_rec___traverse_rec___traverse_rec___traverse_rec___traverse_rec___traverse_rec___traverse_rec___traverse_rec___traverse_rec__draw_decay_R__TruncatedExponential__7\n",
      "  warnings.warn('Using prior. No proposal for address: {}'.format(address))\n"
     ]
    },
    {
     "name": "stdout",
     "output_type": "stream",
     "text": [
      "0d:00:00:30 | 0d:00:16:39 | #------------------- |   6/200 |  1.00 | 0.20       \r"
     ]
    },
    {
     "name": "stderr",
     "output_type": "stream",
     "text": [
      "/home/sragy/DISPyprob/pyprob/pyprob/nn/inference_network_feedforward.py:67: UserWarning: Using prior. No proposal for address: 216__forward___traverse___traverse_rec___traverse_rec___traverse_rec___traverse_rec___traverse_rec___traverse_rec___traverse_rec___traverse_rec___traverse_rec___traverse_rec___traverse_rec__?__Uniform__10\n",
      "  warnings.warn('Using prior. No proposal for address: {}'.format(address))\n",
      "/home/sragy/DISPyprob/pyprob/pyprob/nn/inference_network_feedforward.py:67: UserWarning: Using prior. No proposal for address: 260__forward___traverse___traverse_rec___traverse_rec___traverse_rec___traverse_rec___traverse_rec___traverse_rec___traverse_rec___traverse_rec___traverse_rec___traverse_rec___traverse_rec__theta_CM_U__Uniform__10\n",
      "  warnings.warn('Using prior. No proposal for address: {}'.format(address))\n",
      "/home/sragy/DISPyprob/pyprob/pyprob/nn/inference_network_feedforward.py:67: UserWarning: Using prior. No proposal for address: 470__forward___traverse___traverse_rec___traverse_rec___traverse_rec___traverse_rec___traverse_rec___traverse_rec___traverse_rec___traverse_rec___traverse_rec___traverse_rec___traverse_rec__draw_decay_L__TruncatedExponential__10\n",
      "  warnings.warn('Using prior. No proposal for address: {}'.format(address))\n",
      "/home/sragy/DISPyprob/pyprob/pyprob/nn/inference_network_feedforward.py:67: UserWarning: Using prior. No proposal for address: 520__forward___traverse___traverse_rec___traverse_rec___traverse_rec___traverse_rec___traverse_rec___traverse_rec___traverse_rec___traverse_rec___traverse_rec___traverse_rec___traverse_rec__draw_decay_R__TruncatedExponential__10\n",
      "  warnings.warn('Using prior. No proposal for address: {}'.format(address))\n",
      "/home/sragy/DISPyprob/pyprob/pyprob/nn/inference_network_feedforward.py:67: UserWarning: Using prior. No proposal for address: 216__forward___traverse___traverse_rec___traverse_rec___traverse_rec___traverse_rec___traverse_rec___traverse_rec___traverse_rec___traverse_rec___traverse_rec___traverse_rec___traverse_rec__?__Uniform__11\n",
      "  warnings.warn('Using prior. No proposal for address: {}'.format(address))\n",
      "/home/sragy/DISPyprob/pyprob/pyprob/nn/inference_network_feedforward.py:67: UserWarning: Using prior. No proposal for address: 260__forward___traverse___traverse_rec___traverse_rec___traverse_rec___traverse_rec___traverse_rec___traverse_rec___traverse_rec___traverse_rec___traverse_rec___traverse_rec___traverse_rec__theta_CM_U__Uniform__11\n",
      "  warnings.warn('Using prior. No proposal for address: {}'.format(address))\n",
      "/home/sragy/DISPyprob/pyprob/pyprob/nn/inference_network_feedforward.py:67: UserWarning: Using prior. No proposal for address: 470__forward___traverse___traverse_rec___traverse_rec___traverse_rec___traverse_rec___traverse_rec___traverse_rec___traverse_rec___traverse_rec___traverse_rec___traverse_rec___traverse_rec__draw_decay_L__TruncatedExponential__11\n",
      "  warnings.warn('Using prior. No proposal for address: {}'.format(address))\n",
      "/home/sragy/DISPyprob/pyprob/pyprob/nn/inference_network_feedforward.py:67: UserWarning: Using prior. No proposal for address: 520__forward___traverse___traverse_rec___traverse_rec___traverse_rec___traverse_rec___traverse_rec___traverse_rec___traverse_rec___traverse_rec___traverse_rec___traverse_rec___traverse_rec__draw_decay_R__TruncatedExponential__11\n",
      "  warnings.warn('Using prior. No proposal for address: {}'.format(address))\n",
      "/home/sragy/DISPyprob/pyprob/pyprob/nn/inference_network_feedforward.py:67: UserWarning: Using prior. No proposal for address: 216__forward___traverse___traverse_rec___traverse_rec___traverse_rec___traverse_rec___traverse_rec___traverse_rec___traverse_rec___traverse_rec___traverse_rec___traverse_rec___traverse_rec__?__Uniform__12\n",
      "  warnings.warn('Using prior. No proposal for address: {}'.format(address))\n",
      "/home/sragy/DISPyprob/pyprob/pyprob/nn/inference_network_feedforward.py:67: UserWarning: Using prior. No proposal for address: 260__forward___traverse___traverse_rec___traverse_rec___traverse_rec___traverse_rec___traverse_rec___traverse_rec___traverse_rec___traverse_rec___traverse_rec___traverse_rec___traverse_rec__theta_CM_U__Uniform__12\n",
      "  warnings.warn('Using prior. No proposal for address: {}'.format(address))\n",
      "/home/sragy/DISPyprob/pyprob/pyprob/nn/inference_network_feedforward.py:67: UserWarning: Using prior. No proposal for address: 470__forward___traverse___traverse_rec___traverse_rec___traverse_rec___traverse_rec___traverse_rec___traverse_rec___traverse_rec___traverse_rec___traverse_rec___traverse_rec___traverse_rec__draw_decay_L__TruncatedExponential__12\n",
      "  warnings.warn('Using prior. No proposal for address: {}'.format(address))\n",
      "/home/sragy/DISPyprob/pyprob/pyprob/nn/inference_network_feedforward.py:67: UserWarning: Using prior. No proposal for address: 520__forward___traverse___traverse_rec___traverse_rec___traverse_rec___traverse_rec___traverse_rec___traverse_rec___traverse_rec___traverse_rec___traverse_rec___traverse_rec___traverse_rec__draw_decay_R__TruncatedExponential__12\n",
      "  warnings.warn('Using prior. No proposal for address: {}'.format(address))\n"
     ]
    },
    {
     "name": "stdout",
     "output_type": "stream",
     "text": [
      "0d:00:00:41 | 0d:00:16:39 | #------------------- |   8/200 |  1.00 | 0.19       \r"
     ]
    },
    {
     "name": "stderr",
     "output_type": "stream",
     "text": [
      "/home/sragy/DISPyprob/pyprob/pyprob/nn/inference_network_feedforward.py:67: UserWarning: Using prior. No proposal for address: 216__forward___traverse___traverse_rec___traverse_rec___traverse_rec___traverse_rec___traverse_rec___traverse_rec___traverse_rec___traverse_rec___traverse_rec___traverse_rec___traverse_rec___traverse_rec___traverse_rec___traverse_rec__?__Uniform__3\n",
      "  warnings.warn('Using prior. No proposal for address: {}'.format(address))\n",
      "/home/sragy/DISPyprob/pyprob/pyprob/nn/inference_network_feedforward.py:67: UserWarning: Using prior. No proposal for address: 260__forward___traverse___traverse_rec___traverse_rec___traverse_rec___traverse_rec___traverse_rec___traverse_rec___traverse_rec___traverse_rec___traverse_rec___traverse_rec___traverse_rec___traverse_rec___traverse_rec___traverse_rec__theta_CM_U__Uniform__3\n",
      "  warnings.warn('Using prior. No proposal for address: {}'.format(address))\n",
      "/home/sragy/DISPyprob/pyprob/pyprob/nn/inference_network_feedforward.py:67: UserWarning: Using prior. No proposal for address: 470__forward___traverse___traverse_rec___traverse_rec___traverse_rec___traverse_rec___traverse_rec___traverse_rec___traverse_rec___traverse_rec___traverse_rec___traverse_rec___traverse_rec___traverse_rec___traverse_rec___traverse_rec__draw_decay_L__TruncatedExponential__3\n",
      "  warnings.warn('Using prior. No proposal for address: {}'.format(address))\n",
      "/home/sragy/DISPyprob/pyprob/pyprob/nn/inference_network_feedforward.py:67: UserWarning: Using prior. No proposal for address: 520__forward___traverse___traverse_rec___traverse_rec___traverse_rec___traverse_rec___traverse_rec___traverse_rec___traverse_rec___traverse_rec___traverse_rec___traverse_rec___traverse_rec___traverse_rec___traverse_rec___traverse_rec__draw_decay_R__TruncatedExponential__3\n",
      "  warnings.warn('Using prior. No proposal for address: {}'.format(address))\n",
      "/home/sragy/DISPyprob/pyprob/pyprob/nn/inference_network_feedforward.py:67: UserWarning: Using prior. No proposal for address: 216__forward___traverse___traverse_rec___traverse_rec___traverse_rec___traverse_rec___traverse_rec___traverse_rec___traverse_rec___traverse_rec___traverse_rec___traverse_rec___traverse_rec___traverse_rec___traverse_rec___traverse_rec__?__Uniform__4\n",
      "  warnings.warn('Using prior. No proposal for address: {}'.format(address))\n",
      "/home/sragy/DISPyprob/pyprob/pyprob/nn/inference_network_feedforward.py:67: UserWarning: Using prior. No proposal for address: 260__forward___traverse___traverse_rec___traverse_rec___traverse_rec___traverse_rec___traverse_rec___traverse_rec___traverse_rec___traverse_rec___traverse_rec___traverse_rec___traverse_rec___traverse_rec___traverse_rec___traverse_rec__theta_CM_U__Uniform__4\n",
      "  warnings.warn('Using prior. No proposal for address: {}'.format(address))\n",
      "/home/sragy/DISPyprob/pyprob/pyprob/nn/inference_network_feedforward.py:67: UserWarning: Using prior. No proposal for address: 470__forward___traverse___traverse_rec___traverse_rec___traverse_rec___traverse_rec___traverse_rec___traverse_rec___traverse_rec___traverse_rec___traverse_rec___traverse_rec___traverse_rec___traverse_rec___traverse_rec___traverse_rec__draw_decay_L__TruncatedExponential__4\n",
      "  warnings.warn('Using prior. No proposal for address: {}'.format(address))\n",
      "/home/sragy/DISPyprob/pyprob/pyprob/nn/inference_network_feedforward.py:67: UserWarning: Using prior. No proposal for address: 520__forward___traverse___traverse_rec___traverse_rec___traverse_rec___traverse_rec___traverse_rec___traverse_rec___traverse_rec___traverse_rec___traverse_rec___traverse_rec___traverse_rec___traverse_rec___traverse_rec___traverse_rec__draw_decay_R__TruncatedExponential__4\n",
      "  warnings.warn('Using prior. No proposal for address: {}'.format(address))\n",
      "/home/sragy/DISPyprob/pyprob/pyprob/nn/inference_network_feedforward.py:67: UserWarning: Using prior. No proposal for address: 216__forward___traverse___traverse_rec___traverse_rec___traverse_rec___traverse_rec___traverse_rec___traverse_rec___traverse_rec___traverse_rec___traverse_rec__?__Uniform__14\n",
      "  warnings.warn('Using prior. No proposal for address: {}'.format(address))\n",
      "/home/sragy/DISPyprob/pyprob/pyprob/nn/inference_network_feedforward.py:67: UserWarning: Using prior. No proposal for address: 260__forward___traverse___traverse_rec___traverse_rec___traverse_rec___traverse_rec___traverse_rec___traverse_rec___traverse_rec___traverse_rec___traverse_rec__theta_CM_U__Uniform__14\n",
      "  warnings.warn('Using prior. No proposal for address: {}'.format(address))\n",
      "/home/sragy/DISPyprob/pyprob/pyprob/nn/inference_network_feedforward.py:67: UserWarning: Using prior. No proposal for address: 470__forward___traverse___traverse_rec___traverse_rec___traverse_rec___traverse_rec___traverse_rec___traverse_rec___traverse_rec___traverse_rec___traverse_rec__draw_decay_L__TruncatedExponential__14\n",
      "  warnings.warn('Using prior. No proposal for address: {}'.format(address))\n",
      "/home/sragy/DISPyprob/pyprob/pyprob/nn/inference_network_feedforward.py:67: UserWarning: Using prior. No proposal for address: 520__forward___traverse___traverse_rec___traverse_rec___traverse_rec___traverse_rec___traverse_rec___traverse_rec___traverse_rec___traverse_rec___traverse_rec__draw_decay_R__TruncatedExponential__14\n",
      "  warnings.warn('Using prior. No proposal for address: {}'.format(address))\n"
     ]
    },
    {
     "name": "stdout",
     "output_type": "stream",
     "text": [
      "0d:00:00:46 | 0d:00:16:37 | #------------------- |   9/200 |  1.00 | 0.19       \r"
     ]
    },
    {
     "name": "stderr",
     "output_type": "stream",
     "text": [
      "/home/sragy/DISPyprob/pyprob/pyprob/nn/inference_network_feedforward.py:67: UserWarning: Using prior. No proposal for address: 216__forward___traverse___traverse_rec___traverse_rec___traverse_rec___traverse_rec___traverse_rec___traverse_rec___traverse_rec___traverse_rec___traverse_rec___traverse_rec___traverse_rec___traverse_rec__?__Uniform__8\n",
      "  warnings.warn('Using prior. No proposal for address: {}'.format(address))\n",
      "/home/sragy/DISPyprob/pyprob/pyprob/nn/inference_network_feedforward.py:67: UserWarning: Using prior. No proposal for address: 260__forward___traverse___traverse_rec___traverse_rec___traverse_rec___traverse_rec___traverse_rec___traverse_rec___traverse_rec___traverse_rec___traverse_rec___traverse_rec___traverse_rec___traverse_rec__theta_CM_U__Uniform__8\n",
      "  warnings.warn('Using prior. No proposal for address: {}'.format(address))\n",
      "/home/sragy/DISPyprob/pyprob/pyprob/nn/inference_network_feedforward.py:67: UserWarning: Using prior. No proposal for address: 470__forward___traverse___traverse_rec___traverse_rec___traverse_rec___traverse_rec___traverse_rec___traverse_rec___traverse_rec___traverse_rec___traverse_rec___traverse_rec___traverse_rec___traverse_rec__draw_decay_L__TruncatedExponential__8\n",
      "  warnings.warn('Using prior. No proposal for address: {}'.format(address))\n",
      "/home/sragy/DISPyprob/pyprob/pyprob/nn/inference_network_feedforward.py:67: UserWarning: Using prior. No proposal for address: 520__forward___traverse___traverse_rec___traverse_rec___traverse_rec___traverse_rec___traverse_rec___traverse_rec___traverse_rec___traverse_rec___traverse_rec___traverse_rec___traverse_rec___traverse_rec__draw_decay_R__TruncatedExponential__8\n",
      "  warnings.warn('Using prior. No proposal for address: {}'.format(address))\n"
     ]
    },
    {
     "name": "stdout",
     "output_type": "stream",
     "text": [
      "0d:00:01:19 | 0d:00:15:19 | ##------------------ |  16/200 |  1.06 | 0.20       \r"
     ]
    },
    {
     "name": "stderr",
     "output_type": "stream",
     "text": [
      "/home/sragy/DISPyprob/pyprob/pyprob/nn/inference_network_feedforward.py:67: UserWarning: Using prior. No proposal for address: 216__forward___traverse___traverse_rec___traverse_rec___traverse_rec___traverse_rec___traverse_rec___traverse_rec___traverse_rec___traverse_rec___traverse_rec___traverse_rec___traverse_rec___traverse_rec___traverse_rec__?__Uniform__5\n",
      "  warnings.warn('Using prior. No proposal for address: {}'.format(address))\n",
      "/home/sragy/DISPyprob/pyprob/pyprob/nn/inference_network_feedforward.py:67: UserWarning: Using prior. No proposal for address: 260__forward___traverse___traverse_rec___traverse_rec___traverse_rec___traverse_rec___traverse_rec___traverse_rec___traverse_rec___traverse_rec___traverse_rec___traverse_rec___traverse_rec___traverse_rec___traverse_rec__theta_CM_U__Uniform__5\n",
      "  warnings.warn('Using prior. No proposal for address: {}'.format(address))\n",
      "/home/sragy/DISPyprob/pyprob/pyprob/nn/inference_network_feedforward.py:67: UserWarning: Using prior. No proposal for address: 470__forward___traverse___traverse_rec___traverse_rec___traverse_rec___traverse_rec___traverse_rec___traverse_rec___traverse_rec___traverse_rec___traverse_rec___traverse_rec___traverse_rec___traverse_rec___traverse_rec__draw_decay_L__TruncatedExponential__5\n",
      "  warnings.warn('Using prior. No proposal for address: {}'.format(address))\n",
      "/home/sragy/DISPyprob/pyprob/pyprob/nn/inference_network_feedforward.py:67: UserWarning: Using prior. No proposal for address: 520__forward___traverse___traverse_rec___traverse_rec___traverse_rec___traverse_rec___traverse_rec___traverse_rec___traverse_rec___traverse_rec___traverse_rec___traverse_rec___traverse_rec___traverse_rec___traverse_rec__draw_decay_R__TruncatedExponential__5\n",
      "  warnings.warn('Using prior. No proposal for address: {}'.format(address))\n"
     ]
    },
    {
     "name": "stdout",
     "output_type": "stream",
     "text": [
      "0d:00:01:38 | 0d:00:14:03 | ##------------------ |  21/200 |  1.09 | 0.21       \r"
     ]
    },
    {
     "name": "stderr",
     "output_type": "stream",
     "text": [
      "/home/sragy/DISPyprob/pyprob/pyprob/nn/inference_network_feedforward.py:67: UserWarning: Using prior. No proposal for address: 520__forward___traverse___traverse_rec___traverse_rec___traverse_rec__draw_decay_R__TruncatedExponential__5\n",
      "  warnings.warn('Using prior. No proposal for address: {}'.format(address))\n"
     ]
    },
    {
     "name": "stdout",
     "output_type": "stream",
     "text": [
      "0d:00:01:41 | 0d:00:13:42 | ##------------------ |  22/200 |  1.09 | 0.22       \r"
     ]
    },
    {
     "name": "stderr",
     "output_type": "stream",
     "text": [
      "/home/sragy/DISPyprob/pyprob/pyprob/nn/inference_network_feedforward.py:67: UserWarning: Using prior. No proposal for address: 216__forward___traverse___traverse_rec___traverse_rec___traverse_rec___traverse_rec___traverse_rec___traverse_rec___traverse_rec___traverse_rec___traverse_rec___traverse_rec___traverse_rec___traverse_rec___traverse_rec__?__Uniform__6\n",
      "  warnings.warn('Using prior. No proposal for address: {}'.format(address))\n",
      "/home/sragy/DISPyprob/pyprob/pyprob/nn/inference_network_feedforward.py:67: UserWarning: Using prior. No proposal for address: 260__forward___traverse___traverse_rec___traverse_rec___traverse_rec___traverse_rec___traverse_rec___traverse_rec___traverse_rec___traverse_rec___traverse_rec___traverse_rec___traverse_rec___traverse_rec___traverse_rec__theta_CM_U__Uniform__6\n",
      "  warnings.warn('Using prior. No proposal for address: {}'.format(address))\n",
      "/home/sragy/DISPyprob/pyprob/pyprob/nn/inference_network_feedforward.py:67: UserWarning: Using prior. No proposal for address: 470__forward___traverse___traverse_rec___traverse_rec___traverse_rec___traverse_rec___traverse_rec___traverse_rec___traverse_rec___traverse_rec___traverse_rec___traverse_rec___traverse_rec___traverse_rec___traverse_rec__draw_decay_L__TruncatedExponential__6\n",
      "  warnings.warn('Using prior. No proposal for address: {}'.format(address))\n",
      "/home/sragy/DISPyprob/pyprob/pyprob/nn/inference_network_feedforward.py:67: UserWarning: Using prior. No proposal for address: 520__forward___traverse___traverse_rec___traverse_rec___traverse_rec___traverse_rec___traverse_rec___traverse_rec___traverse_rec___traverse_rec___traverse_rec___traverse_rec___traverse_rec___traverse_rec___traverse_rec__draw_decay_R__TruncatedExponential__6\n",
      "  warnings.warn('Using prior. No proposal for address: {}'.format(address))\n"
     ]
    },
    {
     "name": "stdout",
     "output_type": "stream",
     "text": [
      "0d:00:01:54 | 0d:00:12:50 | ###----------------- |  26/200 |  1.09 | 0.23       \r"
     ]
    },
    {
     "name": "stderr",
     "output_type": "stream",
     "text": [
      "/home/sragy/DISPyprob/ToyJetsShower/showerSim/invMass_ginkgo.py:349: RuntimeWarning: invalid value encountered in sqrt\n",
      "  P = np.sqrt(tp)/2 * np.sqrt( 1 - 2 * (t_child+t_sib)/tp + (t_child - t_sib)**2 / tp**2 )\n"
     ]
    },
    {
     "name": "stdout",
     "output_type": "stream",
     "text": [
      "0d:00:01:56 | 0d:00:12:31 | ###----------------- |  27/200 |  1.18 | 0.23       \r"
     ]
    },
    {
     "name": "stderr",
     "output_type": "stream",
     "text": [
      "/home/sragy/DISPyprob/pyprob/pyprob/model.py:66: UserWarning: Encountered trace with nan, inf, or -inf log_weight. Discarding trace.\n",
      "  warnings.warn('Encountered trace with nan, inf, or -inf log_weight. Discarding trace.')\n"
     ]
    },
    {
     "name": "stdout",
     "output_type": "stream",
     "text": [
      "0d:00:02:16 | 0d:00:11:36 | ###----------------- |  33/200 |  1.91 | 0.24       \r"
     ]
    },
    {
     "name": "stderr",
     "output_type": "stream",
     "text": [
      "/home/sragy/DISPyprob/pyprob/pyprob/nn/inference_network_feedforward.py:67: UserWarning: Using prior. No proposal for address: 216__forward___traverse___traverse_rec___traverse_rec___traverse_rec___traverse_rec___traverse_rec___traverse_rec___traverse_rec__?__Uniform__16\n",
      "  warnings.warn('Using prior. No proposal for address: {}'.format(address))\n",
      "/home/sragy/DISPyprob/pyprob/pyprob/nn/inference_network_feedforward.py:67: UserWarning: Using prior. No proposal for address: 260__forward___traverse___traverse_rec___traverse_rec___traverse_rec___traverse_rec___traverse_rec___traverse_rec___traverse_rec__theta_CM_U__Uniform__16\n",
      "  warnings.warn('Using prior. No proposal for address: {}'.format(address))\n",
      "/home/sragy/DISPyprob/pyprob/pyprob/nn/inference_network_feedforward.py:67: UserWarning: Using prior. No proposal for address: 470__forward___traverse___traverse_rec___traverse_rec___traverse_rec___traverse_rec___traverse_rec___traverse_rec___traverse_rec__draw_decay_L__TruncatedExponential__16\n",
      "  warnings.warn('Using prior. No proposal for address: {}'.format(address))\n",
      "/home/sragy/DISPyprob/pyprob/pyprob/nn/inference_network_feedforward.py:67: UserWarning: Using prior. No proposal for address: 520__forward___traverse___traverse_rec___traverse_rec___traverse_rec___traverse_rec___traverse_rec___traverse_rec___traverse_rec__draw_decay_R__TruncatedExponential__16\n",
      "  warnings.warn('Using prior. No proposal for address: {}'.format(address))\n"
     ]
    },
    {
     "name": "stdout",
     "output_type": "stream",
     "text": [
      "0d:00:02:49 | 0d:00:11:23 | ####---------------- |  40/200 |  1.92 | 0.24       \r"
     ]
    },
    {
     "name": "stderr",
     "output_type": "stream",
     "text": [
      "/home/sragy/DISPyprob/pyprob/pyprob/nn/inference_network_feedforward.py:67: UserWarning: Using prior. No proposal for address: 216__forward___traverse___traverse_rec___traverse_rec___traverse_rec___traverse_rec___traverse_rec___traverse_rec___traverse_rec___traverse_rec___traverse_rec___traverse_rec___traverse_rec___traverse_rec___traverse_rec___traverse_rec___traverse_rec__?__Uniform__3\n",
      "  warnings.warn('Using prior. No proposal for address: {}'.format(address))\n",
      "/home/sragy/DISPyprob/pyprob/pyprob/nn/inference_network_feedforward.py:67: UserWarning: Using prior. No proposal for address: 260__forward___traverse___traverse_rec___traverse_rec___traverse_rec___traverse_rec___traverse_rec___traverse_rec___traverse_rec___traverse_rec___traverse_rec___traverse_rec___traverse_rec___traverse_rec___traverse_rec___traverse_rec___traverse_rec__theta_CM_U__Uniform__3\n",
      "  warnings.warn('Using prior. No proposal for address: {}'.format(address))\n",
      "/home/sragy/DISPyprob/pyprob/pyprob/nn/inference_network_feedforward.py:67: UserWarning: Using prior. No proposal for address: 470__forward___traverse___traverse_rec___traverse_rec___traverse_rec___traverse_rec___traverse_rec___traverse_rec___traverse_rec___traverse_rec___traverse_rec___traverse_rec___traverse_rec___traverse_rec___traverse_rec___traverse_rec___traverse_rec__draw_decay_L__TruncatedExponential__3\n",
      "  warnings.warn('Using prior. No proposal for address: {}'.format(address))\n",
      "/home/sragy/DISPyprob/pyprob/pyprob/nn/inference_network_feedforward.py:67: UserWarning: Using prior. No proposal for address: 520__forward___traverse___traverse_rec___traverse_rec___traverse_rec___traverse_rec___traverse_rec___traverse_rec___traverse_rec___traverse_rec___traverse_rec___traverse_rec___traverse_rec___traverse_rec___traverse_rec___traverse_rec___traverse_rec__draw_decay_R__TruncatedExponential__3\n",
      "  warnings.warn('Using prior. No proposal for address: {}'.format(address))\n",
      "/home/sragy/DISPyprob/pyprob/pyprob/nn/inference_network_feedforward.py:67: UserWarning: Using prior. No proposal for address: 216__forward___traverse___traverse_rec___traverse_rec___traverse_rec___traverse_rec___traverse_rec___traverse_rec___traverse_rec___traverse_rec___traverse_rec___traverse_rec___traverse_rec___traverse_rec___traverse_rec___traverse_rec___traverse_rec__?__Uniform__4\n",
      "  warnings.warn('Using prior. No proposal for address: {}'.format(address))\n",
      "/home/sragy/DISPyprob/pyprob/pyprob/nn/inference_network_feedforward.py:67: UserWarning: Using prior. No proposal for address: 260__forward___traverse___traverse_rec___traverse_rec___traverse_rec___traverse_rec___traverse_rec___traverse_rec___traverse_rec___traverse_rec___traverse_rec___traverse_rec___traverse_rec___traverse_rec___traverse_rec___traverse_rec___traverse_rec__theta_CM_U__Uniform__4\n",
      "  warnings.warn('Using prior. No proposal for address: {}'.format(address))\n",
      "/home/sragy/DISPyprob/pyprob/pyprob/nn/inference_network_feedforward.py:67: UserWarning: Using prior. No proposal for address: 470__forward___traverse___traverse_rec___traverse_rec___traverse_rec___traverse_rec___traverse_rec___traverse_rec___traverse_rec___traverse_rec___traverse_rec___traverse_rec___traverse_rec___traverse_rec___traverse_rec___traverse_rec___traverse_rec__draw_decay_L__TruncatedExponential__4\n",
      "  warnings.warn('Using prior. No proposal for address: {}'.format(address))\n",
      "/home/sragy/DISPyprob/pyprob/pyprob/nn/inference_network_feedforward.py:67: UserWarning: Using prior. No proposal for address: 520__forward___traverse___traverse_rec___traverse_rec___traverse_rec___traverse_rec___traverse_rec___traverse_rec___traverse_rec___traverse_rec___traverse_rec___traverse_rec___traverse_rec___traverse_rec___traverse_rec___traverse_rec___traverse_rec__draw_decay_R__TruncatedExponential__4\n",
      "  warnings.warn('Using prior. No proposal for address: {}'.format(address))\n",
      "/home/sragy/DISPyprob/pyprob/pyprob/nn/inference_network_feedforward.py:67: UserWarning: Using prior. No proposal for address: 216__forward___traverse___traverse_rec___traverse_rec___traverse_rec___traverse_rec___traverse_rec___traverse_rec___traverse_rec___traverse_rec___traverse_rec___traverse_rec___traverse_rec___traverse_rec___traverse_rec___traverse_rec___traverse_rec__?__Uniform__5\n",
      "  warnings.warn('Using prior. No proposal for address: {}'.format(address))\n",
      "/home/sragy/DISPyprob/pyprob/pyprob/nn/inference_network_feedforward.py:67: UserWarning: Using prior. No proposal for address: 260__forward___traverse___traverse_rec___traverse_rec___traverse_rec___traverse_rec___traverse_rec___traverse_rec___traverse_rec___traverse_rec___traverse_rec___traverse_rec___traverse_rec___traverse_rec___traverse_rec___traverse_rec___traverse_rec__theta_CM_U__Uniform__5\n",
      "  warnings.warn('Using prior. No proposal for address: {}'.format(address))\n",
      "/home/sragy/DISPyprob/pyprob/pyprob/nn/inference_network_feedforward.py:67: UserWarning: Using prior. No proposal for address: 470__forward___traverse___traverse_rec___traverse_rec___traverse_rec___traverse_rec___traverse_rec___traverse_rec___traverse_rec___traverse_rec___traverse_rec___traverse_rec___traverse_rec___traverse_rec___traverse_rec___traverse_rec___traverse_rec__draw_decay_L__TruncatedExponential__5\n",
      "  warnings.warn('Using prior. No proposal for address: {}'.format(address))\n",
      "/home/sragy/DISPyprob/pyprob/pyprob/nn/inference_network_feedforward.py:67: UserWarning: Using prior. No proposal for address: 520__forward___traverse___traverse_rec___traverse_rec___traverse_rec___traverse_rec___traverse_rec___traverse_rec___traverse_rec___traverse_rec___traverse_rec___traverse_rec___traverse_rec___traverse_rec___traverse_rec___traverse_rec___traverse_rec__draw_decay_R__TruncatedExponential__5\n",
      "  warnings.warn('Using prior. No proposal for address: {}'.format(address))\n"
     ]
    },
    {
     "name": "stdout",
     "output_type": "stream",
     "text": [
      "0d:00:02:57 | 0d:00:11:11 | ####---------------- |  42/200 |  1.92 | 0.24       \r"
     ]
    },
    {
     "name": "stderr",
     "output_type": "stream",
     "text": [
      "/home/sragy/DISPyprob/pyprob/pyprob/nn/inference_network_feedforward.py:67: UserWarning: Using prior. No proposal for address: 216__forward___traverse___traverse_rec___traverse_rec___traverse_rec___traverse_rec___traverse_rec___traverse_rec___traverse_rec___traverse_rec___traverse_rec___traverse_rec__?__Uniform__13\n",
      "  warnings.warn('Using prior. No proposal for address: {}'.format(address))\n",
      "/home/sragy/DISPyprob/pyprob/pyprob/nn/inference_network_feedforward.py:67: UserWarning: Using prior. No proposal for address: 260__forward___traverse___traverse_rec___traverse_rec___traverse_rec___traverse_rec___traverse_rec___traverse_rec___traverse_rec___traverse_rec___traverse_rec___traverse_rec__theta_CM_U__Uniform__13\n",
      "  warnings.warn('Using prior. No proposal for address: {}'.format(address))\n",
      "/home/sragy/DISPyprob/pyprob/pyprob/nn/inference_network_feedforward.py:67: UserWarning: Using prior. No proposal for address: 470__forward___traverse___traverse_rec___traverse_rec___traverse_rec___traverse_rec___traverse_rec___traverse_rec___traverse_rec___traverse_rec___traverse_rec___traverse_rec__draw_decay_L__TruncatedExponential__13\n",
      "  warnings.warn('Using prior. No proposal for address: {}'.format(address))\n",
      "/home/sragy/DISPyprob/pyprob/pyprob/nn/inference_network_feedforward.py:67: UserWarning: Using prior. No proposal for address: 520__forward___traverse___traverse_rec___traverse_rec___traverse_rec___traverse_rec___traverse_rec___traverse_rec___traverse_rec___traverse_rec___traverse_rec___traverse_rec__draw_decay_R__TruncatedExponential__13\n",
      "  warnings.warn('Using prior. No proposal for address: {}'.format(address))\n",
      "/home/sragy/DISPyprob/pyprob/pyprob/nn/inference_network_feedforward.py:67: UserWarning: Using prior. No proposal for address: 216__forward___traverse___traverse_rec___traverse_rec___traverse_rec___traverse_rec___traverse_rec___traverse_rec___traverse_rec___traverse_rec___traverse_rec___traverse_rec__?__Uniform__14\n",
      "  warnings.warn('Using prior. No proposal for address: {}'.format(address))\n",
      "/home/sragy/DISPyprob/pyprob/pyprob/nn/inference_network_feedforward.py:67: UserWarning: Using prior. No proposal for address: 260__forward___traverse___traverse_rec___traverse_rec___traverse_rec___traverse_rec___traverse_rec___traverse_rec___traverse_rec___traverse_rec___traverse_rec___traverse_rec__theta_CM_U__Uniform__14\n",
      "  warnings.warn('Using prior. No proposal for address: {}'.format(address))\n",
      "/home/sragy/DISPyprob/pyprob/pyprob/nn/inference_network_feedforward.py:67: UserWarning: Using prior. No proposal for address: 470__forward___traverse___traverse_rec___traverse_rec___traverse_rec___traverse_rec___traverse_rec___traverse_rec___traverse_rec___traverse_rec___traverse_rec___traverse_rec__draw_decay_L__TruncatedExponential__14\n",
      "  warnings.warn('Using prior. No proposal for address: {}'.format(address))\n",
      "/home/sragy/DISPyprob/pyprob/pyprob/nn/inference_network_feedforward.py:67: UserWarning: Using prior. No proposal for address: 520__forward___traverse___traverse_rec___traverse_rec___traverse_rec___traverse_rec___traverse_rec___traverse_rec___traverse_rec___traverse_rec___traverse_rec___traverse_rec__draw_decay_R__TruncatedExponential__14\n",
      "  warnings.warn('Using prior. No proposal for address: {}'.format(address))\n"
     ]
    },
    {
     "name": "stdout",
     "output_type": "stream",
     "text": [
      "0d:00:03:28 | 0d:00:09:43 | #####--------------- |  53/200 |  1.92 | 0.25       \r"
     ]
    },
    {
     "name": "stderr",
     "output_type": "stream",
     "text": [
      "/home/sragy/DISPyprob/pyprob/pyprob/nn/inference_network_feedforward.py:67: UserWarning: Using prior. No proposal for address: 470__forward___traverse___traverse_rec___traverse_rec___traverse_rec___traverse_rec___traverse_rec___traverse_rec___traverse_rec___traverse_rec___traverse_rec__draw_decay_L__TruncatedExponential__15\n",
      "  warnings.warn('Using prior. No proposal for address: {}'.format(address))\n",
      "/home/sragy/DISPyprob/pyprob/pyprob/nn/inference_network_feedforward.py:67: UserWarning: Using prior. No proposal for address: 216__forward___traverse___traverse_rec___traverse_rec___traverse_rec___traverse_rec___traverse_rec___traverse_rec___traverse_rec___traverse_rec___traverse_rec__?__Uniform__15\n",
      "  warnings.warn('Using prior. No proposal for address: {}'.format(address))\n",
      "/home/sragy/DISPyprob/pyprob/pyprob/nn/inference_network_feedforward.py:67: UserWarning: Using prior. No proposal for address: 260__forward___traverse___traverse_rec___traverse_rec___traverse_rec___traverse_rec___traverse_rec___traverse_rec___traverse_rec___traverse_rec___traverse_rec__theta_CM_U__Uniform__15\n",
      "  warnings.warn('Using prior. No proposal for address: {}'.format(address))\n",
      "/home/sragy/DISPyprob/pyprob/pyprob/nn/inference_network_feedforward.py:67: UserWarning: Using prior. No proposal for address: 470__forward___traverse___traverse_rec___traverse_rec___traverse_rec___traverse_rec___traverse_rec___traverse_rec___traverse_rec___traverse_rec___traverse_rec__draw_decay_L__TruncatedExponential__16\n",
      "  warnings.warn('Using prior. No proposal for address: {}'.format(address))\n",
      "/home/sragy/DISPyprob/pyprob/pyprob/nn/inference_network_feedforward.py:67: UserWarning: Using prior. No proposal for address: 520__forward___traverse___traverse_rec___traverse_rec___traverse_rec___traverse_rec___traverse_rec___traverse_rec___traverse_rec___traverse_rec___traverse_rec__draw_decay_R__TruncatedExponential__15\n",
      "  warnings.warn('Using prior. No proposal for address: {}'.format(address))\n"
     ]
    },
    {
     "name": "stdout",
     "output_type": "stream",
     "text": [
      "0d:00:03:32 | 0d:00:09:37 | #####--------------- |  54/200 |  1.92 | 0.25       \r"
     ]
    },
    {
     "name": "stderr",
     "output_type": "stream",
     "text": [
      "/home/sragy/DISPyprob/pyprob/pyprob/nn/inference_network_feedforward.py:67: UserWarning: Using prior. No proposal for address: 216__forward___traverse___traverse_rec___traverse_rec___traverse_rec___traverse_rec___traverse_rec___traverse_rec___traverse_rec___traverse_rec__?__Uniform__16\n",
      "  warnings.warn('Using prior. No proposal for address: {}'.format(address))\n",
      "/home/sragy/DISPyprob/pyprob/pyprob/nn/inference_network_feedforward.py:67: UserWarning: Using prior. No proposal for address: 260__forward___traverse___traverse_rec___traverse_rec___traverse_rec___traverse_rec___traverse_rec___traverse_rec___traverse_rec___traverse_rec__theta_CM_U__Uniform__16\n",
      "  warnings.warn('Using prior. No proposal for address: {}'.format(address))\n",
      "/home/sragy/DISPyprob/pyprob/pyprob/nn/inference_network_feedforward.py:67: UserWarning: Using prior. No proposal for address: 470__forward___traverse___traverse_rec___traverse_rec___traverse_rec___traverse_rec___traverse_rec___traverse_rec___traverse_rec___traverse_rec__draw_decay_L__TruncatedExponential__16\n",
      "  warnings.warn('Using prior. No proposal for address: {}'.format(address))\n",
      "/home/sragy/DISPyprob/pyprob/pyprob/nn/inference_network_feedforward.py:67: UserWarning: Using prior. No proposal for address: 520__forward___traverse___traverse_rec___traverse_rec___traverse_rec___traverse_rec___traverse_rec___traverse_rec___traverse_rec___traverse_rec__draw_decay_R__TruncatedExponential__16\n",
      "  warnings.warn('Using prior. No proposal for address: {}'.format(address))\n",
      "/home/sragy/DISPyprob/pyprob/pyprob/nn/inference_network_feedforward.py:67: UserWarning: Using prior. No proposal for address: 216__forward___traverse___traverse_rec___traverse_rec___traverse_rec___traverse_rec___traverse_rec___traverse_rec___traverse_rec___traverse_rec__?__Uniform__17\n",
      "  warnings.warn('Using prior. No proposal for address: {}'.format(address))\n",
      "/home/sragy/DISPyprob/pyprob/pyprob/nn/inference_network_feedforward.py:67: UserWarning: Using prior. No proposal for address: 260__forward___traverse___traverse_rec___traverse_rec___traverse_rec___traverse_rec___traverse_rec___traverse_rec___traverse_rec___traverse_rec__theta_CM_U__Uniform__17\n",
      "  warnings.warn('Using prior. No proposal for address: {}'.format(address))\n",
      "/home/sragy/DISPyprob/pyprob/pyprob/nn/inference_network_feedforward.py:67: UserWarning: Using prior. No proposal for address: 470__forward___traverse___traverse_rec___traverse_rec___traverse_rec___traverse_rec___traverse_rec___traverse_rec___traverse_rec___traverse_rec__draw_decay_L__TruncatedExponential__17\n",
      "  warnings.warn('Using prior. No proposal for address: {}'.format(address))\n",
      "/home/sragy/DISPyprob/pyprob/pyprob/nn/inference_network_feedforward.py:67: UserWarning: Using prior. No proposal for address: 520__forward___traverse___traverse_rec___traverse_rec___traverse_rec___traverse_rec___traverse_rec___traverse_rec___traverse_rec___traverse_rec__draw_decay_R__TruncatedExponential__17\n",
      "  warnings.warn('Using prior. No proposal for address: {}'.format(address))\n"
     ]
    },
    {
     "name": "stdout",
     "output_type": "stream",
     "text": [
      "0d:00:04:06 | 0d:00:08:47 | ######-------------- |  64/200 |  1.92 | 0.26       \r"
     ]
    },
    {
     "name": "stderr",
     "output_type": "stream",
     "text": [
      "/home/sragy/DISPyprob/pyprob/pyprob/nn/inference_network_feedforward.py:67: UserWarning: Using prior. No proposal for address: 216__forward___traverse___traverse_rec___traverse_rec___traverse_rec___traverse_rec___traverse_rec___traverse_rec___traverse_rec___traverse_rec___traverse_rec___traverse_rec___traverse_rec___traverse_rec___traverse_rec___traverse_rec__?__Uniform__5\n",
      "  warnings.warn('Using prior. No proposal for address: {}'.format(address))\n",
      "/home/sragy/DISPyprob/pyprob/pyprob/nn/inference_network_feedforward.py:67: UserWarning: Using prior. No proposal for address: 260__forward___traverse___traverse_rec___traverse_rec___traverse_rec___traverse_rec___traverse_rec___traverse_rec___traverse_rec___traverse_rec___traverse_rec___traverse_rec___traverse_rec___traverse_rec___traverse_rec___traverse_rec__theta_CM_U__Uniform__5\n",
      "  warnings.warn('Using prior. No proposal for address: {}'.format(address))\n",
      "/home/sragy/DISPyprob/pyprob/pyprob/nn/inference_network_feedforward.py:67: UserWarning: Using prior. No proposal for address: 470__forward___traverse___traverse_rec___traverse_rec___traverse_rec___traverse_rec___traverse_rec___traverse_rec___traverse_rec___traverse_rec___traverse_rec___traverse_rec___traverse_rec___traverse_rec___traverse_rec___traverse_rec__draw_decay_L__TruncatedExponential__5\n",
      "  warnings.warn('Using prior. No proposal for address: {}'.format(address))\n",
      "/home/sragy/DISPyprob/pyprob/pyprob/nn/inference_network_feedforward.py:67: UserWarning: Using prior. No proposal for address: 520__forward___traverse___traverse_rec___traverse_rec___traverse_rec___traverse_rec___traverse_rec___traverse_rec___traverse_rec___traverse_rec___traverse_rec___traverse_rec___traverse_rec___traverse_rec___traverse_rec___traverse_rec__draw_decay_R__TruncatedExponential__5\n",
      "  warnings.warn('Using prior. No proposal for address: {}'.format(address))\n"
     ]
    },
    {
     "name": "stdout",
     "output_type": "stream",
     "text": [
      "0d:00:04:12 | 0d:00:08:48 | ######-------------- |  65/200 |  1.92 | 0.26       \r"
     ]
    },
    {
     "name": "stderr",
     "output_type": "stream",
     "text": [
      "/home/sragy/DISPyprob/pyprob/pyprob/nn/inference_network_feedforward.py:67: UserWarning: Using prior. No proposal for address: 216__forward___traverse___traverse_rec___traverse_rec___traverse_rec___traverse_rec___traverse_rec___traverse_rec___traverse_rec___traverse_rec___traverse_rec___traverse_rec___traverse_rec___traverse_rec___traverse_rec__?__Uniform__7\n",
      "  warnings.warn('Using prior. No proposal for address: {}'.format(address))\n",
      "/home/sragy/DISPyprob/pyprob/pyprob/nn/inference_network_feedforward.py:67: UserWarning: Using prior. No proposal for address: 260__forward___traverse___traverse_rec___traverse_rec___traverse_rec___traverse_rec___traverse_rec___traverse_rec___traverse_rec___traverse_rec___traverse_rec___traverse_rec___traverse_rec___traverse_rec___traverse_rec__theta_CM_U__Uniform__7\n",
      "  warnings.warn('Using prior. No proposal for address: {}'.format(address))\n",
      "/home/sragy/DISPyprob/pyprob/pyprob/nn/inference_network_feedforward.py:67: UserWarning: Using prior. No proposal for address: 470__forward___traverse___traverse_rec___traverse_rec___traverse_rec___traverse_rec___traverse_rec___traverse_rec___traverse_rec___traverse_rec___traverse_rec___traverse_rec___traverse_rec___traverse_rec___traverse_rec__draw_decay_L__TruncatedExponential__7\n",
      "  warnings.warn('Using prior. No proposal for address: {}'.format(address))\n",
      "/home/sragy/DISPyprob/pyprob/pyprob/nn/inference_network_feedforward.py:67: UserWarning: Using prior. No proposal for address: 520__forward___traverse___traverse_rec___traverse_rec___traverse_rec___traverse_rec___traverse_rec___traverse_rec___traverse_rec___traverse_rec___traverse_rec___traverse_rec___traverse_rec___traverse_rec___traverse_rec__draw_decay_R__TruncatedExponential__7\n",
      "  warnings.warn('Using prior. No proposal for address: {}'.format(address))\n",
      "/home/sragy/DISPyprob/pyprob/pyprob/nn/inference_network_feedforward.py:67: UserWarning: Using prior. No proposal for address: 216__forward___traverse___traverse_rec___traverse_rec___traverse_rec___traverse_rec___traverse_rec___traverse_rec___traverse_rec___traverse_rec___traverse_rec___traverse_rec___traverse_rec___traverse_rec__?__Uniform__9\n",
      "  warnings.warn('Using prior. No proposal for address: {}'.format(address))\n",
      "/home/sragy/DISPyprob/pyprob/pyprob/nn/inference_network_feedforward.py:67: UserWarning: Using prior. No proposal for address: 260__forward___traverse___traverse_rec___traverse_rec___traverse_rec___traverse_rec___traverse_rec___traverse_rec___traverse_rec___traverse_rec___traverse_rec___traverse_rec___traverse_rec___traverse_rec__theta_CM_U__Uniform__9\n",
      "  warnings.warn('Using prior. No proposal for address: {}'.format(address))\n",
      "/home/sragy/DISPyprob/pyprob/pyprob/nn/inference_network_feedforward.py:67: UserWarning: Using prior. No proposal for address: 470__forward___traverse___traverse_rec___traverse_rec___traverse_rec___traverse_rec___traverse_rec___traverse_rec___traverse_rec___traverse_rec___traverse_rec___traverse_rec___traverse_rec___traverse_rec__draw_decay_L__TruncatedExponential__9\n",
      "  warnings.warn('Using prior. No proposal for address: {}'.format(address))\n",
      "/home/sragy/DISPyprob/pyprob/pyprob/nn/inference_network_feedforward.py:67: UserWarning: Using prior. No proposal for address: 520__forward___traverse___traverse_rec___traverse_rec___traverse_rec___traverse_rec___traverse_rec___traverse_rec___traverse_rec___traverse_rec___traverse_rec___traverse_rec___traverse_rec___traverse_rec__draw_decay_R__TruncatedExponential__9\n",
      "  warnings.warn('Using prior. No proposal for address: {}'.format(address))\n",
      "/home/sragy/DISPyprob/pyprob/pyprob/nn/inference_network_feedforward.py:67: UserWarning: Using prior. No proposal for address: 216__forward___traverse___traverse_rec___traverse_rec___traverse_rec___traverse_rec___traverse_rec___traverse_rec___traverse_rec___traverse_rec___traverse_rec___traverse_rec___traverse_rec___traverse_rec__?__Uniform__10\n",
      "  warnings.warn('Using prior. No proposal for address: {}'.format(address))\n",
      "/home/sragy/DISPyprob/pyprob/pyprob/nn/inference_network_feedforward.py:67: UserWarning: Using prior. No proposal for address: 260__forward___traverse___traverse_rec___traverse_rec___traverse_rec___traverse_rec___traverse_rec___traverse_rec___traverse_rec___traverse_rec___traverse_rec___traverse_rec___traverse_rec___traverse_rec__theta_CM_U__Uniform__10\n",
      "  warnings.warn('Using prior. No proposal for address: {}'.format(address))\n",
      "/home/sragy/DISPyprob/pyprob/pyprob/nn/inference_network_feedforward.py:67: UserWarning: Using prior. No proposal for address: 470__forward___traverse___traverse_rec___traverse_rec___traverse_rec___traverse_rec___traverse_rec___traverse_rec___traverse_rec___traverse_rec___traverse_rec___traverse_rec___traverse_rec___traverse_rec__draw_decay_L__TruncatedExponential__10\n",
      "  warnings.warn('Using prior. No proposal for address: {}'.format(address))\n",
      "/home/sragy/DISPyprob/pyprob/pyprob/nn/inference_network_feedforward.py:67: UserWarning: Using prior. No proposal for address: 520__forward___traverse___traverse_rec___traverse_rec___traverse_rec___traverse_rec___traverse_rec___traverse_rec___traverse_rec___traverse_rec___traverse_rec___traverse_rec___traverse_rec___traverse_rec__draw_decay_R__TruncatedExponential__10\n",
      "  warnings.warn('Using prior. No proposal for address: {}'.format(address))\n",
      "/home/sragy/DISPyprob/pyprob/pyprob/nn/inference_network_feedforward.py:67: UserWarning: Using prior. No proposal for address: 216__forward___traverse___traverse_rec___traverse_rec___traverse_rec___traverse_rec___traverse_rec___traverse_rec___traverse_rec___traverse_rec___traverse_rec___traverse_rec___traverse_rec___traverse_rec___traverse_rec__?__Uniform__8\n",
      "  warnings.warn('Using prior. No proposal for address: {}'.format(address))\n",
      "/home/sragy/DISPyprob/pyprob/pyprob/nn/inference_network_feedforward.py:67: UserWarning: Using prior. No proposal for address: 260__forward___traverse___traverse_rec___traverse_rec___traverse_rec___traverse_rec___traverse_rec___traverse_rec___traverse_rec___traverse_rec___traverse_rec___traverse_rec___traverse_rec___traverse_rec___traverse_rec__theta_CM_U__Uniform__8\n",
      "  warnings.warn('Using prior. No proposal for address: {}'.format(address))\n",
      "/home/sragy/DISPyprob/pyprob/pyprob/nn/inference_network_feedforward.py:67: UserWarning: Using prior. No proposal for address: 470__forward___traverse___traverse_rec___traverse_rec___traverse_rec___traverse_rec___traverse_rec___traverse_rec___traverse_rec___traverse_rec___traverse_rec___traverse_rec___traverse_rec___traverse_rec___traverse_rec__draw_decay_L__TruncatedExponential__8\n",
      "  warnings.warn('Using prior. No proposal for address: {}'.format(address))\n",
      "/home/sragy/DISPyprob/pyprob/pyprob/nn/inference_network_feedforward.py:67: UserWarning: Using prior. No proposal for address: 520__forward___traverse___traverse_rec___traverse_rec___traverse_rec___traverse_rec___traverse_rec___traverse_rec___traverse_rec___traverse_rec___traverse_rec___traverse_rec___traverse_rec___traverse_rec___traverse_rec__draw_decay_R__TruncatedExponential__8\n",
      "  warnings.warn('Using prior. No proposal for address: {}'.format(address))\n",
      "/home/sragy/DISPyprob/pyprob/pyprob/nn/inference_network_feedforward.py:67: UserWarning: Using prior. No proposal for address: 216__forward___traverse___traverse_rec___traverse_rec___traverse_rec___traverse_rec___traverse_rec___traverse_rec___traverse_rec___traverse_rec___traverse_rec___traverse_rec___traverse_rec___traverse_rec__?__Uniform__11\n",
      "  warnings.warn('Using prior. No proposal for address: {}'.format(address))\n",
      "/home/sragy/DISPyprob/pyprob/pyprob/nn/inference_network_feedforward.py:67: UserWarning: Using prior. No proposal for address: 260__forward___traverse___traverse_rec___traverse_rec___traverse_rec___traverse_rec___traverse_rec___traverse_rec___traverse_rec___traverse_rec___traverse_rec___traverse_rec___traverse_rec___traverse_rec__theta_CM_U__Uniform__11\n",
      "  warnings.warn('Using prior. No proposal for address: {}'.format(address))\n",
      "/home/sragy/DISPyprob/pyprob/pyprob/nn/inference_network_feedforward.py:67: UserWarning: Using prior. No proposal for address: 470__forward___traverse___traverse_rec___traverse_rec___traverse_rec___traverse_rec___traverse_rec___traverse_rec___traverse_rec___traverse_rec___traverse_rec___traverse_rec___traverse_rec___traverse_rec__draw_decay_L__TruncatedExponential__11\n",
      "  warnings.warn('Using prior. No proposal for address: {}'.format(address))\n",
      "/home/sragy/DISPyprob/pyprob/pyprob/nn/inference_network_feedforward.py:67: UserWarning: Using prior. No proposal for address: 520__forward___traverse___traverse_rec___traverse_rec___traverse_rec___traverse_rec___traverse_rec___traverse_rec___traverse_rec___traverse_rec___traverse_rec___traverse_rec___traverse_rec___traverse_rec__draw_decay_R__TruncatedExponential__11\n",
      "  warnings.warn('Using prior. No proposal for address: {}'.format(address))\n"
     ]
    },
    {
     "name": "stdout",
     "output_type": "stream",
     "text": [
      "------------------------------#######----------- |  88/200 |  1.97 | 0.27       \n"
     ]
    },
    {
     "name": "stderr",
     "output_type": "stream",
     "text": [
      "/home/sragy/DISPyprob/ToyJetsShower/showerSim/invMass_ginkgo.py:303: RuntimeWarning: invalid value encountered in sqrt\n",
      "  logger.debug(f\"pR inv mass from p^2 in lab  frame: {np.sqrt(pR_mu[0] ** 2 - np.linalg.norm(pR_mu[1::]) ** 2)}\")\n"
     ]
    },
    {
     "name": "stdout",
     "output_type": "stream",
     "text": [
      "0d:00:06:28 | 0d:00:05:48 | ###########--------- | 106/200 |  2.33 | 0.27       \r"
     ]
    },
    {
     "name": "stderr",
     "output_type": "stream",
     "text": [
      "/home/sragy/DISPyprob/pyprob/pyprob/nn/inference_network_feedforward.py:67: UserWarning: Using prior. No proposal for address: 216__forward___traverse___traverse_rec___traverse_rec___traverse_rec___traverse_rec___traverse_rec___traverse_rec___traverse_rec___traverse_rec___traverse_rec___traverse_rec__?__Uniform__15\n",
      "  warnings.warn('Using prior. No proposal for address: {}'.format(address))\n",
      "/home/sragy/DISPyprob/pyprob/pyprob/nn/inference_network_feedforward.py:67: UserWarning: Using prior. No proposal for address: 260__forward___traverse___traverse_rec___traverse_rec___traverse_rec___traverse_rec___traverse_rec___traverse_rec___traverse_rec___traverse_rec___traverse_rec___traverse_rec__theta_CM_U__Uniform__15\n",
      "  warnings.warn('Using prior. No proposal for address: {}'.format(address))\n",
      "/home/sragy/DISPyprob/pyprob/pyprob/nn/inference_network_feedforward.py:67: UserWarning: Using prior. No proposal for address: 470__forward___traverse___traverse_rec___traverse_rec___traverse_rec___traverse_rec___traverse_rec___traverse_rec___traverse_rec___traverse_rec___traverse_rec___traverse_rec__draw_decay_L__TruncatedExponential__15\n",
      "  warnings.warn('Using prior. No proposal for address: {}'.format(address))\n",
      "/home/sragy/DISPyprob/pyprob/pyprob/nn/inference_network_feedforward.py:67: UserWarning: Using prior. No proposal for address: 520__forward___traverse___traverse_rec___traverse_rec___traverse_rec___traverse_rec___traverse_rec___traverse_rec___traverse_rec___traverse_rec___traverse_rec___traverse_rec__draw_decay_R__TruncatedExponential__15\n",
      "  warnings.warn('Using prior. No proposal for address: {}'.format(address))\n"
     ]
    },
    {
     "name": "stdout",
     "output_type": "stream",
     "text": [
      "0d:00:06:31 | 0d:00:05:44 | ###########--------- | 107/200 |  2.33 | 0.27       \r"
     ]
    },
    {
     "name": "stderr",
     "output_type": "stream",
     "text": [
      "/home/sragy/DISPyprob/pyprob/pyprob/nn/inference_network_feedforward.py:67: UserWarning: Using prior. No proposal for address: 216__forward___traverse___traverse_rec___traverse_rec___traverse_rec___traverse_rec___traverse_rec___traverse_rec___traverse_rec___traverse_rec___traverse_rec___traverse_rec__?__Uniform__16\n",
      "  warnings.warn('Using prior. No proposal for address: {}'.format(address))\n",
      "/home/sragy/DISPyprob/pyprob/pyprob/nn/inference_network_feedforward.py:67: UserWarning: Using prior. No proposal for address: 260__forward___traverse___traverse_rec___traverse_rec___traverse_rec___traverse_rec___traverse_rec___traverse_rec___traverse_rec___traverse_rec___traverse_rec___traverse_rec__theta_CM_U__Uniform__16\n",
      "  warnings.warn('Using prior. No proposal for address: {}'.format(address))\n",
      "/home/sragy/DISPyprob/pyprob/pyprob/nn/inference_network_feedforward.py:67: UserWarning: Using prior. No proposal for address: 470__forward___traverse___traverse_rec___traverse_rec___traverse_rec___traverse_rec___traverse_rec___traverse_rec___traverse_rec___traverse_rec___traverse_rec___traverse_rec__draw_decay_L__TruncatedExponential__16\n",
      "  warnings.warn('Using prior. No proposal for address: {}'.format(address))\n",
      "/home/sragy/DISPyprob/pyprob/pyprob/nn/inference_network_feedforward.py:67: UserWarning: Using prior. No proposal for address: 520__forward___traverse___traverse_rec___traverse_rec___traverse_rec___traverse_rec___traverse_rec___traverse_rec___traverse_rec___traverse_rec___traverse_rec___traverse_rec__draw_decay_R__TruncatedExponential__16\n",
      "  warnings.warn('Using prior. No proposal for address: {}'.format(address))\n",
      "/home/sragy/DISPyprob/pyprob/pyprob/nn/inference_network_feedforward.py:67: UserWarning: Using prior. No proposal for address: 216__forward___traverse___traverse_rec___traverse_rec___traverse_rec___traverse_rec___traverse_rec___traverse_rec___traverse_rec___traverse_rec___traverse_rec__?__Uniform__16\n",
      "  warnings.warn('Using prior. No proposal for address: {}'.format(address))\n",
      "/home/sragy/DISPyprob/pyprob/pyprob/nn/inference_network_feedforward.py:67: UserWarning: Using prior. No proposal for address: 260__forward___traverse___traverse_rec___traverse_rec___traverse_rec___traverse_rec___traverse_rec___traverse_rec___traverse_rec___traverse_rec___traverse_rec__theta_CM_U__Uniform__16\n",
      "  warnings.warn('Using prior. No proposal for address: {}'.format(address))\n",
      "/home/sragy/DISPyprob/pyprob/pyprob/nn/inference_network_feedforward.py:67: UserWarning: Using prior. No proposal for address: 520__forward___traverse___traverse_rec___traverse_rec___traverse_rec___traverse_rec___traverse_rec___traverse_rec___traverse_rec___traverse_rec___traverse_rec__draw_decay_R__TruncatedExponential__16\n",
      "  warnings.warn('Using prior. No proposal for address: {}'.format(address))\n",
      "/home/sragy/DISPyprob/pyprob/pyprob/nn/inference_network_feedforward.py:67: UserWarning: Using prior. No proposal for address: 216__forward___traverse___traverse_rec___traverse_rec___traverse_rec___traverse_rec___traverse_rec___traverse_rec___traverse_rec___traverse_rec___traverse_rec___traverse_rec__?__Uniform__17\n",
      "  warnings.warn('Using prior. No proposal for address: {}'.format(address))\n",
      "/home/sragy/DISPyprob/pyprob/pyprob/nn/inference_network_feedforward.py:67: UserWarning: Using prior. No proposal for address: 260__forward___traverse___traverse_rec___traverse_rec___traverse_rec___traverse_rec___traverse_rec___traverse_rec___traverse_rec___traverse_rec___traverse_rec___traverse_rec__theta_CM_U__Uniform__17\n",
      "  warnings.warn('Using prior. No proposal for address: {}'.format(address))\n",
      "/home/sragy/DISPyprob/pyprob/pyprob/nn/inference_network_feedforward.py:67: UserWarning: Using prior. No proposal for address: 470__forward___traverse___traverse_rec___traverse_rec___traverse_rec___traverse_rec___traverse_rec___traverse_rec___traverse_rec___traverse_rec___traverse_rec___traverse_rec__draw_decay_L__TruncatedExponential__17\n",
      "  warnings.warn('Using prior. No proposal for address: {}'.format(address))\n",
      "/home/sragy/DISPyprob/pyprob/pyprob/nn/inference_network_feedforward.py:67: UserWarning: Using prior. No proposal for address: 520__forward___traverse___traverse_rec___traverse_rec___traverse_rec___traverse_rec___traverse_rec___traverse_rec___traverse_rec___traverse_rec___traverse_rec___traverse_rec__draw_decay_R__TruncatedExponential__17\n",
      "  warnings.warn('Using prior. No proposal for address: {}'.format(address))\n"
     ]
    },
    {
     "name": "stdout",
     "output_type": "stream",
     "text": [
      "0d:00:07:26 | 0d:00:04:25 | #############------- | 126/200 |  2.49 | 0.28       \r"
     ]
    },
    {
     "name": "stderr",
     "output_type": "stream",
     "text": [
      "/home/sragy/DISPyprob/pyprob/pyprob/nn/inference_network_feedforward.py:67: UserWarning: Using prior. No proposal for address: 470__forward___traverse___traverse_rec___traverse_rec__draw_decay_L__TruncatedExponential__3\n",
      "  warnings.warn('Using prior. No proposal for address: {}'.format(address))\n"
     ]
    },
    {
     "name": "stdout",
     "output_type": "stream",
     "text": [
      "0d:00:11:15 | 0d:00:00:27 | ###################- | 193/200 |  3.99 | 0.29       \r"
     ]
    },
    {
     "name": "stderr",
     "output_type": "stream",
     "text": [
      "/home/sragy/DISPyprob/pyprob/pyprob/nn/inference_network_feedforward.py:67: UserWarning: Using prior. No proposal for address: 520__forward___traverse___traverse_rec___traverse_rec__draw_decay_R__TruncatedExponential__3\n",
      "  warnings.warn('Using prior. No proposal for address: {}'.format(address))\n"
     ]
    },
    {
     "name": "stdout",
     "output_type": "stream",
     "text": [
      "0d:00:11:36 | 0d:00:00:03 | #################### | 200/200 |  3.99 | 0.29       \n"
     ]
    }
   ],
   "source": [
    "posterior_res2 = simulatorginkgo.posterior_results(num_traces = 200, inference_engine=InferenceEngine.DISTILLING_IMPORTANCE_SAMPLING,observe={'dummy':1})"
   ]
  },
  {
   "cell_type": "code",
   "execution_count": 56,
   "metadata": {},
   "outputs": [
    {
     "name": "stderr",
     "output_type": "stream",
     "text": [
      "/tmp/ipykernel_257/2585904463.py:2: UserWarning: To copy construct from a tensor, it is recommended to use sourceTensor.clone().detach() or sourceTensor.clone().detach().requires_grad_(True), rather than torch.tensor(sourceTensor).\n",
      "  x = torch.tensor(x)\n"
     ]
    },
    {
     "data": {
      "text/plain": [
       "(array([ 8., 10., 18., 28., 35., 35., 35., 18., 11.,  1.]),\n",
       " array([2.3691599 , 3.12735789, 3.88555589, 4.64375388, 5.40195187,\n",
       "        6.16014986, 6.91834785, 7.67654585, 8.43474384, 9.19294183,\n",
       "        9.95113982]),\n",
       " <BarContainer object of 10 artists>)"
      ]
     },
     "execution_count": 56,
     "metadata": {},
     "output_type": "execute_result"
    },
    {
     "data": {
      "image/png": "[encoded data removed]",
      "text/plain": [
       "<Figure size 432x288 with 1 Axes>"
      ]
     },
     "metadata": {
      "needs_background": "light"
     },
     "output_type": "display_data"
    }
   ],
   "source": [
    "post_distances2 = np.array([sinkhorn_2(obs_leaves, res['leaves']).detach().numpy() for res in posterior_res2])\n",
    "plt.hist(post_distances2)"
   ]
  },
  {
   "cell_type": "code",
   "execution_count": 7,
   "metadata": {},
   "outputs": [
    {
     "name": "stdout",
     "output_type": "stream",
     "text": [
      "Creating new inference network...\n",
      "Observable dummy: reshape not specified, using shape torch.Size([]).\n",
      "Observable dummy: using embedding dim torch.Size([1]).\n",
      "Observable dummy: observe embedding not specified, using the default FEEDFORWARD.\n",
      "Observable dummy: using embedding depth 1.\n",
      "Observe embedding dimension: 1\n",
      "Train. time | Epoch| Trace     | Init. loss| Min. loss | Curr. loss| T.since min | Learn.rate| Traces/sec\n",
      "New layers, address: 32__forward__root_rate__Uniform__1, distribution: Uniform\n",
      "New layers, address: 56__forward__decay_rate__Uniform__1, distribution: Uniform\n",
      "New layers, address: 216__forward___traverse___traverse_rec__?__Uniform..., distribution: Uniform\n",
      "New layers, address: 260__forward___traverse___traverse_rec__theta_CM_U..., distribution: Uniform\n",
      "New layers, address: 470__forward___traverse___traverse_rec__draw_decay..., distribution: TruncatedExponential\n",
      "New layers, address: 520__forward___traverse___traverse_rec__draw_decay..., distribution: TruncatedExponential\n",
      "New layers, address: 216__forward___traverse___traverse_rec___traverse_..., distribution: Uniform\n",
      "New layers, address: 260__forward___traverse___traverse_rec___traverse_..., distribution: Uniform\n",
      "New layers, address: 470__forward___traverse___traverse_rec___traverse_..., distribution: TruncatedExponential\n",
      "New layers, address: 520__forward___traverse___traverse_rec___traverse_..., distribution: TruncatedExponential\n",
      "New layers, address: 216__forward___traverse___traverse_rec___traverse_..., distribution: Uniform\n",
      "New layers, address: 260__forward___traverse___traverse_rec___traverse_..., distribution: Uniform\n",
      "New layers, address: 470__forward___traverse___traverse_rec___traverse_..., distribution: TruncatedExponential\n",
      "New layers, address: 520__forward___traverse___traverse_rec___traverse_..., distribution: TruncatedExponential\n",
      "New layers, address: 216__forward___traverse___traverse_rec___traverse_..., distribution: Uniform\n",
      "New layers, address: 260__forward___traverse___traverse_rec___traverse_..., distribution: Uniform\n",
      "New layers, address: 470__forward___traverse___traverse_rec___traverse_..., distribution: TruncatedExponential\n",
      "New layers, address: 520__forward___traverse___traverse_rec___traverse_..., distribution: TruncatedExponential\n",
      "New layers, address: 216__forward___traverse___traverse_rec___traverse_..., distribution: Uniform\n",
      "New layers, address: 260__forward___traverse___traverse_rec___traverse_..., distribution: Uniform\n",
      "New layers, address: 470__forward___traverse___traverse_rec___traverse_..., distribution: TruncatedExponential\n",
      "New layers, address: 520__forward___traverse___traverse_rec___traverse_..., distribution: TruncatedExponential\n",
      "New layers, address: 216__forward___traverse___traverse_rec___traverse_..., distribution: Uniform\n",
      "New layers, address: 260__forward___traverse___traverse_rec___traverse_..., distribution: Uniform\n",
      "New layers, address: 470__forward___traverse___traverse_rec___traverse_..., distribution: TruncatedExponential\n",
      "New layers, address: 520__forward___traverse___traverse_rec___traverse_..., distribution: TruncatedExponential\n",
      "New layers, address: 216__forward___traverse___traverse_rec___traverse_..., distribution: Uniform\n",
      "New layers, address: 260__forward___traverse___traverse_rec___traverse_..., distribution: Uniform\n",
      "New layers, address: 470__forward___traverse___traverse_rec___traverse_..., distribution: TruncatedExponential\n",
      "New layers, address: 520__forward___traverse___traverse_rec___traverse_..., distribution: TruncatedExponential\n",
      "New layers, address: 216__forward___traverse___traverse_rec___traverse_..., distribution: Uniform\n",
      "New layers, address: 260__forward___traverse___traverse_rec___traverse_..., distribution: Uniform\n",
      "New layers, address: 470__forward___traverse___traverse_rec___traverse_..., distribution: TruncatedExponential\n",
      "New layers, address: 520__forward___traverse___traverse_rec___traverse_..., distribution: TruncatedExponential\n",
      "New layers, address: 216__forward___traverse___traverse_rec___traverse_..., distribution: Uniform\n",
      "New layers, address: 260__forward___traverse___traverse_rec___traverse_..., distribution: Uniform\n",
      "New layers, address: 470__forward___traverse___traverse_rec___traverse_..., distribution: TruncatedExponential\n",
      "New layers, address: 520__forward___traverse___traverse_rec___traverse_..., distribution: TruncatedExponential\n",
      "New layers, address: 216__forward___traverse___traverse_rec___traverse_..., distribution: Uniform\n",
      "New layers, address: 260__forward___traverse___traverse_rec___traverse_..., distribution: Uniform\n",
      "New layers, address: 470__forward___traverse___traverse_rec___traverse_..., distribution: TruncatedExponential\n",
      "New layers, address: 520__forward___traverse___traverse_rec___traverse_..., distribution: TruncatedExponential\n",
      "New layers, address: 216__forward___traverse___traverse_rec___traverse_..., distribution: Uniform\n",
      "New layers, address: 260__forward___traverse___traverse_rec___traverse_..., distribution: Uniform\n",
      "New layers, address: 470__forward___traverse___traverse_rec___traverse_..., distribution: TruncatedExponential\n",
      "New layers, address: 520__forward___traverse___traverse_rec___traverse_..., distribution: TruncatedExponential\n",
      "New layers, address: 216__forward___traverse___traverse_rec___traverse_..., distribution: Uniform\n",
      "New layers, address: 260__forward___traverse___traverse_rec___traverse_..., distribution: Uniform\n",
      "New layers, address: 470__forward___traverse___traverse_rec___traverse_..., distribution: TruncatedExponential\n",
      "New layers, address: 520__forward___traverse___traverse_rec___traverse_..., distribution: TruncatedExponential\n",
      "New layers, address: 216__forward___traverse___traverse_rec___traverse_..., distribution: Uniform\n",
      "New layers, address: 260__forward___traverse___traverse_rec___traverse_..., distribution: Uniform\n",
      "New layers, address: 470__forward___traverse___traverse_rec___traverse_..., distribution: TruncatedExponential\n",
      "New layers, address: 520__forward___traverse___traverse_rec___traverse_..., distribution: TruncatedExponential\n",
      "New layers, address: 216__forward___traverse___traverse_rec___traverse_..., distribution: Uniform\n",
      "New layers, address: 260__forward___traverse___traverse_rec___traverse_..., distribution: Uniform\n",
      "New layers, address: 470__forward___traverse___traverse_rec___traverse_..., distribution: TruncatedExponential\n",
      "New layers, address: 520__forward___traverse___traverse_rec___traverse_..., distribution: TruncatedExponential\n",
      "New layers, address: 216__forward___traverse___traverse_rec___traverse_..., distribution: Uniform\n",
      "New layers, address: 260__forward___traverse___traverse_rec___traverse_..., distribution: Uniform\n",
      "New layers, address: 470__forward___traverse___traverse_rec___traverse_..., distribution: TruncatedExponential\n",
      "New layers, address: 520__forward___traverse___traverse_rec___traverse_..., distribution: TruncatedExponential\n",
      "New layers, address: 216__forward___traverse___traverse_rec___traverse_..., distribution: Uniform\n",
      "New layers, address: 260__forward___traverse___traverse_rec___traverse_..., distribution: Uniform\n",
      "New layers, address: 470__forward___traverse___traverse_rec___traverse_..., distribution: TruncatedExponential\n",
      "New layers, address: 520__forward___traverse___traverse_rec___traverse_..., distribution: TruncatedExponential\n",
      "New layers, address: 216__forward___traverse___traverse_rec___traverse_..., distribution: Uniform\n",
      "New layers, address: 260__forward___traverse___traverse_rec___traverse_..., distribution: Uniform\n",
      "New layers, address: 470__forward___traverse___traverse_rec___traverse_..., distribution: TruncatedExponential\n",
      "New layers, address: 520__forward___traverse___traverse_rec___traverse_..., distribution: TruncatedExponential\n",
      "New layers, address: 216__forward___traverse___traverse_rec___traverse_..., distribution: Uniform\n",
      "New layers, address: 260__forward___traverse___traverse_rec___traverse_..., distribution: Uniform\n",
      "New layers, address: 470__forward___traverse___traverse_rec___traverse_..., distribution: TruncatedExponential\n",
      "New layers, address: 520__forward___traverse___traverse_rec___traverse_..., distribution: TruncatedExponential\n",
      "New layers, address: 216__forward___traverse___traverse_rec___traverse_..., distribution: Uniform\n",
      "New layers, address: 260__forward___traverse___traverse_rec___traverse_..., distribution: Uniform\n",
      "New layers, address: 470__forward___traverse___traverse_rec___traverse_..., distribution: TruncatedExponential\n",
      "New layers, address: 520__forward___traverse___traverse_rec___traverse_..., distribution: TruncatedExponential\n",
      "New layers, address: 216__forward___traverse___traverse_rec___traverse_..., distribution: Uniform\n",
      "New layers, address: 260__forward___traverse___traverse_rec___traverse_..., distribution: Uniform\n",
      "New layers, address: 470__forward___traverse___traverse_rec___traverse_..., distribution: TruncatedExponential\n",
      "New layers, address: 520__forward___traverse___traverse_rec___traverse_..., distribution: TruncatedExponential\n",
      "New layers, address: 216__forward___traverse___traverse_rec___traverse_..., distribution: Uniform\n",
      "New layers, address: 260__forward___traverse___traverse_rec___traverse_..., distribution: Uniform\n",
      "New layers, address: 470__forward___traverse___traverse_rec___traverse_..., distribution: TruncatedExponential\n",
      "New layers, address: 520__forward___traverse___traverse_rec___traverse_..., distribution: TruncatedExponential\n",
      "New layers, address: 216__forward___traverse___traverse_rec___traverse_..., distribution: Uniform\n",
      "New layers, address: 260__forward___traverse___traverse_rec___traverse_..., distribution: Uniform\n",
      "New layers, address: 470__forward___traverse___traverse_rec___traverse_..., distribution: TruncatedExponential\n",
      "New layers, address: 520__forward___traverse___traverse_rec___traverse_..., distribution: TruncatedExponential\n",
      "New layers, address: 216__forward___traverse___traverse_rec___traverse_..., distribution: Uniform\n",
      "New layers, address: 260__forward___traverse___traverse_rec___traverse_..., distribution: Uniform\n",
      "New layers, address: 470__forward___traverse___traverse_rec___traverse_..., distribution: TruncatedExponential\n",
      "New layers, address: 520__forward___traverse___traverse_rec___traverse_..., distribution: TruncatedExponential\n",
      "New layers, address: 216__forward___traverse___traverse_rec___traverse_..., distribution: Uniform\n",
      "New layers, address: 260__forward___traverse___traverse_rec___traverse_..., distribution: Uniform\n",
      "New layers, address: 470__forward___traverse___traverse_rec___traverse_..., distribution: TruncatedExponential\n",
      "New layers, address: 520__forward___traverse___traverse_rec___traverse_..., distribution: TruncatedExponential\n",
      "New layers, address: 216__forward___traverse___traverse_rec___traverse_..., distribution: Uniform\n",
      "New layers, address: 260__forward___traverse___traverse_rec___traverse_..., distribution: Uniform\n",
      "New layers, address: 470__forward___traverse___traverse_rec___traverse_..., distribution: TruncatedExponential\n",
      "New layers, address: 520__forward___traverse___traverse_rec___traverse_..., distribution: TruncatedExponential\n",
      "New layers, address: 216__forward___traverse___traverse_rec___traverse_..., distribution: Uniform\n",
      "New layers, address: 260__forward___traverse___traverse_rec___traverse_..., distribution: Uniform\n",
      "New layers, address: 470__forward___traverse___traverse_rec___traverse_..., distribution: TruncatedExponential\n",
      "New layers, address: 520__forward___traverse___traverse_rec___traverse_..., distribution: TruncatedExponential\n",
      "New layers, address: 216__forward___traverse___traverse_rec___traverse_..., distribution: Uniform\n",
      "New layers, address: 260__forward___traverse___traverse_rec___traverse_..., distribution: Uniform\n",
      "New layers, address: 470__forward___traverse___traverse_rec___traverse_..., distribution: TruncatedExponential\n",
      "New layers, address: 520__forward___traverse___traverse_rec___traverse_..., distribution: TruncatedExponential\n",
      "New layers, address: 216__forward___traverse___traverse_rec___traverse_..., distribution: Uniform\n",
      "New layers, address: 260__forward___traverse___traverse_rec___traverse_..., distribution: Uniform\n",
      "New layers, address: 470__forward___traverse___traverse_rec___traverse_..., distribution: TruncatedExponential\n",
      "New layers, address: 520__forward___traverse___traverse_rec___traverse_..., distribution: TruncatedExponential\n",
      "New layers, address: 216__forward___traverse___traverse_rec___traverse_..., distribution: Uniform\n",
      "New layers, address: 260__forward___traverse___traverse_rec___traverse_..., distribution: Uniform\n",
      "New layers, address: 470__forward___traverse___traverse_rec___traverse_..., distribution: TruncatedExponential\n",
      "New layers, address: 520__forward___traverse___traverse_rec___traverse_..., distribution: TruncatedExponential\n",
      "New layers, address: 216__forward___traverse___traverse_rec___traverse_..., distribution: Uniform\n",
      "New layers, address: 260__forward___traverse___traverse_rec___traverse_..., distribution: Uniform\n",
      "New layers, address: 470__forward___traverse___traverse_rec___traverse_..., distribution: TruncatedExponential\n",
      "New layers, address: 520__forward___traverse___traverse_rec___traverse_..., distribution: TruncatedExponential\n",
      "New layers, address: 216__forward___traverse___traverse_rec___traverse_..., distribution: Uniform\n",
      "New layers, address: 260__forward___traverse___traverse_rec___traverse_..., distribution: Uniform\n",
      "New layers, address: 470__forward___traverse___traverse_rec___traverse_..., distribution: TruncatedExponential\n",
      "New layers, address: 520__forward___traverse___traverse_rec___traverse_..., distribution: TruncatedExponential\n",
      "New layers, address: 216__forward___traverse___traverse_rec___traverse_..., distribution: Uniform\n",
      "New layers, address: 260__forward___traverse___traverse_rec___traverse_..., distribution: Uniform\n",
      "New layers, address: 470__forward___traverse___traverse_rec___traverse_..., distribution: TruncatedExponential\n",
      "New layers, address: 520__forward___traverse___traverse_rec___traverse_..., distribution: TruncatedExponential\n",
      "New layers, address: 216__forward___traverse___traverse_rec___traverse_..., distribution: Uniform\n",
      "New layers, address: 260__forward___traverse___traverse_rec___traverse_..., distribution: Uniform\n",
      "New layers, address: 470__forward___traverse___traverse_rec___traverse_..., distribution: TruncatedExponential\n",
      "New layers, address: 520__forward___traverse___traverse_rec___traverse_..., distribution: TruncatedExponential\n",
      "New layers, address: 216__forward___traverse___traverse_rec___traverse_..., distribution: Uniform\n",
      "New layers, address: 260__forward___traverse___traverse_rec___traverse_..., distribution: Uniform\n",
      "New layers, address: 470__forward___traverse___traverse_rec___traverse_..., distribution: TruncatedExponential\n",
      "New layers, address: 520__forward___traverse___traverse_rec___traverse_..., distribution: TruncatedExponential\n",
      "New layers, address: 216__forward___traverse___traverse_rec___traverse_..., distribution: Uniform\n",
      "New layers, address: 260__forward___traverse___traverse_rec___traverse_..., distribution: Uniform\n",
      "New layers, address: 470__forward___traverse___traverse_rec___traverse_..., distribution: TruncatedExponential\n",
      "New layers, address: 520__forward___traverse___traverse_rec___traverse_..., distribution: TruncatedExponential\n",
      "New layers, address: 216__forward___traverse___traverse_rec___traverse_..., distribution: Uniform\n",
      "New layers, address: 260__forward___traverse___traverse_rec___traverse_..., distribution: Uniform\n",
      "New layers, address: 470__forward___traverse___traverse_rec___traverse_..., distribution: TruncatedExponential\n",
      "New layers, address: 520__forward___traverse___traverse_rec___traverse_..., distribution: TruncatedExponential\n",
      "New layers, address: 216__forward___traverse___traverse_rec___traverse_..., distribution: Uniform\n",
      "New layers, address: 260__forward___traverse___traverse_rec___traverse_..., distribution: Uniform\n",
      "New layers, address: 470__forward___traverse___traverse_rec___traverse_..., distribution: TruncatedExponential\n",
      "New layers, address: 520__forward___traverse___traverse_rec___traverse_..., distribution: TruncatedExponential\n",
      "New layers, address: 216__forward___traverse___traverse_rec___traverse_..., distribution: Uniform\n",
      "New layers, address: 260__forward___traverse___traverse_rec___traverse_..., distribution: Uniform\n",
      "New layers, address: 470__forward___traverse___traverse_rec___traverse_..., distribution: TruncatedExponential\n",
      "New layers, address: 520__forward___traverse___traverse_rec___traverse_..., distribution: TruncatedExponential\n",
      "New layers, address: 216__forward___traverse___traverse_rec___traverse_..., distribution: Uniform\n",
      "New layers, address: 260__forward___traverse___traverse_rec___traverse_..., distribution: Uniform\n",
      "New layers, address: 470__forward___traverse___traverse_rec___traverse_..., distribution: TruncatedExponential\n",
      "New layers, address: 520__forward___traverse___traverse_rec___traverse_..., distribution: TruncatedExponential\n",
      "New layers, address: 216__forward___traverse___traverse_rec___traverse_..., distribution: Uniform\n",
      "New layers, address: 260__forward___traverse___traverse_rec___traverse_..., distribution: Uniform\n",
      "New layers, address: 470__forward___traverse___traverse_rec___traverse_..., distribution: TruncatedExponential\n",
      "New layers, address: 520__forward___traverse___traverse_rec___traverse_..., distribution: TruncatedExponential\n",
      "New layers, address: 216__forward___traverse___traverse_rec___traverse_..., distribution: Uniform\n",
      "New layers, address: 260__forward___traverse___traverse_rec___traverse_..., distribution: Uniform\n",
      "New layers, address: 470__forward___traverse___traverse_rec___traverse_..., distribution: TruncatedExponential\n",
      "New layers, address: 520__forward___traverse___traverse_rec___traverse_..., distribution: TruncatedExponential\n",
      "New layers, address: 216__forward___traverse___traverse_rec___traverse_..., distribution: Uniform\n",
      "New layers, address: 260__forward___traverse___traverse_rec___traverse_..., distribution: Uniform\n",
      "New layers, address: 470__forward___traverse___traverse_rec___traverse_..., distribution: TruncatedExponential\n",
      "New layers, address: 520__forward___traverse___traverse_rec___traverse_..., distribution: TruncatedExponential\n",
      "New layers, address: 216__forward___traverse___traverse_rec___traverse_..., distribution: Uniform\n",
      "New layers, address: 260__forward___traverse___traverse_rec___traverse_..., distribution: Uniform\n",
      "New layers, address: 470__forward___traverse___traverse_rec___traverse_..., distribution: TruncatedExponential\n",
      "New layers, address: 520__forward___traverse___traverse_rec___traverse_..., distribution: TruncatedExponential\n",
      "New layers, address: 216__forward___traverse___traverse_rec___traverse_..., distribution: Uniform\n",
      "New layers, address: 260__forward___traverse___traverse_rec___traverse_..., distribution: Uniform\n",
      "New layers, address: 470__forward___traverse___traverse_rec___traverse_..., distribution: TruncatedExponential\n",
      "New layers, address: 520__forward___traverse___traverse_rec___traverse_..., distribution: TruncatedExponential\n",
      "New layers, address: 216__forward___traverse___traverse_rec___traverse_..., distribution: Uniform\n",
      "New layers, address: 260__forward___traverse___traverse_rec___traverse_..., distribution: Uniform\n",
      "New layers, address: 470__forward___traverse___traverse_rec___traverse_..., distribution: TruncatedExponential\n",
      "New layers, address: 520__forward___traverse___traverse_rec___traverse_..., distribution: TruncatedExponential\n",
      "New layers, address: 216__forward___traverse___traverse_rec___traverse_..., distribution: Uniform\n",
      "New layers, address: 260__forward___traverse___traverse_rec___traverse_..., distribution: Uniform\n",
      "New layers, address: 470__forward___traverse___traverse_rec___traverse_..., distribution: TruncatedExponential\n",
      "New layers, address: 520__forward___traverse___traverse_rec___traverse_..., distribution: TruncatedExponential\n",
      "New layers, address: 216__forward___traverse___traverse_rec___traverse_..., distribution: Uniform\n",
      "New layers, address: 260__forward___traverse___traverse_rec___traverse_..., distribution: Uniform\n",
      "New layers, address: 470__forward___traverse___traverse_rec___traverse_..., distribution: TruncatedExponential\n",
      "New layers, address: 520__forward___traverse___traverse_rec___traverse_..., distribution: TruncatedExponential\n",
      "New layers, address: 216__forward___traverse___traverse_rec___traverse_..., distribution: Uniform\n",
      "New layers, address: 260__forward___traverse___traverse_rec___traverse_..., distribution: Uniform\n",
      "New layers, address: 470__forward___traverse___traverse_rec___traverse_..., distribution: TruncatedExponential\n",
      "New layers, address: 520__forward___traverse___traverse_rec___traverse_..., distribution: TruncatedExponential\n",
      "New layers, address: 216__forward___traverse___traverse_rec___traverse_..., distribution: Uniform\n",
      "New layers, address: 260__forward___traverse___traverse_rec___traverse_..., distribution: Uniform\n",
      "New layers, address: 470__forward___traverse___traverse_rec___traverse_..., distribution: TruncatedExponential\n",
      "New layers, address: 520__forward___traverse___traverse_rec___traverse_..., distribution: TruncatedExponential\n",
      "New layers, address: 216__forward___traverse___traverse_rec___traverse_..., distribution: Uniform\n",
      "New layers, address: 260__forward___traverse___traverse_rec___traverse_..., distribution: Uniform\n",
      "New layers, address: 470__forward___traverse___traverse_rec___traverse_..., distribution: TruncatedExponential\n",
      "New layers, address: 520__forward___traverse___traverse_rec___traverse_..., distribution: TruncatedExponential\n",
      "New layers, address: 216__forward___traverse___traverse_rec___traverse_..., distribution: Uniform\n",
      "New layers, address: 260__forward___traverse___traverse_rec___traverse_..., distribution: Uniform\n",
      "New layers, address: 470__forward___traverse___traverse_rec___traverse_..., distribution: TruncatedExponential\n",
      "New layers, address: 520__forward___traverse___traverse_rec___traverse_..., distribution: TruncatedExponential\n",
      "New layers, address: 216__forward___traverse___traverse_rec___traverse_..., distribution: Uniform\n",
      "New layers, address: 260__forward___traverse___traverse_rec___traverse_..., distribution: Uniform\n",
      "New layers, address: 470__forward___traverse___traverse_rec___traverse_..., distribution: TruncatedExponential\n",
      "New layers, address: 520__forward___traverse___traverse_rec___traverse_..., distribution: TruncatedExponential\n",
      "New layers, address: 216__forward___traverse___traverse_rec___traverse_..., distribution: Uniform\n",
      "New layers, address: 260__forward___traverse___traverse_rec___traverse_..., distribution: Uniform\n",
      "New layers, address: 470__forward___traverse___traverse_rec___traverse_..., distribution: TruncatedExponential\n",
      "New layers, address: 520__forward___traverse___traverse_rec___traverse_..., distribution: TruncatedExponential\n",
      "New layers, address: 216__forward___traverse___traverse_rec___traverse_..., distribution: Uniform\n",
      "New layers, address: 260__forward___traverse___traverse_rec___traverse_..., distribution: Uniform\n",
      "New layers, address: 470__forward___traverse___traverse_rec___traverse_..., distribution: TruncatedExponential\n",
      "New layers, address: 520__forward___traverse___traverse_rec___traverse_..., distribution: TruncatedExponential\n",
      "New layers, address: 216__forward___traverse___traverse_rec___traverse_..., distribution: Uniform\n",
      "New layers, address: 260__forward___traverse___traverse_rec___traverse_..., distribution: Uniform\n",
      "New layers, address: 470__forward___traverse___traverse_rec___traverse_..., distribution: TruncatedExponential\n",
      "New layers, address: 520__forward___traverse___traverse_rec___traverse_..., distribution: TruncatedExponential\n",
      "New layers, address: 216__forward___traverse___traverse_rec___traverse_..., distribution: Uniform\n",
      "New layers, address: 260__forward___traverse___traverse_rec___traverse_..., distribution: Uniform\n",
      "New layers, address: 470__forward___traverse___traverse_rec___traverse_..., distribution: TruncatedExponential\n",
      "New layers, address: 520__forward___traverse___traverse_rec___traverse_..., distribution: TruncatedExponential\n",
      "New layers, address: 216__forward___traverse___traverse_rec___traverse_..., distribution: Uniform\n",
      "New layers, address: 260__forward___traverse___traverse_rec___traverse_..., distribution: Uniform\n",
      "New layers, address: 470__forward___traverse___traverse_rec___traverse_..., distribution: TruncatedExponential\n",
      "New layers, address: 520__forward___traverse___traverse_rec___traverse_..., distribution: TruncatedExponential\n",
      "New layers, address: 216__forward___traverse___traverse_rec___traverse_..., distribution: Uniform\n",
      "New layers, address: 260__forward___traverse___traverse_rec___traverse_..., distribution: Uniform\n",
      "New layers, address: 470__forward___traverse___traverse_rec___traverse_..., distribution: TruncatedExponential\n",
      "New layers, address: 520__forward___traverse___traverse_rec___traverse_..., distribution: TruncatedExponential\n",
      "New layers, address: 216__forward___traverse___traverse_rec___traverse_..., distribution: Uniform\n",
      "New layers, address: 260__forward___traverse___traverse_rec___traverse_..., distribution: Uniform\n",
      "New layers, address: 470__forward___traverse___traverse_rec___traverse_..., distribution: TruncatedExponential\n",
      "New layers, address: 520__forward___traverse___traverse_rec___traverse_..., distribution: TruncatedExponential\n",
      "New layers, address: 216__forward___traverse___traverse_rec___traverse_..., distribution: Uniform\n",
      "New layers, address: 260__forward___traverse___traverse_rec___traverse_..., distribution: Uniform\n",
      "New layers, address: 470__forward___traverse___traverse_rec___traverse_..., distribution: TruncatedExponential\n",
      "New layers, address: 520__forward___traverse___traverse_rec___traverse_..., distribution: TruncatedExponential\n",
      "New layers, address: 216__forward___traverse___traverse_rec___traverse_..., distribution: Uniform\n",
      "New layers, address: 260__forward___traverse___traverse_rec___traverse_..., distribution: Uniform\n",
      "New layers, address: 470__forward___traverse___traverse_rec___traverse_..., distribution: TruncatedExponential\n",
      "New layers, address: 520__forward___traverse___traverse_rec___traverse_..., distribution: TruncatedExponential\n",
      "New layers, address: 216__forward___traverse___traverse_rec___traverse_..., distribution: Uniform\n",
      "New layers, address: 260__forward___traverse___traverse_rec___traverse_..., distribution: Uniform\n",
      "New layers, address: 470__forward___traverse___traverse_rec___traverse_..., distribution: TruncatedExponential\n",
      "New layers, address: 520__forward___traverse___traverse_rec___traverse_..., distribution: TruncatedExponential\n",
      "New layers, address: 216__forward___traverse___traverse_rec___traverse_..., distribution: Uniform\n",
      "New layers, address: 260__forward___traverse___traverse_rec___traverse_..., distribution: Uniform\n",
      "New layers, address: 470__forward___traverse___traverse_rec___traverse_..., distribution: TruncatedExponential\n",
      "New layers, address: 520__forward___traverse___traverse_rec___traverse_..., distribution: TruncatedExponential\n",
      "New layers, address: 216__forward___traverse___traverse_rec___traverse_..., distribution: Uniform\n",
      "New layers, address: 260__forward___traverse___traverse_rec___traverse_..., distribution: Uniform\n",
      "New layers, address: 470__forward___traverse___traverse_rec___traverse_..., distribution: TruncatedExponential\n",
      "New layers, address: 520__forward___traverse___traverse_rec___traverse_..., distribution: TruncatedExponential\n",
      "New layers, address: 216__forward___traverse___traverse_rec___traverse_..., distribution: Uniform\n",
      "New layers, address: 260__forward___traverse___traverse_rec___traverse_..., distribution: Uniform\n",
      "New layers, address: 470__forward___traverse___traverse_rec___traverse_..., distribution: TruncatedExponential\n",
      "New layers, address: 520__forward___traverse___traverse_rec___traverse_..., distribution: TruncatedExponential\n",
      "New layers, address: 216__forward___traverse___traverse_rec___traverse_..., distribution: Uniform\n",
      "New layers, address: 260__forward___traverse___traverse_rec___traverse_..., distribution: Uniform\n",
      "New layers, address: 470__forward___traverse___traverse_rec___traverse_..., distribution: TruncatedExponential\n",
      "New layers, address: 520__forward___traverse___traverse_rec___traverse_..., distribution: TruncatedExponential\n",
      "New layers, address: 216__forward___traverse___traverse_rec___traverse_..., distribution: Uniform\n",
      "New layers, address: 260__forward___traverse___traverse_rec___traverse_..., distribution: Uniform\n",
      "New layers, address: 470__forward___traverse___traverse_rec___traverse_..., distribution: TruncatedExponential\n",
      "New layers, address: 520__forward___traverse___traverse_rec___traverse_..., distribution: TruncatedExponential\n",
      "New layers, address: 216__forward___traverse___traverse_rec___traverse_..., distribution: Uniform\n",
      "New layers, address: 260__forward___traverse___traverse_rec___traverse_..., distribution: Uniform\n",
      "New layers, address: 470__forward___traverse___traverse_rec___traverse_..., distribution: TruncatedExponential\n",
      "New layers, address: 520__forward___traverse___traverse_rec___traverse_..., distribution: TruncatedExponential\n",
      "New layers, address: 216__forward___traverse___traverse_rec___traverse_..., distribution: Uniform\n",
      "New layers, address: 260__forward___traverse___traverse_rec___traverse_..., distribution: Uniform\n",
      "New layers, address: 470__forward___traverse___traverse_rec___traverse_..., distribution: TruncatedExponential\n",
      "New layers, address: 520__forward___traverse___traverse_rec___traverse_..., distribution: TruncatedExponential\n",
      "New layers, address: 216__forward___traverse___traverse_rec___traverse_..., distribution: Uniform\n",
      "New layers, address: 260__forward___traverse___traverse_rec___traverse_..., distribution: Uniform\n",
      "New layers, address: 470__forward___traverse___traverse_rec___traverse_..., distribution: TruncatedExponential\n",
      "New layers, address: 520__forward___traverse___traverse_rec___traverse_..., distribution: TruncatedExponential\n",
      "New layers, address: 216__forward___traverse___traverse_rec___traverse_..., distribution: Uniform\n",
      "New layers, address: 260__forward___traverse___traverse_rec___traverse_..., distribution: Uniform\n",
      "New layers, address: 470__forward___traverse___traverse_rec___traverse_..., distribution: TruncatedExponential\n",
      "New layers, address: 520__forward___traverse___traverse_rec___traverse_..., distribution: TruncatedExponential\n",
      "New layers, address: 216__forward___traverse___traverse_rec___traverse_..., distribution: Uniform\n",
      "New layers, address: 260__forward___traverse___traverse_rec___traverse_..., distribution: Uniform\n",
      "New layers, address: 470__forward___traverse___traverse_rec___traverse_..., distribution: TruncatedExponential\n",
      "New layers, address: 520__forward___traverse___traverse_rec___traverse_..., distribution: TruncatedExponential\n",
      "New layers, address: 216__forward___traverse___traverse_rec___traverse_..., distribution: Uniform\n",
      "New layers, address: 260__forward___traverse___traverse_rec___traverse_..., distribution: Uniform\n",
      "New layers, address: 470__forward___traverse___traverse_rec___traverse_..., distribution: TruncatedExponential\n",
      "New layers, address: 520__forward___traverse___traverse_rec___traverse_..., distribution: TruncatedExponential\n",
      "New layers, address: 216__forward___traverse___traverse_rec___traverse_..., distribution: Uniform\n",
      "New layers, address: 260__forward___traverse___traverse_rec___traverse_..., distribution: Uniform\n",
      "New layers, address: 470__forward___traverse___traverse_rec___traverse_..., distribution: TruncatedExponential\n",
      "New layers, address: 520__forward___traverse___traverse_rec___traverse_..., distribution: TruncatedExponential\n",
      "New layers, address: 216__forward___traverse___traverse_rec___traverse_..., distribution: Uniform\n",
      "New layers, address: 260__forward___traverse___traverse_rec___traverse_..., distribution: Uniform\n",
      "New layers, address: 470__forward___traverse___traverse_rec___traverse_..., distribution: TruncatedExponential\n",
      "New layers, address: 520__forward___traverse___traverse_rec___traverse_..., distribution: TruncatedExponential\n",
      "New layers, address: 216__forward___traverse___traverse_rec___traverse_..., distribution: Uniform\n",
      "New layers, address: 260__forward___traverse___traverse_rec___traverse_..., distribution: Uniform\n",
      "New layers, address: 470__forward___traverse___traverse_rec___traverse_..., distribution: TruncatedExponential\n",
      "New layers, address: 520__forward___traverse___traverse_rec___traverse_..., distribution: TruncatedExponential\n",
      "New layers, address: 216__forward___traverse___traverse_rec___traverse_..., distribution: Uniform\n",
      "New layers, address: 260__forward___traverse___traverse_rec___traverse_..., distribution: Uniform\n",
      "New layers, address: 470__forward___traverse___traverse_rec___traverse_..., distribution: TruncatedExponential\n",
      "New layers, address: 520__forward___traverse___traverse_rec___traverse_..., distribution: TruncatedExponential\n",
      "New layers, address: 216__forward___traverse___traverse_rec___traverse_..., distribution: Uniform\n",
      "New layers, address: 260__forward___traverse___traverse_rec___traverse_..., distribution: Uniform\n",
      "New layers, address: 470__forward___traverse___traverse_rec___traverse_..., distribution: TruncatedExponential\n",
      "New layers, address: 520__forward___traverse___traverse_rec___traverse_..., distribution: TruncatedExponential\n",
      "New layers, address: 216__forward___traverse___traverse_rec___traverse_..., distribution: Uniform\n",
      "New layers, address: 260__forward___traverse___traverse_rec___traverse_..., distribution: Uniform\n",
      "New layers, address: 470__forward___traverse___traverse_rec___traverse_..., distribution: TruncatedExponential\n",
      "New layers, address: 520__forward___traverse___traverse_rec___traverse_..., distribution: TruncatedExponential\n",
      "New layers, address: 216__forward___traverse___traverse_rec___traverse_..., distribution: Uniform\n",
      "New layers, address: 260__forward___traverse___traverse_rec___traverse_..., distribution: Uniform\n",
      "New layers, address: 470__forward___traverse___traverse_rec___traverse_..., distribution: TruncatedExponential\n",
      "New layers, address: 520__forward___traverse___traverse_rec___traverse_..., distribution: TruncatedExponential\n",
      "New layers, address: 216__forward___traverse___traverse_rec___traverse_..., distribution: Uniform\n",
      "New layers, address: 260__forward___traverse___traverse_rec___traverse_..., distribution: Uniform\n",
      "New layers, address: 470__forward___traverse___traverse_rec___traverse_..., distribution: TruncatedExponential\n",
      "New layers, address: 520__forward___traverse___traverse_rec___traverse_..., distribution: TruncatedExponential\n",
      "New layers, address: 216__forward___traverse___traverse_rec___traverse_..., distribution: Uniform\n",
      "New layers, address: 260__forward___traverse___traverse_rec___traverse_..., distribution: Uniform\n",
      "New layers, address: 470__forward___traverse___traverse_rec___traverse_..., distribution: TruncatedExponential\n",
      "New layers, address: 520__forward___traverse___traverse_rec___traverse_..., distribution: TruncatedExponential\n",
      "New layers, address: 216__forward___traverse___traverse_rec___traverse_..., distribution: Uniform\n",
      "New layers, address: 260__forward___traverse___traverse_rec___traverse_..., distribution: Uniform\n",
      "New layers, address: 470__forward___traverse___traverse_rec___traverse_..., distribution: TruncatedExponential\n",
      "New layers, address: 520__forward___traverse___traverse_rec___traverse_..., distribution: TruncatedExponential\n",
      "New layers, address: 216__forward___traverse___traverse_rec___traverse_..., distribution: Uniform\n",
      "New layers, address: 260__forward___traverse___traverse_rec___traverse_..., distribution: Uniform\n",
      "New layers, address: 470__forward___traverse___traverse_rec___traverse_..., distribution: TruncatedExponential\n",
      "New layers, address: 520__forward___traverse___traverse_rec___traverse_..., distribution: TruncatedExponential\n",
      "New layers, address: 216__forward___traverse___traverse_rec___traverse_..., distribution: Uniform\n",
      "New layers, address: 260__forward___traverse___traverse_rec___traverse_..., distribution: Uniform\n",
      "New layers, address: 470__forward___traverse___traverse_rec___traverse_..., distribution: TruncatedExponential\n",
      "New layers, address: 520__forward___traverse___traverse_rec___traverse_..., distribution: TruncatedExponential\n",
      "New layers, address: 216__forward___traverse___traverse_rec___traverse_..., distribution: Uniform\n",
      "New layers, address: 260__forward___traverse___traverse_rec___traverse_..., distribution: Uniform\n",
      "New layers, address: 470__forward___traverse___traverse_rec___traverse_..., distribution: TruncatedExponential\n",
      "New layers, address: 520__forward___traverse___traverse_rec___traverse_..., distribution: TruncatedExponential\n",
      "New layers, address: 216__forward___traverse___traverse_rec___traverse_..., distribution: Uniform\n",
      "New layers, address: 260__forward___traverse___traverse_rec___traverse_..., distribution: Uniform\n",
      "New layers, address: 470__forward___traverse___traverse_rec___traverse_..., distribution: TruncatedExponential\n",
      "New layers, address: 520__forward___traverse___traverse_rec___traverse_..., distribution: TruncatedExponential\n",
      "New layers, address: 216__forward___traverse___traverse_rec___traverse_..., distribution: Uniform\n",
      "New layers, address: 260__forward___traverse___traverse_rec___traverse_..., distribution: Uniform\n",
      "New layers, address: 470__forward___traverse___traverse_rec___traverse_..., distribution: TruncatedExponential\n",
      "New layers, address: 520__forward___traverse___traverse_rec___traverse_..., distribution: TruncatedExponential\n",
      "New layers, address: 216__forward___traverse___traverse_rec___traverse_..., distribution: Uniform\n",
      "New layers, address: 260__forward___traverse___traverse_rec___traverse_..., distribution: Uniform\n",
      "New layers, address: 470__forward___traverse___traverse_rec___traverse_..., distribution: TruncatedExponential\n",
      "New layers, address: 520__forward___traverse___traverse_rec___traverse_..., distribution: TruncatedExponential\n",
      "New layers, address: 216__forward___traverse___traverse_rec___traverse_..., distribution: Uniform\n",
      "New layers, address: 260__forward___traverse___traverse_rec___traverse_..., distribution: Uniform\n",
      "New layers, address: 470__forward___traverse___traverse_rec___traverse_..., distribution: TruncatedExponential\n",
      "New layers, address: 520__forward___traverse___traverse_rec___traverse_..., distribution: TruncatedExponential\n",
      "New layers, address: 216__forward___traverse___traverse_rec___traverse_..., distribution: Uniform\n",
      "New layers, address: 260__forward___traverse___traverse_rec___traverse_..., distribution: Uniform\n",
      "New layers, address: 470__forward___traverse___traverse_rec___traverse_..., distribution: TruncatedExponential\n",
      "New layers, address: 520__forward___traverse___traverse_rec___traverse_..., distribution: TruncatedExponential\n",
      "New layers, address: 216__forward___traverse___traverse_rec___traverse_..., distribution: Uniform\n",
      "New layers, address: 260__forward___traverse___traverse_rec___traverse_..., distribution: Uniform\n",
      "New layers, address: 470__forward___traverse___traverse_rec___traverse_..., distribution: TruncatedExponential\n",
      "New layers, address: 520__forward___traverse___traverse_rec___traverse_..., distribution: TruncatedExponential\n",
      "New layers, address: 216__forward___traverse___traverse_rec___traverse_..., distribution: Uniform\n",
      "New layers, address: 260__forward___traverse___traverse_rec___traverse_..., distribution: Uniform\n",
      "New layers, address: 470__forward___traverse___traverse_rec___traverse_..., distribution: TruncatedExponential\n",
      "New layers, address: 520__forward___traverse___traverse_rec___traverse_..., distribution: TruncatedExponential\n",
      "New layers, address: 216__forward___traverse___traverse_rec___traverse_..., distribution: Uniform\n",
      "New layers, address: 260__forward___traverse___traverse_rec___traverse_..., distribution: Uniform\n",
      "New layers, address: 470__forward___traverse___traverse_rec___traverse_..., distribution: TruncatedExponential\n",
      "New layers, address: 520__forward___traverse___traverse_rec___traverse_..., distribution: TruncatedExponential\n",
      "New layers, address: 216__forward___traverse___traverse_rec___traverse_..., distribution: Uniform\n",
      "New layers, address: 260__forward___traverse___traverse_rec___traverse_..., distribution: Uniform\n",
      "New layers, address: 470__forward___traverse___traverse_rec___traverse_..., distribution: TruncatedExponential\n",
      "New layers, address: 520__forward___traverse___traverse_rec___traverse_..., distribution: TruncatedExponential\n",
      "New layers, address: 216__forward___traverse___traverse_rec___traverse_..., distribution: Uniform\n",
      "New layers, address: 260__forward___traverse___traverse_rec___traverse_..., distribution: Uniform\n",
      "New layers, address: 470__forward___traverse___traverse_rec___traverse_..., distribution: TruncatedExponential\n",
      "New layers, address: 520__forward___traverse___traverse_rec___traverse_..., distribution: TruncatedExponential\n",
      "New layers, address: 216__forward___traverse___traverse_rec___traverse_..., distribution: Uniform\n",
      "New layers, address: 260__forward___traverse___traverse_rec___traverse_..., distribution: Uniform\n",
      "New layers, address: 470__forward___traverse___traverse_rec___traverse_..., distribution: TruncatedExponential\n",
      "New layers, address: 520__forward___traverse___traverse_rec___traverse_..., distribution: TruncatedExponential\n",
      "New layers, address: 216__forward___traverse___traverse_rec___traverse_..., distribution: Uniform\n",
      "New layers, address: 260__forward___traverse___traverse_rec___traverse_..., distribution: Uniform\n",
      "New layers, address: 470__forward___traverse___traverse_rec___traverse_..., distribution: TruncatedExponential\n",
      "New layers, address: 520__forward___traverse___traverse_rec___traverse_..., distribution: TruncatedExponential\n",
      "New layers, address: 216__forward___traverse___traverse_rec___traverse_..., distribution: Uniform\n",
      "New layers, address: 260__forward___traverse___traverse_rec___traverse_..., distribution: Uniform\n",
      "New layers, address: 470__forward___traverse___traverse_rec___traverse_..., distribution: TruncatedExponential\n",
      "New layers, address: 520__forward___traverse___traverse_rec___traverse_..., distribution: TruncatedExponential\n",
      "New layers, address: 216__forward___traverse___traverse_rec___traverse_..., distribution: Uniform\n",
      "New layers, address: 260__forward___traverse___traverse_rec___traverse_..., distribution: Uniform\n",
      "New layers, address: 470__forward___traverse___traverse_rec___traverse_..., distribution: TruncatedExponential\n",
      "New layers, address: 520__forward___traverse___traverse_rec___traverse_..., distribution: TruncatedExponential\n",
      "New layers, address: 216__forward___traverse___traverse_rec___traverse_..., distribution: Uniform\n",
      "New layers, address: 260__forward___traverse___traverse_rec___traverse_..., distribution: Uniform\n",
      "New layers, address: 470__forward___traverse___traverse_rec___traverse_..., distribution: TruncatedExponential\n",
      "New layers, address: 520__forward___traverse___traverse_rec___traverse_..., distribution: TruncatedExponential\n",
      "New layers, address: 216__forward___traverse___traverse_rec___traverse_..., distribution: Uniform\n",
      "New layers, address: 260__forward___traverse___traverse_rec___traverse_..., distribution: Uniform\n",
      "New layers, address: 470__forward___traverse___traverse_rec___traverse_..., distribution: TruncatedExponential\n",
      "New layers, address: 520__forward___traverse___traverse_rec___traverse_..., distribution: TruncatedExponential\n",
      "Total addresses: 410, parameters: 209,106\n",
      "New layers, address: 216__forward___traverse___traverse_rec___traverse_..., distribution: Uniform1m\u001b[32m0d:00:00:00\u001b[0m | +1.00e-03 | 10.4 \n",
      "New layers, address: 260__forward___traverse___traverse_rec___traverse_..., distribution: Uniform\n",
      "New layers, address: 470__forward___traverse___traverse_rec___traverse_..., distribution: TruncatedExponential\n",
      "New layers, address: 520__forward___traverse___traverse_rec___traverse_..., distribution: TruncatedExponential\n",
      "New layers, address: 216__forward___traverse___traverse_rec___traverse_..., distribution: Uniform\n",
      "New layers, address: 260__forward___traverse___traverse_rec___traverse_..., distribution: Uniform\n",
      "New layers, address: 470__forward___traverse___traverse_rec___traverse_..., distribution: TruncatedExponential\n",
      "New layers, address: 520__forward___traverse___traverse_rec___traverse_..., distribution: TruncatedExponential\n",
      "New layers, address: 216__forward___traverse___traverse_rec___traverse_..., distribution: Uniform\n",
      "New layers, address: 260__forward___traverse___traverse_rec___traverse_..., distribution: Uniform\n",
      "New layers, address: 470__forward___traverse___traverse_rec___traverse_..., distribution: TruncatedExponential\n",
      "New layers, address: 520__forward___traverse___traverse_rec___traverse_..., distribution: TruncatedExponential\n",
      "New layers, address: 216__forward___traverse___traverse_rec___traverse_..., distribution: Uniform\n",
      "New layers, address: 260__forward___traverse___traverse_rec___traverse_..., distribution: Uniform\n",
      "New layers, address: 470__forward___traverse___traverse_rec___traverse_..., distribution: TruncatedExponential\n",
      "New layers, address: 520__forward___traverse___traverse_rec___traverse_..., distribution: TruncatedExponential\n",
      "New layers, address: 216__forward___traverse___traverse_rec___traverse_..., distribution: Uniform\n",
      "New layers, address: 260__forward___traverse___traverse_rec___traverse_..., distribution: Uniform\n",
      "New layers, address: 470__forward___traverse___traverse_rec___traverse_..., distribution: TruncatedExponential\n",
      "New layers, address: 520__forward___traverse___traverse_rec___traverse_..., distribution: TruncatedExponential\n",
      "New layers, address: 216__forward___traverse___traverse_rec___traverse_..., distribution: Uniform\n",
      "New layers, address: 260__forward___traverse___traverse_rec___traverse_..., distribution: Uniform\n",
      "New layers, address: 470__forward___traverse___traverse_rec___traverse_..., distribution: TruncatedExponential\n",
      "New layers, address: 520__forward___traverse___traverse_rec___traverse_..., distribution: TruncatedExponential\n",
      "New layers, address: 216__forward___traverse___traverse_rec___traverse_..., distribution: Uniform\n",
      "New layers, address: 260__forward___traverse___traverse_rec___traverse_..., distribution: Uniform\n",
      "New layers, address: 470__forward___traverse___traverse_rec___traverse_..., distribution: TruncatedExponential\n",
      "New layers, address: 520__forward___traverse___traverse_rec___traverse_..., distribution: TruncatedExponential\n",
      "New layers, address: 216__forward___traverse___traverse_rec___traverse_..., distribution: Uniform\n",
      "New layers, address: 260__forward___traverse___traverse_rec___traverse_..., distribution: Uniform\n",
      "New layers, address: 470__forward___traverse___traverse_rec___traverse_..., distribution: TruncatedExponential\n",
      "New layers, address: 520__forward___traverse___traverse_rec___traverse_..., distribution: TruncatedExponential\n",
      "New layers, address: 216__forward___traverse___traverse_rec___traverse_..., distribution: Uniform\n",
      "New layers, address: 260__forward___traverse___traverse_rec___traverse_..., distribution: Uniform\n",
      "New layers, address: 470__forward___traverse___traverse_rec___traverse_..., distribution: TruncatedExponential\n",
      "New layers, address: 520__forward___traverse___traverse_rec___traverse_..., distribution: TruncatedExponential\n",
      "New layers, address: 216__forward___traverse___traverse_rec___traverse_..., distribution: Uniform\n",
      "New layers, address: 260__forward___traverse___traverse_rec___traverse_..., distribution: Uniform\n",
      "New layers, address: 470__forward___traverse___traverse_rec___traverse_..., distribution: TruncatedExponential\n",
      "New layers, address: 520__forward___traverse___traverse_rec___traverse_..., distribution: TruncatedExponential\n",
      "Total addresses: 450, parameters: 229,506\n",
      "New layers, address: 216__forward___traverse___traverse_rec___traverse_..., distribution: Uniform1m\u001b[32m0d:00:00:00\u001b[0m | +1.00e-03 | 0.6  \n",
      "New layers, address: 260__forward___traverse___traverse_rec___traverse_..., distribution: Uniform\n",
      "New layers, address: 470__forward___traverse___traverse_rec___traverse_..., distribution: TruncatedExponential\n",
      "New layers, address: 520__forward___traverse___traverse_rec___traverse_..., distribution: TruncatedExponential\n",
      "New layers, address: 216__forward___traverse___traverse_rec___traverse_..., distribution: Uniform\n",
      "New layers, address: 260__forward___traverse___traverse_rec___traverse_..., distribution: Uniform\n",
      "New layers, address: 470__forward___traverse___traverse_rec___traverse_..., distribution: TruncatedExponential\n",
      "New layers, address: 520__forward___traverse___traverse_rec___traverse_..., distribution: TruncatedExponential\n",
      "New layers, address: 216__forward___traverse___traverse_rec___traverse_..., distribution: Uniform\n",
      "New layers, address: 260__forward___traverse___traverse_rec___traverse_..., distribution: Uniform\n",
      "New layers, address: 470__forward___traverse___traverse_rec___traverse_..., distribution: TruncatedExponential\n",
      "New layers, address: 520__forward___traverse___traverse_rec___traverse_..., distribution: TruncatedExponential\n",
      "New layers, address: 216__forward___traverse___traverse_rec___traverse_..., distribution: Uniform\n",
      "New layers, address: 260__forward___traverse___traverse_rec___traverse_..., distribution: Uniform\n",
      "New layers, address: 470__forward___traverse___traverse_rec___traverse_..., distribution: TruncatedExponential\n",
      "New layers, address: 520__forward___traverse___traverse_rec___traverse_..., distribution: TruncatedExponential\n",
      "New layers, address: 216__forward___traverse___traverse_rec___traverse_..., distribution: Uniform\n",
      "New layers, address: 260__forward___traverse___traverse_rec___traverse_..., distribution: Uniform\n",
      "New layers, address: 470__forward___traverse___traverse_rec___traverse_..., distribution: TruncatedExponential\n",
      "New layers, address: 520__forward___traverse___traverse_rec___traverse_..., distribution: TruncatedExponential\n",
      "New layers, address: 216__forward___traverse___traverse_rec___traverse_..., distribution: Uniform\n",
      "New layers, address: 260__forward___traverse___traverse_rec___traverse_..., distribution: Uniform\n",
      "New layers, address: 470__forward___traverse___traverse_rec___traverse_..., distribution: TruncatedExponential\n",
      "New layers, address: 520__forward___traverse___traverse_rec___traverse_..., distribution: TruncatedExponential\n",
      "New layers, address: 216__forward___traverse___traverse_rec___traverse_..., distribution: Uniform\n",
      "New layers, address: 260__forward___traverse___traverse_rec___traverse_..., distribution: Uniform\n",
      "New layers, address: 470__forward___traverse___traverse_rec___traverse_..., distribution: TruncatedExponential\n",
      "New layers, address: 520__forward___traverse___traverse_rec___traverse_..., distribution: TruncatedExponential\n",
      "New layers, address: 520__forward___traverse___traverse_rec___traverse_..., distribution: TruncatedExponential\n",
      "Total addresses: 479, parameters: 244,296\n",
      "New layers, address: 216__forward___traverse___traverse_rec___traverse_..., distribution: Uniforme-03 | 0.6                                \n",
      "New layers, address: 260__forward___traverse___traverse_rec___traverse_..., distribution: Uniform\n",
      "New layers, address: 470__forward___traverse___traverse_rec___traverse_..., distribution: TruncatedExponential\n",
      "New layers, address: 520__forward___traverse___traverse_rec___traverse_..., distribution: TruncatedExponential\n",
      "New layers, address: 216__forward___traverse___traverse_rec___traverse_..., distribution: Uniform\n",
      "New layers, address: 260__forward___traverse___traverse_rec___traverse_..., distribution: Uniform\n",
      "New layers, address: 470__forward___traverse___traverse_rec___traverse_..., distribution: TruncatedExponential\n",
      "New layers, address: 216__forward___traverse___traverse_rec___traverse_..., distribution: Uniform\n",
      "New layers, address: 260__forward___traverse___traverse_rec___traverse_..., distribution: Uniform\n",
      "New layers, address: 470__forward___traverse___traverse_rec___traverse_..., distribution: TruncatedExponential\n",
      "New layers, address: 520__forward___traverse___traverse_rec___traverse_..., distribution: TruncatedExponential\n",
      "New layers, address: 216__forward___traverse___traverse_rec___traverse_..., distribution: Uniform\n",
      "New layers, address: 260__forward___traverse___traverse_rec___traverse_..., distribution: Uniform\n",
      "New layers, address: 470__forward___traverse___traverse_rec___traverse_..., distribution: TruncatedExponential\n",
      "New layers, address: 520__forward___traverse___traverse_rec___traverse_..., distribution: TruncatedExponential\n",
      "Total addresses: 494, parameters: 251,946\n",
      "New layers, address: 470__forward___traverse___traverse_rec___traverse_..., distribution: TruncatedExponential00:00\u001b[0m | +1.00e-03 | 0.6  \n",
      "New layers, address: 216__forward___traverse___traverse_rec___traverse_..., distribution: Uniform\n",
      "New layers, address: 260__forward___traverse___traverse_rec___traverse_..., distribution: Uniform\n",
      "New layers, address: 470__forward___traverse___traverse_rec___traverse_..., distribution: TruncatedExponential\n",
      "New layers, address: 520__forward___traverse___traverse_rec___traverse_..., distribution: TruncatedExponential\n",
      "New layers, address: 216__forward___traverse___traverse_rec___traverse_..., distribution: Uniform\n",
      "New layers, address: 260__forward___traverse___traverse_rec___traverse_..., distribution: Uniform\n",
      "New layers, address: 470__forward___traverse___traverse_rec___traverse_..., distribution: TruncatedExponential\n",
      "New layers, address: 520__forward___traverse___traverse_rec___traverse_..., distribution: TruncatedExponential\n",
      "New layers, address: 520__forward___traverse___traverse_rec___traverse_..., distribution: TruncatedExponential\n",
      "Total addresses: 504, parameters: 257,046\n",
      "\n",
      "Stop condition reached. num_traces: 500\n",
      "0d:00:10:40 | 1    | 500       | +4.89e+01 | +4.70e+01 | \u001b[31m+4.97e+01\u001b[0m | 0d:00:02:18 | +1.00e-03 | 0.7                                \r\n",
      "Training iterations 1  epsilon inf  ESS 0.0\n",
      "Continuing to train existing inference network...\n",
      "Total number of parameters: 257,046\n",
      "Train. time | Epoch| Trace     | Init. loss| Min. loss | Curr. loss| T.since min | Learn.rate| Traces/sec\n",
      "Time spent  | Time remain.| Progress             | Trace     | ESS    | Traces/sec\n",
      "0d:00:00:07 | 0d:03:39:18 | -------------------- |    3/5000 |   1.00 | 0.38       \r"
     ]
    },
    {
     "name": "stderr",
     "output_type": "stream",
     "text": [
      "/home/tt21642/dispyprob/pyprob/pyprob/nn/inference_network_feedforward.py:67: UserWarning: Using prior. No proposal for address: 216__forward___traverse___traverse_rec___traverse_rec___traverse_rec___traverse_rec___traverse_rec___traverse_rec___traverse_rec__?__Uniform__14\n",
      "  warnings.warn('Using prior. No proposal for address: {}'.format(address))\n",
      "/home/tt21642/dispyprob/pyprob/pyprob/nn/inference_network_feedforward.py:67: UserWarning: Using prior. No proposal for address: 260__forward___traverse___traverse_rec___traverse_rec___traverse_rec___traverse_rec___traverse_rec___traverse_rec___traverse_rec__theta_CM_U__Uniform__14\n",
      "  warnings.warn('Using prior. No proposal for address: {}'.format(address))\n",
      "/home/tt21642/dispyprob/pyprob/pyprob/nn/inference_network_feedforward.py:67: UserWarning: Using prior. No proposal for address: 470__forward___traverse___traverse_rec___traverse_rec___traverse_rec___traverse_rec___traverse_rec___traverse_rec___traverse_rec__draw_decay_L__TruncatedExponential__14\n",
      "  warnings.warn('Using prior. No proposal for address: {}'.format(address))\n",
      "/home/tt21642/dispyprob/pyprob/pyprob/nn/inference_network_feedforward.py:67: UserWarning: Using prior. No proposal for address: 520__forward___traverse___traverse_rec___traverse_rec___traverse_rec___traverse_rec___traverse_rec___traverse_rec___traverse_rec__draw_decay_R__TruncatedExponential__14\n",
      "  warnings.warn('Using prior. No proposal for address: {}'.format(address))\n"
     ]
    },
    {
     "name": "stdout",
     "output_type": "stream",
     "text": [
      "0d:00:00:27 | 0d:03:52:44 | -------------------- |   10/5000 |   1.00 | 0.36       \r"
     ]
    },
    {
     "name": "stderr",
     "output_type": "stream",
     "text": [
      "/home/tt21642/dispyprob/pyprob/pyprob/nn/inference_network_feedforward.py:67: UserWarning: Using prior. No proposal for address: 216__forward___traverse___traverse_rec___traverse_rec___traverse_rec___traverse_rec___traverse_rec___traverse_rec___traverse_rec___traverse_rec__?__Uniform__14\n",
      "  warnings.warn('Using prior. No proposal for address: {}'.format(address))\n",
      "/home/tt21642/dispyprob/pyprob/pyprob/nn/inference_network_feedforward.py:67: UserWarning: Using prior. No proposal for address: 260__forward___traverse___traverse_rec___traverse_rec___traverse_rec___traverse_rec___traverse_rec___traverse_rec___traverse_rec___traverse_rec__theta_CM_U__Uniform__14\n",
      "  warnings.warn('Using prior. No proposal for address: {}'.format(address))\n",
      "/home/tt21642/dispyprob/pyprob/pyprob/nn/inference_network_feedforward.py:67: UserWarning: Using prior. No proposal for address: 470__forward___traverse___traverse_rec___traverse_rec___traverse_rec___traverse_rec___traverse_rec___traverse_rec___traverse_rec___traverse_rec__draw_decay_L__TruncatedExponential__14\n",
      "  warnings.warn('Using prior. No proposal for address: {}'.format(address))\n",
      "/home/tt21642/dispyprob/pyprob/pyprob/nn/inference_network_feedforward.py:67: UserWarning: Using prior. No proposal for address: 216__forward___traverse___traverse_rec___traverse_rec___traverse_rec___traverse_rec___traverse_rec___traverse_rec___traverse_rec___traverse_rec__?__Uniform__15\n",
      "  warnings.warn('Using prior. No proposal for address: {}'.format(address))\n",
      "/home/tt21642/dispyprob/pyprob/pyprob/nn/inference_network_feedforward.py:67: UserWarning: Using prior. No proposal for address: 260__forward___traverse___traverse_rec___traverse_rec___traverse_rec___traverse_rec___traverse_rec___traverse_rec___traverse_rec___traverse_rec__theta_CM_U__Uniform__15\n",
      "  warnings.warn('Using prior. No proposal for address: {}'.format(address))\n",
      "/home/tt21642/dispyprob/pyprob/pyprob/nn/inference_network_feedforward.py:67: UserWarning: Using prior. No proposal for address: 470__forward___traverse___traverse_rec___traverse_rec___traverse_rec___traverse_rec___traverse_rec___traverse_rec___traverse_rec___traverse_rec__draw_decay_L__TruncatedExponential__15\n",
      "  warnings.warn('Using prior. No proposal for address: {}'.format(address))\n",
      "/home/tt21642/dispyprob/pyprob/pyprob/nn/inference_network_feedforward.py:67: UserWarning: Using prior. No proposal for address: 520__forward___traverse___traverse_rec___traverse_rec___traverse_rec___traverse_rec___traverse_rec___traverse_rec___traverse_rec___traverse_rec__draw_decay_R__TruncatedExponential__15\n",
      "  warnings.warn('Using prior. No proposal for address: {}'.format(address))\n",
      "/home/tt21642/dispyprob/pyprob/pyprob/nn/inference_network_feedforward.py:67: UserWarning: Using prior. No proposal for address: 216__forward___traverse___traverse_rec___traverse_rec___traverse_rec___traverse_rec___traverse_rec___traverse_rec___traverse_rec___traverse_rec___traverse_rec___traverse_rec___traverse_rec___traverse_rec___traverse_rec___traverse_rec___traverse_rec___traverse_rec___traverse_rec___traverse_rec__?__Uniform__1\n",
      "  warnings.warn('Using prior. No proposal for address: {}'.format(address))\n",
      "/home/tt21642/dispyprob/pyprob/pyprob/nn/inference_network_feedforward.py:67: UserWarning: Using prior. No proposal for address: 260__forward___traverse___traverse_rec___traverse_rec___traverse_rec___traverse_rec___traverse_rec___traverse_rec___traverse_rec___traverse_rec___traverse_rec___traverse_rec___traverse_rec___traverse_rec___traverse_rec___traverse_rec___traverse_rec___traverse_rec___traverse_rec___traverse_rec__theta_CM_U__Uniform__1\n",
      "  warnings.warn('Using prior. No proposal for address: {}'.format(address))\n",
      "/home/tt21642/dispyprob/pyprob/pyprob/nn/inference_network_feedforward.py:67: UserWarning: Using prior. No proposal for address: 470__forward___traverse___traverse_rec___traverse_rec___traverse_rec___traverse_rec___traverse_rec___traverse_rec___traverse_rec___traverse_rec___traverse_rec___traverse_rec___traverse_rec___traverse_rec___traverse_rec___traverse_rec___traverse_rec___traverse_rec___traverse_rec___traverse_rec__draw_decay_L__TruncatedExponential__1\n",
      "  warnings.warn('Using prior. No proposal for address: {}'.format(address))\n",
      "/home/tt21642/dispyprob/pyprob/pyprob/nn/inference_network_feedforward.py:67: UserWarning: Using prior. No proposal for address: 520__forward___traverse___traverse_rec___traverse_rec___traverse_rec___traverse_rec___traverse_rec___traverse_rec___traverse_rec___traverse_rec___traverse_rec___traverse_rec___traverse_rec___traverse_rec___traverse_rec___traverse_rec___traverse_rec___traverse_rec___traverse_rec___traverse_rec__draw_decay_R__TruncatedExponential__1\n",
      "  warnings.warn('Using prior. No proposal for address: {}'.format(address))\n",
      "/home/tt21642/dispyprob/pyprob/pyprob/nn/inference_network_feedforward.py:67: UserWarning: Using prior. No proposal for address: 216__forward___traverse___traverse_rec___traverse_rec___traverse_rec___traverse_rec___traverse_rec___traverse_rec___traverse_rec___traverse_rec___traverse_rec__?__Uniform__12\n",
      "  warnings.warn('Using prior. No proposal for address: {}'.format(address))\n",
      "/home/tt21642/dispyprob/pyprob/pyprob/nn/inference_network_feedforward.py:67: UserWarning: Using prior. No proposal for address: 260__forward___traverse___traverse_rec___traverse_rec___traverse_rec___traverse_rec___traverse_rec___traverse_rec___traverse_rec___traverse_rec___traverse_rec__theta_CM_U__Uniform__12\n",
      "  warnings.warn('Using prior. No proposal for address: {}'.format(address))\n",
      "/home/tt21642/dispyprob/pyprob/pyprob/nn/inference_network_feedforward.py:67: UserWarning: Using prior. No proposal for address: 470__forward___traverse___traverse_rec___traverse_rec___traverse_rec___traverse_rec___traverse_rec___traverse_rec___traverse_rec___traverse_rec___traverse_rec__draw_decay_L__TruncatedExponential__12\n",
      "  warnings.warn('Using prior. No proposal for address: {}'.format(address))\n",
      "/home/tt21642/dispyprob/pyprob/pyprob/nn/inference_network_feedforward.py:67: UserWarning: Using prior. No proposal for address: 520__forward___traverse___traverse_rec___traverse_rec___traverse_rec___traverse_rec___traverse_rec___traverse_rec___traverse_rec___traverse_rec___traverse_rec__draw_decay_R__TruncatedExponential__12\n",
      "  warnings.warn('Using prior. No proposal for address: {}'.format(address))\n",
      "/home/tt21642/dispyprob/pyprob/pyprob/nn/inference_network_feedforward.py:67: UserWarning: Using prior. No proposal for address: 216__forward___traverse___traverse_rec___traverse_rec___traverse_rec___traverse_rec___traverse_rec___traverse_rec___traverse_rec___traverse_rec___traverse_rec__?__Uniform__13\n",
      "  warnings.warn('Using prior. No proposal for address: {}'.format(address))\n",
      "/home/tt21642/dispyprob/pyprob/pyprob/nn/inference_network_feedforward.py:67: UserWarning: Using prior. No proposal for address: 260__forward___traverse___traverse_rec___traverse_rec___traverse_rec___traverse_rec___traverse_rec___traverse_rec___traverse_rec___traverse_rec___traverse_rec__theta_CM_U__Uniform__13\n",
      "  warnings.warn('Using prior. No proposal for address: {}'.format(address))\n",
      "/home/tt21642/dispyprob/pyprob/pyprob/nn/inference_network_feedforward.py:67: UserWarning: Using prior. No proposal for address: 470__forward___traverse___traverse_rec___traverse_rec___traverse_rec___traverse_rec___traverse_rec___traverse_rec___traverse_rec___traverse_rec___traverse_rec__draw_decay_L__TruncatedExponential__13\n",
      "  warnings.warn('Using prior. No proposal for address: {}'.format(address))\n",
      "/home/tt21642/dispyprob/pyprob/pyprob/nn/inference_network_feedforward.py:67: UserWarning: Using prior. No proposal for address: 520__forward___traverse___traverse_rec___traverse_rec___traverse_rec___traverse_rec___traverse_rec___traverse_rec___traverse_rec___traverse_rec___traverse_rec__draw_decay_R__TruncatedExponential__13\n",
      "  warnings.warn('Using prior. No proposal for address: {}'.format(address))\n",
      "/home/tt21642/dispyprob/pyprob/pyprob/nn/inference_network_feedforward.py:67: UserWarning: Using prior. No proposal for address: 216__forward___traverse___traverse_rec___traverse_rec___traverse_rec___traverse_rec___traverse_rec___traverse_rec___traverse_rec___traverse_rec___traverse_rec___traverse_rec__?__Uniform__11\n",
      "  warnings.warn('Using prior. No proposal for address: {}'.format(address))\n",
      "/home/tt21642/dispyprob/pyprob/pyprob/nn/inference_network_feedforward.py:67: UserWarning: Using prior. No proposal for address: 260__forward___traverse___traverse_rec___traverse_rec___traverse_rec___traverse_rec___traverse_rec___traverse_rec___traverse_rec___traverse_rec___traverse_rec___traverse_rec__theta_CM_U__Uniform__11\n",
      "  warnings.warn('Using prior. No proposal for address: {}'.format(address))\n",
      "/home/tt21642/dispyprob/pyprob/pyprob/nn/inference_network_feedforward.py:67: UserWarning: Using prior. No proposal for address: 470__forward___traverse___traverse_rec___traverse_rec___traverse_rec___traverse_rec___traverse_rec___traverse_rec___traverse_rec___traverse_rec___traverse_rec___traverse_rec__draw_decay_L__TruncatedExponential__11\n",
      "  warnings.warn('Using prior. No proposal for address: {}'.format(address))\n",
      "/home/tt21642/dispyprob/pyprob/pyprob/nn/inference_network_feedforward.py:67: UserWarning: Using prior. No proposal for address: 520__forward___traverse___traverse_rec___traverse_rec___traverse_rec___traverse_rec___traverse_rec___traverse_rec___traverse_rec___traverse_rec___traverse_rec___traverse_rec__draw_decay_R__TruncatedExponential__11\n",
      "  warnings.warn('Using prior. No proposal for address: {}'.format(address))\n",
      "/home/tt21642/dispyprob/pyprob/pyprob/nn/inference_network_feedforward.py:67: UserWarning: Using prior. No proposal for address: 216__forward___traverse___traverse_rec___traverse_rec___traverse_rec___traverse_rec___traverse_rec___traverse_rec___traverse_rec___traverse_rec___traverse_rec__?__Uniform__14\n",
      "  warnings.warn('Using prior. No proposal for address: {}'.format(address))\n",
      "/home/tt21642/dispyprob/pyprob/pyprob/nn/inference_network_feedforward.py:67: UserWarning: Using prior. No proposal for address: 260__forward___traverse___traverse_rec___traverse_rec___traverse_rec___traverse_rec___traverse_rec___traverse_rec___traverse_rec___traverse_rec___traverse_rec__theta_CM_U__Uniform__14\n",
      "  warnings.warn('Using prior. No proposal for address: {}'.format(address))\n",
      "/home/tt21642/dispyprob/pyprob/pyprob/nn/inference_network_feedforward.py:67: UserWarning: Using prior. No proposal for address: 470__forward___traverse___traverse_rec___traverse_rec___traverse_rec___traverse_rec___traverse_rec___traverse_rec___traverse_rec___traverse_rec___traverse_rec__draw_decay_L__TruncatedExponential__14\n",
      "  warnings.warn('Using prior. No proposal for address: {}'.format(address))\n",
      "/home/tt21642/dispyprob/pyprob/pyprob/nn/inference_network_feedforward.py:67: UserWarning: Using prior. No proposal for address: 520__forward___traverse___traverse_rec___traverse_rec___traverse_rec___traverse_rec___traverse_rec___traverse_rec___traverse_rec___traverse_rec___traverse_rec__draw_decay_R__TruncatedExponential__14\n",
      "  warnings.warn('Using prior. No proposal for address: {}'.format(address))\n"
     ]
    },
    {
     "name": "stdout",
     "output_type": "stream",
     "text": [
      "0d:00:00:31 | 0d:04:00:21 | -------------------- |   11/5000 |   1.00 | 0.35       \r"
     ]
    },
    {
     "name": "stderr",
     "output_type": "stream",
     "text": [
      "/home/tt21642/dispyprob/pyprob/pyprob/nn/inference_network_feedforward.py:67: UserWarning: Using prior. No proposal for address: 216__forward___traverse___traverse_rec___traverse_rec___traverse_rec___traverse_rec___traverse_rec___traverse_rec___traverse_rec__?__Uniform__15\n",
      "  warnings.warn('Using prior. No proposal for address: {}'.format(address))\n",
      "/home/tt21642/dispyprob/pyprob/pyprob/nn/inference_network_feedforward.py:67: UserWarning: Using prior. No proposal for address: 260__forward___traverse___traverse_rec___traverse_rec___traverse_rec___traverse_rec___traverse_rec___traverse_rec___traverse_rec__theta_CM_U__Uniform__15\n",
      "  warnings.warn('Using prior. No proposal for address: {}'.format(address))\n",
      "/home/tt21642/dispyprob/pyprob/pyprob/nn/inference_network_feedforward.py:67: UserWarning: Using prior. No proposal for address: 470__forward___traverse___traverse_rec___traverse_rec___traverse_rec___traverse_rec___traverse_rec___traverse_rec___traverse_rec__draw_decay_L__TruncatedExponential__15\n",
      "  warnings.warn('Using prior. No proposal for address: {}'.format(address))\n",
      "/home/tt21642/dispyprob/pyprob/pyprob/nn/inference_network_feedforward.py:67: UserWarning: Using prior. No proposal for address: 520__forward___traverse___traverse_rec___traverse_rec___traverse_rec___traverse_rec___traverse_rec___traverse_rec___traverse_rec__draw_decay_R__TruncatedExponential__15\n",
      "  warnings.warn('Using prior. No proposal for address: {}'.format(address))\n",
      "/home/tt21642/dispyprob/pyprob/pyprob/nn/inference_network_feedforward.py:67: UserWarning: Using prior. No proposal for address: 216__forward___traverse___traverse_rec___traverse_rec___traverse_rec___traverse_rec___traverse_rec___traverse_rec___traverse_rec___traverse_rec__?__Uniform__16\n",
      "  warnings.warn('Using prior. No proposal for address: {}'.format(address))\n",
      "/home/tt21642/dispyprob/pyprob/pyprob/nn/inference_network_feedforward.py:67: UserWarning: Using prior. No proposal for address: 260__forward___traverse___traverse_rec___traverse_rec___traverse_rec___traverse_rec___traverse_rec___traverse_rec___traverse_rec___traverse_rec__theta_CM_U__Uniform__16\n",
      "  warnings.warn('Using prior. No proposal for address: {}'.format(address))\n",
      "/home/tt21642/dispyprob/pyprob/pyprob/nn/inference_network_feedforward.py:67: UserWarning: Using prior. No proposal for address: 470__forward___traverse___traverse_rec___traverse_rec___traverse_rec___traverse_rec___traverse_rec___traverse_rec___traverse_rec___traverse_rec__draw_decay_L__TruncatedExponential__16\n",
      "  warnings.warn('Using prior. No proposal for address: {}'.format(address))\n",
      "/home/tt21642/dispyprob/pyprob/pyprob/nn/inference_network_feedforward.py:67: UserWarning: Using prior. No proposal for address: 520__forward___traverse___traverse_rec___traverse_rec___traverse_rec___traverse_rec___traverse_rec___traverse_rec___traverse_rec___traverse_rec__draw_decay_R__TruncatedExponential__16\n",
      "  warnings.warn('Using prior. No proposal for address: {}'.format(address))\n",
      "/home/tt21642/dispyprob/pyprob/pyprob/nn/inference_network_feedforward.py:67: UserWarning: Using prior. No proposal for address: 216__forward___traverse___traverse_rec___traverse_rec___traverse_rec___traverse_rec___traverse_rec___traverse_rec___traverse_rec___traverse_rec___traverse_rec___traverse_rec___traverse_rec___traverse_rec___traverse_rec___traverse_rec___traverse_rec___traverse_rec___traverse_rec__?__Uniform__2\n",
      "  warnings.warn('Using prior. No proposal for address: {}'.format(address))\n",
      "/home/tt21642/dispyprob/pyprob/pyprob/nn/inference_network_feedforward.py:67: UserWarning: Using prior. No proposal for address: 260__forward___traverse___traverse_rec___traverse_rec___traverse_rec___traverse_rec___traverse_rec___traverse_rec___traverse_rec___traverse_rec___traverse_rec___traverse_rec___traverse_rec___traverse_rec___traverse_rec___traverse_rec___traverse_rec___traverse_rec___traverse_rec__theta_CM_U__Uniform__2\n",
      "  warnings.warn('Using prior. No proposal for address: {}'.format(address))\n",
      "/home/tt21642/dispyprob/pyprob/pyprob/nn/inference_network_feedforward.py:67: UserWarning: Using prior. No proposal for address: 470__forward___traverse___traverse_rec___traverse_rec___traverse_rec___traverse_rec___traverse_rec___traverse_rec___traverse_rec___traverse_rec___traverse_rec___traverse_rec___traverse_rec___traverse_rec___traverse_rec___traverse_rec___traverse_rec___traverse_rec___traverse_rec__draw_decay_L__TruncatedExponential__2\n",
      "  warnings.warn('Using prior. No proposal for address: {}'.format(address))\n",
      "/home/tt21642/dispyprob/pyprob/pyprob/nn/inference_network_feedforward.py:67: UserWarning: Using prior. No proposal for address: 520__forward___traverse___traverse_rec___traverse_rec___traverse_rec___traverse_rec___traverse_rec___traverse_rec___traverse_rec___traverse_rec___traverse_rec___traverse_rec___traverse_rec___traverse_rec___traverse_rec___traverse_rec___traverse_rec___traverse_rec___traverse_rec__draw_decay_R__TruncatedExponential__2\n",
      "  warnings.warn('Using prior. No proposal for address: {}'.format(address))\n"
     ]
    },
    {
     "name": "stdout",
     "output_type": "stream",
     "text": [
      "0d:00:00:41 | 0d:03:50:35 | -------------------- |   15/5000 |   1.00 | 0.36       \r"
     ]
    },
    {
     "name": "stderr",
     "output_type": "stream",
     "text": [
      "/home/tt21642/dispyprob/pyprob/pyprob/nn/inference_network_feedforward.py:67: UserWarning: Using prior. No proposal for address: 216__forward___traverse___traverse_rec___traverse_rec___traverse_rec___traverse_rec___traverse_rec___traverse_rec___traverse_rec___traverse_rec___traverse_rec___traverse_rec___traverse_rec___traverse_rec__?__Uniform__8\n",
      "  warnings.warn('Using prior. No proposal for address: {}'.format(address))\n",
      "/home/tt21642/dispyprob/pyprob/pyprob/nn/inference_network_feedforward.py:67: UserWarning: Using prior. No proposal for address: 260__forward___traverse___traverse_rec___traverse_rec___traverse_rec___traverse_rec___traverse_rec___traverse_rec___traverse_rec___traverse_rec___traverse_rec___traverse_rec___traverse_rec___traverse_rec__theta_CM_U__Uniform__8\n",
      "  warnings.warn('Using prior. No proposal for address: {}'.format(address))\n",
      "/home/tt21642/dispyprob/pyprob/pyprob/nn/inference_network_feedforward.py:67: UserWarning: Using prior. No proposal for address: 470__forward___traverse___traverse_rec___traverse_rec___traverse_rec___traverse_rec___traverse_rec___traverse_rec___traverse_rec___traverse_rec___traverse_rec___traverse_rec___traverse_rec___traverse_rec__draw_decay_L__TruncatedExponential__8\n",
      "  warnings.warn('Using prior. No proposal for address: {}'.format(address))\n",
      "/home/tt21642/dispyprob/pyprob/pyprob/nn/inference_network_feedforward.py:67: UserWarning: Using prior. No proposal for address: 520__forward___traverse___traverse_rec___traverse_rec___traverse_rec___traverse_rec___traverse_rec___traverse_rec___traverse_rec___traverse_rec___traverse_rec___traverse_rec___traverse_rec___traverse_rec__draw_decay_R__TruncatedExponential__8\n",
      "  warnings.warn('Using prior. No proposal for address: {}'.format(address))\n",
      "/home/tt21642/dispyprob/pyprob/pyprob/nn/inference_network_feedforward.py:67: UserWarning: Using prior. No proposal for address: 216__forward___traverse___traverse_rec___traverse_rec___traverse_rec___traverse_rec___traverse_rec___traverse_rec___traverse_rec___traverse_rec___traverse_rec___traverse_rec___traverse_rec__?__Uniform__11\n",
      "  warnings.warn('Using prior. No proposal for address: {}'.format(address))\n",
      "/home/tt21642/dispyprob/pyprob/pyprob/nn/inference_network_feedforward.py:67: UserWarning: Using prior. No proposal for address: 260__forward___traverse___traverse_rec___traverse_rec___traverse_rec___traverse_rec___traverse_rec___traverse_rec___traverse_rec___traverse_rec___traverse_rec___traverse_rec___traverse_rec__theta_CM_U__Uniform__11\n",
      "  warnings.warn('Using prior. No proposal for address: {}'.format(address))\n",
      "/home/tt21642/dispyprob/pyprob/pyprob/nn/inference_network_feedforward.py:67: UserWarning: Using prior. No proposal for address: 470__forward___traverse___traverse_rec___traverse_rec___traverse_rec___traverse_rec___traverse_rec___traverse_rec___traverse_rec___traverse_rec___traverse_rec___traverse_rec___traverse_rec__draw_decay_L__TruncatedExponential__11\n",
      "  warnings.warn('Using prior. No proposal for address: {}'.format(address))\n",
      "/home/tt21642/dispyprob/pyprob/pyprob/nn/inference_network_feedforward.py:67: UserWarning: Using prior. No proposal for address: 520__forward___traverse___traverse_rec___traverse_rec___traverse_rec___traverse_rec___traverse_rec___traverse_rec___traverse_rec___traverse_rec___traverse_rec___traverse_rec___traverse_rec__draw_decay_R__TruncatedExponential__11\n",
      "  warnings.warn('Using prior. No proposal for address: {}'.format(address))\n",
      "/home/tt21642/dispyprob/pyprob/pyprob/nn/inference_network_feedforward.py:67: UserWarning: Using prior. No proposal for address: 216__forward___traverse___traverse_rec___traverse_rec___traverse_rec___traverse_rec___traverse_rec___traverse_rec___traverse_rec___traverse_rec___traverse_rec___traverse_rec___traverse_rec___traverse_rec__?__Uniform__9\n",
      "  warnings.warn('Using prior. No proposal for address: {}'.format(address))\n",
      "/home/tt21642/dispyprob/pyprob/pyprob/nn/inference_network_feedforward.py:67: UserWarning: Using prior. No proposal for address: 260__forward___traverse___traverse_rec___traverse_rec___traverse_rec___traverse_rec___traverse_rec___traverse_rec___traverse_rec___traverse_rec___traverse_rec___traverse_rec___traverse_rec___traverse_rec__theta_CM_U__Uniform__9\n",
      "  warnings.warn('Using prior. No proposal for address: {}'.format(address))\n",
      "/home/tt21642/dispyprob/pyprob/pyprob/nn/inference_network_feedforward.py:67: UserWarning: Using prior. No proposal for address: 470__forward___traverse___traverse_rec___traverse_rec___traverse_rec___traverse_rec___traverse_rec___traverse_rec___traverse_rec___traverse_rec___traverse_rec___traverse_rec___traverse_rec___traverse_rec__draw_decay_L__TruncatedExponential__9\n",
      "  warnings.warn('Using prior. No proposal for address: {}'.format(address))\n",
      "/home/tt21642/dispyprob/pyprob/pyprob/nn/inference_network_feedforward.py:67: UserWarning: Using prior. No proposal for address: 520__forward___traverse___traverse_rec___traverse_rec___traverse_rec___traverse_rec___traverse_rec___traverse_rec___traverse_rec___traverse_rec___traverse_rec___traverse_rec___traverse_rec___traverse_rec__draw_decay_R__TruncatedExponential__9\n",
      "  warnings.warn('Using prior. No proposal for address: {}'.format(address))\n",
      "/home/tt21642/dispyprob/pyprob/pyprob/nn/inference_network_feedforward.py:67: UserWarning: Using prior. No proposal for address: 216__forward___traverse___traverse_rec___traverse_rec___traverse_rec___traverse_rec___traverse_rec___traverse_rec___traverse_rec___traverse_rec___traverse_rec___traverse_rec___traverse_rec__?__Uniform__12\n",
      "  warnings.warn('Using prior. No proposal for address: {}'.format(address))\n",
      "/home/tt21642/dispyprob/pyprob/pyprob/nn/inference_network_feedforward.py:67: UserWarning: Using prior. No proposal for address: 260__forward___traverse___traverse_rec___traverse_rec___traverse_rec___traverse_rec___traverse_rec___traverse_rec___traverse_rec___traverse_rec___traverse_rec___traverse_rec___traverse_rec__theta_CM_U__Uniform__12\n",
      "  warnings.warn('Using prior. No proposal for address: {}'.format(address))\n",
      "/home/tt21642/dispyprob/pyprob/pyprob/nn/inference_network_feedforward.py:67: UserWarning: Using prior. No proposal for address: 470__forward___traverse___traverse_rec___traverse_rec___traverse_rec___traverse_rec___traverse_rec___traverse_rec___traverse_rec___traverse_rec___traverse_rec___traverse_rec___traverse_rec__draw_decay_L__TruncatedExponential__12\n",
      "  warnings.warn('Using prior. No proposal for address: {}'.format(address))\n",
      "/home/tt21642/dispyprob/pyprob/pyprob/nn/inference_network_feedforward.py:67: UserWarning: Using prior. No proposal for address: 520__forward___traverse___traverse_rec___traverse_rec___traverse_rec___traverse_rec___traverse_rec___traverse_rec___traverse_rec___traverse_rec___traverse_rec___traverse_rec___traverse_rec__draw_decay_R__TruncatedExponential__12\n",
      "  warnings.warn('Using prior. No proposal for address: {}'.format(address))\n",
      "/home/tt21642/dispyprob/pyprob/pyprob/nn/inference_network_feedforward.py:67: UserWarning: Using prior. No proposal for address: 216__forward___traverse___traverse_rec___traverse_rec___traverse_rec___traverse_rec___traverse_rec___traverse_rec___traverse_rec___traverse_rec___traverse_rec___traverse_rec___traverse_rec___traverse_rec__?__Uniform__10\n",
      "  warnings.warn('Using prior. No proposal for address: {}'.format(address))\n",
      "/home/tt21642/dispyprob/pyprob/pyprob/nn/inference_network_feedforward.py:67: UserWarning: Using prior. No proposal for address: 260__forward___traverse___traverse_rec___traverse_rec___traverse_rec___traverse_rec___traverse_rec___traverse_rec___traverse_rec___traverse_rec___traverse_rec___traverse_rec___traverse_rec___traverse_rec__theta_CM_U__Uniform__10\n",
      "  warnings.warn('Using prior. No proposal for address: {}'.format(address))\n",
      "/home/tt21642/dispyprob/pyprob/pyprob/nn/inference_network_feedforward.py:67: UserWarning: Using prior. No proposal for address: 470__forward___traverse___traverse_rec___traverse_rec___traverse_rec___traverse_rec___traverse_rec___traverse_rec___traverse_rec___traverse_rec___traverse_rec___traverse_rec___traverse_rec___traverse_rec__draw_decay_L__TruncatedExponential__10\n",
      "  warnings.warn('Using prior. No proposal for address: {}'.format(address))\n",
      "/home/tt21642/dispyprob/pyprob/pyprob/nn/inference_network_feedforward.py:67: UserWarning: Using prior. No proposal for address: 520__forward___traverse___traverse_rec___traverse_rec___traverse_rec___traverse_rec___traverse_rec___traverse_rec___traverse_rec___traverse_rec___traverse_rec___traverse_rec___traverse_rec___traverse_rec__draw_decay_R__TruncatedExponential__10\n",
      "  warnings.warn('Using prior. No proposal for address: {}'.format(address))\n"
     ]
    },
    {
     "name": "stdout",
     "output_type": "stream",
     "text": [
      "------------------------------------------------ |   21/5000 |   1.00 | 0.38       \n"
     ]
    },
    {
     "name": "stderr",
     "output_type": "stream",
     "text": [
      "/home/tt21642/dispyprob/ToyJetsShower/showerSim/invMass_ginkgo.py:303: RuntimeWarning: invalid value encountered in sqrt\n",
      "  logger.debug(f\"pR inv mass from p^2 in lab  frame: {np.sqrt(pR_mu[0] ** 2 - np.linalg.norm(pR_mu[1::]) ** 2)}\")\n"
     ]
    },
    {
     "name": "stdout",
     "output_type": "stream",
     "text": [
      "0d:00:01:09 | 0d:03:42:23 | -------------------- |   26/5000 |   1.00 | 0.37       \r"
     ]
    },
    {
     "name": "stderr",
     "output_type": "stream",
     "text": [
      "/home/tt21642/dispyprob/pyprob/pyprob/nn/inference_network_feedforward.py:67: UserWarning: Using prior. No proposal for address: 216__forward___traverse___traverse_rec___traverse_rec___traverse_rec___traverse_rec___traverse_rec___traverse_rec__?__Uniform__14\n",
      "  warnings.warn('Using prior. No proposal for address: {}'.format(address))\n",
      "/home/tt21642/dispyprob/pyprob/pyprob/nn/inference_network_feedforward.py:67: UserWarning: Using prior. No proposal for address: 260__forward___traverse___traverse_rec___traverse_rec___traverse_rec___traverse_rec___traverse_rec___traverse_rec__theta_CM_U__Uniform__14\n",
      "  warnings.warn('Using prior. No proposal for address: {}'.format(address))\n",
      "/home/tt21642/dispyprob/pyprob/pyprob/nn/inference_network_feedforward.py:67: UserWarning: Using prior. No proposal for address: 470__forward___traverse___traverse_rec___traverse_rec___traverse_rec___traverse_rec___traverse_rec___traverse_rec__draw_decay_L__TruncatedExponential__14\n",
      "  warnings.warn('Using prior. No proposal for address: {}'.format(address))\n",
      "/home/tt21642/dispyprob/pyprob/pyprob/nn/inference_network_feedforward.py:67: UserWarning: Using prior. No proposal for address: 520__forward___traverse___traverse_rec___traverse_rec___traverse_rec___traverse_rec___traverse_rec___traverse_rec__draw_decay_R__TruncatedExponential__14\n",
      "  warnings.warn('Using prior. No proposal for address: {}'.format(address))\n",
      "/home/tt21642/dispyprob/pyprob/pyprob/nn/inference_network_feedforward.py:67: UserWarning: Using prior. No proposal for address: 216__forward___traverse___traverse_rec___traverse_rec___traverse_rec___traverse_rec___traverse_rec___traverse_rec__?__Uniform__15\n",
      "  warnings.warn('Using prior. No proposal for address: {}'.format(address))\n",
      "/home/tt21642/dispyprob/pyprob/pyprob/nn/inference_network_feedforward.py:67: UserWarning: Using prior. No proposal for address: 260__forward___traverse___traverse_rec___traverse_rec___traverse_rec___traverse_rec___traverse_rec___traverse_rec__theta_CM_U__Uniform__15\n",
      "  warnings.warn('Using prior. No proposal for address: {}'.format(address))\n",
      "/home/tt21642/dispyprob/pyprob/pyprob/nn/inference_network_feedforward.py:67: UserWarning: Using prior. No proposal for address: 470__forward___traverse___traverse_rec___traverse_rec___traverse_rec___traverse_rec___traverse_rec___traverse_rec__draw_decay_L__TruncatedExponential__15\n",
      "  warnings.warn('Using prior. No proposal for address: {}'.format(address))\n",
      "/home/tt21642/dispyprob/pyprob/pyprob/nn/inference_network_feedforward.py:67: UserWarning: Using prior. No proposal for address: 520__forward___traverse___traverse_rec___traverse_rec___traverse_rec___traverse_rec___traverse_rec___traverse_rec__draw_decay_R__TruncatedExponential__15\n",
      "  warnings.warn('Using prior. No proposal for address: {}'.format(address))\n",
      "/home/tt21642/dispyprob/pyprob/pyprob/nn/inference_network_feedforward.py:67: UserWarning: Using prior. No proposal for address: 216__forward___traverse___traverse_rec___traverse_rec___traverse_rec___traverse_rec___traverse_rec___traverse_rec__?__Uniform__16\n",
      "  warnings.warn('Using prior. No proposal for address: {}'.format(address))\n",
      "/home/tt21642/dispyprob/pyprob/pyprob/nn/inference_network_feedforward.py:67: UserWarning: Using prior. No proposal for address: 260__forward___traverse___traverse_rec___traverse_rec___traverse_rec___traverse_rec___traverse_rec___traverse_rec__theta_CM_U__Uniform__16\n",
      "  warnings.warn('Using prior. No proposal for address: {}'.format(address))\n",
      "/home/tt21642/dispyprob/pyprob/pyprob/nn/inference_network_feedforward.py:67: UserWarning: Using prior. No proposal for address: 470__forward___traverse___traverse_rec___traverse_rec___traverse_rec___traverse_rec___traverse_rec___traverse_rec__draw_decay_L__TruncatedExponential__16\n",
      "  warnings.warn('Using prior. No proposal for address: {}'.format(address))\n",
      "/home/tt21642/dispyprob/pyprob/pyprob/nn/inference_network_feedforward.py:67: UserWarning: Using prior. No proposal for address: 520__forward___traverse___traverse_rec___traverse_rec___traverse_rec___traverse_rec___traverse_rec___traverse_rec__draw_decay_R__TruncatedExponential__16\n",
      "  warnings.warn('Using prior. No proposal for address: {}'.format(address))\n"
     ]
    },
    {
     "name": "stdout",
     "output_type": "stream",
     "text": [
      "0d:00:01:24 | 0d:03:46:17 | -------------------- |   31/5000 |   1.00 | 0.37       \r"
     ]
    },
    {
     "name": "stderr",
     "output_type": "stream",
     "text": [
      "/home/tt21642/dispyprob/pyprob/pyprob/nn/inference_network_feedforward.py:67: UserWarning: Using prior. No proposal for address: 216__forward___traverse___traverse_rec___traverse_rec___traverse_rec___traverse_rec___traverse_rec___traverse_rec___traverse_rec___traverse_rec___traverse_rec___traverse_rec___traverse_rec___traverse_rec___traverse_rec___traverse_rec___traverse_rec___traverse_rec___traverse_rec__?__Uniform__3\n",
      "  warnings.warn('Using prior. No proposal for address: {}'.format(address))\n",
      "/home/tt21642/dispyprob/pyprob/pyprob/nn/inference_network_feedforward.py:67: UserWarning: Using prior. No proposal for address: 260__forward___traverse___traverse_rec___traverse_rec___traverse_rec___traverse_rec___traverse_rec___traverse_rec___traverse_rec___traverse_rec___traverse_rec___traverse_rec___traverse_rec___traverse_rec___traverse_rec___traverse_rec___traverse_rec___traverse_rec___traverse_rec__theta_CM_U__Uniform__3\n",
      "  warnings.warn('Using prior. No proposal for address: {}'.format(address))\n",
      "/home/tt21642/dispyprob/pyprob/pyprob/nn/inference_network_feedforward.py:67: UserWarning: Using prior. No proposal for address: 470__forward___traverse___traverse_rec___traverse_rec___traverse_rec___traverse_rec___traverse_rec___traverse_rec___traverse_rec___traverse_rec___traverse_rec___traverse_rec___traverse_rec___traverse_rec___traverse_rec___traverse_rec___traverse_rec___traverse_rec___traverse_rec__draw_decay_L__TruncatedExponential__3\n",
      "  warnings.warn('Using prior. No proposal for address: {}'.format(address))\n",
      "/home/tt21642/dispyprob/pyprob/pyprob/nn/inference_network_feedforward.py:67: UserWarning: Using prior. No proposal for address: 520__forward___traverse___traverse_rec___traverse_rec___traverse_rec___traverse_rec___traverse_rec___traverse_rec___traverse_rec___traverse_rec___traverse_rec___traverse_rec___traverse_rec___traverse_rec___traverse_rec___traverse_rec___traverse_rec___traverse_rec___traverse_rec__draw_decay_R__TruncatedExponential__3\n",
      "  warnings.warn('Using prior. No proposal for address: {}'.format(address))\n"
     ]
    },
    {
     "name": "stdout",
     "output_type": "stream",
     "text": [
      "0d:00:01:33 | 0d:03:46:37 | -------------------- |   34/5000 |   1.00 | 0.37       \r"
     ]
    },
    {
     "name": "stderr",
     "output_type": "stream",
     "text": [
      "/home/tt21642/dispyprob/pyprob/pyprob/nn/inference_network_feedforward.py:67: UserWarning: Using prior. No proposal for address: 216__forward___traverse___traverse_rec___traverse_rec___traverse_rec___traverse_rec___traverse_rec___traverse_rec___traverse_rec__?__Uniform__16\n",
      "  warnings.warn('Using prior. No proposal for address: {}'.format(address))\n",
      "/home/tt21642/dispyprob/pyprob/pyprob/nn/inference_network_feedforward.py:67: UserWarning: Using prior. No proposal for address: 260__forward___traverse___traverse_rec___traverse_rec___traverse_rec___traverse_rec___traverse_rec___traverse_rec___traverse_rec__theta_CM_U__Uniform__16\n",
      "  warnings.warn('Using prior. No proposal for address: {}'.format(address))\n",
      "/home/tt21642/dispyprob/pyprob/pyprob/nn/inference_network_feedforward.py:67: UserWarning: Using prior. No proposal for address: 470__forward___traverse___traverse_rec___traverse_rec___traverse_rec___traverse_rec___traverse_rec___traverse_rec___traverse_rec__draw_decay_L__TruncatedExponential__16\n",
      "  warnings.warn('Using prior. No proposal for address: {}'.format(address))\n",
      "/home/tt21642/dispyprob/pyprob/pyprob/nn/inference_network_feedforward.py:67: UserWarning: Using prior. No proposal for address: 520__forward___traverse___traverse_rec___traverse_rec___traverse_rec___traverse_rec___traverse_rec___traverse_rec___traverse_rec__draw_decay_R__TruncatedExponential__16\n",
      "  warnings.warn('Using prior. No proposal for address: {}'.format(address))\n"
     ]
    },
    {
     "name": "stdout",
     "output_type": "stream",
     "text": [
      "0d:00:02:22 | 0d:03:46:20 | -------------------- |   52/5000 |   1.00 | 0.36       \r"
     ]
    },
    {
     "name": "stderr",
     "output_type": "stream",
     "text": [
      "/home/tt21642/dispyprob/pyprob/pyprob/nn/inference_network_feedforward.py:67: UserWarning: Using prior. No proposal for address: 216__forward___traverse___traverse_rec___traverse_rec___traverse_rec___traverse_rec___traverse_rec___traverse_rec___traverse_rec___traverse_rec___traverse_rec___traverse_rec___traverse_rec___traverse_rec___traverse_rec___traverse_rec__?__Uniform__6\n",
      "  warnings.warn('Using prior. No proposal for address: {}'.format(address))\n",
      "/home/tt21642/dispyprob/pyprob/pyprob/nn/inference_network_feedforward.py:67: UserWarning: Using prior. No proposal for address: 260__forward___traverse___traverse_rec___traverse_rec___traverse_rec___traverse_rec___traverse_rec___traverse_rec___traverse_rec___traverse_rec___traverse_rec___traverse_rec___traverse_rec___traverse_rec___traverse_rec___traverse_rec__theta_CM_U__Uniform__6\n",
      "  warnings.warn('Using prior. No proposal for address: {}'.format(address))\n",
      "/home/tt21642/dispyprob/pyprob/pyprob/nn/inference_network_feedforward.py:67: UserWarning: Using prior. No proposal for address: 470__forward___traverse___traverse_rec___traverse_rec___traverse_rec___traverse_rec___traverse_rec___traverse_rec___traverse_rec___traverse_rec___traverse_rec___traverse_rec___traverse_rec___traverse_rec___traverse_rec___traverse_rec__draw_decay_L__TruncatedExponential__6\n",
      "  warnings.warn('Using prior. No proposal for address: {}'.format(address))\n",
      "/home/tt21642/dispyprob/pyprob/pyprob/nn/inference_network_feedforward.py:67: UserWarning: Using prior. No proposal for address: 520__forward___traverse___traverse_rec___traverse_rec___traverse_rec___traverse_rec___traverse_rec___traverse_rec___traverse_rec___traverse_rec___traverse_rec___traverse_rec___traverse_rec___traverse_rec___traverse_rec___traverse_rec__draw_decay_R__TruncatedExponential__6\n",
      "  warnings.warn('Using prior. No proposal for address: {}'.format(address))\n",
      "/home/tt21642/dispyprob/pyprob/pyprob/nn/inference_network_feedforward.py:67: UserWarning: Using prior. No proposal for address: 216__forward___traverse___traverse_rec___traverse_rec___traverse_rec___traverse_rec___traverse_rec___traverse_rec___traverse_rec___traverse_rec___traverse_rec___traverse_rec___traverse_rec___traverse_rec___traverse_rec__?__Uniform__7\n",
      "  warnings.warn('Using prior. No proposal for address: {}'.format(address))\n",
      "/home/tt21642/dispyprob/pyprob/pyprob/nn/inference_network_feedforward.py:67: UserWarning: Using prior. No proposal for address: 260__forward___traverse___traverse_rec___traverse_rec___traverse_rec___traverse_rec___traverse_rec___traverse_rec___traverse_rec___traverse_rec___traverse_rec___traverse_rec___traverse_rec___traverse_rec___traverse_rec__theta_CM_U__Uniform__7\n",
      "  warnings.warn('Using prior. No proposal for address: {}'.format(address))\n",
      "/home/tt21642/dispyprob/pyprob/pyprob/nn/inference_network_feedforward.py:67: UserWarning: Using prior. No proposal for address: 470__forward___traverse___traverse_rec___traverse_rec___traverse_rec___traverse_rec___traverse_rec___traverse_rec___traverse_rec___traverse_rec___traverse_rec___traverse_rec___traverse_rec___traverse_rec___traverse_rec__draw_decay_L__TruncatedExponential__7\n",
      "  warnings.warn('Using prior. No proposal for address: {}'.format(address))\n",
      "/home/tt21642/dispyprob/pyprob/pyprob/nn/inference_network_feedforward.py:67: UserWarning: Using prior. No proposal for address: 520__forward___traverse___traverse_rec___traverse_rec___traverse_rec___traverse_rec___traverse_rec___traverse_rec___traverse_rec___traverse_rec___traverse_rec___traverse_rec___traverse_rec___traverse_rec___traverse_rec__draw_decay_R__TruncatedExponential__7\n",
      "  warnings.warn('Using prior. No proposal for address: {}'.format(address))\n",
      "/home/tt21642/dispyprob/pyprob/pyprob/nn/inference_network_feedforward.py:67: UserWarning: Using prior. No proposal for address: 216__forward___traverse___traverse_rec___traverse_rec___traverse_rec___traverse_rec___traverse_rec___traverse_rec___traverse_rec___traverse_rec___traverse_rec___traverse_rec___traverse_rec___traverse_rec___traverse_rec___traverse_rec__?__Uniform__7\n",
      "  warnings.warn('Using prior. No proposal for address: {}'.format(address))\n",
      "/home/tt21642/dispyprob/pyprob/pyprob/nn/inference_network_feedforward.py:67: UserWarning: Using prior. No proposal for address: 260__forward___traverse___traverse_rec___traverse_rec___traverse_rec___traverse_rec___traverse_rec___traverse_rec___traverse_rec___traverse_rec___traverse_rec___traverse_rec___traverse_rec___traverse_rec___traverse_rec___traverse_rec__theta_CM_U__Uniform__7\n",
      "  warnings.warn('Using prior. No proposal for address: {}'.format(address))\n",
      "/home/tt21642/dispyprob/pyprob/pyprob/nn/inference_network_feedforward.py:67: UserWarning: Using prior. No proposal for address: 470__forward___traverse___traverse_rec___traverse_rec___traverse_rec___traverse_rec___traverse_rec___traverse_rec___traverse_rec___traverse_rec___traverse_rec___traverse_rec___traverse_rec___traverse_rec___traverse_rec___traverse_rec__draw_decay_L__TruncatedExponential__7\n",
      "  warnings.warn('Using prior. No proposal for address: {}'.format(address))\n",
      "/home/tt21642/dispyprob/pyprob/pyprob/nn/inference_network_feedforward.py:67: UserWarning: Using prior. No proposal for address: 520__forward___traverse___traverse_rec___traverse_rec___traverse_rec___traverse_rec___traverse_rec___traverse_rec___traverse_rec___traverse_rec___traverse_rec___traverse_rec___traverse_rec___traverse_rec___traverse_rec___traverse_rec__draw_decay_R__TruncatedExponential__7\n",
      "  warnings.warn('Using prior. No proposal for address: {}'.format(address))\n",
      "/home/tt21642/dispyprob/pyprob/pyprob/nn/inference_network_feedforward.py:67: UserWarning: Using prior. No proposal for address: 216__forward___traverse___traverse_rec___traverse_rec___traverse_rec___traverse_rec___traverse_rec___traverse_rec___traverse_rec___traverse_rec___traverse_rec___traverse_rec___traverse_rec___traverse_rec___traverse_rec__?__Uniform__8\n",
      "  warnings.warn('Using prior. No proposal for address: {}'.format(address))\n",
      "/home/tt21642/dispyprob/pyprob/pyprob/nn/inference_network_feedforward.py:67: UserWarning: Using prior. No proposal for address: 260__forward___traverse___traverse_rec___traverse_rec___traverse_rec___traverse_rec___traverse_rec___traverse_rec___traverse_rec___traverse_rec___traverse_rec___traverse_rec___traverse_rec___traverse_rec___traverse_rec__theta_CM_U__Uniform__8\n",
      "  warnings.warn('Using prior. No proposal for address: {}'.format(address))\n",
      "/home/tt21642/dispyprob/pyprob/pyprob/nn/inference_network_feedforward.py:67: UserWarning: Using prior. No proposal for address: 470__forward___traverse___traverse_rec___traverse_rec___traverse_rec___traverse_rec___traverse_rec___traverse_rec___traverse_rec___traverse_rec___traverse_rec___traverse_rec___traverse_rec___traverse_rec___traverse_rec__draw_decay_L__TruncatedExponential__8\n",
      "  warnings.warn('Using prior. No proposal for address: {}'.format(address))\n",
      "/home/tt21642/dispyprob/pyprob/pyprob/nn/inference_network_feedforward.py:67: UserWarning: Using prior. No proposal for address: 520__forward___traverse___traverse_rec___traverse_rec___traverse_rec___traverse_rec___traverse_rec___traverse_rec___traverse_rec___traverse_rec___traverse_rec___traverse_rec___traverse_rec___traverse_rec___traverse_rec__draw_decay_R__TruncatedExponential__8\n",
      "  warnings.warn('Using prior. No proposal for address: {}'.format(address))\n",
      "/home/tt21642/dispyprob/pyprob/pyprob/nn/inference_network_feedforward.py:67: UserWarning: Using prior. No proposal for address: 216__forward___traverse___traverse_rec___traverse_rec___traverse_rec___traverse_rec___traverse_rec___traverse_rec___traverse_rec___traverse_rec___traverse_rec___traverse_rec___traverse_rec___traverse_rec___traverse_rec__?__Uniform__9\n",
      "  warnings.warn('Using prior. No proposal for address: {}'.format(address))\n",
      "/home/tt21642/dispyprob/pyprob/pyprob/nn/inference_network_feedforward.py:67: UserWarning: Using prior. No proposal for address: 260__forward___traverse___traverse_rec___traverse_rec___traverse_rec___traverse_rec___traverse_rec___traverse_rec___traverse_rec___traverse_rec___traverse_rec___traverse_rec___traverse_rec___traverse_rec___traverse_rec__theta_CM_U__Uniform__9\n",
      "  warnings.warn('Using prior. No proposal for address: {}'.format(address))\n",
      "/home/tt21642/dispyprob/pyprob/pyprob/nn/inference_network_feedforward.py:67: UserWarning: Using prior. No proposal for address: 470__forward___traverse___traverse_rec___traverse_rec___traverse_rec___traverse_rec___traverse_rec___traverse_rec___traverse_rec___traverse_rec___traverse_rec___traverse_rec___traverse_rec___traverse_rec___traverse_rec__draw_decay_L__TruncatedExponential__9\n",
      "  warnings.warn('Using prior. No proposal for address: {}'.format(address))\n",
      "/home/tt21642/dispyprob/pyprob/pyprob/nn/inference_network_feedforward.py:67: UserWarning: Using prior. No proposal for address: 520__forward___traverse___traverse_rec___traverse_rec___traverse_rec___traverse_rec___traverse_rec___traverse_rec___traverse_rec___traverse_rec___traverse_rec___traverse_rec___traverse_rec___traverse_rec___traverse_rec__draw_decay_R__TruncatedExponential__9\n",
      "  warnings.warn('Using prior. No proposal for address: {}'.format(address))\n",
      "/home/tt21642/dispyprob/pyprob/pyprob/nn/inference_network_feedforward.py:67: UserWarning: Using prior. No proposal for address: 216__forward___traverse___traverse_rec___traverse_rec___traverse_rec___traverse_rec___traverse_rec___traverse_rec___traverse_rec___traverse_rec___traverse_rec___traverse_rec___traverse_rec___traverse_rec__?__Uniform__11\n",
      "  warnings.warn('Using prior. No proposal for address: {}'.format(address))\n",
      "/home/tt21642/dispyprob/pyprob/pyprob/nn/inference_network_feedforward.py:67: UserWarning: Using prior. No proposal for address: 260__forward___traverse___traverse_rec___traverse_rec___traverse_rec___traverse_rec___traverse_rec___traverse_rec___traverse_rec___traverse_rec___traverse_rec___traverse_rec___traverse_rec___traverse_rec__theta_CM_U__Uniform__11\n",
      "  warnings.warn('Using prior. No proposal for address: {}'.format(address))\n",
      "/home/tt21642/dispyprob/pyprob/pyprob/nn/inference_network_feedforward.py:67: UserWarning: Using prior. No proposal for address: 470__forward___traverse___traverse_rec___traverse_rec___traverse_rec___traverse_rec___traverse_rec___traverse_rec___traverse_rec___traverse_rec___traverse_rec___traverse_rec___traverse_rec___traverse_rec__draw_decay_L__TruncatedExponential__11\n",
      "  warnings.warn('Using prior. No proposal for address: {}'.format(address))\n",
      "/home/tt21642/dispyprob/pyprob/pyprob/nn/inference_network_feedforward.py:67: UserWarning: Using prior. No proposal for address: 520__forward___traverse___traverse_rec___traverse_rec___traverse_rec___traverse_rec___traverse_rec___traverse_rec___traverse_rec___traverse_rec___traverse_rec___traverse_rec___traverse_rec___traverse_rec__draw_decay_R__TruncatedExponential__11\n",
      "  warnings.warn('Using prior. No proposal for address: {}'.format(address))\n",
      "/home/tt21642/dispyprob/pyprob/pyprob/nn/inference_network_feedforward.py:67: UserWarning: Using prior. No proposal for address: 216__forward___traverse___traverse_rec___traverse_rec___traverse_rec___traverse_rec___traverse_rec___traverse_rec___traverse_rec___traverse_rec___traverse_rec___traverse_rec___traverse_rec___traverse_rec__?__Uniform__12\n",
      "  warnings.warn('Using prior. No proposal for address: {}'.format(address))\n",
      "/home/tt21642/dispyprob/pyprob/pyprob/nn/inference_network_feedforward.py:67: UserWarning: Using prior. No proposal for address: 260__forward___traverse___traverse_rec___traverse_rec___traverse_rec___traverse_rec___traverse_rec___traverse_rec___traverse_rec___traverse_rec___traverse_rec___traverse_rec___traverse_rec___traverse_rec__theta_CM_U__Uniform__12\n",
      "  warnings.warn('Using prior. No proposal for address: {}'.format(address))\n",
      "/home/tt21642/dispyprob/pyprob/pyprob/nn/inference_network_feedforward.py:67: UserWarning: Using prior. No proposal for address: 470__forward___traverse___traverse_rec___traverse_rec___traverse_rec___traverse_rec___traverse_rec___traverse_rec___traverse_rec___traverse_rec___traverse_rec___traverse_rec___traverse_rec___traverse_rec__draw_decay_L__TruncatedExponential__12\n",
      "  warnings.warn('Using prior. No proposal for address: {}'.format(address))\n",
      "/home/tt21642/dispyprob/pyprob/pyprob/nn/inference_network_feedforward.py:67: UserWarning: Using prior. No proposal for address: 520__forward___traverse___traverse_rec___traverse_rec___traverse_rec___traverse_rec___traverse_rec___traverse_rec___traverse_rec___traverse_rec___traverse_rec___traverse_rec___traverse_rec___traverse_rec__draw_decay_R__TruncatedExponential__12\n",
      "  warnings.warn('Using prior. No proposal for address: {}'.format(address))\n"
     ]
    },
    {
     "name": "stdout",
     "output_type": "stream",
     "text": [
      "0d:00:02:42 | 0d:03:46:30 | -------------------- |   59/5000 |   1.00 | 0.36       \r"
     ]
    },
    {
     "name": "stderr",
     "output_type": "stream",
     "text": [
      "/home/tt21642/dispyprob/pyprob/pyprob/nn/inference_network_feedforward.py:67: UserWarning: Using prior. No proposal for address: 216__forward___traverse___traverse_rec___traverse_rec___traverse_rec___traverse_rec___traverse_rec___traverse_rec___traverse_rec___traverse_rec___traverse_rec___traverse_rec__?__Uniform__12\n",
      "  warnings.warn('Using prior. No proposal for address: {}'.format(address))\n",
      "/home/tt21642/dispyprob/pyprob/pyprob/nn/inference_network_feedforward.py:67: UserWarning: Using prior. No proposal for address: 260__forward___traverse___traverse_rec___traverse_rec___traverse_rec___traverse_rec___traverse_rec___traverse_rec___traverse_rec___traverse_rec___traverse_rec___traverse_rec__theta_CM_U__Uniform__12\n",
      "  warnings.warn('Using prior. No proposal for address: {}'.format(address))\n",
      "/home/tt21642/dispyprob/pyprob/pyprob/nn/inference_network_feedforward.py:67: UserWarning: Using prior. No proposal for address: 470__forward___traverse___traverse_rec___traverse_rec___traverse_rec___traverse_rec___traverse_rec___traverse_rec___traverse_rec___traverse_rec___traverse_rec___traverse_rec__draw_decay_L__TruncatedExponential__12\n",
      "  warnings.warn('Using prior. No proposal for address: {}'.format(address))\n",
      "/home/tt21642/dispyprob/pyprob/pyprob/nn/inference_network_feedforward.py:67: UserWarning: Using prior. No proposal for address: 520__forward___traverse___traverse_rec___traverse_rec___traverse_rec___traverse_rec___traverse_rec___traverse_rec___traverse_rec___traverse_rec___traverse_rec___traverse_rec__draw_decay_R__TruncatedExponential__12\n",
      "  warnings.warn('Using prior. No proposal for address: {}'.format(address))\n"
     ]
    },
    {
     "name": "stdout",
     "output_type": "stream",
     "text": [
      "0d:00:03:21 | 0d:03:46:35 | -------------------- |   73/5000 |   1.76 | 0.36       \r"
     ]
    },
    {
     "name": "stderr",
     "output_type": "stream",
     "text": [
      "/home/tt21642/dispyprob/pyprob/pyprob/nn/inference_network_feedforward.py:67: UserWarning: Using prior. No proposal for address: 216__forward___traverse___traverse_rec___traverse_rec___traverse_rec___traverse_rec___traverse_rec___traverse_rec___traverse_rec___traverse_rec__?__Uniform__17\n",
      "  warnings.warn('Using prior. No proposal for address: {}'.format(address))\n",
      "/home/tt21642/dispyprob/pyprob/pyprob/nn/inference_network_feedforward.py:67: UserWarning: Using prior. No proposal for address: 260__forward___traverse___traverse_rec___traverse_rec___traverse_rec___traverse_rec___traverse_rec___traverse_rec___traverse_rec___traverse_rec__theta_CM_U__Uniform__17\n",
      "  warnings.warn('Using prior. No proposal for address: {}'.format(address))\n",
      "/home/tt21642/dispyprob/pyprob/pyprob/nn/inference_network_feedforward.py:67: UserWarning: Using prior. No proposal for address: 470__forward___traverse___traverse_rec___traverse_rec___traverse_rec___traverse_rec___traverse_rec___traverse_rec___traverse_rec___traverse_rec__draw_decay_L__TruncatedExponential__17\n",
      "  warnings.warn('Using prior. No proposal for address: {}'.format(address))\n",
      "/home/tt21642/dispyprob/pyprob/pyprob/nn/inference_network_feedforward.py:67: UserWarning: Using prior. No proposal for address: 520__forward___traverse___traverse_rec___traverse_rec___traverse_rec___traverse_rec___traverse_rec___traverse_rec___traverse_rec___traverse_rec__draw_decay_R__TruncatedExponential__17\n",
      "  warnings.warn('Using prior. No proposal for address: {}'.format(address))\n"
     ]
    },
    {
     "name": "stdout",
     "output_type": "stream",
     "text": [
      "0d:00:03:32 | 0d:03:46:18 | -------------------- |   77/5000 |   1.76 | 0.36       \r"
     ]
    },
    {
     "name": "stderr",
     "output_type": "stream",
     "text": [
      "/home/tt21642/dispyprob/pyprob/pyprob/nn/inference_network_feedforward.py:67: UserWarning: Using prior. No proposal for address: 216__forward___traverse___traverse_rec___traverse_rec___traverse_rec___traverse_rec___traverse_rec___traverse_rec___traverse_rec__?__Uniform__17\n",
      "  warnings.warn('Using prior. No proposal for address: {}'.format(address))\n",
      "/home/tt21642/dispyprob/pyprob/pyprob/nn/inference_network_feedforward.py:67: UserWarning: Using prior. No proposal for address: 260__forward___traverse___traverse_rec___traverse_rec___traverse_rec___traverse_rec___traverse_rec___traverse_rec___traverse_rec__theta_CM_U__Uniform__17\n",
      "  warnings.warn('Using prior. No proposal for address: {}'.format(address))\n",
      "/home/tt21642/dispyprob/pyprob/pyprob/nn/inference_network_feedforward.py:67: UserWarning: Using prior. No proposal for address: 470__forward___traverse___traverse_rec___traverse_rec___traverse_rec___traverse_rec___traverse_rec___traverse_rec___traverse_rec__draw_decay_L__TruncatedExponential__17\n",
      "  warnings.warn('Using prior. No proposal for address: {}'.format(address))\n",
      "/home/tt21642/dispyprob/pyprob/pyprob/nn/inference_network_feedforward.py:67: UserWarning: Using prior. No proposal for address: 520__forward___traverse___traverse_rec___traverse_rec___traverse_rec___traverse_rec___traverse_rec___traverse_rec___traverse_rec__draw_decay_R__TruncatedExponential__17\n",
      "  warnings.warn('Using prior. No proposal for address: {}'.format(address))\n"
     ]
    },
    {
     "name": "stdout",
     "output_type": "stream",
     "text": [
      "0d:00:03:35 | 0d:03:46:32 | -------------------- |   78/5000 |   1.76 | 0.36       \r"
     ]
    },
    {
     "name": "stderr",
     "output_type": "stream",
     "text": [
      "/home/tt21642/dispyprob/pyprob/pyprob/nn/inference_network_feedforward.py:67: UserWarning: Using prior. No proposal for address: 216__forward___traverse___traverse_rec___traverse_rec___traverse_rec___traverse_rec___traverse_rec___traverse_rec__?__Uniform__17\n",
      "  warnings.warn('Using prior. No proposal for address: {}'.format(address))\n",
      "/home/tt21642/dispyprob/pyprob/pyprob/nn/inference_network_feedforward.py:67: UserWarning: Using prior. No proposal for address: 260__forward___traverse___traverse_rec___traverse_rec___traverse_rec___traverse_rec___traverse_rec___traverse_rec__theta_CM_U__Uniform__17\n",
      "  warnings.warn('Using prior. No proposal for address: {}'.format(address))\n",
      "/home/tt21642/dispyprob/pyprob/pyprob/nn/inference_network_feedforward.py:67: UserWarning: Using prior. No proposal for address: 470__forward___traverse___traverse_rec___traverse_rec___traverse_rec___traverse_rec___traverse_rec___traverse_rec__draw_decay_L__TruncatedExponential__17\n",
      "  warnings.warn('Using prior. No proposal for address: {}'.format(address))\n",
      "/home/tt21642/dispyprob/pyprob/pyprob/nn/inference_network_feedforward.py:67: UserWarning: Using prior. No proposal for address: 520__forward___traverse___traverse_rec___traverse_rec___traverse_rec___traverse_rec___traverse_rec___traverse_rec__draw_decay_R__TruncatedExponential__17\n",
      "  warnings.warn('Using prior. No proposal for address: {}'.format(address))\n",
      "/home/tt21642/dispyprob/pyprob/pyprob/nn/inference_network_feedforward.py:67: UserWarning: Using prior. No proposal for address: 216__forward___traverse___traverse_rec___traverse_rec___traverse_rec___traverse_rec___traverse_rec___traverse_rec___traverse_rec__?__Uniform__18\n",
      "  warnings.warn('Using prior. No proposal for address: {}'.format(address))\n",
      "/home/tt21642/dispyprob/pyprob/pyprob/nn/inference_network_feedforward.py:67: UserWarning: Using prior. No proposal for address: 260__forward___traverse___traverse_rec___traverse_rec___traverse_rec___traverse_rec___traverse_rec___traverse_rec___traverse_rec__theta_CM_U__Uniform__18\n",
      "  warnings.warn('Using prior. No proposal for address: {}'.format(address))\n",
      "/home/tt21642/dispyprob/pyprob/pyprob/nn/inference_network_feedforward.py:67: UserWarning: Using prior. No proposal for address: 470__forward___traverse___traverse_rec___traverse_rec___traverse_rec___traverse_rec___traverse_rec___traverse_rec___traverse_rec__draw_decay_L__TruncatedExponential__18\n",
      "  warnings.warn('Using prior. No proposal for address: {}'.format(address))\n",
      "/home/tt21642/dispyprob/pyprob/pyprob/nn/inference_network_feedforward.py:67: UserWarning: Using prior. No proposal for address: 520__forward___traverse___traverse_rec___traverse_rec___traverse_rec___traverse_rec___traverse_rec___traverse_rec___traverse_rec__draw_decay_R__TruncatedExponential__18\n",
      "  warnings.warn('Using prior. No proposal for address: {}'.format(address))\n"
     ]
    },
    {
     "name": "stdout",
     "output_type": "stream",
     "text": [
      "0d:00:05:05 | 0d:03:44:01 | -------------------- |  111/5000 |   1.77 | 0.36       \r"
     ]
    },
    {
     "name": "stderr",
     "output_type": "stream",
     "text": [
      "/home/tt21642/dispyprob/pyprob/pyprob/nn/inference_network_feedforward.py:67: UserWarning: Using prior. No proposal for address: 216__forward___traverse___traverse_rec___traverse_rec___traverse_rec___traverse_rec___traverse_rec___traverse_rec___traverse_rec___traverse_rec___traverse_rec___traverse_rec__?__Uniform__13\n",
      "  warnings.warn('Using prior. No proposal for address: {}'.format(address))\n",
      "/home/tt21642/dispyprob/pyprob/pyprob/nn/inference_network_feedforward.py:67: UserWarning: Using prior. No proposal for address: 260__forward___traverse___traverse_rec___traverse_rec___traverse_rec___traverse_rec___traverse_rec___traverse_rec___traverse_rec___traverse_rec___traverse_rec___traverse_rec__theta_CM_U__Uniform__13\n",
      "  warnings.warn('Using prior. No proposal for address: {}'.format(address))\n",
      "/home/tt21642/dispyprob/pyprob/pyprob/nn/inference_network_feedforward.py:67: UserWarning: Using prior. No proposal for address: 470__forward___traverse___traverse_rec___traverse_rec___traverse_rec___traverse_rec___traverse_rec___traverse_rec___traverse_rec___traverse_rec___traverse_rec___traverse_rec__draw_decay_L__TruncatedExponential__13\n",
      "  warnings.warn('Using prior. No proposal for address: {}'.format(address))\n",
      "/home/tt21642/dispyprob/pyprob/pyprob/nn/inference_network_feedforward.py:67: UserWarning: Using prior. No proposal for address: 520__forward___traverse___traverse_rec___traverse_rec___traverse_rec___traverse_rec___traverse_rec___traverse_rec___traverse_rec___traverse_rec___traverse_rec___traverse_rec__draw_decay_R__TruncatedExponential__13\n",
      "  warnings.warn('Using prior. No proposal for address: {}'.format(address))\n"
     ]
    },
    {
     "name": "stdout",
     "output_type": "stream",
     "text": [
      "0d:00:06:10 | 0d:03:42:24 | #------------------- |  135/5000 |   1.44 | 0.36       \r"
     ]
    },
    {
     "name": "stderr",
     "output_type": "stream",
     "text": [
      "/home/tt21642/dispyprob/pyprob/pyprob/nn/inference_network_feedforward.py:67: UserWarning: Using prior. No proposal for address: 216__forward___traverse___traverse_rec___traverse_rec___traverse_rec___traverse_rec___traverse_rec___traverse_rec___traverse_rec___traverse_rec___traverse_rec___traverse_rec___traverse_rec___traverse_rec___traverse_rec___traverse_rec___traverse_rec___traverse_rec___traverse_rec___traverse_rec__?__Uniform__2\n",
      "  warnings.warn('Using prior. No proposal for address: {}'.format(address))\n",
      "/home/tt21642/dispyprob/pyprob/pyprob/nn/inference_network_feedforward.py:67: UserWarning: Using prior. No proposal for address: 260__forward___traverse___traverse_rec___traverse_rec___traverse_rec___traverse_rec___traverse_rec___traverse_rec___traverse_rec___traverse_rec___traverse_rec___traverse_rec___traverse_rec___traverse_rec___traverse_rec___traverse_rec___traverse_rec___traverse_rec___traverse_rec___traverse_rec__theta_CM_U__Uniform__2\n",
      "  warnings.warn('Using prior. No proposal for address: {}'.format(address))\n",
      "/home/tt21642/dispyprob/pyprob/pyprob/nn/inference_network_feedforward.py:67: UserWarning: Using prior. No proposal for address: 470__forward___traverse___traverse_rec___traverse_rec___traverse_rec___traverse_rec___traverse_rec___traverse_rec___traverse_rec___traverse_rec___traverse_rec___traverse_rec___traverse_rec___traverse_rec___traverse_rec___traverse_rec___traverse_rec___traverse_rec___traverse_rec___traverse_rec__draw_decay_L__TruncatedExponential__2\n",
      "  warnings.warn('Using prior. No proposal for address: {}'.format(address))\n",
      "/home/tt21642/dispyprob/pyprob/pyprob/nn/inference_network_feedforward.py:67: UserWarning: Using prior. No proposal for address: 520__forward___traverse___traverse_rec___traverse_rec___traverse_rec___traverse_rec___traverse_rec___traverse_rec___traverse_rec___traverse_rec___traverse_rec___traverse_rec___traverse_rec___traverse_rec___traverse_rec___traverse_rec___traverse_rec___traverse_rec___traverse_rec___traverse_rec__draw_decay_R__TruncatedExponential__2\n",
      "  warnings.warn('Using prior. No proposal for address: {}'.format(address))\n",
      "/home/tt21642/dispyprob/pyprob/pyprob/nn/inference_network_feedforward.py:67: UserWarning: Using prior. No proposal for address: 216__forward___traverse___traverse_rec___traverse_rec___traverse_rec___traverse_rec___traverse_rec___traverse_rec___traverse_rec___traverse_rec___traverse_rec___traverse_rec___traverse_rec___traverse_rec___traverse_rec___traverse_rec___traverse_rec__?__Uniform__5\n",
      "  warnings.warn('Using prior. No proposal for address: {}'.format(address))\n",
      "/home/tt21642/dispyprob/pyprob/pyprob/nn/inference_network_feedforward.py:67: UserWarning: Using prior. No proposal for address: 260__forward___traverse___traverse_rec___traverse_rec___traverse_rec___traverse_rec___traverse_rec___traverse_rec___traverse_rec___traverse_rec___traverse_rec___traverse_rec___traverse_rec___traverse_rec___traverse_rec___traverse_rec___traverse_rec__theta_CM_U__Uniform__5\n",
      "  warnings.warn('Using prior. No proposal for address: {}'.format(address))\n",
      "/home/tt21642/dispyprob/pyprob/pyprob/nn/inference_network_feedforward.py:67: UserWarning: Using prior. No proposal for address: 470__forward___traverse___traverse_rec___traverse_rec___traverse_rec___traverse_rec___traverse_rec___traverse_rec___traverse_rec___traverse_rec___traverse_rec___traverse_rec___traverse_rec___traverse_rec___traverse_rec___traverse_rec___traverse_rec__draw_decay_L__TruncatedExponential__5\n",
      "  warnings.warn('Using prior. No proposal for address: {}'.format(address))\n",
      "/home/tt21642/dispyprob/pyprob/pyprob/nn/inference_network_feedforward.py:67: UserWarning: Using prior. No proposal for address: 520__forward___traverse___traverse_rec___traverse_rec___traverse_rec___traverse_rec___traverse_rec___traverse_rec___traverse_rec___traverse_rec___traverse_rec___traverse_rec___traverse_rec___traverse_rec___traverse_rec___traverse_rec___traverse_rec__draw_decay_R__TruncatedExponential__5\n",
      "  warnings.warn('Using prior. No proposal for address: {}'.format(address))\n",
      "/home/tt21642/dispyprob/pyprob/pyprob/nn/inference_network_feedforward.py:67: UserWarning: Using prior. No proposal for address: 216__forward___traverse___traverse_rec___traverse_rec___traverse_rec___traverse_rec___traverse_rec___traverse_rec___traverse_rec___traverse_rec___traverse_rec___traverse_rec___traverse_rec___traverse_rec___traverse_rec___traverse_rec___traverse_rec__?__Uniform__6\n",
      "  warnings.warn('Using prior. No proposal for address: {}'.format(address))\n",
      "/home/tt21642/dispyprob/pyprob/pyprob/nn/inference_network_feedforward.py:67: UserWarning: Using prior. No proposal for address: 260__forward___traverse___traverse_rec___traverse_rec___traverse_rec___traverse_rec___traverse_rec___traverse_rec___traverse_rec___traverse_rec___traverse_rec___traverse_rec___traverse_rec___traverse_rec___traverse_rec___traverse_rec___traverse_rec__theta_CM_U__Uniform__6\n",
      "  warnings.warn('Using prior. No proposal for address: {}'.format(address))\n",
      "/home/tt21642/dispyprob/pyprob/pyprob/nn/inference_network_feedforward.py:67: UserWarning: Using prior. No proposal for address: 470__forward___traverse___traverse_rec___traverse_rec___traverse_rec___traverse_rec___traverse_rec___traverse_rec___traverse_rec___traverse_rec___traverse_rec___traverse_rec___traverse_rec___traverse_rec___traverse_rec___traverse_rec___traverse_rec__draw_decay_L__TruncatedExponential__6\n",
      "  warnings.warn('Using prior. No proposal for address: {}'.format(address))\n",
      "/home/tt21642/dispyprob/pyprob/pyprob/nn/inference_network_feedforward.py:67: UserWarning: Using prior. No proposal for address: 520__forward___traverse___traverse_rec___traverse_rec___traverse_rec___traverse_rec___traverse_rec___traverse_rec___traverse_rec___traverse_rec___traverse_rec___traverse_rec___traverse_rec___traverse_rec___traverse_rec___traverse_rec___traverse_rec__draw_decay_R__TruncatedExponential__6\n",
      "  warnings.warn('Using prior. No proposal for address: {}'.format(address))\n"
     ]
    },
    {
     "name": "stdout",
     "output_type": "stream",
     "text": [
      "0d:00:06:33 | 0d:03:42:45 | #------------------- |  143/5000 |   1.44 | 0.36       \r"
     ]
    },
    {
     "name": "stderr",
     "output_type": "stream",
     "text": [
      "/home/tt21642/dispyprob/pyprob/pyprob/nn/inference_network_feedforward.py:67: UserWarning: Using prior. No proposal for address: 216__forward___traverse___traverse_rec___traverse_rec___traverse_rec___traverse_rec___traverse_rec___traverse_rec___traverse_rec___traverse_rec___traverse_rec___traverse_rec__?__Uniform__14\n",
      "  warnings.warn('Using prior. No proposal for address: {}'.format(address))\n",
      "/home/tt21642/dispyprob/pyprob/pyprob/nn/inference_network_feedforward.py:67: UserWarning: Using prior. No proposal for address: 260__forward___traverse___traverse_rec___traverse_rec___traverse_rec___traverse_rec___traverse_rec___traverse_rec___traverse_rec___traverse_rec___traverse_rec___traverse_rec__theta_CM_U__Uniform__14\n",
      "  warnings.warn('Using prior. No proposal for address: {}'.format(address))\n",
      "/home/tt21642/dispyprob/pyprob/pyprob/nn/inference_network_feedforward.py:67: UserWarning: Using prior. No proposal for address: 470__forward___traverse___traverse_rec___traverse_rec___traverse_rec___traverse_rec___traverse_rec___traverse_rec___traverse_rec___traverse_rec___traverse_rec___traverse_rec__draw_decay_L__TruncatedExponential__14\n",
      "  warnings.warn('Using prior. No proposal for address: {}'.format(address))\n",
      "/home/tt21642/dispyprob/pyprob/pyprob/nn/inference_network_feedforward.py:67: UserWarning: Using prior. No proposal for address: 520__forward___traverse___traverse_rec___traverse_rec___traverse_rec___traverse_rec___traverse_rec___traverse_rec___traverse_rec___traverse_rec___traverse_rec___traverse_rec__draw_decay_R__TruncatedExponential__14\n",
      "  warnings.warn('Using prior. No proposal for address: {}'.format(address))\n"
     ]
    },
    {
     "name": "stdout",
     "output_type": "stream",
     "text": [
      "0d:00:08:07 | 0d:03:41:33 | #------------------- |  177/5000 |   1.47 | 0.36       \r"
     ]
    },
    {
     "name": "stderr",
     "output_type": "stream",
     "text": [
      "/home/tt21642/dispyprob/pyprob/pyprob/nn/inference_network_feedforward.py:67: UserWarning: Using prior. No proposal for address: 520__forward___traverse___traverse_rec__draw_decay_R__TruncatedExponential__2\n",
      "  warnings.warn('Using prior. No proposal for address: {}'.format(address))\n"
     ]
    },
    {
     "name": "stdout",
     "output_type": "stream",
     "text": [
      "0d:00:09:23 | 0d:03:40:40 | #------------------- |  204/5000 |   1.47 | 0.36       \r"
     ]
    },
    {
     "name": "stderr",
     "output_type": "stream",
     "text": [
      "/home/tt21642/dispyprob/pyprob/pyprob/nn/inference_network_feedforward.py:67: UserWarning: Using prior. No proposal for address: 216__forward___traverse___traverse_rec___traverse_rec___traverse_rec___traverse_rec___traverse_rec___traverse_rec___traverse_rec___traverse_rec___traverse_rec__?__Uniform__15\n",
      "  warnings.warn('Using prior. No proposal for address: {}'.format(address))\n",
      "/home/tt21642/dispyprob/pyprob/pyprob/nn/inference_network_feedforward.py:67: UserWarning: Using prior. No proposal for address: 260__forward___traverse___traverse_rec___traverse_rec___traverse_rec___traverse_rec___traverse_rec___traverse_rec___traverse_rec___traverse_rec___traverse_rec__theta_CM_U__Uniform__15\n",
      "  warnings.warn('Using prior. No proposal for address: {}'.format(address))\n",
      "/home/tt21642/dispyprob/pyprob/pyprob/nn/inference_network_feedforward.py:67: UserWarning: Using prior. No proposal for address: 470__forward___traverse___traverse_rec___traverse_rec___traverse_rec___traverse_rec___traverse_rec___traverse_rec___traverse_rec___traverse_rec___traverse_rec__draw_decay_L__TruncatedExponential__15\n",
      "  warnings.warn('Using prior. No proposal for address: {}'.format(address))\n",
      "/home/tt21642/dispyprob/pyprob/pyprob/nn/inference_network_feedforward.py:67: UserWarning: Using prior. No proposal for address: 520__forward___traverse___traverse_rec___traverse_rec___traverse_rec___traverse_rec___traverse_rec___traverse_rec___traverse_rec___traverse_rec___traverse_rec__draw_decay_R__TruncatedExponential__15\n",
      "  warnings.warn('Using prior. No proposal for address: {}'.format(address))\n"
     ]
    },
    {
     "name": "stdout",
     "output_type": "stream",
     "text": [
      "0d:00:11:24 | 0d:03:39:34 | #------------------- |  247/5000 |   1.79 | 0.36       \r"
     ]
    },
    {
     "name": "stderr",
     "output_type": "stream",
     "text": [
      "/home/tt21642/dispyprob/pyprob/pyprob/nn/inference_network_feedforward.py:67: UserWarning: Using prior. No proposal for address: 470__forward___traverse___traverse_rec___traverse_rec___traverse_rec__draw_decay_L__TruncatedExponential__5\n",
      "  warnings.warn('Using prior. No proposal for address: {}'.format(address))\n"
     ]
    },
    {
     "name": "stdout",
     "output_type": "stream",
     "text": [
      "0d:00:12:26 | 0d:03:37:12 | #------------------- |  271/5000 |   1.79 | 0.36       \r"
     ]
    },
    {
     "name": "stderr",
     "output_type": "stream",
     "text": [
      "/home/tt21642/dispyprob/pyprob/pyprob/nn/inference_network_feedforward.py:67: UserWarning: Using prior. No proposal for address: 216__forward___traverse___traverse_rec___traverse_rec___traverse_rec___traverse_rec___traverse_rec___traverse_rec___traverse_rec___traverse_rec___traverse_rec__?__Uniform__16\n",
      "  warnings.warn('Using prior. No proposal for address: {}'.format(address))\n",
      "/home/tt21642/dispyprob/pyprob/pyprob/nn/inference_network_feedforward.py:67: UserWarning: Using prior. No proposal for address: 260__forward___traverse___traverse_rec___traverse_rec___traverse_rec___traverse_rec___traverse_rec___traverse_rec___traverse_rec___traverse_rec___traverse_rec__theta_CM_U__Uniform__16\n",
      "  warnings.warn('Using prior. No proposal for address: {}'.format(address))\n",
      "/home/tt21642/dispyprob/pyprob/pyprob/nn/inference_network_feedforward.py:67: UserWarning: Using prior. No proposal for address: 470__forward___traverse___traverse_rec___traverse_rec___traverse_rec___traverse_rec___traverse_rec___traverse_rec___traverse_rec___traverse_rec___traverse_rec__draw_decay_L__TruncatedExponential__16\n",
      "  warnings.warn('Using prior. No proposal for address: {}'.format(address))\n",
      "/home/tt21642/dispyprob/pyprob/pyprob/nn/inference_network_feedforward.py:67: UserWarning: Using prior. No proposal for address: 520__forward___traverse___traverse_rec___traverse_rec___traverse_rec___traverse_rec___traverse_rec___traverse_rec___traverse_rec___traverse_rec___traverse_rec__draw_decay_R__TruncatedExponential__16\n",
      "  warnings.warn('Using prior. No proposal for address: {}'.format(address))\n"
     ]
    },
    {
     "name": "stdout",
     "output_type": "stream",
     "text": [
      "0d:00:12:30 | 0d:03:37:23 | #------------------- |  272/5000 |   1.79 | 0.36       \r"
     ]
    },
    {
     "name": "stderr",
     "output_type": "stream",
     "text": [
      "/home/tt21642/dispyprob/pyprob/pyprob/nn/inference_network_feedforward.py:67: UserWarning: Using prior. No proposal for address: 216__forward___traverse___traverse_rec___traverse_rec___traverse_rec___traverse_rec___traverse_rec___traverse_rec___traverse_rec___traverse_rec___traverse_rec__?__Uniform__17\n",
      "  warnings.warn('Using prior. No proposal for address: {}'.format(address))\n",
      "/home/tt21642/dispyprob/pyprob/pyprob/nn/inference_network_feedforward.py:67: UserWarning: Using prior. No proposal for address: 260__forward___traverse___traverse_rec___traverse_rec___traverse_rec___traverse_rec___traverse_rec___traverse_rec___traverse_rec___traverse_rec___traverse_rec__theta_CM_U__Uniform__17\n",
      "  warnings.warn('Using prior. No proposal for address: {}'.format(address))\n",
      "/home/tt21642/dispyprob/pyprob/pyprob/nn/inference_network_feedforward.py:67: UserWarning: Using prior. No proposal for address: 470__forward___traverse___traverse_rec___traverse_rec___traverse_rec___traverse_rec___traverse_rec___traverse_rec___traverse_rec___traverse_rec___traverse_rec__draw_decay_L__TruncatedExponential__17\n",
      "  warnings.warn('Using prior. No proposal for address: {}'.format(address))\n",
      "/home/tt21642/dispyprob/pyprob/pyprob/nn/inference_network_feedforward.py:67: UserWarning: Using prior. No proposal for address: 520__forward___traverse___traverse_rec___traverse_rec___traverse_rec___traverse_rec___traverse_rec___traverse_rec___traverse_rec___traverse_rec___traverse_rec__draw_decay_R__TruncatedExponential__17\n",
      "  warnings.warn('Using prior. No proposal for address: {}'.format(address))\n",
      "/home/tt21642/dispyprob/pyprob/pyprob/nn/inference_network_feedforward.py:67: UserWarning: Using prior. No proposal for address: 216__forward___traverse___traverse_rec___traverse_rec___traverse_rec___traverse_rec___traverse_rec___traverse_rec___traverse_rec__?__Uniform__19\n",
      "  warnings.warn('Using prior. No proposal for address: {}'.format(address))\n",
      "/home/tt21642/dispyprob/pyprob/pyprob/nn/inference_network_feedforward.py:67: UserWarning: Using prior. No proposal for address: 260__forward___traverse___traverse_rec___traverse_rec___traverse_rec___traverse_rec___traverse_rec___traverse_rec___traverse_rec__theta_CM_U__Uniform__19\n",
      "  warnings.warn('Using prior. No proposal for address: {}'.format(address))\n",
      "/home/tt21642/dispyprob/pyprob/pyprob/nn/inference_network_feedforward.py:67: UserWarning: Using prior. No proposal for address: 470__forward___traverse___traverse_rec___traverse_rec___traverse_rec___traverse_rec___traverse_rec___traverse_rec___traverse_rec__draw_decay_L__TruncatedExponential__19\n",
      "  warnings.warn('Using prior. No proposal for address: {}'.format(address))\n",
      "/home/tt21642/dispyprob/pyprob/pyprob/nn/inference_network_feedforward.py:67: UserWarning: Using prior. No proposal for address: 520__forward___traverse___traverse_rec___traverse_rec___traverse_rec___traverse_rec___traverse_rec___traverse_rec___traverse_rec__draw_decay_R__TruncatedExponential__19\n",
      "  warnings.warn('Using prior. No proposal for address: {}'.format(address))\n",
      "/home/tt21642/dispyprob/pyprob/pyprob/nn/inference_network_feedforward.py:67: UserWarning: Using prior. No proposal for address: 216__forward___traverse___traverse_rec___traverse_rec___traverse_rec___traverse_rec___traverse_rec___traverse_rec___traverse_rec___traverse_rec__?__Uniform__18\n",
      "  warnings.warn('Using prior. No proposal for address: {}'.format(address))\n",
      "/home/tt21642/dispyprob/pyprob/pyprob/nn/inference_network_feedforward.py:67: UserWarning: Using prior. No proposal for address: 260__forward___traverse___traverse_rec___traverse_rec___traverse_rec___traverse_rec___traverse_rec___traverse_rec___traverse_rec___traverse_rec__theta_CM_U__Uniform__18\n",
      "  warnings.warn('Using prior. No proposal for address: {}'.format(address))\n",
      "/home/tt21642/dispyprob/pyprob/pyprob/nn/inference_network_feedforward.py:67: UserWarning: Using prior. No proposal for address: 470__forward___traverse___traverse_rec___traverse_rec___traverse_rec___traverse_rec___traverse_rec___traverse_rec___traverse_rec___traverse_rec__draw_decay_L__TruncatedExponential__18\n",
      "  warnings.warn('Using prior. No proposal for address: {}'.format(address))\n",
      "/home/tt21642/dispyprob/pyprob/pyprob/nn/inference_network_feedforward.py:67: UserWarning: Using prior. No proposal for address: 520__forward___traverse___traverse_rec___traverse_rec___traverse_rec___traverse_rec___traverse_rec___traverse_rec___traverse_rec___traverse_rec__draw_decay_R__TruncatedExponential__18\n",
      "  warnings.warn('Using prior. No proposal for address: {}'.format(address))\n",
      "/home/tt21642/dispyprob/pyprob/pyprob/nn/inference_network_feedforward.py:67: UserWarning: Using prior. No proposal for address: 216__forward___traverse___traverse_rec___traverse_rec___traverse_rec___traverse_rec___traverse_rec___traverse_rec___traverse_rec__?__Uniform__20\n",
      "  warnings.warn('Using prior. No proposal for address: {}'.format(address))\n",
      "/home/tt21642/dispyprob/pyprob/pyprob/nn/inference_network_feedforward.py:67: UserWarning: Using prior. No proposal for address: 260__forward___traverse___traverse_rec___traverse_rec___traverse_rec___traverse_rec___traverse_rec___traverse_rec___traverse_rec__theta_CM_U__Uniform__20\n",
      "  warnings.warn('Using prior. No proposal for address: {}'.format(address))\n",
      "/home/tt21642/dispyprob/pyprob/pyprob/nn/inference_network_feedforward.py:67: UserWarning: Using prior. No proposal for address: 470__forward___traverse___traverse_rec___traverse_rec___traverse_rec___traverse_rec___traverse_rec___traverse_rec___traverse_rec__draw_decay_L__TruncatedExponential__20\n",
      "  warnings.warn('Using prior. No proposal for address: {}'.format(address))\n",
      "/home/tt21642/dispyprob/pyprob/pyprob/nn/inference_network_feedforward.py:67: UserWarning: Using prior. No proposal for address: 520__forward___traverse___traverse_rec___traverse_rec___traverse_rec___traverse_rec___traverse_rec___traverse_rec___traverse_rec__draw_decay_R__TruncatedExponential__20\n",
      "  warnings.warn('Using prior. No proposal for address: {}'.format(address))\n",
      "/home/tt21642/dispyprob/pyprob/pyprob/nn/inference_network_feedforward.py:67: UserWarning: Using prior. No proposal for address: 216__forward___traverse___traverse_rec___traverse_rec___traverse_rec___traverse_rec___traverse_rec___traverse_rec___traverse_rec___traverse_rec__?__Uniform__19\n",
      "  warnings.warn('Using prior. No proposal for address: {}'.format(address))\n",
      "/home/tt21642/dispyprob/pyprob/pyprob/nn/inference_network_feedforward.py:67: UserWarning: Using prior. No proposal for address: 260__forward___traverse___traverse_rec___traverse_rec___traverse_rec___traverse_rec___traverse_rec___traverse_rec___traverse_rec___traverse_rec__theta_CM_U__Uniform__19\n",
      "  warnings.warn('Using prior. No proposal for address: {}'.format(address))\n",
      "/home/tt21642/dispyprob/pyprob/pyprob/nn/inference_network_feedforward.py:67: UserWarning: Using prior. No proposal for address: 470__forward___traverse___traverse_rec___traverse_rec___traverse_rec___traverse_rec___traverse_rec___traverse_rec___traverse_rec___traverse_rec__draw_decay_L__TruncatedExponential__19\n",
      "  warnings.warn('Using prior. No proposal for address: {}'.format(address))\n",
      "/home/tt21642/dispyprob/pyprob/pyprob/nn/inference_network_feedforward.py:67: UserWarning: Using prior. No proposal for address: 520__forward___traverse___traverse_rec___traverse_rec___traverse_rec___traverse_rec___traverse_rec___traverse_rec___traverse_rec___traverse_rec__draw_decay_R__TruncatedExponential__19\n",
      "  warnings.warn('Using prior. No proposal for address: {}'.format(address))\n",
      "/home/tt21642/dispyprob/pyprob/pyprob/nn/inference_network_feedforward.py:67: UserWarning: Using prior. No proposal for address: 216__forward___traverse___traverse_rec___traverse_rec___traverse_rec___traverse_rec___traverse_rec___traverse_rec___traverse_rec__?__Uniform__21\n",
      "  warnings.warn('Using prior. No proposal for address: {}'.format(address))\n",
      "/home/tt21642/dispyprob/pyprob/pyprob/nn/inference_network_feedforward.py:67: UserWarning: Using prior. No proposal for address: 260__forward___traverse___traverse_rec___traverse_rec___traverse_rec___traverse_rec___traverse_rec___traverse_rec___traverse_rec__theta_CM_U__Uniform__21\n",
      "  warnings.warn('Using prior. No proposal for address: {}'.format(address))\n",
      "/home/tt21642/dispyprob/pyprob/pyprob/nn/inference_network_feedforward.py:67: UserWarning: Using prior. No proposal for address: 470__forward___traverse___traverse_rec___traverse_rec___traverse_rec___traverse_rec___traverse_rec___traverse_rec___traverse_rec__draw_decay_L__TruncatedExponential__21\n",
      "  warnings.warn('Using prior. No proposal for address: {}'.format(address))\n",
      "/home/tt21642/dispyprob/pyprob/pyprob/nn/inference_network_feedforward.py:67: UserWarning: Using prior. No proposal for address: 520__forward___traverse___traverse_rec___traverse_rec___traverse_rec___traverse_rec___traverse_rec___traverse_rec___traverse_rec__draw_decay_R__TruncatedExponential__21\n",
      "  warnings.warn('Using prior. No proposal for address: {}'.format(address))\n",
      "/home/tt21642/dispyprob/pyprob/pyprob/nn/inference_network_feedforward.py:67: UserWarning: Using prior. No proposal for address: 216__forward___traverse___traverse_rec___traverse_rec___traverse_rec___traverse_rec___traverse_rec___traverse_rec___traverse_rec___traverse_rec__?__Uniform__20\n",
      "  warnings.warn('Using prior. No proposal for address: {}'.format(address))\n",
      "/home/tt21642/dispyprob/pyprob/pyprob/nn/inference_network_feedforward.py:67: UserWarning: Using prior. No proposal for address: 260__forward___traverse___traverse_rec___traverse_rec___traverse_rec___traverse_rec___traverse_rec___traverse_rec___traverse_rec___traverse_rec__theta_CM_U__Uniform__20\n",
      "  warnings.warn('Using prior. No proposal for address: {}'.format(address))\n",
      "/home/tt21642/dispyprob/pyprob/pyprob/nn/inference_network_feedforward.py:67: UserWarning: Using prior. No proposal for address: 470__forward___traverse___traverse_rec___traverse_rec___traverse_rec___traverse_rec___traverse_rec___traverse_rec___traverse_rec___traverse_rec__draw_decay_L__TruncatedExponential__20\n",
      "  warnings.warn('Using prior. No proposal for address: {}'.format(address))\n",
      "/home/tt21642/dispyprob/pyprob/pyprob/nn/inference_network_feedforward.py:67: UserWarning: Using prior. No proposal for address: 520__forward___traverse___traverse_rec___traverse_rec___traverse_rec___traverse_rec___traverse_rec___traverse_rec___traverse_rec___traverse_rec__draw_decay_R__TruncatedExponential__20\n",
      "  warnings.warn('Using prior. No proposal for address: {}'.format(address))\n",
      "/home/tt21642/dispyprob/pyprob/pyprob/nn/inference_network_feedforward.py:67: UserWarning: Using prior. No proposal for address: 216__forward___traverse___traverse_rec___traverse_rec___traverse_rec___traverse_rec___traverse_rec___traverse_rec___traverse_rec___traverse_rec___traverse_rec__?__Uniform__18\n",
      "  warnings.warn('Using prior. No proposal for address: {}'.format(address))\n",
      "/home/tt21642/dispyprob/pyprob/pyprob/nn/inference_network_feedforward.py:67: UserWarning: Using prior. No proposal for address: 260__forward___traverse___traverse_rec___traverse_rec___traverse_rec___traverse_rec___traverse_rec___traverse_rec___traverse_rec___traverse_rec___traverse_rec__theta_CM_U__Uniform__18\n",
      "  warnings.warn('Using prior. No proposal for address: {}'.format(address))\n",
      "/home/tt21642/dispyprob/pyprob/pyprob/nn/inference_network_feedforward.py:67: UserWarning: Using prior. No proposal for address: 470__forward___traverse___traverse_rec___traverse_rec___traverse_rec___traverse_rec___traverse_rec___traverse_rec___traverse_rec___traverse_rec___traverse_rec__draw_decay_L__TruncatedExponential__18\n",
      "  warnings.warn('Using prior. No proposal for address: {}'.format(address))\n",
      "/home/tt21642/dispyprob/pyprob/pyprob/nn/inference_network_feedforward.py:67: UserWarning: Using prior. No proposal for address: 520__forward___traverse___traverse_rec___traverse_rec___traverse_rec___traverse_rec___traverse_rec___traverse_rec___traverse_rec___traverse_rec___traverse_rec__draw_decay_R__TruncatedExponential__18\n",
      "  warnings.warn('Using prior. No proposal for address: {}'.format(address))\n"
     ]
    },
    {
     "name": "stdout",
     "output_type": "stream",
     "text": [
      "0d:00:13:02 | 0d:03:37:23 | #------------------- |  283/5000 |   1.81 | 0.36       \r"
     ]
    },
    {
     "name": "stderr",
     "output_type": "stream",
     "text": [
      "/home/tt21642/dispyprob/pyprob/pyprob/nn/inference_network_feedforward.py:67: UserWarning: Using prior. No proposal for address: 216__forward___traverse___traverse_rec___traverse_rec___traverse_rec___traverse_rec___traverse_rec___traverse_rec___traverse_rec___traverse_rec___traverse_rec___traverse_rec___traverse_rec___traverse_rec___traverse_rec__?__Uniform__10\n",
      "  warnings.warn('Using prior. No proposal for address: {}'.format(address))\n",
      "/home/tt21642/dispyprob/pyprob/pyprob/nn/inference_network_feedforward.py:67: UserWarning: Using prior. No proposal for address: 260__forward___traverse___traverse_rec___traverse_rec___traverse_rec___traverse_rec___traverse_rec___traverse_rec___traverse_rec___traverse_rec___traverse_rec___traverse_rec___traverse_rec___traverse_rec___traverse_rec__theta_CM_U__Uniform__10\n",
      "  warnings.warn('Using prior. No proposal for address: {}'.format(address))\n",
      "/home/tt21642/dispyprob/pyprob/pyprob/nn/inference_network_feedforward.py:67: UserWarning: Using prior. No proposal for address: 470__forward___traverse___traverse_rec___traverse_rec___traverse_rec___traverse_rec___traverse_rec___traverse_rec___traverse_rec___traverse_rec___traverse_rec___traverse_rec___traverse_rec___traverse_rec___traverse_rec__draw_decay_L__TruncatedExponential__10\n",
      "  warnings.warn('Using prior. No proposal for address: {}'.format(address))\n",
      "/home/tt21642/dispyprob/pyprob/pyprob/nn/inference_network_feedforward.py:67: UserWarning: Using prior. No proposal for address: 520__forward___traverse___traverse_rec___traverse_rec___traverse_rec___traverse_rec___traverse_rec___traverse_rec___traverse_rec___traverse_rec___traverse_rec___traverse_rec___traverse_rec___traverse_rec___traverse_rec__draw_decay_R__TruncatedExponential__10\n",
      "  warnings.warn('Using prior. No proposal for address: {}'.format(address))\n",
      "/home/tt21642/dispyprob/pyprob/pyprob/nn/inference_network_feedforward.py:67: UserWarning: Using prior. No proposal for address: 216__forward___traverse___traverse_rec___traverse_rec___traverse_rec___traverse_rec___traverse_rec___traverse_rec___traverse_rec___traverse_rec___traverse_rec___traverse_rec___traverse_rec___traverse_rec___traverse_rec__?__Uniform__11\n",
      "  warnings.warn('Using prior. No proposal for address: {}'.format(address))\n",
      "/home/tt21642/dispyprob/pyprob/pyprob/nn/inference_network_feedforward.py:67: UserWarning: Using prior. No proposal for address: 260__forward___traverse___traverse_rec___traverse_rec___traverse_rec___traverse_rec___traverse_rec___traverse_rec___traverse_rec___traverse_rec___traverse_rec___traverse_rec___traverse_rec___traverse_rec___traverse_rec__theta_CM_U__Uniform__11\n",
      "  warnings.warn('Using prior. No proposal for address: {}'.format(address))\n",
      "/home/tt21642/dispyprob/pyprob/pyprob/nn/inference_network_feedforward.py:67: UserWarning: Using prior. No proposal for address: 470__forward___traverse___traverse_rec___traverse_rec___traverse_rec___traverse_rec___traverse_rec___traverse_rec___traverse_rec___traverse_rec___traverse_rec___traverse_rec___traverse_rec___traverse_rec___traverse_rec__draw_decay_L__TruncatedExponential__11\n",
      "  warnings.warn('Using prior. No proposal for address: {}'.format(address))\n",
      "/home/tt21642/dispyprob/pyprob/pyprob/nn/inference_network_feedforward.py:67: UserWarning: Using prior. No proposal for address: 520__forward___traverse___traverse_rec___traverse_rec___traverse_rec___traverse_rec___traverse_rec___traverse_rec___traverse_rec___traverse_rec___traverse_rec___traverse_rec___traverse_rec___traverse_rec___traverse_rec__draw_decay_R__TruncatedExponential__11\n",
      "  warnings.warn('Using prior. No proposal for address: {}'.format(address))\n",
      "/home/tt21642/dispyprob/pyprob/pyprob/nn/inference_network_feedforward.py:67: UserWarning: Using prior. No proposal for address: 216__forward___traverse___traverse_rec___traverse_rec___traverse_rec___traverse_rec___traverse_rec___traverse_rec___traverse_rec___traverse_rec___traverse_rec___traverse_rec___traverse_rec___traverse_rec___traverse_rec__?__Uniform__12\n",
      "  warnings.warn('Using prior. No proposal for address: {}'.format(address))\n",
      "/home/tt21642/dispyprob/pyprob/pyprob/nn/inference_network_feedforward.py:67: UserWarning: Using prior. No proposal for address: 260__forward___traverse___traverse_rec___traverse_rec___traverse_rec___traverse_rec___traverse_rec___traverse_rec___traverse_rec___traverse_rec___traverse_rec___traverse_rec___traverse_rec___traverse_rec___traverse_rec__theta_CM_U__Uniform__12\n",
      "  warnings.warn('Using prior. No proposal for address: {}'.format(address))\n",
      "/home/tt21642/dispyprob/pyprob/pyprob/nn/inference_network_feedforward.py:67: UserWarning: Using prior. No proposal for address: 470__forward___traverse___traverse_rec___traverse_rec___traverse_rec___traverse_rec___traverse_rec___traverse_rec___traverse_rec___traverse_rec___traverse_rec___traverse_rec___traverse_rec___traverse_rec___traverse_rec__draw_decay_L__TruncatedExponential__12\n",
      "  warnings.warn('Using prior. No proposal for address: {}'.format(address))\n",
      "/home/tt21642/dispyprob/pyprob/pyprob/nn/inference_network_feedforward.py:67: UserWarning: Using prior. No proposal for address: 520__forward___traverse___traverse_rec___traverse_rec___traverse_rec___traverse_rec___traverse_rec___traverse_rec___traverse_rec___traverse_rec___traverse_rec___traverse_rec___traverse_rec___traverse_rec___traverse_rec__draw_decay_R__TruncatedExponential__12\n",
      "  warnings.warn('Using prior. No proposal for address: {}'.format(address))\n"
     ]
    },
    {
     "name": "stdout",
     "output_type": "stream",
     "text": [
      "0d:00:13:12 | 0d:03:37:04 | #------------------- |  287/5000 |   1.81 | 0.36       \r"
     ]
    },
    {
     "name": "stderr",
     "output_type": "stream",
     "text": [
      "/home/tt21642/dispyprob/pyprob/pyprob/nn/inference_network_feedforward.py:67: UserWarning: Using prior. No proposal for address: 216__forward___traverse___traverse_rec___traverse_rec___traverse_rec___traverse_rec___traverse_rec___traverse_rec___traverse_rec___traverse_rec___traverse_rec___traverse_rec___traverse_rec__?__Uniform__13\n",
      "  warnings.warn('Using prior. No proposal for address: {}'.format(address))\n",
      "/home/tt21642/dispyprob/pyprob/pyprob/nn/inference_network_feedforward.py:67: UserWarning: Using prior. No proposal for address: 260__forward___traverse___traverse_rec___traverse_rec___traverse_rec___traverse_rec___traverse_rec___traverse_rec___traverse_rec___traverse_rec___traverse_rec___traverse_rec___traverse_rec__theta_CM_U__Uniform__13\n",
      "  warnings.warn('Using prior. No proposal for address: {}'.format(address))\n",
      "/home/tt21642/dispyprob/pyprob/pyprob/nn/inference_network_feedforward.py:67: UserWarning: Using prior. No proposal for address: 470__forward___traverse___traverse_rec___traverse_rec___traverse_rec___traverse_rec___traverse_rec___traverse_rec___traverse_rec___traverse_rec___traverse_rec___traverse_rec___traverse_rec__draw_decay_L__TruncatedExponential__13\n",
      "  warnings.warn('Using prior. No proposal for address: {}'.format(address))\n",
      "/home/tt21642/dispyprob/pyprob/pyprob/nn/inference_network_feedforward.py:67: UserWarning: Using prior. No proposal for address: 520__forward___traverse___traverse_rec___traverse_rec___traverse_rec___traverse_rec___traverse_rec___traverse_rec___traverse_rec___traverse_rec___traverse_rec___traverse_rec___traverse_rec__draw_decay_R__TruncatedExponential__13\n",
      "  warnings.warn('Using prior. No proposal for address: {}'.format(address))\n"
     ]
    },
    {
     "name": "stdout",
     "output_type": "stream",
     "text": [
      "------------------------------------------------ |  303/5000 |   1.81 | 0.36       \n",
      "0d:00:15:51 | 0d:03:34:02 | #------------------- |  345/5000 |   2.26 | 0.36       \r"
     ]
    },
    {
     "name": "stderr",
     "output_type": "stream",
     "text": [
      "/home/tt21642/dispyprob/pyprob/pyprob/nn/inference_network_feedforward.py:67: UserWarning: Using prior. No proposal for address: 520__forward___traverse___traverse_rec___traverse_rec__draw_decay_R__TruncatedExponential__3\n",
      "  warnings.warn('Using prior. No proposal for address: {}'.format(address))\n"
     ]
    },
    {
     "name": "stdout",
     "output_type": "stream",
     "text": [
      "0d:00:16:02 | 0d:03:33:46 | #------------------- |  349/5000 |   2.26 | 0.36       \r"
     ]
    },
    {
     "name": "stderr",
     "output_type": "stream",
     "text": [
      "/home/tt21642/dispyprob/pyprob/pyprob/nn/inference_network_feedforward.py:67: UserWarning: Using prior. No proposal for address: 216__forward___traverse___traverse_rec___traverse_rec___traverse_rec___traverse_rec___traverse_rec___traverse_rec___traverse_rec___traverse_rec___traverse_rec___traverse_rec___traverse_rec___traverse_rec___traverse_rec___traverse_rec___traverse_rec___traverse_rec___traverse_rec___traverse_rec___traverse_rec__?__Uniform__1\n",
      "  warnings.warn('Using prior. No proposal for address: {}'.format(address))\n",
      "/home/tt21642/dispyprob/pyprob/pyprob/nn/inference_network_feedforward.py:67: UserWarning: Using prior. No proposal for address: 260__forward___traverse___traverse_rec___traverse_rec___traverse_rec___traverse_rec___traverse_rec___traverse_rec___traverse_rec___traverse_rec___traverse_rec___traverse_rec___traverse_rec___traverse_rec___traverse_rec___traverse_rec___traverse_rec___traverse_rec___traverse_rec___traverse_rec___traverse_rec__theta_CM_U__Uniform__1\n",
      "  warnings.warn('Using prior. No proposal for address: {}'.format(address))\n",
      "/home/tt21642/dispyprob/pyprob/pyprob/nn/inference_network_feedforward.py:67: UserWarning: Using prior. No proposal for address: 470__forward___traverse___traverse_rec___traverse_rec___traverse_rec___traverse_rec___traverse_rec___traverse_rec___traverse_rec___traverse_rec___traverse_rec___traverse_rec___traverse_rec___traverse_rec___traverse_rec___traverse_rec___traverse_rec___traverse_rec___traverse_rec___traverse_rec___traverse_rec__draw_decay_L__TruncatedExponential__1\n",
      "  warnings.warn('Using prior. No proposal for address: {}'.format(address))\n",
      "/home/tt21642/dispyprob/pyprob/pyprob/nn/inference_network_feedforward.py:67: UserWarning: Using prior. No proposal for address: 520__forward___traverse___traverse_rec___traverse_rec___traverse_rec___traverse_rec___traverse_rec___traverse_rec___traverse_rec___traverse_rec___traverse_rec___traverse_rec___traverse_rec___traverse_rec___traverse_rec___traverse_rec___traverse_rec___traverse_rec___traverse_rec___traverse_rec___traverse_rec__draw_decay_R__TruncatedExponential__1\n",
      "  warnings.warn('Using prior. No proposal for address: {}'.format(address))\n",
      "/home/tt21642/dispyprob/pyprob/pyprob/nn/inference_network_feedforward.py:67: UserWarning: Using prior. No proposal for address: 216__forward___traverse___traverse_rec___traverse_rec___traverse_rec___traverse_rec___traverse_rec___traverse_rec___traverse_rec___traverse_rec___traverse_rec___traverse_rec___traverse_rec___traverse_rec___traverse_rec___traverse_rec___traverse_rec___traverse_rec___traverse_rec___traverse_rec___traverse_rec__?__Uniform__2\n",
      "  warnings.warn('Using prior. No proposal for address: {}'.format(address))\n",
      "/home/tt21642/dispyprob/pyprob/pyprob/nn/inference_network_feedforward.py:67: UserWarning: Using prior. No proposal for address: 260__forward___traverse___traverse_rec___traverse_rec___traverse_rec___traverse_rec___traverse_rec___traverse_rec___traverse_rec___traverse_rec___traverse_rec___traverse_rec___traverse_rec___traverse_rec___traverse_rec___traverse_rec___traverse_rec___traverse_rec___traverse_rec___traverse_rec___traverse_rec__theta_CM_U__Uniform__2\n",
      "  warnings.warn('Using prior. No proposal for address: {}'.format(address))\n",
      "/home/tt21642/dispyprob/pyprob/pyprob/nn/inference_network_feedforward.py:67: UserWarning: Using prior. No proposal for address: 470__forward___traverse___traverse_rec___traverse_rec___traverse_rec___traverse_rec___traverse_rec___traverse_rec___traverse_rec___traverse_rec___traverse_rec___traverse_rec___traverse_rec___traverse_rec___traverse_rec___traverse_rec___traverse_rec___traverse_rec___traverse_rec___traverse_rec___traverse_rec__draw_decay_L__TruncatedExponential__2\n",
      "  warnings.warn('Using prior. No proposal for address: {}'.format(address))\n",
      "/home/tt21642/dispyprob/pyprob/pyprob/nn/inference_network_feedforward.py:67: UserWarning: Using prior. No proposal for address: 520__forward___traverse___traverse_rec___traverse_rec___traverse_rec___traverse_rec___traverse_rec___traverse_rec___traverse_rec___traverse_rec___traverse_rec___traverse_rec___traverse_rec___traverse_rec___traverse_rec___traverse_rec___traverse_rec___traverse_rec___traverse_rec___traverse_rec___traverse_rec__draw_decay_R__TruncatedExponential__2\n",
      "  warnings.warn('Using prior. No proposal for address: {}'.format(address))\n",
      "/home/tt21642/dispyprob/pyprob/pyprob/nn/inference_network_feedforward.py:67: UserWarning: Using prior. No proposal for address: 216__forward___traverse___traverse_rec___traverse_rec___traverse_rec___traverse_rec___traverse_rec___traverse_rec___traverse_rec___traverse_rec___traverse_rec___traverse_rec___traverse_rec___traverse_rec___traverse_rec___traverse_rec___traverse_rec___traverse_rec___traverse_rec___traverse_rec___traverse_rec___traverse_rec__?__Uniform__1\n",
      "  warnings.warn('Using prior. No proposal for address: {}'.format(address))\n",
      "/home/tt21642/dispyprob/pyprob/pyprob/nn/inference_network_feedforward.py:67: UserWarning: Using prior. No proposal for address: 260__forward___traverse___traverse_rec___traverse_rec___traverse_rec___traverse_rec___traverse_rec___traverse_rec___traverse_rec___traverse_rec___traverse_rec___traverse_rec___traverse_rec___traverse_rec___traverse_rec___traverse_rec___traverse_rec___traverse_rec___traverse_rec___traverse_rec___traverse_rec___traverse_rec__theta_CM_U__Uniform__1\n",
      "  warnings.warn('Using prior. No proposal for address: {}'.format(address))\n",
      "/home/tt21642/dispyprob/pyprob/pyprob/nn/inference_network_feedforward.py:67: UserWarning: Using prior. No proposal for address: 470__forward___traverse___traverse_rec___traverse_rec___traverse_rec___traverse_rec___traverse_rec___traverse_rec___traverse_rec___traverse_rec___traverse_rec___traverse_rec___traverse_rec___traverse_rec___traverse_rec___traverse_rec___traverse_rec___traverse_rec___traverse_rec___traverse_rec___traverse_rec___traverse_rec__draw_decay_L__TruncatedExponential__1\n",
      "  warnings.warn('Using prior. No proposal for address: {}'.format(address))\n",
      "/home/tt21642/dispyprob/pyprob/pyprob/nn/inference_network_feedforward.py:67: UserWarning: Using prior. No proposal for address: 520__forward___traverse___traverse_rec___traverse_rec___traverse_rec___traverse_rec___traverse_rec___traverse_rec___traverse_rec___traverse_rec___traverse_rec___traverse_rec___traverse_rec___traverse_rec___traverse_rec___traverse_rec___traverse_rec___traverse_rec___traverse_rec___traverse_rec___traverse_rec___traverse_rec__draw_decay_R__TruncatedExponential__1\n",
      "  warnings.warn('Using prior. No proposal for address: {}'.format(address))\n",
      "/home/tt21642/dispyprob/pyprob/pyprob/nn/inference_network_feedforward.py:67: UserWarning: Using prior. No proposal for address: 216__forward___traverse___traverse_rec___traverse_rec___traverse_rec___traverse_rec___traverse_rec___traverse_rec___traverse_rec___traverse_rec___traverse_rec___traverse_rec___traverse_rec___traverse_rec___traverse_rec___traverse_rec___traverse_rec___traverse_rec___traverse_rec___traverse_rec___traverse_rec___traverse_rec___traverse_rec__?__Uniform__1\n",
      "  warnings.warn('Using prior. No proposal for address: {}'.format(address))\n",
      "/home/tt21642/dispyprob/pyprob/pyprob/nn/inference_network_feedforward.py:67: UserWarning: Using prior. No proposal for address: 260__forward___traverse___traverse_rec___traverse_rec___traverse_rec___traverse_rec___traverse_rec___traverse_rec___traverse_rec___traverse_rec___traverse_rec___traverse_rec___traverse_rec___traverse_rec___traverse_rec___traverse_rec___traverse_rec___traverse_rec___traverse_rec___traverse_rec___traverse_rec___traverse_rec___traverse_rec__theta_CM_U__Uniform__1\n",
      "  warnings.warn('Using prior. No proposal for address: {}'.format(address))\n",
      "/home/tt21642/dispyprob/pyprob/pyprob/nn/inference_network_feedforward.py:67: UserWarning: Using prior. No proposal for address: 470__forward___traverse___traverse_rec___traverse_rec___traverse_rec___traverse_rec___traverse_rec___traverse_rec___traverse_rec___traverse_rec___traverse_rec___traverse_rec___traverse_rec___traverse_rec___traverse_rec___traverse_rec___traverse_rec___traverse_rec___traverse_rec___traverse_rec___traverse_rec___traverse_rec___traverse_rec__draw_decay_L__TruncatedExponential__1\n",
      "  warnings.warn('Using prior. No proposal for address: {}'.format(address))\n",
      "/home/tt21642/dispyprob/pyprob/pyprob/nn/inference_network_feedforward.py:67: UserWarning: Using prior. No proposal for address: 520__forward___traverse___traverse_rec___traverse_rec___traverse_rec___traverse_rec___traverse_rec___traverse_rec___traverse_rec___traverse_rec___traverse_rec___traverse_rec___traverse_rec___traverse_rec___traverse_rec___traverse_rec___traverse_rec___traverse_rec___traverse_rec___traverse_rec___traverse_rec___traverse_rec___traverse_rec__draw_decay_R__TruncatedExponential__1\n",
      "  warnings.warn('Using prior. No proposal for address: {}'.format(address))\n"
     ]
    },
    {
     "name": "stdout",
     "output_type": "stream",
     "text": [
      "0d:00:16:57 | 0d:03:34:03 | #------------------- |  367/5000 |   2.34 | 0.36       \r"
     ]
    },
    {
     "name": "stderr",
     "output_type": "stream",
     "text": [
      "/home/tt21642/dispyprob/pyprob/pyprob/nn/inference_network_feedforward.py:67: UserWarning: Using prior. No proposal for address: 216__forward___traverse___traverse_rec___traverse_rec___traverse_rec___traverse_rec___traverse_rec__?__Uniform__14\n",
      "  warnings.warn('Using prior. No proposal for address: {}'.format(address))\n",
      "/home/tt21642/dispyprob/pyprob/pyprob/nn/inference_network_feedforward.py:67: UserWarning: Using prior. No proposal for address: 260__forward___traverse___traverse_rec___traverse_rec___traverse_rec___traverse_rec___traverse_rec__theta_CM_U__Uniform__14\n",
      "  warnings.warn('Using prior. No proposal for address: {}'.format(address))\n",
      "/home/tt21642/dispyprob/pyprob/pyprob/nn/inference_network_feedforward.py:67: UserWarning: Using prior. No proposal for address: 470__forward___traverse___traverse_rec___traverse_rec___traverse_rec___traverse_rec___traverse_rec__draw_decay_L__TruncatedExponential__14\n",
      "  warnings.warn('Using prior. No proposal for address: {}'.format(address))\n",
      "/home/tt21642/dispyprob/pyprob/pyprob/nn/inference_network_feedforward.py:67: UserWarning: Using prior. No proposal for address: 520__forward___traverse___traverse_rec___traverse_rec___traverse_rec___traverse_rec___traverse_rec__draw_decay_R__TruncatedExponential__14\n",
      "  warnings.warn('Using prior. No proposal for address: {}'.format(address))\n"
     ]
    },
    {
     "name": "stdout",
     "output_type": "stream",
     "text": [
      "0d:00:17:23 | 0d:03:33:56 | ##------------------ |  376/5000 |   2.34 | 0.36       \r"
     ]
    },
    {
     "name": "stderr",
     "output_type": "stream",
     "text": [
      "/home/tt21642/dispyprob/pyprob/pyprob/nn/inference_network_feedforward.py:67: UserWarning: Using prior. No proposal for address: 216__forward___traverse___traverse_rec___traverse_rec___traverse_rec___traverse_rec___traverse_rec___traverse_rec___traverse_rec___traverse_rec___traverse_rec___traverse_rec__?__Uniform__15\n",
      "  warnings.warn('Using prior. No proposal for address: {}'.format(address))\n",
      "/home/tt21642/dispyprob/pyprob/pyprob/nn/inference_network_feedforward.py:67: UserWarning: Using prior. No proposal for address: 260__forward___traverse___traverse_rec___traverse_rec___traverse_rec___traverse_rec___traverse_rec___traverse_rec___traverse_rec___traverse_rec___traverse_rec___traverse_rec__theta_CM_U__Uniform__15\n",
      "  warnings.warn('Using prior. No proposal for address: {}'.format(address))\n",
      "/home/tt21642/dispyprob/pyprob/pyprob/nn/inference_network_feedforward.py:67: UserWarning: Using prior. No proposal for address: 470__forward___traverse___traverse_rec___traverse_rec___traverse_rec___traverse_rec___traverse_rec___traverse_rec___traverse_rec___traverse_rec___traverse_rec___traverse_rec__draw_decay_L__TruncatedExponential__15\n",
      "  warnings.warn('Using prior. No proposal for address: {}'.format(address))\n",
      "/home/tt21642/dispyprob/pyprob/pyprob/nn/inference_network_feedforward.py:67: UserWarning: Using prior. No proposal for address: 520__forward___traverse___traverse_rec___traverse_rec___traverse_rec___traverse_rec___traverse_rec___traverse_rec___traverse_rec___traverse_rec___traverse_rec___traverse_rec__draw_decay_R__TruncatedExponential__15\n",
      "  warnings.warn('Using prior. No proposal for address: {}'.format(address))\n"
     ]
    },
    {
     "name": "stdout",
     "output_type": "stream",
     "text": [
      "0d:00:18:02 | 0d:03:33:15 | ##------------------ |  390/5000 |   2.34 | 0.36       \r"
     ]
    },
    {
     "name": "stderr",
     "output_type": "stream",
     "text": [
      "/home/tt21642/dispyprob/pyprob/pyprob/nn/inference_network_feedforward.py:67: UserWarning: Using prior. No proposal for address: 216__forward___traverse___traverse_rec___traverse_rec___traverse_rec___traverse_rec___traverse_rec___traverse_rec__?__Uniform__18\n",
      "  warnings.warn('Using prior. No proposal for address: {}'.format(address))\n",
      "/home/tt21642/dispyprob/pyprob/pyprob/nn/inference_network_feedforward.py:67: UserWarning: Using prior. No proposal for address: 260__forward___traverse___traverse_rec___traverse_rec___traverse_rec___traverse_rec___traverse_rec___traverse_rec__theta_CM_U__Uniform__18\n",
      "  warnings.warn('Using prior. No proposal for address: {}'.format(address))\n",
      "/home/tt21642/dispyprob/pyprob/pyprob/nn/inference_network_feedforward.py:67: UserWarning: Using prior. No proposal for address: 470__forward___traverse___traverse_rec___traverse_rec___traverse_rec___traverse_rec___traverse_rec___traverse_rec__draw_decay_L__TruncatedExponential__18\n",
      "  warnings.warn('Using prior. No proposal for address: {}'.format(address))\n",
      "/home/tt21642/dispyprob/pyprob/pyprob/nn/inference_network_feedforward.py:67: UserWarning: Using prior. No proposal for address: 520__forward___traverse___traverse_rec___traverse_rec___traverse_rec___traverse_rec___traverse_rec___traverse_rec__draw_decay_R__TruncatedExponential__18\n",
      "  warnings.warn('Using prior. No proposal for address: {}'.format(address))\n"
     ]
    },
    {
     "name": "stdout",
     "output_type": "stream",
     "text": [
      "0d:00:18:39 | 0d:03:32:47 | ##------------------ |  403/5000 |   2.34 | 0.36       \r"
     ]
    },
    {
     "name": "stderr",
     "output_type": "stream",
     "text": [
      "/home/tt21642/dispyprob/pyprob/pyprob/nn/inference_network_feedforward.py:67: UserWarning: Using prior. No proposal for address: 216__forward___traverse___traverse_rec___traverse_rec___traverse_rec___traverse_rec___traverse_rec___traverse_rec___traverse_rec___traverse_rec___traverse_rec___traverse_rec___traverse_rec___traverse_rec___traverse_rec___traverse_rec___traverse_rec___traverse_rec___traverse_rec__?__Uniform__4\n",
      "  warnings.warn('Using prior. No proposal for address: {}'.format(address))\n",
      "/home/tt21642/dispyprob/pyprob/pyprob/nn/inference_network_feedforward.py:67: UserWarning: Using prior. No proposal for address: 260__forward___traverse___traverse_rec___traverse_rec___traverse_rec___traverse_rec___traverse_rec___traverse_rec___traverse_rec___traverse_rec___traverse_rec___traverse_rec___traverse_rec___traverse_rec___traverse_rec___traverse_rec___traverse_rec___traverse_rec___traverse_rec__theta_CM_U__Uniform__4\n",
      "  warnings.warn('Using prior. No proposal for address: {}'.format(address))\n",
      "/home/tt21642/dispyprob/pyprob/pyprob/nn/inference_network_feedforward.py:67: UserWarning: Using prior. No proposal for address: 470__forward___traverse___traverse_rec___traverse_rec___traverse_rec___traverse_rec___traverse_rec___traverse_rec___traverse_rec___traverse_rec___traverse_rec___traverse_rec___traverse_rec___traverse_rec___traverse_rec___traverse_rec___traverse_rec___traverse_rec___traverse_rec__draw_decay_L__TruncatedExponential__4\n",
      "  warnings.warn('Using prior. No proposal for address: {}'.format(address))\n",
      "/home/tt21642/dispyprob/pyprob/pyprob/nn/inference_network_feedforward.py:67: UserWarning: Using prior. No proposal for address: 520__forward___traverse___traverse_rec___traverse_rec___traverse_rec___traverse_rec___traverse_rec___traverse_rec___traverse_rec___traverse_rec___traverse_rec___traverse_rec___traverse_rec___traverse_rec___traverse_rec___traverse_rec___traverse_rec___traverse_rec___traverse_rec__draw_decay_R__TruncatedExponential__4\n",
      "  warnings.warn('Using prior. No proposal for address: {}'.format(address))\n"
     ]
    },
    {
     "name": "stdout",
     "output_type": "stream",
     "text": [
      "0d:00:21:06 | 0d:03:32:27 | ##------------------ |  452/5000 |   3.74 | 0.36       \r"
     ]
    },
    {
     "name": "stderr",
     "output_type": "stream",
     "text": [
      "/home/tt21642/dispyprob/pyprob/pyprob/nn/inference_network_feedforward.py:67: UserWarning: Using prior. No proposal for address: 216__forward___traverse___traverse_rec___traverse_rec___traverse_rec___traverse_rec___traverse_rec___traverse_rec___traverse_rec___traverse_rec___traverse_rec___traverse_rec___traverse_rec___traverse_rec___traverse_rec___traverse_rec___traverse_rec___traverse_rec___traverse_rec___traverse_rec___traverse_rec___traverse_rec___traverse_rec___traverse_rec__?__Uniform__1\n",
      "  warnings.warn('Using prior. No proposal for address: {}'.format(address))\n",
      "/home/tt21642/dispyprob/pyprob/pyprob/nn/inference_network_feedforward.py:67: UserWarning: Using prior. No proposal for address: 260__forward___traverse___traverse_rec___traverse_rec___traverse_rec___traverse_rec___traverse_rec___traverse_rec___traverse_rec___traverse_rec___traverse_rec___traverse_rec___traverse_rec___traverse_rec___traverse_rec___traverse_rec___traverse_rec___traverse_rec___traverse_rec___traverse_rec___traverse_rec___traverse_rec___traverse_rec___traverse_rec__theta_CM_U__Uniform__1\n",
      "  warnings.warn('Using prior. No proposal for address: {}'.format(address))\n",
      "/home/tt21642/dispyprob/pyprob/pyprob/nn/inference_network_feedforward.py:67: UserWarning: Using prior. No proposal for address: 470__forward___traverse___traverse_rec___traverse_rec___traverse_rec___traverse_rec___traverse_rec___traverse_rec___traverse_rec___traverse_rec___traverse_rec___traverse_rec___traverse_rec___traverse_rec___traverse_rec___traverse_rec___traverse_rec___traverse_rec___traverse_rec___traverse_rec___traverse_rec___traverse_rec___traverse_rec___traverse_rec__draw_decay_L__TruncatedExponential__1\n",
      "  warnings.warn('Using prior. No proposal for address: {}'.format(address))\n",
      "/home/tt21642/dispyprob/pyprob/pyprob/nn/inference_network_feedforward.py:67: UserWarning: Using prior. No proposal for address: 520__forward___traverse___traverse_rec___traverse_rec___traverse_rec___traverse_rec___traverse_rec___traverse_rec___traverse_rec___traverse_rec___traverse_rec___traverse_rec___traverse_rec___traverse_rec___traverse_rec___traverse_rec___traverse_rec___traverse_rec___traverse_rec___traverse_rec___traverse_rec___traverse_rec___traverse_rec___traverse_rec__draw_decay_R__TruncatedExponential__1\n",
      "  warnings.warn('Using prior. No proposal for address: {}'.format(address))\n"
     ]
    },
    {
     "name": "stdout",
     "output_type": "stream",
     "text": [
      "0d:00:21:56 | 0d:03:32:00 | ##------------------ |  469/5000 |   4.21 | 0.36       \r"
     ]
    },
    {
     "name": "stderr",
     "output_type": "stream",
     "text": [
      "/home/tt21642/dispyprob/pyprob/pyprob/nn/inference_network_feedforward.py:67: UserWarning: Using prior. No proposal for address: 520__forward___traverse___traverse_rec___traverse_rec___traverse_rec___traverse_rec__draw_decay_R__TruncatedExponential__9\n",
      "  warnings.warn('Using prior. No proposal for address: {}'.format(address))\n"
     ]
    },
    {
     "name": "stdout",
     "output_type": "stream",
     "text": [
      "0d:00:22:22 | 0d:03:32:42 | ##------------------ |  476/5000 |   4.21 | 0.35       \r"
     ]
    },
    {
     "name": "stderr",
     "output_type": "stream",
     "text": [
      "/home/tt21642/dispyprob/ToyJetsShower/showerSim/invMass_ginkgo.py:349: RuntimeWarning: invalid value encountered in sqrt\n",
      "  P = np.sqrt(tp)/2 * np.sqrt( 1 - 2 * (t_child+t_sib)/tp + (t_child - t_sib)**2 / tp**2 )\n"
     ]
    },
    {
     "name": "stdout",
     "output_type": "stream",
     "text": [
      "0d:00:22:25 | 0d:03:32:39 | ##------------------ |  477/5000 |   4.53 | 0.35       \r"
     ]
    },
    {
     "name": "stderr",
     "output_type": "stream",
     "text": [
      "/home/tt21642/dispyprob/pyprob/pyprob/model.py:66: UserWarning: Encountered trace with nan, inf, or -inf log_weight. Discarding trace.\n",
      "  warnings.warn('Encountered trace with nan, inf, or -inf log_weight. Discarding trace.')\n"
     ]
    },
    {
     "name": "stdout",
     "output_type": "stream",
     "text": [
      "0d:00:24:52 | 0d:03:31:36 | ##------------------ |  526/5000 |   5.17 | 0.35       \r"
     ]
    },
    {
     "name": "stderr",
     "output_type": "stream",
     "text": [
      "/home/tt21642/dispyprob/pyprob/pyprob/nn/inference_network_feedforward.py:67: UserWarning: Using prior. No proposal for address: 216__forward___traverse___traverse_rec___traverse_rec___traverse_rec___traverse_rec___traverse_rec___traverse_rec___traverse_rec___traverse_rec___traverse_rec___traverse_rec___traverse_rec___traverse_rec___traverse_rec___traverse_rec___traverse_rec___traverse_rec__?__Uniform__5\n",
      "  warnings.warn('Using prior. No proposal for address: {}'.format(address))\n",
      "/home/tt21642/dispyprob/pyprob/pyprob/nn/inference_network_feedforward.py:67: UserWarning: Using prior. No proposal for address: 260__forward___traverse___traverse_rec___traverse_rec___traverse_rec___traverse_rec___traverse_rec___traverse_rec___traverse_rec___traverse_rec___traverse_rec___traverse_rec___traverse_rec___traverse_rec___traverse_rec___traverse_rec___traverse_rec___traverse_rec__theta_CM_U__Uniform__5\n",
      "  warnings.warn('Using prior. No proposal for address: {}'.format(address))\n",
      "/home/tt21642/dispyprob/pyprob/pyprob/nn/inference_network_feedforward.py:67: UserWarning: Using prior. No proposal for address: 470__forward___traverse___traverse_rec___traverse_rec___traverse_rec___traverse_rec___traverse_rec___traverse_rec___traverse_rec___traverse_rec___traverse_rec___traverse_rec___traverse_rec___traverse_rec___traverse_rec___traverse_rec___traverse_rec___traverse_rec__draw_decay_L__TruncatedExponential__5\n",
      "  warnings.warn('Using prior. No proposal for address: {}'.format(address))\n",
      "/home/tt21642/dispyprob/pyprob/pyprob/nn/inference_network_feedforward.py:67: UserWarning: Using prior. No proposal for address: 520__forward___traverse___traverse_rec___traverse_rec___traverse_rec___traverse_rec___traverse_rec___traverse_rec___traverse_rec___traverse_rec___traverse_rec___traverse_rec___traverse_rec___traverse_rec___traverse_rec___traverse_rec___traverse_rec___traverse_rec__draw_decay_R__TruncatedExponential__5\n",
      "  warnings.warn('Using prior. No proposal for address: {}'.format(address))\n",
      "/home/tt21642/dispyprob/pyprob/pyprob/nn/inference_network_feedforward.py:67: UserWarning: Using prior. No proposal for address: 216__forward___traverse___traverse_rec___traverse_rec___traverse_rec___traverse_rec___traverse_rec___traverse_rec___traverse_rec___traverse_rec___traverse_rec___traverse_rec___traverse_rec___traverse_rec___traverse_rec___traverse_rec___traverse_rec___traverse_rec___traverse_rec__?__Uniform__5\n",
      "  warnings.warn('Using prior. No proposal for address: {}'.format(address))\n",
      "/home/tt21642/dispyprob/pyprob/pyprob/nn/inference_network_feedforward.py:67: UserWarning: Using prior. No proposal for address: 260__forward___traverse___traverse_rec___traverse_rec___traverse_rec___traverse_rec___traverse_rec___traverse_rec___traverse_rec___traverse_rec___traverse_rec___traverse_rec___traverse_rec___traverse_rec___traverse_rec___traverse_rec___traverse_rec___traverse_rec___traverse_rec__theta_CM_U__Uniform__5\n",
      "  warnings.warn('Using prior. No proposal for address: {}'.format(address))\n",
      "/home/tt21642/dispyprob/pyprob/pyprob/nn/inference_network_feedforward.py:67: UserWarning: Using prior. No proposal for address: 470__forward___traverse___traverse_rec___traverse_rec___traverse_rec___traverse_rec___traverse_rec___traverse_rec___traverse_rec___traverse_rec___traverse_rec___traverse_rec___traverse_rec___traverse_rec___traverse_rec___traverse_rec___traverse_rec___traverse_rec___traverse_rec__draw_decay_L__TruncatedExponential__5\n",
      "  warnings.warn('Using prior. No proposal for address: {}'.format(address))\n",
      "/home/tt21642/dispyprob/pyprob/pyprob/nn/inference_network_feedforward.py:67: UserWarning: Using prior. No proposal for address: 520__forward___traverse___traverse_rec___traverse_rec___traverse_rec___traverse_rec___traverse_rec___traverse_rec___traverse_rec___traverse_rec___traverse_rec___traverse_rec___traverse_rec___traverse_rec___traverse_rec___traverse_rec___traverse_rec___traverse_rec___traverse_rec__draw_decay_R__TruncatedExponential__5\n",
      "  warnings.warn('Using prior. No proposal for address: {}'.format(address))\n"
     ]
    },
    {
     "name": "stdout",
     "output_type": "stream",
     "text": [
      "------------------------------------------------ |  547/5000 |   6.02 | 0.35       \n",
      "0d:00:27:36 | 0d:03:29:16 | ##------------------ |  583/5000 |   6.07 | 0.35       \r"
     ]
    },
    {
     "name": "stderr",
     "output_type": "stream",
     "text": [
      "/home/tt21642/dispyprob/pyprob/pyprob/nn/inference_network_feedforward.py:67: UserWarning: Using prior. No proposal for address: 216__forward___traverse___traverse_rec___traverse_rec___traverse_rec___traverse_rec___traverse_rec___traverse_rec___traverse_rec___traverse_rec___traverse_rec___traverse_rec___traverse_rec___traverse_rec___traverse_rec___traverse_rec___traverse_rec___traverse_rec___traverse_rec___traverse_rec___traverse_rec___traverse_rec___traverse_rec__?__Uniform__2\n",
      "  warnings.warn('Using prior. No proposal for address: {}'.format(address))\n",
      "/home/tt21642/dispyprob/pyprob/pyprob/nn/inference_network_feedforward.py:67: UserWarning: Using prior. No proposal for address: 260__forward___traverse___traverse_rec___traverse_rec___traverse_rec___traverse_rec___traverse_rec___traverse_rec___traverse_rec___traverse_rec___traverse_rec___traverse_rec___traverse_rec___traverse_rec___traverse_rec___traverse_rec___traverse_rec___traverse_rec___traverse_rec___traverse_rec___traverse_rec___traverse_rec___traverse_rec__theta_CM_U__Uniform__2\n",
      "  warnings.warn('Using prior. No proposal for address: {}'.format(address))\n",
      "/home/tt21642/dispyprob/pyprob/pyprob/nn/inference_network_feedforward.py:67: UserWarning: Using prior. No proposal for address: 470__forward___traverse___traverse_rec___traverse_rec___traverse_rec___traverse_rec___traverse_rec___traverse_rec___traverse_rec___traverse_rec___traverse_rec___traverse_rec___traverse_rec___traverse_rec___traverse_rec___traverse_rec___traverse_rec___traverse_rec___traverse_rec___traverse_rec___traverse_rec___traverse_rec___traverse_rec__draw_decay_L__TruncatedExponential__2\n",
      "  warnings.warn('Using prior. No proposal for address: {}'.format(address))\n",
      "/home/tt21642/dispyprob/pyprob/pyprob/nn/inference_network_feedforward.py:67: UserWarning: Using prior. No proposal for address: 520__forward___traverse___traverse_rec___traverse_rec___traverse_rec___traverse_rec___traverse_rec___traverse_rec___traverse_rec___traverse_rec___traverse_rec___traverse_rec___traverse_rec___traverse_rec___traverse_rec___traverse_rec___traverse_rec___traverse_rec___traverse_rec___traverse_rec___traverse_rec___traverse_rec___traverse_rec__draw_decay_R__TruncatedExponential__2\n",
      "  warnings.warn('Using prior. No proposal for address: {}'.format(address))\n",
      "/home/tt21642/dispyprob/pyprob/pyprob/nn/inference_network_feedforward.py:67: UserWarning: Using prior. No proposal for address: 216__forward___traverse___traverse_rec___traverse_rec___traverse_rec___traverse_rec___traverse_rec___traverse_rec___traverse_rec___traverse_rec___traverse_rec___traverse_rec___traverse_rec___traverse_rec___traverse_rec___traverse_rec___traverse_rec___traverse_rec___traverse_rec___traverse_rec___traverse_rec___traverse_rec__?__Uniform__2\n",
      "  warnings.warn('Using prior. No proposal for address: {}'.format(address))\n",
      "/home/tt21642/dispyprob/pyprob/pyprob/nn/inference_network_feedforward.py:67: UserWarning: Using prior. No proposal for address: 260__forward___traverse___traverse_rec___traverse_rec___traverse_rec___traverse_rec___traverse_rec___traverse_rec___traverse_rec___traverse_rec___traverse_rec___traverse_rec___traverse_rec___traverse_rec___traverse_rec___traverse_rec___traverse_rec___traverse_rec___traverse_rec___traverse_rec___traverse_rec___traverse_rec__theta_CM_U__Uniform__2\n",
      "  warnings.warn('Using prior. No proposal for address: {}'.format(address))\n",
      "/home/tt21642/dispyprob/pyprob/pyprob/nn/inference_network_feedforward.py:67: UserWarning: Using prior. No proposal for address: 470__forward___traverse___traverse_rec___traverse_rec___traverse_rec___traverse_rec___traverse_rec___traverse_rec___traverse_rec___traverse_rec___traverse_rec___traverse_rec___traverse_rec___traverse_rec___traverse_rec___traverse_rec___traverse_rec___traverse_rec___traverse_rec___traverse_rec___traverse_rec___traverse_rec__draw_decay_L__TruncatedExponential__2\n",
      "  warnings.warn('Using prior. No proposal for address: {}'.format(address))\n",
      "/home/tt21642/dispyprob/pyprob/pyprob/nn/inference_network_feedforward.py:67: UserWarning: Using prior. No proposal for address: 520__forward___traverse___traverse_rec___traverse_rec___traverse_rec___traverse_rec___traverse_rec___traverse_rec___traverse_rec___traverse_rec___traverse_rec___traverse_rec___traverse_rec___traverse_rec___traverse_rec___traverse_rec___traverse_rec___traverse_rec___traverse_rec___traverse_rec___traverse_rec___traverse_rec__draw_decay_R__TruncatedExponential__2\n",
      "  warnings.warn('Using prior. No proposal for address: {}'.format(address))\n",
      "/home/tt21642/dispyprob/pyprob/pyprob/nn/inference_network_feedforward.py:67: UserWarning: Using prior. No proposal for address: 216__forward___traverse___traverse_rec___traverse_rec___traverse_rec___traverse_rec___traverse_rec___traverse_rec___traverse_rec___traverse_rec___traverse_rec___traverse_rec___traverse_rec___traverse_rec___traverse_rec___traverse_rec___traverse_rec___traverse_rec___traverse_rec___traverse_rec___traverse_rec___traverse_rec___traverse_rec__?__Uniform__3\n",
      "  warnings.warn('Using prior. No proposal for address: {}'.format(address))\n",
      "/home/tt21642/dispyprob/pyprob/pyprob/nn/inference_network_feedforward.py:67: UserWarning: Using prior. No proposal for address: 260__forward___traverse___traverse_rec___traverse_rec___traverse_rec___traverse_rec___traverse_rec___traverse_rec___traverse_rec___traverse_rec___traverse_rec___traverse_rec___traverse_rec___traverse_rec___traverse_rec___traverse_rec___traverse_rec___traverse_rec___traverse_rec___traverse_rec___traverse_rec___traverse_rec___traverse_rec__theta_CM_U__Uniform__3\n",
      "  warnings.warn('Using prior. No proposal for address: {}'.format(address))\n",
      "/home/tt21642/dispyprob/pyprob/pyprob/nn/inference_network_feedforward.py:67: UserWarning: Using prior. No proposal for address: 470__forward___traverse___traverse_rec___traverse_rec___traverse_rec___traverse_rec___traverse_rec___traverse_rec___traverse_rec___traverse_rec___traverse_rec___traverse_rec___traverse_rec___traverse_rec___traverse_rec___traverse_rec___traverse_rec___traverse_rec___traverse_rec___traverse_rec___traverse_rec___traverse_rec___traverse_rec__draw_decay_L__TruncatedExponential__3\n",
      "  warnings.warn('Using prior. No proposal for address: {}'.format(address))\n",
      "/home/tt21642/dispyprob/pyprob/pyprob/nn/inference_network_feedforward.py:67: UserWarning: Using prior. No proposal for address: 520__forward___traverse___traverse_rec___traverse_rec___traverse_rec___traverse_rec___traverse_rec___traverse_rec___traverse_rec___traverse_rec___traverse_rec___traverse_rec___traverse_rec___traverse_rec___traverse_rec___traverse_rec___traverse_rec___traverse_rec___traverse_rec___traverse_rec___traverse_rec___traverse_rec___traverse_rec__draw_decay_R__TruncatedExponential__3\n",
      "  warnings.warn('Using prior. No proposal for address: {}'.format(address))\n",
      "/home/tt21642/dispyprob/pyprob/pyprob/nn/inference_network_feedforward.py:67: UserWarning: Using prior. No proposal for address: 216__forward___traverse___traverse_rec___traverse_rec___traverse_rec___traverse_rec___traverse_rec___traverse_rec___traverse_rec___traverse_rec___traverse_rec___traverse_rec___traverse_rec___traverse_rec___traverse_rec___traverse_rec___traverse_rec___traverse_rec___traverse_rec___traverse_rec__?__Uniform__3\n",
      "  warnings.warn('Using prior. No proposal for address: {}'.format(address))\n",
      "/home/tt21642/dispyprob/pyprob/pyprob/nn/inference_network_feedforward.py:67: UserWarning: Using prior. No proposal for address: 260__forward___traverse___traverse_rec___traverse_rec___traverse_rec___traverse_rec___traverse_rec___traverse_rec___traverse_rec___traverse_rec___traverse_rec___traverse_rec___traverse_rec___traverse_rec___traverse_rec___traverse_rec___traverse_rec___traverse_rec___traverse_rec___traverse_rec__theta_CM_U__Uniform__3\n",
      "  warnings.warn('Using prior. No proposal for address: {}'.format(address))\n",
      "/home/tt21642/dispyprob/pyprob/pyprob/nn/inference_network_feedforward.py:67: UserWarning: Using prior. No proposal for address: 470__forward___traverse___traverse_rec___traverse_rec___traverse_rec___traverse_rec___traverse_rec___traverse_rec___traverse_rec___traverse_rec___traverse_rec___traverse_rec___traverse_rec___traverse_rec___traverse_rec___traverse_rec___traverse_rec___traverse_rec___traverse_rec___traverse_rec__draw_decay_L__TruncatedExponential__3\n",
      "  warnings.warn('Using prior. No proposal for address: {}'.format(address))\n",
      "/home/tt21642/dispyprob/pyprob/pyprob/nn/inference_network_feedforward.py:67: UserWarning: Using prior. No proposal for address: 520__forward___traverse___traverse_rec___traverse_rec___traverse_rec___traverse_rec___traverse_rec___traverse_rec___traverse_rec___traverse_rec___traverse_rec___traverse_rec___traverse_rec___traverse_rec___traverse_rec___traverse_rec___traverse_rec___traverse_rec___traverse_rec___traverse_rec__draw_decay_R__TruncatedExponential__3\n",
      "  warnings.warn('Using prior. No proposal for address: {}'.format(address))\n",
      "/home/tt21642/dispyprob/pyprob/pyprob/nn/inference_network_feedforward.py:67: UserWarning: Using prior. No proposal for address: 216__forward___traverse___traverse_rec___traverse_rec___traverse_rec___traverse_rec___traverse_rec___traverse_rec___traverse_rec___traverse_rec___traverse_rec___traverse_rec___traverse_rec___traverse_rec___traverse_rec___traverse_rec___traverse_rec___traverse_rec___traverse_rec___traverse_rec__?__Uniform__4\n",
      "  warnings.warn('Using prior. No proposal for address: {}'.format(address))\n",
      "/home/tt21642/dispyprob/pyprob/pyprob/nn/inference_network_feedforward.py:67: UserWarning: Using prior. No proposal for address: 260__forward___traverse___traverse_rec___traverse_rec___traverse_rec___traverse_rec___traverse_rec___traverse_rec___traverse_rec___traverse_rec___traverse_rec___traverse_rec___traverse_rec___traverse_rec___traverse_rec___traverse_rec___traverse_rec___traverse_rec___traverse_rec___traverse_rec__theta_CM_U__Uniform__4\n",
      "  warnings.warn('Using prior. No proposal for address: {}'.format(address))\n",
      "/home/tt21642/dispyprob/pyprob/pyprob/nn/inference_network_feedforward.py:67: UserWarning: Using prior. No proposal for address: 470__forward___traverse___traverse_rec___traverse_rec___traverse_rec___traverse_rec___traverse_rec___traverse_rec___traverse_rec___traverse_rec___traverse_rec___traverse_rec___traverse_rec___traverse_rec___traverse_rec___traverse_rec___traverse_rec___traverse_rec___traverse_rec___traverse_rec__draw_decay_L__TruncatedExponential__4\n",
      "  warnings.warn('Using prior. No proposal for address: {}'.format(address))\n",
      "/home/tt21642/dispyprob/pyprob/pyprob/nn/inference_network_feedforward.py:67: UserWarning: Using prior. No proposal for address: 520__forward___traverse___traverse_rec___traverse_rec___traverse_rec___traverse_rec___traverse_rec___traverse_rec___traverse_rec___traverse_rec___traverse_rec___traverse_rec___traverse_rec___traverse_rec___traverse_rec___traverse_rec___traverse_rec___traverse_rec___traverse_rec___traverse_rec__draw_decay_R__TruncatedExponential__4\n",
      "  warnings.warn('Using prior. No proposal for address: {}'.format(address))\n",
      "/home/tt21642/dispyprob/pyprob/pyprob/nn/inference_network_feedforward.py:67: UserWarning: Using prior. No proposal for address: 216__forward___traverse___traverse_rec___traverse_rec___traverse_rec___traverse_rec___traverse_rec___traverse_rec___traverse_rec___traverse_rec___traverse_rec___traverse_rec___traverse_rec___traverse_rec___traverse_rec___traverse_rec___traverse_rec___traverse_rec__?__Uniform__6\n",
      "  warnings.warn('Using prior. No proposal for address: {}'.format(address))\n",
      "/home/tt21642/dispyprob/pyprob/pyprob/nn/inference_network_feedforward.py:67: UserWarning: Using prior. No proposal for address: 260__forward___traverse___traverse_rec___traverse_rec___traverse_rec___traverse_rec___traverse_rec___traverse_rec___traverse_rec___traverse_rec___traverse_rec___traverse_rec___traverse_rec___traverse_rec___traverse_rec___traverse_rec___traverse_rec___traverse_rec__theta_CM_U__Uniform__6\n",
      "  warnings.warn('Using prior. No proposal for address: {}'.format(address))\n",
      "/home/tt21642/dispyprob/pyprob/pyprob/nn/inference_network_feedforward.py:67: UserWarning: Using prior. No proposal for address: 470__forward___traverse___traverse_rec___traverse_rec___traverse_rec___traverse_rec___traverse_rec___traverse_rec___traverse_rec___traverse_rec___traverse_rec___traverse_rec___traverse_rec___traverse_rec___traverse_rec___traverse_rec___traverse_rec___traverse_rec__draw_decay_L__TruncatedExponential__6\n",
      "  warnings.warn('Using prior. No proposal for address: {}'.format(address))\n",
      "/home/tt21642/dispyprob/pyprob/pyprob/nn/inference_network_feedforward.py:67: UserWarning: Using prior. No proposal for address: 520__forward___traverse___traverse_rec___traverse_rec___traverse_rec___traverse_rec___traverse_rec___traverse_rec___traverse_rec___traverse_rec___traverse_rec___traverse_rec___traverse_rec___traverse_rec___traverse_rec___traverse_rec___traverse_rec___traverse_rec__draw_decay_R__TruncatedExponential__6\n",
      "  warnings.warn('Using prior. No proposal for address: {}'.format(address))\n"
     ]
    },
    {
     "name": "stdout",
     "output_type": "stream",
     "text": [
      "0d:00:36:26 | 0d:03:25:54 | ###----------------- |  752/5000 |   6.68 | 0.34       \r"
     ]
    },
    {
     "name": "stderr",
     "output_type": "stream",
     "text": [
      "/home/tt21642/dispyprob/pyprob/pyprob/nn/inference_network_feedforward.py:67: UserWarning: Using prior. No proposal for address: 216__forward___traverse___traverse_rec___traverse_rec___traverse_rec___traverse_rec___traverse_rec___traverse_rec___traverse_rec___traverse_rec___traverse_rec___traverse_rec__?__Uniform__16\n",
      "  warnings.warn('Using prior. No proposal for address: {}'.format(address))\n",
      "/home/tt21642/dispyprob/pyprob/pyprob/nn/inference_network_feedforward.py:67: UserWarning: Using prior. No proposal for address: 260__forward___traverse___traverse_rec___traverse_rec___traverse_rec___traverse_rec___traverse_rec___traverse_rec___traverse_rec___traverse_rec___traverse_rec___traverse_rec__theta_CM_U__Uniform__16\n",
      "  warnings.warn('Using prior. No proposal for address: {}'.format(address))\n",
      "/home/tt21642/dispyprob/pyprob/pyprob/nn/inference_network_feedforward.py:67: UserWarning: Using prior. No proposal for address: 470__forward___traverse___traverse_rec___traverse_rec___traverse_rec___traverse_rec___traverse_rec___traverse_rec___traverse_rec___traverse_rec___traverse_rec___traverse_rec__draw_decay_L__TruncatedExponential__16\n",
      "  warnings.warn('Using prior. No proposal for address: {}'.format(address))\n",
      "/home/tt21642/dispyprob/pyprob/pyprob/nn/inference_network_feedforward.py:67: UserWarning: Using prior. No proposal for address: 520__forward___traverse___traverse_rec___traverse_rec___traverse_rec___traverse_rec___traverse_rec___traverse_rec___traverse_rec___traverse_rec___traverse_rec___traverse_rec__draw_decay_R__TruncatedExponential__16\n",
      "  warnings.warn('Using prior. No proposal for address: {}'.format(address))\n"
     ]
    },
    {
     "name": "stdout",
     "output_type": "stream",
     "text": [
      "0d:00:37:36 | 0d:03:25:21 | ###----------------- |  774/5000 |   8.27 | 0.34       \r"
     ]
    },
    {
     "name": "stderr",
     "output_type": "stream",
     "text": [
      "/home/tt21642/dispyprob/pyprob/pyprob/nn/inference_network_feedforward.py:67: UserWarning: Using prior. No proposal for address: 520__forward___traverse___traverse_rec___traverse_rec___traverse_rec__draw_decay_R__TruncatedExponential__5\n",
      "  warnings.warn('Using prior. No proposal for address: {}'.format(address))\n"
     ]
    },
    {
     "name": "stdout",
     "output_type": "stream",
     "text": [
      "------------------------------##---------------- |  883/5000 |   9.15 | 0.34       \n",
      "------------------------------##---------------- |  961/5000 |   9.91 | 0.34       \n",
      "------------------------------##---------------- |  962/5000 |   9.91 | 0.34       \n",
      "------------------------------##---------------- | 1003/5000 |  10.28 | 0.34       \n",
      "0d:01:00:02 | 0d:03:05:41 | #####--------------- | 1222/5000 |  13.88 | 0.34       \r"
     ]
    },
    {
     "name": "stderr",
     "output_type": "stream",
     "text": [
      "/home/tt21642/dispyprob/pyprob/pyprob/nn/inference_network_feedforward.py:67: UserWarning: Using prior. No proposal for address: 216__forward___traverse___traverse_rec___traverse_rec___traverse_rec___traverse_rec___traverse_rec___traverse_rec___traverse_rec___traverse_rec___traverse_rec___traverse_rec___traverse_rec___traverse_rec___traverse_rec___traverse_rec__?__Uniform__8\n",
      "  warnings.warn('Using prior. No proposal for address: {}'.format(address))\n",
      "/home/tt21642/dispyprob/pyprob/pyprob/nn/inference_network_feedforward.py:67: UserWarning: Using prior. No proposal for address: 260__forward___traverse___traverse_rec___traverse_rec___traverse_rec___traverse_rec___traverse_rec___traverse_rec___traverse_rec___traverse_rec___traverse_rec___traverse_rec___traverse_rec___traverse_rec___traverse_rec___traverse_rec__theta_CM_U__Uniform__8\n",
      "  warnings.warn('Using prior. No proposal for address: {}'.format(address))\n",
      "/home/tt21642/dispyprob/pyprob/pyprob/nn/inference_network_feedforward.py:67: UserWarning: Using prior. No proposal for address: 470__forward___traverse___traverse_rec___traverse_rec___traverse_rec___traverse_rec___traverse_rec___traverse_rec___traverse_rec___traverse_rec___traverse_rec___traverse_rec___traverse_rec___traverse_rec___traverse_rec___traverse_rec__draw_decay_L__TruncatedExponential__8\n",
      "  warnings.warn('Using prior. No proposal for address: {}'.format(address))\n",
      "/home/tt21642/dispyprob/pyprob/pyprob/nn/inference_network_feedforward.py:67: UserWarning: Using prior. No proposal for address: 520__forward___traverse___traverse_rec___traverse_rec___traverse_rec___traverse_rec___traverse_rec___traverse_rec___traverse_rec___traverse_rec___traverse_rec___traverse_rec___traverse_rec___traverse_rec___traverse_rec___traverse_rec__draw_decay_R__TruncatedExponential__8\n",
      "  warnings.warn('Using prior. No proposal for address: {}'.format(address))\n",
      "/home/tt21642/dispyprob/pyprob/pyprob/nn/inference_network_feedforward.py:67: UserWarning: Using prior. No proposal for address: 216__forward___traverse___traverse_rec___traverse_rec___traverse_rec___traverse_rec___traverse_rec___traverse_rec___traverse_rec___traverse_rec___traverse_rec___traverse_rec___traverse_rec___traverse_rec___traverse_rec___traverse_rec__?__Uniform__9\n",
      "  warnings.warn('Using prior. No proposal for address: {}'.format(address))\n",
      "/home/tt21642/dispyprob/pyprob/pyprob/nn/inference_network_feedforward.py:67: UserWarning: Using prior. No proposal for address: 260__forward___traverse___traverse_rec___traverse_rec___traverse_rec___traverse_rec___traverse_rec___traverse_rec___traverse_rec___traverse_rec___traverse_rec___traverse_rec___traverse_rec___traverse_rec___traverse_rec___traverse_rec__theta_CM_U__Uniform__9\n",
      "  warnings.warn('Using prior. No proposal for address: {}'.format(address))\n",
      "/home/tt21642/dispyprob/pyprob/pyprob/nn/inference_network_feedforward.py:67: UserWarning: Using prior. No proposal for address: 470__forward___traverse___traverse_rec___traverse_rec___traverse_rec___traverse_rec___traverse_rec___traverse_rec___traverse_rec___traverse_rec___traverse_rec___traverse_rec___traverse_rec___traverse_rec___traverse_rec___traverse_rec__draw_decay_L__TruncatedExponential__9\n",
      "  warnings.warn('Using prior. No proposal for address: {}'.format(address))\n",
      "/home/tt21642/dispyprob/pyprob/pyprob/nn/inference_network_feedforward.py:67: UserWarning: Using prior. No proposal for address: 520__forward___traverse___traverse_rec___traverse_rec___traverse_rec___traverse_rec___traverse_rec___traverse_rec___traverse_rec___traverse_rec___traverse_rec___traverse_rec___traverse_rec___traverse_rec___traverse_rec___traverse_rec__draw_decay_R__TruncatedExponential__9\n",
      "  warnings.warn('Using prior. No proposal for address: {}'.format(address))\n"
     ]
    },
    {
     "name": "stdout",
     "output_type": "stream",
     "text": [
      "------------------------------###--------------- | 1240/5000 |  13.89 | 0.34       \n",
      "0d:01:05:59 | 0d:02:59:11 | #####--------------- | 1346/5000 |  15.05 | 0.34       \r"
     ]
    },
    {
     "name": "stderr",
     "output_type": "stream",
     "text": [
      "/home/tt21642/dispyprob/pyprob/pyprob/nn/inference_network_feedforward.py:67: UserWarning: Using prior. No proposal for address: 470__forward___traverse___traverse_rec__draw_decay_L__TruncatedExponential__2\n",
      "  warnings.warn('Using prior. No proposal for address: {}'.format(address))\n"
     ]
    },
    {
     "name": "stdout",
     "output_type": "stream",
     "text": [
      "------------------------------####-------------- | 1395/5000 |  15.16 | 0.34       \n",
      "------------------------------####-------------- | 1542/5000 |   1.64 | 0.34       \n",
      "------------------------------####-------------- | 1550/5000 |   1.64 | 0.34       \n",
      "------------------------------#####------------- | 1672/5000 |   1.65 | 0.34       \n",
      "0d:01:22:47 | 0d:02:40:12 | #######------------- | 1704/5000 |   1.65 | 0.34       \r"
     ]
    },
    {
     "name": "stderr",
     "output_type": "stream",
     "text": [
      "/home/tt21642/dispyprob/pyprob/pyprob/nn/inference_network_feedforward.py:67: UserWarning: Using prior. No proposal for address: 216__forward___traverse___traverse_rec___traverse_rec___traverse_rec___traverse_rec___traverse_rec___traverse_rec___traverse_rec___traverse_rec___traverse_rec___traverse_rec___traverse_rec___traverse_rec___traverse_rec___traverse_rec___traverse_rec__?__Uniform__7\n",
      "  warnings.warn('Using prior. No proposal for address: {}'.format(address))\n",
      "/home/tt21642/dispyprob/pyprob/pyprob/nn/inference_network_feedforward.py:67: UserWarning: Using prior. No proposal for address: 260__forward___traverse___traverse_rec___traverse_rec___traverse_rec___traverse_rec___traverse_rec___traverse_rec___traverse_rec___traverse_rec___traverse_rec___traverse_rec___traverse_rec___traverse_rec___traverse_rec___traverse_rec___traverse_rec__theta_CM_U__Uniform__7\n",
      "  warnings.warn('Using prior. No proposal for address: {}'.format(address))\n",
      "/home/tt21642/dispyprob/pyprob/pyprob/nn/inference_network_feedforward.py:67: UserWarning: Using prior. No proposal for address: 470__forward___traverse___traverse_rec___traverse_rec___traverse_rec___traverse_rec___traverse_rec___traverse_rec___traverse_rec___traverse_rec___traverse_rec___traverse_rec___traverse_rec___traverse_rec___traverse_rec___traverse_rec___traverse_rec__draw_decay_L__TruncatedExponential__7\n",
      "  warnings.warn('Using prior. No proposal for address: {}'.format(address))\n",
      "/home/tt21642/dispyprob/pyprob/pyprob/nn/inference_network_feedforward.py:67: UserWarning: Using prior. No proposal for address: 520__forward___traverse___traverse_rec___traverse_rec___traverse_rec___traverse_rec___traverse_rec___traverse_rec___traverse_rec___traverse_rec___traverse_rec___traverse_rec___traverse_rec___traverse_rec___traverse_rec___traverse_rec___traverse_rec__draw_decay_R__TruncatedExponential__7\n",
      "  warnings.warn('Using prior. No proposal for address: {}'.format(address))\n",
      "/home/tt21642/dispyprob/pyprob/pyprob/nn/inference_network_feedforward.py:67: UserWarning: Using prior. No proposal for address: 216__forward___traverse___traverse_rec___traverse_rec___traverse_rec___traverse_rec___traverse_rec___traverse_rec___traverse_rec___traverse_rec___traverse_rec___traverse_rec___traverse_rec___traverse_rec___traverse_rec___traverse_rec___traverse_rec___traverse_rec__?__Uniform__7\n",
      "  warnings.warn('Using prior. No proposal for address: {}'.format(address))\n",
      "/home/tt21642/dispyprob/pyprob/pyprob/nn/inference_network_feedforward.py:67: UserWarning: Using prior. No proposal for address: 260__forward___traverse___traverse_rec___traverse_rec___traverse_rec___traverse_rec___traverse_rec___traverse_rec___traverse_rec___traverse_rec___traverse_rec___traverse_rec___traverse_rec___traverse_rec___traverse_rec___traverse_rec___traverse_rec___traverse_rec__theta_CM_U__Uniform__7\n",
      "  warnings.warn('Using prior. No proposal for address: {}'.format(address))\n",
      "/home/tt21642/dispyprob/pyprob/pyprob/nn/inference_network_feedforward.py:67: UserWarning: Using prior. No proposal for address: 470__forward___traverse___traverse_rec___traverse_rec___traverse_rec___traverse_rec___traverse_rec___traverse_rec___traverse_rec___traverse_rec___traverse_rec___traverse_rec___traverse_rec___traverse_rec___traverse_rec___traverse_rec___traverse_rec___traverse_rec__draw_decay_L__TruncatedExponential__7\n",
      "  warnings.warn('Using prior. No proposal for address: {}'.format(address))\n",
      "/home/tt21642/dispyprob/pyprob/pyprob/nn/inference_network_feedforward.py:67: UserWarning: Using prior. No proposal for address: 520__forward___traverse___traverse_rec___traverse_rec___traverse_rec___traverse_rec___traverse_rec___traverse_rec___traverse_rec___traverse_rec___traverse_rec___traverse_rec___traverse_rec___traverse_rec___traverse_rec___traverse_rec___traverse_rec___traverse_rec__draw_decay_R__TruncatedExponential__7\n",
      "  warnings.warn('Using prior. No proposal for address: {}'.format(address))\n",
      "/home/tt21642/dispyprob/pyprob/pyprob/nn/inference_network_feedforward.py:67: UserWarning: Using prior. No proposal for address: 216__forward___traverse___traverse_rec___traverse_rec___traverse_rec___traverse_rec___traverse_rec___traverse_rec___traverse_rec___traverse_rec___traverse_rec___traverse_rec___traverse_rec___traverse_rec___traverse_rec___traverse_rec___traverse_rec__?__Uniform__8\n",
      "  warnings.warn('Using prior. No proposal for address: {}'.format(address))\n",
      "/home/tt21642/dispyprob/pyprob/pyprob/nn/inference_network_feedforward.py:67: UserWarning: Using prior. No proposal for address: 260__forward___traverse___traverse_rec___traverse_rec___traverse_rec___traverse_rec___traverse_rec___traverse_rec___traverse_rec___traverse_rec___traverse_rec___traverse_rec___traverse_rec___traverse_rec___traverse_rec___traverse_rec___traverse_rec__theta_CM_U__Uniform__8\n",
      "  warnings.warn('Using prior. No proposal for address: {}'.format(address))\n",
      "/home/tt21642/dispyprob/pyprob/pyprob/nn/inference_network_feedforward.py:67: UserWarning: Using prior. No proposal for address: 470__forward___traverse___traverse_rec___traverse_rec___traverse_rec___traverse_rec___traverse_rec___traverse_rec___traverse_rec___traverse_rec___traverse_rec___traverse_rec___traverse_rec___traverse_rec___traverse_rec___traverse_rec___traverse_rec__draw_decay_L__TruncatedExponential__8\n",
      "  warnings.warn('Using prior. No proposal for address: {}'.format(address))\n",
      "/home/tt21642/dispyprob/pyprob/pyprob/nn/inference_network_feedforward.py:67: UserWarning: Using prior. No proposal for address: 520__forward___traverse___traverse_rec___traverse_rec___traverse_rec___traverse_rec___traverse_rec___traverse_rec___traverse_rec___traverse_rec___traverse_rec___traverse_rec___traverse_rec___traverse_rec___traverse_rec___traverse_rec___traverse_rec__draw_decay_R__TruncatedExponential__8\n",
      "  warnings.warn('Using prior. No proposal for address: {}'.format(address))\n"
     ]
    },
    {
     "name": "stdout",
     "output_type": "stream",
     "text": [
      "------------------------------#####------------- | 1752/5000 |   1.66 | 0.34       \n",
      "0d:01:38:59 | 0d:02:24:10 | ########------------ | 2036/5000 |   2.28 | 0.34       \r"
     ]
    },
    {
     "name": "stderr",
     "output_type": "stream",
     "text": [
      "/home/tt21642/dispyprob/pyprob/pyprob/nn/inference_network_feedforward.py:67: UserWarning: Using prior. No proposal for address: 216__forward___traverse___traverse_rec___traverse_rec___traverse_rec___traverse_rec___traverse_rec___traverse_rec___traverse_rec___traverse_rec___traverse_rec___traverse_rec___traverse_rec___traverse_rec___traverse_rec___traverse_rec___traverse_rec___traverse_rec___traverse_rec___traverse_rec___traverse_rec__?__Uniform__3\n",
      "  warnings.warn('Using prior. No proposal for address: {}'.format(address))\n",
      "/home/tt21642/dispyprob/pyprob/pyprob/nn/inference_network_feedforward.py:67: UserWarning: Using prior. No proposal for address: 260__forward___traverse___traverse_rec___traverse_rec___traverse_rec___traverse_rec___traverse_rec___traverse_rec___traverse_rec___traverse_rec___traverse_rec___traverse_rec___traverse_rec___traverse_rec___traverse_rec___traverse_rec___traverse_rec___traverse_rec___traverse_rec___traverse_rec___traverse_rec__theta_CM_U__Uniform__3\n",
      "  warnings.warn('Using prior. No proposal for address: {}'.format(address))\n",
      "/home/tt21642/dispyprob/pyprob/pyprob/nn/inference_network_feedforward.py:67: UserWarning: Using prior. No proposal for address: 470__forward___traverse___traverse_rec___traverse_rec___traverse_rec___traverse_rec___traverse_rec___traverse_rec___traverse_rec___traverse_rec___traverse_rec___traverse_rec___traverse_rec___traverse_rec___traverse_rec___traverse_rec___traverse_rec___traverse_rec___traverse_rec___traverse_rec___traverse_rec__draw_decay_L__TruncatedExponential__3\n",
      "  warnings.warn('Using prior. No proposal for address: {}'.format(address))\n",
      "/home/tt21642/dispyprob/pyprob/pyprob/nn/inference_network_feedforward.py:67: UserWarning: Using prior. No proposal for address: 520__forward___traverse___traverse_rec___traverse_rec___traverse_rec___traverse_rec___traverse_rec___traverse_rec___traverse_rec___traverse_rec___traverse_rec___traverse_rec___traverse_rec___traverse_rec___traverse_rec___traverse_rec___traverse_rec___traverse_rec___traverse_rec___traverse_rec___traverse_rec__draw_decay_R__TruncatedExponential__3\n",
      "  warnings.warn('Using prior. No proposal for address: {}'.format(address))\n"
     ]
    },
    {
     "name": "stdout",
     "output_type": "stream",
     "text": [
      "------------------------------#######----------- | 2219/5000 |   2.51 | 0.34       \n",
      "------------------------------#######----------- | 2349/5000 |   2.55 | 0.34       \n",
      "------------------------------########---------- | 2434/5000 |   2.60 | 0.34       \n",
      "------------------------------########---------- | 2452/5000 |   2.60 | 0.34       \n",
      "------------------------------########---------- | 2487/5000 |   2.62 | 0.34       \n",
      "------------------------------########---------- | 2536/5000 |   2.62 | 0.34       \n",
      "------------------------------########---------- | 2570/5000 |   2.63 | 0.34       \n",
      "0d:02:05:38 | 0d:01:58:45 | ##########---------- | 2571/5000 |   2.63 | 0.34       \r"
     ]
    },
    {
     "name": "stderr",
     "output_type": "stream",
     "text": [
      "/home/tt21642/dispyprob/pyprob/pyprob/nn/inference_network_feedforward.py:67: UserWarning: Using prior. No proposal for address: 216__forward___traverse___traverse_rec___traverse_rec___traverse_rec___traverse_rec___traverse_rec___traverse_rec___traverse_rec___traverse_rec___traverse_rec___traverse_rec___traverse_rec__?__Uniform__14\n",
      "  warnings.warn('Using prior. No proposal for address: {}'.format(address))\n",
      "/home/tt21642/dispyprob/pyprob/pyprob/nn/inference_network_feedforward.py:67: UserWarning: Using prior. No proposal for address: 260__forward___traverse___traverse_rec___traverse_rec___traverse_rec___traverse_rec___traverse_rec___traverse_rec___traverse_rec___traverse_rec___traverse_rec___traverse_rec___traverse_rec__theta_CM_U__Uniform__14\n",
      "  warnings.warn('Using prior. No proposal for address: {}'.format(address))\n",
      "/home/tt21642/dispyprob/pyprob/pyprob/nn/inference_network_feedforward.py:67: UserWarning: Using prior. No proposal for address: 470__forward___traverse___traverse_rec___traverse_rec___traverse_rec___traverse_rec___traverse_rec___traverse_rec___traverse_rec___traverse_rec___traverse_rec___traverse_rec___traverse_rec__draw_decay_L__TruncatedExponential__14\n",
      "  warnings.warn('Using prior. No proposal for address: {}'.format(address))\n",
      "/home/tt21642/dispyprob/pyprob/pyprob/nn/inference_network_feedforward.py:67: UserWarning: Using prior. No proposal for address: 520__forward___traverse___traverse_rec___traverse_rec___traverse_rec___traverse_rec___traverse_rec___traverse_rec___traverse_rec___traverse_rec___traverse_rec___traverse_rec___traverse_rec__draw_decay_R__TruncatedExponential__14\n",
      "  warnings.warn('Using prior. No proposal for address: {}'.format(address))\n"
     ]
    },
    {
     "name": "stdout",
     "output_type": "stream",
     "text": [
      "------------------------------#########--------- | 2733/5000 |   2.68 | 0.34       \n",
      "------------------------------##########-------- | 2927/5000 |   3.20 | 0.34       \n",
      "------------------------------##########-------- | 3077/5000 |   3.43 | 0.34       \n",
      "0d:02:52:40 | 0d:01:15:53 | ##############------ | 3474/5000 |   3.62 | 0.34       \r"
     ]
    },
    {
     "name": "stderr",
     "output_type": "stream",
     "text": [
      "/home/tt21642/dispyprob/pyprob/pyprob/nn/inference_network_feedforward.py:67: UserWarning: Using prior. No proposal for address: 216__forward___traverse___traverse_rec___traverse_rec___traverse_rec___traverse_rec___traverse_rec___traverse_rec___traverse_rec___traverse_rec___traverse_rec___traverse_rec___traverse_rec__?__Uniform__15\n",
      "  warnings.warn('Using prior. No proposal for address: {}'.format(address))\n",
      "/home/tt21642/dispyprob/pyprob/pyprob/nn/inference_network_feedforward.py:67: UserWarning: Using prior. No proposal for address: 260__forward___traverse___traverse_rec___traverse_rec___traverse_rec___traverse_rec___traverse_rec___traverse_rec___traverse_rec___traverse_rec___traverse_rec___traverse_rec___traverse_rec__theta_CM_U__Uniform__15\n",
      "  warnings.warn('Using prior. No proposal for address: {}'.format(address))\n",
      "/home/tt21642/dispyprob/pyprob/pyprob/nn/inference_network_feedforward.py:67: UserWarning: Using prior. No proposal for address: 470__forward___traverse___traverse_rec___traverse_rec___traverse_rec___traverse_rec___traverse_rec___traverse_rec___traverse_rec___traverse_rec___traverse_rec___traverse_rec___traverse_rec__draw_decay_L__TruncatedExponential__15\n",
      "  warnings.warn('Using prior. No proposal for address: {}'.format(address))\n",
      "/home/tt21642/dispyprob/pyprob/pyprob/nn/inference_network_feedforward.py:67: UserWarning: Using prior. No proposal for address: 520__forward___traverse___traverse_rec___traverse_rec___traverse_rec___traverse_rec___traverse_rec___traverse_rec___traverse_rec___traverse_rec___traverse_rec___traverse_rec___traverse_rec__draw_decay_R__TruncatedExponential__15\n",
      "  warnings.warn('Using prior. No proposal for address: {}'.format(address))\n"
     ]
    },
    {
     "name": "stdout",
     "output_type": "stream",
     "text": [
      "------------------------------############------ | 3565/5000 |   4.05 | 0.33       \n",
      "------------------------------#############----- | 3657/5000 |   4.19 | 0.34       \n",
      "------------------------------#############----- | 3818/5000 |   4.23 | 0.34       \n",
      "------------------------------##############---- | 4122/5000 |   4.73 | 0.33       \n",
      "0d:03:35:34 | 0d:00:34:47 | #################--- | 4306/5000 |   4.79 | 0.33       \r"
     ]
    },
    {
     "name": "stderr",
     "output_type": "stream",
     "text": [
      "/home/tt21642/dispyprob/pyprob/pyprob/nn/inference_network_feedforward.py:67: UserWarning: Using prior. No proposal for address: 216__forward___traverse___traverse_rec___traverse_rec___traverse_rec___traverse_rec___traverse_rec___traverse_rec___traverse_rec___traverse_rec___traverse_rec___traverse_rec___traverse_rec___traverse_rec___traverse_rec___traverse_rec__?__Uniform__10\n",
      "  warnings.warn('Using prior. No proposal for address: {}'.format(address))\n",
      "/home/tt21642/dispyprob/pyprob/pyprob/nn/inference_network_feedforward.py:67: UserWarning: Using prior. No proposal for address: 260__forward___traverse___traverse_rec___traverse_rec___traverse_rec___traverse_rec___traverse_rec___traverse_rec___traverse_rec___traverse_rec___traverse_rec___traverse_rec___traverse_rec___traverse_rec___traverse_rec___traverse_rec__theta_CM_U__Uniform__10\n",
      "  warnings.warn('Using prior. No proposal for address: {}'.format(address))\n",
      "/home/tt21642/dispyprob/pyprob/pyprob/nn/inference_network_feedforward.py:67: UserWarning: Using prior. No proposal for address: 470__forward___traverse___traverse_rec___traverse_rec___traverse_rec___traverse_rec___traverse_rec___traverse_rec___traverse_rec___traverse_rec___traverse_rec___traverse_rec___traverse_rec___traverse_rec___traverse_rec___traverse_rec__draw_decay_L__TruncatedExponential__10\n",
      "  warnings.warn('Using prior. No proposal for address: {}'.format(address))\n",
      "/home/tt21642/dispyprob/pyprob/pyprob/nn/inference_network_feedforward.py:67: UserWarning: Using prior. No proposal for address: 520__forward___traverse___traverse_rec___traverse_rec___traverse_rec___traverse_rec___traverse_rec___traverse_rec___traverse_rec___traverse_rec___traverse_rec___traverse_rec___traverse_rec___traverse_rec___traverse_rec___traverse_rec__draw_decay_R__TruncatedExponential__10\n",
      "  warnings.warn('Using prior. No proposal for address: {}'.format(address))\n"
     ]
    },
    {
     "name": "stdout",
     "output_type": "stream",
     "text": [
      "0d:03:37:54 | 0d:00:32:57 | #################--- | 4344/5000 |   4.80 | 0.33       \r"
     ]
    },
    {
     "name": "stderr",
     "output_type": "stream",
     "text": [
      "/home/tt21642/dispyprob/pyprob/pyprob/nn/inference_network_feedforward.py:67: UserWarning: Using prior. No proposal for address: 216__forward___traverse___traverse_rec___traverse_rec___traverse_rec___traverse_rec___traverse_rec___traverse_rec___traverse_rec___traverse_rec__?__Uniform__21\n",
      "  warnings.warn('Using prior. No proposal for address: {}'.format(address))\n",
      "/home/tt21642/dispyprob/pyprob/pyprob/nn/inference_network_feedforward.py:67: UserWarning: Using prior. No proposal for address: 260__forward___traverse___traverse_rec___traverse_rec___traverse_rec___traverse_rec___traverse_rec___traverse_rec___traverse_rec___traverse_rec__theta_CM_U__Uniform__21\n",
      "  warnings.warn('Using prior. No proposal for address: {}'.format(address))\n",
      "/home/tt21642/dispyprob/pyprob/pyprob/nn/inference_network_feedforward.py:67: UserWarning: Using prior. No proposal for address: 470__forward___traverse___traverse_rec___traverse_rec___traverse_rec___traverse_rec___traverse_rec___traverse_rec___traverse_rec___traverse_rec__draw_decay_L__TruncatedExponential__21\n",
      "  warnings.warn('Using prior. No proposal for address: {}'.format(address))\n",
      "/home/tt21642/dispyprob/pyprob/pyprob/nn/inference_network_feedforward.py:67: UserWarning: Using prior. No proposal for address: 520__forward___traverse___traverse_rec___traverse_rec___traverse_rec___traverse_rec___traverse_rec___traverse_rec___traverse_rec___traverse_rec__draw_decay_R__TruncatedExponential__21\n",
      "  warnings.warn('Using prior. No proposal for address: {}'.format(address))\n"
     ]
    },
    {
     "name": "stdout",
     "output_type": "stream",
     "text": [
      "0d:03:39:59 | 0d:00:31:07 | ##################-- | 4381/5000 |   4.80 | 0.33       \r"
     ]
    },
    {
     "name": "stderr",
     "output_type": "stream",
     "text": [
      "/home/tt21642/dispyprob/pyprob/pyprob/nn/inference_network_feedforward.py:67: UserWarning: Using prior. No proposal for address: 470__forward___traverse___traverse_rec___traverse_rec___traverse_rec___traverse_rec__draw_decay_L__TruncatedExponential__9\n",
      "  warnings.warn('Using prior. No proposal for address: {}'.format(address))\n"
     ]
    },
    {
     "name": "stdout",
     "output_type": "stream",
     "text": [
      "------------------------------################-- | 4422/5000 |   4.80 | 0.33       \n",
      "------------------------------################-- | 4596/5000 |   4.85 | 0.33       \n",
      "------------------------------#################- | 4680/5000 |   4.92 | 0.33       \n",
      "0d:04:10:02 | 0d:00:00:03 | #################### | 5000/5000 |   5.17 | 0.33       \r\n",
      "New layers, address: 216__forward___traverse___traverse_rec___traverse_..., distribution: Uniform\n",
      "New layers, address: 260__forward___traverse___traverse_rec___traverse_..., distribution: Uniform\n",
      "New layers, address: 470__forward___traverse___traverse_rec___traverse_..., distribution: TruncatedExponential\n",
      "New layers, address: 520__forward___traverse___traverse_rec___traverse_..., distribution: TruncatedExponential\n",
      "New layers, address: 216__forward___traverse___traverse_rec___traverse_..., distribution: Uniform\n",
      "New layers, address: 260__forward___traverse___traverse_rec___traverse_..., distribution: Uniform\n",
      "New layers, address: 470__forward___traverse___traverse_rec___traverse_..., distribution: TruncatedExponential\n",
      "New layers, address: 216__forward___traverse___traverse_rec___traverse_..., distribution: Uniform\n",
      "New layers, address: 260__forward___traverse___traverse_rec___traverse_..., distribution: Uniform\n",
      "New layers, address: 470__forward___traverse___traverse_rec___traverse_..., distribution: TruncatedExponential\n",
      "New layers, address: 520__forward___traverse___traverse_rec___traverse_..., distribution: TruncatedExponential\n",
      "New layers, address: 216__forward___traverse___traverse_rec___traverse_..., distribution: Uniform\n",
      "New layers, address: 260__forward___traverse___traverse_rec___traverse_..., distribution: Uniform\n",
      "New layers, address: 470__forward___traverse___traverse_rec___traverse_..., distribution: TruncatedExponential\n",
      "New layers, address: 520__forward___traverse___traverse_rec___traverse_..., distribution: TruncatedExponential\n",
      "New layers, address: 216__forward___traverse___traverse_rec___traverse_..., distribution: Uniform\n",
      "New layers, address: 260__forward___traverse___traverse_rec___traverse_..., distribution: Uniform\n",
      "New layers, address: 470__forward___traverse___traverse_rec___traverse_..., distribution: TruncatedExponential\n",
      "New layers, address: 520__forward___traverse___traverse_rec___traverse_..., distribution: TruncatedExponential\n",
      "New layers, address: 216__forward___traverse___traverse_rec___traverse_..., distribution: Uniform\n",
      "New layers, address: 260__forward___traverse___traverse_rec___traverse_..., distribution: Uniform\n",
      "New layers, address: 470__forward___traverse___traverse_rec___traverse_..., distribution: TruncatedExponential\n",
      "New layers, address: 520__forward___traverse___traverse_rec___traverse_..., distribution: TruncatedExponential\n",
      "Total addresses: 527, parameters: 268,776\n",
      "New layers, address: 216__forward___traverse___traverse_rec___traverse_..., distribution: Uniform\n",
      "New layers, address: 260__forward___traverse___traverse_rec___traverse_..., distribution: Uniform\n",
      "New layers, address: 470__forward___traverse___traverse_rec___traverse_..., distribution: TruncatedExponential\n",
      "New layers, address: 520__forward___traverse___traverse_rec___traverse_..., distribution: TruncatedExponential\n",
      "New layers, address: 216__forward___traverse___traverse_rec___traverse_..., distribution: Uniform\n",
      "New layers, address: 260__forward___traverse___traverse_rec___traverse_..., distribution: Uniform\n",
      "New layers, address: 470__forward___traverse___traverse_rec___traverse_..., distribution: TruncatedExponential\n",
      "New layers, address: 520__forward___traverse___traverse_rec___traverse_..., distribution: TruncatedExponential\n",
      "New layers, address: 216__forward___traverse___traverse_rec___traverse_..., distribution: Uniform\n",
      "New layers, address: 260__forward___traverse___traverse_rec___traverse_..., distribution: Uniform\n",
      "New layers, address: 470__forward___traverse___traverse_rec___traverse_..., distribution: TruncatedExponential\n",
      "New layers, address: 520__forward___traverse___traverse_rec___traverse_..., distribution: TruncatedExponential\n",
      "New layers, address: 216__forward___traverse___traverse_rec___traverse_..., distribution: Uniform\n",
      "New layers, address: 260__forward___traverse___traverse_rec___traverse_..., distribution: Uniform\n",
      "New layers, address: 470__forward___traverse___traverse_rec___traverse_..., distribution: TruncatedExponential\n",
      "New layers, address: 520__forward___traverse___traverse_rec___traverse_..., distribution: TruncatedExponential\n",
      "New layers, address: 216__forward___traverse___traverse_rec___traverse_..., distribution: Uniform\n",
      "New layers, address: 260__forward___traverse___traverse_rec___traverse_..., distribution: Uniform\n",
      "New layers, address: 470__forward___traverse___traverse_rec___traverse_..., distribution: TruncatedExponential\n",
      "New layers, address: 520__forward___traverse___traverse_rec___traverse_..., distribution: TruncatedExponential\n",
      "New layers, address: 216__forward___traverse___traverse_rec___traverse_..., distribution: Uniform\n",
      "New layers, address: 260__forward___traverse___traverse_rec___traverse_..., distribution: Uniform\n",
      "New layers, address: 470__forward___traverse___traverse_rec___traverse_..., distribution: TruncatedExponential\n",
      "New layers, address: 520__forward___traverse___traverse_rec___traverse_..., distribution: TruncatedExponential\n",
      "New layers, address: 216__forward___traverse___traverse_rec___traverse_..., distribution: Uniform\n",
      "New layers, address: 260__forward___traverse___traverse_rec___traverse_..., distribution: Uniform\n",
      "New layers, address: 470__forward___traverse___traverse_rec___traverse_..., distribution: TruncatedExponential\n",
      "New layers, address: 520__forward___traverse___traverse_rec___traverse_..., distribution: TruncatedExponential\n",
      "New layers, address: 216__forward___traverse___traverse_rec___traverse_..., distribution: Uniform\n",
      "New layers, address: 260__forward___traverse___traverse_rec___traverse_..., distribution: Uniform\n",
      "New layers, address: 470__forward___traverse___traverse_rec___traverse_..., distribution: TruncatedExponential\n",
      "New layers, address: 520__forward___traverse___traverse_rec___traverse_..., distribution: TruncatedExponential\n",
      "New layers, address: 216__forward___traverse___traverse_rec___traverse_..., distribution: Uniform\n",
      "New layers, address: 260__forward___traverse___traverse_rec___traverse_..., distribution: Uniform\n",
      "New layers, address: 470__forward___traverse___traverse_rec___traverse_..., distribution: TruncatedExponential\n",
      "New layers, address: 520__forward___traverse___traverse_rec___traverse_..., distribution: TruncatedExponential\n",
      "New layers, address: 216__forward___traverse___traverse_rec___traverse_..., distribution: Uniform\n",
      "New layers, address: 260__forward___traverse___traverse_rec___traverse_..., distribution: Uniform\n",
      "New layers, address: 470__forward___traverse___traverse_rec___traverse_..., distribution: TruncatedExponential\n",
      "New layers, address: 520__forward___traverse___traverse_rec___traverse_..., distribution: TruncatedExponential\n",
      "New layers, address: 216__forward___traverse___traverse_rec___traverse_..., distribution: Uniform\n",
      "New layers, address: 260__forward___traverse___traverse_rec___traverse_..., distribution: Uniform\n",
      "New layers, address: 470__forward___traverse___traverse_rec___traverse_..., distribution: TruncatedExponential\n",
      "New layers, address: 520__forward___traverse___traverse_rec___traverse_..., distribution: TruncatedExponential\n",
      "New layers, address: 216__forward___traverse___traverse_rec___traverse_..., distribution: Uniform\n",
      "New layers, address: 260__forward___traverse___traverse_rec___traverse_..., distribution: Uniform\n",
      "New layers, address: 470__forward___traverse___traverse_rec___traverse_..., distribution: TruncatedExponential\n",
      "New layers, address: 520__forward___traverse___traverse_rec___traverse_..., distribution: TruncatedExponential\n",
      "New layers, address: 216__forward___traverse___traverse_rec___traverse_..., distribution: Uniform\n",
      "New layers, address: 260__forward___traverse___traverse_rec___traverse_..., distribution: Uniform\n",
      "New layers, address: 470__forward___traverse___traverse_rec___traverse_..., distribution: TruncatedExponential\n",
      "New layers, address: 520__forward___traverse___traverse_rec___traverse_..., distribution: TruncatedExponential\n",
      "New layers, address: 216__forward___traverse___traverse_rec___traverse_..., distribution: Uniform\n",
      "New layers, address: 260__forward___traverse___traverse_rec___traverse_..., distribution: Uniform\n",
      "New layers, address: 470__forward___traverse___traverse_rec___traverse_..., distribution: TruncatedExponential\n",
      "New layers, address: 520__forward___traverse___traverse_rec___traverse_..., distribution: TruncatedExponential\n",
      "New layers, address: 216__forward___traverse___traverse_rec___traverse_..., distribution: Uniform\n",
      "New layers, address: 260__forward___traverse___traverse_rec___traverse_..., distribution: Uniform\n",
      "New layers, address: 470__forward___traverse___traverse_rec___traverse_..., distribution: TruncatedExponential\n",
      "New layers, address: 520__forward___traverse___traverse_rec___traverse_..., distribution: TruncatedExponential\n",
      "New layers, address: 216__forward___traverse___traverse_rec___traverse_..., distribution: Uniform\n",
      "New layers, address: 260__forward___traverse___traverse_rec___traverse_..., distribution: Uniform\n",
      "New layers, address: 470__forward___traverse___traverse_rec___traverse_..., distribution: TruncatedExponential\n",
      "New layers, address: 520__forward___traverse___traverse_rec___traverse_..., distribution: TruncatedExponential\n",
      "New layers, address: 216__forward___traverse___traverse_rec___traverse_..., distribution: Uniform\n",
      "New layers, address: 260__forward___traverse___traverse_rec___traverse_..., distribution: Uniform\n",
      "New layers, address: 470__forward___traverse___traverse_rec___traverse_..., distribution: TruncatedExponential\n",
      "New layers, address: 520__forward___traverse___traverse_rec___traverse_..., distribution: TruncatedExponential\n",
      "New layers, address: 216__forward___traverse___traverse_rec___traverse_..., distribution: Uniform\n",
      "New layers, address: 260__forward___traverse___traverse_rec___traverse_..., distribution: Uniform\n",
      "New layers, address: 470__forward___traverse___traverse_rec___traverse_..., distribution: TruncatedExponential\n",
      "New layers, address: 520__forward___traverse___traverse_rec___traverse_..., distribution: TruncatedExponential\n",
      "New layers, address: 216__forward___traverse___traverse_rec___traverse_..., distribution: Uniform\n",
      "New layers, address: 260__forward___traverse___traverse_rec___traverse_..., distribution: Uniform\n",
      "New layers, address: 470__forward___traverse___traverse_rec___traverse_..., distribution: TruncatedExponential\n",
      "New layers, address: 520__forward___traverse___traverse_rec___traverse_..., distribution: TruncatedExponential\n",
      "New layers, address: 216__forward___traverse___traverse_rec___traverse_..., distribution: Uniform\n",
      "New layers, address: 260__forward___traverse___traverse_rec___traverse_..., distribution: Uniform\n",
      "New layers, address: 470__forward___traverse___traverse_rec___traverse_..., distribution: TruncatedExponential\n",
      "New layers, address: 520__forward___traverse___traverse_rec___traverse_..., distribution: TruncatedExponential\n",
      "New layers, address: 216__forward___traverse___traverse_rec___traverse_..., distribution: Uniform\n",
      "New layers, address: 260__forward___traverse___traverse_rec___traverse_..., distribution: Uniform\n",
      "New layers, address: 470__forward___traverse___traverse_rec___traverse_..., distribution: TruncatedExponential\n",
      "New layers, address: 520__forward___traverse___traverse_rec___traverse_..., distribution: TruncatedExponential\n",
      "New layers, address: 216__forward___traverse___traverse_rec___traverse_..., distribution: Uniform\n",
      "New layers, address: 260__forward___traverse___traverse_rec___traverse_..., distribution: Uniform\n",
      "New layers, address: 470__forward___traverse___traverse_rec___traverse_..., distribution: TruncatedExponential\n",
      "New layers, address: 520__forward___traverse___traverse_rec___traverse_..., distribution: TruncatedExponential\n",
      "New layers, address: 216__forward___traverse___traverse_rec___traverse_..., distribution: Uniform\n",
      "New layers, address: 260__forward___traverse___traverse_rec___traverse_..., distribution: Uniform\n",
      "New layers, address: 470__forward___traverse___traverse_rec___traverse_..., distribution: TruncatedExponential\n",
      "New layers, address: 520__forward___traverse___traverse_rec___traverse_..., distribution: TruncatedExponential\n",
      "New layers, address: 216__forward___traverse___traverse_rec___traverse_..., distribution: Uniform\n",
      "New layers, address: 260__forward___traverse___traverse_rec___traverse_..., distribution: Uniform\n",
      "New layers, address: 470__forward___traverse___traverse_rec___traverse_..., distribution: TruncatedExponential\n",
      "New layers, address: 520__forward___traverse___traverse_rec___traverse_..., distribution: TruncatedExponential\n",
      "New layers, address: 216__forward___traverse___traverse_rec___traverse_..., distribution: Uniform\n",
      "New layers, address: 260__forward___traverse___traverse_rec___traverse_..., distribution: Uniform\n",
      "New layers, address: 470__forward___traverse___traverse_rec___traverse_..., distribution: TruncatedExponential\n",
      "New layers, address: 520__forward___traverse___traverse_rec___traverse_..., distribution: TruncatedExponential\n",
      "New layers, address: 216__forward___traverse___traverse_rec___traverse_..., distribution: Uniform\n",
      "New layers, address: 260__forward___traverse___traverse_rec___traverse_..., distribution: Uniform\n",
      "New layers, address: 470__forward___traverse___traverse_rec___traverse_..., distribution: TruncatedExponential\n",
      "New layers, address: 520__forward___traverse___traverse_rec___traverse_..., distribution: TruncatedExponential\n",
      "New layers, address: 216__forward___traverse___traverse_rec___traverse_..., distribution: Uniform\n",
      "New layers, address: 260__forward___traverse___traverse_rec___traverse_..., distribution: Uniform\n",
      "New layers, address: 470__forward___traverse___traverse_rec___traverse_..., distribution: TruncatedExponential\n",
      "New layers, address: 520__forward___traverse___traverse_rec___traverse_..., distribution: TruncatedExponential\n",
      "Total addresses: 635, parameters: 323,856\n",
      "New layers, address: 216__forward___traverse___traverse_rec___traverse_..., distribution: Uniforme-03 | 0.7 \n",
      "New layers, address: 260__forward___traverse___traverse_rec___traverse_..., distribution: Uniform\n",
      "New layers, address: 470__forward___traverse___traverse_rec___traverse_..., distribution: TruncatedExponential\n",
      "New layers, address: 520__forward___traverse___traverse_rec___traverse_..., distribution: TruncatedExponential\n",
      "New layers, address: 216__forward___traverse___traverse_rec___traverse_..., distribution: Uniform\n",
      "New layers, address: 260__forward___traverse___traverse_rec___traverse_..., distribution: Uniform\n",
      "New layers, address: 470__forward___traverse___traverse_rec___traverse_..., distribution: TruncatedExponential\n",
      "New layers, address: 520__forward___traverse___traverse_rec___traverse_..., distribution: TruncatedExponential\n",
      "New layers, address: 216__forward___traverse___traverse_rec___traverse_..., distribution: Uniform\n",
      "New layers, address: 260__forward___traverse___traverse_rec___traverse_..., distribution: Uniform\n",
      "New layers, address: 470__forward___traverse___traverse_rec___traverse_..., distribution: TruncatedExponential\n",
      "New layers, address: 520__forward___traverse___traverse_rec___traverse_..., distribution: TruncatedExponential\n",
      "Total addresses: 647, parameters: 329,976\n",
      "0d:04:28:22 | 1    | 900       | +4.89e+01 | +4.70e+01 | \u001b[32m+1.06e+02\u001b[0m | 0d:04:17:41 | +1.00e-03 | 0.9 \r\n",
      "Stop condition reached. num_traces: 500\n",
      "0d:04:30:16 | 1    | 1,000     | +4.89e+01 | +4.70e+01 | \u001b[32m+1.00e+02\u001b[0m | 0d:04:19:35 | +1.00e-03 | 0.9 \r\n",
      "Training iterations 1  epsilon 213.64  ESS 5.0\n",
      "Continuing to train existing inference network...\n",
      "Total number of parameters: 329,976\n",
      "Train. time | Epoch| Trace     | Init. loss| Min. loss | Curr. loss| T.since min | Learn.rate| Traces/sec\n",
      "Time spent  | Time remain.| Progress             | Trace     | ESS    | Traces/sec\n",
      "------------------------------------------------ |   31/5000 |   1.01 | 0.36       \n",
      "0d:00:01:36 | 0d:03:54:16 | -------------------- |   34/5000 |   1.01 | 0.35       \r"
     ]
    },
    {
     "name": "stderr",
     "output_type": "stream",
     "text": [
      "/home/tt21642/dispyprob/pyprob/pyprob/nn/inference_network_feedforward.py:67: UserWarning: Using prior. No proposal for address: 216__forward___traverse___traverse_rec___traverse_rec___traverse_rec___traverse_rec___traverse_rec___traverse_rec___traverse_rec___traverse_rec___traverse_rec___traverse_rec__?__Uniform__17\n",
      "  warnings.warn('Using prior. No proposal for address: {}'.format(address))\n",
      "/home/tt21642/dispyprob/pyprob/pyprob/nn/inference_network_feedforward.py:67: UserWarning: Using prior. No proposal for address: 260__forward___traverse___traverse_rec___traverse_rec___traverse_rec___traverse_rec___traverse_rec___traverse_rec___traverse_rec___traverse_rec___traverse_rec___traverse_rec__theta_CM_U__Uniform__17\n",
      "  warnings.warn('Using prior. No proposal for address: {}'.format(address))\n",
      "/home/tt21642/dispyprob/pyprob/pyprob/nn/inference_network_feedforward.py:67: UserWarning: Using prior. No proposal for address: 470__forward___traverse___traverse_rec___traverse_rec___traverse_rec___traverse_rec___traverse_rec___traverse_rec___traverse_rec___traverse_rec___traverse_rec___traverse_rec__draw_decay_L__TruncatedExponential__17\n",
      "  warnings.warn('Using prior. No proposal for address: {}'.format(address))\n",
      "/home/tt21642/dispyprob/pyprob/pyprob/nn/inference_network_feedforward.py:67: UserWarning: Using prior. No proposal for address: 520__forward___traverse___traverse_rec___traverse_rec___traverse_rec___traverse_rec___traverse_rec___traverse_rec___traverse_rec___traverse_rec___traverse_rec___traverse_rec__draw_decay_R__TruncatedExponential__17\n",
      "  warnings.warn('Using prior. No proposal for address: {}'.format(address))\n"
     ]
    },
    {
     "name": "stdout",
     "output_type": "stream",
     "text": [
      "0d:00:01:40 | 0d:03:57:06 | -------------------- |   35/5000 |   1.92 | 0.35       \r"
     ]
    },
    {
     "name": "stderr",
     "output_type": "stream",
     "text": [
      "/home/tt21642/dispyprob/pyprob/pyprob/nn/inference_network_feedforward.py:67: UserWarning: Using prior. No proposal for address: 216__forward___traverse___traverse_rec___traverse_rec___traverse_rec___traverse_rec___traverse_rec___traverse_rec___traverse_rec___traverse_rec___traverse_rec___traverse_rec__?__Uniform__18\n",
      "  warnings.warn('Using prior. No proposal for address: {}'.format(address))\n",
      "/home/tt21642/dispyprob/pyprob/pyprob/nn/inference_network_feedforward.py:67: UserWarning: Using prior. No proposal for address: 260__forward___traverse___traverse_rec___traverse_rec___traverse_rec___traverse_rec___traverse_rec___traverse_rec___traverse_rec___traverse_rec___traverse_rec___traverse_rec__theta_CM_U__Uniform__18\n",
      "  warnings.warn('Using prior. No proposal for address: {}'.format(address))\n",
      "/home/tt21642/dispyprob/pyprob/pyprob/nn/inference_network_feedforward.py:67: UserWarning: Using prior. No proposal for address: 470__forward___traverse___traverse_rec___traverse_rec___traverse_rec___traverse_rec___traverse_rec___traverse_rec___traverse_rec___traverse_rec___traverse_rec___traverse_rec__draw_decay_L__TruncatedExponential__18\n",
      "  warnings.warn('Using prior. No proposal for address: {}'.format(address))\n",
      "/home/tt21642/dispyprob/pyprob/pyprob/nn/inference_network_feedforward.py:67: UserWarning: Using prior. No proposal for address: 520__forward___traverse___traverse_rec___traverse_rec___traverse_rec___traverse_rec___traverse_rec___traverse_rec___traverse_rec___traverse_rec___traverse_rec___traverse_rec__draw_decay_R__TruncatedExponential__18\n",
      "  warnings.warn('Using prior. No proposal for address: {}'.format(address))\n"
     ]
    },
    {
     "name": "stdout",
     "output_type": "stream",
     "text": [
      "------------------------------------------------ |  120/5000 |   3.01 | 0.35       \n",
      "------------------------------\n",
      "------------------------------------------------ |  163/5000 |   3.55 | 0.35       \n",
      "0d:00:16:31 | 0d:04:08:22 | #------------------- |  312/5000 |   5.26 | 0.31       \r"
     ]
    },
    {
     "name": "stderr",
     "output_type": "stream",
     "text": [
      "/home/tt21642/dispyprob/pyprob/pyprob/nn/inference_network_feedforward.py:67: UserWarning: Using prior. No proposal for address: 216__forward___traverse___traverse_rec___traverse_rec___traverse_rec___traverse_rec___traverse_rec___traverse_rec___traverse_rec___traverse_rec___traverse_rec___traverse_rec___traverse_rec__?__Uniform__16\n",
      "  warnings.warn('Using prior. No proposal for address: {}'.format(address))\n",
      "/home/tt21642/dispyprob/pyprob/pyprob/nn/inference_network_feedforward.py:67: UserWarning: Using prior. No proposal for address: 260__forward___traverse___traverse_rec___traverse_rec___traverse_rec___traverse_rec___traverse_rec___traverse_rec___traverse_rec___traverse_rec___traverse_rec___traverse_rec___traverse_rec__theta_CM_U__Uniform__16\n",
      "  warnings.warn('Using prior. No proposal for address: {}'.format(address))\n",
      "/home/tt21642/dispyprob/pyprob/pyprob/nn/inference_network_feedforward.py:67: UserWarning: Using prior. No proposal for address: 470__forward___traverse___traverse_rec___traverse_rec___traverse_rec___traverse_rec___traverse_rec___traverse_rec___traverse_rec___traverse_rec___traverse_rec___traverse_rec___traverse_rec__draw_decay_L__TruncatedExponential__16\n",
      "  warnings.warn('Using prior. No proposal for address: {}'.format(address))\n",
      "/home/tt21642/dispyprob/pyprob/pyprob/nn/inference_network_feedforward.py:67: UserWarning: Using prior. No proposal for address: 520__forward___traverse___traverse_rec___traverse_rec___traverse_rec___traverse_rec___traverse_rec___traverse_rec___traverse_rec___traverse_rec___traverse_rec___traverse_rec___traverse_rec__draw_decay_R__TruncatedExponential__16\n",
      "  warnings.warn('Using prior. No proposal for address: {}'.format(address))\n"
     ]
    },
    {
     "name": "stdout",
     "output_type": "stream",
     "text": [
      "0d:00:31:04 | 0d:03:43:39 | ##------------------ |  610/5000 |   8.08 | 0.33       \r"
     ]
    },
    {
     "name": "stderr",
     "output_type": "stream",
     "text": [
      "/home/tt21642/dispyprob/pyprob/pyprob/nn/inference_network_feedforward.py:67: UserWarning: Using prior. No proposal for address: 216__forward___traverse___traverse_rec___traverse_rec___traverse_rec___traverse_rec___traverse_rec___traverse_rec___traverse_rec___traverse_rec___traverse_rec__?__Uniform__19\n",
      "  warnings.warn('Using prior. No proposal for address: {}'.format(address))\n",
      "/home/tt21642/dispyprob/pyprob/pyprob/nn/inference_network_feedforward.py:67: UserWarning: Using prior. No proposal for address: 260__forward___traverse___traverse_rec___traverse_rec___traverse_rec___traverse_rec___traverse_rec___traverse_rec___traverse_rec___traverse_rec___traverse_rec__theta_CM_U__Uniform__19\n",
      "  warnings.warn('Using prior. No proposal for address: {}'.format(address))\n",
      "/home/tt21642/dispyprob/pyprob/pyprob/nn/inference_network_feedforward.py:67: UserWarning: Using prior. No proposal for address: 470__forward___traverse___traverse_rec___traverse_rec___traverse_rec___traverse_rec___traverse_rec___traverse_rec___traverse_rec___traverse_rec___traverse_rec__draw_decay_L__TruncatedExponential__19\n",
      "  warnings.warn('Using prior. No proposal for address: {}'.format(address))\n",
      "/home/tt21642/dispyprob/pyprob/pyprob/nn/inference_network_feedforward.py:67: UserWarning: Using prior. No proposal for address: 520__forward___traverse___traverse_rec___traverse_rec___traverse_rec___traverse_rec___traverse_rec___traverse_rec___traverse_rec___traverse_rec___traverse_rec__draw_decay_R__TruncatedExponential__19\n",
      "  warnings.warn('Using prior. No proposal for address: {}'.format(address))\n"
     ]
    },
    {
     "name": "stdout",
     "output_type": "stream",
     "text": [
      "------------------------------------------------ |  624/5000 |   8.30 | 0.33       \n",
      "0d:00:32:29 | 0d:03:41:26 | ###----------------- |  640/5000 |   8.30 | 0.33       \r"
     ]
    },
    {
     "name": "stderr",
     "output_type": "stream",
     "text": [
      "/home/tt21642/dispyprob/pyprob/pyprob/nn/inference_network_feedforward.py:67: UserWarning: Using prior. No proposal for address: 216__forward___traverse___traverse_rec___traverse_rec___traverse_rec___traverse_rec___traverse_rec___traverse_rec___traverse_rec___traverse_rec___traverse_rec___traverse_rec___traverse_rec___traverse_rec__?__Uniform__13\n",
      "  warnings.warn('Using prior. No proposal for address: {}'.format(address))\n",
      "/home/tt21642/dispyprob/pyprob/pyprob/nn/inference_network_feedforward.py:67: UserWarning: Using prior. No proposal for address: 260__forward___traverse___traverse_rec___traverse_rec___traverse_rec___traverse_rec___traverse_rec___traverse_rec___traverse_rec___traverse_rec___traverse_rec___traverse_rec___traverse_rec___traverse_rec__theta_CM_U__Uniform__13\n",
      "  warnings.warn('Using prior. No proposal for address: {}'.format(address))\n",
      "/home/tt21642/dispyprob/pyprob/pyprob/nn/inference_network_feedforward.py:67: UserWarning: Using prior. No proposal for address: 470__forward___traverse___traverse_rec___traverse_rec___traverse_rec___traverse_rec___traverse_rec___traverse_rec___traverse_rec___traverse_rec___traverse_rec___traverse_rec___traverse_rec___traverse_rec__draw_decay_L__TruncatedExponential__13\n",
      "  warnings.warn('Using prior. No proposal for address: {}'.format(address))\n",
      "/home/tt21642/dispyprob/pyprob/pyprob/nn/inference_network_feedforward.py:67: UserWarning: Using prior. No proposal for address: 520__forward___traverse___traverse_rec___traverse_rec___traverse_rec___traverse_rec___traverse_rec___traverse_rec___traverse_rec___traverse_rec___traverse_rec___traverse_rec___traverse_rec___traverse_rec__draw_decay_R__TruncatedExponential__13\n",
      "  warnings.warn('Using prior. No proposal for address: {}'.format(address))\n",
      "/home/tt21642/dispyprob/pyprob/pyprob/nn/inference_network_feedforward.py:67: UserWarning: Using prior. No proposal for address: 216__forward___traverse___traverse_rec___traverse_rec___traverse_rec___traverse_rec___traverse_rec___traverse_rec___traverse_rec___traverse_rec___traverse_rec___traverse_rec___traverse_rec___traverse_rec__?__Uniform__14\n",
      "  warnings.warn('Using prior. No proposal for address: {}'.format(address))\n",
      "/home/tt21642/dispyprob/pyprob/pyprob/nn/inference_network_feedforward.py:67: UserWarning: Using prior. No proposal for address: 260__forward___traverse___traverse_rec___traverse_rec___traverse_rec___traverse_rec___traverse_rec___traverse_rec___traverse_rec___traverse_rec___traverse_rec___traverse_rec___traverse_rec___traverse_rec__theta_CM_U__Uniform__14\n",
      "  warnings.warn('Using prior. No proposal for address: {}'.format(address))\n",
      "/home/tt21642/dispyprob/pyprob/pyprob/nn/inference_network_feedforward.py:67: UserWarning: Using prior. No proposal for address: 470__forward___traverse___traverse_rec___traverse_rec___traverse_rec___traverse_rec___traverse_rec___traverse_rec___traverse_rec___traverse_rec___traverse_rec___traverse_rec___traverse_rec___traverse_rec__draw_decay_L__TruncatedExponential__14\n",
      "  warnings.warn('Using prior. No proposal for address: {}'.format(address))\n",
      "/home/tt21642/dispyprob/pyprob/pyprob/nn/inference_network_feedforward.py:67: UserWarning: Using prior. No proposal for address: 520__forward___traverse___traverse_rec___traverse_rec___traverse_rec___traverse_rec___traverse_rec___traverse_rec___traverse_rec___traverse_rec___traverse_rec___traverse_rec___traverse_rec___traverse_rec__draw_decay_R__TruncatedExponential__14\n",
      "  warnings.warn('Using prior. No proposal for address: {}'.format(address))\n",
      "/home/tt21642/dispyprob/pyprob/pyprob/nn/inference_network_feedforward.py:67: UserWarning: Using prior. No proposal for address: 216__forward___traverse___traverse_rec___traverse_rec___traverse_rec___traverse_rec___traverse_rec___traverse_rec___traverse_rec___traverse_rec___traverse_rec___traverse_rec___traverse_rec___traverse_rec__?__Uniform__15\n",
      "  warnings.warn('Using prior. No proposal for address: {}'.format(address))\n",
      "/home/tt21642/dispyprob/pyprob/pyprob/nn/inference_network_feedforward.py:67: UserWarning: Using prior. No proposal for address: 260__forward___traverse___traverse_rec___traverse_rec___traverse_rec___traverse_rec___traverse_rec___traverse_rec___traverse_rec___traverse_rec___traverse_rec___traverse_rec___traverse_rec___traverse_rec__theta_CM_U__Uniform__15\n",
      "  warnings.warn('Using prior. No proposal for address: {}'.format(address))\n",
      "/home/tt21642/dispyprob/pyprob/pyprob/nn/inference_network_feedforward.py:67: UserWarning: Using prior. No proposal for address: 470__forward___traverse___traverse_rec___traverse_rec___traverse_rec___traverse_rec___traverse_rec___traverse_rec___traverse_rec___traverse_rec___traverse_rec___traverse_rec___traverse_rec___traverse_rec__draw_decay_L__TruncatedExponential__15\n",
      "  warnings.warn('Using prior. No proposal for address: {}'.format(address))\n",
      "/home/tt21642/dispyprob/pyprob/pyprob/nn/inference_network_feedforward.py:67: UserWarning: Using prior. No proposal for address: 520__forward___traverse___traverse_rec___traverse_rec___traverse_rec___traverse_rec___traverse_rec___traverse_rec___traverse_rec___traverse_rec___traverse_rec___traverse_rec___traverse_rec___traverse_rec__draw_decay_R__TruncatedExponential__15\n",
      "  warnings.warn('Using prior. No proposal for address: {}'.format(address))\n"
     ]
    },
    {
     "name": "stdout",
     "output_type": "stream",
     "text": [
      "------------------------------#----------------- |  798/5000 |  11.80 | 0.33       \n",
      "------------------------------##---------------- |  887/5000 |  13.12 | 0.33       \n",
      "------------------------------##---------------- |  988/5000 |  14.52 | 0.33       \n",
      "------------------------------##---------------- | 1028/5000 |  14.65 | 0.33       \n",
      "------------------------------##---------------- | 1032/5000 |  14.65 | 0.33       \n",
      "------------------------------##---------------- | 1070/5000 |  15.12 | 0.33       \n",
      "------------------------------###--------------- | 1138/5000 |  15.84 | 0.33       \n",
      "------------------------------####-------------- | 1463/5000 |  14.51 | 0.33       \n",
      "------------------------------####-------------- | 1496/5000 |  14.65 | 0.33       \n",
      "------------------------------####-------------- | 1532/5000 |  14.65 | 0.33       \n",
      "------------------------------####-------------- | 1576/5000 |  15.41 | 0.33       \n",
      "------------------------------#####------------- | 1722/5000 |  16.77 | 0.33       \n",
      "------------------------------#####------------- | 1778/5000 |  17.56 | 0.33       \n",
      "------------------------------######------------ | 1953/5000 |  19.00 | 0.33       \n",
      "------------------------------######------------ | 1992/5000 |  19.37 | 0.33       \n",
      "------------------------------######------------ | 1993/5000 |  19.37 | 0.33       \n",
      "0d:01:50:39 | 0d:02:22:30 | #########----------- | 2186/5000 |  21.81 | 0.33       \r"
     ]
    },
    {
     "name": "stderr",
     "output_type": "stream",
     "text": [
      "/home/tt21642/dispyprob/pyprob/pyprob/nn/inference_network_feedforward.py:67: UserWarning: Using prior. No proposal for address: 470__forward___traverse___traverse_rec___traverse_rec___traverse_rec___traverse_rec___traverse_rec__draw_decay_L__TruncatedExponential__15\n",
      "  warnings.warn('Using prior. No proposal for address: {}'.format(address))\n"
     ]
    },
    {
     "name": "stdout",
     "output_type": "stream",
     "text": [
      "------------------------------#######----------- | 2215/5000 |  22.38 | 0.33       \n",
      "------------------------------#######----------- | 2366/5000 |  24.77 | 0.33       \n",
      "------------------------------########---------- | 2550/5000 |  26.93 | 0.33       \n",
      "------------------------------########---------- | 2556/5000 |  26.93 | 0.33       \n",
      "------------------------------#########--------- | 2699/5000 |  27.73 | 0.33       \n",
      "------------------------------##########-------- | 2886/5000 |  29.21 | 0.33       \n",
      "------------------------------############------ | 3536/5000 |  34.50 | 0.33       \n",
      "------------------------------#############----- | 3723/5000 |  35.40 | 0.33       \n",
      "0d:03:13:19 | 0d:00:57:55 | ###############----- | 3848/5000 |  36.52 | 0.33       \r"
     ]
    },
    {
     "name": "stderr",
     "output_type": "stream",
     "text": [
      "/home/tt21642/dispyprob/pyprob/pyprob/nn/inference_network_feedforward.py:67: UserWarning: Using prior. No proposal for address: 216__forward___traverse___traverse_rec___traverse_rec___traverse_rec___traverse_rec___traverse_rec___traverse_rec__?__Uniform__19\n",
      "  warnings.warn('Using prior. No proposal for address: {}'.format(address))\n",
      "/home/tt21642/dispyprob/pyprob/pyprob/nn/inference_network_feedforward.py:67: UserWarning: Using prior. No proposal for address: 260__forward___traverse___traverse_rec___traverse_rec___traverse_rec___traverse_rec___traverse_rec___traverse_rec__theta_CM_U__Uniform__19\n",
      "  warnings.warn('Using prior. No proposal for address: {}'.format(address))\n",
      "/home/tt21642/dispyprob/pyprob/pyprob/nn/inference_network_feedforward.py:67: UserWarning: Using prior. No proposal for address: 470__forward___traverse___traverse_rec___traverse_rec___traverse_rec___traverse_rec___traverse_rec___traverse_rec__draw_decay_L__TruncatedExponential__19\n",
      "  warnings.warn('Using prior. No proposal for address: {}'.format(address))\n",
      "/home/tt21642/dispyprob/pyprob/pyprob/nn/inference_network_feedforward.py:67: UserWarning: Using prior. No proposal for address: 520__forward___traverse___traverse_rec___traverse_rec___traverse_rec___traverse_rec___traverse_rec___traverse_rec__draw_decay_R__TruncatedExponential__19\n",
      "  warnings.warn('Using prior. No proposal for address: {}'.format(address))\n"
     ]
    },
    {
     "name": "stdout",
     "output_type": "stream",
     "text": [
      "------------------------------##############---- | 3878/5000 |   1.50 | 0.33       \n",
      "------------------------------##############---- | 3903/5000 |   1.51 | 0.33       \n",
      "0d:03:18:58 | 0d:00:52:25 | ################---- | 3958/5000 |   1.51 | 0.33       \r"
     ]
    },
    {
     "name": "stderr",
     "output_type": "stream",
     "text": [
      "/home/tt21642/dispyprob/pyprob/pyprob/nn/inference_network_feedforward.py:67: UserWarning: Using prior. No proposal for address: 470__forward___traverse___traverse_rec___traverse_rec___traverse_rec___traverse_rec___traverse_rec___traverse_rec___traverse_rec___traverse_rec___traverse_rec___traverse_rec___traverse_rec__draw_decay_L__TruncatedExponential__17\n",
      "  warnings.warn('Using prior. No proposal for address: {}'.format(address))\n",
      "/home/tt21642/dispyprob/pyprob/pyprob/nn/inference_network_feedforward.py:67: UserWarning: Using prior. No proposal for address: 216__forward___traverse___traverse_rec___traverse_rec___traverse_rec___traverse_rec___traverse_rec___traverse_rec___traverse_rec___traverse_rec___traverse_rec___traverse_rec___traverse_rec__?__Uniform__17\n",
      "  warnings.warn('Using prior. No proposal for address: {}'.format(address))\n",
      "/home/tt21642/dispyprob/pyprob/pyprob/nn/inference_network_feedforward.py:67: UserWarning: Using prior. No proposal for address: 260__forward___traverse___traverse_rec___traverse_rec___traverse_rec___traverse_rec___traverse_rec___traverse_rec___traverse_rec___traverse_rec___traverse_rec___traverse_rec___traverse_rec__theta_CM_U__Uniform__17\n",
      "  warnings.warn('Using prior. No proposal for address: {}'.format(address))\n",
      "/home/tt21642/dispyprob/pyprob/pyprob/nn/inference_network_feedforward.py:67: UserWarning: Using prior. No proposal for address: 470__forward___traverse___traverse_rec___traverse_rec___traverse_rec___traverse_rec___traverse_rec___traverse_rec___traverse_rec___traverse_rec___traverse_rec___traverse_rec___traverse_rec__draw_decay_L__TruncatedExponential__18\n",
      "  warnings.warn('Using prior. No proposal for address: {}'.format(address))\n",
      "/home/tt21642/dispyprob/pyprob/pyprob/nn/inference_network_feedforward.py:67: UserWarning: Using prior. No proposal for address: 520__forward___traverse___traverse_rec___traverse_rec___traverse_rec___traverse_rec___traverse_rec___traverse_rec___traverse_rec___traverse_rec___traverse_rec___traverse_rec___traverse_rec__draw_decay_R__TruncatedExponential__17\n",
      "  warnings.warn('Using prior. No proposal for address: {}'.format(address))\n",
      "/home/tt21642/dispyprob/pyprob/pyprob/nn/inference_network_feedforward.py:67: UserWarning: Using prior. No proposal for address: 216__forward___traverse___traverse_rec___traverse_rec___traverse_rec___traverse_rec___traverse_rec___traverse_rec___traverse_rec___traverse_rec___traverse_rec___traverse_rec___traverse_rec__?__Uniform__18\n",
      "  warnings.warn('Using prior. No proposal for address: {}'.format(address))\n",
      "/home/tt21642/dispyprob/pyprob/pyprob/nn/inference_network_feedforward.py:67: UserWarning: Using prior. No proposal for address: 260__forward___traverse___traverse_rec___traverse_rec___traverse_rec___traverse_rec___traverse_rec___traverse_rec___traverse_rec___traverse_rec___traverse_rec___traverse_rec___traverse_rec__theta_CM_U__Uniform__18\n",
      "  warnings.warn('Using prior. No proposal for address: {}'.format(address))\n",
      "/home/tt21642/dispyprob/pyprob/pyprob/nn/inference_network_feedforward.py:67: UserWarning: Using prior. No proposal for address: 470__forward___traverse___traverse_rec___traverse_rec___traverse_rec___traverse_rec___traverse_rec___traverse_rec___traverse_rec___traverse_rec___traverse_rec___traverse_rec___traverse_rec__draw_decay_L__TruncatedExponential__19\n",
      "  warnings.warn('Using prior. No proposal for address: {}'.format(address))\n",
      "/home/tt21642/dispyprob/pyprob/pyprob/nn/inference_network_feedforward.py:67: UserWarning: Using prior. No proposal for address: 520__forward___traverse___traverse_rec___traverse_rec___traverse_rec___traverse_rec___traverse_rec___traverse_rec___traverse_rec___traverse_rec___traverse_rec___traverse_rec___traverse_rec__draw_decay_R__TruncatedExponential__18\n",
      "  warnings.warn('Using prior. No proposal for address: {}'.format(address))\n",
      "/home/tt21642/dispyprob/pyprob/pyprob/nn/inference_network_feedforward.py:67: UserWarning: Using prior. No proposal for address: 216__forward___traverse___traverse_rec___traverse_rec___traverse_rec___traverse_rec___traverse_rec___traverse_rec___traverse_rec___traverse_rec___traverse_rec___traverse_rec___traverse_rec__?__Uniform__19\n",
      "  warnings.warn('Using prior. No proposal for address: {}'.format(address))\n",
      "/home/tt21642/dispyprob/pyprob/pyprob/nn/inference_network_feedforward.py:67: UserWarning: Using prior. No proposal for address: 260__forward___traverse___traverse_rec___traverse_rec___traverse_rec___traverse_rec___traverse_rec___traverse_rec___traverse_rec___traverse_rec___traverse_rec___traverse_rec___traverse_rec__theta_CM_U__Uniform__19\n",
      "  warnings.warn('Using prior. No proposal for address: {}'.format(address))\n",
      "/home/tt21642/dispyprob/pyprob/pyprob/nn/inference_network_feedforward.py:67: UserWarning: Using prior. No proposal for address: 470__forward___traverse___traverse_rec___traverse_rec___traverse_rec___traverse_rec___traverse_rec___traverse_rec___traverse_rec___traverse_rec___traverse_rec___traverse_rec___traverse_rec__draw_decay_L__TruncatedExponential__20\n",
      "  warnings.warn('Using prior. No proposal for address: {}'.format(address))\n",
      "/home/tt21642/dispyprob/pyprob/pyprob/nn/inference_network_feedforward.py:67: UserWarning: Using prior. No proposal for address: 520__forward___traverse___traverse_rec___traverse_rec___traverse_rec___traverse_rec___traverse_rec___traverse_rec___traverse_rec___traverse_rec___traverse_rec___traverse_rec___traverse_rec__draw_decay_R__TruncatedExponential__19\n",
      "  warnings.warn('Using prior. No proposal for address: {}'.format(address))\n"
     ]
    },
    {
     "name": "stdout",
     "output_type": "stream",
     "text": [
      "------------------------------##############---- | 3975/5000 |   1.51 | 0.33       \n",
      "------------------------------###############--- | 4287/5000 |   1.54 | 0.33       \n",
      "------------------------------###############--- | 4321/5000 |   1.55 | 0.33       \n",
      "------------------------------###############--- | 4365/5000 |   1.55 | 0.33       \n",
      "------------------------------################-- | 4435/5000 |   1.56 | 0.33       \n",
      "0d:03:52:14 | 0d:00:21:40 | ##################-- | 4574/5000 |   1.59 | 0.33       \r"
     ]
    },
    {
     "name": "stderr",
     "output_type": "stream",
     "text": [
      "/home/tt21642/dispyprob/pyprob/pyprob/nn/inference_network_feedforward.py:67: UserWarning: Using prior. No proposal for address: 216__forward___traverse___traverse_rec___traverse_rec___traverse_rec___traverse_rec___traverse_rec__?__Uniform__15\n",
      "  warnings.warn('Using prior. No proposal for address: {}'.format(address))\n",
      "/home/tt21642/dispyprob/pyprob/pyprob/nn/inference_network_feedforward.py:67: UserWarning: Using prior. No proposal for address: 260__forward___traverse___traverse_rec___traverse_rec___traverse_rec___traverse_rec___traverse_rec__theta_CM_U__Uniform__15\n",
      "  warnings.warn('Using prior. No proposal for address: {}'.format(address))\n",
      "/home/tt21642/dispyprob/pyprob/pyprob/nn/inference_network_feedforward.py:67: UserWarning: Using prior. No proposal for address: 520__forward___traverse___traverse_rec___traverse_rec___traverse_rec___traverse_rec___traverse_rec__draw_decay_R__TruncatedExponential__15\n",
      "  warnings.warn('Using prior. No proposal for address: {}'.format(address))\n"
     ]
    },
    {
     "name": "stdout",
     "output_type": "stream",
     "text": [
      "------------------------------#################- | 4754/5000 |   1.65 | 0.33       \n",
      "0d:04:13:39 | 0d:00:00:03 | #################### | 5000/5000 |   1.67 | 0.33       \r\n",
      "New layers, address: 520__forward___traverse___traverse_rec___traverse_..., distribution: TruncatedExponential\n",
      "Total addresses: 648, parameters: 330,486\n",
      "New layers, address: 216__forward___traverse___traverse_rec___traverse_..., distribution: Uniforme-03 | 2.0 \n",
      "New layers, address: 260__forward___traverse___traverse_rec___traverse_..., distribution: Uniform\n",
      "New layers, address: 470__forward___traverse___traverse_rec___traverse_..., distribution: TruncatedExponential\n",
      "New layers, address: 520__forward___traverse___traverse_rec___traverse_..., distribution: TruncatedExponential\n",
      "Total addresses: 652, parameters: 332,526\n",
      "0d:08:48:31 | 1    | 1,400     | +4.89e+01 | +4.70e+01 | \u001b[32m+4.85e+01\u001b[0m | 0d:04:18:15 | +1.00e-03 | 1.4 \r\n",
      "Stop condition reached. num_traces: 500\n",
      "0d:08:49:12 | 1    | 1,500     | +4.89e+01 | +4.70e+01 | \u001b[31m+5.44e+01\u001b[0m | 0d:04:18:55 | +1.00e-03 | 2.5 \r\n",
      "Training iterations 1  epsilon 213.64  ESS 1.7\n",
      "Continuing to train existing inference network...\n",
      "Total number of parameters: 332,526\n",
      "Train. time | Epoch| Trace     | Init. loss| Min. loss | Curr. loss| T.since min | Learn.rate| Traces/sec\n",
      "Time spent  | Time remain.| Progress             | Trace     | ESS    | Traces/sec\n",
      "0d:00:00:08 | 0d:03:53:22 | -------------------- |    3/5000 |   1.04 | 0.36       \r"
     ]
    },
    {
     "name": "stderr",
     "output_type": "stream",
     "text": [
      "/home/tt21642/dispyprob/pyprob/pyprob/nn/inference_network_feedforward.py:67: UserWarning: Using prior. No proposal for address: 216__forward___traverse___traverse_rec___traverse_rec___traverse_rec___traverse_rec___traverse_rec___traverse_rec___traverse_rec___traverse_rec___traverse_rec___traverse_rec___traverse_rec___traverse_rec___traverse_rec__?__Uniform__13\n",
      "  warnings.warn('Using prior. No proposal for address: {}'.format(address))\n",
      "/home/tt21642/dispyprob/pyprob/pyprob/nn/inference_network_feedforward.py:67: UserWarning: Using prior. No proposal for address: 260__forward___traverse___traverse_rec___traverse_rec___traverse_rec___traverse_rec___traverse_rec___traverse_rec___traverse_rec___traverse_rec___traverse_rec___traverse_rec___traverse_rec___traverse_rec___traverse_rec__theta_CM_U__Uniform__13\n",
      "  warnings.warn('Using prior. No proposal for address: {}'.format(address))\n",
      "/home/tt21642/dispyprob/pyprob/pyprob/nn/inference_network_feedforward.py:67: UserWarning: Using prior. No proposal for address: 470__forward___traverse___traverse_rec___traverse_rec___traverse_rec___traverse_rec___traverse_rec___traverse_rec___traverse_rec___traverse_rec___traverse_rec___traverse_rec___traverse_rec___traverse_rec___traverse_rec__draw_decay_L__TruncatedExponential__13\n",
      "  warnings.warn('Using prior. No proposal for address: {}'.format(address))\n",
      "/home/tt21642/dispyprob/pyprob/pyprob/nn/inference_network_feedforward.py:67: UserWarning: Using prior. No proposal for address: 520__forward___traverse___traverse_rec___traverse_rec___traverse_rec___traverse_rec___traverse_rec___traverse_rec___traverse_rec___traverse_rec___traverse_rec___traverse_rec___traverse_rec___traverse_rec___traverse_rec__draw_decay_R__TruncatedExponential__13\n",
      "  warnings.warn('Using prior. No proposal for address: {}'.format(address))\n"
     ]
    },
    {
     "name": "stdout",
     "output_type": "stream",
     "text": [
      "------------------------------------------------ |  186/5000 |   2.60 | 0.33       \n",
      "------------------------------------------------ |  338/5000 |   3.28 | 0.34       \n",
      "------------------------------------------------ |  395/5000 |   3.62 | 0.34       \n",
      "------------------------------------------------ |  406/5000 |   4.16 | 0.34       \n",
      "------------------------------#----------------- |  679/5000 |   6.85 | 0.33       \n",
      "------------------------------#----------------- |  706/5000 |   6.92 | 0.33       \n",
      "------------------------------#----------------- |  797/5000 |   7.35 | 0.34       \n",
      "------------------------------##---------------- |  979/5000 |   8.19 | 0.34       \n",
      "------------------------------##---------------- | 1008/5000 |   8.30 | 0.34       \n",
      "------------------------------###--------------- | 1135/5000 |  10.30 | 0.34       \n",
      "------------------------------###--------------- | 1161/5000 |  10.69 | 0.34       \n",
      "------------------------------####-------------- | 1568/5000 |  15.03 | 0.34       \n",
      "------------------------------######------------ | 1884/5000 |  17.47 | 0.34       \n",
      "0d:01:36:24 | 0d:02:30:58 | ########------------ | 1949/5000 |  18.68 | 0.34       \r"
     ]
    },
    {
     "name": "stderr",
     "output_type": "stream",
     "text": [
      "/home/tt21642/dispyprob/pyprob/pyprob/nn/inference_network_feedforward.py:67: UserWarning: Using prior. No proposal for address: 470__forward___traverse___traverse_rec___traverse_rec___traverse_rec___traverse_rec___traverse_rec___traverse_rec___traverse_rec___traverse_rec___traverse_rec__draw_decay_L__TruncatedExponential__20\n",
      "  warnings.warn('Using prior. No proposal for address: {}'.format(address))\n"
     ]
    },
    {
     "name": "stdout",
     "output_type": "stream",
     "text": [
      "------------------------------######------------ | 2041/5000 |  19.09 | 0.34       \n",
      "------------------------------######------------ | 2049/5000 |  19.14 | 0.34       \n",
      "------------------------------#######----------- | 2337/5000 |  20.97 | 0.34       \n",
      "0d:01:57:26 | 0d:02:08:55 | ##########---------- | 2384/5000 |  23.26 | 0.34       \r"
     ]
    },
    {
     "name": "stderr",
     "output_type": "stream",
     "text": [
      "/home/tt21642/dispyprob/pyprob/pyprob/nn/inference_network_feedforward.py:67: UserWarning: Using prior. No proposal for address: 216__forward___traverse___traverse_rec___traverse_rec___traverse_rec___traverse_rec___traverse_rec___traverse_rec___traverse_rec___traverse_rec___traverse_rec__?__Uniform__20\n",
      "  warnings.warn('Using prior. No proposal for address: {}'.format(address))\n",
      "/home/tt21642/dispyprob/pyprob/pyprob/nn/inference_network_feedforward.py:67: UserWarning: Using prior. No proposal for address: 260__forward___traverse___traverse_rec___traverse_rec___traverse_rec___traverse_rec___traverse_rec___traverse_rec___traverse_rec___traverse_rec___traverse_rec__theta_CM_U__Uniform__20\n",
      "  warnings.warn('Using prior. No proposal for address: {}'.format(address))\n",
      "/home/tt21642/dispyprob/pyprob/pyprob/nn/inference_network_feedforward.py:67: UserWarning: Using prior. No proposal for address: 520__forward___traverse___traverse_rec___traverse_rec___traverse_rec___traverse_rec___traverse_rec___traverse_rec___traverse_rec___traverse_rec___traverse_rec__draw_decay_R__TruncatedExponential__20\n",
      "  warnings.warn('Using prior. No proposal for address: {}'.format(address))\n"
     ]
    },
    {
     "name": "stdout",
     "output_type": "stream",
     "text": [
      "------------------------------#########--------- | 2652/5000 |  24.60 | 0.34       \n",
      "------------------------------#########--------- | 2703/5000 |  25.54 | 0.34       \n",
      "------------------------------#########--------- | 2812/5000 |  26.06 | 0.34       \n",
      "------------------------------#########--------- | 2815/5000 |  26.09 | 0.34       \n",
      "------------------------------##########-------- | 2879/5000 |  27.10 | 0.34       \n",
      "------------------------------##########-------- | 2955/5000 |  29.35 | 0.34       \n",
      "------------------------------##########-------- | 2980/5000 |  29.36 | 0.34       \n",
      "------------------------------##########-------- | 3078/5000 |   9.62 | 0.34       \n",
      "------------------------------############------ | 3393/5000 |   9.62 | 0.34       \n",
      "------------------------------############------ | 3446/5000 |   9.62 | 0.34       \n",
      "------------------------------############------ | 3469/5000 |   9.62 | 0.34       \n",
      "------------------------------#############----- | 3803/5000 |  11.08 | 0.34       \n",
      "------------------------------##############---- | 3934/5000 |  11.16 | 0.34       \n",
      "------------------------------##############---- | 3976/5000 |  13.35 | 0.34       \n",
      "------------------------------##############---- | 4030/5000 |  13.58 | 0.34       \n",
      "------------------------------###############--- | 4207/5000 |  13.93 | 0.34       \n",
      "------------------------------#################- | 4704/5000 |  12.60 | 0.34       \n",
      "------------------------------################## | 4881/5000 |  13.23 | 0.33       \n",
      "0d:04:08:35 | 0d:00:00:02 | #################### | 5000/5000 |  14.02 | 0.34       \r\n",
      "0d:13:05:45 | 1    | 1,900     | +4.89e+01 | +4.70e+01 | \u001b[32m+9.32e+01\u001b[0m | 0d:04:16:33 | +1.00e-03 | 0.8 \r\n",
      "Stop condition reached. num_traces: 500\n",
      "0d:13:07:52 | 1    | 2,000     | +4.89e+01 | +4.70e+01 | \u001b[31m+9.56e+01\u001b[0m | 0d:04:18:40 | +1.00e-03 | 0.8 \r\n",
      "Training iterations 1  epsilon 213.64  ESS 13.4\n",
      "Continuing to train existing inference network...\n",
      "Total number of parameters: 332,526\n",
      "Train. time | Epoch| Trace     | Init. loss| Min. loss | Curr. loss| T.since min | Learn.rate| Traces/sec\n",
      "Time spent  | Time remain.| Progress             | Trace     | ESS    | Traces/sec\n",
      "------------------------------------------------ |   93/5000 |   4.17 | 0.37       \n",
      "------------------------------------------------ |  146/5000 |   1.27 | 0.36       \n",
      "------------------------------------------------ |  151/5000 |   1.27 | 0.36       \n",
      "------------------------------------------------ |  407/5000 |   2.13 | 0.33       \n",
      "------------------------------#----------------- |  758/5000 |   3.74 | 0.33       \n",
      "0d:00:44:35 | 0d:03:28:30 | ####---------------- |  881/5000 |   4.72 | 0.33       \r"
     ]
    },
    {
     "name": "stderr",
     "output_type": "stream",
     "text": [
      "/home/tt21642/dispyprob/pyprob/pyprob/nn/inference_network_feedforward.py:67: UserWarning: Using prior. No proposal for address: 216__forward___traverse___traverse_rec___traverse_rec___traverse_rec___traverse_rec___traverse_rec___traverse_rec___traverse_rec__?__Uniform__22\n",
      "  warnings.warn('Using prior. No proposal for address: {}'.format(address))\n",
      "/home/tt21642/dispyprob/pyprob/pyprob/nn/inference_network_feedforward.py:67: UserWarning: Using prior. No proposal for address: 260__forward___traverse___traverse_rec___traverse_rec___traverse_rec___traverse_rec___traverse_rec___traverse_rec___traverse_rec__theta_CM_U__Uniform__22\n",
      "  warnings.warn('Using prior. No proposal for address: {}'.format(address))\n",
      "/home/tt21642/dispyprob/pyprob/pyprob/nn/inference_network_feedforward.py:67: UserWarning: Using prior. No proposal for address: 470__forward___traverse___traverse_rec___traverse_rec___traverse_rec___traverse_rec___traverse_rec___traverse_rec___traverse_rec__draw_decay_L__TruncatedExponential__22\n",
      "  warnings.warn('Using prior. No proposal for address: {}'.format(address))\n",
      "/home/tt21642/dispyprob/pyprob/pyprob/nn/inference_network_feedforward.py:67: UserWarning: Using prior. No proposal for address: 520__forward___traverse___traverse_rec___traverse_rec___traverse_rec___traverse_rec___traverse_rec___traverse_rec___traverse_rec__draw_decay_R__TruncatedExponential__22\n",
      "  warnings.warn('Using prior. No proposal for address: {}'.format(address))\n"
     ]
    },
    {
     "name": "stdout",
     "output_type": "stream",
     "text": [
      "------------------------------###--------------- | 1136/5000 |   6.69 | 0.33       \n",
      "------------------------------###--------------- | 1318/5000 |   7.47 | 0.33       \n",
      "------------------------------######------------ | 1982/5000 |  13.06 | 0.33       \n",
      "------------------------------######------------ | 2087/5000 |  13.89 | 0.33       \n",
      "------------------------------#######----------- | 2323/5000 |  15.64 | 0.33       \n",
      "------------------------------##########-------- | 2925/5000 |  21.52 | 0.33       \n",
      "------------------------------###########------- | 3372/5000 |  24.41 | 0.33       \n",
      "------------------------------############------ | 3411/5000 |  24.43 | 0.33       \n",
      "------------------------------############------ | 3497/5000 |  25.42 | 0.33       \n",
      "------------------------------############------ | 3539/5000 |  25.74 | 0.33       \n",
      "------------------------------############------ | 3556/5000 |  25.75 | 0.33       \n",
      "------------------------------#############----- | 3641/5000 |  27.24 | 0.33       \n",
      "------------------------------#############----- | 3649/5000 |  27.24 | 0.33       \n",
      "------------------------------##############---- | 4005/5000 |  31.48 | 0.33       \n",
      "------------------------------###############--- | 4356/5000 |  34.14 | 0.33       \n",
      "------------------------------################-- | 4465/5000 |  34.96 | 0.33       \n",
      "------------------------------################-- | 4618/5000 |  36.05 | 0.33       \n",
      "0d:04:01:25 | 0d:00:11:41 | ###################- | 4770/5000 |  37.00 | 0.33       \r"
     ]
    },
    {
     "name": "stderr",
     "output_type": "stream",
     "text": [
      "/home/tt21642/dispyprob/pyprob/pyprob/nn/inference_network_feedforward.py:67: UserWarning: Using prior. No proposal for address: 216__forward___traverse___traverse_rec___traverse_rec___traverse_rec___traverse_rec___traverse_rec___traverse_rec___traverse_rec___traverse_rec___traverse_rec___traverse_rec___traverse_rec___traverse_rec___traverse_rec___traverse_rec___traverse_rec___traverse_rec___traverse_rec__?__Uniform__6\n",
      "  warnings.warn('Using prior. No proposal for address: {}'.format(address))\n",
      "/home/tt21642/dispyprob/pyprob/pyprob/nn/inference_network_feedforward.py:67: UserWarning: Using prior. No proposal for address: 260__forward___traverse___traverse_rec___traverse_rec___traverse_rec___traverse_rec___traverse_rec___traverse_rec___traverse_rec___traverse_rec___traverse_rec___traverse_rec___traverse_rec___traverse_rec___traverse_rec___traverse_rec___traverse_rec___traverse_rec___traverse_rec__theta_CM_U__Uniform__6\n",
      "  warnings.warn('Using prior. No proposal for address: {}'.format(address))\n",
      "/home/tt21642/dispyprob/pyprob/pyprob/nn/inference_network_feedforward.py:67: UserWarning: Using prior. No proposal for address: 470__forward___traverse___traverse_rec___traverse_rec___traverse_rec___traverse_rec___traverse_rec___traverse_rec___traverse_rec___traverse_rec___traverse_rec___traverse_rec___traverse_rec___traverse_rec___traverse_rec___traverse_rec___traverse_rec___traverse_rec___traverse_rec__draw_decay_L__TruncatedExponential__6\n",
      "  warnings.warn('Using prior. No proposal for address: {}'.format(address))\n",
      "/home/tt21642/dispyprob/pyprob/pyprob/nn/inference_network_feedforward.py:67: UserWarning: Using prior. No proposal for address: 520__forward___traverse___traverse_rec___traverse_rec___traverse_rec___traverse_rec___traverse_rec___traverse_rec___traverse_rec___traverse_rec___traverse_rec___traverse_rec___traverse_rec___traverse_rec___traverse_rec___traverse_rec___traverse_rec___traverse_rec___traverse_rec__draw_decay_R__TruncatedExponential__6\n",
      "  warnings.warn('Using prior. No proposal for address: {}'.format(address))\n",
      "/home/tt21642/dispyprob/pyprob/pyprob/nn/inference_network_feedforward.py:67: UserWarning: Using prior. No proposal for address: 216__forward___traverse___traverse_rec___traverse_rec___traverse_rec___traverse_rec___traverse_rec___traverse_rec___traverse_rec___traverse_rec___traverse_rec___traverse_rec___traverse_rec___traverse_rec___traverse_rec___traverse_rec___traverse_rec___traverse_rec__?__Uniform__8\n",
      "  warnings.warn('Using prior. No proposal for address: {}'.format(address))\n",
      "/home/tt21642/dispyprob/pyprob/pyprob/nn/inference_network_feedforward.py:67: UserWarning: Using prior. No proposal for address: 260__forward___traverse___traverse_rec___traverse_rec___traverse_rec___traverse_rec___traverse_rec___traverse_rec___traverse_rec___traverse_rec___traverse_rec___traverse_rec___traverse_rec___traverse_rec___traverse_rec___traverse_rec___traverse_rec___traverse_rec__theta_CM_U__Uniform__8\n",
      "  warnings.warn('Using prior. No proposal for address: {}'.format(address))\n",
      "/home/tt21642/dispyprob/pyprob/pyprob/nn/inference_network_feedforward.py:67: UserWarning: Using prior. No proposal for address: 470__forward___traverse___traverse_rec___traverse_rec___traverse_rec___traverse_rec___traverse_rec___traverse_rec___traverse_rec___traverse_rec___traverse_rec___traverse_rec___traverse_rec___traverse_rec___traverse_rec___traverse_rec___traverse_rec___traverse_rec__draw_decay_L__TruncatedExponential__8\n",
      "  warnings.warn('Using prior. No proposal for address: {}'.format(address))\n",
      "/home/tt21642/dispyprob/pyprob/pyprob/nn/inference_network_feedforward.py:67: UserWarning: Using prior. No proposal for address: 520__forward___traverse___traverse_rec___traverse_rec___traverse_rec___traverse_rec___traverse_rec___traverse_rec___traverse_rec___traverse_rec___traverse_rec___traverse_rec___traverse_rec___traverse_rec___traverse_rec___traverse_rec___traverse_rec___traverse_rec__draw_decay_R__TruncatedExponential__8\n",
      "  warnings.warn('Using prior. No proposal for address: {}'.format(address))\n"
     ]
    },
    {
     "name": "stdout",
     "output_type": "stream",
     "text": [
      "------------------------------################## | 4939/5000 |  38.92 | 0.33       \n",
      "0d:04:12:47 | 0d:00:00:03 | #################### | 5000/5000 |  39.14 | 0.33       \r\n",
      "New layers, address: 216__forward___traverse___traverse_rec___traverse_..., distribution: Uniform\n",
      "New layers, address: 260__forward___traverse___traverse_rec___traverse_..., distribution: Uniform\n",
      "New layers, address: 470__forward___traverse___traverse_rec___traverse_..., distribution: TruncatedExponential\n",
      "New layers, address: 520__forward___traverse___traverse_rec___traverse_..., distribution: TruncatedExponential\n",
      "New layers, address: 216__forward___traverse___traverse_rec___traverse_..., distribution: Uniform\n",
      "New layers, address: 260__forward___traverse___traverse_rec___traverse_..., distribution: Uniform\n",
      "New layers, address: 470__forward___traverse___traverse_rec___traverse_..., distribution: TruncatedExponential\n",
      "New layers, address: 520__forward___traverse___traverse_rec___traverse_..., distribution: TruncatedExponential\n",
      "New layers, address: 216__forward___traverse___traverse_rec___traverse_..., distribution: Uniform\n",
      "New layers, address: 260__forward___traverse___traverse_rec___traverse_..., distribution: Uniform\n",
      "New layers, address: 470__forward___traverse___traverse_rec___traverse_..., distribution: TruncatedExponential\n",
      "New layers, address: 520__forward___traverse___traverse_rec___traverse_..., distribution: TruncatedExponential\n",
      "Total addresses: 664, parameters: 338,646\n",
      "New layers, address: 216__forward___traverse___traverse_rec___traverse_..., distribution: Uniform\n",
      "New layers, address: 260__forward___traverse___traverse_rec___traverse_..., distribution: Uniform\n",
      "New layers, address: 470__forward___traverse___traverse_rec___traverse_..., distribution: TruncatedExponential\n",
      "New layers, address: 520__forward___traverse___traverse_rec___traverse_..., distribution: TruncatedExponential\n",
      "New layers, address: 216__forward___traverse___traverse_rec___traverse_..., distribution: Uniform\n",
      "New layers, address: 260__forward___traverse___traverse_rec___traverse_..., distribution: Uniform\n",
      "New layers, address: 470__forward___traverse___traverse_rec___traverse_..., distribution: TruncatedExponential\n",
      "New layers, address: 520__forward___traverse___traverse_rec___traverse_..., distribution: TruncatedExponential\n",
      "New layers, address: 216__forward___traverse___traverse_rec___traverse_..., distribution: Uniform\n",
      "New layers, address: 260__forward___traverse___traverse_rec___traverse_..., distribution: Uniform\n",
      "New layers, address: 470__forward___traverse___traverse_rec___traverse_..., distribution: TruncatedExponential\n",
      "New layers, address: 520__forward___traverse___traverse_rec___traverse_..., distribution: TruncatedExponential\n",
      "Total addresses: 676, parameters: 344,766\n",
      "New layers, address: 216__forward___traverse___traverse_rec___traverse_..., distribution: Uniforme-03 | 0.5 \n",
      "New layers, address: 260__forward___traverse___traverse_rec___traverse_..., distribution: Uniform\n",
      "New layers, address: 470__forward___traverse___traverse_rec___traverse_..., distribution: TruncatedExponential\n",
      "New layers, address: 520__forward___traverse___traverse_rec___traverse_..., distribution: TruncatedExponential\n",
      "New layers, address: 216__forward___traverse___traverse_rec___traverse_..., distribution: Uniform\n",
      "New layers, address: 260__forward___traverse___traverse_rec___traverse_..., distribution: Uniform\n",
      "New layers, address: 470__forward___traverse___traverse_rec___traverse_..., distribution: TruncatedExponential\n",
      "New layers, address: 520__forward___traverse___traverse_rec___traverse_..., distribution: TruncatedExponential\n",
      "New layers, address: 216__forward___traverse___traverse_rec___traverse_..., distribution: Uniform\n",
      "New layers, address: 260__forward___traverse___traverse_rec___traverse_..., distribution: Uniform\n",
      "New layers, address: 470__forward___traverse___traverse_rec___traverse_..., distribution: TruncatedExponential\n",
      "New layers, address: 520__forward___traverse___traverse_rec___traverse_..., distribution: TruncatedExponential\n",
      "Total addresses: 688, parameters: 350,886\n",
      "New layers, address: 520__forward___traverse___traverse_rec__draw_decay..., distribution: TruncatedExponential\n",
      "New layers, address: 216__forward___traverse___traverse_rec___traverse_..., distribution: Uniform\n",
      "New layers, address: 260__forward___traverse___traverse_rec___traverse_..., distribution: Uniform\n",
      "New layers, address: 470__forward___traverse___traverse_rec___traverse_..., distribution: TruncatedExponential\n",
      "New layers, address: 520__forward___traverse___traverse_rec___traverse_..., distribution: TruncatedExponential\n",
      "Total addresses: 693, parameters: 353,436\n",
      "\n",
      "Stop condition reached. num_traces: 500\n",
      "0d:17:35:04 | 1    | 2,500     | +4.89e+01 | +4.70e+01 | \u001b[32m+1.11e+02\u001b[0m | 0d:04:27:11 | +1.00e-03 | 0.6 \r\n",
      "Training iterations 1  epsilon 213.64  ESS 36.8\n",
      "Continuing to train existing inference network...\n",
      "Total number of parameters: 353,436\n",
      "Train. time | Epoch| Trace     | Init. loss| Min. loss | Curr. loss| T.since min | Learn.rate| Traces/sec\n",
      "Time spent  | Time remain.| Progress             | Trace     | ESS    | Traces/sec\n",
      "------------------------------------------------ |   14/5000 |   1.00 | 0.35       \n",
      "------------------------------------------------ |   21/5000 |   1.00 | 0.35       \n",
      "------------------------------------------------ |   61/5000 |   3.09 | 0.35       \n",
      "------------------------------------------------ |   62/5000 |   3.09 | 0.35       \n",
      "------------------------------------------------ |  214/5000 |   4.10 | 0.35       \n",
      "------------------------------#----------------- |  644/5000 |   7.12 | 0.35       \n",
      "------------------------------#----------------- |  672/5000 |   7.19 | 0.35       \n",
      "------------------------------#----------------- |  819/5000 |   4.40 | 0.34       \n",
      "------------------------------##---------------- | 1116/5000 |   6.01 | 0.34       \n",
      "------------------------------###--------------- | 1132/5000 |   6.01 | 0.34       \n",
      "------------------------------###--------------- | 1147/5000 |   6.01 | 0.34       \n",
      "0d:01:09:52 | 0d:02:53:48 | ######-------------- | 1434/5000 |   7.84 | 0.34       \r"
     ]
    },
    {
     "name": "stderr",
     "output_type": "stream",
     "text": [
      "/home/tt21642/dispyprob/pyprob/pyprob/nn/inference_network_feedforward.py:67: UserWarning: Using prior. No proposal for address: 216__forward___traverse___traverse_rec___traverse_rec___traverse_rec___traverse_rec___traverse_rec___traverse_rec__?__Uniform__20\n",
      "  warnings.warn('Using prior. No proposal for address: {}'.format(address))\n",
      "/home/tt21642/dispyprob/pyprob/pyprob/nn/inference_network_feedforward.py:67: UserWarning: Using prior. No proposal for address: 260__forward___traverse___traverse_rec___traverse_rec___traverse_rec___traverse_rec___traverse_rec___traverse_rec__theta_CM_U__Uniform__20\n",
      "  warnings.warn('Using prior. No proposal for address: {}'.format(address))\n",
      "/home/tt21642/dispyprob/pyprob/pyprob/nn/inference_network_feedforward.py:67: UserWarning: Using prior. No proposal for address: 470__forward___traverse___traverse_rec___traverse_rec___traverse_rec___traverse_rec___traverse_rec___traverse_rec__draw_decay_L__TruncatedExponential__20\n",
      "  warnings.warn('Using prior. No proposal for address: {}'.format(address))\n",
      "/home/tt21642/dispyprob/pyprob/pyprob/nn/inference_network_feedforward.py:67: UserWarning: Using prior. No proposal for address: 520__forward___traverse___traverse_rec___traverse_rec___traverse_rec___traverse_rec___traverse_rec___traverse_rec__draw_decay_R__TruncatedExponential__20\n",
      "  warnings.warn('Using prior. No proposal for address: {}'.format(address))\n"
     ]
    },
    {
     "name": "stdout",
     "output_type": "stream",
     "text": [
      "------------------------------####-------------- | 1454/5000 |   7.84 | 0.34       \n",
      "0d:01:15:07 | 0d:02:51:13 | ######-------------- | 1525/5000 |   8.74 | 0.34       \r"
     ]
    },
    {
     "name": "stderr",
     "output_type": "stream",
     "text": [
      "/home/tt21642/dispyprob/pyprob/pyprob/nn/inference_network_feedforward.py:67: UserWarning: Using prior. No proposal for address: 216__forward___traverse___traverse_rec___traverse_rec___traverse_rec___traverse_rec___traverse_rec___traverse_rec___traverse_rec___traverse_rec___traverse_rec___traverse_rec___traverse_rec___traverse_rec___traverse_rec___traverse_rec___traverse_rec___traverse_rec___traverse_rec___traverse_rec___traverse_rec___traverse_rec___traverse_rec___traverse_rec___traverse_rec__?__Uniform__1\n",
      "  warnings.warn('Using prior. No proposal for address: {}'.format(address))\n",
      "/home/tt21642/dispyprob/pyprob/pyprob/nn/inference_network_feedforward.py:67: UserWarning: Using prior. No proposal for address: 260__forward___traverse___traverse_rec___traverse_rec___traverse_rec___traverse_rec___traverse_rec___traverse_rec___traverse_rec___traverse_rec___traverse_rec___traverse_rec___traverse_rec___traverse_rec___traverse_rec___traverse_rec___traverse_rec___traverse_rec___traverse_rec___traverse_rec___traverse_rec___traverse_rec___traverse_rec___traverse_rec___traverse_rec__theta_CM_U__Uniform__1\n",
      "  warnings.warn('Using prior. No proposal for address: {}'.format(address))\n",
      "/home/tt21642/dispyprob/pyprob/pyprob/nn/inference_network_feedforward.py:67: UserWarning: Using prior. No proposal for address: 470__forward___traverse___traverse_rec___traverse_rec___traverse_rec___traverse_rec___traverse_rec___traverse_rec___traverse_rec___traverse_rec___traverse_rec___traverse_rec___traverse_rec___traverse_rec___traverse_rec___traverse_rec___traverse_rec___traverse_rec___traverse_rec___traverse_rec___traverse_rec___traverse_rec___traverse_rec___traverse_rec___traverse_rec__draw_decay_L__TruncatedExponential__1\n",
      "  warnings.warn('Using prior. No proposal for address: {}'.format(address))\n",
      "/home/tt21642/dispyprob/pyprob/pyprob/nn/inference_network_feedforward.py:67: UserWarning: Using prior. No proposal for address: 520__forward___traverse___traverse_rec___traverse_rec___traverse_rec___traverse_rec___traverse_rec___traverse_rec___traverse_rec___traverse_rec___traverse_rec___traverse_rec___traverse_rec___traverse_rec___traverse_rec___traverse_rec___traverse_rec___traverse_rec___traverse_rec___traverse_rec___traverse_rec___traverse_rec___traverse_rec___traverse_rec___traverse_rec__draw_decay_R__TruncatedExponential__1\n",
      "  warnings.warn('Using prior. No proposal for address: {}'.format(address))\n"
     ]
    },
    {
     "name": "stdout",
     "output_type": "stream",
     "text": [
      "------------------------------####-------------- | 1529/5000 |   8.78 | 0.34       \n",
      "------------------------------####-------------- | 1613/5000 |   9.78 | 0.33       \n",
      "------------------------------#######----------- | 2180/5000 |   7.43 | 0.34       \n",
      "------------------------------#######----------- | 2365/5000 |   7.88 | 0.33       \n",
      "------------------------------#######----------- | 2371/5000 |   7.88 | 0.33       \n",
      "------------------------------#########--------- | 2781/5000 |   9.23 | 0.34       \n",
      "------------------------------#########--------- | 2815/5000 |   9.30 | 0.34       \n",
      "------------------------------#########--------- | 2844/5000 |   9.44 | 0.34       \n",
      "------------------------------##########-------- | 2922/5000 |   9.67 | 0.34       \n",
      "------------------------------##########-------- | 3031/5000 |   9.98 | 0.34       \n",
      "------------------------------##########-------- | 3102/5000 |  10.03 | 0.34       \n",
      "------------------------------###########------- | 3208/5000 |  10.77 | 0.34       \n",
      "0d:02:41:29 | 0d:01:27:09 | #############------- | 3248/5000 |  10.92 | 0.34       \r"
     ]
    },
    {
     "name": "stderr",
     "output_type": "stream",
     "text": [
      "/home/tt21642/dispyprob/pyprob/pyprob/nn/inference_network_feedforward.py:67: UserWarning: Using prior. No proposal for address: 216__forward___traverse___traverse_rec___traverse_rec___traverse_rec___traverse_rec___traverse_rec___traverse_rec___traverse_rec___traverse_rec___traverse_rec___traverse_rec___traverse_rec___traverse_rec___traverse_rec___traverse_rec___traverse_rec__?__Uniform__9\n",
      "  warnings.warn('Using prior. No proposal for address: {}'.format(address))\n",
      "/home/tt21642/dispyprob/pyprob/pyprob/nn/inference_network_feedforward.py:67: UserWarning: Using prior. No proposal for address: 260__forward___traverse___traverse_rec___traverse_rec___traverse_rec___traverse_rec___traverse_rec___traverse_rec___traverse_rec___traverse_rec___traverse_rec___traverse_rec___traverse_rec___traverse_rec___traverse_rec___traverse_rec___traverse_rec__theta_CM_U__Uniform__9\n",
      "  warnings.warn('Using prior. No proposal for address: {}'.format(address))\n",
      "/home/tt21642/dispyprob/pyprob/pyprob/nn/inference_network_feedforward.py:67: UserWarning: Using prior. No proposal for address: 470__forward___traverse___traverse_rec___traverse_rec___traverse_rec___traverse_rec___traverse_rec___traverse_rec___traverse_rec___traverse_rec___traverse_rec___traverse_rec___traverse_rec___traverse_rec___traverse_rec___traverse_rec___traverse_rec__draw_decay_L__TruncatedExponential__9\n",
      "  warnings.warn('Using prior. No proposal for address: {}'.format(address))\n",
      "/home/tt21642/dispyprob/pyprob/pyprob/nn/inference_network_feedforward.py:67: UserWarning: Using prior. No proposal for address: 520__forward___traverse___traverse_rec___traverse_rec___traverse_rec___traverse_rec___traverse_rec___traverse_rec___traverse_rec___traverse_rec___traverse_rec___traverse_rec___traverse_rec___traverse_rec___traverse_rec___traverse_rec___traverse_rec__draw_decay_R__TruncatedExponential__9\n",
      "  warnings.warn('Using prior. No proposal for address: {}'.format(address))\n"
     ]
    },
    {
     "name": "stdout",
     "output_type": "stream",
     "text": [
      "------------------------------###########------- | 3307/5000 |  11.54 | 0.33       \n",
      "------------------------------###########------- | 3342/5000 |  11.79 | 0.33       \n",
      "------------------------------###########------- | 3362/5000 |  11.79 | 0.33       \n",
      "------------------------------############------ | 3580/5000 |  12.41 | 0.33       \n",
      "------------------------------#############----- | 3631/5000 |  12.46 | 0.33       \n",
      "------------------------------#############----- | 3735/5000 |  12.64 | 0.33       \n",
      "------------------------------##############---- | 3900/5000 |  12.79 | 0.33       \n",
      "------------------------------##############---- | 3951/5000 |  13.14 | 0.33       \n",
      "------------------------------##############---- | 3984/5000 |  13.19 | 0.33       \n",
      "------------------------------###############--- | 4258/5000 |  14.30 | 0.33       \n",
      "------------------------------################-- | 4406/5000 |  15.45 | 0.34       \n",
      "------------------------------################-- | 4433/5000 |  15.54 | 0.34       \n",
      "------------------------------################-- | 4454/5000 |  15.56 | 0.34       \n",
      "------------------------------#################- | 4864/5000 |  17.62 | 0.34       \n",
      "------------------------------################## | 4908/5000 |  17.77 | 0.33       \n",
      "0d:04:09:54 | 0d:00:00:02 | #################### | 5000/5000 |  18.72 | 0.33       \r\n",
      "New layers, address: 520__forward___traverse___traverse_rec___traverse_..., distribution: TruncatedExponential\n",
      "New layers, address: 470__forward___traverse___traverse_rec___traverse_..., distribution: TruncatedExponential\n",
      "Total addresses: 695, parameters: 354,456\n",
      "0d:21:53:09 | 1    | 2,900     | +4.89e+01 | +4.70e+01 | \u001b[31m+9.23e+01\u001b[0m | 0d:04:18:05 | +1.00e-03 | 0.9 \r\n",
      "Stop condition reached. num_traces: 500\n",
      "0d:21:55:00 | 1    | 3,000     | +4.89e+01 | +4.70e+01 | \u001b[32m+8.84e+01\u001b[0m | 0d:04:19:56 | +1.00e-03 | 0.9 \r\n",
      "Training iterations 1  epsilon 213.64  ESS 18.5\n",
      "Continuing to train existing inference network...\n",
      "Total number of parameters: 354,456\n",
      "Train. time | Epoch| Trace     | Init. loss| Min. loss | Curr. loss| T.since min | Learn.rate| Traces/sec\n",
      "Time spent  | Time remain.| Progress             | Trace     | ESS    | Traces/sec\n",
      "0d:00:03:40 | 0d:04:07:56 | -------------------- |   73/5000 |   1.92 | 0.33       \r"
     ]
    },
    {
     "name": "stderr",
     "output_type": "stream",
     "text": [
      "/home/tt21642/dispyprob/pyprob/pyprob/nn/inference_network_feedforward.py:67: UserWarning: Using prior. No proposal for address: 216__forward___traverse___traverse_rec___traverse_rec___traverse_rec___traverse_rec___traverse_rec___traverse_rec___traverse_rec___traverse_rec___traverse_rec___traverse_rec___traverse_rec___traverse_rec__?__Uniform__16\n",
      "  warnings.warn('Using prior. No proposal for address: {}'.format(address))\n",
      "/home/tt21642/dispyprob/pyprob/pyprob/nn/inference_network_feedforward.py:67: UserWarning: Using prior. No proposal for address: 260__forward___traverse___traverse_rec___traverse_rec___traverse_rec___traverse_rec___traverse_rec___traverse_rec___traverse_rec___traverse_rec___traverse_rec___traverse_rec___traverse_rec___traverse_rec__theta_CM_U__Uniform__16\n",
      "  warnings.warn('Using prior. No proposal for address: {}'.format(address))\n",
      "/home/tt21642/dispyprob/pyprob/pyprob/nn/inference_network_feedforward.py:67: UserWarning: Using prior. No proposal for address: 470__forward___traverse___traverse_rec___traverse_rec___traverse_rec___traverse_rec___traverse_rec___traverse_rec___traverse_rec___traverse_rec___traverse_rec___traverse_rec___traverse_rec___traverse_rec__draw_decay_L__TruncatedExponential__16\n",
      "  warnings.warn('Using prior. No proposal for address: {}'.format(address))\n",
      "/home/tt21642/dispyprob/pyprob/pyprob/nn/inference_network_feedforward.py:67: UserWarning: Using prior. No proposal for address: 520__forward___traverse___traverse_rec___traverse_rec___traverse_rec___traverse_rec___traverse_rec___traverse_rec___traverse_rec___traverse_rec___traverse_rec___traverse_rec___traverse_rec___traverse_rec__draw_decay_R__TruncatedExponential__16\n",
      "  warnings.warn('Using prior. No proposal for address: {}'.format(address))\n"
     ]
    },
    {
     "name": "stdout",
     "output_type": "stream",
     "text": [
      "------------------------------------------------ |  113/5000 |   2.95 | 0.33       \n",
      "------------------------------------------------ |  347/5000 |   2.17 | 0.33       \n",
      "------------------------------------------------ |  348/5000 |   2.17 | 0.33       \n",
      "------------------------------------------------ |  457/5000 |   2.61 | 0.34       \n",
      "------------------------------------------------ |  488/5000 |   2.70 | 0.34       \n",
      "------------------------------\n",
      "------------------------------------------------ |  605/5000 |   2.81 | 0.33       \n",
      "------------------------------#----------------- |  819/5000 |   3.68 | 0.33       \n",
      "------------------------------##---------------- |  930/5000 |   3.89 | 0.33       \n",
      "------------------------------##---------------- |  953/5000 |   3.89 | 0.33       \n",
      "------------------------------###--------------- | 1132/5000 |   4.03 | 0.33       \n",
      "------------------------------###--------------- | 1253/5000 |   4.19 | 0.33       \n",
      "------------------------------###--------------- | 1350/5000 |   4.89 | 0.33       \n",
      "------------------------------####-------------- | 1402/5000 |   3.61 | 0.33       \n",
      "------------------------------#####------------- | 1649/5000 |   5.47 | 0.33       \n",
      "------------------------------#####------------- | 1727/5000 |   5.48 | 0.33       \n",
      "------------------------------#####------------- | 1841/5000 |   6.12 | 0.33       \n",
      "------------------------------######------------ | 1876/5000 |   6.12 | 0.33       \n",
      "------------------------------######------------ | 2113/5000 |   7.68 | 0.33       \n",
      "------------------------------#######----------- | 2133/5000 |   7.76 | 0.33       \n",
      "------------------------------#########--------- | 2655/5000 |   8.30 | 0.33       \n",
      "------------------------------#########--------- | 2658/5000 |   8.36 | 0.33       \n",
      "------------------------------#########--------- | 2683/5000 |   8.51 | 0.33       \n",
      "------------------------------#########--------- | 2702/5000 |   8.57 | 0.33       \n",
      "------------------------------#########--------- | 2850/5000 |   8.60 | 0.33       \n",
      "------------------------------##########-------- | 2927/5000 |   8.70 | 0.33       \n",
      "------------------------------##########-------- | 3007/5000 |   9.69 | 0.33       \n",
      "------------------------------##########-------- | 3113/5000 |  10.24 | 0.33       \n",
      "------------------------------###########------- | 3143/5000 |  10.24 | 0.33       \n",
      "------------------------------###########------- | 3149/5000 |  10.24 | 0.33       \n",
      "------------------------------###########------- | 3285/5000 |  11.02 | 0.33       \n",
      "0d:02:47:01 | 0d:01:25:01 | #############------- | 3314/5000 |  11.79 | 0.33       \r"
     ]
    },
    {
     "name": "stderr",
     "output_type": "stream",
     "text": [
      "/home/tt21642/dispyprob/pyprob/pyprob/nn/inference_network_feedforward.py:67: UserWarning: Using prior. No proposal for address: 216__forward___traverse___traverse_rec___traverse_rec___traverse_rec___traverse_rec___traverse_rec___traverse_rec___traverse_rec___traverse_rec__?__Uniform__22\n",
      "  warnings.warn('Using prior. No proposal for address: {}'.format(address))\n",
      "/home/tt21642/dispyprob/pyprob/pyprob/nn/inference_network_feedforward.py:67: UserWarning: Using prior. No proposal for address: 260__forward___traverse___traverse_rec___traverse_rec___traverse_rec___traverse_rec___traverse_rec___traverse_rec___traverse_rec___traverse_rec__theta_CM_U__Uniform__22\n",
      "  warnings.warn('Using prior. No proposal for address: {}'.format(address))\n",
      "/home/tt21642/dispyprob/pyprob/pyprob/nn/inference_network_feedforward.py:67: UserWarning: Using prior. No proposal for address: 470__forward___traverse___traverse_rec___traverse_rec___traverse_rec___traverse_rec___traverse_rec___traverse_rec___traverse_rec___traverse_rec__draw_decay_L__TruncatedExponential__22\n",
      "  warnings.warn('Using prior. No proposal for address: {}'.format(address))\n",
      "/home/tt21642/dispyprob/pyprob/pyprob/nn/inference_network_feedforward.py:67: UserWarning: Using prior. No proposal for address: 520__forward___traverse___traverse_rec___traverse_rec___traverse_rec___traverse_rec___traverse_rec___traverse_rec___traverse_rec___traverse_rec__draw_decay_R__TruncatedExponential__22\n",
      "  warnings.warn('Using prior. No proposal for address: {}'.format(address))\n"
     ]
    },
    {
     "name": "stdout",
     "output_type": "stream",
     "text": [
      "------------------------------###########------- | 3371/5000 |  11.98 | 0.33       \n",
      "------------------------------############------ | 3401/5000 |  11.98 | 0.33       \n",
      "------------------------------############------ | 3522/5000 |  12.47 | 0.33       \n",
      "------------------------------##############---- | 3930/5000 |  13.22 | 0.33       \n",
      "------------------------------##############---- | 3951/5000 |  13.40 | 0.33       \n",
      "------------------------------##############---- | 4031/5000 |  13.45 | 0.33       \n",
      "------------------------------###############--- | 4162/5000 |  13.83 | 0.33       \n",
      "------------------------------################-- | 4414/5000 |  14.50 | 0.33       \n",
      "------------------------------#################- | 4845/5000 |  15.92 | 0.33       \n",
      "0d:04:09:16 | 0d:00:01:36 | #################### | 4969/5000 |  16.35 | 0.33       \r"
     ]
    },
    {
     "name": "stderr",
     "output_type": "stream",
     "text": [
      "/home/tt21642/dispyprob/pyprob/pyprob/nn/inference_network_feedforward.py:67: UserWarning: Using prior. No proposal for address: 216__forward___traverse___traverse_rec___traverse_rec___traverse_rec___traverse_rec___traverse_rec___traverse_rec___traverse_rec___traverse_rec___traverse_rec___traverse_rec___traverse_rec___traverse_rec__?__Uniform__17\n",
      "  warnings.warn('Using prior. No proposal for address: {}'.format(address))\n",
      "/home/tt21642/dispyprob/pyprob/pyprob/nn/inference_network_feedforward.py:67: UserWarning: Using prior. No proposal for address: 260__forward___traverse___traverse_rec___traverse_rec___traverse_rec___traverse_rec___traverse_rec___traverse_rec___traverse_rec___traverse_rec___traverse_rec___traverse_rec___traverse_rec___traverse_rec__theta_CM_U__Uniform__17\n",
      "  warnings.warn('Using prior. No proposal for address: {}'.format(address))\n",
      "/home/tt21642/dispyprob/pyprob/pyprob/nn/inference_network_feedforward.py:67: UserWarning: Using prior. No proposal for address: 470__forward___traverse___traverse_rec___traverse_rec___traverse_rec___traverse_rec___traverse_rec___traverse_rec___traverse_rec___traverse_rec___traverse_rec___traverse_rec___traverse_rec___traverse_rec__draw_decay_L__TruncatedExponential__17\n",
      "  warnings.warn('Using prior. No proposal for address: {}'.format(address))\n",
      "/home/tt21642/dispyprob/pyprob/pyprob/nn/inference_network_feedforward.py:67: UserWarning: Using prior. No proposal for address: 520__forward___traverse___traverse_rec___traverse_rec___traverse_rec___traverse_rec___traverse_rec___traverse_rec___traverse_rec___traverse_rec___traverse_rec___traverse_rec___traverse_rec___traverse_rec__draw_decay_R__TruncatedExponential__17\n",
      "  warnings.warn('Using prior. No proposal for address: {}'.format(address))\n",
      "/home/tt21642/dispyprob/pyprob/pyprob/nn/inference_network_feedforward.py:67: UserWarning: Using prior. No proposal for address: 216__forward___traverse___traverse_rec___traverse_rec___traverse_rec___traverse_rec___traverse_rec___traverse_rec___traverse_rec___traverse_rec___traverse_rec___traverse_rec___traverse_rec___traverse_rec__?__Uniform__18\n",
      "  warnings.warn('Using prior. No proposal for address: {}'.format(address))\n",
      "/home/tt21642/dispyprob/pyprob/pyprob/nn/inference_network_feedforward.py:67: UserWarning: Using prior. No proposal for address: 260__forward___traverse___traverse_rec___traverse_rec___traverse_rec___traverse_rec___traverse_rec___traverse_rec___traverse_rec___traverse_rec___traverse_rec___traverse_rec___traverse_rec___traverse_rec__theta_CM_U__Uniform__18\n",
      "  warnings.warn('Using prior. No proposal for address: {}'.format(address))\n",
      "/home/tt21642/dispyprob/pyprob/pyprob/nn/inference_network_feedforward.py:67: UserWarning: Using prior. No proposal for address: 470__forward___traverse___traverse_rec___traverse_rec___traverse_rec___traverse_rec___traverse_rec___traverse_rec___traverse_rec___traverse_rec___traverse_rec___traverse_rec___traverse_rec___traverse_rec__draw_decay_L__TruncatedExponential__18\n",
      "  warnings.warn('Using prior. No proposal for address: {}'.format(address))\n",
      "/home/tt21642/dispyprob/pyprob/pyprob/nn/inference_network_feedforward.py:67: UserWarning: Using prior. No proposal for address: 520__forward___traverse___traverse_rec___traverse_rec___traverse_rec___traverse_rec___traverse_rec___traverse_rec___traverse_rec___traverse_rec___traverse_rec___traverse_rec___traverse_rec___traverse_rec__draw_decay_R__TruncatedExponential__18\n",
      "  warnings.warn('Using prior. No proposal for address: {}'.format(address))\n",
      "/home/tt21642/dispyprob/pyprob/pyprob/nn/inference_network_feedforward.py:67: UserWarning: Using prior. No proposal for address: 216__forward___traverse___traverse_rec___traverse_rec___traverse_rec___traverse_rec___traverse_rec___traverse_rec___traverse_rec___traverse_rec___traverse_rec___traverse_rec___traverse_rec___traverse_rec__?__Uniform__19\n",
      "  warnings.warn('Using prior. No proposal for address: {}'.format(address))\n",
      "/home/tt21642/dispyprob/pyprob/pyprob/nn/inference_network_feedforward.py:67: UserWarning: Using prior. No proposal for address: 260__forward___traverse___traverse_rec___traverse_rec___traverse_rec___traverse_rec___traverse_rec___traverse_rec___traverse_rec___traverse_rec___traverse_rec___traverse_rec___traverse_rec___traverse_rec__theta_CM_U__Uniform__19\n",
      "  warnings.warn('Using prior. No proposal for address: {}'.format(address))\n",
      "/home/tt21642/dispyprob/pyprob/pyprob/nn/inference_network_feedforward.py:67: UserWarning: Using prior. No proposal for address: 470__forward___traverse___traverse_rec___traverse_rec___traverse_rec___traverse_rec___traverse_rec___traverse_rec___traverse_rec___traverse_rec___traverse_rec___traverse_rec___traverse_rec___traverse_rec__draw_decay_L__TruncatedExponential__19\n",
      "  warnings.warn('Using prior. No proposal for address: {}'.format(address))\n",
      "/home/tt21642/dispyprob/pyprob/pyprob/nn/inference_network_feedforward.py:67: UserWarning: Using prior. No proposal for address: 520__forward___traverse___traverse_rec___traverse_rec___traverse_rec___traverse_rec___traverse_rec___traverse_rec___traverse_rec___traverse_rec___traverse_rec___traverse_rec___traverse_rec___traverse_rec__draw_decay_R__TruncatedExponential__19\n",
      "  warnings.warn('Using prior. No proposal for address: {}'.format(address))\n"
     ]
    },
    {
     "name": "stdout",
     "output_type": "stream",
     "text": [
      "0d:04:10:51 | 0d:00:00:03 | #################### | 5000/5000 |  16.36 | 0.33       \r\n",
      "New layers, address: 216__forward___traverse___traverse_rec___traverse_..., distribution: Uniform\n",
      "New layers, address: 260__forward___traverse___traverse_rec___traverse_..., distribution: Uniform\n",
      "New layers, address: 470__forward___traverse___traverse_rec___traverse_..., distribution: TruncatedExponential\n",
      "New layers, address: 520__forward___traverse___traverse_rec___traverse_..., distribution: TruncatedExponential\n",
      "Total addresses: 699, parameters: 356,496\n",
      "1d:02:13:36 | 1    | 3,400     | +4.89e+01 | +4.70e+01 | \u001b[32m+8.23e+01\u001b[0m | 0d:04:18:35 | +1.00e-03 | 0.9 \r\n",
      "Stop condition reached. num_traces: 500\n",
      "1d:02:15:50 | 1    | 3,500     | +4.89e+01 | +4.70e+01 | \u001b[32m+7.50e+01\u001b[0m | 0d:04:20:49 | +1.00e-03 | 0.8 \r\n",
      "Training iterations 1  epsilon 213.64  ESS 15.8\n",
      "Continuing to train existing inference network...\n",
      "Total number of parameters: 356,496\n",
      "Train. time | Epoch| Trace     | Init. loss| Min. loss | Curr. loss| T.since min | Learn.rate| Traces/sec\n",
      "Time spent  | Time remain.| Progress             | Trace     | ESS    | Traces/sec\n",
      "------------------------------------------------ |   61/5000 |   1.97 | 0.36       \n",
      "------------------------------------------------ |   90/5000 |   2.41 | 0.36       \n",
      "------------------------------------------------ |  181/5000 |   4.83 | 0.35       \n",
      "------------------------------------------------ |  242/5000 |   5.15 | 0.35       \n",
      "------------------------------------------------ |  251/5000 |   5.15 | 0.35       \n",
      "------------------------------------------------ |  418/5000 |   7.78 | 0.36       \n",
      "0d:00:26:59 | 0d:03:28:56 | ##------------------ |  572/5000 |   3.59 | 0.35       \r"
     ]
    },
    {
     "name": "stderr",
     "output_type": "stream",
     "text": [
      "/home/tt21642/dispyprob/pyprob/pyprob/nn/inference_network_feedforward.py:67: UserWarning: Using prior. No proposal for address: 216__forward___traverse___traverse_rec___traverse_rec___traverse_rec___traverse_rec___traverse_rec___traverse_rec___traverse_rec___traverse_rec___traverse_rec___traverse_rec___traverse_rec___traverse_rec___traverse_rec___traverse_rec__?__Uniform__11\n",
      "  warnings.warn('Using prior. No proposal for address: {}'.format(address))\n",
      "/home/tt21642/dispyprob/pyprob/pyprob/nn/inference_network_feedforward.py:67: UserWarning: Using prior. No proposal for address: 260__forward___traverse___traverse_rec___traverse_rec___traverse_rec___traverse_rec___traverse_rec___traverse_rec___traverse_rec___traverse_rec___traverse_rec___traverse_rec___traverse_rec___traverse_rec___traverse_rec___traverse_rec__theta_CM_U__Uniform__11\n",
      "  warnings.warn('Using prior. No proposal for address: {}'.format(address))\n",
      "/home/tt21642/dispyprob/pyprob/pyprob/nn/inference_network_feedforward.py:67: UserWarning: Using prior. No proposal for address: 470__forward___traverse___traverse_rec___traverse_rec___traverse_rec___traverse_rec___traverse_rec___traverse_rec___traverse_rec___traverse_rec___traverse_rec___traverse_rec___traverse_rec___traverse_rec___traverse_rec___traverse_rec__draw_decay_L__TruncatedExponential__11\n",
      "  warnings.warn('Using prior. No proposal for address: {}'.format(address))\n",
      "/home/tt21642/dispyprob/pyprob/pyprob/nn/inference_network_feedforward.py:67: UserWarning: Using prior. No proposal for address: 520__forward___traverse___traverse_rec___traverse_rec___traverse_rec___traverse_rec___traverse_rec___traverse_rec___traverse_rec___traverse_rec___traverse_rec___traverse_rec___traverse_rec___traverse_rec___traverse_rec___traverse_rec__draw_decay_R__TruncatedExponential__11\n",
      "  warnings.warn('Using prior. No proposal for address: {}'.format(address))\n"
     ]
    },
    {
     "name": "stdout",
     "output_type": "stream",
     "text": [
      "------------------------------##---------------- |  917/5000 |   3.96 | 0.35       \n",
      "------------------------------###--------------- | 1258/5000 |   6.81 | 0.34       \n",
      "------------------------------###--------------- | 1372/5000 |   6.94 | 0.34       \n",
      "0d:01:15:07 | 0d:02:48:40 | ######-------------- | 1541/5000 |   7.81 | 0.34       \r"
     ]
    },
    {
     "name": "stderr",
     "output_type": "stream",
     "text": [
      "/home/tt21642/dispyprob/pyprob/pyprob/nn/inference_network_feedforward.py:67: UserWarning: Using prior. No proposal for address: 216__forward___traverse___traverse_rec___traverse_rec___traverse_rec___traverse_rec___traverse_rec___traverse_rec___traverse_rec___traverse_rec___traverse_rec___traverse_rec___traverse_rec___traverse_rec___traverse_rec___traverse_rec___traverse_rec___traverse_rec__?__Uniform__9\n",
      "  warnings.warn('Using prior. No proposal for address: {}'.format(address))\n",
      "/home/tt21642/dispyprob/pyprob/pyprob/nn/inference_network_feedforward.py:67: UserWarning: Using prior. No proposal for address: 260__forward___traverse___traverse_rec___traverse_rec___traverse_rec___traverse_rec___traverse_rec___traverse_rec___traverse_rec___traverse_rec___traverse_rec___traverse_rec___traverse_rec___traverse_rec___traverse_rec___traverse_rec___traverse_rec___traverse_rec__theta_CM_U__Uniform__9\n",
      "  warnings.warn('Using prior. No proposal for address: {}'.format(address))\n",
      "/home/tt21642/dispyprob/pyprob/pyprob/nn/inference_network_feedforward.py:67: UserWarning: Using prior. No proposal for address: 470__forward___traverse___traverse_rec___traverse_rec___traverse_rec___traverse_rec___traverse_rec___traverse_rec___traverse_rec___traverse_rec___traverse_rec___traverse_rec___traverse_rec___traverse_rec___traverse_rec___traverse_rec___traverse_rec___traverse_rec__draw_decay_L__TruncatedExponential__9\n",
      "  warnings.warn('Using prior. No proposal for address: {}'.format(address))\n",
      "/home/tt21642/dispyprob/pyprob/pyprob/nn/inference_network_feedforward.py:67: UserWarning: Using prior. No proposal for address: 520__forward___traverse___traverse_rec___traverse_rec___traverse_rec___traverse_rec___traverse_rec___traverse_rec___traverse_rec___traverse_rec___traverse_rec___traverse_rec___traverse_rec___traverse_rec___traverse_rec___traverse_rec___traverse_rec___traverse_rec__draw_decay_R__TruncatedExponential__9\n",
      "  warnings.warn('Using prior. No proposal for address: {}'.format(address))\n",
      "/home/tt21642/dispyprob/pyprob/pyprob/nn/inference_network_feedforward.py:67: UserWarning: Using prior. No proposal for address: 216__forward___traverse___traverse_rec___traverse_rec___traverse_rec___traverse_rec___traverse_rec___traverse_rec___traverse_rec___traverse_rec___traverse_rec___traverse_rec___traverse_rec___traverse_rec___traverse_rec___traverse_rec___traverse_rec___traverse_rec__?__Uniform__10\n",
      "  warnings.warn('Using prior. No proposal for address: {}'.format(address))\n",
      "/home/tt21642/dispyprob/pyprob/pyprob/nn/inference_network_feedforward.py:67: UserWarning: Using prior. No proposal for address: 260__forward___traverse___traverse_rec___traverse_rec___traverse_rec___traverse_rec___traverse_rec___traverse_rec___traverse_rec___traverse_rec___traverse_rec___traverse_rec___traverse_rec___traverse_rec___traverse_rec___traverse_rec___traverse_rec___traverse_rec__theta_CM_U__Uniform__10\n",
      "  warnings.warn('Using prior. No proposal for address: {}'.format(address))\n",
      "/home/tt21642/dispyprob/pyprob/pyprob/nn/inference_network_feedforward.py:67: UserWarning: Using prior. No proposal for address: 470__forward___traverse___traverse_rec___traverse_rec___traverse_rec___traverse_rec___traverse_rec___traverse_rec___traverse_rec___traverse_rec___traverse_rec___traverse_rec___traverse_rec___traverse_rec___traverse_rec___traverse_rec___traverse_rec___traverse_rec__draw_decay_L__TruncatedExponential__10\n",
      "  warnings.warn('Using prior. No proposal for address: {}'.format(address))\n",
      "/home/tt21642/dispyprob/pyprob/pyprob/nn/inference_network_feedforward.py:67: UserWarning: Using prior. No proposal for address: 520__forward___traverse___traverse_rec___traverse_rec___traverse_rec___traverse_rec___traverse_rec___traverse_rec___traverse_rec___traverse_rec___traverse_rec___traverse_rec___traverse_rec___traverse_rec___traverse_rec___traverse_rec___traverse_rec___traverse_rec__draw_decay_R__TruncatedExponential__10\n",
      "  warnings.warn('Using prior. No proposal for address: {}'.format(address))\n",
      "/home/tt21642/dispyprob/pyprob/pyprob/nn/inference_network_feedforward.py:67: UserWarning: Using prior. No proposal for address: 216__forward___traverse___traverse_rec___traverse_rec___traverse_rec___traverse_rec___traverse_rec___traverse_rec___traverse_rec___traverse_rec___traverse_rec___traverse_rec___traverse_rec___traverse_rec___traverse_rec___traverse_rec___traverse_rec___traverse_rec___traverse_rec___traverse_rec__?__Uniform__5\n",
      "  warnings.warn('Using prior. No proposal for address: {}'.format(address))\n",
      "/home/tt21642/dispyprob/pyprob/pyprob/nn/inference_network_feedforward.py:67: UserWarning: Using prior. No proposal for address: 260__forward___traverse___traverse_rec___traverse_rec___traverse_rec___traverse_rec___traverse_rec___traverse_rec___traverse_rec___traverse_rec___traverse_rec___traverse_rec___traverse_rec___traverse_rec___traverse_rec___traverse_rec___traverse_rec___traverse_rec___traverse_rec___traverse_rec__theta_CM_U__Uniform__5\n",
      "  warnings.warn('Using prior. No proposal for address: {}'.format(address))\n",
      "/home/tt21642/dispyprob/pyprob/pyprob/nn/inference_network_feedforward.py:67: UserWarning: Using prior. No proposal for address: 470__forward___traverse___traverse_rec___traverse_rec___traverse_rec___traverse_rec___traverse_rec___traverse_rec___traverse_rec___traverse_rec___traverse_rec___traverse_rec___traverse_rec___traverse_rec___traverse_rec___traverse_rec___traverse_rec___traverse_rec___traverse_rec___traverse_rec__draw_decay_L__TruncatedExponential__5\n",
      "  warnings.warn('Using prior. No proposal for address: {}'.format(address))\n",
      "/home/tt21642/dispyprob/pyprob/pyprob/nn/inference_network_feedforward.py:67: UserWarning: Using prior. No proposal for address: 520__forward___traverse___traverse_rec___traverse_rec___traverse_rec___traverse_rec___traverse_rec___traverse_rec___traverse_rec___traverse_rec___traverse_rec___traverse_rec___traverse_rec___traverse_rec___traverse_rec___traverse_rec___traverse_rec___traverse_rec___traverse_rec___traverse_rec__draw_decay_R__TruncatedExponential__5\n",
      "  warnings.warn('Using prior. No proposal for address: {}'.format(address))\n",
      "/home/tt21642/dispyprob/pyprob/pyprob/nn/inference_network_feedforward.py:67: UserWarning: Using prior. No proposal for address: 216__forward___traverse___traverse_rec___traverse_rec___traverse_rec___traverse_rec___traverse_rec___traverse_rec___traverse_rec___traverse_rec___traverse_rec___traverse_rec___traverse_rec___traverse_rec___traverse_rec___traverse_rec___traverse_rec___traverse_rec__?__Uniform__11\n",
      "  warnings.warn('Using prior. No proposal for address: {}'.format(address))\n",
      "/home/tt21642/dispyprob/pyprob/pyprob/nn/inference_network_feedforward.py:67: UserWarning: Using prior. No proposal for address: 260__forward___traverse___traverse_rec___traverse_rec___traverse_rec___traverse_rec___traverse_rec___traverse_rec___traverse_rec___traverse_rec___traverse_rec___traverse_rec___traverse_rec___traverse_rec___traverse_rec___traverse_rec___traverse_rec___traverse_rec__theta_CM_U__Uniform__11\n",
      "  warnings.warn('Using prior. No proposal for address: {}'.format(address))\n",
      "/home/tt21642/dispyprob/pyprob/pyprob/nn/inference_network_feedforward.py:67: UserWarning: Using prior. No proposal for address: 470__forward___traverse___traverse_rec___traverse_rec___traverse_rec___traverse_rec___traverse_rec___traverse_rec___traverse_rec___traverse_rec___traverse_rec___traverse_rec___traverse_rec___traverse_rec___traverse_rec___traverse_rec___traverse_rec___traverse_rec__draw_decay_L__TruncatedExponential__11\n",
      "  warnings.warn('Using prior. No proposal for address: {}'.format(address))\n",
      "/home/tt21642/dispyprob/pyprob/pyprob/nn/inference_network_feedforward.py:67: UserWarning: Using prior. No proposal for address: 520__forward___traverse___traverse_rec___traverse_rec___traverse_rec___traverse_rec___traverse_rec___traverse_rec___traverse_rec___traverse_rec___traverse_rec___traverse_rec___traverse_rec___traverse_rec___traverse_rec___traverse_rec___traverse_rec___traverse_rec__draw_decay_R__TruncatedExponential__11\n",
      "  warnings.warn('Using prior. No proposal for address: {}'.format(address))\n"
     ]
    },
    {
     "name": "stdout",
     "output_type": "stream",
     "text": [
      "------------------------------####-------------- | 1561/5000 |   7.82 | 0.34       \n",
      "------------------------------#####------------- | 1828/5000 |   9.30 | 0.34       \n",
      "------------------------------#######----------- | 2231/5000 |  10.63 | 0.34       \n",
      "------------------------------########---------- | 2393/5000 |  10.75 | 0.34       \n",
      "------------------------------########---------- | 2563/5000 |  12.14 | 0.34       \n",
      "------------------------------#########--------- | 2656/5000 |  12.66 | 0.34       \n",
      "------------------------------#########--------- | 2673/5000 |  12.66 | 0.34       \n",
      "------------------------------#########--------- | 2676/5000 |  12.66 | 0.34       \n",
      "------------------------------#########--------- | 2683/5000 |  12.74 | 0.34       \n",
      "------------------------------##########-------- | 2885/5000 |  13.12 | 0.34       \n",
      "------------------------------##########-------- | 2887/5000 |  13.12 | 0.34       \n",
      "------------------------------##########-------- | 2905/5000 |  13.23 | 0.34       \n",
      "------------------------------##########-------- | 3008/5000 |  13.62 | 0.34       \n",
      "------------------------------###########------- | 3142/5000 |  14.14 | 0.34       \n",
      "------------------------------###########------- | 3153/5000 |  14.14 | 0.34       \n",
      "------------------------------############------ | 3393/5000 |  16.57 | 0.34       \n",
      "------------------------------############------ | 3482/5000 |  16.62 | 0.33       \n",
      "------------------------------############------ | 3535/5000 |  17.53 | 0.33       \n",
      "------------------------------############------ | 3542/5000 |  17.53 | 0.33       \n",
      "------------------------------#############----- | 3633/5000 |  17.84 | 0.33       \n",
      "------------------------------#############----- | 3692/5000 |  17.88 | 0.33       \n",
      "------------------------------#############----- | 3869/5000 |  18.71 | 0.33       \n",
      "------------------------------##############---- | 3899/5000 |  18.83 | 0.33       \n",
      "------------------------------##############---- | 4056/5000 |  20.23 | 0.33       \n",
      "------------------------------###############--- | 4198/5000 |  21.70 | 0.33       \n",
      "------------------------------###############--- | 4234/5000 |  21.71 | 0.33       \n",
      "------------------------------################-- | 4592/5000 |  13.66 | 0.33       \n",
      "------------------------------################-- | 4605/5000 |  13.66 | 0.33       \n",
      "0d:04:11:11 | 0d:00:00:03 | #################### | 5000/5000 |  13.98 | 0.33       \r\n",
      "New layers, address: 520__forward___traverse___traverse_rec___traverse_..., distribution: TruncatedExponential\n",
      "Total addresses: 700, parameters: 357,006\n",
      "1d:06:35:47 | 1    | 3,900     | +4.89e+01 | +4.70e+01 | \u001b[32m+9.11e+01\u001b[0m | 0d:04:19:57 | +1.00e-03 | 0.6 \r\n",
      "Stop condition reached. num_traces: 500\n",
      "1d:06:37:44 | 1    | 4,000     | +4.89e+01 | +4.70e+01 | \u001b[32m+8.68e+01\u001b[0m | 0d:04:21:54 | +1.00e-03 | 0.9 \r\n",
      "Training iterations 1  epsilon 213.64  ESS 13.6\n",
      "Continuing to train existing inference network...\n",
      "Total number of parameters: 357,006\n",
      "Train. time | Epoch| Trace     | Init. loss| Min. loss | Curr. loss| T.since min | Learn.rate| Traces/sec\n",
      "Time spent  | Time remain.| Progress             | Trace     | ESS    | Traces/sec\n",
      "------------------------------------------------ |   65/5000 |   1.06 | 0.36       \n",
      "------------------------------------------------ |  266/5000 |   4.11 | 0.36       \n",
      "------------------------------#----------------- |  654/5000 |  11.53 | 0.35       \n",
      "------------------------------#----------------- |  666/5000 |  12.92 | 0.35       \n",
      "------------------------------##---------------- |  907/5000 |  15.55 | 0.35       \n",
      "------------------------------###--------------- | 1162/5000 |  20.25 | 0.35       \n",
      "------------------------------#####------------- | 1653/5000 |  10.79 | 0.35       \n",
      "------------------------------######------------ | 1893/5000 |  12.97 | 0.35       \n",
      "------------------------------######------------ | 1947/5000 |  13.88 | 0.35       \n",
      "------------------------------######------------ | 2102/5000 |  14.29 | 0.35       \n",
      "------------------------------#######----------- | 2223/5000 |  16.23 | 0.35       \n",
      "------------------------------########---------- | 2396/5000 |  17.77 | 0.35       \n",
      "------------------------------########---------- | 2439/5000 |  19.58 | 0.35       \n",
      "------------------------------#########--------- | 2631/5000 |  21.40 | 0.34       \n",
      "------------------------------#########--------- | 2744/5000 |  22.45 | 0.34       \n",
      "------------------------------##########-------- | 2880/5000 |  23.53 | 0.34       \n",
      "------------------------------##########-------- | 2929/5000 |  24.87 | 0.34       \n",
      "------------------------------##########-------- | 2994/5000 |  25.12 | 0.34       \n",
      "------------------------------##########-------- | 3023/5000 |  25.65 | 0.34       \n",
      "------------------------------###########------- | 3147/5000 |  26.87 | 0.34       \n",
      "------------------------------###########------- | 3274/5000 |  28.18 | 0.34       \n",
      "------------------------------############------ | 3381/5000 |  28.22 | 0.34       \n",
      "------------------------------############------ | 3462/5000 |  30.66 | 0.34       \n",
      "------------------------------############------ | 3502/5000 |  30.95 | 0.34       \n",
      "------------------------------#############----- | 3649/5000 |  32.53 | 0.34       \n",
      "------------------------------###############--- | 4140/5000 |  23.73 | 0.34       \n",
      "------------------------------################-- | 4384/5000 |  25.71 | 0.34       \n",
      "------------------------------################-- | 4490/5000 |  26.15 | 0.34       \n",
      "------------------------------################-- | 4500/5000 |  26.20 | 0.34       \n",
      "------------------------------################-- | 4531/5000 |  26.50 | 0.34       \n",
      "------------------------------################## | 4992/5000 |  28.97 | 0.34       \n",
      "------------------------------################## | 4996/5000 |  28.97 | 0.34       \n",
      "0d:04:04:42 | 0d:00:00:02 | #################### | 5000/5000 |  28.97 | 0.34       \r\n",
      "New layers, address: 216__forward___traverse___traverse_rec___traverse_..., distribution: Uniforme-03 | 0.0 \n",
      "New layers, address: 260__forward___traverse___traverse_rec___traverse_..., distribution: Uniform\n",
      "New layers, address: 470__forward___traverse___traverse_rec___traverse_..., distribution: TruncatedExponential\n",
      "New layers, address: 520__forward___traverse___traverse_rec___traverse_..., distribution: TruncatedExponential\n",
      "Total addresses: 704, parameters: 359,046\n",
      "1d:10:53:50 | 1    | 4,400     | +4.89e+01 | +4.70e+01 | \u001b[31m+9.95e+01\u001b[0m | 0d:04:16:06 | +1.00e-03 | 0.6 \r\n",
      "Stop condition reached. num_traces: 500\n",
      "1d:10:57:02 | 1    | 4,500     | +4.89e+01 | +4.70e+01 | \u001b[32m+9.69e+01\u001b[0m | 0d:04:19:18 | +1.00e-03 | 0.5 \r\n",
      "Training iterations 1  epsilon 213.64  ESS 26.7\n",
      "Continuing to train existing inference network...\n",
      "Total number of parameters: 359,046\n",
      "Train. time | Epoch| Trace     | Init. loss| Min. loss | Curr. loss| T.since min | Learn.rate| Traces/sec\n",
      "Time spent  | Time remain.| Progress             | Trace     | ESS    | Traces/sec\n",
      "------------------------------------------------ |  554/5000 |   1.04 | 0.35       \n",
      "------------------------------#----------------- |  783/5000 |   1.05 | 0.35       \n",
      "------------------------------###--------------- | 1182/5000 |   1.08 | 0.34       \n",
      "------------------------------####-------------- | 1608/5000 |   1.23 | 0.33       \n",
      "------------------------------####-------------- | 1616/5000 |   1.23 | 0.33       \n",
      "------------------------------#####------------- | 1707/5000 |   1.23 | 0.33       \n",
      "------------------------------######------------ | 1982/5000 |   1.26 | 0.33       \n",
      "------------------------------######------------ | 1984/5000 |   1.26 | 0.33       \n",
      "------------------------------######------------ | 1995/5000 |   1.26 | 0.33       \n",
      "------------------------------######------------ | 2118/5000 |   1.27 | 0.33       \n",
      "------------------------------#######----------- | 2206/5000 |   1.27 | 0.33       \n",
      "------------------------------########---------- | 2539/5000 |   1.31 | 0.33       \n"
     ]
    },
    {
     "name": "stderr",
     "output_type": "stream",
     "text": [
      "/home/tt21642/dispyprob/pyprob/pyprob/nn/inference_network_feedforward.py:67: UserWarning: Using prior. No proposal for address: 216__forward___traverse___traverse_rec___traverse_rec___traverse_rec___traverse_rec___traverse_rec___traverse_rec___traverse_rec___traverse_rec___traverse_rec___traverse_rec___traverse_rec___traverse_rec___traverse_rec___traverse_rec___traverse_rec___traverse_rec___traverse_rec___traverse_rec___traverse_rec__?__Uniform__4\n",
      "  warnings.warn('Using prior. No proposal for address: {}'.format(address))\n",
      "/home/tt21642/dispyprob/pyprob/pyprob/nn/inference_network_feedforward.py:67: UserWarning: Using prior. No proposal for address: 260__forward___traverse___traverse_rec___traverse_rec___traverse_rec___traverse_rec___traverse_rec___traverse_rec___traverse_rec___traverse_rec___traverse_rec___traverse_rec___traverse_rec___traverse_rec___traverse_rec___traverse_rec___traverse_rec___traverse_rec___traverse_rec___traverse_rec___traverse_rec__theta_CM_U__Uniform__4\n",
      "  warnings.warn('Using prior. No proposal for address: {}'.format(address))\n",
      "/home/tt21642/dispyprob/pyprob/pyprob/nn/inference_network_feedforward.py:67: UserWarning: Using prior. No proposal for address: 470__forward___traverse___traverse_rec___traverse_rec___traverse_rec___traverse_rec___traverse_rec___traverse_rec___traverse_rec___traverse_rec___traverse_rec___traverse_rec___traverse_rec___traverse_rec___traverse_rec___traverse_rec___traverse_rec___traverse_rec___traverse_rec___traverse_rec___traverse_rec__draw_decay_L__TruncatedExponential__4\n",
      "  warnings.warn('Using prior. No proposal for address: {}'.format(address))\n",
      "/home/tt21642/dispyprob/pyprob/pyprob/nn/inference_network_feedforward.py:67: UserWarning: Using prior. No proposal for address: 520__forward___traverse___traverse_rec___traverse_rec___traverse_rec___traverse_rec___traverse_rec___traverse_rec___traverse_rec___traverse_rec___traverse_rec___traverse_rec___traverse_rec___traverse_rec___traverse_rec___traverse_rec___traverse_rec___traverse_rec___traverse_rec___traverse_rec___traverse_rec__draw_decay_R__TruncatedExponential__4\n",
      "  warnings.warn('Using prior. No proposal for address: {}'.format(address))\n"
     ]
    },
    {
     "name": "stdout",
     "output_type": "stream",
     "text": [
      "------------------------------#########--------- | 2739/5000 |   1.34 | 0.33       \n",
      "------------------------------#########--------- | 2792/5000 |   1.35 | 0.33       \n",
      "------------------------------##########-------- | 2896/5000 |   2.15 | 0.33       \n",
      "------------------------------##########-------- | 2976/5000 |   2.17 | 0.33       \n",
      "0d:02:30:22 | 0d:01:40:02 | ############-------- | 3003/5000 |   2.17 | 0.33       \r"
     ]
    },
    {
     "name": "stderr",
     "output_type": "stream",
     "text": [
      "/home/tt21642/dispyprob/pyprob/pyprob/nn/inference_network_feedforward.py:67: UserWarning: Using prior. No proposal for address: 216__forward___traverse___traverse_rec___traverse_rec___traverse_rec___traverse_rec___traverse_rec___traverse_rec___traverse_rec___traverse_rec___traverse_rec___traverse_rec___traverse_rec___traverse_rec___traverse_rec___traverse_rec___traverse_rec___traverse_rec___traverse_rec__?__Uniform__7\n",
      "  warnings.warn('Using prior. No proposal for address: {}'.format(address))\n",
      "/home/tt21642/dispyprob/pyprob/pyprob/nn/inference_network_feedforward.py:67: UserWarning: Using prior. No proposal for address: 260__forward___traverse___traverse_rec___traverse_rec___traverse_rec___traverse_rec___traverse_rec___traverse_rec___traverse_rec___traverse_rec___traverse_rec___traverse_rec___traverse_rec___traverse_rec___traverse_rec___traverse_rec___traverse_rec___traverse_rec___traverse_rec__theta_CM_U__Uniform__7\n",
      "  warnings.warn('Using prior. No proposal for address: {}'.format(address))\n",
      "/home/tt21642/dispyprob/pyprob/pyprob/nn/inference_network_feedforward.py:67: UserWarning: Using prior. No proposal for address: 470__forward___traverse___traverse_rec___traverse_rec___traverse_rec___traverse_rec___traverse_rec___traverse_rec___traverse_rec___traverse_rec___traverse_rec___traverse_rec___traverse_rec___traverse_rec___traverse_rec___traverse_rec___traverse_rec___traverse_rec___traverse_rec__draw_decay_L__TruncatedExponential__7\n",
      "  warnings.warn('Using prior. No proposal for address: {}'.format(address))\n",
      "/home/tt21642/dispyprob/pyprob/pyprob/nn/inference_network_feedforward.py:67: UserWarning: Using prior. No proposal for address: 520__forward___traverse___traverse_rec___traverse_rec___traverse_rec___traverse_rec___traverse_rec___traverse_rec___traverse_rec___traverse_rec___traverse_rec___traverse_rec___traverse_rec___traverse_rec___traverse_rec___traverse_rec___traverse_rec___traverse_rec___traverse_rec__draw_decay_R__TruncatedExponential__7\n",
      "  warnings.warn('Using prior. No proposal for address: {}'.format(address))\n",
      "/home/tt21642/dispyprob/pyprob/pyprob/nn/inference_network_feedforward.py:67: UserWarning: Using prior. No proposal for address: 216__forward___traverse___traverse_rec___traverse_rec___traverse_rec___traverse_rec___traverse_rec___traverse_rec___traverse_rec___traverse_rec___traverse_rec___traverse_rec___traverse_rec___traverse_rec___traverse_rec___traverse_rec___traverse_rec___traverse_rec___traverse_rec___traverse_rec__?__Uniform__6\n",
      "  warnings.warn('Using prior. No proposal for address: {}'.format(address))\n",
      "/home/tt21642/dispyprob/pyprob/pyprob/nn/inference_network_feedforward.py:67: UserWarning: Using prior. No proposal for address: 260__forward___traverse___traverse_rec___traverse_rec___traverse_rec___traverse_rec___traverse_rec___traverse_rec___traverse_rec___traverse_rec___traverse_rec___traverse_rec___traverse_rec___traverse_rec___traverse_rec___traverse_rec___traverse_rec___traverse_rec___traverse_rec___traverse_rec__theta_CM_U__Uniform__6\n",
      "  warnings.warn('Using prior. No proposal for address: {}'.format(address))\n",
      "/home/tt21642/dispyprob/pyprob/pyprob/nn/inference_network_feedforward.py:67: UserWarning: Using prior. No proposal for address: 470__forward___traverse___traverse_rec___traverse_rec___traverse_rec___traverse_rec___traverse_rec___traverse_rec___traverse_rec___traverse_rec___traverse_rec___traverse_rec___traverse_rec___traverse_rec___traverse_rec___traverse_rec___traverse_rec___traverse_rec___traverse_rec___traverse_rec__draw_decay_L__TruncatedExponential__6\n",
      "  warnings.warn('Using prior. No proposal for address: {}'.format(address))\n",
      "/home/tt21642/dispyprob/pyprob/pyprob/nn/inference_network_feedforward.py:67: UserWarning: Using prior. No proposal for address: 520__forward___traverse___traverse_rec___traverse_rec___traverse_rec___traverse_rec___traverse_rec___traverse_rec___traverse_rec___traverse_rec___traverse_rec___traverse_rec___traverse_rec___traverse_rec___traverse_rec___traverse_rec___traverse_rec___traverse_rec___traverse_rec___traverse_rec__draw_decay_R__TruncatedExponential__6\n",
      "  warnings.warn('Using prior. No proposal for address: {}'.format(address))\n",
      "/home/tt21642/dispyprob/pyprob/pyprob/nn/inference_network_feedforward.py:67: UserWarning: Using prior. No proposal for address: 216__forward___traverse___traverse_rec___traverse_rec___traverse_rec___traverse_rec___traverse_rec___traverse_rec___traverse_rec___traverse_rec___traverse_rec___traverse_rec___traverse_rec___traverse_rec___traverse_rec___traverse_rec___traverse_rec___traverse_rec___traverse_rec___traverse_rec__?__Uniform__7\n",
      "  warnings.warn('Using prior. No proposal for address: {}'.format(address))\n",
      "/home/tt21642/dispyprob/pyprob/pyprob/nn/inference_network_feedforward.py:67: UserWarning: Using prior. No proposal for address: 260__forward___traverse___traverse_rec___traverse_rec___traverse_rec___traverse_rec___traverse_rec___traverse_rec___traverse_rec___traverse_rec___traverse_rec___traverse_rec___traverse_rec___traverse_rec___traverse_rec___traverse_rec___traverse_rec___traverse_rec___traverse_rec___traverse_rec__theta_CM_U__Uniform__7\n",
      "  warnings.warn('Using prior. No proposal for address: {}'.format(address))\n",
      "/home/tt21642/dispyprob/pyprob/pyprob/nn/inference_network_feedforward.py:67: UserWarning: Using prior. No proposal for address: 470__forward___traverse___traverse_rec___traverse_rec___traverse_rec___traverse_rec___traverse_rec___traverse_rec___traverse_rec___traverse_rec___traverse_rec___traverse_rec___traverse_rec___traverse_rec___traverse_rec___traverse_rec___traverse_rec___traverse_rec___traverse_rec___traverse_rec__draw_decay_L__TruncatedExponential__7\n",
      "  warnings.warn('Using prior. No proposal for address: {}'.format(address))\n",
      "/home/tt21642/dispyprob/pyprob/pyprob/nn/inference_network_feedforward.py:67: UserWarning: Using prior. No proposal for address: 520__forward___traverse___traverse_rec___traverse_rec___traverse_rec___traverse_rec___traverse_rec___traverse_rec___traverse_rec___traverse_rec___traverse_rec___traverse_rec___traverse_rec___traverse_rec___traverse_rec___traverse_rec___traverse_rec___traverse_rec___traverse_rec___traverse_rec__draw_decay_R__TruncatedExponential__7\n",
      "  warnings.warn('Using prior. No proposal for address: {}'.format(address))\n",
      "/home/tt21642/dispyprob/pyprob/pyprob/nn/inference_network_feedforward.py:67: UserWarning: Using prior. No proposal for address: 216__forward___traverse___traverse_rec___traverse_rec___traverse_rec___traverse_rec___traverse_rec___traverse_rec___traverse_rec___traverse_rec___traverse_rec___traverse_rec___traverse_rec___traverse_rec___traverse_rec___traverse_rec___traverse_rec__?__Uniform__10\n",
      "  warnings.warn('Using prior. No proposal for address: {}'.format(address))\n",
      "/home/tt21642/dispyprob/pyprob/pyprob/nn/inference_network_feedforward.py:67: UserWarning: Using prior. No proposal for address: 260__forward___traverse___traverse_rec___traverse_rec___traverse_rec___traverse_rec___traverse_rec___traverse_rec___traverse_rec___traverse_rec___traverse_rec___traverse_rec___traverse_rec___traverse_rec___traverse_rec___traverse_rec___traverse_rec__theta_CM_U__Uniform__10\n",
      "  warnings.warn('Using prior. No proposal for address: {}'.format(address))\n",
      "/home/tt21642/dispyprob/pyprob/pyprob/nn/inference_network_feedforward.py:67: UserWarning: Using prior. No proposal for address: 470__forward___traverse___traverse_rec___traverse_rec___traverse_rec___traverse_rec___traverse_rec___traverse_rec___traverse_rec___traverse_rec___traverse_rec___traverse_rec___traverse_rec___traverse_rec___traverse_rec___traverse_rec___traverse_rec__draw_decay_L__TruncatedExponential__10\n",
      "  warnings.warn('Using prior. No proposal for address: {}'.format(address))\n",
      "/home/tt21642/dispyprob/pyprob/pyprob/nn/inference_network_feedforward.py:67: UserWarning: Using prior. No proposal for address: 520__forward___traverse___traverse_rec___traverse_rec___traverse_rec___traverse_rec___traverse_rec___traverse_rec___traverse_rec___traverse_rec___traverse_rec___traverse_rec___traverse_rec___traverse_rec___traverse_rec___traverse_rec___traverse_rec__draw_decay_R__TruncatedExponential__10\n",
      "  warnings.warn('Using prior. No proposal for address: {}'.format(address))\n"
     ]
    },
    {
     "name": "stdout",
     "output_type": "stream",
     "text": [
      "------------------------------##########-------- | 3018/5000 |   2.18 | 0.33       \n",
      "------------------------------###########------- | 3247/5000 |   2.19 | 0.33       \n",
      "------------------------------###########------- | 3267/5000 |   2.19 | 0.33       \n",
      "------------------------------############------ | 3412/5000 |   2.20 | 0.33       \n",
      "------------------------------############------ | 3491/5000 |   2.23 | 0.33       \n",
      "------------------------------############------ | 3574/5000 |   2.23 | 0.33       \n",
      "------------------------------############------ | 3580/5000 |   2.23 | 0.33       \n",
      "0d:03:05:21 | 0d:01:05:14 | ###############----- | 3699/5000 |   2.28 | 0.33       \r"
     ]
    },
    {
     "name": "stderr",
     "output_type": "stream",
     "text": [
      "/home/tt21642/dispyprob/pyprob/pyprob/nn/inference_network_feedforward.py:67: UserWarning: Using prior. No proposal for address: 216__forward___traverse___traverse_rec___traverse_rec___traverse_rec___traverse_rec___traverse_rec___traverse_rec___traverse_rec___traverse_rec___traverse_rec___traverse_rec___traverse_rec___traverse_rec___traverse_rec___traverse_rec__?__Uniform__12\n",
      "  warnings.warn('Using prior. No proposal for address: {}'.format(address))\n",
      "/home/tt21642/dispyprob/pyprob/pyprob/nn/inference_network_feedforward.py:67: UserWarning: Using prior. No proposal for address: 260__forward___traverse___traverse_rec___traverse_rec___traverse_rec___traverse_rec___traverse_rec___traverse_rec___traverse_rec___traverse_rec___traverse_rec___traverse_rec___traverse_rec___traverse_rec___traverse_rec___traverse_rec__theta_CM_U__Uniform__12\n",
      "  warnings.warn('Using prior. No proposal for address: {}'.format(address))\n",
      "/home/tt21642/dispyprob/pyprob/pyprob/nn/inference_network_feedforward.py:67: UserWarning: Using prior. No proposal for address: 470__forward___traverse___traverse_rec___traverse_rec___traverse_rec___traverse_rec___traverse_rec___traverse_rec___traverse_rec___traverse_rec___traverse_rec___traverse_rec___traverse_rec___traverse_rec___traverse_rec___traverse_rec__draw_decay_L__TruncatedExponential__12\n",
      "  warnings.warn('Using prior. No proposal for address: {}'.format(address))\n",
      "/home/tt21642/dispyprob/pyprob/pyprob/nn/inference_network_feedforward.py:67: UserWarning: Using prior. No proposal for address: 520__forward___traverse___traverse_rec___traverse_rec___traverse_rec___traverse_rec___traverse_rec___traverse_rec___traverse_rec___traverse_rec___traverse_rec___traverse_rec___traverse_rec___traverse_rec___traverse_rec___traverse_rec__draw_decay_R__TruncatedExponential__12\n",
      "  warnings.warn('Using prior. No proposal for address: {}'.format(address))\n"
     ]
    },
    {
     "name": "stdout",
     "output_type": "stream",
     "text": [
      "------------------------------#############----- | 3792/5000 |   2.30 | 0.33       \n",
      "------------------------------#############----- | 3793/5000 |   2.30 | 0.33       \n",
      "------------------------------#############----- | 3865/5000 |   2.30 | 0.33       \n",
      "------------------------------##############---- | 3997/5000 |   2.31 | 0.33       \n",
      "------------------------------##############---- | 4024/5000 |   2.31 | 0.33       \n",
      "------------------------------##############---- | 4027/5000 |   2.31 | 0.33       \n",
      "------------------------------##############---- | 4080/5000 |   2.32 | 0.33       \n",
      "------------------------------###############--- | 4349/5000 |   2.39 | 0.33       \n",
      "0d:03:48:40 | 0d:00:23:53 | ##################-- | 4528/5000 |   2.39 | 0.33       \r"
     ]
    },
    {
     "name": "stderr",
     "output_type": "stream",
     "text": [
      "/home/tt21642/dispyprob/pyprob/pyprob/nn/inference_network_feedforward.py:67: UserWarning: Using prior. No proposal for address: 216__forward___traverse___traverse_rec___traverse_rec___traverse_rec___traverse_rec___traverse_rec___traverse_rec___traverse_rec___traverse_rec___traverse_rec___traverse_rec__?__Uniform__19\n",
      "  warnings.warn('Using prior. No proposal for address: {}'.format(address))\n",
      "/home/tt21642/dispyprob/pyprob/pyprob/nn/inference_network_feedforward.py:67: UserWarning: Using prior. No proposal for address: 260__forward___traverse___traverse_rec___traverse_rec___traverse_rec___traverse_rec___traverse_rec___traverse_rec___traverse_rec___traverse_rec___traverse_rec___traverse_rec__theta_CM_U__Uniform__19\n",
      "  warnings.warn('Using prior. No proposal for address: {}'.format(address))\n",
      "/home/tt21642/dispyprob/pyprob/pyprob/nn/inference_network_feedforward.py:67: UserWarning: Using prior. No proposal for address: 470__forward___traverse___traverse_rec___traverse_rec___traverse_rec___traverse_rec___traverse_rec___traverse_rec___traverse_rec___traverse_rec___traverse_rec___traverse_rec__draw_decay_L__TruncatedExponential__19\n",
      "  warnings.warn('Using prior. No proposal for address: {}'.format(address))\n",
      "/home/tt21642/dispyprob/pyprob/pyprob/nn/inference_network_feedforward.py:67: UserWarning: Using prior. No proposal for address: 520__forward___traverse___traverse_rec___traverse_rec___traverse_rec___traverse_rec___traverse_rec___traverse_rec___traverse_rec___traverse_rec___traverse_rec___traverse_rec__draw_decay_R__TruncatedExponential__19\n",
      "  warnings.warn('Using prior. No proposal for address: {}'.format(address))\n"
     ]
    },
    {
     "name": "stdout",
     "output_type": "stream",
     "text": [
      "------------------------------#################- | 4864/5000 |   2.44 | 0.33       \n",
      "0d:04:12:02 | 0d:00:00:03 | #################### | 5000/5000 |   2.47 | 0.33       \r\n",
      "New layers, address: 216__forward___traverse___traverse_rec___traverse_..., distribution: Uniforme-03 | 0.0 \n",
      "New layers, address: 260__forward___traverse___traverse_rec___traverse_..., distribution: Uniform\n",
      "New layers, address: 470__forward___traverse___traverse_rec___traverse_..., distribution: TruncatedExponential\n",
      "New layers, address: 520__forward___traverse___traverse_rec___traverse_..., distribution: TruncatedExponential\n",
      "Total addresses: 708, parameters: 361,086\n",
      "1d:15:13:38 | 1    | 4,900     | +4.89e+01 | +4.70e+01 | \u001b[32m+1.02e+02\u001b[0m | 0d:04:16:35 | +1.00e-03 | 2.2 \r\n",
      "Stop condition reached. num_traces: 500\n",
      "1d:15:14:19 | 1    | 5,000     | +4.89e+01 | +4.70e+01 | \u001b[31m+1.04e+02\u001b[0m | 0d:04:17:17 | +1.00e-03 | 2.4 \r\n",
      "Training iterations 1  epsilon 213.64  ESS 2.5\n",
      "Continuing to train existing inference network...\n",
      "Total number of parameters: 361,086\n",
      "Train. time | Epoch| Trace     | Init. loss| Min. loss | Curr. loss| T.since min | Learn.rate| Traces/sec\n",
      "Time spent  | Time remain.| Progress             | Trace     | ESS    | Traces/sec\n",
      "------------------------------------------------ |  112/5000 |   6.22 | 0.35       \n",
      "------------------------------------------------ |  157/5000 |   2.76 | 0.35       \n",
      "------------------------------------------------ |  179/5000 |   3.11 | 0.35       \n",
      "------------------------------------------------ |  388/5000 |   2.52 | 0.33       \n",
      "------------------------------------------------ |  524/5000 |   3.37 | 0.34       \n",
      "------------------------------------------------ |  619/5000 |   4.24 | 0.34       \n",
      "------------------------------#----------------- |  756/5000 |   6.07 | 0.34       \n",
      "------------------------------#----------------- |  782/5000 |   6.08 | 0.34       \n",
      "------------------------------#----------------- |  805/5000 |   6.08 | 0.34       \n",
      "------------------------------##---------------- | 1019/5000 |   5.40 | 0.34       \n",
      "------------------------------###--------------- | 1209/5000 |   5.68 | 0.34       \n",
      "------------------------------###--------------- | 1276/5000 |   6.27 | 0.34       \n",
      "------------------------------###--------------- | 1367/5000 |   7.26 | 0.34       \n",
      "------------------------------####-------------- | 1445/5000 |   8.86 | 0.34       \n",
      "------------------------------#####------------- | 1660/5000 |   9.26 | 0.34       \n",
      "------------------------------######------------ | 1881/5000 |  11.61 | 0.34       \n",
      "------------------------------######------------ | 2117/5000 |  11.89 | 0.34       \n",
      "------------------------------#######----------- | 2338/5000 |   4.52 | 0.33       \n",
      "------------------------------#########--------- | 2633/5000 |   6.39 | 0.33       \n",
      "------------------------------#########--------- | 2684/5000 |   6.75 | 0.33       \n",
      "------------------------------#########--------- | 2712/5000 |   6.75 | 0.33       \n",
      "------------------------------#########--------- | 2756/5000 |   6.84 | 0.33       \n",
      "0d:02:21:52 | 0d:01:47:20 | ###########--------- | 2847/5000 |   6.95 | 0.33       \r"
     ]
    },
    {
     "name": "stderr",
     "output_type": "stream",
     "text": [
      "/home/tt21642/dispyprob/pyprob/pyprob/nn/inference_network_feedforward.py:67: UserWarning: Using prior. No proposal for address: 470__forward___traverse___traverse_rec___traverse_rec__draw_decay_L__TruncatedExponential__4\n",
      "  warnings.warn('Using prior. No proposal for address: {}'.format(address))\n"
     ]
    },
    {
     "name": "stdout",
     "output_type": "stream",
     "text": [
      "------------------------------##########-------- | 3017/5000 |   6.98 | 0.33       \n",
      "------------------------------###########------- | 3141/5000 |   7.10 | 0.33       \n",
      "------------------------------###########------- | 3154/5000 |   7.10 | 0.33       \n",
      "------------------------------#############----- | 3773/5000 |   7.51 | 0.33       \n",
      "------------------------------##############---- | 3953/5000 |   7.54 | 0.33       \n",
      "0d:03:24:42 | 0d:00:44:26 | ################---- | 4109/5000 |   7.62 | 0.33       \r"
     ]
    },
    {
     "name": "stderr",
     "output_type": "stream",
     "text": [
      "/home/tt21642/dispyprob/pyprob/pyprob/nn/inference_network_feedforward.py:67: UserWarning: Using prior. No proposal for address: 216__forward___traverse___traverse_rec___traverse_rec___traverse_rec___traverse_rec___traverse_rec__?__Uniform__16\n",
      "  warnings.warn('Using prior. No proposal for address: {}'.format(address))\n",
      "/home/tt21642/dispyprob/pyprob/pyprob/nn/inference_network_feedforward.py:67: UserWarning: Using prior. No proposal for address: 260__forward___traverse___traverse_rec___traverse_rec___traverse_rec___traverse_rec___traverse_rec__theta_CM_U__Uniform__16\n",
      "  warnings.warn('Using prior. No proposal for address: {}'.format(address))\n",
      "/home/tt21642/dispyprob/pyprob/pyprob/nn/inference_network_feedforward.py:67: UserWarning: Using prior. No proposal for address: 470__forward___traverse___traverse_rec___traverse_rec___traverse_rec___traverse_rec___traverse_rec__draw_decay_L__TruncatedExponential__16\n",
      "  warnings.warn('Using prior. No proposal for address: {}'.format(address))\n",
      "/home/tt21642/dispyprob/pyprob/pyprob/nn/inference_network_feedforward.py:67: UserWarning: Using prior. No proposal for address: 520__forward___traverse___traverse_rec___traverse_rec___traverse_rec___traverse_rec___traverse_rec__draw_decay_R__TruncatedExponential__16\n",
      "  warnings.warn('Using prior. No proposal for address: {}'.format(address))\n"
     ]
    },
    {
     "name": "stdout",
     "output_type": "stream",
     "text": [
      "------------------------------###############--- | 4162/5000 |   7.65 | 0.33       \n",
      "------------------------------###############--- | 4182/5000 |   7.65 | 0.33       \n",
      "0d:03:30:37 | 0d:00:38:34 | #################--- | 4227/5000 |   7.66 | 0.33       \r"
     ]
    },
    {
     "name": "stderr",
     "output_type": "stream",
     "text": [
      "/home/tt21642/dispyprob/pyprob/pyprob/nn/inference_network_feedforward.py:67: UserWarning: Using prior. No proposal for address: 216__forward___traverse___traverse_rec___traverse_rec___traverse_rec___traverse_rec___traverse_rec___traverse_rec___traverse_rec___traverse_rec___traverse_rec___traverse_rec___traverse_rec___traverse_rec___traverse_rec__?__Uniform__14\n",
      "  warnings.warn('Using prior. No proposal for address: {}'.format(address))\n",
      "/home/tt21642/dispyprob/pyprob/pyprob/nn/inference_network_feedforward.py:67: UserWarning: Using prior. No proposal for address: 260__forward___traverse___traverse_rec___traverse_rec___traverse_rec___traverse_rec___traverse_rec___traverse_rec___traverse_rec___traverse_rec___traverse_rec___traverse_rec___traverse_rec___traverse_rec___traverse_rec__theta_CM_U__Uniform__14\n",
      "  warnings.warn('Using prior. No proposal for address: {}'.format(address))\n",
      "/home/tt21642/dispyprob/pyprob/pyprob/nn/inference_network_feedforward.py:67: UserWarning: Using prior. No proposal for address: 470__forward___traverse___traverse_rec___traverse_rec___traverse_rec___traverse_rec___traverse_rec___traverse_rec___traverse_rec___traverse_rec___traverse_rec___traverse_rec___traverse_rec___traverse_rec___traverse_rec__draw_decay_L__TruncatedExponential__14\n",
      "  warnings.warn('Using prior. No proposal for address: {}'.format(address))\n",
      "/home/tt21642/dispyprob/pyprob/pyprob/nn/inference_network_feedforward.py:67: UserWarning: Using prior. No proposal for address: 520__forward___traverse___traverse_rec___traverse_rec___traverse_rec___traverse_rec___traverse_rec___traverse_rec___traverse_rec___traverse_rec___traverse_rec___traverse_rec___traverse_rec___traverse_rec___traverse_rec__draw_decay_R__TruncatedExponential__14\n",
      "  warnings.warn('Using prior. No proposal for address: {}'.format(address))\n",
      "/home/tt21642/dispyprob/pyprob/pyprob/nn/inference_network_feedforward.py:67: UserWarning: Using prior. No proposal for address: 216__forward___traverse___traverse_rec___traverse_rec___traverse_rec___traverse_rec___traverse_rec___traverse_rec___traverse_rec___traverse_rec___traverse_rec___traverse_rec___traverse_rec___traverse_rec___traverse_rec__?__Uniform__15\n",
      "  warnings.warn('Using prior. No proposal for address: {}'.format(address))\n",
      "/home/tt21642/dispyprob/pyprob/pyprob/nn/inference_network_feedforward.py:67: UserWarning: Using prior. No proposal for address: 260__forward___traverse___traverse_rec___traverse_rec___traverse_rec___traverse_rec___traverse_rec___traverse_rec___traverse_rec___traverse_rec___traverse_rec___traverse_rec___traverse_rec___traverse_rec___traverse_rec__theta_CM_U__Uniform__15\n",
      "  warnings.warn('Using prior. No proposal for address: {}'.format(address))\n",
      "/home/tt21642/dispyprob/pyprob/pyprob/nn/inference_network_feedforward.py:67: UserWarning: Using prior. No proposal for address: 470__forward___traverse___traverse_rec___traverse_rec___traverse_rec___traverse_rec___traverse_rec___traverse_rec___traverse_rec___traverse_rec___traverse_rec___traverse_rec___traverse_rec___traverse_rec___traverse_rec__draw_decay_L__TruncatedExponential__15\n",
      "  warnings.warn('Using prior. No proposal for address: {}'.format(address))\n",
      "/home/tt21642/dispyprob/pyprob/pyprob/nn/inference_network_feedforward.py:67: UserWarning: Using prior. No proposal for address: 520__forward___traverse___traverse_rec___traverse_rec___traverse_rec___traverse_rec___traverse_rec___traverse_rec___traverse_rec___traverse_rec___traverse_rec___traverse_rec___traverse_rec___traverse_rec___traverse_rec__draw_decay_R__TruncatedExponential__15\n",
      "  warnings.warn('Using prior. No proposal for address: {}'.format(address))\n"
     ]
    },
    {
     "name": "stdout",
     "output_type": "stream",
     "text": [
      "------------------------------################-- | 4485/5000 |   7.79 | 0.33       \n",
      "------------------------------################-- | 4575/5000 |   8.12 | 0.33       \n",
      "------------------------------#################- | 4785/5000 |   9.42 | 0.33       \n",
      "0d:04:10:21 | 0d:00:00:03 | #################### | 5000/5000 |   9.53 | 0.33       \r\n",
      "New layers, address: 216__forward___traverse___traverse_rec___traverse_..., distribution: Uniforme-03 | 0.0 \n",
      "New layers, address: 260__forward___traverse___traverse_rec___traverse_..., distribution: Uniform\n",
      "New layers, address: 470__forward___traverse___traverse_rec___traverse_..., distribution: TruncatedExponential\n",
      "New layers, address: 520__forward___traverse___traverse_rec___traverse_..., distribution: TruncatedExponential\n",
      "New layers, address: 216__forward___traverse___traverse_rec___traverse_..., distribution: Uniform\n",
      "New layers, address: 260__forward___traverse___traverse_rec___traverse_..., distribution: Uniform\n",
      "New layers, address: 470__forward___traverse___traverse_rec___traverse_..., distribution: TruncatedExponential\n",
      "New layers, address: 520__forward___traverse___traverse_rec___traverse_..., distribution: TruncatedExponential\n",
      "New layers, address: 216__forward___traverse___traverse_rec___traverse_..., distribution: Uniform\n",
      "New layers, address: 260__forward___traverse___traverse_rec___traverse_..., distribution: Uniform\n",
      "New layers, address: 470__forward___traverse___traverse_rec___traverse_..., distribution: TruncatedExponential\n",
      "New layers, address: 520__forward___traverse___traverse_rec___traverse_..., distribution: TruncatedExponential\n",
      "New layers, address: 216__forward___traverse___traverse_rec___traverse_..., distribution: Uniform\n",
      "New layers, address: 260__forward___traverse___traverse_rec___traverse_..., distribution: Uniform\n",
      "New layers, address: 470__forward___traverse___traverse_rec___traverse_..., distribution: TruncatedExponential\n",
      "New layers, address: 520__forward___traverse___traverse_rec___traverse_..., distribution: TruncatedExponential\n",
      "Total addresses: 724, parameters: 369,246\n",
      "New layers, address: 216__forward___traverse___traverse_rec___traverse_..., distribution: Uniforme-03 | 0.9 \n",
      "New layers, address: 260__forward___traverse___traverse_rec___traverse_..., distribution: Uniform\n",
      "New layers, address: 470__forward___traverse___traverse_rec___traverse_..., distribution: TruncatedExponential\n",
      "New layers, address: 520__forward___traverse___traverse_rec___traverse_..., distribution: TruncatedExponential\n",
      "New layers, address: 216__forward___traverse___traverse_rec___traverse_..., distribution: Uniform\n",
      "New layers, address: 260__forward___traverse___traverse_rec___traverse_..., distribution: Uniform\n",
      "New layers, address: 470__forward___traverse___traverse_rec___traverse_..., distribution: TruncatedExponential\n",
      "New layers, address: 520__forward___traverse___traverse_rec___traverse_..., distribution: TruncatedExponential\n",
      "New layers, address: 216__forward___traverse___traverse_rec___traverse_..., distribution: Uniform\n",
      "New layers, address: 260__forward___traverse___traverse_rec___traverse_..., distribution: Uniform\n",
      "New layers, address: 470__forward___traverse___traverse_rec___traverse_..., distribution: TruncatedExponential\n",
      "New layers, address: 520__forward___traverse___traverse_rec___traverse_..., distribution: TruncatedExponential\n",
      "New layers, address: 216__forward___traverse___traverse_rec___traverse_..., distribution: Uniform\n",
      "New layers, address: 260__forward___traverse___traverse_rec___traverse_..., distribution: Uniform\n",
      "New layers, address: 470__forward___traverse___traverse_rec___traverse_..., distribution: TruncatedExponential\n",
      "New layers, address: 520__forward___traverse___traverse_rec___traverse_..., distribution: TruncatedExponential\n",
      "Total addresses: 740, parameters: 377,406\n",
      "1d:19:31:44 | 1    | 5,400     | +4.89e+01 | +4.70e+01 | \u001b[31m+1.08e+02\u001b[0m | 0d:04:17:24 | +1.00e-03 | 0.9 \r\n",
      "Stop condition reached. num_traces: 500\n",
      "1d:19:33:25 | 1    | 5,500     | +4.89e+01 | +4.70e+01 | \u001b[32m+1.06e+02\u001b[0m | 0d:04:19:06 | +1.00e-03 | 1.0 \r\n",
      "Training iterations 1  epsilon 213.64  ESS 9.3\n",
      "Continuing to train existing inference network...\n",
      "Total number of parameters: 377,406\n",
      "Train. time | Epoch| Trace     | Init. loss| Min. loss | Curr. loss| T.since min | Learn.rate| Traces/sec\n",
      "Time spent  | Time remain.| Progress             | Trace     | ESS    | Traces/sec\n",
      "------------------------------------------------ |  226/5000 |   4.03 | 0.35       \n",
      "------------------------------#----------------- |  764/5000 |   9.42 | 0.34       \n",
      "------------------------------#----------------- |  785/5000 |   9.80 | 0.34       \n",
      "------------------------------##---------------- | 1124/5000 |  14.94 | 0.34       \n",
      "------------------------------###--------------- | 1318/5000 |  19.61 | 0.34       \n",
      "------------------------------####-------------- | 1428/5000 |  21.37 | 0.34       \n",
      "------------------------------####-------------- | 1450/5000 |  21.93 | 0.34       \n",
      "------------------------------#####------------- | 1708/5000 |  23.80 | 0.34       \n",
      "------------------------------#####------------- | 1799/5000 |  24.29 | 0.34       \n",
      "------------------------------######------------ | 1897/5000 |  28.52 | 0.34       \n",
      "------------------------------#######----------- | 2222/5000 |  30.25 | 0.34       \n",
      "------------------------------#######----------- | 2355/5000 |  31.10 | 0.34       \n",
      "------------------------------#########--------- | 2760/5000 |  15.17 | 0.34       \n",
      "------------------------------#########--------- | 2866/5000 |  16.52 | 0.34       \n",
      "------------------------------##########-------- | 3065/5000 |  16.90 | 0.34       \n",
      "------------------------------##########-------- | 3087/5000 |  16.92 | 0.34       \n",
      "------------------------------##########-------- | 3113/5000 |  17.10 | 0.34       \n",
      "0d:02:36:16 | 0d:01:31:26 | #############------- | 3155/5000 |  17.40 | 0.34       \r"
     ]
    },
    {
     "name": "stderr",
     "output_type": "stream",
     "text": [
      "/home/tt21642/dispyprob/pyprob/pyprob/nn/inference_network_feedforward.py:67: UserWarning: Using prior. No proposal for address: 216__forward___traverse___traverse_rec___traverse_rec___traverse_rec___traverse_rec___traverse_rec___traverse_rec___traverse_rec___traverse_rec__?__Uniform__23\n",
      "  warnings.warn('Using prior. No proposal for address: {}'.format(address))\n",
      "/home/tt21642/dispyprob/pyprob/pyprob/nn/inference_network_feedforward.py:67: UserWarning: Using prior. No proposal for address: 260__forward___traverse___traverse_rec___traverse_rec___traverse_rec___traverse_rec___traverse_rec___traverse_rec___traverse_rec___traverse_rec__theta_CM_U__Uniform__23\n",
      "  warnings.warn('Using prior. No proposal for address: {}'.format(address))\n",
      "/home/tt21642/dispyprob/pyprob/pyprob/nn/inference_network_feedforward.py:67: UserWarning: Using prior. No proposal for address: 470__forward___traverse___traverse_rec___traverse_rec___traverse_rec___traverse_rec___traverse_rec___traverse_rec___traverse_rec___traverse_rec__draw_decay_L__TruncatedExponential__23\n",
      "  warnings.warn('Using prior. No proposal for address: {}'.format(address))\n",
      "/home/tt21642/dispyprob/pyprob/pyprob/nn/inference_network_feedforward.py:67: UserWarning: Using prior. No proposal for address: 520__forward___traverse___traverse_rec___traverse_rec___traverse_rec___traverse_rec___traverse_rec___traverse_rec___traverse_rec___traverse_rec__draw_decay_R__TruncatedExponential__23\n",
      "  warnings.warn('Using prior. No proposal for address: {}'.format(address))\n",
      "/home/tt21642/dispyprob/pyprob/pyprob/nn/inference_network_feedforward.py:67: UserWarning: Using prior. No proposal for address: 216__forward___traverse___traverse_rec___traverse_rec___traverse_rec___traverse_rec___traverse_rec___traverse_rec___traverse_rec___traverse_rec__?__Uniform__24\n",
      "  warnings.warn('Using prior. No proposal for address: {}'.format(address))\n",
      "/home/tt21642/dispyprob/pyprob/pyprob/nn/inference_network_feedforward.py:67: UserWarning: Using prior. No proposal for address: 260__forward___traverse___traverse_rec___traverse_rec___traverse_rec___traverse_rec___traverse_rec___traverse_rec___traverse_rec___traverse_rec__theta_CM_U__Uniform__24\n",
      "  warnings.warn('Using prior. No proposal for address: {}'.format(address))\n",
      "/home/tt21642/dispyprob/pyprob/pyprob/nn/inference_network_feedforward.py:67: UserWarning: Using prior. No proposal for address: 470__forward___traverse___traverse_rec___traverse_rec___traverse_rec___traverse_rec___traverse_rec___traverse_rec___traverse_rec___traverse_rec__draw_decay_L__TruncatedExponential__24\n",
      "  warnings.warn('Using prior. No proposal for address: {}'.format(address))\n",
      "/home/tt21642/dispyprob/pyprob/pyprob/nn/inference_network_feedforward.py:67: UserWarning: Using prior. No proposal for address: 520__forward___traverse___traverse_rec___traverse_rec___traverse_rec___traverse_rec___traverse_rec___traverse_rec___traverse_rec___traverse_rec__draw_decay_R__TruncatedExponential__24\n",
      "  warnings.warn('Using prior. No proposal for address: {}'.format(address))\n"
     ]
    },
    {
     "name": "stdout",
     "output_type": "stream",
     "text": [
      "------------------------------###########------- | 3261/5000 |  18.89 | 0.34       \n",
      "------------------------------############------ | 3407/5000 |  19.84 | 0.34       \n",
      "------------------------------############------ | 3535/5000 |  20.76 | 0.33       \n",
      "0d:02:59:48 | 0d:01:10:36 | ##############------ | 3591/5000 |  20.81 | 0.33       \r"
     ]
    },
    {
     "name": "stderr",
     "output_type": "stream",
     "text": [
      "/home/tt21642/dispyprob/pyprob/pyprob/nn/inference_network_feedforward.py:67: UserWarning: Using prior. No proposal for address: 470__forward___traverse___traverse_rec___traverse_rec___traverse_rec___traverse_rec___traverse_rec___traverse_rec__draw_decay_L__TruncatedExponential__21\n",
      "  warnings.warn('Using prior. No proposal for address: {}'.format(address))\n"
     ]
    },
    {
     "name": "stdout",
     "output_type": "stream",
     "text": [
      "------------------------------#############----- | 3633/5000 |  20.81 | 0.33       \n",
      "0d:03:04:18 | 0d:01:06:01 | ###############----- | 3682/5000 |  20.90 | 0.33       \r"
     ]
    },
    {
     "name": "stderr",
     "output_type": "stream",
     "text": [
      "/home/tt21642/dispyprob/pyprob/pyprob/nn/inference_network_feedforward.py:67: UserWarning: Using prior. No proposal for address: 216__forward___traverse___traverse_rec___traverse_rec___traverse_rec___traverse_rec___traverse_rec___traverse_rec___traverse_rec___traverse_rec___traverse_rec___traverse_rec___traverse_rec___traverse_rec___traverse_rec___traverse_rec___traverse_rec___traverse_rec___traverse_rec___traverse_rec___traverse_rec___traverse_rec__?__Uniform__3\n",
      "  warnings.warn('Using prior. No proposal for address: {}'.format(address))\n",
      "/home/tt21642/dispyprob/pyprob/pyprob/nn/inference_network_feedforward.py:67: UserWarning: Using prior. No proposal for address: 260__forward___traverse___traverse_rec___traverse_rec___traverse_rec___traverse_rec___traverse_rec___traverse_rec___traverse_rec___traverse_rec___traverse_rec___traverse_rec___traverse_rec___traverse_rec___traverse_rec___traverse_rec___traverse_rec___traverse_rec___traverse_rec___traverse_rec___traverse_rec___traverse_rec__theta_CM_U__Uniform__3\n",
      "  warnings.warn('Using prior. No proposal for address: {}'.format(address))\n",
      "/home/tt21642/dispyprob/pyprob/pyprob/nn/inference_network_feedforward.py:67: UserWarning: Using prior. No proposal for address: 470__forward___traverse___traverse_rec___traverse_rec___traverse_rec___traverse_rec___traverse_rec___traverse_rec___traverse_rec___traverse_rec___traverse_rec___traverse_rec___traverse_rec___traverse_rec___traverse_rec___traverse_rec___traverse_rec___traverse_rec___traverse_rec___traverse_rec___traverse_rec___traverse_rec__draw_decay_L__TruncatedExponential__3\n",
      "  warnings.warn('Using prior. No proposal for address: {}'.format(address))\n",
      "/home/tt21642/dispyprob/pyprob/pyprob/nn/inference_network_feedforward.py:67: UserWarning: Using prior. No proposal for address: 520__forward___traverse___traverse_rec___traverse_rec___traverse_rec___traverse_rec___traverse_rec___traverse_rec___traverse_rec___traverse_rec___traverse_rec___traverse_rec___traverse_rec___traverse_rec___traverse_rec___traverse_rec___traverse_rec___traverse_rec___traverse_rec___traverse_rec___traverse_rec___traverse_rec__draw_decay_R__TruncatedExponential__3\n",
      "  warnings.warn('Using prior. No proposal for address: {}'.format(address))\n"
     ]
    },
    {
     "name": "stdout",
     "output_type": "stream",
     "text": [
      "------------------------------#############----- | 3849/5000 |  21.57 | 0.33       \n",
      "------------------------------##############---- | 3986/5000 |  22.15 | 0.33       \n",
      "------------------------------###############--- | 4129/5000 |  22.67 | 0.33       \n",
      "------------------------------###############--- | 4257/5000 |  23.43 | 0.33       \n",
      "------------------------------################-- | 4412/5000 |  23.94 | 0.33       \n",
      "------------------------------################-- | 4615/5000 |  26.52 | 0.33       \n",
      "------------------------------#################- | 4707/5000 |  26.65 | 0.33       \n",
      "------------------------------#################- | 4745/5000 |  26.69 | 0.33       \n",
      "------------------------------################## | 4937/5000 |  28.38 | 0.33       \n",
      "0d:04:11:27 | 0d:00:00:03 | #################### | 5000/5000 |  28.52 | 0.33       \r\n",
      "1d:23:56:12 | 1    | 5,900     | +4.89e+01 | +4.70e+01 | \u001b[32m+1.04e+02\u001b[0m | 0d:04:22:46 | +1.00e-03 | 0.5 \r\n",
      "Stop condition reached. num_traces: 500\n",
      "1d:23:59:19 | 1    | 6,000     | +4.89e+01 | +4.70e+01 | \u001b[31m+1.07e+02\u001b[0m | 0d:04:25:53 | +1.00e-03 | 0.5 \r\n",
      "Training iterations 1  epsilon 213.64  ESS 27.6\n",
      "Continuing to train existing inference network...\n",
      "Total number of parameters: 377,406\n",
      "Train. time | Epoch| Trace     | Init. loss| Min. loss | Curr. loss| T.since min | Learn.rate| Traces/sec\n",
      "Time spent  | Time remain.| Progress             | Trace     | ESS    | Traces/sec\n",
      "------------------------------------------------ |   51/5000 |   2.54 | 0.32       \n",
      "------------------------------------------------ |  176/5000 |   4.60 | 0.34       \n",
      "------------------------------------------------ |  231/5000 |   7.61 | 0.34       \n",
      "------------------------------------------------ |  379/5000 |   9.42 | 0.35       \n",
      "------------------------------##---------------- |  960/5000 |  10.81 | 0.34       \n",
      "------------------------------##---------------- | 1017/5000 |  10.95 | 0.34       \n",
      "------------------------------###--------------- | 1179/5000 |  12.67 | 0.33       \n",
      "------------------------------###--------------- | 1230/5000 |   5.84 | 0.33       \n",
      "------------------------------####-------------- | 1387/5000 |   6.86 | 0.33       \n",
      "------------------------------####-------------- | 1418/5000 |   6.87 | 0.33       \n",
      "------------------------------####-------------- | 1493/5000 |   7.04 | 0.33       \n",
      "------------------------------####-------------- | 1530/5000 |   7.04 | 0.33       \n",
      "------------------------------####-------------- | 1577/5000 |   4.49 | 0.33       \n",
      "------------------------------####-------------- | 1579/5000 |   4.49 | 0.33       \n",
      "------------------------------#####------------- | 1692/5000 |   4.54 | 0.33       \n",
      "------------------------------#####------------- | 1729/5000 |   4.56 | 0.33       \n",
      "------------------------------#####------------- | 1770/5000 |   4.56 | 0.33       \n",
      "------------------------------#####------------- | 1866/5000 |   4.72 | 0.33       \n",
      "------------------------------######------------ | 2044/5000 |   5.95 | 0.32       \n",
      "------------------------------########---------- | 2429/5000 |   7.35 | 0.33       \n",
      "------------------------------########---------- | 2481/5000 |   7.36 | 0.33       \n",
      "------------------------------########---------- | 2621/5000 |   7.45 | 0.33       \n",
      "------------------------------#########--------- | 2745/5000 |   7.48 | 0.33       \n",
      "------------------------------##########-------- | 2971/5000 |   7.62 | 0.33       \n",
      "------------------------------##########-------- | 3096/5000 |   7.71 | 0.33       \n",
      "------------------------------##########-------- | 3115/5000 |   7.71 | 0.33       \n",
      "------------------------------###########------- | 3136/5000 |   7.71 | 0.33       \n",
      "------------------------------###########------- | 3207/5000 |   8.70 | 0.33       \n",
      "------------------------------###########------- | 3258/5000 |   8.80 | 0.33       \n",
      "------------------------------############------ | 3406/5000 |   8.94 | 0.33       \n",
      "------------------------------############------ | 3463/5000 |   8.96 | 0.33       \n",
      "------------------------------############------ | 3598/5000 |   9.27 | 0.33       \n",
      "------------------------------#############----- | 3802/5000 |   9.50 | 0.33       \n",
      "------------------------------#############----- | 3855/5000 |   9.54 | 0.33       \n",
      "------------------------------##############---- | 3955/5000 |   9.58 | 0.33       \n",
      "------------------------------###############--- | 4207/5000 |  11.04 | 0.33       \n",
      "------------------------------###############--- | 4336/5000 |  11.38 | 0.33       \n",
      "------------------------------################-- | 4471/5000 |  11.72 | 0.33       \n",
      "------------------------------################-- | 4591/5000 |  11.85 | 0.33       \n",
      "------------------------------################-- | 4614/5000 |  11.86 | 0.33       \n",
      "0d:04:01:27 | 0d:00:12:26 | ###################- | 4756/5000 |  12.79 | 0.33       \r"
     ]
    },
    {
     "name": "stderr",
     "output_type": "stream",
     "text": [
      "/home/tt21642/dispyprob/pyprob/pyprob/nn/inference_network_feedforward.py:67: UserWarning: Using prior. No proposal for address: 470__forward___traverse___traverse_rec___traverse_rec___traverse_rec___traverse_rec__draw_decay_L__TruncatedExponential__10\n",
      "  warnings.warn('Using prior. No proposal for address: {}'.format(address))\n"
     ]
    },
    {
     "name": "stdout",
     "output_type": "stream",
     "text": [
      "------------------------------#################- | 4766/5000 |  12.79 | 0.33       \n",
      "------------------------------#################- | 4864/5000 |  13.09 | 0.33       \n",
      "------------------------------#################- | 4871/5000 |  13.11 | 0.33       \n",
      "0d:04:13:40 | 0d:00:00:03 | #################### | 5000/5000 |  13.57 | 0.33       \r\n",
      "2d:04:19:48 | 1    | 6,400     | +4.89e+01 | +4.70e+01 | \u001b[32m+8.49e+01\u001b[0m | 0d:04:20:29 | +1.00e-03 | 0.9 \r\n",
      "Stop condition reached. num_traces: 500\n",
      "2d:04:21:40 | 1    | 6,500     | +4.89e+01 | +4.70e+01 | \u001b[31m+8.56e+01\u001b[0m | 0d:04:22:21 | +1.00e-03 | 0.9 \r\n",
      "Training iterations 1  epsilon 213.64  ESS 13.3\n",
      "Continuing to train existing inference network...\n",
      "Total number of parameters: 377,406\n",
      "Train. time | Epoch| Trace     | Init. loss| Min. loss | Curr. loss| T.since min | Learn.rate| Traces/sec\n",
      "Time spent  | Time remain.| Progress             | Trace     | ESS    | Traces/sec\n",
      "------------------------------------------------ |   15/5000 |   1.00 | 0.36       \n",
      "------------------------------------------------ |   37/5000 |   1.37 | 0.36       \n",
      "------------------------------------------------ |  164/5000 |   3.31 | 0.35       \n",
      "------------------------------------------------ |  195/5000 |   3.69 | 0.35       \n",
      "------------------------------------------------ |  219/5000 |   3.96 | 0.35       \n",
      "------------------------------------------------ |  586/5000 |  11.03 | 0.35       \n",
      "------------------------------#----------------- |  733/5000 |  13.00 | 0.35       \n",
      "------------------------------#----------------- |  764/5000 |  13.03 | 0.35       \n",
      "------------------------------##---------------- | 1038/5000 |   1.20 | 0.35       \n",
      "------------------------------###--------------- | 1196/5000 |   1.23 | 0.34       \n",
      "------------------------------###--------------- | 1283/5000 |   1.24 | 0.34       \n",
      "------------------------------####-------------- | 1506/5000 |   1.32 | 0.34       \n",
      "------------------------------####-------------- | 1517/5000 |   1.32 | 0.34       \n",
      "------------------------------#####------------- | 1672/5000 |   1.33 | 0.34       \n",
      "------------------------------#####------------- | 1739/5000 |   1.33 | 0.34       \n",
      "------------------------------######------------ | 1881/5000 |   1.34 | 0.34       \n",
      "------------------------------#######----------- | 2296/5000 |   1.84 | 0.34       \n",
      "------------------------------#######----------- | 2364/5000 |   1.84 | 0.34       \n",
      "------------------------------########---------- | 2490/5000 |   1.89 | 0.34       \n",
      "------------------------------#########--------- | 2669/5000 |   1.98 | 0.34       \n",
      "------------------------------#########--------- | 2775/5000 |   2.00 | 0.34       \n",
      "------------------------------##########-------- | 2940/5000 |   2.02 | 0.34       \n",
      "------------------------------##########-------- | 3042/5000 |   2.13 | 0.34       \n",
      "------------------------------###########------- | 3143/5000 |   2.14 | 0.34       \n",
      "------------------------------###########------- | 3339/5000 |   2.20 | 0.34       \n",
      "------------------------------############------ | 3450/5000 |   2.22 | 0.34       \n",
      "------------------------------############------ | 3505/5000 |   2.23 | 0.34       \n",
      "------------------------------#############----- | 3696/5000 |   2.34 | 0.34       \n",
      "------------------------------##############---- | 3965/5000 |   2.53 | 0.34       \n",
      "------------------------------##############---- | 3980/5000 |   2.89 | 0.34       \n",
      "------------------------------###############--- | 4191/5000 |   3.00 | 0.34       \n",
      "0d:03:34:03 | 0d:00:33:13 | #################--- | 4329/5000 |   3.05 | 0.34       \r"
     ]
    },
    {
     "name": "stderr",
     "output_type": "stream",
     "text": [
      "/home/tt21642/dispyprob/pyprob/pyprob/nn/inference_network_feedforward.py:67: UserWarning: Using prior. No proposal for address: 216__forward___traverse___traverse_rec___traverse_rec___traverse_rec___traverse_rec___traverse_rec___traverse_rec___traverse_rec___traverse_rec___traverse_rec__?__Uniform__21\n",
      "  warnings.warn('Using prior. No proposal for address: {}'.format(address))\n",
      "/home/tt21642/dispyprob/pyprob/pyprob/nn/inference_network_feedforward.py:67: UserWarning: Using prior. No proposal for address: 260__forward___traverse___traverse_rec___traverse_rec___traverse_rec___traverse_rec___traverse_rec___traverse_rec___traverse_rec___traverse_rec___traverse_rec__theta_CM_U__Uniform__21\n",
      "  warnings.warn('Using prior. No proposal for address: {}'.format(address))\n",
      "/home/tt21642/dispyprob/pyprob/pyprob/nn/inference_network_feedforward.py:67: UserWarning: Using prior. No proposal for address: 470__forward___traverse___traverse_rec___traverse_rec___traverse_rec___traverse_rec___traverse_rec___traverse_rec___traverse_rec___traverse_rec___traverse_rec__draw_decay_L__TruncatedExponential__21\n",
      "  warnings.warn('Using prior. No proposal for address: {}'.format(address))\n",
      "/home/tt21642/dispyprob/pyprob/pyprob/nn/inference_network_feedforward.py:67: UserWarning: Using prior. No proposal for address: 520__forward___traverse___traverse_rec___traverse_rec___traverse_rec___traverse_rec___traverse_rec___traverse_rec___traverse_rec___traverse_rec___traverse_rec__draw_decay_R__TruncatedExponential__21\n",
      "  warnings.warn('Using prior. No proposal for address: {}'.format(address))\n"
     ]
    },
    {
     "name": "stdout",
     "output_type": "stream",
     "text": [
      "------------------------------###############--- | 4368/5000 |   3.06 | 0.34       \n",
      "0d:04:07:51 | 0d:00:00:02 | #################### | 5000/5000 |   3.74 | 0.34       \r\n",
      "2d:08:35:35 | 1    | 6,900     | +4.89e+01 | +4.70e+01 | \u001b[31m+9.33e+01\u001b[0m | 0d:04:13:54 | +1.00e-03 | 1.2 \r\n",
      "Stop condition reached. num_traces: 500\n",
      "2d:08:36:57 | 1    | 7,000     | +4.89e+01 | +4.70e+01 | \u001b[32m+9.15e+01\u001b[0m | 0d:04:15:16 | +1.00e-03 | 1.2 \r\n",
      "Training iterations 1  epsilon 213.64  ESS 3.7\n",
      "Continuing to train existing inference network...\n",
      "Total number of parameters: 377,406\n",
      "Train. time | Epoch| Trace     | Init. loss| Min. loss | Curr. loss| T.since min | Learn.rate| Traces/sec\n",
      "Time spent  | Time remain.| Progress             | Trace     | ESS    | Traces/sec\n",
      "------------------------------------------------ |  622/5000 |   4.31 | 0.34       \n",
      "------------------------------#----------------- |  655/5000 |   4.86 | 0.34       \n",
      "------------------------------###--------------- | 1282/5000 |  11.43 | 0.33       \n",
      "------------------------------###--------------- | 1337/5000 |  11.61 | 0.33       \n",
      "0d:01:09:38 | 0d:03:03:49 | #####--------------- | 1374/5000 |  11.71 | 0.33       \r"
     ]
    },
    {
     "name": "stderr",
     "output_type": "stream",
     "text": [
      "/home/tt21642/dispyprob/pyprob/pyprob/nn/inference_network_feedforward.py:67: UserWarning: Using prior. No proposal for address: 216__forward___traverse___traverse_rec___traverse_rec___traverse_rec___traverse_rec___traverse_rec___traverse_rec___traverse_rec___traverse_rec___traverse_rec___traverse_rec___traverse_rec___traverse_rec___traverse_rec___traverse_rec___traverse_rec___traverse_rec___traverse_rec___traverse_rec___traverse_rec__?__Uniform__5\n",
      "  warnings.warn('Using prior. No proposal for address: {}'.format(address))\n",
      "/home/tt21642/dispyprob/pyprob/pyprob/nn/inference_network_feedforward.py:67: UserWarning: Using prior. No proposal for address: 260__forward___traverse___traverse_rec___traverse_rec___traverse_rec___traverse_rec___traverse_rec___traverse_rec___traverse_rec___traverse_rec___traverse_rec___traverse_rec___traverse_rec___traverse_rec___traverse_rec___traverse_rec___traverse_rec___traverse_rec___traverse_rec___traverse_rec___traverse_rec__theta_CM_U__Uniform__5\n",
      "  warnings.warn('Using prior. No proposal for address: {}'.format(address))\n",
      "/home/tt21642/dispyprob/pyprob/pyprob/nn/inference_network_feedforward.py:67: UserWarning: Using prior. No proposal for address: 470__forward___traverse___traverse_rec___traverse_rec___traverse_rec___traverse_rec___traverse_rec___traverse_rec___traverse_rec___traverse_rec___traverse_rec___traverse_rec___traverse_rec___traverse_rec___traverse_rec___traverse_rec___traverse_rec___traverse_rec___traverse_rec___traverse_rec___traverse_rec__draw_decay_L__TruncatedExponential__5\n",
      "  warnings.warn('Using prior. No proposal for address: {}'.format(address))\n",
      "/home/tt21642/dispyprob/pyprob/pyprob/nn/inference_network_feedforward.py:67: UserWarning: Using prior. No proposal for address: 520__forward___traverse___traverse_rec___traverse_rec___traverse_rec___traverse_rec___traverse_rec___traverse_rec___traverse_rec___traverse_rec___traverse_rec___traverse_rec___traverse_rec___traverse_rec___traverse_rec___traverse_rec___traverse_rec___traverse_rec___traverse_rec___traverse_rec___traverse_rec__draw_decay_R__TruncatedExponential__5\n",
      "  warnings.warn('Using prior. No proposal for address: {}'.format(address))\n",
      "/home/tt21642/dispyprob/pyprob/pyprob/nn/inference_network_feedforward.py:67: UserWarning: Using prior. No proposal for address: 216__forward___traverse___traverse_rec___traverse_rec___traverse_rec___traverse_rec___traverse_rec___traverse_rec___traverse_rec___traverse_rec___traverse_rec___traverse_rec___traverse_rec___traverse_rec___traverse_rec___traverse_rec___traverse_rec___traverse_rec___traverse_rec___traverse_rec___traverse_rec___traverse_rec__?__Uniform__4\n",
      "  warnings.warn('Using prior. No proposal for address: {}'.format(address))\n",
      "/home/tt21642/dispyprob/pyprob/pyprob/nn/inference_network_feedforward.py:67: UserWarning: Using prior. No proposal for address: 260__forward___traverse___traverse_rec___traverse_rec___traverse_rec___traverse_rec___traverse_rec___traverse_rec___traverse_rec___traverse_rec___traverse_rec___traverse_rec___traverse_rec___traverse_rec___traverse_rec___traverse_rec___traverse_rec___traverse_rec___traverse_rec___traverse_rec___traverse_rec___traverse_rec__theta_CM_U__Uniform__4\n",
      "  warnings.warn('Using prior. No proposal for address: {}'.format(address))\n",
      "/home/tt21642/dispyprob/pyprob/pyprob/nn/inference_network_feedforward.py:67: UserWarning: Using prior. No proposal for address: 470__forward___traverse___traverse_rec___traverse_rec___traverse_rec___traverse_rec___traverse_rec___traverse_rec___traverse_rec___traverse_rec___traverse_rec___traverse_rec___traverse_rec___traverse_rec___traverse_rec___traverse_rec___traverse_rec___traverse_rec___traverse_rec___traverse_rec___traverse_rec___traverse_rec__draw_decay_L__TruncatedExponential__4\n",
      "  warnings.warn('Using prior. No proposal for address: {}'.format(address))\n",
      "/home/tt21642/dispyprob/pyprob/pyprob/nn/inference_network_feedforward.py:67: UserWarning: Using prior. No proposal for address: 520__forward___traverse___traverse_rec___traverse_rec___traverse_rec___traverse_rec___traverse_rec___traverse_rec___traverse_rec___traverse_rec___traverse_rec___traverse_rec___traverse_rec___traverse_rec___traverse_rec___traverse_rec___traverse_rec___traverse_rec___traverse_rec___traverse_rec___traverse_rec___traverse_rec__draw_decay_R__TruncatedExponential__4\n",
      "  warnings.warn('Using prior. No proposal for address: {}'.format(address))\n"
     ]
    },
    {
     "name": "stdout",
     "output_type": "stream",
     "text": [
      "------------------------------####-------------- | 1566/5000 |  13.04 | 0.33       \n",
      "------------------------------####-------------- | 1609/5000 |  13.14 | 0.33       \n",
      "------------------------------#####------------- | 1659/5000 |  13.95 | 0.33       \n",
      "------------------------------#####------------- | 1670/5000 |  13.95 | 0.33       \n",
      "------------------------------#####------------- | 1861/5000 |  15.95 | 0.33       \n",
      "------------------------------######------------ | 2034/5000 |  17.54 | 0.33       \n",
      "------------------------------######------------ | 2054/5000 |  17.56 | 0.33       \n",
      "------------------------------########---------- | 2463/5000 |  11.32 | 0.33       \n",
      "------------------------------########---------- | 2496/5000 |  12.46 | 0.33       \n",
      "------------------------------########---------- | 2565/5000 |  13.03 | 0.33       \n",
      "0d:02:21:11 | 0d:01:51:47 | ###########--------- | 2791/5000 |  15.56 | 0.33       \r"
     ]
    },
    {
     "name": "stderr",
     "output_type": "stream",
     "text": [
      "/home/tt21642/dispyprob/pyprob/pyprob/nn/inference_network_feedforward.py:67: UserWarning: Using prior. No proposal for address: 216__forward___traverse___traverse_rec___traverse_rec___traverse_rec___traverse_rec___traverse_rec___traverse_rec___traverse_rec___traverse_rec___traverse_rec___traverse_rec__?__Uniform__20\n",
      "  warnings.warn('Using prior. No proposal for address: {}'.format(address))\n",
      "/home/tt21642/dispyprob/pyprob/pyprob/nn/inference_network_feedforward.py:67: UserWarning: Using prior. No proposal for address: 260__forward___traverse___traverse_rec___traverse_rec___traverse_rec___traverse_rec___traverse_rec___traverse_rec___traverse_rec___traverse_rec___traverse_rec___traverse_rec__theta_CM_U__Uniform__20\n",
      "  warnings.warn('Using prior. No proposal for address: {}'.format(address))\n",
      "/home/tt21642/dispyprob/pyprob/pyprob/nn/inference_network_feedforward.py:67: UserWarning: Using prior. No proposal for address: 470__forward___traverse___traverse_rec___traverse_rec___traverse_rec___traverse_rec___traverse_rec___traverse_rec___traverse_rec___traverse_rec___traverse_rec___traverse_rec__draw_decay_L__TruncatedExponential__20\n",
      "  warnings.warn('Using prior. No proposal for address: {}'.format(address))\n",
      "/home/tt21642/dispyprob/pyprob/pyprob/nn/inference_network_feedforward.py:67: UserWarning: Using prior. No proposal for address: 520__forward___traverse___traverse_rec___traverse_rec___traverse_rec___traverse_rec___traverse_rec___traverse_rec___traverse_rec___traverse_rec___traverse_rec___traverse_rec__draw_decay_R__TruncatedExponential__20\n",
      "  warnings.warn('Using prior. No proposal for address: {}'.format(address))\n"
     ]
    },
    {
     "name": "stdout",
     "output_type": "stream",
     "text": [
      "------------------------------#########--------- | 2844/5000 |  16.81 | 0.33       \n",
      "------------------------------##########-------- | 2876/5000 |  17.10 | 0.33       \n",
      "------------------------------##########-------- | 3059/5000 |   6.31 | 0.33       \n",
      "------------------------------###########------- | 3309/5000 |   6.73 | 0.33       \n",
      "------------------------------###########------- | 3354/5000 |   6.78 | 0.33       \n",
      "------------------------------############------ | 3385/5000 |   6.82 | 0.33       \n",
      "------------------------------############------ | 3623/5000 |   7.47 | 0.33       \n",
      "------------------------------#############----- | 3727/5000 |   7.79 | 0.33       \n",
      "------------------------------##############---- | 3929/5000 |   7.97 | 0.33       \n",
      "------------------------------##############---- | 4076/5000 |   8.23 | 0.33       \n",
      "------------------------------##############---- | 4115/5000 |   8.31 | 0.33       \n",
      "------------------------------###############--- | 4319/5000 |   8.78 | 0.33       \n",
      "------------------------------################-- | 4478/5000 |   8.97 | 0.33       \n",
      "------------------------------#################- | 4734/5000 |   9.23 | 0.33       \n",
      "0d:04:12:11 | 0d:00:00:03 | #################### | 5000/5000 |   9.70 | 0.33       \r\n",
      "2d:12:57:16 | 1    | 7,400     | +4.89e+01 | +4.70e+01 | \u001b[31m+9.98e+01\u001b[0m | 0d:04:20:19 | +1.00e-03 | 0.7 \r\n",
      "Stop condition reached. num_traces: 500\n",
      "2d:12:59:03 | 1    | 7,500     | +4.89e+01 | +4.70e+01 | \u001b[31m+9.99e+01\u001b[0m | 0d:04:22:05 | +1.00e-03 | 0.9 \r\n",
      "Training iterations 1  epsilon 213.64  ESS 9.3\n",
      "Continuing to train existing inference network...\n",
      "Total number of parameters: 377,406\n",
      "Train. time | Epoch| Trace     | Init. loss| Min. loss | Curr. loss| T.since min | Learn.rate| Traces/sec\n",
      "Time spent  | Time remain.| Progress             | Trace     | ESS    | Traces/sec\n",
      "------------------------------------------------ |   30/5000 |   1.22 | 0.37       \n",
      "------------------------------------------------ |   54/5000 |   2.53 | 0.37       \n",
      "------------------------------------------------ |  373/5000 |   4.48 | 0.35       \n",
      "------------------------------------------------ |  378/5000 |   4.48 | 0.35       \n",
      "------------------------------------------------ |  455/5000 |   5.20 | 0.34       \n",
      "------------------------------------------------ |  477/5000 |   5.20 | 0.34       \n",
      "------------------------------------------------ |  588/5000 |   8.15 | 0.35       \n",
      "------------------------------#----------------- |  677/5000 |  10.03 | 0.34       \n",
      "------------------------------##---------------- |  913/5000 |  12.40 | 0.34       \n",
      "------------------------------##---------------- |  936/5000 |  13.39 | 0.34       \n",
      "------------------------------##---------------- |  937/5000 |  13.39 | 0.34       \n",
      "------------------------------##---------------- |  997/5000 |  14.78 | 0.34       \n",
      "------------------------------##---------------- | 1041/5000 |  15.60 | 0.34       \n",
      "------------------------------##---------------- | 1046/5000 |  15.60 | 0.34       \n",
      "------------------------------#####------------- | 1691/5000 |  11.76 | 0.34       \n",
      "------------------------------######------------ | 1973/5000 |  13.56 | 0.34       \n",
      "------------------------------######------------ | 2037/5000 |  13.85 | 0.34       \n",
      "------------------------------######------------ | 2122/5000 |  13.97 | 0.34       \n",
      "------------------------------#######----------- | 2342/5000 |  16.59 | 0.34       \n",
      "------------------------------########---------- | 2403/5000 |  16.85 | 0.34       \n",
      "------------------------------########---------- | 2409/5000 |  16.85 | 0.34       \n",
      "------------------------------########---------- | 2587/5000 |  17.95 | 0.34       \n",
      "------------------------------########---------- | 2625/5000 |  17.95 | 0.34       \n",
      "------------------------------#########--------- | 2658/5000 |  18.79 | 0.34       \n",
      "------------------------------#########--------- | 2710/5000 |  19.54 | 0.34       \n",
      "------------------------------#########--------- | 2727/5000 |  19.86 | 0.34       \n",
      "------------------------------#########--------- | 2755/5000 |  20.72 | 0.34       \n",
      "------------------------------##########-------- | 2879/5000 |  22.14 | 0.34       \n",
      "------------------------------##########-------- | 3014/5000 |  22.88 | 0.34       \n",
      "------------------------------###########------- | 3323/5000 |  25.80 | 0.34       \n",
      "------------------------------#############----- | 3648/5000 |  28.01 | 0.34       \n",
      "------------------------------#############----- | 3710/5000 |  28.13 | 0.34       \n",
      "------------------------------##############---- | 4069/5000 |  30.37 | 0.33       \n",
      "------------------------------###############--- | 4176/5000 |  30.83 | 0.33       \n",
      "0d:03:31:58 | 0d:00:38:31 | #################--- | 4232/5000 |  31.30 | 0.33       \r"
     ]
    },
    {
     "name": "stderr",
     "output_type": "stream",
     "text": [
      "/home/tt21642/dispyprob/pyprob/pyprob/nn/inference_network_feedforward.py:67: UserWarning: Using prior. No proposal for address: 216__forward___traverse___traverse_rec___traverse_rec___traverse_rec___traverse_rec___traverse_rec___traverse_rec___traverse_rec__?__Uniform__23\n",
      "  warnings.warn('Using prior. No proposal for address: {}'.format(address))\n",
      "/home/tt21642/dispyprob/pyprob/pyprob/nn/inference_network_feedforward.py:67: UserWarning: Using prior. No proposal for address: 260__forward___traverse___traverse_rec___traverse_rec___traverse_rec___traverse_rec___traverse_rec___traverse_rec___traverse_rec__theta_CM_U__Uniform__23\n",
      "  warnings.warn('Using prior. No proposal for address: {}'.format(address))\n",
      "/home/tt21642/dispyprob/pyprob/pyprob/nn/inference_network_feedforward.py:67: UserWarning: Using prior. No proposal for address: 470__forward___traverse___traverse_rec___traverse_rec___traverse_rec___traverse_rec___traverse_rec___traverse_rec___traverse_rec__draw_decay_L__TruncatedExponential__23\n",
      "  warnings.warn('Using prior. No proposal for address: {}'.format(address))\n",
      "/home/tt21642/dispyprob/pyprob/pyprob/nn/inference_network_feedforward.py:67: UserWarning: Using prior. No proposal for address: 520__forward___traverse___traverse_rec___traverse_rec___traverse_rec___traverse_rec___traverse_rec___traverse_rec___traverse_rec__draw_decay_R__TruncatedExponential__23\n",
      "  warnings.warn('Using prior. No proposal for address: {}'.format(address))\n"
     ]
    },
    {
     "name": "stdout",
     "output_type": "stream",
     "text": [
      "------------------------------\n",
      "------------------------------###############--- | 4242/5000 |  31.30 | 0.33       \n",
      "------------------------------################-- | 4503/5000 |  32.93 | 0.33       \n",
      "------------------------------#################- | 4656/5000 |  34.25 | 0.33       \n",
      "------------------------------#################- | 4820/5000 |  35.19 | 0.33       \n",
      "0d:04:11:35 | 0d:00:00:03 | #################### | 5000/5000 |  35.49 | 0.33       \r\n",
      "New layers, address: 216__forward___traverse___traverse_rec___traverse_..., distribution: Uniforme-03 | 0.0 \n",
      "New layers, address: 260__forward___traverse___traverse_rec___traverse_..., distribution: Uniform\n",
      "New layers, address: 470__forward___traverse___traverse_rec___traverse_..., distribution: TruncatedExponential\n",
      "New layers, address: 520__forward___traverse___traverse_rec___traverse_..., distribution: TruncatedExponential\n",
      "New layers, address: 216__forward___traverse___traverse_rec___traverse_..., distribution: Uniform\n",
      "New layers, address: 260__forward___traverse___traverse_rec___traverse_..., distribution: Uniform\n",
      "New layers, address: 470__forward___traverse___traverse_rec___traverse_..., distribution: TruncatedExponential\n",
      "New layers, address: 520__forward___traverse___traverse_rec___traverse_..., distribution: TruncatedExponential\n",
      "New layers, address: 216__forward___traverse___traverse_rec___traverse_..., distribution: Uniform\n",
      "New layers, address: 260__forward___traverse___traverse_rec___traverse_..., distribution: Uniform\n",
      "New layers, address: 470__forward___traverse___traverse_rec___traverse_..., distribution: TruncatedExponential\n",
      "New layers, address: 520__forward___traverse___traverse_rec___traverse_..., distribution: TruncatedExponential\n",
      "New layers, address: 216__forward___traverse___traverse_rec___traverse_..., distribution: Uniform\n",
      "New layers, address: 260__forward___traverse___traverse_rec___traverse_..., distribution: Uniform\n",
      "New layers, address: 470__forward___traverse___traverse_rec___traverse_..., distribution: TruncatedExponential\n",
      "New layers, address: 520__forward___traverse___traverse_rec___traverse_..., distribution: TruncatedExponential\n",
      "New layers, address: 216__forward___traverse___traverse_rec___traverse_..., distribution: Uniform\n",
      "New layers, address: 260__forward___traverse___traverse_rec___traverse_..., distribution: Uniform\n",
      "New layers, address: 470__forward___traverse___traverse_rec___traverse_..., distribution: TruncatedExponential\n",
      "New layers, address: 520__forward___traverse___traverse_rec___traverse_..., distribution: TruncatedExponential\n",
      "New layers, address: 216__forward___traverse___traverse_rec___traverse_..., distribution: Uniform\n",
      "New layers, address: 260__forward___traverse___traverse_rec___traverse_..., distribution: Uniform\n",
      "New layers, address: 470__forward___traverse___traverse_rec___traverse_..., distribution: TruncatedExponential\n",
      "New layers, address: 520__forward___traverse___traverse_rec___traverse_..., distribution: TruncatedExponential\n",
      "New layers, address: 216__forward___traverse___traverse_rec___traverse_..., distribution: Uniform\n",
      "New layers, address: 260__forward___traverse___traverse_rec___traverse_..., distribution: Uniform\n",
      "New layers, address: 470__forward___traverse___traverse_rec___traverse_..., distribution: TruncatedExponential\n",
      "New layers, address: 520__forward___traverse___traverse_rec___traverse_..., distribution: TruncatedExponential\n",
      "Total addresses: 768, parameters: 391,686\n",
      "2d:17:20:43 | 1    | 7,900     | +4.89e+01 | +4.70e+01 | \u001b[31m+1.11e+02\u001b[0m | 0d:04:21:40 | +1.00e-03 | 0.6 \r\n",
      "Stop condition reached. num_traces: 500\n",
      "2d:17:23:34 | 1    | 8,000     | +4.89e+01 | +4.70e+01 | \u001b[32m+1.03e+02\u001b[0m | 0d:04:24:30 | +1.00e-03 | 0.6 \r\n",
      "Training iterations 1  epsilon 213.64  ESS 34.0\n",
      "Continuing to train existing inference network...\n",
      "Total number of parameters: 391,686\n",
      "Train. time | Epoch| Trace     | Init. loss| Min. loss | Curr. loss| T.since min | Learn.rate| Traces/sec\n",
      "Time spent  | Time remain.| Progress             | Trace     | ESS    | Traces/sec\n",
      "------------------------------------------------ |   18/5000 |   1.03 | 0.38       \n",
      "------------------------------------------------ |   20/5000 |   1.03 | 0.37       \n",
      "------------------------------------------------ |  539/5000 |   5.26 | 0.35       \n",
      "------------------------------------------------ |  551/5000 |   5.31 | 0.35       \n",
      "0d:00:26:49 | 0d:03:31:24 | ##------------------ |  563/5000 |   5.31 | 0.35       \r"
     ]
    },
    {
     "name": "stderr",
     "output_type": "stream",
     "text": [
      "/home/tt21642/dispyprob/pyprob/pyprob/nn/inference_network_feedforward.py:67: UserWarning: Using prior. No proposal for address: 216__forward___traverse___traverse_rec___traverse_rec___traverse_rec___traverse_rec___traverse_rec___traverse_rec___traverse_rec___traverse_rec___traverse_rec___traverse_rec___traverse_rec___traverse_rec___traverse_rec___traverse_rec___traverse_rec___traverse_rec___traverse_rec___traverse_rec___traverse_rec___traverse_rec___traverse_rec___traverse_rec___traverse_rec___traverse_rec__?__Uniform__1\n",
      "  warnings.warn('Using prior. No proposal for address: {}'.format(address))\n",
      "/home/tt21642/dispyprob/pyprob/pyprob/nn/inference_network_feedforward.py:67: UserWarning: Using prior. No proposal for address: 260__forward___traverse___traverse_rec___traverse_rec___traverse_rec___traverse_rec___traverse_rec___traverse_rec___traverse_rec___traverse_rec___traverse_rec___traverse_rec___traverse_rec___traverse_rec___traverse_rec___traverse_rec___traverse_rec___traverse_rec___traverse_rec___traverse_rec___traverse_rec___traverse_rec___traverse_rec___traverse_rec___traverse_rec___traverse_rec__theta_CM_U__Uniform__1\n",
      "  warnings.warn('Using prior. No proposal for address: {}'.format(address))\n",
      "/home/tt21642/dispyprob/pyprob/pyprob/nn/inference_network_feedforward.py:67: UserWarning: Using prior. No proposal for address: 470__forward___traverse___traverse_rec___traverse_rec___traverse_rec___traverse_rec___traverse_rec___traverse_rec___traverse_rec___traverse_rec___traverse_rec___traverse_rec___traverse_rec___traverse_rec___traverse_rec___traverse_rec___traverse_rec___traverse_rec___traverse_rec___traverse_rec___traverse_rec___traverse_rec___traverse_rec___traverse_rec___traverse_rec___traverse_rec__draw_decay_L__TruncatedExponential__1\n",
      "  warnings.warn('Using prior. No proposal for address: {}'.format(address))\n",
      "/home/tt21642/dispyprob/pyprob/pyprob/nn/inference_network_feedforward.py:67: UserWarning: Using prior. No proposal for address: 520__forward___traverse___traverse_rec___traverse_rec___traverse_rec___traverse_rec___traverse_rec___traverse_rec___traverse_rec___traverse_rec___traverse_rec___traverse_rec___traverse_rec___traverse_rec___traverse_rec___traverse_rec___traverse_rec___traverse_rec___traverse_rec___traverse_rec___traverse_rec___traverse_rec___traverse_rec___traverse_rec___traverse_rec___traverse_rec__draw_decay_R__TruncatedExponential__1\n",
      "  warnings.warn('Using prior. No proposal for address: {}'.format(address))\n"
     ]
    },
    {
     "name": "stdout",
     "output_type": "stream",
     "text": [
      "------------------------------#----------------- |  653/5000 |   5.73 | 0.35       \n",
      "------------------------------#----------------- |  741/5000 |   6.05 | 0.35       \n",
      "------------------------------#----------------- |  746/5000 |   6.32 | 0.35       \n",
      "------------------------------##---------------- |  898/5000 |   7.07 | 0.34       \n",
      "------------------------------##---------------- |  921/5000 |   7.11 | 0.34       \n",
      "------------------------------##---------------- |  931/5000 |   7.11 | 0.34       \n",
      "------------------------------##---------------- |  992/5000 |   7.34 | 0.34       \n",
      "------------------------------##---------------- | 1124/5000 |   8.03 | 0.34       \n",
      "------------------------------###--------------- | 1236/5000 |   9.64 | 0.34       \n",
      "------------------------------###--------------- | 1300/5000 |  10.69 | 0.34       \n",
      "------------------------------####-------------- | 1620/5000 |  12.71 | 0.34       \n",
      "------------------------------######------------ | 1992/5000 |  15.34 | 0.34       \n",
      "------------------------------#######----------- | 2293/5000 |  18.98 | 0.34       \n",
      "------------------------------########---------- | 2446/5000 |  20.46 | 0.33       \n",
      "------------------------------########---------- | 2549/5000 |  21.92 | 0.34       \n",
      "------------------------------###########------- | 3325/5000 |  23.26 | 0.33       \n",
      "------------------------------############------ | 3488/5000 |  24.63 | 0.33       \n",
      "------------------------------############------ | 3489/5000 |  24.63 | 0.33       \n",
      "------------------------------#############----- | 3687/5000 |  25.58 | 0.33       \n",
      "------------------------------#############----- | 3713/5000 |  25.58 | 0.33       \n",
      "------------------------------##############---- | 4015/5000 |  28.54 | 0.33       \n",
      "------------------------------###############--- | 4228/5000 |  30.10 | 0.33       \n",
      "------------------------------###############--- | 4241/5000 |  30.17 | 0.33       \n",
      "------------------------------###############--- | 4278/5000 |  30.20 | 0.33       \n",
      "0d:03:37:55 | 0d:00:33:53 | #################--- | 4328/5000 |  30.40 | 0.33       \r"
     ]
    },
    {
     "name": "stderr",
     "output_type": "stream",
     "text": [
      "/home/tt21642/dispyprob/pyprob/pyprob/nn/inference_network_feedforward.py:67: UserWarning: Using prior. No proposal for address: 216__forward___traverse___traverse_rec___traverse_rec___traverse_rec___traverse_rec___traverse_rec___traverse_rec___traverse_rec___traverse_rec___traverse_rec___traverse_rec___traverse_rec___traverse_rec___traverse_rec___traverse_rec___traverse_rec___traverse_rec___traverse_rec___traverse_rec___traverse_rec___traverse_rec___traverse_rec___traverse_rec__?__Uniform__2\n",
      "  warnings.warn('Using prior. No proposal for address: {}'.format(address))\n",
      "/home/tt21642/dispyprob/pyprob/pyprob/nn/inference_network_feedforward.py:67: UserWarning: Using prior. No proposal for address: 260__forward___traverse___traverse_rec___traverse_rec___traverse_rec___traverse_rec___traverse_rec___traverse_rec___traverse_rec___traverse_rec___traverse_rec___traverse_rec___traverse_rec___traverse_rec___traverse_rec___traverse_rec___traverse_rec___traverse_rec___traverse_rec___traverse_rec___traverse_rec___traverse_rec___traverse_rec___traverse_rec__theta_CM_U__Uniform__2\n",
      "  warnings.warn('Using prior. No proposal for address: {}'.format(address))\n",
      "/home/tt21642/dispyprob/pyprob/pyprob/nn/inference_network_feedforward.py:67: UserWarning: Using prior. No proposal for address: 470__forward___traverse___traverse_rec___traverse_rec___traverse_rec___traverse_rec___traverse_rec___traverse_rec___traverse_rec___traverse_rec___traverse_rec___traverse_rec___traverse_rec___traverse_rec___traverse_rec___traverse_rec___traverse_rec___traverse_rec___traverse_rec___traverse_rec___traverse_rec___traverse_rec___traverse_rec___traverse_rec__draw_decay_L__TruncatedExponential__2\n",
      "  warnings.warn('Using prior. No proposal for address: {}'.format(address))\n",
      "/home/tt21642/dispyprob/pyprob/pyprob/nn/inference_network_feedforward.py:67: UserWarning: Using prior. No proposal for address: 520__forward___traverse___traverse_rec___traverse_rec___traverse_rec___traverse_rec___traverse_rec___traverse_rec___traverse_rec___traverse_rec___traverse_rec___traverse_rec___traverse_rec___traverse_rec___traverse_rec___traverse_rec___traverse_rec___traverse_rec___traverse_rec___traverse_rec___traverse_rec___traverse_rec___traverse_rec___traverse_rec__draw_decay_R__TruncatedExponential__2\n",
      "  warnings.warn('Using prior. No proposal for address: {}'.format(address))\n",
      "/home/tt21642/dispyprob/pyprob/pyprob/nn/inference_network_feedforward.py:67: UserWarning: Using prior. No proposal for address: 216__forward___traverse___traverse_rec___traverse_rec___traverse_rec___traverse_rec___traverse_rec___traverse_rec___traverse_rec___traverse_rec___traverse_rec___traverse_rec___traverse_rec___traverse_rec___traverse_rec___traverse_rec___traverse_rec___traverse_rec___traverse_rec___traverse_rec___traverse_rec___traverse_rec___traverse_rec__?__Uniform__4\n",
      "  warnings.warn('Using prior. No proposal for address: {}'.format(address))\n",
      "/home/tt21642/dispyprob/pyprob/pyprob/nn/inference_network_feedforward.py:67: UserWarning: Using prior. No proposal for address: 260__forward___traverse___traverse_rec___traverse_rec___traverse_rec___traverse_rec___traverse_rec___traverse_rec___traverse_rec___traverse_rec___traverse_rec___traverse_rec___traverse_rec___traverse_rec___traverse_rec___traverse_rec___traverse_rec___traverse_rec___traverse_rec___traverse_rec___traverse_rec___traverse_rec___traverse_rec__theta_CM_U__Uniform__4\n",
      "  warnings.warn('Using prior. No proposal for address: {}'.format(address))\n",
      "/home/tt21642/dispyprob/pyprob/pyprob/nn/inference_network_feedforward.py:67: UserWarning: Using prior. No proposal for address: 470__forward___traverse___traverse_rec___traverse_rec___traverse_rec___traverse_rec___traverse_rec___traverse_rec___traverse_rec___traverse_rec___traverse_rec___traverse_rec___traverse_rec___traverse_rec___traverse_rec___traverse_rec___traverse_rec___traverse_rec___traverse_rec___traverse_rec___traverse_rec___traverse_rec___traverse_rec__draw_decay_L__TruncatedExponential__4\n",
      "  warnings.warn('Using prior. No proposal for address: {}'.format(address))\n",
      "/home/tt21642/dispyprob/pyprob/pyprob/nn/inference_network_feedforward.py:67: UserWarning: Using prior. No proposal for address: 520__forward___traverse___traverse_rec___traverse_rec___traverse_rec___traverse_rec___traverse_rec___traverse_rec___traverse_rec___traverse_rec___traverse_rec___traverse_rec___traverse_rec___traverse_rec___traverse_rec___traverse_rec___traverse_rec___traverse_rec___traverse_rec___traverse_rec___traverse_rec___traverse_rec___traverse_rec__draw_decay_R__TruncatedExponential__4\n",
      "  warnings.warn('Using prior. No proposal for address: {}'.format(address))\n",
      "/home/tt21642/dispyprob/pyprob/pyprob/nn/inference_network_feedforward.py:67: UserWarning: Using prior. No proposal for address: 216__forward___traverse___traverse_rec___traverse_rec___traverse_rec___traverse_rec___traverse_rec___traverse_rec___traverse_rec___traverse_rec___traverse_rec___traverse_rec___traverse_rec___traverse_rec___traverse_rec___traverse_rec___traverse_rec___traverse_rec___traverse_rec___traverse_rec___traverse_rec___traverse_rec___traverse_rec__?__Uniform__5\n",
      "  warnings.warn('Using prior. No proposal for address: {}'.format(address))\n",
      "/home/tt21642/dispyprob/pyprob/pyprob/nn/inference_network_feedforward.py:67: UserWarning: Using prior. No proposal for address: 260__forward___traverse___traverse_rec___traverse_rec___traverse_rec___traverse_rec___traverse_rec___traverse_rec___traverse_rec___traverse_rec___traverse_rec___traverse_rec___traverse_rec___traverse_rec___traverse_rec___traverse_rec___traverse_rec___traverse_rec___traverse_rec___traverse_rec___traverse_rec___traverse_rec___traverse_rec__theta_CM_U__Uniform__5\n",
      "  warnings.warn('Using prior. No proposal for address: {}'.format(address))\n",
      "/home/tt21642/dispyprob/pyprob/pyprob/nn/inference_network_feedforward.py:67: UserWarning: Using prior. No proposal for address: 470__forward___traverse___traverse_rec___traverse_rec___traverse_rec___traverse_rec___traverse_rec___traverse_rec___traverse_rec___traverse_rec___traverse_rec___traverse_rec___traverse_rec___traverse_rec___traverse_rec___traverse_rec___traverse_rec___traverse_rec___traverse_rec___traverse_rec___traverse_rec___traverse_rec___traverse_rec__draw_decay_L__TruncatedExponential__5\n",
      "  warnings.warn('Using prior. No proposal for address: {}'.format(address))\n",
      "/home/tt21642/dispyprob/pyprob/pyprob/nn/inference_network_feedforward.py:67: UserWarning: Using prior. No proposal for address: 520__forward___traverse___traverse_rec___traverse_rec___traverse_rec___traverse_rec___traverse_rec___traverse_rec___traverse_rec___traverse_rec___traverse_rec___traverse_rec___traverse_rec___traverse_rec___traverse_rec___traverse_rec___traverse_rec___traverse_rec___traverse_rec___traverse_rec___traverse_rec___traverse_rec___traverse_rec__draw_decay_R__TruncatedExponential__5\n",
      "  warnings.warn('Using prior. No proposal for address: {}'.format(address))\n",
      "/home/tt21642/dispyprob/pyprob/pyprob/nn/inference_network_feedforward.py:67: UserWarning: Using prior. No proposal for address: 216__forward___traverse___traverse_rec___traverse_rec___traverse_rec___traverse_rec___traverse_rec___traverse_rec___traverse_rec___traverse_rec___traverse_rec___traverse_rec___traverse_rec___traverse_rec___traverse_rec___traverse_rec___traverse_rec___traverse_rec___traverse_rec___traverse_rec___traverse_rec___traverse_rec___traverse_rec___traverse_rec__?__Uniform__3\n",
      "  warnings.warn('Using prior. No proposal for address: {}'.format(address))\n",
      "/home/tt21642/dispyprob/pyprob/pyprob/nn/inference_network_feedforward.py:67: UserWarning: Using prior. No proposal for address: 260__forward___traverse___traverse_rec___traverse_rec___traverse_rec___traverse_rec___traverse_rec___traverse_rec___traverse_rec___traverse_rec___traverse_rec___traverse_rec___traverse_rec___traverse_rec___traverse_rec___traverse_rec___traverse_rec___traverse_rec___traverse_rec___traverse_rec___traverse_rec___traverse_rec___traverse_rec___traverse_rec__theta_CM_U__Uniform__3\n",
      "  warnings.warn('Using prior. No proposal for address: {}'.format(address))\n",
      "/home/tt21642/dispyprob/pyprob/pyprob/nn/inference_network_feedforward.py:67: UserWarning: Using prior. No proposal for address: 470__forward___traverse___traverse_rec___traverse_rec___traverse_rec___traverse_rec___traverse_rec___traverse_rec___traverse_rec___traverse_rec___traverse_rec___traverse_rec___traverse_rec___traverse_rec___traverse_rec___traverse_rec___traverse_rec___traverse_rec___traverse_rec___traverse_rec___traverse_rec___traverse_rec___traverse_rec___traverse_rec__draw_decay_L__TruncatedExponential__3\n",
      "  warnings.warn('Using prior. No proposal for address: {}'.format(address))\n",
      "/home/tt21642/dispyprob/pyprob/pyprob/nn/inference_network_feedforward.py:67: UserWarning: Using prior. No proposal for address: 520__forward___traverse___traverse_rec___traverse_rec___traverse_rec___traverse_rec___traverse_rec___traverse_rec___traverse_rec___traverse_rec___traverse_rec___traverse_rec___traverse_rec___traverse_rec___traverse_rec___traverse_rec___traverse_rec___traverse_rec___traverse_rec___traverse_rec___traverse_rec___traverse_rec___traverse_rec___traverse_rec__draw_decay_R__TruncatedExponential__3\n",
      "  warnings.warn('Using prior. No proposal for address: {}'.format(address))\n"
     ]
    },
    {
     "name": "stdout",
     "output_type": "stream",
     "text": [
      "------------------------------################-- | 4476/5000 |  31.98 | 0.33       \n",
      "------------------------------################-- | 4522/5000 |  32.08 | 0.33       \n",
      "------------------------------#################- | 4847/5000 |  34.80 | 0.33       \n",
      "------------------------------################## | 4875/5000 |  34.80 | 0.33       \n",
      "------------------------------################## | 4927/5000 |  35.02 | 0.33       \n",
      "------------------------------################## | 4953/5000 |  35.31 | 0.33       \n",
      "0d:04:11:00 | 0d:00:00:03 | #################### | 5000/5000 |  35.52 | 0.33       \r\n",
      "2d:21:44:56 | 1    | 8,400     | +4.89e+01 | +4.70e+01 | \u001b[31m+9.46e+01\u001b[0m | 0d:04:21:22 | +1.00e-03 | 0.7 \r\n",
      "Stop condition reached. num_traces: 500\n",
      "2d:21:47:34 | 1    | 8,500     | +4.89e+01 | +4.70e+01 | \u001b[32m+9.46e+01\u001b[0m | 0d:04:24:00 | +1.00e-03 | 0.6 \r\n",
      "Training iterations 1  epsilon 213.64  ESS 34.3\n",
      "Continuing to train existing inference network...\n",
      "Total number of parameters: 391,686\n",
      "Train. time | Epoch| Trace     | Init. loss| Min. loss | Curr. loss| T.since min | Learn.rate| Traces/sec\n",
      "Time spent  | Time remain.| Progress             | Trace     | ESS    | Traces/sec\n",
      "------------------------------------------------ |  336/5000 |  11.45 | 0.35       \n",
      "------------------------------------------------ |  407/5000 |  12.53 | 0.35       \n",
      "------------------------------------------------ |  586/5000 |   7.16 | 0.35       \n",
      "------------------------------##---------------- |  945/5000 |  12.29 | 0.34       \n",
      "------------------------------##---------------- | 1000/5000 |  14.25 | 0.34       \n",
      "------------------------------##---------------- | 1067/5000 |  14.80 | 0.34       \n",
      "------------------------------##---------------- | 1080/5000 |  14.80 | 0.34       \n",
      "------------------------------##---------------- | 1095/5000 |  15.53 | 0.34       \n",
      "------------------------------###--------------- | 1260/5000 |  20.24 | 0.34       \n",
      "------------------------------####-------------- | 1379/5000 |  22.64 | 0.34       \n",
      "------------------------------#####------------- | 1639/5000 |  25.67 | 0.34       \n",
      "------------------------------#####------------- | 1640/5000 |  25.67 | 0.34       \n",
      "------------------------------######------------ | 1969/5000 |  33.63 | 0.34       \n",
      "------------------------------#######----------- | 2166/5000 |  40.62 | 0.33       \n",
      "------------------------------#######----------- | 2254/5000 |  12.80 | 0.33       \n",
      "------------------------------#######----------- | 2346/5000 |  13.55 | 0.33       \n",
      "------------------------------########---------- | 2519/5000 |  15.20 | 0.33       \n",
      "------------------------------########---------- | 2612/5000 |  15.60 | 0.33       \n",
      "------------------------------#########--------- | 2855/5000 |  16.94 | 0.33       \n",
      "------------------------------##########-------- | 3071/5000 |  18.68 | 0.33       \n",
      "------------------------------###########------- | 3307/5000 |  22.60 | 0.33       \n",
      "------------------------------#############----- | 3627/5000 |  24.64 | 0.33       \n",
      "------------------------------##############---- | 3912/5000 |  26.17 | 0.33       \n",
      "------------------------------###############--- | 4284/5000 |  30.41 | 0.33       \n",
      "------------------------------################-- | 4482/5000 |  30.57 | 0.33       \n",
      "------------------------------#################- | 4792/5000 |  32.04 | 0.33       \n",
      "------------------------------#################- | 4826/5000 |  32.06 | 0.33       \n",
      "0d:04:12:31 | 0d:00:00:03 | #################### | 5000/5000 |  34.53 | 0.33       \r\n",
      "New layers, address: 216__forward___traverse___traverse_rec___traverse_..., distribution: Uniforme-03 | 0.4 \n",
      "New layers, address: 260__forward___traverse___traverse_rec___traverse_..., distribution: Uniform\n",
      "New layers, address: 470__forward___traverse___traverse_rec___traverse_..., distribution: TruncatedExponential\n",
      "New layers, address: 520__forward___traverse___traverse_rec___traverse_..., distribution: TruncatedExponential\n",
      "Total addresses: 772, parameters: 393,726\n",
      "\n",
      "Stop condition reached. num_traces: 500\n",
      "3d:02:14:51 | 1    | 9,000     | +4.89e+01 | +4.70e+01 | \u001b[31m+1.06e+02\u001b[0m | 0d:04:27:17 | +1.00e-03 | 0.6 \r\n",
      "Training iterations 1  epsilon 213.64  ESS 32.9\n",
      "Continuing to train existing inference network...\n",
      "Total number of parameters: 393,726\n",
      "Train. time | Epoch| Trace     | Init. loss| Min. loss | Curr. loss| T.since min | Learn.rate| Traces/sec\n",
      "Time spent  | Time remain.| Progress             | Trace     | ESS    | Traces/sec\n",
      "------------------------------------------------ |   69/5000 |   2.33 | 0.33       \n",
      "------------------------------------------------ |   85/5000 |   2.59 | 0.32       \n",
      "------------------------------------------------ |  149/5000 |   2.93 | 0.33       \n",
      "------------------------------------------------ |  193/5000 |   4.17 | 0.34       \n",
      "------------------------------------------------ |  200/5000 |   4.17 | 0.33       \n",
      "------------------------------------------------ |  311/5000 |   4.49 | 0.34       \n",
      "------------------------------------------------ |  397/5000 |   4.86 | 0.33       \n",
      "------------------------------#----------------- |  767/5000 |   7.53 | 0.33       \n",
      "0d:00:41:51 | 0d:03:29:24 | ###----------------- |  833/5000 |   8.53 | 0.33       \r"
     ]
    },
    {
     "name": "stderr",
     "output_type": "stream",
     "text": [
      "/home/tt21642/dispyprob/pyprob/pyprob/nn/inference_network_feedforward.py:67: UserWarning: Using prior. No proposal for address: 216__forward___traverse___traverse_rec___traverse_rec___traverse_rec___traverse_rec___traverse_rec___traverse_rec___traverse_rec___traverse_rec___traverse_rec__?__Uniform__22\n",
      "  warnings.warn('Using prior. No proposal for address: {}'.format(address))\n",
      "/home/tt21642/dispyprob/pyprob/pyprob/nn/inference_network_feedforward.py:67: UserWarning: Using prior. No proposal for address: 260__forward___traverse___traverse_rec___traverse_rec___traverse_rec___traverse_rec___traverse_rec___traverse_rec___traverse_rec___traverse_rec___traverse_rec__theta_CM_U__Uniform__22\n",
      "  warnings.warn('Using prior. No proposal for address: {}'.format(address))\n",
      "/home/tt21642/dispyprob/pyprob/pyprob/nn/inference_network_feedforward.py:67: UserWarning: Using prior. No proposal for address: 470__forward___traverse___traverse_rec___traverse_rec___traverse_rec___traverse_rec___traverse_rec___traverse_rec___traverse_rec___traverse_rec___traverse_rec__draw_decay_L__TruncatedExponential__22\n",
      "  warnings.warn('Using prior. No proposal for address: {}'.format(address))\n",
      "/home/tt21642/dispyprob/pyprob/pyprob/nn/inference_network_feedforward.py:67: UserWarning: Using prior. No proposal for address: 520__forward___traverse___traverse_rec___traverse_rec___traverse_rec___traverse_rec___traverse_rec___traverse_rec___traverse_rec___traverse_rec___traverse_rec__draw_decay_R__TruncatedExponential__22\n",
      "  warnings.warn('Using prior. No proposal for address: {}'.format(address))\n"
     ]
    },
    {
     "name": "stdout",
     "output_type": "stream",
     "text": [
      "------------------------------##---------------- |  923/5000 |  10.32 | 0.33       \n",
      "------------------------------##---------------- |  961/5000 |  10.67 | 0.33       \n",
      "------------------------------##---------------- |  963/5000 |  10.67 | 0.33       \n",
      "------------------------------###--------------- | 1172/5000 |  12.16 | 0.33       \n",
      "------------------------------#####------------- | 1677/5000 |  20.82 | 0.32       \n",
      "------------------------------#####------------- | 1716/5000 |  21.56 | 0.33       \n",
      "------------------------------#####------------- | 1756/5000 |   4.93 | 0.33       \n",
      "------------------------------######------------ | 1934/5000 |   5.03 | 0.33       \n",
      "------------------------------########---------- | 2478/5000 |   8.87 | 0.33       \n",
      "------------------------------########---------- | 2573/5000 |   9.90 | 0.33       \n",
      "------------------------------########---------- | 2608/5000 |  10.00 | 0.33       \n",
      "------------------------------############------ | 3403/5000 |  11.31 | 0.33       \n",
      "------------------------------############------ | 3590/5000 |  11.78 | 0.33       \n",
      "------------------------------#############----- | 3640/5000 |  11.86 | 0.33       \n",
      "------------------------------#############----- | 3688/5000 |  11.96 | 0.33       \n",
      "0d:03:39:11 | 0d:00:33:40 | #################--- | 4335/5000 |  14.32 | 0.33       \r"
     ]
    },
    {
     "name": "stderr",
     "output_type": "stream",
     "text": [
      "/home/tt21642/dispyprob/pyprob/pyprob/nn/inference_network_feedforward.py:67: UserWarning: Using prior. No proposal for address: 520__forward___traverse___traverse_rec___traverse_rec___traverse_rec___traverse_rec__draw_decay_R__TruncatedExponential__10\n",
      "  warnings.warn('Using prior. No proposal for address: {}'.format(address))\n"
     ]
    },
    {
     "name": "stdout",
     "output_type": "stream",
     "text": [
      "------------------------------################-- | 4503/5000 |  14.57 | 0.33       \n",
      "------------------------------################## | 4964/5000 |  14.20 | 0.33       \n",
      "0d:04:13:21 | 0d:00:00:03 | #################### | 5000/5000 |  14.22 | 0.33       \r\n",
      "3d:06:36:07 | 1    | 9,400     | +4.89e+01 | +4.70e+01 | \u001b[32m+9.45e+01\u001b[0m | 0d:04:21:15 | +1.00e-03 | 0.9 \r\n",
      "Stop condition reached. num_traces: 500\n",
      "3d:06:37:59 | 1    | 9,500     | +4.89e+01 | +4.70e+01 | \u001b[31m+9.90e+01\u001b[0m | 0d:04:23:07 | +1.00e-03 | 0.9 \r\n",
      "Training iterations 1  epsilon 213.64  ESS 14.0\n",
      "Continuing to train existing inference network...\n",
      "Total number of parameters: 393,726\n",
      "Train. time | Epoch| Trace     | Init. loss| Min. loss | Curr. loss| T.since min | Learn.rate| Traces/sec\n",
      "Time spent  | Time remain.| Progress             | Trace     | ESS    | Traces/sec\n",
      "------------------------------------------------ |  318/5000 |   3.78 | 0.34       \n",
      "------------------------------------------------ |  323/5000 |   4.13 | 0.34       \n",
      "------------------------------------------------ |  408/5000 |   6.08 | 0.35       \n",
      "------------------------------------------------ |  428/5000 |   7.06 | 0.35       \n",
      "------------------------------------------------ |  455/5000 |   7.78 | 0.35       \n",
      "------------------------------------------------ |  470/5000 |   1.83 | 0.35       \n",
      "------------------------------#----------------- |  868/5000 |   2.17 | 0.34       \n",
      "------------------------------##---------------- |  947/5000 |   2.26 | 0.34       \n",
      "------------------------------##---------------- |  990/5000 |   2.26 | 0.34       \n",
      "------------------------------##---------------- | 1083/5000 |   2.30 | 0.34       \n",
      "------------------------------##---------------- | 1122/5000 |   2.30 | 0.34       \n",
      "------------------------------##---------------- | 1123/5000 |   2.30 | 0.34       \n",
      "------------------------------###--------------- | 1131/5000 |   2.30 | 0.34       \n",
      "------------------------------###--------------- | 1212/5000 |   2.32 | 0.34       \n",
      "------------------------------###--------------- | 1213/5000 |   2.32 | 0.34       \n",
      "------------------------------####-------------- | 1529/5000 |   3.29 | 0.34       \n",
      "------------------------------####-------------- | 1549/5000 |   3.31 | 0.34       \n",
      "------------------------------#####------------- | 1756/5000 |   3.81 | 0.34       \n",
      "------------------------------#####------------- | 1869/5000 |   4.11 | 0.34       \n",
      "------------------------------######------------ | 2034/5000 |   4.31 | 0.34       \n",
      "------------------------------#######----------- | 2234/5000 |   4.62 | 0.34       \n",
      "------------------------------########---------- | 2398/5000 |   5.27 | 0.34       \n",
      "------------------------------########---------- | 2573/5000 |   5.53 | 0.34       \n",
      "0d:02:10:02 | 0d:01:54:21 | ###########--------- | 2661/5000 |   5.82 | 0.34       \r"
     ]
    },
    {
     "name": "stderr",
     "output_type": "stream",
     "text": [
      "/home/tt21642/dispyprob/pyprob/pyprob/nn/inference_network_feedforward.py:67: UserWarning: Using prior. No proposal for address: 216__forward___traverse___traverse_rec___traverse_rec___traverse_rec___traverse_rec___traverse_rec___traverse_rec___traverse_rec___traverse_rec___traverse_rec___traverse_rec__?__Uniform__21\n",
      "  warnings.warn('Using prior. No proposal for address: {}'.format(address))\n",
      "/home/tt21642/dispyprob/pyprob/pyprob/nn/inference_network_feedforward.py:67: UserWarning: Using prior. No proposal for address: 260__forward___traverse___traverse_rec___traverse_rec___traverse_rec___traverse_rec___traverse_rec___traverse_rec___traverse_rec___traverse_rec___traverse_rec___traverse_rec__theta_CM_U__Uniform__21\n",
      "  warnings.warn('Using prior. No proposal for address: {}'.format(address))\n",
      "/home/tt21642/dispyprob/pyprob/pyprob/nn/inference_network_feedforward.py:67: UserWarning: Using prior. No proposal for address: 470__forward___traverse___traverse_rec___traverse_rec___traverse_rec___traverse_rec___traverse_rec___traverse_rec___traverse_rec___traverse_rec___traverse_rec___traverse_rec__draw_decay_L__TruncatedExponential__21\n",
      "  warnings.warn('Using prior. No proposal for address: {}'.format(address))\n",
      "/home/tt21642/dispyprob/pyprob/pyprob/nn/inference_network_feedforward.py:67: UserWarning: Using prior. No proposal for address: 520__forward___traverse___traverse_rec___traverse_rec___traverse_rec___traverse_rec___traverse_rec___traverse_rec___traverse_rec___traverse_rec___traverse_rec___traverse_rec__draw_decay_R__TruncatedExponential__21\n",
      "  warnings.warn('Using prior. No proposal for address: {}'.format(address))\n"
     ]
    },
    {
     "name": "stdout",
     "output_type": "stream",
     "text": [
      "------------------------------##########-------- | 2888/5000 |   6.13 | 0.34       \n",
      "------------------------------##########-------- | 2961/5000 |   6.21 | 0.34       \n",
      "------------------------------##########-------- | 2967/5000 |   6.21 | 0.34       \n",
      "------------------------------##########-------- | 2982/5000 |   6.21 | 0.34       \n",
      "------------------------------##########-------- | 3073/5000 |   6.33 | 0.34       \n",
      "------------------------------##########-------- | 3112/5000 |   6.33 | 0.34       \n",
      "------------------------------############------ | 3527/5000 |   7.18 | 0.34       \n",
      "------------------------------############------ | 3566/5000 |   7.31 | 0.34       \n",
      "------------------------------##############---- | 4103/5000 |   9.11 | 0.34       \n",
      "------------------------------###############--- | 4176/5000 |   9.15 | 0.34       \n",
      "------------------------------###############--- | 4271/5000 |   9.20 | 0.34       \n",
      "------------------------------################-- | 4420/5000 |  10.69 | 0.34       \n",
      "------------------------------################-- | 4594/5000 |  11.03 | 0.34       \n",
      "0d:04:06:23 | 0d:00:00:02 | #################### | 5000/5000 |  11.84 | 0.34       \r\n",
      "3d:10:53:31 | 1    | 9,900     | +4.89e+01 | +4.70e+01 | \u001b[31m+9.76e+01\u001b[0m | 0d:04:15:31 | +1.00e-03 | 0.6 \r\n",
      "Stop condition reached. num_traces: 500\n",
      "3d:10:56:21 | 1    | 10,000    | +4.89e+01 | +4.70e+01 | \u001b[31m+9.95e+01\u001b[0m | 0d:04:18:21 | +1.00e-03 | 0.6 \r\n",
      "Training iterations 1  epsilon 213.64  ESS 11.5\n"
     ]
    }
   ],
   "source": [
    "for i in range(20):\n",
    "    simulatorginkgo.train(iterations = 1, importance_sample_size=5000)\n",
    "    simulatorginkgo.save_inference_network('inference_network_{}'.format(i))"
   ]
  },
  {
   "cell_type": "code",
   "execution_count": 6,
   "metadata": {
    "pycharm": {
     "name": "#%%\n"
    }
   },
   "outputs": [
    {
     "name": "stdout",
     "output_type": "stream",
     "text": [
      "inference_network_0\n",
      "inference_network_1\n",
      "inference_network_2\n",
      "inference_network_3\n",
      "inference_network_4\n",
      "inference_network_5\n",
      "inference_network_6\n",
      "inference_network_7\n",
      "inference_network_8\n",
      "inference_network_9\n"
     ]
    }
   ],
   "source": [
    "for i in range(10):\n",
    "    print('inference_network_{}'.format(i))"
   ]
  },
  {
   "cell_type": "code",
   "execution_count": 8,
   "metadata": {
    "pycharm": {
     "name": "#%%\n"
    }
   },
   "outputs": [
    {
     "name": "stdout",
     "output_type": "stream",
     "text": [
      "Time spent  | Time remain.| Progress             | Trace   | ESS   | Traces/sec\n",
      "0d:00:09:34 | 0d:00:00:02 | #################### | 200/200 |  3.86 | 0.35       \r\n"
     ]
    }
   ],
   "source": [
    "posterior_results = simulatorginkgo.posterior_results(num_traces = 200, inference_engine=InferenceEngine.DISTILLING_IMPORTANCE_SAMPLING,observe={'dummy':1})"
   ]
  },
  {
   "cell_type": "code",
   "execution_count": 9,
   "metadata": {
    "pycharm": {
     "name": "#%%\n"
    }
   },
   "outputs": [
    {
     "name": "stderr",
     "output_type": "stream",
     "text": [
      "/tmp/ipykernel_70602/1752891521.py:2: UserWarning: To copy construct from a tensor, it is recommended to use sourceTensor.clone().detach() or sourceTensor.clone().detach().requires_grad_(True), rather than torch.tensor(sourceTensor).\n",
      "  x = torch.tensor(x)\n"
     ]
    }
   ],
   "source": [
    "def sinkhorn_2(x,y):\n",
    "    x = torch.tensor(x)\n",
    "    y = torch.tensor(y)\n",
    "    return sinkhorn(x,y)\n",
    "posterior_distances = np.array([sinkhorn_2(obs_leaves, res['leaves']).detach().numpy() for res in posterior_results])"
   ]
  },
  {
   "cell_type": "code",
   "execution_count": 10,
   "metadata": {
    "pycharm": {
     "name": "#%%\n"
    }
   },
   "outputs": [
    {
     "data": {
      "text/plain": [
       "(array([ 7., 15., 37., 53., 55., 26.,  6.,  0.,  0.,  1.]),\n",
       " array([ 2.18559314,  3.22246649,  4.25933984,  5.29621319,  6.33308653,\n",
       "         7.36995988,  8.40683323,  9.44370658, 10.48057993, 11.51745328,\n",
       "        12.55432663]),\n",
       " <BarContainer object of 10 artists>)"
      ]
     },
     "execution_count": 10,
     "metadata": {},
     "output_type": "execute_result"
    },
    {
     "data": {
      "image/png": "[encoded data removed]",
      "text/plain": [
       "<Figure size 432x288 with 1 Axes>"
      ]
     },
     "metadata": {
      "needs_background": "light"
     },
     "output_type": "display_data"
    }
   ],
   "source": [
    "plt.hist(posterior_distances)"
   ]
  },
  {
   "cell_type": "code",
   "execution_count": 11,
   "metadata": {
    "pycharm": {
     "name": "#%%\n"
    }
   },
   "outputs": [],
   "source": [
    "lambdas = np.array([i['Lambda'].detach().numpy() for i in posterior_results])"
   ]
  },
  {
   "cell_type": "code",
   "execution_count": 12,
   "metadata": {
    "pycharm": {
     "name": "#%%\n"
    }
   },
   "outputs": [
    {
     "data": {
      "text/plain": [
       "(array([22., 14., 20., 21., 18., 19., 23., 21., 24., 18.]),\n",
       " array([0.01044607, 1.0014656 , 1.992485  , 2.9835045 , 3.974524  ,\n",
       "        4.9655437 , 5.956563  , 6.9475822 , 7.938602  , 8.929622  ,\n",
       "        9.920641  ], dtype=float32),\n",
       " <BarContainer object of 10 artists>)"
      ]
     },
     "execution_count": 12,
     "metadata": {},
     "output_type": "execute_result"
    },
    {
     "data": {
      "image/png": "[encoded data removed]",
      "text/plain": [
       "<Figure size 432x288 with 1 Axes>"
      ]
     },
     "metadata": {
      "needs_background": "light"
     },
     "output_type": "display_data"
    }
   ],
   "source": [
    "plt.hist(lambdas)"
   ]
  },
  {
   "cell_type": "code",
   "execution_count": 13,
   "metadata": {
    "pycharm": {
     "name": "#%%\n"
    }
   },
   "outputs": [],
   "source": [
    "def leaf_dist(x,y):\n",
    "    x_count = len(x)\n",
    "    y_count = len(y)\n",
    "    return np.abs(x_count-y_count)"
   ]
  },
  {
   "cell_type": "code",
   "execution_count": 14,
   "metadata": {
    "pycharm": {
     "name": "#%%\n"
    }
   },
   "outputs": [],
   "source": [
    "simulatorginkgoleaf = SimulatorModelDIS(jet_p=jet4vec,  # parent particle 4-vector\n",
    "                              pt_cut=float(pt_min),  # minimum pT for resulting jet\n",
    "                              Delta_0= M2start,  # parent particle mass squared -> needs tensor\n",
    "                              M_hard=jetM,  # parent particle mass\n",
    "                              minLeaves=1,  # minimum number of jet constituents\n",
    "                              maxLeaves=10000,  # maximum number of jet constituents (a large value to stop expensive simulator runs)\n",
    "                              suppress_output=True,\n",
    "                              obs_leaves=obs_leaves,\n",
    "                              dist_fun = leaf_dist)"
   ]
  },
  {
   "cell_type": "code",
   "execution_count": 17,
   "metadata": {
    "pycharm": {
     "name": "#%%\n"
    }
   },
   "outputs": [
    {
     "name": "stdout",
     "output_type": "stream",
     "text": [
      "Continuing to train existing inference network...\n",
      "Total number of parameters: 231,036\n",
      "Train. time | Epoch| Trace     | Init. loss| Min. loss | Curr. loss| T.since min | Learn.rate| Traces/sec\n",
      "Time spent  | Time remain.| Progress             | Trace     | ESS    | Traces/sec\n",
      "0d:00:00:08 | 0d:02:48:12 | -------------------- |    4/5000 |   1.00 | 0.50       \r"
     ]
    },
    {
     "name": "stderr",
     "output_type": "stream",
     "text": [
      "/home/tt21642/dispyprob/pyprob/pyprob/nn/inference_network_feedforward.py:67: UserWarning: Using prior. No proposal for address: 216__forward___traverse___traverse_rec___traverse_rec___traverse_rec___traverse_rec___traverse_rec___traverse_rec___traverse_rec___traverse_rec___traverse_rec___traverse_rec___traverse_rec___traverse_rec___traverse_rec___traverse_rec___traverse_rec___traverse_rec___traverse_rec__?__Uniform__1\n",
      "  warnings.warn('Using prior. No proposal for address: {}'.format(address))\n",
      "/home/tt21642/dispyprob/pyprob/pyprob/nn/inference_network_feedforward.py:67: UserWarning: Using prior. No proposal for address: 260__forward___traverse___traverse_rec___traverse_rec___traverse_rec___traverse_rec___traverse_rec___traverse_rec___traverse_rec___traverse_rec___traverse_rec___traverse_rec___traverse_rec___traverse_rec___traverse_rec___traverse_rec___traverse_rec___traverse_rec___traverse_rec__theta_CM_U__Uniform__1\n",
      "  warnings.warn('Using prior. No proposal for address: {}'.format(address))\n",
      "/home/tt21642/dispyprob/pyprob/pyprob/nn/inference_network_feedforward.py:67: UserWarning: Using prior. No proposal for address: 470__forward___traverse___traverse_rec___traverse_rec___traverse_rec___traverse_rec___traverse_rec___traverse_rec___traverse_rec___traverse_rec___traverse_rec___traverse_rec___traverse_rec___traverse_rec___traverse_rec___traverse_rec___traverse_rec___traverse_rec___traverse_rec__draw_decay_L__TruncatedExponential__1\n",
      "  warnings.warn('Using prior. No proposal for address: {}'.format(address))\n",
      "/home/tt21642/dispyprob/pyprob/pyprob/nn/inference_network_feedforward.py:67: UserWarning: Using prior. No proposal for address: 520__forward___traverse___traverse_rec___traverse_rec___traverse_rec___traverse_rec___traverse_rec___traverse_rec___traverse_rec___traverse_rec___traverse_rec___traverse_rec___traverse_rec___traverse_rec___traverse_rec___traverse_rec___traverse_rec___traverse_rec___traverse_rec__draw_decay_R__TruncatedExponential__1\n",
      "  warnings.warn('Using prior. No proposal for address: {}'.format(address))\n",
      "/home/tt21642/dispyprob/pyprob/pyprob/nn/inference_network_feedforward.py:67: UserWarning: Using prior. No proposal for address: 216__forward___traverse___traverse_rec___traverse_rec___traverse_rec___traverse_rec___traverse_rec___traverse_rec___traverse_rec___traverse_rec___traverse_rec___traverse_rec___traverse_rec__?__Uniform__7\n",
      "  warnings.warn('Using prior. No proposal for address: {}'.format(address))\n",
      "/home/tt21642/dispyprob/pyprob/pyprob/nn/inference_network_feedforward.py:67: UserWarning: Using prior. No proposal for address: 260__forward___traverse___traverse_rec___traverse_rec___traverse_rec___traverse_rec___traverse_rec___traverse_rec___traverse_rec___traverse_rec___traverse_rec___traverse_rec___traverse_rec__theta_CM_U__Uniform__7\n",
      "  warnings.warn('Using prior. No proposal for address: {}'.format(address))\n",
      "/home/tt21642/dispyprob/pyprob/pyprob/nn/inference_network_feedforward.py:67: UserWarning: Using prior. No proposal for address: 470__forward___traverse___traverse_rec___traverse_rec___traverse_rec___traverse_rec___traverse_rec___traverse_rec___traverse_rec___traverse_rec___traverse_rec___traverse_rec___traverse_rec__draw_decay_L__TruncatedExponential__7\n",
      "  warnings.warn('Using prior. No proposal for address: {}'.format(address))\n",
      "/home/tt21642/dispyprob/pyprob/pyprob/nn/inference_network_feedforward.py:67: UserWarning: Using prior. No proposal for address: 520__forward___traverse___traverse_rec___traverse_rec___traverse_rec___traverse_rec___traverse_rec___traverse_rec___traverse_rec___traverse_rec___traverse_rec___traverse_rec___traverse_rec__draw_decay_R__TruncatedExponential__7\n",
      "  warnings.warn('Using prior. No proposal for address: {}'.format(address))\n",
      "/home/tt21642/dispyprob/pyprob/pyprob/nn/inference_network_feedforward.py:67: UserWarning: Using prior. No proposal for address: 216__forward___traverse___traverse_rec___traverse_rec___traverse_rec___traverse_rec___traverse_rec___traverse_rec___traverse_rec___traverse_rec___traverse_rec___traverse_rec__?__Uniform__10\n",
      "  warnings.warn('Using prior. No proposal for address: {}'.format(address))\n",
      "/home/tt21642/dispyprob/pyprob/pyprob/nn/inference_network_feedforward.py:67: UserWarning: Using prior. No proposal for address: 260__forward___traverse___traverse_rec___traverse_rec___traverse_rec___traverse_rec___traverse_rec___traverse_rec___traverse_rec___traverse_rec___traverse_rec___traverse_rec__theta_CM_U__Uniform__10\n",
      "  warnings.warn('Using prior. No proposal for address: {}'.format(address))\n",
      "/home/tt21642/dispyprob/pyprob/pyprob/nn/inference_network_feedforward.py:67: UserWarning: Using prior. No proposal for address: 470__forward___traverse___traverse_rec___traverse_rec___traverse_rec___traverse_rec___traverse_rec___traverse_rec___traverse_rec___traverse_rec___traverse_rec___traverse_rec__draw_decay_L__TruncatedExponential__10\n",
      "  warnings.warn('Using prior. No proposal for address: {}'.format(address))\n",
      "/home/tt21642/dispyprob/pyprob/pyprob/nn/inference_network_feedforward.py:67: UserWarning: Using prior. No proposal for address: 520__forward___traverse___traverse_rec___traverse_rec___traverse_rec___traverse_rec___traverse_rec___traverse_rec___traverse_rec___traverse_rec___traverse_rec___traverse_rec__draw_decay_R__TruncatedExponential__10\n",
      "  warnings.warn('Using prior. No proposal for address: {}'.format(address))\n"
     ]
    },
    {
     "name": "stdout",
     "output_type": "stream",
     "text": [
      "0d:00:00:11 | 0d:03:07:23 | -------------------- |    5/5000 |   1.00 | 0.44       \r"
     ]
    },
    {
     "name": "stderr",
     "output_type": "stream",
     "text": [
      "/home/tt21642/dispyprob/pyprob/pyprob/nn/inference_network_feedforward.py:67: UserWarning: Using prior. No proposal for address: 216__forward___traverse___traverse_rec___traverse_rec___traverse_rec___traverse_rec___traverse_rec___traverse_rec___traverse_rec___traverse_rec___traverse_rec___traverse_rec___traverse_rec__?__Uniform__8\n",
      "  warnings.warn('Using prior. No proposal for address: {}'.format(address))\n",
      "/home/tt21642/dispyprob/pyprob/pyprob/nn/inference_network_feedforward.py:67: UserWarning: Using prior. No proposal for address: 260__forward___traverse___traverse_rec___traverse_rec___traverse_rec___traverse_rec___traverse_rec___traverse_rec___traverse_rec___traverse_rec___traverse_rec___traverse_rec___traverse_rec__theta_CM_U__Uniform__8\n",
      "  warnings.warn('Using prior. No proposal for address: {}'.format(address))\n",
      "/home/tt21642/dispyprob/pyprob/pyprob/nn/inference_network_feedforward.py:67: UserWarning: Using prior. No proposal for address: 470__forward___traverse___traverse_rec___traverse_rec___traverse_rec___traverse_rec___traverse_rec___traverse_rec___traverse_rec___traverse_rec___traverse_rec___traverse_rec___traverse_rec__draw_decay_L__TruncatedExponential__8\n",
      "  warnings.warn('Using prior. No proposal for address: {}'.format(address))\n",
      "/home/tt21642/dispyprob/pyprob/pyprob/nn/inference_network_feedforward.py:67: UserWarning: Using prior. No proposal for address: 520__forward___traverse___traverse_rec___traverse_rec___traverse_rec___traverse_rec___traverse_rec___traverse_rec___traverse_rec___traverse_rec___traverse_rec___traverse_rec___traverse_rec__draw_decay_R__TruncatedExponential__8\n",
      "  warnings.warn('Using prior. No proposal for address: {}'.format(address))\n",
      "/home/tt21642/dispyprob/pyprob/pyprob/nn/inference_network_feedforward.py:67: UserWarning: Using prior. No proposal for address: 216__forward___traverse___traverse_rec___traverse_rec___traverse_rec___traverse_rec___traverse_rec___traverse_rec___traverse_rec___traverse_rec___traverse_rec___traverse_rec___traverse_rec___traverse_rec___traverse_rec___traverse_rec__?__Uniform__4\n",
      "  warnings.warn('Using prior. No proposal for address: {}'.format(address))\n",
      "/home/tt21642/dispyprob/pyprob/pyprob/nn/inference_network_feedforward.py:67: UserWarning: Using prior. No proposal for address: 260__forward___traverse___traverse_rec___traverse_rec___traverse_rec___traverse_rec___traverse_rec___traverse_rec___traverse_rec___traverse_rec___traverse_rec___traverse_rec___traverse_rec___traverse_rec___traverse_rec___traverse_rec__theta_CM_U__Uniform__4\n",
      "  warnings.warn('Using prior. No proposal for address: {}'.format(address))\n",
      "/home/tt21642/dispyprob/pyprob/pyprob/nn/inference_network_feedforward.py:67: UserWarning: Using prior. No proposal for address: 470__forward___traverse___traverse_rec___traverse_rec___traverse_rec___traverse_rec___traverse_rec___traverse_rec___traverse_rec___traverse_rec___traverse_rec___traverse_rec___traverse_rec___traverse_rec___traverse_rec___traverse_rec__draw_decay_L__TruncatedExponential__4\n",
      "  warnings.warn('Using prior. No proposal for address: {}'.format(address))\n",
      "/home/tt21642/dispyprob/pyprob/pyprob/nn/inference_network_feedforward.py:67: UserWarning: Using prior. No proposal for address: 520__forward___traverse___traverse_rec___traverse_rec___traverse_rec___traverse_rec___traverse_rec___traverse_rec___traverse_rec___traverse_rec___traverse_rec___traverse_rec___traverse_rec___traverse_rec___traverse_rec___traverse_rec__draw_decay_R__TruncatedExponential__4\n",
      "  warnings.warn('Using prior. No proposal for address: {}'.format(address))\n",
      "/home/tt21642/dispyprob/pyprob/pyprob/nn/inference_network_feedforward.py:67: UserWarning: Using prior. No proposal for address: 216__forward___traverse___traverse_rec___traverse_rec___traverse_rec___traverse_rec___traverse_rec___traverse_rec___traverse_rec___traverse_rec___traverse_rec___traverse_rec___traverse_rec___traverse_rec___traverse_rec___traverse_rec__?__Uniform__5\n",
      "  warnings.warn('Using prior. No proposal for address: {}'.format(address))\n",
      "/home/tt21642/dispyprob/pyprob/pyprob/nn/inference_network_feedforward.py:67: UserWarning: Using prior. No proposal for address: 260__forward___traverse___traverse_rec___traverse_rec___traverse_rec___traverse_rec___traverse_rec___traverse_rec___traverse_rec___traverse_rec___traverse_rec___traverse_rec___traverse_rec___traverse_rec___traverse_rec___traverse_rec__theta_CM_U__Uniform__5\n",
      "  warnings.warn('Using prior. No proposal for address: {}'.format(address))\n",
      "/home/tt21642/dispyprob/pyprob/pyprob/nn/inference_network_feedforward.py:67: UserWarning: Using prior. No proposal for address: 470__forward___traverse___traverse_rec___traverse_rec___traverse_rec___traverse_rec___traverse_rec___traverse_rec___traverse_rec___traverse_rec___traverse_rec___traverse_rec___traverse_rec___traverse_rec___traverse_rec___traverse_rec__draw_decay_L__TruncatedExponential__5\n",
      "  warnings.warn('Using prior. No proposal for address: {}'.format(address))\n",
      "/home/tt21642/dispyprob/pyprob/pyprob/nn/inference_network_feedforward.py:67: UserWarning: Using prior. No proposal for address: 520__forward___traverse___traverse_rec___traverse_rec___traverse_rec___traverse_rec___traverse_rec___traverse_rec___traverse_rec___traverse_rec___traverse_rec___traverse_rec___traverse_rec___traverse_rec___traverse_rec___traverse_rec__draw_decay_R__TruncatedExponential__5\n",
      "  warnings.warn('Using prior. No proposal for address: {}'.format(address))\n",
      "/home/tt21642/dispyprob/pyprob/pyprob/nn/inference_network_feedforward.py:67: UserWarning: Using prior. No proposal for address: 216__forward___traverse___traverse_rec___traverse_rec___traverse_rec___traverse_rec___traverse_rec___traverse_rec___traverse_rec___traverse_rec___traverse_rec___traverse_rec___traverse_rec___traverse_rec__?__Uniform__6\n",
      "  warnings.warn('Using prior. No proposal for address: {}'.format(address))\n",
      "/home/tt21642/dispyprob/pyprob/pyprob/nn/inference_network_feedforward.py:67: UserWarning: Using prior. No proposal for address: 260__forward___traverse___traverse_rec___traverse_rec___traverse_rec___traverse_rec___traverse_rec___traverse_rec___traverse_rec___traverse_rec___traverse_rec___traverse_rec___traverse_rec___traverse_rec__theta_CM_U__Uniform__6\n",
      "  warnings.warn('Using prior. No proposal for address: {}'.format(address))\n",
      "/home/tt21642/dispyprob/pyprob/pyprob/nn/inference_network_feedforward.py:67: UserWarning: Using prior. No proposal for address: 470__forward___traverse___traverse_rec___traverse_rec___traverse_rec___traverse_rec___traverse_rec___traverse_rec___traverse_rec___traverse_rec___traverse_rec___traverse_rec___traverse_rec___traverse_rec__draw_decay_L__TruncatedExponential__6\n",
      "  warnings.warn('Using prior. No proposal for address: {}'.format(address))\n",
      "/home/tt21642/dispyprob/pyprob/pyprob/nn/inference_network_feedforward.py:67: UserWarning: Using prior. No proposal for address: 520__forward___traverse___traverse_rec___traverse_rec___traverse_rec___traverse_rec___traverse_rec___traverse_rec___traverse_rec___traverse_rec___traverse_rec___traverse_rec___traverse_rec___traverse_rec__draw_decay_R__TruncatedExponential__6\n",
      "  warnings.warn('Using prior. No proposal for address: {}'.format(address))\n"
     ]
    },
    {
     "name": "stdout",
     "output_type": "stream",
     "text": [
      "0d:00:00:13 | 0d:03:09:54 | -------------------- |    6/5000 |   1.00 | 0.44       \r"
     ]
    },
    {
     "name": "stderr",
     "output_type": "stream",
     "text": [
      "/home/tt21642/dispyprob/pyprob/pyprob/nn/inference_network_feedforward.py:67: UserWarning: Using prior. No proposal for address: 216__forward___traverse___traverse_rec___traverse_rec___traverse_rec___traverse_rec___traverse_rec___traverse_rec___traverse_rec___traverse_rec___traverse_rec___traverse_rec___traverse_rec___traverse_rec___traverse_rec___traverse_rec___traverse_rec___traverse_rec__?__Uniform__2\n",
      "  warnings.warn('Using prior. No proposal for address: {}'.format(address))\n",
      "/home/tt21642/dispyprob/pyprob/pyprob/nn/inference_network_feedforward.py:67: UserWarning: Using prior. No proposal for address: 260__forward___traverse___traverse_rec___traverse_rec___traverse_rec___traverse_rec___traverse_rec___traverse_rec___traverse_rec___traverse_rec___traverse_rec___traverse_rec___traverse_rec___traverse_rec___traverse_rec___traverse_rec___traverse_rec___traverse_rec__theta_CM_U__Uniform__2\n",
      "  warnings.warn('Using prior. No proposal for address: {}'.format(address))\n",
      "/home/tt21642/dispyprob/pyprob/pyprob/nn/inference_network_feedforward.py:67: UserWarning: Using prior. No proposal for address: 470__forward___traverse___traverse_rec___traverse_rec___traverse_rec___traverse_rec___traverse_rec___traverse_rec___traverse_rec___traverse_rec___traverse_rec___traverse_rec___traverse_rec___traverse_rec___traverse_rec___traverse_rec___traverse_rec___traverse_rec__draw_decay_L__TruncatedExponential__2\n",
      "  warnings.warn('Using prior. No proposal for address: {}'.format(address))\n",
      "/home/tt21642/dispyprob/pyprob/pyprob/nn/inference_network_feedforward.py:67: UserWarning: Using prior. No proposal for address: 520__forward___traverse___traverse_rec___traverse_rec___traverse_rec___traverse_rec___traverse_rec___traverse_rec___traverse_rec___traverse_rec___traverse_rec___traverse_rec___traverse_rec___traverse_rec___traverse_rec___traverse_rec___traverse_rec___traverse_rec__draw_decay_R__TruncatedExponential__2\n",
      "  warnings.warn('Using prior. No proposal for address: {}'.format(address))\n",
      "/home/tt21642/dispyprob/pyprob/pyprob/nn/inference_network_feedforward.py:67: UserWarning: Using prior. No proposal for address: 216__forward___traverse___traverse_rec___traverse_rec___traverse_rec___traverse_rec___traverse_rec___traverse_rec___traverse_rec___traverse_rec___traverse_rec___traverse_rec___traverse_rec___traverse_rec___traverse_rec___traverse_rec___traverse_rec___traverse_rec__?__Uniform__3\n",
      "  warnings.warn('Using prior. No proposal for address: {}'.format(address))\n",
      "/home/tt21642/dispyprob/pyprob/pyprob/nn/inference_network_feedforward.py:67: UserWarning: Using prior. No proposal for address: 260__forward___traverse___traverse_rec___traverse_rec___traverse_rec___traverse_rec___traverse_rec___traverse_rec___traverse_rec___traverse_rec___traverse_rec___traverse_rec___traverse_rec___traverse_rec___traverse_rec___traverse_rec___traverse_rec___traverse_rec__theta_CM_U__Uniform__3\n",
      "  warnings.warn('Using prior. No proposal for address: {}'.format(address))\n",
      "/home/tt21642/dispyprob/pyprob/pyprob/nn/inference_network_feedforward.py:67: UserWarning: Using prior. No proposal for address: 470__forward___traverse___traverse_rec___traverse_rec___traverse_rec___traverse_rec___traverse_rec___traverse_rec___traverse_rec___traverse_rec___traverse_rec___traverse_rec___traverse_rec___traverse_rec___traverse_rec___traverse_rec___traverse_rec___traverse_rec__draw_decay_L__TruncatedExponential__3\n",
      "  warnings.warn('Using prior. No proposal for address: {}'.format(address))\n",
      "/home/tt21642/dispyprob/pyprob/pyprob/nn/inference_network_feedforward.py:67: UserWarning: Using prior. No proposal for address: 520__forward___traverse___traverse_rec___traverse_rec___traverse_rec___traverse_rec___traverse_rec___traverse_rec___traverse_rec___traverse_rec___traverse_rec___traverse_rec___traverse_rec___traverse_rec___traverse_rec___traverse_rec___traverse_rec___traverse_rec__draw_decay_R__TruncatedExponential__3\n",
      "  warnings.warn('Using prior. No proposal for address: {}'.format(address))\n",
      "/home/tt21642/dispyprob/pyprob/pyprob/nn/inference_network_feedforward.py:67: UserWarning: Using prior. No proposal for address: 216__forward___traverse___traverse_rec___traverse_rec___traverse_rec___traverse_rec___traverse_rec___traverse_rec___traverse_rec___traverse_rec___traverse_rec___traverse_rec___traverse_rec___traverse_rec___traverse_rec___traverse_rec___traverse_rec__?__Uniform__3\n",
      "  warnings.warn('Using prior. No proposal for address: {}'.format(address))\n",
      "/home/tt21642/dispyprob/pyprob/pyprob/nn/inference_network_feedforward.py:67: UserWarning: Using prior. No proposal for address: 260__forward___traverse___traverse_rec___traverse_rec___traverse_rec___traverse_rec___traverse_rec___traverse_rec___traverse_rec___traverse_rec___traverse_rec___traverse_rec___traverse_rec___traverse_rec___traverse_rec___traverse_rec___traverse_rec__theta_CM_U__Uniform__3\n",
      "  warnings.warn('Using prior. No proposal for address: {}'.format(address))\n",
      "/home/tt21642/dispyprob/pyprob/pyprob/nn/inference_network_feedforward.py:67: UserWarning: Using prior. No proposal for address: 470__forward___traverse___traverse_rec___traverse_rec___traverse_rec___traverse_rec___traverse_rec___traverse_rec___traverse_rec___traverse_rec___traverse_rec___traverse_rec___traverse_rec___traverse_rec___traverse_rec___traverse_rec___traverse_rec__draw_decay_L__TruncatedExponential__3\n",
      "  warnings.warn('Using prior. No proposal for address: {}'.format(address))\n",
      "/home/tt21642/dispyprob/pyprob/pyprob/nn/inference_network_feedforward.py:67: UserWarning: Using prior. No proposal for address: 520__forward___traverse___traverse_rec___traverse_rec___traverse_rec___traverse_rec___traverse_rec___traverse_rec___traverse_rec___traverse_rec___traverse_rec___traverse_rec___traverse_rec___traverse_rec___traverse_rec___traverse_rec___traverse_rec__draw_decay_R__TruncatedExponential__3\n",
      "  warnings.warn('Using prior. No proposal for address: {}'.format(address))\n",
      "/home/tt21642/dispyprob/pyprob/pyprob/nn/inference_network_feedforward.py:67: UserWarning: Using prior. No proposal for address: 216__forward___traverse___traverse_rec___traverse_rec___traverse_rec___traverse_rec___traverse_rec___traverse_rec___traverse_rec___traverse_rec___traverse_rec___traverse_rec___traverse_rec___traverse_rec___traverse_rec___traverse_rec___traverse_rec__?__Uniform__4\n",
      "  warnings.warn('Using prior. No proposal for address: {}'.format(address))\n",
      "/home/tt21642/dispyprob/pyprob/pyprob/nn/inference_network_feedforward.py:67: UserWarning: Using prior. No proposal for address: 260__forward___traverse___traverse_rec___traverse_rec___traverse_rec___traverse_rec___traverse_rec___traverse_rec___traverse_rec___traverse_rec___traverse_rec___traverse_rec___traverse_rec___traverse_rec___traverse_rec___traverse_rec___traverse_rec__theta_CM_U__Uniform__4\n",
      "  warnings.warn('Using prior. No proposal for address: {}'.format(address))\n",
      "/home/tt21642/dispyprob/pyprob/pyprob/nn/inference_network_feedforward.py:67: UserWarning: Using prior. No proposal for address: 470__forward___traverse___traverse_rec___traverse_rec___traverse_rec___traverse_rec___traverse_rec___traverse_rec___traverse_rec___traverse_rec___traverse_rec___traverse_rec___traverse_rec___traverse_rec___traverse_rec___traverse_rec___traverse_rec__draw_decay_L__TruncatedExponential__4\n",
      "  warnings.warn('Using prior. No proposal for address: {}'.format(address))\n",
      "/home/tt21642/dispyprob/pyprob/pyprob/nn/inference_network_feedforward.py:67: UserWarning: Using prior. No proposal for address: 520__forward___traverse___traverse_rec___traverse_rec___traverse_rec___traverse_rec___traverse_rec___traverse_rec___traverse_rec___traverse_rec___traverse_rec___traverse_rec___traverse_rec___traverse_rec___traverse_rec___traverse_rec___traverse_rec__draw_decay_R__TruncatedExponential__4\n",
      "  warnings.warn('Using prior. No proposal for address: {}'.format(address))\n",
      "/home/tt21642/dispyprob/pyprob/pyprob/nn/inference_network_feedforward.py:67: UserWarning: Using prior. No proposal for address: 216__forward___traverse___traverse_rec___traverse_rec___traverse_rec___traverse_rec___traverse_rec___traverse_rec___traverse_rec___traverse_rec___traverse_rec___traverse_rec___traverse_rec___traverse_rec___traverse_rec__?__Uniform__5\n",
      "  warnings.warn('Using prior. No proposal for address: {}'.format(address))\n",
      "/home/tt21642/dispyprob/pyprob/pyprob/nn/inference_network_feedforward.py:67: UserWarning: Using prior. No proposal for address: 260__forward___traverse___traverse_rec___traverse_rec___traverse_rec___traverse_rec___traverse_rec___traverse_rec___traverse_rec___traverse_rec___traverse_rec___traverse_rec___traverse_rec___traverse_rec___traverse_rec__theta_CM_U__Uniform__5\n",
      "  warnings.warn('Using prior. No proposal for address: {}'.format(address))\n",
      "/home/tt21642/dispyprob/pyprob/pyprob/nn/inference_network_feedforward.py:67: UserWarning: Using prior. No proposal for address: 470__forward___traverse___traverse_rec___traverse_rec___traverse_rec___traverse_rec___traverse_rec___traverse_rec___traverse_rec___traverse_rec___traverse_rec___traverse_rec___traverse_rec___traverse_rec___traverse_rec__draw_decay_L__TruncatedExponential__5\n",
      "  warnings.warn('Using prior. No proposal for address: {}'.format(address))\n",
      "/home/tt21642/dispyprob/pyprob/pyprob/nn/inference_network_feedforward.py:67: UserWarning: Using prior. No proposal for address: 520__forward___traverse___traverse_rec___traverse_rec___traverse_rec___traverse_rec___traverse_rec___traverse_rec___traverse_rec___traverse_rec___traverse_rec___traverse_rec___traverse_rec___traverse_rec___traverse_rec__draw_decay_R__TruncatedExponential__5\n",
      "  warnings.warn('Using prior. No proposal for address: {}'.format(address))\n",
      "/home/tt21642/dispyprob/pyprob/pyprob/nn/inference_network_feedforward.py:67: UserWarning: Using prior. No proposal for address: 216__forward___traverse___traverse_rec___traverse_rec___traverse_rec___traverse_rec___traverse_rec___traverse_rec___traverse_rec___traverse_rec___traverse_rec___traverse_rec___traverse_rec___traverse_rec___traverse_rec__?__Uniform__6\n",
      "  warnings.warn('Using prior. No proposal for address: {}'.format(address))\n",
      "/home/tt21642/dispyprob/pyprob/pyprob/nn/inference_network_feedforward.py:67: UserWarning: Using prior. No proposal for address: 260__forward___traverse___traverse_rec___traverse_rec___traverse_rec___traverse_rec___traverse_rec___traverse_rec___traverse_rec___traverse_rec___traverse_rec___traverse_rec___traverse_rec___traverse_rec___traverse_rec__theta_CM_U__Uniform__6\n",
      "  warnings.warn('Using prior. No proposal for address: {}'.format(address))\n",
      "/home/tt21642/dispyprob/pyprob/pyprob/nn/inference_network_feedforward.py:67: UserWarning: Using prior. No proposal for address: 470__forward___traverse___traverse_rec___traverse_rec___traverse_rec___traverse_rec___traverse_rec___traverse_rec___traverse_rec___traverse_rec___traverse_rec___traverse_rec___traverse_rec___traverse_rec___traverse_rec__draw_decay_L__TruncatedExponential__6\n",
      "  warnings.warn('Using prior. No proposal for address: {}'.format(address))\n",
      "/home/tt21642/dispyprob/pyprob/pyprob/nn/inference_network_feedforward.py:67: UserWarning: Using prior. No proposal for address: 520__forward___traverse___traverse_rec___traverse_rec___traverse_rec___traverse_rec___traverse_rec___traverse_rec___traverse_rec___traverse_rec___traverse_rec___traverse_rec___traverse_rec___traverse_rec___traverse_rec__draw_decay_R__TruncatedExponential__6\n",
      "  warnings.warn('Using prior. No proposal for address: {}'.format(address))\n",
      "/home/tt21642/dispyprob/pyprob/pyprob/nn/inference_network_feedforward.py:67: UserWarning: Using prior. No proposal for address: 520__forward___traverse___traverse_rec___traverse_rec___traverse_rec___traverse_rec___traverse_rec___traverse_rec___traverse_rec___traverse_rec___traverse_rec___traverse_rec___traverse_rec___traverse_rec__draw_decay_R__TruncatedExponential__7\n",
      "  warnings.warn('Using prior. No proposal for address: {}'.format(address))\n",
      "/home/tt21642/dispyprob/pyprob/pyprob/nn/inference_network_feedforward.py:67: UserWarning: Using prior. No proposal for address: 216__forward___traverse___traverse_rec___traverse_rec___traverse_rec___traverse_rec___traverse_rec___traverse_rec___traverse_rec___traverse_rec___traverse_rec___traverse_rec___traverse_rec___traverse_rec__?__Uniform__7\n",
      "  warnings.warn('Using prior. No proposal for address: {}'.format(address))\n",
      "/home/tt21642/dispyprob/pyprob/pyprob/nn/inference_network_feedforward.py:67: UserWarning: Using prior. No proposal for address: 260__forward___traverse___traverse_rec___traverse_rec___traverse_rec___traverse_rec___traverse_rec___traverse_rec___traverse_rec___traverse_rec___traverse_rec___traverse_rec___traverse_rec___traverse_rec__theta_CM_U__Uniform__7\n",
      "  warnings.warn('Using prior. No proposal for address: {}'.format(address))\n",
      "/home/tt21642/dispyprob/pyprob/pyprob/nn/inference_network_feedforward.py:67: UserWarning: Using prior. No proposal for address: 470__forward___traverse___traverse_rec___traverse_rec___traverse_rec___traverse_rec___traverse_rec___traverse_rec___traverse_rec___traverse_rec___traverse_rec___traverse_rec___traverse_rec___traverse_rec__draw_decay_L__TruncatedExponential__7\n",
      "  warnings.warn('Using prior. No proposal for address: {}'.format(address))\n"
     ]
    },
    {
     "name": "stdout",
     "output_type": "stream",
     "text": [
      "0d:00:00:30 | 0d:03:48:01 | -------------------- |   11/5000 |   1.87 | 0.36       \r"
     ]
    },
    {
     "name": "stderr",
     "output_type": "stream",
     "text": [
      "/home/tt21642/dispyprob/pyprob/pyprob/nn/inference_network_feedforward.py:67: UserWarning: Using prior. No proposal for address: 520__forward___traverse___traverse_rec___traverse_rec___traverse_rec___traverse_rec___traverse_rec___traverse_rec___traverse_rec___traverse_rec__draw_decay_R__TruncatedExponential__14\n",
      "  warnings.warn('Using prior. No proposal for address: {}'.format(address))\n"
     ]
    },
    {
     "name": "stdout",
     "output_type": "stream",
     "text": [
      "0d:00:00:46 | 0d:03:44:57 | -------------------- |   17/5000 |   1.87 | 0.37       \r"
     ]
    },
    {
     "name": "stderr",
     "output_type": "stream",
     "text": [
      "/home/tt21642/dispyprob/pyprob/pyprob/nn/inference_network_feedforward.py:67: UserWarning: Using prior. No proposal for address: 216__forward___traverse___traverse_rec___traverse_rec___traverse_rec___traverse_rec___traverse_rec___traverse_rec___traverse_rec___traverse_rec___traverse_rec___traverse_rec___traverse_rec__?__Uniform__9\n",
      "  warnings.warn('Using prior. No proposal for address: {}'.format(address))\n",
      "/home/tt21642/dispyprob/pyprob/pyprob/nn/inference_network_feedforward.py:67: UserWarning: Using prior. No proposal for address: 260__forward___traverse___traverse_rec___traverse_rec___traverse_rec___traverse_rec___traverse_rec___traverse_rec___traverse_rec___traverse_rec___traverse_rec___traverse_rec___traverse_rec__theta_CM_U__Uniform__9\n",
      "  warnings.warn('Using prior. No proposal for address: {}'.format(address))\n",
      "/home/tt21642/dispyprob/pyprob/pyprob/nn/inference_network_feedforward.py:67: UserWarning: Using prior. No proposal for address: 470__forward___traverse___traverse_rec___traverse_rec___traverse_rec___traverse_rec___traverse_rec___traverse_rec___traverse_rec___traverse_rec___traverse_rec___traverse_rec___traverse_rec__draw_decay_L__TruncatedExponential__9\n",
      "  warnings.warn('Using prior. No proposal for address: {}'.format(address))\n",
      "/home/tt21642/dispyprob/pyprob/pyprob/nn/inference_network_feedforward.py:67: UserWarning: Using prior. No proposal for address: 520__forward___traverse___traverse_rec___traverse_rec___traverse_rec___traverse_rec___traverse_rec___traverse_rec___traverse_rec___traverse_rec___traverse_rec___traverse_rec___traverse_rec__draw_decay_R__TruncatedExponential__9\n",
      "  warnings.warn('Using prior. No proposal for address: {}'.format(address))\n",
      "/home/tt21642/dispyprob/pyprob/pyprob/nn/inference_network_feedforward.py:67: UserWarning: Using prior. No proposal for address: 216__forward___traverse___traverse_rec___traverse_rec___traverse_rec___traverse_rec___traverse_rec___traverse_rec___traverse_rec___traverse_rec___traverse_rec___traverse_rec___traverse_rec__?__Uniform__10\n",
      "  warnings.warn('Using prior. No proposal for address: {}'.format(address))\n",
      "/home/tt21642/dispyprob/pyprob/pyprob/nn/inference_network_feedforward.py:67: UserWarning: Using prior. No proposal for address: 260__forward___traverse___traverse_rec___traverse_rec___traverse_rec___traverse_rec___traverse_rec___traverse_rec___traverse_rec___traverse_rec___traverse_rec___traverse_rec___traverse_rec__theta_CM_U__Uniform__10\n",
      "  warnings.warn('Using prior. No proposal for address: {}'.format(address))\n",
      "/home/tt21642/dispyprob/pyprob/pyprob/nn/inference_network_feedforward.py:67: UserWarning: Using prior. No proposal for address: 470__forward___traverse___traverse_rec___traverse_rec___traverse_rec___traverse_rec___traverse_rec___traverse_rec___traverse_rec___traverse_rec___traverse_rec___traverse_rec___traverse_rec__draw_decay_L__TruncatedExponential__10\n",
      "  warnings.warn('Using prior. No proposal for address: {}'.format(address))\n",
      "/home/tt21642/dispyprob/pyprob/pyprob/nn/inference_network_feedforward.py:67: UserWarning: Using prior. No proposal for address: 520__forward___traverse___traverse_rec___traverse_rec___traverse_rec___traverse_rec___traverse_rec___traverse_rec___traverse_rec___traverse_rec___traverse_rec___traverse_rec___traverse_rec__draw_decay_R__TruncatedExponential__10\n",
      "  warnings.warn('Using prior. No proposal for address: {}'.format(address))\n"
     ]
    },
    {
     "name": "stdout",
     "output_type": "stream",
     "text": [
      "------------------------------------------------ |   44/5000 |   1.11 | 0.36       \n",
      "0d:00:04:44 | 0d:03:43:20 | -------------------- |  104/5000 |   1.72 | 0.37       \r"
     ]
    },
    {
     "name": "stderr",
     "output_type": "stream",
     "text": [
      "/home/tt21642/dispyprob/pyprob/pyprob/nn/inference_network_feedforward.py:67: UserWarning: Using prior. No proposal for address: 470__forward___traverse___traverse_rec___traverse_rec__draw_decay_L__TruncatedExponential__3\n",
      "  warnings.warn('Using prior. No proposal for address: {}'.format(address))\n"
     ]
    },
    {
     "name": "stdout",
     "output_type": "stream",
     "text": [
      "0d:00:04:57 | 0d:03:44:18 | -------------------- |  108/5000 |   1.72 | 0.36       \r"
     ]
    },
    {
     "name": "stderr",
     "output_type": "stream",
     "text": [
      "/home/tt21642/dispyprob/pyprob/pyprob/nn/inference_network_feedforward.py:67: UserWarning: Using prior. No proposal for address: 216__forward___traverse___traverse_rec___traverse_rec___traverse_rec___traverse_rec___traverse_rec__?__Uniform__13\n",
      "  warnings.warn('Using prior. No proposal for address: {}'.format(address))\n",
      "/home/tt21642/dispyprob/pyprob/pyprob/nn/inference_network_feedforward.py:67: UserWarning: Using prior. No proposal for address: 260__forward___traverse___traverse_rec___traverse_rec___traverse_rec___traverse_rec___traverse_rec__theta_CM_U__Uniform__13\n",
      "  warnings.warn('Using prior. No proposal for address: {}'.format(address))\n",
      "/home/tt21642/dispyprob/pyprob/pyprob/nn/inference_network_feedforward.py:67: UserWarning: Using prior. No proposal for address: 470__forward___traverse___traverse_rec___traverse_rec___traverse_rec___traverse_rec___traverse_rec__draw_decay_L__TruncatedExponential__13\n",
      "  warnings.warn('Using prior. No proposal for address: {}'.format(address))\n",
      "/home/tt21642/dispyprob/pyprob/pyprob/nn/inference_network_feedforward.py:67: UserWarning: Using prior. No proposal for address: 520__forward___traverse___traverse_rec___traverse_rec___traverse_rec___traverse_rec___traverse_rec__draw_decay_R__TruncatedExponential__13\n",
      "  warnings.warn('Using prior. No proposal for address: {}'.format(address))\n"
     ]
    },
    {
     "name": "stdout",
     "output_type": "stream",
     "text": [
      "0d:00:08:29 | 0d:03:47:26 | #------------------- |  180/5000 |   1.42 | 0.35       \r"
     ]
    },
    {
     "name": "stderr",
     "output_type": "stream",
     "text": [
      "/home/tt21642/dispyprob/pyprob/pyprob/nn/inference_network_feedforward.py:67: UserWarning: Using prior. No proposal for address: 216__forward___traverse___traverse_rec___traverse_rec___traverse_rec___traverse_rec___traverse_rec___traverse_rec___traverse_rec___traverse_rec___traverse_rec___traverse_rec___traverse_rec___traverse_rec___traverse_rec___traverse_rec___traverse_rec___traverse_rec__?__Uniform__4\n",
      "  warnings.warn('Using prior. No proposal for address: {}'.format(address))\n",
      "/home/tt21642/dispyprob/pyprob/pyprob/nn/inference_network_feedforward.py:67: UserWarning: Using prior. No proposal for address: 260__forward___traverse___traverse_rec___traverse_rec___traverse_rec___traverse_rec___traverse_rec___traverse_rec___traverse_rec___traverse_rec___traverse_rec___traverse_rec___traverse_rec___traverse_rec___traverse_rec___traverse_rec___traverse_rec___traverse_rec__theta_CM_U__Uniform__4\n",
      "  warnings.warn('Using prior. No proposal for address: {}'.format(address))\n",
      "/home/tt21642/dispyprob/pyprob/pyprob/nn/inference_network_feedforward.py:67: UserWarning: Using prior. No proposal for address: 470__forward___traverse___traverse_rec___traverse_rec___traverse_rec___traverse_rec___traverse_rec___traverse_rec___traverse_rec___traverse_rec___traverse_rec___traverse_rec___traverse_rec___traverse_rec___traverse_rec___traverse_rec___traverse_rec___traverse_rec__draw_decay_L__TruncatedExponential__4\n",
      "  warnings.warn('Using prior. No proposal for address: {}'.format(address))\n",
      "/home/tt21642/dispyprob/pyprob/pyprob/nn/inference_network_feedforward.py:67: UserWarning: Using prior. No proposal for address: 520__forward___traverse___traverse_rec___traverse_rec___traverse_rec___traverse_rec___traverse_rec___traverse_rec___traverse_rec___traverse_rec___traverse_rec___traverse_rec___traverse_rec___traverse_rec___traverse_rec___traverse_rec___traverse_rec___traverse_rec__draw_decay_R__TruncatedExponential__4\n",
      "  warnings.warn('Using prior. No proposal for address: {}'.format(address))\n"
     ]
    },
    {
     "name": "stdout",
     "output_type": "stream",
     "text": [
      "------------------------------------------------ |  322/5000 |   3.08 | 0.35       \n",
      "------------------------------------------------ |  522/5000 |   4.55 | 0.35       \n",
      "------------------------------#----------------- |  802/5000 |   3.93 | 0.35       \n",
      "------------------------------##---------------- |  933/5000 |   4.35 | 0.35       \n",
      "------------------------------##---------------- |  955/5000 |   4.40 | 0.35       \n",
      "------------------------------###--------------- | 1266/5000 |   7.08 | 0.35       \n",
      "------------------------------#####------------- | 1646/5000 |   9.94 | 0.35       \n",
      "------------------------------#####------------- | 1772/5000 |  10.21 | 0.35       \n",
      "------------------------------######------------ | 1973/5000 |  11.96 | 0.35       \n",
      "------------------------------#######----------- | 2150/5000 |  14.00 | 0.35       \n",
      "------------------------------#######----------- | 2243/5000 |  14.50 | 0.35       \n",
      "------------------------------#######----------- | 2285/5000 |  14.50 | 0.35       \n",
      "------------------------------#######----------- | 2303/5000 |  15.53 | 0.35       \n",
      "------------------------------#######----------- | 2370/5000 |  16.00 | 0.35       \n",
      "------------------------------########---------- | 2436/5000 |  16.21 | 0.34       \n",
      "------------------------------########---------- | 2475/5000 |  16.42 | 0.35       \n",
      "------------------------------########---------- | 2496/5000 |  16.64 | 0.35       \n",
      "------------------------------#########--------- | 2633/5000 |  18.27 | 0.35       \n",
      "------------------------------##########-------- | 2907/5000 |  17.76 | 0.35       \n",
      "------------------------------##########-------- | 3014/5000 |  18.11 | 0.35       \n",
      "------------------------------##########-------- | 3075/5000 |  18.57 | 0.35       \n",
      "------------------------------##########-------- | 3081/5000 |  18.70 | 0.35       \n",
      "------------------------------##########-------- | 3101/5000 |  18.79 | 0.34       \n",
      "------------------------------###########------- | 3165/5000 |  19.96 | 0.35       \n",
      "------------------------------##############---- | 4035/5000 |  27.00 | 0.35       \n",
      "------------------------------##############---- | 4123/5000 |  27.35 | 0.35       \n",
      "------------------------------################-- | 4380/5000 |  29.71 | 0.35       \n",
      "------------------------------#################- | 4630/5000 |  30.55 | 0.34       \n",
      "------------------------------#################- | 4652/5000 |  30.65 | 0.34       \n",
      "------------------------------#################- | 4746/5000 |  32.08 | 0.34       \n",
      "------------------------------#################- | 4849/5000 |  32.44 | 0.35       \n",
      "------------------------------#################- | 4869/5000 |  33.01 | 0.35       \n",
      "0d:04:01:56 | 0d:00:00:02 | #################### | 5000/5000 |  35.50 | 0.34       \r\n",
      "New layers, address: 216__forward___traverse___traverse_rec___traverse_..., distribution: Uniform\n",
      "New layers, address: 260__forward___traverse___traverse_rec___traverse_..., distribution: Uniform\n",
      "New layers, address: 470__forward___traverse___traverse_rec___traverse_..., distribution: TruncatedExponential\n",
      "New layers, address: 520__forward___traverse___traverse_rec___traverse_..., distribution: TruncatedExponential\n",
      "New layers, address: 216__forward___traverse___traverse_rec___traverse_..., distribution: Uniform\n",
      "New layers, address: 260__forward___traverse___traverse_rec___traverse_..., distribution: Uniform\n",
      "New layers, address: 470__forward___traverse___traverse_rec___traverse_..., distribution: TruncatedExponential\n",
      "New layers, address: 520__forward___traverse___traverse_rec___traverse_..., distribution: TruncatedExponential\n",
      "New layers, address: 216__forward___traverse___traverse_rec___traverse_..., distribution: Uniform\n",
      "New layers, address: 260__forward___traverse___traverse_rec___traverse_..., distribution: Uniform\n",
      "New layers, address: 470__forward___traverse___traverse_rec___traverse_..., distribution: TruncatedExponential\n",
      "New layers, address: 520__forward___traverse___traverse_rec___traverse_..., distribution: TruncatedExponential\n",
      "New layers, address: 216__forward___traverse___traverse_rec___traverse_..., distribution: Uniform\n",
      "New layers, address: 260__forward___traverse___traverse_rec___traverse_..., distribution: Uniform\n",
      "New layers, address: 470__forward___traverse___traverse_rec___traverse_..., distribution: TruncatedExponential\n",
      "New layers, address: 520__forward___traverse___traverse_rec___traverse_..., distribution: TruncatedExponential\n",
      "New layers, address: 216__forward___traverse___traverse_rec___traverse_..., distribution: Uniform\n",
      "New layers, address: 260__forward___traverse___traverse_rec___traverse_..., distribution: Uniform\n",
      "New layers, address: 470__forward___traverse___traverse_rec___traverse_..., distribution: TruncatedExponential\n",
      "New layers, address: 520__forward___traverse___traverse_rec___traverse_..., distribution: TruncatedExponential\n",
      "New layers, address: 216__forward___traverse___traverse_rec___traverse_..., distribution: Uniform\n",
      "New layers, address: 260__forward___traverse___traverse_rec___traverse_..., distribution: Uniform\n",
      "New layers, address: 470__forward___traverse___traverse_rec___traverse_..., distribution: TruncatedExponential\n",
      "New layers, address: 520__forward___traverse___traverse_rec___traverse_..., distribution: TruncatedExponential\n",
      "New layers, address: 216__forward___traverse___traverse_rec___traverse_..., distribution: Uniform\n",
      "New layers, address: 260__forward___traverse___traverse_rec___traverse_..., distribution: Uniform\n",
      "New layers, address: 470__forward___traverse___traverse_rec___traverse_..., distribution: TruncatedExponential\n",
      "New layers, address: 520__forward___traverse___traverse_rec___traverse_..., distribution: TruncatedExponential\n",
      "New layers, address: 216__forward___traverse___traverse_rec___traverse_..., distribution: Uniform\n",
      "New layers, address: 260__forward___traverse___traverse_rec___traverse_..., distribution: Uniform\n",
      "New layers, address: 470__forward___traverse___traverse_rec___traverse_..., distribution: TruncatedExponential\n",
      "New layers, address: 520__forward___traverse___traverse_rec___traverse_..., distribution: TruncatedExponential\n",
      "New layers, address: 216__forward___traverse___traverse_rec___traverse_..., distribution: Uniform\n",
      "New layers, address: 260__forward___traverse___traverse_rec___traverse_..., distribution: Uniform\n",
      "New layers, address: 470__forward___traverse___traverse_rec___traverse_..., distribution: TruncatedExponential\n",
      "New layers, address: 520__forward___traverse___traverse_rec___traverse_..., distribution: TruncatedExponential\n",
      "New layers, address: 216__forward___traverse___traverse_rec___traverse_..., distribution: Uniform\n",
      "New layers, address: 260__forward___traverse___traverse_rec___traverse_..., distribution: Uniform\n",
      "New layers, address: 470__forward___traverse___traverse_rec___traverse_..., distribution: TruncatedExponential\n",
      "New layers, address: 520__forward___traverse___traverse_rec___traverse_..., distribution: TruncatedExponential\n",
      "New layers, address: 216__forward___traverse___traverse_rec___traverse_..., distribution: Uniform\n",
      "New layers, address: 260__forward___traverse___traverse_rec___traverse_..., distribution: Uniform\n",
      "New layers, address: 470__forward___traverse___traverse_rec___traverse_..., distribution: TruncatedExponential\n",
      "New layers, address: 520__forward___traverse___traverse_rec___traverse_..., distribution: TruncatedExponential\n",
      "New layers, address: 216__forward___traverse___traverse_rec___traverse_..., distribution: Uniform\n",
      "New layers, address: 260__forward___traverse___traverse_rec___traverse_..., distribution: Uniform\n",
      "New layers, address: 470__forward___traverse___traverse_rec___traverse_..., distribution: TruncatedExponential\n",
      "New layers, address: 520__forward___traverse___traverse_rec___traverse_..., distribution: TruncatedExponential\n",
      "New layers, address: 216__forward___traverse___traverse_rec___traverse_..., distribution: Uniform\n",
      "New layers, address: 260__forward___traverse___traverse_rec___traverse_..., distribution: Uniform\n",
      "New layers, address: 470__forward___traverse___traverse_rec___traverse_..., distribution: TruncatedExponential\n",
      "New layers, address: 520__forward___traverse___traverse_rec___traverse_..., distribution: TruncatedExponential\n",
      "New layers, address: 216__forward___traverse___traverse_rec___traverse_..., distribution: Uniform\n",
      "New layers, address: 260__forward___traverse___traverse_rec___traverse_..., distribution: Uniform\n",
      "New layers, address: 470__forward___traverse___traverse_rec___traverse_..., distribution: TruncatedExponential\n",
      "New layers, address: 520__forward___traverse___traverse_rec___traverse_..., distribution: TruncatedExponential\n",
      "New layers, address: 216__forward___traverse___traverse_rec___traverse_..., distribution: Uniform\n",
      "New layers, address: 260__forward___traverse___traverse_rec___traverse_..., distribution: Uniform\n",
      "New layers, address: 470__forward___traverse___traverse_rec___traverse_..., distribution: TruncatedExponential\n",
      "New layers, address: 520__forward___traverse___traverse_rec___traverse_..., distribution: TruncatedExponential\n",
      "New layers, address: 216__forward___traverse___traverse_rec___traverse_..., distribution: Uniform\n",
      "New layers, address: 260__forward___traverse___traverse_rec___traverse_..., distribution: Uniform\n",
      "New layers, address: 470__forward___traverse___traverse_rec___traverse_..., distribution: TruncatedExponential\n",
      "New layers, address: 520__forward___traverse___traverse_rec___traverse_..., distribution: TruncatedExponential\n",
      "New layers, address: 216__forward___traverse___traverse_rec___traverse_..., distribution: Uniform\n",
      "New layers, address: 260__forward___traverse___traverse_rec___traverse_..., distribution: Uniform\n",
      "New layers, address: 470__forward___traverse___traverse_rec___traverse_..., distribution: TruncatedExponential\n",
      "New layers, address: 520__forward___traverse___traverse_rec___traverse_..., distribution: TruncatedExponential\n",
      "New layers, address: 216__forward___traverse___traverse_rec___traverse_..., distribution: Uniform\n",
      "New layers, address: 260__forward___traverse___traverse_rec___traverse_..., distribution: Uniform\n",
      "New layers, address: 470__forward___traverse___traverse_rec___traverse_..., distribution: TruncatedExponential\n",
      "New layers, address: 520__forward___traverse___traverse_rec___traverse_..., distribution: TruncatedExponential\n",
      "New layers, address: 216__forward___traverse___traverse_rec___traverse_..., distribution: Uniform\n",
      "New layers, address: 260__forward___traverse___traverse_rec___traverse_..., distribution: Uniform\n",
      "New layers, address: 470__forward___traverse___traverse_rec___traverse_..., distribution: TruncatedExponential\n",
      "New layers, address: 520__forward___traverse___traverse_rec___traverse_..., distribution: TruncatedExponential\n",
      "New layers, address: 216__forward___traverse___traverse_rec___traverse_..., distribution: Uniform\n",
      "New layers, address: 260__forward___traverse___traverse_rec___traverse_..., distribution: Uniform\n",
      "New layers, address: 470__forward___traverse___traverse_rec___traverse_..., distribution: TruncatedExponential\n",
      "New layers, address: 520__forward___traverse___traverse_rec___traverse_..., distribution: TruncatedExponential\n",
      "New layers, address: 216__forward___traverse___traverse_rec___traverse_..., distribution: Uniform\n",
      "New layers, address: 260__forward___traverse___traverse_rec___traverse_..., distribution: Uniform\n",
      "New layers, address: 470__forward___traverse___traverse_rec___traverse_..., distribution: TruncatedExponential\n",
      "New layers, address: 520__forward___traverse___traverse_rec___traverse_..., distribution: TruncatedExponential\n",
      "New layers, address: 470__forward___traverse___traverse_rec___traverse_..., distribution: TruncatedExponential\n",
      "New layers, address: 216__forward___traverse___traverse_rec___traverse_..., distribution: Uniform\n",
      "New layers, address: 260__forward___traverse___traverse_rec___traverse_..., distribution: Uniform\n",
      "New layers, address: 470__forward___traverse___traverse_rec___traverse_..., distribution: TruncatedExponential\n",
      "New layers, address: 520__forward___traverse___traverse_rec___traverse_..., distribution: TruncatedExponential\n",
      "New layers, address: 216__forward___traverse___traverse_rec___traverse_..., distribution: Uniform\n",
      "New layers, address: 260__forward___traverse___traverse_rec___traverse_..., distribution: Uniform\n",
      "New layers, address: 470__forward___traverse___traverse_rec___traverse_..., distribution: TruncatedExponential\n",
      "New layers, address: 520__forward___traverse___traverse_rec___traverse_..., distribution: TruncatedExponential\n",
      "New layers, address: 216__forward___traverse___traverse_rec___traverse_..., distribution: Uniform\n",
      "New layers, address: 260__forward___traverse___traverse_rec___traverse_..., distribution: Uniform\n",
      "New layers, address: 470__forward___traverse___traverse_rec___traverse_..., distribution: TruncatedExponential\n",
      "New layers, address: 520__forward___traverse___traverse_rec___traverse_..., distribution: TruncatedExponential\n",
      "New layers, address: 216__forward___traverse___traverse_rec___traverse_..., distribution: Uniform\n",
      "New layers, address: 260__forward___traverse___traverse_rec___traverse_..., distribution: Uniform\n",
      "New layers, address: 470__forward___traverse___traverse_rec___traverse_..., distribution: TruncatedExponential\n",
      "New layers, address: 520__forward___traverse___traverse_rec___traverse_..., distribution: TruncatedExponential\n",
      "New layers, address: 216__forward___traverse___traverse_rec___traverse_..., distribution: Uniform\n",
      "New layers, address: 260__forward___traverse___traverse_rec___traverse_..., distribution: Uniform\n",
      "New layers, address: 470__forward___traverse___traverse_rec___traverse_..., distribution: TruncatedExponential\n",
      "New layers, address: 520__forward___traverse___traverse_rec___traverse_..., distribution: TruncatedExponential\n",
      "New layers, address: 216__forward___traverse___traverse_rec___traverse_..., distribution: Uniform\n",
      "New layers, address: 260__forward___traverse___traverse_rec___traverse_..., distribution: Uniform\n",
      "New layers, address: 470__forward___traverse___traverse_rec___traverse_..., distribution: TruncatedExponential\n",
      "New layers, address: 520__forward___traverse___traverse_rec___traverse_..., distribution: TruncatedExponential\n",
      "Total addresses: 562, parameters: 286,626\n",
      "New layers, address: 216__forward___traverse___traverse_rec___traverse_..., distribution: Uniforme-03 | 0.5 \n",
      "New layers, address: 260__forward___traverse___traverse_rec___traverse_..., distribution: Uniform\n",
      "New layers, address: 470__forward___traverse___traverse_rec___traverse_..., distribution: TruncatedExponential\n",
      "New layers, address: 520__forward___traverse___traverse_rec___traverse_..., distribution: TruncatedExponential\n",
      "New layers, address: 216__forward___traverse___traverse_rec___traverse_..., distribution: Uniform\n",
      "New layers, address: 260__forward___traverse___traverse_rec___traverse_..., distribution: Uniform\n",
      "New layers, address: 470__forward___traverse___traverse_rec___traverse_..., distribution: TruncatedExponential\n",
      "New layers, address: 520__forward___traverse___traverse_rec___traverse_..., distribution: TruncatedExponential\n",
      "New layers, address: 216__forward___traverse___traverse_rec___traverse_..., distribution: Uniform\n",
      "New layers, address: 260__forward___traverse___traverse_rec___traverse_..., distribution: Uniform\n",
      "New layers, address: 470__forward___traverse___traverse_rec___traverse_..., distribution: TruncatedExponential\n",
      "New layers, address: 520__forward___traverse___traverse_rec___traverse_..., distribution: TruncatedExponential\n",
      "New layers, address: 216__forward___traverse___traverse_rec___traverse_..., distribution: Uniform\n",
      "New layers, address: 260__forward___traverse___traverse_rec___traverse_..., distribution: Uniform\n",
      "New layers, address: 470__forward___traverse___traverse_rec___traverse_..., distribution: TruncatedExponential\n",
      "New layers, address: 520__forward___traverse___traverse_rec___traverse_..., distribution: TruncatedExponential\n",
      "New layers, address: 216__forward___traverse___traverse_rec___traverse_..., distribution: Uniform\n",
      "New layers, address: 260__forward___traverse___traverse_rec___traverse_..., distribution: Uniform\n",
      "New layers, address: 470__forward___traverse___traverse_rec___traverse_..., distribution: TruncatedExponential\n",
      "New layers, address: 520__forward___traverse___traverse_rec___traverse_..., distribution: TruncatedExponential\n",
      "New layers, address: 216__forward___traverse___traverse_rec___traverse_..., distribution: Uniform\n",
      "New layers, address: 260__forward___traverse___traverse_rec___traverse_..., distribution: Uniform\n",
      "New layers, address: 470__forward___traverse___traverse_rec___traverse_..., distribution: TruncatedExponential\n",
      "New layers, address: 520__forward___traverse___traverse_rec___traverse_..., distribution: TruncatedExponential\n",
      "New layers, address: 216__forward___traverse___traverse_rec___traverse_..., distribution: Uniform\n",
      "New layers, address: 260__forward___traverse___traverse_rec___traverse_..., distribution: Uniform\n",
      "New layers, address: 470__forward___traverse___traverse_rec___traverse_..., distribution: TruncatedExponential\n",
      "New layers, address: 520__forward___traverse___traverse_rec___traverse_..., distribution: TruncatedExponential\n",
      "New layers, address: 216__forward___traverse___traverse_rec___traverse_..., distribution: Uniform\n",
      "New layers, address: 260__forward___traverse___traverse_rec___traverse_..., distribution: Uniform\n",
      "New layers, address: 470__forward___traverse___traverse_rec___traverse_..., distribution: TruncatedExponential\n",
      "New layers, address: 520__forward___traverse___traverse_rec___traverse_..., distribution: TruncatedExponential\n",
      "New layers, address: 216__forward___traverse___traverse_rec___traverse_..., distribution: Uniform\n",
      "New layers, address: 260__forward___traverse___traverse_rec___traverse_..., distribution: Uniform\n",
      "New layers, address: 470__forward___traverse___traverse_rec___traverse_..., distribution: TruncatedExponential\n",
      "New layers, address: 520__forward___traverse___traverse_rec___traverse_..., distribution: TruncatedExponential\n",
      "New layers, address: 216__forward___traverse___traverse_rec___traverse_..., distribution: Uniform\n",
      "New layers, address: 260__forward___traverse___traverse_rec___traverse_..., distribution: Uniform\n",
      "New layers, address: 470__forward___traverse___traverse_rec___traverse_..., distribution: TruncatedExponential\n",
      "New layers, address: 520__forward___traverse___traverse_rec___traverse_..., distribution: TruncatedExponential\n",
      "New layers, address: 216__forward___traverse___traverse_rec___traverse_..., distribution: Uniform\n",
      "New layers, address: 260__forward___traverse___traverse_rec___traverse_..., distribution: Uniform\n",
      "New layers, address: 470__forward___traverse___traverse_rec___traverse_..., distribution: TruncatedExponential\n",
      "New layers, address: 520__forward___traverse___traverse_rec___traverse_..., distribution: TruncatedExponential\n",
      "New layers, address: 216__forward___traverse___traverse_rec___traverse_..., distribution: Uniform\n",
      "New layers, address: 260__forward___traverse___traverse_rec___traverse_..., distribution: Uniform\n",
      "New layers, address: 470__forward___traverse___traverse_rec___traverse_..., distribution: TruncatedExponential\n",
      "New layers, address: 520__forward___traverse___traverse_rec___traverse_..., distribution: TruncatedExponential\n",
      "Total addresses: 610, parameters: 311,106\n",
      "New layers, address: 216__forward___traverse___traverse_rec___traverse_..., distribution: Uniforme-03 | 0.6 \n",
      "New layers, address: 260__forward___traverse___traverse_rec___traverse_..., distribution: Uniform\n",
      "New layers, address: 470__forward___traverse___traverse_rec___traverse_..., distribution: TruncatedExponential\n",
      "New layers, address: 520__forward___traverse___traverse_rec___traverse_..., distribution: TruncatedExponential\n",
      "New layers, address: 216__forward___traverse___traverse_rec___traverse_..., distribution: Uniform\n",
      "New layers, address: 260__forward___traverse___traverse_rec___traverse_..., distribution: Uniform\n",
      "New layers, address: 470__forward___traverse___traverse_rec___traverse_..., distribution: TruncatedExponential\n",
      "New layers, address: 520__forward___traverse___traverse_rec___traverse_..., distribution: TruncatedExponential\n",
      "Total addresses: 618, parameters: 315,186\n",
      "\n",
      "Stop condition reached. num_traces: 500\n",
      "0d:04:24:10 | 1    | 1,000     | +5.35e+01 | +4.65e+01 | \u001b[31m+1.06e+02\u001b[0m | 0d:04:13:43 | +1.00e-03 | 0.6 \r\n",
      "Training iterations 1  epsilon 7396.00  ESS 33.6\n"
     ]
    }
   ],
   "source": [
    "simulatorginkgoleaf.train(iterations = 1, importance_sample_size = 5000)"
   ]
  },
  {
   "cell_type": "code",
   "execution_count": 18,
   "metadata": {
    "pycharm": {
     "name": "#%%\n"
    }
   },
   "outputs": [
    {
     "name": "stdout",
     "output_type": "stream",
     "text": [
      "Time spent  | Time remain.| Progress             | Trace   | ESS   | Traces/sec\n",
      "------------------------------------------------ |  23/200 |  1.02 | 0.32       \n",
      "------------------------------###############--- | 174/200 |  2.19 | 0.31       \n",
      "0d:00:10:34 | 0d:00:00:03 | #################### | 200/200 |  2.32 | 0.32       \r\n"
     ]
    }
   ],
   "source": [
    "leaf_results = simulatorginkgoleaf.posterior_results(num_traces = 200, inference_engine=InferenceEngine.DISTILLING_IMPORTANCE_SAMPLING,observe={'dummy':1})"
   ]
  },
  {
   "cell_type": "code",
   "execution_count": 19,
   "metadata": {
    "pycharm": {
     "name": "#%%\n"
    }
   },
   "outputs": [
    {
     "data": {
      "image/png": "[encoded data removed]",
      "text/plain": [
       "<Figure size 432x288 with 1 Axes>"
      ]
     },
     "metadata": {
      "needs_background": "light"
     },
     "output_type": "display_data"
    }
   ],
   "source": [
    "lambdas = np.array([i['Lambda'].detach().numpy() for i in leaf_results])\n",
    "plt.hist(lambdas)\n",
    "plt.show()"
   ]
  },
  {
   "cell_type": "code",
   "execution_count": null,
   "metadata": {
    "pycharm": {
     "name": "#%%\n"
    }
   },
   "outputs": [],
   "source": []
  }
 ],
 "metadata": {
  "interpreter": {
   "hash": "54cb28130e048f041bc902eb918064ee5dfd6d014adda3c003162d8edf6612f9"
  },
  "kernelspec": {
   "display_name": "Python 3 (ipykernel)",
   "language": "python",
   "name": "python3"
  },
  "language_info": {
   "codemirror_mode": {
    "name": "ipython",
    "version": 3
   },
   "file_extension": ".py",
   "mimetype": "text/x-python",
   "name": "python",
   "nbconvert_exporter": "python",
   "pygments_lexer": "ipython3",
   "version": "3.8.2"
  }
 },
 "nbformat": 4,
 "nbformat_minor": 2
}
