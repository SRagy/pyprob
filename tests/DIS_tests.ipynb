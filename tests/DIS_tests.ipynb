{
 "cells": [
  {
   "cell_type": "markdown",
   "metadata": {},
   "source": [
    "# Define model"
   ]
  },
  {
   "cell_type": "code",
   "execution_count": 1,
   "metadata": {},
   "outputs": [
    {
     "name": "stdout",
     "output_type": "stream",
     "text": [
      "[pyKeOps]: Warning, no cuda detected. Switching to cpu only.\n"
     ]
    }
   ],
   "source": [
    "import pyprob\n",
    "import numpy as np\n",
    "import torch\n",
    "\n",
    "from pyprob.dis import ModelDIS\n",
    "from showerSim import invMass_ginkgo\n",
    "from pyprob.nn.dataset import OnlineDataset\n",
    "from pyprob.util import InferenceEngine\n",
    "from pyprob import Model\n",
    "import math\n",
    "from pyprob.distributions import Normal\n",
    "\n",
    "\n",
    "import matplotlib as mpl\n",
    "import matplotlib.pyplot as plt\n",
    "from mpl_toolkits.mplot3d import Axes3D\n",
    "import matplotlib.cm as mpl_cm\n",
    "plt.ion()\n",
    "\n",
    "import sklearn as skl\n",
    "from sklearn.linear_model import LinearRegression"
   ]
  },
  {
   "cell_type": "code",
   "execution_count": 2,
   "metadata": {},
   "outputs": [],
   "source": [
    "# obs_leaves = torch.tensor([[44.57652381, 26.16169856, 25.3945314 , 25.64598258],\n",
    "#        [18.2146321 , 10.70465096, 10.43553391, 10.40449709],\n",
    "#        [ 6.47106713,  4.0435395,  3.65545951,  3.48697568],\n",
    "#        [ 8.43764314,  5.51040615,  4.60990593,  4.42270416],\n",
    "#        [26.61664145, 16.55894826, 14.3357362 , 15.12215264],\n",
    "#        [ 8.62925002,  3.37121204,  5.19699   ,  6.00480461],\n",
    "#        [ 1.64291837,  0.74506775,  1.01003622,  1.05626017],\n",
    "#        [ 0.75525072,  0.3051808 ,  0.45721085,  0.51760643],\n",
    "#        [39.5749915 , 18.39638928, 24.24717939, 25.29349408],\n",
    "#        [ 4.18355659,  2.11145474,  2.82071304,  2.25221316],\n",
    "#        [ 0.82932922,  0.29842766,  0.5799056 ,  0.509021  ],\n",
    "#        [ 3.00825023,  1.36339397,  1.99203677,  1.79428211],\n",
    "#        [ 7.20024308,  4.03280868,  3.82379277,  4.57441754],\n",
    "#        [ 2.09953618,  1.28473579,  1.03554351,  1.29769683],\n",
    "#        [12.21401828,  6.76059035,  6.94920042,  7.42823701],\n",
    "#        [ 6.91438054,  3.68417135,  3.83782514,  4.41656731],\n",
    "#        [ 1.97218904,  1.01632927,  1.08008339,  1.27454585],\n",
    "#        [ 8.58164301,  5.06157833,  4.79691164,  4.99553141],\n",
    "#        [ 5.97809522,  3.26557958,  3.4253764 ,  3.64894791],\n",
    "#        [ 5.22842301,  2.94437891,  3.10292633,  3.00551074],\n",
    "#        [15.40023764,  9.10884407,  8.93836964,  8.61970667],\n",
    "#        [ 1.96101346,  1.24996337,  1.06923988,  1.06743143],\n",
    "#        [19.81054106, 11.90268453, 11.60989346, 10.76953856],\n",
    "#        [18.79470876, 11.429855  , 10.8377334 , 10.25112761],\n",
    "#        [25.74331932, 15.63430056, 14.83860792, 14.07189108],\n",
    "#        [ 9.98357576,  6.10090721,  5.68664128,  5.48748692],\n",
    "#        [12.34604239,  7.78770185,  6.76075998,  6.78498685],\n",
    "#        [21.24998531, 12.95180254, 11.9511704 , 11.87319933],\n",
    "#        [ 7.80693733,  4.83117128,  4.27443559,  4.39602348],\n",
    "#        [16.28983576,  9.66683929,  9.24891886,  9.28970032],\n",
    "#        [ 2.50706736,  1.53153206,  1.36060018,  1.43002765],\n",
    "#        [ 3.73938645,  2.06006639,  2.31013974,  2.09378969],\n",
    "#        [20.2174725 , 11.88622367, 12.05106468, 11.05325362],\n",
    "#        [ 9.48660008,  5.53665456,  5.54171966,  5.34966654],\n",
    "#        [ 2.65812987,  1.64102742,  1.67392209,  1.25083707]], dtype=torch.float64)\n",
    "\n",
    "\n",
    "# QCD_mass = 30.\n",
    "# #rate=torch.tensor([QCD_rate,QCD_rate]) #Entries: [root node, every other node] decaying rates. Choose same values for a QCD jet\n",
    "# jetdir = np.array([1,1,1])\n",
    "# jetP = 400.\n",
    "# jetvec = jetP * jetdir / np.linalg.norm(jetdir) ## Jetvec is 3-momentum. JetP is relativistic p.\n",
    "\n",
    "\n",
    "# # Actual parameters\n",
    "# pt_min = torch.tensor(0.3**2)\n",
    "# M2start = torch.tensor(QCD_mass**2)\n",
    "# jetM = np.sqrt(M2start.numpy()) ## Mass of initial jet\n",
    "# jet4vec = np.concatenate(([np.sqrt(jetP**2 + jetM**2)], jetvec))\n",
    "# minLeaves = 1\n",
    "# maxLeaves = 10000 # unachievable, to prevent rejections\n",
    "# maxNTry = 100\n",
    "\n",
    "# def dummy_bernoulli(self, jet):\n",
    "#     return True\n",
    "\n",
    "# class SimulatorModelDIS(invMass_ginkgo.SimulatorModel, ModelDIS):\n",
    "#     def forward(self, inputs=None):\n",
    "#         assert inputs is None # Modify code if this ever not met?\n",
    "#         # Sample parameter of interest from Unif(0,10) prior\n",
    "#         root_rate = pyprob.sample(pyprob.distributions.Uniform(0.01, 10.),\n",
    "#                             name=\"decay_rate_parameter\")\n",
    "#         decay_rate = pyprob.sample(pyprob.distributions.Uniform(0.01, 10.),\n",
    "#                                    name=\"decay_rate_parameter\")\n",
    "#         # Simulator code needs two decay rates for (1) root note (2) all others\n",
    "#         # For now both are set to the same value\n",
    "#         inputs = [root_rate, decay_rate]\n",
    "#         return super().forward(inputs)\n",
    "\n",
    "# # Make instance of the simulator\n",
    "# simulator = SimulatorModelDIS(jet_p=jet4vec,  # parent particle 4-vector\n",
    "#                               pt_cut=float(pt_min),  # minimum pT for resulting jet\n",
    "#                               Delta_0= M2start,  # parent particle mass squared -> needs tensor\n",
    "#                               M_hard=jetM,  # parent particle mass\n",
    "#                               minLeaves=1,  # minimum number of jet constituents\n",
    "#                               maxLeaves=10000,  # maximum number of jet constituents (a large value to stop expensive simulator runs)\n",
    "#                               bool_func=dummy_bernoulli,\n",
    "#                               suppress_output=True,\n",
    "#                               obs_leaves=obs_leaves)\n"
   ]
  },
  {
   "cell_type": "code",
   "execution_count": 3,
   "metadata": {},
   "outputs": [],
   "source": [
    "def euclidean(a,b):\n",
    "    a = np.asarray(a)\n",
    "    b = np.asarray(b)\n",
    "    return np.linalg.norm(a-b)\n",
    "\n",
    "class GaussianUnknownMean(Model):\n",
    "    def __init__(self, **kwargs):\n",
    "        super().__init__(name='Gaussian with unknown mean', **kwargs) # give the model a name\n",
    "        self.prior_mean = 1\n",
    "        self.prior_std = math.sqrt(5)\n",
    "        self.likelihood_std = math.sqrt(2)\n",
    "\n",
    "    def forward(self): # Needed to specifcy how the generative model is run forward\n",
    "        # sample the (latent) mean variable to be inferred:\n",
    "        mu = pyprob.sample(Normal(self.prior_mean, self.prior_std)) # NOTE: sample -> denotes latent variables\n",
    "\n",
    "        # define the likelihood\n",
    "        #likelihood = Normal(mu, self.likelihood_std)\n",
    "\n",
    "        # Lets add two observed variables\n",
    "        # -> the 'name' argument is used later to assignment values:\n",
    "        #pyprob.observe(likelihood, name='obs0') # NOTE: observe -> denotes observable variables\n",
    "\n",
    "        # return the latent quantity of interest\n",
    "        return mu\n",
    "    \n",
    "class GaussianDIS(GaussianUnknownMean, ModelDIS):\n",
    "    def __init__(self,  dist_fun = None, **kwargs):\n",
    "        super().__init__(dist_fun = dist_fun)\n",
    "        self.obs = 8\n",
    "        #self.bool_func = bool_func\n",
    "    def dummy_bernoulli(self, x):\n",
    "        return True\n",
    "    def forward(self):\n",
    "        x = super().forward()\n",
    "        likelihood = Normal(x, self.likelihood_std) \n",
    "        pyprob.observe(likelihood, name = 'sample_obs')\n",
    "        delta_val = self.dummy_bernoulli(x)\n",
    "        bool_func_dist = pyprob.distributions.Bernoulli(delta_val)\n",
    "        pyprob.observe(bool_func_dist, name = \"dummy\")\n",
    "        return x\n",
    "\n",
    "\n",
    "model = GaussianUnknownMean()\n",
    "simulator = GaussianDIS(dist_fun = euclidean)"
   ]
  },
  {
   "cell_type": "markdown",
   "metadata": {},
   "source": [
    "# Dataset test"
   ]
  },
  {
   "cell_type": "code",
   "execution_count": 4,
   "metadata": {},
   "outputs": [],
   "source": [
    "dataset = OnlineDataset(simulator, inference_engine=InferenceEngine.DISTILLING_IMPORTANCE_SAMPLING,importance_sample_size=5000)"
   ]
  },
  {
   "cell_type": "code",
   "execution_count": 11,
   "metadata": {},
   "outputs": [],
   "source": [
    "trace = dataset[0]"
   ]
  },
  {
   "cell_type": "code",
   "execution_count": 12,
   "metadata": {},
   "outputs": [
    {
     "data": {
      "text/plain": [
       "tensor(-3.9190)"
      ]
     },
     "execution_count": 12,
     "metadata": {},
     "output_type": "execute_result"
    }
   ],
   "source": [
    "trace.log_prob"
   ]
  },
  {
   "cell_type": "markdown",
   "metadata": {},
   "source": [
    "# Inference test"
   ]
  },
  {
   "cell_type": "code",
   "execution_count": null,
   "metadata": {},
   "outputs": [],
   "source": []
  }
 ],
 "metadata": {
  "interpreter": {
   "hash": "54cb28130e048f041bc902eb918064ee5dfd6d014adda3c003162d8edf6612f9"
  },
  "kernelspec": {
   "display_name": "Python 3.8.2 ('base')",
   "language": "python",
   "name": "python3"
  },
  "language_info": {
   "codemirror_mode": {
    "name": "ipython",
    "version": 3
   },
   "file_extension": ".py",
   "mimetype": "text/x-python",
   "name": "python",
   "nbconvert_exporter": "python",
   "pygments_lexer": "ipython3",
   "version": "3.8.2"
  },
  "orig_nbformat": 4
 },
 "nbformat": 4,
 "nbformat_minor": 2
}
