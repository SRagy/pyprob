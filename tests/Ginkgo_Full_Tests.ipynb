{
 "cells": [
  {
   "cell_type": "code",
   "execution_count": 5,
   "id": "7d6f33bb",
   "metadata": {},
   "outputs": [],
   "source": [
    "import pyprob\n",
    "import numpy as np\n",
    "import ot\n",
    "import torch\n",
    "import cProfile\n",
    "import pickle\n",
    "\n",
    "from pyprob.dis import ModelDIS\n",
    "from showerSim import invMass_ginkgo\n",
    "from torch.utils.data import DataLoader\n",
    "from pyprob.nn.dataset import OnlineDataset\n",
    "from pyprob.util import InferenceEngine\n",
    "from pyprob.util import to_tensor\n",
    "from pyprob import Model\n",
    "from pyprob.model import Parallel_Generator\n",
    "import math\n",
    "from pyprob.distributions import Normal\n",
    "from pyprob.distributions.delta import Delta\n",
    "\n",
    "\n",
    "import matplotlib as mpl\n",
    "import matplotlib.pyplot as plt\n",
    "from mpl_toolkits.mplot3d import Axes3D\n",
    "import matplotlib.cm as mpl_cm\n",
    "plt.ion()\n",
    "\n",
    "import sklearn as skl\n",
    "from sklearn.linear_model import LinearRegression\n",
    "\n",
    "from geomloss import SamplesLoss\n",
    "sinkhorn = SamplesLoss(loss=\"sinkhorn\", p=1, blur=.05)\n",
    "def sinkhorn_t(x,y):\n",
    "    x = to_tensor(x)\n",
    "    y = torch.stack(y)\n",
    "    return sinkhorn(x,y)\n",
    "\n",
    "\n",
    "def ot_dist(x,y):\n",
    "    # x = to_tensor(x)\n",
    "    # y = torch.stack(y)\n",
    "    x = np.array(x)\n",
    "    y = np.array(torch.stack(y))\n",
    "    a = ot.unif(len(x))\n",
    "    b = ot.unif(len(y))\n",
    "    Mat = ot.dist(x, y, metric='euclidean')\n",
    "    #Mat1 /= Mat1.max()\n",
    "    distance = to_tensor(ot.emd2(a,b,Mat))\n",
    "    return distance\n",
    "\n",
    "\n",
    "device = \"cpu\"\n",
    "\n",
    "from pyprob.util import set_device\n",
    "set_device(device)\n",
    "\n",
    "obs_leaves = to_tensor([[ 25.8005,  15.8486,  13.7905,  14.9743],\n",
    "        [ 64.6767,  39.8886,  34.8096,  37.1519],\n",
    "        [112.1183,  68.9756,  59.4660,  65.3958],\n",
    "        [ 17.2854,   9.8922,   9.2324,  10.7553],\n",
    "        [  8.0760,   4.8046,   4.1940,   4.9540],\n",
    "        [ 32.6218,  17.6533,  21.0402,  17.6020],\n",
    "        [ 78.1670,  42.4337,  50.0361,  42.4953],\n",
    "        [ 23.3093,  12.4575,  14.6925,  13.1246],\n",
    "        [  8.5133,   4.5174,   5.0757,   5.1276],\n",
    "        [ 17.5119,   8.7775,  10.6228,  10.8064],\n",
    "        [ 11.6579,   5.0303,   7.2342,   7.6330],\n",
    "        [  0.8138,   0.3167,   0.5029,   0.5491],\n",
    "        [  0.5715,   0.3441,   0.2433,   0.3707]])\n",
    "\n",
    "\n",
    "QCD_mass = to_tensor(30.)\n",
    "#rate=to_tensor([QCD_rate,QCD_rate]) #Entries: [root node, every other node] decaying rates. Choose same values for a QCD jet\n",
    "jetdir = to_tensor([1.,1.,1.])\n",
    "jetP = to_tensor(400.)\n",
    "jetvec = jetP * jetdir / torch.linalg.norm(jetdir) ## Jetvec is 3-momentum. JetP is relativistic p.\n",
    "\n",
    "\n",
    "# Actual parameters\n",
    "pt_min = to_tensor(0.3**2)\n",
    "M2start = to_tensor(QCD_mass**2)\n",
    "jetM = torch.sqrt(M2start) ## Mass of initial jet\n",
    "jet4vec = torch.cat((torch.sqrt(jetP**2 + jetM**2).reshape(-1), jetvec))\n",
    "minLeaves = 1\n",
    "maxLeaves = 10000 # unachievable, to prevent rejections\n",
    "maxNTry = 100\n",
    "\n",
    "\n",
    "\n",
    "class SimulatorModelDIS(invMass_ginkgo.SimulatorModel, ModelDIS):\n",
    "    def __init__(self, **kwargs):\n",
    "        super().__init__(**kwargs)\n",
    "\n",
    "    def dummy_bernoulli(self, jet):\n",
    "        return True\n",
    "\n",
    "    def forward(self, inputs=None):\n",
    "        assert inputs is None # Modify code if this ever not met?\n",
    "        # Sample parameter of interest from Unif(0,10) prior\n",
    "        root_rate = pyprob.sample(pyprob.distributions.Uniform(0.01, 10.),\n",
    "                                  name=\"decay_rate_parameter\")\n",
    "        decay_rate = pyprob.sample(pyprob.distributions.Uniform(0.01, 10.),\n",
    "                                   name=\"decay_rate_parameter\")\n",
    "        # Simulator code needs two decay rates for (1) root note (2) all others\n",
    "        # For now both are set to the same value\n",
    "        inputs = [root_rate, decay_rate]\n",
    "        jet = super().forward(inputs)\n",
    "        delta_val = self.dummy_bernoulli(jet)\n",
    "        bool_func_dist = pyprob.distributions.Bernoulli(delta_val)\n",
    "        pyprob.observe(bool_func_dist, name = \"dummy\")\n",
    "        return jet\n",
    "\n",
    "# Make instance of the simulator\n",
    "simulatorginkgo = SimulatorModelDIS(jet_p=jet4vec,  # parent particle 4-vector\n",
    "                                    pt_cut=float(pt_min),  # minimum pT for resulting jet\n",
    "                                    Delta_0= M2start,  # parent particle mass squared -> needs tensor\n",
    "                                    M_hard=jetM,  # parent particle mass\n",
    "                                    minLeaves=1,  # minimum number of jet constituents\n",
    "                                    maxLeaves=10000,  # maximum number of jet constituents (a large value to stop expensive simulator runs)\n",
    "                                    suppress_output=True,\n",
    "                                    obs_leaves=obs_leaves,\n",
    "                                    dist_fun=sinkhorn_t)"
   ]
  },
  {
   "cell_type": "code",
   "execution_count": 7,
   "id": "90705ea5",
   "metadata": {},
   "outputs": [],
   "source": [
    "with open('network_parallel/LSTM_posterior_10', 'rb') as f:\n",
    "    posterior10 = pickle.load(f)"
   ]
  },
  {
   "cell_type": "code",
   "execution_count": 19,
   "id": "4e495074",
   "metadata": {},
   "outputs": [],
   "source": [
    "with open('network_parallel/LSTM_posterior_80', 'rb') as f:\n",
    "    posterior80 = pickle.load(f)"
   ]
  },
  {
   "cell_type": "code",
   "execution_count": 17,
   "id": "fcfe9604",
   "metadata": {},
   "outputs": [],
   "source": [
    "rates10 = np.array([trace.result['Lambda'] for trace in posterior10])"
   ]
  },
  {
   "cell_type": "code",
   "execution_count": 20,
   "id": "57beaf1f",
   "metadata": {},
   "outputs": [],
   "source": [
    "rates80 = np.array([trace.result['Lambda'] for trace in posterior80])"
   ]
  },
  {
   "cell_type": "code",
   "execution_count": 21,
   "id": "868d4cdb",
   "metadata": {},
   "outputs": [
    {
     "data": {
      "text/plain": [
       "(array([  4.,   1.,   1.,  44., 219., 582., 677., 361.,  98.,  13.]),\n",
       " array([0.02346739, 0.4450662 , 0.86666507, 1.2882639 , 1.7098627 ,\n",
       "        2.1314616 , 2.5530603 , 2.9746592 , 3.396258  , 3.8178568 ,\n",
       "        4.2394557 ], dtype=float32),\n",
       " <BarContainer object of 10 artists>)"
      ]
     },
     "execution_count": 21,
     "metadata": {},
     "output_type": "execute_result"
    },
    {
     "data": {
      "image/png": "[encoded data removed]",
      "text/plain": [
       "<Figure size 432x288 with 1 Axes>"
      ]
     },
     "metadata": {
      "needs_background": "light"
     },
     "output_type": "display_data"
    }
   ],
   "source": [
    "plt.hist(rates10)"
   ]
  },
  {
   "cell_type": "code",
   "execution_count": 22,
   "id": "2558b9c6",
   "metadata": {},
   "outputs": [
    {
     "data": {
      "text/plain": [
       "(array([1.000e+00, 1.000e+00, 0.000e+00, 0.000e+00, 0.000e+00, 0.000e+00,\n",
       "        0.000e+00, 0.000e+00, 0.000e+00, 1.998e+03]),\n",
       " array([2.5552664, 3.2997375, 4.0442085, 4.7886796, 5.5331507, 6.2776217,\n",
       "        7.022093 , 7.766564 , 8.511035 , 9.2555065, 9.999977 ],\n",
       "       dtype=float32),\n",
       " <BarContainer object of 10 artists>)"
      ]
     },
     "execution_count": 22,
     "metadata": {},
     "output_type": "execute_result"
    },
    {
     "data": {
      "image/png": "[encoded data removed]",
      "text/plain": [
       "<Figure size 432x288 with 1 Axes>"
      ]
     },
     "metadata": {
      "needs_background": "light"
     },
     "output_type": "display_data"
    }
   ],
   "source": [
    "plt.hist(rates80)"
   ]
  },
  {
   "cell_type": "code",
   "execution_count": 23,
   "id": "11e10eff",
   "metadata": {},
   "outputs": [],
   "source": [
    "root_rates10 = np.array([trace.result['LambdaRoot'] for trace in posterior10])"
   ]
  },
  {
   "cell_type": "code",
   "execution_count": 24,
   "id": "5c88aed0",
   "metadata": {},
   "outputs": [],
   "source": [
    "root_rates80 =  np.array([trace.result['LambdaRoot'] for trace in posterior80])"
   ]
  },
  {
   "cell_type": "code",
   "execution_count": 25,
   "id": "f624a101",
   "metadata": {},
   "outputs": [
    {
     "data": {
      "text/plain": [
       "(array([  9.,  12.,  26.,  53.,  91., 165., 277., 381., 468., 518.]),\n",
       " array([0.13637829, 1.1227068 , 2.1090353 , 3.0953639 , 4.081692  ,\n",
       "        5.068021  , 6.0543494 , 7.040678  , 8.027006  , 9.013335  ,\n",
       "        9.999663  ], dtype=float32),\n",
       " <BarContainer object of 10 artists>)"
      ]
     },
     "execution_count": 25,
     "metadata": {},
     "output_type": "execute_result"
    },
    {
     "data": {
      "image/png": "[encoded data removed]",
      "text/plain": [
       "<Figure size 432x288 with 1 Axes>"
      ]
     },
     "metadata": {
      "needs_background": "light"
     },
     "output_type": "display_data"
    }
   ],
   "source": [
    "plt.hist(root_rates10)"
   ]
  },
  {
   "cell_type": "code",
   "execution_count": 26,
   "id": "8e75d930",
   "metadata": {},
   "outputs": [
    {
     "data": {
      "text/plain": [
       "(array([  4.,   8.,  37.,  80., 128., 224., 319., 374., 429., 397.]),\n",
       " array([9.372334, 9.43506 , 9.497786, 9.560512, 9.623238, 9.685965,\n",
       "        9.748691, 9.811417, 9.874143, 9.936869, 9.999595], dtype=float32),\n",
       " <BarContainer object of 10 artists>)"
      ]
     },
     "execution_count": 26,
     "metadata": {},
     "output_type": "execute_result"
    },
    {
     "data": {
      "image/png": "[encoded data removed]",
      "text/plain": [
       "<Figure size 432x288 with 1 Axes>"
      ]
     },
     "metadata": {
      "needs_background": "light"
     },
     "output_type": "display_data"
    }
   ],
   "source": [
    "plt.hist(root_rates80)"
   ]
  },
  {
   "cell_type": "code",
   "execution_count": 27,
   "id": "4fb80c26",
   "metadata": {},
   "outputs": [
    {
     "data": {
      "text/plain": [
       "array([9.994822, 9.977611, 9.994802, ..., 9.958442, 9.984302, 9.979695],\n",
       "      dtype=float32)"
      ]
     },
     "execution_count": 27,
     "metadata": {},
     "output_type": "execute_result"
    }
   ],
   "source": [
    "rates80"
   ]
  },
  {
   "cell_type": "code",
   "execution_count": 34,
   "id": "46084105",
   "metadata": {},
   "outputs": [
    {
     "data": {
      "text/plain": [
       "(array([   0.,    0.,    0.,    0.,    0.,    0.,    0.,    0., 1998.]),\n",
       " array([ 9.        ,  9.11111111,  9.22222222,  9.33333333,  9.44444444,\n",
       "         9.55555556,  9.66666667,  9.77777778,  9.88888889, 10.        ]),\n",
       " <BarContainer object of 9 artists>)"
      ]
     },
     "execution_count": 34,
     "metadata": {},
     "output_type": "execute_result"
    },
    {
     "data": {
      "image/png": "[encoded data removed]",
      "text/plain": [
       "<Figure size 432x288 with 1 Axes>"
      ]
     },
     "metadata": {
      "needs_background": "light"
     },
     "output_type": "display_data"
    }
   ],
   "source": [
    "plt.hist(rates80, bins = np.linspace(9,10,10))"
   ]
  },
  {
   "cell_type": "code",
   "execution_count": 32,
   "id": "dc80b476",
   "metadata": {},
   "outputs": [
    {
     "data": {
      "text/plain": [
       "array([ 9.        ,  9.11111111,  9.22222222,  9.33333333,  9.44444444,\n",
       "        9.55555556,  9.66666667,  9.77777778,  9.88888889, 10.        ])"
      ]
     },
     "execution_count": 32,
     "metadata": {},
     "output_type": "execute_result"
    }
   ],
   "source": [
    "np.linspace(9,10,10)"
   ]
  },
  {
   "cell_type": "code",
   "execution_count": 37,
   "id": "3c33dff9",
   "metadata": {},
   "outputs": [
    {
     "name": "stdout",
     "output_type": "stream",
     "text": [
      "conftest.py               inference_network_8\r\n",
      "DIS_tests-2.ipynb         inference_network_9\r\n",
      "DIS_tests.ipynb           \u001B[0m\u001B[01;34mLSTM_network_original\u001B[0m/\r\n",
      "DIS_tests_parallel.ipynb  \u001B[01;34mnetwork_parallel\u001B[0m/\r\n",
      "\u001B[01;34mextra\u001B[0m/                    \u001B[01;34mnetwork_parallel_2\u001B[0m/\r\n",
      "ginkgo_fixed_network_2    New_LSTM_Network_20\r\n",
      "Ginkgo_Full_Tests.ipynb   Old_LSTM_Network_20\r\n",
      "Ginkgo_LSTM2.py           Old_LSTM_Network_40\r\n",
      "Ginkgo_LSTM.py            Parallel_posterior.ipynb\r\n",
      "ginkgo_parallel.py        run_all.sh\r\n",
      "inference_network_0       run_basic.sh\r\n",
      "inference_network_1       run_inference.sh\r\n",
      "inference_network_10      Save_Test1\r\n",
      "inference_network_11      test_dataset.py\r\n",
      "inference_network_12      test_diagnostics.py\r\n",
      "inference_network_13      test_distributions.py\r\n",
      "inference_network_14      test_distributions_remote.py\r\n",
      "inference_network_15      test_inference.py\r\n",
      "inference_network_16      test_inference_remote.py\r\n",
      "inference_network_17      test_model.py\r\n",
      "inference_network_18      test_model_remote.py\r\n",
      "inference_network_19      test_nn.py\r\n",
      "inference_network_2       test_save_prior\r\n",
      "inference_network_3       test_save.py\r\n",
      "inference_network_4       test_state.py\r\n",
      "inference_network_5       test_trace.py\r\n",
      "inference_network_6       test_train.py\r\n",
      "inference_network_7       test_util.py\r\n"
     ]
    }
   ],
   "source": []
  },
  {
   "cell_type": "code",
   "execution_count": 2,
   "id": "4871b2be",
   "metadata": {},
   "outputs": [],
   "source": [
    "simulatorginkgo.load_inference_network('New_LSTM_Network_20')"
   ]
  },
  {
   "cell_type": "code",
   "execution_count": 3,
   "id": "8a3dae59",
   "metadata": {},
   "outputs": [
    {
     "name": "stdout",
     "output_type": "stream",
     "text": [
      "Time spent  | Time remain.| Progress             | Trace     | ESS    | Traces/sec\n"
     ]
    },
    {
     "name": "stderr",
     "output_type": "stream",
     "text": [
      "/home/tt21642/dispyprob/pyprob/pyprob/nn/inference_network_feedforward.py:67: UserWarning: Using prior. No proposal for address: 216__forward___traverse___traverse_rec___traverse_rec___traverse_rec___traverse_rec___traverse_rec___traverse_rec___traverse_rec___traverse_rec___traverse_rec__phi_CM__Uniform__12\n",
      "  warnings.warn('Using prior. No proposal for address: {}'.format(address))\n",
      "/home/tt21642/dispyprob/pyprob/pyprob/nn/inference_network_feedforward.py:67: UserWarning: Using prior. No proposal for address: 256__forward___traverse___traverse_rec___traverse_rec___traverse_rec___traverse_rec___traverse_rec___traverse_rec___traverse_rec___traverse_rec___traverse_rec__theta_CM_U__Uniform__12\n",
      "  warnings.warn('Using prior. No proposal for address: {}'.format(address))\n",
      "/home/tt21642/dispyprob/pyprob/pyprob/nn/inference_network_feedforward.py:67: UserWarning: Using prior. No proposal for address: 460__forward___traverse___traverse_rec___traverse_rec___traverse_rec___traverse_rec___traverse_rec___traverse_rec___traverse_rec___traverse_rec___traverse_rec__draw_decay_L__TruncatedExponential__12\n",
      "  warnings.warn('Using prior. No proposal for address: {}'.format(address))\n",
      "/home/tt21642/dispyprob/pyprob/pyprob/nn/inference_network_feedforward.py:67: UserWarning: Using prior. No proposal for address: 510__forward___traverse___traverse_rec___traverse_rec___traverse_rec___traverse_rec___traverse_rec___traverse_rec___traverse_rec___traverse_rec___traverse_rec__draw_decay_R__TruncatedExponential__12\n",
      "  warnings.warn('Using prior. No proposal for address: {}'.format(address))\n"
     ]
    },
    {
     "name": "stdout",
     "output_type": "stream",
     "text": [
      "0d:00:00:09 | 0d:01:19:28 | -------------------- |    2/1000 |   1.00 | 0.21       \r"
     ]
    },
    {
     "name": "stderr",
     "output_type": "stream",
     "text": [
      "/home/tt21642/dispyprob/pyprob/pyprob/nn/inference_network_feedforward.py:67: UserWarning: Using prior. No proposal for address: 216__forward___traverse___traverse_rec___traverse_rec___traverse_rec___traverse_rec___traverse_rec___traverse_rec___traverse_rec___traverse_rec__phi_CM__Uniform__13\n",
      "  warnings.warn('Using prior. No proposal for address: {}'.format(address))\n",
      "/home/tt21642/dispyprob/pyprob/pyprob/nn/inference_network_feedforward.py:67: UserWarning: Using prior. No proposal for address: 256__forward___traverse___traverse_rec___traverse_rec___traverse_rec___traverse_rec___traverse_rec___traverse_rec___traverse_rec___traverse_rec__theta_CM_U__Uniform__13\n",
      "  warnings.warn('Using prior. No proposal for address: {}'.format(address))\n",
      "/home/tt21642/dispyprob/pyprob/pyprob/nn/inference_network_feedforward.py:67: UserWarning: Using prior. No proposal for address: 460__forward___traverse___traverse_rec___traverse_rec___traverse_rec___traverse_rec___traverse_rec___traverse_rec___traverse_rec___traverse_rec__draw_decay_L__TruncatedExponential__13\n",
      "  warnings.warn('Using prior. No proposal for address: {}'.format(address))\n",
      "/home/tt21642/dispyprob/pyprob/pyprob/nn/inference_network_feedforward.py:67: UserWarning: Using prior. No proposal for address: 510__forward___traverse___traverse_rec___traverse_rec___traverse_rec___traverse_rec___traverse_rec___traverse_rec___traverse_rec___traverse_rec__draw_decay_R__TruncatedExponential__13\n",
      "  warnings.warn('Using prior. No proposal for address: {}'.format(address))\n",
      "/home/tt21642/dispyprob/pyprob/pyprob/nn/inference_network_feedforward.py:67: UserWarning: Using prior. No proposal for address: 216__forward___traverse___traverse_rec___traverse_rec___traverse_rec___traverse_rec___traverse_rec___traverse_rec___traverse_rec___traverse_rec__phi_CM__Uniform__14\n",
      "  warnings.warn('Using prior. No proposal for address: {}'.format(address))\n",
      "/home/tt21642/dispyprob/pyprob/pyprob/nn/inference_network_feedforward.py:67: UserWarning: Using prior. No proposal for address: 256__forward___traverse___traverse_rec___traverse_rec___traverse_rec___traverse_rec___traverse_rec___traverse_rec___traverse_rec___traverse_rec__theta_CM_U__Uniform__14\n",
      "  warnings.warn('Using prior. No proposal for address: {}'.format(address))\n",
      "/home/tt21642/dispyprob/pyprob/pyprob/nn/inference_network_feedforward.py:67: UserWarning: Using prior. No proposal for address: 460__forward___traverse___traverse_rec___traverse_rec___traverse_rec___traverse_rec___traverse_rec___traverse_rec___traverse_rec___traverse_rec__draw_decay_L__TruncatedExponential__14\n",
      "  warnings.warn('Using prior. No proposal for address: {}'.format(address))\n",
      "/home/tt21642/dispyprob/pyprob/pyprob/nn/inference_network_feedforward.py:67: UserWarning: Using prior. No proposal for address: 510__forward___traverse___traverse_rec___traverse_rec___traverse_rec___traverse_rec___traverse_rec___traverse_rec___traverse_rec___traverse_rec__draw_decay_R__TruncatedExponential__14\n",
      "  warnings.warn('Using prior. No proposal for address: {}'.format(address))\n"
     ]
    },
    {
     "name": "stdout",
     "output_type": "stream",
     "text": [
      "0d:00:00:16 | 0d:01:31:05 | -------------------- |    3/1000 |   1.00 | 0.18       \r"
     ]
    },
    {
     "name": "stderr",
     "output_type": "stream",
     "text": [
      "/home/tt21642/dispyprob/pyprob/pyprob/nn/inference_network_feedforward.py:67: UserWarning: Using prior. No proposal for address: 216__forward___traverse___traverse_rec___traverse_rec___traverse_rec___traverse_rec___traverse_rec___traverse_rec___traverse_rec__phi_CM__Uniform__16\n",
      "  warnings.warn('Using prior. No proposal for address: {}'.format(address))\n",
      "/home/tt21642/dispyprob/pyprob/pyprob/nn/inference_network_feedforward.py:67: UserWarning: Using prior. No proposal for address: 256__forward___traverse___traverse_rec___traverse_rec___traverse_rec___traverse_rec___traverse_rec___traverse_rec___traverse_rec__theta_CM_U__Uniform__16\n",
      "  warnings.warn('Using prior. No proposal for address: {}'.format(address))\n",
      "/home/tt21642/dispyprob/pyprob/pyprob/nn/inference_network_feedforward.py:67: UserWarning: Using prior. No proposal for address: 460__forward___traverse___traverse_rec___traverse_rec___traverse_rec___traverse_rec___traverse_rec___traverse_rec___traverse_rec__draw_decay_L__TruncatedExponential__16\n",
      "  warnings.warn('Using prior. No proposal for address: {}'.format(address))\n",
      "/home/tt21642/dispyprob/pyprob/pyprob/nn/inference_network_feedforward.py:67: UserWarning: Using prior. No proposal for address: 510__forward___traverse___traverse_rec___traverse_rec___traverse_rec___traverse_rec___traverse_rec___traverse_rec___traverse_rec__draw_decay_R__TruncatedExponential__16\n",
      "  warnings.warn('Using prior. No proposal for address: {}'.format(address))\n"
     ]
    },
    {
     "name": "stdout",
     "output_type": "stream",
     "text": [
      "0d:00:00:20 | 0d:01:27:05 | -------------------- |    4/1000 |   1.00 | 0.19       \r"
     ]
    },
    {
     "name": "stderr",
     "output_type": "stream",
     "text": [
      "/home/tt21642/dispyprob/pyprob/pyprob/nn/inference_network_feedforward.py:67: UserWarning: Using prior. No proposal for address: 216__forward___traverse___traverse_rec___traverse_rec___traverse_rec___traverse_rec___traverse_rec___traverse_rec___traverse_rec___traverse_rec___traverse_rec___traverse_rec__phi_CM__Uniform__10\n",
      "  warnings.warn('Using prior. No proposal for address: {}'.format(address))\n",
      "/home/tt21642/dispyprob/pyprob/pyprob/nn/inference_network_feedforward.py:67: UserWarning: Using prior. No proposal for address: 256__forward___traverse___traverse_rec___traverse_rec___traverse_rec___traverse_rec___traverse_rec___traverse_rec___traverse_rec___traverse_rec___traverse_rec___traverse_rec__theta_CM_U__Uniform__10\n",
      "  warnings.warn('Using prior. No proposal for address: {}'.format(address))\n",
      "/home/tt21642/dispyprob/pyprob/pyprob/nn/inference_network_feedforward.py:67: UserWarning: Using prior. No proposal for address: 460__forward___traverse___traverse_rec___traverse_rec___traverse_rec___traverse_rec___traverse_rec___traverse_rec___traverse_rec___traverse_rec___traverse_rec___traverse_rec__draw_decay_L__TruncatedExponential__10\n",
      "  warnings.warn('Using prior. No proposal for address: {}'.format(address))\n",
      "/home/tt21642/dispyprob/pyprob/pyprob/nn/inference_network_feedforward.py:67: UserWarning: Using prior. No proposal for address: 510__forward___traverse___traverse_rec___traverse_rec___traverse_rec___traverse_rec___traverse_rec___traverse_rec___traverse_rec___traverse_rec___traverse_rec___traverse_rec__draw_decay_R__TruncatedExponential__10\n",
      "  warnings.warn('Using prior. No proposal for address: {}'.format(address))\n",
      "/home/tt21642/dispyprob/pyprob/pyprob/nn/inference_network_feedforward.py:67: UserWarning: Using prior. No proposal for address: 216__forward___traverse___traverse_rec___traverse_rec___traverse_rec___traverse_rec___traverse_rec___traverse_rec___traverse_rec___traverse_rec___traverse_rec__phi_CM__Uniform__13\n",
      "  warnings.warn('Using prior. No proposal for address: {}'.format(address))\n",
      "/home/tt21642/dispyprob/pyprob/pyprob/nn/inference_network_feedforward.py:67: UserWarning: Using prior. No proposal for address: 256__forward___traverse___traverse_rec___traverse_rec___traverse_rec___traverse_rec___traverse_rec___traverse_rec___traverse_rec___traverse_rec___traverse_rec__theta_CM_U__Uniform__13\n",
      "  warnings.warn('Using prior. No proposal for address: {}'.format(address))\n",
      "/home/tt21642/dispyprob/pyprob/pyprob/nn/inference_network_feedforward.py:67: UserWarning: Using prior. No proposal for address: 460__forward___traverse___traverse_rec___traverse_rec___traverse_rec___traverse_rec___traverse_rec___traverse_rec___traverse_rec___traverse_rec___traverse_rec__draw_decay_L__TruncatedExponential__13\n",
      "  warnings.warn('Using prior. No proposal for address: {}'.format(address))\n",
      "/home/tt21642/dispyprob/pyprob/pyprob/nn/inference_network_feedforward.py:67: UserWarning: Using prior. No proposal for address: 510__forward___traverse___traverse_rec___traverse_rec___traverse_rec___traverse_rec___traverse_rec___traverse_rec___traverse_rec___traverse_rec___traverse_rec__draw_decay_R__TruncatedExponential__13\n",
      "  warnings.warn('Using prior. No proposal for address: {}'.format(address))\n",
      "/home/tt21642/dispyprob/pyprob/pyprob/nn/inference_network_feedforward.py:67: UserWarning: Using prior. No proposal for address: 216__forward___traverse___traverse_rec___traverse_rec___traverse_rec___traverse_rec___traverse_rec___traverse_rec___traverse_rec___traverse_rec___traverse_rec___traverse_rec__phi_CM__Uniform__11\n",
      "  warnings.warn('Using prior. No proposal for address: {}'.format(address))\n",
      "/home/tt21642/dispyprob/pyprob/pyprob/nn/inference_network_feedforward.py:67: UserWarning: Using prior. No proposal for address: 256__forward___traverse___traverse_rec___traverse_rec___traverse_rec___traverse_rec___traverse_rec___traverse_rec___traverse_rec___traverse_rec___traverse_rec___traverse_rec__theta_CM_U__Uniform__11\n",
      "  warnings.warn('Using prior. No proposal for address: {}'.format(address))\n",
      "/home/tt21642/dispyprob/pyprob/pyprob/nn/inference_network_feedforward.py:67: UserWarning: Using prior. No proposal for address: 460__forward___traverse___traverse_rec___traverse_rec___traverse_rec___traverse_rec___traverse_rec___traverse_rec___traverse_rec___traverse_rec___traverse_rec___traverse_rec__draw_decay_L__TruncatedExponential__11\n",
      "  warnings.warn('Using prior. No proposal for address: {}'.format(address))\n",
      "/home/tt21642/dispyprob/pyprob/pyprob/nn/inference_network_feedforward.py:67: UserWarning: Using prior. No proposal for address: 510__forward___traverse___traverse_rec___traverse_rec___traverse_rec___traverse_rec___traverse_rec___traverse_rec___traverse_rec___traverse_rec___traverse_rec___traverse_rec__draw_decay_R__TruncatedExponential__11\n",
      "  warnings.warn('Using prior. No proposal for address: {}'.format(address))\n"
     ]
    },
    {
     "name": "stdout",
     "output_type": "stream",
     "text": [
      "0d:00:00:46 | 0d:01:17:29 | -------------------- |   10/1000 |   1.80 | 0.21       \r"
     ]
    },
    {
     "name": "stderr",
     "output_type": "stream",
     "text": [
      "/home/tt21642/dispyprob/pyprob/pyprob/nn/inference_network_feedforward.py:67: UserWarning: Using prior. No proposal for address: 216__forward___traverse___traverse_rec___traverse_rec___traverse_rec___traverse_rec___traverse_rec___traverse_rec___traverse_rec___traverse_rec___traverse_rec___traverse_rec___traverse_rec___traverse_rec___traverse_rec___traverse_rec___traverse_rec___traverse_rec___traverse_rec___traverse_rec___traverse_rec___traverse_rec__phi_CM__Uniform__1\n",
      "  warnings.warn('Using prior. No proposal for address: {}'.format(address))\n",
      "/home/tt21642/dispyprob/pyprob/pyprob/nn/inference_network_feedforward.py:67: UserWarning: Using prior. No proposal for address: 256__forward___traverse___traverse_rec___traverse_rec___traverse_rec___traverse_rec___traverse_rec___traverse_rec___traverse_rec___traverse_rec___traverse_rec___traverse_rec___traverse_rec___traverse_rec___traverse_rec___traverse_rec___traverse_rec___traverse_rec___traverse_rec___traverse_rec___traverse_rec___traverse_rec__theta_CM_U__Uniform__1\n",
      "  warnings.warn('Using prior. No proposal for address: {}'.format(address))\n",
      "/home/tt21642/dispyprob/pyprob/pyprob/nn/inference_network_feedforward.py:67: UserWarning: Using prior. No proposal for address: 460__forward___traverse___traverse_rec___traverse_rec___traverse_rec___traverse_rec___traverse_rec___traverse_rec___traverse_rec___traverse_rec___traverse_rec___traverse_rec___traverse_rec___traverse_rec___traverse_rec___traverse_rec___traverse_rec___traverse_rec___traverse_rec___traverse_rec___traverse_rec___traverse_rec__draw_decay_L__TruncatedExponential__1\n",
      "  warnings.warn('Using prior. No proposal for address: {}'.format(address))\n",
      "/home/tt21642/dispyprob/pyprob/pyprob/nn/inference_network_feedforward.py:67: UserWarning: Using prior. No proposal for address: 510__forward___traverse___traverse_rec___traverse_rec___traverse_rec___traverse_rec___traverse_rec___traverse_rec___traverse_rec___traverse_rec___traverse_rec___traverse_rec___traverse_rec___traverse_rec___traverse_rec___traverse_rec___traverse_rec___traverse_rec___traverse_rec___traverse_rec___traverse_rec___traverse_rec__draw_decay_R__TruncatedExponential__1\n",
      "  warnings.warn('Using prior. No proposal for address: {}'.format(address))\n",
      "/home/tt21642/dispyprob/pyprob/pyprob/nn/inference_network_feedforward.py:67: UserWarning: Using prior. No proposal for address: 216__forward___traverse___traverse_rec___traverse_rec___traverse_rec___traverse_rec___traverse_rec___traverse_rec___traverse_rec___traverse_rec___traverse_rec___traverse_rec___traverse_rec___traverse_rec___traverse_rec___traverse_rec___traverse_rec___traverse_rec___traverse_rec__phi_CM__Uniform__2\n",
      "  warnings.warn('Using prior. No proposal for address: {}'.format(address))\n",
      "/home/tt21642/dispyprob/pyprob/pyprob/nn/inference_network_feedforward.py:67: UserWarning: Using prior. No proposal for address: 256__forward___traverse___traverse_rec___traverse_rec___traverse_rec___traverse_rec___traverse_rec___traverse_rec___traverse_rec___traverse_rec___traverse_rec___traverse_rec___traverse_rec___traverse_rec___traverse_rec___traverse_rec___traverse_rec___traverse_rec___traverse_rec__theta_CM_U__Uniform__2\n",
      "  warnings.warn('Using prior. No proposal for address: {}'.format(address))\n",
      "/home/tt21642/dispyprob/pyprob/pyprob/nn/inference_network_feedforward.py:67: UserWarning: Using prior. No proposal for address: 460__forward___traverse___traverse_rec___traverse_rec___traverse_rec___traverse_rec___traverse_rec___traverse_rec___traverse_rec___traverse_rec___traverse_rec___traverse_rec___traverse_rec___traverse_rec___traverse_rec___traverse_rec___traverse_rec___traverse_rec___traverse_rec__draw_decay_L__TruncatedExponential__2\n",
      "  warnings.warn('Using prior. No proposal for address: {}'.format(address))\n",
      "/home/tt21642/dispyprob/pyprob/pyprob/nn/inference_network_feedforward.py:67: UserWarning: Using prior. No proposal for address: 510__forward___traverse___traverse_rec___traverse_rec___traverse_rec___traverse_rec___traverse_rec___traverse_rec___traverse_rec___traverse_rec___traverse_rec___traverse_rec___traverse_rec___traverse_rec___traverse_rec___traverse_rec___traverse_rec___traverse_rec___traverse_rec__draw_decay_R__TruncatedExponential__2\n",
      "  warnings.warn('Using prior. No proposal for address: {}'.format(address))\n",
      "/home/tt21642/dispyprob/pyprob/pyprob/nn/inference_network_feedforward.py:67: UserWarning: Using prior. No proposal for address: 216__forward___traverse___traverse_rec___traverse_rec___traverse_rec___traverse_rec___traverse_rec___traverse_rec___traverse_rec___traverse_rec___traverse_rec___traverse_rec___traverse_rec___traverse_rec___traverse_rec___traverse_rec___traverse_rec__phi_CM__Uniform__2\n",
      "  warnings.warn('Using prior. No proposal for address: {}'.format(address))\n",
      "/home/tt21642/dispyprob/pyprob/pyprob/nn/inference_network_feedforward.py:67: UserWarning: Using prior. No proposal for address: 256__forward___traverse___traverse_rec___traverse_rec___traverse_rec___traverse_rec___traverse_rec___traverse_rec___traverse_rec___traverse_rec___traverse_rec___traverse_rec___traverse_rec___traverse_rec___traverse_rec___traverse_rec___traverse_rec__theta_CM_U__Uniform__2\n",
      "  warnings.warn('Using prior. No proposal for address: {}'.format(address))\n",
      "/home/tt21642/dispyprob/pyprob/pyprob/nn/inference_network_feedforward.py:67: UserWarning: Using prior. No proposal for address: 460__forward___traverse___traverse_rec___traverse_rec___traverse_rec___traverse_rec___traverse_rec___traverse_rec___traverse_rec___traverse_rec___traverse_rec___traverse_rec___traverse_rec___traverse_rec___traverse_rec___traverse_rec___traverse_rec__draw_decay_L__TruncatedExponential__2\n",
      "  warnings.warn('Using prior. No proposal for address: {}'.format(address))\n",
      "/home/tt21642/dispyprob/pyprob/pyprob/nn/inference_network_feedforward.py:67: UserWarning: Using prior. No proposal for address: 510__forward___traverse___traverse_rec___traverse_rec___traverse_rec___traverse_rec___traverse_rec___traverse_rec___traverse_rec___traverse_rec___traverse_rec___traverse_rec___traverse_rec___traverse_rec___traverse_rec___traverse_rec___traverse_rec__draw_decay_R__TruncatedExponential__2\n",
      "  warnings.warn('Using prior. No proposal for address: {}'.format(address))\n",
      "/home/tt21642/dispyprob/pyprob/pyprob/nn/inference_network_feedforward.py:67: UserWarning: Using prior. No proposal for address: 216__forward___traverse___traverse_rec___traverse_rec___traverse_rec___traverse_rec___traverse_rec___traverse_rec___traverse_rec___traverse_rec___traverse_rec___traverse_rec___traverse_rec___traverse_rec___traverse_rec___traverse_rec___traverse_rec__phi_CM__Uniform__3\n",
      "  warnings.warn('Using prior. No proposal for address: {}'.format(address))\n",
      "/home/tt21642/dispyprob/pyprob/pyprob/nn/inference_network_feedforward.py:67: UserWarning: Using prior. No proposal for address: 256__forward___traverse___traverse_rec___traverse_rec___traverse_rec___traverse_rec___traverse_rec___traverse_rec___traverse_rec___traverse_rec___traverse_rec___traverse_rec___traverse_rec___traverse_rec___traverse_rec___traverse_rec___traverse_rec__theta_CM_U__Uniform__3\n",
      "  warnings.warn('Using prior. No proposal for address: {}'.format(address))\n",
      "/home/tt21642/dispyprob/pyprob/pyprob/nn/inference_network_feedforward.py:67: UserWarning: Using prior. No proposal for address: 460__forward___traverse___traverse_rec___traverse_rec___traverse_rec___traverse_rec___traverse_rec___traverse_rec___traverse_rec___traverse_rec___traverse_rec___traverse_rec___traverse_rec___traverse_rec___traverse_rec___traverse_rec___traverse_rec__draw_decay_L__TruncatedExponential__3\n",
      "  warnings.warn('Using prior. No proposal for address: {}'.format(address))\n",
      "/home/tt21642/dispyprob/pyprob/pyprob/nn/inference_network_feedforward.py:67: UserWarning: Using prior. No proposal for address: 510__forward___traverse___traverse_rec___traverse_rec___traverse_rec___traverse_rec___traverse_rec___traverse_rec___traverse_rec___traverse_rec___traverse_rec___traverse_rec___traverse_rec___traverse_rec___traverse_rec___traverse_rec___traverse_rec__draw_decay_R__TruncatedExponential__3\n",
      "  warnings.warn('Using prior. No proposal for address: {}'.format(address))\n",
      "/home/tt21642/dispyprob/pyprob/pyprob/nn/inference_network_feedforward.py:67: UserWarning: Using prior. No proposal for address: 216__forward___traverse___traverse_rec___traverse_rec___traverse_rec___traverse_rec___traverse_rec___traverse_rec___traverse_rec___traverse_rec___traverse_rec___traverse_rec___traverse_rec__phi_CM__Uniform__8\n",
      "  warnings.warn('Using prior. No proposal for address: {}'.format(address))\n",
      "/home/tt21642/dispyprob/pyprob/pyprob/nn/inference_network_feedforward.py:67: UserWarning: Using prior. No proposal for address: 256__forward___traverse___traverse_rec___traverse_rec___traverse_rec___traverse_rec___traverse_rec___traverse_rec___traverse_rec___traverse_rec___traverse_rec___traverse_rec___traverse_rec__theta_CM_U__Uniform__8\n",
      "  warnings.warn('Using prior. No proposal for address: {}'.format(address))\n",
      "/home/tt21642/dispyprob/pyprob/pyprob/nn/inference_network_feedforward.py:67: UserWarning: Using prior. No proposal for address: 460__forward___traverse___traverse_rec___traverse_rec___traverse_rec___traverse_rec___traverse_rec___traverse_rec___traverse_rec___traverse_rec___traverse_rec___traverse_rec___traverse_rec__draw_decay_L__TruncatedExponential__8\n",
      "  warnings.warn('Using prior. No proposal for address: {}'.format(address))\n",
      "/home/tt21642/dispyprob/pyprob/pyprob/nn/inference_network_feedforward.py:67: UserWarning: Using prior. No proposal for address: 510__forward___traverse___traverse_rec___traverse_rec___traverse_rec___traverse_rec___traverse_rec___traverse_rec___traverse_rec___traverse_rec___traverse_rec___traverse_rec___traverse_rec__draw_decay_R__TruncatedExponential__8\n",
      "  warnings.warn('Using prior. No proposal for address: {}'.format(address))\n",
      "/home/tt21642/dispyprob/pyprob/pyprob/nn/inference_network_feedforward.py:67: UserWarning: Using prior. No proposal for address: 216__forward___traverse___traverse_rec___traverse_rec___traverse_rec___traverse_rec___traverse_rec___traverse_rec___traverse_rec___traverse_rec___traverse_rec___traverse_rec___traverse_rec__phi_CM__Uniform__9\n",
      "  warnings.warn('Using prior. No proposal for address: {}'.format(address))\n",
      "/home/tt21642/dispyprob/pyprob/pyprob/nn/inference_network_feedforward.py:67: UserWarning: Using prior. No proposal for address: 256__forward___traverse___traverse_rec___traverse_rec___traverse_rec___traverse_rec___traverse_rec___traverse_rec___traverse_rec___traverse_rec___traverse_rec___traverse_rec___traverse_rec__theta_CM_U__Uniform__9\n",
      "  warnings.warn('Using prior. No proposal for address: {}'.format(address))\n",
      "/home/tt21642/dispyprob/pyprob/pyprob/nn/inference_network_feedforward.py:67: UserWarning: Using prior. No proposal for address: 460__forward___traverse___traverse_rec___traverse_rec___traverse_rec___traverse_rec___traverse_rec___traverse_rec___traverse_rec___traverse_rec___traverse_rec___traverse_rec___traverse_rec__draw_decay_L__TruncatedExponential__9\n",
      "  warnings.warn('Using prior. No proposal for address: {}'.format(address))\n",
      "/home/tt21642/dispyprob/pyprob/pyprob/nn/inference_network_feedforward.py:67: UserWarning: Using prior. No proposal for address: 510__forward___traverse___traverse_rec___traverse_rec___traverse_rec___traverse_rec___traverse_rec___traverse_rec___traverse_rec___traverse_rec___traverse_rec___traverse_rec___traverse_rec__draw_decay_R__TruncatedExponential__9\n",
      "  warnings.warn('Using prior. No proposal for address: {}'.format(address))\n"
     ]
    },
    {
     "name": "stderr",
     "output_type": "stream",
     "text": [
      "/home/tt21642/dispyprob/pyprob/pyprob/nn/inference_network_feedforward.py:67: UserWarning: Using prior. No proposal for address: 216__forward___traverse___traverse_rec___traverse_rec___traverse_rec___traverse_rec___traverse_rec___traverse_rec___traverse_rec___traverse_rec___traverse_rec___traverse_rec___traverse_rec__phi_CM__Uniform__10\n",
      "  warnings.warn('Using prior. No proposal for address: {}'.format(address))\n",
      "/home/tt21642/dispyprob/pyprob/pyprob/nn/inference_network_feedforward.py:67: UserWarning: Using prior. No proposal for address: 256__forward___traverse___traverse_rec___traverse_rec___traverse_rec___traverse_rec___traverse_rec___traverse_rec___traverse_rec___traverse_rec___traverse_rec___traverse_rec___traverse_rec__theta_CM_U__Uniform__10\n",
      "  warnings.warn('Using prior. No proposal for address: {}'.format(address))\n",
      "/home/tt21642/dispyprob/pyprob/pyprob/nn/inference_network_feedforward.py:67: UserWarning: Using prior. No proposal for address: 460__forward___traverse___traverse_rec___traverse_rec___traverse_rec___traverse_rec___traverse_rec___traverse_rec___traverse_rec___traverse_rec___traverse_rec___traverse_rec___traverse_rec__draw_decay_L__TruncatedExponential__10\n",
      "  warnings.warn('Using prior. No proposal for address: {}'.format(address))\n",
      "/home/tt21642/dispyprob/pyprob/pyprob/nn/inference_network_feedforward.py:67: UserWarning: Using prior. No proposal for address: 510__forward___traverse___traverse_rec___traverse_rec___traverse_rec___traverse_rec___traverse_rec___traverse_rec___traverse_rec___traverse_rec___traverse_rec___traverse_rec___traverse_rec__draw_decay_R__TruncatedExponential__10\n",
      "  warnings.warn('Using prior. No proposal for address: {}'.format(address))\n",
      "/home/tt21642/dispyprob/pyprob/pyprob/nn/inference_network_feedforward.py:67: UserWarning: Using prior. No proposal for address: 216__forward___traverse___traverse_rec___traverse_rec___traverse_rec___traverse_rec___traverse_rec___traverse_rec___traverse_rec___traverse_rec___traverse_rec___traverse_rec___traverse_rec__phi_CM__Uniform__11\n",
      "  warnings.warn('Using prior. No proposal for address: {}'.format(address))\n",
      "/home/tt21642/dispyprob/pyprob/pyprob/nn/inference_network_feedforward.py:67: UserWarning: Using prior. No proposal for address: 256__forward___traverse___traverse_rec___traverse_rec___traverse_rec___traverse_rec___traverse_rec___traverse_rec___traverse_rec___traverse_rec___traverse_rec___traverse_rec___traverse_rec__theta_CM_U__Uniform__11\n",
      "  warnings.warn('Using prior. No proposal for address: {}'.format(address))\n",
      "/home/tt21642/dispyprob/pyprob/pyprob/nn/inference_network_feedforward.py:67: UserWarning: Using prior. No proposal for address: 460__forward___traverse___traverse_rec___traverse_rec___traverse_rec___traverse_rec___traverse_rec___traverse_rec___traverse_rec___traverse_rec___traverse_rec___traverse_rec___traverse_rec__draw_decay_L__TruncatedExponential__11\n",
      "  warnings.warn('Using prior. No proposal for address: {}'.format(address))\n",
      "/home/tt21642/dispyprob/pyprob/pyprob/nn/inference_network_feedforward.py:67: UserWarning: Using prior. No proposal for address: 510__forward___traverse___traverse_rec___traverse_rec___traverse_rec___traverse_rec___traverse_rec___traverse_rec___traverse_rec___traverse_rec___traverse_rec___traverse_rec___traverse_rec__draw_decay_R__TruncatedExponential__11\n",
      "  warnings.warn('Using prior. No proposal for address: {}'.format(address))\n",
      "/home/tt21642/dispyprob/pyprob/pyprob/nn/inference_network_feedforward.py:67: UserWarning: Using prior. No proposal for address: 216__forward___traverse___traverse_rec___traverse_rec___traverse_rec___traverse_rec___traverse_rec___traverse_rec___traverse_rec___traverse_rec___traverse_rec___traverse_rec___traverse_rec__phi_CM__Uniform__12\n",
      "  warnings.warn('Using prior. No proposal for address: {}'.format(address))\n",
      "/home/tt21642/dispyprob/pyprob/pyprob/nn/inference_network_feedforward.py:67: UserWarning: Using prior. No proposal for address: 256__forward___traverse___traverse_rec___traverse_rec___traverse_rec___traverse_rec___traverse_rec___traverse_rec___traverse_rec___traverse_rec___traverse_rec___traverse_rec___traverse_rec__theta_CM_U__Uniform__12\n",
      "  warnings.warn('Using prior. No proposal for address: {}'.format(address))\n",
      "/home/tt21642/dispyprob/pyprob/pyprob/nn/inference_network_feedforward.py:67: UserWarning: Using prior. No proposal for address: 460__forward___traverse___traverse_rec___traverse_rec___traverse_rec___traverse_rec___traverse_rec___traverse_rec___traverse_rec___traverse_rec___traverse_rec___traverse_rec___traverse_rec__draw_decay_L__TruncatedExponential__12\n",
      "  warnings.warn('Using prior. No proposal for address: {}'.format(address))\n",
      "/home/tt21642/dispyprob/pyprob/pyprob/nn/inference_network_feedforward.py:67: UserWarning: Using prior. No proposal for address: 510__forward___traverse___traverse_rec___traverse_rec___traverse_rec___traverse_rec___traverse_rec___traverse_rec___traverse_rec___traverse_rec___traverse_rec___traverse_rec___traverse_rec__draw_decay_R__TruncatedExponential__12\n",
      "  warnings.warn('Using prior. No proposal for address: {}'.format(address))\n",
      "/home/tt21642/dispyprob/pyprob/pyprob/nn/inference_network_feedforward.py:67: UserWarning: Using prior. No proposal for address: 216__forward___traverse___traverse_rec___traverse_rec___traverse_rec___traverse_rec___traverse_rec___traverse_rec___traverse_rec___traverse_rec___traverse_rec___traverse_rec__phi_CM__Uniform__12\n",
      "  warnings.warn('Using prior. No proposal for address: {}'.format(address))\n",
      "/home/tt21642/dispyprob/pyprob/pyprob/nn/inference_network_feedforward.py:67: UserWarning: Using prior. No proposal for address: 256__forward___traverse___traverse_rec___traverse_rec___traverse_rec___traverse_rec___traverse_rec___traverse_rec___traverse_rec___traverse_rec___traverse_rec___traverse_rec__theta_CM_U__Uniform__12\n",
      "  warnings.warn('Using prior. No proposal for address: {}'.format(address))\n",
      "/home/tt21642/dispyprob/pyprob/pyprob/nn/inference_network_feedforward.py:67: UserWarning: Using prior. No proposal for address: 460__forward___traverse___traverse_rec___traverse_rec___traverse_rec___traverse_rec___traverse_rec___traverse_rec___traverse_rec___traverse_rec___traverse_rec___traverse_rec__draw_decay_L__TruncatedExponential__12\n",
      "  warnings.warn('Using prior. No proposal for address: {}'.format(address))\n",
      "/home/tt21642/dispyprob/pyprob/pyprob/nn/inference_network_feedforward.py:67: UserWarning: Using prior. No proposal for address: 510__forward___traverse___traverse_rec___traverse_rec___traverse_rec___traverse_rec___traverse_rec___traverse_rec___traverse_rec___traverse_rec___traverse_rec___traverse_rec__draw_decay_R__TruncatedExponential__12\n",
      "  warnings.warn('Using prior. No proposal for address: {}'.format(address))\n",
      "/home/tt21642/dispyprob/pyprob/pyprob/nn/inference_network_feedforward.py:67: UserWarning: Using prior. No proposal for address: 216__forward___traverse___traverse_rec___traverse_rec___traverse_rec___traverse_rec___traverse_rec___traverse_rec___traverse_rec___traverse_rec___traverse_rec___traverse_rec___traverse_rec__phi_CM__Uniform__13\n",
      "  warnings.warn('Using prior. No proposal for address: {}'.format(address))\n",
      "/home/tt21642/dispyprob/pyprob/pyprob/nn/inference_network_feedforward.py:67: UserWarning: Using prior. No proposal for address: 256__forward___traverse___traverse_rec___traverse_rec___traverse_rec___traverse_rec___traverse_rec___traverse_rec___traverse_rec___traverse_rec___traverse_rec___traverse_rec___traverse_rec__theta_CM_U__Uniform__13\n",
      "  warnings.warn('Using prior. No proposal for address: {}'.format(address))\n",
      "/home/tt21642/dispyprob/pyprob/pyprob/nn/inference_network_feedforward.py:67: UserWarning: Using prior. No proposal for address: 460__forward___traverse___traverse_rec___traverse_rec___traverse_rec___traverse_rec___traverse_rec___traverse_rec___traverse_rec___traverse_rec___traverse_rec___traverse_rec___traverse_rec__draw_decay_L__TruncatedExponential__13\n",
      "  warnings.warn('Using prior. No proposal for address: {}'.format(address))\n",
      "/home/tt21642/dispyprob/pyprob/pyprob/nn/inference_network_feedforward.py:67: UserWarning: Using prior. No proposal for address: 510__forward___traverse___traverse_rec___traverse_rec___traverse_rec___traverse_rec___traverse_rec___traverse_rec___traverse_rec___traverse_rec___traverse_rec___traverse_rec___traverse_rec__draw_decay_R__TruncatedExponential__13\n",
      "  warnings.warn('Using prior. No proposal for address: {}'.format(address))\n"
     ]
    },
    {
     "name": "stderr",
     "output_type": "stream",
     "text": [
      "/home/tt21642/dispyprob/pyprob/pyprob/nn/inference_network_feedforward.py:67: UserWarning: Using prior. No proposal for address: 216__forward___traverse___traverse_rec___traverse_rec___traverse_rec___traverse_rec___traverse_rec___traverse_rec___traverse_rec___traverse_rec___traverse_rec___traverse_rec__phi_CM__Uniform__13\n",
      "  warnings.warn('Using prior. No proposal for address: {}'.format(address))\n",
      "/home/tt21642/dispyprob/pyprob/pyprob/nn/inference_network_feedforward.py:67: UserWarning: Using prior. No proposal for address: 256__forward___traverse___traverse_rec___traverse_rec___traverse_rec___traverse_rec___traverse_rec___traverse_rec___traverse_rec___traverse_rec___traverse_rec___traverse_rec__theta_CM_U__Uniform__13\n",
      "  warnings.warn('Using prior. No proposal for address: {}'.format(address))\n",
      "/home/tt21642/dispyprob/pyprob/pyprob/nn/inference_network_feedforward.py:67: UserWarning: Using prior. No proposal for address: 460__forward___traverse___traverse_rec___traverse_rec___traverse_rec___traverse_rec___traverse_rec___traverse_rec___traverse_rec___traverse_rec___traverse_rec___traverse_rec__draw_decay_L__TruncatedExponential__13\n",
      "  warnings.warn('Using prior. No proposal for address: {}'.format(address))\n",
      "/home/tt21642/dispyprob/pyprob/pyprob/nn/inference_network_feedforward.py:67: UserWarning: Using prior. No proposal for address: 510__forward___traverse___traverse_rec___traverse_rec___traverse_rec___traverse_rec___traverse_rec___traverse_rec___traverse_rec___traverse_rec___traverse_rec___traverse_rec__draw_decay_R__TruncatedExponential__13\n",
      "  warnings.warn('Using prior. No proposal for address: {}'.format(address))\n"
     ]
    },
    {
     "name": "stdout",
     "output_type": "stream",
     "text": [
      "0d:00:00:52 | 0d:01:18:07 | -------------------- |   11/1000 |   1.80 | 0.21       \r"
     ]
    },
    {
     "name": "stderr",
     "output_type": "stream",
     "text": [
      "/home/tt21642/dispyprob/pyprob/pyprob/nn/inference_network_feedforward.py:67: UserWarning: Using prior. No proposal for address: 216__forward___traverse___traverse_rec___traverse_rec___traverse_rec___traverse_rec___traverse_rec___traverse_rec___traverse_rec___traverse_rec___traverse_rec__phi_CM__Uniform__14\n",
      "  warnings.warn('Using prior. No proposal for address: {}'.format(address))\n",
      "/home/tt21642/dispyprob/pyprob/pyprob/nn/inference_network_feedforward.py:67: UserWarning: Using prior. No proposal for address: 256__forward___traverse___traverse_rec___traverse_rec___traverse_rec___traverse_rec___traverse_rec___traverse_rec___traverse_rec___traverse_rec___traverse_rec__theta_CM_U__Uniform__14\n",
      "  warnings.warn('Using prior. No proposal for address: {}'.format(address))\n",
      "/home/tt21642/dispyprob/pyprob/pyprob/nn/inference_network_feedforward.py:67: UserWarning: Using prior. No proposal for address: 460__forward___traverse___traverse_rec___traverse_rec___traverse_rec___traverse_rec___traverse_rec___traverse_rec___traverse_rec___traverse_rec___traverse_rec__draw_decay_L__TruncatedExponential__14\n",
      "  warnings.warn('Using prior. No proposal for address: {}'.format(address))\n",
      "/home/tt21642/dispyprob/pyprob/pyprob/nn/inference_network_feedforward.py:67: UserWarning: Using prior. No proposal for address: 510__forward___traverse___traverse_rec___traverse_rec___traverse_rec___traverse_rec___traverse_rec___traverse_rec___traverse_rec___traverse_rec___traverse_rec__draw_decay_R__TruncatedExponential__14\n",
      "  warnings.warn('Using prior. No proposal for address: {}'.format(address))\n"
     ]
    },
    {
     "name": "stdout",
     "output_type": "stream",
     "text": [
      "0d:00:00:56 | 0d:01:17:35 | -------------------- |   12/1000 |   1.80 | 0.21       \r"
     ]
    },
    {
     "name": "stderr",
     "output_type": "stream",
     "text": [
      "/home/tt21642/dispyprob/pyprob/pyprob/nn/inference_network_feedforward.py:67: UserWarning: Using prior. No proposal for address: 216__forward___traverse___traverse_rec___traverse_rec___traverse_rec___traverse_rec___traverse_rec___traverse_rec___traverse_rec___traverse_rec__phi_CM__Uniform__15\n",
      "  warnings.warn('Using prior. No proposal for address: {}'.format(address))\n",
      "/home/tt21642/dispyprob/pyprob/pyprob/nn/inference_network_feedforward.py:67: UserWarning: Using prior. No proposal for address: 256__forward___traverse___traverse_rec___traverse_rec___traverse_rec___traverse_rec___traverse_rec___traverse_rec___traverse_rec___traverse_rec__theta_CM_U__Uniform__15\n",
      "  warnings.warn('Using prior. No proposal for address: {}'.format(address))\n",
      "/home/tt21642/dispyprob/pyprob/pyprob/nn/inference_network_feedforward.py:67: UserWarning: Using prior. No proposal for address: 460__forward___traverse___traverse_rec___traverse_rec___traverse_rec___traverse_rec___traverse_rec___traverse_rec___traverse_rec___traverse_rec__draw_decay_L__TruncatedExponential__15\n",
      "  warnings.warn('Using prior. No proposal for address: {}'.format(address))\n",
      "/home/tt21642/dispyprob/pyprob/pyprob/nn/inference_network_feedforward.py:67: UserWarning: Using prior. No proposal for address: 510__forward___traverse___traverse_rec___traverse_rec___traverse_rec___traverse_rec___traverse_rec___traverse_rec___traverse_rec___traverse_rec__draw_decay_R__TruncatedExponential__15\n",
      "  warnings.warn('Using prior. No proposal for address: {}'.format(address))\n"
     ]
    },
    {
     "name": "stdout",
     "output_type": "stream",
     "text": [
      "0d:00:01:35 | 0d:01:18:09 | -------------------- |   20/1000 |   1.00 | 0.21       \r"
     ]
    },
    {
     "name": "stderr",
     "output_type": "stream",
     "text": [
      "/home/tt21642/dispyprob/pyprob/pyprob/nn/inference_network_feedforward.py:67: UserWarning: Using prior. No proposal for address: 510__forward___traverse___traverse_rec___traverse_rec___traverse_rec__draw_decay_R__TruncatedExponential__5\n",
      "  warnings.warn('Using prior. No proposal for address: {}'.format(address))\n"
     ]
    },
    {
     "name": "stdout",
     "output_type": "stream",
     "text": [
      "0d:00:01:53 | 0d:01:17:03 | -------------------- |   24/1000 |   1.03 | 0.21       \r"
     ]
    },
    {
     "name": "stderr",
     "output_type": "stream",
     "text": [
      "/home/tt21642/dispyprob/pyprob/pyprob/nn/inference_network_feedforward.py:67: UserWarning: Using prior. No proposal for address: 216__forward___traverse___traverse_rec___traverse_rec___traverse_rec___traverse_rec___traverse_rec___traverse_rec___traverse_rec___traverse_rec___traverse_rec__phi_CM__Uniform__15\n",
      "  warnings.warn('Using prior. No proposal for address: {}'.format(address))\n",
      "/home/tt21642/dispyprob/pyprob/pyprob/nn/inference_network_feedforward.py:67: UserWarning: Using prior. No proposal for address: 256__forward___traverse___traverse_rec___traverse_rec___traverse_rec___traverse_rec___traverse_rec___traverse_rec___traverse_rec___traverse_rec___traverse_rec__theta_CM_U__Uniform__15\n",
      "  warnings.warn('Using prior. No proposal for address: {}'.format(address))\n",
      "/home/tt21642/dispyprob/pyprob/pyprob/nn/inference_network_feedforward.py:67: UserWarning: Using prior. No proposal for address: 460__forward___traverse___traverse_rec___traverse_rec___traverse_rec___traverse_rec___traverse_rec___traverse_rec___traverse_rec___traverse_rec___traverse_rec__draw_decay_L__TruncatedExponential__15\n",
      "  warnings.warn('Using prior. No proposal for address: {}'.format(address))\n",
      "/home/tt21642/dispyprob/pyprob/pyprob/nn/inference_network_feedforward.py:67: UserWarning: Using prior. No proposal for address: 510__forward___traverse___traverse_rec___traverse_rec___traverse_rec___traverse_rec___traverse_rec___traverse_rec___traverse_rec___traverse_rec___traverse_rec__draw_decay_R__TruncatedExponential__15\n",
      "  warnings.warn('Using prior. No proposal for address: {}'.format(address))\n",
      "/home/tt21642/dispyprob/pyprob/pyprob/nn/inference_network_feedforward.py:67: UserWarning: Using prior. No proposal for address: 216__forward___traverse___traverse_rec___traverse_rec___traverse_rec___traverse_rec___traverse_rec___traverse_rec___traverse_rec___traverse_rec___traverse_rec__phi_CM__Uniform__16\n",
      "  warnings.warn('Using prior. No proposal for address: {}'.format(address))\n",
      "/home/tt21642/dispyprob/pyprob/pyprob/nn/inference_network_feedforward.py:67: UserWarning: Using prior. No proposal for address: 256__forward___traverse___traverse_rec___traverse_rec___traverse_rec___traverse_rec___traverse_rec___traverse_rec___traverse_rec___traverse_rec___traverse_rec__theta_CM_U__Uniform__16\n",
      "  warnings.warn('Using prior. No proposal for address: {}'.format(address))\n",
      "/home/tt21642/dispyprob/pyprob/pyprob/nn/inference_network_feedforward.py:67: UserWarning: Using prior. No proposal for address: 460__forward___traverse___traverse_rec___traverse_rec___traverse_rec___traverse_rec___traverse_rec___traverse_rec___traverse_rec___traverse_rec___traverse_rec__draw_decay_L__TruncatedExponential__16\n",
      "  warnings.warn('Using prior. No proposal for address: {}'.format(address))\n",
      "/home/tt21642/dispyprob/pyprob/pyprob/nn/inference_network_feedforward.py:67: UserWarning: Using prior. No proposal for address: 510__forward___traverse___traverse_rec___traverse_rec___traverse_rec___traverse_rec___traverse_rec___traverse_rec___traverse_rec___traverse_rec___traverse_rec__draw_decay_R__TruncatedExponential__16\n",
      "  warnings.warn('Using prior. No proposal for address: {}'.format(address))\n"
     ]
    },
    {
     "name": "stdout",
     "output_type": "stream",
     "text": [
      "0d:00:02:00 | 0d:01:18:26 | -------------------- |   25/1000 |   1.03 | 0.21       \r"
     ]
    },
    {
     "name": "stderr",
     "output_type": "stream",
     "text": [
      "/home/tt21642/dispyprob/pyprob/pyprob/nn/inference_network_feedforward.py:67: UserWarning: Using prior. No proposal for address: 216__forward___traverse___traverse_rec___traverse_rec___traverse_rec___traverse_rec___traverse_rec___traverse_rec___traverse_rec___traverse_rec___traverse_rec___traverse_rec___traverse_rec___traverse_rec___traverse_rec___traverse_rec___traverse_rec___traverse_rec__phi_CM__Uniform__2\n",
      "  warnings.warn('Using prior. No proposal for address: {}'.format(address))\n",
      "/home/tt21642/dispyprob/pyprob/pyprob/nn/inference_network_feedforward.py:67: UserWarning: Using prior. No proposal for address: 256__forward___traverse___traverse_rec___traverse_rec___traverse_rec___traverse_rec___traverse_rec___traverse_rec___traverse_rec___traverse_rec___traverse_rec___traverse_rec___traverse_rec___traverse_rec___traverse_rec___traverse_rec___traverse_rec___traverse_rec__theta_CM_U__Uniform__2\n",
      "  warnings.warn('Using prior. No proposal for address: {}'.format(address))\n",
      "/home/tt21642/dispyprob/pyprob/pyprob/nn/inference_network_feedforward.py:67: UserWarning: Using prior. No proposal for address: 460__forward___traverse___traverse_rec___traverse_rec___traverse_rec___traverse_rec___traverse_rec___traverse_rec___traverse_rec___traverse_rec___traverse_rec___traverse_rec___traverse_rec___traverse_rec___traverse_rec___traverse_rec___traverse_rec___traverse_rec__draw_decay_L__TruncatedExponential__2\n",
      "  warnings.warn('Using prior. No proposal for address: {}'.format(address))\n",
      "/home/tt21642/dispyprob/pyprob/pyprob/nn/inference_network_feedforward.py:67: UserWarning: Using prior. No proposal for address: 510__forward___traverse___traverse_rec___traverse_rec___traverse_rec___traverse_rec___traverse_rec___traverse_rec___traverse_rec___traverse_rec___traverse_rec___traverse_rec___traverse_rec___traverse_rec___traverse_rec___traverse_rec___traverse_rec___traverse_rec__draw_decay_R__TruncatedExponential__2\n",
      "  warnings.warn('Using prior. No proposal for address: {}'.format(address))\n",
      "/home/tt21642/dispyprob/pyprob/pyprob/nn/inference_network_feedforward.py:67: UserWarning: Using prior. No proposal for address: 216__forward___traverse___traverse_rec___traverse_rec___traverse_rec___traverse_rec___traverse_rec___traverse_rec___traverse_rec___traverse_rec___traverse_rec___traverse_rec___traverse_rec___traverse_rec__phi_CM__Uniform__8\n",
      "  warnings.warn('Using prior. No proposal for address: {}'.format(address))\n",
      "/home/tt21642/dispyprob/pyprob/pyprob/nn/inference_network_feedforward.py:67: UserWarning: Using prior. No proposal for address: 256__forward___traverse___traverse_rec___traverse_rec___traverse_rec___traverse_rec___traverse_rec___traverse_rec___traverse_rec___traverse_rec___traverse_rec___traverse_rec___traverse_rec___traverse_rec__theta_CM_U__Uniform__8\n",
      "  warnings.warn('Using prior. No proposal for address: {}'.format(address))\n",
      "/home/tt21642/dispyprob/pyprob/pyprob/nn/inference_network_feedforward.py:67: UserWarning: Using prior. No proposal for address: 460__forward___traverse___traverse_rec___traverse_rec___traverse_rec___traverse_rec___traverse_rec___traverse_rec___traverse_rec___traverse_rec___traverse_rec___traverse_rec___traverse_rec___traverse_rec__draw_decay_L__TruncatedExponential__8\n",
      "  warnings.warn('Using prior. No proposal for address: {}'.format(address))\n",
      "/home/tt21642/dispyprob/pyprob/pyprob/nn/inference_network_feedforward.py:67: UserWarning: Using prior. No proposal for address: 510__forward___traverse___traverse_rec___traverse_rec___traverse_rec___traverse_rec___traverse_rec___traverse_rec___traverse_rec___traverse_rec___traverse_rec___traverse_rec___traverse_rec___traverse_rec__draw_decay_R__TruncatedExponential__8\n",
      "  warnings.warn('Using prior. No proposal for address: {}'.format(address))\n",
      "/home/tt21642/dispyprob/pyprob/pyprob/nn/inference_network_feedforward.py:67: UserWarning: Using prior. No proposal for address: 216__forward___traverse___traverse_rec___traverse_rec___traverse_rec___traverse_rec___traverse_rec___traverse_rec___traverse_rec___traverse_rec___traverse_rec___traverse_rec___traverse_rec___traverse_rec___traverse_rec__phi_CM__Uniform__7\n",
      "  warnings.warn('Using prior. No proposal for address: {}'.format(address))\n",
      "/home/tt21642/dispyprob/pyprob/pyprob/nn/inference_network_feedforward.py:67: UserWarning: Using prior. No proposal for address: 256__forward___traverse___traverse_rec___traverse_rec___traverse_rec___traverse_rec___traverse_rec___traverse_rec___traverse_rec___traverse_rec___traverse_rec___traverse_rec___traverse_rec___traverse_rec___traverse_rec__theta_CM_U__Uniform__7\n",
      "  warnings.warn('Using prior. No proposal for address: {}'.format(address))\n",
      "/home/tt21642/dispyprob/pyprob/pyprob/nn/inference_network_feedforward.py:67: UserWarning: Using prior. No proposal for address: 460__forward___traverse___traverse_rec___traverse_rec___traverse_rec___traverse_rec___traverse_rec___traverse_rec___traverse_rec___traverse_rec___traverse_rec___traverse_rec___traverse_rec___traverse_rec___traverse_rec__draw_decay_L__TruncatedExponential__7\n",
      "  warnings.warn('Using prior. No proposal for address: {}'.format(address))\n",
      "/home/tt21642/dispyprob/pyprob/pyprob/nn/inference_network_feedforward.py:67: UserWarning: Using prior. No proposal for address: 510__forward___traverse___traverse_rec___traverse_rec___traverse_rec___traverse_rec___traverse_rec___traverse_rec___traverse_rec___traverse_rec___traverse_rec___traverse_rec___traverse_rec___traverse_rec___traverse_rec__draw_decay_R__TruncatedExponential__7\n",
      "  warnings.warn('Using prior. No proposal for address: {}'.format(address))\n",
      "/home/tt21642/dispyprob/pyprob/pyprob/nn/inference_network_feedforward.py:67: UserWarning: Using prior. No proposal for address: 216__forward___traverse___traverse_rec___traverse_rec___traverse_rec___traverse_rec___traverse_rec___traverse_rec___traverse_rec___traverse_rec___traverse_rec___traverse_rec___traverse_rec___traverse_rec___traverse_rec___traverse_rec___traverse_rec__phi_CM__Uniform__4\n",
      "  warnings.warn('Using prior. No proposal for address: {}'.format(address))\n",
      "/home/tt21642/dispyprob/pyprob/pyprob/nn/inference_network_feedforward.py:67: UserWarning: Using prior. No proposal for address: 256__forward___traverse___traverse_rec___traverse_rec___traverse_rec___traverse_rec___traverse_rec___traverse_rec___traverse_rec___traverse_rec___traverse_rec___traverse_rec___traverse_rec___traverse_rec___traverse_rec___traverse_rec___traverse_rec__theta_CM_U__Uniform__4\n",
      "  warnings.warn('Using prior. No proposal for address: {}'.format(address))\n",
      "/home/tt21642/dispyprob/pyprob/pyprob/nn/inference_network_feedforward.py:67: UserWarning: Using prior. No proposal for address: 460__forward___traverse___traverse_rec___traverse_rec___traverse_rec___traverse_rec___traverse_rec___traverse_rec___traverse_rec___traverse_rec___traverse_rec___traverse_rec___traverse_rec___traverse_rec___traverse_rec___traverse_rec___traverse_rec__draw_decay_L__TruncatedExponential__4\n",
      "  warnings.warn('Using prior. No proposal for address: {}'.format(address))\n",
      "/home/tt21642/dispyprob/pyprob/pyprob/nn/inference_network_feedforward.py:67: UserWarning: Using prior. No proposal for address: 510__forward___traverse___traverse_rec___traverse_rec___traverse_rec___traverse_rec___traverse_rec___traverse_rec___traverse_rec___traverse_rec___traverse_rec___traverse_rec___traverse_rec___traverse_rec___traverse_rec___traverse_rec___traverse_rec__draw_decay_R__TruncatedExponential__4\n",
      "  warnings.warn('Using prior. No proposal for address: {}'.format(address))\n",
      "/home/tt21642/dispyprob/pyprob/pyprob/nn/inference_network_feedforward.py:67: UserWarning: Using prior. No proposal for address: 216__forward___traverse___traverse_rec___traverse_rec___traverse_rec___traverse_rec___traverse_rec___traverse_rec___traverse_rec___traverse_rec___traverse_rec___traverse_rec___traverse_rec___traverse_rec___traverse_rec___traverse_rec___traverse_rec___traverse_rec__phi_CM__Uniform__3\n",
      "  warnings.warn('Using prior. No proposal for address: {}'.format(address))\n",
      "/home/tt21642/dispyprob/pyprob/pyprob/nn/inference_network_feedforward.py:67: UserWarning: Using prior. No proposal for address: 256__forward___traverse___traverse_rec___traverse_rec___traverse_rec___traverse_rec___traverse_rec___traverse_rec___traverse_rec___traverse_rec___traverse_rec___traverse_rec___traverse_rec___traverse_rec___traverse_rec___traverse_rec___traverse_rec___traverse_rec__theta_CM_U__Uniform__3\n",
      "  warnings.warn('Using prior. No proposal for address: {}'.format(address))\n",
      "/home/tt21642/dispyprob/pyprob/pyprob/nn/inference_network_feedforward.py:67: UserWarning: Using prior. No proposal for address: 460__forward___traverse___traverse_rec___traverse_rec___traverse_rec___traverse_rec___traverse_rec___traverse_rec___traverse_rec___traverse_rec___traverse_rec___traverse_rec___traverse_rec___traverse_rec___traverse_rec___traverse_rec___traverse_rec___traverse_rec__draw_decay_L__TruncatedExponential__3\n",
      "  warnings.warn('Using prior. No proposal for address: {}'.format(address))\n",
      "/home/tt21642/dispyprob/pyprob/pyprob/nn/inference_network_feedforward.py:67: UserWarning: Using prior. No proposal for address: 510__forward___traverse___traverse_rec___traverse_rec___traverse_rec___traverse_rec___traverse_rec___traverse_rec___traverse_rec___traverse_rec___traverse_rec___traverse_rec___traverse_rec___traverse_rec___traverse_rec___traverse_rec___traverse_rec___traverse_rec__draw_decay_R__TruncatedExponential__3\n",
      "  warnings.warn('Using prior. No proposal for address: {}'.format(address))\n",
      "/home/tt21642/dispyprob/pyprob/pyprob/nn/inference_network_feedforward.py:67: UserWarning: Using prior. No proposal for address: 216__forward___traverse___traverse_rec___traverse_rec___traverse_rec___traverse_rec___traverse_rec___traverse_rec___traverse_rec___traverse_rec___traverse_rec___traverse_rec___traverse_rec___traverse_rec___traverse_rec__phi_CM__Uniform__8\n",
      "  warnings.warn('Using prior. No proposal for address: {}'.format(address))\n",
      "/home/tt21642/dispyprob/pyprob/pyprob/nn/inference_network_feedforward.py:67: UserWarning: Using prior. No proposal for address: 256__forward___traverse___traverse_rec___traverse_rec___traverse_rec___traverse_rec___traverse_rec___traverse_rec___traverse_rec___traverse_rec___traverse_rec___traverse_rec___traverse_rec___traverse_rec___traverse_rec__theta_CM_U__Uniform__8\n",
      "  warnings.warn('Using prior. No proposal for address: {}'.format(address))\n",
      "/home/tt21642/dispyprob/pyprob/pyprob/nn/inference_network_feedforward.py:67: UserWarning: Using prior. No proposal for address: 460__forward___traverse___traverse_rec___traverse_rec___traverse_rec___traverse_rec___traverse_rec___traverse_rec___traverse_rec___traverse_rec___traverse_rec___traverse_rec___traverse_rec___traverse_rec___traverse_rec__draw_decay_L__TruncatedExponential__8\n",
      "  warnings.warn('Using prior. No proposal for address: {}'.format(address))\n",
      "/home/tt21642/dispyprob/pyprob/pyprob/nn/inference_network_feedforward.py:67: UserWarning: Using prior. No proposal for address: 510__forward___traverse___traverse_rec___traverse_rec___traverse_rec___traverse_rec___traverse_rec___traverse_rec___traverse_rec___traverse_rec___traverse_rec___traverse_rec___traverse_rec___traverse_rec___traverse_rec__draw_decay_R__TruncatedExponential__8\n",
      "  warnings.warn('Using prior. No proposal for address: {}'.format(address))\n",
      "/home/tt21642/dispyprob/pyprob/pyprob/nn/inference_network_feedforward.py:67: UserWarning: Using prior. No proposal for address: 216__forward___traverse___traverse_rec___traverse_rec___traverse_rec___traverse_rec___traverse_rec___traverse_rec___traverse_rec___traverse_rec___traverse_rec___traverse_rec___traverse_rec___traverse_rec__phi_CM__Uniform__9\n",
      "  warnings.warn('Using prior. No proposal for address: {}'.format(address))\n",
      "/home/tt21642/dispyprob/pyprob/pyprob/nn/inference_network_feedforward.py:67: UserWarning: Using prior. No proposal for address: 256__forward___traverse___traverse_rec___traverse_rec___traverse_rec___traverse_rec___traverse_rec___traverse_rec___traverse_rec___traverse_rec___traverse_rec___traverse_rec___traverse_rec___traverse_rec__theta_CM_U__Uniform__9\n",
      "  warnings.warn('Using prior. No proposal for address: {}'.format(address))\n",
      "/home/tt21642/dispyprob/pyprob/pyprob/nn/inference_network_feedforward.py:67: UserWarning: Using prior. No proposal for address: 460__forward___traverse___traverse_rec___traverse_rec___traverse_rec___traverse_rec___traverse_rec___traverse_rec___traverse_rec___traverse_rec___traverse_rec___traverse_rec___traverse_rec___traverse_rec__draw_decay_L__TruncatedExponential__9\n",
      "  warnings.warn('Using prior. No proposal for address: {}'.format(address))\n",
      "/home/tt21642/dispyprob/pyprob/pyprob/nn/inference_network_feedforward.py:67: UserWarning: Using prior. No proposal for address: 510__forward___traverse___traverse_rec___traverse_rec___traverse_rec___traverse_rec___traverse_rec___traverse_rec___traverse_rec___traverse_rec___traverse_rec___traverse_rec___traverse_rec___traverse_rec__draw_decay_R__TruncatedExponential__9\n",
      "  warnings.warn('Using prior. No proposal for address: {}'.format(address))\n",
      "/home/tt21642/dispyprob/pyprob/pyprob/nn/inference_network_feedforward.py:67: UserWarning: Using prior. No proposal for address: 216__forward___traverse___traverse_rec___traverse_rec___traverse_rec___traverse_rec___traverse_rec___traverse_rec___traverse_rec___traverse_rec___traverse_rec___traverse_rec___traverse_rec___traverse_rec___traverse_rec__phi_CM__Uniform__9\n",
      "  warnings.warn('Using prior. No proposal for address: {}'.format(address))\n",
      "/home/tt21642/dispyprob/pyprob/pyprob/nn/inference_network_feedforward.py:67: UserWarning: Using prior. No proposal for address: 256__forward___traverse___traverse_rec___traverse_rec___traverse_rec___traverse_rec___traverse_rec___traverse_rec___traverse_rec___traverse_rec___traverse_rec___traverse_rec___traverse_rec___traverse_rec___traverse_rec__theta_CM_U__Uniform__9\n",
      "  warnings.warn('Using prior. No proposal for address: {}'.format(address))\n",
      "/home/tt21642/dispyprob/pyprob/pyprob/nn/inference_network_feedforward.py:67: UserWarning: Using prior. No proposal for address: 460__forward___traverse___traverse_rec___traverse_rec___traverse_rec___traverse_rec___traverse_rec___traverse_rec___traverse_rec___traverse_rec___traverse_rec___traverse_rec___traverse_rec___traverse_rec___traverse_rec__draw_decay_L__TruncatedExponential__9\n",
      "  warnings.warn('Using prior. No proposal for address: {}'.format(address))\n",
      "/home/tt21642/dispyprob/pyprob/pyprob/nn/inference_network_feedforward.py:67: UserWarning: Using prior. No proposal for address: 510__forward___traverse___traverse_rec___traverse_rec___traverse_rec___traverse_rec___traverse_rec___traverse_rec___traverse_rec___traverse_rec___traverse_rec___traverse_rec___traverse_rec___traverse_rec___traverse_rec__draw_decay_R__TruncatedExponential__9\n",
      "  warnings.warn('Using prior. No proposal for address: {}'.format(address))\n",
      "/home/tt21642/dispyprob/pyprob/pyprob/nn/inference_network_feedforward.py:67: UserWarning: Using prior. No proposal for address: 216__forward___traverse___traverse_rec___traverse_rec___traverse_rec___traverse_rec___traverse_rec___traverse_rec___traverse_rec___traverse_rec___traverse_rec___traverse_rec___traverse_rec___traverse_rec___traverse_rec___traverse_rec__phi_CM__Uniform__6\n",
      "  warnings.warn('Using prior. No proposal for address: {}'.format(address))\n",
      "/home/tt21642/dispyprob/pyprob/pyprob/nn/inference_network_feedforward.py:67: UserWarning: Using prior. No proposal for address: 256__forward___traverse___traverse_rec___traverse_rec___traverse_rec___traverse_rec___traverse_rec___traverse_rec___traverse_rec___traverse_rec___traverse_rec___traverse_rec___traverse_rec___traverse_rec___traverse_rec___traverse_rec__theta_CM_U__Uniform__6\n",
      "  warnings.warn('Using prior. No proposal for address: {}'.format(address))\n",
      "/home/tt21642/dispyprob/pyprob/pyprob/nn/inference_network_feedforward.py:67: UserWarning: Using prior. No proposal for address: 460__forward___traverse___traverse_rec___traverse_rec___traverse_rec___traverse_rec___traverse_rec___traverse_rec___traverse_rec___traverse_rec___traverse_rec___traverse_rec___traverse_rec___traverse_rec___traverse_rec___traverse_rec__draw_decay_L__TruncatedExponential__6\n",
      "  warnings.warn('Using prior. No proposal for address: {}'.format(address))\n",
      "/home/tt21642/dispyprob/pyprob/pyprob/nn/inference_network_feedforward.py:67: UserWarning: Using prior. No proposal for address: 510__forward___traverse___traverse_rec___traverse_rec___traverse_rec___traverse_rec___traverse_rec___traverse_rec___traverse_rec___traverse_rec___traverse_rec___traverse_rec___traverse_rec___traverse_rec___traverse_rec___traverse_rec__draw_decay_R__TruncatedExponential__6\n",
      "  warnings.warn('Using prior. No proposal for address: {}'.format(address))\n",
      "/home/tt21642/dispyprob/pyprob/pyprob/nn/inference_network_feedforward.py:67: UserWarning: Using prior. No proposal for address: 216__forward___traverse___traverse_rec___traverse_rec___traverse_rec___traverse_rec___traverse_rec___traverse_rec___traverse_rec___traverse_rec___traverse_rec___traverse_rec___traverse_rec___traverse_rec___traverse_rec___traverse_rec___traverse_rec__phi_CM__Uniform__5\n",
      "  warnings.warn('Using prior. No proposal for address: {}'.format(address))\n",
      "/home/tt21642/dispyprob/pyprob/pyprob/nn/inference_network_feedforward.py:67: UserWarning: Using prior. No proposal for address: 256__forward___traverse___traverse_rec___traverse_rec___traverse_rec___traverse_rec___traverse_rec___traverse_rec___traverse_rec___traverse_rec___traverse_rec___traverse_rec___traverse_rec___traverse_rec___traverse_rec___traverse_rec___traverse_rec__theta_CM_U__Uniform__5\n",
      "  warnings.warn('Using prior. No proposal for address: {}'.format(address))\n",
      "/home/tt21642/dispyprob/pyprob/pyprob/nn/inference_network_feedforward.py:67: UserWarning: Using prior. No proposal for address: 460__forward___traverse___traverse_rec___traverse_rec___traverse_rec___traverse_rec___traverse_rec___traverse_rec___traverse_rec___traverse_rec___traverse_rec___traverse_rec___traverse_rec___traverse_rec___traverse_rec___traverse_rec___traverse_rec__draw_decay_L__TruncatedExponential__5\n",
      "  warnings.warn('Using prior. No proposal for address: {}'.format(address))\n",
      "/home/tt21642/dispyprob/pyprob/pyprob/nn/inference_network_feedforward.py:67: UserWarning: Using prior. No proposal for address: 510__forward___traverse___traverse_rec___traverse_rec___traverse_rec___traverse_rec___traverse_rec___traverse_rec___traverse_rec___traverse_rec___traverse_rec___traverse_rec___traverse_rec___traverse_rec___traverse_rec___traverse_rec___traverse_rec__draw_decay_R__TruncatedExponential__5\n",
      "  warnings.warn('Using prior. No proposal for address: {}'.format(address))\n"
     ]
    },
    {
     "name": "stderr",
     "output_type": "stream",
     "text": [
      "/home/tt21642/dispyprob/pyprob/pyprob/nn/inference_network_feedforward.py:67: UserWarning: Using prior. No proposal for address: 216__forward___traverse___traverse_rec___traverse_rec___traverse_rec___traverse_rec___traverse_rec___traverse_rec___traverse_rec___traverse_rec___traverse_rec___traverse_rec___traverse_rec___traverse_rec__phi_CM__Uniform__10\n",
      "  warnings.warn('Using prior. No proposal for address: {}'.format(address))\n",
      "/home/tt21642/dispyprob/pyprob/pyprob/nn/inference_network_feedforward.py:67: UserWarning: Using prior. No proposal for address: 256__forward___traverse___traverse_rec___traverse_rec___traverse_rec___traverse_rec___traverse_rec___traverse_rec___traverse_rec___traverse_rec___traverse_rec___traverse_rec___traverse_rec___traverse_rec__theta_CM_U__Uniform__10\n",
      "  warnings.warn('Using prior. No proposal for address: {}'.format(address))\n",
      "/home/tt21642/dispyprob/pyprob/pyprob/nn/inference_network_feedforward.py:67: UserWarning: Using prior. No proposal for address: 460__forward___traverse___traverse_rec___traverse_rec___traverse_rec___traverse_rec___traverse_rec___traverse_rec___traverse_rec___traverse_rec___traverse_rec___traverse_rec___traverse_rec___traverse_rec__draw_decay_L__TruncatedExponential__10\n",
      "  warnings.warn('Using prior. No proposal for address: {}'.format(address))\n",
      "/home/tt21642/dispyprob/pyprob/pyprob/nn/inference_network_feedforward.py:67: UserWarning: Using prior. No proposal for address: 510__forward___traverse___traverse_rec___traverse_rec___traverse_rec___traverse_rec___traverse_rec___traverse_rec___traverse_rec___traverse_rec___traverse_rec___traverse_rec___traverse_rec___traverse_rec__draw_decay_R__TruncatedExponential__10\n",
      "  warnings.warn('Using prior. No proposal for address: {}'.format(address))\n"
     ]
    },
    {
     "name": "stdout",
     "output_type": "stream",
     "text": [
      "0d:00:03:31 | 0d:01:18:37 | #------------------- |   43/1000 |   1.84 | 0.20       \r"
     ]
    },
    {
     "name": "stderr",
     "output_type": "stream",
     "text": [
      "/home/tt21642/dispyprob/pyprob/pyprob/nn/inference_network_feedforward.py:67: UserWarning: Using prior. No proposal for address: 216__forward___traverse___traverse_rec___traverse_rec___traverse_rec___traverse_rec___traverse_rec___traverse_rec___traverse_rec__phi_CM__Uniform__17\n",
      "  warnings.warn('Using prior. No proposal for address: {}'.format(address))\n",
      "/home/tt21642/dispyprob/pyprob/pyprob/nn/inference_network_feedforward.py:67: UserWarning: Using prior. No proposal for address: 256__forward___traverse___traverse_rec___traverse_rec___traverse_rec___traverse_rec___traverse_rec___traverse_rec___traverse_rec__theta_CM_U__Uniform__17\n",
      "  warnings.warn('Using prior. No proposal for address: {}'.format(address))\n",
      "/home/tt21642/dispyprob/pyprob/pyprob/nn/inference_network_feedforward.py:67: UserWarning: Using prior. No proposal for address: 460__forward___traverse___traverse_rec___traverse_rec___traverse_rec___traverse_rec___traverse_rec___traverse_rec___traverse_rec__draw_decay_L__TruncatedExponential__17\n",
      "  warnings.warn('Using prior. No proposal for address: {}'.format(address))\n",
      "/home/tt21642/dispyprob/pyprob/pyprob/nn/inference_network_feedforward.py:67: UserWarning: Using prior. No proposal for address: 510__forward___traverse___traverse_rec___traverse_rec___traverse_rec___traverse_rec___traverse_rec___traverse_rec___traverse_rec__draw_decay_R__TruncatedExponential__17\n",
      "  warnings.warn('Using prior. No proposal for address: {}'.format(address))\n"
     ]
    },
    {
     "name": "stdout",
     "output_type": "stream",
     "text": [
      "0d:00:03:37 | 0d:01:18:44 | #------------------- |   44/1000 |   1.84 | 0.20       \r"
     ]
    },
    {
     "name": "stderr",
     "output_type": "stream",
     "text": [
      "/home/tt21642/dispyprob/pyprob/pyprob/nn/inference_network_feedforward.py:67: UserWarning: Using prior. No proposal for address: 216__forward___traverse___traverse_rec___traverse_rec___traverse_rec___traverse_rec___traverse_rec___traverse_rec___traverse_rec__phi_CM__Uniform__18\n",
      "  warnings.warn('Using prior. No proposal for address: {}'.format(address))\n",
      "/home/tt21642/dispyprob/pyprob/pyprob/nn/inference_network_feedforward.py:67: UserWarning: Using prior. No proposal for address: 256__forward___traverse___traverse_rec___traverse_rec___traverse_rec___traverse_rec___traverse_rec___traverse_rec___traverse_rec__theta_CM_U__Uniform__18\n",
      "  warnings.warn('Using prior. No proposal for address: {}'.format(address))\n",
      "/home/tt21642/dispyprob/pyprob/pyprob/nn/inference_network_feedforward.py:67: UserWarning: Using prior. No proposal for address: 460__forward___traverse___traverse_rec___traverse_rec___traverse_rec___traverse_rec___traverse_rec___traverse_rec___traverse_rec__draw_decay_L__TruncatedExponential__18\n",
      "  warnings.warn('Using prior. No proposal for address: {}'.format(address))\n",
      "/home/tt21642/dispyprob/pyprob/pyprob/nn/inference_network_feedforward.py:67: UserWarning: Using prior. No proposal for address: 510__forward___traverse___traverse_rec___traverse_rec___traverse_rec___traverse_rec___traverse_rec___traverse_rec___traverse_rec__draw_decay_R__TruncatedExponential__18\n",
      "  warnings.warn('Using prior. No proposal for address: {}'.format(address))\n"
     ]
    },
    {
     "name": "stdout",
     "output_type": "stream",
     "text": [
      "0d:00:04:05 | 0d:01:19:20 | #------------------- |   49/1000 |   1.84 | 0.20       \r"
     ]
    },
    {
     "name": "stderr",
     "output_type": "stream",
     "text": [
      "/home/tt21642/dispyprob/pyprob/pyprob/nn/inference_network_feedforward.py:67: UserWarning: Using prior. No proposal for address: 216__forward___traverse___traverse_rec___traverse_rec___traverse_rec___traverse_rec___traverse_rec___traverse_rec__phi_CM__Uniform__16\n",
      "  warnings.warn('Using prior. No proposal for address: {}'.format(address))\n",
      "/home/tt21642/dispyprob/pyprob/pyprob/nn/inference_network_feedforward.py:67: UserWarning: Using prior. No proposal for address: 256__forward___traverse___traverse_rec___traverse_rec___traverse_rec___traverse_rec___traverse_rec___traverse_rec__theta_CM_U__Uniform__16\n",
      "  warnings.warn('Using prior. No proposal for address: {}'.format(address))\n",
      "/home/tt21642/dispyprob/pyprob/pyprob/nn/inference_network_feedforward.py:67: UserWarning: Using prior. No proposal for address: 460__forward___traverse___traverse_rec___traverse_rec___traverse_rec___traverse_rec___traverse_rec___traverse_rec__draw_decay_L__TruncatedExponential__16\n",
      "  warnings.warn('Using prior. No proposal for address: {}'.format(address))\n",
      "/home/tt21642/dispyprob/pyprob/pyprob/nn/inference_network_feedforward.py:67: UserWarning: Using prior. No proposal for address: 510__forward___traverse___traverse_rec___traverse_rec___traverse_rec___traverse_rec___traverse_rec___traverse_rec__draw_decay_R__TruncatedExponential__16\n",
      "  warnings.warn('Using prior. No proposal for address: {}'.format(address))\n"
     ]
    },
    {
     "name": "stdout",
     "output_type": "stream",
     "text": [
      "0d:00:05:39 | 0d:01:17:39 | #------------------- |   68/1000 |   1.85 | 0.20       \r"
     ]
    },
    {
     "name": "stderr",
     "output_type": "stream",
     "text": [
      "/home/tt21642/dispyprob/pyprob/pyprob/nn/inference_network_feedforward.py:67: UserWarning: Using prior. No proposal for address: 216__forward___traverse___traverse_rec___traverse_rec___traverse_rec___traverse_rec___traverse_rec___traverse_rec__phi_CM__Uniform__17\n",
      "  warnings.warn('Using prior. No proposal for address: {}'.format(address))\n",
      "/home/tt21642/dispyprob/pyprob/pyprob/nn/inference_network_feedforward.py:67: UserWarning: Using prior. No proposal for address: 256__forward___traverse___traverse_rec___traverse_rec___traverse_rec___traverse_rec___traverse_rec___traverse_rec__theta_CM_U__Uniform__17\n",
      "  warnings.warn('Using prior. No proposal for address: {}'.format(address))\n",
      "/home/tt21642/dispyprob/pyprob/pyprob/nn/inference_network_feedforward.py:67: UserWarning: Using prior. No proposal for address: 460__forward___traverse___traverse_rec___traverse_rec___traverse_rec___traverse_rec___traverse_rec___traverse_rec__draw_decay_L__TruncatedExponential__17\n",
      "  warnings.warn('Using prior. No proposal for address: {}'.format(address))\n",
      "/home/tt21642/dispyprob/pyprob/pyprob/nn/inference_network_feedforward.py:67: UserWarning: Using prior. No proposal for address: 510__forward___traverse___traverse_rec___traverse_rec___traverse_rec___traverse_rec___traverse_rec___traverse_rec__draw_decay_R__TruncatedExponential__17\n",
      "  warnings.warn('Using prior. No proposal for address: {}'.format(address))\n"
     ]
    },
    {
     "name": "stdout",
     "output_type": "stream",
     "text": [
      "0d:00:05:47 | 0d:01:17:07 | #------------------- |   70/1000 |   1.85 | 0.20       \r"
     ]
    },
    {
     "name": "stderr",
     "output_type": "stream",
     "text": [
      "/home/tt21642/dispyprob/pyprob/pyprob/nn/inference_network_feedforward.py:67: UserWarning: Using prior. No proposal for address: 216__forward___traverse___traverse_rec___traverse_rec___traverse_rec___traverse_rec___traverse_rec___traverse_rec___traverse_rec___traverse_rec__phi_CM__Uniform__16\n",
      "  warnings.warn('Using prior. No proposal for address: {}'.format(address))\n",
      "/home/tt21642/dispyprob/pyprob/pyprob/nn/inference_network_feedforward.py:67: UserWarning: Using prior. No proposal for address: 256__forward___traverse___traverse_rec___traverse_rec___traverse_rec___traverse_rec___traverse_rec___traverse_rec___traverse_rec___traverse_rec__theta_CM_U__Uniform__16\n",
      "  warnings.warn('Using prior. No proposal for address: {}'.format(address))\n",
      "/home/tt21642/dispyprob/pyprob/pyprob/nn/inference_network_feedforward.py:67: UserWarning: Using prior. No proposal for address: 460__forward___traverse___traverse_rec___traverse_rec___traverse_rec___traverse_rec___traverse_rec___traverse_rec___traverse_rec___traverse_rec__draw_decay_L__TruncatedExponential__16\n",
      "  warnings.warn('Using prior. No proposal for address: {}'.format(address))\n",
      "/home/tt21642/dispyprob/pyprob/pyprob/nn/inference_network_feedforward.py:67: UserWarning: Using prior. No proposal for address: 510__forward___traverse___traverse_rec___traverse_rec___traverse_rec___traverse_rec___traverse_rec___traverse_rec___traverse_rec___traverse_rec__draw_decay_R__TruncatedExponential__16\n",
      "  warnings.warn('Using prior. No proposal for address: {}'.format(address))\n",
      "/home/tt21642/dispyprob/pyprob/pyprob/nn/inference_network_feedforward.py:67: UserWarning: Using prior. No proposal for address: 216__forward___traverse___traverse_rec___traverse_rec___traverse_rec___traverse_rec___traverse_rec___traverse_rec___traverse_rec___traverse_rec__phi_CM__Uniform__17\n",
      "  warnings.warn('Using prior. No proposal for address: {}'.format(address))\n",
      "/home/tt21642/dispyprob/pyprob/pyprob/nn/inference_network_feedforward.py:67: UserWarning: Using prior. No proposal for address: 256__forward___traverse___traverse_rec___traverse_rec___traverse_rec___traverse_rec___traverse_rec___traverse_rec___traverse_rec___traverse_rec__theta_CM_U__Uniform__17\n",
      "  warnings.warn('Using prior. No proposal for address: {}'.format(address))\n",
      "/home/tt21642/dispyprob/pyprob/pyprob/nn/inference_network_feedforward.py:67: UserWarning: Using prior. No proposal for address: 460__forward___traverse___traverse_rec___traverse_rec___traverse_rec___traverse_rec___traverse_rec___traverse_rec___traverse_rec___traverse_rec__draw_decay_L__TruncatedExponential__17\n",
      "  warnings.warn('Using prior. No proposal for address: {}'.format(address))\n",
      "/home/tt21642/dispyprob/pyprob/pyprob/nn/inference_network_feedforward.py:67: UserWarning: Using prior. No proposal for address: 510__forward___traverse___traverse_rec___traverse_rec___traverse_rec___traverse_rec___traverse_rec___traverse_rec___traverse_rec___traverse_rec__draw_decay_R__TruncatedExponential__17\n",
      "  warnings.warn('Using prior. No proposal for address: {}'.format(address))\n"
     ]
    },
    {
     "name": "stdout",
     "output_type": "stream",
     "text": [
      "0d:00:06:13 | 0d:01:15:51 | ##------------------ |   76/1000 |   1.86 | 0.20       \r"
     ]
    },
    {
     "name": "stderr",
     "output_type": "stream",
     "text": [
      "/home/tt21642/dispyprob/pyprob/pyprob/nn/inference_network_feedforward.py:67: UserWarning: Using prior. No proposal for address: 216__forward___traverse___traverse_rec___traverse_rec___traverse_rec___traverse_rec___traverse_rec__phi_CM__Uniform__13\n",
      "  warnings.warn('Using prior. No proposal for address: {}'.format(address))\n",
      "/home/tt21642/dispyprob/pyprob/pyprob/nn/inference_network_feedforward.py:67: UserWarning: Using prior. No proposal for address: 256__forward___traverse___traverse_rec___traverse_rec___traverse_rec___traverse_rec___traverse_rec__theta_CM_U__Uniform__13\n",
      "  warnings.warn('Using prior. No proposal for address: {}'.format(address))\n",
      "/home/tt21642/dispyprob/pyprob/pyprob/nn/inference_network_feedforward.py:67: UserWarning: Using prior. No proposal for address: 460__forward___traverse___traverse_rec___traverse_rec___traverse_rec___traverse_rec___traverse_rec__draw_decay_L__TruncatedExponential__13\n",
      "  warnings.warn('Using prior. No proposal for address: {}'.format(address))\n",
      "/home/tt21642/dispyprob/pyprob/pyprob/nn/inference_network_feedforward.py:67: UserWarning: Using prior. No proposal for address: 510__forward___traverse___traverse_rec___traverse_rec___traverse_rec___traverse_rec___traverse_rec__draw_decay_R__TruncatedExponential__13\n",
      "  warnings.warn('Using prior. No proposal for address: {}'.format(address))\n"
     ]
    },
    {
     "name": "stdout",
     "output_type": "stream",
     "text": [
      "0d:00:07:35 | 0d:01:12:26 | ##------------------ |   95/1000 |   1.93 | 0.21       \r"
     ]
    },
    {
     "name": "stderr",
     "output_type": "stream",
     "text": [
      "/home/tt21642/dispyprob/pyprob/pyprob/nn/inference_network_feedforward.py:67: UserWarning: Using prior. No proposal for address: 216__forward___traverse___traverse_rec___traverse_rec___traverse_rec___traverse_rec___traverse_rec___traverse_rec___traverse_rec___traverse_rec___traverse_rec___traverse_rec___traverse_rec___traverse_rec___traverse_rec___traverse_rec___traverse_rec__phi_CM__Uniform__6\n",
      "  warnings.warn('Using prior. No proposal for address: {}'.format(address))\n",
      "/home/tt21642/dispyprob/pyprob/pyprob/nn/inference_network_feedforward.py:67: UserWarning: Using prior. No proposal for address: 256__forward___traverse___traverse_rec___traverse_rec___traverse_rec___traverse_rec___traverse_rec___traverse_rec___traverse_rec___traverse_rec___traverse_rec___traverse_rec___traverse_rec___traverse_rec___traverse_rec___traverse_rec___traverse_rec__theta_CM_U__Uniform__6\n",
      "  warnings.warn('Using prior. No proposal for address: {}'.format(address))\n",
      "/home/tt21642/dispyprob/pyprob/pyprob/nn/inference_network_feedforward.py:67: UserWarning: Using prior. No proposal for address: 460__forward___traverse___traverse_rec___traverse_rec___traverse_rec___traverse_rec___traverse_rec___traverse_rec___traverse_rec___traverse_rec___traverse_rec___traverse_rec___traverse_rec___traverse_rec___traverse_rec___traverse_rec___traverse_rec__draw_decay_L__TruncatedExponential__6\n",
      "  warnings.warn('Using prior. No proposal for address: {}'.format(address))\n",
      "/home/tt21642/dispyprob/pyprob/pyprob/nn/inference_network_feedforward.py:67: UserWarning: Using prior. No proposal for address: 510__forward___traverse___traverse_rec___traverse_rec___traverse_rec___traverse_rec___traverse_rec___traverse_rec___traverse_rec___traverse_rec___traverse_rec___traverse_rec___traverse_rec___traverse_rec___traverse_rec___traverse_rec___traverse_rec__draw_decay_R__TruncatedExponential__6\n",
      "  warnings.warn('Using prior. No proposal for address: {}'.format(address))\n",
      "/home/tt21642/dispyprob/pyprob/pyprob/nn/inference_network_feedforward.py:67: UserWarning: Using prior. No proposal for address: 216__forward___traverse___traverse_rec___traverse_rec___traverse_rec___traverse_rec___traverse_rec___traverse_rec___traverse_rec___traverse_rec___traverse_rec___traverse_rec___traverse_rec___traverse_rec___traverse_rec___traverse_rec___traverse_rec___traverse_rec__phi_CM__Uniform__4\n",
      "  warnings.warn('Using prior. No proposal for address: {}'.format(address))\n",
      "/home/tt21642/dispyprob/pyprob/pyprob/nn/inference_network_feedforward.py:67: UserWarning: Using prior. No proposal for address: 256__forward___traverse___traverse_rec___traverse_rec___traverse_rec___traverse_rec___traverse_rec___traverse_rec___traverse_rec___traverse_rec___traverse_rec___traverse_rec___traverse_rec___traverse_rec___traverse_rec___traverse_rec___traverse_rec___traverse_rec__theta_CM_U__Uniform__4\n",
      "  warnings.warn('Using prior. No proposal for address: {}'.format(address))\n",
      "/home/tt21642/dispyprob/pyprob/pyprob/nn/inference_network_feedforward.py:67: UserWarning: Using prior. No proposal for address: 460__forward___traverse___traverse_rec___traverse_rec___traverse_rec___traverse_rec___traverse_rec___traverse_rec___traverse_rec___traverse_rec___traverse_rec___traverse_rec___traverse_rec___traverse_rec___traverse_rec___traverse_rec___traverse_rec___traverse_rec__draw_decay_L__TruncatedExponential__4\n",
      "  warnings.warn('Using prior. No proposal for address: {}'.format(address))\n",
      "/home/tt21642/dispyprob/pyprob/pyprob/nn/inference_network_feedforward.py:67: UserWarning: Using prior. No proposal for address: 510__forward___traverse___traverse_rec___traverse_rec___traverse_rec___traverse_rec___traverse_rec___traverse_rec___traverse_rec___traverse_rec___traverse_rec___traverse_rec___traverse_rec___traverse_rec___traverse_rec___traverse_rec___traverse_rec___traverse_rec__draw_decay_R__TruncatedExponential__4\n",
      "  warnings.warn('Using prior. No proposal for address: {}'.format(address))\n",
      "/home/tt21642/dispyprob/pyprob/pyprob/nn/inference_network_feedforward.py:67: UserWarning: Using prior. No proposal for address: 216__forward___traverse___traverse_rec___traverse_rec___traverse_rec___traverse_rec___traverse_rec___traverse_rec___traverse_rec___traverse_rec___traverse_rec___traverse_rec___traverse_rec___traverse_rec___traverse_rec___traverse_rec__phi_CM__Uniform__7\n",
      "  warnings.warn('Using prior. No proposal for address: {}'.format(address))\n",
      "/home/tt21642/dispyprob/pyprob/pyprob/nn/inference_network_feedforward.py:67: UserWarning: Using prior. No proposal for address: 256__forward___traverse___traverse_rec___traverse_rec___traverse_rec___traverse_rec___traverse_rec___traverse_rec___traverse_rec___traverse_rec___traverse_rec___traverse_rec___traverse_rec___traverse_rec___traverse_rec___traverse_rec__theta_CM_U__Uniform__7\n",
      "  warnings.warn('Using prior. No proposal for address: {}'.format(address))\n",
      "/home/tt21642/dispyprob/pyprob/pyprob/nn/inference_network_feedforward.py:67: UserWarning: Using prior. No proposal for address: 460__forward___traverse___traverse_rec___traverse_rec___traverse_rec___traverse_rec___traverse_rec___traverse_rec___traverse_rec___traverse_rec___traverse_rec___traverse_rec___traverse_rec___traverse_rec___traverse_rec___traverse_rec__draw_decay_L__TruncatedExponential__7\n",
      "  warnings.warn('Using prior. No proposal for address: {}'.format(address))\n",
      "/home/tt21642/dispyprob/pyprob/pyprob/nn/inference_network_feedforward.py:67: UserWarning: Using prior. No proposal for address: 510__forward___traverse___traverse_rec___traverse_rec___traverse_rec___traverse_rec___traverse_rec___traverse_rec___traverse_rec___traverse_rec___traverse_rec___traverse_rec___traverse_rec___traverse_rec___traverse_rec___traverse_rec__draw_decay_R__TruncatedExponential__7\n",
      "  warnings.warn('Using prior. No proposal for address: {}'.format(address))\n",
      "/home/tt21642/dispyprob/pyprob/pyprob/nn/inference_network_feedforward.py:67: UserWarning: Using prior. No proposal for address: 216__forward___traverse___traverse_rec___traverse_rec___traverse_rec___traverse_rec___traverse_rec___traverse_rec___traverse_rec___traverse_rec___traverse_rec___traverse_rec___traverse_rec___traverse_rec___traverse_rec___traverse_rec___traverse_rec__phi_CM__Uniform__7\n",
      "  warnings.warn('Using prior. No proposal for address: {}'.format(address))\n",
      "/home/tt21642/dispyprob/pyprob/pyprob/nn/inference_network_feedforward.py:67: UserWarning: Using prior. No proposal for address: 256__forward___traverse___traverse_rec___traverse_rec___traverse_rec___traverse_rec___traverse_rec___traverse_rec___traverse_rec___traverse_rec___traverse_rec___traverse_rec___traverse_rec___traverse_rec___traverse_rec___traverse_rec___traverse_rec__theta_CM_U__Uniform__7\n",
      "  warnings.warn('Using prior. No proposal for address: {}'.format(address))\n",
      "/home/tt21642/dispyprob/pyprob/pyprob/nn/inference_network_feedforward.py:67: UserWarning: Using prior. No proposal for address: 460__forward___traverse___traverse_rec___traverse_rec___traverse_rec___traverse_rec___traverse_rec___traverse_rec___traverse_rec___traverse_rec___traverse_rec___traverse_rec___traverse_rec___traverse_rec___traverse_rec___traverse_rec___traverse_rec__draw_decay_L__TruncatedExponential__7\n",
      "  warnings.warn('Using prior. No proposal for address: {}'.format(address))\n",
      "/home/tt21642/dispyprob/pyprob/pyprob/nn/inference_network_feedforward.py:67: UserWarning: Using prior. No proposal for address: 510__forward___traverse___traverse_rec___traverse_rec___traverse_rec___traverse_rec___traverse_rec___traverse_rec___traverse_rec___traverse_rec___traverse_rec___traverse_rec___traverse_rec___traverse_rec___traverse_rec___traverse_rec___traverse_rec__draw_decay_R__TruncatedExponential__7\n",
      "  warnings.warn('Using prior. No proposal for address: {}'.format(address))\n"
     ]
    },
    {
     "name": "stdout",
     "output_type": "stream",
     "text": [
      "0d:00:13:47 | 0d:01:03:18 | ####---------------- |  179/1000 |   2.00 | 0.22       \r"
     ]
    },
    {
     "name": "stderr",
     "output_type": "stream",
     "text": [
      "/home/tt21642/dispyprob/pyprob/pyprob/nn/inference_network_feedforward.py:67: UserWarning: Using prior. No proposal for address: 460__forward___traverse___traverse_rec___traverse_rec__draw_decay_L__TruncatedExponential__3\n",
      "  warnings.warn('Using prior. No proposal for address: {}'.format(address))\n"
     ]
    },
    {
     "name": "stdout",
     "output_type": "stream",
     "text": [
      "0d:00:14:01 | 0d:01:03:07 | ####---------------- |  182/1000 |   2.00 | 0.22       \r"
     ]
    },
    {
     "name": "stderr",
     "output_type": "stream",
     "text": [
      "/home/tt21642/dispyprob/pyprob/pyprob/nn/inference_network_feedforward.py:67: UserWarning: Using prior. No proposal for address: 216__forward___traverse___traverse_rec___traverse_rec___traverse_rec___traverse_rec___traverse_rec___traverse_rec___traverse_rec___traverse_rec__phi_CM__Uniform__18\n",
      "  warnings.warn('Using prior. No proposal for address: {}'.format(address))\n",
      "/home/tt21642/dispyprob/pyprob/pyprob/nn/inference_network_feedforward.py:67: UserWarning: Using prior. No proposal for address: 256__forward___traverse___traverse_rec___traverse_rec___traverse_rec___traverse_rec___traverse_rec___traverse_rec___traverse_rec___traverse_rec__theta_CM_U__Uniform__18\n",
      "  warnings.warn('Using prior. No proposal for address: {}'.format(address))\n",
      "/home/tt21642/dispyprob/pyprob/pyprob/nn/inference_network_feedforward.py:67: UserWarning: Using prior. No proposal for address: 460__forward___traverse___traverse_rec___traverse_rec___traverse_rec___traverse_rec___traverse_rec___traverse_rec___traverse_rec___traverse_rec__draw_decay_L__TruncatedExponential__18\n",
      "  warnings.warn('Using prior. No proposal for address: {}'.format(address))\n",
      "/home/tt21642/dispyprob/pyprob/pyprob/nn/inference_network_feedforward.py:67: UserWarning: Using prior. No proposal for address: 510__forward___traverse___traverse_rec___traverse_rec___traverse_rec___traverse_rec___traverse_rec___traverse_rec___traverse_rec___traverse_rec__draw_decay_R__TruncatedExponential__18\n",
      "  warnings.warn('Using prior. No proposal for address: {}'.format(address))\n"
     ]
    },
    {
     "name": "stdout",
     "output_type": "stream",
     "text": [
      "0d:00:14:20 | 0d:01:02:50 | ####---------------- |  186/1000 |   2.22 | 0.22       \r"
     ]
    },
    {
     "name": "stderr",
     "output_type": "stream",
     "text": [
      "/home/tt21642/dispyprob/pyprob/pyprob/nn/inference_network_feedforward.py:67: UserWarning: Using prior. No proposal for address: 460__forward___traverse___traverse_rec___traverse_rec___traverse_rec__draw_decay_L__TruncatedExponential__5\n",
      "  warnings.warn('Using prior. No proposal for address: {}'.format(address))\n"
     ]
    },
    {
     "name": "stdout",
     "output_type": "stream",
     "text": [
      "0d:00:14:27 | 0d:01:02:32 | ####---------------- |  188/1000 |   2.22 | 0.22       \r"
     ]
    },
    {
     "name": "stderr",
     "output_type": "stream",
     "text": [
      "/home/tt21642/dispyprob/pyprob/pyprob/nn/inference_network_feedforward.py:67: UserWarning: Using prior. No proposal for address: 216__forward___traverse___traverse_rec___traverse_rec___traverse_rec___traverse_rec___traverse_rec___traverse_rec___traverse_rec___traverse_rec___traverse_rec___traverse_rec___traverse_rec___traverse_rec___traverse_rec___traverse_rec__phi_CM__Uniform__8\n",
      "  warnings.warn('Using prior. No proposal for address: {}'.format(address))\n",
      "/home/tt21642/dispyprob/pyprob/pyprob/nn/inference_network_feedforward.py:67: UserWarning: Using prior. No proposal for address: 256__forward___traverse___traverse_rec___traverse_rec___traverse_rec___traverse_rec___traverse_rec___traverse_rec___traverse_rec___traverse_rec___traverse_rec___traverse_rec___traverse_rec___traverse_rec___traverse_rec___traverse_rec__theta_CM_U__Uniform__8\n",
      "  warnings.warn('Using prior. No proposal for address: {}'.format(address))\n",
      "/home/tt21642/dispyprob/pyprob/pyprob/nn/inference_network_feedforward.py:67: UserWarning: Using prior. No proposal for address: 460__forward___traverse___traverse_rec___traverse_rec___traverse_rec___traverse_rec___traverse_rec___traverse_rec___traverse_rec___traverse_rec___traverse_rec___traverse_rec___traverse_rec___traverse_rec___traverse_rec___traverse_rec__draw_decay_L__TruncatedExponential__8\n",
      "  warnings.warn('Using prior. No proposal for address: {}'.format(address))\n",
      "/home/tt21642/dispyprob/pyprob/pyprob/nn/inference_network_feedforward.py:67: UserWarning: Using prior. No proposal for address: 510__forward___traverse___traverse_rec___traverse_rec___traverse_rec___traverse_rec___traverse_rec___traverse_rec___traverse_rec___traverse_rec___traverse_rec___traverse_rec___traverse_rec___traverse_rec___traverse_rec___traverse_rec__draw_decay_R__TruncatedExponential__8\n",
      "  warnings.warn('Using prior. No proposal for address: {}'.format(address))\n"
     ]
    },
    {
     "name": "stdout",
     "output_type": "stream",
     "text": [
      "0d:00:25:47 | 0d:00:50:21 | #######------------- |  339/1000 |   2.86 | 0.22       \r"
     ]
    },
    {
     "name": "stderr",
     "output_type": "stream",
     "text": [
      "/home/tt21642/dispyprob/pyprob/pyprob/nn/inference_network_feedforward.py:67: UserWarning: Using prior. No proposal for address: 216__forward___traverse___traverse_rec___traverse_rec___traverse_rec___traverse_rec___traverse_rec___traverse_rec___traverse_rec___traverse_rec___traverse_rec___traverse_rec__phi_CM__Uniform__14\n",
      "  warnings.warn('Using prior. No proposal for address: {}'.format(address))\n",
      "/home/tt21642/dispyprob/pyprob/pyprob/nn/inference_network_feedforward.py:67: UserWarning: Using prior. No proposal for address: 256__forward___traverse___traverse_rec___traverse_rec___traverse_rec___traverse_rec___traverse_rec___traverse_rec___traverse_rec___traverse_rec___traverse_rec___traverse_rec__theta_CM_U__Uniform__14\n",
      "  warnings.warn('Using prior. No proposal for address: {}'.format(address))\n",
      "/home/tt21642/dispyprob/pyprob/pyprob/nn/inference_network_feedforward.py:67: UserWarning: Using prior. No proposal for address: 460__forward___traverse___traverse_rec___traverse_rec___traverse_rec___traverse_rec___traverse_rec___traverse_rec___traverse_rec___traverse_rec___traverse_rec___traverse_rec__draw_decay_L__TruncatedExponential__14\n",
      "  warnings.warn('Using prior. No proposal for address: {}'.format(address))\n",
      "/home/tt21642/dispyprob/pyprob/pyprob/nn/inference_network_feedforward.py:67: UserWarning: Using prior. No proposal for address: 510__forward___traverse___traverse_rec___traverse_rec___traverse_rec___traverse_rec___traverse_rec___traverse_rec___traverse_rec___traverse_rec___traverse_rec___traverse_rec__draw_decay_R__TruncatedExponential__14\n",
      "  warnings.warn('Using prior. No proposal for address: {}'.format(address))\n"
     ]
    },
    {
     "name": "stdout",
     "output_type": "stream",
     "text": [
      "0d:00:26:30 | 0d:00:49:31 | #######------------- |  349/1000 |   2.86 | 0.22       \r"
     ]
    },
    {
     "name": "stderr",
     "output_type": "stream",
     "text": [
      "/home/tt21642/dispyprob/pyprob/pyprob/nn/inference_network_feedforward.py:67: UserWarning: Using prior. No proposal for address: 460__forward___traverse___traverse_rec___traverse_rec___traverse_rec___traverse_rec___traverse_rec___traverse_rec___traverse_rec___traverse_rec___traverse_rec___traverse_rec___traverse_rec___traverse_rec___traverse_rec___traverse_rec___traverse_rec___traverse_rec___traverse_rec__draw_decay_L__TruncatedExponential__3\n",
      "  warnings.warn('Using prior. No proposal for address: {}'.format(address))\n"
     ]
    },
    {
     "name": "stdout",
     "output_type": "stream",
     "text": [
      "0d:00:30:23 | 0d:00:41:42 | ########------------ |  422/1000 |   3.50 | 0.23       \r"
     ]
    },
    {
     "name": "stderr",
     "output_type": "stream",
     "text": [
      "/home/tt21642/dispyprob/pyprob/pyprob/nn/inference_network_feedforward.py:67: UserWarning: Using prior. No proposal for address: 216__forward___traverse___traverse_rec___traverse_rec___traverse_rec___traverse_rec___traverse_rec___traverse_rec___traverse_rec___traverse_rec___traverse_rec___traverse_rec___traverse_rec___traverse_rec__phi_CM__Uniform__11\n",
      "  warnings.warn('Using prior. No proposal for address: {}'.format(address))\n",
      "/home/tt21642/dispyprob/pyprob/pyprob/nn/inference_network_feedforward.py:67: UserWarning: Using prior. No proposal for address: 256__forward___traverse___traverse_rec___traverse_rec___traverse_rec___traverse_rec___traverse_rec___traverse_rec___traverse_rec___traverse_rec___traverse_rec___traverse_rec___traverse_rec___traverse_rec__theta_CM_U__Uniform__11\n",
      "  warnings.warn('Using prior. No proposal for address: {}'.format(address))\n",
      "/home/tt21642/dispyprob/pyprob/pyprob/nn/inference_network_feedforward.py:67: UserWarning: Using prior. No proposal for address: 460__forward___traverse___traverse_rec___traverse_rec___traverse_rec___traverse_rec___traverse_rec___traverse_rec___traverse_rec___traverse_rec___traverse_rec___traverse_rec___traverse_rec___traverse_rec__draw_decay_L__TruncatedExponential__11\n",
      "  warnings.warn('Using prior. No proposal for address: {}'.format(address))\n",
      "/home/tt21642/dispyprob/pyprob/pyprob/nn/inference_network_feedforward.py:67: UserWarning: Using prior. No proposal for address: 510__forward___traverse___traverse_rec___traverse_rec___traverse_rec___traverse_rec___traverse_rec___traverse_rec___traverse_rec___traverse_rec___traverse_rec___traverse_rec___traverse_rec___traverse_rec__draw_decay_R__TruncatedExponential__11\n",
      "  warnings.warn('Using prior. No proposal for address: {}'.format(address))\n",
      "/home/tt21642/dispyprob/pyprob/pyprob/nn/inference_network_feedforward.py:67: UserWarning: Using prior. No proposal for address: 216__forward___traverse___traverse_rec___traverse_rec___traverse_rec___traverse_rec___traverse_rec___traverse_rec___traverse_rec___traverse_rec___traverse_rec___traverse_rec___traverse_rec___traverse_rec__phi_CM__Uniform__12\n",
      "  warnings.warn('Using prior. No proposal for address: {}'.format(address))\n",
      "/home/tt21642/dispyprob/pyprob/pyprob/nn/inference_network_feedforward.py:67: UserWarning: Using prior. No proposal for address: 256__forward___traverse___traverse_rec___traverse_rec___traverse_rec___traverse_rec___traverse_rec___traverse_rec___traverse_rec___traverse_rec___traverse_rec___traverse_rec___traverse_rec___traverse_rec__theta_CM_U__Uniform__12\n",
      "  warnings.warn('Using prior. No proposal for address: {}'.format(address))\n",
      "/home/tt21642/dispyprob/pyprob/pyprob/nn/inference_network_feedforward.py:67: UserWarning: Using prior. No proposal for address: 460__forward___traverse___traverse_rec___traverse_rec___traverse_rec___traverse_rec___traverse_rec___traverse_rec___traverse_rec___traverse_rec___traverse_rec___traverse_rec___traverse_rec___traverse_rec__draw_decay_L__TruncatedExponential__12\n",
      "  warnings.warn('Using prior. No proposal for address: {}'.format(address))\n",
      "/home/tt21642/dispyprob/pyprob/pyprob/nn/inference_network_feedforward.py:67: UserWarning: Using prior. No proposal for address: 510__forward___traverse___traverse_rec___traverse_rec___traverse_rec___traverse_rec___traverse_rec___traverse_rec___traverse_rec___traverse_rec___traverse_rec___traverse_rec___traverse_rec___traverse_rec__draw_decay_R__TruncatedExponential__12\n",
      "  warnings.warn('Using prior. No proposal for address: {}'.format(address))\n",
      "/home/tt21642/dispyprob/pyprob/pyprob/nn/inference_network_feedforward.py:67: UserWarning: Using prior. No proposal for address: 216__forward___traverse___traverse_rec___traverse_rec___traverse_rec___traverse_rec___traverse_rec___traverse_rec___traverse_rec___traverse_rec___traverse_rec___traverse_rec___traverse_rec___traverse_rec__phi_CM__Uniform__13\n",
      "  warnings.warn('Using prior. No proposal for address: {}'.format(address))\n",
      "/home/tt21642/dispyprob/pyprob/pyprob/nn/inference_network_feedforward.py:67: UserWarning: Using prior. No proposal for address: 256__forward___traverse___traverse_rec___traverse_rec___traverse_rec___traverse_rec___traverse_rec___traverse_rec___traverse_rec___traverse_rec___traverse_rec___traverse_rec___traverse_rec___traverse_rec__theta_CM_U__Uniform__13\n",
      "  warnings.warn('Using prior. No proposal for address: {}'.format(address))\n",
      "/home/tt21642/dispyprob/pyprob/pyprob/nn/inference_network_feedforward.py:67: UserWarning: Using prior. No proposal for address: 460__forward___traverse___traverse_rec___traverse_rec___traverse_rec___traverse_rec___traverse_rec___traverse_rec___traverse_rec___traverse_rec___traverse_rec___traverse_rec___traverse_rec___traverse_rec__draw_decay_L__TruncatedExponential__13\n",
      "  warnings.warn('Using prior. No proposal for address: {}'.format(address))\n",
      "/home/tt21642/dispyprob/pyprob/pyprob/nn/inference_network_feedforward.py:67: UserWarning: Using prior. No proposal for address: 510__forward___traverse___traverse_rec___traverse_rec___traverse_rec___traverse_rec___traverse_rec___traverse_rec___traverse_rec___traverse_rec___traverse_rec___traverse_rec___traverse_rec___traverse_rec__draw_decay_R__TruncatedExponential__13\n",
      "  warnings.warn('Using prior. No proposal for address: {}'.format(address))\n"
     ]
    },
    {
     "name": "stdout",
     "output_type": "stream",
     "text": [
      "0d:00:36:09 | 0d:00:33:18 | ##########---------- |  521/1000 |   4.38 | 0.24       \r"
     ]
    },
    {
     "name": "stderr",
     "output_type": "stream",
     "text": [
      "/home/tt21642/dispyprob/pyprob/pyprob/nn/inference_network_feedforward.py:67: UserWarning: Using prior. No proposal for address: 510__forward___traverse___traverse_rec___traverse_rec__draw_decay_R__TruncatedExponential__3\n",
      "  warnings.warn('Using prior. No proposal for address: {}'.format(address))\n"
     ]
    },
    {
     "name": "stdout",
     "output_type": "stream",
     "text": [
      "0d:00:36:39 | 0d:00:32:34 | ###########--------- |  530/1000 |   4.43 | 0.24       \r"
     ]
    },
    {
     "name": "stderr",
     "output_type": "stream",
     "text": [
      "/home/tt21642/dispyprob/pyprob/pyprob/nn/inference_network_feedforward.py:67: UserWarning: Using prior. No proposal for address: 216__forward___traverse___traverse_rec___traverse_rec___traverse_rec___traverse_rec___traverse_rec__phi_CM__Uniform__14\n",
      "  warnings.warn('Using prior. No proposal for address: {}'.format(address))\n",
      "/home/tt21642/dispyprob/pyprob/pyprob/nn/inference_network_feedforward.py:67: UserWarning: Using prior. No proposal for address: 256__forward___traverse___traverse_rec___traverse_rec___traverse_rec___traverse_rec___traverse_rec__theta_CM_U__Uniform__14\n",
      "  warnings.warn('Using prior. No proposal for address: {}'.format(address))\n",
      "/home/tt21642/dispyprob/pyprob/pyprob/nn/inference_network_feedforward.py:67: UserWarning: Using prior. No proposal for address: 460__forward___traverse___traverse_rec___traverse_rec___traverse_rec___traverse_rec___traverse_rec__draw_decay_L__TruncatedExponential__14\n",
      "  warnings.warn('Using prior. No proposal for address: {}'.format(address))\n",
      "/home/tt21642/dispyprob/pyprob/pyprob/nn/inference_network_feedforward.py:67: UserWarning: Using prior. No proposal for address: 510__forward___traverse___traverse_rec___traverse_rec___traverse_rec___traverse_rec___traverse_rec__draw_decay_R__TruncatedExponential__14\n",
      "  warnings.warn('Using prior. No proposal for address: {}'.format(address))\n"
     ]
    },
    {
     "name": "stdout",
     "output_type": "stream",
     "text": [
      "0d:00:37:37 | 0d:00:30:51 | ###########--------- |  550/1000 |   4.46 | 0.24       \r"
     ]
    },
    {
     "name": "stderr",
     "output_type": "stream",
     "text": [
      "/home/tt21642/dispyprob/pyprob/pyprob/nn/inference_network_feedforward.py:67: UserWarning: Using prior. No proposal for address: 216__forward___traverse___traverse_rec___traverse_rec___traverse_rec___traverse_rec___traverse_rec___traverse_rec___traverse_rec___traverse_rec__phi_CM__Uniform__19\n",
      "  warnings.warn('Using prior. No proposal for address: {}'.format(address))\n",
      "/home/tt21642/dispyprob/pyprob/pyprob/nn/inference_network_feedforward.py:67: UserWarning: Using prior. No proposal for address: 256__forward___traverse___traverse_rec___traverse_rec___traverse_rec___traverse_rec___traverse_rec___traverse_rec___traverse_rec___traverse_rec__theta_CM_U__Uniform__19\n",
      "  warnings.warn('Using prior. No proposal for address: {}'.format(address))\n",
      "/home/tt21642/dispyprob/pyprob/pyprob/nn/inference_network_feedforward.py:67: UserWarning: Using prior. No proposal for address: 460__forward___traverse___traverse_rec___traverse_rec___traverse_rec___traverse_rec___traverse_rec___traverse_rec___traverse_rec___traverse_rec__draw_decay_L__TruncatedExponential__19\n",
      "  warnings.warn('Using prior. No proposal for address: {}'.format(address))\n",
      "/home/tt21642/dispyprob/pyprob/pyprob/nn/inference_network_feedforward.py:67: UserWarning: Using prior. No proposal for address: 510__forward___traverse___traverse_rec___traverse_rec___traverse_rec___traverse_rec___traverse_rec___traverse_rec___traverse_rec___traverse_rec__draw_decay_R__TruncatedExponential__19\n",
      "  warnings.warn('Using prior. No proposal for address: {}'.format(address))\n"
     ]
    },
    {
     "name": "stdout",
     "output_type": "stream",
     "text": [
      "0d:00:39:14 | 0d:00:28:21 | ############-------- |  581/1000 |   4.76 | 0.25       \r"
     ]
    },
    {
     "name": "stderr",
     "output_type": "stream",
     "text": [
      "/home/tt21642/dispyprob/pyprob/pyprob/nn/inference_network_feedforward.py:67: UserWarning: Using prior. No proposal for address: 216__forward___traverse___traverse_rec___traverse_rec___traverse_rec___traverse_rec___traverse_rec___traverse_rec___traverse_rec___traverse_rec___traverse_rec___traverse_rec__phi_CM__Uniform__15\n",
      "  warnings.warn('Using prior. No proposal for address: {}'.format(address))\n",
      "/home/tt21642/dispyprob/pyprob/pyprob/nn/inference_network_feedforward.py:67: UserWarning: Using prior. No proposal for address: 256__forward___traverse___traverse_rec___traverse_rec___traverse_rec___traverse_rec___traverse_rec___traverse_rec___traverse_rec___traverse_rec___traverse_rec___traverse_rec__theta_CM_U__Uniform__15\n",
      "  warnings.warn('Using prior. No proposal for address: {}'.format(address))\n",
      "/home/tt21642/dispyprob/pyprob/pyprob/nn/inference_network_feedforward.py:67: UserWarning: Using prior. No proposal for address: 460__forward___traverse___traverse_rec___traverse_rec___traverse_rec___traverse_rec___traverse_rec___traverse_rec___traverse_rec___traverse_rec___traverse_rec___traverse_rec__draw_decay_L__TruncatedExponential__15\n",
      "  warnings.warn('Using prior. No proposal for address: {}'.format(address))\n",
      "/home/tt21642/dispyprob/pyprob/pyprob/nn/inference_network_feedforward.py:67: UserWarning: Using prior. No proposal for address: 510__forward___traverse___traverse_rec___traverse_rec___traverse_rec___traverse_rec___traverse_rec___traverse_rec___traverse_rec___traverse_rec___traverse_rec___traverse_rec__draw_decay_R__TruncatedExponential__15\n",
      "  warnings.warn('Using prior. No proposal for address: {}'.format(address))\n",
      "/home/tt21642/dispyprob/pyprob/pyprob/nn/inference_network_feedforward.py:67: UserWarning: Using prior. No proposal for address: 216__forward___traverse___traverse_rec___traverse_rec___traverse_rec___traverse_rec___traverse_rec___traverse_rec___traverse_rec___traverse_rec___traverse_rec___traverse_rec__phi_CM__Uniform__16\n",
      "  warnings.warn('Using prior. No proposal for address: {}'.format(address))\n",
      "/home/tt21642/dispyprob/pyprob/pyprob/nn/inference_network_feedforward.py:67: UserWarning: Using prior. No proposal for address: 256__forward___traverse___traverse_rec___traverse_rec___traverse_rec___traverse_rec___traverse_rec___traverse_rec___traverse_rec___traverse_rec___traverse_rec___traverse_rec__theta_CM_U__Uniform__16\n",
      "  warnings.warn('Using prior. No proposal for address: {}'.format(address))\n",
      "/home/tt21642/dispyprob/pyprob/pyprob/nn/inference_network_feedforward.py:67: UserWarning: Using prior. No proposal for address: 460__forward___traverse___traverse_rec___traverse_rec___traverse_rec___traverse_rec___traverse_rec___traverse_rec___traverse_rec___traverse_rec___traverse_rec___traverse_rec__draw_decay_L__TruncatedExponential__16\n",
      "  warnings.warn('Using prior. No proposal for address: {}'.format(address))\n",
      "/home/tt21642/dispyprob/pyprob/pyprob/nn/inference_network_feedforward.py:67: UserWarning: Using prior. No proposal for address: 510__forward___traverse___traverse_rec___traverse_rec___traverse_rec___traverse_rec___traverse_rec___traverse_rec___traverse_rec___traverse_rec___traverse_rec___traverse_rec__draw_decay_R__TruncatedExponential__16\n",
      "  warnings.warn('Using prior. No proposal for address: {}'.format(address))\n",
      "/home/tt21642/dispyprob/pyprob/pyprob/nn/inference_network_feedforward.py:67: UserWarning: Using prior. No proposal for address: 216__forward___traverse___traverse_rec___traverse_rec___traverse_rec___traverse_rec___traverse_rec___traverse_rec___traverse_rec___traverse_rec___traverse_rec___traverse_rec__phi_CM__Uniform__17\n",
      "  warnings.warn('Using prior. No proposal for address: {}'.format(address))\n",
      "/home/tt21642/dispyprob/pyprob/pyprob/nn/inference_network_feedforward.py:67: UserWarning: Using prior. No proposal for address: 256__forward___traverse___traverse_rec___traverse_rec___traverse_rec___traverse_rec___traverse_rec___traverse_rec___traverse_rec___traverse_rec___traverse_rec___traverse_rec__theta_CM_U__Uniform__17\n",
      "  warnings.warn('Using prior. No proposal for address: {}'.format(address))\n",
      "/home/tt21642/dispyprob/pyprob/pyprob/nn/inference_network_feedforward.py:67: UserWarning: Using prior. No proposal for address: 460__forward___traverse___traverse_rec___traverse_rec___traverse_rec___traverse_rec___traverse_rec___traverse_rec___traverse_rec___traverse_rec___traverse_rec___traverse_rec__draw_decay_L__TruncatedExponential__17\n",
      "  warnings.warn('Using prior. No proposal for address: {}'.format(address))\n",
      "/home/tt21642/dispyprob/pyprob/pyprob/nn/inference_network_feedforward.py:67: UserWarning: Using prior. No proposal for address: 510__forward___traverse___traverse_rec___traverse_rec___traverse_rec___traverse_rec___traverse_rec___traverse_rec___traverse_rec___traverse_rec___traverse_rec___traverse_rec__draw_decay_R__TruncatedExponential__17\n",
      "  warnings.warn('Using prior. No proposal for address: {}'.format(address))\n",
      "/home/tt21642/dispyprob/pyprob/pyprob/nn/inference_network_feedforward.py:67: UserWarning: Using prior. No proposal for address: 216__forward___traverse___traverse_rec___traverse_rec___traverse_rec___traverse_rec___traverse_rec___traverse_rec___traverse_rec___traverse_rec___traverse_rec___traverse_rec__phi_CM__Uniform__18\n",
      "  warnings.warn('Using prior. No proposal for address: {}'.format(address))\n",
      "/home/tt21642/dispyprob/pyprob/pyprob/nn/inference_network_feedforward.py:67: UserWarning: Using prior. No proposal for address: 256__forward___traverse___traverse_rec___traverse_rec___traverse_rec___traverse_rec___traverse_rec___traverse_rec___traverse_rec___traverse_rec___traverse_rec___traverse_rec__theta_CM_U__Uniform__18\n",
      "  warnings.warn('Using prior. No proposal for address: {}'.format(address))\n",
      "/home/tt21642/dispyprob/pyprob/pyprob/nn/inference_network_feedforward.py:67: UserWarning: Using prior. No proposal for address: 460__forward___traverse___traverse_rec___traverse_rec___traverse_rec___traverse_rec___traverse_rec___traverse_rec___traverse_rec___traverse_rec___traverse_rec___traverse_rec__draw_decay_L__TruncatedExponential__18\n",
      "  warnings.warn('Using prior. No proposal for address: {}'.format(address))\n",
      "/home/tt21642/dispyprob/pyprob/pyprob/nn/inference_network_feedforward.py:67: UserWarning: Using prior. No proposal for address: 510__forward___traverse___traverse_rec___traverse_rec___traverse_rec___traverse_rec___traverse_rec___traverse_rec___traverse_rec___traverse_rec___traverse_rec___traverse_rec__draw_decay_R__TruncatedExponential__18\n",
      "  warnings.warn('Using prior. No proposal for address: {}'.format(address))\n"
     ]
    },
    {
     "name": "stdout",
     "output_type": "stream",
     "text": [
      "0d:00:39:30 | 0d:00:27:58 | ############-------- |  586/1000 |   4.78 | 0.25       \r"
     ]
    },
    {
     "name": "stderr",
     "output_type": "stream",
     "text": [
      "/home/tt21642/dispyprob/pyprob/pyprob/nn/inference_network_feedforward.py:67: UserWarning: Using prior. No proposal for address: 510__forward___traverse___traverse_rec__draw_decay_R__TruncatedExponential__2\n",
      "  warnings.warn('Using prior. No proposal for address: {}'.format(address))\n",
      "/home/tt21642/dispyprob/pyprob/pyprob/nn/inference_network_feedforward.py:67: UserWarning: Using prior. No proposal for address: 216__forward___traverse___traverse_rec___traverse_rec___traverse_rec___traverse_rec___traverse_rec___traverse_rec___traverse_rec___traverse_rec___traverse_rec___traverse_rec___traverse_rec___traverse_rec___traverse_rec___traverse_rec__phi_CM__Uniform__9\n",
      "  warnings.warn('Using prior. No proposal for address: {}'.format(address))\n",
      "/home/tt21642/dispyprob/pyprob/pyprob/nn/inference_network_feedforward.py:67: UserWarning: Using prior. No proposal for address: 256__forward___traverse___traverse_rec___traverse_rec___traverse_rec___traverse_rec___traverse_rec___traverse_rec___traverse_rec___traverse_rec___traverse_rec___traverse_rec___traverse_rec___traverse_rec___traverse_rec___traverse_rec__theta_CM_U__Uniform__9\n",
      "  warnings.warn('Using prior. No proposal for address: {}'.format(address))\n",
      "/home/tt21642/dispyprob/pyprob/pyprob/nn/inference_network_feedforward.py:67: UserWarning: Using prior. No proposal for address: 460__forward___traverse___traverse_rec___traverse_rec___traverse_rec___traverse_rec___traverse_rec___traverse_rec___traverse_rec___traverse_rec___traverse_rec___traverse_rec___traverse_rec___traverse_rec___traverse_rec___traverse_rec__draw_decay_L__TruncatedExponential__9\n",
      "  warnings.warn('Using prior. No proposal for address: {}'.format(address))\n",
      "/home/tt21642/dispyprob/pyprob/pyprob/nn/inference_network_feedforward.py:67: UserWarning: Using prior. No proposal for address: 510__forward___traverse___traverse_rec___traverse_rec___traverse_rec___traverse_rec___traverse_rec___traverse_rec___traverse_rec___traverse_rec___traverse_rec___traverse_rec___traverse_rec___traverse_rec___traverse_rec___traverse_rec__draw_decay_R__TruncatedExponential__9\n",
      "  warnings.warn('Using prior. No proposal for address: {}'.format(address))\n"
     ]
    },
    {
     "name": "stdout",
     "output_type": "stream",
     "text": [
      "0d:00:41:25 | 0d:00:25:27 | ############-------- |  620/1000 |   4.79 | 0.25       \r"
     ]
    },
    {
     "name": "stderr",
     "output_type": "stream",
     "text": [
      "/home/tt21642/dispyprob/pyprob/pyprob/nn/inference_network_feedforward.py:67: UserWarning: Using prior. No proposal for address: 216__forward___traverse___traverse_rec___traverse_rec___traverse_rec___traverse_rec___traverse_rec___traverse_rec___traverse_rec__phi_CM__Uniform__19\n",
      "  warnings.warn('Using prior. No proposal for address: {}'.format(address))\n",
      "/home/tt21642/dispyprob/pyprob/pyprob/nn/inference_network_feedforward.py:67: UserWarning: Using prior. No proposal for address: 256__forward___traverse___traverse_rec___traverse_rec___traverse_rec___traverse_rec___traverse_rec___traverse_rec___traverse_rec__theta_CM_U__Uniform__19\n",
      "  warnings.warn('Using prior. No proposal for address: {}'.format(address))\n",
      "/home/tt21642/dispyprob/pyprob/pyprob/nn/inference_network_feedforward.py:67: UserWarning: Using prior. No proposal for address: 460__forward___traverse___traverse_rec___traverse_rec___traverse_rec___traverse_rec___traverse_rec___traverse_rec___traverse_rec__draw_decay_L__TruncatedExponential__19\n",
      "  warnings.warn('Using prior. No proposal for address: {}'.format(address))\n",
      "/home/tt21642/dispyprob/pyprob/pyprob/nn/inference_network_feedforward.py:67: UserWarning: Using prior. No proposal for address: 510__forward___traverse___traverse_rec___traverse_rec___traverse_rec___traverse_rec___traverse_rec___traverse_rec___traverse_rec__draw_decay_R__TruncatedExponential__19\n",
      "  warnings.warn('Using prior. No proposal for address: {}'.format(address))\n"
     ]
    },
    {
     "name": "stdout",
     "output_type": "stream",
     "text": [
      "0d:00:47:11 | 0d:00:21:04 | ##############------ |  692/1000 |   6.34 | 0.24       \r"
     ]
    },
    {
     "name": "stderr",
     "output_type": "stream",
     "text": [
      "/home/tt21642/dispyprob/pyprob/pyprob/nn/inference_network_feedforward.py:67: UserWarning: Using prior. No proposal for address: 216__forward___traverse___traverse_rec___traverse_rec___traverse_rec___traverse_rec___traverse_rec___traverse_rec___traverse_rec___traverse_rec___traverse_rec___traverse_rec___traverse_rec___traverse_rec___traverse_rec___traverse_rec___traverse_rec___traverse_rec___traverse_rec___traverse_rec__phi_CM__Uniform__2\n",
      "  warnings.warn('Using prior. No proposal for address: {}'.format(address))\n",
      "/home/tt21642/dispyprob/pyprob/pyprob/nn/inference_network_feedforward.py:67: UserWarning: Using prior. No proposal for address: 256__forward___traverse___traverse_rec___traverse_rec___traverse_rec___traverse_rec___traverse_rec___traverse_rec___traverse_rec___traverse_rec___traverse_rec___traverse_rec___traverse_rec___traverse_rec___traverse_rec___traverse_rec___traverse_rec___traverse_rec___traverse_rec___traverse_rec__theta_CM_U__Uniform__2\n",
      "  warnings.warn('Using prior. No proposal for address: {}'.format(address))\n",
      "/home/tt21642/dispyprob/pyprob/pyprob/nn/inference_network_feedforward.py:67: UserWarning: Using prior. No proposal for address: 460__forward___traverse___traverse_rec___traverse_rec___traverse_rec___traverse_rec___traverse_rec___traverse_rec___traverse_rec___traverse_rec___traverse_rec___traverse_rec___traverse_rec___traverse_rec___traverse_rec___traverse_rec___traverse_rec___traverse_rec___traverse_rec___traverse_rec__draw_decay_L__TruncatedExponential__2\n",
      "  warnings.warn('Using prior. No proposal for address: {}'.format(address))\n",
      "/home/tt21642/dispyprob/pyprob/pyprob/nn/inference_network_feedforward.py:67: UserWarning: Using prior. No proposal for address: 510__forward___traverse___traverse_rec___traverse_rec___traverse_rec___traverse_rec___traverse_rec___traverse_rec___traverse_rec___traverse_rec___traverse_rec___traverse_rec___traverse_rec___traverse_rec___traverse_rec___traverse_rec___traverse_rec___traverse_rec___traverse_rec___traverse_rec__draw_decay_R__TruncatedExponential__2\n",
      "  warnings.warn('Using prior. No proposal for address: {}'.format(address))\n"
     ]
    },
    {
     "name": "stdout",
     "output_type": "stream",
     "text": [
      "0d:00:48:42 | 0d:00:19:51 | ##############------ |  711/1000 |   6.44 | 0.24       \r"
     ]
    },
    {
     "name": "stderr",
     "output_type": "stream",
     "text": [
      "/home/tt21642/dispyprob/pyprob/pyprob/nn/inference_network_feedforward.py:67: UserWarning: Using prior. No proposal for address: 216__forward___traverse___traverse_rec___traverse_rec___traverse_rec___traverse_rec___traverse_rec___traverse_rec___traverse_rec___traverse_rec___traverse_rec___traverse_rec___traverse_rec___traverse_rec___traverse_rec___traverse_rec___traverse_rec___traverse_rec___traverse_rec__phi_CM__Uniform__3\n",
      "  warnings.warn('Using prior. No proposal for address: {}'.format(address))\n",
      "/home/tt21642/dispyprob/pyprob/pyprob/nn/inference_network_feedforward.py:67: UserWarning: Using prior. No proposal for address: 256__forward___traverse___traverse_rec___traverse_rec___traverse_rec___traverse_rec___traverse_rec___traverse_rec___traverse_rec___traverse_rec___traverse_rec___traverse_rec___traverse_rec___traverse_rec___traverse_rec___traverse_rec___traverse_rec___traverse_rec___traverse_rec__theta_CM_U__Uniform__3\n",
      "  warnings.warn('Using prior. No proposal for address: {}'.format(address))\n",
      "/home/tt21642/dispyprob/pyprob/pyprob/nn/inference_network_feedforward.py:67: UserWarning: Using prior. No proposal for address: 510__forward___traverse___traverse_rec___traverse_rec___traverse_rec___traverse_rec___traverse_rec___traverse_rec___traverse_rec___traverse_rec___traverse_rec___traverse_rec___traverse_rec___traverse_rec___traverse_rec___traverse_rec___traverse_rec___traverse_rec___traverse_rec__draw_decay_R__TruncatedExponential__3\n",
      "  warnings.warn('Using prior. No proposal for address: {}'.format(address))\n"
     ]
    },
    {
     "name": "stdout",
     "output_type": "stream",
     "text": [
      "0d:00:51:23 | 0d:00:17:39 | ###############----- |  745/1000 |   6.58 | 0.24       \r"
     ]
    },
    {
     "name": "stderr",
     "output_type": "stream",
     "text": [
      "/home/tt21642/dispyprob/pyprob/pyprob/nn/inference_network_feedforward.py:67: UserWarning: Using prior. No proposal for address: 510__forward___traverse___traverse_rec___traverse_rec___traverse_rec___traverse_rec__draw_decay_R__TruncatedExponential__9\n",
      "  warnings.warn('Using prior. No proposal for address: {}'.format(address))\n"
     ]
    },
    {
     "name": "stdout",
     "output_type": "stream",
     "text": [
      "0d:00:51:43 | 0d:00:17:24 | ###############----- |  749/1000 |   6.59 | 0.24       \r"
     ]
    },
    {
     "name": "stderr",
     "output_type": "stream",
     "text": [
      "/home/tt21642/dispyprob/pyprob/pyprob/nn/inference_network_feedforward.py:67: UserWarning: Using prior. No proposal for address: 216__forward___traverse___traverse_rec___traverse_rec___traverse_rec___traverse_rec___traverse_rec__phi_CM__Uniform__15\n",
      "  warnings.warn('Using prior. No proposal for address: {}'.format(address))\n",
      "/home/tt21642/dispyprob/pyprob/pyprob/nn/inference_network_feedforward.py:67: UserWarning: Using prior. No proposal for address: 256__forward___traverse___traverse_rec___traverse_rec___traverse_rec___traverse_rec___traverse_rec__theta_CM_U__Uniform__15\n",
      "  warnings.warn('Using prior. No proposal for address: {}'.format(address))\n",
      "/home/tt21642/dispyprob/pyprob/pyprob/nn/inference_network_feedforward.py:67: UserWarning: Using prior. No proposal for address: 460__forward___traverse___traverse_rec___traverse_rec___traverse_rec___traverse_rec___traverse_rec__draw_decay_L__TruncatedExponential__15\n",
      "  warnings.warn('Using prior. No proposal for address: {}'.format(address))\n",
      "/home/tt21642/dispyprob/pyprob/pyprob/nn/inference_network_feedforward.py:67: UserWarning: Using prior. No proposal for address: 510__forward___traverse___traverse_rec___traverse_rec___traverse_rec___traverse_rec___traverse_rec__draw_decay_R__TruncatedExponential__15\n",
      "  warnings.warn('Using prior. No proposal for address: {}'.format(address))\n"
     ]
    },
    {
     "name": "stdout",
     "output_type": "stream",
     "text": [
      "0d:00:51:46 | 0d:00:17:19 | ###############----- |  750/1000 |   6.59 | 0.24       \r"
     ]
    },
    {
     "name": "stderr",
     "output_type": "stream",
     "text": [
      "/home/tt21642/dispyprob/pyprob/pyprob/nn/inference_network_feedforward.py:67: UserWarning: Using prior. No proposal for address: 216__forward___traverse___traverse_rec___traverse_rec___traverse_rec___traverse_rec___traverse_rec___traverse_rec___traverse_rec___traverse_rec___traverse_rec___traverse_rec___traverse_rec___traverse_rec___traverse_rec__phi_CM__Uniform__10\n",
      "  warnings.warn('Using prior. No proposal for address: {}'.format(address))\n",
      "/home/tt21642/dispyprob/pyprob/pyprob/nn/inference_network_feedforward.py:67: UserWarning: Using prior. No proposal for address: 256__forward___traverse___traverse_rec___traverse_rec___traverse_rec___traverse_rec___traverse_rec___traverse_rec___traverse_rec___traverse_rec___traverse_rec___traverse_rec___traverse_rec___traverse_rec___traverse_rec__theta_CM_U__Uniform__10\n",
      "  warnings.warn('Using prior. No proposal for address: {}'.format(address))\n",
      "/home/tt21642/dispyprob/pyprob/pyprob/nn/inference_network_feedforward.py:67: UserWarning: Using prior. No proposal for address: 460__forward___traverse___traverse_rec___traverse_rec___traverse_rec___traverse_rec___traverse_rec___traverse_rec___traverse_rec___traverse_rec___traverse_rec___traverse_rec___traverse_rec___traverse_rec___traverse_rec__draw_decay_L__TruncatedExponential__10\n",
      "  warnings.warn('Using prior. No proposal for address: {}'.format(address))\n",
      "/home/tt21642/dispyprob/pyprob/pyprob/nn/inference_network_feedforward.py:67: UserWarning: Using prior. No proposal for address: 510__forward___traverse___traverse_rec___traverse_rec___traverse_rec___traverse_rec___traverse_rec___traverse_rec___traverse_rec___traverse_rec___traverse_rec___traverse_rec___traverse_rec___traverse_rec___traverse_rec__draw_decay_R__TruncatedExponential__10\n",
      "  warnings.warn('Using prior. No proposal for address: {}'.format(address))\n"
     ]
    },
    {
     "name": "stdout",
     "output_type": "stream",
     "text": [
      "0d:01:04:00 | 0d:00:06:56 | ##################-- |  903/1000 |   9.36 | 0.24       \r"
     ]
    },
    {
     "name": "stderr",
     "output_type": "stream",
     "text": [
      "/home/tt21642/dispyprob/pyprob/pyprob/model.py:204: UserWarning: Encountered trace with nan, inf, or -inf log_weight. Discarding trace.\n",
      "  warnings.warn('Encountered trace with nan, inf, or -inf log_weight. Discarding trace.')\n"
     ]
    },
    {
     "name": "stdout",
     "output_type": "stream",
     "text": [
      "0d:01:11:16 | 0d:00:00:21 | #################### |  996/1000 |  10.76 | 0.23       \r"
     ]
    },
    {
     "name": "stderr",
     "output_type": "stream",
     "text": [
      "/home/tt21642/dispyprob/pyprob/pyprob/nn/inference_network_feedforward.py:67: UserWarning: Using prior. No proposal for address: 216__forward___traverse___traverse_rec___traverse_rec___traverse_rec___traverse_rec___traverse_rec___traverse_rec___traverse_rec___traverse_rec___traverse_rec___traverse_rec___traverse_rec___traverse_rec___traverse_rec___traverse_rec___traverse_rec___traverse_rec___traverse_rec___traverse_rec___traverse_rec__phi_CM__Uniform__2\n",
      "  warnings.warn('Using prior. No proposal for address: {}'.format(address))\n",
      "/home/tt21642/dispyprob/pyprob/pyprob/nn/inference_network_feedforward.py:67: UserWarning: Using prior. No proposal for address: 256__forward___traverse___traverse_rec___traverse_rec___traverse_rec___traverse_rec___traverse_rec___traverse_rec___traverse_rec___traverse_rec___traverse_rec___traverse_rec___traverse_rec___traverse_rec___traverse_rec___traverse_rec___traverse_rec___traverse_rec___traverse_rec___traverse_rec___traverse_rec__theta_CM_U__Uniform__2\n",
      "  warnings.warn('Using prior. No proposal for address: {}'.format(address))\n",
      "/home/tt21642/dispyprob/pyprob/pyprob/nn/inference_network_feedforward.py:67: UserWarning: Using prior. No proposal for address: 460__forward___traverse___traverse_rec___traverse_rec___traverse_rec___traverse_rec___traverse_rec___traverse_rec___traverse_rec___traverse_rec___traverse_rec___traverse_rec___traverse_rec___traverse_rec___traverse_rec___traverse_rec___traverse_rec___traverse_rec___traverse_rec___traverse_rec___traverse_rec__draw_decay_L__TruncatedExponential__2\n",
      "  warnings.warn('Using prior. No proposal for address: {}'.format(address))\n",
      "/home/tt21642/dispyprob/pyprob/pyprob/nn/inference_network_feedforward.py:67: UserWarning: Using prior. No proposal for address: 510__forward___traverse___traverse_rec___traverse_rec___traverse_rec___traverse_rec___traverse_rec___traverse_rec___traverse_rec___traverse_rec___traverse_rec___traverse_rec___traverse_rec___traverse_rec___traverse_rec___traverse_rec___traverse_rec___traverse_rec___traverse_rec___traverse_rec___traverse_rec__draw_decay_R__TruncatedExponential__2\n",
      "  warnings.warn('Using prior. No proposal for address: {}'.format(address))\n"
     ]
    },
    {
     "name": "stdout",
     "output_type": "stream",
     "text": [
      "0d:01:11:34 | 0d:00:00:04 | #################### | 1000/1000 |  10.76 | 0.23       \n"
     ]
    }
   ],
   "source": [
    "posterior_results = simulatorginkgo.posterior_results(num_traces = 1000, inference_engine=InferenceEngine.DISTILLING_IMPORTANCE_SAMPLING,observe = {'dummy':1})"
   ]
  },
  {
   "cell_type": "code",
   "execution_count": 7,
   "id": "df7ebc8b",
   "metadata": {},
   "outputs": [],
   "source": [
    "imurates20 = np.array([value['Lambda'] for value in posterior_results])"
   ]
  },
  {
   "cell_type": "code",
   "execution_count": 8,
   "id": "5268e553",
   "metadata": {},
   "outputs": [
    {
     "data": {
      "text/plain": [
       "(array([111.,  91., 109.,  97.,  93.,  96.,  98.,  92., 104., 108.]),\n",
       " array([0.01652765, 1.0124531 , 2.0083785 , 3.0043042 , 4.0002294 ,\n",
       "        4.996155  , 5.9920807 , 6.988006  , 7.9839315 , 8.9798565 ,\n",
       "        9.975782  ], dtype=float32),\n",
       " <BarContainer object of 10 artists>)"
      ]
     },
     "execution_count": 8,
     "metadata": {},
     "output_type": "execute_result"
    },
    {
     "data": {
      "image/png": "[encoded data removed]",
      "text/plain": [
       "<Figure size 432x288 with 1 Axes>"
      ]
     },
     "metadata": {
      "needs_background": "light"
     },
     "output_type": "display_data"
    }
   ],
   "source": [
    "plt.hist(rates20)"
   ]
  },
  {
   "cell_type": "markdown",
   "source": [
    "# Old Network"
   ],
   "metadata": {
    "collapsed": false,
    "pycharm": {
     "name": "#%% md\n"
    }
   }
  },
  {
   "cell_type": "code",
   "execution_count": 8,
   "outputs": [],
   "source": [
    "obs_leaves2 = to_tensor([[44.57652381, 26.16169856, 25.3945314 , 25.64598258],\n",
    "                        [18.2146321 , 10.70465096, 10.43553391, 10.40449709],\n",
    "                        [ 6.47106713,  4.0435395,  3.65545951,  3.48697568],\n",
    "                        [ 8.43764314,  5.51040615,  4.60990593,  4.42270416],\n",
    "                        [26.61664145, 16.55894826, 14.3357362 , 15.12215264],\n",
    "                        [ 8.62925002,  3.37121204,  5.19699   ,  6.00480461],\n",
    "                        [ 1.64291837,  0.74506775,  1.01003622,  1.05626017],\n",
    "                        [ 0.75525072,  0.3051808 ,  0.45721085,  0.51760643],\n",
    "                        [39.5749915 , 18.39638928, 24.24717939, 25.29349408],\n",
    "                        [ 4.18355659,  2.11145474,  2.82071304,  2.25221316],\n",
    "                        [ 0.82932922,  0.29842766,  0.5799056 ,  0.509021  ],\n",
    "                        [ 3.00825023,  1.36339397,  1.99203677,  1.79428211],\n",
    "                        [ 7.20024308,  4.03280868,  3.82379277,  4.57441754],\n",
    "                        [ 2.09953618,  1.28473579,  1.03554351,  1.29769683],\n",
    "                        [12.21401828,  6.76059035,  6.94920042,  7.42823701],\n",
    "                        [ 6.91438054,  3.68417135,  3.83782514,  4.41656731],\n",
    "                        [ 1.97218904,  1.01632927,  1.08008339,  1.27454585],\n",
    "                        [ 8.58164301,  5.06157833,  4.79691164,  4.99553141],\n",
    "                        [ 5.97809522,  3.26557958,  3.4253764 ,  3.64894791],\n",
    "                        [ 5.22842301,  2.94437891,  3.10292633,  3.00551074],\n",
    "                        [15.40023764,  9.10884407,  8.93836964,  8.61970667],\n",
    "                        [ 1.96101346,  1.24996337,  1.06923988,  1.06743143],\n",
    "                        [19.81054106, 11.90268453, 11.60989346, 10.76953856],\n",
    "                        [18.79470876, 11.429855  , 10.8377334 , 10.25112761],\n",
    "                        [25.74331932, 15.63430056, 14.83860792, 14.07189108],\n",
    "                        [ 9.98357576,  6.10090721,  5.68664128,  5.48748692],\n",
    "                        [12.34604239,  7.78770185,  6.76075998,  6.78498685],\n",
    "                        [21.24998531, 12.95180254, 11.9511704 , 11.87319933],\n",
    "                        [ 7.80693733,  4.83117128,  4.27443559,  4.39602348],\n",
    "                        [16.28983576,  9.66683929,  9.24891886,  9.28970032],\n",
    "                        [ 2.50706736,  1.53153206,  1.36060018,  1.43002765],\n",
    "                        [ 3.73938645,  2.06006639,  2.31013974,  2.09378969],\n",
    "                        [20.2174725 , 11.88622367, 12.05106468, 11.05325362],\n",
    "                        [ 9.48660008,  5.53665456,  5.54171966,  5.34966654],\n",
    "                        [ 2.65812987,  1.64102742,  1.67392209,  1.25083707]])\n",
    "\n",
    "simulatorginkgo2 = SimulatorModelDIS(jet_p=jet4vec,  # parent particle 4-vector\n",
    "                                    pt_cut=float(pt_min),  # minimum pT for resulting jet\n",
    "                                    Delta_0= M2start,  # parent particle mass squared -> needs tensor\n",
    "                                    M_hard=jetM,  # parent particle mass\n",
    "                                    minLeaves=1,  # minimum number of jet constituents\n",
    "                                    maxLeaves=10000,  # maximum number of jet constituents (a large value to stop expensive simulator runs)\n",
    "                                    suppress_output=True,\n",
    "                                    obs_leaves=obs_leaves2,\n",
    "                                    dist_fun=sinkhorn_t)"
   ],
   "metadata": {
    "collapsed": false,
    "pycharm": {
     "name": "#%%\n"
    }
   }
  },
  {
   "cell_type": "code",
   "execution_count": 12,
   "id": "53a29a1e",
   "metadata": {},
   "outputs": [
    {
     "name": "stdout",
     "output_type": "stream",
     "text": [
      "Time spent  | Time remain.| Progress             | Trace     | ESS    | Traces/sec\n",
      "0d:00:45:07 | 0d:00:43:06 | ##########---------- |  512/1000 |   1.36 | 0.19       \r"
     ]
    },
    {
     "name": "stderr",
     "output_type": "stream",
     "text": [
      "/home/tt21642/dispyprob/pyprob/pyprob/nn/inference_network_lstm.py:116: UserWarning: Address of current variable unknown by inference network: 216__forward___traverse___traverse_rec___traverse_rec___traverse_rec___traverse_rec___traverse_rec___traverse_rec___traverse_rec___traverse_rec___traverse_rec___traverse_rec___traverse_rec___traverse_rec___traverse_rec___traverse_rec___traverse_rec___traverse_rec___traverse_rec___traverse_rec__phi_CM__Uniform__1\n",
      "  warnings.warn('Address of current variable unknown by inference network: {}'.format(current_address))\n",
      "/home/tt21642/dispyprob/pyprob/pyprob/nn/inference_network_lstm.py:137: UserWarning: Using prior. No proposal for address: 216__forward___traverse___traverse_rec___traverse_rec___traverse_rec___traverse_rec___traverse_rec___traverse_rec___traverse_rec___traverse_rec___traverse_rec___traverse_rec___traverse_rec___traverse_rec___traverse_rec___traverse_rec___traverse_rec___traverse_rec___traverse_rec___traverse_rec__phi_CM__Uniform__1\n",
      "  warnings.warn('Using prior. No proposal for address: {}'.format(current_address))\n",
      "/home/tt21642/dispyprob/pyprob/pyprob/nn/inference_network_lstm.py:107: UserWarning: Address of previous variable unknown by inference network: 216__forward___traverse___traverse_rec___traverse_rec___traverse_rec___traverse_rec___traverse_rec___traverse_rec___traverse_rec___traverse_rec___traverse_rec___traverse_rec___traverse_rec___traverse_rec___traverse_rec___traverse_rec___traverse_rec___traverse_rec___traverse_rec___traverse_rec__phi_CM__Uniform__1\n",
      "  warnings.warn('Address of previous variable unknown by inference network: {}'.format(prev_address))\n",
      "/home/tt21642/dispyprob/pyprob/pyprob/nn/inference_network_lstm.py:116: UserWarning: Address of current variable unknown by inference network: 256__forward___traverse___traverse_rec___traverse_rec___traverse_rec___traverse_rec___traverse_rec___traverse_rec___traverse_rec___traverse_rec___traverse_rec___traverse_rec___traverse_rec___traverse_rec___traverse_rec___traverse_rec___traverse_rec___traverse_rec___traverse_rec___traverse_rec__theta_CM_U__Uniform__1\n",
      "  warnings.warn('Address of current variable unknown by inference network: {}'.format(current_address))\n",
      "/home/tt21642/dispyprob/pyprob/pyprob/nn/inference_network_lstm.py:137: UserWarning: Using prior. No proposal for address: 256__forward___traverse___traverse_rec___traverse_rec___traverse_rec___traverse_rec___traverse_rec___traverse_rec___traverse_rec___traverse_rec___traverse_rec___traverse_rec___traverse_rec___traverse_rec___traverse_rec___traverse_rec___traverse_rec___traverse_rec___traverse_rec___traverse_rec__theta_CM_U__Uniform__1\n",
      "  warnings.warn('Using prior. No proposal for address: {}'.format(current_address))\n",
      "/home/tt21642/dispyprob/pyprob/pyprob/nn/inference_network_lstm.py:107: UserWarning: Address of previous variable unknown by inference network: 256__forward___traverse___traverse_rec___traverse_rec___traverse_rec___traverse_rec___traverse_rec___traverse_rec___traverse_rec___traverse_rec___traverse_rec___traverse_rec___traverse_rec___traverse_rec___traverse_rec___traverse_rec___traverse_rec___traverse_rec___traverse_rec___traverse_rec__theta_CM_U__Uniform__1\n",
      "  warnings.warn('Address of previous variable unknown by inference network: {}'.format(prev_address))\n",
      "/home/tt21642/dispyprob/pyprob/pyprob/nn/inference_network_lstm.py:116: UserWarning: Address of current variable unknown by inference network: 460__forward___traverse___traverse_rec___traverse_rec___traverse_rec___traverse_rec___traverse_rec___traverse_rec___traverse_rec___traverse_rec___traverse_rec___traverse_rec___traverse_rec___traverse_rec___traverse_rec___traverse_rec___traverse_rec___traverse_rec___traverse_rec___traverse_rec__draw_decay_L__TruncatedExponential__1\n",
      "  warnings.warn('Address of current variable unknown by inference network: {}'.format(current_address))\n",
      "/home/tt21642/dispyprob/pyprob/pyprob/nn/inference_network_lstm.py:137: UserWarning: Using prior. No proposal for address: 460__forward___traverse___traverse_rec___traverse_rec___traverse_rec___traverse_rec___traverse_rec___traverse_rec___traverse_rec___traverse_rec___traverse_rec___traverse_rec___traverse_rec___traverse_rec___traverse_rec___traverse_rec___traverse_rec___traverse_rec___traverse_rec___traverse_rec__draw_decay_L__TruncatedExponential__1\n",
      "  warnings.warn('Using prior. No proposal for address: {}'.format(current_address))\n",
      "/home/tt21642/dispyprob/pyprob/pyprob/nn/inference_network_lstm.py:107: UserWarning: Address of previous variable unknown by inference network: 460__forward___traverse___traverse_rec___traverse_rec___traverse_rec___traverse_rec___traverse_rec___traverse_rec___traverse_rec___traverse_rec___traverse_rec___traverse_rec___traverse_rec___traverse_rec___traverse_rec___traverse_rec___traverse_rec___traverse_rec___traverse_rec___traverse_rec__draw_decay_L__TruncatedExponential__1\n",
      "  warnings.warn('Address of previous variable unknown by inference network: {}'.format(prev_address))\n",
      "/home/tt21642/dispyprob/pyprob/pyprob/nn/inference_network_lstm.py:116: UserWarning: Address of current variable unknown by inference network: 510__forward___traverse___traverse_rec___traverse_rec___traverse_rec___traverse_rec___traverse_rec___traverse_rec___traverse_rec___traverse_rec___traverse_rec___traverse_rec___traverse_rec___traverse_rec___traverse_rec___traverse_rec___traverse_rec___traverse_rec___traverse_rec___traverse_rec__draw_decay_R__TruncatedExponential__1\n",
      "  warnings.warn('Address of current variable unknown by inference network: {}'.format(current_address))\n",
      "/home/tt21642/dispyprob/pyprob/pyprob/nn/inference_network_lstm.py:137: UserWarning: Using prior. No proposal for address: 510__forward___traverse___traverse_rec___traverse_rec___traverse_rec___traverse_rec___traverse_rec___traverse_rec___traverse_rec___traverse_rec___traverse_rec___traverse_rec___traverse_rec___traverse_rec___traverse_rec___traverse_rec___traverse_rec___traverse_rec___traverse_rec___traverse_rec__draw_decay_R__TruncatedExponential__1\n",
      "  warnings.warn('Using prior. No proposal for address: {}'.format(current_address))\n",
      "/home/tt21642/dispyprob/pyprob/pyprob/nn/inference_network_lstm.py:107: UserWarning: Address of previous variable unknown by inference network: 510__forward___traverse___traverse_rec___traverse_rec___traverse_rec___traverse_rec___traverse_rec___traverse_rec___traverse_rec___traverse_rec___traverse_rec___traverse_rec___traverse_rec___traverse_rec___traverse_rec___traverse_rec___traverse_rec___traverse_rec___traverse_rec___traverse_rec__draw_decay_R__TruncatedExponential__1\n",
      "  warnings.warn('Address of previous variable unknown by inference network: {}'.format(prev_address))\n",
      "/home/tt21642/dispyprob/pyprob/pyprob/nn/inference_network_lstm.py:137: UserWarning: Using prior. No proposal for address: 216__forward___traverse___traverse_rec___traverse_rec___traverse_rec___traverse_rec___traverse_rec___traverse_rec___traverse_rec___traverse_rec___traverse_rec___traverse_rec___traverse_rec___traverse_rec___traverse_rec___traverse_rec___traverse_rec__phi_CM__Uniform__2\n",
      "  warnings.warn('Using prior. No proposal for address: {}'.format(current_address))\n",
      "/home/tt21642/dispyprob/pyprob/pyprob/nn/inference_network_lstm.py:116: UserWarning: Address of current variable unknown by inference network: 216__forward___traverse___traverse_rec___traverse_rec___traverse_rec___traverse_rec___traverse_rec___traverse_rec___traverse_rec___traverse_rec___traverse_rec___traverse_rec___traverse_rec___traverse_rec___traverse_rec___traverse_rec___traverse_rec___traverse_rec___traverse_rec__phi_CM__Uniform__2\n",
      "  warnings.warn('Address of current variable unknown by inference network: {}'.format(current_address))\n",
      "/home/tt21642/dispyprob/pyprob/pyprob/nn/inference_network_lstm.py:137: UserWarning: Using prior. No proposal for address: 216__forward___traverse___traverse_rec___traverse_rec___traverse_rec___traverse_rec___traverse_rec___traverse_rec___traverse_rec___traverse_rec___traverse_rec___traverse_rec___traverse_rec___traverse_rec___traverse_rec___traverse_rec___traverse_rec___traverse_rec___traverse_rec__phi_CM__Uniform__2\n",
      "  warnings.warn('Using prior. No proposal for address: {}'.format(current_address))\n",
      "/home/tt21642/dispyprob/pyprob/pyprob/nn/inference_network_lstm.py:107: UserWarning: Address of previous variable unknown by inference network: 216__forward___traverse___traverse_rec___traverse_rec___traverse_rec___traverse_rec___traverse_rec___traverse_rec___traverse_rec___traverse_rec___traverse_rec___traverse_rec___traverse_rec___traverse_rec___traverse_rec___traverse_rec___traverse_rec___traverse_rec___traverse_rec__phi_CM__Uniform__2\n",
      "  warnings.warn('Address of previous variable unknown by inference network: {}'.format(prev_address))\n",
      "/home/tt21642/dispyprob/pyprob/pyprob/nn/inference_network_lstm.py:116: UserWarning: Address of current variable unknown by inference network: 256__forward___traverse___traverse_rec___traverse_rec___traverse_rec___traverse_rec___traverse_rec___traverse_rec___traverse_rec___traverse_rec___traverse_rec___traverse_rec___traverse_rec___traverse_rec___traverse_rec___traverse_rec___traverse_rec___traverse_rec___traverse_rec__theta_CM_U__Uniform__2\n",
      "  warnings.warn('Address of current variable unknown by inference network: {}'.format(current_address))\n",
      "/home/tt21642/dispyprob/pyprob/pyprob/nn/inference_network_lstm.py:137: UserWarning: Using prior. No proposal for address: 256__forward___traverse___traverse_rec___traverse_rec___traverse_rec___traverse_rec___traverse_rec___traverse_rec___traverse_rec___traverse_rec___traverse_rec___traverse_rec___traverse_rec___traverse_rec___traverse_rec___traverse_rec___traverse_rec___traverse_rec___traverse_rec__theta_CM_U__Uniform__2\n",
      "  warnings.warn('Using prior. No proposal for address: {}'.format(current_address))\n",
      "/home/tt21642/dispyprob/pyprob/pyprob/nn/inference_network_lstm.py:107: UserWarning: Address of previous variable unknown by inference network: 256__forward___traverse___traverse_rec___traverse_rec___traverse_rec___traverse_rec___traverse_rec___traverse_rec___traverse_rec___traverse_rec___traverse_rec___traverse_rec___traverse_rec___traverse_rec___traverse_rec___traverse_rec___traverse_rec___traverse_rec___traverse_rec__theta_CM_U__Uniform__2\n",
      "  warnings.warn('Address of previous variable unknown by inference network: {}'.format(prev_address))\n",
      "/home/tt21642/dispyprob/pyprob/pyprob/nn/inference_network_lstm.py:116: UserWarning: Address of current variable unknown by inference network: 460__forward___traverse___traverse_rec___traverse_rec___traverse_rec___traverse_rec___traverse_rec___traverse_rec___traverse_rec___traverse_rec___traverse_rec___traverse_rec___traverse_rec___traverse_rec___traverse_rec___traverse_rec___traverse_rec___traverse_rec___traverse_rec__draw_decay_L__TruncatedExponential__2\n",
      "  warnings.warn('Address of current variable unknown by inference network: {}'.format(current_address))\n",
      "/home/tt21642/dispyprob/pyprob/pyprob/nn/inference_network_lstm.py:137: UserWarning: Using prior. No proposal for address: 460__forward___traverse___traverse_rec___traverse_rec___traverse_rec___traverse_rec___traverse_rec___traverse_rec___traverse_rec___traverse_rec___traverse_rec___traverse_rec___traverse_rec___traverse_rec___traverse_rec___traverse_rec___traverse_rec___traverse_rec___traverse_rec__draw_decay_L__TruncatedExponential__2\n",
      "  warnings.warn('Using prior. No proposal for address: {}'.format(current_address))\n",
      "/home/tt21642/dispyprob/pyprob/pyprob/nn/inference_network_lstm.py:107: UserWarning: Address of previous variable unknown by inference network: 460__forward___traverse___traverse_rec___traverse_rec___traverse_rec___traverse_rec___traverse_rec___traverse_rec___traverse_rec___traverse_rec___traverse_rec___traverse_rec___traverse_rec___traverse_rec___traverse_rec___traverse_rec___traverse_rec___traverse_rec___traverse_rec__draw_decay_L__TruncatedExponential__2\n",
      "  warnings.warn('Address of previous variable unknown by inference network: {}'.format(prev_address))\n",
      "/home/tt21642/dispyprob/pyprob/pyprob/nn/inference_network_lstm.py:116: UserWarning: Address of current variable unknown by inference network: 510__forward___traverse___traverse_rec___traverse_rec___traverse_rec___traverse_rec___traverse_rec___traverse_rec___traverse_rec___traverse_rec___traverse_rec___traverse_rec___traverse_rec___traverse_rec___traverse_rec___traverse_rec___traverse_rec___traverse_rec___traverse_rec__draw_decay_R__TruncatedExponential__2\n",
      "  warnings.warn('Address of current variable unknown by inference network: {}'.format(current_address))\n",
      "/home/tt21642/dispyprob/pyprob/pyprob/nn/inference_network_lstm.py:137: UserWarning: Using prior. No proposal for address: 510__forward___traverse___traverse_rec___traverse_rec___traverse_rec___traverse_rec___traverse_rec___traverse_rec___traverse_rec___traverse_rec___traverse_rec___traverse_rec___traverse_rec___traverse_rec___traverse_rec___traverse_rec___traverse_rec___traverse_rec___traverse_rec__draw_decay_R__TruncatedExponential__2\n",
      "  warnings.warn('Using prior. No proposal for address: {}'.format(current_address))\n",
      "/home/tt21642/dispyprob/pyprob/pyprob/nn/inference_network_lstm.py:107: UserWarning: Address of previous variable unknown by inference network: 510__forward___traverse___traverse_rec___traverse_rec___traverse_rec___traverse_rec___traverse_rec___traverse_rec___traverse_rec___traverse_rec___traverse_rec___traverse_rec___traverse_rec___traverse_rec___traverse_rec___traverse_rec___traverse_rec___traverse_rec___traverse_rec__draw_decay_R__TruncatedExponential__2\n",
      "  warnings.warn('Address of previous variable unknown by inference network: {}'.format(prev_address))\n",
      "/home/tt21642/dispyprob/pyprob/pyprob/nn/inference_network_lstm.py:116: UserWarning: Address of current variable unknown by inference network: 216__forward___traverse___traverse_rec___traverse_rec___traverse_rec___traverse_rec___traverse_rec___traverse_rec___traverse_rec___traverse_rec___traverse_rec___traverse_rec___traverse_rec___traverse_rec___traverse_rec___traverse_rec___traverse_rec___traverse_rec___traverse_rec___traverse_rec__phi_CM__Uniform__2\n",
      "  warnings.warn('Address of current variable unknown by inference network: {}'.format(current_address))\n",
      "/home/tt21642/dispyprob/pyprob/pyprob/nn/inference_network_lstm.py:137: UserWarning: Using prior. No proposal for address: 216__forward___traverse___traverse_rec___traverse_rec___traverse_rec___traverse_rec___traverse_rec___traverse_rec___traverse_rec___traverse_rec___traverse_rec___traverse_rec___traverse_rec___traverse_rec___traverse_rec___traverse_rec___traverse_rec___traverse_rec___traverse_rec___traverse_rec__phi_CM__Uniform__2\n",
      "  warnings.warn('Using prior. No proposal for address: {}'.format(current_address))\n",
      "/home/tt21642/dispyprob/pyprob/pyprob/nn/inference_network_lstm.py:107: UserWarning: Address of previous variable unknown by inference network: 216__forward___traverse___traverse_rec___traverse_rec___traverse_rec___traverse_rec___traverse_rec___traverse_rec___traverse_rec___traverse_rec___traverse_rec___traverse_rec___traverse_rec___traverse_rec___traverse_rec___traverse_rec___traverse_rec___traverse_rec___traverse_rec___traverse_rec__phi_CM__Uniform__2\n",
      "  warnings.warn('Address of previous variable unknown by inference network: {}'.format(prev_address))\n",
      "/home/tt21642/dispyprob/pyprob/pyprob/nn/inference_network_lstm.py:116: UserWarning: Address of current variable unknown by inference network: 256__forward___traverse___traverse_rec___traverse_rec___traverse_rec___traverse_rec___traverse_rec___traverse_rec___traverse_rec___traverse_rec___traverse_rec___traverse_rec___traverse_rec___traverse_rec___traverse_rec___traverse_rec___traverse_rec___traverse_rec___traverse_rec___traverse_rec__theta_CM_U__Uniform__2\n",
      "  warnings.warn('Address of current variable unknown by inference network: {}'.format(current_address))\n",
      "/home/tt21642/dispyprob/pyprob/pyprob/nn/inference_network_lstm.py:137: UserWarning: Using prior. No proposal for address: 256__forward___traverse___traverse_rec___traverse_rec___traverse_rec___traverse_rec___traverse_rec___traverse_rec___traverse_rec___traverse_rec___traverse_rec___traverse_rec___traverse_rec___traverse_rec___traverse_rec___traverse_rec___traverse_rec___traverse_rec___traverse_rec___traverse_rec__theta_CM_U__Uniform__2\n",
      "  warnings.warn('Using prior. No proposal for address: {}'.format(current_address))\n",
      "/home/tt21642/dispyprob/pyprob/pyprob/nn/inference_network_lstm.py:107: UserWarning: Address of previous variable unknown by inference network: 256__forward___traverse___traverse_rec___traverse_rec___traverse_rec___traverse_rec___traverse_rec___traverse_rec___traverse_rec___traverse_rec___traverse_rec___traverse_rec___traverse_rec___traverse_rec___traverse_rec___traverse_rec___traverse_rec___traverse_rec___traverse_rec___traverse_rec__theta_CM_U__Uniform__2\n",
      "  warnings.warn('Address of previous variable unknown by inference network: {}'.format(prev_address))\n",
      "/home/tt21642/dispyprob/pyprob/pyprob/nn/inference_network_lstm.py:116: UserWarning: Address of current variable unknown by inference network: 460__forward___traverse___traverse_rec___traverse_rec___traverse_rec___traverse_rec___traverse_rec___traverse_rec___traverse_rec___traverse_rec___traverse_rec___traverse_rec___traverse_rec___traverse_rec___traverse_rec___traverse_rec___traverse_rec___traverse_rec___traverse_rec___traverse_rec__draw_decay_L__TruncatedExponential__2\n",
      "  warnings.warn('Address of current variable unknown by inference network: {}'.format(current_address))\n",
      "/home/tt21642/dispyprob/pyprob/pyprob/nn/inference_network_lstm.py:137: UserWarning: Using prior. No proposal for address: 460__forward___traverse___traverse_rec___traverse_rec___traverse_rec___traverse_rec___traverse_rec___traverse_rec___traverse_rec___traverse_rec___traverse_rec___traverse_rec___traverse_rec___traverse_rec___traverse_rec___traverse_rec___traverse_rec___traverse_rec___traverse_rec___traverse_rec__draw_decay_L__TruncatedExponential__2\n",
      "  warnings.warn('Using prior. No proposal for address: {}'.format(current_address))\n",
      "/home/tt21642/dispyprob/pyprob/pyprob/nn/inference_network_lstm.py:107: UserWarning: Address of previous variable unknown by inference network: 460__forward___traverse___traverse_rec___traverse_rec___traverse_rec___traverse_rec___traverse_rec___traverse_rec___traverse_rec___traverse_rec___traverse_rec___traverse_rec___traverse_rec___traverse_rec___traverse_rec___traverse_rec___traverse_rec___traverse_rec___traverse_rec___traverse_rec__draw_decay_L__TruncatedExponential__2\n",
      "  warnings.warn('Address of previous variable unknown by inference network: {}'.format(prev_address))\n",
      "/home/tt21642/dispyprob/pyprob/pyprob/nn/inference_network_lstm.py:116: UserWarning: Address of current variable unknown by inference network: 510__forward___traverse___traverse_rec___traverse_rec___traverse_rec___traverse_rec___traverse_rec___traverse_rec___traverse_rec___traverse_rec___traverse_rec___traverse_rec___traverse_rec___traverse_rec___traverse_rec___traverse_rec___traverse_rec___traverse_rec___traverse_rec___traverse_rec__draw_decay_R__TruncatedExponential__2\n",
      "  warnings.warn('Address of current variable unknown by inference network: {}'.format(current_address))\n",
      "/home/tt21642/dispyprob/pyprob/pyprob/nn/inference_network_lstm.py:137: UserWarning: Using prior. No proposal for address: 510__forward___traverse___traverse_rec___traverse_rec___traverse_rec___traverse_rec___traverse_rec___traverse_rec___traverse_rec___traverse_rec___traverse_rec___traverse_rec___traverse_rec___traverse_rec___traverse_rec___traverse_rec___traverse_rec___traverse_rec___traverse_rec___traverse_rec__draw_decay_R__TruncatedExponential__2\n",
      "  warnings.warn('Using prior. No proposal for address: {}'.format(current_address))\n",
      "/home/tt21642/dispyprob/pyprob/pyprob/nn/inference_network_lstm.py:107: UserWarning: Address of previous variable unknown by inference network: 510__forward___traverse___traverse_rec___traverse_rec___traverse_rec___traverse_rec___traverse_rec___traverse_rec___traverse_rec___traverse_rec___traverse_rec___traverse_rec___traverse_rec___traverse_rec___traverse_rec___traverse_rec___traverse_rec___traverse_rec___traverse_rec___traverse_rec__draw_decay_R__TruncatedExponential__2\n",
      "  warnings.warn('Address of previous variable unknown by inference network: {}'.format(prev_address))\n",
      "/home/tt21642/dispyprob/pyprob/pyprob/nn/inference_network_lstm.py:137: UserWarning: Using prior. No proposal for address: 216__forward___traverse___traverse_rec___traverse_rec___traverse_rec___traverse_rec___traverse_rec___traverse_rec___traverse_rec___traverse_rec___traverse_rec___traverse_rec___traverse_rec___traverse_rec__phi_CM__Uniform__2\n",
      "  warnings.warn('Using prior. No proposal for address: {}'.format(current_address))\n"
     ]
    },
    {
     "name": "stdout",
     "output_type": "stream",
     "text": [
      "0d:01:24:12 | 0d:00:00:05 | #################### | 1000/1000 |   2.08 | 0.20       \r\n",
      "Time spent  | Time remain.| Progress             | Trace     | ESS    | Traces/sec\n",
      "0d:00:26:57 | 0d:01:11:52 | #####--------------- |  273/1000 |   1.06 | 0.17       \r"
     ]
    },
    {
     "name": "stderr",
     "output_type": "stream",
     "text": [
      "/home/tt21642/dispyprob/pyprob/pyprob/nn/inference_network_lstm.py:116: UserWarning: Address of current variable unknown by inference network: 460__forward___traverse___traverse_rec___traverse_rec__draw_decay_L__TruncatedExponential__3\n",
      "  warnings.warn('Address of current variable unknown by inference network: {}'.format(current_address))\n",
      "/home/tt21642/dispyprob/pyprob/pyprob/nn/inference_network_lstm.py:137: UserWarning: Using prior. No proposal for address: 460__forward___traverse___traverse_rec___traverse_rec__draw_decay_L__TruncatedExponential__3\n",
      "  warnings.warn('Using prior. No proposal for address: {}'.format(current_address))\n",
      "/home/tt21642/dispyprob/pyprob/pyprob/nn/inference_network_lstm.py:107: UserWarning: Address of previous variable unknown by inference network: 460__forward___traverse___traverse_rec___traverse_rec__draw_decay_L__TruncatedExponential__3\n",
      "  warnings.warn('Address of previous variable unknown by inference network: {}'.format(prev_address))\n",
      "/home/tt21642/dispyprob/pyprob/pyprob/nn/inference_network_lstm.py:137: UserWarning: Using prior. No proposal for address: 510__forward___traverse___traverse_rec___traverse_rec__draw_decay_R__TruncatedExponential__2\n",
      "  warnings.warn('Using prior. No proposal for address: {}'.format(current_address))\n"
     ]
    },
    {
     "name": "stdout",
     "output_type": "stream",
     "text": [
      "0d:00:42:36 | 0d:00:56:21 | #########----------- |  431/1000 |   1.00 | 0.17       \r"
     ]
    },
    {
     "name": "stderr",
     "output_type": "stream",
     "text": [
      "/home/tt21642/dispyprob/pyprob/pyprob/model.py:204: UserWarning: Encountered trace with nan, inf, or -inf log_weight. Discarding trace.\n",
      "  warnings.warn('Encountered trace with nan, inf, or -inf log_weight. Discarding trace.')\n"
     ]
    },
    {
     "name": "stdout",
     "output_type": "stream",
     "text": [
      "0d:01:23:17 | 0d:00:18:23 | ################---- |  820/1000 |   1.00 | 0.16       \r"
     ]
    },
    {
     "name": "stderr",
     "output_type": "stream",
     "text": [
      "/home/tt21642/dispyprob/pyprob/pyprob/nn/inference_network_lstm.py:116: UserWarning: Address of current variable unknown by inference network: 460__forward___traverse___traverse_rec___traverse_rec___traverse_rec___traverse_rec__draw_decay_L__TruncatedExponential__9\n",
      "  warnings.warn('Address of current variable unknown by inference network: {}'.format(current_address))\n",
      "/home/tt21642/dispyprob/pyprob/pyprob/nn/inference_network_lstm.py:137: UserWarning: Using prior. No proposal for address: 460__forward___traverse___traverse_rec___traverse_rec___traverse_rec___traverse_rec__draw_decay_L__TruncatedExponential__9\n",
      "  warnings.warn('Using prior. No proposal for address: {}'.format(current_address))\n",
      "/home/tt21642/dispyprob/pyprob/pyprob/nn/inference_network_lstm.py:107: UserWarning: Address of previous variable unknown by inference network: 460__forward___traverse___traverse_rec___traverse_rec___traverse_rec___traverse_rec__draw_decay_L__TruncatedExponential__9\n",
      "  warnings.warn('Address of previous variable unknown by inference network: {}'.format(prev_address))\n",
      "/home/tt21642/dispyprob/pyprob/pyprob/nn/inference_network_lstm.py:137: UserWarning: Using prior. No proposal for address: 510__forward___traverse___traverse_rec___traverse_rec___traverse_rec___traverse_rec__draw_decay_R__TruncatedExponential__8\n",
      "  warnings.warn('Using prior. No proposal for address: {}'.format(current_address))\n"
     ]
    },
    {
     "name": "stdout",
     "output_type": "stream",
     "text": [
      "0d:02:05:56 | 0d:00:00:07 | #################### | 1000/1000 |   1.00 | 0.13       \r\n",
      "Time spent  | Time remain.| Progress             | Trace     | ESS    | Traces/sec\n",
      "0d:00:25:37 | 0d:02:41:35 | ###----------------- |  137/1000 |   1.00 | 0.09       \r"
     ]
    },
    {
     "name": "stderr",
     "output_type": "stream",
     "text": [
      "/home/tt21642/dispyprob/pyprob/pyprob/nn/inference_network_lstm.py:116: UserWarning: Address of current variable unknown by inference network: 216__forward___traverse___traverse_rec___traverse_rec___traverse_rec___traverse_rec___traverse_rec___traverse_rec___traverse_rec___traverse_rec___traverse_rec__phi_CM__Uniform__11\n",
      "  warnings.warn('Address of current variable unknown by inference network: {}'.format(current_address))\n",
      "/home/tt21642/dispyprob/pyprob/pyprob/nn/inference_network_lstm.py:137: UserWarning: Using prior. No proposal for address: 216__forward___traverse___traverse_rec___traverse_rec___traverse_rec___traverse_rec___traverse_rec___traverse_rec___traverse_rec___traverse_rec___traverse_rec__phi_CM__Uniform__11\n",
      "  warnings.warn('Using prior. No proposal for address: {}'.format(current_address))\n",
      "/home/tt21642/dispyprob/pyprob/pyprob/nn/inference_network_lstm.py:107: UserWarning: Address of previous variable unknown by inference network: 216__forward___traverse___traverse_rec___traverse_rec___traverse_rec___traverse_rec___traverse_rec___traverse_rec___traverse_rec___traverse_rec___traverse_rec__phi_CM__Uniform__11\n",
      "  warnings.warn('Address of previous variable unknown by inference network: {}'.format(prev_address))\n",
      "/home/tt21642/dispyprob/pyprob/pyprob/nn/inference_network_lstm.py:116: UserWarning: Address of current variable unknown by inference network: 256__forward___traverse___traverse_rec___traverse_rec___traverse_rec___traverse_rec___traverse_rec___traverse_rec___traverse_rec___traverse_rec___traverse_rec__theta_CM_U__Uniform__11\n",
      "  warnings.warn('Address of current variable unknown by inference network: {}'.format(current_address))\n",
      "/home/tt21642/dispyprob/pyprob/pyprob/nn/inference_network_lstm.py:137: UserWarning: Using prior. No proposal for address: 256__forward___traverse___traverse_rec___traverse_rec___traverse_rec___traverse_rec___traverse_rec___traverse_rec___traverse_rec___traverse_rec___traverse_rec__theta_CM_U__Uniform__11\n",
      "  warnings.warn('Using prior. No proposal for address: {}'.format(current_address))\n",
      "/home/tt21642/dispyprob/pyprob/pyprob/nn/inference_network_lstm.py:107: UserWarning: Address of previous variable unknown by inference network: 256__forward___traverse___traverse_rec___traverse_rec___traverse_rec___traverse_rec___traverse_rec___traverse_rec___traverse_rec___traverse_rec___traverse_rec__theta_CM_U__Uniform__11\n",
      "  warnings.warn('Address of previous variable unknown by inference network: {}'.format(prev_address))\n",
      "/home/tt21642/dispyprob/pyprob/pyprob/nn/inference_network_lstm.py:116: UserWarning: Address of current variable unknown by inference network: 460__forward___traverse___traverse_rec___traverse_rec___traverse_rec___traverse_rec___traverse_rec___traverse_rec___traverse_rec___traverse_rec___traverse_rec__draw_decay_L__TruncatedExponential__11\n",
      "  warnings.warn('Address of current variable unknown by inference network: {}'.format(current_address))\n",
      "/home/tt21642/dispyprob/pyprob/pyprob/nn/inference_network_lstm.py:137: UserWarning: Using prior. No proposal for address: 460__forward___traverse___traverse_rec___traverse_rec___traverse_rec___traverse_rec___traverse_rec___traverse_rec___traverse_rec___traverse_rec___traverse_rec__draw_decay_L__TruncatedExponential__11\n",
      "  warnings.warn('Using prior. No proposal for address: {}'.format(current_address))\n",
      "/home/tt21642/dispyprob/pyprob/pyprob/nn/inference_network_lstm.py:107: UserWarning: Address of previous variable unknown by inference network: 460__forward___traverse___traverse_rec___traverse_rec___traverse_rec___traverse_rec___traverse_rec___traverse_rec___traverse_rec___traverse_rec___traverse_rec__draw_decay_L__TruncatedExponential__11\n",
      "  warnings.warn('Address of previous variable unknown by inference network: {}'.format(prev_address))\n",
      "/home/tt21642/dispyprob/pyprob/pyprob/nn/inference_network_lstm.py:116: UserWarning: Address of current variable unknown by inference network: 510__forward___traverse___traverse_rec___traverse_rec___traverse_rec___traverse_rec___traverse_rec___traverse_rec___traverse_rec___traverse_rec___traverse_rec__draw_decay_R__TruncatedExponential__11\n",
      "  warnings.warn('Address of current variable unknown by inference network: {}'.format(current_address))\n",
      "/home/tt21642/dispyprob/pyprob/pyprob/nn/inference_network_lstm.py:137: UserWarning: Using prior. No proposal for address: 510__forward___traverse___traverse_rec___traverse_rec___traverse_rec___traverse_rec___traverse_rec___traverse_rec___traverse_rec___traverse_rec___traverse_rec__draw_decay_R__TruncatedExponential__11\n",
      "  warnings.warn('Using prior. No proposal for address: {}'.format(current_address))\n",
      "/home/tt21642/dispyprob/pyprob/pyprob/nn/inference_network_lstm.py:107: UserWarning: Address of previous variable unknown by inference network: 510__forward___traverse___traverse_rec___traverse_rec___traverse_rec___traverse_rec___traverse_rec___traverse_rec___traverse_rec___traverse_rec___traverse_rec__draw_decay_R__TruncatedExponential__11\n",
      "  warnings.warn('Address of previous variable unknown by inference network: {}'.format(prev_address))\n",
      "/home/tt21642/dispyprob/pyprob/pyprob/nn/inference_network_lstm.py:137: UserWarning: Using prior. No proposal for address: 216__forward___traverse___traverse_rec___traverse_rec___traverse_rec___traverse_rec___traverse_rec__phi_CM__Uniform__4\n",
      "  warnings.warn('Using prior. No proposal for address: {}'.format(current_address))\n"
     ]
    },
    {
     "name": "stdout",
     "output_type": "stream",
     "text": [
      "0d:01:02:17 | 0d:01:59:30 | #######------------- |  343/1000 |   1.03 | 0.09       \r"
     ]
    },
    {
     "name": "stderr",
     "output_type": "stream",
     "text": [
      "/home/tt21642/dispyprob/pyprob/pyprob/nn/inference_network_lstm.py:116: UserWarning: Address of current variable unknown by inference network: 216__forward___traverse___traverse_rec___traverse_rec___traverse_rec___traverse_rec___traverse_rec___traverse_rec___traverse_rec__phi_CM__Uniform__15\n",
      "  warnings.warn('Address of current variable unknown by inference network: {}'.format(current_address))\n",
      "/home/tt21642/dispyprob/pyprob/pyprob/nn/inference_network_lstm.py:137: UserWarning: Using prior. No proposal for address: 216__forward___traverse___traverse_rec___traverse_rec___traverse_rec___traverse_rec___traverse_rec___traverse_rec___traverse_rec__phi_CM__Uniform__15\n",
      "  warnings.warn('Using prior. No proposal for address: {}'.format(current_address))\n",
      "/home/tt21642/dispyprob/pyprob/pyprob/nn/inference_network_lstm.py:107: UserWarning: Address of previous variable unknown by inference network: 216__forward___traverse___traverse_rec___traverse_rec___traverse_rec___traverse_rec___traverse_rec___traverse_rec___traverse_rec__phi_CM__Uniform__15\n",
      "  warnings.warn('Address of previous variable unknown by inference network: {}'.format(prev_address))\n",
      "/home/tt21642/dispyprob/pyprob/pyprob/nn/inference_network_lstm.py:116: UserWarning: Address of current variable unknown by inference network: 256__forward___traverse___traverse_rec___traverse_rec___traverse_rec___traverse_rec___traverse_rec___traverse_rec___traverse_rec__theta_CM_U__Uniform__15\n",
      "  warnings.warn('Address of current variable unknown by inference network: {}'.format(current_address))\n",
      "/home/tt21642/dispyprob/pyprob/pyprob/nn/inference_network_lstm.py:137: UserWarning: Using prior. No proposal for address: 256__forward___traverse___traverse_rec___traverse_rec___traverse_rec___traverse_rec___traverse_rec___traverse_rec___traverse_rec__theta_CM_U__Uniform__15\n",
      "  warnings.warn('Using prior. No proposal for address: {}'.format(current_address))\n",
      "/home/tt21642/dispyprob/pyprob/pyprob/nn/inference_network_lstm.py:107: UserWarning: Address of previous variable unknown by inference network: 256__forward___traverse___traverse_rec___traverse_rec___traverse_rec___traverse_rec___traverse_rec___traverse_rec___traverse_rec__theta_CM_U__Uniform__15\n",
      "  warnings.warn('Address of previous variable unknown by inference network: {}'.format(prev_address))\n",
      "/home/tt21642/dispyprob/pyprob/pyprob/nn/inference_network_lstm.py:116: UserWarning: Address of current variable unknown by inference network: 460__forward___traverse___traverse_rec___traverse_rec___traverse_rec___traverse_rec___traverse_rec___traverse_rec___traverse_rec__draw_decay_L__TruncatedExponential__15\n",
      "  warnings.warn('Address of current variable unknown by inference network: {}'.format(current_address))\n",
      "/home/tt21642/dispyprob/pyprob/pyprob/nn/inference_network_lstm.py:137: UserWarning: Using prior. No proposal for address: 460__forward___traverse___traverse_rec___traverse_rec___traverse_rec___traverse_rec___traverse_rec___traverse_rec___traverse_rec__draw_decay_L__TruncatedExponential__15\n",
      "  warnings.warn('Using prior. No proposal for address: {}'.format(current_address))\n",
      "/home/tt21642/dispyprob/pyprob/pyprob/nn/inference_network_lstm.py:107: UserWarning: Address of previous variable unknown by inference network: 460__forward___traverse___traverse_rec___traverse_rec___traverse_rec___traverse_rec___traverse_rec___traverse_rec___traverse_rec__draw_decay_L__TruncatedExponential__15\n",
      "  warnings.warn('Address of previous variable unknown by inference network: {}'.format(prev_address))\n",
      "/home/tt21642/dispyprob/pyprob/pyprob/nn/inference_network_lstm.py:116: UserWarning: Address of current variable unknown by inference network: 510__forward___traverse___traverse_rec___traverse_rec___traverse_rec___traverse_rec___traverse_rec___traverse_rec___traverse_rec__draw_decay_R__TruncatedExponential__15\n",
      "  warnings.warn('Address of current variable unknown by inference network: {}'.format(current_address))\n",
      "/home/tt21642/dispyprob/pyprob/pyprob/nn/inference_network_lstm.py:137: UserWarning: Using prior. No proposal for address: 510__forward___traverse___traverse_rec___traverse_rec___traverse_rec___traverse_rec___traverse_rec___traverse_rec___traverse_rec__draw_decay_R__TruncatedExponential__15\n",
      "  warnings.warn('Using prior. No proposal for address: {}'.format(current_address))\n",
      "/home/tt21642/dispyprob/pyprob/pyprob/nn/inference_network_lstm.py:107: UserWarning: Address of previous variable unknown by inference network: 510__forward___traverse___traverse_rec___traverse_rec___traverse_rec___traverse_rec___traverse_rec___traverse_rec___traverse_rec__draw_decay_R__TruncatedExponential__15\n",
      "  warnings.warn('Address of previous variable unknown by inference network: {}'.format(prev_address))\n",
      "/home/tt21642/dispyprob/pyprob/pyprob/nn/inference_network_lstm.py:137: UserWarning: Using prior. No proposal for address: 216__forward___traverse___traverse_rec___traverse_rec___traverse_rec___traverse_rec___traverse_rec__phi_CM__Uniform__9\n",
      "  warnings.warn('Using prior. No proposal for address: {}'.format(current_address))\n"
     ]
    },
    {
     "name": "stdout",
     "output_type": "stream",
     "text": [
      "0d:02:51:57 | 0d:00:25:39 | #################--- |  871/1000 |   1.03 | 0.08       \r"
     ]
    },
    {
     "name": "stderr",
     "output_type": "stream",
     "text": [
      "/home/tt21642/dispyprob/pyprob/pyprob/nn/inference_network_lstm.py:116: UserWarning: Address of current variable unknown by inference network: 510__forward___traverse___traverse_rec___traverse_rec___traverse_rec__draw_decay_R__TruncatedExponential__5\n",
      "  warnings.warn('Address of current variable unknown by inference network: {}'.format(current_address))\n",
      "/home/tt21642/dispyprob/pyprob/pyprob/nn/inference_network_lstm.py:137: UserWarning: Using prior. No proposal for address: 510__forward___traverse___traverse_rec___traverse_rec___traverse_rec__draw_decay_R__TruncatedExponential__5\n",
      "  warnings.warn('Using prior. No proposal for address: {}'.format(current_address))\n"
     ]
    },
    {
     "name": "stdout",
     "output_type": "stream",
     "text": [
      "0d:02:59:23 | 0d:00:18:35 | ##################-- |  907/1000 |   1.03 | 0.08       \r"
     ]
    },
    {
     "name": "stderr",
     "output_type": "stream",
     "text": [
      "/home/tt21642/dispyprob/pyprob/pyprob/nn/inference_network_lstm.py:107: UserWarning: Address of previous variable unknown by inference network: 510__forward___traverse___traverse_rec___traverse_rec___traverse_rec__draw_decay_R__TruncatedExponential__5\n",
      "  warnings.warn('Address of previous variable unknown by inference network: {}'.format(prev_address))\n",
      "/home/tt21642/dispyprob/pyprob/pyprob/nn/inference_network_lstm.py:137: UserWarning: Using prior. No proposal for address: 216__forward___traverse___traverse_rec___traverse_rec___traverse_rec___traverse_rec__phi_CM__Uniform__6\n",
      "  warnings.warn('Using prior. No proposal for address: {}'.format(current_address))\n"
     ]
    },
    {
     "name": "stdout",
     "output_type": "stream",
     "text": [
      "0d:03:16:42 | 0d:00:00:11 | #################### | 1000/1000 |   1.03 | 0.08       \r\n",
      "Time spent  | Time remain.| Progress             | Trace     | ESS    | Traces/sec\n",
      "0d:00:00:13 | 0d:03:43:02 | -------------------- |    1/1000 |   1.00 | 0.07       \r"
     ]
    },
    {
     "name": "stderr",
     "output_type": "stream",
     "text": [
      "/home/tt21642/dispyprob/pyprob/pyprob/nn/inference_network_lstm.py:116: UserWarning: Address of current variable unknown by inference network: 216__forward___traverse___traverse_rec___traverse_rec___traverse_rec___traverse_rec___traverse_rec___traverse_rec___traverse_rec___traverse_rec___traverse_rec___traverse_rec__phi_CM__Uniform__10\n",
      "  warnings.warn('Address of current variable unknown by inference network: {}'.format(current_address))\n",
      "/home/tt21642/dispyprob/pyprob/pyprob/nn/inference_network_lstm.py:137: UserWarning: Using prior. No proposal for address: 216__forward___traverse___traverse_rec___traverse_rec___traverse_rec___traverse_rec___traverse_rec___traverse_rec___traverse_rec___traverse_rec___traverse_rec___traverse_rec__phi_CM__Uniform__10\n",
      "  warnings.warn('Using prior. No proposal for address: {}'.format(current_address))\n",
      "/home/tt21642/dispyprob/pyprob/pyprob/nn/inference_network_lstm.py:107: UserWarning: Address of previous variable unknown by inference network: 216__forward___traverse___traverse_rec___traverse_rec___traverse_rec___traverse_rec___traverse_rec___traverse_rec___traverse_rec___traverse_rec___traverse_rec___traverse_rec__phi_CM__Uniform__10\n",
      "  warnings.warn('Address of previous variable unknown by inference network: {}'.format(prev_address))\n",
      "/home/tt21642/dispyprob/pyprob/pyprob/nn/inference_network_lstm.py:116: UserWarning: Address of current variable unknown by inference network: 256__forward___traverse___traverse_rec___traverse_rec___traverse_rec___traverse_rec___traverse_rec___traverse_rec___traverse_rec___traverse_rec___traverse_rec___traverse_rec__theta_CM_U__Uniform__10\n",
      "  warnings.warn('Address of current variable unknown by inference network: {}'.format(current_address))\n",
      "/home/tt21642/dispyprob/pyprob/pyprob/nn/inference_network_lstm.py:137: UserWarning: Using prior. No proposal for address: 256__forward___traverse___traverse_rec___traverse_rec___traverse_rec___traverse_rec___traverse_rec___traverse_rec___traverse_rec___traverse_rec___traverse_rec___traverse_rec__theta_CM_U__Uniform__10\n",
      "  warnings.warn('Using prior. No proposal for address: {}'.format(current_address))\n",
      "/home/tt21642/dispyprob/pyprob/pyprob/nn/inference_network_lstm.py:107: UserWarning: Address of previous variable unknown by inference network: 256__forward___traverse___traverse_rec___traverse_rec___traverse_rec___traverse_rec___traverse_rec___traverse_rec___traverse_rec___traverse_rec___traverse_rec___traverse_rec__theta_CM_U__Uniform__10\n",
      "  warnings.warn('Address of previous variable unknown by inference network: {}'.format(prev_address))\n",
      "/home/tt21642/dispyprob/pyprob/pyprob/nn/inference_network_lstm.py:116: UserWarning: Address of current variable unknown by inference network: 460__forward___traverse___traverse_rec___traverse_rec___traverse_rec___traverse_rec___traverse_rec___traverse_rec___traverse_rec___traverse_rec___traverse_rec___traverse_rec__draw_decay_L__TruncatedExponential__10\n",
      "  warnings.warn('Address of current variable unknown by inference network: {}'.format(current_address))\n",
      "/home/tt21642/dispyprob/pyprob/pyprob/nn/inference_network_lstm.py:137: UserWarning: Using prior. No proposal for address: 460__forward___traverse___traverse_rec___traverse_rec___traverse_rec___traverse_rec___traverse_rec___traverse_rec___traverse_rec___traverse_rec___traverse_rec___traverse_rec__draw_decay_L__TruncatedExponential__10\n",
      "  warnings.warn('Using prior. No proposal for address: {}'.format(current_address))\n",
      "/home/tt21642/dispyprob/pyprob/pyprob/nn/inference_network_lstm.py:107: UserWarning: Address of previous variable unknown by inference network: 460__forward___traverse___traverse_rec___traverse_rec___traverse_rec___traverse_rec___traverse_rec___traverse_rec___traverse_rec___traverse_rec___traverse_rec___traverse_rec__draw_decay_L__TruncatedExponential__10\n",
      "  warnings.warn('Address of previous variable unknown by inference network: {}'.format(prev_address))\n",
      "/home/tt21642/dispyprob/pyprob/pyprob/nn/inference_network_lstm.py:116: UserWarning: Address of current variable unknown by inference network: 510__forward___traverse___traverse_rec___traverse_rec___traverse_rec___traverse_rec___traverse_rec___traverse_rec___traverse_rec___traverse_rec___traverse_rec___traverse_rec__draw_decay_R__TruncatedExponential__10\n",
      "  warnings.warn('Address of current variable unknown by inference network: {}'.format(current_address))\n",
      "/home/tt21642/dispyprob/pyprob/pyprob/nn/inference_network_lstm.py:137: UserWarning: Using prior. No proposal for address: 510__forward___traverse___traverse_rec___traverse_rec___traverse_rec___traverse_rec___traverse_rec___traverse_rec___traverse_rec___traverse_rec___traverse_rec___traverse_rec__draw_decay_R__TruncatedExponential__10\n",
      "  warnings.warn('Using prior. No proposal for address: {}'.format(current_address))\n",
      "/home/tt21642/dispyprob/pyprob/pyprob/nn/inference_network_lstm.py:107: UserWarning: Address of previous variable unknown by inference network: 510__forward___traverse___traverse_rec___traverse_rec___traverse_rec___traverse_rec___traverse_rec___traverse_rec___traverse_rec___traverse_rec___traverse_rec___traverse_rec__draw_decay_R__TruncatedExponential__10\n",
      "  warnings.warn('Address of previous variable unknown by inference network: {}'.format(prev_address))\n",
      "/home/tt21642/dispyprob/pyprob/pyprob/nn/inference_network_lstm.py:137: UserWarning: Using prior. No proposal for address: 216__forward___traverse___traverse_rec___traverse_rec___traverse_rec___traverse_rec___traverse_rec___traverse_rec___traverse_rec___traverse_rec___traverse_rec__phi_CM__Uniform__10\n",
      "  warnings.warn('Using prior. No proposal for address: {}'.format(current_address))\n",
      "/home/tt21642/dispyprob/pyprob/pyprob/nn/inference_network_lstm.py:116: UserWarning: Address of current variable unknown by inference network: 216__forward___traverse___traverse_rec___traverse_rec___traverse_rec___traverse_rec___traverse_rec___traverse_rec___traverse_rec___traverse_rec___traverse_rec___traverse_rec__phi_CM__Uniform__11\n",
      "  warnings.warn('Address of current variable unknown by inference network: {}'.format(current_address))\n",
      "/home/tt21642/dispyprob/pyprob/pyprob/nn/inference_network_lstm.py:137: UserWarning: Using prior. No proposal for address: 216__forward___traverse___traverse_rec___traverse_rec___traverse_rec___traverse_rec___traverse_rec___traverse_rec___traverse_rec___traverse_rec___traverse_rec___traverse_rec__phi_CM__Uniform__11\n",
      "  warnings.warn('Using prior. No proposal for address: {}'.format(current_address))\n",
      "/home/tt21642/dispyprob/pyprob/pyprob/nn/inference_network_lstm.py:107: UserWarning: Address of previous variable unknown by inference network: 216__forward___traverse___traverse_rec___traverse_rec___traverse_rec___traverse_rec___traverse_rec___traverse_rec___traverse_rec___traverse_rec___traverse_rec___traverse_rec__phi_CM__Uniform__11\n",
      "  warnings.warn('Address of previous variable unknown by inference network: {}'.format(prev_address))\n",
      "/home/tt21642/dispyprob/pyprob/pyprob/nn/inference_network_lstm.py:116: UserWarning: Address of current variable unknown by inference network: 256__forward___traverse___traverse_rec___traverse_rec___traverse_rec___traverse_rec___traverse_rec___traverse_rec___traverse_rec___traverse_rec___traverse_rec___traverse_rec__theta_CM_U__Uniform__11\n",
      "  warnings.warn('Address of current variable unknown by inference network: {}'.format(current_address))\n",
      "/home/tt21642/dispyprob/pyprob/pyprob/nn/inference_network_lstm.py:137: UserWarning: Using prior. No proposal for address: 256__forward___traverse___traverse_rec___traverse_rec___traverse_rec___traverse_rec___traverse_rec___traverse_rec___traverse_rec___traverse_rec___traverse_rec___traverse_rec__theta_CM_U__Uniform__11\n",
      "  warnings.warn('Using prior. No proposal for address: {}'.format(current_address))\n",
      "/home/tt21642/dispyprob/pyprob/pyprob/nn/inference_network_lstm.py:107: UserWarning: Address of previous variable unknown by inference network: 256__forward___traverse___traverse_rec___traverse_rec___traverse_rec___traverse_rec___traverse_rec___traverse_rec___traverse_rec___traverse_rec___traverse_rec___traverse_rec__theta_CM_U__Uniform__11\n",
      "  warnings.warn('Address of previous variable unknown by inference network: {}'.format(prev_address))\n",
      "/home/tt21642/dispyprob/pyprob/pyprob/nn/inference_network_lstm.py:116: UserWarning: Address of current variable unknown by inference network: 460__forward___traverse___traverse_rec___traverse_rec___traverse_rec___traverse_rec___traverse_rec___traverse_rec___traverse_rec___traverse_rec___traverse_rec___traverse_rec__draw_decay_L__TruncatedExponential__11\n",
      "  warnings.warn('Address of current variable unknown by inference network: {}'.format(current_address))\n",
      "/home/tt21642/dispyprob/pyprob/pyprob/nn/inference_network_lstm.py:137: UserWarning: Using prior. No proposal for address: 460__forward___traverse___traverse_rec___traverse_rec___traverse_rec___traverse_rec___traverse_rec___traverse_rec___traverse_rec___traverse_rec___traverse_rec___traverse_rec__draw_decay_L__TruncatedExponential__11\n",
      "  warnings.warn('Using prior. No proposal for address: {}'.format(current_address))\n",
      "/home/tt21642/dispyprob/pyprob/pyprob/nn/inference_network_lstm.py:107: UserWarning: Address of previous variable unknown by inference network: 460__forward___traverse___traverse_rec___traverse_rec___traverse_rec___traverse_rec___traverse_rec___traverse_rec___traverse_rec___traverse_rec___traverse_rec___traverse_rec__draw_decay_L__TruncatedExponential__11\n",
      "  warnings.warn('Address of previous variable unknown by inference network: {}'.format(prev_address))\n",
      "/home/tt21642/dispyprob/pyprob/pyprob/nn/inference_network_lstm.py:116: UserWarning: Address of current variable unknown by inference network: 510__forward___traverse___traverse_rec___traverse_rec___traverse_rec___traverse_rec___traverse_rec___traverse_rec___traverse_rec___traverse_rec___traverse_rec___traverse_rec__draw_decay_R__TruncatedExponential__11\n",
      "  warnings.warn('Address of current variable unknown by inference network: {}'.format(current_address))\n",
      "/home/tt21642/dispyprob/pyprob/pyprob/nn/inference_network_lstm.py:137: UserWarning: Using prior. No proposal for address: 510__forward___traverse___traverse_rec___traverse_rec___traverse_rec___traverse_rec___traverse_rec___traverse_rec___traverse_rec___traverse_rec___traverse_rec___traverse_rec__draw_decay_R__TruncatedExponential__11\n",
      "  warnings.warn('Using prior. No proposal for address: {}'.format(current_address))\n",
      "/home/tt21642/dispyprob/pyprob/pyprob/nn/inference_network_lstm.py:107: UserWarning: Address of previous variable unknown by inference network: 510__forward___traverse___traverse_rec___traverse_rec___traverse_rec___traverse_rec___traverse_rec___traverse_rec___traverse_rec___traverse_rec___traverse_rec___traverse_rec__draw_decay_R__TruncatedExponential__11\n",
      "  warnings.warn('Address of previous variable unknown by inference network: {}'.format(prev_address))\n",
      "/home/tt21642/dispyprob/pyprob/pyprob/nn/inference_network_lstm.py:137: UserWarning: Using prior. No proposal for address: 216__forward___traverse___traverse_rec___traverse_rec___traverse_rec___traverse_rec___traverse_rec___traverse_rec___traverse_rec__phi_CM__Uniform__7\n",
      "  warnings.warn('Using prior. No proposal for address: {}'.format(current_address))\n",
      "/home/tt21642/dispyprob/pyprob/pyprob/nn/inference_network_lstm.py:116: UserWarning: Address of current variable unknown by inference network: 216__forward___traverse___traverse_rec___traverse_rec___traverse_rec___traverse_rec___traverse_rec___traverse_rec___traverse_rec___traverse_rec___traverse_rec__phi_CM__Uniform__12\n",
      "  warnings.warn('Address of current variable unknown by inference network: {}'.format(current_address))\n",
      "/home/tt21642/dispyprob/pyprob/pyprob/nn/inference_network_lstm.py:137: UserWarning: Using prior. No proposal for address: 216__forward___traverse___traverse_rec___traverse_rec___traverse_rec___traverse_rec___traverse_rec___traverse_rec___traverse_rec___traverse_rec___traverse_rec__phi_CM__Uniform__12\n",
      "  warnings.warn('Using prior. No proposal for address: {}'.format(current_address))\n",
      "/home/tt21642/dispyprob/pyprob/pyprob/nn/inference_network_lstm.py:107: UserWarning: Address of previous variable unknown by inference network: 216__forward___traverse___traverse_rec___traverse_rec___traverse_rec___traverse_rec___traverse_rec___traverse_rec___traverse_rec___traverse_rec___traverse_rec__phi_CM__Uniform__12\n",
      "  warnings.warn('Address of previous variable unknown by inference network: {}'.format(prev_address))\n",
      "/home/tt21642/dispyprob/pyprob/pyprob/nn/inference_network_lstm.py:116: UserWarning: Address of current variable unknown by inference network: 256__forward___traverse___traverse_rec___traverse_rec___traverse_rec___traverse_rec___traverse_rec___traverse_rec___traverse_rec___traverse_rec___traverse_rec__theta_CM_U__Uniform__12\n",
      "  warnings.warn('Address of current variable unknown by inference network: {}'.format(current_address))\n",
      "/home/tt21642/dispyprob/pyprob/pyprob/nn/inference_network_lstm.py:137: UserWarning: Using prior. No proposal for address: 256__forward___traverse___traverse_rec___traverse_rec___traverse_rec___traverse_rec___traverse_rec___traverse_rec___traverse_rec___traverse_rec___traverse_rec__theta_CM_U__Uniform__12\n",
      "  warnings.warn('Using prior. No proposal for address: {}'.format(current_address))\n",
      "/home/tt21642/dispyprob/pyprob/pyprob/nn/inference_network_lstm.py:107: UserWarning: Address of previous variable unknown by inference network: 256__forward___traverse___traverse_rec___traverse_rec___traverse_rec___traverse_rec___traverse_rec___traverse_rec___traverse_rec___traverse_rec___traverse_rec__theta_CM_U__Uniform__12\n",
      "  warnings.warn('Address of previous variable unknown by inference network: {}'.format(prev_address))\n",
      "/home/tt21642/dispyprob/pyprob/pyprob/nn/inference_network_lstm.py:116: UserWarning: Address of current variable unknown by inference network: 460__forward___traverse___traverse_rec___traverse_rec___traverse_rec___traverse_rec___traverse_rec___traverse_rec___traverse_rec___traverse_rec___traverse_rec__draw_decay_L__TruncatedExponential__12\n",
      "  warnings.warn('Address of current variable unknown by inference network: {}'.format(current_address))\n",
      "/home/tt21642/dispyprob/pyprob/pyprob/nn/inference_network_lstm.py:137: UserWarning: Using prior. No proposal for address: 460__forward___traverse___traverse_rec___traverse_rec___traverse_rec___traverse_rec___traverse_rec___traverse_rec___traverse_rec___traverse_rec___traverse_rec__draw_decay_L__TruncatedExponential__12\n",
      "  warnings.warn('Using prior. No proposal for address: {}'.format(current_address))\n",
      "/home/tt21642/dispyprob/pyprob/pyprob/nn/inference_network_lstm.py:107: UserWarning: Address of previous variable unknown by inference network: 460__forward___traverse___traverse_rec___traverse_rec___traverse_rec___traverse_rec___traverse_rec___traverse_rec___traverse_rec___traverse_rec___traverse_rec__draw_decay_L__TruncatedExponential__12\n",
      "  warnings.warn('Address of previous variable unknown by inference network: {}'.format(prev_address))\n",
      "/home/tt21642/dispyprob/pyprob/pyprob/nn/inference_network_lstm.py:116: UserWarning: Address of current variable unknown by inference network: 510__forward___traverse___traverse_rec___traverse_rec___traverse_rec___traverse_rec___traverse_rec___traverse_rec___traverse_rec___traverse_rec___traverse_rec__draw_decay_R__TruncatedExponential__12\n",
      "  warnings.warn('Address of current variable unknown by inference network: {}'.format(current_address))\n",
      "/home/tt21642/dispyprob/pyprob/pyprob/nn/inference_network_lstm.py:137: UserWarning: Using prior. No proposal for address: 510__forward___traverse___traverse_rec___traverse_rec___traverse_rec___traverse_rec___traverse_rec___traverse_rec___traverse_rec___traverse_rec___traverse_rec__draw_decay_R__TruncatedExponential__12\n",
      "  warnings.warn('Using prior. No proposal for address: {}'.format(current_address))\n",
      "/home/tt21642/dispyprob/pyprob/pyprob/nn/inference_network_lstm.py:107: UserWarning: Address of previous variable unknown by inference network: 510__forward___traverse___traverse_rec___traverse_rec___traverse_rec___traverse_rec___traverse_rec___traverse_rec___traverse_rec___traverse_rec___traverse_rec__draw_decay_R__TruncatedExponential__12\n",
      "  warnings.warn('Address of previous variable unknown by inference network: {}'.format(prev_address))\n",
      "/home/tt21642/dispyprob/pyprob/pyprob/nn/inference_network_lstm.py:116: UserWarning: Address of current variable unknown by inference network: 216__forward___traverse___traverse_rec___traverse_rec___traverse_rec___traverse_rec___traverse_rec___traverse_rec___traverse_rec___traverse_rec___traverse_rec___traverse_rec__phi_CM__Uniform__12\n",
      "  warnings.warn('Address of current variable unknown by inference network: {}'.format(current_address))\n",
      "/home/tt21642/dispyprob/pyprob/pyprob/nn/inference_network_lstm.py:137: UserWarning: Using prior. No proposal for address: 216__forward___traverse___traverse_rec___traverse_rec___traverse_rec___traverse_rec___traverse_rec___traverse_rec___traverse_rec___traverse_rec___traverse_rec___traverse_rec__phi_CM__Uniform__12\n",
      "  warnings.warn('Using prior. No proposal for address: {}'.format(current_address))\n",
      "/home/tt21642/dispyprob/pyprob/pyprob/nn/inference_network_lstm.py:107: UserWarning: Address of previous variable unknown by inference network: 216__forward___traverse___traverse_rec___traverse_rec___traverse_rec___traverse_rec___traverse_rec___traverse_rec___traverse_rec___traverse_rec___traverse_rec___traverse_rec__phi_CM__Uniform__12\n",
      "  warnings.warn('Address of previous variable unknown by inference network: {}'.format(prev_address))\n",
      "/home/tt21642/dispyprob/pyprob/pyprob/nn/inference_network_lstm.py:116: UserWarning: Address of current variable unknown by inference network: 256__forward___traverse___traverse_rec___traverse_rec___traverse_rec___traverse_rec___traverse_rec___traverse_rec___traverse_rec___traverse_rec___traverse_rec___traverse_rec__theta_CM_U__Uniform__12\n",
      "  warnings.warn('Address of current variable unknown by inference network: {}'.format(current_address))\n",
      "/home/tt21642/dispyprob/pyprob/pyprob/nn/inference_network_lstm.py:137: UserWarning: Using prior. No proposal for address: 256__forward___traverse___traverse_rec___traverse_rec___traverse_rec___traverse_rec___traverse_rec___traverse_rec___traverse_rec___traverse_rec___traverse_rec___traverse_rec__theta_CM_U__Uniform__12\n",
      "  warnings.warn('Using prior. No proposal for address: {}'.format(current_address))\n",
      "/home/tt21642/dispyprob/pyprob/pyprob/nn/inference_network_lstm.py:107: UserWarning: Address of previous variable unknown by inference network: 256__forward___traverse___traverse_rec___traverse_rec___traverse_rec___traverse_rec___traverse_rec___traverse_rec___traverse_rec___traverse_rec___traverse_rec___traverse_rec__theta_CM_U__Uniform__12\n",
      "  warnings.warn('Address of previous variable unknown by inference network: {}'.format(prev_address))\n",
      "/home/tt21642/dispyprob/pyprob/pyprob/nn/inference_network_lstm.py:116: UserWarning: Address of current variable unknown by inference network: 460__forward___traverse___traverse_rec___traverse_rec___traverse_rec___traverse_rec___traverse_rec___traverse_rec___traverse_rec___traverse_rec___traverse_rec___traverse_rec__draw_decay_L__TruncatedExponential__12\n",
      "  warnings.warn('Address of current variable unknown by inference network: {}'.format(current_address))\n",
      "/home/tt21642/dispyprob/pyprob/pyprob/nn/inference_network_lstm.py:137: UserWarning: Using prior. No proposal for address: 460__forward___traverse___traverse_rec___traverse_rec___traverse_rec___traverse_rec___traverse_rec___traverse_rec___traverse_rec___traverse_rec___traverse_rec___traverse_rec__draw_decay_L__TruncatedExponential__12\n",
      "  warnings.warn('Using prior. No proposal for address: {}'.format(current_address))\n",
      "/home/tt21642/dispyprob/pyprob/pyprob/nn/inference_network_lstm.py:107: UserWarning: Address of previous variable unknown by inference network: 460__forward___traverse___traverse_rec___traverse_rec___traverse_rec___traverse_rec___traverse_rec___traverse_rec___traverse_rec___traverse_rec___traverse_rec___traverse_rec__draw_decay_L__TruncatedExponential__12\n",
      "  warnings.warn('Address of previous variable unknown by inference network: {}'.format(prev_address))\n",
      "/home/tt21642/dispyprob/pyprob/pyprob/nn/inference_network_lstm.py:116: UserWarning: Address of current variable unknown by inference network: 510__forward___traverse___traverse_rec___traverse_rec___traverse_rec___traverse_rec___traverse_rec___traverse_rec___traverse_rec___traverse_rec___traverse_rec___traverse_rec__draw_decay_R__TruncatedExponential__12\n",
      "  warnings.warn('Address of current variable unknown by inference network: {}'.format(current_address))\n",
      "/home/tt21642/dispyprob/pyprob/pyprob/nn/inference_network_lstm.py:137: UserWarning: Using prior. No proposal for address: 510__forward___traverse___traverse_rec___traverse_rec___traverse_rec___traverse_rec___traverse_rec___traverse_rec___traverse_rec___traverse_rec___traverse_rec___traverse_rec__draw_decay_R__TruncatedExponential__12\n",
      "  warnings.warn('Using prior. No proposal for address: {}'.format(current_address))\n",
      "/home/tt21642/dispyprob/pyprob/pyprob/nn/inference_network_lstm.py:107: UserWarning: Address of previous variable unknown by inference network: 510__forward___traverse___traverse_rec___traverse_rec___traverse_rec___traverse_rec___traverse_rec___traverse_rec___traverse_rec___traverse_rec___traverse_rec___traverse_rec__draw_decay_R__TruncatedExponential__12\n",
      "  warnings.warn('Address of previous variable unknown by inference network: {}'.format(prev_address))\n",
      "/home/tt21642/dispyprob/pyprob/pyprob/nn/inference_network_lstm.py:137: UserWarning: Using prior. No proposal for address: 216__forward___traverse___traverse_rec___traverse_rec___traverse_rec___traverse_rec___traverse_rec___traverse_rec__phi_CM__Uniform__5\n",
      "  warnings.warn('Using prior. No proposal for address: {}'.format(current_address))\n",
      "/home/tt21642/dispyprob/pyprob/pyprob/nn/inference_network_lstm.py:116: UserWarning: Address of current variable unknown by inference network: 216__forward___traverse___traverse_rec___traverse_rec___traverse_rec___traverse_rec___traverse_rec___traverse_rec___traverse_rec___traverse_rec___traverse_rec__phi_CM__Uniform__13\n",
      "  warnings.warn('Address of current variable unknown by inference network: {}'.format(current_address))\n",
      "/home/tt21642/dispyprob/pyprob/pyprob/nn/inference_network_lstm.py:137: UserWarning: Using prior. No proposal for address: 216__forward___traverse___traverse_rec___traverse_rec___traverse_rec___traverse_rec___traverse_rec___traverse_rec___traverse_rec___traverse_rec___traverse_rec__phi_CM__Uniform__13\n",
      "  warnings.warn('Using prior. No proposal for address: {}'.format(current_address))\n",
      "/home/tt21642/dispyprob/pyprob/pyprob/nn/inference_network_lstm.py:107: UserWarning: Address of previous variable unknown by inference network: 216__forward___traverse___traverse_rec___traverse_rec___traverse_rec___traverse_rec___traverse_rec___traverse_rec___traverse_rec___traverse_rec___traverse_rec__phi_CM__Uniform__13\n",
      "  warnings.warn('Address of previous variable unknown by inference network: {}'.format(prev_address))\n",
      "/home/tt21642/dispyprob/pyprob/pyprob/nn/inference_network_lstm.py:116: UserWarning: Address of current variable unknown by inference network: 256__forward___traverse___traverse_rec___traverse_rec___traverse_rec___traverse_rec___traverse_rec___traverse_rec___traverse_rec___traverse_rec___traverse_rec__theta_CM_U__Uniform__13\n",
      "  warnings.warn('Address of current variable unknown by inference network: {}'.format(current_address))\n",
      "/home/tt21642/dispyprob/pyprob/pyprob/nn/inference_network_lstm.py:137: UserWarning: Using prior. No proposal for address: 256__forward___traverse___traverse_rec___traverse_rec___traverse_rec___traverse_rec___traverse_rec___traverse_rec___traverse_rec___traverse_rec___traverse_rec__theta_CM_U__Uniform__13\n",
      "  warnings.warn('Using prior. No proposal for address: {}'.format(current_address))\n",
      "/home/tt21642/dispyprob/pyprob/pyprob/nn/inference_network_lstm.py:107: UserWarning: Address of previous variable unknown by inference network: 256__forward___traverse___traverse_rec___traverse_rec___traverse_rec___traverse_rec___traverse_rec___traverse_rec___traverse_rec___traverse_rec___traverse_rec__theta_CM_U__Uniform__13\n",
      "  warnings.warn('Address of previous variable unknown by inference network: {}'.format(prev_address))\n",
      "/home/tt21642/dispyprob/pyprob/pyprob/nn/inference_network_lstm.py:116: UserWarning: Address of current variable unknown by inference network: 460__forward___traverse___traverse_rec___traverse_rec___traverse_rec___traverse_rec___traverse_rec___traverse_rec___traverse_rec___traverse_rec___traverse_rec__draw_decay_L__TruncatedExponential__13\n",
      "  warnings.warn('Address of current variable unknown by inference network: {}'.format(current_address))\n",
      "/home/tt21642/dispyprob/pyprob/pyprob/nn/inference_network_lstm.py:137: UserWarning: Using prior. No proposal for address: 460__forward___traverse___traverse_rec___traverse_rec___traverse_rec___traverse_rec___traverse_rec___traverse_rec___traverse_rec___traverse_rec___traverse_rec__draw_decay_L__TruncatedExponential__13\n",
      "  warnings.warn('Using prior. No proposal for address: {}'.format(current_address))\n",
      "/home/tt21642/dispyprob/pyprob/pyprob/nn/inference_network_lstm.py:107: UserWarning: Address of previous variable unknown by inference network: 460__forward___traverse___traverse_rec___traverse_rec___traverse_rec___traverse_rec___traverse_rec___traverse_rec___traverse_rec___traverse_rec___traverse_rec__draw_decay_L__TruncatedExponential__13\n",
      "  warnings.warn('Address of previous variable unknown by inference network: {}'.format(prev_address))\n",
      "/home/tt21642/dispyprob/pyprob/pyprob/nn/inference_network_lstm.py:116: UserWarning: Address of current variable unknown by inference network: 510__forward___traverse___traverse_rec___traverse_rec___traverse_rec___traverse_rec___traverse_rec___traverse_rec___traverse_rec___traverse_rec___traverse_rec__draw_decay_R__TruncatedExponential__13\n",
      "  warnings.warn('Address of current variable unknown by inference network: {}'.format(current_address))\n",
      "/home/tt21642/dispyprob/pyprob/pyprob/nn/inference_network_lstm.py:137: UserWarning: Using prior. No proposal for address: 510__forward___traverse___traverse_rec___traverse_rec___traverse_rec___traverse_rec___traverse_rec___traverse_rec___traverse_rec___traverse_rec___traverse_rec__draw_decay_R__TruncatedExponential__13\n",
      "  warnings.warn('Using prior. No proposal for address: {}'.format(current_address))\n",
      "/home/tt21642/dispyprob/pyprob/pyprob/nn/inference_network_lstm.py:107: UserWarning: Address of previous variable unknown by inference network: 510__forward___traverse___traverse_rec___traverse_rec___traverse_rec___traverse_rec___traverse_rec___traverse_rec___traverse_rec___traverse_rec___traverse_rec__draw_decay_R__TruncatedExponential__13\n",
      "  warnings.warn('Address of previous variable unknown by inference network: {}'.format(prev_address))\n",
      "/home/tt21642/dispyprob/pyprob/pyprob/nn/inference_network_lstm.py:137: UserWarning: Using prior. No proposal for address: 216__forward___traverse___traverse_rec___traverse_rec___traverse_rec__phi_CM__Uniform__2\n",
      "  warnings.warn('Using prior. No proposal for address: {}'.format(current_address))\n"
     ]
    },
    {
     "name": "stdout",
     "output_type": "stream",
     "text": [
      "0d:00:00:26 | 0d:03:43:07 | -------------------- |    2/1000 |   1.00 | 0.07       \r"
     ]
    },
    {
     "name": "stderr",
     "output_type": "stream",
     "text": [
      "/home/tt21642/dispyprob/pyprob/pyprob/nn/inference_network_lstm.py:137: UserWarning: Using prior. No proposal for address: 216__forward___traverse___traverse_rec___traverse_rec___traverse_rec___traverse_rec___traverse_rec___traverse_rec___traverse_rec___traverse_rec___traverse_rec___traverse_rec__phi_CM__Uniform__2\n",
      "  warnings.warn('Using prior. No proposal for address: {}'.format(current_address))\n"
     ]
    },
    {
     "name": "stdout",
     "output_type": "stream",
     "text": [
      "0d:00:00:55 | 0d:03:52:09 | -------------------- |    4/1000 |   1.00 | 0.07       \r"
     ]
    },
    {
     "name": "stderr",
     "output_type": "stream",
     "text": [
      "/home/tt21642/dispyprob/pyprob/pyprob/nn/inference_network_lstm.py:137: UserWarning: Using prior. No proposal for address: 216__forward___traverse___traverse_rec___traverse_rec___traverse_rec___traverse_rec___traverse_rec___traverse_rec___traverse_rec___traverse_rec___traverse_rec___traverse_rec__phi_CM__Uniform__8\n",
      "  warnings.warn('Using prior. No proposal for address: {}'.format(current_address))\n",
      "/home/tt21642/dispyprob/pyprob/pyprob/nn/inference_network_lstm.py:137: UserWarning: Using prior. No proposal for address: 216__forward___traverse___traverse_rec___traverse_rec___traverse_rec___traverse_rec___traverse_rec___traverse_rec___traverse_rec__phi_CM__Uniform__12\n",
      "  warnings.warn('Using prior. No proposal for address: {}'.format(current_address))\n",
      "/home/tt21642/dispyprob/pyprob/pyprob/nn/inference_network_lstm.py:137: UserWarning: Using prior. No proposal for address: 216__forward___traverse___traverse_rec___traverse_rec___traverse_rec__phi_CM__Uniform__4\n",
      "  warnings.warn('Using prior. No proposal for address: {}'.format(current_address))\n"
     ]
    },
    {
     "name": "stdout",
     "output_type": "stream",
     "text": [
      "0d:00:01:11 | 0d:03:58:28 | -------------------- |    5/1000 |   1.00 | 0.07       \r"
     ]
    },
    {
     "name": "stderr",
     "output_type": "stream",
     "text": [
      "/home/tt21642/dispyprob/pyprob/pyprob/nn/inference_network_lstm.py:116: UserWarning: Address of current variable unknown by inference network: 216__forward___traverse___traverse_rec___traverse_rec___traverse_rec___traverse_rec___traverse_rec___traverse_rec___traverse_rec___traverse_rec___traverse_rec___traverse_rec___traverse_rec__phi_CM__Uniform__9\n",
      "  warnings.warn('Address of current variable unknown by inference network: {}'.format(current_address))\n",
      "/home/tt21642/dispyprob/pyprob/pyprob/nn/inference_network_lstm.py:137: UserWarning: Using prior. No proposal for address: 216__forward___traverse___traverse_rec___traverse_rec___traverse_rec___traverse_rec___traverse_rec___traverse_rec___traverse_rec___traverse_rec___traverse_rec___traverse_rec___traverse_rec__phi_CM__Uniform__9\n",
      "  warnings.warn('Using prior. No proposal for address: {}'.format(current_address))\n",
      "/home/tt21642/dispyprob/pyprob/pyprob/nn/inference_network_lstm.py:107: UserWarning: Address of previous variable unknown by inference network: 216__forward___traverse___traverse_rec___traverse_rec___traverse_rec___traverse_rec___traverse_rec___traverse_rec___traverse_rec___traverse_rec___traverse_rec___traverse_rec___traverse_rec__phi_CM__Uniform__9\n",
      "  warnings.warn('Address of previous variable unknown by inference network: {}'.format(prev_address))\n",
      "/home/tt21642/dispyprob/pyprob/pyprob/nn/inference_network_lstm.py:116: UserWarning: Address of current variable unknown by inference network: 256__forward___traverse___traverse_rec___traverse_rec___traverse_rec___traverse_rec___traverse_rec___traverse_rec___traverse_rec___traverse_rec___traverse_rec___traverse_rec___traverse_rec__theta_CM_U__Uniform__9\n",
      "  warnings.warn('Address of current variable unknown by inference network: {}'.format(current_address))\n",
      "/home/tt21642/dispyprob/pyprob/pyprob/nn/inference_network_lstm.py:137: UserWarning: Using prior. No proposal for address: 256__forward___traverse___traverse_rec___traverse_rec___traverse_rec___traverse_rec___traverse_rec___traverse_rec___traverse_rec___traverse_rec___traverse_rec___traverse_rec___traverse_rec__theta_CM_U__Uniform__9\n",
      "  warnings.warn('Using prior. No proposal for address: {}'.format(current_address))\n",
      "/home/tt21642/dispyprob/pyprob/pyprob/nn/inference_network_lstm.py:107: UserWarning: Address of previous variable unknown by inference network: 256__forward___traverse___traverse_rec___traverse_rec___traverse_rec___traverse_rec___traverse_rec___traverse_rec___traverse_rec___traverse_rec___traverse_rec___traverse_rec___traverse_rec__theta_CM_U__Uniform__9\n",
      "  warnings.warn('Address of previous variable unknown by inference network: {}'.format(prev_address))\n",
      "/home/tt21642/dispyprob/pyprob/pyprob/nn/inference_network_lstm.py:116: UserWarning: Address of current variable unknown by inference network: 460__forward___traverse___traverse_rec___traverse_rec___traverse_rec___traverse_rec___traverse_rec___traverse_rec___traverse_rec___traverse_rec___traverse_rec___traverse_rec___traverse_rec__draw_decay_L__TruncatedExponential__9\n",
      "  warnings.warn('Address of current variable unknown by inference network: {}'.format(current_address))\n",
      "/home/tt21642/dispyprob/pyprob/pyprob/nn/inference_network_lstm.py:137: UserWarning: Using prior. No proposal for address: 460__forward___traverse___traverse_rec___traverse_rec___traverse_rec___traverse_rec___traverse_rec___traverse_rec___traverse_rec___traverse_rec___traverse_rec___traverse_rec___traverse_rec__draw_decay_L__TruncatedExponential__9\n",
      "  warnings.warn('Using prior. No proposal for address: {}'.format(current_address))\n",
      "/home/tt21642/dispyprob/pyprob/pyprob/nn/inference_network_lstm.py:107: UserWarning: Address of previous variable unknown by inference network: 460__forward___traverse___traverse_rec___traverse_rec___traverse_rec___traverse_rec___traverse_rec___traverse_rec___traverse_rec___traverse_rec___traverse_rec___traverse_rec___traverse_rec__draw_decay_L__TruncatedExponential__9\n",
      "  warnings.warn('Address of previous variable unknown by inference network: {}'.format(prev_address))\n",
      "/home/tt21642/dispyprob/pyprob/pyprob/nn/inference_network_lstm.py:116: UserWarning: Address of current variable unknown by inference network: 510__forward___traverse___traverse_rec___traverse_rec___traverse_rec___traverse_rec___traverse_rec___traverse_rec___traverse_rec___traverse_rec___traverse_rec___traverse_rec___traverse_rec__draw_decay_R__TruncatedExponential__9\n",
      "  warnings.warn('Address of current variable unknown by inference network: {}'.format(current_address))\n",
      "/home/tt21642/dispyprob/pyprob/pyprob/nn/inference_network_lstm.py:137: UserWarning: Using prior. No proposal for address: 510__forward___traverse___traverse_rec___traverse_rec___traverse_rec___traverse_rec___traverse_rec___traverse_rec___traverse_rec___traverse_rec___traverse_rec___traverse_rec___traverse_rec__draw_decay_R__TruncatedExponential__9\n",
      "  warnings.warn('Using prior. No proposal for address: {}'.format(current_address))\n",
      "/home/tt21642/dispyprob/pyprob/pyprob/nn/inference_network_lstm.py:107: UserWarning: Address of previous variable unknown by inference network: 510__forward___traverse___traverse_rec___traverse_rec___traverse_rec___traverse_rec___traverse_rec___traverse_rec___traverse_rec___traverse_rec___traverse_rec___traverse_rec___traverse_rec__draw_decay_R__TruncatedExponential__9\n",
      "  warnings.warn('Address of previous variable unknown by inference network: {}'.format(prev_address))\n",
      "/home/tt21642/dispyprob/pyprob/pyprob/nn/inference_network_lstm.py:137: UserWarning: Using prior. No proposal for address: 216__forward___traverse___traverse_rec___traverse_rec___traverse_rec___traverse_rec___traverse_rec__phi_CM__Uniform__6\n",
      "  warnings.warn('Using prior. No proposal for address: {}'.format(current_address))\n",
      "/home/tt21642/dispyprob/pyprob/pyprob/nn/inference_network_lstm.py:116: UserWarning: Address of current variable unknown by inference network: 216__forward___traverse___traverse_rec___traverse_rec___traverse_rec___traverse_rec___traverse_rec___traverse_rec___traverse_rec___traverse_rec___traverse_rec___traverse_rec___traverse_rec__phi_CM__Uniform__10\n",
      "  warnings.warn('Address of current variable unknown by inference network: {}'.format(current_address))\n",
      "/home/tt21642/dispyprob/pyprob/pyprob/nn/inference_network_lstm.py:137: UserWarning: Using prior. No proposal for address: 216__forward___traverse___traverse_rec___traverse_rec___traverse_rec___traverse_rec___traverse_rec___traverse_rec___traverse_rec___traverse_rec___traverse_rec___traverse_rec___traverse_rec__phi_CM__Uniform__10\n",
      "  warnings.warn('Using prior. No proposal for address: {}'.format(current_address))\n",
      "/home/tt21642/dispyprob/pyprob/pyprob/nn/inference_network_lstm.py:107: UserWarning: Address of previous variable unknown by inference network: 216__forward___traverse___traverse_rec___traverse_rec___traverse_rec___traverse_rec___traverse_rec___traverse_rec___traverse_rec___traverse_rec___traverse_rec___traverse_rec___traverse_rec__phi_CM__Uniform__10\n",
      "  warnings.warn('Address of previous variable unknown by inference network: {}'.format(prev_address))\n",
      "/home/tt21642/dispyprob/pyprob/pyprob/nn/inference_network_lstm.py:116: UserWarning: Address of current variable unknown by inference network: 256__forward___traverse___traverse_rec___traverse_rec___traverse_rec___traverse_rec___traverse_rec___traverse_rec___traverse_rec___traverse_rec___traverse_rec___traverse_rec___traverse_rec__theta_CM_U__Uniform__10\n",
      "  warnings.warn('Address of current variable unknown by inference network: {}'.format(current_address))\n",
      "/home/tt21642/dispyprob/pyprob/pyprob/nn/inference_network_lstm.py:137: UserWarning: Using prior. No proposal for address: 256__forward___traverse___traverse_rec___traverse_rec___traverse_rec___traverse_rec___traverse_rec___traverse_rec___traverse_rec___traverse_rec___traverse_rec___traverse_rec___traverse_rec__theta_CM_U__Uniform__10\n",
      "  warnings.warn('Using prior. No proposal for address: {}'.format(current_address))\n",
      "/home/tt21642/dispyprob/pyprob/pyprob/nn/inference_network_lstm.py:107: UserWarning: Address of previous variable unknown by inference network: 256__forward___traverse___traverse_rec___traverse_rec___traverse_rec___traverse_rec___traverse_rec___traverse_rec___traverse_rec___traverse_rec___traverse_rec___traverse_rec___traverse_rec__theta_CM_U__Uniform__10\n",
      "  warnings.warn('Address of previous variable unknown by inference network: {}'.format(prev_address))\n",
      "/home/tt21642/dispyprob/pyprob/pyprob/nn/inference_network_lstm.py:116: UserWarning: Address of current variable unknown by inference network: 460__forward___traverse___traverse_rec___traverse_rec___traverse_rec___traverse_rec___traverse_rec___traverse_rec___traverse_rec___traverse_rec___traverse_rec___traverse_rec___traverse_rec__draw_decay_L__TruncatedExponential__10\n",
      "  warnings.warn('Address of current variable unknown by inference network: {}'.format(current_address))\n",
      "/home/tt21642/dispyprob/pyprob/pyprob/nn/inference_network_lstm.py:137: UserWarning: Using prior. No proposal for address: 460__forward___traverse___traverse_rec___traverse_rec___traverse_rec___traverse_rec___traverse_rec___traverse_rec___traverse_rec___traverse_rec___traverse_rec___traverse_rec___traverse_rec__draw_decay_L__TruncatedExponential__10\n",
      "  warnings.warn('Using prior. No proposal for address: {}'.format(current_address))\n",
      "/home/tt21642/dispyprob/pyprob/pyprob/nn/inference_network_lstm.py:107: UserWarning: Address of previous variable unknown by inference network: 460__forward___traverse___traverse_rec___traverse_rec___traverse_rec___traverse_rec___traverse_rec___traverse_rec___traverse_rec___traverse_rec___traverse_rec___traverse_rec___traverse_rec__draw_decay_L__TruncatedExponential__10\n",
      "  warnings.warn('Address of previous variable unknown by inference network: {}'.format(prev_address))\n",
      "/home/tt21642/dispyprob/pyprob/pyprob/nn/inference_network_lstm.py:116: UserWarning: Address of current variable unknown by inference network: 510__forward___traverse___traverse_rec___traverse_rec___traverse_rec___traverse_rec___traverse_rec___traverse_rec___traverse_rec___traverse_rec___traverse_rec___traverse_rec___traverse_rec__draw_decay_R__TruncatedExponential__10\n",
      "  warnings.warn('Address of current variable unknown by inference network: {}'.format(current_address))\n",
      "/home/tt21642/dispyprob/pyprob/pyprob/nn/inference_network_lstm.py:137: UserWarning: Using prior. No proposal for address: 510__forward___traverse___traverse_rec___traverse_rec___traverse_rec___traverse_rec___traverse_rec___traverse_rec___traverse_rec___traverse_rec___traverse_rec___traverse_rec___traverse_rec__draw_decay_R__TruncatedExponential__10\n",
      "  warnings.warn('Using prior. No proposal for address: {}'.format(current_address))\n",
      "/home/tt21642/dispyprob/pyprob/pyprob/nn/inference_network_lstm.py:107: UserWarning: Address of previous variable unknown by inference network: 510__forward___traverse___traverse_rec___traverse_rec___traverse_rec___traverse_rec___traverse_rec___traverse_rec___traverse_rec___traverse_rec___traverse_rec___traverse_rec___traverse_rec__draw_decay_R__TruncatedExponential__10\n",
      "  warnings.warn('Address of previous variable unknown by inference network: {}'.format(prev_address))\n"
     ]
    },
    {
     "name": "stdout",
     "output_type": "stream",
     "text": [
      "0d:00:01:45 | 0d:04:52:44 | -------------------- |    6/1000 |   1.00 | 0.06       \r"
     ]
    },
    {
     "name": "stderr",
     "output_type": "stream",
     "text": [
      "/home/tt21642/dispyprob/pyprob/pyprob/nn/inference_network_lstm.py:116: UserWarning: Address of current variable unknown by inference network: 216__forward___traverse___traverse_rec___traverse_rec___traverse_rec___traverse_rec___traverse_rec___traverse_rec___traverse_rec___traverse_rec___traverse_rec___traverse_rec___traverse_rec___traverse_rec__phi_CM__Uniform__7\n",
      "  warnings.warn('Address of current variable unknown by inference network: {}'.format(current_address))\n",
      "/home/tt21642/dispyprob/pyprob/pyprob/nn/inference_network_lstm.py:137: UserWarning: Using prior. No proposal for address: 216__forward___traverse___traverse_rec___traverse_rec___traverse_rec___traverse_rec___traverse_rec___traverse_rec___traverse_rec___traverse_rec___traverse_rec___traverse_rec___traverse_rec___traverse_rec__phi_CM__Uniform__7\n",
      "  warnings.warn('Using prior. No proposal for address: {}'.format(current_address))\n",
      "/home/tt21642/dispyprob/pyprob/pyprob/nn/inference_network_lstm.py:107: UserWarning: Address of previous variable unknown by inference network: 216__forward___traverse___traverse_rec___traverse_rec___traverse_rec___traverse_rec___traverse_rec___traverse_rec___traverse_rec___traverse_rec___traverse_rec___traverse_rec___traverse_rec___traverse_rec__phi_CM__Uniform__7\n",
      "  warnings.warn('Address of previous variable unknown by inference network: {}'.format(prev_address))\n",
      "/home/tt21642/dispyprob/pyprob/pyprob/nn/inference_network_lstm.py:116: UserWarning: Address of current variable unknown by inference network: 256__forward___traverse___traverse_rec___traverse_rec___traverse_rec___traverse_rec___traverse_rec___traverse_rec___traverse_rec___traverse_rec___traverse_rec___traverse_rec___traverse_rec___traverse_rec__theta_CM_U__Uniform__7\n",
      "  warnings.warn('Address of current variable unknown by inference network: {}'.format(current_address))\n",
      "/home/tt21642/dispyprob/pyprob/pyprob/nn/inference_network_lstm.py:137: UserWarning: Using prior. No proposal for address: 256__forward___traverse___traverse_rec___traverse_rec___traverse_rec___traverse_rec___traverse_rec___traverse_rec___traverse_rec___traverse_rec___traverse_rec___traverse_rec___traverse_rec___traverse_rec__theta_CM_U__Uniform__7\n",
      "  warnings.warn('Using prior. No proposal for address: {}'.format(current_address))\n",
      "/home/tt21642/dispyprob/pyprob/pyprob/nn/inference_network_lstm.py:107: UserWarning: Address of previous variable unknown by inference network: 256__forward___traverse___traverse_rec___traverse_rec___traverse_rec___traverse_rec___traverse_rec___traverse_rec___traverse_rec___traverse_rec___traverse_rec___traverse_rec___traverse_rec___traverse_rec__theta_CM_U__Uniform__7\n",
      "  warnings.warn('Address of previous variable unknown by inference network: {}'.format(prev_address))\n",
      "/home/tt21642/dispyprob/pyprob/pyprob/nn/inference_network_lstm.py:116: UserWarning: Address of current variable unknown by inference network: 460__forward___traverse___traverse_rec___traverse_rec___traverse_rec___traverse_rec___traverse_rec___traverse_rec___traverse_rec___traverse_rec___traverse_rec___traverse_rec___traverse_rec___traverse_rec__draw_decay_L__TruncatedExponential__7\n",
      "  warnings.warn('Address of current variable unknown by inference network: {}'.format(current_address))\n",
      "/home/tt21642/dispyprob/pyprob/pyprob/nn/inference_network_lstm.py:137: UserWarning: Using prior. No proposal for address: 460__forward___traverse___traverse_rec___traverse_rec___traverse_rec___traverse_rec___traverse_rec___traverse_rec___traverse_rec___traverse_rec___traverse_rec___traverse_rec___traverse_rec___traverse_rec__draw_decay_L__TruncatedExponential__7\n",
      "  warnings.warn('Using prior. No proposal for address: {}'.format(current_address))\n",
      "/home/tt21642/dispyprob/pyprob/pyprob/nn/inference_network_lstm.py:107: UserWarning: Address of previous variable unknown by inference network: 460__forward___traverse___traverse_rec___traverse_rec___traverse_rec___traverse_rec___traverse_rec___traverse_rec___traverse_rec___traverse_rec___traverse_rec___traverse_rec___traverse_rec___traverse_rec__draw_decay_L__TruncatedExponential__7\n",
      "  warnings.warn('Address of previous variable unknown by inference network: {}'.format(prev_address))\n",
      "/home/tt21642/dispyprob/pyprob/pyprob/nn/inference_network_lstm.py:116: UserWarning: Address of current variable unknown by inference network: 510__forward___traverse___traverse_rec___traverse_rec___traverse_rec___traverse_rec___traverse_rec___traverse_rec___traverse_rec___traverse_rec___traverse_rec___traverse_rec___traverse_rec___traverse_rec__draw_decay_R__TruncatedExponential__7\n",
      "  warnings.warn('Address of current variable unknown by inference network: {}'.format(current_address))\n",
      "/home/tt21642/dispyprob/pyprob/pyprob/nn/inference_network_lstm.py:137: UserWarning: Using prior. No proposal for address: 510__forward___traverse___traverse_rec___traverse_rec___traverse_rec___traverse_rec___traverse_rec___traverse_rec___traverse_rec___traverse_rec___traverse_rec___traverse_rec___traverse_rec___traverse_rec__draw_decay_R__TruncatedExponential__7\n",
      "  warnings.warn('Using prior. No proposal for address: {}'.format(current_address))\n",
      "/home/tt21642/dispyprob/pyprob/pyprob/nn/inference_network_lstm.py:107: UserWarning: Address of previous variable unknown by inference network: 510__forward___traverse___traverse_rec___traverse_rec___traverse_rec___traverse_rec___traverse_rec___traverse_rec___traverse_rec___traverse_rec___traverse_rec___traverse_rec___traverse_rec___traverse_rec__draw_decay_R__TruncatedExponential__7\n",
      "  warnings.warn('Address of previous variable unknown by inference network: {}'.format(prev_address))\n",
      "/home/tt21642/dispyprob/pyprob/pyprob/nn/inference_network_lstm.py:137: UserWarning: Using prior. No proposal for address: 216__forward___traverse___traverse_rec___traverse_rec___traverse_rec___traverse_rec___traverse_rec___traverse_rec___traverse_rec___traverse_rec___traverse_rec__phi_CM__Uniform__7\n",
      "  warnings.warn('Using prior. No proposal for address: {}'.format(current_address))\n",
      "/home/tt21642/dispyprob/pyprob/pyprob/nn/inference_network_lstm.py:137: UserWarning: Using prior. No proposal for address: 216__forward___traverse___traverse_rec___traverse_rec___traverse_rec___traverse_rec___traverse_rec___traverse_rec___traverse_rec___traverse_rec___traverse_rec___traverse_rec___traverse_rec__phi_CM__Uniform__8\n",
      "  warnings.warn('Using prior. No proposal for address: {}'.format(current_address))\n",
      "/home/tt21642/dispyprob/pyprob/pyprob/nn/inference_network_lstm.py:137: UserWarning: Using prior. No proposal for address: 216__forward___traverse___traverse_rec___traverse_rec___traverse_rec___traverse_rec___traverse_rec___traverse_rec__phi_CM__Uniform__4\n",
      "  warnings.warn('Using prior. No proposal for address: {}'.format(current_address))\n",
      "/home/tt21642/dispyprob/pyprob/pyprob/nn/inference_network_lstm.py:137: UserWarning: Using prior. No proposal for address: 216__forward___traverse___traverse_rec___traverse_rec___traverse_rec___traverse_rec___traverse_rec___traverse_rec___traverse_rec__phi_CM__Uniform__8\n",
      "  warnings.warn('Using prior. No proposal for address: {}'.format(current_address))\n"
     ]
    },
    {
     "name": "stdout",
     "output_type": "stream",
     "text": [
      "0d:00:02:58 | 0d:05:28:15 | -------------------- |    9/1000 |   1.00 | 0.05       \r"
     ]
    },
    {
     "name": "stderr",
     "output_type": "stream",
     "text": [
      "/home/tt21642/dispyprob/pyprob/pyprob/nn/inference_network_lstm.py:137: UserWarning: Using prior. No proposal for address: 216__forward___traverse___traverse_rec___traverse_rec___traverse_rec___traverse_rec___traverse_rec___traverse_rec___traverse_rec___traverse_rec___traverse_rec___traverse_rec__phi_CM__Uniform__9\n",
      "  warnings.warn('Using prior. No proposal for address: {}'.format(current_address))\n",
      "/home/tt21642/dispyprob/pyprob/pyprob/nn/inference_network_lstm.py:137: UserWarning: Using prior. No proposal for address: 216__forward___traverse___traverse_rec___traverse_rec___traverse_rec___traverse_rec___traverse_rec___traverse_rec___traverse_rec__phi_CM__Uniform__11\n",
      "  warnings.warn('Using prior. No proposal for address: {}'.format(current_address))\n",
      "/home/tt21642/dispyprob/pyprob/pyprob/nn/inference_network_lstm.py:137: UserWarning: Using prior. No proposal for address: 216__forward___traverse___traverse_rec___traverse_rec___traverse_rec___traverse_rec___traverse_rec___traverse_rec__phi_CM__Uniform__8\n",
      "  warnings.warn('Using prior. No proposal for address: {}'.format(current_address))\n"
     ]
    },
    {
     "name": "stdout",
     "output_type": "stream",
     "text": [
      "0d:00:03:43 | 0d:05:34:58 | -------------------- |   11/1000 |   1.00 | 0.05       \r"
     ]
    },
    {
     "name": "stderr",
     "output_type": "stream",
     "text": [
      "/home/tt21642/dispyprob/pyprob/pyprob/nn/inference_network_lstm.py:137: UserWarning: Using prior. No proposal for address: 216__forward___traverse___traverse_rec___traverse_rec___traverse_rec___traverse_rec___traverse_rec___traverse_rec__phi_CM__Uniform__7\n",
      "  warnings.warn('Using prior. No proposal for address: {}'.format(current_address))\n",
      "/home/tt21642/dispyprob/pyprob/pyprob/nn/inference_network_lstm.py:116: UserWarning: Address of current variable unknown by inference network: 510__forward___traverse___traverse_rec___traverse_rec__draw_decay_R__TruncatedExponential__3\n",
      "  warnings.warn('Address of current variable unknown by inference network: {}'.format(current_address))\n",
      "/home/tt21642/dispyprob/pyprob/pyprob/nn/inference_network_lstm.py:137: UserWarning: Using prior. No proposal for address: 510__forward___traverse___traverse_rec___traverse_rec__draw_decay_R__TruncatedExponential__3\n",
      "  warnings.warn('Using prior. No proposal for address: {}'.format(current_address))\n",
      "/home/tt21642/dispyprob/pyprob/pyprob/nn/inference_network_lstm.py:107: UserWarning: Address of previous variable unknown by inference network: 510__forward___traverse___traverse_rec___traverse_rec__draw_decay_R__TruncatedExponential__3\n",
      "  warnings.warn('Address of previous variable unknown by inference network: {}'.format(prev_address))\n",
      "/home/tt21642/dispyprob/pyprob/pyprob/nn/inference_network_lstm.py:137: UserWarning: Using prior. No proposal for address: 216__forward___traverse___traverse_rec___traverse_rec___traverse_rec__phi_CM__Uniform__3\n",
      "  warnings.warn('Using prior. No proposal for address: {}'.format(current_address))\n"
     ]
    },
    {
     "name": "stdout",
     "output_type": "stream",
     "text": [
      "0d:00:04:12 | 0d:05:46:11 | -------------------- |   12/1000 |   1.00 | 0.05       \r"
     ]
    },
    {
     "name": "stderr",
     "output_type": "stream",
     "text": [
      "/home/tt21642/dispyprob/pyprob/pyprob/nn/inference_network_lstm.py:137: UserWarning: Using prior. No proposal for address: 216__forward___traverse___traverse_rec___traverse_rec___traverse_rec___traverse_rec___traverse_rec___traverse_rec___traverse_rec___traverse_rec___traverse_rec___traverse_rec__phi_CM__Uniform__7\n",
      "  warnings.warn('Using prior. No proposal for address: {}'.format(current_address))\n"
     ]
    },
    {
     "name": "stdout",
     "output_type": "stream",
     "text": [
      "0d:00:05:23 | 0d:05:11:49 | -------------------- |   17/1000 |   1.00 | 0.05       \r"
     ]
    },
    {
     "name": "stderr",
     "output_type": "stream",
     "text": [
      "/home/tt21642/dispyprob/pyprob/pyprob/nn/inference_network_lstm.py:116: UserWarning: Address of current variable unknown by inference network: 216__forward___traverse___traverse_rec___traverse_rec___traverse_rec___traverse_rec___traverse_rec___traverse_rec___traverse_rec___traverse_rec___traverse_rec___traverse_rec___traverse_rec___traverse_rec___traverse_rec___traverse_rec__phi_CM__Uniform__5\n",
      "  warnings.warn('Address of current variable unknown by inference network: {}'.format(current_address))\n",
      "/home/tt21642/dispyprob/pyprob/pyprob/nn/inference_network_lstm.py:137: UserWarning: Using prior. No proposal for address: 216__forward___traverse___traverse_rec___traverse_rec___traverse_rec___traverse_rec___traverse_rec___traverse_rec___traverse_rec___traverse_rec___traverse_rec___traverse_rec___traverse_rec___traverse_rec___traverse_rec___traverse_rec__phi_CM__Uniform__5\n",
      "  warnings.warn('Using prior. No proposal for address: {}'.format(current_address))\n",
      "/home/tt21642/dispyprob/pyprob/pyprob/nn/inference_network_lstm.py:107: UserWarning: Address of previous variable unknown by inference network: 216__forward___traverse___traverse_rec___traverse_rec___traverse_rec___traverse_rec___traverse_rec___traverse_rec___traverse_rec___traverse_rec___traverse_rec___traverse_rec___traverse_rec___traverse_rec___traverse_rec___traverse_rec__phi_CM__Uniform__5\n",
      "  warnings.warn('Address of previous variable unknown by inference network: {}'.format(prev_address))\n",
      "/home/tt21642/dispyprob/pyprob/pyprob/nn/inference_network_lstm.py:116: UserWarning: Address of current variable unknown by inference network: 256__forward___traverse___traverse_rec___traverse_rec___traverse_rec___traverse_rec___traverse_rec___traverse_rec___traverse_rec___traverse_rec___traverse_rec___traverse_rec___traverse_rec___traverse_rec___traverse_rec___traverse_rec__theta_CM_U__Uniform__5\n",
      "  warnings.warn('Address of current variable unknown by inference network: {}'.format(current_address))\n",
      "/home/tt21642/dispyprob/pyprob/pyprob/nn/inference_network_lstm.py:137: UserWarning: Using prior. No proposal for address: 256__forward___traverse___traverse_rec___traverse_rec___traverse_rec___traverse_rec___traverse_rec___traverse_rec___traverse_rec___traverse_rec___traverse_rec___traverse_rec___traverse_rec___traverse_rec___traverse_rec___traverse_rec__theta_CM_U__Uniform__5\n",
      "  warnings.warn('Using prior. No proposal for address: {}'.format(current_address))\n",
      "/home/tt21642/dispyprob/pyprob/pyprob/nn/inference_network_lstm.py:107: UserWarning: Address of previous variable unknown by inference network: 256__forward___traverse___traverse_rec___traverse_rec___traverse_rec___traverse_rec___traverse_rec___traverse_rec___traverse_rec___traverse_rec___traverse_rec___traverse_rec___traverse_rec___traverse_rec___traverse_rec___traverse_rec__theta_CM_U__Uniform__5\n",
      "  warnings.warn('Address of previous variable unknown by inference network: {}'.format(prev_address))\n",
      "/home/tt21642/dispyprob/pyprob/pyprob/nn/inference_network_lstm.py:116: UserWarning: Address of current variable unknown by inference network: 460__forward___traverse___traverse_rec___traverse_rec___traverse_rec___traverse_rec___traverse_rec___traverse_rec___traverse_rec___traverse_rec___traverse_rec___traverse_rec___traverse_rec___traverse_rec___traverse_rec___traverse_rec__draw_decay_L__TruncatedExponential__5\n",
      "  warnings.warn('Address of current variable unknown by inference network: {}'.format(current_address))\n",
      "/home/tt21642/dispyprob/pyprob/pyprob/nn/inference_network_lstm.py:137: UserWarning: Using prior. No proposal for address: 460__forward___traverse___traverse_rec___traverse_rec___traverse_rec___traverse_rec___traverse_rec___traverse_rec___traverse_rec___traverse_rec___traverse_rec___traverse_rec___traverse_rec___traverse_rec___traverse_rec___traverse_rec__draw_decay_L__TruncatedExponential__5\n",
      "  warnings.warn('Using prior. No proposal for address: {}'.format(current_address))\n",
      "/home/tt21642/dispyprob/pyprob/pyprob/nn/inference_network_lstm.py:107: UserWarning: Address of previous variable unknown by inference network: 460__forward___traverse___traverse_rec___traverse_rec___traverse_rec___traverse_rec___traverse_rec___traverse_rec___traverse_rec___traverse_rec___traverse_rec___traverse_rec___traverse_rec___traverse_rec___traverse_rec___traverse_rec__draw_decay_L__TruncatedExponential__5\n",
      "  warnings.warn('Address of previous variable unknown by inference network: {}'.format(prev_address))\n",
      "/home/tt21642/dispyprob/pyprob/pyprob/nn/inference_network_lstm.py:116: UserWarning: Address of current variable unknown by inference network: 510__forward___traverse___traverse_rec___traverse_rec___traverse_rec___traverse_rec___traverse_rec___traverse_rec___traverse_rec___traverse_rec___traverse_rec___traverse_rec___traverse_rec___traverse_rec___traverse_rec___traverse_rec__draw_decay_R__TruncatedExponential__5\n",
      "  warnings.warn('Address of current variable unknown by inference network: {}'.format(current_address))\n",
      "/home/tt21642/dispyprob/pyprob/pyprob/nn/inference_network_lstm.py:137: UserWarning: Using prior. No proposal for address: 510__forward___traverse___traverse_rec___traverse_rec___traverse_rec___traverse_rec___traverse_rec___traverse_rec___traverse_rec___traverse_rec___traverse_rec___traverse_rec___traverse_rec___traverse_rec___traverse_rec___traverse_rec__draw_decay_R__TruncatedExponential__5\n",
      "  warnings.warn('Using prior. No proposal for address: {}'.format(current_address))\n",
      "/home/tt21642/dispyprob/pyprob/pyprob/nn/inference_network_lstm.py:107: UserWarning: Address of previous variable unknown by inference network: 510__forward___traverse___traverse_rec___traverse_rec___traverse_rec___traverse_rec___traverse_rec___traverse_rec___traverse_rec___traverse_rec___traverse_rec___traverse_rec___traverse_rec___traverse_rec___traverse_rec___traverse_rec__draw_decay_R__TruncatedExponential__5\n",
      "  warnings.warn('Address of previous variable unknown by inference network: {}'.format(prev_address))\n",
      "/home/tt21642/dispyprob/pyprob/pyprob/nn/inference_network_lstm.py:137: UserWarning: Using prior. No proposal for address: 216__forward___traverse___traverse_rec___traverse_rec___traverse_rec___traverse_rec___traverse_rec___traverse_rec___traverse_rec___traverse_rec___traverse_rec___traverse_rec___traverse_rec___traverse_rec__phi_CM__Uniform__6\n",
      "  warnings.warn('Using prior. No proposal for address: {}'.format(current_address))\n",
      "/home/tt21642/dispyprob/pyprob/pyprob/nn/inference_network_lstm.py:116: UserWarning: Address of current variable unknown by inference network: 216__forward___traverse___traverse_rec___traverse_rec___traverse_rec___traverse_rec___traverse_rec___traverse_rec___traverse_rec___traverse_rec___traverse_rec___traverse_rec___traverse_rec___traverse_rec___traverse_rec___traverse_rec__phi_CM__Uniform__6\n",
      "  warnings.warn('Address of current variable unknown by inference network: {}'.format(current_address))\n",
      "/home/tt21642/dispyprob/pyprob/pyprob/nn/inference_network_lstm.py:137: UserWarning: Using prior. No proposal for address: 216__forward___traverse___traverse_rec___traverse_rec___traverse_rec___traverse_rec___traverse_rec___traverse_rec___traverse_rec___traverse_rec___traverse_rec___traverse_rec___traverse_rec___traverse_rec___traverse_rec___traverse_rec__phi_CM__Uniform__6\n",
      "  warnings.warn('Using prior. No proposal for address: {}'.format(current_address))\n",
      "/home/tt21642/dispyprob/pyprob/pyprob/nn/inference_network_lstm.py:107: UserWarning: Address of previous variable unknown by inference network: 216__forward___traverse___traverse_rec___traverse_rec___traverse_rec___traverse_rec___traverse_rec___traverse_rec___traverse_rec___traverse_rec___traverse_rec___traverse_rec___traverse_rec___traverse_rec___traverse_rec___traverse_rec__phi_CM__Uniform__6\n",
      "  warnings.warn('Address of previous variable unknown by inference network: {}'.format(prev_address))\n",
      "/home/tt21642/dispyprob/pyprob/pyprob/nn/inference_network_lstm.py:116: UserWarning: Address of current variable unknown by inference network: 256__forward___traverse___traverse_rec___traverse_rec___traverse_rec___traverse_rec___traverse_rec___traverse_rec___traverse_rec___traverse_rec___traverse_rec___traverse_rec___traverse_rec___traverse_rec___traverse_rec___traverse_rec__theta_CM_U__Uniform__6\n",
      "  warnings.warn('Address of current variable unknown by inference network: {}'.format(current_address))\n",
      "/home/tt21642/dispyprob/pyprob/pyprob/nn/inference_network_lstm.py:137: UserWarning: Using prior. No proposal for address: 256__forward___traverse___traverse_rec___traverse_rec___traverse_rec___traverse_rec___traverse_rec___traverse_rec___traverse_rec___traverse_rec___traverse_rec___traverse_rec___traverse_rec___traverse_rec___traverse_rec___traverse_rec__theta_CM_U__Uniform__6\n",
      "  warnings.warn('Using prior. No proposal for address: {}'.format(current_address))\n",
      "/home/tt21642/dispyprob/pyprob/pyprob/nn/inference_network_lstm.py:107: UserWarning: Address of previous variable unknown by inference network: 256__forward___traverse___traverse_rec___traverse_rec___traverse_rec___traverse_rec___traverse_rec___traverse_rec___traverse_rec___traverse_rec___traverse_rec___traverse_rec___traverse_rec___traverse_rec___traverse_rec___traverse_rec__theta_CM_U__Uniform__6\n",
      "  warnings.warn('Address of previous variable unknown by inference network: {}'.format(prev_address))\n",
      "/home/tt21642/dispyprob/pyprob/pyprob/nn/inference_network_lstm.py:116: UserWarning: Address of current variable unknown by inference network: 460__forward___traverse___traverse_rec___traverse_rec___traverse_rec___traverse_rec___traverse_rec___traverse_rec___traverse_rec___traverse_rec___traverse_rec___traverse_rec___traverse_rec___traverse_rec___traverse_rec___traverse_rec__draw_decay_L__TruncatedExponential__6\n",
      "  warnings.warn('Address of current variable unknown by inference network: {}'.format(current_address))\n",
      "/home/tt21642/dispyprob/pyprob/pyprob/nn/inference_network_lstm.py:137: UserWarning: Using prior. No proposal for address: 460__forward___traverse___traverse_rec___traverse_rec___traverse_rec___traverse_rec___traverse_rec___traverse_rec___traverse_rec___traverse_rec___traverse_rec___traverse_rec___traverse_rec___traverse_rec___traverse_rec___traverse_rec__draw_decay_L__TruncatedExponential__6\n",
      "  warnings.warn('Using prior. No proposal for address: {}'.format(current_address))\n",
      "/home/tt21642/dispyprob/pyprob/pyprob/nn/inference_network_lstm.py:107: UserWarning: Address of previous variable unknown by inference network: 460__forward___traverse___traverse_rec___traverse_rec___traverse_rec___traverse_rec___traverse_rec___traverse_rec___traverse_rec___traverse_rec___traverse_rec___traverse_rec___traverse_rec___traverse_rec___traverse_rec___traverse_rec__draw_decay_L__TruncatedExponential__6\n",
      "  warnings.warn('Address of previous variable unknown by inference network: {}'.format(prev_address))\n",
      "/home/tt21642/dispyprob/pyprob/pyprob/nn/inference_network_lstm.py:116: UserWarning: Address of current variable unknown by inference network: 510__forward___traverse___traverse_rec___traverse_rec___traverse_rec___traverse_rec___traverse_rec___traverse_rec___traverse_rec___traverse_rec___traverse_rec___traverse_rec___traverse_rec___traverse_rec___traverse_rec___traverse_rec__draw_decay_R__TruncatedExponential__6\n",
      "  warnings.warn('Address of current variable unknown by inference network: {}'.format(current_address))\n",
      "/home/tt21642/dispyprob/pyprob/pyprob/nn/inference_network_lstm.py:137: UserWarning: Using prior. No proposal for address: 510__forward___traverse___traverse_rec___traverse_rec___traverse_rec___traverse_rec___traverse_rec___traverse_rec___traverse_rec___traverse_rec___traverse_rec___traverse_rec___traverse_rec___traverse_rec___traverse_rec___traverse_rec__draw_decay_R__TruncatedExponential__6\n",
      "  warnings.warn('Using prior. No proposal for address: {}'.format(current_address))\n",
      "/home/tt21642/dispyprob/pyprob/pyprob/nn/inference_network_lstm.py:107: UserWarning: Address of previous variable unknown by inference network: 510__forward___traverse___traverse_rec___traverse_rec___traverse_rec___traverse_rec___traverse_rec___traverse_rec___traverse_rec___traverse_rec___traverse_rec___traverse_rec___traverse_rec___traverse_rec___traverse_rec___traverse_rec__draw_decay_R__TruncatedExponential__6\n",
      "  warnings.warn('Address of previous variable unknown by inference network: {}'.format(prev_address))\n",
      "/home/tt21642/dispyprob/pyprob/pyprob/nn/inference_network_lstm.py:116: UserWarning: Address of current variable unknown by inference network: 216__forward___traverse___traverse_rec___traverse_rec___traverse_rec___traverse_rec___traverse_rec___traverse_rec___traverse_rec___traverse_rec___traverse_rec___traverse_rec___traverse_rec__phi_CM__Uniform__11\n",
      "  warnings.warn('Address of current variable unknown by inference network: {}'.format(current_address))\n",
      "/home/tt21642/dispyprob/pyprob/pyprob/nn/inference_network_lstm.py:137: UserWarning: Using prior. No proposal for address: 216__forward___traverse___traverse_rec___traverse_rec___traverse_rec___traverse_rec___traverse_rec___traverse_rec___traverse_rec___traverse_rec___traverse_rec___traverse_rec___traverse_rec__phi_CM__Uniform__11\n",
      "  warnings.warn('Using prior. No proposal for address: {}'.format(current_address))\n",
      "/home/tt21642/dispyprob/pyprob/pyprob/nn/inference_network_lstm.py:107: UserWarning: Address of previous variable unknown by inference network: 216__forward___traverse___traverse_rec___traverse_rec___traverse_rec___traverse_rec___traverse_rec___traverse_rec___traverse_rec___traverse_rec___traverse_rec___traverse_rec___traverse_rec__phi_CM__Uniform__11\n",
      "  warnings.warn('Address of previous variable unknown by inference network: {}'.format(prev_address))\n",
      "/home/tt21642/dispyprob/pyprob/pyprob/nn/inference_network_lstm.py:116: UserWarning: Address of current variable unknown by inference network: 256__forward___traverse___traverse_rec___traverse_rec___traverse_rec___traverse_rec___traverse_rec___traverse_rec___traverse_rec___traverse_rec___traverse_rec___traverse_rec___traverse_rec__theta_CM_U__Uniform__11\n",
      "  warnings.warn('Address of current variable unknown by inference network: {}'.format(current_address))\n",
      "/home/tt21642/dispyprob/pyprob/pyprob/nn/inference_network_lstm.py:137: UserWarning: Using prior. No proposal for address: 256__forward___traverse___traverse_rec___traverse_rec___traverse_rec___traverse_rec___traverse_rec___traverse_rec___traverse_rec___traverse_rec___traverse_rec___traverse_rec___traverse_rec__theta_CM_U__Uniform__11\n",
      "  warnings.warn('Using prior. No proposal for address: {}'.format(current_address))\n",
      "/home/tt21642/dispyprob/pyprob/pyprob/nn/inference_network_lstm.py:107: UserWarning: Address of previous variable unknown by inference network: 256__forward___traverse___traverse_rec___traverse_rec___traverse_rec___traverse_rec___traverse_rec___traverse_rec___traverse_rec___traverse_rec___traverse_rec___traverse_rec___traverse_rec__theta_CM_U__Uniform__11\n",
      "  warnings.warn('Address of previous variable unknown by inference network: {}'.format(prev_address))\n",
      "/home/tt21642/dispyprob/pyprob/pyprob/nn/inference_network_lstm.py:116: UserWarning: Address of current variable unknown by inference network: 460__forward___traverse___traverse_rec___traverse_rec___traverse_rec___traverse_rec___traverse_rec___traverse_rec___traverse_rec___traverse_rec___traverse_rec___traverse_rec___traverse_rec__draw_decay_L__TruncatedExponential__11\n",
      "  warnings.warn('Address of current variable unknown by inference network: {}'.format(current_address))\n",
      "/home/tt21642/dispyprob/pyprob/pyprob/nn/inference_network_lstm.py:137: UserWarning: Using prior. No proposal for address: 460__forward___traverse___traverse_rec___traverse_rec___traverse_rec___traverse_rec___traverse_rec___traverse_rec___traverse_rec___traverse_rec___traverse_rec___traverse_rec___traverse_rec__draw_decay_L__TruncatedExponential__11\n",
      "  warnings.warn('Using prior. No proposal for address: {}'.format(current_address))\n",
      "/home/tt21642/dispyprob/pyprob/pyprob/nn/inference_network_lstm.py:107: UserWarning: Address of previous variable unknown by inference network: 460__forward___traverse___traverse_rec___traverse_rec___traverse_rec___traverse_rec___traverse_rec___traverse_rec___traverse_rec___traverse_rec___traverse_rec___traverse_rec___traverse_rec__draw_decay_L__TruncatedExponential__11\n",
      "  warnings.warn('Address of previous variable unknown by inference network: {}'.format(prev_address))\n",
      "/home/tt21642/dispyprob/pyprob/pyprob/nn/inference_network_lstm.py:116: UserWarning: Address of current variable unknown by inference network: 510__forward___traverse___traverse_rec___traverse_rec___traverse_rec___traverse_rec___traverse_rec___traverse_rec___traverse_rec___traverse_rec___traverse_rec___traverse_rec___traverse_rec__draw_decay_R__TruncatedExponential__11\n",
      "  warnings.warn('Address of current variable unknown by inference network: {}'.format(current_address))\n",
      "/home/tt21642/dispyprob/pyprob/pyprob/nn/inference_network_lstm.py:137: UserWarning: Using prior. No proposal for address: 510__forward___traverse___traverse_rec___traverse_rec___traverse_rec___traverse_rec___traverse_rec___traverse_rec___traverse_rec___traverse_rec___traverse_rec___traverse_rec___traverse_rec__draw_decay_R__TruncatedExponential__11\n",
      "  warnings.warn('Using prior. No proposal for address: {}'.format(current_address))\n",
      "/home/tt21642/dispyprob/pyprob/pyprob/nn/inference_network_lstm.py:107: UserWarning: Address of previous variable unknown by inference network: 510__forward___traverse___traverse_rec___traverse_rec___traverse_rec___traverse_rec___traverse_rec___traverse_rec___traverse_rec___traverse_rec___traverse_rec___traverse_rec___traverse_rec__draw_decay_R__TruncatedExponential__11\n",
      "  warnings.warn('Address of previous variable unknown by inference network: {}'.format(prev_address))\n",
      "/home/tt21642/dispyprob/pyprob/pyprob/nn/inference_network_lstm.py:137: UserWarning: Using prior. No proposal for address: 216__forward___traverse___traverse_rec___traverse_rec___traverse_rec___traverse_rec___traverse_rec___traverse_rec___traverse_rec__phi_CM__Uniform__5\n",
      "  warnings.warn('Using prior. No proposal for address: {}'.format(current_address))\n",
      "/home/tt21642/dispyprob/pyprob/pyprob/nn/inference_network_lstm.py:137: UserWarning: Using prior. No proposal for address: 216__forward___traverse___traverse_rec___traverse_rec___traverse_rec___traverse_rec___traverse_rec___traverse_rec___traverse_rec___traverse_rec__phi_CM__Uniform__8\n",
      "  warnings.warn('Using prior. No proposal for address: {}'.format(current_address))\n",
      "/home/tt21642/dispyprob/pyprob/pyprob/nn/inference_network_lstm.py:116: UserWarning: Address of current variable unknown by inference network: 216__forward___traverse___traverse_rec___traverse_rec___traverse_rec___traverse_rec___traverse_rec___traverse_rec___traverse_rec___traverse_rec___traverse_rec__phi_CM__Uniform__14\n",
      "  warnings.warn('Address of current variable unknown by inference network: {}'.format(current_address))\n",
      "/home/tt21642/dispyprob/pyprob/pyprob/nn/inference_network_lstm.py:137: UserWarning: Using prior. No proposal for address: 216__forward___traverse___traverse_rec___traverse_rec___traverse_rec___traverse_rec___traverse_rec___traverse_rec___traverse_rec___traverse_rec___traverse_rec__phi_CM__Uniform__14\n",
      "  warnings.warn('Using prior. No proposal for address: {}'.format(current_address))\n",
      "/home/tt21642/dispyprob/pyprob/pyprob/nn/inference_network_lstm.py:107: UserWarning: Address of previous variable unknown by inference network: 216__forward___traverse___traverse_rec___traverse_rec___traverse_rec___traverse_rec___traverse_rec___traverse_rec___traverse_rec___traverse_rec___traverse_rec__phi_CM__Uniform__14\n",
      "  warnings.warn('Address of previous variable unknown by inference network: {}'.format(prev_address))\n",
      "/home/tt21642/dispyprob/pyprob/pyprob/nn/inference_network_lstm.py:116: UserWarning: Address of current variable unknown by inference network: 256__forward___traverse___traverse_rec___traverse_rec___traverse_rec___traverse_rec___traverse_rec___traverse_rec___traverse_rec___traverse_rec___traverse_rec__theta_CM_U__Uniform__14\n",
      "  warnings.warn('Address of current variable unknown by inference network: {}'.format(current_address))\n",
      "/home/tt21642/dispyprob/pyprob/pyprob/nn/inference_network_lstm.py:137: UserWarning: Using prior. No proposal for address: 256__forward___traverse___traverse_rec___traverse_rec___traverse_rec___traverse_rec___traverse_rec___traverse_rec___traverse_rec___traverse_rec___traverse_rec__theta_CM_U__Uniform__14\n",
      "  warnings.warn('Using prior. No proposal for address: {}'.format(current_address))\n",
      "/home/tt21642/dispyprob/pyprob/pyprob/nn/inference_network_lstm.py:107: UserWarning: Address of previous variable unknown by inference network: 256__forward___traverse___traverse_rec___traverse_rec___traverse_rec___traverse_rec___traverse_rec___traverse_rec___traverse_rec___traverse_rec___traverse_rec__theta_CM_U__Uniform__14\n",
      "  warnings.warn('Address of previous variable unknown by inference network: {}'.format(prev_address))\n",
      "/home/tt21642/dispyprob/pyprob/pyprob/nn/inference_network_lstm.py:116: UserWarning: Address of current variable unknown by inference network: 460__forward___traverse___traverse_rec___traverse_rec___traverse_rec___traverse_rec___traverse_rec___traverse_rec___traverse_rec___traverse_rec___traverse_rec__draw_decay_L__TruncatedExponential__14\n",
      "  warnings.warn('Address of current variable unknown by inference network: {}'.format(current_address))\n",
      "/home/tt21642/dispyprob/pyprob/pyprob/nn/inference_network_lstm.py:137: UserWarning: Using prior. No proposal for address: 460__forward___traverse___traverse_rec___traverse_rec___traverse_rec___traverse_rec___traverse_rec___traverse_rec___traverse_rec___traverse_rec___traverse_rec__draw_decay_L__TruncatedExponential__14\n",
      "  warnings.warn('Using prior. No proposal for address: {}'.format(current_address))\n",
      "/home/tt21642/dispyprob/pyprob/pyprob/nn/inference_network_lstm.py:107: UserWarning: Address of previous variable unknown by inference network: 460__forward___traverse___traverse_rec___traverse_rec___traverse_rec___traverse_rec___traverse_rec___traverse_rec___traverse_rec___traverse_rec___traverse_rec__draw_decay_L__TruncatedExponential__14\n",
      "  warnings.warn('Address of previous variable unknown by inference network: {}'.format(prev_address))\n",
      "/home/tt21642/dispyprob/pyprob/pyprob/nn/inference_network_lstm.py:116: UserWarning: Address of current variable unknown by inference network: 510__forward___traverse___traverse_rec___traverse_rec___traverse_rec___traverse_rec___traverse_rec___traverse_rec___traverse_rec___traverse_rec___traverse_rec__draw_decay_R__TruncatedExponential__14\n",
      "  warnings.warn('Address of current variable unknown by inference network: {}'.format(current_address))\n",
      "/home/tt21642/dispyprob/pyprob/pyprob/nn/inference_network_lstm.py:137: UserWarning: Using prior. No proposal for address: 510__forward___traverse___traverse_rec___traverse_rec___traverse_rec___traverse_rec___traverse_rec___traverse_rec___traverse_rec___traverse_rec___traverse_rec__draw_decay_R__TruncatedExponential__14\n",
      "  warnings.warn('Using prior. No proposal for address: {}'.format(current_address))\n",
      "/home/tt21642/dispyprob/pyprob/pyprob/nn/inference_network_lstm.py:107: UserWarning: Address of previous variable unknown by inference network: 510__forward___traverse___traverse_rec___traverse_rec___traverse_rec___traverse_rec___traverse_rec___traverse_rec___traverse_rec___traverse_rec___traverse_rec__draw_decay_R__TruncatedExponential__14\n",
      "  warnings.warn('Address of previous variable unknown by inference network: {}'.format(prev_address))\n"
     ]
    },
    {
     "name": "stdout",
     "output_type": "stream",
     "text": [
      "0d:00:06:19 | 0d:04:55:15 | -------------------- |   21/1000 |   1.00 | 0.06       \r"
     ]
    },
    {
     "name": "stderr",
     "output_type": "stream",
     "text": [
      "/home/tt21642/dispyprob/pyprob/pyprob/nn/inference_network_lstm.py:116: UserWarning: Address of current variable unknown by inference network: 216__forward___traverse___traverse_rec___traverse_rec___traverse_rec___traverse_rec___traverse_rec___traverse_rec___traverse_rec___traverse_rec___traverse_rec___traverse_rec___traverse_rec___traverse_rec__phi_CM__Uniform__8\n",
      "  warnings.warn('Address of current variable unknown by inference network: {}'.format(current_address))\n",
      "/home/tt21642/dispyprob/pyprob/pyprob/nn/inference_network_lstm.py:137: UserWarning: Using prior. No proposal for address: 216__forward___traverse___traverse_rec___traverse_rec___traverse_rec___traverse_rec___traverse_rec___traverse_rec___traverse_rec___traverse_rec___traverse_rec___traverse_rec___traverse_rec___traverse_rec__phi_CM__Uniform__8\n",
      "  warnings.warn('Using prior. No proposal for address: {}'.format(current_address))\n",
      "/home/tt21642/dispyprob/pyprob/pyprob/nn/inference_network_lstm.py:107: UserWarning: Address of previous variable unknown by inference network: 216__forward___traverse___traverse_rec___traverse_rec___traverse_rec___traverse_rec___traverse_rec___traverse_rec___traverse_rec___traverse_rec___traverse_rec___traverse_rec___traverse_rec___traverse_rec__phi_CM__Uniform__8\n",
      "  warnings.warn('Address of previous variable unknown by inference network: {}'.format(prev_address))\n",
      "/home/tt21642/dispyprob/pyprob/pyprob/nn/inference_network_lstm.py:116: UserWarning: Address of current variable unknown by inference network: 256__forward___traverse___traverse_rec___traverse_rec___traverse_rec___traverse_rec___traverse_rec___traverse_rec___traverse_rec___traverse_rec___traverse_rec___traverse_rec___traverse_rec___traverse_rec__theta_CM_U__Uniform__8\n",
      "  warnings.warn('Address of current variable unknown by inference network: {}'.format(current_address))\n",
      "/home/tt21642/dispyprob/pyprob/pyprob/nn/inference_network_lstm.py:137: UserWarning: Using prior. No proposal for address: 256__forward___traverse___traverse_rec___traverse_rec___traverse_rec___traverse_rec___traverse_rec___traverse_rec___traverse_rec___traverse_rec___traverse_rec___traverse_rec___traverse_rec___traverse_rec__theta_CM_U__Uniform__8\n",
      "  warnings.warn('Using prior. No proposal for address: {}'.format(current_address))\n",
      "/home/tt21642/dispyprob/pyprob/pyprob/nn/inference_network_lstm.py:107: UserWarning: Address of previous variable unknown by inference network: 256__forward___traverse___traverse_rec___traverse_rec___traverse_rec___traverse_rec___traverse_rec___traverse_rec___traverse_rec___traverse_rec___traverse_rec___traverse_rec___traverse_rec___traverse_rec__theta_CM_U__Uniform__8\n",
      "  warnings.warn('Address of previous variable unknown by inference network: {}'.format(prev_address))\n",
      "/home/tt21642/dispyprob/pyprob/pyprob/nn/inference_network_lstm.py:116: UserWarning: Address of current variable unknown by inference network: 460__forward___traverse___traverse_rec___traverse_rec___traverse_rec___traverse_rec___traverse_rec___traverse_rec___traverse_rec___traverse_rec___traverse_rec___traverse_rec___traverse_rec___traverse_rec__draw_decay_L__TruncatedExponential__8\n",
      "  warnings.warn('Address of current variable unknown by inference network: {}'.format(current_address))\n",
      "/home/tt21642/dispyprob/pyprob/pyprob/nn/inference_network_lstm.py:137: UserWarning: Using prior. No proposal for address: 460__forward___traverse___traverse_rec___traverse_rec___traverse_rec___traverse_rec___traverse_rec___traverse_rec___traverse_rec___traverse_rec___traverse_rec___traverse_rec___traverse_rec___traverse_rec__draw_decay_L__TruncatedExponential__8\n",
      "  warnings.warn('Using prior. No proposal for address: {}'.format(current_address))\n",
      "/home/tt21642/dispyprob/pyprob/pyprob/nn/inference_network_lstm.py:107: UserWarning: Address of previous variable unknown by inference network: 460__forward___traverse___traverse_rec___traverse_rec___traverse_rec___traverse_rec___traverse_rec___traverse_rec___traverse_rec___traverse_rec___traverse_rec___traverse_rec___traverse_rec___traverse_rec__draw_decay_L__TruncatedExponential__8\n",
      "  warnings.warn('Address of previous variable unknown by inference network: {}'.format(prev_address))\n",
      "/home/tt21642/dispyprob/pyprob/pyprob/nn/inference_network_lstm.py:116: UserWarning: Address of current variable unknown by inference network: 510__forward___traverse___traverse_rec___traverse_rec___traverse_rec___traverse_rec___traverse_rec___traverse_rec___traverse_rec___traverse_rec___traverse_rec___traverse_rec___traverse_rec___traverse_rec__draw_decay_R__TruncatedExponential__8\n",
      "  warnings.warn('Address of current variable unknown by inference network: {}'.format(current_address))\n",
      "/home/tt21642/dispyprob/pyprob/pyprob/nn/inference_network_lstm.py:137: UserWarning: Using prior. No proposal for address: 510__forward___traverse___traverse_rec___traverse_rec___traverse_rec___traverse_rec___traverse_rec___traverse_rec___traverse_rec___traverse_rec___traverse_rec___traverse_rec___traverse_rec___traverse_rec__draw_decay_R__TruncatedExponential__8\n",
      "  warnings.warn('Using prior. No proposal for address: {}'.format(current_address))\n",
      "/home/tt21642/dispyprob/pyprob/pyprob/nn/inference_network_lstm.py:107: UserWarning: Address of previous variable unknown by inference network: 510__forward___traverse___traverse_rec___traverse_rec___traverse_rec___traverse_rec___traverse_rec___traverse_rec___traverse_rec___traverse_rec___traverse_rec___traverse_rec___traverse_rec___traverse_rec__draw_decay_R__TruncatedExponential__8\n",
      "  warnings.warn('Address of previous variable unknown by inference network: {}'.format(prev_address))\n",
      "/home/tt21642/dispyprob/pyprob/pyprob/nn/inference_network_lstm.py:137: UserWarning: Using prior. No proposal for address: 216__forward___traverse___traverse_rec___traverse_rec___traverse_rec___traverse_rec___traverse_rec___traverse_rec___traverse_rec___traverse_rec___traverse_rec___traverse_rec___traverse_rec___traverse_rec___traverse_rec__phi_CM__Uniform__2\n",
      "  warnings.warn('Using prior. No proposal for address: {}'.format(current_address))\n"
     ]
    },
    {
     "name": "stdout",
     "output_type": "stream",
     "text": [
      "0d:00:06:35 | 0d:04:53:03 | -------------------- |   22/1000 |   1.00 | 0.06       \r"
     ]
    },
    {
     "name": "stderr",
     "output_type": "stream",
     "text": [
      "/home/tt21642/dispyprob/pyprob/pyprob/nn/inference_network_lstm.py:116: UserWarning: Address of current variable unknown by inference network: 216__forward___traverse___traverse_rec___traverse_rec___traverse_rec___traverse_rec___traverse_rec___traverse_rec___traverse_rec___traverse_rec___traverse_rec___traverse_rec___traverse_rec___traverse_rec___traverse_rec__phi_CM__Uniform__5\n",
      "  warnings.warn('Address of current variable unknown by inference network: {}'.format(current_address))\n",
      "/home/tt21642/dispyprob/pyprob/pyprob/nn/inference_network_lstm.py:137: UserWarning: Using prior. No proposal for address: 216__forward___traverse___traverse_rec___traverse_rec___traverse_rec___traverse_rec___traverse_rec___traverse_rec___traverse_rec___traverse_rec___traverse_rec___traverse_rec___traverse_rec___traverse_rec___traverse_rec__phi_CM__Uniform__5\n",
      "  warnings.warn('Using prior. No proposal for address: {}'.format(current_address))\n",
      "/home/tt21642/dispyprob/pyprob/pyprob/nn/inference_network_lstm.py:107: UserWarning: Address of previous variable unknown by inference network: 216__forward___traverse___traverse_rec___traverse_rec___traverse_rec___traverse_rec___traverse_rec___traverse_rec___traverse_rec___traverse_rec___traverse_rec___traverse_rec___traverse_rec___traverse_rec___traverse_rec__phi_CM__Uniform__5\n",
      "  warnings.warn('Address of previous variable unknown by inference network: {}'.format(prev_address))\n",
      "/home/tt21642/dispyprob/pyprob/pyprob/nn/inference_network_lstm.py:116: UserWarning: Address of current variable unknown by inference network: 256__forward___traverse___traverse_rec___traverse_rec___traverse_rec___traverse_rec___traverse_rec___traverse_rec___traverse_rec___traverse_rec___traverse_rec___traverse_rec___traverse_rec___traverse_rec___traverse_rec__theta_CM_U__Uniform__5\n",
      "  warnings.warn('Address of current variable unknown by inference network: {}'.format(current_address))\n",
      "/home/tt21642/dispyprob/pyprob/pyprob/nn/inference_network_lstm.py:137: UserWarning: Using prior. No proposal for address: 256__forward___traverse___traverse_rec___traverse_rec___traverse_rec___traverse_rec___traverse_rec___traverse_rec___traverse_rec___traverse_rec___traverse_rec___traverse_rec___traverse_rec___traverse_rec___traverse_rec__theta_CM_U__Uniform__5\n",
      "  warnings.warn('Using prior. No proposal for address: {}'.format(current_address))\n",
      "/home/tt21642/dispyprob/pyprob/pyprob/nn/inference_network_lstm.py:107: UserWarning: Address of previous variable unknown by inference network: 256__forward___traverse___traverse_rec___traverse_rec___traverse_rec___traverse_rec___traverse_rec___traverse_rec___traverse_rec___traverse_rec___traverse_rec___traverse_rec___traverse_rec___traverse_rec___traverse_rec__theta_CM_U__Uniform__5\n",
      "  warnings.warn('Address of previous variable unknown by inference network: {}'.format(prev_address))\n",
      "/home/tt21642/dispyprob/pyprob/pyprob/nn/inference_network_lstm.py:116: UserWarning: Address of current variable unknown by inference network: 460__forward___traverse___traverse_rec___traverse_rec___traverse_rec___traverse_rec___traverse_rec___traverse_rec___traverse_rec___traverse_rec___traverse_rec___traverse_rec___traverse_rec___traverse_rec___traverse_rec__draw_decay_L__TruncatedExponential__5\n",
      "  warnings.warn('Address of current variable unknown by inference network: {}'.format(current_address))\n",
      "/home/tt21642/dispyprob/pyprob/pyprob/nn/inference_network_lstm.py:137: UserWarning: Using prior. No proposal for address: 460__forward___traverse___traverse_rec___traverse_rec___traverse_rec___traverse_rec___traverse_rec___traverse_rec___traverse_rec___traverse_rec___traverse_rec___traverse_rec___traverse_rec___traverse_rec___traverse_rec__draw_decay_L__TruncatedExponential__5\n",
      "  warnings.warn('Using prior. No proposal for address: {}'.format(current_address))\n",
      "/home/tt21642/dispyprob/pyprob/pyprob/nn/inference_network_lstm.py:107: UserWarning: Address of previous variable unknown by inference network: 460__forward___traverse___traverse_rec___traverse_rec___traverse_rec___traverse_rec___traverse_rec___traverse_rec___traverse_rec___traverse_rec___traverse_rec___traverse_rec___traverse_rec___traverse_rec___traverse_rec__draw_decay_L__TruncatedExponential__5\n",
      "  warnings.warn('Address of previous variable unknown by inference network: {}'.format(prev_address))\n",
      "/home/tt21642/dispyprob/pyprob/pyprob/nn/inference_network_lstm.py:116: UserWarning: Address of current variable unknown by inference network: 510__forward___traverse___traverse_rec___traverse_rec___traverse_rec___traverse_rec___traverse_rec___traverse_rec___traverse_rec___traverse_rec___traverse_rec___traverse_rec___traverse_rec___traverse_rec___traverse_rec__draw_decay_R__TruncatedExponential__5\n",
      "  warnings.warn('Address of current variable unknown by inference network: {}'.format(current_address))\n",
      "/home/tt21642/dispyprob/pyprob/pyprob/nn/inference_network_lstm.py:137: UserWarning: Using prior. No proposal for address: 510__forward___traverse___traverse_rec___traverse_rec___traverse_rec___traverse_rec___traverse_rec___traverse_rec___traverse_rec___traverse_rec___traverse_rec___traverse_rec___traverse_rec___traverse_rec___traverse_rec__draw_decay_R__TruncatedExponential__5\n",
      "  warnings.warn('Using prior. No proposal for address: {}'.format(current_address))\n",
      "/home/tt21642/dispyprob/pyprob/pyprob/nn/inference_network_lstm.py:107: UserWarning: Address of previous variable unknown by inference network: 510__forward___traverse___traverse_rec___traverse_rec___traverse_rec___traverse_rec___traverse_rec___traverse_rec___traverse_rec___traverse_rec___traverse_rec___traverse_rec___traverse_rec___traverse_rec___traverse_rec__draw_decay_R__TruncatedExponential__5\n",
      "  warnings.warn('Address of previous variable unknown by inference network: {}'.format(prev_address))\n",
      "/home/tt21642/dispyprob/pyprob/pyprob/nn/inference_network_lstm.py:137: UserWarning: Using prior. No proposal for address: 216__forward___traverse___traverse_rec___traverse_rec___traverse_rec___traverse_rec___traverse_rec___traverse_rec___traverse_rec___traverse_rec___traverse_rec___traverse_rec___traverse_rec__phi_CM__Uniform__4\n",
      "  warnings.warn('Using prior. No proposal for address: {}'.format(current_address))\n",
      "/home/tt21642/dispyprob/pyprob/pyprob/nn/inference_network_lstm.py:116: UserWarning: Address of current variable unknown by inference network: 216__forward___traverse___traverse_rec___traverse_rec___traverse_rec___traverse_rec___traverse_rec___traverse_rec___traverse_rec___traverse_rec___traverse_rec___traverse_rec___traverse_rec___traverse_rec___traverse_rec__phi_CM__Uniform__6\n",
      "  warnings.warn('Address of current variable unknown by inference network: {}'.format(current_address))\n",
      "/home/tt21642/dispyprob/pyprob/pyprob/nn/inference_network_lstm.py:137: UserWarning: Using prior. No proposal for address: 216__forward___traverse___traverse_rec___traverse_rec___traverse_rec___traverse_rec___traverse_rec___traverse_rec___traverse_rec___traverse_rec___traverse_rec___traverse_rec___traverse_rec___traverse_rec___traverse_rec__phi_CM__Uniform__6\n",
      "  warnings.warn('Using prior. No proposal for address: {}'.format(current_address))\n",
      "/home/tt21642/dispyprob/pyprob/pyprob/nn/inference_network_lstm.py:107: UserWarning: Address of previous variable unknown by inference network: 216__forward___traverse___traverse_rec___traverse_rec___traverse_rec___traverse_rec___traverse_rec___traverse_rec___traverse_rec___traverse_rec___traverse_rec___traverse_rec___traverse_rec___traverse_rec___traverse_rec__phi_CM__Uniform__6\n",
      "  warnings.warn('Address of previous variable unknown by inference network: {}'.format(prev_address))\n",
      "/home/tt21642/dispyprob/pyprob/pyprob/nn/inference_network_lstm.py:116: UserWarning: Address of current variable unknown by inference network: 256__forward___traverse___traverse_rec___traverse_rec___traverse_rec___traverse_rec___traverse_rec___traverse_rec___traverse_rec___traverse_rec___traverse_rec___traverse_rec___traverse_rec___traverse_rec___traverse_rec__theta_CM_U__Uniform__6\n",
      "  warnings.warn('Address of current variable unknown by inference network: {}'.format(current_address))\n",
      "/home/tt21642/dispyprob/pyprob/pyprob/nn/inference_network_lstm.py:137: UserWarning: Using prior. No proposal for address: 256__forward___traverse___traverse_rec___traverse_rec___traverse_rec___traverse_rec___traverse_rec___traverse_rec___traverse_rec___traverse_rec___traverse_rec___traverse_rec___traverse_rec___traverse_rec___traverse_rec__theta_CM_U__Uniform__6\n",
      "  warnings.warn('Using prior. No proposal for address: {}'.format(current_address))\n",
      "/home/tt21642/dispyprob/pyprob/pyprob/nn/inference_network_lstm.py:107: UserWarning: Address of previous variable unknown by inference network: 256__forward___traverse___traverse_rec___traverse_rec___traverse_rec___traverse_rec___traverse_rec___traverse_rec___traverse_rec___traverse_rec___traverse_rec___traverse_rec___traverse_rec___traverse_rec___traverse_rec__theta_CM_U__Uniform__6\n",
      "  warnings.warn('Address of previous variable unknown by inference network: {}'.format(prev_address))\n",
      "/home/tt21642/dispyprob/pyprob/pyprob/nn/inference_network_lstm.py:116: UserWarning: Address of current variable unknown by inference network: 460__forward___traverse___traverse_rec___traverse_rec___traverse_rec___traverse_rec___traverse_rec___traverse_rec___traverse_rec___traverse_rec___traverse_rec___traverse_rec___traverse_rec___traverse_rec___traverse_rec__draw_decay_L__TruncatedExponential__6\n",
      "  warnings.warn('Address of current variable unknown by inference network: {}'.format(current_address))\n",
      "/home/tt21642/dispyprob/pyprob/pyprob/nn/inference_network_lstm.py:137: UserWarning: Using prior. No proposal for address: 460__forward___traverse___traverse_rec___traverse_rec___traverse_rec___traverse_rec___traverse_rec___traverse_rec___traverse_rec___traverse_rec___traverse_rec___traverse_rec___traverse_rec___traverse_rec___traverse_rec__draw_decay_L__TruncatedExponential__6\n",
      "  warnings.warn('Using prior. No proposal for address: {}'.format(current_address))\n",
      "/home/tt21642/dispyprob/pyprob/pyprob/nn/inference_network_lstm.py:107: UserWarning: Address of previous variable unknown by inference network: 460__forward___traverse___traverse_rec___traverse_rec___traverse_rec___traverse_rec___traverse_rec___traverse_rec___traverse_rec___traverse_rec___traverse_rec___traverse_rec___traverse_rec___traverse_rec___traverse_rec__draw_decay_L__TruncatedExponential__6\n",
      "  warnings.warn('Address of previous variable unknown by inference network: {}'.format(prev_address))\n",
      "/home/tt21642/dispyprob/pyprob/pyprob/nn/inference_network_lstm.py:116: UserWarning: Address of current variable unknown by inference network: 510__forward___traverse___traverse_rec___traverse_rec___traverse_rec___traverse_rec___traverse_rec___traverse_rec___traverse_rec___traverse_rec___traverse_rec___traverse_rec___traverse_rec___traverse_rec___traverse_rec__draw_decay_R__TruncatedExponential__6\n",
      "  warnings.warn('Address of current variable unknown by inference network: {}'.format(current_address))\n",
      "/home/tt21642/dispyprob/pyprob/pyprob/nn/inference_network_lstm.py:137: UserWarning: Using prior. No proposal for address: 510__forward___traverse___traverse_rec___traverse_rec___traverse_rec___traverse_rec___traverse_rec___traverse_rec___traverse_rec___traverse_rec___traverse_rec___traverse_rec___traverse_rec___traverse_rec___traverse_rec__draw_decay_R__TruncatedExponential__6\n",
      "  warnings.warn('Using prior. No proposal for address: {}'.format(current_address))\n",
      "/home/tt21642/dispyprob/pyprob/pyprob/nn/inference_network_lstm.py:107: UserWarning: Address of previous variable unknown by inference network: 510__forward___traverse___traverse_rec___traverse_rec___traverse_rec___traverse_rec___traverse_rec___traverse_rec___traverse_rec___traverse_rec___traverse_rec___traverse_rec___traverse_rec___traverse_rec___traverse_rec__draw_decay_R__TruncatedExponential__6\n",
      "  warnings.warn('Address of previous variable unknown by inference network: {}'.format(prev_address))\n",
      "/home/tt21642/dispyprob/pyprob/pyprob/nn/inference_network_lstm.py:137: UserWarning: Using prior. No proposal for address: 216__forward___traverse___traverse_rec___traverse_rec___traverse_rec___traverse_rec__phi_CM__Uniform__2\n",
      "  warnings.warn('Using prior. No proposal for address: {}'.format(current_address))\n",
      "/home/tt21642/dispyprob/pyprob/pyprob/nn/inference_network_lstm.py:116: UserWarning: Address of current variable unknown by inference network: 216__forward___traverse___traverse_rec___traverse_rec___traverse_rec___traverse_rec___traverse_rec___traverse_rec___traverse_rec___traverse_rec___traverse_rec___traverse_rec___traverse_rec___traverse_rec___traverse_rec__phi_CM__Uniform__7\n",
      "  warnings.warn('Address of current variable unknown by inference network: {}'.format(current_address))\n",
      "/home/tt21642/dispyprob/pyprob/pyprob/nn/inference_network_lstm.py:137: UserWarning: Using prior. No proposal for address: 216__forward___traverse___traverse_rec___traverse_rec___traverse_rec___traverse_rec___traverse_rec___traverse_rec___traverse_rec___traverse_rec___traverse_rec___traverse_rec___traverse_rec___traverse_rec___traverse_rec__phi_CM__Uniform__7\n",
      "  warnings.warn('Using prior. No proposal for address: {}'.format(current_address))\n",
      "/home/tt21642/dispyprob/pyprob/pyprob/nn/inference_network_lstm.py:107: UserWarning: Address of previous variable unknown by inference network: 216__forward___traverse___traverse_rec___traverse_rec___traverse_rec___traverse_rec___traverse_rec___traverse_rec___traverse_rec___traverse_rec___traverse_rec___traverse_rec___traverse_rec___traverse_rec___traverse_rec__phi_CM__Uniform__7\n",
      "  warnings.warn('Address of previous variable unknown by inference network: {}'.format(prev_address))\n",
      "/home/tt21642/dispyprob/pyprob/pyprob/nn/inference_network_lstm.py:116: UserWarning: Address of current variable unknown by inference network: 256__forward___traverse___traverse_rec___traverse_rec___traverse_rec___traverse_rec___traverse_rec___traverse_rec___traverse_rec___traverse_rec___traverse_rec___traverse_rec___traverse_rec___traverse_rec___traverse_rec__theta_CM_U__Uniform__7\n",
      "  warnings.warn('Address of current variable unknown by inference network: {}'.format(current_address))\n",
      "/home/tt21642/dispyprob/pyprob/pyprob/nn/inference_network_lstm.py:137: UserWarning: Using prior. No proposal for address: 256__forward___traverse___traverse_rec___traverse_rec___traverse_rec___traverse_rec___traverse_rec___traverse_rec___traverse_rec___traverse_rec___traverse_rec___traverse_rec___traverse_rec___traverse_rec___traverse_rec__theta_CM_U__Uniform__7\n",
      "  warnings.warn('Using prior. No proposal for address: {}'.format(current_address))\n",
      "/home/tt21642/dispyprob/pyprob/pyprob/nn/inference_network_lstm.py:107: UserWarning: Address of previous variable unknown by inference network: 256__forward___traverse___traverse_rec___traverse_rec___traverse_rec___traverse_rec___traverse_rec___traverse_rec___traverse_rec___traverse_rec___traverse_rec___traverse_rec___traverse_rec___traverse_rec___traverse_rec__theta_CM_U__Uniform__7\n",
      "  warnings.warn('Address of previous variable unknown by inference network: {}'.format(prev_address))\n",
      "/home/tt21642/dispyprob/pyprob/pyprob/nn/inference_network_lstm.py:116: UserWarning: Address of current variable unknown by inference network: 460__forward___traverse___traverse_rec___traverse_rec___traverse_rec___traverse_rec___traverse_rec___traverse_rec___traverse_rec___traverse_rec___traverse_rec___traverse_rec___traverse_rec___traverse_rec___traverse_rec__draw_decay_L__TruncatedExponential__7\n",
      "  warnings.warn('Address of current variable unknown by inference network: {}'.format(current_address))\n",
      "/home/tt21642/dispyprob/pyprob/pyprob/nn/inference_network_lstm.py:137: UserWarning: Using prior. No proposal for address: 460__forward___traverse___traverse_rec___traverse_rec___traverse_rec___traverse_rec___traverse_rec___traverse_rec___traverse_rec___traverse_rec___traverse_rec___traverse_rec___traverse_rec___traverse_rec___traverse_rec__draw_decay_L__TruncatedExponential__7\n",
      "  warnings.warn('Using prior. No proposal for address: {}'.format(current_address))\n",
      "/home/tt21642/dispyprob/pyprob/pyprob/nn/inference_network_lstm.py:107: UserWarning: Address of previous variable unknown by inference network: 460__forward___traverse___traverse_rec___traverse_rec___traverse_rec___traverse_rec___traverse_rec___traverse_rec___traverse_rec___traverse_rec___traverse_rec___traverse_rec___traverse_rec___traverse_rec___traverse_rec__draw_decay_L__TruncatedExponential__7\n",
      "  warnings.warn('Address of previous variable unknown by inference network: {}'.format(prev_address))\n",
      "/home/tt21642/dispyprob/pyprob/pyprob/nn/inference_network_lstm.py:116: UserWarning: Address of current variable unknown by inference network: 510__forward___traverse___traverse_rec___traverse_rec___traverse_rec___traverse_rec___traverse_rec___traverse_rec___traverse_rec___traverse_rec___traverse_rec___traverse_rec___traverse_rec___traverse_rec___traverse_rec__draw_decay_R__TruncatedExponential__7\n",
      "  warnings.warn('Address of current variable unknown by inference network: {}'.format(current_address))\n",
      "/home/tt21642/dispyprob/pyprob/pyprob/nn/inference_network_lstm.py:137: UserWarning: Using prior. No proposal for address: 510__forward___traverse___traverse_rec___traverse_rec___traverse_rec___traverse_rec___traverse_rec___traverse_rec___traverse_rec___traverse_rec___traverse_rec___traverse_rec___traverse_rec___traverse_rec___traverse_rec__draw_decay_R__TruncatedExponential__7\n",
      "  warnings.warn('Using prior. No proposal for address: {}'.format(current_address))\n",
      "/home/tt21642/dispyprob/pyprob/pyprob/nn/inference_network_lstm.py:107: UserWarning: Address of previous variable unknown by inference network: 510__forward___traverse___traverse_rec___traverse_rec___traverse_rec___traverse_rec___traverse_rec___traverse_rec___traverse_rec___traverse_rec___traverse_rec___traverse_rec___traverse_rec___traverse_rec___traverse_rec__draw_decay_R__TruncatedExponential__7\n",
      "  warnings.warn('Address of previous variable unknown by inference network: {}'.format(prev_address))\n",
      "/home/tt21642/dispyprob/pyprob/pyprob/nn/inference_network_lstm.py:116: UserWarning: Address of current variable unknown by inference network: 216__forward___traverse___traverse_rec___traverse_rec___traverse_rec___traverse_rec___traverse_rec___traverse_rec___traverse_rec___traverse_rec___traverse_rec___traverse_rec___traverse_rec___traverse_rec___traverse_rec__phi_CM__Uniform__8\n",
      "  warnings.warn('Address of current variable unknown by inference network: {}'.format(current_address))\n",
      "/home/tt21642/dispyprob/pyprob/pyprob/nn/inference_network_lstm.py:137: UserWarning: Using prior. No proposal for address: 216__forward___traverse___traverse_rec___traverse_rec___traverse_rec___traverse_rec___traverse_rec___traverse_rec___traverse_rec___traverse_rec___traverse_rec___traverse_rec___traverse_rec___traverse_rec___traverse_rec__phi_CM__Uniform__8\n",
      "  warnings.warn('Using prior. No proposal for address: {}'.format(current_address))\n",
      "/home/tt21642/dispyprob/pyprob/pyprob/nn/inference_network_lstm.py:107: UserWarning: Address of previous variable unknown by inference network: 216__forward___traverse___traverse_rec___traverse_rec___traverse_rec___traverse_rec___traverse_rec___traverse_rec___traverse_rec___traverse_rec___traverse_rec___traverse_rec___traverse_rec___traverse_rec___traverse_rec__phi_CM__Uniform__8\n",
      "  warnings.warn('Address of previous variable unknown by inference network: {}'.format(prev_address))\n",
      "/home/tt21642/dispyprob/pyprob/pyprob/nn/inference_network_lstm.py:116: UserWarning: Address of current variable unknown by inference network: 256__forward___traverse___traverse_rec___traverse_rec___traverse_rec___traverse_rec___traverse_rec___traverse_rec___traverse_rec___traverse_rec___traverse_rec___traverse_rec___traverse_rec___traverse_rec___traverse_rec__theta_CM_U__Uniform__8\n",
      "  warnings.warn('Address of current variable unknown by inference network: {}'.format(current_address))\n",
      "/home/tt21642/dispyprob/pyprob/pyprob/nn/inference_network_lstm.py:137: UserWarning: Using prior. No proposal for address: 256__forward___traverse___traverse_rec___traverse_rec___traverse_rec___traverse_rec___traverse_rec___traverse_rec___traverse_rec___traverse_rec___traverse_rec___traverse_rec___traverse_rec___traverse_rec___traverse_rec__theta_CM_U__Uniform__8\n",
      "  warnings.warn('Using prior. No proposal for address: {}'.format(current_address))\n",
      "/home/tt21642/dispyprob/pyprob/pyprob/nn/inference_network_lstm.py:107: UserWarning: Address of previous variable unknown by inference network: 256__forward___traverse___traverse_rec___traverse_rec___traverse_rec___traverse_rec___traverse_rec___traverse_rec___traverse_rec___traverse_rec___traverse_rec___traverse_rec___traverse_rec___traverse_rec___traverse_rec__theta_CM_U__Uniform__8\n",
      "  warnings.warn('Address of previous variable unknown by inference network: {}'.format(prev_address))\n",
      "/home/tt21642/dispyprob/pyprob/pyprob/nn/inference_network_lstm.py:116: UserWarning: Address of current variable unknown by inference network: 460__forward___traverse___traverse_rec___traverse_rec___traverse_rec___traverse_rec___traverse_rec___traverse_rec___traverse_rec___traverse_rec___traverse_rec___traverse_rec___traverse_rec___traverse_rec___traverse_rec__draw_decay_L__TruncatedExponential__8\n",
      "  warnings.warn('Address of current variable unknown by inference network: {}'.format(current_address))\n",
      "/home/tt21642/dispyprob/pyprob/pyprob/nn/inference_network_lstm.py:137: UserWarning: Using prior. No proposal for address: 460__forward___traverse___traverse_rec___traverse_rec___traverse_rec___traverse_rec___traverse_rec___traverse_rec___traverse_rec___traverse_rec___traverse_rec___traverse_rec___traverse_rec___traverse_rec___traverse_rec__draw_decay_L__TruncatedExponential__8\n",
      "  warnings.warn('Using prior. No proposal for address: {}'.format(current_address))\n",
      "/home/tt21642/dispyprob/pyprob/pyprob/nn/inference_network_lstm.py:107: UserWarning: Address of previous variable unknown by inference network: 460__forward___traverse___traverse_rec___traverse_rec___traverse_rec___traverse_rec___traverse_rec___traverse_rec___traverse_rec___traverse_rec___traverse_rec___traverse_rec___traverse_rec___traverse_rec___traverse_rec__draw_decay_L__TruncatedExponential__8\n",
      "  warnings.warn('Address of previous variable unknown by inference network: {}'.format(prev_address))\n",
      "/home/tt21642/dispyprob/pyprob/pyprob/nn/inference_network_lstm.py:116: UserWarning: Address of current variable unknown by inference network: 510__forward___traverse___traverse_rec___traverse_rec___traverse_rec___traverse_rec___traverse_rec___traverse_rec___traverse_rec___traverse_rec___traverse_rec___traverse_rec___traverse_rec___traverse_rec___traverse_rec__draw_decay_R__TruncatedExponential__8\n",
      "  warnings.warn('Address of current variable unknown by inference network: {}'.format(current_address))\n",
      "/home/tt21642/dispyprob/pyprob/pyprob/nn/inference_network_lstm.py:137: UserWarning: Using prior. No proposal for address: 510__forward___traverse___traverse_rec___traverse_rec___traverse_rec___traverse_rec___traverse_rec___traverse_rec___traverse_rec___traverse_rec___traverse_rec___traverse_rec___traverse_rec___traverse_rec___traverse_rec__draw_decay_R__TruncatedExponential__8\n",
      "  warnings.warn('Using prior. No proposal for address: {}'.format(current_address))\n",
      "/home/tt21642/dispyprob/pyprob/pyprob/nn/inference_network_lstm.py:107: UserWarning: Address of previous variable unknown by inference network: 510__forward___traverse___traverse_rec___traverse_rec___traverse_rec___traverse_rec___traverse_rec___traverse_rec___traverse_rec___traverse_rec___traverse_rec___traverse_rec___traverse_rec___traverse_rec___traverse_rec__draw_decay_R__TruncatedExponential__8\n",
      "  warnings.warn('Address of previous variable unknown by inference network: {}'.format(prev_address))\n"
     ]
    },
    {
     "name": "stdout",
     "output_type": "stream",
     "text": [
      "0d:00:06:57 | 0d:04:43:24 | -------------------- |   24/1000 |   1.00 | 0.06       \r"
     ]
    },
    {
     "name": "stderr",
     "output_type": "stream",
     "text": [
      "/home/tt21642/dispyprob/pyprob/pyprob/nn/inference_network_lstm.py:116: UserWarning: Address of current variable unknown by inference network: 216__forward___traverse___traverse_rec___traverse_rec___traverse_rec___traverse_rec___traverse_rec___traverse_rec___traverse_rec___traverse_rec___traverse_rec___traverse_rec___traverse_rec___traverse_rec___traverse_rec___traverse_rec___traverse_rec__phi_CM__Uniform__3\n",
      "  warnings.warn('Address of current variable unknown by inference network: {}'.format(current_address))\n",
      "/home/tt21642/dispyprob/pyprob/pyprob/nn/inference_network_lstm.py:137: UserWarning: Using prior. No proposal for address: 216__forward___traverse___traverse_rec___traverse_rec___traverse_rec___traverse_rec___traverse_rec___traverse_rec___traverse_rec___traverse_rec___traverse_rec___traverse_rec___traverse_rec___traverse_rec___traverse_rec___traverse_rec___traverse_rec__phi_CM__Uniform__3\n",
      "  warnings.warn('Using prior. No proposal for address: {}'.format(current_address))\n",
      "/home/tt21642/dispyprob/pyprob/pyprob/nn/inference_network_lstm.py:107: UserWarning: Address of previous variable unknown by inference network: 216__forward___traverse___traverse_rec___traverse_rec___traverse_rec___traverse_rec___traverse_rec___traverse_rec___traverse_rec___traverse_rec___traverse_rec___traverse_rec___traverse_rec___traverse_rec___traverse_rec___traverse_rec___traverse_rec__phi_CM__Uniform__3\n",
      "  warnings.warn('Address of previous variable unknown by inference network: {}'.format(prev_address))\n",
      "/home/tt21642/dispyprob/pyprob/pyprob/nn/inference_network_lstm.py:116: UserWarning: Address of current variable unknown by inference network: 256__forward___traverse___traverse_rec___traverse_rec___traverse_rec___traverse_rec___traverse_rec___traverse_rec___traverse_rec___traverse_rec___traverse_rec___traverse_rec___traverse_rec___traverse_rec___traverse_rec___traverse_rec___traverse_rec__theta_CM_U__Uniform__3\n",
      "  warnings.warn('Address of current variable unknown by inference network: {}'.format(current_address))\n",
      "/home/tt21642/dispyprob/pyprob/pyprob/nn/inference_network_lstm.py:137: UserWarning: Using prior. No proposal for address: 256__forward___traverse___traverse_rec___traverse_rec___traverse_rec___traverse_rec___traverse_rec___traverse_rec___traverse_rec___traverse_rec___traverse_rec___traverse_rec___traverse_rec___traverse_rec___traverse_rec___traverse_rec___traverse_rec__theta_CM_U__Uniform__3\n",
      "  warnings.warn('Using prior. No proposal for address: {}'.format(current_address))\n",
      "/home/tt21642/dispyprob/pyprob/pyprob/nn/inference_network_lstm.py:107: UserWarning: Address of previous variable unknown by inference network: 256__forward___traverse___traverse_rec___traverse_rec___traverse_rec___traverse_rec___traverse_rec___traverse_rec___traverse_rec___traverse_rec___traverse_rec___traverse_rec___traverse_rec___traverse_rec___traverse_rec___traverse_rec___traverse_rec__theta_CM_U__Uniform__3\n",
      "  warnings.warn('Address of previous variable unknown by inference network: {}'.format(prev_address))\n",
      "/home/tt21642/dispyprob/pyprob/pyprob/nn/inference_network_lstm.py:116: UserWarning: Address of current variable unknown by inference network: 460__forward___traverse___traverse_rec___traverse_rec___traverse_rec___traverse_rec___traverse_rec___traverse_rec___traverse_rec___traverse_rec___traverse_rec___traverse_rec___traverse_rec___traverse_rec___traverse_rec___traverse_rec___traverse_rec__draw_decay_L__TruncatedExponential__3\n",
      "  warnings.warn('Address of current variable unknown by inference network: {}'.format(current_address))\n",
      "/home/tt21642/dispyprob/pyprob/pyprob/nn/inference_network_lstm.py:137: UserWarning: Using prior. No proposal for address: 460__forward___traverse___traverse_rec___traverse_rec___traverse_rec___traverse_rec___traverse_rec___traverse_rec___traverse_rec___traverse_rec___traverse_rec___traverse_rec___traverse_rec___traverse_rec___traverse_rec___traverse_rec___traverse_rec__draw_decay_L__TruncatedExponential__3\n",
      "  warnings.warn('Using prior. No proposal for address: {}'.format(current_address))\n",
      "/home/tt21642/dispyprob/pyprob/pyprob/nn/inference_network_lstm.py:107: UserWarning: Address of previous variable unknown by inference network: 460__forward___traverse___traverse_rec___traverse_rec___traverse_rec___traverse_rec___traverse_rec___traverse_rec___traverse_rec___traverse_rec___traverse_rec___traverse_rec___traverse_rec___traverse_rec___traverse_rec___traverse_rec___traverse_rec__draw_decay_L__TruncatedExponential__3\n",
      "  warnings.warn('Address of previous variable unknown by inference network: {}'.format(prev_address))\n",
      "/home/tt21642/dispyprob/pyprob/pyprob/nn/inference_network_lstm.py:116: UserWarning: Address of current variable unknown by inference network: 510__forward___traverse___traverse_rec___traverse_rec___traverse_rec___traverse_rec___traverse_rec___traverse_rec___traverse_rec___traverse_rec___traverse_rec___traverse_rec___traverse_rec___traverse_rec___traverse_rec___traverse_rec___traverse_rec__draw_decay_R__TruncatedExponential__3\n",
      "  warnings.warn('Address of current variable unknown by inference network: {}'.format(current_address))\n",
      "/home/tt21642/dispyprob/pyprob/pyprob/nn/inference_network_lstm.py:137: UserWarning: Using prior. No proposal for address: 510__forward___traverse___traverse_rec___traverse_rec___traverse_rec___traverse_rec___traverse_rec___traverse_rec___traverse_rec___traverse_rec___traverse_rec___traverse_rec___traverse_rec___traverse_rec___traverse_rec___traverse_rec___traverse_rec__draw_decay_R__TruncatedExponential__3\n",
      "  warnings.warn('Using prior. No proposal for address: {}'.format(current_address))\n",
      "/home/tt21642/dispyprob/pyprob/pyprob/nn/inference_network_lstm.py:107: UserWarning: Address of previous variable unknown by inference network: 510__forward___traverse___traverse_rec___traverse_rec___traverse_rec___traverse_rec___traverse_rec___traverse_rec___traverse_rec___traverse_rec___traverse_rec___traverse_rec___traverse_rec___traverse_rec___traverse_rec___traverse_rec___traverse_rec__draw_decay_R__TruncatedExponential__3\n",
      "  warnings.warn('Address of previous variable unknown by inference network: {}'.format(prev_address))\n",
      "/home/tt21642/dispyprob/pyprob/pyprob/nn/inference_network_lstm.py:116: UserWarning: Address of current variable unknown by inference network: 216__forward___traverse___traverse_rec___traverse_rec___traverse_rec___traverse_rec___traverse_rec___traverse_rec___traverse_rec___traverse_rec___traverse_rec___traverse_rec___traverse_rec___traverse_rec___traverse_rec___traverse_rec___traverse_rec__phi_CM__Uniform__4\n",
      "  warnings.warn('Address of current variable unknown by inference network: {}'.format(current_address))\n",
      "/home/tt21642/dispyprob/pyprob/pyprob/nn/inference_network_lstm.py:137: UserWarning: Using prior. No proposal for address: 216__forward___traverse___traverse_rec___traverse_rec___traverse_rec___traverse_rec___traverse_rec___traverse_rec___traverse_rec___traverse_rec___traverse_rec___traverse_rec___traverse_rec___traverse_rec___traverse_rec___traverse_rec___traverse_rec__phi_CM__Uniform__4\n",
      "  warnings.warn('Using prior. No proposal for address: {}'.format(current_address))\n",
      "/home/tt21642/dispyprob/pyprob/pyprob/nn/inference_network_lstm.py:107: UserWarning: Address of previous variable unknown by inference network: 216__forward___traverse___traverse_rec___traverse_rec___traverse_rec___traverse_rec___traverse_rec___traverse_rec___traverse_rec___traverse_rec___traverse_rec___traverse_rec___traverse_rec___traverse_rec___traverse_rec___traverse_rec___traverse_rec__phi_CM__Uniform__4\n",
      "  warnings.warn('Address of previous variable unknown by inference network: {}'.format(prev_address))\n",
      "/home/tt21642/dispyprob/pyprob/pyprob/nn/inference_network_lstm.py:116: UserWarning: Address of current variable unknown by inference network: 256__forward___traverse___traverse_rec___traverse_rec___traverse_rec___traverse_rec___traverse_rec___traverse_rec___traverse_rec___traverse_rec___traverse_rec___traverse_rec___traverse_rec___traverse_rec___traverse_rec___traverse_rec___traverse_rec__theta_CM_U__Uniform__4\n",
      "  warnings.warn('Address of current variable unknown by inference network: {}'.format(current_address))\n",
      "/home/tt21642/dispyprob/pyprob/pyprob/nn/inference_network_lstm.py:137: UserWarning: Using prior. No proposal for address: 256__forward___traverse___traverse_rec___traverse_rec___traverse_rec___traverse_rec___traverse_rec___traverse_rec___traverse_rec___traverse_rec___traverse_rec___traverse_rec___traverse_rec___traverse_rec___traverse_rec___traverse_rec___traverse_rec__theta_CM_U__Uniform__4\n",
      "  warnings.warn('Using prior. No proposal for address: {}'.format(current_address))\n",
      "/home/tt21642/dispyprob/pyprob/pyprob/nn/inference_network_lstm.py:107: UserWarning: Address of previous variable unknown by inference network: 256__forward___traverse___traverse_rec___traverse_rec___traverse_rec___traverse_rec___traverse_rec___traverse_rec___traverse_rec___traverse_rec___traverse_rec___traverse_rec___traverse_rec___traverse_rec___traverse_rec___traverse_rec___traverse_rec__theta_CM_U__Uniform__4\n",
      "  warnings.warn('Address of previous variable unknown by inference network: {}'.format(prev_address))\n",
      "/home/tt21642/dispyprob/pyprob/pyprob/nn/inference_network_lstm.py:116: UserWarning: Address of current variable unknown by inference network: 460__forward___traverse___traverse_rec___traverse_rec___traverse_rec___traverse_rec___traverse_rec___traverse_rec___traverse_rec___traverse_rec___traverse_rec___traverse_rec___traverse_rec___traverse_rec___traverse_rec___traverse_rec___traverse_rec__draw_decay_L__TruncatedExponential__4\n",
      "  warnings.warn('Address of current variable unknown by inference network: {}'.format(current_address))\n",
      "/home/tt21642/dispyprob/pyprob/pyprob/nn/inference_network_lstm.py:137: UserWarning: Using prior. No proposal for address: 460__forward___traverse___traverse_rec___traverse_rec___traverse_rec___traverse_rec___traverse_rec___traverse_rec___traverse_rec___traverse_rec___traverse_rec___traverse_rec___traverse_rec___traverse_rec___traverse_rec___traverse_rec___traverse_rec__draw_decay_L__TruncatedExponential__4\n",
      "  warnings.warn('Using prior. No proposal for address: {}'.format(current_address))\n",
      "/home/tt21642/dispyprob/pyprob/pyprob/nn/inference_network_lstm.py:107: UserWarning: Address of previous variable unknown by inference network: 460__forward___traverse___traverse_rec___traverse_rec___traverse_rec___traverse_rec___traverse_rec___traverse_rec___traverse_rec___traverse_rec___traverse_rec___traverse_rec___traverse_rec___traverse_rec___traverse_rec___traverse_rec___traverse_rec__draw_decay_L__TruncatedExponential__4\n",
      "  warnings.warn('Address of previous variable unknown by inference network: {}'.format(prev_address))\n",
      "/home/tt21642/dispyprob/pyprob/pyprob/nn/inference_network_lstm.py:116: UserWarning: Address of current variable unknown by inference network: 510__forward___traverse___traverse_rec___traverse_rec___traverse_rec___traverse_rec___traverse_rec___traverse_rec___traverse_rec___traverse_rec___traverse_rec___traverse_rec___traverse_rec___traverse_rec___traverse_rec___traverse_rec___traverse_rec__draw_decay_R__TruncatedExponential__4\n",
      "  warnings.warn('Address of current variable unknown by inference network: {}'.format(current_address))\n",
      "/home/tt21642/dispyprob/pyprob/pyprob/nn/inference_network_lstm.py:137: UserWarning: Using prior. No proposal for address: 510__forward___traverse___traverse_rec___traverse_rec___traverse_rec___traverse_rec___traverse_rec___traverse_rec___traverse_rec___traverse_rec___traverse_rec___traverse_rec___traverse_rec___traverse_rec___traverse_rec___traverse_rec___traverse_rec__draw_decay_R__TruncatedExponential__4\n",
      "  warnings.warn('Using prior. No proposal for address: {}'.format(current_address))\n",
      "/home/tt21642/dispyprob/pyprob/pyprob/nn/inference_network_lstm.py:107: UserWarning: Address of previous variable unknown by inference network: 510__forward___traverse___traverse_rec___traverse_rec___traverse_rec___traverse_rec___traverse_rec___traverse_rec___traverse_rec___traverse_rec___traverse_rec___traverse_rec___traverse_rec___traverse_rec___traverse_rec___traverse_rec___traverse_rec__draw_decay_R__TruncatedExponential__4\n",
      "  warnings.warn('Address of previous variable unknown by inference network: {}'.format(prev_address))\n",
      "/home/tt21642/dispyprob/pyprob/pyprob/nn/inference_network_lstm.py:137: UserWarning: Using prior. No proposal for address: 216__forward___traverse___traverse_rec___traverse_rec___traverse_rec___traverse_rec___traverse_rec___traverse_rec__phi_CM__Uniform__2\n",
      "  warnings.warn('Using prior. No proposal for address: {}'.format(current_address))\n"
     ]
    },
    {
     "name": "stdout",
     "output_type": "stream",
     "text": [
      "0d:00:07:11 | 0d:04:40:43 | -------------------- |   25/1000 |   1.00 | 0.06       \r"
     ]
    },
    {
     "name": "stderr",
     "output_type": "stream",
     "text": [
      "/home/tt21642/dispyprob/pyprob/pyprob/nn/inference_network_lstm.py:137: UserWarning: Using prior. No proposal for address: 216__forward___traverse___traverse_rec___traverse_rec___traverse_rec___traverse_rec___traverse_rec___traverse_rec___traverse_rec___traverse_rec__phi_CM__Uniform__10\n",
      "  warnings.warn('Using prior. No proposal for address: {}'.format(current_address))\n",
      "/home/tt21642/dispyprob/pyprob/pyprob/nn/inference_network_lstm.py:137: UserWarning: Using prior. No proposal for address: 216__forward___traverse___traverse_rec___traverse_rec___traverse_rec___traverse_rec__phi_CM__Uniform__3\n",
      "  warnings.warn('Using prior. No proposal for address: {}'.format(current_address))\n"
     ]
    },
    {
     "name": "stdout",
     "output_type": "stream",
     "text": [
      "0d:00:08:16 | 0d:04:27:56 | #------------------- |   30/1000 |   1.23 | 0.06       \r"
     ]
    },
    {
     "name": "stderr",
     "output_type": "stream",
     "text": [
      "/home/tt21642/dispyprob/pyprob/pyprob/nn/inference_network_lstm.py:137: UserWarning: Using prior. No proposal for address: 216__forward___traverse___traverse_rec___traverse_rec___traverse_rec___traverse_rec___traverse_rec___traverse_rec___traverse_rec___traverse_rec___traverse_rec___traverse_rec___traverse_rec___traverse_rec___traverse_rec___traverse_rec__phi_CM__Uniform__1\n",
      "  warnings.warn('Using prior. No proposal for address: {}'.format(current_address))\n",
      "/home/tt21642/dispyprob/pyprob/pyprob/nn/inference_network_lstm.py:137: UserWarning: Using prior. No proposal for address: 216__forward___traverse___traverse_rec___traverse_rec___traverse_rec___traverse_rec___traverse_rec___traverse_rec___traverse_rec__phi_CM__Uniform__4\n",
      "  warnings.warn('Using prior. No proposal for address: {}'.format(current_address))\n",
      "/home/tt21642/dispyprob/pyprob/pyprob/nn/inference_network_lstm.py:116: UserWarning: Address of current variable unknown by inference network: 216__forward___traverse___traverse_rec___traverse_rec___traverse_rec___traverse_rec___traverse_rec___traverse_rec___traverse_rec___traverse_rec___traverse_rec___traverse_rec__phi_CM__Uniform__13\n",
      "  warnings.warn('Address of current variable unknown by inference network: {}'.format(current_address))\n",
      "/home/tt21642/dispyprob/pyprob/pyprob/nn/inference_network_lstm.py:137: UserWarning: Using prior. No proposal for address: 216__forward___traverse___traverse_rec___traverse_rec___traverse_rec___traverse_rec___traverse_rec___traverse_rec___traverse_rec___traverse_rec___traverse_rec___traverse_rec__phi_CM__Uniform__13\n",
      "  warnings.warn('Using prior. No proposal for address: {}'.format(current_address))\n",
      "/home/tt21642/dispyprob/pyprob/pyprob/nn/inference_network_lstm.py:107: UserWarning: Address of previous variable unknown by inference network: 216__forward___traverse___traverse_rec___traverse_rec___traverse_rec___traverse_rec___traverse_rec___traverse_rec___traverse_rec___traverse_rec___traverse_rec___traverse_rec__phi_CM__Uniform__13\n",
      "  warnings.warn('Address of previous variable unknown by inference network: {}'.format(prev_address))\n",
      "/home/tt21642/dispyprob/pyprob/pyprob/nn/inference_network_lstm.py:116: UserWarning: Address of current variable unknown by inference network: 256__forward___traverse___traverse_rec___traverse_rec___traverse_rec___traverse_rec___traverse_rec___traverse_rec___traverse_rec___traverse_rec___traverse_rec___traverse_rec__theta_CM_U__Uniform__13\n",
      "  warnings.warn('Address of current variable unknown by inference network: {}'.format(current_address))\n",
      "/home/tt21642/dispyprob/pyprob/pyprob/nn/inference_network_lstm.py:137: UserWarning: Using prior. No proposal for address: 256__forward___traverse___traverse_rec___traverse_rec___traverse_rec___traverse_rec___traverse_rec___traverse_rec___traverse_rec___traverse_rec___traverse_rec___traverse_rec__theta_CM_U__Uniform__13\n",
      "  warnings.warn('Using prior. No proposal for address: {}'.format(current_address))\n",
      "/home/tt21642/dispyprob/pyprob/pyprob/nn/inference_network_lstm.py:107: UserWarning: Address of previous variable unknown by inference network: 256__forward___traverse___traverse_rec___traverse_rec___traverse_rec___traverse_rec___traverse_rec___traverse_rec___traverse_rec___traverse_rec___traverse_rec___traverse_rec__theta_CM_U__Uniform__13\n",
      "  warnings.warn('Address of previous variable unknown by inference network: {}'.format(prev_address))\n",
      "/home/tt21642/dispyprob/pyprob/pyprob/nn/inference_network_lstm.py:116: UserWarning: Address of current variable unknown by inference network: 460__forward___traverse___traverse_rec___traverse_rec___traverse_rec___traverse_rec___traverse_rec___traverse_rec___traverse_rec___traverse_rec___traverse_rec___traverse_rec__draw_decay_L__TruncatedExponential__13\n",
      "  warnings.warn('Address of current variable unknown by inference network: {}'.format(current_address))\n",
      "/home/tt21642/dispyprob/pyprob/pyprob/nn/inference_network_lstm.py:137: UserWarning: Using prior. No proposal for address: 460__forward___traverse___traverse_rec___traverse_rec___traverse_rec___traverse_rec___traverse_rec___traverse_rec___traverse_rec___traverse_rec___traverse_rec___traverse_rec__draw_decay_L__TruncatedExponential__13\n",
      "  warnings.warn('Using prior. No proposal for address: {}'.format(current_address))\n",
      "/home/tt21642/dispyprob/pyprob/pyprob/nn/inference_network_lstm.py:107: UserWarning: Address of previous variable unknown by inference network: 460__forward___traverse___traverse_rec___traverse_rec___traverse_rec___traverse_rec___traverse_rec___traverse_rec___traverse_rec___traverse_rec___traverse_rec___traverse_rec__draw_decay_L__TruncatedExponential__13\n",
      "  warnings.warn('Address of previous variable unknown by inference network: {}'.format(prev_address))\n",
      "/home/tt21642/dispyprob/pyprob/pyprob/nn/inference_network_lstm.py:116: UserWarning: Address of current variable unknown by inference network: 510__forward___traverse___traverse_rec___traverse_rec___traverse_rec___traverse_rec___traverse_rec___traverse_rec___traverse_rec___traverse_rec___traverse_rec___traverse_rec__draw_decay_R__TruncatedExponential__13\n",
      "  warnings.warn('Address of current variable unknown by inference network: {}'.format(current_address))\n",
      "/home/tt21642/dispyprob/pyprob/pyprob/nn/inference_network_lstm.py:137: UserWarning: Using prior. No proposal for address: 510__forward___traverse___traverse_rec___traverse_rec___traverse_rec___traverse_rec___traverse_rec___traverse_rec___traverse_rec___traverse_rec___traverse_rec___traverse_rec__draw_decay_R__TruncatedExponential__13\n",
      "  warnings.warn('Using prior. No proposal for address: {}'.format(current_address))\n",
      "/home/tt21642/dispyprob/pyprob/pyprob/nn/inference_network_lstm.py:107: UserWarning: Address of previous variable unknown by inference network: 510__forward___traverse___traverse_rec___traverse_rec___traverse_rec___traverse_rec___traverse_rec___traverse_rec___traverse_rec___traverse_rec___traverse_rec___traverse_rec__draw_decay_R__TruncatedExponential__13\n",
      "  warnings.warn('Address of previous variable unknown by inference network: {}'.format(prev_address))\n",
      "/home/tt21642/dispyprob/pyprob/pyprob/nn/inference_network_lstm.py:137: UserWarning: Using prior. No proposal for address: 216__forward___traverse___traverse_rec___traverse_rec___traverse_rec___traverse_rec___traverse_rec___traverse_rec___traverse_rec__phi_CM__Uniform__6\n",
      "  warnings.warn('Using prior. No proposal for address: {}'.format(current_address))\n",
      "/home/tt21642/dispyprob/pyprob/pyprob/nn/inference_network_lstm.py:137: UserWarning: Using prior. No proposal for address: 216__forward___traverse___traverse_rec___traverse_rec___traverse_rec___traverse_rec___traverse_rec___traverse_rec___traverse_rec___traverse_rec__phi_CM__Uniform__11\n",
      "  warnings.warn('Using prior. No proposal for address: {}'.format(current_address))\n",
      "/home/tt21642/dispyprob/pyprob/pyprob/nn/inference_network_lstm.py:137: UserWarning: Using prior. No proposal for address: 216__forward___traverse___traverse_rec___traverse_rec___traverse_rec___traverse_rec__phi_CM__Uniform__4\n",
      "  warnings.warn('Using prior. No proposal for address: {}'.format(current_address))\n"
     ]
    },
    {
     "name": "stdout",
     "output_type": "stream",
     "text": [
      "0d:00:08:55 | 0d:04:21:46 | #------------------- |   33/1000 |   1.23 | 0.06       \r"
     ]
    },
    {
     "name": "stderr",
     "output_type": "stream",
     "text": [
      "/home/tt21642/dispyprob/pyprob/pyprob/nn/inference_network_lstm.py:116: UserWarning: Address of current variable unknown by inference network: 216__forward___traverse___traverse_rec___traverse_rec___traverse_rec___traverse_rec___traverse_rec___traverse_rec___traverse_rec___traverse_rec___traverse_rec___traverse_rec___traverse_rec___traverse_rec___traverse_rec___traverse_rec___traverse_rec___traverse_rec___traverse_rec___traverse_rec___traverse_rec__phi_CM__Uniform__1\n",
      "  warnings.warn('Address of current variable unknown by inference network: {}'.format(current_address))\n",
      "/home/tt21642/dispyprob/pyprob/pyprob/nn/inference_network_lstm.py:137: UserWarning: Using prior. No proposal for address: 216__forward___traverse___traverse_rec___traverse_rec___traverse_rec___traverse_rec___traverse_rec___traverse_rec___traverse_rec___traverse_rec___traverse_rec___traverse_rec___traverse_rec___traverse_rec___traverse_rec___traverse_rec___traverse_rec___traverse_rec___traverse_rec___traverse_rec___traverse_rec__phi_CM__Uniform__1\n",
      "  warnings.warn('Using prior. No proposal for address: {}'.format(current_address))\n",
      "/home/tt21642/dispyprob/pyprob/pyprob/nn/inference_network_lstm.py:107: UserWarning: Address of previous variable unknown by inference network: 216__forward___traverse___traverse_rec___traverse_rec___traverse_rec___traverse_rec___traverse_rec___traverse_rec___traverse_rec___traverse_rec___traverse_rec___traverse_rec___traverse_rec___traverse_rec___traverse_rec___traverse_rec___traverse_rec___traverse_rec___traverse_rec___traverse_rec___traverse_rec__phi_CM__Uniform__1\n",
      "  warnings.warn('Address of previous variable unknown by inference network: {}'.format(prev_address))\n",
      "/home/tt21642/dispyprob/pyprob/pyprob/nn/inference_network_lstm.py:116: UserWarning: Address of current variable unknown by inference network: 256__forward___traverse___traverse_rec___traverse_rec___traverse_rec___traverse_rec___traverse_rec___traverse_rec___traverse_rec___traverse_rec___traverse_rec___traverse_rec___traverse_rec___traverse_rec___traverse_rec___traverse_rec___traverse_rec___traverse_rec___traverse_rec___traverse_rec___traverse_rec__theta_CM_U__Uniform__1\n",
      "  warnings.warn('Address of current variable unknown by inference network: {}'.format(current_address))\n",
      "/home/tt21642/dispyprob/pyprob/pyprob/nn/inference_network_lstm.py:137: UserWarning: Using prior. No proposal for address: 256__forward___traverse___traverse_rec___traverse_rec___traverse_rec___traverse_rec___traverse_rec___traverse_rec___traverse_rec___traverse_rec___traverse_rec___traverse_rec___traverse_rec___traverse_rec___traverse_rec___traverse_rec___traverse_rec___traverse_rec___traverse_rec___traverse_rec___traverse_rec__theta_CM_U__Uniform__1\n",
      "  warnings.warn('Using prior. No proposal for address: {}'.format(current_address))\n",
      "/home/tt21642/dispyprob/pyprob/pyprob/nn/inference_network_lstm.py:107: UserWarning: Address of previous variable unknown by inference network: 256__forward___traverse___traverse_rec___traverse_rec___traverse_rec___traverse_rec___traverse_rec___traverse_rec___traverse_rec___traverse_rec___traverse_rec___traverse_rec___traverse_rec___traverse_rec___traverse_rec___traverse_rec___traverse_rec___traverse_rec___traverse_rec___traverse_rec___traverse_rec__theta_CM_U__Uniform__1\n",
      "  warnings.warn('Address of previous variable unknown by inference network: {}'.format(prev_address))\n",
      "/home/tt21642/dispyprob/pyprob/pyprob/nn/inference_network_lstm.py:116: UserWarning: Address of current variable unknown by inference network: 460__forward___traverse___traverse_rec___traverse_rec___traverse_rec___traverse_rec___traverse_rec___traverse_rec___traverse_rec___traverse_rec___traverse_rec___traverse_rec___traverse_rec___traverse_rec___traverse_rec___traverse_rec___traverse_rec___traverse_rec___traverse_rec___traverse_rec___traverse_rec__draw_decay_L__TruncatedExponential__1\n",
      "  warnings.warn('Address of current variable unknown by inference network: {}'.format(current_address))\n",
      "/home/tt21642/dispyprob/pyprob/pyprob/nn/inference_network_lstm.py:137: UserWarning: Using prior. No proposal for address: 460__forward___traverse___traverse_rec___traverse_rec___traverse_rec___traverse_rec___traverse_rec___traverse_rec___traverse_rec___traverse_rec___traverse_rec___traverse_rec___traverse_rec___traverse_rec___traverse_rec___traverse_rec___traverse_rec___traverse_rec___traverse_rec___traverse_rec___traverse_rec__draw_decay_L__TruncatedExponential__1\n",
      "  warnings.warn('Using prior. No proposal for address: {}'.format(current_address))\n",
      "/home/tt21642/dispyprob/pyprob/pyprob/nn/inference_network_lstm.py:107: UserWarning: Address of previous variable unknown by inference network: 460__forward___traverse___traverse_rec___traverse_rec___traverse_rec___traverse_rec___traverse_rec___traverse_rec___traverse_rec___traverse_rec___traverse_rec___traverse_rec___traverse_rec___traverse_rec___traverse_rec___traverse_rec___traverse_rec___traverse_rec___traverse_rec___traverse_rec___traverse_rec__draw_decay_L__TruncatedExponential__1\n",
      "  warnings.warn('Address of previous variable unknown by inference network: {}'.format(prev_address))\n",
      "/home/tt21642/dispyprob/pyprob/pyprob/nn/inference_network_lstm.py:116: UserWarning: Address of current variable unknown by inference network: 510__forward___traverse___traverse_rec___traverse_rec___traverse_rec___traverse_rec___traverse_rec___traverse_rec___traverse_rec___traverse_rec___traverse_rec___traverse_rec___traverse_rec___traverse_rec___traverse_rec___traverse_rec___traverse_rec___traverse_rec___traverse_rec___traverse_rec___traverse_rec__draw_decay_R__TruncatedExponential__1\n",
      "  warnings.warn('Address of current variable unknown by inference network: {}'.format(current_address))\n",
      "/home/tt21642/dispyprob/pyprob/pyprob/nn/inference_network_lstm.py:137: UserWarning: Using prior. No proposal for address: 510__forward___traverse___traverse_rec___traverse_rec___traverse_rec___traverse_rec___traverse_rec___traverse_rec___traverse_rec___traverse_rec___traverse_rec___traverse_rec___traverse_rec___traverse_rec___traverse_rec___traverse_rec___traverse_rec___traverse_rec___traverse_rec___traverse_rec___traverse_rec__draw_decay_R__TruncatedExponential__1\n",
      "  warnings.warn('Using prior. No proposal for address: {}'.format(current_address))\n",
      "/home/tt21642/dispyprob/pyprob/pyprob/nn/inference_network_lstm.py:107: UserWarning: Address of previous variable unknown by inference network: 510__forward___traverse___traverse_rec___traverse_rec___traverse_rec___traverse_rec___traverse_rec___traverse_rec___traverse_rec___traverse_rec___traverse_rec___traverse_rec___traverse_rec___traverse_rec___traverse_rec___traverse_rec___traverse_rec___traverse_rec___traverse_rec___traverse_rec___traverse_rec__draw_decay_R__TruncatedExponential__1\n",
      "  warnings.warn('Address of previous variable unknown by inference network: {}'.format(prev_address))\n"
     ]
    },
    {
     "name": "stdout",
     "output_type": "stream",
     "text": [
      "0d:00:09:11 | 0d:04:21:31 | #------------------- |   34/1000 |   1.23 | 0.06       \r"
     ]
    },
    {
     "name": "stderr",
     "output_type": "stream",
     "text": [
      "/home/tt21642/dispyprob/pyprob/pyprob/nn/inference_network_lstm.py:137: UserWarning: Using prior. No proposal for address: 216__forward___traverse___traverse_rec___traverse_rec___traverse_rec___traverse_rec___traverse_rec___traverse_rec___traverse_rec___traverse_rec__phi_CM__Uniform__2\n",
      "  warnings.warn('Using prior. No proposal for address: {}'.format(current_address))\n",
      "/home/tt21642/dispyprob/pyprob/pyprob/nn/inference_network_lstm.py:137: UserWarning: Using prior. No proposal for address: 216__forward___traverse___traverse_rec___traverse_rec___traverse_rec___traverse_rec___traverse_rec___traverse_rec___traverse_rec___traverse_rec___traverse_rec___traverse_rec__phi_CM__Uniform__3\n",
      "  warnings.warn('Using prior. No proposal for address: {}'.format(current_address))\n",
      "/home/tt21642/dispyprob/pyprob/pyprob/nn/inference_network_lstm.py:137: UserWarning: Using prior. No proposal for address: 216__forward___traverse___traverse_rec___traverse_rec___traverse_rec___traverse_rec___traverse_rec___traverse_rec___traverse_rec__phi_CM__Uniform__2\n",
      "  warnings.warn('Using prior. No proposal for address: {}'.format(current_address))\n",
      "/home/tt21642/dispyprob/pyprob/pyprob/nn/inference_network_lstm.py:137: UserWarning: Using prior. No proposal for address: 216__forward___traverse___traverse_rec___traverse_rec___traverse_rec___traverse_rec___traverse_rec___traverse_rec___traverse_rec___traverse_rec__phi_CM__Uniform__5\n",
      "  warnings.warn('Using prior. No proposal for address: {}'.format(current_address))\n",
      "/home/tt21642/dispyprob/pyprob/pyprob/nn/inference_network_lstm.py:137: UserWarning: Using prior. No proposal for address: 216__forward___traverse___traverse_rec___traverse_rec___traverse_rec___traverse_rec___traverse_rec___traverse_rec___traverse_rec___traverse_rec___traverse_rec___traverse_rec___traverse_rec__phi_CM__Uniform__7\n",
      "  warnings.warn('Using prior. No proposal for address: {}'.format(current_address))\n",
      "/home/tt21642/dispyprob/pyprob/pyprob/nn/inference_network_lstm.py:116: UserWarning: Address of current variable unknown by inference network: 216__forward___traverse___traverse_rec___traverse_rec___traverse_rec___traverse_rec___traverse_rec___traverse_rec___traverse_rec___traverse_rec___traverse_rec___traverse_rec___traverse_rec___traverse_rec__phi_CM__Uniform__9\n",
      "  warnings.warn('Address of current variable unknown by inference network: {}'.format(current_address))\n",
      "/home/tt21642/dispyprob/pyprob/pyprob/nn/inference_network_lstm.py:137: UserWarning: Using prior. No proposal for address: 216__forward___traverse___traverse_rec___traverse_rec___traverse_rec___traverse_rec___traverse_rec___traverse_rec___traverse_rec___traverse_rec___traverse_rec___traverse_rec___traverse_rec___traverse_rec__phi_CM__Uniform__9\n",
      "  warnings.warn('Using prior. No proposal for address: {}'.format(current_address))\n",
      "/home/tt21642/dispyprob/pyprob/pyprob/nn/inference_network_lstm.py:107: UserWarning: Address of previous variable unknown by inference network: 216__forward___traverse___traverse_rec___traverse_rec___traverse_rec___traverse_rec___traverse_rec___traverse_rec___traverse_rec___traverse_rec___traverse_rec___traverse_rec___traverse_rec___traverse_rec__phi_CM__Uniform__9\n",
      "  warnings.warn('Address of previous variable unknown by inference network: {}'.format(prev_address))\n",
      "/home/tt21642/dispyprob/pyprob/pyprob/nn/inference_network_lstm.py:116: UserWarning: Address of current variable unknown by inference network: 256__forward___traverse___traverse_rec___traverse_rec___traverse_rec___traverse_rec___traverse_rec___traverse_rec___traverse_rec___traverse_rec___traverse_rec___traverse_rec___traverse_rec___traverse_rec__theta_CM_U__Uniform__9\n",
      "  warnings.warn('Address of current variable unknown by inference network: {}'.format(current_address))\n",
      "/home/tt21642/dispyprob/pyprob/pyprob/nn/inference_network_lstm.py:137: UserWarning: Using prior. No proposal for address: 256__forward___traverse___traverse_rec___traverse_rec___traverse_rec___traverse_rec___traverse_rec___traverse_rec___traverse_rec___traverse_rec___traverse_rec___traverse_rec___traverse_rec___traverse_rec__theta_CM_U__Uniform__9\n",
      "  warnings.warn('Using prior. No proposal for address: {}'.format(current_address))\n",
      "/home/tt21642/dispyprob/pyprob/pyprob/nn/inference_network_lstm.py:107: UserWarning: Address of previous variable unknown by inference network: 256__forward___traverse___traverse_rec___traverse_rec___traverse_rec___traverse_rec___traverse_rec___traverse_rec___traverse_rec___traverse_rec___traverse_rec___traverse_rec___traverse_rec___traverse_rec__theta_CM_U__Uniform__9\n",
      "  warnings.warn('Address of previous variable unknown by inference network: {}'.format(prev_address))\n",
      "/home/tt21642/dispyprob/pyprob/pyprob/nn/inference_network_lstm.py:116: UserWarning: Address of current variable unknown by inference network: 460__forward___traverse___traverse_rec___traverse_rec___traverse_rec___traverse_rec___traverse_rec___traverse_rec___traverse_rec___traverse_rec___traverse_rec___traverse_rec___traverse_rec___traverse_rec__draw_decay_L__TruncatedExponential__9\n",
      "  warnings.warn('Address of current variable unknown by inference network: {}'.format(current_address))\n",
      "/home/tt21642/dispyprob/pyprob/pyprob/nn/inference_network_lstm.py:137: UserWarning: Using prior. No proposal for address: 460__forward___traverse___traverse_rec___traverse_rec___traverse_rec___traverse_rec___traverse_rec___traverse_rec___traverse_rec___traverse_rec___traverse_rec___traverse_rec___traverse_rec___traverse_rec__draw_decay_L__TruncatedExponential__9\n",
      "  warnings.warn('Using prior. No proposal for address: {}'.format(current_address))\n",
      "/home/tt21642/dispyprob/pyprob/pyprob/nn/inference_network_lstm.py:107: UserWarning: Address of previous variable unknown by inference network: 460__forward___traverse___traverse_rec___traverse_rec___traverse_rec___traverse_rec___traverse_rec___traverse_rec___traverse_rec___traverse_rec___traverse_rec___traverse_rec___traverse_rec___traverse_rec__draw_decay_L__TruncatedExponential__9\n",
      "  warnings.warn('Address of previous variable unknown by inference network: {}'.format(prev_address))\n",
      "/home/tt21642/dispyprob/pyprob/pyprob/nn/inference_network_lstm.py:116: UserWarning: Address of current variable unknown by inference network: 510__forward___traverse___traverse_rec___traverse_rec___traverse_rec___traverse_rec___traverse_rec___traverse_rec___traverse_rec___traverse_rec___traverse_rec___traverse_rec___traverse_rec___traverse_rec__draw_decay_R__TruncatedExponential__9\n",
      "  warnings.warn('Address of current variable unknown by inference network: {}'.format(current_address))\n",
      "/home/tt21642/dispyprob/pyprob/pyprob/nn/inference_network_lstm.py:137: UserWarning: Using prior. No proposal for address: 510__forward___traverse___traverse_rec___traverse_rec___traverse_rec___traverse_rec___traverse_rec___traverse_rec___traverse_rec___traverse_rec___traverse_rec___traverse_rec___traverse_rec___traverse_rec__draw_decay_R__TruncatedExponential__9\n",
      "  warnings.warn('Using prior. No proposal for address: {}'.format(current_address))\n",
      "/home/tt21642/dispyprob/pyprob/pyprob/nn/inference_network_lstm.py:107: UserWarning: Address of previous variable unknown by inference network: 510__forward___traverse___traverse_rec___traverse_rec___traverse_rec___traverse_rec___traverse_rec___traverse_rec___traverse_rec___traverse_rec___traverse_rec___traverse_rec___traverse_rec___traverse_rec__draw_decay_R__TruncatedExponential__9\n",
      "  warnings.warn('Address of previous variable unknown by inference network: {}'.format(prev_address))\n",
      "/home/tt21642/dispyprob/pyprob/pyprob/nn/inference_network_lstm.py:137: UserWarning: Using prior. No proposal for address: 216__forward___traverse___traverse_rec___traverse_rec___traverse_rec___traverse_rec___traverse_rec___traverse_rec___traverse_rec___traverse_rec___traverse_rec___traverse_rec__phi_CM__Uniform__6\n",
      "  warnings.warn('Using prior. No proposal for address: {}'.format(current_address))\n"
     ]
    },
    {
     "name": "stdout",
     "output_type": "stream",
     "text": [
      "0d:00:09:44 | 0d:04:20:56 | #------------------- |   36/1000 |   1.23 | 0.06       \r"
     ]
    },
    {
     "name": "stderr",
     "output_type": "stream",
     "text": [
      "/home/tt21642/dispyprob/pyprob/pyprob/nn/inference_network_lstm.py:137: UserWarning: Using prior. No proposal for address: 216__forward___traverse___traverse_rec___traverse_rec___traverse_rec___traverse_rec___traverse_rec__phi_CM__Uniform__10\n",
      "  warnings.warn('Using prior. No proposal for address: {}'.format(current_address))\n"
     ]
    },
    {
     "name": "stdout",
     "output_type": "stream",
     "text": [
      "0d:00:09:59 | 0d:04:20:20 | #------------------- |   37/1000 |   1.23 | 0.06       \r"
     ]
    },
    {
     "name": "stderr",
     "output_type": "stream",
     "text": [
      "/home/tt21642/dispyprob/pyprob/pyprob/nn/inference_network_lstm.py:116: UserWarning: Address of current variable unknown by inference network: 460__forward___traverse___traverse_rec__draw_decay_L__TruncatedExponential__2\n",
      "  warnings.warn('Address of current variable unknown by inference network: {}'.format(current_address))\n",
      "/home/tt21642/dispyprob/pyprob/pyprob/nn/inference_network_lstm.py:137: UserWarning: Using prior. No proposal for address: 460__forward___traverse___traverse_rec__draw_decay_L__TruncatedExponential__2\n",
      "  warnings.warn('Using prior. No proposal for address: {}'.format(current_address))\n",
      "/home/tt21642/dispyprob/pyprob/pyprob/nn/inference_network_lstm.py:107: UserWarning: Address of previous variable unknown by inference network: 460__forward___traverse___traverse_rec__draw_decay_L__TruncatedExponential__2\n",
      "  warnings.warn('Address of previous variable unknown by inference network: {}'.format(prev_address))\n",
      "/home/tt21642/dispyprob/pyprob/pyprob/nn/inference_network_lstm.py:137: UserWarning: Using prior. No proposal for address: 510__forward___traverse___traverse_rec__draw_decay_R__TruncatedExponential__1\n",
      "  warnings.warn('Using prior. No proposal for address: {}'.format(current_address))\n"
     ]
    },
    {
     "name": "stdout",
     "output_type": "stream",
     "text": [
      "0d:00:10:18 | 0d:04:14:22 | #------------------- |   39/1000 |   1.23 | 0.06       \r"
     ]
    },
    {
     "name": "stderr",
     "output_type": "stream",
     "text": [
      "/home/tt21642/dispyprob/pyprob/pyprob/nn/inference_network_lstm.py:137: UserWarning: Using prior. No proposal for address: 216__forward___traverse___traverse_rec___traverse_rec___traverse_rec___traverse_rec___traverse_rec___traverse_rec__phi_CM__Uniform__10\n",
      "  warnings.warn('Using prior. No proposal for address: {}'.format(current_address))\n"
     ]
    },
    {
     "name": "stdout",
     "output_type": "stream",
     "text": [
      "0d:00:13:50 | 0d:04:23:07 | #------------------- |   50/1000 |   1.59 | 0.06       \r"
     ]
    },
    {
     "name": "stderr",
     "output_type": "stream",
     "text": [
      "/home/tt21642/dispyprob/pyprob/pyprob/nn/inference_network_lstm.py:116: UserWarning: Address of current variable unknown by inference network: 216__forward___traverse___traverse_rec___traverse_rec___traverse_rec___traverse_rec___traverse_rec___traverse_rec___traverse_rec___traverse_rec___traverse_rec___traverse_rec___traverse_rec___traverse_rec___traverse_rec___traverse_rec___traverse_rec___traverse_rec___traverse_rec___traverse_rec___traverse_rec___traverse_rec__phi_CM__Uniform__1\n",
      "  warnings.warn('Address of current variable unknown by inference network: {}'.format(current_address))\n",
      "/home/tt21642/dispyprob/pyprob/pyprob/nn/inference_network_lstm.py:137: UserWarning: Using prior. No proposal for address: 216__forward___traverse___traverse_rec___traverse_rec___traverse_rec___traverse_rec___traverse_rec___traverse_rec___traverse_rec___traverse_rec___traverse_rec___traverse_rec___traverse_rec___traverse_rec___traverse_rec___traverse_rec___traverse_rec___traverse_rec___traverse_rec___traverse_rec___traverse_rec___traverse_rec__phi_CM__Uniform__1\n",
      "  warnings.warn('Using prior. No proposal for address: {}'.format(current_address))\n",
      "/home/tt21642/dispyprob/pyprob/pyprob/nn/inference_network_lstm.py:107: UserWarning: Address of previous variable unknown by inference network: 216__forward___traverse___traverse_rec___traverse_rec___traverse_rec___traverse_rec___traverse_rec___traverse_rec___traverse_rec___traverse_rec___traverse_rec___traverse_rec___traverse_rec___traverse_rec___traverse_rec___traverse_rec___traverse_rec___traverse_rec___traverse_rec___traverse_rec___traverse_rec___traverse_rec__phi_CM__Uniform__1\n",
      "  warnings.warn('Address of previous variable unknown by inference network: {}'.format(prev_address))\n",
      "/home/tt21642/dispyprob/pyprob/pyprob/nn/inference_network_lstm.py:116: UserWarning: Address of current variable unknown by inference network: 256__forward___traverse___traverse_rec___traverse_rec___traverse_rec___traverse_rec___traverse_rec___traverse_rec___traverse_rec___traverse_rec___traverse_rec___traverse_rec___traverse_rec___traverse_rec___traverse_rec___traverse_rec___traverse_rec___traverse_rec___traverse_rec___traverse_rec___traverse_rec___traverse_rec__theta_CM_U__Uniform__1\n",
      "  warnings.warn('Address of current variable unknown by inference network: {}'.format(current_address))\n",
      "/home/tt21642/dispyprob/pyprob/pyprob/nn/inference_network_lstm.py:137: UserWarning: Using prior. No proposal for address: 256__forward___traverse___traverse_rec___traverse_rec___traverse_rec___traverse_rec___traverse_rec___traverse_rec___traverse_rec___traverse_rec___traverse_rec___traverse_rec___traverse_rec___traverse_rec___traverse_rec___traverse_rec___traverse_rec___traverse_rec___traverse_rec___traverse_rec___traverse_rec___traverse_rec__theta_CM_U__Uniform__1\n",
      "  warnings.warn('Using prior. No proposal for address: {}'.format(current_address))\n",
      "/home/tt21642/dispyprob/pyprob/pyprob/nn/inference_network_lstm.py:107: UserWarning: Address of previous variable unknown by inference network: 256__forward___traverse___traverse_rec___traverse_rec___traverse_rec___traverse_rec___traverse_rec___traverse_rec___traverse_rec___traverse_rec___traverse_rec___traverse_rec___traverse_rec___traverse_rec___traverse_rec___traverse_rec___traverse_rec___traverse_rec___traverse_rec___traverse_rec___traverse_rec___traverse_rec__theta_CM_U__Uniform__1\n",
      "  warnings.warn('Address of previous variable unknown by inference network: {}'.format(prev_address))\n",
      "/home/tt21642/dispyprob/pyprob/pyprob/nn/inference_network_lstm.py:116: UserWarning: Address of current variable unknown by inference network: 460__forward___traverse___traverse_rec___traverse_rec___traverse_rec___traverse_rec___traverse_rec___traverse_rec___traverse_rec___traverse_rec___traverse_rec___traverse_rec___traverse_rec___traverse_rec___traverse_rec___traverse_rec___traverse_rec___traverse_rec___traverse_rec___traverse_rec___traverse_rec___traverse_rec__draw_decay_L__TruncatedExponential__1\n",
      "  warnings.warn('Address of current variable unknown by inference network: {}'.format(current_address))\n",
      "/home/tt21642/dispyprob/pyprob/pyprob/nn/inference_network_lstm.py:137: UserWarning: Using prior. No proposal for address: 460__forward___traverse___traverse_rec___traverse_rec___traverse_rec___traverse_rec___traverse_rec___traverse_rec___traverse_rec___traverse_rec___traverse_rec___traverse_rec___traverse_rec___traverse_rec___traverse_rec___traverse_rec___traverse_rec___traverse_rec___traverse_rec___traverse_rec___traverse_rec___traverse_rec__draw_decay_L__TruncatedExponential__1\n",
      "  warnings.warn('Using prior. No proposal for address: {}'.format(current_address))\n",
      "/home/tt21642/dispyprob/pyprob/pyprob/nn/inference_network_lstm.py:107: UserWarning: Address of previous variable unknown by inference network: 460__forward___traverse___traverse_rec___traverse_rec___traverse_rec___traverse_rec___traverse_rec___traverse_rec___traverse_rec___traverse_rec___traverse_rec___traverse_rec___traverse_rec___traverse_rec___traverse_rec___traverse_rec___traverse_rec___traverse_rec___traverse_rec___traverse_rec___traverse_rec___traverse_rec__draw_decay_L__TruncatedExponential__1\n",
      "  warnings.warn('Address of previous variable unknown by inference network: {}'.format(prev_address))\n",
      "/home/tt21642/dispyprob/pyprob/pyprob/nn/inference_network_lstm.py:116: UserWarning: Address of current variable unknown by inference network: 510__forward___traverse___traverse_rec___traverse_rec___traverse_rec___traverse_rec___traverse_rec___traverse_rec___traverse_rec___traverse_rec___traverse_rec___traverse_rec___traverse_rec___traverse_rec___traverse_rec___traverse_rec___traverse_rec___traverse_rec___traverse_rec___traverse_rec___traverse_rec___traverse_rec__draw_decay_R__TruncatedExponential__1\n",
      "  warnings.warn('Address of current variable unknown by inference network: {}'.format(current_address))\n",
      "/home/tt21642/dispyprob/pyprob/pyprob/nn/inference_network_lstm.py:137: UserWarning: Using prior. No proposal for address: 510__forward___traverse___traverse_rec___traverse_rec___traverse_rec___traverse_rec___traverse_rec___traverse_rec___traverse_rec___traverse_rec___traverse_rec___traverse_rec___traverse_rec___traverse_rec___traverse_rec___traverse_rec___traverse_rec___traverse_rec___traverse_rec___traverse_rec___traverse_rec___traverse_rec__draw_decay_R__TruncatedExponential__1\n",
      "  warnings.warn('Using prior. No proposal for address: {}'.format(current_address))\n",
      "/home/tt21642/dispyprob/pyprob/pyprob/nn/inference_network_lstm.py:107: UserWarning: Address of previous variable unknown by inference network: 510__forward___traverse___traverse_rec___traverse_rec___traverse_rec___traverse_rec___traverse_rec___traverse_rec___traverse_rec___traverse_rec___traverse_rec___traverse_rec___traverse_rec___traverse_rec___traverse_rec___traverse_rec___traverse_rec___traverse_rec___traverse_rec___traverse_rec___traverse_rec___traverse_rec__draw_decay_R__TruncatedExponential__1\n",
      "  warnings.warn('Address of previous variable unknown by inference network: {}'.format(prev_address))\n",
      "/home/tt21642/dispyprob/pyprob/pyprob/nn/inference_network_lstm.py:137: UserWarning: Using prior. No proposal for address: 216__forward___traverse___traverse_rec___traverse_rec___traverse_rec___traverse_rec___traverse_rec___traverse_rec___traverse_rec___traverse_rec___traverse_rec___traverse_rec___traverse_rec___traverse_rec___traverse_rec___traverse_rec__phi_CM__Uniform__2\n",
      "  warnings.warn('Using prior. No proposal for address: {}'.format(current_address))\n",
      "/home/tt21642/dispyprob/pyprob/pyprob/nn/inference_network_lstm.py:116: UserWarning: Address of current variable unknown by inference network: 216__forward___traverse___traverse_rec___traverse_rec___traverse_rec___traverse_rec___traverse_rec___traverse_rec___traverse_rec___traverse_rec___traverse_rec___traverse_rec___traverse_rec___traverse_rec___traverse_rec___traverse_rec___traverse_rec___traverse_rec___traverse_rec___traverse_rec___traverse_rec__phi_CM__Uniform__2\n",
      "  warnings.warn('Address of current variable unknown by inference network: {}'.format(current_address))\n",
      "/home/tt21642/dispyprob/pyprob/pyprob/nn/inference_network_lstm.py:137: UserWarning: Using prior. No proposal for address: 216__forward___traverse___traverse_rec___traverse_rec___traverse_rec___traverse_rec___traverse_rec___traverse_rec___traverse_rec___traverse_rec___traverse_rec___traverse_rec___traverse_rec___traverse_rec___traverse_rec___traverse_rec___traverse_rec___traverse_rec___traverse_rec___traverse_rec___traverse_rec__phi_CM__Uniform__2\n",
      "  warnings.warn('Using prior. No proposal for address: {}'.format(current_address))\n",
      "/home/tt21642/dispyprob/pyprob/pyprob/nn/inference_network_lstm.py:107: UserWarning: Address of previous variable unknown by inference network: 216__forward___traverse___traverse_rec___traverse_rec___traverse_rec___traverse_rec___traverse_rec___traverse_rec___traverse_rec___traverse_rec___traverse_rec___traverse_rec___traverse_rec___traverse_rec___traverse_rec___traverse_rec___traverse_rec___traverse_rec___traverse_rec___traverse_rec___traverse_rec__phi_CM__Uniform__2\n",
      "  warnings.warn('Address of previous variable unknown by inference network: {}'.format(prev_address))\n",
      "/home/tt21642/dispyprob/pyprob/pyprob/nn/inference_network_lstm.py:116: UserWarning: Address of current variable unknown by inference network: 256__forward___traverse___traverse_rec___traverse_rec___traverse_rec___traverse_rec___traverse_rec___traverse_rec___traverse_rec___traverse_rec___traverse_rec___traverse_rec___traverse_rec___traverse_rec___traverse_rec___traverse_rec___traverse_rec___traverse_rec___traverse_rec___traverse_rec___traverse_rec__theta_CM_U__Uniform__2\n",
      "  warnings.warn('Address of current variable unknown by inference network: {}'.format(current_address))\n",
      "/home/tt21642/dispyprob/pyprob/pyprob/nn/inference_network_lstm.py:137: UserWarning: Using prior. No proposal for address: 256__forward___traverse___traverse_rec___traverse_rec___traverse_rec___traverse_rec___traverse_rec___traverse_rec___traverse_rec___traverse_rec___traverse_rec___traverse_rec___traverse_rec___traverse_rec___traverse_rec___traverse_rec___traverse_rec___traverse_rec___traverse_rec___traverse_rec___traverse_rec__theta_CM_U__Uniform__2\n",
      "  warnings.warn('Using prior. No proposal for address: {}'.format(current_address))\n",
      "/home/tt21642/dispyprob/pyprob/pyprob/nn/inference_network_lstm.py:107: UserWarning: Address of previous variable unknown by inference network: 256__forward___traverse___traverse_rec___traverse_rec___traverse_rec___traverse_rec___traverse_rec___traverse_rec___traverse_rec___traverse_rec___traverse_rec___traverse_rec___traverse_rec___traverse_rec___traverse_rec___traverse_rec___traverse_rec___traverse_rec___traverse_rec___traverse_rec___traverse_rec__theta_CM_U__Uniform__2\n",
      "  warnings.warn('Address of previous variable unknown by inference network: {}'.format(prev_address))\n",
      "/home/tt21642/dispyprob/pyprob/pyprob/nn/inference_network_lstm.py:116: UserWarning: Address of current variable unknown by inference network: 460__forward___traverse___traverse_rec___traverse_rec___traverse_rec___traverse_rec___traverse_rec___traverse_rec___traverse_rec___traverse_rec___traverse_rec___traverse_rec___traverse_rec___traverse_rec___traverse_rec___traverse_rec___traverse_rec___traverse_rec___traverse_rec___traverse_rec___traverse_rec__draw_decay_L__TruncatedExponential__2\n",
      "  warnings.warn('Address of current variable unknown by inference network: {}'.format(current_address))\n",
      "/home/tt21642/dispyprob/pyprob/pyprob/nn/inference_network_lstm.py:137: UserWarning: Using prior. No proposal for address: 460__forward___traverse___traverse_rec___traverse_rec___traverse_rec___traverse_rec___traverse_rec___traverse_rec___traverse_rec___traverse_rec___traverse_rec___traverse_rec___traverse_rec___traverse_rec___traverse_rec___traverse_rec___traverse_rec___traverse_rec___traverse_rec___traverse_rec___traverse_rec__draw_decay_L__TruncatedExponential__2\n",
      "  warnings.warn('Using prior. No proposal for address: {}'.format(current_address))\n",
      "/home/tt21642/dispyprob/pyprob/pyprob/nn/inference_network_lstm.py:107: UserWarning: Address of previous variable unknown by inference network: 460__forward___traverse___traverse_rec___traverse_rec___traverse_rec___traverse_rec___traverse_rec___traverse_rec___traverse_rec___traverse_rec___traverse_rec___traverse_rec___traverse_rec___traverse_rec___traverse_rec___traverse_rec___traverse_rec___traverse_rec___traverse_rec___traverse_rec___traverse_rec__draw_decay_L__TruncatedExponential__2\n",
      "  warnings.warn('Address of previous variable unknown by inference network: {}'.format(prev_address))\n",
      "/home/tt21642/dispyprob/pyprob/pyprob/nn/inference_network_lstm.py:116: UserWarning: Address of current variable unknown by inference network: 510__forward___traverse___traverse_rec___traverse_rec___traverse_rec___traverse_rec___traverse_rec___traverse_rec___traverse_rec___traverse_rec___traverse_rec___traverse_rec___traverse_rec___traverse_rec___traverse_rec___traverse_rec___traverse_rec___traverse_rec___traverse_rec___traverse_rec___traverse_rec__draw_decay_R__TruncatedExponential__2\n",
      "  warnings.warn('Address of current variable unknown by inference network: {}'.format(current_address))\n",
      "/home/tt21642/dispyprob/pyprob/pyprob/nn/inference_network_lstm.py:137: UserWarning: Using prior. No proposal for address: 510__forward___traverse___traverse_rec___traverse_rec___traverse_rec___traverse_rec___traverse_rec___traverse_rec___traverse_rec___traverse_rec___traverse_rec___traverse_rec___traverse_rec___traverse_rec___traverse_rec___traverse_rec___traverse_rec___traverse_rec___traverse_rec___traverse_rec___traverse_rec__draw_decay_R__TruncatedExponential__2\n",
      "  warnings.warn('Using prior. No proposal for address: {}'.format(current_address))\n",
      "/home/tt21642/dispyprob/pyprob/pyprob/nn/inference_network_lstm.py:107: UserWarning: Address of previous variable unknown by inference network: 510__forward___traverse___traverse_rec___traverse_rec___traverse_rec___traverse_rec___traverse_rec___traverse_rec___traverse_rec___traverse_rec___traverse_rec___traverse_rec___traverse_rec___traverse_rec___traverse_rec___traverse_rec___traverse_rec___traverse_rec___traverse_rec___traverse_rec___traverse_rec__draw_decay_R__TruncatedExponential__2\n",
      "  warnings.warn('Address of previous variable unknown by inference network: {}'.format(prev_address))\n",
      "/home/tt21642/dispyprob/pyprob/pyprob/nn/inference_network_lstm.py:116: UserWarning: Address of current variable unknown by inference network: 216__forward___traverse___traverse_rec___traverse_rec___traverse_rec___traverse_rec___traverse_rec___traverse_rec___traverse_rec___traverse_rec___traverse_rec___traverse_rec___traverse_rec___traverse_rec___traverse_rec___traverse_rec___traverse_rec___traverse_rec___traverse_rec___traverse_rec___traverse_rec___traverse_rec__phi_CM__Uniform__2\n",
      "  warnings.warn('Address of current variable unknown by inference network: {}'.format(current_address))\n",
      "/home/tt21642/dispyprob/pyprob/pyprob/nn/inference_network_lstm.py:137: UserWarning: Using prior. No proposal for address: 216__forward___traverse___traverse_rec___traverse_rec___traverse_rec___traverse_rec___traverse_rec___traverse_rec___traverse_rec___traverse_rec___traverse_rec___traverse_rec___traverse_rec___traverse_rec___traverse_rec___traverse_rec___traverse_rec___traverse_rec___traverse_rec___traverse_rec___traverse_rec___traverse_rec__phi_CM__Uniform__2\n",
      "  warnings.warn('Using prior. No proposal for address: {}'.format(current_address))\n",
      "/home/tt21642/dispyprob/pyprob/pyprob/nn/inference_network_lstm.py:107: UserWarning: Address of previous variable unknown by inference network: 216__forward___traverse___traverse_rec___traverse_rec___traverse_rec___traverse_rec___traverse_rec___traverse_rec___traverse_rec___traverse_rec___traverse_rec___traverse_rec___traverse_rec___traverse_rec___traverse_rec___traverse_rec___traverse_rec___traverse_rec___traverse_rec___traverse_rec___traverse_rec___traverse_rec__phi_CM__Uniform__2\n",
      "  warnings.warn('Address of previous variable unknown by inference network: {}'.format(prev_address))\n",
      "/home/tt21642/dispyprob/pyprob/pyprob/nn/inference_network_lstm.py:116: UserWarning: Address of current variable unknown by inference network: 256__forward___traverse___traverse_rec___traverse_rec___traverse_rec___traverse_rec___traverse_rec___traverse_rec___traverse_rec___traverse_rec___traverse_rec___traverse_rec___traverse_rec___traverse_rec___traverse_rec___traverse_rec___traverse_rec___traverse_rec___traverse_rec___traverse_rec___traverse_rec___traverse_rec__theta_CM_U__Uniform__2\n",
      "  warnings.warn('Address of current variable unknown by inference network: {}'.format(current_address))\n",
      "/home/tt21642/dispyprob/pyprob/pyprob/nn/inference_network_lstm.py:137: UserWarning: Using prior. No proposal for address: 256__forward___traverse___traverse_rec___traverse_rec___traverse_rec___traverse_rec___traverse_rec___traverse_rec___traverse_rec___traverse_rec___traverse_rec___traverse_rec___traverse_rec___traverse_rec___traverse_rec___traverse_rec___traverse_rec___traverse_rec___traverse_rec___traverse_rec___traverse_rec___traverse_rec__theta_CM_U__Uniform__2\n",
      "  warnings.warn('Using prior. No proposal for address: {}'.format(current_address))\n",
      "/home/tt21642/dispyprob/pyprob/pyprob/nn/inference_network_lstm.py:107: UserWarning: Address of previous variable unknown by inference network: 256__forward___traverse___traverse_rec___traverse_rec___traverse_rec___traverse_rec___traverse_rec___traverse_rec___traverse_rec___traverse_rec___traverse_rec___traverse_rec___traverse_rec___traverse_rec___traverse_rec___traverse_rec___traverse_rec___traverse_rec___traverse_rec___traverse_rec___traverse_rec___traverse_rec__theta_CM_U__Uniform__2\n",
      "  warnings.warn('Address of previous variable unknown by inference network: {}'.format(prev_address))\n",
      "/home/tt21642/dispyprob/pyprob/pyprob/nn/inference_network_lstm.py:116: UserWarning: Address of current variable unknown by inference network: 460__forward___traverse___traverse_rec___traverse_rec___traverse_rec___traverse_rec___traverse_rec___traverse_rec___traverse_rec___traverse_rec___traverse_rec___traverse_rec___traverse_rec___traverse_rec___traverse_rec___traverse_rec___traverse_rec___traverse_rec___traverse_rec___traverse_rec___traverse_rec___traverse_rec__draw_decay_L__TruncatedExponential__2\n",
      "  warnings.warn('Address of current variable unknown by inference network: {}'.format(current_address))\n",
      "/home/tt21642/dispyprob/pyprob/pyprob/nn/inference_network_lstm.py:137: UserWarning: Using prior. No proposal for address: 460__forward___traverse___traverse_rec___traverse_rec___traverse_rec___traverse_rec___traverse_rec___traverse_rec___traverse_rec___traverse_rec___traverse_rec___traverse_rec___traverse_rec___traverse_rec___traverse_rec___traverse_rec___traverse_rec___traverse_rec___traverse_rec___traverse_rec___traverse_rec___traverse_rec__draw_decay_L__TruncatedExponential__2\n",
      "  warnings.warn('Using prior. No proposal for address: {}'.format(current_address))\n",
      "/home/tt21642/dispyprob/pyprob/pyprob/nn/inference_network_lstm.py:107: UserWarning: Address of previous variable unknown by inference network: 460__forward___traverse___traverse_rec___traverse_rec___traverse_rec___traverse_rec___traverse_rec___traverse_rec___traverse_rec___traverse_rec___traverse_rec___traverse_rec___traverse_rec___traverse_rec___traverse_rec___traverse_rec___traverse_rec___traverse_rec___traverse_rec___traverse_rec___traverse_rec___traverse_rec__draw_decay_L__TruncatedExponential__2\n",
      "  warnings.warn('Address of previous variable unknown by inference network: {}'.format(prev_address))\n",
      "/home/tt21642/dispyprob/pyprob/pyprob/nn/inference_network_lstm.py:116: UserWarning: Address of current variable unknown by inference network: 510__forward___traverse___traverse_rec___traverse_rec___traverse_rec___traverse_rec___traverse_rec___traverse_rec___traverse_rec___traverse_rec___traverse_rec___traverse_rec___traverse_rec___traverse_rec___traverse_rec___traverse_rec___traverse_rec___traverse_rec___traverse_rec___traverse_rec___traverse_rec___traverse_rec__draw_decay_R__TruncatedExponential__2\n",
      "  warnings.warn('Address of current variable unknown by inference network: {}'.format(current_address))\n",
      "/home/tt21642/dispyprob/pyprob/pyprob/nn/inference_network_lstm.py:137: UserWarning: Using prior. No proposal for address: 510__forward___traverse___traverse_rec___traverse_rec___traverse_rec___traverse_rec___traverse_rec___traverse_rec___traverse_rec___traverse_rec___traverse_rec___traverse_rec___traverse_rec___traverse_rec___traverse_rec___traverse_rec___traverse_rec___traverse_rec___traverse_rec___traverse_rec___traverse_rec___traverse_rec__draw_decay_R__TruncatedExponential__2\n",
      "  warnings.warn('Using prior. No proposal for address: {}'.format(current_address))\n",
      "/home/tt21642/dispyprob/pyprob/pyprob/nn/inference_network_lstm.py:107: UserWarning: Address of previous variable unknown by inference network: 510__forward___traverse___traverse_rec___traverse_rec___traverse_rec___traverse_rec___traverse_rec___traverse_rec___traverse_rec___traverse_rec___traverse_rec___traverse_rec___traverse_rec___traverse_rec___traverse_rec___traverse_rec___traverse_rec___traverse_rec___traverse_rec___traverse_rec___traverse_rec___traverse_rec__draw_decay_R__TruncatedExponential__2\n",
      "  warnings.warn('Address of previous variable unknown by inference network: {}'.format(prev_address))\n",
      "/home/tt21642/dispyprob/pyprob/pyprob/nn/inference_network_lstm.py:116: UserWarning: Address of current variable unknown by inference network: 216__forward___traverse___traverse_rec___traverse_rec___traverse_rec___traverse_rec___traverse_rec___traverse_rec___traverse_rec___traverse_rec___traverse_rec___traverse_rec___traverse_rec___traverse_rec___traverse_rec___traverse_rec___traverse_rec___traverse_rec___traverse_rec___traverse_rec___traverse_rec___traverse_rec___traverse_rec__phi_CM__Uniform__1\n",
      "  warnings.warn('Address of current variable unknown by inference network: {}'.format(current_address))\n",
      "/home/tt21642/dispyprob/pyprob/pyprob/nn/inference_network_lstm.py:137: UserWarning: Using prior. No proposal for address: 216__forward___traverse___traverse_rec___traverse_rec___traverse_rec___traverse_rec___traverse_rec___traverse_rec___traverse_rec___traverse_rec___traverse_rec___traverse_rec___traverse_rec___traverse_rec___traverse_rec___traverse_rec___traverse_rec___traverse_rec___traverse_rec___traverse_rec___traverse_rec___traverse_rec___traverse_rec__phi_CM__Uniform__1\n",
      "  warnings.warn('Using prior. No proposal for address: {}'.format(current_address))\n",
      "/home/tt21642/dispyprob/pyprob/pyprob/nn/inference_network_lstm.py:107: UserWarning: Address of previous variable unknown by inference network: 216__forward___traverse___traverse_rec___traverse_rec___traverse_rec___traverse_rec___traverse_rec___traverse_rec___traverse_rec___traverse_rec___traverse_rec___traverse_rec___traverse_rec___traverse_rec___traverse_rec___traverse_rec___traverse_rec___traverse_rec___traverse_rec___traverse_rec___traverse_rec___traverse_rec___traverse_rec__phi_CM__Uniform__1\n",
      "  warnings.warn('Address of previous variable unknown by inference network: {}'.format(prev_address))\n",
      "/home/tt21642/dispyprob/pyprob/pyprob/nn/inference_network_lstm.py:116: UserWarning: Address of current variable unknown by inference network: 256__forward___traverse___traverse_rec___traverse_rec___traverse_rec___traverse_rec___traverse_rec___traverse_rec___traverse_rec___traverse_rec___traverse_rec___traverse_rec___traverse_rec___traverse_rec___traverse_rec___traverse_rec___traverse_rec___traverse_rec___traverse_rec___traverse_rec___traverse_rec___traverse_rec___traverse_rec__theta_CM_U__Uniform__1\n",
      "  warnings.warn('Address of current variable unknown by inference network: {}'.format(current_address))\n",
      "/home/tt21642/dispyprob/pyprob/pyprob/nn/inference_network_lstm.py:137: UserWarning: Using prior. No proposal for address: 256__forward___traverse___traverse_rec___traverse_rec___traverse_rec___traverse_rec___traverse_rec___traverse_rec___traverse_rec___traverse_rec___traverse_rec___traverse_rec___traverse_rec___traverse_rec___traverse_rec___traverse_rec___traverse_rec___traverse_rec___traverse_rec___traverse_rec___traverse_rec___traverse_rec___traverse_rec__theta_CM_U__Uniform__1\n",
      "  warnings.warn('Using prior. No proposal for address: {}'.format(current_address))\n",
      "/home/tt21642/dispyprob/pyprob/pyprob/nn/inference_network_lstm.py:107: UserWarning: Address of previous variable unknown by inference network: 256__forward___traverse___traverse_rec___traverse_rec___traverse_rec___traverse_rec___traverse_rec___traverse_rec___traverse_rec___traverse_rec___traverse_rec___traverse_rec___traverse_rec___traverse_rec___traverse_rec___traverse_rec___traverse_rec___traverse_rec___traverse_rec___traverse_rec___traverse_rec___traverse_rec___traverse_rec__theta_CM_U__Uniform__1\n",
      "  warnings.warn('Address of previous variable unknown by inference network: {}'.format(prev_address))\n",
      "/home/tt21642/dispyprob/pyprob/pyprob/nn/inference_network_lstm.py:116: UserWarning: Address of current variable unknown by inference network: 460__forward___traverse___traverse_rec___traverse_rec___traverse_rec___traverse_rec___traverse_rec___traverse_rec___traverse_rec___traverse_rec___traverse_rec___traverse_rec___traverse_rec___traverse_rec___traverse_rec___traverse_rec___traverse_rec___traverse_rec___traverse_rec___traverse_rec___traverse_rec___traverse_rec___traverse_rec__draw_decay_L__TruncatedExponential__1\n",
      "  warnings.warn('Address of current variable unknown by inference network: {}'.format(current_address))\n",
      "/home/tt21642/dispyprob/pyprob/pyprob/nn/inference_network_lstm.py:137: UserWarning: Using prior. No proposal for address: 460__forward___traverse___traverse_rec___traverse_rec___traverse_rec___traverse_rec___traverse_rec___traverse_rec___traverse_rec___traverse_rec___traverse_rec___traverse_rec___traverse_rec___traverse_rec___traverse_rec___traverse_rec___traverse_rec___traverse_rec___traverse_rec___traverse_rec___traverse_rec___traverse_rec___traverse_rec__draw_decay_L__TruncatedExponential__1\n",
      "  warnings.warn('Using prior. No proposal for address: {}'.format(current_address))\n",
      "/home/tt21642/dispyprob/pyprob/pyprob/nn/inference_network_lstm.py:107: UserWarning: Address of previous variable unknown by inference network: 460__forward___traverse___traverse_rec___traverse_rec___traverse_rec___traverse_rec___traverse_rec___traverse_rec___traverse_rec___traverse_rec___traverse_rec___traverse_rec___traverse_rec___traverse_rec___traverse_rec___traverse_rec___traverse_rec___traverse_rec___traverse_rec___traverse_rec___traverse_rec___traverse_rec___traverse_rec__draw_decay_L__TruncatedExponential__1\n",
      "  warnings.warn('Address of previous variable unknown by inference network: {}'.format(prev_address))\n",
      "/home/tt21642/dispyprob/pyprob/pyprob/nn/inference_network_lstm.py:116: UserWarning: Address of current variable unknown by inference network: 510__forward___traverse___traverse_rec___traverse_rec___traverse_rec___traverse_rec___traverse_rec___traverse_rec___traverse_rec___traverse_rec___traverse_rec___traverse_rec___traverse_rec___traverse_rec___traverse_rec___traverse_rec___traverse_rec___traverse_rec___traverse_rec___traverse_rec___traverse_rec___traverse_rec___traverse_rec__draw_decay_R__TruncatedExponential__1\n",
      "  warnings.warn('Address of current variable unknown by inference network: {}'.format(current_address))\n",
      "/home/tt21642/dispyprob/pyprob/pyprob/nn/inference_network_lstm.py:137: UserWarning: Using prior. No proposal for address: 510__forward___traverse___traverse_rec___traverse_rec___traverse_rec___traverse_rec___traverse_rec___traverse_rec___traverse_rec___traverse_rec___traverse_rec___traverse_rec___traverse_rec___traverse_rec___traverse_rec___traverse_rec___traverse_rec___traverse_rec___traverse_rec___traverse_rec___traverse_rec___traverse_rec___traverse_rec__draw_decay_R__TruncatedExponential__1\n",
      "  warnings.warn('Using prior. No proposal for address: {}'.format(current_address))\n",
      "/home/tt21642/dispyprob/pyprob/pyprob/nn/inference_network_lstm.py:107: UserWarning: Address of previous variable unknown by inference network: 510__forward___traverse___traverse_rec___traverse_rec___traverse_rec___traverse_rec___traverse_rec___traverse_rec___traverse_rec___traverse_rec___traverse_rec___traverse_rec___traverse_rec___traverse_rec___traverse_rec___traverse_rec___traverse_rec___traverse_rec___traverse_rec___traverse_rec___traverse_rec___traverse_rec___traverse_rec__draw_decay_R__TruncatedExponential__1\n",
      "  warnings.warn('Address of previous variable unknown by inference network: {}'.format(prev_address))\n",
      "/home/tt21642/dispyprob/pyprob/pyprob/nn/inference_network_lstm.py:137: UserWarning: Using prior. No proposal for address: 216__forward___traverse___traverse_rec___traverse_rec___traverse_rec___traverse_rec___traverse_rec___traverse_rec___traverse_rec___traverse_rec___traverse_rec__phi_CM__Uniform__2\n",
      "  warnings.warn('Using prior. No proposal for address: {}'.format(current_address))\n"
     ]
    },
    {
     "name": "stdout",
     "output_type": "stream",
     "text": [
      "0d:00:14:53 | 0d:04:31:42 | #------------------- |   52/1000 |   1.59 | 0.06       \r"
     ]
    },
    {
     "name": "stderr",
     "output_type": "stream",
     "text": [
      "/home/tt21642/dispyprob/pyprob/pyprob/nn/inference_network_lstm.py:137: UserWarning: Using prior. No proposal for address: 216__forward___traverse___traverse_rec___traverse_rec___traverse_rec___traverse_rec___traverse_rec___traverse_rec___traverse_rec___traverse_rec___traverse_rec___traverse_rec___traverse_rec__phi_CM__Uniform__2\n",
      "  warnings.warn('Using prior. No proposal for address: {}'.format(current_address))\n",
      "/home/tt21642/dispyprob/pyprob/pyprob/nn/inference_network_lstm.py:116: UserWarning: Address of current variable unknown by inference network: 216__forward___traverse___traverse_rec___traverse_rec___traverse_rec___traverse_rec___traverse_rec___traverse_rec___traverse_rec___traverse_rec___traverse_rec___traverse_rec___traverse_rec___traverse_rec___traverse_rec___traverse_rec___traverse_rec__phi_CM__Uniform__5\n",
      "  warnings.warn('Address of current variable unknown by inference network: {}'.format(current_address))\n",
      "/home/tt21642/dispyprob/pyprob/pyprob/nn/inference_network_lstm.py:137: UserWarning: Using prior. No proposal for address: 216__forward___traverse___traverse_rec___traverse_rec___traverse_rec___traverse_rec___traverse_rec___traverse_rec___traverse_rec___traverse_rec___traverse_rec___traverse_rec___traverse_rec___traverse_rec___traverse_rec___traverse_rec___traverse_rec__phi_CM__Uniform__5\n",
      "  warnings.warn('Using prior. No proposal for address: {}'.format(current_address))\n",
      "/home/tt21642/dispyprob/pyprob/pyprob/nn/inference_network_lstm.py:107: UserWarning: Address of previous variable unknown by inference network: 216__forward___traverse___traverse_rec___traverse_rec___traverse_rec___traverse_rec___traverse_rec___traverse_rec___traverse_rec___traverse_rec___traverse_rec___traverse_rec___traverse_rec___traverse_rec___traverse_rec___traverse_rec___traverse_rec__phi_CM__Uniform__5\n",
      "  warnings.warn('Address of previous variable unknown by inference network: {}'.format(prev_address))\n",
      "/home/tt21642/dispyprob/pyprob/pyprob/nn/inference_network_lstm.py:116: UserWarning: Address of current variable unknown by inference network: 256__forward___traverse___traverse_rec___traverse_rec___traverse_rec___traverse_rec___traverse_rec___traverse_rec___traverse_rec___traverse_rec___traverse_rec___traverse_rec___traverse_rec___traverse_rec___traverse_rec___traverse_rec___traverse_rec__theta_CM_U__Uniform__5\n",
      "  warnings.warn('Address of current variable unknown by inference network: {}'.format(current_address))\n",
      "/home/tt21642/dispyprob/pyprob/pyprob/nn/inference_network_lstm.py:137: UserWarning: Using prior. No proposal for address: 256__forward___traverse___traverse_rec___traverse_rec___traverse_rec___traverse_rec___traverse_rec___traverse_rec___traverse_rec___traverse_rec___traverse_rec___traverse_rec___traverse_rec___traverse_rec___traverse_rec___traverse_rec___traverse_rec__theta_CM_U__Uniform__5\n",
      "  warnings.warn('Using prior. No proposal for address: {}'.format(current_address))\n",
      "/home/tt21642/dispyprob/pyprob/pyprob/nn/inference_network_lstm.py:107: UserWarning: Address of previous variable unknown by inference network: 256__forward___traverse___traverse_rec___traverse_rec___traverse_rec___traverse_rec___traverse_rec___traverse_rec___traverse_rec___traverse_rec___traverse_rec___traverse_rec___traverse_rec___traverse_rec___traverse_rec___traverse_rec___traverse_rec__theta_CM_U__Uniform__5\n",
      "  warnings.warn('Address of previous variable unknown by inference network: {}'.format(prev_address))\n",
      "/home/tt21642/dispyprob/pyprob/pyprob/nn/inference_network_lstm.py:116: UserWarning: Address of current variable unknown by inference network: 460__forward___traverse___traverse_rec___traverse_rec___traverse_rec___traverse_rec___traverse_rec___traverse_rec___traverse_rec___traverse_rec___traverse_rec___traverse_rec___traverse_rec___traverse_rec___traverse_rec___traverse_rec___traverse_rec__draw_decay_L__TruncatedExponential__5\n",
      "  warnings.warn('Address of current variable unknown by inference network: {}'.format(current_address))\n",
      "/home/tt21642/dispyprob/pyprob/pyprob/nn/inference_network_lstm.py:137: UserWarning: Using prior. No proposal for address: 460__forward___traverse___traverse_rec___traverse_rec___traverse_rec___traverse_rec___traverse_rec___traverse_rec___traverse_rec___traverse_rec___traverse_rec___traverse_rec___traverse_rec___traverse_rec___traverse_rec___traverse_rec___traverse_rec__draw_decay_L__TruncatedExponential__5\n",
      "  warnings.warn('Using prior. No proposal for address: {}'.format(current_address))\n",
      "/home/tt21642/dispyprob/pyprob/pyprob/nn/inference_network_lstm.py:107: UserWarning: Address of previous variable unknown by inference network: 460__forward___traverse___traverse_rec___traverse_rec___traverse_rec___traverse_rec___traverse_rec___traverse_rec___traverse_rec___traverse_rec___traverse_rec___traverse_rec___traverse_rec___traverse_rec___traverse_rec___traverse_rec___traverse_rec__draw_decay_L__TruncatedExponential__5\n",
      "  warnings.warn('Address of previous variable unknown by inference network: {}'.format(prev_address))\n",
      "/home/tt21642/dispyprob/pyprob/pyprob/nn/inference_network_lstm.py:116: UserWarning: Address of current variable unknown by inference network: 510__forward___traverse___traverse_rec___traverse_rec___traverse_rec___traverse_rec___traverse_rec___traverse_rec___traverse_rec___traverse_rec___traverse_rec___traverse_rec___traverse_rec___traverse_rec___traverse_rec___traverse_rec___traverse_rec__draw_decay_R__TruncatedExponential__5\n",
      "  warnings.warn('Address of current variable unknown by inference network: {}'.format(current_address))\n",
      "/home/tt21642/dispyprob/pyprob/pyprob/nn/inference_network_lstm.py:137: UserWarning: Using prior. No proposal for address: 510__forward___traverse___traverse_rec___traverse_rec___traverse_rec___traverse_rec___traverse_rec___traverse_rec___traverse_rec___traverse_rec___traverse_rec___traverse_rec___traverse_rec___traverse_rec___traverse_rec___traverse_rec___traverse_rec__draw_decay_R__TruncatedExponential__5\n",
      "  warnings.warn('Using prior. No proposal for address: {}'.format(current_address))\n",
      "/home/tt21642/dispyprob/pyprob/pyprob/nn/inference_network_lstm.py:107: UserWarning: Address of previous variable unknown by inference network: 510__forward___traverse___traverse_rec___traverse_rec___traverse_rec___traverse_rec___traverse_rec___traverse_rec___traverse_rec___traverse_rec___traverse_rec___traverse_rec___traverse_rec___traverse_rec___traverse_rec___traverse_rec___traverse_rec__draw_decay_R__TruncatedExponential__5\n",
      "  warnings.warn('Address of previous variable unknown by inference network: {}'.format(prev_address))\n",
      "/home/tt21642/dispyprob/pyprob/pyprob/nn/inference_network_lstm.py:137: UserWarning: Using prior. No proposal for address: 216__forward___traverse___traverse_rec___traverse_rec___traverse_rec___traverse_rec___traverse_rec___traverse_rec___traverse_rec___traverse_rec___traverse_rec__phi_CM__Uniform__4\n",
      "  warnings.warn('Using prior. No proposal for address: {}'.format(current_address))\n"
     ]
    },
    {
     "name": "stdout",
     "output_type": "stream",
     "text": [
      "0d:00:15:24 | 0d:04:35:28 | #------------------- |   53/1000 |   1.59 | 0.06       \r"
     ]
    },
    {
     "name": "stderr",
     "output_type": "stream",
     "text": [
      "/home/tt21642/dispyprob/pyprob/pyprob/nn/inference_network_lstm.py:137: UserWarning: Using prior. No proposal for address: 216__forward___traverse___traverse_rec___traverse_rec___traverse_rec___traverse_rec___traverse_rec___traverse_rec___traverse_rec___traverse_rec___traverse_rec___traverse_rec___traverse_rec___traverse_rec__phi_CM__Uniform__5\n",
      "  warnings.warn('Using prior. No proposal for address: {}'.format(current_address))\n"
     ]
    },
    {
     "name": "stdout",
     "output_type": "stream",
     "text": [
      "0d:00:17:41 | 0d:04:53:00 | #------------------- |   57/1000 |   1.59 | 0.05       \r"
     ]
    },
    {
     "name": "stderr",
     "output_type": "stream",
     "text": [
      "/home/tt21642/dispyprob/pyprob/pyprob/nn/inference_network_lstm.py:137: UserWarning: Using prior. No proposal for address: 216__forward___traverse___traverse_rec___traverse_rec___traverse_rec___traverse_rec___traverse_rec___traverse_rec___traverse_rec__phi_CM__Uniform__9\n",
      "  warnings.warn('Using prior. No proposal for address: {}'.format(current_address))\n"
     ]
    },
    {
     "name": "stdout",
     "output_type": "stream",
     "text": [
      "0d:00:18:40 | 0d:04:58:05 | #------------------- |   59/1000 |   1.59 | 0.05       \r"
     ]
    },
    {
     "name": "stderr",
     "output_type": "stream",
     "text": [
      "/home/tt21642/dispyprob/pyprob/pyprob/nn/inference_network_lstm.py:116: UserWarning: Address of current variable unknown by inference network: 216__forward___traverse___traverse_rec___traverse_rec___traverse_rec___traverse_rec___traverse_rec___traverse_rec___traverse_rec___traverse_rec___traverse_rec__phi_CM__Uniform__15\n",
      "  warnings.warn('Address of current variable unknown by inference network: {}'.format(current_address))\n",
      "/home/tt21642/dispyprob/pyprob/pyprob/nn/inference_network_lstm.py:137: UserWarning: Using prior. No proposal for address: 216__forward___traverse___traverse_rec___traverse_rec___traverse_rec___traverse_rec___traverse_rec___traverse_rec___traverse_rec___traverse_rec___traverse_rec__phi_CM__Uniform__15\n",
      "  warnings.warn('Using prior. No proposal for address: {}'.format(current_address))\n",
      "/home/tt21642/dispyprob/pyprob/pyprob/nn/inference_network_lstm.py:107: UserWarning: Address of previous variable unknown by inference network: 216__forward___traverse___traverse_rec___traverse_rec___traverse_rec___traverse_rec___traverse_rec___traverse_rec___traverse_rec___traverse_rec___traverse_rec__phi_CM__Uniform__15\n",
      "  warnings.warn('Address of previous variable unknown by inference network: {}'.format(prev_address))\n",
      "/home/tt21642/dispyprob/pyprob/pyprob/nn/inference_network_lstm.py:116: UserWarning: Address of current variable unknown by inference network: 256__forward___traverse___traverse_rec___traverse_rec___traverse_rec___traverse_rec___traverse_rec___traverse_rec___traverse_rec___traverse_rec___traverse_rec__theta_CM_U__Uniform__15\n",
      "  warnings.warn('Address of current variable unknown by inference network: {}'.format(current_address))\n",
      "/home/tt21642/dispyprob/pyprob/pyprob/nn/inference_network_lstm.py:137: UserWarning: Using prior. No proposal for address: 256__forward___traverse___traverse_rec___traverse_rec___traverse_rec___traverse_rec___traverse_rec___traverse_rec___traverse_rec___traverse_rec___traverse_rec__theta_CM_U__Uniform__15\n",
      "  warnings.warn('Using prior. No proposal for address: {}'.format(current_address))\n",
      "/home/tt21642/dispyprob/pyprob/pyprob/nn/inference_network_lstm.py:107: UserWarning: Address of previous variable unknown by inference network: 256__forward___traverse___traverse_rec___traverse_rec___traverse_rec___traverse_rec___traverse_rec___traverse_rec___traverse_rec___traverse_rec___traverse_rec__theta_CM_U__Uniform__15\n",
      "  warnings.warn('Address of previous variable unknown by inference network: {}'.format(prev_address))\n",
      "/home/tt21642/dispyprob/pyprob/pyprob/nn/inference_network_lstm.py:116: UserWarning: Address of current variable unknown by inference network: 460__forward___traverse___traverse_rec___traverse_rec___traverse_rec___traverse_rec___traverse_rec___traverse_rec___traverse_rec___traverse_rec___traverse_rec__draw_decay_L__TruncatedExponential__15\n",
      "  warnings.warn('Address of current variable unknown by inference network: {}'.format(current_address))\n",
      "/home/tt21642/dispyprob/pyprob/pyprob/nn/inference_network_lstm.py:137: UserWarning: Using prior. No proposal for address: 460__forward___traverse___traverse_rec___traverse_rec___traverse_rec___traverse_rec___traverse_rec___traverse_rec___traverse_rec___traverse_rec___traverse_rec__draw_decay_L__TruncatedExponential__15\n",
      "  warnings.warn('Using prior. No proposal for address: {}'.format(current_address))\n",
      "/home/tt21642/dispyprob/pyprob/pyprob/nn/inference_network_lstm.py:107: UserWarning: Address of previous variable unknown by inference network: 460__forward___traverse___traverse_rec___traverse_rec___traverse_rec___traverse_rec___traverse_rec___traverse_rec___traverse_rec___traverse_rec___traverse_rec__draw_decay_L__TruncatedExponential__15\n",
      "  warnings.warn('Address of previous variable unknown by inference network: {}'.format(prev_address))\n",
      "/home/tt21642/dispyprob/pyprob/pyprob/nn/inference_network_lstm.py:116: UserWarning: Address of current variable unknown by inference network: 510__forward___traverse___traverse_rec___traverse_rec___traverse_rec___traverse_rec___traverse_rec___traverse_rec___traverse_rec___traverse_rec___traverse_rec__draw_decay_R__TruncatedExponential__15\n",
      "  warnings.warn('Address of current variable unknown by inference network: {}'.format(current_address))\n",
      "/home/tt21642/dispyprob/pyprob/pyprob/nn/inference_network_lstm.py:137: UserWarning: Using prior. No proposal for address: 510__forward___traverse___traverse_rec___traverse_rec___traverse_rec___traverse_rec___traverse_rec___traverse_rec___traverse_rec___traverse_rec___traverse_rec__draw_decay_R__TruncatedExponential__15\n",
      "  warnings.warn('Using prior. No proposal for address: {}'.format(current_address))\n",
      "/home/tt21642/dispyprob/pyprob/pyprob/nn/inference_network_lstm.py:107: UserWarning: Address of previous variable unknown by inference network: 510__forward___traverse___traverse_rec___traverse_rec___traverse_rec___traverse_rec___traverse_rec___traverse_rec___traverse_rec___traverse_rec___traverse_rec__draw_decay_R__TruncatedExponential__15\n",
      "  warnings.warn('Address of previous variable unknown by inference network: {}'.format(prev_address))\n",
      "/home/tt21642/dispyprob/pyprob/pyprob/nn/inference_network_lstm.py:116: UserWarning: Address of current variable unknown by inference network: 216__forward___traverse___traverse_rec___traverse_rec___traverse_rec___traverse_rec___traverse_rec___traverse_rec___traverse_rec___traverse_rec___traverse_rec__phi_CM__Uniform__16\n",
      "  warnings.warn('Address of current variable unknown by inference network: {}'.format(current_address))\n",
      "/home/tt21642/dispyprob/pyprob/pyprob/nn/inference_network_lstm.py:137: UserWarning: Using prior. No proposal for address: 216__forward___traverse___traverse_rec___traverse_rec___traverse_rec___traverse_rec___traverse_rec___traverse_rec___traverse_rec___traverse_rec___traverse_rec__phi_CM__Uniform__16\n",
      "  warnings.warn('Using prior. No proposal for address: {}'.format(current_address))\n",
      "/home/tt21642/dispyprob/pyprob/pyprob/nn/inference_network_lstm.py:107: UserWarning: Address of previous variable unknown by inference network: 216__forward___traverse___traverse_rec___traverse_rec___traverse_rec___traverse_rec___traverse_rec___traverse_rec___traverse_rec___traverse_rec___traverse_rec__phi_CM__Uniform__16\n",
      "  warnings.warn('Address of previous variable unknown by inference network: {}'.format(prev_address))\n",
      "/home/tt21642/dispyprob/pyprob/pyprob/nn/inference_network_lstm.py:116: UserWarning: Address of current variable unknown by inference network: 256__forward___traverse___traverse_rec___traverse_rec___traverse_rec___traverse_rec___traverse_rec___traverse_rec___traverse_rec___traverse_rec___traverse_rec__theta_CM_U__Uniform__16\n",
      "  warnings.warn('Address of current variable unknown by inference network: {}'.format(current_address))\n",
      "/home/tt21642/dispyprob/pyprob/pyprob/nn/inference_network_lstm.py:137: UserWarning: Using prior. No proposal for address: 256__forward___traverse___traverse_rec___traverse_rec___traverse_rec___traverse_rec___traverse_rec___traverse_rec___traverse_rec___traverse_rec___traverse_rec__theta_CM_U__Uniform__16\n",
      "  warnings.warn('Using prior. No proposal for address: {}'.format(current_address))\n",
      "/home/tt21642/dispyprob/pyprob/pyprob/nn/inference_network_lstm.py:107: UserWarning: Address of previous variable unknown by inference network: 256__forward___traverse___traverse_rec___traverse_rec___traverse_rec___traverse_rec___traverse_rec___traverse_rec___traverse_rec___traverse_rec___traverse_rec__theta_CM_U__Uniform__16\n",
      "  warnings.warn('Address of previous variable unknown by inference network: {}'.format(prev_address))\n",
      "/home/tt21642/dispyprob/pyprob/pyprob/nn/inference_network_lstm.py:116: UserWarning: Address of current variable unknown by inference network: 460__forward___traverse___traverse_rec___traverse_rec___traverse_rec___traverse_rec___traverse_rec___traverse_rec___traverse_rec___traverse_rec___traverse_rec__draw_decay_L__TruncatedExponential__16\n",
      "  warnings.warn('Address of current variable unknown by inference network: {}'.format(current_address))\n",
      "/home/tt21642/dispyprob/pyprob/pyprob/nn/inference_network_lstm.py:137: UserWarning: Using prior. No proposal for address: 460__forward___traverse___traverse_rec___traverse_rec___traverse_rec___traverse_rec___traverse_rec___traverse_rec___traverse_rec___traverse_rec___traverse_rec__draw_decay_L__TruncatedExponential__16\n",
      "  warnings.warn('Using prior. No proposal for address: {}'.format(current_address))\n",
      "/home/tt21642/dispyprob/pyprob/pyprob/nn/inference_network_lstm.py:107: UserWarning: Address of previous variable unknown by inference network: 460__forward___traverse___traverse_rec___traverse_rec___traverse_rec___traverse_rec___traverse_rec___traverse_rec___traverse_rec___traverse_rec___traverse_rec__draw_decay_L__TruncatedExponential__16\n",
      "  warnings.warn('Address of previous variable unknown by inference network: {}'.format(prev_address))\n",
      "/home/tt21642/dispyprob/pyprob/pyprob/nn/inference_network_lstm.py:116: UserWarning: Address of current variable unknown by inference network: 510__forward___traverse___traverse_rec___traverse_rec___traverse_rec___traverse_rec___traverse_rec___traverse_rec___traverse_rec___traverse_rec___traverse_rec__draw_decay_R__TruncatedExponential__16\n",
      "  warnings.warn('Address of current variable unknown by inference network: {}'.format(current_address))\n",
      "/home/tt21642/dispyprob/pyprob/pyprob/nn/inference_network_lstm.py:137: UserWarning: Using prior. No proposal for address: 510__forward___traverse___traverse_rec___traverse_rec___traverse_rec___traverse_rec___traverse_rec___traverse_rec___traverse_rec___traverse_rec___traverse_rec__draw_decay_R__TruncatedExponential__16\n",
      "  warnings.warn('Using prior. No proposal for address: {}'.format(current_address))\n",
      "/home/tt21642/dispyprob/pyprob/pyprob/nn/inference_network_lstm.py:107: UserWarning: Address of previous variable unknown by inference network: 510__forward___traverse___traverse_rec___traverse_rec___traverse_rec___traverse_rec___traverse_rec___traverse_rec___traverse_rec___traverse_rec___traverse_rec__draw_decay_R__TruncatedExponential__16\n",
      "  warnings.warn('Address of previous variable unknown by inference network: {}'.format(prev_address))\n",
      "/home/tt21642/dispyprob/pyprob/pyprob/nn/inference_network_lstm.py:116: UserWarning: Address of current variable unknown by inference network: 216__forward___traverse___traverse_rec___traverse_rec___traverse_rec___traverse_rec___traverse_rec___traverse_rec___traverse_rec___traverse_rec___traverse_rec__phi_CM__Uniform__17\n",
      "  warnings.warn('Address of current variable unknown by inference network: {}'.format(current_address))\n",
      "/home/tt21642/dispyprob/pyprob/pyprob/nn/inference_network_lstm.py:137: UserWarning: Using prior. No proposal for address: 216__forward___traverse___traverse_rec___traverse_rec___traverse_rec___traverse_rec___traverse_rec___traverse_rec___traverse_rec___traverse_rec___traverse_rec__phi_CM__Uniform__17\n",
      "  warnings.warn('Using prior. No proposal for address: {}'.format(current_address))\n",
      "/home/tt21642/dispyprob/pyprob/pyprob/nn/inference_network_lstm.py:107: UserWarning: Address of previous variable unknown by inference network: 216__forward___traverse___traverse_rec___traverse_rec___traverse_rec___traverse_rec___traverse_rec___traverse_rec___traverse_rec___traverse_rec___traverse_rec__phi_CM__Uniform__17\n",
      "  warnings.warn('Address of previous variable unknown by inference network: {}'.format(prev_address))\n",
      "/home/tt21642/dispyprob/pyprob/pyprob/nn/inference_network_lstm.py:116: UserWarning: Address of current variable unknown by inference network: 256__forward___traverse___traverse_rec___traverse_rec___traverse_rec___traverse_rec___traverse_rec___traverse_rec___traverse_rec___traverse_rec___traverse_rec__theta_CM_U__Uniform__17\n",
      "  warnings.warn('Address of current variable unknown by inference network: {}'.format(current_address))\n",
      "/home/tt21642/dispyprob/pyprob/pyprob/nn/inference_network_lstm.py:137: UserWarning: Using prior. No proposal for address: 256__forward___traverse___traverse_rec___traverse_rec___traverse_rec___traverse_rec___traverse_rec___traverse_rec___traverse_rec___traverse_rec___traverse_rec__theta_CM_U__Uniform__17\n",
      "  warnings.warn('Using prior. No proposal for address: {}'.format(current_address))\n",
      "/home/tt21642/dispyprob/pyprob/pyprob/nn/inference_network_lstm.py:107: UserWarning: Address of previous variable unknown by inference network: 256__forward___traverse___traverse_rec___traverse_rec___traverse_rec___traverse_rec___traverse_rec___traverse_rec___traverse_rec___traverse_rec___traverse_rec__theta_CM_U__Uniform__17\n",
      "  warnings.warn('Address of previous variable unknown by inference network: {}'.format(prev_address))\n",
      "/home/tt21642/dispyprob/pyprob/pyprob/nn/inference_network_lstm.py:116: UserWarning: Address of current variable unknown by inference network: 460__forward___traverse___traverse_rec___traverse_rec___traverse_rec___traverse_rec___traverse_rec___traverse_rec___traverse_rec___traverse_rec___traverse_rec__draw_decay_L__TruncatedExponential__17\n",
      "  warnings.warn('Address of current variable unknown by inference network: {}'.format(current_address))\n",
      "/home/tt21642/dispyprob/pyprob/pyprob/nn/inference_network_lstm.py:137: UserWarning: Using prior. No proposal for address: 460__forward___traverse___traverse_rec___traverse_rec___traverse_rec___traverse_rec___traverse_rec___traverse_rec___traverse_rec___traverse_rec___traverse_rec__draw_decay_L__TruncatedExponential__17\n",
      "  warnings.warn('Using prior. No proposal for address: {}'.format(current_address))\n",
      "/home/tt21642/dispyprob/pyprob/pyprob/nn/inference_network_lstm.py:107: UserWarning: Address of previous variable unknown by inference network: 460__forward___traverse___traverse_rec___traverse_rec___traverse_rec___traverse_rec___traverse_rec___traverse_rec___traverse_rec___traverse_rec___traverse_rec__draw_decay_L__TruncatedExponential__17\n",
      "  warnings.warn('Address of previous variable unknown by inference network: {}'.format(prev_address))\n",
      "/home/tt21642/dispyprob/pyprob/pyprob/nn/inference_network_lstm.py:116: UserWarning: Address of current variable unknown by inference network: 510__forward___traverse___traverse_rec___traverse_rec___traverse_rec___traverse_rec___traverse_rec___traverse_rec___traverse_rec___traverse_rec___traverse_rec__draw_decay_R__TruncatedExponential__17\n",
      "  warnings.warn('Address of current variable unknown by inference network: {}'.format(current_address))\n",
      "/home/tt21642/dispyprob/pyprob/pyprob/nn/inference_network_lstm.py:137: UserWarning: Using prior. No proposal for address: 510__forward___traverse___traverse_rec___traverse_rec___traverse_rec___traverse_rec___traverse_rec___traverse_rec___traverse_rec___traverse_rec___traverse_rec__draw_decay_R__TruncatedExponential__17\n",
      "  warnings.warn('Using prior. No proposal for address: {}'.format(current_address))\n",
      "/home/tt21642/dispyprob/pyprob/pyprob/nn/inference_network_lstm.py:107: UserWarning: Address of previous variable unknown by inference network: 510__forward___traverse___traverse_rec___traverse_rec___traverse_rec___traverse_rec___traverse_rec___traverse_rec___traverse_rec___traverse_rec___traverse_rec__draw_decay_R__TruncatedExponential__17\n",
      "  warnings.warn('Address of previous variable unknown by inference network: {}'.format(prev_address))\n",
      "/home/tt21642/dispyprob/pyprob/pyprob/nn/inference_network_lstm.py:137: UserWarning: Using prior. No proposal for address: 216__forward___traverse___traverse_rec___traverse_rec___traverse_rec___traverse_rec___traverse_rec___traverse_rec___traverse_rec___traverse_rec__phi_CM__Uniform__12\n",
      "  warnings.warn('Using prior. No proposal for address: {}'.format(current_address))\n"
     ]
    },
    {
     "name": "stdout",
     "output_type": "stream",
     "text": [
      "0d:00:19:48 | 0d:05:05:07 | #------------------- |   61/1000 |   1.59 | 0.05       \r"
     ]
    },
    {
     "name": "stderr",
     "output_type": "stream",
     "text": [
      "/home/tt21642/dispyprob/pyprob/pyprob/nn/inference_network_lstm.py:137: UserWarning: Using prior. No proposal for address: 216__forward___traverse___traverse_rec___traverse_rec___traverse_rec___traverse_rec___traverse_rec___traverse_rec___traverse_rec___traverse_rec___traverse_rec___traverse_rec___traverse_rec___traverse_rec___traverse_rec___traverse_rec__phi_CM__Uniform__3\n",
      "  warnings.warn('Using prior. No proposal for address: {}'.format(current_address))\n"
     ]
    },
    {
     "name": "stdout",
     "output_type": "stream",
     "text": [
      "0d:00:23:05 | 0d:05:21:57 | #------------------- |   67/1000 |   1.66 | 0.05       \r"
     ]
    },
    {
     "name": "stderr",
     "output_type": "stream",
     "text": [
      "/home/tt21642/dispyprob/pyprob/pyprob/nn/inference_network_lstm.py:137: UserWarning: Using prior. No proposal for address: 216__forward___traverse___traverse_rec___traverse_rec___traverse_rec___traverse_rec___traverse_rec___traverse_rec___traverse_rec___traverse_rec___traverse_rec___traverse_rec___traverse_rec___traverse_rec___traverse_rec___traverse_rec___traverse_rec___traverse_rec__phi_CM__Uniform__2\n",
      "  warnings.warn('Using prior. No proposal for address: {}'.format(current_address))\n"
     ]
    },
    {
     "name": "stdout",
     "output_type": "stream",
     "text": [
      "0d:00:26:07 | 0d:05:32:10 | #------------------- |   73/1000 |   1.68 | 0.05       \r"
     ]
    },
    {
     "name": "stderr",
     "output_type": "stream",
     "text": [
      "/home/tt21642/dispyprob/pyprob/pyprob/nn/inference_network_lstm.py:137: UserWarning: Using prior. No proposal for address: 216__forward___traverse___traverse_rec___traverse_rec___traverse_rec___traverse_rec___traverse_rec___traverse_rec___traverse_rec___traverse_rec__phi_CM__Uniform__13\n",
      "  warnings.warn('Using prior. No proposal for address: {}'.format(current_address))\n",
      "/home/tt21642/dispyprob/pyprob/pyprob/nn/inference_network_lstm.py:137: UserWarning: Using prior. No proposal for address: 216__forward___traverse___traverse_rec___traverse_rec___traverse_rec___traverse_rec___traverse_rec___traverse_rec__phi_CM__Uniform__9\n",
      "  warnings.warn('Using prior. No proposal for address: {}'.format(current_address))\n"
     ]
    },
    {
     "name": "stdout",
     "output_type": "stream",
     "text": [
      "0d:00:28:30 | 0d:05:37:25 | ##------------------ |   78/1000 |   1.68 | 0.05       \r"
     ]
    },
    {
     "name": "stderr",
     "output_type": "stream",
     "text": [
      "/home/tt21642/dispyprob/pyprob/pyprob/nn/inference_network_lstm.py:137: UserWarning: Using prior. No proposal for address: 216__forward___traverse___traverse_rec___traverse_rec___traverse_rec___traverse_rec___traverse_rec__phi_CM__Uniform__2\n",
      "  warnings.warn('Using prior. No proposal for address: {}'.format(current_address))\n"
     ]
    },
    {
     "name": "stdout",
     "output_type": "stream",
     "text": [
      "0d:00:30:09 | 0d:05:42:27 | ##------------------ |   81/1000 |   1.68 | 0.04       \r"
     ]
    },
    {
     "name": "stderr",
     "output_type": "stream",
     "text": [
      "/home/tt21642/dispyprob/pyprob/pyprob/nn/inference_network_lstm.py:137: UserWarning: Using prior. No proposal for address: 216__forward___traverse___traverse_rec___traverse_rec___traverse_rec___traverse_rec___traverse_rec__phi_CM__Uniform__5\n",
      "  warnings.warn('Using prior. No proposal for address: {}'.format(current_address))\n"
     ]
    },
    {
     "name": "stdout",
     "output_type": "stream",
     "text": [
      "0d:00:35:10 | 0d:05:51:42 | ##------------------ |   91/1000 |   1.70 | 0.04       \r"
     ]
    },
    {
     "name": "stderr",
     "output_type": "stream",
     "text": [
      "/home/tt21642/dispyprob/pyprob/pyprob/nn/inference_network_lstm.py:137: UserWarning: Using prior. No proposal for address: 216__forward___traverse___traverse_rec___traverse_rec___traverse_rec___traverse_rec___traverse_rec___traverse_rec___traverse_rec___traverse_rec___traverse_rec___traverse_rec__phi_CM__Uniform__4\n",
      "  warnings.warn('Using prior. No proposal for address: {}'.format(current_address))\n",
      "/home/tt21642/dispyprob/pyprob/pyprob/nn/inference_network_lstm.py:137: UserWarning: Using prior. No proposal for address: 216__forward___traverse___traverse_rec___traverse_rec___traverse_rec___traverse_rec___traverse_rec___traverse_rec___traverse_rec___traverse_rec___traverse_rec___traverse_rec___traverse_rec__phi_CM__Uniform__6\n",
      "  warnings.warn('Using prior. No proposal for address: {}'.format(current_address))\n",
      "/home/tt21642/dispyprob/pyprob/pyprob/nn/inference_network_lstm.py:137: UserWarning: Using prior. No proposal for address: 216__forward___traverse___traverse_rec___traverse_rec___traverse_rec___traverse_rec___traverse_rec___traverse_rec___traverse_rec___traverse_rec__phi_CM__Uniform__4\n",
      "  warnings.warn('Using prior. No proposal for address: {}'.format(current_address))\n",
      "/home/tt21642/dispyprob/pyprob/pyprob/nn/inference_network_lstm.py:137: UserWarning: Using prior. No proposal for address: 216__forward___traverse___traverse_rec___traverse_rec___traverse_rec___traverse_rec___traverse_rec___traverse_rec___traverse_rec___traverse_rec___traverse_rec__phi_CM__Uniform__9\n",
      "  warnings.warn('Using prior. No proposal for address: {}'.format(current_address))\n"
     ]
    },
    {
     "name": "stdout",
     "output_type": "stream",
     "text": [
      "0d:00:37:08 | 0d:05:54:13 | ##------------------ |   95/1000 |   1.70 | 0.04       \r"
     ]
    },
    {
     "name": "stderr",
     "output_type": "stream",
     "text": [
      "/home/tt21642/dispyprob/pyprob/pyprob/nn/inference_network_lstm.py:137: UserWarning: Using prior. No proposal for address: 216__forward___traverse___traverse_rec___traverse_rec___traverse_rec___traverse_rec__phi_CM__Uniform__7\n",
      "  warnings.warn('Using prior. No proposal for address: {}'.format(current_address))\n"
     ]
    },
    {
     "name": "stdout",
     "output_type": "stream",
     "text": [
      "0d:00:38:04 | 0d:05:54:49 | ##------------------ |   97/1000 |   2.24 | 0.04       \r"
     ]
    },
    {
     "name": "stderr",
     "output_type": "stream",
     "text": [
      "/home/tt21642/dispyprob/pyprob/pyprob/nn/inference_network_lstm.py:137: UserWarning: Using prior. No proposal for address: 216__forward___traverse___traverse_rec___traverse_rec___traverse_rec___traverse_rec___traverse_rec___traverse_rec___traverse_rec___traverse_rec___traverse_rec__phi_CM__Uniform__3\n",
      "  warnings.warn('Using prior. No proposal for address: {}'.format(current_address))\n",
      "/home/tt21642/dispyprob/pyprob/pyprob/nn/inference_network_lstm.py:137: UserWarning: Using prior. No proposal for address: 216__forward___traverse___traverse_rec___traverse_rec___traverse_rec___traverse_rec___traverse_rec__phi_CM__Uniform__11\n",
      "  warnings.warn('Using prior. No proposal for address: {}'.format(current_address))\n",
      "/home/tt21642/dispyprob/pyprob/pyprob/nn/inference_network_lstm.py:137: UserWarning: Using prior. No proposal for address: 216__forward___traverse___traverse_rec___traverse_rec___traverse_rec___traverse_rec___traverse_rec___traverse_rec___traverse_rec___traverse_rec__phi_CM__Uniform__15\n",
      "  warnings.warn('Using prior. No proposal for address: {}'.format(current_address))\n"
     ]
    },
    {
     "name": "stdout",
     "output_type": "stream",
     "text": [
      "0d:00:42:12 | 0d:06:04:02 | ##------------------ |  104/1000 |   2.29 | 0.04       \r"
     ]
    },
    {
     "name": "stderr",
     "output_type": "stream",
     "text": [
      "/home/tt21642/dispyprob/pyprob/pyprob/nn/inference_network_lstm.py:137: UserWarning: Using prior. No proposal for address: 216__forward___traverse___traverse_rec___traverse_rec___traverse_rec___traverse_rec___traverse_rec___traverse_rec___traverse_rec___traverse_rec__phi_CM__Uniform__9\n",
      "  warnings.warn('Using prior. No proposal for address: {}'.format(current_address))\n"
     ]
    },
    {
     "name": "stdout",
     "output_type": "stream",
     "text": [
      "0d:00:47:35 | 0d:06:06:42 | ##------------------ |  115/1000 |   3.27 | 0.04       \r"
     ]
    },
    {
     "name": "stderr",
     "output_type": "stream",
     "text": [
      "/home/tt21642/dispyprob/pyprob/pyprob/nn/inference_network_lstm.py:137: UserWarning: Using prior. No proposal for address: 216__forward___traverse___traverse_rec___traverse_rec__phi_CM__Uniform__2\n",
      "  warnings.warn('Using prior. No proposal for address: {}'.format(current_address))\n"
     ]
    },
    {
     "name": "stdout",
     "output_type": "stream",
     "text": [
      "0d:00:51:45 | 0d:06:06:03 | ##------------------ |  124/1000 |   3.27 | 0.04       \r"
     ]
    },
    {
     "name": "stderr",
     "output_type": "stream",
     "text": [
      "/home/tt21642/dispyprob/pyprob/pyprob/nn/inference_network_lstm.py:137: UserWarning: Using prior. No proposal for address: 510__forward___traverse___traverse_rec___traverse_rec___traverse_rec___traverse_rec___traverse_rec___traverse_rec___traverse_rec__draw_decay_R__TruncatedExponential__14\n",
      "  warnings.warn('Using prior. No proposal for address: {}'.format(current_address))\n"
     ]
    },
    {
     "name": "stdout",
     "output_type": "stream",
     "text": [
      "0d:00:57:13 | 0d:06:10:13 | ###----------------- |  134/1000 |   3.27 | 0.04       \r"
     ]
    },
    {
     "name": "stderr",
     "output_type": "stream",
     "text": [
      "/home/tt21642/dispyprob/pyprob/pyprob/nn/inference_network_lstm.py:137: UserWarning: Using prior. No proposal for address: 216__forward___traverse___traverse_rec___traverse_rec___traverse_rec___traverse_rec___traverse_rec___traverse_rec___traverse_rec___traverse_rec___traverse_rec__phi_CM__Uniform__8\n",
      "  warnings.warn('Using prior. No proposal for address: {}'.format(current_address))\n"
     ]
    },
    {
     "name": "stdout",
     "output_type": "stream",
     "text": [
      "0d:00:57:52 | 0d:06:11:15 | ###----------------- |  135/1000 |   3.27 | 0.04       \r"
     ]
    },
    {
     "name": "stderr",
     "output_type": "stream",
     "text": [
      "/home/tt21642/dispyprob/pyprob/pyprob/nn/inference_network_lstm.py:137: UserWarning: Using prior. No proposal for address: 216__forward___traverse___traverse_rec___traverse_rec___traverse_rec___traverse_rec___traverse_rec___traverse_rec__phi_CM__Uniform__15\n",
      "  warnings.warn('Using prior. No proposal for address: {}'.format(current_address))\n",
      "/home/tt21642/dispyprob/pyprob/pyprob/nn/inference_network_lstm.py:116: UserWarning: Address of current variable unknown by inference network: 216__forward___traverse___traverse_rec___traverse_rec___traverse_rec___traverse_rec___traverse_rec___traverse_rec___traverse_rec__phi_CM__Uniform__16\n",
      "  warnings.warn('Address of current variable unknown by inference network: {}'.format(current_address))\n",
      "/home/tt21642/dispyprob/pyprob/pyprob/nn/inference_network_lstm.py:137: UserWarning: Using prior. No proposal for address: 216__forward___traverse___traverse_rec___traverse_rec___traverse_rec___traverse_rec___traverse_rec___traverse_rec___traverse_rec__phi_CM__Uniform__16\n",
      "  warnings.warn('Using prior. No proposal for address: {}'.format(current_address))\n",
      "/home/tt21642/dispyprob/pyprob/pyprob/nn/inference_network_lstm.py:107: UserWarning: Address of previous variable unknown by inference network: 216__forward___traverse___traverse_rec___traverse_rec___traverse_rec___traverse_rec___traverse_rec___traverse_rec___traverse_rec__phi_CM__Uniform__16\n",
      "  warnings.warn('Address of previous variable unknown by inference network: {}'.format(prev_address))\n",
      "/home/tt21642/dispyprob/pyprob/pyprob/nn/inference_network_lstm.py:116: UserWarning: Address of current variable unknown by inference network: 256__forward___traverse___traverse_rec___traverse_rec___traverse_rec___traverse_rec___traverse_rec___traverse_rec___traverse_rec__theta_CM_U__Uniform__16\n",
      "  warnings.warn('Address of current variable unknown by inference network: {}'.format(current_address))\n",
      "/home/tt21642/dispyprob/pyprob/pyprob/nn/inference_network_lstm.py:137: UserWarning: Using prior. No proposal for address: 256__forward___traverse___traverse_rec___traverse_rec___traverse_rec___traverse_rec___traverse_rec___traverse_rec___traverse_rec__theta_CM_U__Uniform__16\n",
      "  warnings.warn('Using prior. No proposal for address: {}'.format(current_address))\n",
      "/home/tt21642/dispyprob/pyprob/pyprob/nn/inference_network_lstm.py:107: UserWarning: Address of previous variable unknown by inference network: 256__forward___traverse___traverse_rec___traverse_rec___traverse_rec___traverse_rec___traverse_rec___traverse_rec___traverse_rec__theta_CM_U__Uniform__16\n",
      "  warnings.warn('Address of previous variable unknown by inference network: {}'.format(prev_address))\n",
      "/home/tt21642/dispyprob/pyprob/pyprob/nn/inference_network_lstm.py:116: UserWarning: Address of current variable unknown by inference network: 460__forward___traverse___traverse_rec___traverse_rec___traverse_rec___traverse_rec___traverse_rec___traverse_rec___traverse_rec__draw_decay_L__TruncatedExponential__16\n",
      "  warnings.warn('Address of current variable unknown by inference network: {}'.format(current_address))\n",
      "/home/tt21642/dispyprob/pyprob/pyprob/nn/inference_network_lstm.py:137: UserWarning: Using prior. No proposal for address: 460__forward___traverse___traverse_rec___traverse_rec___traverse_rec___traverse_rec___traverse_rec___traverse_rec___traverse_rec__draw_decay_L__TruncatedExponential__16\n",
      "  warnings.warn('Using prior. No proposal for address: {}'.format(current_address))\n",
      "/home/tt21642/dispyprob/pyprob/pyprob/nn/inference_network_lstm.py:107: UserWarning: Address of previous variable unknown by inference network: 460__forward___traverse___traverse_rec___traverse_rec___traverse_rec___traverse_rec___traverse_rec___traverse_rec___traverse_rec__draw_decay_L__TruncatedExponential__16\n",
      "  warnings.warn('Address of previous variable unknown by inference network: {}'.format(prev_address))\n",
      "/home/tt21642/dispyprob/pyprob/pyprob/nn/inference_network_lstm.py:116: UserWarning: Address of current variable unknown by inference network: 510__forward___traverse___traverse_rec___traverse_rec___traverse_rec___traverse_rec___traverse_rec___traverse_rec___traverse_rec__draw_decay_R__TruncatedExponential__16\n",
      "  warnings.warn('Address of current variable unknown by inference network: {}'.format(current_address))\n",
      "/home/tt21642/dispyprob/pyprob/pyprob/nn/inference_network_lstm.py:137: UserWarning: Using prior. No proposal for address: 510__forward___traverse___traverse_rec___traverse_rec___traverse_rec___traverse_rec___traverse_rec___traverse_rec___traverse_rec__draw_decay_R__TruncatedExponential__16\n",
      "  warnings.warn('Using prior. No proposal for address: {}'.format(current_address))\n",
      "/home/tt21642/dispyprob/pyprob/pyprob/nn/inference_network_lstm.py:107: UserWarning: Address of previous variable unknown by inference network: 510__forward___traverse___traverse_rec___traverse_rec___traverse_rec___traverse_rec___traverse_rec___traverse_rec___traverse_rec__draw_decay_R__TruncatedExponential__16\n",
      "  warnings.warn('Address of previous variable unknown by inference network: {}'.format(prev_address))\n"
     ]
    },
    {
     "name": "stdout",
     "output_type": "stream",
     "text": [
      "0d:00:58:26 | 0d:06:11:39 | ###----------------- |  136/1000 |   3.27 | 0.04       \r"
     ]
    },
    {
     "name": "stderr",
     "output_type": "stream",
     "text": [
      "/home/tt21642/dispyprob/pyprob/pyprob/nn/inference_network_lstm.py:116: UserWarning: Address of current variable unknown by inference network: 460__forward___traverse___traverse_rec___traverse_rec___traverse_rec___traverse_rec___traverse_rec___traverse_rec__draw_decay_L__TruncatedExponential__17\n",
      "  warnings.warn('Address of current variable unknown by inference network: {}'.format(current_address))\n",
      "/home/tt21642/dispyprob/pyprob/pyprob/nn/inference_network_lstm.py:137: UserWarning: Using prior. No proposal for address: 460__forward___traverse___traverse_rec___traverse_rec___traverse_rec___traverse_rec___traverse_rec___traverse_rec__draw_decay_L__TruncatedExponential__17\n",
      "  warnings.warn('Using prior. No proposal for address: {}'.format(current_address))\n",
      "/home/tt21642/dispyprob/pyprob/pyprob/nn/inference_network_lstm.py:107: UserWarning: Address of previous variable unknown by inference network: 460__forward___traverse___traverse_rec___traverse_rec___traverse_rec___traverse_rec___traverse_rec___traverse_rec__draw_decay_L__TruncatedExponential__17\n",
      "  warnings.warn('Address of previous variable unknown by inference network: {}'.format(prev_address))\n",
      "/home/tt21642/dispyprob/pyprob/pyprob/nn/inference_network_lstm.py:137: UserWarning: Using prior. No proposal for address: 510__forward___traverse___traverse_rec___traverse_rec___traverse_rec___traverse_rec___traverse_rec___traverse_rec__draw_decay_R__TruncatedExponential__16\n",
      "  warnings.warn('Using prior. No proposal for address: {}'.format(current_address))\n",
      "/home/tt21642/dispyprob/pyprob/pyprob/nn/inference_network_lstm.py:137: UserWarning: Using prior. No proposal for address: 216__forward___traverse___traverse_rec___traverse_rec___traverse_rec___traverse_rec___traverse_rec___traverse_rec___traverse_rec___traverse_rec___traverse_rec___traverse_rec___traverse_rec__phi_CM__Uniform__3\n",
      "  warnings.warn('Using prior. No proposal for address: {}'.format(current_address))\n",
      "/home/tt21642/dispyprob/pyprob/pyprob/nn/inference_network_lstm.py:137: UserWarning: Using prior. No proposal for address: 216__forward___traverse___traverse_rec___traverse_rec___traverse_rec___traverse_rec___traverse_rec___traverse_rec___traverse_rec___traverse_rec__phi_CM__Uniform__6\n",
      "  warnings.warn('Using prior. No proposal for address: {}'.format(current_address))\n",
      "/home/tt21642/dispyprob/pyprob/pyprob/nn/inference_network_lstm.py:116: UserWarning: Address of current variable unknown by inference network: 216__forward___traverse___traverse_rec___traverse_rec___traverse_rec___traverse_rec___traverse_rec___traverse_rec___traverse_rec___traverse_rec___traverse_rec___traverse_rec___traverse_rec__phi_CM__Uniform__12\n",
      "  warnings.warn('Address of current variable unknown by inference network: {}'.format(current_address))\n",
      "/home/tt21642/dispyprob/pyprob/pyprob/nn/inference_network_lstm.py:137: UserWarning: Using prior. No proposal for address: 216__forward___traverse___traverse_rec___traverse_rec___traverse_rec___traverse_rec___traverse_rec___traverse_rec___traverse_rec___traverse_rec___traverse_rec___traverse_rec___traverse_rec__phi_CM__Uniform__12\n",
      "  warnings.warn('Using prior. No proposal for address: {}'.format(current_address))\n",
      "/home/tt21642/dispyprob/pyprob/pyprob/nn/inference_network_lstm.py:107: UserWarning: Address of previous variable unknown by inference network: 216__forward___traverse___traverse_rec___traverse_rec___traverse_rec___traverse_rec___traverse_rec___traverse_rec___traverse_rec___traverse_rec___traverse_rec___traverse_rec___traverse_rec__phi_CM__Uniform__12\n",
      "  warnings.warn('Address of previous variable unknown by inference network: {}'.format(prev_address))\n",
      "/home/tt21642/dispyprob/pyprob/pyprob/nn/inference_network_lstm.py:116: UserWarning: Address of current variable unknown by inference network: 256__forward___traverse___traverse_rec___traverse_rec___traverse_rec___traverse_rec___traverse_rec___traverse_rec___traverse_rec___traverse_rec___traverse_rec___traverse_rec___traverse_rec__theta_CM_U__Uniform__12\n",
      "  warnings.warn('Address of current variable unknown by inference network: {}'.format(current_address))\n",
      "/home/tt21642/dispyprob/pyprob/pyprob/nn/inference_network_lstm.py:137: UserWarning: Using prior. No proposal for address: 256__forward___traverse___traverse_rec___traverse_rec___traverse_rec___traverse_rec___traverse_rec___traverse_rec___traverse_rec___traverse_rec___traverse_rec___traverse_rec___traverse_rec__theta_CM_U__Uniform__12\n",
      "  warnings.warn('Using prior. No proposal for address: {}'.format(current_address))\n",
      "/home/tt21642/dispyprob/pyprob/pyprob/nn/inference_network_lstm.py:107: UserWarning: Address of previous variable unknown by inference network: 256__forward___traverse___traverse_rec___traverse_rec___traverse_rec___traverse_rec___traverse_rec___traverse_rec___traverse_rec___traverse_rec___traverse_rec___traverse_rec___traverse_rec__theta_CM_U__Uniform__12\n",
      "  warnings.warn('Address of previous variable unknown by inference network: {}'.format(prev_address))\n",
      "/home/tt21642/dispyprob/pyprob/pyprob/nn/inference_network_lstm.py:116: UserWarning: Address of current variable unknown by inference network: 460__forward___traverse___traverse_rec___traverse_rec___traverse_rec___traverse_rec___traverse_rec___traverse_rec___traverse_rec___traverse_rec___traverse_rec___traverse_rec___traverse_rec__draw_decay_L__TruncatedExponential__12\n",
      "  warnings.warn('Address of current variable unknown by inference network: {}'.format(current_address))\n",
      "/home/tt21642/dispyprob/pyprob/pyprob/nn/inference_network_lstm.py:137: UserWarning: Using prior. No proposal for address: 460__forward___traverse___traverse_rec___traverse_rec___traverse_rec___traverse_rec___traverse_rec___traverse_rec___traverse_rec___traverse_rec___traverse_rec___traverse_rec___traverse_rec__draw_decay_L__TruncatedExponential__12\n",
      "  warnings.warn('Using prior. No proposal for address: {}'.format(current_address))\n",
      "/home/tt21642/dispyprob/pyprob/pyprob/nn/inference_network_lstm.py:107: UserWarning: Address of previous variable unknown by inference network: 460__forward___traverse___traverse_rec___traverse_rec___traverse_rec___traverse_rec___traverse_rec___traverse_rec___traverse_rec___traverse_rec___traverse_rec___traverse_rec___traverse_rec__draw_decay_L__TruncatedExponential__12\n",
      "  warnings.warn('Address of previous variable unknown by inference network: {}'.format(prev_address))\n",
      "/home/tt21642/dispyprob/pyprob/pyprob/nn/inference_network_lstm.py:116: UserWarning: Address of current variable unknown by inference network: 510__forward___traverse___traverse_rec___traverse_rec___traverse_rec___traverse_rec___traverse_rec___traverse_rec___traverse_rec___traverse_rec___traverse_rec___traverse_rec___traverse_rec__draw_decay_R__TruncatedExponential__12\n",
      "  warnings.warn('Address of current variable unknown by inference network: {}'.format(current_address))\n",
      "/home/tt21642/dispyprob/pyprob/pyprob/nn/inference_network_lstm.py:137: UserWarning: Using prior. No proposal for address: 510__forward___traverse___traverse_rec___traverse_rec___traverse_rec___traverse_rec___traverse_rec___traverse_rec___traverse_rec___traverse_rec___traverse_rec___traverse_rec___traverse_rec__draw_decay_R__TruncatedExponential__12\n",
      "  warnings.warn('Using prior. No proposal for address: {}'.format(current_address))\n",
      "/home/tt21642/dispyprob/pyprob/pyprob/nn/inference_network_lstm.py:107: UserWarning: Address of previous variable unknown by inference network: 510__forward___traverse___traverse_rec___traverse_rec___traverse_rec___traverse_rec___traverse_rec___traverse_rec___traverse_rec___traverse_rec___traverse_rec___traverse_rec___traverse_rec__draw_decay_R__TruncatedExponential__12\n",
      "  warnings.warn('Address of previous variable unknown by inference network: {}'.format(prev_address))\n"
     ]
    },
    {
     "name": "stdout",
     "output_type": "stream",
     "text": [
      "0d:01:00:58 | 0d:06:11:53 | ###----------------- |  141/1000 |   3.27 | 0.04       \r"
     ]
    },
    {
     "name": "stderr",
     "output_type": "stream",
     "text": [
      "/home/tt21642/dispyprob/pyprob/pyprob/nn/inference_network_lstm.py:137: UserWarning: Using prior. No proposal for address: 216__forward___traverse___traverse_rec___traverse_rec___traverse_rec___traverse_rec___traverse_rec___traverse_rec___traverse_rec___traverse_rec___traverse_rec___traverse_rec___traverse_rec___traverse_rec___traverse_rec__phi_CM__Uniform__4\n",
      "  warnings.warn('Using prior. No proposal for address: {}'.format(current_address))\n"
     ]
    },
    {
     "name": "stdout",
     "output_type": "stream",
     "text": [
      "0d:01:06:05 | 0d:06:09:09 | ###----------------- |  152/1000 |   3.27 | 0.04       \r"
     ]
    },
    {
     "name": "stderr",
     "output_type": "stream",
     "text": [
      "/home/tt21642/dispyprob/pyprob/pyprob/nn/inference_network_lstm.py:116: UserWarning: Address of current variable unknown by inference network: 216__forward___traverse___traverse_rec___traverse_rec___traverse_rec___traverse_rec___traverse_rec___traverse_rec___traverse_rec___traverse_rec___traverse_rec___traverse_rec___traverse_rec___traverse_rec___traverse_rec___traverse_rec___traverse_rec___traverse_rec___traverse_rec__phi_CM__Uniform__3\n",
      "  warnings.warn('Address of current variable unknown by inference network: {}'.format(current_address))\n",
      "/home/tt21642/dispyprob/pyprob/pyprob/nn/inference_network_lstm.py:137: UserWarning: Using prior. No proposal for address: 216__forward___traverse___traverse_rec___traverse_rec___traverse_rec___traverse_rec___traverse_rec___traverse_rec___traverse_rec___traverse_rec___traverse_rec___traverse_rec___traverse_rec___traverse_rec___traverse_rec___traverse_rec___traverse_rec___traverse_rec___traverse_rec__phi_CM__Uniform__3\n",
      "  warnings.warn('Using prior. No proposal for address: {}'.format(current_address))\n",
      "/home/tt21642/dispyprob/pyprob/pyprob/nn/inference_network_lstm.py:107: UserWarning: Address of previous variable unknown by inference network: 216__forward___traverse___traverse_rec___traverse_rec___traverse_rec___traverse_rec___traverse_rec___traverse_rec___traverse_rec___traverse_rec___traverse_rec___traverse_rec___traverse_rec___traverse_rec___traverse_rec___traverse_rec___traverse_rec___traverse_rec___traverse_rec__phi_CM__Uniform__3\n",
      "  warnings.warn('Address of previous variable unknown by inference network: {}'.format(prev_address))\n",
      "/home/tt21642/dispyprob/pyprob/pyprob/nn/inference_network_lstm.py:116: UserWarning: Address of current variable unknown by inference network: 256__forward___traverse___traverse_rec___traverse_rec___traverse_rec___traverse_rec___traverse_rec___traverse_rec___traverse_rec___traverse_rec___traverse_rec___traverse_rec___traverse_rec___traverse_rec___traverse_rec___traverse_rec___traverse_rec___traverse_rec___traverse_rec__theta_CM_U__Uniform__3\n",
      "  warnings.warn('Address of current variable unknown by inference network: {}'.format(current_address))\n",
      "/home/tt21642/dispyprob/pyprob/pyprob/nn/inference_network_lstm.py:137: UserWarning: Using prior. No proposal for address: 256__forward___traverse___traverse_rec___traverse_rec___traverse_rec___traverse_rec___traverse_rec___traverse_rec___traverse_rec___traverse_rec___traverse_rec___traverse_rec___traverse_rec___traverse_rec___traverse_rec___traverse_rec___traverse_rec___traverse_rec___traverse_rec__theta_CM_U__Uniform__3\n",
      "  warnings.warn('Using prior. No proposal for address: {}'.format(current_address))\n",
      "/home/tt21642/dispyprob/pyprob/pyprob/nn/inference_network_lstm.py:107: UserWarning: Address of previous variable unknown by inference network: 256__forward___traverse___traverse_rec___traverse_rec___traverse_rec___traverse_rec___traverse_rec___traverse_rec___traverse_rec___traverse_rec___traverse_rec___traverse_rec___traverse_rec___traverse_rec___traverse_rec___traverse_rec___traverse_rec___traverse_rec___traverse_rec__theta_CM_U__Uniform__3\n",
      "  warnings.warn('Address of previous variable unknown by inference network: {}'.format(prev_address))\n",
      "/home/tt21642/dispyprob/pyprob/pyprob/nn/inference_network_lstm.py:116: UserWarning: Address of current variable unknown by inference network: 460__forward___traverse___traverse_rec___traverse_rec___traverse_rec___traverse_rec___traverse_rec___traverse_rec___traverse_rec___traverse_rec___traverse_rec___traverse_rec___traverse_rec___traverse_rec___traverse_rec___traverse_rec___traverse_rec___traverse_rec___traverse_rec__draw_decay_L__TruncatedExponential__3\n",
      "  warnings.warn('Address of current variable unknown by inference network: {}'.format(current_address))\n",
      "/home/tt21642/dispyprob/pyprob/pyprob/nn/inference_network_lstm.py:137: UserWarning: Using prior. No proposal for address: 460__forward___traverse___traverse_rec___traverse_rec___traverse_rec___traverse_rec___traverse_rec___traverse_rec___traverse_rec___traverse_rec___traverse_rec___traverse_rec___traverse_rec___traverse_rec___traverse_rec___traverse_rec___traverse_rec___traverse_rec___traverse_rec__draw_decay_L__TruncatedExponential__3\n",
      "  warnings.warn('Using prior. No proposal for address: {}'.format(current_address))\n",
      "/home/tt21642/dispyprob/pyprob/pyprob/nn/inference_network_lstm.py:107: UserWarning: Address of previous variable unknown by inference network: 460__forward___traverse___traverse_rec___traverse_rec___traverse_rec___traverse_rec___traverse_rec___traverse_rec___traverse_rec___traverse_rec___traverse_rec___traverse_rec___traverse_rec___traverse_rec___traverse_rec___traverse_rec___traverse_rec___traverse_rec___traverse_rec__draw_decay_L__TruncatedExponential__3\n",
      "  warnings.warn('Address of previous variable unknown by inference network: {}'.format(prev_address))\n",
      "/home/tt21642/dispyprob/pyprob/pyprob/nn/inference_network_lstm.py:116: UserWarning: Address of current variable unknown by inference network: 510__forward___traverse___traverse_rec___traverse_rec___traverse_rec___traverse_rec___traverse_rec___traverse_rec___traverse_rec___traverse_rec___traverse_rec___traverse_rec___traverse_rec___traverse_rec___traverse_rec___traverse_rec___traverse_rec___traverse_rec___traverse_rec__draw_decay_R__TruncatedExponential__3\n",
      "  warnings.warn('Address of current variable unknown by inference network: {}'.format(current_address))\n",
      "/home/tt21642/dispyprob/pyprob/pyprob/nn/inference_network_lstm.py:137: UserWarning: Using prior. No proposal for address: 510__forward___traverse___traverse_rec___traverse_rec___traverse_rec___traverse_rec___traverse_rec___traverse_rec___traverse_rec___traverse_rec___traverse_rec___traverse_rec___traverse_rec___traverse_rec___traverse_rec___traverse_rec___traverse_rec___traverse_rec___traverse_rec__draw_decay_R__TruncatedExponential__3\n",
      "  warnings.warn('Using prior. No proposal for address: {}'.format(current_address))\n",
      "/home/tt21642/dispyprob/pyprob/pyprob/nn/inference_network_lstm.py:107: UserWarning: Address of previous variable unknown by inference network: 510__forward___traverse___traverse_rec___traverse_rec___traverse_rec___traverse_rec___traverse_rec___traverse_rec___traverse_rec___traverse_rec___traverse_rec___traverse_rec___traverse_rec___traverse_rec___traverse_rec___traverse_rec___traverse_rec___traverse_rec___traverse_rec__draw_decay_R__TruncatedExponential__3\n",
      "  warnings.warn('Address of previous variable unknown by inference network: {}'.format(prev_address))\n",
      "/home/tt21642/dispyprob/pyprob/pyprob/nn/inference_network_lstm.py:116: UserWarning: Address of current variable unknown by inference network: 216__forward___traverse___traverse_rec___traverse_rec___traverse_rec___traverse_rec___traverse_rec___traverse_rec___traverse_rec___traverse_rec___traverse_rec___traverse_rec___traverse_rec___traverse_rec___traverse_rec___traverse_rec___traverse_rec___traverse_rec__phi_CM__Uniform__3\n",
      "  warnings.warn('Address of current variable unknown by inference network: {}'.format(current_address))\n",
      "/home/tt21642/dispyprob/pyprob/pyprob/nn/inference_network_lstm.py:137: UserWarning: Using prior. No proposal for address: 216__forward___traverse___traverse_rec___traverse_rec___traverse_rec___traverse_rec___traverse_rec___traverse_rec___traverse_rec___traverse_rec___traverse_rec___traverse_rec___traverse_rec___traverse_rec___traverse_rec___traverse_rec___traverse_rec___traverse_rec__phi_CM__Uniform__3\n",
      "  warnings.warn('Using prior. No proposal for address: {}'.format(current_address))\n",
      "/home/tt21642/dispyprob/pyprob/pyprob/nn/inference_network_lstm.py:107: UserWarning: Address of previous variable unknown by inference network: 216__forward___traverse___traverse_rec___traverse_rec___traverse_rec___traverse_rec___traverse_rec___traverse_rec___traverse_rec___traverse_rec___traverse_rec___traverse_rec___traverse_rec___traverse_rec___traverse_rec___traverse_rec___traverse_rec___traverse_rec__phi_CM__Uniform__3\n",
      "  warnings.warn('Address of previous variable unknown by inference network: {}'.format(prev_address))\n",
      "/home/tt21642/dispyprob/pyprob/pyprob/nn/inference_network_lstm.py:116: UserWarning: Address of current variable unknown by inference network: 256__forward___traverse___traverse_rec___traverse_rec___traverse_rec___traverse_rec___traverse_rec___traverse_rec___traverse_rec___traverse_rec___traverse_rec___traverse_rec___traverse_rec___traverse_rec___traverse_rec___traverse_rec___traverse_rec___traverse_rec__theta_CM_U__Uniform__3\n",
      "  warnings.warn('Address of current variable unknown by inference network: {}'.format(current_address))\n",
      "/home/tt21642/dispyprob/pyprob/pyprob/nn/inference_network_lstm.py:137: UserWarning: Using prior. No proposal for address: 256__forward___traverse___traverse_rec___traverse_rec___traverse_rec___traverse_rec___traverse_rec___traverse_rec___traverse_rec___traverse_rec___traverse_rec___traverse_rec___traverse_rec___traverse_rec___traverse_rec___traverse_rec___traverse_rec___traverse_rec__theta_CM_U__Uniform__3\n",
      "  warnings.warn('Using prior. No proposal for address: {}'.format(current_address))\n",
      "/home/tt21642/dispyprob/pyprob/pyprob/nn/inference_network_lstm.py:107: UserWarning: Address of previous variable unknown by inference network: 256__forward___traverse___traverse_rec___traverse_rec___traverse_rec___traverse_rec___traverse_rec___traverse_rec___traverse_rec___traverse_rec___traverse_rec___traverse_rec___traverse_rec___traverse_rec___traverse_rec___traverse_rec___traverse_rec___traverse_rec__theta_CM_U__Uniform__3\n",
      "  warnings.warn('Address of previous variable unknown by inference network: {}'.format(prev_address))\n",
      "/home/tt21642/dispyprob/pyprob/pyprob/nn/inference_network_lstm.py:116: UserWarning: Address of current variable unknown by inference network: 460__forward___traverse___traverse_rec___traverse_rec___traverse_rec___traverse_rec___traverse_rec___traverse_rec___traverse_rec___traverse_rec___traverse_rec___traverse_rec___traverse_rec___traverse_rec___traverse_rec___traverse_rec___traverse_rec___traverse_rec__draw_decay_L__TruncatedExponential__3\n",
      "  warnings.warn('Address of current variable unknown by inference network: {}'.format(current_address))\n",
      "/home/tt21642/dispyprob/pyprob/pyprob/nn/inference_network_lstm.py:137: UserWarning: Using prior. No proposal for address: 460__forward___traverse___traverse_rec___traverse_rec___traverse_rec___traverse_rec___traverse_rec___traverse_rec___traverse_rec___traverse_rec___traverse_rec___traverse_rec___traverse_rec___traverse_rec___traverse_rec___traverse_rec___traverse_rec___traverse_rec__draw_decay_L__TruncatedExponential__3\n",
      "  warnings.warn('Using prior. No proposal for address: {}'.format(current_address))\n",
      "/home/tt21642/dispyprob/pyprob/pyprob/nn/inference_network_lstm.py:107: UserWarning: Address of previous variable unknown by inference network: 460__forward___traverse___traverse_rec___traverse_rec___traverse_rec___traverse_rec___traverse_rec___traverse_rec___traverse_rec___traverse_rec___traverse_rec___traverse_rec___traverse_rec___traverse_rec___traverse_rec___traverse_rec___traverse_rec___traverse_rec__draw_decay_L__TruncatedExponential__3\n",
      "  warnings.warn('Address of previous variable unknown by inference network: {}'.format(prev_address))\n",
      "/home/tt21642/dispyprob/pyprob/pyprob/nn/inference_network_lstm.py:116: UserWarning: Address of current variable unknown by inference network: 510__forward___traverse___traverse_rec___traverse_rec___traverse_rec___traverse_rec___traverse_rec___traverse_rec___traverse_rec___traverse_rec___traverse_rec___traverse_rec___traverse_rec___traverse_rec___traverse_rec___traverse_rec___traverse_rec___traverse_rec__draw_decay_R__TruncatedExponential__3\n",
      "  warnings.warn('Address of current variable unknown by inference network: {}'.format(current_address))\n",
      "/home/tt21642/dispyprob/pyprob/pyprob/nn/inference_network_lstm.py:137: UserWarning: Using prior. No proposal for address: 510__forward___traverse___traverse_rec___traverse_rec___traverse_rec___traverse_rec___traverse_rec___traverse_rec___traverse_rec___traverse_rec___traverse_rec___traverse_rec___traverse_rec___traverse_rec___traverse_rec___traverse_rec___traverse_rec___traverse_rec__draw_decay_R__TruncatedExponential__3\n",
      "  warnings.warn('Using prior. No proposal for address: {}'.format(current_address))\n",
      "/home/tt21642/dispyprob/pyprob/pyprob/nn/inference_network_lstm.py:107: UserWarning: Address of previous variable unknown by inference network: 510__forward___traverse___traverse_rec___traverse_rec___traverse_rec___traverse_rec___traverse_rec___traverse_rec___traverse_rec___traverse_rec___traverse_rec___traverse_rec___traverse_rec___traverse_rec___traverse_rec___traverse_rec___traverse_rec___traverse_rec__draw_decay_R__TruncatedExponential__3\n",
      "  warnings.warn('Address of previous variable unknown by inference network: {}'.format(prev_address))\n",
      "/home/tt21642/dispyprob/pyprob/pyprob/nn/inference_network_lstm.py:116: UserWarning: Address of current variable unknown by inference network: 216__forward___traverse___traverse_rec___traverse_rec___traverse_rec___traverse_rec___traverse_rec___traverse_rec___traverse_rec___traverse_rec___traverse_rec___traverse_rec___traverse_rec___traverse_rec___traverse_rec___traverse_rec___traverse_rec___traverse_rec__phi_CM__Uniform__4\n",
      "  warnings.warn('Address of current variable unknown by inference network: {}'.format(current_address))\n",
      "/home/tt21642/dispyprob/pyprob/pyprob/nn/inference_network_lstm.py:137: UserWarning: Using prior. No proposal for address: 216__forward___traverse___traverse_rec___traverse_rec___traverse_rec___traverse_rec___traverse_rec___traverse_rec___traverse_rec___traverse_rec___traverse_rec___traverse_rec___traverse_rec___traverse_rec___traverse_rec___traverse_rec___traverse_rec___traverse_rec__phi_CM__Uniform__4\n",
      "  warnings.warn('Using prior. No proposal for address: {}'.format(current_address))\n",
      "/home/tt21642/dispyprob/pyprob/pyprob/nn/inference_network_lstm.py:107: UserWarning: Address of previous variable unknown by inference network: 216__forward___traverse___traverse_rec___traverse_rec___traverse_rec___traverse_rec___traverse_rec___traverse_rec___traverse_rec___traverse_rec___traverse_rec___traverse_rec___traverse_rec___traverse_rec___traverse_rec___traverse_rec___traverse_rec___traverse_rec__phi_CM__Uniform__4\n",
      "  warnings.warn('Address of previous variable unknown by inference network: {}'.format(prev_address))\n",
      "/home/tt21642/dispyprob/pyprob/pyprob/nn/inference_network_lstm.py:116: UserWarning: Address of current variable unknown by inference network: 256__forward___traverse___traverse_rec___traverse_rec___traverse_rec___traverse_rec___traverse_rec___traverse_rec___traverse_rec___traverse_rec___traverse_rec___traverse_rec___traverse_rec___traverse_rec___traverse_rec___traverse_rec___traverse_rec___traverse_rec__theta_CM_U__Uniform__4\n",
      "  warnings.warn('Address of current variable unknown by inference network: {}'.format(current_address))\n",
      "/home/tt21642/dispyprob/pyprob/pyprob/nn/inference_network_lstm.py:137: UserWarning: Using prior. No proposal for address: 256__forward___traverse___traverse_rec___traverse_rec___traverse_rec___traverse_rec___traverse_rec___traverse_rec___traverse_rec___traverse_rec___traverse_rec___traverse_rec___traverse_rec___traverse_rec___traverse_rec___traverse_rec___traverse_rec___traverse_rec__theta_CM_U__Uniform__4\n",
      "  warnings.warn('Using prior. No proposal for address: {}'.format(current_address))\n",
      "/home/tt21642/dispyprob/pyprob/pyprob/nn/inference_network_lstm.py:107: UserWarning: Address of previous variable unknown by inference network: 256__forward___traverse___traverse_rec___traverse_rec___traverse_rec___traverse_rec___traverse_rec___traverse_rec___traverse_rec___traverse_rec___traverse_rec___traverse_rec___traverse_rec___traverse_rec___traverse_rec___traverse_rec___traverse_rec___traverse_rec__theta_CM_U__Uniform__4\n",
      "  warnings.warn('Address of previous variable unknown by inference network: {}'.format(prev_address))\n",
      "/home/tt21642/dispyprob/pyprob/pyprob/nn/inference_network_lstm.py:116: UserWarning: Address of current variable unknown by inference network: 460__forward___traverse___traverse_rec___traverse_rec___traverse_rec___traverse_rec___traverse_rec___traverse_rec___traverse_rec___traverse_rec___traverse_rec___traverse_rec___traverse_rec___traverse_rec___traverse_rec___traverse_rec___traverse_rec___traverse_rec__draw_decay_L__TruncatedExponential__4\n",
      "  warnings.warn('Address of current variable unknown by inference network: {}'.format(current_address))\n",
      "/home/tt21642/dispyprob/pyprob/pyprob/nn/inference_network_lstm.py:137: UserWarning: Using prior. No proposal for address: 460__forward___traverse___traverse_rec___traverse_rec___traverse_rec___traverse_rec___traverse_rec___traverse_rec___traverse_rec___traverse_rec___traverse_rec___traverse_rec___traverse_rec___traverse_rec___traverse_rec___traverse_rec___traverse_rec___traverse_rec__draw_decay_L__TruncatedExponential__4\n",
      "  warnings.warn('Using prior. No proposal for address: {}'.format(current_address))\n",
      "/home/tt21642/dispyprob/pyprob/pyprob/nn/inference_network_lstm.py:107: UserWarning: Address of previous variable unknown by inference network: 460__forward___traverse___traverse_rec___traverse_rec___traverse_rec___traverse_rec___traverse_rec___traverse_rec___traverse_rec___traverse_rec___traverse_rec___traverse_rec___traverse_rec___traverse_rec___traverse_rec___traverse_rec___traverse_rec___traverse_rec__draw_decay_L__TruncatedExponential__4\n",
      "  warnings.warn('Address of previous variable unknown by inference network: {}'.format(prev_address))\n",
      "/home/tt21642/dispyprob/pyprob/pyprob/nn/inference_network_lstm.py:116: UserWarning: Address of current variable unknown by inference network: 510__forward___traverse___traverse_rec___traverse_rec___traverse_rec___traverse_rec___traverse_rec___traverse_rec___traverse_rec___traverse_rec___traverse_rec___traverse_rec___traverse_rec___traverse_rec___traverse_rec___traverse_rec___traverse_rec___traverse_rec__draw_decay_R__TruncatedExponential__4\n",
      "  warnings.warn('Address of current variable unknown by inference network: {}'.format(current_address))\n",
      "/home/tt21642/dispyprob/pyprob/pyprob/nn/inference_network_lstm.py:137: UserWarning: Using prior. No proposal for address: 510__forward___traverse___traverse_rec___traverse_rec___traverse_rec___traverse_rec___traverse_rec___traverse_rec___traverse_rec___traverse_rec___traverse_rec___traverse_rec___traverse_rec___traverse_rec___traverse_rec___traverse_rec___traverse_rec___traverse_rec__draw_decay_R__TruncatedExponential__4\n",
      "  warnings.warn('Using prior. No proposal for address: {}'.format(current_address))\n",
      "/home/tt21642/dispyprob/pyprob/pyprob/nn/inference_network_lstm.py:107: UserWarning: Address of previous variable unknown by inference network: 510__forward___traverse___traverse_rec___traverse_rec___traverse_rec___traverse_rec___traverse_rec___traverse_rec___traverse_rec___traverse_rec___traverse_rec___traverse_rec___traverse_rec___traverse_rec___traverse_rec___traverse_rec___traverse_rec___traverse_rec__draw_decay_R__TruncatedExponential__4\n",
      "  warnings.warn('Address of previous variable unknown by inference network: {}'.format(prev_address))\n",
      "/home/tt21642/dispyprob/pyprob/pyprob/nn/inference_network_lstm.py:137: UserWarning: Using prior. No proposal for address: 216__forward___traverse___traverse_rec___traverse_rec___traverse_rec___traverse_rec___traverse_rec___traverse_rec___traverse_rec___traverse_rec___traverse_rec___traverse_rec___traverse_rec___traverse_rec__phi_CM__Uniform__4\n",
      "  warnings.warn('Using prior. No proposal for address: {}'.format(current_address))\n"
     ]
    },
    {
     "name": "stdout",
     "output_type": "stream",
     "text": [
      "0d:01:11:51 | 0d:05:56:19 | ###----------------- |  168/1000 |   4.81 | 0.04       \r"
     ]
    },
    {
     "name": "stderr",
     "output_type": "stream",
     "text": [
      "/home/tt21642/dispyprob/pyprob/pyprob/nn/inference_network_lstm.py:137: UserWarning: Using prior. No proposal for address: 216__forward___traverse___traverse_rec___traverse_rec___traverse_rec___traverse_rec___traverse_rec___traverse_rec___traverse_rec___traverse_rec__phi_CM__Uniform__14\n",
      "  warnings.warn('Using prior. No proposal for address: {}'.format(current_address))\n",
      "/home/tt21642/dispyprob/pyprob/pyprob/nn/inference_network_lstm.py:116: UserWarning: Address of current variable unknown by inference network: 216__forward___traverse___traverse_rec___traverse_rec___traverse_rec___traverse_rec___traverse_rec___traverse_rec___traverse_rec__phi_CM__Uniform__17\n",
      "  warnings.warn('Address of current variable unknown by inference network: {}'.format(current_address))\n",
      "/home/tt21642/dispyprob/pyprob/pyprob/nn/inference_network_lstm.py:137: UserWarning: Using prior. No proposal for address: 216__forward___traverse___traverse_rec___traverse_rec___traverse_rec___traverse_rec___traverse_rec___traverse_rec___traverse_rec__phi_CM__Uniform__17\n",
      "  warnings.warn('Using prior. No proposal for address: {}'.format(current_address))\n",
      "/home/tt21642/dispyprob/pyprob/pyprob/nn/inference_network_lstm.py:107: UserWarning: Address of previous variable unknown by inference network: 216__forward___traverse___traverse_rec___traverse_rec___traverse_rec___traverse_rec___traverse_rec___traverse_rec___traverse_rec__phi_CM__Uniform__17\n",
      "  warnings.warn('Address of previous variable unknown by inference network: {}'.format(prev_address))\n",
      "/home/tt21642/dispyprob/pyprob/pyprob/nn/inference_network_lstm.py:116: UserWarning: Address of current variable unknown by inference network: 256__forward___traverse___traverse_rec___traverse_rec___traverse_rec___traverse_rec___traverse_rec___traverse_rec___traverse_rec__theta_CM_U__Uniform__17\n",
      "  warnings.warn('Address of current variable unknown by inference network: {}'.format(current_address))\n",
      "/home/tt21642/dispyprob/pyprob/pyprob/nn/inference_network_lstm.py:137: UserWarning: Using prior. No proposal for address: 256__forward___traverse___traverse_rec___traverse_rec___traverse_rec___traverse_rec___traverse_rec___traverse_rec___traverse_rec__theta_CM_U__Uniform__17\n",
      "  warnings.warn('Using prior. No proposal for address: {}'.format(current_address))\n",
      "/home/tt21642/dispyprob/pyprob/pyprob/nn/inference_network_lstm.py:107: UserWarning: Address of previous variable unknown by inference network: 256__forward___traverse___traverse_rec___traverse_rec___traverse_rec___traverse_rec___traverse_rec___traverse_rec___traverse_rec__theta_CM_U__Uniform__17\n",
      "  warnings.warn('Address of previous variable unknown by inference network: {}'.format(prev_address))\n",
      "/home/tt21642/dispyprob/pyprob/pyprob/nn/inference_network_lstm.py:116: UserWarning: Address of current variable unknown by inference network: 460__forward___traverse___traverse_rec___traverse_rec___traverse_rec___traverse_rec___traverse_rec___traverse_rec___traverse_rec__draw_decay_L__TruncatedExponential__17\n",
      "  warnings.warn('Address of current variable unknown by inference network: {}'.format(current_address))\n",
      "/home/tt21642/dispyprob/pyprob/pyprob/nn/inference_network_lstm.py:137: UserWarning: Using prior. No proposal for address: 460__forward___traverse___traverse_rec___traverse_rec___traverse_rec___traverse_rec___traverse_rec___traverse_rec___traverse_rec__draw_decay_L__TruncatedExponential__17\n",
      "  warnings.warn('Using prior. No proposal for address: {}'.format(current_address))\n",
      "/home/tt21642/dispyprob/pyprob/pyprob/nn/inference_network_lstm.py:107: UserWarning: Address of previous variable unknown by inference network: 460__forward___traverse___traverse_rec___traverse_rec___traverse_rec___traverse_rec___traverse_rec___traverse_rec___traverse_rec__draw_decay_L__TruncatedExponential__17\n",
      "  warnings.warn('Address of previous variable unknown by inference network: {}'.format(prev_address))\n",
      "/home/tt21642/dispyprob/pyprob/pyprob/nn/inference_network_lstm.py:116: UserWarning: Address of current variable unknown by inference network: 510__forward___traverse___traverse_rec___traverse_rec___traverse_rec___traverse_rec___traverse_rec___traverse_rec___traverse_rec__draw_decay_R__TruncatedExponential__17\n",
      "  warnings.warn('Address of current variable unknown by inference network: {}'.format(current_address))\n",
      "/home/tt21642/dispyprob/pyprob/pyprob/nn/inference_network_lstm.py:137: UserWarning: Using prior. No proposal for address: 510__forward___traverse___traverse_rec___traverse_rec___traverse_rec___traverse_rec___traverse_rec___traverse_rec___traverse_rec__draw_decay_R__TruncatedExponential__17\n",
      "  warnings.warn('Using prior. No proposal for address: {}'.format(current_address))\n",
      "/home/tt21642/dispyprob/pyprob/pyprob/nn/inference_network_lstm.py:107: UserWarning: Address of previous variable unknown by inference network: 510__forward___traverse___traverse_rec___traverse_rec___traverse_rec___traverse_rec___traverse_rec___traverse_rec___traverse_rec__draw_decay_R__TruncatedExponential__17\n",
      "  warnings.warn('Address of previous variable unknown by inference network: {}'.format(prev_address))\n",
      "/home/tt21642/dispyprob/pyprob/pyprob/nn/inference_network_lstm.py:137: UserWarning: Using prior. No proposal for address: 216__forward___traverse___traverse_rec___traverse_rec___traverse_rec___traverse_rec___traverse_rec__phi_CM__Uniform__12\n",
      "  warnings.warn('Using prior. No proposal for address: {}'.format(current_address))\n"
     ]
    },
    {
     "name": "stdout",
     "output_type": "stream",
     "text": [
      "0d:01:12:22 | 0d:05:56:18 | ###----------------- |  169/1000 |   4.81 | 0.04       \r"
     ]
    },
    {
     "name": "stderr",
     "output_type": "stream",
     "text": [
      "/home/tt21642/dispyprob/pyprob/pyprob/nn/inference_network_lstm.py:137: UserWarning: Using prior. No proposal for address: 216__forward___traverse___traverse_rec___traverse_rec___traverse_rec___traverse_rec___traverse_rec__phi_CM__Uniform__8\n",
      "  warnings.warn('Using prior. No proposal for address: {}'.format(current_address))\n"
     ]
    },
    {
     "name": "stdout",
     "output_type": "stream",
     "text": [
      "0d:01:12:50 | 0d:05:56:04 | ###----------------- |  170/1000 |   4.81 | 0.04       \r"
     ]
    },
    {
     "name": "stderr",
     "output_type": "stream",
     "text": [
      "/home/tt21642/dispyprob/pyprob/pyprob/nn/inference_network_lstm.py:137: UserWarning: Using prior. No proposal for address: 216__forward___traverse___traverse_rec___traverse_rec___traverse_rec___traverse_rec___traverse_rec___traverse_rec__phi_CM__Uniform__6\n",
      "  warnings.warn('Using prior. No proposal for address: {}'.format(current_address))\n"
     ]
    },
    {
     "name": "stdout",
     "output_type": "stream",
     "text": [
      "0d:01:14:48 | 0d:05:53:05 | ####---------------- |  175/1000 |   4.82 | 0.04       \r"
     ]
    },
    {
     "name": "stderr",
     "output_type": "stream",
     "text": [
      "/home/tt21642/dispyprob/pyprob/pyprob/nn/inference_network_lstm.py:137: UserWarning: Using prior. No proposal for address: 216__forward___traverse___traverse_rec___traverse_rec___traverse_rec___traverse_rec___traverse_rec___traverse_rec___traverse_rec___traverse_rec___traverse_rec___traverse_rec___traverse_rec___traverse_rec___traverse_rec___traverse_rec__phi_CM__Uniform__4\n",
      "  warnings.warn('Using prior. No proposal for address: {}'.format(current_address))\n"
     ]
    },
    {
     "name": "stdout",
     "output_type": "stream",
     "text": [
      "0d:01:16:13 | 0d:05:52:28 | ####---------------- |  178/1000 |   4.82 | 0.04       \r"
     ]
    },
    {
     "name": "stderr",
     "output_type": "stream",
     "text": [
      "/home/tt21642/dispyprob/pyprob/pyprob/nn/inference_network_lstm.py:137: UserWarning: Using prior. No proposal for address: 216__forward___traverse___traverse_rec___traverse_rec___traverse_rec___traverse_rec___traverse_rec___traverse_rec___traverse_rec___traverse_rec___traverse_rec___traverse_rec___traverse_rec___traverse_rec__phi_CM__Uniform__3\n",
      "  warnings.warn('Using prior. No proposal for address: {}'.format(current_address))\n"
     ]
    },
    {
     "name": "stdout",
     "output_type": "stream",
     "text": [
      "0d:01:17:43 | 0d:05:49:45 | ####---------------- |  182/1000 |   4.82 | 0.04       \r"
     ]
    },
    {
     "name": "stderr",
     "output_type": "stream",
     "text": [
      "/home/tt21642/dispyprob/pyprob/pyprob/nn/inference_network_lstm.py:116: UserWarning: Address of current variable unknown by inference network: 510__forward___traverse___traverse_rec___traverse_rec___traverse_rec___traverse_rec___traverse_rec___traverse_rec___traverse_rec___traverse_rec___traverse_rec___traverse_rec___traverse_rec___traverse_rec___traverse_rec___traverse_rec__draw_decay_R__TruncatedExponential__7\n",
      "  warnings.warn('Address of current variable unknown by inference network: {}'.format(current_address))\n",
      "/home/tt21642/dispyprob/pyprob/pyprob/nn/inference_network_lstm.py:137: UserWarning: Using prior. No proposal for address: 510__forward___traverse___traverse_rec___traverse_rec___traverse_rec___traverse_rec___traverse_rec___traverse_rec___traverse_rec___traverse_rec___traverse_rec___traverse_rec___traverse_rec___traverse_rec___traverse_rec___traverse_rec__draw_decay_R__TruncatedExponential__7\n",
      "  warnings.warn('Using prior. No proposal for address: {}'.format(current_address))\n",
      "/home/tt21642/dispyprob/pyprob/pyprob/nn/inference_network_lstm.py:107: UserWarning: Address of previous variable unknown by inference network: 510__forward___traverse___traverse_rec___traverse_rec___traverse_rec___traverse_rec___traverse_rec___traverse_rec___traverse_rec___traverse_rec___traverse_rec___traverse_rec___traverse_rec___traverse_rec___traverse_rec___traverse_rec__draw_decay_R__TruncatedExponential__7\n",
      "  warnings.warn('Address of previous variable unknown by inference network: {}'.format(prev_address))\n"
     ]
    },
    {
     "name": "stdout",
     "output_type": "stream",
     "text": [
      "0d:01:18:10 | 0d:05:49:24 | ####---------------- |  183/1000 |   4.82 | 0.04       \r"
     ]
    },
    {
     "name": "stderr",
     "output_type": "stream",
     "text": [
      "/home/tt21642/dispyprob/pyprob/pyprob/nn/inference_network_lstm.py:137: UserWarning: Using prior. No proposal for address: 216__forward___traverse___traverse_rec___traverse_rec___traverse_rec___traverse_rec___traverse_rec___traverse_rec___traverse_rec__phi_CM__Uniform__10\n",
      "  warnings.warn('Using prior. No proposal for address: {}'.format(current_address))\n"
     ]
    },
    {
     "name": "stdout",
     "output_type": "stream",
     "text": [
      "0d:01:18:51 | 0d:05:47:50 | ####---------------- |  185/1000 |   4.82 | 0.04       \r"
     ]
    },
    {
     "name": "stderr",
     "output_type": "stream",
     "text": [
      "/home/tt21642/dispyprob/pyprob/pyprob/nn/inference_network_lstm.py:137: UserWarning: Using prior. No proposal for address: 216__forward___traverse___traverse_rec___traverse_rec___traverse_rec___traverse_rec___traverse_rec___traverse_rec___traverse_rec___traverse_rec___traverse_rec___traverse_rec___traverse_rec___traverse_rec___traverse_rec__phi_CM__Uniform__3\n",
      "  warnings.warn('Using prior. No proposal for address: {}'.format(current_address))\n",
      "/home/tt21642/dispyprob/pyprob/pyprob/nn/inference_network_lstm.py:116: UserWarning: Address of current variable unknown by inference network: 216__forward___traverse___traverse_rec___traverse_rec___traverse_rec___traverse_rec___traverse_rec___traverse_rec___traverse_rec___traverse_rec___traverse_rec___traverse_rec___traverse_rec___traverse_rec__phi_CM__Uniform__10\n",
      "  warnings.warn('Address of current variable unknown by inference network: {}'.format(current_address))\n",
      "/home/tt21642/dispyprob/pyprob/pyprob/nn/inference_network_lstm.py:137: UserWarning: Using prior. No proposal for address: 216__forward___traverse___traverse_rec___traverse_rec___traverse_rec___traverse_rec___traverse_rec___traverse_rec___traverse_rec___traverse_rec___traverse_rec___traverse_rec___traverse_rec___traverse_rec__phi_CM__Uniform__10\n",
      "  warnings.warn('Using prior. No proposal for address: {}'.format(current_address))\n",
      "/home/tt21642/dispyprob/pyprob/pyprob/nn/inference_network_lstm.py:107: UserWarning: Address of previous variable unknown by inference network: 216__forward___traverse___traverse_rec___traverse_rec___traverse_rec___traverse_rec___traverse_rec___traverse_rec___traverse_rec___traverse_rec___traverse_rec___traverse_rec___traverse_rec___traverse_rec__phi_CM__Uniform__10\n",
      "  warnings.warn('Address of previous variable unknown by inference network: {}'.format(prev_address))\n",
      "/home/tt21642/dispyprob/pyprob/pyprob/nn/inference_network_lstm.py:116: UserWarning: Address of current variable unknown by inference network: 256__forward___traverse___traverse_rec___traverse_rec___traverse_rec___traverse_rec___traverse_rec___traverse_rec___traverse_rec___traverse_rec___traverse_rec___traverse_rec___traverse_rec___traverse_rec__theta_CM_U__Uniform__10\n",
      "  warnings.warn('Address of current variable unknown by inference network: {}'.format(current_address))\n",
      "/home/tt21642/dispyprob/pyprob/pyprob/nn/inference_network_lstm.py:137: UserWarning: Using prior. No proposal for address: 256__forward___traverse___traverse_rec___traverse_rec___traverse_rec___traverse_rec___traverse_rec___traverse_rec___traverse_rec___traverse_rec___traverse_rec___traverse_rec___traverse_rec___traverse_rec__theta_CM_U__Uniform__10\n",
      "  warnings.warn('Using prior. No proposal for address: {}'.format(current_address))\n",
      "/home/tt21642/dispyprob/pyprob/pyprob/nn/inference_network_lstm.py:107: UserWarning: Address of previous variable unknown by inference network: 256__forward___traverse___traverse_rec___traverse_rec___traverse_rec___traverse_rec___traverse_rec___traverse_rec___traverse_rec___traverse_rec___traverse_rec___traverse_rec___traverse_rec___traverse_rec__theta_CM_U__Uniform__10\n",
      "  warnings.warn('Address of previous variable unknown by inference network: {}'.format(prev_address))\n",
      "/home/tt21642/dispyprob/pyprob/pyprob/nn/inference_network_lstm.py:116: UserWarning: Address of current variable unknown by inference network: 460__forward___traverse___traverse_rec___traverse_rec___traverse_rec___traverse_rec___traverse_rec___traverse_rec___traverse_rec___traverse_rec___traverse_rec___traverse_rec___traverse_rec___traverse_rec__draw_decay_L__TruncatedExponential__10\n",
      "  warnings.warn('Address of current variable unknown by inference network: {}'.format(current_address))\n",
      "/home/tt21642/dispyprob/pyprob/pyprob/nn/inference_network_lstm.py:137: UserWarning: Using prior. No proposal for address: 460__forward___traverse___traverse_rec___traverse_rec___traverse_rec___traverse_rec___traverse_rec___traverse_rec___traverse_rec___traverse_rec___traverse_rec___traverse_rec___traverse_rec___traverse_rec__draw_decay_L__TruncatedExponential__10\n",
      "  warnings.warn('Using prior. No proposal for address: {}'.format(current_address))\n",
      "/home/tt21642/dispyprob/pyprob/pyprob/nn/inference_network_lstm.py:107: UserWarning: Address of previous variable unknown by inference network: 460__forward___traverse___traverse_rec___traverse_rec___traverse_rec___traverse_rec___traverse_rec___traverse_rec___traverse_rec___traverse_rec___traverse_rec___traverse_rec___traverse_rec___traverse_rec__draw_decay_L__TruncatedExponential__10\n",
      "  warnings.warn('Address of previous variable unknown by inference network: {}'.format(prev_address))\n",
      "/home/tt21642/dispyprob/pyprob/pyprob/nn/inference_network_lstm.py:116: UserWarning: Address of current variable unknown by inference network: 510__forward___traverse___traverse_rec___traverse_rec___traverse_rec___traverse_rec___traverse_rec___traverse_rec___traverse_rec___traverse_rec___traverse_rec___traverse_rec___traverse_rec___traverse_rec__draw_decay_R__TruncatedExponential__10\n",
      "  warnings.warn('Address of current variable unknown by inference network: {}'.format(current_address))\n",
      "/home/tt21642/dispyprob/pyprob/pyprob/nn/inference_network_lstm.py:137: UserWarning: Using prior. No proposal for address: 510__forward___traverse___traverse_rec___traverse_rec___traverse_rec___traverse_rec___traverse_rec___traverse_rec___traverse_rec___traverse_rec___traverse_rec___traverse_rec___traverse_rec___traverse_rec__draw_decay_R__TruncatedExponential__10\n",
      "  warnings.warn('Using prior. No proposal for address: {}'.format(current_address))\n",
      "/home/tt21642/dispyprob/pyprob/pyprob/nn/inference_network_lstm.py:107: UserWarning: Address of previous variable unknown by inference network: 510__forward___traverse___traverse_rec___traverse_rec___traverse_rec___traverse_rec___traverse_rec___traverse_rec___traverse_rec___traverse_rec___traverse_rec___traverse_rec___traverse_rec___traverse_rec__draw_decay_R__TruncatedExponential__10\n",
      "  warnings.warn('Address of previous variable unknown by inference network: {}'.format(prev_address))\n",
      "/home/tt21642/dispyprob/pyprob/pyprob/nn/inference_network_lstm.py:116: UserWarning: Address of current variable unknown by inference network: 216__forward___traverse___traverse_rec___traverse_rec___traverse_rec___traverse_rec___traverse_rec___traverse_rec___traverse_rec___traverse_rec___traverse_rec___traverse_rec___traverse_rec___traverse_rec__phi_CM__Uniform__11\n",
      "  warnings.warn('Address of current variable unknown by inference network: {}'.format(current_address))\n",
      "/home/tt21642/dispyprob/pyprob/pyprob/nn/inference_network_lstm.py:137: UserWarning: Using prior. No proposal for address: 216__forward___traverse___traverse_rec___traverse_rec___traverse_rec___traverse_rec___traverse_rec___traverse_rec___traverse_rec___traverse_rec___traverse_rec___traverse_rec___traverse_rec___traverse_rec__phi_CM__Uniform__11\n",
      "  warnings.warn('Using prior. No proposal for address: {}'.format(current_address))\n",
      "/home/tt21642/dispyprob/pyprob/pyprob/nn/inference_network_lstm.py:107: UserWarning: Address of previous variable unknown by inference network: 216__forward___traverse___traverse_rec___traverse_rec___traverse_rec___traverse_rec___traverse_rec___traverse_rec___traverse_rec___traverse_rec___traverse_rec___traverse_rec___traverse_rec___traverse_rec__phi_CM__Uniform__11\n",
      "  warnings.warn('Address of previous variable unknown by inference network: {}'.format(prev_address))\n",
      "/home/tt21642/dispyprob/pyprob/pyprob/nn/inference_network_lstm.py:116: UserWarning: Address of current variable unknown by inference network: 256__forward___traverse___traverse_rec___traverse_rec___traverse_rec___traverse_rec___traverse_rec___traverse_rec___traverse_rec___traverse_rec___traverse_rec___traverse_rec___traverse_rec___traverse_rec__theta_CM_U__Uniform__11\n",
      "  warnings.warn('Address of current variable unknown by inference network: {}'.format(current_address))\n",
      "/home/tt21642/dispyprob/pyprob/pyprob/nn/inference_network_lstm.py:137: UserWarning: Using prior. No proposal for address: 256__forward___traverse___traverse_rec___traverse_rec___traverse_rec___traverse_rec___traverse_rec___traverse_rec___traverse_rec___traverse_rec___traverse_rec___traverse_rec___traverse_rec___traverse_rec__theta_CM_U__Uniform__11\n",
      "  warnings.warn('Using prior. No proposal for address: {}'.format(current_address))\n",
      "/home/tt21642/dispyprob/pyprob/pyprob/nn/inference_network_lstm.py:107: UserWarning: Address of previous variable unknown by inference network: 256__forward___traverse___traverse_rec___traverse_rec___traverse_rec___traverse_rec___traverse_rec___traverse_rec___traverse_rec___traverse_rec___traverse_rec___traverse_rec___traverse_rec___traverse_rec__theta_CM_U__Uniform__11\n",
      "  warnings.warn('Address of previous variable unknown by inference network: {}'.format(prev_address))\n",
      "/home/tt21642/dispyprob/pyprob/pyprob/nn/inference_network_lstm.py:116: UserWarning: Address of current variable unknown by inference network: 460__forward___traverse___traverse_rec___traverse_rec___traverse_rec___traverse_rec___traverse_rec___traverse_rec___traverse_rec___traverse_rec___traverse_rec___traverse_rec___traverse_rec___traverse_rec__draw_decay_L__TruncatedExponential__11\n",
      "  warnings.warn('Address of current variable unknown by inference network: {}'.format(current_address))\n",
      "/home/tt21642/dispyprob/pyprob/pyprob/nn/inference_network_lstm.py:137: UserWarning: Using prior. No proposal for address: 460__forward___traverse___traverse_rec___traverse_rec___traverse_rec___traverse_rec___traverse_rec___traverse_rec___traverse_rec___traverse_rec___traverse_rec___traverse_rec___traverse_rec___traverse_rec__draw_decay_L__TruncatedExponential__11\n",
      "  warnings.warn('Using prior. No proposal for address: {}'.format(current_address))\n",
      "/home/tt21642/dispyprob/pyprob/pyprob/nn/inference_network_lstm.py:107: UserWarning: Address of previous variable unknown by inference network: 460__forward___traverse___traverse_rec___traverse_rec___traverse_rec___traverse_rec___traverse_rec___traverse_rec___traverse_rec___traverse_rec___traverse_rec___traverse_rec___traverse_rec___traverse_rec__draw_decay_L__TruncatedExponential__11\n",
      "  warnings.warn('Address of previous variable unknown by inference network: {}'.format(prev_address))\n",
      "/home/tt21642/dispyprob/pyprob/pyprob/nn/inference_network_lstm.py:116: UserWarning: Address of current variable unknown by inference network: 510__forward___traverse___traverse_rec___traverse_rec___traverse_rec___traverse_rec___traverse_rec___traverse_rec___traverse_rec___traverse_rec___traverse_rec___traverse_rec___traverse_rec___traverse_rec__draw_decay_R__TruncatedExponential__11\n",
      "  warnings.warn('Address of current variable unknown by inference network: {}'.format(current_address))\n",
      "/home/tt21642/dispyprob/pyprob/pyprob/nn/inference_network_lstm.py:137: UserWarning: Using prior. No proposal for address: 510__forward___traverse___traverse_rec___traverse_rec___traverse_rec___traverse_rec___traverse_rec___traverse_rec___traverse_rec___traverse_rec___traverse_rec___traverse_rec___traverse_rec___traverse_rec__draw_decay_R__TruncatedExponential__11\n",
      "  warnings.warn('Using prior. No proposal for address: {}'.format(current_address))\n",
      "/home/tt21642/dispyprob/pyprob/pyprob/nn/inference_network_lstm.py:107: UserWarning: Address of previous variable unknown by inference network: 510__forward___traverse___traverse_rec___traverse_rec___traverse_rec___traverse_rec___traverse_rec___traverse_rec___traverse_rec___traverse_rec___traverse_rec___traverse_rec___traverse_rec___traverse_rec__draw_decay_R__TruncatedExponential__11\n",
      "  warnings.warn('Address of previous variable unknown by inference network: {}'.format(prev_address))\n"
     ]
    },
    {
     "name": "stdout",
     "output_type": "stream",
     "text": [
      "0d:01:20:55 | 0d:05:43:13 | ####---------------- |  191/1000 |   5.42 | 0.04       \r"
     ]
    },
    {
     "name": "stderr",
     "output_type": "stream",
     "text": [
      "/home/tt21642/dispyprob/pyprob/pyprob/nn/inference_network_lstm.py:137: UserWarning: Using prior. No proposal for address: 216__forward___traverse___traverse_rec___traverse_rec___traverse_rec___traverse_rec___traverse_rec___traverse_rec___traverse_rec___traverse_rec__phi_CM__Uniform__7\n",
      "  warnings.warn('Using prior. No proposal for address: {}'.format(current_address))\n"
     ]
    },
    {
     "name": "stdout",
     "output_type": "stream",
     "text": [
      "0d:01:21:27 | 0d:05:41:01 | ####---------------- |  193/1000 |   5.63 | 0.04       \r"
     ]
    },
    {
     "name": "stderr",
     "output_type": "stream",
     "text": [
      "/home/tt21642/dispyprob/pyprob/pyprob/nn/inference_network_lstm.py:137: UserWarning: Using prior. No proposal for address: 510__forward___traverse___traverse_rec___traverse_rec___traverse_rec___traverse_rec___traverse_rec___traverse_rec___traverse_rec___traverse_rec___traverse_rec___traverse_rec__draw_decay_R__TruncatedExponential__9\n",
      "  warnings.warn('Using prior. No proposal for address: {}'.format(current_address))\n",
      "/home/tt21642/dispyprob/pyprob/pyprob/nn/inference_network_lstm.py:137: UserWarning: Using prior. No proposal for address: 216__forward___traverse___traverse_rec___traverse_rec___traverse_rec___traverse_rec__phi_CM__Uniform__5\n",
      "  warnings.warn('Using prior. No proposal for address: {}'.format(current_address))\n"
     ]
    },
    {
     "name": "stdout",
     "output_type": "stream",
     "text": [
      "0d:01:22:07 | 0d:05:37:19 | ####---------------- |  196/1000 |   5.63 | 0.04       \r"
     ]
    },
    {
     "name": "stderr",
     "output_type": "stream",
     "text": [
      "/home/tt21642/dispyprob/pyprob/pyprob/nn/inference_network_lstm.py:137: UserWarning: Using prior. No proposal for address: 216__forward___traverse___traverse_rec___traverse_rec___traverse_rec___traverse_rec___traverse_rec___traverse_rec__phi_CM__Uniform__13\n",
      "  warnings.warn('Using prior. No proposal for address: {}'.format(current_address))\n"
     ]
    },
    {
     "name": "stdout",
     "output_type": "stream",
     "text": [
      "0d:01:25:17 | 0d:05:31:10 | ####---------------- |  205/1000 |   5.64 | 0.04       \r"
     ]
    },
    {
     "name": "stderr",
     "output_type": "stream",
     "text": [
      "/home/tt21642/dispyprob/pyprob/pyprob/nn/inference_network_lstm.py:137: UserWarning: Using prior. No proposal for address: 216__forward___traverse___traverse_rec___traverse_rec___traverse_rec___traverse_rec___traverse_rec__phi_CM__Uniform__7\n",
      "  warnings.warn('Using prior. No proposal for address: {}'.format(current_address))\n",
      "/home/tt21642/dispyprob/pyprob/pyprob/nn/inference_network_lstm.py:137: UserWarning: Using prior. No proposal for address: 216__forward___traverse___traverse_rec___traverse_rec___traverse_rec___traverse_rec__phi_CM__Uniform__8\n",
      "  warnings.warn('Using prior. No proposal for address: {}'.format(current_address))\n"
     ]
    },
    {
     "name": "stdout",
     "output_type": "stream",
     "text": [
      "0d:01:28:12 | 0d:05:20:35 | ####---------------- |  216/1000 |   5.65 | 0.04       \r"
     ]
    },
    {
     "name": "stderr",
     "output_type": "stream",
     "text": [
      "/home/tt21642/dispyprob/pyprob/pyprob/nn/inference_network_lstm.py:137: UserWarning: Using prior. No proposal for address: 216__forward___traverse___traverse_rec___traverse_rec___traverse_rec___traverse_rec___traverse_rec___traverse_rec__phi_CM__Uniform__12\n",
      "  warnings.warn('Using prior. No proposal for address: {}'.format(current_address))\n"
     ]
    },
    {
     "name": "stdout",
     "output_type": "stream",
     "text": [
      "0d:01:28:26 | 0d:05:19:32 | ####---------------- |  217/1000 |   5.65 | 0.04       \r"
     ]
    },
    {
     "name": "stderr",
     "output_type": "stream",
     "text": [
      "/home/tt21642/dispyprob/pyprob/pyprob/nn/inference_network_lstm.py:137: UserWarning: Using prior. No proposal for address: 510__forward___traverse___traverse_rec___traverse_rec___traverse_rec___traverse_rec___traverse_rec___traverse_rec___traverse_rec___traverse_rec___traverse_rec___traverse_rec___traverse_rec__draw_decay_R__TruncatedExponential__8\n",
      "  warnings.warn('Using prior. No proposal for address: {}'.format(current_address))\n"
     ]
    },
    {
     "name": "stdout",
     "output_type": "stream",
     "text": [
      "0d:01:31:00 | 0d:05:06:48 | #####--------------- |  229/1000 |   5.67 | 0.04       \r"
     ]
    },
    {
     "name": "stderr",
     "output_type": "stream",
     "text": [
      "/home/tt21642/dispyprob/pyprob/pyprob/nn/inference_network_lstm.py:137: UserWarning: Using prior. No proposal for address: 216__forward___traverse___traverse_rec___traverse_rec___traverse_rec___traverse_rec___traverse_rec___traverse_rec___traverse_rec___traverse_rec___traverse_rec__phi_CM__Uniform__5\n",
      "  warnings.warn('Using prior. No proposal for address: {}'.format(current_address))\n"
     ]
    },
    {
     "name": "stdout",
     "output_type": "stream",
     "text": [
      "0d:01:31:28 | 0d:05:04:56 | #####--------------- |  231/1000 |   5.67 | 0.04       \r"
     ]
    },
    {
     "name": "stderr",
     "output_type": "stream",
     "text": [
      "/home/tt21642/dispyprob/pyprob/pyprob/nn/inference_network_lstm.py:137: UserWarning: Using prior. No proposal for address: 216__forward___traverse___traverse_rec___traverse_rec___traverse_rec___traverse_rec___traverse_rec___traverse_rec__phi_CM__Uniform__11\n",
      "  warnings.warn('Using prior. No proposal for address: {}'.format(current_address))\n"
     ]
    },
    {
     "name": "stdout",
     "output_type": "stream",
     "text": [
      "0d:01:34:34 | 0d:04:51:50 | #####--------------- |  245/1000 |   5.69 | 0.04       \r"
     ]
    },
    {
     "name": "stderr",
     "output_type": "stream",
     "text": [
      "/home/tt21642/dispyprob/pyprob/pyprob/nn/inference_network_lstm.py:137: UserWarning: Using prior. No proposal for address: 216__forward___traverse___traverse_rec___traverse_rec___traverse_rec___traverse_rec___traverse_rec___traverse_rec___traverse_rec___traverse_rec___traverse_rec___traverse_rec___traverse_rec__phi_CM__Uniform__5\n",
      "  warnings.warn('Using prior. No proposal for address: {}'.format(current_address))\n"
     ]
    },
    {
     "name": "stdout",
     "output_type": "stream",
     "text": [
      "0d:01:35:10 | 0d:04:48:58 | #####--------------- |  248/1000 |   5.75 | 0.04       \r"
     ]
    },
    {
     "name": "stderr",
     "output_type": "stream",
     "text": [
      "/home/tt21642/dispyprob/pyprob/pyprob/nn/inference_network_lstm.py:116: UserWarning: Address of current variable unknown by inference network: 216__forward___traverse___traverse_rec___traverse_rec___traverse_rec___traverse_rec___traverse_rec___traverse_rec___traverse_rec___traverse_rec___traverse_rec___traverse_rec___traverse_rec___traverse_rec___traverse_rec__phi_CM__Uniform__9\n",
      "  warnings.warn('Address of current variable unknown by inference network: {}'.format(current_address))\n",
      "/home/tt21642/dispyprob/pyprob/pyprob/nn/inference_network_lstm.py:137: UserWarning: Using prior. No proposal for address: 216__forward___traverse___traverse_rec___traverse_rec___traverse_rec___traverse_rec___traverse_rec___traverse_rec___traverse_rec___traverse_rec___traverse_rec___traverse_rec___traverse_rec___traverse_rec___traverse_rec__phi_CM__Uniform__9\n",
      "  warnings.warn('Using prior. No proposal for address: {}'.format(current_address))\n",
      "/home/tt21642/dispyprob/pyprob/pyprob/nn/inference_network_lstm.py:107: UserWarning: Address of previous variable unknown by inference network: 216__forward___traverse___traverse_rec___traverse_rec___traverse_rec___traverse_rec___traverse_rec___traverse_rec___traverse_rec___traverse_rec___traverse_rec___traverse_rec___traverse_rec___traverse_rec___traverse_rec__phi_CM__Uniform__9\n",
      "  warnings.warn('Address of previous variable unknown by inference network: {}'.format(prev_address))\n",
      "/home/tt21642/dispyprob/pyprob/pyprob/nn/inference_network_lstm.py:116: UserWarning: Address of current variable unknown by inference network: 256__forward___traverse___traverse_rec___traverse_rec___traverse_rec___traverse_rec___traverse_rec___traverse_rec___traverse_rec___traverse_rec___traverse_rec___traverse_rec___traverse_rec___traverse_rec___traverse_rec__theta_CM_U__Uniform__9\n",
      "  warnings.warn('Address of current variable unknown by inference network: {}'.format(current_address))\n",
      "/home/tt21642/dispyprob/pyprob/pyprob/nn/inference_network_lstm.py:137: UserWarning: Using prior. No proposal for address: 256__forward___traverse___traverse_rec___traverse_rec___traverse_rec___traverse_rec___traverse_rec___traverse_rec___traverse_rec___traverse_rec___traverse_rec___traverse_rec___traverse_rec___traverse_rec___traverse_rec__theta_CM_U__Uniform__9\n",
      "  warnings.warn('Using prior. No proposal for address: {}'.format(current_address))\n",
      "/home/tt21642/dispyprob/pyprob/pyprob/nn/inference_network_lstm.py:107: UserWarning: Address of previous variable unknown by inference network: 256__forward___traverse___traverse_rec___traverse_rec___traverse_rec___traverse_rec___traverse_rec___traverse_rec___traverse_rec___traverse_rec___traverse_rec___traverse_rec___traverse_rec___traverse_rec___traverse_rec__theta_CM_U__Uniform__9\n",
      "  warnings.warn('Address of previous variable unknown by inference network: {}'.format(prev_address))\n",
      "/home/tt21642/dispyprob/pyprob/pyprob/nn/inference_network_lstm.py:116: UserWarning: Address of current variable unknown by inference network: 460__forward___traverse___traverse_rec___traverse_rec___traverse_rec___traverse_rec___traverse_rec___traverse_rec___traverse_rec___traverse_rec___traverse_rec___traverse_rec___traverse_rec___traverse_rec___traverse_rec__draw_decay_L__TruncatedExponential__9\n",
      "  warnings.warn('Address of current variable unknown by inference network: {}'.format(current_address))\n",
      "/home/tt21642/dispyprob/pyprob/pyprob/nn/inference_network_lstm.py:137: UserWarning: Using prior. No proposal for address: 460__forward___traverse___traverse_rec___traverse_rec___traverse_rec___traverse_rec___traverse_rec___traverse_rec___traverse_rec___traverse_rec___traverse_rec___traverse_rec___traverse_rec___traverse_rec___traverse_rec__draw_decay_L__TruncatedExponential__9\n",
      "  warnings.warn('Using prior. No proposal for address: {}'.format(current_address))\n",
      "/home/tt21642/dispyprob/pyprob/pyprob/nn/inference_network_lstm.py:107: UserWarning: Address of previous variable unknown by inference network: 460__forward___traverse___traverse_rec___traverse_rec___traverse_rec___traverse_rec___traverse_rec___traverse_rec___traverse_rec___traverse_rec___traverse_rec___traverse_rec___traverse_rec___traverse_rec___traverse_rec__draw_decay_L__TruncatedExponential__9\n",
      "  warnings.warn('Address of previous variable unknown by inference network: {}'.format(prev_address))\n",
      "/home/tt21642/dispyprob/pyprob/pyprob/nn/inference_network_lstm.py:116: UserWarning: Address of current variable unknown by inference network: 510__forward___traverse___traverse_rec___traverse_rec___traverse_rec___traverse_rec___traverse_rec___traverse_rec___traverse_rec___traverse_rec___traverse_rec___traverse_rec___traverse_rec___traverse_rec___traverse_rec__draw_decay_R__TruncatedExponential__9\n",
      "  warnings.warn('Address of current variable unknown by inference network: {}'.format(current_address))\n",
      "/home/tt21642/dispyprob/pyprob/pyprob/nn/inference_network_lstm.py:137: UserWarning: Using prior. No proposal for address: 510__forward___traverse___traverse_rec___traverse_rec___traverse_rec___traverse_rec___traverse_rec___traverse_rec___traverse_rec___traverse_rec___traverse_rec___traverse_rec___traverse_rec___traverse_rec___traverse_rec__draw_decay_R__TruncatedExponential__9\n",
      "  warnings.warn('Using prior. No proposal for address: {}'.format(current_address))\n",
      "/home/tt21642/dispyprob/pyprob/pyprob/nn/inference_network_lstm.py:107: UserWarning: Address of previous variable unknown by inference network: 510__forward___traverse___traverse_rec___traverse_rec___traverse_rec___traverse_rec___traverse_rec___traverse_rec___traverse_rec___traverse_rec___traverse_rec___traverse_rec___traverse_rec___traverse_rec___traverse_rec__draw_decay_R__TruncatedExponential__9\n",
      "  warnings.warn('Address of previous variable unknown by inference network: {}'.format(prev_address))\n",
      "/home/tt21642/dispyprob/pyprob/pyprob/nn/inference_network_lstm.py:116: UserWarning: Address of current variable unknown by inference network: 216__forward___traverse___traverse_rec___traverse_rec___traverse_rec___traverse_rec___traverse_rec___traverse_rec___traverse_rec___traverse_rec___traverse_rec___traverse_rec___traverse_rec___traverse_rec___traverse_rec__phi_CM__Uniform__10\n",
      "  warnings.warn('Address of current variable unknown by inference network: {}'.format(current_address))\n",
      "/home/tt21642/dispyprob/pyprob/pyprob/nn/inference_network_lstm.py:137: UserWarning: Using prior. No proposal for address: 216__forward___traverse___traverse_rec___traverse_rec___traverse_rec___traverse_rec___traverse_rec___traverse_rec___traverse_rec___traverse_rec___traverse_rec___traverse_rec___traverse_rec___traverse_rec___traverse_rec__phi_CM__Uniform__10\n",
      "  warnings.warn('Using prior. No proposal for address: {}'.format(current_address))\n",
      "/home/tt21642/dispyprob/pyprob/pyprob/nn/inference_network_lstm.py:107: UserWarning: Address of previous variable unknown by inference network: 216__forward___traverse___traverse_rec___traverse_rec___traverse_rec___traverse_rec___traverse_rec___traverse_rec___traverse_rec___traverse_rec___traverse_rec___traverse_rec___traverse_rec___traverse_rec___traverse_rec__phi_CM__Uniform__10\n",
      "  warnings.warn('Address of previous variable unknown by inference network: {}'.format(prev_address))\n",
      "/home/tt21642/dispyprob/pyprob/pyprob/nn/inference_network_lstm.py:116: UserWarning: Address of current variable unknown by inference network: 256__forward___traverse___traverse_rec___traverse_rec___traverse_rec___traverse_rec___traverse_rec___traverse_rec___traverse_rec___traverse_rec___traverse_rec___traverse_rec___traverse_rec___traverse_rec___traverse_rec__theta_CM_U__Uniform__10\n",
      "  warnings.warn('Address of current variable unknown by inference network: {}'.format(current_address))\n",
      "/home/tt21642/dispyprob/pyprob/pyprob/nn/inference_network_lstm.py:137: UserWarning: Using prior. No proposal for address: 256__forward___traverse___traverse_rec___traverse_rec___traverse_rec___traverse_rec___traverse_rec___traverse_rec___traverse_rec___traverse_rec___traverse_rec___traverse_rec___traverse_rec___traverse_rec___traverse_rec__theta_CM_U__Uniform__10\n",
      "  warnings.warn('Using prior. No proposal for address: {}'.format(current_address))\n",
      "/home/tt21642/dispyprob/pyprob/pyprob/nn/inference_network_lstm.py:107: UserWarning: Address of previous variable unknown by inference network: 256__forward___traverse___traverse_rec___traverse_rec___traverse_rec___traverse_rec___traverse_rec___traverse_rec___traverse_rec___traverse_rec___traverse_rec___traverse_rec___traverse_rec___traverse_rec___traverse_rec__theta_CM_U__Uniform__10\n",
      "  warnings.warn('Address of previous variable unknown by inference network: {}'.format(prev_address))\n",
      "/home/tt21642/dispyprob/pyprob/pyprob/nn/inference_network_lstm.py:116: UserWarning: Address of current variable unknown by inference network: 460__forward___traverse___traverse_rec___traverse_rec___traverse_rec___traverse_rec___traverse_rec___traverse_rec___traverse_rec___traverse_rec___traverse_rec___traverse_rec___traverse_rec___traverse_rec___traverse_rec__draw_decay_L__TruncatedExponential__10\n",
      "  warnings.warn('Address of current variable unknown by inference network: {}'.format(current_address))\n",
      "/home/tt21642/dispyprob/pyprob/pyprob/nn/inference_network_lstm.py:137: UserWarning: Using prior. No proposal for address: 460__forward___traverse___traverse_rec___traverse_rec___traverse_rec___traverse_rec___traverse_rec___traverse_rec___traverse_rec___traverse_rec___traverse_rec___traverse_rec___traverse_rec___traverse_rec___traverse_rec__draw_decay_L__TruncatedExponential__10\n",
      "  warnings.warn('Using prior. No proposal for address: {}'.format(current_address))\n",
      "/home/tt21642/dispyprob/pyprob/pyprob/nn/inference_network_lstm.py:107: UserWarning: Address of previous variable unknown by inference network: 460__forward___traverse___traverse_rec___traverse_rec___traverse_rec___traverse_rec___traverse_rec___traverse_rec___traverse_rec___traverse_rec___traverse_rec___traverse_rec___traverse_rec___traverse_rec___traverse_rec__draw_decay_L__TruncatedExponential__10\n",
      "  warnings.warn('Address of previous variable unknown by inference network: {}'.format(prev_address))\n",
      "/home/tt21642/dispyprob/pyprob/pyprob/nn/inference_network_lstm.py:116: UserWarning: Address of current variable unknown by inference network: 510__forward___traverse___traverse_rec___traverse_rec___traverse_rec___traverse_rec___traverse_rec___traverse_rec___traverse_rec___traverse_rec___traverse_rec___traverse_rec___traverse_rec___traverse_rec___traverse_rec__draw_decay_R__TruncatedExponential__10\n",
      "  warnings.warn('Address of current variable unknown by inference network: {}'.format(current_address))\n",
      "/home/tt21642/dispyprob/pyprob/pyprob/nn/inference_network_lstm.py:137: UserWarning: Using prior. No proposal for address: 510__forward___traverse___traverse_rec___traverse_rec___traverse_rec___traverse_rec___traverse_rec___traverse_rec___traverse_rec___traverse_rec___traverse_rec___traverse_rec___traverse_rec___traverse_rec___traverse_rec__draw_decay_R__TruncatedExponential__10\n",
      "  warnings.warn('Using prior. No proposal for address: {}'.format(current_address))\n",
      "/home/tt21642/dispyprob/pyprob/pyprob/nn/inference_network_lstm.py:107: UserWarning: Address of previous variable unknown by inference network: 510__forward___traverse___traverse_rec___traverse_rec___traverse_rec___traverse_rec___traverse_rec___traverse_rec___traverse_rec___traverse_rec___traverse_rec___traverse_rec___traverse_rec___traverse_rec___traverse_rec__draw_decay_R__TruncatedExponential__10\n",
      "  warnings.warn('Address of previous variable unknown by inference network: {}'.format(prev_address))\n"
     ]
    },
    {
     "name": "stdout",
     "output_type": "stream",
     "text": [
      "0d:01:37:39 | 0d:04:44:13 | #####--------------- |  256/1000 |   5.75 | 0.04       \r"
     ]
    },
    {
     "name": "stderr",
     "output_type": "stream",
     "text": [
      "/home/tt21642/dispyprob/pyprob/pyprob/nn/inference_network_lstm.py:137: UserWarning: Using prior. No proposal for address: 216__forward___traverse___traverse_rec___traverse_rec___traverse_rec___traverse_rec___traverse_rec___traverse_rec___traverse_rec__phi_CM__Uniform__14\n",
      "  warnings.warn('Using prior. No proposal for address: {}'.format(current_address))\n",
      "/home/tt21642/dispyprob/pyprob/pyprob/nn/inference_network_lstm.py:116: UserWarning: Address of current variable unknown by inference network: 216__forward___traverse___traverse_rec___traverse_rec___traverse_rec___traverse_rec___traverse_rec___traverse_rec___traverse_rec___traverse_rec__phi_CM__Uniform__16\n",
      "  warnings.warn('Address of current variable unknown by inference network: {}'.format(current_address))\n",
      "/home/tt21642/dispyprob/pyprob/pyprob/nn/inference_network_lstm.py:137: UserWarning: Using prior. No proposal for address: 216__forward___traverse___traverse_rec___traverse_rec___traverse_rec___traverse_rec___traverse_rec___traverse_rec___traverse_rec___traverse_rec__phi_CM__Uniform__16\n",
      "  warnings.warn('Using prior. No proposal for address: {}'.format(current_address))\n",
      "/home/tt21642/dispyprob/pyprob/pyprob/nn/inference_network_lstm.py:107: UserWarning: Address of previous variable unknown by inference network: 216__forward___traverse___traverse_rec___traverse_rec___traverse_rec___traverse_rec___traverse_rec___traverse_rec___traverse_rec___traverse_rec__phi_CM__Uniform__16\n",
      "  warnings.warn('Address of previous variable unknown by inference network: {}'.format(prev_address))\n",
      "/home/tt21642/dispyprob/pyprob/pyprob/nn/inference_network_lstm.py:116: UserWarning: Address of current variable unknown by inference network: 256__forward___traverse___traverse_rec___traverse_rec___traverse_rec___traverse_rec___traverse_rec___traverse_rec___traverse_rec___traverse_rec__theta_CM_U__Uniform__16\n",
      "  warnings.warn('Address of current variable unknown by inference network: {}'.format(current_address))\n",
      "/home/tt21642/dispyprob/pyprob/pyprob/nn/inference_network_lstm.py:137: UserWarning: Using prior. No proposal for address: 256__forward___traverse___traverse_rec___traverse_rec___traverse_rec___traverse_rec___traverse_rec___traverse_rec___traverse_rec___traverse_rec__theta_CM_U__Uniform__16\n",
      "  warnings.warn('Using prior. No proposal for address: {}'.format(current_address))\n",
      "/home/tt21642/dispyprob/pyprob/pyprob/nn/inference_network_lstm.py:107: UserWarning: Address of previous variable unknown by inference network: 256__forward___traverse___traverse_rec___traverse_rec___traverse_rec___traverse_rec___traverse_rec___traverse_rec___traverse_rec___traverse_rec__theta_CM_U__Uniform__16\n",
      "  warnings.warn('Address of previous variable unknown by inference network: {}'.format(prev_address))\n",
      "/home/tt21642/dispyprob/pyprob/pyprob/nn/inference_network_lstm.py:116: UserWarning: Address of current variable unknown by inference network: 460__forward___traverse___traverse_rec___traverse_rec___traverse_rec___traverse_rec___traverse_rec___traverse_rec___traverse_rec___traverse_rec__draw_decay_L__TruncatedExponential__16\n",
      "  warnings.warn('Address of current variable unknown by inference network: {}'.format(current_address))\n",
      "/home/tt21642/dispyprob/pyprob/pyprob/nn/inference_network_lstm.py:137: UserWarning: Using prior. No proposal for address: 460__forward___traverse___traverse_rec___traverse_rec___traverse_rec___traverse_rec___traverse_rec___traverse_rec___traverse_rec___traverse_rec__draw_decay_L__TruncatedExponential__16\n",
      "  warnings.warn('Using prior. No proposal for address: {}'.format(current_address))\n",
      "/home/tt21642/dispyprob/pyprob/pyprob/nn/inference_network_lstm.py:107: UserWarning: Address of previous variable unknown by inference network: 460__forward___traverse___traverse_rec___traverse_rec___traverse_rec___traverse_rec___traverse_rec___traverse_rec___traverse_rec___traverse_rec__draw_decay_L__TruncatedExponential__16\n",
      "  warnings.warn('Address of previous variable unknown by inference network: {}'.format(prev_address))\n",
      "/home/tt21642/dispyprob/pyprob/pyprob/nn/inference_network_lstm.py:116: UserWarning: Address of current variable unknown by inference network: 510__forward___traverse___traverse_rec___traverse_rec___traverse_rec___traverse_rec___traverse_rec___traverse_rec___traverse_rec___traverse_rec__draw_decay_R__TruncatedExponential__16\n",
      "  warnings.warn('Address of current variable unknown by inference network: {}'.format(current_address))\n",
      "/home/tt21642/dispyprob/pyprob/pyprob/nn/inference_network_lstm.py:137: UserWarning: Using prior. No proposal for address: 510__forward___traverse___traverse_rec___traverse_rec___traverse_rec___traverse_rec___traverse_rec___traverse_rec___traverse_rec___traverse_rec__draw_decay_R__TruncatedExponential__16\n",
      "  warnings.warn('Using prior. No proposal for address: {}'.format(current_address))\n",
      "/home/tt21642/dispyprob/pyprob/pyprob/nn/inference_network_lstm.py:107: UserWarning: Address of previous variable unknown by inference network: 510__forward___traverse___traverse_rec___traverse_rec___traverse_rec___traverse_rec___traverse_rec___traverse_rec___traverse_rec___traverse_rec__draw_decay_R__TruncatedExponential__16\n",
      "  warnings.warn('Address of previous variable unknown by inference network: {}'.format(prev_address))\n"
     ]
    },
    {
     "name": "stdout",
     "output_type": "stream",
     "text": [
      "0d:01:38:13 | 0d:04:44:22 | #####--------------- |  257/1000 |   5.75 | 0.04       \r"
     ]
    },
    {
     "name": "stderr",
     "output_type": "stream",
     "text": [
      "/home/tt21642/dispyprob/pyprob/pyprob/nn/inference_network_lstm.py:116: UserWarning: Address of current variable unknown by inference network: 216__forward___traverse___traverse_rec___traverse_rec___traverse_rec___traverse_rec___traverse_rec___traverse_rec___traverse_rec___traverse_rec__phi_CM__Uniform__17\n",
      "  warnings.warn('Address of current variable unknown by inference network: {}'.format(current_address))\n",
      "/home/tt21642/dispyprob/pyprob/pyprob/nn/inference_network_lstm.py:137: UserWarning: Using prior. No proposal for address: 216__forward___traverse___traverse_rec___traverse_rec___traverse_rec___traverse_rec___traverse_rec___traverse_rec___traverse_rec___traverse_rec__phi_CM__Uniform__17\n",
      "  warnings.warn('Using prior. No proposal for address: {}'.format(current_address))\n",
      "/home/tt21642/dispyprob/pyprob/pyprob/nn/inference_network_lstm.py:107: UserWarning: Address of previous variable unknown by inference network: 216__forward___traverse___traverse_rec___traverse_rec___traverse_rec___traverse_rec___traverse_rec___traverse_rec___traverse_rec___traverse_rec__phi_CM__Uniform__17\n",
      "  warnings.warn('Address of previous variable unknown by inference network: {}'.format(prev_address))\n",
      "/home/tt21642/dispyprob/pyprob/pyprob/nn/inference_network_lstm.py:116: UserWarning: Address of current variable unknown by inference network: 256__forward___traverse___traverse_rec___traverse_rec___traverse_rec___traverse_rec___traverse_rec___traverse_rec___traverse_rec___traverse_rec__theta_CM_U__Uniform__17\n",
      "  warnings.warn('Address of current variable unknown by inference network: {}'.format(current_address))\n",
      "/home/tt21642/dispyprob/pyprob/pyprob/nn/inference_network_lstm.py:137: UserWarning: Using prior. No proposal for address: 256__forward___traverse___traverse_rec___traverse_rec___traverse_rec___traverse_rec___traverse_rec___traverse_rec___traverse_rec___traverse_rec__theta_CM_U__Uniform__17\n",
      "  warnings.warn('Using prior. No proposal for address: {}'.format(current_address))\n",
      "/home/tt21642/dispyprob/pyprob/pyprob/nn/inference_network_lstm.py:107: UserWarning: Address of previous variable unknown by inference network: 256__forward___traverse___traverse_rec___traverse_rec___traverse_rec___traverse_rec___traverse_rec___traverse_rec___traverse_rec___traverse_rec__theta_CM_U__Uniform__17\n",
      "  warnings.warn('Address of previous variable unknown by inference network: {}'.format(prev_address))\n",
      "/home/tt21642/dispyprob/pyprob/pyprob/nn/inference_network_lstm.py:116: UserWarning: Address of current variable unknown by inference network: 460__forward___traverse___traverse_rec___traverse_rec___traverse_rec___traverse_rec___traverse_rec___traverse_rec___traverse_rec___traverse_rec__draw_decay_L__TruncatedExponential__17\n",
      "  warnings.warn('Address of current variable unknown by inference network: {}'.format(current_address))\n",
      "/home/tt21642/dispyprob/pyprob/pyprob/nn/inference_network_lstm.py:137: UserWarning: Using prior. No proposal for address: 460__forward___traverse___traverse_rec___traverse_rec___traverse_rec___traverse_rec___traverse_rec___traverse_rec___traverse_rec___traverse_rec__draw_decay_L__TruncatedExponential__17\n",
      "  warnings.warn('Using prior. No proposal for address: {}'.format(current_address))\n",
      "/home/tt21642/dispyprob/pyprob/pyprob/nn/inference_network_lstm.py:107: UserWarning: Address of previous variable unknown by inference network: 460__forward___traverse___traverse_rec___traverse_rec___traverse_rec___traverse_rec___traverse_rec___traverse_rec___traverse_rec___traverse_rec__draw_decay_L__TruncatedExponential__17\n",
      "  warnings.warn('Address of previous variable unknown by inference network: {}'.format(prev_address))\n",
      "/home/tt21642/dispyprob/pyprob/pyprob/nn/inference_network_lstm.py:116: UserWarning: Address of current variable unknown by inference network: 510__forward___traverse___traverse_rec___traverse_rec___traverse_rec___traverse_rec___traverse_rec___traverse_rec___traverse_rec___traverse_rec__draw_decay_R__TruncatedExponential__17\n",
      "  warnings.warn('Address of current variable unknown by inference network: {}'.format(current_address))\n",
      "/home/tt21642/dispyprob/pyprob/pyprob/nn/inference_network_lstm.py:137: UserWarning: Using prior. No proposal for address: 510__forward___traverse___traverse_rec___traverse_rec___traverse_rec___traverse_rec___traverse_rec___traverse_rec___traverse_rec___traverse_rec__draw_decay_R__TruncatedExponential__17\n",
      "  warnings.warn('Using prior. No proposal for address: {}'.format(current_address))\n"
     ]
    },
    {
     "name": "stdout",
     "output_type": "stream",
     "text": [
      "0d:01:55:00 | 0d:04:37:53 | ######-------------- |  293/1000 |   7.54 | 0.04       \r"
     ]
    },
    {
     "name": "stderr",
     "output_type": "stream",
     "text": [
      "/home/tt21642/dispyprob/pyprob/pyprob/nn/inference_network_lstm.py:137: UserWarning: Using prior. No proposal for address: 216__forward___traverse___traverse_rec___traverse_rec___traverse_rec___traverse_rec___traverse_rec___traverse_rec___traverse_rec___traverse_rec___traverse_rec___traverse_rec__phi_CM__Uniform__5\n",
      "  warnings.warn('Using prior. No proposal for address: {}'.format(current_address))\n"
     ]
    },
    {
     "name": "stdout",
     "output_type": "stream",
     "text": [
      "0d:02:00:07 | 0d:04:35:24 | ######-------------- |  304/1000 |   7.54 | 0.04       \r"
     ]
    },
    {
     "name": "stderr",
     "output_type": "stream",
     "text": [
      "/home/tt21642/dispyprob/pyprob/pyprob/nn/inference_network_lstm.py:116: UserWarning: Address of current variable unknown by inference network: 460__forward___traverse___traverse_rec___traverse_rec___traverse_rec__draw_decay_L__TruncatedExponential__5\n",
      "  warnings.warn('Address of current variable unknown by inference network: {}'.format(current_address))\n",
      "/home/tt21642/dispyprob/pyprob/pyprob/nn/inference_network_lstm.py:137: UserWarning: Using prior. No proposal for address: 460__forward___traverse___traverse_rec___traverse_rec___traverse_rec__draw_decay_L__TruncatedExponential__5\n",
      "  warnings.warn('Using prior. No proposal for address: {}'.format(current_address))\n",
      "/home/tt21642/dispyprob/pyprob/pyprob/nn/inference_network_lstm.py:107: UserWarning: Address of previous variable unknown by inference network: 460__forward___traverse___traverse_rec___traverse_rec___traverse_rec__draw_decay_L__TruncatedExponential__5\n",
      "  warnings.warn('Address of previous variable unknown by inference network: {}'.format(prev_address))\n",
      "/home/tt21642/dispyprob/pyprob/pyprob/nn/inference_network_lstm.py:137: UserWarning: Using prior. No proposal for address: 510__forward___traverse___traverse_rec___traverse_rec___traverse_rec__draw_decay_R__TruncatedExponential__4\n",
      "  warnings.warn('Using prior. No proposal for address: {}'.format(current_address))\n"
     ]
    },
    {
     "name": "stdout",
     "output_type": "stream",
     "text": [
      "0d:02:08:07 | 0d:04:31:25 | ######-------------- |  321/1000 |   7.54 | 0.04       \r"
     ]
    },
    {
     "name": "stderr",
     "output_type": "stream",
     "text": [
      "/home/tt21642/dispyprob/pyprob/pyprob/nn/inference_network_lstm.py:137: UserWarning: Using prior. No proposal for address: 216__forward___traverse___traverse_rec___traverse_rec___traverse_rec___traverse_rec___traverse_rec___traverse_rec___traverse_rec__phi_CM__Uniform__13\n",
      "  warnings.warn('Using prior. No proposal for address: {}'.format(current_address))\n"
     ]
    },
    {
     "name": "stdout",
     "output_type": "stream",
     "text": [
      "0d:02:09:10 | 0d:04:31:09 | ######-------------- |  323/1000 |   7.55 | 0.04       \r"
     ]
    },
    {
     "name": "stderr",
     "output_type": "stream",
     "text": [
      "/home/tt21642/dispyprob/pyprob/pyprob/nn/inference_network_lstm.py:116: UserWarning: Address of current variable unknown by inference network: 216__forward___traverse___traverse_rec___traverse_rec___traverse_rec___traverse_rec___traverse_rec___traverse_rec___traverse_rec__phi_CM__Uniform__18\n",
      "  warnings.warn('Address of current variable unknown by inference network: {}'.format(current_address))\n",
      "/home/tt21642/dispyprob/pyprob/pyprob/nn/inference_network_lstm.py:137: UserWarning: Using prior. No proposal for address: 216__forward___traverse___traverse_rec___traverse_rec___traverse_rec___traverse_rec___traverse_rec___traverse_rec___traverse_rec__phi_CM__Uniform__18\n",
      "  warnings.warn('Using prior. No proposal for address: {}'.format(current_address))\n",
      "/home/tt21642/dispyprob/pyprob/pyprob/nn/inference_network_lstm.py:107: UserWarning: Address of previous variable unknown by inference network: 216__forward___traverse___traverse_rec___traverse_rec___traverse_rec___traverse_rec___traverse_rec___traverse_rec___traverse_rec__phi_CM__Uniform__18\n",
      "  warnings.warn('Address of previous variable unknown by inference network: {}'.format(prev_address))\n",
      "/home/tt21642/dispyprob/pyprob/pyprob/nn/inference_network_lstm.py:116: UserWarning: Address of current variable unknown by inference network: 256__forward___traverse___traverse_rec___traverse_rec___traverse_rec___traverse_rec___traverse_rec___traverse_rec___traverse_rec__theta_CM_U__Uniform__18\n",
      "  warnings.warn('Address of current variable unknown by inference network: {}'.format(current_address))\n",
      "/home/tt21642/dispyprob/pyprob/pyprob/nn/inference_network_lstm.py:137: UserWarning: Using prior. No proposal for address: 256__forward___traverse___traverse_rec___traverse_rec___traverse_rec___traverse_rec___traverse_rec___traverse_rec___traverse_rec__theta_CM_U__Uniform__18\n",
      "  warnings.warn('Using prior. No proposal for address: {}'.format(current_address))\n",
      "/home/tt21642/dispyprob/pyprob/pyprob/nn/inference_network_lstm.py:107: UserWarning: Address of previous variable unknown by inference network: 256__forward___traverse___traverse_rec___traverse_rec___traverse_rec___traverse_rec___traverse_rec___traverse_rec___traverse_rec__theta_CM_U__Uniform__18\n",
      "  warnings.warn('Address of previous variable unknown by inference network: {}'.format(prev_address))\n",
      "/home/tt21642/dispyprob/pyprob/pyprob/nn/inference_network_lstm.py:116: UserWarning: Address of current variable unknown by inference network: 460__forward___traverse___traverse_rec___traverse_rec___traverse_rec___traverse_rec___traverse_rec___traverse_rec___traverse_rec__draw_decay_L__TruncatedExponential__18\n",
      "  warnings.warn('Address of current variable unknown by inference network: {}'.format(current_address))\n",
      "/home/tt21642/dispyprob/pyprob/pyprob/nn/inference_network_lstm.py:137: UserWarning: Using prior. No proposal for address: 460__forward___traverse___traverse_rec___traverse_rec___traverse_rec___traverse_rec___traverse_rec___traverse_rec___traverse_rec__draw_decay_L__TruncatedExponential__18\n",
      "  warnings.warn('Using prior. No proposal for address: {}'.format(current_address))\n",
      "/home/tt21642/dispyprob/pyprob/pyprob/nn/inference_network_lstm.py:107: UserWarning: Address of previous variable unknown by inference network: 460__forward___traverse___traverse_rec___traverse_rec___traverse_rec___traverse_rec___traverse_rec___traverse_rec___traverse_rec__draw_decay_L__TruncatedExponential__18\n",
      "  warnings.warn('Address of previous variable unknown by inference network: {}'.format(prev_address))\n",
      "/home/tt21642/dispyprob/pyprob/pyprob/nn/inference_network_lstm.py:116: UserWarning: Address of current variable unknown by inference network: 510__forward___traverse___traverse_rec___traverse_rec___traverse_rec___traverse_rec___traverse_rec___traverse_rec___traverse_rec__draw_decay_R__TruncatedExponential__18\n",
      "  warnings.warn('Address of current variable unknown by inference network: {}'.format(current_address))\n",
      "/home/tt21642/dispyprob/pyprob/pyprob/nn/inference_network_lstm.py:137: UserWarning: Using prior. No proposal for address: 510__forward___traverse___traverse_rec___traverse_rec___traverse_rec___traverse_rec___traverse_rec___traverse_rec___traverse_rec__draw_decay_R__TruncatedExponential__18\n",
      "  warnings.warn('Using prior. No proposal for address: {}'.format(current_address))\n",
      "/home/tt21642/dispyprob/pyprob/pyprob/nn/inference_network_lstm.py:107: UserWarning: Address of previous variable unknown by inference network: 510__forward___traverse___traverse_rec___traverse_rec___traverse_rec___traverse_rec___traverse_rec___traverse_rec___traverse_rec__draw_decay_R__TruncatedExponential__18\n",
      "  warnings.warn('Address of previous variable unknown by inference network: {}'.format(prev_address))\n"
     ]
    },
    {
     "name": "stdout",
     "output_type": "stream",
     "text": [
      "0d:02:12:00 | 0d:04:29:38 | #######------------- |  329/1000 |   7.57 | 0.04       \r"
     ]
    },
    {
     "name": "stderr",
     "output_type": "stream",
     "text": [
      "/home/tt21642/dispyprob/pyprob/pyprob/nn/inference_network_lstm.py:116: UserWarning: Address of current variable unknown by inference network: 216__forward___traverse___traverse_rec___traverse_rec___traverse_rec___traverse_rec___traverse_rec___traverse_rec__phi_CM__Uniform__17\n",
      "  warnings.warn('Address of current variable unknown by inference network: {}'.format(current_address))\n",
      "/home/tt21642/dispyprob/pyprob/pyprob/nn/inference_network_lstm.py:137: UserWarning: Using prior. No proposal for address: 216__forward___traverse___traverse_rec___traverse_rec___traverse_rec___traverse_rec___traverse_rec___traverse_rec__phi_CM__Uniform__17\n",
      "  warnings.warn('Using prior. No proposal for address: {}'.format(current_address))\n",
      "/home/tt21642/dispyprob/pyprob/pyprob/nn/inference_network_lstm.py:107: UserWarning: Address of previous variable unknown by inference network: 216__forward___traverse___traverse_rec___traverse_rec___traverse_rec___traverse_rec___traverse_rec___traverse_rec__phi_CM__Uniform__17\n",
      "  warnings.warn('Address of previous variable unknown by inference network: {}'.format(prev_address))\n",
      "/home/tt21642/dispyprob/pyprob/pyprob/nn/inference_network_lstm.py:116: UserWarning: Address of current variable unknown by inference network: 256__forward___traverse___traverse_rec___traverse_rec___traverse_rec___traverse_rec___traverse_rec___traverse_rec__theta_CM_U__Uniform__17\n",
      "  warnings.warn('Address of current variable unknown by inference network: {}'.format(current_address))\n",
      "/home/tt21642/dispyprob/pyprob/pyprob/nn/inference_network_lstm.py:137: UserWarning: Using prior. No proposal for address: 256__forward___traverse___traverse_rec___traverse_rec___traverse_rec___traverse_rec___traverse_rec___traverse_rec__theta_CM_U__Uniform__17\n",
      "  warnings.warn('Using prior. No proposal for address: {}'.format(current_address))\n",
      "/home/tt21642/dispyprob/pyprob/pyprob/nn/inference_network_lstm.py:107: UserWarning: Address of previous variable unknown by inference network: 256__forward___traverse___traverse_rec___traverse_rec___traverse_rec___traverse_rec___traverse_rec___traverse_rec__theta_CM_U__Uniform__17\n",
      "  warnings.warn('Address of previous variable unknown by inference network: {}'.format(prev_address))\n",
      "/home/tt21642/dispyprob/pyprob/pyprob/nn/inference_network_lstm.py:116: UserWarning: Address of current variable unknown by inference network: 510__forward___traverse___traverse_rec___traverse_rec___traverse_rec___traverse_rec___traverse_rec___traverse_rec__draw_decay_R__TruncatedExponential__17\n",
      "  warnings.warn('Address of current variable unknown by inference network: {}'.format(current_address))\n",
      "/home/tt21642/dispyprob/pyprob/pyprob/nn/inference_network_lstm.py:137: UserWarning: Using prior. No proposal for address: 510__forward___traverse___traverse_rec___traverse_rec___traverse_rec___traverse_rec___traverse_rec___traverse_rec__draw_decay_R__TruncatedExponential__17\n",
      "  warnings.warn('Using prior. No proposal for address: {}'.format(current_address))\n"
     ]
    },
    {
     "name": "stdout",
     "output_type": "stream",
     "text": [
      "0d:02:17:25 | 0d:04:24:48 | #######------------- |  342/1000 |   7.58 | 0.04       \r"
     ]
    },
    {
     "name": "stderr",
     "output_type": "stream",
     "text": [
      "/home/tt21642/dispyprob/pyprob/pyprob/nn/inference_network_lstm.py:116: UserWarning: Address of current variable unknown by inference network: 216__forward___traverse___traverse_rec___traverse_rec___traverse_rec___traverse_rec___traverse_rec___traverse_rec___traverse_rec___traverse_rec___traverse_rec___traverse_rec__phi_CM__Uniform__14\n",
      "  warnings.warn('Address of current variable unknown by inference network: {}'.format(current_address))\n",
      "/home/tt21642/dispyprob/pyprob/pyprob/nn/inference_network_lstm.py:137: UserWarning: Using prior. No proposal for address: 216__forward___traverse___traverse_rec___traverse_rec___traverse_rec___traverse_rec___traverse_rec___traverse_rec___traverse_rec___traverse_rec___traverse_rec___traverse_rec__phi_CM__Uniform__14\n",
      "  warnings.warn('Using prior. No proposal for address: {}'.format(current_address))\n",
      "/home/tt21642/dispyprob/pyprob/pyprob/nn/inference_network_lstm.py:107: UserWarning: Address of previous variable unknown by inference network: 216__forward___traverse___traverse_rec___traverse_rec___traverse_rec___traverse_rec___traverse_rec___traverse_rec___traverse_rec___traverse_rec___traverse_rec___traverse_rec__phi_CM__Uniform__14\n",
      "  warnings.warn('Address of previous variable unknown by inference network: {}'.format(prev_address))\n",
      "/home/tt21642/dispyprob/pyprob/pyprob/nn/inference_network_lstm.py:116: UserWarning: Address of current variable unknown by inference network: 256__forward___traverse___traverse_rec___traverse_rec___traverse_rec___traverse_rec___traverse_rec___traverse_rec___traverse_rec___traverse_rec___traverse_rec___traverse_rec__theta_CM_U__Uniform__14\n",
      "  warnings.warn('Address of current variable unknown by inference network: {}'.format(current_address))\n",
      "/home/tt21642/dispyprob/pyprob/pyprob/nn/inference_network_lstm.py:137: UserWarning: Using prior. No proposal for address: 256__forward___traverse___traverse_rec___traverse_rec___traverse_rec___traverse_rec___traverse_rec___traverse_rec___traverse_rec___traverse_rec___traverse_rec___traverse_rec__theta_CM_U__Uniform__14\n",
      "  warnings.warn('Using prior. No proposal for address: {}'.format(current_address))\n",
      "/home/tt21642/dispyprob/pyprob/pyprob/nn/inference_network_lstm.py:107: UserWarning: Address of previous variable unknown by inference network: 256__forward___traverse___traverse_rec___traverse_rec___traverse_rec___traverse_rec___traverse_rec___traverse_rec___traverse_rec___traverse_rec___traverse_rec___traverse_rec__theta_CM_U__Uniform__14\n",
      "  warnings.warn('Address of previous variable unknown by inference network: {}'.format(prev_address))\n",
      "/home/tt21642/dispyprob/pyprob/pyprob/nn/inference_network_lstm.py:116: UserWarning: Address of current variable unknown by inference network: 460__forward___traverse___traverse_rec___traverse_rec___traverse_rec___traverse_rec___traverse_rec___traverse_rec___traverse_rec___traverse_rec___traverse_rec___traverse_rec__draw_decay_L__TruncatedExponential__14\n",
      "  warnings.warn('Address of current variable unknown by inference network: {}'.format(current_address))\n",
      "/home/tt21642/dispyprob/pyprob/pyprob/nn/inference_network_lstm.py:137: UserWarning: Using prior. No proposal for address: 460__forward___traverse___traverse_rec___traverse_rec___traverse_rec___traverse_rec___traverse_rec___traverse_rec___traverse_rec___traverse_rec___traverse_rec___traverse_rec__draw_decay_L__TruncatedExponential__14\n",
      "  warnings.warn('Using prior. No proposal for address: {}'.format(current_address))\n",
      "/home/tt21642/dispyprob/pyprob/pyprob/nn/inference_network_lstm.py:107: UserWarning: Address of previous variable unknown by inference network: 460__forward___traverse___traverse_rec___traverse_rec___traverse_rec___traverse_rec___traverse_rec___traverse_rec___traverse_rec___traverse_rec___traverse_rec___traverse_rec__draw_decay_L__TruncatedExponential__14\n",
      "  warnings.warn('Address of previous variable unknown by inference network: {}'.format(prev_address))\n",
      "/home/tt21642/dispyprob/pyprob/pyprob/nn/inference_network_lstm.py:116: UserWarning: Address of current variable unknown by inference network: 510__forward___traverse___traverse_rec___traverse_rec___traverse_rec___traverse_rec___traverse_rec___traverse_rec___traverse_rec___traverse_rec___traverse_rec___traverse_rec__draw_decay_R__TruncatedExponential__14\n",
      "  warnings.warn('Address of current variable unknown by inference network: {}'.format(current_address))\n",
      "/home/tt21642/dispyprob/pyprob/pyprob/nn/inference_network_lstm.py:137: UserWarning: Using prior. No proposal for address: 510__forward___traverse___traverse_rec___traverse_rec___traverse_rec___traverse_rec___traverse_rec___traverse_rec___traverse_rec___traverse_rec___traverse_rec___traverse_rec__draw_decay_R__TruncatedExponential__14\n",
      "  warnings.warn('Using prior. No proposal for address: {}'.format(current_address))\n",
      "/home/tt21642/dispyprob/pyprob/pyprob/nn/inference_network_lstm.py:107: UserWarning: Address of previous variable unknown by inference network: 510__forward___traverse___traverse_rec___traverse_rec___traverse_rec___traverse_rec___traverse_rec___traverse_rec___traverse_rec___traverse_rec___traverse_rec___traverse_rec__draw_decay_R__TruncatedExponential__14\n",
      "  warnings.warn('Address of previous variable unknown by inference network: {}'.format(prev_address))\n"
     ]
    },
    {
     "name": "stdout",
     "output_type": "stream",
     "text": [
      "0d:02:18:02 | 0d:04:24:48 | #######------------- |  343/1000 |   7.58 | 0.04       \r"
     ]
    },
    {
     "name": "stderr",
     "output_type": "stream",
     "text": [
      "/home/tt21642/dispyprob/pyprob/pyprob/nn/inference_network_lstm.py:137: UserWarning: Using prior. No proposal for address: 216__forward___traverse___traverse_rec___traverse_rec___traverse_rec___traverse_rec___traverse_rec___traverse_rec__phi_CM__Uniform__3\n",
      "  warnings.warn('Using prior. No proposal for address: {}'.format(current_address))\n"
     ]
    },
    {
     "name": "stdout",
     "output_type": "stream",
     "text": [
      "0d:02:24:05 | 0d:04:21:03 | #######------------- |  356/1000 |   7.59 | 0.04       \r"
     ]
    },
    {
     "name": "stderr",
     "output_type": "stream",
     "text": [
      "/home/tt21642/dispyprob/pyprob/pyprob/nn/inference_network_lstm.py:116: UserWarning: Address of current variable unknown by inference network: 216__forward___traverse___traverse_rec___traverse_rec___traverse_rec___traverse_rec___traverse_rec___traverse_rec___traverse_rec___traverse_rec___traverse_rec__phi_CM__Uniform__18\n",
      "  warnings.warn('Address of current variable unknown by inference network: {}'.format(current_address))\n",
      "/home/tt21642/dispyprob/pyprob/pyprob/nn/inference_network_lstm.py:137: UserWarning: Using prior. No proposal for address: 216__forward___traverse___traverse_rec___traverse_rec___traverse_rec___traverse_rec___traverse_rec___traverse_rec___traverse_rec___traverse_rec___traverse_rec__phi_CM__Uniform__18\n",
      "  warnings.warn('Using prior. No proposal for address: {}'.format(current_address))\n",
      "/home/tt21642/dispyprob/pyprob/pyprob/nn/inference_network_lstm.py:107: UserWarning: Address of previous variable unknown by inference network: 216__forward___traverse___traverse_rec___traverse_rec___traverse_rec___traverse_rec___traverse_rec___traverse_rec___traverse_rec___traverse_rec___traverse_rec__phi_CM__Uniform__18\n",
      "  warnings.warn('Address of previous variable unknown by inference network: {}'.format(prev_address))\n",
      "/home/tt21642/dispyprob/pyprob/pyprob/nn/inference_network_lstm.py:116: UserWarning: Address of current variable unknown by inference network: 256__forward___traverse___traverse_rec___traverse_rec___traverse_rec___traverse_rec___traverse_rec___traverse_rec___traverse_rec___traverse_rec___traverse_rec__theta_CM_U__Uniform__18\n",
      "  warnings.warn('Address of current variable unknown by inference network: {}'.format(current_address))\n",
      "/home/tt21642/dispyprob/pyprob/pyprob/nn/inference_network_lstm.py:137: UserWarning: Using prior. No proposal for address: 256__forward___traverse___traverse_rec___traverse_rec___traverse_rec___traverse_rec___traverse_rec___traverse_rec___traverse_rec___traverse_rec___traverse_rec__theta_CM_U__Uniform__18\n",
      "  warnings.warn('Using prior. No proposal for address: {}'.format(current_address))\n",
      "/home/tt21642/dispyprob/pyprob/pyprob/nn/inference_network_lstm.py:107: UserWarning: Address of previous variable unknown by inference network: 256__forward___traverse___traverse_rec___traverse_rec___traverse_rec___traverse_rec___traverse_rec___traverse_rec___traverse_rec___traverse_rec___traverse_rec__theta_CM_U__Uniform__18\n",
      "  warnings.warn('Address of previous variable unknown by inference network: {}'.format(prev_address))\n",
      "/home/tt21642/dispyprob/pyprob/pyprob/nn/inference_network_lstm.py:116: UserWarning: Address of current variable unknown by inference network: 460__forward___traverse___traverse_rec___traverse_rec___traverse_rec___traverse_rec___traverse_rec___traverse_rec___traverse_rec___traverse_rec___traverse_rec__draw_decay_L__TruncatedExponential__18\n",
      "  warnings.warn('Address of current variable unknown by inference network: {}'.format(current_address))\n",
      "/home/tt21642/dispyprob/pyprob/pyprob/nn/inference_network_lstm.py:137: UserWarning: Using prior. No proposal for address: 460__forward___traverse___traverse_rec___traverse_rec___traverse_rec___traverse_rec___traverse_rec___traverse_rec___traverse_rec___traverse_rec___traverse_rec__draw_decay_L__TruncatedExponential__18\n",
      "  warnings.warn('Using prior. No proposal for address: {}'.format(current_address))\n",
      "/home/tt21642/dispyprob/pyprob/pyprob/nn/inference_network_lstm.py:107: UserWarning: Address of previous variable unknown by inference network: 460__forward___traverse___traverse_rec___traverse_rec___traverse_rec___traverse_rec___traverse_rec___traverse_rec___traverse_rec___traverse_rec___traverse_rec__draw_decay_L__TruncatedExponential__18\n",
      "  warnings.warn('Address of previous variable unknown by inference network: {}'.format(prev_address))\n",
      "/home/tt21642/dispyprob/pyprob/pyprob/nn/inference_network_lstm.py:116: UserWarning: Address of current variable unknown by inference network: 510__forward___traverse___traverse_rec___traverse_rec___traverse_rec___traverse_rec___traverse_rec___traverse_rec___traverse_rec___traverse_rec___traverse_rec__draw_decay_R__TruncatedExponential__18\n",
      "  warnings.warn('Address of current variable unknown by inference network: {}'.format(current_address))\n",
      "/home/tt21642/dispyprob/pyprob/pyprob/nn/inference_network_lstm.py:137: UserWarning: Using prior. No proposal for address: 510__forward___traverse___traverse_rec___traverse_rec___traverse_rec___traverse_rec___traverse_rec___traverse_rec___traverse_rec___traverse_rec___traverse_rec__draw_decay_R__TruncatedExponential__18\n",
      "  warnings.warn('Using prior. No proposal for address: {}'.format(current_address))\n",
      "/home/tt21642/dispyprob/pyprob/pyprob/nn/inference_network_lstm.py:107: UserWarning: Address of previous variable unknown by inference network: 510__forward___traverse___traverse_rec___traverse_rec___traverse_rec___traverse_rec___traverse_rec___traverse_rec___traverse_rec___traverse_rec___traverse_rec__draw_decay_R__TruncatedExponential__18\n",
      "  warnings.warn('Address of previous variable unknown by inference network: {}'.format(prev_address))\n"
     ]
    },
    {
     "name": "stdout",
     "output_type": "stream",
     "text": [
      "0d:02:27:37 | 0d:04:17:13 | #######------------- |  365/1000 |   7.62 | 0.04       \r"
     ]
    },
    {
     "name": "stderr",
     "output_type": "stream",
     "text": [
      "/home/tt21642/dispyprob/pyprob/pyprob/nn/inference_network_lstm.py:137: UserWarning: Using prior. No proposal for address: 216__forward___traverse___traverse_rec___traverse_rec___traverse_rec___traverse_rec___traverse_rec__phi_CM__Uniform__3\n",
      "  warnings.warn('Using prior. No proposal for address: {}'.format(current_address))\n"
     ]
    },
    {
     "name": "stdout",
     "output_type": "stream",
     "text": [
      "0d:02:33:48 | 0d:04:09:14 | ########------------ |  382/1000 |   7.63 | 0.04       \r"
     ]
    },
    {
     "name": "stderr",
     "output_type": "stream",
     "text": [
      "/home/tt21642/dispyprob/pyprob/pyprob/nn/inference_network_lstm.py:137: UserWarning: Using prior. No proposal for address: 510__forward___traverse___traverse_rec___traverse_rec___traverse_rec___traverse_rec___traverse_rec___traverse_rec___traverse_rec___traverse_rec___traverse_rec__draw_decay_R__TruncatedExponential__10\n",
      "  warnings.warn('Using prior. No proposal for address: {}'.format(current_address))\n"
     ]
    },
    {
     "name": "stdout",
     "output_type": "stream",
     "text": [
      "0d:02:35:51 | 0d:04:03:09 | ########------------ |  391/1000 |   7.63 | 0.04       \r"
     ]
    },
    {
     "name": "stderr",
     "output_type": "stream",
     "text": [
      "/home/tt21642/dispyprob/pyprob/pyprob/nn/inference_network_lstm.py:116: UserWarning: Address of current variable unknown by inference network: 216__forward___traverse___traverse_rec___traverse_rec___traverse_rec___traverse_rec___traverse_rec___traverse_rec___traverse_rec__phi_CM__Uniform__19\n",
      "  warnings.warn('Address of current variable unknown by inference network: {}'.format(current_address))\n",
      "/home/tt21642/dispyprob/pyprob/pyprob/nn/inference_network_lstm.py:137: UserWarning: Using prior. No proposal for address: 216__forward___traverse___traverse_rec___traverse_rec___traverse_rec___traverse_rec___traverse_rec___traverse_rec___traverse_rec__phi_CM__Uniform__19\n",
      "  warnings.warn('Using prior. No proposal for address: {}'.format(current_address))\n",
      "/home/tt21642/dispyprob/pyprob/pyprob/nn/inference_network_lstm.py:107: UserWarning: Address of previous variable unknown by inference network: 216__forward___traverse___traverse_rec___traverse_rec___traverse_rec___traverse_rec___traverse_rec___traverse_rec___traverse_rec__phi_CM__Uniform__19\n",
      "  warnings.warn('Address of previous variable unknown by inference network: {}'.format(prev_address))\n",
      "/home/tt21642/dispyprob/pyprob/pyprob/nn/inference_network_lstm.py:116: UserWarning: Address of current variable unknown by inference network: 256__forward___traverse___traverse_rec___traverse_rec___traverse_rec___traverse_rec___traverse_rec___traverse_rec___traverse_rec__theta_CM_U__Uniform__19\n",
      "  warnings.warn('Address of current variable unknown by inference network: {}'.format(current_address))\n",
      "/home/tt21642/dispyprob/pyprob/pyprob/nn/inference_network_lstm.py:137: UserWarning: Using prior. No proposal for address: 256__forward___traverse___traverse_rec___traverse_rec___traverse_rec___traverse_rec___traverse_rec___traverse_rec___traverse_rec__theta_CM_U__Uniform__19\n",
      "  warnings.warn('Using prior. No proposal for address: {}'.format(current_address))\n",
      "/home/tt21642/dispyprob/pyprob/pyprob/nn/inference_network_lstm.py:107: UserWarning: Address of previous variable unknown by inference network: 256__forward___traverse___traverse_rec___traverse_rec___traverse_rec___traverse_rec___traverse_rec___traverse_rec___traverse_rec__theta_CM_U__Uniform__19\n",
      "  warnings.warn('Address of previous variable unknown by inference network: {}'.format(prev_address))\n",
      "/home/tt21642/dispyprob/pyprob/pyprob/nn/inference_network_lstm.py:116: UserWarning: Address of current variable unknown by inference network: 460__forward___traverse___traverse_rec___traverse_rec___traverse_rec___traverse_rec___traverse_rec___traverse_rec___traverse_rec__draw_decay_L__TruncatedExponential__19\n",
      "  warnings.warn('Address of current variable unknown by inference network: {}'.format(current_address))\n",
      "/home/tt21642/dispyprob/pyprob/pyprob/nn/inference_network_lstm.py:137: UserWarning: Using prior. No proposal for address: 460__forward___traverse___traverse_rec___traverse_rec___traverse_rec___traverse_rec___traverse_rec___traverse_rec___traverse_rec__draw_decay_L__TruncatedExponential__19\n",
      "  warnings.warn('Using prior. No proposal for address: {}'.format(current_address))\n",
      "/home/tt21642/dispyprob/pyprob/pyprob/nn/inference_network_lstm.py:107: UserWarning: Address of previous variable unknown by inference network: 460__forward___traverse___traverse_rec___traverse_rec___traverse_rec___traverse_rec___traverse_rec___traverse_rec___traverse_rec__draw_decay_L__TruncatedExponential__19\n",
      "  warnings.warn('Address of previous variable unknown by inference network: {}'.format(prev_address))\n",
      "/home/tt21642/dispyprob/pyprob/pyprob/nn/inference_network_lstm.py:116: UserWarning: Address of current variable unknown by inference network: 510__forward___traverse___traverse_rec___traverse_rec___traverse_rec___traverse_rec___traverse_rec___traverse_rec___traverse_rec__draw_decay_R__TruncatedExponential__19\n",
      "  warnings.warn('Address of current variable unknown by inference network: {}'.format(current_address))\n",
      "/home/tt21642/dispyprob/pyprob/pyprob/nn/inference_network_lstm.py:137: UserWarning: Using prior. No proposal for address: 510__forward___traverse___traverse_rec___traverse_rec___traverse_rec___traverse_rec___traverse_rec___traverse_rec___traverse_rec__draw_decay_R__TruncatedExponential__19\n",
      "  warnings.warn('Using prior. No proposal for address: {}'.format(current_address))\n",
      "/home/tt21642/dispyprob/pyprob/pyprob/nn/inference_network_lstm.py:107: UserWarning: Address of previous variable unknown by inference network: 510__forward___traverse___traverse_rec___traverse_rec___traverse_rec___traverse_rec___traverse_rec___traverse_rec___traverse_rec__draw_decay_R__TruncatedExponential__19\n",
      "  warnings.warn('Address of previous variable unknown by inference network: {}'.format(prev_address))\n"
     ]
    },
    {
     "name": "stdout",
     "output_type": "stream",
     "text": [
      "0d:02:43:36 | 0d:03:45:24 | ########------------ |  421/1000 |   6.31 | 0.04       \r"
     ]
    },
    {
     "name": "stderr",
     "output_type": "stream",
     "text": [
      "/home/tt21642/dispyprob/pyprob/pyprob/nn/inference_network_lstm.py:116: UserWarning: Address of current variable unknown by inference network: 216__forward___traverse___traverse_rec___traverse_rec___traverse_rec___traverse_rec___traverse_rec__phi_CM__Uniform__14\n",
      "  warnings.warn('Address of current variable unknown by inference network: {}'.format(current_address))\n",
      "/home/tt21642/dispyprob/pyprob/pyprob/nn/inference_network_lstm.py:137: UserWarning: Using prior. No proposal for address: 216__forward___traverse___traverse_rec___traverse_rec___traverse_rec___traverse_rec___traverse_rec__phi_CM__Uniform__14\n",
      "  warnings.warn('Using prior. No proposal for address: {}'.format(current_address))\n",
      "/home/tt21642/dispyprob/pyprob/pyprob/nn/inference_network_lstm.py:107: UserWarning: Address of previous variable unknown by inference network: 216__forward___traverse___traverse_rec___traverse_rec___traverse_rec___traverse_rec___traverse_rec__phi_CM__Uniform__14\n",
      "  warnings.warn('Address of previous variable unknown by inference network: {}'.format(prev_address))\n",
      "/home/tt21642/dispyprob/pyprob/pyprob/nn/inference_network_lstm.py:116: UserWarning: Address of current variable unknown by inference network: 256__forward___traverse___traverse_rec___traverse_rec___traverse_rec___traverse_rec___traverse_rec__theta_CM_U__Uniform__14\n",
      "  warnings.warn('Address of current variable unknown by inference network: {}'.format(current_address))\n",
      "/home/tt21642/dispyprob/pyprob/pyprob/nn/inference_network_lstm.py:137: UserWarning: Using prior. No proposal for address: 256__forward___traverse___traverse_rec___traverse_rec___traverse_rec___traverse_rec___traverse_rec__theta_CM_U__Uniform__14\n",
      "  warnings.warn('Using prior. No proposal for address: {}'.format(current_address))\n",
      "/home/tt21642/dispyprob/pyprob/pyprob/nn/inference_network_lstm.py:107: UserWarning: Address of previous variable unknown by inference network: 256__forward___traverse___traverse_rec___traverse_rec___traverse_rec___traverse_rec___traverse_rec__theta_CM_U__Uniform__14\n",
      "  warnings.warn('Address of previous variable unknown by inference network: {}'.format(prev_address))\n",
      "/home/tt21642/dispyprob/pyprob/pyprob/nn/inference_network_lstm.py:116: UserWarning: Address of current variable unknown by inference network: 460__forward___traverse___traverse_rec___traverse_rec___traverse_rec___traverse_rec___traverse_rec__draw_decay_L__TruncatedExponential__14\n",
      "  warnings.warn('Address of current variable unknown by inference network: {}'.format(current_address))\n",
      "/home/tt21642/dispyprob/pyprob/pyprob/nn/inference_network_lstm.py:137: UserWarning: Using prior. No proposal for address: 460__forward___traverse___traverse_rec___traverse_rec___traverse_rec___traverse_rec___traverse_rec__draw_decay_L__TruncatedExponential__14\n",
      "  warnings.warn('Using prior. No proposal for address: {}'.format(current_address))\n",
      "/home/tt21642/dispyprob/pyprob/pyprob/nn/inference_network_lstm.py:107: UserWarning: Address of previous variable unknown by inference network: 460__forward___traverse___traverse_rec___traverse_rec___traverse_rec___traverse_rec___traverse_rec__draw_decay_L__TruncatedExponential__14\n",
      "  warnings.warn('Address of previous variable unknown by inference network: {}'.format(prev_address))\n",
      "/home/tt21642/dispyprob/pyprob/pyprob/nn/inference_network_lstm.py:116: UserWarning: Address of current variable unknown by inference network: 510__forward___traverse___traverse_rec___traverse_rec___traverse_rec___traverse_rec___traverse_rec__draw_decay_R__TruncatedExponential__14\n",
      "  warnings.warn('Address of current variable unknown by inference network: {}'.format(current_address))\n",
      "/home/tt21642/dispyprob/pyprob/pyprob/nn/inference_network_lstm.py:137: UserWarning: Using prior. No proposal for address: 510__forward___traverse___traverse_rec___traverse_rec___traverse_rec___traverse_rec___traverse_rec__draw_decay_R__TruncatedExponential__14\n",
      "  warnings.warn('Using prior. No proposal for address: {}'.format(current_address))\n",
      "/home/tt21642/dispyprob/pyprob/pyprob/nn/inference_network_lstm.py:107: UserWarning: Address of previous variable unknown by inference network: 510__forward___traverse___traverse_rec___traverse_rec___traverse_rec___traverse_rec___traverse_rec__draw_decay_R__TruncatedExponential__14\n",
      "  warnings.warn('Address of previous variable unknown by inference network: {}'.format(prev_address))\n",
      "/home/tt21642/dispyprob/pyprob/pyprob/nn/inference_network_lstm.py:137: UserWarning: Using prior. No proposal for address: 216__forward___traverse___traverse_rec___traverse_rec___traverse_rec___traverse_rec___traverse_rec___traverse_rec__phi_CM__Uniform__16\n",
      "  warnings.warn('Using prior. No proposal for address: {}'.format(current_address))\n"
     ]
    },
    {
     "name": "stdout",
     "output_type": "stream",
     "text": [
      "0d:02:45:48 | 0d:03:40:10 | #########----------- |  430/1000 |   6.31 | 0.04       \r"
     ]
    },
    {
     "name": "stderr",
     "output_type": "stream",
     "text": [
      "/home/tt21642/dispyprob/pyprob/pyprob/nn/inference_network_lstm.py:107: UserWarning: Address of previous variable unknown by inference network: 510__forward___traverse___traverse_rec___traverse_rec___traverse_rec___traverse_rec___traverse_rec___traverse_rec___traverse_rec___traverse_rec__draw_decay_R__TruncatedExponential__17\n",
      "  warnings.warn('Address of previous variable unknown by inference network: {}'.format(prev_address))\n"
     ]
    },
    {
     "name": "stdout",
     "output_type": "stream",
     "text": [
      "0d:02:48:05 | 0d:03:36:56 | #########----------- |  437/1000 |   6.34 | 0.04       \r"
     ]
    },
    {
     "name": "stderr",
     "output_type": "stream",
     "text": [
      "/home/tt21642/dispyprob/pyprob/pyprob/nn/inference_network_lstm.py:116: UserWarning: Address of current variable unknown by inference network: 216__forward___traverse___traverse_rec___traverse_rec___traverse_rec___traverse_rec___traverse_rec___traverse_rec___traverse_rec___traverse_rec___traverse_rec___traverse_rec___traverse_rec___traverse_rec___traverse_rec___traverse_rec___traverse_rec__phi_CM__Uniform__6\n",
      "  warnings.warn('Address of current variable unknown by inference network: {}'.format(current_address))\n",
      "/home/tt21642/dispyprob/pyprob/pyprob/nn/inference_network_lstm.py:137: UserWarning: Using prior. No proposal for address: 216__forward___traverse___traverse_rec___traverse_rec___traverse_rec___traverse_rec___traverse_rec___traverse_rec___traverse_rec___traverse_rec___traverse_rec___traverse_rec___traverse_rec___traverse_rec___traverse_rec___traverse_rec___traverse_rec__phi_CM__Uniform__6\n",
      "  warnings.warn('Using prior. No proposal for address: {}'.format(current_address))\n",
      "/home/tt21642/dispyprob/pyprob/pyprob/nn/inference_network_lstm.py:107: UserWarning: Address of previous variable unknown by inference network: 216__forward___traverse___traverse_rec___traverse_rec___traverse_rec___traverse_rec___traverse_rec___traverse_rec___traverse_rec___traverse_rec___traverse_rec___traverse_rec___traverse_rec___traverse_rec___traverse_rec___traverse_rec___traverse_rec__phi_CM__Uniform__6\n",
      "  warnings.warn('Address of previous variable unknown by inference network: {}'.format(prev_address))\n",
      "/home/tt21642/dispyprob/pyprob/pyprob/nn/inference_network_lstm.py:116: UserWarning: Address of current variable unknown by inference network: 256__forward___traverse___traverse_rec___traverse_rec___traverse_rec___traverse_rec___traverse_rec___traverse_rec___traverse_rec___traverse_rec___traverse_rec___traverse_rec___traverse_rec___traverse_rec___traverse_rec___traverse_rec___traverse_rec__theta_CM_U__Uniform__6\n",
      "  warnings.warn('Address of current variable unknown by inference network: {}'.format(current_address))\n",
      "/home/tt21642/dispyprob/pyprob/pyprob/nn/inference_network_lstm.py:137: UserWarning: Using prior. No proposal for address: 256__forward___traverse___traverse_rec___traverse_rec___traverse_rec___traverse_rec___traverse_rec___traverse_rec___traverse_rec___traverse_rec___traverse_rec___traverse_rec___traverse_rec___traverse_rec___traverse_rec___traverse_rec___traverse_rec__theta_CM_U__Uniform__6\n",
      "  warnings.warn('Using prior. No proposal for address: {}'.format(current_address))\n",
      "/home/tt21642/dispyprob/pyprob/pyprob/nn/inference_network_lstm.py:107: UserWarning: Address of previous variable unknown by inference network: 256__forward___traverse___traverse_rec___traverse_rec___traverse_rec___traverse_rec___traverse_rec___traverse_rec___traverse_rec___traverse_rec___traverse_rec___traverse_rec___traverse_rec___traverse_rec___traverse_rec___traverse_rec___traverse_rec__theta_CM_U__Uniform__6\n",
      "  warnings.warn('Address of previous variable unknown by inference network: {}'.format(prev_address))\n",
      "/home/tt21642/dispyprob/pyprob/pyprob/nn/inference_network_lstm.py:116: UserWarning: Address of current variable unknown by inference network: 460__forward___traverse___traverse_rec___traverse_rec___traverse_rec___traverse_rec___traverse_rec___traverse_rec___traverse_rec___traverse_rec___traverse_rec___traverse_rec___traverse_rec___traverse_rec___traverse_rec___traverse_rec___traverse_rec__draw_decay_L__TruncatedExponential__6\n",
      "  warnings.warn('Address of current variable unknown by inference network: {}'.format(current_address))\n",
      "/home/tt21642/dispyprob/pyprob/pyprob/nn/inference_network_lstm.py:137: UserWarning: Using prior. No proposal for address: 460__forward___traverse___traverse_rec___traverse_rec___traverse_rec___traverse_rec___traverse_rec___traverse_rec___traverse_rec___traverse_rec___traverse_rec___traverse_rec___traverse_rec___traverse_rec___traverse_rec___traverse_rec___traverse_rec__draw_decay_L__TruncatedExponential__6\n",
      "  warnings.warn('Using prior. No proposal for address: {}'.format(current_address))\n",
      "/home/tt21642/dispyprob/pyprob/pyprob/nn/inference_network_lstm.py:107: UserWarning: Address of previous variable unknown by inference network: 460__forward___traverse___traverse_rec___traverse_rec___traverse_rec___traverse_rec___traverse_rec___traverse_rec___traverse_rec___traverse_rec___traverse_rec___traverse_rec___traverse_rec___traverse_rec___traverse_rec___traverse_rec___traverse_rec__draw_decay_L__TruncatedExponential__6\n",
      "  warnings.warn('Address of previous variable unknown by inference network: {}'.format(prev_address))\n",
      "/home/tt21642/dispyprob/pyprob/pyprob/nn/inference_network_lstm.py:116: UserWarning: Address of current variable unknown by inference network: 510__forward___traverse___traverse_rec___traverse_rec___traverse_rec___traverse_rec___traverse_rec___traverse_rec___traverse_rec___traverse_rec___traverse_rec___traverse_rec___traverse_rec___traverse_rec___traverse_rec___traverse_rec___traverse_rec__draw_decay_R__TruncatedExponential__6\n",
      "  warnings.warn('Address of current variable unknown by inference network: {}'.format(current_address))\n",
      "/home/tt21642/dispyprob/pyprob/pyprob/nn/inference_network_lstm.py:137: UserWarning: Using prior. No proposal for address: 510__forward___traverse___traverse_rec___traverse_rec___traverse_rec___traverse_rec___traverse_rec___traverse_rec___traverse_rec___traverse_rec___traverse_rec___traverse_rec___traverse_rec___traverse_rec___traverse_rec___traverse_rec___traverse_rec__draw_decay_R__TruncatedExponential__6\n",
      "  warnings.warn('Using prior. No proposal for address: {}'.format(current_address))\n",
      "/home/tt21642/dispyprob/pyprob/pyprob/nn/inference_network_lstm.py:107: UserWarning: Address of previous variable unknown by inference network: 510__forward___traverse___traverse_rec___traverse_rec___traverse_rec___traverse_rec___traverse_rec___traverse_rec___traverse_rec___traverse_rec___traverse_rec___traverse_rec___traverse_rec___traverse_rec___traverse_rec___traverse_rec___traverse_rec__draw_decay_R__TruncatedExponential__6\n",
      "  warnings.warn('Address of previous variable unknown by inference network: {}'.format(prev_address))\n",
      "/home/tt21642/dispyprob/pyprob/pyprob/nn/inference_network_lstm.py:116: UserWarning: Address of current variable unknown by inference network: 216__forward___traverse___traverse_rec___traverse_rec___traverse_rec___traverse_rec___traverse_rec___traverse_rec___traverse_rec___traverse_rec___traverse_rec___traverse_rec___traverse_rec___traverse_rec___traverse_rec___traverse_rec__phi_CM__Uniform__7\n",
      "  warnings.warn('Address of current variable unknown by inference network: {}'.format(current_address))\n",
      "/home/tt21642/dispyprob/pyprob/pyprob/nn/inference_network_lstm.py:137: UserWarning: Using prior. No proposal for address: 216__forward___traverse___traverse_rec___traverse_rec___traverse_rec___traverse_rec___traverse_rec___traverse_rec___traverse_rec___traverse_rec___traverse_rec___traverse_rec___traverse_rec___traverse_rec___traverse_rec___traverse_rec__phi_CM__Uniform__7\n",
      "  warnings.warn('Using prior. No proposal for address: {}'.format(current_address))\n",
      "/home/tt21642/dispyprob/pyprob/pyprob/nn/inference_network_lstm.py:107: UserWarning: Address of previous variable unknown by inference network: 216__forward___traverse___traverse_rec___traverse_rec___traverse_rec___traverse_rec___traverse_rec___traverse_rec___traverse_rec___traverse_rec___traverse_rec___traverse_rec___traverse_rec___traverse_rec___traverse_rec___traverse_rec__phi_CM__Uniform__7\n",
      "  warnings.warn('Address of previous variable unknown by inference network: {}'.format(prev_address))\n",
      "/home/tt21642/dispyprob/pyprob/pyprob/nn/inference_network_lstm.py:116: UserWarning: Address of current variable unknown by inference network: 256__forward___traverse___traverse_rec___traverse_rec___traverse_rec___traverse_rec___traverse_rec___traverse_rec___traverse_rec___traverse_rec___traverse_rec___traverse_rec___traverse_rec___traverse_rec___traverse_rec___traverse_rec__theta_CM_U__Uniform__7\n",
      "  warnings.warn('Address of current variable unknown by inference network: {}'.format(current_address))\n",
      "/home/tt21642/dispyprob/pyprob/pyprob/nn/inference_network_lstm.py:137: UserWarning: Using prior. No proposal for address: 256__forward___traverse___traverse_rec___traverse_rec___traverse_rec___traverse_rec___traverse_rec___traverse_rec___traverse_rec___traverse_rec___traverse_rec___traverse_rec___traverse_rec___traverse_rec___traverse_rec___traverse_rec__theta_CM_U__Uniform__7\n",
      "  warnings.warn('Using prior. No proposal for address: {}'.format(current_address))\n",
      "/home/tt21642/dispyprob/pyprob/pyprob/nn/inference_network_lstm.py:107: UserWarning: Address of previous variable unknown by inference network: 256__forward___traverse___traverse_rec___traverse_rec___traverse_rec___traverse_rec___traverse_rec___traverse_rec___traverse_rec___traverse_rec___traverse_rec___traverse_rec___traverse_rec___traverse_rec___traverse_rec___traverse_rec__theta_CM_U__Uniform__7\n",
      "  warnings.warn('Address of previous variable unknown by inference network: {}'.format(prev_address))\n",
      "/home/tt21642/dispyprob/pyprob/pyprob/nn/inference_network_lstm.py:116: UserWarning: Address of current variable unknown by inference network: 460__forward___traverse___traverse_rec___traverse_rec___traverse_rec___traverse_rec___traverse_rec___traverse_rec___traverse_rec___traverse_rec___traverse_rec___traverse_rec___traverse_rec___traverse_rec___traverse_rec___traverse_rec__draw_decay_L__TruncatedExponential__7\n",
      "  warnings.warn('Address of current variable unknown by inference network: {}'.format(current_address))\n",
      "/home/tt21642/dispyprob/pyprob/pyprob/nn/inference_network_lstm.py:137: UserWarning: Using prior. No proposal for address: 460__forward___traverse___traverse_rec___traverse_rec___traverse_rec___traverse_rec___traverse_rec___traverse_rec___traverse_rec___traverse_rec___traverse_rec___traverse_rec___traverse_rec___traverse_rec___traverse_rec___traverse_rec__draw_decay_L__TruncatedExponential__7\n",
      "  warnings.warn('Using prior. No proposal for address: {}'.format(current_address))\n",
      "/home/tt21642/dispyprob/pyprob/pyprob/nn/inference_network_lstm.py:107: UserWarning: Address of previous variable unknown by inference network: 460__forward___traverse___traverse_rec___traverse_rec___traverse_rec___traverse_rec___traverse_rec___traverse_rec___traverse_rec___traverse_rec___traverse_rec___traverse_rec___traverse_rec___traverse_rec___traverse_rec___traverse_rec__draw_decay_L__TruncatedExponential__7\n",
      "  warnings.warn('Address of previous variable unknown by inference network: {}'.format(prev_address))\n",
      "/home/tt21642/dispyprob/pyprob/pyprob/nn/inference_network_lstm.py:137: UserWarning: Using prior. No proposal for address: 216__forward___traverse___traverse_rec___traverse_rec___traverse_rec___traverse_rec___traverse_rec___traverse_rec___traverse_rec__phi_CM__Uniform__3\n",
      "  warnings.warn('Using prior. No proposal for address: {}'.format(current_address))\n",
      "/home/tt21642/dispyprob/pyprob/pyprob/nn/inference_network_lstm.py:116: UserWarning: Address of current variable unknown by inference network: 216__forward___traverse___traverse_rec___traverse_rec___traverse_rec___traverse_rec___traverse_rec___traverse_rec___traverse_rec___traverse_rec___traverse_rec___traverse_rec___traverse_rec___traverse_rec___traverse_rec__phi_CM__Uniform__11\n",
      "  warnings.warn('Address of current variable unknown by inference network: {}'.format(current_address))\n",
      "/home/tt21642/dispyprob/pyprob/pyprob/nn/inference_network_lstm.py:137: UserWarning: Using prior. No proposal for address: 216__forward___traverse___traverse_rec___traverse_rec___traverse_rec___traverse_rec___traverse_rec___traverse_rec___traverse_rec___traverse_rec___traverse_rec___traverse_rec___traverse_rec___traverse_rec___traverse_rec__phi_CM__Uniform__11\n",
      "  warnings.warn('Using prior. No proposal for address: {}'.format(current_address))\n",
      "/home/tt21642/dispyprob/pyprob/pyprob/nn/inference_network_lstm.py:107: UserWarning: Address of previous variable unknown by inference network: 216__forward___traverse___traverse_rec___traverse_rec___traverse_rec___traverse_rec___traverse_rec___traverse_rec___traverse_rec___traverse_rec___traverse_rec___traverse_rec___traverse_rec___traverse_rec___traverse_rec__phi_CM__Uniform__11\n",
      "  warnings.warn('Address of previous variable unknown by inference network: {}'.format(prev_address))\n",
      "/home/tt21642/dispyprob/pyprob/pyprob/nn/inference_network_lstm.py:116: UserWarning: Address of current variable unknown by inference network: 256__forward___traverse___traverse_rec___traverse_rec___traverse_rec___traverse_rec___traverse_rec___traverse_rec___traverse_rec___traverse_rec___traverse_rec___traverse_rec___traverse_rec___traverse_rec___traverse_rec__theta_CM_U__Uniform__11\n",
      "  warnings.warn('Address of current variable unknown by inference network: {}'.format(current_address))\n",
      "/home/tt21642/dispyprob/pyprob/pyprob/nn/inference_network_lstm.py:137: UserWarning: Using prior. No proposal for address: 256__forward___traverse___traverse_rec___traverse_rec___traverse_rec___traverse_rec___traverse_rec___traverse_rec___traverse_rec___traverse_rec___traverse_rec___traverse_rec___traverse_rec___traverse_rec___traverse_rec__theta_CM_U__Uniform__11\n",
      "  warnings.warn('Using prior. No proposal for address: {}'.format(current_address))\n",
      "/home/tt21642/dispyprob/pyprob/pyprob/nn/inference_network_lstm.py:107: UserWarning: Address of previous variable unknown by inference network: 256__forward___traverse___traverse_rec___traverse_rec___traverse_rec___traverse_rec___traverse_rec___traverse_rec___traverse_rec___traverse_rec___traverse_rec___traverse_rec___traverse_rec___traverse_rec___traverse_rec__theta_CM_U__Uniform__11\n",
      "  warnings.warn('Address of previous variable unknown by inference network: {}'.format(prev_address))\n",
      "/home/tt21642/dispyprob/pyprob/pyprob/nn/inference_network_lstm.py:116: UserWarning: Address of current variable unknown by inference network: 460__forward___traverse___traverse_rec___traverse_rec___traverse_rec___traverse_rec___traverse_rec___traverse_rec___traverse_rec___traverse_rec___traverse_rec___traverse_rec___traverse_rec___traverse_rec___traverse_rec__draw_decay_L__TruncatedExponential__11\n",
      "  warnings.warn('Address of current variable unknown by inference network: {}'.format(current_address))\n",
      "/home/tt21642/dispyprob/pyprob/pyprob/nn/inference_network_lstm.py:137: UserWarning: Using prior. No proposal for address: 460__forward___traverse___traverse_rec___traverse_rec___traverse_rec___traverse_rec___traverse_rec___traverse_rec___traverse_rec___traverse_rec___traverse_rec___traverse_rec___traverse_rec___traverse_rec___traverse_rec__draw_decay_L__TruncatedExponential__11\n",
      "  warnings.warn('Using prior. No proposal for address: {}'.format(current_address))\n",
      "/home/tt21642/dispyprob/pyprob/pyprob/nn/inference_network_lstm.py:107: UserWarning: Address of previous variable unknown by inference network: 460__forward___traverse___traverse_rec___traverse_rec___traverse_rec___traverse_rec___traverse_rec___traverse_rec___traverse_rec___traverse_rec___traverse_rec___traverse_rec___traverse_rec___traverse_rec___traverse_rec__draw_decay_L__TruncatedExponential__11\n",
      "  warnings.warn('Address of previous variable unknown by inference network: {}'.format(prev_address))\n",
      "/home/tt21642/dispyprob/pyprob/pyprob/nn/inference_network_lstm.py:116: UserWarning: Address of current variable unknown by inference network: 510__forward___traverse___traverse_rec___traverse_rec___traverse_rec___traverse_rec___traverse_rec___traverse_rec___traverse_rec___traverse_rec___traverse_rec___traverse_rec___traverse_rec___traverse_rec___traverse_rec__draw_decay_R__TruncatedExponential__11\n",
      "  warnings.warn('Address of current variable unknown by inference network: {}'.format(current_address))\n",
      "/home/tt21642/dispyprob/pyprob/pyprob/nn/inference_network_lstm.py:137: UserWarning: Using prior. No proposal for address: 510__forward___traverse___traverse_rec___traverse_rec___traverse_rec___traverse_rec___traverse_rec___traverse_rec___traverse_rec___traverse_rec___traverse_rec___traverse_rec___traverse_rec___traverse_rec___traverse_rec__draw_decay_R__TruncatedExponential__11\n",
      "  warnings.warn('Using prior. No proposal for address: {}'.format(current_address))\n",
      "/home/tt21642/dispyprob/pyprob/pyprob/nn/inference_network_lstm.py:107: UserWarning: Address of previous variable unknown by inference network: 510__forward___traverse___traverse_rec___traverse_rec___traverse_rec___traverse_rec___traverse_rec___traverse_rec___traverse_rec___traverse_rec___traverse_rec___traverse_rec___traverse_rec___traverse_rec___traverse_rec__draw_decay_R__TruncatedExponential__11\n",
      "  warnings.warn('Address of previous variable unknown by inference network: {}'.format(prev_address))\n",
      "/home/tt21642/dispyprob/pyprob/pyprob/nn/inference_network_lstm.py:116: UserWarning: Address of current variable unknown by inference network: 216__forward___traverse___traverse_rec___traverse_rec___traverse_rec___traverse_rec___traverse_rec___traverse_rec___traverse_rec___traverse_rec___traverse_rec___traverse_rec___traverse_rec___traverse_rec___traverse_rec___traverse_rec__phi_CM__Uniform__8\n",
      "  warnings.warn('Address of current variable unknown by inference network: {}'.format(current_address))\n",
      "/home/tt21642/dispyprob/pyprob/pyprob/nn/inference_network_lstm.py:137: UserWarning: Using prior. No proposal for address: 216__forward___traverse___traverse_rec___traverse_rec___traverse_rec___traverse_rec___traverse_rec___traverse_rec___traverse_rec___traverse_rec___traverse_rec___traverse_rec___traverse_rec___traverse_rec___traverse_rec___traverse_rec__phi_CM__Uniform__8\n",
      "  warnings.warn('Using prior. No proposal for address: {}'.format(current_address))\n",
      "/home/tt21642/dispyprob/pyprob/pyprob/nn/inference_network_lstm.py:107: UserWarning: Address of previous variable unknown by inference network: 216__forward___traverse___traverse_rec___traverse_rec___traverse_rec___traverse_rec___traverse_rec___traverse_rec___traverse_rec___traverse_rec___traverse_rec___traverse_rec___traverse_rec___traverse_rec___traverse_rec___traverse_rec__phi_CM__Uniform__8\n",
      "  warnings.warn('Address of previous variable unknown by inference network: {}'.format(prev_address))\n",
      "/home/tt21642/dispyprob/pyprob/pyprob/nn/inference_network_lstm.py:116: UserWarning: Address of current variable unknown by inference network: 256__forward___traverse___traverse_rec___traverse_rec___traverse_rec___traverse_rec___traverse_rec___traverse_rec___traverse_rec___traverse_rec___traverse_rec___traverse_rec___traverse_rec___traverse_rec___traverse_rec___traverse_rec__theta_CM_U__Uniform__8\n",
      "  warnings.warn('Address of current variable unknown by inference network: {}'.format(current_address))\n",
      "/home/tt21642/dispyprob/pyprob/pyprob/nn/inference_network_lstm.py:137: UserWarning: Using prior. No proposal for address: 256__forward___traverse___traverse_rec___traverse_rec___traverse_rec___traverse_rec___traverse_rec___traverse_rec___traverse_rec___traverse_rec___traverse_rec___traverse_rec___traverse_rec___traverse_rec___traverse_rec___traverse_rec__theta_CM_U__Uniform__8\n",
      "  warnings.warn('Using prior. No proposal for address: {}'.format(current_address))\n",
      "/home/tt21642/dispyprob/pyprob/pyprob/nn/inference_network_lstm.py:107: UserWarning: Address of previous variable unknown by inference network: 256__forward___traverse___traverse_rec___traverse_rec___traverse_rec___traverse_rec___traverse_rec___traverse_rec___traverse_rec___traverse_rec___traverse_rec___traverse_rec___traverse_rec___traverse_rec___traverse_rec___traverse_rec__theta_CM_U__Uniform__8\n",
      "  warnings.warn('Address of previous variable unknown by inference network: {}'.format(prev_address))\n",
      "/home/tt21642/dispyprob/pyprob/pyprob/nn/inference_network_lstm.py:116: UserWarning: Address of current variable unknown by inference network: 460__forward___traverse___traverse_rec___traverse_rec___traverse_rec___traverse_rec___traverse_rec___traverse_rec___traverse_rec___traverse_rec___traverse_rec___traverse_rec___traverse_rec___traverse_rec___traverse_rec___traverse_rec__draw_decay_L__TruncatedExponential__8\n",
      "  warnings.warn('Address of current variable unknown by inference network: {}'.format(current_address))\n",
      "/home/tt21642/dispyprob/pyprob/pyprob/nn/inference_network_lstm.py:137: UserWarning: Using prior. No proposal for address: 460__forward___traverse___traverse_rec___traverse_rec___traverse_rec___traverse_rec___traverse_rec___traverse_rec___traverse_rec___traverse_rec___traverse_rec___traverse_rec___traverse_rec___traverse_rec___traverse_rec___traverse_rec__draw_decay_L__TruncatedExponential__8\n",
      "  warnings.warn('Using prior. No proposal for address: {}'.format(current_address))\n",
      "/home/tt21642/dispyprob/pyprob/pyprob/nn/inference_network_lstm.py:107: UserWarning: Address of previous variable unknown by inference network: 460__forward___traverse___traverse_rec___traverse_rec___traverse_rec___traverse_rec___traverse_rec___traverse_rec___traverse_rec___traverse_rec___traverse_rec___traverse_rec___traverse_rec___traverse_rec___traverse_rec___traverse_rec__draw_decay_L__TruncatedExponential__8\n",
      "  warnings.warn('Address of previous variable unknown by inference network: {}'.format(prev_address))\n",
      "/home/tt21642/dispyprob/pyprob/pyprob/nn/inference_network_lstm.py:116: UserWarning: Address of current variable unknown by inference network: 510__forward___traverse___traverse_rec___traverse_rec___traverse_rec___traverse_rec___traverse_rec___traverse_rec___traverse_rec___traverse_rec___traverse_rec___traverse_rec___traverse_rec___traverse_rec___traverse_rec___traverse_rec__draw_decay_R__TruncatedExponential__8\n",
      "  warnings.warn('Address of current variable unknown by inference network: {}'.format(current_address))\n",
      "/home/tt21642/dispyprob/pyprob/pyprob/nn/inference_network_lstm.py:137: UserWarning: Using prior. No proposal for address: 510__forward___traverse___traverse_rec___traverse_rec___traverse_rec___traverse_rec___traverse_rec___traverse_rec___traverse_rec___traverse_rec___traverse_rec___traverse_rec___traverse_rec___traverse_rec___traverse_rec___traverse_rec__draw_decay_R__TruncatedExponential__8\n",
      "  warnings.warn('Using prior. No proposal for address: {}'.format(current_address))\n",
      "/home/tt21642/dispyprob/pyprob/pyprob/nn/inference_network_lstm.py:107: UserWarning: Address of previous variable unknown by inference network: 510__forward___traverse___traverse_rec___traverse_rec___traverse_rec___traverse_rec___traverse_rec___traverse_rec___traverse_rec___traverse_rec___traverse_rec___traverse_rec___traverse_rec___traverse_rec___traverse_rec___traverse_rec__draw_decay_R__TruncatedExponential__8\n",
      "  warnings.warn('Address of previous variable unknown by inference network: {}'.format(prev_address))\n"
     ]
    },
    {
     "name": "stdout",
     "output_type": "stream",
     "text": [
      "0d:02:51:48 | 0d:03:35:31 | #########----------- |  444/1000 |   6.42 | 0.04       \r"
     ]
    },
    {
     "name": "stderr",
     "output_type": "stream",
     "text": [
      "/home/tt21642/dispyprob/pyprob/pyprob/nn/inference_network_lstm.py:137: UserWarning: Using prior. No proposal for address: 216__forward___traverse___traverse_rec___traverse_rec___traverse_rec___traverse_rec___traverse_rec___traverse_rec___traverse_rec___traverse_rec___traverse_rec__phi_CM__Uniform__6\n",
      "  warnings.warn('Using prior. No proposal for address: {}'.format(current_address))\n"
     ]
    },
    {
     "name": "stdout",
     "output_type": "stream",
     "text": [
      "0d:02:56:30 | 0d:03:33:31 | #########----------- |  453/1000 |   6.42 | 0.04       \r"
     ]
    },
    {
     "name": "stderr",
     "output_type": "stream",
     "text": [
      "/home/tt21642/dispyprob/pyprob/pyprob/nn/inference_network_lstm.py:116: UserWarning: Address of current variable unknown by inference network: 216__forward___traverse___traverse_rec___traverse_rec___traverse_rec___traverse_rec___traverse_rec___traverse_rec___traverse_rec___traverse_rec___traverse_rec__phi_CM__Uniform__19\n",
      "  warnings.warn('Address of current variable unknown by inference network: {}'.format(current_address))\n",
      "/home/tt21642/dispyprob/pyprob/pyprob/nn/inference_network_lstm.py:137: UserWarning: Using prior. No proposal for address: 216__forward___traverse___traverse_rec___traverse_rec___traverse_rec___traverse_rec___traverse_rec___traverse_rec___traverse_rec___traverse_rec___traverse_rec__phi_CM__Uniform__19\n",
      "  warnings.warn('Using prior. No proposal for address: {}'.format(current_address))\n",
      "/home/tt21642/dispyprob/pyprob/pyprob/nn/inference_network_lstm.py:107: UserWarning: Address of previous variable unknown by inference network: 216__forward___traverse___traverse_rec___traverse_rec___traverse_rec___traverse_rec___traverse_rec___traverse_rec___traverse_rec___traverse_rec___traverse_rec__phi_CM__Uniform__19\n",
      "  warnings.warn('Address of previous variable unknown by inference network: {}'.format(prev_address))\n",
      "/home/tt21642/dispyprob/pyprob/pyprob/nn/inference_network_lstm.py:116: UserWarning: Address of current variable unknown by inference network: 256__forward___traverse___traverse_rec___traverse_rec___traverse_rec___traverse_rec___traverse_rec___traverse_rec___traverse_rec___traverse_rec___traverse_rec__theta_CM_U__Uniform__19\n",
      "  warnings.warn('Address of current variable unknown by inference network: {}'.format(current_address))\n",
      "/home/tt21642/dispyprob/pyprob/pyprob/nn/inference_network_lstm.py:137: UserWarning: Using prior. No proposal for address: 256__forward___traverse___traverse_rec___traverse_rec___traverse_rec___traverse_rec___traverse_rec___traverse_rec___traverse_rec___traverse_rec___traverse_rec__theta_CM_U__Uniform__19\n",
      "  warnings.warn('Using prior. No proposal for address: {}'.format(current_address))\n",
      "/home/tt21642/dispyprob/pyprob/pyprob/nn/inference_network_lstm.py:107: UserWarning: Address of previous variable unknown by inference network: 256__forward___traverse___traverse_rec___traverse_rec___traverse_rec___traverse_rec___traverse_rec___traverse_rec___traverse_rec___traverse_rec___traverse_rec__theta_CM_U__Uniform__19\n",
      "  warnings.warn('Address of previous variable unknown by inference network: {}'.format(prev_address))\n",
      "/home/tt21642/dispyprob/pyprob/pyprob/nn/inference_network_lstm.py:116: UserWarning: Address of current variable unknown by inference network: 460__forward___traverse___traverse_rec___traverse_rec___traverse_rec___traverse_rec___traverse_rec___traverse_rec___traverse_rec___traverse_rec___traverse_rec__draw_decay_L__TruncatedExponential__19\n",
      "  warnings.warn('Address of current variable unknown by inference network: {}'.format(current_address))\n",
      "/home/tt21642/dispyprob/pyprob/pyprob/nn/inference_network_lstm.py:137: UserWarning: Using prior. No proposal for address: 460__forward___traverse___traverse_rec___traverse_rec___traverse_rec___traverse_rec___traverse_rec___traverse_rec___traverse_rec___traverse_rec___traverse_rec__draw_decay_L__TruncatedExponential__19\n",
      "  warnings.warn('Using prior. No proposal for address: {}'.format(current_address))\n",
      "/home/tt21642/dispyprob/pyprob/pyprob/nn/inference_network_lstm.py:107: UserWarning: Address of previous variable unknown by inference network: 460__forward___traverse___traverse_rec___traverse_rec___traverse_rec___traverse_rec___traverse_rec___traverse_rec___traverse_rec___traverse_rec___traverse_rec__draw_decay_L__TruncatedExponential__19\n",
      "  warnings.warn('Address of previous variable unknown by inference network: {}'.format(prev_address))\n",
      "/home/tt21642/dispyprob/pyprob/pyprob/nn/inference_network_lstm.py:116: UserWarning: Address of current variable unknown by inference network: 510__forward___traverse___traverse_rec___traverse_rec___traverse_rec___traverse_rec___traverse_rec___traverse_rec___traverse_rec___traverse_rec___traverse_rec__draw_decay_R__TruncatedExponential__19\n",
      "  warnings.warn('Address of current variable unknown by inference network: {}'.format(current_address))\n",
      "/home/tt21642/dispyprob/pyprob/pyprob/nn/inference_network_lstm.py:137: UserWarning: Using prior. No proposal for address: 510__forward___traverse___traverse_rec___traverse_rec___traverse_rec___traverse_rec___traverse_rec___traverse_rec___traverse_rec___traverse_rec___traverse_rec__draw_decay_R__TruncatedExponential__19\n",
      "  warnings.warn('Using prior. No proposal for address: {}'.format(current_address))\n",
      "/home/tt21642/dispyprob/pyprob/pyprob/nn/inference_network_lstm.py:107: UserWarning: Address of previous variable unknown by inference network: 510__forward___traverse___traverse_rec___traverse_rec___traverse_rec___traverse_rec___traverse_rec___traverse_rec___traverse_rec___traverse_rec___traverse_rec__draw_decay_R__TruncatedExponential__19\n",
      "  warnings.warn('Address of previous variable unknown by inference network: {}'.format(prev_address))\n"
     ]
    },
    {
     "name": "stdout",
     "output_type": "stream",
     "text": [
      "0d:03:18:36 | 0d:03:18:12 | ##########---------- |  501/1000 |   7.40 | 0.04       \r"
     ]
    },
    {
     "name": "stderr",
     "output_type": "stream",
     "text": [
      "/home/tt21642/dispyprob/pyprob/pyprob/nn/inference_network_lstm.py:116: UserWarning: Address of current variable unknown by inference network: 216__forward___traverse___traverse_rec___traverse_rec___traverse_rec___traverse_rec___traverse_rec___traverse_rec___traverse_rec___traverse_rec__phi_CM__Uniform__18\n",
      "  warnings.warn('Address of current variable unknown by inference network: {}'.format(current_address))\n",
      "/home/tt21642/dispyprob/pyprob/pyprob/nn/inference_network_lstm.py:137: UserWarning: Using prior. No proposal for address: 216__forward___traverse___traverse_rec___traverse_rec___traverse_rec___traverse_rec___traverse_rec___traverse_rec___traverse_rec___traverse_rec__phi_CM__Uniform__18\n",
      "  warnings.warn('Using prior. No proposal for address: {}'.format(current_address))\n",
      "/home/tt21642/dispyprob/pyprob/pyprob/nn/inference_network_lstm.py:107: UserWarning: Address of previous variable unknown by inference network: 216__forward___traverse___traverse_rec___traverse_rec___traverse_rec___traverse_rec___traverse_rec___traverse_rec___traverse_rec___traverse_rec__phi_CM__Uniform__18\n",
      "  warnings.warn('Address of previous variable unknown by inference network: {}'.format(prev_address))\n",
      "/home/tt21642/dispyprob/pyprob/pyprob/nn/inference_network_lstm.py:116: UserWarning: Address of current variable unknown by inference network: 256__forward___traverse___traverse_rec___traverse_rec___traverse_rec___traverse_rec___traverse_rec___traverse_rec___traverse_rec___traverse_rec__theta_CM_U__Uniform__18\n",
      "  warnings.warn('Address of current variable unknown by inference network: {}'.format(current_address))\n",
      "/home/tt21642/dispyprob/pyprob/pyprob/nn/inference_network_lstm.py:137: UserWarning: Using prior. No proposal for address: 256__forward___traverse___traverse_rec___traverse_rec___traverse_rec___traverse_rec___traverse_rec___traverse_rec___traverse_rec___traverse_rec__theta_CM_U__Uniform__18\n",
      "  warnings.warn('Using prior. No proposal for address: {}'.format(current_address))\n",
      "/home/tt21642/dispyprob/pyprob/pyprob/nn/inference_network_lstm.py:107: UserWarning: Address of previous variable unknown by inference network: 256__forward___traverse___traverse_rec___traverse_rec___traverse_rec___traverse_rec___traverse_rec___traverse_rec___traverse_rec___traverse_rec__theta_CM_U__Uniform__18\n",
      "  warnings.warn('Address of previous variable unknown by inference network: {}'.format(prev_address))\n",
      "/home/tt21642/dispyprob/pyprob/pyprob/nn/inference_network_lstm.py:116: UserWarning: Address of current variable unknown by inference network: 460__forward___traverse___traverse_rec___traverse_rec___traverse_rec___traverse_rec___traverse_rec___traverse_rec___traverse_rec___traverse_rec__draw_decay_L__TruncatedExponential__18\n",
      "  warnings.warn('Address of current variable unknown by inference network: {}'.format(current_address))\n",
      "/home/tt21642/dispyprob/pyprob/pyprob/nn/inference_network_lstm.py:137: UserWarning: Using prior. No proposal for address: 460__forward___traverse___traverse_rec___traverse_rec___traverse_rec___traverse_rec___traverse_rec___traverse_rec___traverse_rec___traverse_rec__draw_decay_L__TruncatedExponential__18\n",
      "  warnings.warn('Using prior. No proposal for address: {}'.format(current_address))\n",
      "/home/tt21642/dispyprob/pyprob/pyprob/nn/inference_network_lstm.py:107: UserWarning: Address of previous variable unknown by inference network: 460__forward___traverse___traverse_rec___traverse_rec___traverse_rec___traverse_rec___traverse_rec___traverse_rec___traverse_rec___traverse_rec__draw_decay_L__TruncatedExponential__18\n",
      "  warnings.warn('Address of previous variable unknown by inference network: {}'.format(prev_address))\n",
      "/home/tt21642/dispyprob/pyprob/pyprob/nn/inference_network_lstm.py:116: UserWarning: Address of current variable unknown by inference network: 510__forward___traverse___traverse_rec___traverse_rec___traverse_rec___traverse_rec___traverse_rec___traverse_rec___traverse_rec___traverse_rec__draw_decay_R__TruncatedExponential__18\n",
      "  warnings.warn('Address of current variable unknown by inference network: {}'.format(current_address))\n",
      "/home/tt21642/dispyprob/pyprob/pyprob/nn/inference_network_lstm.py:137: UserWarning: Using prior. No proposal for address: 510__forward___traverse___traverse_rec___traverse_rec___traverse_rec___traverse_rec___traverse_rec___traverse_rec___traverse_rec___traverse_rec__draw_decay_R__TruncatedExponential__18\n",
      "  warnings.warn('Using prior. No proposal for address: {}'.format(current_address))\n",
      "/home/tt21642/dispyprob/pyprob/pyprob/nn/inference_network_lstm.py:107: UserWarning: Address of previous variable unknown by inference network: 510__forward___traverse___traverse_rec___traverse_rec___traverse_rec___traverse_rec___traverse_rec___traverse_rec___traverse_rec___traverse_rec__draw_decay_R__TruncatedExponential__18\n",
      "  warnings.warn('Address of previous variable unknown by inference network: {}'.format(prev_address))\n"
     ]
    },
    {
     "name": "stdout",
     "output_type": "stream",
     "text": [
      "0d:03:18:54 | 0d:03:17:43 | ##########---------- |  502/1000 |   7.41 | 0.04       \r"
     ]
    },
    {
     "name": "stderr",
     "output_type": "stream",
     "text": [
      "/home/tt21642/dispyprob/pyprob/pyprob/nn/inference_network_lstm.py:116: UserWarning: Address of current variable unknown by inference network: 216__forward___traverse___traverse_rec___traverse_rec___traverse_rec___traverse_rec___traverse_rec___traverse_rec___traverse_rec___traverse_rec__phi_CM__Uniform__19\n",
      "  warnings.warn('Address of current variable unknown by inference network: {}'.format(current_address))\n",
      "/home/tt21642/dispyprob/pyprob/pyprob/nn/inference_network_lstm.py:137: UserWarning: Using prior. No proposal for address: 216__forward___traverse___traverse_rec___traverse_rec___traverse_rec___traverse_rec___traverse_rec___traverse_rec___traverse_rec___traverse_rec__phi_CM__Uniform__19\n",
      "  warnings.warn('Using prior. No proposal for address: {}'.format(current_address))\n",
      "/home/tt21642/dispyprob/pyprob/pyprob/nn/inference_network_lstm.py:107: UserWarning: Address of previous variable unknown by inference network: 216__forward___traverse___traverse_rec___traverse_rec___traverse_rec___traverse_rec___traverse_rec___traverse_rec___traverse_rec___traverse_rec__phi_CM__Uniform__19\n",
      "  warnings.warn('Address of previous variable unknown by inference network: {}'.format(prev_address))\n",
      "/home/tt21642/dispyprob/pyprob/pyprob/nn/inference_network_lstm.py:116: UserWarning: Address of current variable unknown by inference network: 256__forward___traverse___traverse_rec___traverse_rec___traverse_rec___traverse_rec___traverse_rec___traverse_rec___traverse_rec___traverse_rec__theta_CM_U__Uniform__19\n",
      "  warnings.warn('Address of current variable unknown by inference network: {}'.format(current_address))\n",
      "/home/tt21642/dispyprob/pyprob/pyprob/nn/inference_network_lstm.py:137: UserWarning: Using prior. No proposal for address: 256__forward___traverse___traverse_rec___traverse_rec___traverse_rec___traverse_rec___traverse_rec___traverse_rec___traverse_rec___traverse_rec__theta_CM_U__Uniform__19\n",
      "  warnings.warn('Using prior. No proposal for address: {}'.format(current_address))\n",
      "/home/tt21642/dispyprob/pyprob/pyprob/nn/inference_network_lstm.py:107: UserWarning: Address of previous variable unknown by inference network: 256__forward___traverse___traverse_rec___traverse_rec___traverse_rec___traverse_rec___traverse_rec___traverse_rec___traverse_rec___traverse_rec__theta_CM_U__Uniform__19\n",
      "  warnings.warn('Address of previous variable unknown by inference network: {}'.format(prev_address))\n",
      "/home/tt21642/dispyprob/pyprob/pyprob/nn/inference_network_lstm.py:116: UserWarning: Address of current variable unknown by inference network: 460__forward___traverse___traverse_rec___traverse_rec___traverse_rec___traverse_rec___traverse_rec___traverse_rec___traverse_rec___traverse_rec__draw_decay_L__TruncatedExponential__19\n",
      "  warnings.warn('Address of current variable unknown by inference network: {}'.format(current_address))\n",
      "/home/tt21642/dispyprob/pyprob/pyprob/nn/inference_network_lstm.py:137: UserWarning: Using prior. No proposal for address: 460__forward___traverse___traverse_rec___traverse_rec___traverse_rec___traverse_rec___traverse_rec___traverse_rec___traverse_rec___traverse_rec__draw_decay_L__TruncatedExponential__19\n",
      "  warnings.warn('Using prior. No proposal for address: {}'.format(current_address))\n",
      "/home/tt21642/dispyprob/pyprob/pyprob/nn/inference_network_lstm.py:107: UserWarning: Address of previous variable unknown by inference network: 460__forward___traverse___traverse_rec___traverse_rec___traverse_rec___traverse_rec___traverse_rec___traverse_rec___traverse_rec___traverse_rec__draw_decay_L__TruncatedExponential__19\n",
      "  warnings.warn('Address of previous variable unknown by inference network: {}'.format(prev_address))\n",
      "/home/tt21642/dispyprob/pyprob/pyprob/nn/inference_network_lstm.py:116: UserWarning: Address of current variable unknown by inference network: 510__forward___traverse___traverse_rec___traverse_rec___traverse_rec___traverse_rec___traverse_rec___traverse_rec___traverse_rec___traverse_rec__draw_decay_R__TruncatedExponential__19\n",
      "  warnings.warn('Address of current variable unknown by inference network: {}'.format(current_address))\n",
      "/home/tt21642/dispyprob/pyprob/pyprob/nn/inference_network_lstm.py:137: UserWarning: Using prior. No proposal for address: 510__forward___traverse___traverse_rec___traverse_rec___traverse_rec___traverse_rec___traverse_rec___traverse_rec___traverse_rec___traverse_rec__draw_decay_R__TruncatedExponential__19\n",
      "  warnings.warn('Using prior. No proposal for address: {}'.format(current_address))\n"
     ]
    },
    {
     "name": "stdout",
     "output_type": "stream",
     "text": [
      "0d:03:36:58 | 0d:02:40:05 | ############-------- |  576/1000 |   8.74 | 0.04       \r"
     ]
    },
    {
     "name": "stderr",
     "output_type": "stream",
     "text": [
      "/home/tt21642/dispyprob/pyprob/pyprob/nn/inference_network_lstm.py:116: UserWarning: Address of current variable unknown by inference network: 216__forward___traverse___traverse_rec___traverse_rec___traverse_rec___traverse_rec___traverse_rec___traverse_rec___traverse_rec___traverse_rec___traverse_rec___traverse_rec___traverse_rec__phi_CM__Uniform__13\n",
      "  warnings.warn('Address of current variable unknown by inference network: {}'.format(current_address))\n",
      "/home/tt21642/dispyprob/pyprob/pyprob/nn/inference_network_lstm.py:137: UserWarning: Using prior. No proposal for address: 216__forward___traverse___traverse_rec___traverse_rec___traverse_rec___traverse_rec___traverse_rec___traverse_rec___traverse_rec___traverse_rec___traverse_rec___traverse_rec___traverse_rec__phi_CM__Uniform__13\n",
      "  warnings.warn('Using prior. No proposal for address: {}'.format(current_address))\n",
      "/home/tt21642/dispyprob/pyprob/pyprob/nn/inference_network_lstm.py:107: UserWarning: Address of previous variable unknown by inference network: 216__forward___traverse___traverse_rec___traverse_rec___traverse_rec___traverse_rec___traverse_rec___traverse_rec___traverse_rec___traverse_rec___traverse_rec___traverse_rec___traverse_rec__phi_CM__Uniform__13\n",
      "  warnings.warn('Address of previous variable unknown by inference network: {}'.format(prev_address))\n",
      "/home/tt21642/dispyprob/pyprob/pyprob/nn/inference_network_lstm.py:116: UserWarning: Address of current variable unknown by inference network: 256__forward___traverse___traverse_rec___traverse_rec___traverse_rec___traverse_rec___traverse_rec___traverse_rec___traverse_rec___traverse_rec___traverse_rec___traverse_rec___traverse_rec__theta_CM_U__Uniform__13\n",
      "  warnings.warn('Address of current variable unknown by inference network: {}'.format(current_address))\n",
      "/home/tt21642/dispyprob/pyprob/pyprob/nn/inference_network_lstm.py:137: UserWarning: Using prior. No proposal for address: 256__forward___traverse___traverse_rec___traverse_rec___traverse_rec___traverse_rec___traverse_rec___traverse_rec___traverse_rec___traverse_rec___traverse_rec___traverse_rec___traverse_rec__theta_CM_U__Uniform__13\n",
      "  warnings.warn('Using prior. No proposal for address: {}'.format(current_address))\n",
      "/home/tt21642/dispyprob/pyprob/pyprob/nn/inference_network_lstm.py:107: UserWarning: Address of previous variable unknown by inference network: 256__forward___traverse___traverse_rec___traverse_rec___traverse_rec___traverse_rec___traverse_rec___traverse_rec___traverse_rec___traverse_rec___traverse_rec___traverse_rec___traverse_rec__theta_CM_U__Uniform__13\n",
      "  warnings.warn('Address of previous variable unknown by inference network: {}'.format(prev_address))\n",
      "/home/tt21642/dispyprob/pyprob/pyprob/nn/inference_network_lstm.py:116: UserWarning: Address of current variable unknown by inference network: 460__forward___traverse___traverse_rec___traverse_rec___traverse_rec___traverse_rec___traverse_rec___traverse_rec___traverse_rec___traverse_rec___traverse_rec___traverse_rec___traverse_rec__draw_decay_L__TruncatedExponential__13\n",
      "  warnings.warn('Address of current variable unknown by inference network: {}'.format(current_address))\n",
      "/home/tt21642/dispyprob/pyprob/pyprob/nn/inference_network_lstm.py:137: UserWarning: Using prior. No proposal for address: 460__forward___traverse___traverse_rec___traverse_rec___traverse_rec___traverse_rec___traverse_rec___traverse_rec___traverse_rec___traverse_rec___traverse_rec___traverse_rec___traverse_rec__draw_decay_L__TruncatedExponential__13\n",
      "  warnings.warn('Using prior. No proposal for address: {}'.format(current_address))\n",
      "/home/tt21642/dispyprob/pyprob/pyprob/nn/inference_network_lstm.py:107: UserWarning: Address of previous variable unknown by inference network: 460__forward___traverse___traverse_rec___traverse_rec___traverse_rec___traverse_rec___traverse_rec___traverse_rec___traverse_rec___traverse_rec___traverse_rec___traverse_rec___traverse_rec__draw_decay_L__TruncatedExponential__13\n",
      "  warnings.warn('Address of previous variable unknown by inference network: {}'.format(prev_address))\n",
      "/home/tt21642/dispyprob/pyprob/pyprob/nn/inference_network_lstm.py:116: UserWarning: Address of current variable unknown by inference network: 510__forward___traverse___traverse_rec___traverse_rec___traverse_rec___traverse_rec___traverse_rec___traverse_rec___traverse_rec___traverse_rec___traverse_rec___traverse_rec___traverse_rec__draw_decay_R__TruncatedExponential__13\n",
      "  warnings.warn('Address of current variable unknown by inference network: {}'.format(current_address))\n",
      "/home/tt21642/dispyprob/pyprob/pyprob/nn/inference_network_lstm.py:137: UserWarning: Using prior. No proposal for address: 510__forward___traverse___traverse_rec___traverse_rec___traverse_rec___traverse_rec___traverse_rec___traverse_rec___traverse_rec___traverse_rec___traverse_rec___traverse_rec___traverse_rec__draw_decay_R__TruncatedExponential__13\n",
      "  warnings.warn('Using prior. No proposal for address: {}'.format(current_address))\n",
      "/home/tt21642/dispyprob/pyprob/pyprob/nn/inference_network_lstm.py:107: UserWarning: Address of previous variable unknown by inference network: 510__forward___traverse___traverse_rec___traverse_rec___traverse_rec___traverse_rec___traverse_rec___traverse_rec___traverse_rec___traverse_rec___traverse_rec___traverse_rec___traverse_rec__draw_decay_R__TruncatedExponential__13\n",
      "  warnings.warn('Address of previous variable unknown by inference network: {}'.format(prev_address))\n",
      "/home/tt21642/dispyprob/pyprob/pyprob/nn/inference_network_lstm.py:116: UserWarning: Address of current variable unknown by inference network: 216__forward___traverse___traverse_rec___traverse_rec___traverse_rec___traverse_rec___traverse_rec___traverse_rec___traverse_rec___traverse_rec___traverse_rec___traverse_rec___traverse_rec__phi_CM__Uniform__14\n",
      "  warnings.warn('Address of current variable unknown by inference network: {}'.format(current_address))\n",
      "/home/tt21642/dispyprob/pyprob/pyprob/nn/inference_network_lstm.py:137: UserWarning: Using prior. No proposal for address: 216__forward___traverse___traverse_rec___traverse_rec___traverse_rec___traverse_rec___traverse_rec___traverse_rec___traverse_rec___traverse_rec___traverse_rec___traverse_rec___traverse_rec__phi_CM__Uniform__14\n",
      "  warnings.warn('Using prior. No proposal for address: {}'.format(current_address))\n",
      "/home/tt21642/dispyprob/pyprob/pyprob/nn/inference_network_lstm.py:107: UserWarning: Address of previous variable unknown by inference network: 216__forward___traverse___traverse_rec___traverse_rec___traverse_rec___traverse_rec___traverse_rec___traverse_rec___traverse_rec___traverse_rec___traverse_rec___traverse_rec___traverse_rec__phi_CM__Uniform__14\n",
      "  warnings.warn('Address of previous variable unknown by inference network: {}'.format(prev_address))\n",
      "/home/tt21642/dispyprob/pyprob/pyprob/nn/inference_network_lstm.py:116: UserWarning: Address of current variable unknown by inference network: 256__forward___traverse___traverse_rec___traverse_rec___traverse_rec___traverse_rec___traverse_rec___traverse_rec___traverse_rec___traverse_rec___traverse_rec___traverse_rec___traverse_rec__theta_CM_U__Uniform__14\n",
      "  warnings.warn('Address of current variable unknown by inference network: {}'.format(current_address))\n",
      "/home/tt21642/dispyprob/pyprob/pyprob/nn/inference_network_lstm.py:137: UserWarning: Using prior. No proposal for address: 256__forward___traverse___traverse_rec___traverse_rec___traverse_rec___traverse_rec___traverse_rec___traverse_rec___traverse_rec___traverse_rec___traverse_rec___traverse_rec___traverse_rec__theta_CM_U__Uniform__14\n",
      "  warnings.warn('Using prior. No proposal for address: {}'.format(current_address))\n",
      "/home/tt21642/dispyprob/pyprob/pyprob/nn/inference_network_lstm.py:107: UserWarning: Address of previous variable unknown by inference network: 256__forward___traverse___traverse_rec___traverse_rec___traverse_rec___traverse_rec___traverse_rec___traverse_rec___traverse_rec___traverse_rec___traverse_rec___traverse_rec___traverse_rec__theta_CM_U__Uniform__14\n",
      "  warnings.warn('Address of previous variable unknown by inference network: {}'.format(prev_address))\n",
      "/home/tt21642/dispyprob/pyprob/pyprob/nn/inference_network_lstm.py:116: UserWarning: Address of current variable unknown by inference network: 460__forward___traverse___traverse_rec___traverse_rec___traverse_rec___traverse_rec___traverse_rec___traverse_rec___traverse_rec___traverse_rec___traverse_rec___traverse_rec___traverse_rec__draw_decay_L__TruncatedExponential__14\n",
      "  warnings.warn('Address of current variable unknown by inference network: {}'.format(current_address))\n",
      "/home/tt21642/dispyprob/pyprob/pyprob/nn/inference_network_lstm.py:137: UserWarning: Using prior. No proposal for address: 460__forward___traverse___traverse_rec___traverse_rec___traverse_rec___traverse_rec___traverse_rec___traverse_rec___traverse_rec___traverse_rec___traverse_rec___traverse_rec___traverse_rec__draw_decay_L__TruncatedExponential__14\n",
      "  warnings.warn('Using prior. No proposal for address: {}'.format(current_address))\n",
      "/home/tt21642/dispyprob/pyprob/pyprob/nn/inference_network_lstm.py:107: UserWarning: Address of previous variable unknown by inference network: 460__forward___traverse___traverse_rec___traverse_rec___traverse_rec___traverse_rec___traverse_rec___traverse_rec___traverse_rec___traverse_rec___traverse_rec___traverse_rec___traverse_rec__draw_decay_L__TruncatedExponential__14\n",
      "  warnings.warn('Address of previous variable unknown by inference network: {}'.format(prev_address))\n",
      "/home/tt21642/dispyprob/pyprob/pyprob/nn/inference_network_lstm.py:116: UserWarning: Address of current variable unknown by inference network: 510__forward___traverse___traverse_rec___traverse_rec___traverse_rec___traverse_rec___traverse_rec___traverse_rec___traverse_rec___traverse_rec___traverse_rec___traverse_rec___traverse_rec__draw_decay_R__TruncatedExponential__14\n",
      "  warnings.warn('Address of current variable unknown by inference network: {}'.format(current_address))\n",
      "/home/tt21642/dispyprob/pyprob/pyprob/nn/inference_network_lstm.py:137: UserWarning: Using prior. No proposal for address: 510__forward___traverse___traverse_rec___traverse_rec___traverse_rec___traverse_rec___traverse_rec___traverse_rec___traverse_rec___traverse_rec___traverse_rec___traverse_rec___traverse_rec__draw_decay_R__TruncatedExponential__14\n",
      "  warnings.warn('Using prior. No proposal for address: {}'.format(current_address))\n",
      "/home/tt21642/dispyprob/pyprob/pyprob/nn/inference_network_lstm.py:107: UserWarning: Address of previous variable unknown by inference network: 510__forward___traverse___traverse_rec___traverse_rec___traverse_rec___traverse_rec___traverse_rec___traverse_rec___traverse_rec___traverse_rec___traverse_rec___traverse_rec___traverse_rec__draw_decay_R__TruncatedExponential__14\n",
      "  warnings.warn('Address of previous variable unknown by inference network: {}'.format(prev_address))\n"
     ]
    },
    {
     "name": "stdout",
     "output_type": "stream",
     "text": [
      "0d:03:58:40 | 0d:01:49:05 | ##############------ |  687/1000 |  10.02 | 0.05       \r"
     ]
    },
    {
     "name": "stderr",
     "output_type": "stream",
     "text": [
      "/home/tt21642/dispyprob/pyprob/pyprob/nn/inference_network_lstm.py:116: UserWarning: Address of current variable unknown by inference network: 216__forward___traverse___traverse_rec___traverse_rec___traverse_rec___traverse_rec___traverse_rec___traverse_rec___traverse_rec___traverse_rec___traverse_rec___traverse_rec___traverse_rec___traverse_rec___traverse_rec___traverse_rec___traverse_rec__phi_CM__Uniform__7\n",
      "  warnings.warn('Address of current variable unknown by inference network: {}'.format(current_address))\n",
      "/home/tt21642/dispyprob/pyprob/pyprob/nn/inference_network_lstm.py:137: UserWarning: Using prior. No proposal for address: 216__forward___traverse___traverse_rec___traverse_rec___traverse_rec___traverse_rec___traverse_rec___traverse_rec___traverse_rec___traverse_rec___traverse_rec___traverse_rec___traverse_rec___traverse_rec___traverse_rec___traverse_rec___traverse_rec__phi_CM__Uniform__7\n",
      "  warnings.warn('Using prior. No proposal for address: {}'.format(current_address))\n",
      "/home/tt21642/dispyprob/pyprob/pyprob/nn/inference_network_lstm.py:107: UserWarning: Address of previous variable unknown by inference network: 216__forward___traverse___traverse_rec___traverse_rec___traverse_rec___traverse_rec___traverse_rec___traverse_rec___traverse_rec___traverse_rec___traverse_rec___traverse_rec___traverse_rec___traverse_rec___traverse_rec___traverse_rec___traverse_rec__phi_CM__Uniform__7\n",
      "  warnings.warn('Address of previous variable unknown by inference network: {}'.format(prev_address))\n",
      "/home/tt21642/dispyprob/pyprob/pyprob/nn/inference_network_lstm.py:116: UserWarning: Address of current variable unknown by inference network: 256__forward___traverse___traverse_rec___traverse_rec___traverse_rec___traverse_rec___traverse_rec___traverse_rec___traverse_rec___traverse_rec___traverse_rec___traverse_rec___traverse_rec___traverse_rec___traverse_rec___traverse_rec___traverse_rec__theta_CM_U__Uniform__7\n",
      "  warnings.warn('Address of current variable unknown by inference network: {}'.format(current_address))\n",
      "/home/tt21642/dispyprob/pyprob/pyprob/nn/inference_network_lstm.py:137: UserWarning: Using prior. No proposal for address: 256__forward___traverse___traverse_rec___traverse_rec___traverse_rec___traverse_rec___traverse_rec___traverse_rec___traverse_rec___traverse_rec___traverse_rec___traverse_rec___traverse_rec___traverse_rec___traverse_rec___traverse_rec___traverse_rec__theta_CM_U__Uniform__7\n",
      "  warnings.warn('Using prior. No proposal for address: {}'.format(current_address))\n",
      "/home/tt21642/dispyprob/pyprob/pyprob/nn/inference_network_lstm.py:107: UserWarning: Address of previous variable unknown by inference network: 256__forward___traverse___traverse_rec___traverse_rec___traverse_rec___traverse_rec___traverse_rec___traverse_rec___traverse_rec___traverse_rec___traverse_rec___traverse_rec___traverse_rec___traverse_rec___traverse_rec___traverse_rec___traverse_rec__theta_CM_U__Uniform__7\n",
      "  warnings.warn('Address of previous variable unknown by inference network: {}'.format(prev_address))\n",
      "/home/tt21642/dispyprob/pyprob/pyprob/nn/inference_network_lstm.py:116: UserWarning: Address of current variable unknown by inference network: 460__forward___traverse___traverse_rec___traverse_rec___traverse_rec___traverse_rec___traverse_rec___traverse_rec___traverse_rec___traverse_rec___traverse_rec___traverse_rec___traverse_rec___traverse_rec___traverse_rec___traverse_rec___traverse_rec__draw_decay_L__TruncatedExponential__7\n",
      "  warnings.warn('Address of current variable unknown by inference network: {}'.format(current_address))\n",
      "/home/tt21642/dispyprob/pyprob/pyprob/nn/inference_network_lstm.py:137: UserWarning: Using prior. No proposal for address: 460__forward___traverse___traverse_rec___traverse_rec___traverse_rec___traverse_rec___traverse_rec___traverse_rec___traverse_rec___traverse_rec___traverse_rec___traverse_rec___traverse_rec___traverse_rec___traverse_rec___traverse_rec___traverse_rec__draw_decay_L__TruncatedExponential__7\n",
      "  warnings.warn('Using prior. No proposal for address: {}'.format(current_address))\n",
      "/home/tt21642/dispyprob/pyprob/pyprob/nn/inference_network_lstm.py:107: UserWarning: Address of previous variable unknown by inference network: 460__forward___traverse___traverse_rec___traverse_rec___traverse_rec___traverse_rec___traverse_rec___traverse_rec___traverse_rec___traverse_rec___traverse_rec___traverse_rec___traverse_rec___traverse_rec___traverse_rec___traverse_rec___traverse_rec__draw_decay_L__TruncatedExponential__7\n",
      "  warnings.warn('Address of previous variable unknown by inference network: {}'.format(prev_address))\n",
      "/home/tt21642/dispyprob/pyprob/pyprob/nn/inference_network_lstm.py:116: UserWarning: Address of current variable unknown by inference network: 510__forward___traverse___traverse_rec___traverse_rec___traverse_rec___traverse_rec___traverse_rec___traverse_rec___traverse_rec___traverse_rec___traverse_rec___traverse_rec___traverse_rec___traverse_rec___traverse_rec___traverse_rec___traverse_rec__draw_decay_R__TruncatedExponential__7\n",
      "  warnings.warn('Address of current variable unknown by inference network: {}'.format(current_address))\n",
      "/home/tt21642/dispyprob/pyprob/pyprob/nn/inference_network_lstm.py:137: UserWarning: Using prior. No proposal for address: 510__forward___traverse___traverse_rec___traverse_rec___traverse_rec___traverse_rec___traverse_rec___traverse_rec___traverse_rec___traverse_rec___traverse_rec___traverse_rec___traverse_rec___traverse_rec___traverse_rec___traverse_rec___traverse_rec__draw_decay_R__TruncatedExponential__7\n",
      "  warnings.warn('Using prior. No proposal for address: {}'.format(current_address))\n",
      "/home/tt21642/dispyprob/pyprob/pyprob/nn/inference_network_lstm.py:107: UserWarning: Address of previous variable unknown by inference network: 510__forward___traverse___traverse_rec___traverse_rec___traverse_rec___traverse_rec___traverse_rec___traverse_rec___traverse_rec___traverse_rec___traverse_rec___traverse_rec___traverse_rec___traverse_rec___traverse_rec___traverse_rec___traverse_rec__draw_decay_R__TruncatedExponential__7\n",
      "  warnings.warn('Address of previous variable unknown by inference network: {}'.format(prev_address))\n"
     ]
    },
    {
     "name": "stdout",
     "output_type": "stream",
     "text": [
      "0d:04:39:13 | 0d:00:40:12 | ##################-- |  875/1000 |  10.80 | 0.05       \r"
     ]
    },
    {
     "name": "stderr",
     "output_type": "stream",
     "text": [
      "/home/tt21642/dispyprob/pyprob/pyprob/nn/inference_network_lstm.py:116: UserWarning: Address of current variable unknown by inference network: 216__forward___traverse___traverse_rec___traverse_rec___traverse_rec___traverse_rec___traverse_rec___traverse_rec___traverse_rec___traverse_rec___traverse_rec___traverse_rec___traverse_rec___traverse_rec___traverse_rec___traverse_rec___traverse_rec___traverse_rec___traverse_rec__phi_CM__Uniform__4\n",
      "  warnings.warn('Address of current variable unknown by inference network: {}'.format(current_address))\n",
      "/home/tt21642/dispyprob/pyprob/pyprob/nn/inference_network_lstm.py:137: UserWarning: Using prior. No proposal for address: 216__forward___traverse___traverse_rec___traverse_rec___traverse_rec___traverse_rec___traverse_rec___traverse_rec___traverse_rec___traverse_rec___traverse_rec___traverse_rec___traverse_rec___traverse_rec___traverse_rec___traverse_rec___traverse_rec___traverse_rec___traverse_rec__phi_CM__Uniform__4\n",
      "  warnings.warn('Using prior. No proposal for address: {}'.format(current_address))\n",
      "/home/tt21642/dispyprob/pyprob/pyprob/nn/inference_network_lstm.py:107: UserWarning: Address of previous variable unknown by inference network: 216__forward___traverse___traverse_rec___traverse_rec___traverse_rec___traverse_rec___traverse_rec___traverse_rec___traverse_rec___traverse_rec___traverse_rec___traverse_rec___traverse_rec___traverse_rec___traverse_rec___traverse_rec___traverse_rec___traverse_rec___traverse_rec__phi_CM__Uniform__4\n",
      "  warnings.warn('Address of previous variable unknown by inference network: {}'.format(prev_address))\n",
      "/home/tt21642/dispyprob/pyprob/pyprob/nn/inference_network_lstm.py:116: UserWarning: Address of current variable unknown by inference network: 256__forward___traverse___traverse_rec___traverse_rec___traverse_rec___traverse_rec___traverse_rec___traverse_rec___traverse_rec___traverse_rec___traverse_rec___traverse_rec___traverse_rec___traverse_rec___traverse_rec___traverse_rec___traverse_rec___traverse_rec___traverse_rec__theta_CM_U__Uniform__4\n",
      "  warnings.warn('Address of current variable unknown by inference network: {}'.format(current_address))\n",
      "/home/tt21642/dispyprob/pyprob/pyprob/nn/inference_network_lstm.py:137: UserWarning: Using prior. No proposal for address: 256__forward___traverse___traverse_rec___traverse_rec___traverse_rec___traverse_rec___traverse_rec___traverse_rec___traverse_rec___traverse_rec___traverse_rec___traverse_rec___traverse_rec___traverse_rec___traverse_rec___traverse_rec___traverse_rec___traverse_rec___traverse_rec__theta_CM_U__Uniform__4\n",
      "  warnings.warn('Using prior. No proposal for address: {}'.format(current_address))\n",
      "/home/tt21642/dispyprob/pyprob/pyprob/nn/inference_network_lstm.py:107: UserWarning: Address of previous variable unknown by inference network: 256__forward___traverse___traverse_rec___traverse_rec___traverse_rec___traverse_rec___traverse_rec___traverse_rec___traverse_rec___traverse_rec___traverse_rec___traverse_rec___traverse_rec___traverse_rec___traverse_rec___traverse_rec___traverse_rec___traverse_rec___traverse_rec__theta_CM_U__Uniform__4\n",
      "  warnings.warn('Address of previous variable unknown by inference network: {}'.format(prev_address))\n",
      "/home/tt21642/dispyprob/pyprob/pyprob/nn/inference_network_lstm.py:116: UserWarning: Address of current variable unknown by inference network: 460__forward___traverse___traverse_rec___traverse_rec___traverse_rec___traverse_rec___traverse_rec___traverse_rec___traverse_rec___traverse_rec___traverse_rec___traverse_rec___traverse_rec___traverse_rec___traverse_rec___traverse_rec___traverse_rec___traverse_rec___traverse_rec__draw_decay_L__TruncatedExponential__4\n",
      "  warnings.warn('Address of current variable unknown by inference network: {}'.format(current_address))\n",
      "/home/tt21642/dispyprob/pyprob/pyprob/nn/inference_network_lstm.py:137: UserWarning: Using prior. No proposal for address: 460__forward___traverse___traverse_rec___traverse_rec___traverse_rec___traverse_rec___traverse_rec___traverse_rec___traverse_rec___traverse_rec___traverse_rec___traverse_rec___traverse_rec___traverse_rec___traverse_rec___traverse_rec___traverse_rec___traverse_rec___traverse_rec__draw_decay_L__TruncatedExponential__4\n",
      "  warnings.warn('Using prior. No proposal for address: {}'.format(current_address))\n",
      "/home/tt21642/dispyprob/pyprob/pyprob/nn/inference_network_lstm.py:107: UserWarning: Address of previous variable unknown by inference network: 460__forward___traverse___traverse_rec___traverse_rec___traverse_rec___traverse_rec___traverse_rec___traverse_rec___traverse_rec___traverse_rec___traverse_rec___traverse_rec___traverse_rec___traverse_rec___traverse_rec___traverse_rec___traverse_rec___traverse_rec___traverse_rec__draw_decay_L__TruncatedExponential__4\n",
      "  warnings.warn('Address of previous variable unknown by inference network: {}'.format(prev_address))\n",
      "/home/tt21642/dispyprob/pyprob/pyprob/nn/inference_network_lstm.py:116: UserWarning: Address of current variable unknown by inference network: 510__forward___traverse___traverse_rec___traverse_rec___traverse_rec___traverse_rec___traverse_rec___traverse_rec___traverse_rec___traverse_rec___traverse_rec___traverse_rec___traverse_rec___traverse_rec___traverse_rec___traverse_rec___traverse_rec___traverse_rec___traverse_rec__draw_decay_R__TruncatedExponential__4\n",
      "  warnings.warn('Address of current variable unknown by inference network: {}'.format(current_address))\n",
      "/home/tt21642/dispyprob/pyprob/pyprob/nn/inference_network_lstm.py:137: UserWarning: Using prior. No proposal for address: 510__forward___traverse___traverse_rec___traverse_rec___traverse_rec___traverse_rec___traverse_rec___traverse_rec___traverse_rec___traverse_rec___traverse_rec___traverse_rec___traverse_rec___traverse_rec___traverse_rec___traverse_rec___traverse_rec___traverse_rec___traverse_rec__draw_decay_R__TruncatedExponential__4\n",
      "  warnings.warn('Using prior. No proposal for address: {}'.format(current_address))\n",
      "/home/tt21642/dispyprob/pyprob/pyprob/nn/inference_network_lstm.py:107: UserWarning: Address of previous variable unknown by inference network: 510__forward___traverse___traverse_rec___traverse_rec___traverse_rec___traverse_rec___traverse_rec___traverse_rec___traverse_rec___traverse_rec___traverse_rec___traverse_rec___traverse_rec___traverse_rec___traverse_rec___traverse_rec___traverse_rec___traverse_rec___traverse_rec__draw_decay_R__TruncatedExponential__4\n",
      "  warnings.warn('Address of previous variable unknown by inference network: {}'.format(prev_address))\n"
     ]
    },
    {
     "name": "stdout",
     "output_type": "stream",
     "text": [
      "0d:05:00:06 | 0d:00:23:15 | ###################- |  929/1000 |  11.43 | 0.05       \r"
     ]
    },
    {
     "name": "stderr",
     "output_type": "stream",
     "text": [
      "/home/tt21642/dispyprob/pyprob/pyprob/nn/inference_network_lstm.py:137: UserWarning: Using prior. No proposal for address: 216__forward___traverse___traverse_rec___traverse_rec___traverse_rec___traverse_rec___traverse_rec___traverse_rec___traverse_rec___traverse_rec___traverse_rec___traverse_rec___traverse_rec___traverse_rec___traverse_rec___traverse_rec___traverse_rec___traverse_rec__phi_CM__Uniform__1\n",
      "  warnings.warn('Using prior. No proposal for address: {}'.format(current_address))\n",
      "/home/tt21642/dispyprob/pyprob/pyprob/nn/inference_network_lstm.py:116: UserWarning: Address of current variable unknown by inference network: 216__forward___traverse___traverse_rec___traverse_rec___traverse_rec___traverse_rec___traverse_rec___traverse_rec___traverse_rec___traverse_rec___traverse_rec___traverse_rec___traverse_rec___traverse_rec___traverse_rec___traverse_rec__phi_CM__Uniform__9\n",
      "  warnings.warn('Address of current variable unknown by inference network: {}'.format(current_address))\n",
      "/home/tt21642/dispyprob/pyprob/pyprob/nn/inference_network_lstm.py:137: UserWarning: Using prior. No proposal for address: 216__forward___traverse___traverse_rec___traverse_rec___traverse_rec___traverse_rec___traverse_rec___traverse_rec___traverse_rec___traverse_rec___traverse_rec___traverse_rec___traverse_rec___traverse_rec___traverse_rec___traverse_rec__phi_CM__Uniform__9\n",
      "  warnings.warn('Using prior. No proposal for address: {}'.format(current_address))\n",
      "/home/tt21642/dispyprob/pyprob/pyprob/nn/inference_network_lstm.py:107: UserWarning: Address of previous variable unknown by inference network: 216__forward___traverse___traverse_rec___traverse_rec___traverse_rec___traverse_rec___traverse_rec___traverse_rec___traverse_rec___traverse_rec___traverse_rec___traverse_rec___traverse_rec___traverse_rec___traverse_rec___traverse_rec__phi_CM__Uniform__9\n",
      "  warnings.warn('Address of previous variable unknown by inference network: {}'.format(prev_address))\n",
      "/home/tt21642/dispyprob/pyprob/pyprob/nn/inference_network_lstm.py:116: UserWarning: Address of current variable unknown by inference network: 256__forward___traverse___traverse_rec___traverse_rec___traverse_rec___traverse_rec___traverse_rec___traverse_rec___traverse_rec___traverse_rec___traverse_rec___traverse_rec___traverse_rec___traverse_rec___traverse_rec___traverse_rec__theta_CM_U__Uniform__9\n",
      "  warnings.warn('Address of current variable unknown by inference network: {}'.format(current_address))\n",
      "/home/tt21642/dispyprob/pyprob/pyprob/nn/inference_network_lstm.py:137: UserWarning: Using prior. No proposal for address: 256__forward___traverse___traverse_rec___traverse_rec___traverse_rec___traverse_rec___traverse_rec___traverse_rec___traverse_rec___traverse_rec___traverse_rec___traverse_rec___traverse_rec___traverse_rec___traverse_rec___traverse_rec__theta_CM_U__Uniform__9\n",
      "  warnings.warn('Using prior. No proposal for address: {}'.format(current_address))\n",
      "/home/tt21642/dispyprob/pyprob/pyprob/nn/inference_network_lstm.py:107: UserWarning: Address of previous variable unknown by inference network: 256__forward___traverse___traverse_rec___traverse_rec___traverse_rec___traverse_rec___traverse_rec___traverse_rec___traverse_rec___traverse_rec___traverse_rec___traverse_rec___traverse_rec___traverse_rec___traverse_rec___traverse_rec__theta_CM_U__Uniform__9\n",
      "  warnings.warn('Address of previous variable unknown by inference network: {}'.format(prev_address))\n",
      "/home/tt21642/dispyprob/pyprob/pyprob/nn/inference_network_lstm.py:116: UserWarning: Address of current variable unknown by inference network: 460__forward___traverse___traverse_rec___traverse_rec___traverse_rec___traverse_rec___traverse_rec___traverse_rec___traverse_rec___traverse_rec___traverse_rec___traverse_rec___traverse_rec___traverse_rec___traverse_rec___traverse_rec__draw_decay_L__TruncatedExponential__9\n",
      "  warnings.warn('Address of current variable unknown by inference network: {}'.format(current_address))\n",
      "/home/tt21642/dispyprob/pyprob/pyprob/nn/inference_network_lstm.py:137: UserWarning: Using prior. No proposal for address: 460__forward___traverse___traverse_rec___traverse_rec___traverse_rec___traverse_rec___traverse_rec___traverse_rec___traverse_rec___traverse_rec___traverse_rec___traverse_rec___traverse_rec___traverse_rec___traverse_rec___traverse_rec__draw_decay_L__TruncatedExponential__9\n",
      "  warnings.warn('Using prior. No proposal for address: {}'.format(current_address))\n",
      "/home/tt21642/dispyprob/pyprob/pyprob/nn/inference_network_lstm.py:107: UserWarning: Address of previous variable unknown by inference network: 460__forward___traverse___traverse_rec___traverse_rec___traverse_rec___traverse_rec___traverse_rec___traverse_rec___traverse_rec___traverse_rec___traverse_rec___traverse_rec___traverse_rec___traverse_rec___traverse_rec___traverse_rec__draw_decay_L__TruncatedExponential__9\n",
      "  warnings.warn('Address of previous variable unknown by inference network: {}'.format(prev_address))\n",
      "/home/tt21642/dispyprob/pyprob/pyprob/nn/inference_network_lstm.py:116: UserWarning: Address of current variable unknown by inference network: 510__forward___traverse___traverse_rec___traverse_rec___traverse_rec___traverse_rec___traverse_rec___traverse_rec___traverse_rec___traverse_rec___traverse_rec___traverse_rec___traverse_rec___traverse_rec___traverse_rec___traverse_rec__draw_decay_R__TruncatedExponential__9\n",
      "  warnings.warn('Address of current variable unknown by inference network: {}'.format(current_address))\n",
      "/home/tt21642/dispyprob/pyprob/pyprob/nn/inference_network_lstm.py:137: UserWarning: Using prior. No proposal for address: 510__forward___traverse___traverse_rec___traverse_rec___traverse_rec___traverse_rec___traverse_rec___traverse_rec___traverse_rec___traverse_rec___traverse_rec___traverse_rec___traverse_rec___traverse_rec___traverse_rec___traverse_rec__draw_decay_R__TruncatedExponential__9\n",
      "  warnings.warn('Using prior. No proposal for address: {}'.format(current_address))\n",
      "/home/tt21642/dispyprob/pyprob/pyprob/nn/inference_network_lstm.py:107: UserWarning: Address of previous variable unknown by inference network: 510__forward___traverse___traverse_rec___traverse_rec___traverse_rec___traverse_rec___traverse_rec___traverse_rec___traverse_rec___traverse_rec___traverse_rec___traverse_rec___traverse_rec___traverse_rec___traverse_rec___traverse_rec__draw_decay_R__TruncatedExponential__9\n",
      "  warnings.warn('Address of previous variable unknown by inference network: {}'.format(prev_address))\n",
      "/home/tt21642/dispyprob/pyprob/pyprob/nn/inference_network_lstm.py:116: UserWarning: Address of current variable unknown by inference network: 216__forward___traverse___traverse_rec___traverse_rec___traverse_rec___traverse_rec___traverse_rec___traverse_rec___traverse_rec___traverse_rec___traverse_rec___traverse_rec___traverse_rec___traverse_rec___traverse_rec___traverse_rec__phi_CM__Uniform__10\n",
      "  warnings.warn('Address of current variable unknown by inference network: {}'.format(current_address))\n",
      "/home/tt21642/dispyprob/pyprob/pyprob/nn/inference_network_lstm.py:137: UserWarning: Using prior. No proposal for address: 216__forward___traverse___traverse_rec___traverse_rec___traverse_rec___traverse_rec___traverse_rec___traverse_rec___traverse_rec___traverse_rec___traverse_rec___traverse_rec___traverse_rec___traverse_rec___traverse_rec___traverse_rec__phi_CM__Uniform__10\n",
      "  warnings.warn('Using prior. No proposal for address: {}'.format(current_address))\n",
      "/home/tt21642/dispyprob/pyprob/pyprob/nn/inference_network_lstm.py:107: UserWarning: Address of previous variable unknown by inference network: 216__forward___traverse___traverse_rec___traverse_rec___traverse_rec___traverse_rec___traverse_rec___traverse_rec___traverse_rec___traverse_rec___traverse_rec___traverse_rec___traverse_rec___traverse_rec___traverse_rec___traverse_rec__phi_CM__Uniform__10\n",
      "  warnings.warn('Address of previous variable unknown by inference network: {}'.format(prev_address))\n",
      "/home/tt21642/dispyprob/pyprob/pyprob/nn/inference_network_lstm.py:116: UserWarning: Address of current variable unknown by inference network: 256__forward___traverse___traverse_rec___traverse_rec___traverse_rec___traverse_rec___traverse_rec___traverse_rec___traverse_rec___traverse_rec___traverse_rec___traverse_rec___traverse_rec___traverse_rec___traverse_rec___traverse_rec__theta_CM_U__Uniform__10\n",
      "  warnings.warn('Address of current variable unknown by inference network: {}'.format(current_address))\n",
      "/home/tt21642/dispyprob/pyprob/pyprob/nn/inference_network_lstm.py:137: UserWarning: Using prior. No proposal for address: 256__forward___traverse___traverse_rec___traverse_rec___traverse_rec___traverse_rec___traverse_rec___traverse_rec___traverse_rec___traverse_rec___traverse_rec___traverse_rec___traverse_rec___traverse_rec___traverse_rec___traverse_rec__theta_CM_U__Uniform__10\n",
      "  warnings.warn('Using prior. No proposal for address: {}'.format(current_address))\n",
      "/home/tt21642/dispyprob/pyprob/pyprob/nn/inference_network_lstm.py:107: UserWarning: Address of previous variable unknown by inference network: 256__forward___traverse___traverse_rec___traverse_rec___traverse_rec___traverse_rec___traverse_rec___traverse_rec___traverse_rec___traverse_rec___traverse_rec___traverse_rec___traverse_rec___traverse_rec___traverse_rec___traverse_rec__theta_CM_U__Uniform__10\n",
      "  warnings.warn('Address of previous variable unknown by inference network: {}'.format(prev_address))\n",
      "/home/tt21642/dispyprob/pyprob/pyprob/nn/inference_network_lstm.py:116: UserWarning: Address of current variable unknown by inference network: 460__forward___traverse___traverse_rec___traverse_rec___traverse_rec___traverse_rec___traverse_rec___traverse_rec___traverse_rec___traverse_rec___traverse_rec___traverse_rec___traverse_rec___traverse_rec___traverse_rec___traverse_rec__draw_decay_L__TruncatedExponential__10\n",
      "  warnings.warn('Address of current variable unknown by inference network: {}'.format(current_address))\n",
      "/home/tt21642/dispyprob/pyprob/pyprob/nn/inference_network_lstm.py:137: UserWarning: Using prior. No proposal for address: 460__forward___traverse___traverse_rec___traverse_rec___traverse_rec___traverse_rec___traverse_rec___traverse_rec___traverse_rec___traverse_rec___traverse_rec___traverse_rec___traverse_rec___traverse_rec___traverse_rec___traverse_rec__draw_decay_L__TruncatedExponential__10\n",
      "  warnings.warn('Using prior. No proposal for address: {}'.format(current_address))\n",
      "/home/tt21642/dispyprob/pyprob/pyprob/nn/inference_network_lstm.py:107: UserWarning: Address of previous variable unknown by inference network: 460__forward___traverse___traverse_rec___traverse_rec___traverse_rec___traverse_rec___traverse_rec___traverse_rec___traverse_rec___traverse_rec___traverse_rec___traverse_rec___traverse_rec___traverse_rec___traverse_rec___traverse_rec__draw_decay_L__TruncatedExponential__10\n",
      "  warnings.warn('Address of previous variable unknown by inference network: {}'.format(prev_address))\n",
      "/home/tt21642/dispyprob/pyprob/pyprob/nn/inference_network_lstm.py:116: UserWarning: Address of current variable unknown by inference network: 510__forward___traverse___traverse_rec___traverse_rec___traverse_rec___traverse_rec___traverse_rec___traverse_rec___traverse_rec___traverse_rec___traverse_rec___traverse_rec___traverse_rec___traverse_rec___traverse_rec___traverse_rec__draw_decay_R__TruncatedExponential__10\n",
      "  warnings.warn('Address of current variable unknown by inference network: {}'.format(current_address))\n",
      "/home/tt21642/dispyprob/pyprob/pyprob/nn/inference_network_lstm.py:137: UserWarning: Using prior. No proposal for address: 510__forward___traverse___traverse_rec___traverse_rec___traverse_rec___traverse_rec___traverse_rec___traverse_rec___traverse_rec___traverse_rec___traverse_rec___traverse_rec___traverse_rec___traverse_rec___traverse_rec___traverse_rec__draw_decay_R__TruncatedExponential__10\n",
      "  warnings.warn('Using prior. No proposal for address: {}'.format(current_address))\n",
      "/home/tt21642/dispyprob/pyprob/pyprob/nn/inference_network_lstm.py:107: UserWarning: Address of previous variable unknown by inference network: 510__forward___traverse___traverse_rec___traverse_rec___traverse_rec___traverse_rec___traverse_rec___traverse_rec___traverse_rec___traverse_rec___traverse_rec___traverse_rec___traverse_rec___traverse_rec___traverse_rec___traverse_rec__draw_decay_R__TruncatedExponential__10\n",
      "  warnings.warn('Address of previous variable unknown by inference network: {}'.format(prev_address))\n"
     ]
    },
    {
     "name": "stdout",
     "output_type": "stream",
     "text": [
      "0d:05:14:50 | 0d:00:00:18 | #################### | 1000/1000 |  13.48 | 0.05       \r\n",
      "Time spent  | Time remain.| Progress             | Trace     | ESS    | Traces/sec\n",
      "0d:00:13:10 | 0d:02:58:00 | #------------------- |   69/1000 |   2.34 | 0.09       \r"
     ]
    },
    {
     "name": "stderr",
     "output_type": "stream",
     "text": [
      "/home/tt21642/dispyprob/pyprob/pyprob/nn/inference_network_lstm.py:116: UserWarning: Address of current variable unknown by inference network: 510__forward___traverse___traverse_rec___traverse_rec___traverse_rec___traverse_rec___traverse_rec___traverse_rec___traverse_rec___traverse_rec___traverse_rec___traverse_rec__draw_decay_R__TruncatedExponential__15\n",
      "  warnings.warn('Address of current variable unknown by inference network: {}'.format(current_address))\n",
      "/home/tt21642/dispyprob/pyprob/pyprob/nn/inference_network_lstm.py:137: UserWarning: Using prior. No proposal for address: 510__forward___traverse___traverse_rec___traverse_rec___traverse_rec___traverse_rec___traverse_rec___traverse_rec___traverse_rec___traverse_rec___traverse_rec___traverse_rec__draw_decay_R__TruncatedExponential__15\n",
      "  warnings.warn('Using prior. No proposal for address: {}'.format(current_address))\n",
      "/home/tt21642/dispyprob/pyprob/pyprob/nn/inference_network_lstm.py:107: UserWarning: Address of previous variable unknown by inference network: 510__forward___traverse___traverse_rec___traverse_rec___traverse_rec___traverse_rec___traverse_rec___traverse_rec___traverse_rec___traverse_rec___traverse_rec___traverse_rec__draw_decay_R__TruncatedExponential__15\n",
      "  warnings.warn('Address of previous variable unknown by inference network: {}'.format(prev_address))\n",
      "/home/tt21642/dispyprob/pyprob/pyprob/nn/inference_network_lstm.py:116: UserWarning: Address of current variable unknown by inference network: 216__forward___traverse___traverse_rec___traverse_rec___traverse_rec___traverse_rec___traverse_rec___traverse_rec___traverse_rec___traverse_rec___traverse_rec___traverse_rec__phi_CM__Uniform__15\n",
      "  warnings.warn('Address of current variable unknown by inference network: {}'.format(current_address))\n",
      "/home/tt21642/dispyprob/pyprob/pyprob/nn/inference_network_lstm.py:137: UserWarning: Using prior. No proposal for address: 216__forward___traverse___traverse_rec___traverse_rec___traverse_rec___traverse_rec___traverse_rec___traverse_rec___traverse_rec___traverse_rec___traverse_rec___traverse_rec__phi_CM__Uniform__15\n",
      "  warnings.warn('Using prior. No proposal for address: {}'.format(current_address))\n",
      "/home/tt21642/dispyprob/pyprob/pyprob/nn/inference_network_lstm.py:107: UserWarning: Address of previous variable unknown by inference network: 216__forward___traverse___traverse_rec___traverse_rec___traverse_rec___traverse_rec___traverse_rec___traverse_rec___traverse_rec___traverse_rec___traverse_rec___traverse_rec__phi_CM__Uniform__15\n",
      "  warnings.warn('Address of previous variable unknown by inference network: {}'.format(prev_address))\n",
      "/home/tt21642/dispyprob/pyprob/pyprob/nn/inference_network_lstm.py:116: UserWarning: Address of current variable unknown by inference network: 256__forward___traverse___traverse_rec___traverse_rec___traverse_rec___traverse_rec___traverse_rec___traverse_rec___traverse_rec___traverse_rec___traverse_rec___traverse_rec__theta_CM_U__Uniform__15\n",
      "  warnings.warn('Address of current variable unknown by inference network: {}'.format(current_address))\n",
      "/home/tt21642/dispyprob/pyprob/pyprob/nn/inference_network_lstm.py:137: UserWarning: Using prior. No proposal for address: 256__forward___traverse___traverse_rec___traverse_rec___traverse_rec___traverse_rec___traverse_rec___traverse_rec___traverse_rec___traverse_rec___traverse_rec___traverse_rec__theta_CM_U__Uniform__15\n",
      "  warnings.warn('Using prior. No proposal for address: {}'.format(current_address))\n",
      "/home/tt21642/dispyprob/pyprob/pyprob/nn/inference_network_lstm.py:107: UserWarning: Address of previous variable unknown by inference network: 256__forward___traverse___traverse_rec___traverse_rec___traverse_rec___traverse_rec___traverse_rec___traverse_rec___traverse_rec___traverse_rec___traverse_rec___traverse_rec__theta_CM_U__Uniform__15\n",
      "  warnings.warn('Address of previous variable unknown by inference network: {}'.format(prev_address))\n",
      "/home/tt21642/dispyprob/pyprob/pyprob/nn/inference_network_lstm.py:116: UserWarning: Address of current variable unknown by inference network: 460__forward___traverse___traverse_rec___traverse_rec___traverse_rec___traverse_rec___traverse_rec___traverse_rec___traverse_rec___traverse_rec___traverse_rec___traverse_rec__draw_decay_L__TruncatedExponential__15\n",
      "  warnings.warn('Address of current variable unknown by inference network: {}'.format(current_address))\n",
      "/home/tt21642/dispyprob/pyprob/pyprob/nn/inference_network_lstm.py:137: UserWarning: Using prior. No proposal for address: 460__forward___traverse___traverse_rec___traverse_rec___traverse_rec___traverse_rec___traverse_rec___traverse_rec___traverse_rec___traverse_rec___traverse_rec___traverse_rec__draw_decay_L__TruncatedExponential__15\n",
      "  warnings.warn('Using prior. No proposal for address: {}'.format(current_address))\n",
      "/home/tt21642/dispyprob/pyprob/pyprob/nn/inference_network_lstm.py:107: UserWarning: Address of previous variable unknown by inference network: 460__forward___traverse___traverse_rec___traverse_rec___traverse_rec___traverse_rec___traverse_rec___traverse_rec___traverse_rec___traverse_rec___traverse_rec___traverse_rec__draw_decay_L__TruncatedExponential__15\n",
      "  warnings.warn('Address of previous variable unknown by inference network: {}'.format(prev_address))\n",
      "/home/tt21642/dispyprob/pyprob/pyprob/nn/inference_network_lstm.py:116: UserWarning: Address of current variable unknown by inference network: 510__forward___traverse___traverse_rec___traverse_rec___traverse_rec___traverse_rec___traverse_rec___traverse_rec___traverse_rec___traverse_rec___traverse_rec___traverse_rec__draw_decay_R__TruncatedExponential__16\n",
      "  warnings.warn('Address of current variable unknown by inference network: {}'.format(current_address))\n",
      "/home/tt21642/dispyprob/pyprob/pyprob/nn/inference_network_lstm.py:137: UserWarning: Using prior. No proposal for address: 510__forward___traverse___traverse_rec___traverse_rec___traverse_rec___traverse_rec___traverse_rec___traverse_rec___traverse_rec___traverse_rec___traverse_rec___traverse_rec__draw_decay_R__TruncatedExponential__16\n",
      "  warnings.warn('Using prior. No proposal for address: {}'.format(current_address))\n",
      "/home/tt21642/dispyprob/pyprob/pyprob/nn/inference_network_lstm.py:107: UserWarning: Address of previous variable unknown by inference network: 510__forward___traverse___traverse_rec___traverse_rec___traverse_rec___traverse_rec___traverse_rec___traverse_rec___traverse_rec___traverse_rec___traverse_rec___traverse_rec__draw_decay_R__TruncatedExponential__16\n",
      "  warnings.warn('Address of previous variable unknown by inference network: {}'.format(prev_address))\n"
     ]
    },
    {
     "name": "stdout",
     "output_type": "stream",
     "text": [
      "0d:00:35:55 | 0d:02:38:27 | ####---------------- |  185/1000 |   4.71 | 0.09       \r"
     ]
    },
    {
     "name": "stderr",
     "output_type": "stream",
     "text": [
      "/home/tt21642/dispyprob/pyprob/pyprob/nn/inference_network_lstm.py:137: UserWarning: Using prior. No proposal for address: 216__forward___traverse___traverse_rec___traverse_rec___traverse_rec___traverse_rec___traverse_rec___traverse_rec__phi_CM__Uniform__14\n",
      "  warnings.warn('Using prior. No proposal for address: {}'.format(current_address))\n"
     ]
    },
    {
     "name": "stdout",
     "output_type": "stream",
     "text": [
      "0d:01:09:49 | 0d:02:48:43 | ######-------------- |  293/1000 |   5.45 | 0.07       \r"
     ]
    },
    {
     "name": "stderr",
     "output_type": "stream",
     "text": [
      "/home/tt21642/dispyprob/pyprob/pyprob/nn/inference_network_lstm.py:137: UserWarning: Using prior. No proposal for address: 216__forward___traverse___traverse_rec___traverse_rec___traverse_rec___traverse_rec___traverse_rec__phi_CM__Uniform__13\n",
      "  warnings.warn('Using prior. No proposal for address: {}'.format(current_address))\n"
     ]
    },
    {
     "name": "stdout",
     "output_type": "stream",
     "text": [
      "0d:01:26:26 | 0d:02:20:04 | ########------------ |  382/1000 |   6.35 | 0.07       \r"
     ]
    },
    {
     "name": "stderr",
     "output_type": "stream",
     "text": [
      "/home/tt21642/dispyprob/pyprob/pyprob/nn/inference_network_lstm.py:137: UserWarning: Using prior. No proposal for address: 216__forward___traverse___traverse_rec___traverse_rec___traverse_rec___traverse_rec___traverse_rec___traverse_rec___traverse_rec___traverse_rec__phi_CM__Uniform__3\n",
      "  warnings.warn('Using prior. No proposal for address: {}'.format(current_address))\n"
     ]
    },
    {
     "name": "stdout",
     "output_type": "stream",
     "text": [
      "0d:01:27:39 | 0d:02:17:54 | ########------------ |  389/1000 |   6.35 | 0.07       \r"
     ]
    },
    {
     "name": "stderr",
     "output_type": "stream",
     "text": [
      "/home/tt21642/dispyprob/pyprob/pyprob/nn/inference_network_lstm.py:116: UserWarning: Address of current variable unknown by inference network: 510__forward___traverse___traverse_rec__draw_decay_R__TruncatedExponential__2\n",
      "  warnings.warn('Address of current variable unknown by inference network: {}'.format(current_address))\n",
      "/home/tt21642/dispyprob/pyprob/pyprob/nn/inference_network_lstm.py:137: UserWarning: Using prior. No proposal for address: 510__forward___traverse___traverse_rec__draw_decay_R__TruncatedExponential__2\n",
      "  warnings.warn('Using prior. No proposal for address: {}'.format(current_address))\n",
      "/home/tt21642/dispyprob/pyprob/pyprob/nn/inference_network_lstm.py:107: UserWarning: Address of previous variable unknown by inference network: 510__forward___traverse___traverse_rec__draw_decay_R__TruncatedExponential__2\n",
      "  warnings.warn('Address of previous variable unknown by inference network: {}'.format(prev_address))\n",
      "/home/tt21642/dispyprob/pyprob/pyprob/nn/inference_network_lstm.py:137: UserWarning: Using prior. No proposal for address: 216__forward___traverse___traverse_rec___traverse_rec__phi_CM__Uniform__1\n",
      "  warnings.warn('Using prior. No proposal for address: {}'.format(current_address))\n"
     ]
    },
    {
     "name": "stdout",
     "output_type": "stream",
     "text": [
      "0d:02:06:16 | 0d:01:53:34 | ###########--------- |  527/1000 |   9.81 | 0.07       \r"
     ]
    },
    {
     "name": "stderr",
     "output_type": "stream",
     "text": [
      "/home/tt21642/dispyprob/pyprob/pyprob/nn/inference_network_lstm.py:116: UserWarning: Address of current variable unknown by inference network: 216__forward___traverse___traverse_rec___traverse_rec___traverse_rec___traverse_rec___traverse_rec___traverse_rec___traverse_rec___traverse_rec___traverse_rec___traverse_rec___traverse_rec___traverse_rec__phi_CM__Uniform__12\n",
      "  warnings.warn('Address of current variable unknown by inference network: {}'.format(current_address))\n",
      "/home/tt21642/dispyprob/pyprob/pyprob/nn/inference_network_lstm.py:137: UserWarning: Using prior. No proposal for address: 216__forward___traverse___traverse_rec___traverse_rec___traverse_rec___traverse_rec___traverse_rec___traverse_rec___traverse_rec___traverse_rec___traverse_rec___traverse_rec___traverse_rec___traverse_rec__phi_CM__Uniform__12\n",
      "  warnings.warn('Using prior. No proposal for address: {}'.format(current_address))\n",
      "/home/tt21642/dispyprob/pyprob/pyprob/nn/inference_network_lstm.py:107: UserWarning: Address of previous variable unknown by inference network: 216__forward___traverse___traverse_rec___traverse_rec___traverse_rec___traverse_rec___traverse_rec___traverse_rec___traverse_rec___traverse_rec___traverse_rec___traverse_rec___traverse_rec___traverse_rec__phi_CM__Uniform__12\n",
      "  warnings.warn('Address of previous variable unknown by inference network: {}'.format(prev_address))\n",
      "/home/tt21642/dispyprob/pyprob/pyprob/nn/inference_network_lstm.py:116: UserWarning: Address of current variable unknown by inference network: 256__forward___traverse___traverse_rec___traverse_rec___traverse_rec___traverse_rec___traverse_rec___traverse_rec___traverse_rec___traverse_rec___traverse_rec___traverse_rec___traverse_rec___traverse_rec__theta_CM_U__Uniform__12\n",
      "  warnings.warn('Address of current variable unknown by inference network: {}'.format(current_address))\n",
      "/home/tt21642/dispyprob/pyprob/pyprob/nn/inference_network_lstm.py:137: UserWarning: Using prior. No proposal for address: 256__forward___traverse___traverse_rec___traverse_rec___traverse_rec___traverse_rec___traverse_rec___traverse_rec___traverse_rec___traverse_rec___traverse_rec___traverse_rec___traverse_rec___traverse_rec__theta_CM_U__Uniform__12\n",
      "  warnings.warn('Using prior. No proposal for address: {}'.format(current_address))\n",
      "/home/tt21642/dispyprob/pyprob/pyprob/nn/inference_network_lstm.py:107: UserWarning: Address of previous variable unknown by inference network: 256__forward___traverse___traverse_rec___traverse_rec___traverse_rec___traverse_rec___traverse_rec___traverse_rec___traverse_rec___traverse_rec___traverse_rec___traverse_rec___traverse_rec___traverse_rec__theta_CM_U__Uniform__12\n",
      "  warnings.warn('Address of previous variable unknown by inference network: {}'.format(prev_address))\n",
      "/home/tt21642/dispyprob/pyprob/pyprob/nn/inference_network_lstm.py:116: UserWarning: Address of current variable unknown by inference network: 460__forward___traverse___traverse_rec___traverse_rec___traverse_rec___traverse_rec___traverse_rec___traverse_rec___traverse_rec___traverse_rec___traverse_rec___traverse_rec___traverse_rec___traverse_rec__draw_decay_L__TruncatedExponential__12\n",
      "  warnings.warn('Address of current variable unknown by inference network: {}'.format(current_address))\n",
      "/home/tt21642/dispyprob/pyprob/pyprob/nn/inference_network_lstm.py:137: UserWarning: Using prior. No proposal for address: 460__forward___traverse___traverse_rec___traverse_rec___traverse_rec___traverse_rec___traverse_rec___traverse_rec___traverse_rec___traverse_rec___traverse_rec___traverse_rec___traverse_rec___traverse_rec__draw_decay_L__TruncatedExponential__12\n",
      "  warnings.warn('Using prior. No proposal for address: {}'.format(current_address))\n",
      "/home/tt21642/dispyprob/pyprob/pyprob/nn/inference_network_lstm.py:107: UserWarning: Address of previous variable unknown by inference network: 460__forward___traverse___traverse_rec___traverse_rec___traverse_rec___traverse_rec___traverse_rec___traverse_rec___traverse_rec___traverse_rec___traverse_rec___traverse_rec___traverse_rec___traverse_rec__draw_decay_L__TruncatedExponential__12\n",
      "  warnings.warn('Address of previous variable unknown by inference network: {}'.format(prev_address))\n",
      "/home/tt21642/dispyprob/pyprob/pyprob/nn/inference_network_lstm.py:116: UserWarning: Address of current variable unknown by inference network: 510__forward___traverse___traverse_rec___traverse_rec___traverse_rec___traverse_rec___traverse_rec___traverse_rec___traverse_rec___traverse_rec___traverse_rec___traverse_rec___traverse_rec___traverse_rec__draw_decay_R__TruncatedExponential__12\n",
      "  warnings.warn('Address of current variable unknown by inference network: {}'.format(current_address))\n",
      "/home/tt21642/dispyprob/pyprob/pyprob/nn/inference_network_lstm.py:137: UserWarning: Using prior. No proposal for address: 510__forward___traverse___traverse_rec___traverse_rec___traverse_rec___traverse_rec___traverse_rec___traverse_rec___traverse_rec___traverse_rec___traverse_rec___traverse_rec___traverse_rec___traverse_rec__draw_decay_R__TruncatedExponential__12\n",
      "  warnings.warn('Using prior. No proposal for address: {}'.format(current_address))\n",
      "/home/tt21642/dispyprob/pyprob/pyprob/nn/inference_network_lstm.py:107: UserWarning: Address of previous variable unknown by inference network: 510__forward___traverse___traverse_rec___traverse_rec___traverse_rec___traverse_rec___traverse_rec___traverse_rec___traverse_rec___traverse_rec___traverse_rec___traverse_rec___traverse_rec___traverse_rec__draw_decay_R__TruncatedExponential__12\n",
      "  warnings.warn('Address of previous variable unknown by inference network: {}'.format(prev_address))\n"
     ]
    },
    {
     "name": "stdout",
     "output_type": "stream",
     "text": [
      "0d:02:18:56 | 0d:01:37:59 | ############-------- |  587/1000 |  11.90 | 0.07       \r"
     ]
    },
    {
     "name": "stderr",
     "output_type": "stream",
     "text": [
      "/home/tt21642/dispyprob/pyprob/pyprob/nn/inference_network_lstm.py:107: UserWarning: Address of previous variable unknown by inference network: 510__forward___traverse___traverse_rec___traverse_rec___traverse_rec___traverse_rec___traverse_rec___traverse_rec__draw_decay_R__TruncatedExponential__17\n",
      "  warnings.warn('Address of previous variable unknown by inference network: {}'.format(prev_address))\n",
      "/home/tt21642/dispyprob/pyprob/pyprob/nn/inference_network_lstm.py:116: UserWarning: Address of current variable unknown by inference network: 216__forward___traverse___traverse_rec___traverse_rec___traverse_rec___traverse_rec___traverse_rec___traverse_rec__phi_CM__Uniform__18\n",
      "  warnings.warn('Address of current variable unknown by inference network: {}'.format(current_address))\n",
      "/home/tt21642/dispyprob/pyprob/pyprob/nn/inference_network_lstm.py:137: UserWarning: Using prior. No proposal for address: 216__forward___traverse___traverse_rec___traverse_rec___traverse_rec___traverse_rec___traverse_rec___traverse_rec__phi_CM__Uniform__18\n",
      "  warnings.warn('Using prior. No proposal for address: {}'.format(current_address))\n",
      "/home/tt21642/dispyprob/pyprob/pyprob/nn/inference_network_lstm.py:107: UserWarning: Address of previous variable unknown by inference network: 216__forward___traverse___traverse_rec___traverse_rec___traverse_rec___traverse_rec___traverse_rec___traverse_rec__phi_CM__Uniform__18\n",
      "  warnings.warn('Address of previous variable unknown by inference network: {}'.format(prev_address))\n",
      "/home/tt21642/dispyprob/pyprob/pyprob/nn/inference_network_lstm.py:116: UserWarning: Address of current variable unknown by inference network: 256__forward___traverse___traverse_rec___traverse_rec___traverse_rec___traverse_rec___traverse_rec___traverse_rec__theta_CM_U__Uniform__18\n",
      "  warnings.warn('Address of current variable unknown by inference network: {}'.format(current_address))\n",
      "/home/tt21642/dispyprob/pyprob/pyprob/nn/inference_network_lstm.py:137: UserWarning: Using prior. No proposal for address: 256__forward___traverse___traverse_rec___traverse_rec___traverse_rec___traverse_rec___traverse_rec___traverse_rec__theta_CM_U__Uniform__18\n",
      "  warnings.warn('Using prior. No proposal for address: {}'.format(current_address))\n",
      "/home/tt21642/dispyprob/pyprob/pyprob/nn/inference_network_lstm.py:107: UserWarning: Address of previous variable unknown by inference network: 256__forward___traverse___traverse_rec___traverse_rec___traverse_rec___traverse_rec___traverse_rec___traverse_rec__theta_CM_U__Uniform__18\n",
      "  warnings.warn('Address of previous variable unknown by inference network: {}'.format(prev_address))\n",
      "/home/tt21642/dispyprob/pyprob/pyprob/nn/inference_network_lstm.py:116: UserWarning: Address of current variable unknown by inference network: 460__forward___traverse___traverse_rec___traverse_rec___traverse_rec___traverse_rec___traverse_rec___traverse_rec__draw_decay_L__TruncatedExponential__18\n",
      "  warnings.warn('Address of current variable unknown by inference network: {}'.format(current_address))\n",
      "/home/tt21642/dispyprob/pyprob/pyprob/nn/inference_network_lstm.py:137: UserWarning: Using prior. No proposal for address: 460__forward___traverse___traverse_rec___traverse_rec___traverse_rec___traverse_rec___traverse_rec___traverse_rec__draw_decay_L__TruncatedExponential__18\n",
      "  warnings.warn('Using prior. No proposal for address: {}'.format(current_address))\n",
      "/home/tt21642/dispyprob/pyprob/pyprob/nn/inference_network_lstm.py:107: UserWarning: Address of previous variable unknown by inference network: 460__forward___traverse___traverse_rec___traverse_rec___traverse_rec___traverse_rec___traverse_rec___traverse_rec__draw_decay_L__TruncatedExponential__18\n",
      "  warnings.warn('Address of previous variable unknown by inference network: {}'.format(prev_address))\n",
      "/home/tt21642/dispyprob/pyprob/pyprob/nn/inference_network_lstm.py:116: UserWarning: Address of current variable unknown by inference network: 510__forward___traverse___traverse_rec___traverse_rec___traverse_rec___traverse_rec___traverse_rec___traverse_rec__draw_decay_R__TruncatedExponential__18\n",
      "  warnings.warn('Address of current variable unknown by inference network: {}'.format(current_address))\n",
      "/home/tt21642/dispyprob/pyprob/pyprob/nn/inference_network_lstm.py:137: UserWarning: Using prior. No proposal for address: 510__forward___traverse___traverse_rec___traverse_rec___traverse_rec___traverse_rec___traverse_rec___traverse_rec__draw_decay_R__TruncatedExponential__18\n",
      "  warnings.warn('Using prior. No proposal for address: {}'.format(current_address))\n"
     ]
    },
    {
     "name": "stdout",
     "output_type": "stream",
     "text": [
      "0d:02:31:42 | 0d:01:20:29 | #############------- |  654/1000 |  13.17 | 0.07       \r"
     ]
    },
    {
     "name": "stderr",
     "output_type": "stream",
     "text": [
      "/home/tt21642/dispyprob/pyprob/pyprob/nn/inference_network_lstm.py:137: UserWarning: Using prior. No proposal for address: 510__forward___traverse___traverse_rec___traverse_rec___traverse_rec___traverse_rec___traverse_rec___traverse_rec___traverse_rec___traverse_rec__draw_decay_R__TruncatedExponential__15\n",
      "  warnings.warn('Using prior. No proposal for address: {}'.format(current_address))\n"
     ]
    },
    {
     "name": "stdout",
     "output_type": "stream",
     "text": [
      "0d:03:03:24 | 0d:00:41:51 | ################---- |  815/1000 |  17.14 | 0.07       \r"
     ]
    },
    {
     "name": "stderr",
     "output_type": "stream",
     "text": [
      "/home/tt21642/dispyprob/pyprob/pyprob/nn/inference_network_lstm.py:116: UserWarning: Address of current variable unknown by inference network: 216__forward___traverse___traverse_rec___traverse_rec___traverse_rec___traverse_rec___traverse_rec___traverse_rec___traverse_rec___traverse_rec___traverse_rec___traverse_rec___traverse_rec___traverse_rec___traverse_rec___traverse_rec___traverse_rec___traverse_rec___traverse_rec___traverse_rec__phi_CM__Uniform__3\n",
      "  warnings.warn('Address of current variable unknown by inference network: {}'.format(current_address))\n",
      "/home/tt21642/dispyprob/pyprob/pyprob/nn/inference_network_lstm.py:137: UserWarning: Using prior. No proposal for address: 216__forward___traverse___traverse_rec___traverse_rec___traverse_rec___traverse_rec___traverse_rec___traverse_rec___traverse_rec___traverse_rec___traverse_rec___traverse_rec___traverse_rec___traverse_rec___traverse_rec___traverse_rec___traverse_rec___traverse_rec___traverse_rec___traverse_rec__phi_CM__Uniform__3\n",
      "  warnings.warn('Using prior. No proposal for address: {}'.format(current_address))\n",
      "/home/tt21642/dispyprob/pyprob/pyprob/nn/inference_network_lstm.py:107: UserWarning: Address of previous variable unknown by inference network: 216__forward___traverse___traverse_rec___traverse_rec___traverse_rec___traverse_rec___traverse_rec___traverse_rec___traverse_rec___traverse_rec___traverse_rec___traverse_rec___traverse_rec___traverse_rec___traverse_rec___traverse_rec___traverse_rec___traverse_rec___traverse_rec___traverse_rec__phi_CM__Uniform__3\n",
      "  warnings.warn('Address of previous variable unknown by inference network: {}'.format(prev_address))\n",
      "/home/tt21642/dispyprob/pyprob/pyprob/nn/inference_network_lstm.py:116: UserWarning: Address of current variable unknown by inference network: 256__forward___traverse___traverse_rec___traverse_rec___traverse_rec___traverse_rec___traverse_rec___traverse_rec___traverse_rec___traverse_rec___traverse_rec___traverse_rec___traverse_rec___traverse_rec___traverse_rec___traverse_rec___traverse_rec___traverse_rec___traverse_rec___traverse_rec__theta_CM_U__Uniform__3\n",
      "  warnings.warn('Address of current variable unknown by inference network: {}'.format(current_address))\n",
      "/home/tt21642/dispyprob/pyprob/pyprob/nn/inference_network_lstm.py:137: UserWarning: Using prior. No proposal for address: 256__forward___traverse___traverse_rec___traverse_rec___traverse_rec___traverse_rec___traverse_rec___traverse_rec___traverse_rec___traverse_rec___traverse_rec___traverse_rec___traverse_rec___traverse_rec___traverse_rec___traverse_rec___traverse_rec___traverse_rec___traverse_rec___traverse_rec__theta_CM_U__Uniform__3\n",
      "  warnings.warn('Using prior. No proposal for address: {}'.format(current_address))\n",
      "/home/tt21642/dispyprob/pyprob/pyprob/nn/inference_network_lstm.py:107: UserWarning: Address of previous variable unknown by inference network: 256__forward___traverse___traverse_rec___traverse_rec___traverse_rec___traverse_rec___traverse_rec___traverse_rec___traverse_rec___traverse_rec___traverse_rec___traverse_rec___traverse_rec___traverse_rec___traverse_rec___traverse_rec___traverse_rec___traverse_rec___traverse_rec___traverse_rec__theta_CM_U__Uniform__3\n",
      "  warnings.warn('Address of previous variable unknown by inference network: {}'.format(prev_address))\n",
      "/home/tt21642/dispyprob/pyprob/pyprob/nn/inference_network_lstm.py:116: UserWarning: Address of current variable unknown by inference network: 460__forward___traverse___traverse_rec___traverse_rec___traverse_rec___traverse_rec___traverse_rec___traverse_rec___traverse_rec___traverse_rec___traverse_rec___traverse_rec___traverse_rec___traverse_rec___traverse_rec___traverse_rec___traverse_rec___traverse_rec___traverse_rec___traverse_rec__draw_decay_L__TruncatedExponential__3\n",
      "  warnings.warn('Address of current variable unknown by inference network: {}'.format(current_address))\n",
      "/home/tt21642/dispyprob/pyprob/pyprob/nn/inference_network_lstm.py:137: UserWarning: Using prior. No proposal for address: 460__forward___traverse___traverse_rec___traverse_rec___traverse_rec___traverse_rec___traverse_rec___traverse_rec___traverse_rec___traverse_rec___traverse_rec___traverse_rec___traverse_rec___traverse_rec___traverse_rec___traverse_rec___traverse_rec___traverse_rec___traverse_rec___traverse_rec__draw_decay_L__TruncatedExponential__3\n",
      "  warnings.warn('Using prior. No proposal for address: {}'.format(current_address))\n",
      "/home/tt21642/dispyprob/pyprob/pyprob/nn/inference_network_lstm.py:107: UserWarning: Address of previous variable unknown by inference network: 460__forward___traverse___traverse_rec___traverse_rec___traverse_rec___traverse_rec___traverse_rec___traverse_rec___traverse_rec___traverse_rec___traverse_rec___traverse_rec___traverse_rec___traverse_rec___traverse_rec___traverse_rec___traverse_rec___traverse_rec___traverse_rec___traverse_rec__draw_decay_L__TruncatedExponential__3\n",
      "  warnings.warn('Address of previous variable unknown by inference network: {}'.format(prev_address))\n",
      "/home/tt21642/dispyprob/pyprob/pyprob/nn/inference_network_lstm.py:116: UserWarning: Address of current variable unknown by inference network: 510__forward___traverse___traverse_rec___traverse_rec___traverse_rec___traverse_rec___traverse_rec___traverse_rec___traverse_rec___traverse_rec___traverse_rec___traverse_rec___traverse_rec___traverse_rec___traverse_rec___traverse_rec___traverse_rec___traverse_rec___traverse_rec___traverse_rec__draw_decay_R__TruncatedExponential__3\n",
      "  warnings.warn('Address of current variable unknown by inference network: {}'.format(current_address))\n",
      "/home/tt21642/dispyprob/pyprob/pyprob/nn/inference_network_lstm.py:137: UserWarning: Using prior. No proposal for address: 510__forward___traverse___traverse_rec___traverse_rec___traverse_rec___traverse_rec___traverse_rec___traverse_rec___traverse_rec___traverse_rec___traverse_rec___traverse_rec___traverse_rec___traverse_rec___traverse_rec___traverse_rec___traverse_rec___traverse_rec___traverse_rec___traverse_rec__draw_decay_R__TruncatedExponential__3\n",
      "  warnings.warn('Using prior. No proposal for address: {}'.format(current_address))\n",
      "/home/tt21642/dispyprob/pyprob/pyprob/nn/inference_network_lstm.py:107: UserWarning: Address of previous variable unknown by inference network: 510__forward___traverse___traverse_rec___traverse_rec___traverse_rec___traverse_rec___traverse_rec___traverse_rec___traverse_rec___traverse_rec___traverse_rec___traverse_rec___traverse_rec___traverse_rec___traverse_rec___traverse_rec___traverse_rec___traverse_rec___traverse_rec___traverse_rec__draw_decay_R__TruncatedExponential__3\n",
      "  warnings.warn('Address of previous variable unknown by inference network: {}'.format(prev_address))\n"
     ]
    },
    {
     "name": "stdout",
     "output_type": "stream",
     "text": [
      "0d:03:29:04 | 0d:00:11:41 | ###################- |  948/1000 |  19.03 | 0.08       \r"
     ]
    },
    {
     "name": "stderr",
     "output_type": "stream",
     "text": [
      "/home/tt21642/dispyprob/pyprob/pyprob/nn/inference_network_lstm.py:137: UserWarning: Using prior. No proposal for address: 510__forward___traverse___traverse_rec___traverse_rec___traverse_rec___traverse_rec___traverse_rec___traverse_rec___traverse_rec___traverse_rec___traverse_rec___traverse_rec___traverse_rec___traverse_rec___traverse_rec__draw_decay_R__TruncatedExponential__4\n",
      "  warnings.warn('Using prior. No proposal for address: {}'.format(current_address))\n"
     ]
    },
    {
     "name": "stdout",
     "output_type": "stream",
     "text": [
      "0d:03:34:18 | 0d:00:05:56 | ###################- |  974/1000 |  19.09 | 0.08       \r"
     ]
    },
    {
     "name": "stderr",
     "output_type": "stream",
     "text": [
      "/home/tt21642/dispyprob/pyprob/pyprob/nn/inference_network_lstm.py:116: UserWarning: Address of current variable unknown by inference network: 216__forward___traverse___traverse_rec___traverse_rec___traverse_rec___traverse_rec___traverse_rec___traverse_rec___traverse_rec___traverse_rec___traverse_rec___traverse_rec___traverse_rec___traverse_rec__phi_CM__Uniform__13\n",
      "  warnings.warn('Address of current variable unknown by inference network: {}'.format(current_address))\n",
      "/home/tt21642/dispyprob/pyprob/pyprob/nn/inference_network_lstm.py:137: UserWarning: Using prior. No proposal for address: 216__forward___traverse___traverse_rec___traverse_rec___traverse_rec___traverse_rec___traverse_rec___traverse_rec___traverse_rec___traverse_rec___traverse_rec___traverse_rec___traverse_rec___traverse_rec__phi_CM__Uniform__13\n",
      "  warnings.warn('Using prior. No proposal for address: {}'.format(current_address))\n",
      "/home/tt21642/dispyprob/pyprob/pyprob/nn/inference_network_lstm.py:107: UserWarning: Address of previous variable unknown by inference network: 216__forward___traverse___traverse_rec___traverse_rec___traverse_rec___traverse_rec___traverse_rec___traverse_rec___traverse_rec___traverse_rec___traverse_rec___traverse_rec___traverse_rec___traverse_rec__phi_CM__Uniform__13\n",
      "  warnings.warn('Address of previous variable unknown by inference network: {}'.format(prev_address))\n",
      "/home/tt21642/dispyprob/pyprob/pyprob/nn/inference_network_lstm.py:116: UserWarning: Address of current variable unknown by inference network: 256__forward___traverse___traverse_rec___traverse_rec___traverse_rec___traverse_rec___traverse_rec___traverse_rec___traverse_rec___traverse_rec___traverse_rec___traverse_rec___traverse_rec___traverse_rec__theta_CM_U__Uniform__13\n",
      "  warnings.warn('Address of current variable unknown by inference network: {}'.format(current_address))\n",
      "/home/tt21642/dispyprob/pyprob/pyprob/nn/inference_network_lstm.py:137: UserWarning: Using prior. No proposal for address: 256__forward___traverse___traverse_rec___traverse_rec___traverse_rec___traverse_rec___traverse_rec___traverse_rec___traverse_rec___traverse_rec___traverse_rec___traverse_rec___traverse_rec___traverse_rec__theta_CM_U__Uniform__13\n",
      "  warnings.warn('Using prior. No proposal for address: {}'.format(current_address))\n",
      "/home/tt21642/dispyprob/pyprob/pyprob/nn/inference_network_lstm.py:107: UserWarning: Address of previous variable unknown by inference network: 256__forward___traverse___traverse_rec___traverse_rec___traverse_rec___traverse_rec___traverse_rec___traverse_rec___traverse_rec___traverse_rec___traverse_rec___traverse_rec___traverse_rec___traverse_rec__theta_CM_U__Uniform__13\n",
      "  warnings.warn('Address of previous variable unknown by inference network: {}'.format(prev_address))\n",
      "/home/tt21642/dispyprob/pyprob/pyprob/nn/inference_network_lstm.py:116: UserWarning: Address of current variable unknown by inference network: 460__forward___traverse___traverse_rec___traverse_rec___traverse_rec___traverse_rec___traverse_rec___traverse_rec___traverse_rec___traverse_rec___traverse_rec___traverse_rec___traverse_rec___traverse_rec__draw_decay_L__TruncatedExponential__13\n",
      "  warnings.warn('Address of current variable unknown by inference network: {}'.format(current_address))\n",
      "/home/tt21642/dispyprob/pyprob/pyprob/nn/inference_network_lstm.py:137: UserWarning: Using prior. No proposal for address: 460__forward___traverse___traverse_rec___traverse_rec___traverse_rec___traverse_rec___traverse_rec___traverse_rec___traverse_rec___traverse_rec___traverse_rec___traverse_rec___traverse_rec___traverse_rec__draw_decay_L__TruncatedExponential__13\n",
      "  warnings.warn('Using prior. No proposal for address: {}'.format(current_address))\n",
      "/home/tt21642/dispyprob/pyprob/pyprob/nn/inference_network_lstm.py:107: UserWarning: Address of previous variable unknown by inference network: 460__forward___traverse___traverse_rec___traverse_rec___traverse_rec___traverse_rec___traverse_rec___traverse_rec___traverse_rec___traverse_rec___traverse_rec___traverse_rec___traverse_rec___traverse_rec__draw_decay_L__TruncatedExponential__13\n",
      "  warnings.warn('Address of previous variable unknown by inference network: {}'.format(prev_address))\n",
      "/home/tt21642/dispyprob/pyprob/pyprob/nn/inference_network_lstm.py:116: UserWarning: Address of current variable unknown by inference network: 510__forward___traverse___traverse_rec___traverse_rec___traverse_rec___traverse_rec___traverse_rec___traverse_rec___traverse_rec___traverse_rec___traverse_rec___traverse_rec___traverse_rec___traverse_rec__draw_decay_R__TruncatedExponential__13\n",
      "  warnings.warn('Address of current variable unknown by inference network: {}'.format(current_address))\n",
      "/home/tt21642/dispyprob/pyprob/pyprob/nn/inference_network_lstm.py:137: UserWarning: Using prior. No proposal for address: 510__forward___traverse___traverse_rec___traverse_rec___traverse_rec___traverse_rec___traverse_rec___traverse_rec___traverse_rec___traverse_rec___traverse_rec___traverse_rec___traverse_rec___traverse_rec__draw_decay_R__TruncatedExponential__13\n",
      "  warnings.warn('Using prior. No proposal for address: {}'.format(current_address))\n",
      "/home/tt21642/dispyprob/pyprob/pyprob/nn/inference_network_lstm.py:107: UserWarning: Address of previous variable unknown by inference network: 510__forward___traverse___traverse_rec___traverse_rec___traverse_rec___traverse_rec___traverse_rec___traverse_rec___traverse_rec___traverse_rec___traverse_rec___traverse_rec___traverse_rec___traverse_rec__draw_decay_R__TruncatedExponential__13\n",
      "  warnings.warn('Address of previous variable unknown by inference network: {}'.format(prev_address))\n"
     ]
    },
    {
     "name": "stdout",
     "output_type": "stream",
     "text": [
      "0d:03:37:52 | 0d:00:02:38 | #################### |  989/1000 |  19.10 | 0.08       \r"
     ]
    },
    {
     "name": "stderr",
     "output_type": "stream",
     "text": [
      "/home/tt21642/dispyprob/pyprob/pyprob/nn/inference_network_lstm.py:116: UserWarning: Address of current variable unknown by inference network: 216__forward___traverse___traverse_rec___traverse_rec___traverse_rec___traverse_rec___traverse_rec___traverse_rec___traverse_rec___traverse_rec___traverse_rec___traverse_rec__phi_CM__Uniform__16\n",
      "  warnings.warn('Address of current variable unknown by inference network: {}'.format(current_address))\n",
      "/home/tt21642/dispyprob/pyprob/pyprob/nn/inference_network_lstm.py:137: UserWarning: Using prior. No proposal for address: 216__forward___traverse___traverse_rec___traverse_rec___traverse_rec___traverse_rec___traverse_rec___traverse_rec___traverse_rec___traverse_rec___traverse_rec___traverse_rec__phi_CM__Uniform__16\n",
      "  warnings.warn('Using prior. No proposal for address: {}'.format(current_address))\n",
      "/home/tt21642/dispyprob/pyprob/pyprob/nn/inference_network_lstm.py:107: UserWarning: Address of previous variable unknown by inference network: 216__forward___traverse___traverse_rec___traverse_rec___traverse_rec___traverse_rec___traverse_rec___traverse_rec___traverse_rec___traverse_rec___traverse_rec___traverse_rec__phi_CM__Uniform__16\n",
      "  warnings.warn('Address of previous variable unknown by inference network: {}'.format(prev_address))\n",
      "/home/tt21642/dispyprob/pyprob/pyprob/nn/inference_network_lstm.py:116: UserWarning: Address of current variable unknown by inference network: 256__forward___traverse___traverse_rec___traverse_rec___traverse_rec___traverse_rec___traverse_rec___traverse_rec___traverse_rec___traverse_rec___traverse_rec___traverse_rec__theta_CM_U__Uniform__16\n",
      "  warnings.warn('Address of current variable unknown by inference network: {}'.format(current_address))\n",
      "/home/tt21642/dispyprob/pyprob/pyprob/nn/inference_network_lstm.py:137: UserWarning: Using prior. No proposal for address: 256__forward___traverse___traverse_rec___traverse_rec___traverse_rec___traverse_rec___traverse_rec___traverse_rec___traverse_rec___traverse_rec___traverse_rec___traverse_rec__theta_CM_U__Uniform__16\n",
      "  warnings.warn('Using prior. No proposal for address: {}'.format(current_address))\n",
      "/home/tt21642/dispyprob/pyprob/pyprob/nn/inference_network_lstm.py:107: UserWarning: Address of previous variable unknown by inference network: 256__forward___traverse___traverse_rec___traverse_rec___traverse_rec___traverse_rec___traverse_rec___traverse_rec___traverse_rec___traverse_rec___traverse_rec___traverse_rec__theta_CM_U__Uniform__16\n",
      "  warnings.warn('Address of previous variable unknown by inference network: {}'.format(prev_address))\n",
      "/home/tt21642/dispyprob/pyprob/pyprob/nn/inference_network_lstm.py:116: UserWarning: Address of current variable unknown by inference network: 460__forward___traverse___traverse_rec___traverse_rec___traverse_rec___traverse_rec___traverse_rec___traverse_rec___traverse_rec___traverse_rec___traverse_rec___traverse_rec__draw_decay_L__TruncatedExponential__16\n",
      "  warnings.warn('Address of current variable unknown by inference network: {}'.format(current_address))\n",
      "/home/tt21642/dispyprob/pyprob/pyprob/nn/inference_network_lstm.py:137: UserWarning: Using prior. No proposal for address: 460__forward___traverse___traverse_rec___traverse_rec___traverse_rec___traverse_rec___traverse_rec___traverse_rec___traverse_rec___traverse_rec___traverse_rec___traverse_rec__draw_decay_L__TruncatedExponential__16\n",
      "  warnings.warn('Using prior. No proposal for address: {}'.format(current_address))\n",
      "/home/tt21642/dispyprob/pyprob/pyprob/nn/inference_network_lstm.py:107: UserWarning: Address of previous variable unknown by inference network: 460__forward___traverse___traverse_rec___traverse_rec___traverse_rec___traverse_rec___traverse_rec___traverse_rec___traverse_rec___traverse_rec___traverse_rec___traverse_rec__draw_decay_L__TruncatedExponential__16\n",
      "  warnings.warn('Address of previous variable unknown by inference network: {}'.format(prev_address))\n"
     ]
    },
    {
     "name": "stdout",
     "output_type": "stream",
     "text": [
      "0d:03:40:15 | 0d:00:00:13 | #################### | 1000/1000 |  20.84 | 0.08       \r\n",
      "Time spent  | Time remain.| Progress             | Trace     | ESS    | Traces/sec\n",
      "0d:01:42:44 | 0d:00:00:06 | #################### | 1000/1000 |   1.34 | 0.16       \r\n",
      "Time spent  | Time remain.| Progress             | Trace     | ESS    | Traces/sec\n",
      "0d:01:31:42 | 0d:00:06:28 | ###################- |  935/1000 |   4.98 | 0.17       \r"
     ]
    },
    {
     "name": "stderr",
     "output_type": "stream",
     "text": [
      "/home/tt21642/dispyprob/pyprob/pyprob/nn/inference_network_lstm.py:116: UserWarning: Address of current variable unknown by inference network: 510__forward___traverse___traverse_rec___traverse_rec___traverse_rec___traverse_rec__draw_decay_R__TruncatedExponential__9\n",
      "  warnings.warn('Address of current variable unknown by inference network: {}'.format(current_address))\n",
      "/home/tt21642/dispyprob/pyprob/pyprob/nn/inference_network_lstm.py:137: UserWarning: Using prior. No proposal for address: 510__forward___traverse___traverse_rec___traverse_rec___traverse_rec___traverse_rec__draw_decay_R__TruncatedExponential__9\n",
      "  warnings.warn('Using prior. No proposal for address: {}'.format(current_address))\n"
     ]
    },
    {
     "name": "stdout",
     "output_type": "stream",
     "text": [
      "0d:01:37:12 | 0d:00:00:05 | #################### | 1000/1000 |   5.22 | 0.17       \r\n",
      "Time spent  | Time remain.| Progress             | Trace     | ESS    | Traces/sec\n",
      "0d:02:23:59 | 0d:00:00:08 | #################### | 1000/1000 |   6.04 | 0.12       \r\n"
     ]
    }
   ],
   "source": [
    "posteriors = []\n",
    "for i in range(10,90,10):\n",
    "    simulatorginkgo2.load_inference_network(f'LSTM_network_original/LSTM_network_{i}')\n",
    "    posterior = simulatorginkgo2.posterior(num_traces = 1000, inference_engine=InferenceEngine.DISTILLING_IMPORTANCE_SAMPLING,observe = {'dummy':1})\n",
    "    posterior = simulatorginkgo2.update_DIS_weights(posterior)\n",
    "    posteriors.append(posterior)"
   ]
  },
  {
   "cell_type": "code",
   "execution_count": 26,
   "outputs": [],
   "source": [
    "def posterior_result_weight(posterior):\n",
    "    results = np.array([trace.result['Lambda'] for trace in posterior])\n",
    "    log_weights = np.array([trace.log_importance_weight for trace in posterior])\n",
    "    weights = np.exp(log_weights)\n",
    "    weights /= weights.sum()\n",
    "    return (results, weights)"
   ],
   "metadata": {
    "collapsed": false,
    "pycharm": {
     "name": "#%%\n"
    }
   }
  },
  {
   "cell_type": "code",
   "execution_count": 30,
   "outputs": [
    {
     "data": {
      "text/plain": "<Figure size 432x288 with 1 Axes>",
      "image/png": "[encoded data removed]"
     },
     "metadata": {
      "needs_background": "light"
     },
     "output_type": "display_data"
    },
    {
     "data": {
      "text/plain": "<Figure size 432x288 with 1 Axes>",
      "image/png": "[encoded data removed]"
     },
     "metadata": {
      "needs_background": "light"
     },
     "output_type": "display_data"
    },
    {
     "data": {
      "text/plain": "<Figure size 432x288 with 1 Axes>",
      "image/png": "[encoded data removed]"
     },
     "metadata": {
      "needs_background": "light"
     },
     "output_type": "display_data"
    },
    {
     "data": {
      "text/plain": "<Figure size 432x288 with 1 Axes>",
      "image/png": "[encoded data removed]"
     },
     "metadata": {
      "needs_background": "light"
     },
     "output_type": "display_data"
    },
    {
     "data": {
      "text/plain": "<Figure size 432x288 with 1 Axes>",
      "image/png": "[encoded data removed]"
     },
     "metadata": {
      "needs_background": "light"
     },
     "output_type": "display_data"
    }
   ],
   "source": [
    "for posterior in posteriors[3:]: # Accidentally overwrote first 10 runs of inference network with wrong network\n",
    "    results, weight = posterior_result_weight(posterior)\n",
    "    plt.figure()\n",
    "    plt.hist(results, weights=weight)"
   ],
   "metadata": {
    "collapsed": false,
    "pycharm": {
     "name": "#%%\n"
    }
   }
  },
  {
   "cell_type": "code",
   "execution_count": 29,
   "outputs": [
    {
     "data": {
      "text/plain": "<Figure size 432x288 with 1 Axes>",
      "image/png": "[encoded data removed]"
     },
     "metadata": {
      "needs_background": "light"
     },
     "output_type": "display_data"
    },
    {
     "data": {
      "text/plain": "<Figure size 432x288 with 1 Axes>",
      "image/png": "[encoded data removed]"
     },
     "metadata": {
      "needs_background": "light"
     },
     "output_type": "display_data"
    },
    {
     "data": {
      "text/plain": "<Figure size 432x288 with 1 Axes>",
      "image/png": "[encoded data removed]"
     },
     "metadata": {
      "needs_background": "light"
     },
     "output_type": "display_data"
    },
    {
     "data": {
      "text/plain": "<Figure size 432x288 with 1 Axes>",
      "image/png": "[encoded data removed]"
     },
     "metadata": {
      "needs_background": "light"
     },
     "output_type": "display_data"
    },
    {
     "data": {
      "text/plain": "<Figure size 432x288 with 1 Axes>",
      "image/png": "[encoded data removed]"
     },
     "metadata": {
      "needs_background": "light"
     },
     "output_type": "display_data"
    }
   ],
   "source": [
    "for posterior in posteriors[3:]: # Accidentally overwrote first few runs of inference network with wrong network\n",
    "    results, weight = posterior_result_weight(posterior)\n",
    "    plt.figure()\n",
    "    plt.hist(results)"
   ],
   "metadata": {
    "collapsed": false,
    "pycharm": {
     "name": "#%%\n"
    }
   }
  },
  {
   "cell_type": "markdown",
   "source": [
    "# New Networks"
   ],
   "metadata": {
    "collapsed": false,
    "pycharm": {
     "name": "#%% md\n"
    }
   }
  },
  {
   "cell_type": "code",
   "execution_count": 5,
   "outputs": [],
   "source": [
    "def posterior_result_weight(posterior):\n",
    "    results = np.array([trace.result['Lambda'] for trace in posterior])\n",
    "    log_weights = np.array([trace.log_importance_weight for trace in posterior])\n",
    "    weights = np.exp(log_weights)\n",
    "    weights /= weights.sum()\n",
    "    return (results, weights)"
   ],
   "metadata": {
    "collapsed": false,
    "pycharm": {
     "name": "#%%\n"
    }
   }
  },
  {
   "cell_type": "code",
   "execution_count": 3,
   "outputs": [],
   "source": [
    "with open('network_parallel_3/LSTM_posterior_1', 'rb') as f:\n",
    "    posterior1 = pickle.load(f)"
   ],
   "metadata": {
    "collapsed": false,
    "pycharm": {
     "name": "#%%\n"
    }
   }
  },
  {
   "cell_type": "code",
   "execution_count": 7,
   "outputs": [],
   "source": [
    "with open('network_parallel_3/LSTM_posterior_2', 'rb') as f:\n",
    "    posterior2 = pickle.load(f)"
   ],
   "metadata": {
    "collapsed": false,
    "pycharm": {
     "name": "#%%\n"
    }
   }
  },
  {
   "cell_type": "code",
   "execution_count": 7,
   "outputs": [
    {
     "data": {
      "text/plain": "(array([0.00460061, 0.02633351, 0.043273  , 0.1387616 , 0.20249189,\n        0.1000183 , 0.06605617, 0.12175754, 0.03457719, 0.26213019]),\n array([0.01053476, 1.009403  , 2.0082712 , 3.0071394 , 4.0060077 ,\n        5.004876  , 6.003744  , 7.002612  , 8.00148   , 9.000349  ,\n        9.999217  ], dtype=float32),\n <BarContainer object of 10 artists>)"
     },
     "execution_count": 7,
     "metadata": {},
     "output_type": "execute_result"
    },
    {
     "data": {
      "text/plain": "<Figure size 432x288 with 1 Axes>",
      "image/png": "[encoded data removed]"
     },
     "metadata": {
      "needs_background": "light"
     },
     "output_type": "display_data"
    }
   ],
   "source": [
    "    results, weight = posterior_result_weight(posterior1)\n",
    "    plt.figure()\n",
    "    plt.hist(results, weights=weight)"
   ],
   "metadata": {
    "collapsed": false,
    "pycharm": {
     "name": "#%%\n"
    }
   }
  },
  {
   "cell_type": "code",
   "execution_count": 6,
   "outputs": [
    {
     "ename": "NameError",
     "evalue": "name 'posterior_result_weight' is not defined",
     "output_type": "error",
     "traceback": [
      "\u001B[0;31m---------------------------------------------------------------------------\u001B[0m",
      "\u001B[0;31mNameError\u001B[0m                                 Traceback (most recent call last)",
      "Input \u001B[0;32mIn [6]\u001B[0m, in \u001B[0;36m<cell line: 1>\u001B[0;34m()\u001B[0m\n\u001B[0;32m----> 1\u001B[0m results, weight \u001B[38;5;241m=\u001B[39m \u001B[43mposterior_result_weight\u001B[49m(posterior2)\n\u001B[1;32m      2\u001B[0m plt\u001B[38;5;241m.\u001B[39mfigure()\n\u001B[1;32m      3\u001B[0m plt\u001B[38;5;241m.\u001B[39mhist(results, weights \u001B[38;5;241m=\u001B[39m weight)\n",
      "\u001B[0;31mNameError\u001B[0m: name 'posterior_result_weight' is not defined"
     ]
    }
   ],
   "source": [
    "results, weight = posterior_result_weight(posterior2)\n",
    "plt.figure()\n",
    "plt.hist(results, weights = weight)"
   ],
   "metadata": {
    "collapsed": false,
    "pycharm": {
     "name": "#%%\n"
    }
   }
  },
  {
   "cell_type": "code",
   "execution_count": 1,
   "outputs": [],
   "source": [
    "def posterior_result_weight2(posterior):\n",
    "    results = np.array([trace.result['LambdaRoot'] for trace in posterior])\n",
    "    log_weights = np.array([trace.log_importance_weight for trace in posterior])\n",
    "    weights = np.exp(log_weights)\n",
    "    weights /= weights.sum()\n",
    "    return (results, weights)"
   ],
   "metadata": {
    "collapsed": false,
    "pycharm": {
     "name": "#%%\n"
    }
   }
  },
  {
   "cell_type": "code",
   "execution_count": 9,
   "outputs": [
    {
     "data": {
      "text/plain": "(array([170., 173., 202., 196., 204., 193., 201., 227., 235., 198.]),\n array([0.01027155, 1.0084877 , 2.0067039 , 3.0049202 , 4.003136  ,\n        5.0013523 , 5.999569  , 6.997785  , 7.9960012 , 8.994217  ,\n        9.992434  ], dtype=float32),\n <BarContainer object of 10 artists>)"
     },
     "execution_count": 9,
     "metadata": {},
     "output_type": "execute_result"
    },
    {
     "data": {
      "text/plain": "<Figure size 432x288 with 1 Axes>",
      "image/png": "[encoded data removed]"
     },
     "metadata": {
      "needs_background": "light"
     },
     "output_type": "display_data"
    }
   ],
   "source": [
    "results, weight = posterior_result_weight2(posterior2)\n",
    "plt.hist(results)"
   ],
   "metadata": {
    "collapsed": false,
    "pycharm": {
     "name": "#%%\n"
    }
   }
  },
  {
   "cell_type": "code",
   "execution_count": null,
   "outputs": [],
   "source": [],
   "metadata": {
    "collapsed": false,
    "pycharm": {
     "name": "#%%\n"
    }
   }
  }
 ],
 "metadata": {
  "kernelspec": {
   "display_name": "Python 3 (ipykernel)",
   "language": "python",
   "name": "python3"
  },
  "language_info": {
   "codemirror_mode": {
    "name": "ipython",
    "version": 3
   },
   "file_extension": ".py",
   "mimetype": "text/x-python",
   "name": "python",
   "nbconvert_exporter": "python",
   "pygments_lexer": "ipython3",
   "version": "3.9.7"
  }
 },
 "nbformat": 4,
 "nbformat_minor": 5
}